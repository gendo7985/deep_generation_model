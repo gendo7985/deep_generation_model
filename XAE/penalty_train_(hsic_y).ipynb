{
 "cells": [
  {
   "cell_type": "markdown",
   "metadata": {},
   "source": [
    "## setting"
   ]
  },
  {
   "cell_type": "code",
   "execution_count": 1,
   "metadata": {},
   "outputs": [],
   "source": [
    "from model.sswae_dev2_4 import SSWAE_HSIC_MNIST as cur_model\n",
    "\n",
    "import os, sys, configparser, logging, argparse, time\n",
    "sys.path.append('/'.join(os.getcwd().split('/')[:-2]))\n",
    "\n",
    "import warnings\n",
    "warnings.filterwarnings(\"ignore\")\n",
    "\n",
    "import torch\n",
    "import torch.nn as nn\n",
    "import torch.optim as optim\n",
    "\n",
    "from XAE.dataset import rmMNIST\n",
    "from XAE.dataset import MNIST\n",
    "from XAE.util import init_params\n",
    "\n",
    "import numpy as np\n",
    "from sklearn.manifold import TSNE\n",
    "from matplotlib import pyplot as plt\n",
    "\n",
    "%matplotlib inline"
   ]
  },
  {
   "cell_type": "markdown",
   "metadata": {},
   "source": [
    "# Train - 1"
   ]
  },
  {
   "cell_type": "code",
   "execution_count": 3,
   "metadata": {},
   "outputs": [
    {
     "data": {
      "text/plain": [
       "['./config/sswae_dev2_hsic_6.cfg']"
      ]
     },
     "execution_count": 3,
     "metadata": {},
     "output_type": "execute_result"
    }
   ],
   "source": [
    "from XAE.logging_daily import logging_daily\n",
    "\n",
    "is_cuda = torch.cuda.is_available()\n",
    "device = torch.device('cuda' if is_cuda else 'cpu')\n",
    "\n",
    "logger = logging_daily('./config/log_info.yaml')\n",
    "log = logger.get_logging()\n",
    "log.setLevel(logging.INFO)\n",
    "\n",
    "cfg = configparser.ConfigParser()\n",
    "cfg.read('./config/sswae_dev2_hsic_6.cfg')"
   ]
  },
  {
   "cell_type": "code",
   "execution_count": 3,
   "metadata": {
    "scrolled": true
   },
   "outputs": [
    {
     "name": "stderr",
     "output_type": "stream",
     "text": [
      "[default |INFO|_base_model.py:27] ------------------------------------------------------------\n",
      "[default |INFO|_base_model.py:29] model_name : SSWAE_HSIC_MNIST\n",
      "[default |INFO|_base_model.py:29] train_data : rmMNIST\n",
      "[default |INFO|_base_model.py:29] train_data_label : True\n",
      "[default |INFO|_base_model.py:29] z_sampler : gaus\n",
      "[default |INFO|_base_model.py:29] z_dim : 4\n",
      "[default |INFO|_base_model.py:29] y_sampler : gaus\n",
      "[default |INFO|_base_model.py:29] y_dim : 8\n",
      "[default |INFO|_base_model.py:29] labeled_class : 0,1,2,3,4,5,6,7,8,9\n",
      "[default |INFO|_base_model.py:29] unlabeled_class : \n",
      "[default |INFO|_base_model.py:29] test_class : \n",
      "[default |INFO|_base_model.py:29] portion : 1.0\n",
      "[default |INFO|_base_model.py:29] unk : False\n",
      "[default |INFO|_base_model.py:29] encoder_pretrain : False\n",
      "[default |INFO|_base_model.py:29] encoder_pretrain_step : 3\n",
      "[default |INFO|_base_model.py:29] lr : 5e-4\n",
      "[default |INFO|_base_model.py:29] beta1 : 0.5\n",
      "[default |INFO|_base_model.py:29] lr_adv : 2e-4\n",
      "[default |INFO|_base_model.py:29] beta1_adv : 0.5\n",
      "[default |INFO|_base_model.py:29] lambda : 10.0\n",
      "[default |INFO|_base_model.py:29] lambda_mmd : 10.0\n",
      "[default |INFO|_base_model.py:29] lambda_hsic : 10.0\n",
      "[default |INFO|_base_model.py:29] lr_schedule : manual\n",
      "[default |INFO|_base_model.py:29] validate : True\n",
      "[default |INFO|_base_model.py:29] histogram : True\n",
      "[default |INFO|_base_model.py:29] batch_size : 100\n",
      "[default |INFO|_base_model.py:29] epoch : 80\n",
      "[default |INFO|_base_model.py:29] replace : False\n",
      "[default |INFO|_base_model.py:29] save_best : False\n",
      "[default |INFO|_base_model.py:32] data_home : ./data/MNIST\n",
      "[default |INFO|_base_model.py:32] tb_logs : \n",
      "[default |INFO|_base_model.py:32] save_path : ./result/weights/sswae_dev2_hsic_6.pt\n",
      "[default |INFO|_base_model.py:32] save_state : ./result/states/sswae_dev2_hsic_6.pt\n",
      "[default |INFO|_base_model.py:32] save_img_path : \n",
      "[default |INFO|model.py:2419] ------------------------------------------------------------\n",
      "[default |INFO|model.py:2420] Training Start!\n"
     ]
    },
    {
     "name": "stdout",
     "output_type": "stream",
     "text": [
      "[092/100]  test loss: 0.2061  D: 0.6892  D2: 0.0267  D3: 0.0062  D4: 0.00809\r"
     ]
    },
    {
     "name": "stderr",
     "output_type": "stream",
     "text": [
      "[default |INFO|model.py:2540] [01/80]  loss: 2.536979e-01  D: 6.895598e-01  D2: 4.329806e-02  D3: 2.667953e-03  D4: 3.878953e-03\n",
      "test loss: 2.061248e-01  D: 6.891692e-01  D2: 2.665195e-02  D3: 6.181442e-03  D4: 8.009264e-03\n"
     ]
    },
    {
     "name": "stdout",
     "output_type": "stream",
     "text": [
      "[096/100]  test loss: 0.1656  D: 0.6942  D2: 0.0063  D3: 0.0082  D4: 0.01049\r"
     ]
    },
    {
     "name": "stderr",
     "output_type": "stream",
     "text": [
      "[default |INFO|model.py:2540] [02/80]  loss: 1.824058e-01  D: 6.966544e-01  D2: 1.326426e-02  D3: 6.914141e-03  D4: 8.911104e-03\n",
      "test loss: 1.656028e-01  D: 6.941960e-01  D2: 6.329031e-03  D3: 8.231603e-03  D4: 1.052196e-02\n"
     ]
    },
    {
     "name": "stdout",
     "output_type": "stream",
     "text": [
      "[100/100]  test loss: 0.1376  D: 0.6982  D2: -0.0013  D3: 0.0066  D4: 0.0073\r"
     ]
    },
    {
     "name": "stderr",
     "output_type": "stream",
     "text": [
      "[default |INFO|model.py:2540] [03/80]  loss: 1.535344e-01  D: 6.990837e-01  D2: 1.738901e-03  D3: 6.907438e-03  D4: 8.750170e-03\n",
      "test loss: 1.375971e-01  D: 6.982114e-01  D2: -1.281319e-03  D3: 6.593170e-03  D4: 7.307142e-03\n"
     ]
    },
    {
     "name": "stdout",
     "output_type": "stream",
     "text": [
      "[094/100]  test loss: 0.1043  D: 0.7046  D2: -0.0038  D3: 0.0053  D4: 0.00687\r"
     ]
    },
    {
     "name": "stderr",
     "output_type": "stream",
     "text": [
      "[default |INFO|model.py:2540] [04/80]  loss: 1.201748e-01  D: 6.985215e-01  D2: -2.336667e-03  D3: 6.284928e-03  D4: 7.672644e-03\n",
      "test loss: 1.041198e-01  D: 7.045913e-01  D2: -3.590860e-03  D3: 5.310801e-03  D4: 6.736481e-03\n"
     ]
    },
    {
     "name": "stdout",
     "output_type": "stream",
     "text": [
      "[094/100]  test loss: 0.0882  D: 0.6849  D2: -0.0036  D3: 0.0059  D4: 0.00821\r"
     ]
    },
    {
     "name": "stderr",
     "output_type": "stream",
     "text": [
      "[default |INFO|model.py:2540] [05/80]  loss: 9.473398e-02  D: 6.940531e-01  D2: -3.501558e-03  D3: 5.735553e-03  D4: 7.087609e-03\n",
      "test loss: 8.811849e-02  D: 6.848716e-01  D2: -3.709211e-03  D3: 5.872117e-03  D4: 8.140494e-03\n"
     ]
    },
    {
     "name": "stdout",
     "output_type": "stream",
     "text": [
      "[095/100]  test loss: 0.0908  D: 0.7083  D2: -0.0052  D3: 0.0120  D4: 0.01323\r"
     ]
    },
    {
     "name": "stderr",
     "output_type": "stream",
     "text": [
      "[default |INFO|model.py:2540] [06/80]  loss: 9.132849e-02  D: 6.947631e-01  D2: -3.987265e-03  D3: 8.450684e-03  D4: 1.028883e-02\n",
      "test loss: 9.080460e-02  D: 7.082795e-01  D2: -5.236092e-03  D3: 1.190172e-02  D4: 1.324387e-02\n"
     ]
    },
    {
     "name": "stdout",
     "output_type": "stream",
     "text": [
      "[094/100]  test loss: 0.0849  D: 0.6938  D2: -0.0049  D3: 0.0135  D4: 0.01520\r"
     ]
    },
    {
     "name": "stderr",
     "output_type": "stream",
     "text": [
      "[default |INFO|model.py:2540] [07/80]  loss: 8.822805e-02  D: 6.946819e-01  D2: -4.174550e-03  D3: 1.192693e-02  D4: 1.402016e-02\n",
      "test loss: 8.483141e-02  D: 6.937297e-01  D2: -4.953976e-03  D3: 1.347191e-02  D4: 1.514115e-02\n"
     ]
    },
    {
     "name": "stdout",
     "output_type": "stream",
     "text": [
      "[094/100]  test loss: 0.0765  D: 0.6908  D2: -0.0047  D3: 0.0118  D4: 0.01408\r"
     ]
    },
    {
     "name": "stderr",
     "output_type": "stream",
     "text": [
      "[default |INFO|model.py:2540] [08/80]  loss: 8.095087e-02  D: 6.974703e-01  D2: -4.551444e-03  D3: 1.208209e-02  D4: 1.378460e-02\n",
      "test loss: 7.638747e-02  D: 6.907759e-01  D2: -4.532919e-03  D3: 1.183313e-02  D4: 1.401369e-02\n"
     ]
    },
    {
     "name": "stdout",
     "output_type": "stream",
     "text": [
      "[095/100]  test loss: 0.0772  D: 0.7374  D2: -0.0043  D3: 0.0147  D4: 0.01726\r"
     ]
    },
    {
     "name": "stderr",
     "output_type": "stream",
     "text": [
      "[default |INFO|model.py:2540] [09/80]  loss: 8.091436e-02  D: 6.960840e-01  D2: -4.764334e-03  D3: 1.204279e-02  D4: 1.362994e-02\n",
      "test loss: 7.726269e-02  D: 7.374519e-01  D2: -4.167986e-03  D3: 1.463064e-02  D4: 1.716075e-02\n"
     ]
    },
    {
     "name": "stdout",
     "output_type": "stream",
     "text": [
      "[094/100]  test loss: 0.0808  D: 0.6935  D2: -0.0054  D3: 0.0080  D4: 0.00940\r"
     ]
    },
    {
     "name": "stderr",
     "output_type": "stream",
     "text": [
      "[default |INFO|model.py:2540] [10/80]  loss: 9.165570e-02  D: 7.092656e-01  D2: -4.525056e-03  D3: 1.190592e-02  D4: 1.397256e-02\n",
      "test loss: 8.092503e-02  D: 6.934791e-01  D2: -5.309086e-03  D3: 7.964352e-03  D4: 9.365064e-03\n"
     ]
    },
    {
     "name": "stdout",
     "output_type": "stream",
     "text": [
      "[096/100]  test loss: 0.0736  D: 0.6948  D2: -0.0050  D3: 0.0129  D4: 0.01471\r"
     ]
    },
    {
     "name": "stderr",
     "output_type": "stream",
     "text": [
      "[default |INFO|model.py:2540] [11/80]  loss: 8.060385e-02  D: 6.928827e-01  D2: -4.877907e-03  D3: 1.074610e-02  D4: 1.313005e-02\n",
      "test loss: 7.350397e-02  D: 6.947927e-01  D2: -4.988585e-03  D3: 1.285424e-02  D4: 1.463168e-02\n"
     ]
    },
    {
     "name": "stdout",
     "output_type": "stream",
     "text": [
      "[095/100]  test loss: 0.0820  D: 0.6820  D2: -0.0053  D3: 0.0125  D4: 0.01507\r"
     ]
    },
    {
     "name": "stderr",
     "output_type": "stream",
     "text": [
      "[default |INFO|model.py:2540] [12/80]  loss: 7.620387e-02  D: 6.949848e-01  D2: -5.110083e-03  D3: 1.263451e-02  D4: 1.472609e-02\n",
      "test loss: 8.197578e-02  D: 6.820773e-01  D2: -5.111837e-03  D3: 1.253657e-02  D4: 1.500330e-02\n"
     ]
    },
    {
     "name": "stdout",
     "output_type": "stream",
     "text": [
      "[095/100]  test loss: 0.0722  D: 0.6983  D2: -0.0057  D3: 0.0137  D4: 0.01578\r"
     ]
    },
    {
     "name": "stderr",
     "output_type": "stream",
     "text": [
      "[default |INFO|model.py:2540] [13/80]  loss: 7.463540e-02  D: 6.949738e-01  D2: -4.848824e-03  D3: 1.372223e-02  D4: 1.583474e-02\n",
      "test loss: 7.221724e-02  D: 6.983257e-01  D2: -5.707407e-03  D3: 1.371437e-02  D4: 1.574364e-02\n"
     ]
    },
    {
     "name": "stdout",
     "output_type": "stream",
     "text": [
      "[095/100]  test loss: 0.0716  D: 0.6921  D2: -0.0049  D3: 0.0157  D4: 0.01670\r"
     ]
    },
    {
     "name": "stderr",
     "output_type": "stream",
     "text": [
      "[default |INFO|model.py:2540] [14/80]  loss: 7.523755e-02  D: 6.939390e-01  D2: -5.028710e-03  D3: 1.271730e-02  D4: 1.500261e-02\n",
      "test loss: 7.148087e-02  D: 6.921161e-01  D2: -5.037899e-03  D3: 1.562540e-02  D4: 1.665134e-02\n"
     ]
    },
    {
     "name": "stdout",
     "output_type": "stream",
     "text": [
      "[094/100]  test loss: 0.0688  D: 0.6928  D2: -0.0051  D3: 0.0117  D4: 0.01396\r"
     ]
    },
    {
     "name": "stderr",
     "output_type": "stream",
     "text": [
      "[default |INFO|model.py:2540] [15/80]  loss: 7.211115e-02  D: 6.940235e-01  D2: -5.121549e-03  D3: 1.328317e-02  D4: 1.562725e-02\n",
      "test loss: 6.903767e-02  D: 6.927849e-01  D2: -5.120516e-03  D3: 1.163638e-02  D4: 1.392202e-02\n"
     ]
    },
    {
     "name": "stdout",
     "output_type": "stream",
     "text": [
      "[093/100]  test loss: 0.0777  D: 0.6927  D2: -0.0057  D3: 0.0108  D4: 0.01291\r"
     ]
    },
    {
     "name": "stderr",
     "output_type": "stream",
     "text": [
      "[default |INFO|model.py:2540] [16/80]  loss: 7.545287e-02  D: 6.973383e-01  D2: -5.091025e-03  D3: 1.283966e-02  D4: 1.510947e-02\n",
      "test loss: 7.730712e-02  D: 6.927107e-01  D2: -5.735025e-03  D3: 1.081214e-02  D4: 1.291560e-02\n"
     ]
    },
    {
     "name": "stdout",
     "output_type": "stream",
     "text": [
      "[095/100]  test loss: 0.0720  D: 0.7243  D2: -0.0048  D3: 0.0130  D4: 0.01523\r"
     ]
    },
    {
     "name": "stderr",
     "output_type": "stream",
     "text": [
      "[default |INFO|model.py:2540] [17/80]  loss: 7.701948e-02  D: 6.959508e-01  D2: -5.399911e-03  D3: 1.209779e-02  D4: 1.433732e-02\n",
      "test loss: 7.204656e-02  D: 7.242413e-01  D2: -4.830618e-03  D3: 1.301430e-02  D4: 1.519581e-02\n"
     ]
    },
    {
     "name": "stdout",
     "output_type": "stream",
     "text": [
      "[093/100]  test loss: 0.0768  D: 0.7409  D2: -0.0048  D3: 0.0142  D4: 0.01676\r"
     ]
    },
    {
     "name": "stderr",
     "output_type": "stream",
     "text": [
      "[default |INFO|model.py:2540] [18/80]  loss: 7.246178e-02  D: 6.959923e-01  D2: -5.272217e-03  D3: 1.339677e-02  D4: 1.562271e-02\n",
      "test loss: 7.677350e-02  D: 7.408845e-01  D2: -4.830360e-03  D3: 1.417804e-02  D4: 1.666648e-02\n"
     ]
    },
    {
     "name": "stdout",
     "output_type": "stream",
     "text": [
      "[096/100]  test loss: 0.0740  D: 0.6978  D2: -0.0051  D3: 0.0139  D4: 0.01673\r"
     ]
    },
    {
     "name": "stderr",
     "output_type": "stream",
     "text": [
      "[default |INFO|model.py:2540] [19/80]  loss: 7.323097e-02  D: 6.974748e-01  D2: -5.373557e-03  D3: 1.311578e-02  D4: 1.535000e-02\n",
      "test loss: 7.402345e-02  D: 6.978162e-01  D2: -5.006609e-03  D3: 1.394604e-02  D4: 1.671880e-02\n"
     ]
    },
    {
     "name": "stdout",
     "output_type": "stream",
     "text": [
      "[095/100]  test loss: 0.0851  D: 0.6933  D2: -0.0057  D3: 0.0148  D4: 0.01665\r"
     ]
    },
    {
     "name": "stderr",
     "output_type": "stream",
     "text": [
      "[default |INFO|model.py:2540] [20/80]  loss: 7.510340e-02  D: 6.969938e-01  D2: -5.550825e-03  D3: 1.322124e-02  D4: 1.553987e-02\n",
      "test loss: 8.514084e-02  D: 6.933159e-01  D2: -5.699472e-03  D3: 1.479536e-02  D4: 1.660504e-02\n"
     ]
    },
    {
     "name": "stdout",
     "output_type": "stream",
     "text": [
      "[093/100]  test loss: 0.0709  D: 0.6801  D2: -0.0059  D3: 0.0132  D4: 0.01550\r"
     ]
    },
    {
     "name": "stderr",
     "output_type": "stream",
     "text": [
      "[default |INFO|model.py:2540] [21/80]  loss: 7.634997e-02  D: 6.943532e-01  D2: -5.490812e-03  D3: 1.358209e-02  D4: 1.596633e-02\n",
      "test loss: 7.092660e-02  D: 6.800476e-01  D2: -5.929203e-03  D3: 1.318935e-02  D4: 1.556223e-02\n"
     ]
    },
    {
     "name": "stdout",
     "output_type": "stream",
     "text": [
      "[094/100]  test loss: 0.0663  D: 0.7001  D2: -0.0059  D3: 0.0122  D4: 0.01416\r"
     ]
    },
    {
     "name": "stderr",
     "output_type": "stream",
     "text": [
      "[default |INFO|model.py:2540] [22/80]  loss: 7.077871e-02  D: 6.954251e-01  D2: -5.737430e-03  D3: 1.328095e-02  D4: 1.560207e-02\n",
      "test loss: 6.639651e-02  D: 7.000937e-01  D2: -5.931759e-03  D3: 1.218186e-02  D4: 1.405787e-02\n"
     ]
    },
    {
     "name": "stdout",
     "output_type": "stream",
     "text": [
      "[096/100]  test loss: 0.0647  D: 0.7114  D2: -0.0057  D3: 0.0154  D4: 0.01796\r"
     ]
    },
    {
     "name": "stderr",
     "output_type": "stream",
     "text": [
      "[default |INFO|model.py:2540] [23/80]  loss: 6.727612e-02  D: 6.953763e-01  D2: -5.780587e-03  D3: 1.341232e-02  D4: 1.558794e-02\n",
      "test loss: 6.470256e-02  D: 7.114499e-01  D2: -5.772381e-03  D3: 1.538955e-02  D4: 1.785385e-02\n"
     ]
    },
    {
     "name": "stdout",
     "output_type": "stream",
     "text": [
      "[095/100]  test loss: 0.0633  D: 0.6811  D2: -0.0067  D3: 0.0142  D4: 0.01587\r"
     ]
    },
    {
     "name": "stderr",
     "output_type": "stream",
     "text": [
      "[default |INFO|model.py:2540] [24/80]  loss: 6.505236e-02  D: 6.933949e-01  D2: -5.865865e-03  D3: 1.371238e-02  D4: 1.570785e-02\n",
      "test loss: 6.361931e-02  D: 6.811382e-01  D2: -6.586838e-03  D3: 1.421563e-02  D4: 1.575863e-02\n"
     ]
    },
    {
     "name": "stdout",
     "output_type": "stream",
     "text": [
      "[096/100]  test loss: 0.0658  D: 0.6546  D2: -0.0061  D3: 0.0141  D4: 0.01637\r"
     ]
    },
    {
     "name": "stderr",
     "output_type": "stream",
     "text": [
      "[default |INFO|model.py:2540] [25/80]  loss: 6.458334e-02  D: 6.947845e-01  D2: -5.923527e-03  D3: 1.348048e-02  D4: 1.572328e-02\n",
      "test loss: 6.576498e-02  D: 6.545872e-01  D2: -6.116896e-03  D3: 1.407816e-02  D4: 1.621976e-02\n"
     ]
    },
    {
     "name": "stdout",
     "output_type": "stream",
     "text": [
      "[096/100]  test loss: 0.0728  D: 0.7012  D2: -0.0059  D3: 0.0167  D4: 0.01820\r"
     ]
    },
    {
     "name": "stderr",
     "output_type": "stream",
     "text": [
      "[default |INFO|model.py:2540] [26/80]  loss: 6.695968e-02  D: 6.961881e-01  D2: -5.896298e-03  D3: 1.271345e-02  D4: 1.497082e-02\n",
      "test loss: 7.283208e-02  D: 7.012474e-01  D2: -5.814428e-03  D3: 1.674117e-02  D4: 1.817289e-02\n"
     ]
    },
    {
     "name": "stdout",
     "output_type": "stream",
     "text": [
      "[096/100]  test loss: 0.0649  D: 0.7386  D2: -0.0060  D3: 0.0142  D4: 0.01657\r"
     ]
    },
    {
     "name": "stderr",
     "output_type": "stream",
     "text": [
      "[default |INFO|model.py:2540] [27/80]  loss: 6.594898e-02  D: 6.945751e-01  D2: -6.043007e-03  D3: 1.325765e-02  D4: 1.567445e-02\n",
      "test loss: 6.499767e-02  D: 7.385818e-01  D2: -5.927143e-03  D3: 1.422927e-02  D4: 1.659791e-02\n"
     ]
    },
    {
     "name": "stdout",
     "output_type": "stream",
     "text": [
      "[095/100]  test loss: 0.0595  D: 0.7129  D2: -0.0064  D3: 0.0143  D4: 0.01640\r"
     ]
    },
    {
     "name": "stderr",
     "output_type": "stream",
     "text": [
      "[default |INFO|model.py:2540] [28/80]  loss: 6.168335e-02  D: 6.940990e-01  D2: -6.046527e-03  D3: 1.379951e-02  D4: 1.603498e-02\n",
      "test loss: 5.965711e-02  D: 7.129191e-01  D2: -6.478634e-03  D3: 1.431299e-02  D4: 1.640255e-02\n"
     ]
    },
    {
     "name": "stdout",
     "output_type": "stream",
     "text": [
      "[096/100]  test loss: 0.0612  D: 0.6985  D2: -0.0067  D3: 0.0148  D4: 0.01697\r"
     ]
    },
    {
     "name": "stderr",
     "output_type": "stream",
     "text": [
      "[default |INFO|model.py:2540] [29/80]  loss: 5.929985e-02  D: 6.940165e-01  D2: -6.300562e-03  D3: 1.339985e-02  D4: 1.567090e-02\n",
      "test loss: 6.128795e-02  D: 6.984509e-01  D2: -6.722641e-03  D3: 1.480001e-02  D4: 1.686664e-02\n"
     ]
    },
    {
     "name": "stdout",
     "output_type": "stream",
     "text": [
      "[095/100]  test loss: 0.0611  D: 0.6899  D2: -0.0066  D3: 0.0139  D4: 0.01563\r"
     ]
    },
    {
     "name": "stderr",
     "output_type": "stream",
     "text": [
      "[default |INFO|model.py:2540] [30/80]  loss: 6.400478e-02  D: 6.970146e-01  D2: -6.097075e-03  D3: 1.287989e-02  D4: 1.526145e-02\n",
      "test loss: 6.107756e-02  D: 6.899233e-01  D2: -6.577101e-03  D3: 1.384722e-02  D4: 1.559967e-02\n"
     ]
    },
    {
     "name": "stdout",
     "output_type": "stream",
     "text": [
      "[096/100]  test loss: 0.0634  D: 0.6801  D2: -0.0064  D3: 0.0135  D4: 0.01565\r"
     ]
    },
    {
     "name": "stderr",
     "output_type": "stream",
     "text": [
      "[default |INFO|model.py:2540] [31/80]  loss: 6.168331e-02  D: 6.945408e-01  D2: -6.278426e-03  D3: 1.314987e-02  D4: 1.554612e-02\n",
      "test loss: 6.341379e-02  D: 6.800539e-01  D2: -6.372213e-03  D3: 1.351298e-02  D4: 1.560722e-02\n"
     ]
    },
    {
     "name": "stdout",
     "output_type": "stream",
     "text": [
      "[095/100]  test loss: 0.0626  D: 0.6877  D2: -0.0064  D3: 0.0119  D4: 0.01387\r"
     ]
    },
    {
     "name": "stderr",
     "output_type": "stream",
     "text": [
      "[default |INFO|model.py:2540] [32/80]  loss: 6.108528e-02  D: 6.955032e-01  D2: -6.325308e-03  D3: 1.324743e-02  D4: 1.574966e-02\n",
      "test loss: 6.260584e-02  D: 6.876333e-01  D2: -6.391497e-03  D3: 1.192552e-02  D4: 1.373514e-02\n"
     ]
    },
    {
     "name": "stdout",
     "output_type": "stream",
     "text": [
      "[093/100]  test loss: 0.0590  D: 0.7068  D2: -0.0061  D3: 0.0147  D4: 0.01695\r"
     ]
    },
    {
     "name": "stderr",
     "output_type": "stream",
     "text": [
      "[default |INFO|model.py:2540] [33/80]  loss: 6.119378e-02  D: 6.955967e-01  D2: -6.372118e-03  D3: 1.312386e-02  D4: 1.547590e-02\n",
      "test loss: 5.895555e-02  D: 7.068271e-01  D2: -6.126947e-03  D3: 1.477955e-02  D4: 1.700136e-02\n"
     ]
    },
    {
     "name": "stdout",
     "output_type": "stream",
     "text": [
      "[095/100]  test loss: 0.0605  D: 0.6821  D2: -0.0063  D3: 0.0143  D4: 0.01612\r"
     ]
    },
    {
     "name": "stderr",
     "output_type": "stream",
     "text": [
      "[default |INFO|model.py:2540] [34/80]  loss: 5.878134e-02  D: 6.947699e-01  D2: -6.450788e-03  D3: 1.293717e-02  D4: 1.524799e-02\n",
      "test loss: 6.048343e-02  D: 6.820497e-01  D2: -6.286850e-03  D3: 1.433353e-02  D4: 1.611776e-02\n"
     ]
    },
    {
     "name": "stdout",
     "output_type": "stream",
     "text": [
      "[095/100]  test loss: 0.0587  D: 0.6908  D2: -0.0070  D3: 0.0147  D4: 0.01666\r"
     ]
    },
    {
     "name": "stderr",
     "output_type": "stream",
     "text": [
      "[default |INFO|model.py:2540] [35/80]  loss: 5.818613e-02  D: 6.936708e-01  D2: -6.596616e-03  D3: 1.316159e-02  D4: 1.557827e-02\n",
      "test loss: 5.862128e-02  D: 6.908084e-01  D2: -6.963348e-03  D3: 1.472965e-02  D4: 1.663989e-02\n"
     ]
    },
    {
     "name": "stdout",
     "output_type": "stream",
     "text": [
      "[095/100]  test loss: 0.0631  D: 0.6947  D2: -0.0065  D3: 0.0119  D4: 0.01411\r"
     ]
    },
    {
     "name": "stderr",
     "output_type": "stream",
     "text": [
      "[default |INFO|model.py:2540] [36/80]  loss: 6.050341e-02  D: 6.946099e-01  D2: -6.698516e-03  D3: 1.282911e-02  D4: 1.510028e-02\n",
      "test loss: 6.308567e-02  D: 6.947602e-01  D2: -6.478329e-03  D3: 1.186862e-02  D4: 1.407683e-02\n"
     ]
    },
    {
     "name": "stdout",
     "output_type": "stream",
     "text": [
      "[095/100]  test loss: 0.0605  D: 0.7013  D2: -0.0069  D3: 0.0139  D4: 0.01591\r"
     ]
    },
    {
     "name": "stderr",
     "output_type": "stream",
     "text": [
      "[default |INFO|model.py:2540] [37/80]  loss: 6.031871e-02  D: 6.947522e-01  D2: -6.516589e-03  D3: 1.257860e-02  D4: 1.505393e-02\n",
      "test loss: 6.064947e-02  D: 7.012992e-01  D2: -6.926956e-03  D3: 1.386238e-02  D4: 1.589303e-02\n"
     ]
    },
    {
     "name": "stdout",
     "output_type": "stream",
     "text": [
      "[095/100]  test loss: 0.0575  D: 0.7051  D2: -0.0069  D3: 0.0128  D4: 0.01494\r"
     ]
    },
    {
     "name": "stderr",
     "output_type": "stream",
     "text": [
      "[default |INFO|model.py:2540] [38/80]  loss: 5.959667e-02  D: 6.945441e-01  D2: -6.681333e-03  D3: 1.305280e-02  D4: 1.543374e-02\n",
      "test loss: 5.754620e-02  D: 7.050531e-01  D2: -6.872158e-03  D3: 1.279769e-02  D4: 1.492186e-02\n"
     ]
    },
    {
     "name": "stdout",
     "output_type": "stream",
     "text": [
      "[095/100]  test loss: 0.0584  D: 0.7125  D2: -0.0066  D3: 0.0151  D4: 0.01713\r"
     ]
    },
    {
     "name": "stderr",
     "output_type": "stream",
     "text": [
      "[default |INFO|model.py:2540] [39/80]  loss: 5.778129e-02  D: 6.941572e-01  D2: -6.772424e-03  D3: 1.289049e-02  D4: 1.526282e-02\n",
      "test loss: 5.847930e-02  D: 7.125006e-01  D2: -6.513596e-03  D3: 1.506145e-02  D4: 1.709008e-02\n"
     ]
    },
    {
     "name": "stdout",
     "output_type": "stream",
     "text": [
      "[095/100]  test loss: 0.0586  D: 0.6919  D2: -0.0063  D3: 0.0133  D4: 0.01584\r"
     ]
    },
    {
     "name": "stderr",
     "output_type": "stream",
     "text": [
      "[default |INFO|model.py:2540] [40/80]  loss: 5.676465e-02  D: 6.943475e-01  D2: -6.812239e-03  D3: 1.306908e-02  D4: 1.536622e-02\n",
      "test loss: 5.869245e-02  D: 6.918634e-01  D2: -6.317673e-03  D3: 1.329060e-02  D4: 1.576839e-02\n"
     ]
    },
    {
     "name": "stdout",
     "output_type": "stream",
     "text": [
      "[093/100]  test loss: 0.0581  D: 0.6931  D2: -0.0071  D3: 0.0147  D4: 0.01712\r"
     ]
    },
    {
     "name": "stderr",
     "output_type": "stream",
     "text": [
      "[default |INFO|model.py:2540] [41/80]  loss: 5.794336e-02  D: 6.951847e-01  D2: -6.830087e-03  D3: 1.270143e-02  D4: 1.518688e-02\n",
      "test loss: 5.821634e-02  D: 6.931665e-01  D2: -7.068014e-03  D3: 1.468625e-02  D4: 1.704417e-02\n"
     ]
    },
    {
     "name": "stdout",
     "output_type": "stream",
     "text": [
      "[095/100]  test loss: 0.0605  D: 0.7070  D2: -0.0063  D3: 0.0129  D4: 0.01574\r"
     ]
    },
    {
     "name": "stderr",
     "output_type": "stream",
     "text": [
      "[default |INFO|model.py:2540] [42/80]  loss: 5.647560e-02  D: 6.948780e-01  D2: -6.843518e-03  D3: 1.293850e-02  D4: 1.539604e-02\n",
      "test loss: 6.046908e-02  D: 7.069812e-01  D2: -6.336613e-03  D3: 1.299364e-02  D4: 1.573330e-02\n"
     ]
    },
    {
     "name": "stdout",
     "output_type": "stream",
     "text": [
      "[094/100]  test loss: 0.0604  D: 0.6894  D2: -0.0074  D3: 0.0128  D4: 0.01503\r"
     ]
    },
    {
     "name": "stderr",
     "output_type": "stream",
     "text": [
      "[default |INFO|model.py:2540] [43/80]  loss: 5.569359e-02  D: 6.936171e-01  D2: -6.975621e-03  D3: 1.286982e-02  D4: 1.533578e-02\n",
      "test loss: 6.032832e-02  D: 6.894178e-01  D2: -7.400684e-03  D3: 1.283919e-02  D4: 1.499590e-02\n"
     ]
    },
    {
     "name": "stdout",
     "output_type": "stream",
     "text": [
      "[095/100]  test loss: 0.0557  D: 0.6836  D2: -0.0072  D3: 0.0133  D4: 0.01561\r"
     ]
    },
    {
     "name": "stderr",
     "output_type": "stream",
     "text": [
      "[default |INFO|model.py:2540] [44/80]  loss: 5.651132e-02  D: 6.944510e-01  D2: -7.089545e-03  D3: 1.269079e-02  D4: 1.512113e-02\n",
      "test loss: 5.569655e-02  D: 6.835751e-01  D2: -7.198076e-03  D3: 1.328579e-02  D4: 1.562826e-02\n"
     ]
    },
    {
     "name": "stdout",
     "output_type": "stream",
     "text": [
      "[095/100]  test loss: 0.0592  D: 0.6860  D2: -0.0070  D3: 0.0151  D4: 0.01781\r"
     ]
    },
    {
     "name": "stderr",
     "output_type": "stream",
     "text": [
      "[default |INFO|model.py:2540] [45/80]  loss: 5.525076e-02  D: 6.950543e-01  D2: -7.057163e-03  D3: 1.259006e-02  D4: 1.505663e-02\n",
      "test loss: 5.910304e-02  D: 6.859600e-01  D2: -7.046337e-03  D3: 1.513276e-02  D4: 1.775344e-02\n"
     ]
    },
    {
     "name": "stdout",
     "output_type": "stream",
     "text": [
      "[094/100]  test loss: 0.0550  D: 0.6932  D2: -0.0073  D3: 0.0137  D4: 0.01612\r"
     ]
    },
    {
     "name": "stderr",
     "output_type": "stream",
     "text": [
      "[default |INFO|model.py:2540] [46/80]  loss: 5.545010e-02  D: 6.935536e-01  D2: -7.204930e-03  D3: 1.287898e-02  D4: 1.522205e-02\n",
      "test loss: 5.491371e-02  D: 6.931479e-01  D2: -7.308607e-03  D3: 1.369837e-02  D4: 1.608863e-02\n"
     ]
    },
    {
     "name": "stdout",
     "output_type": "stream",
     "text": [
      "[096/100]  test loss: 0.0554  D: 0.6956  D2: -0.0072  D3: 0.0110  D4: 0.01352\r"
     ]
    },
    {
     "name": "stderr",
     "output_type": "stream",
     "text": [
      "[default |INFO|model.py:2540] [47/80]  loss: 5.490379e-02  D: 6.937072e-01  D2: -7.152893e-03  D3: 1.269680e-02  D4: 1.517200e-02\n",
      "test loss: 5.536227e-02  D: 6.956822e-01  D2: -7.222271e-03  D3: 1.101129e-02  D4: 1.345921e-02\n"
     ]
    },
    {
     "name": "stdout",
     "output_type": "stream",
     "text": [
      "[096/100]  test loss: 0.0563  D: 0.7078  D2: -0.0073  D3: 0.0137  D4: 0.01582\r"
     ]
    },
    {
     "name": "stderr",
     "output_type": "stream",
     "text": [
      "[default |INFO|model.py:2540] [48/80]  loss: 5.623147e-02  D: 6.946059e-01  D2: -7.164545e-03  D3: 1.284259e-02  D4: 1.517751e-02\n",
      "test loss: 5.621569e-02  D: 7.077559e-01  D2: -7.308588e-03  D3: 1.369990e-02  D4: 1.581589e-02\n"
     ]
    },
    {
     "name": "stdout",
     "output_type": "stream",
     "text": [
      "[093/100]  test loss: 0.0547  D: 0.7054  D2: -0.0075  D3: 0.0134  D4: 0.01570\r"
     ]
    },
    {
     "name": "stderr",
     "output_type": "stream",
     "text": [
      "[default |INFO|model.py:2540] [49/80]  loss: 5.554070e-02  D: 6.933530e-01  D2: -7.254326e-03  D3: 1.265789e-02  D4: 1.504904e-02\n",
      "test loss: 5.473540e-02  D: 7.054490e-01  D2: -7.471542e-03  D3: 1.340358e-02  D4: 1.567444e-02\n"
     ]
    },
    {
     "name": "stdout",
     "output_type": "stream",
     "text": [
      "[095/100]  test loss: 0.0553  D: 0.7014  D2: -0.0076  D3: 0.0124  D4: 0.01452\r"
     ]
    },
    {
     "name": "stderr",
     "output_type": "stream",
     "text": [
      "[default |INFO|model.py:2540] [50/80]  loss: 5.444334e-02  D: 6.937870e-01  D2: -7.266097e-03  D3: 1.269087e-02  D4: 1.516672e-02\n",
      "test loss: 5.541952e-02  D: 7.013412e-01  D2: -7.554417e-03  D3: 1.236188e-02  D4: 1.447405e-02\n"
     ]
    },
    {
     "name": "stdout",
     "output_type": "stream",
     "text": [
      "[096/100]  test loss: 0.0564  D: 0.6921  D2: -0.0074  D3: 0.0143  D4: 0.01679\r"
     ]
    },
    {
     "name": "stderr",
     "output_type": "stream",
     "text": [
      "[default |INFO|model.py:2540] [51/80]  loss: 5.459046e-02  D: 6.949302e-01  D2: -7.367597e-03  D3: 1.246497e-02  D4: 1.486899e-02\n",
      "test loss: 5.634745e-02  D: 6.920503e-01  D2: -7.360334e-03  D3: 1.428912e-02  D4: 1.664692e-02\n"
     ]
    },
    {
     "name": "stdout",
     "output_type": "stream",
     "text": [
      "[095/100]  test loss: 0.0538  D: 0.7262  D2: -0.0077  D3: 0.0122  D4: 0.01479\r"
     ]
    },
    {
     "name": "stderr",
     "output_type": "stream",
     "text": [
      "[default |INFO|model.py:2540] [52/80]  loss: 5.537104e-02  D: 6.954382e-01  D2: -7.301971e-03  D3: 1.249656e-02  D4: 1.487438e-02\n",
      "test loss: 5.388785e-02  D: 7.261350e-01  D2: -7.668352e-03  D3: 1.224155e-02  D4: 1.471943e-02\n"
     ]
    },
    {
     "name": "stdout",
     "output_type": "stream",
     "text": [
      "[094/100]  test loss: 0.0539  D: 0.6732  D2: -0.0074  D3: 0.0131  D4: 0.01552\r"
     ]
    },
    {
     "name": "stderr",
     "output_type": "stream",
     "text": [
      "[default |INFO|model.py:2540] [53/80]  loss: 5.326004e-02  D: 6.935525e-01  D2: -7.429419e-03  D3: 1.268566e-02  D4: 1.515300e-02\n",
      "test loss: 5.385565e-02  D: 6.732078e-01  D2: -7.467747e-03  D3: 1.314677e-02  D4: 1.554091e-02\n"
     ]
    },
    {
     "name": "stdout",
     "output_type": "stream",
     "text": [
      "[096/100]  test loss: 0.0540  D: 0.6727  D2: -0.0079  D3: 0.0115  D4: 0.01402\r"
     ]
    },
    {
     "name": "stderr",
     "output_type": "stream",
     "text": [
      "[default |INFO|model.py:2540] [54/80]  loss: 5.260459e-02  D: 6.940563e-01  D2: -7.619251e-03  D3: 1.269193e-02  D4: 1.516801e-02\n",
      "test loss: 5.395273e-02  D: 6.727403e-01  D2: -7.832470e-03  D3: 1.145651e-02  D4: 1.393669e-02\n"
     ]
    },
    {
     "name": "stdout",
     "output_type": "stream",
     "text": [
      "[096/100]  test loss: 0.0544  D: 0.6977  D2: -0.0076  D3: 0.0121  D4: 0.01451\r"
     ]
    },
    {
     "name": "stderr",
     "output_type": "stream",
     "text": [
      "[default |INFO|model.py:2540] [55/80]  loss: 5.253499e-02  D: 6.937723e-01  D2: -7.538711e-03  D3: 1.264250e-02  D4: 1.512065e-02\n",
      "test loss: 5.432653e-02  D: 6.976456e-01  D2: -7.603607e-03  D3: 1.206753e-02  D4: 1.457853e-02\n"
     ]
    },
    {
     "name": "stdout",
     "output_type": "stream",
     "text": [
      "[096/100]  test loss: 0.0547  D: 0.7077  D2: -0.0079  D3: 0.0110  D4: 0.01350\r"
     ]
    },
    {
     "name": "stderr",
     "output_type": "stream",
     "text": [
      "[default |INFO|model.py:2540] [56/80]  loss: 5.375048e-02  D: 6.926873e-01  D2: -7.467793e-03  D3: 1.257716e-02  D4: 1.500094e-02\n",
      "test loss: 5.465105e-02  D: 7.076935e-01  D2: -7.913170e-03  D3: 1.100850e-02  D4: 1.345018e-02\n"
     ]
    },
    {
     "name": "stdout",
     "output_type": "stream",
     "text": [
      "[096/100]  test loss: 0.0539  D: 0.6901  D2: -0.0078  D3: 0.0119  D4: 0.01428\r"
     ]
    },
    {
     "name": "stderr",
     "output_type": "stream",
     "text": [
      "[default |INFO|model.py:2540] [57/80]  loss: 5.344603e-02  D: 6.938408e-01  D2: -7.523483e-03  D3: 1.238249e-02  D4: 1.482621e-02\n",
      "test loss: 5.380611e-02  D: 6.901058e-01  D2: -7.838182e-03  D3: 1.193466e-02  D4: 1.423021e-02\n"
     ]
    },
    {
     "name": "stdout",
     "output_type": "stream",
     "text": [
      "[095/100]  test loss: 0.0568  D: 0.7139  D2: -0.0078  D3: 0.0118  D4: 0.01428\r"
     ]
    },
    {
     "name": "stderr",
     "output_type": "stream",
     "text": [
      "[default |INFO|model.py:2540] [58/80]  loss: 5.312528e-02  D: 6.944674e-01  D2: -7.679399e-03  D3: 1.244680e-02  D4: 1.477799e-02\n",
      "test loss: 5.671434e-02  D: 7.138285e-01  D2: -7.827492e-03  D3: 1.179473e-02  D4: 1.419136e-02\n"
     ]
    },
    {
     "name": "stdout",
     "output_type": "stream",
     "text": [
      "[096/100]  test loss: 0.0546  D: 0.7098  D2: -0.0082  D3: 0.0135  D4: 0.01590\r"
     ]
    },
    {
     "name": "stderr",
     "output_type": "stream",
     "text": [
      "[default |INFO|model.py:2540] [59/80]  loss: 5.332421e-02  D: 6.932883e-01  D2: -7.786729e-03  D3: 1.258011e-02  D4: 1.497442e-02\n",
      "test loss: 5.470786e-02  D: 7.098102e-01  D2: -8.186665e-03  D3: 1.343507e-02  D4: 1.585964e-02\n"
     ]
    },
    {
     "name": "stdout",
     "output_type": "stream",
     "text": [
      "[096/100]  test loss: 0.0545  D: 0.6742  D2: -0.0079  D3: 0.0126  D4: 0.01507\r"
     ]
    },
    {
     "name": "stderr",
     "output_type": "stream",
     "text": [
      "[default |INFO|model.py:2540] [60/80]  loss: 5.395034e-02  D: 6.949104e-01  D2: -7.777661e-03  D3: 1.222186e-02  D4: 1.468574e-02\n",
      "test loss: 5.458045e-02  D: 6.741647e-01  D2: -7.918043e-03  D3: 1.251752e-02  D4: 1.500290e-02\n"
     ]
    },
    {
     "name": "stdout",
     "output_type": "stream",
     "text": [
      "[096/100]  test loss: 0.0543  D: 0.6952  D2: -0.0081  D3: 0.0135  D4: 0.01598\r"
     ]
    },
    {
     "name": "stderr",
     "output_type": "stream",
     "text": [
      "[default |INFO|model.py:2540] [61/80]  loss: 5.383878e-02  D: 6.940827e-01  D2: -7.787951e-03  D3: 1.232469e-02  D4: 1.480459e-02\n",
      "test loss: 5.419494e-02  D: 6.952692e-01  D2: -8.163109e-03  D3: 1.346182e-02  D4: 1.588839e-02\n"
     ]
    },
    {
     "name": "stdout",
     "output_type": "stream",
     "text": [
      "[092/100]  test loss: 0.0551  D: 0.7026  D2: -0.0077  D3: 0.0119  D4: 0.01438\r"
     ]
    },
    {
     "name": "stderr",
     "output_type": "stream",
     "text": [
      "[default |INFO|model.py:2540] [62/80]  loss: 5.337817e-02  D: 6.941656e-01  D2: -7.854640e-03  D3: 1.228552e-02  D4: 1.475286e-02\n",
      "test loss: 5.493345e-02  D: 7.026378e-01  D2: -7.762651e-03  D3: 1.187830e-02  D4: 1.433639e-02\n"
     ]
    },
    {
     "name": "stdout",
     "output_type": "stream",
     "text": [
      "[096/100]  test loss: 0.0559  D: 0.7051  D2: -0.0080  D3: 0.0123  D4: 0.01469\r"
     ]
    },
    {
     "name": "stderr",
     "output_type": "stream",
     "text": [
      "[default |INFO|model.py:2540] [63/80]  loss: 5.216554e-02  D: 6.937118e-01  D2: -7.962701e-03  D3: 1.238614e-02  D4: 1.487794e-02\n",
      "test loss: 5.595022e-02  D: 7.050720e-01  D2: -7.939692e-03  D3: 1.227759e-02  D4: 1.459413e-02\n"
     ]
    },
    {
     "name": "stdout",
     "output_type": "stream",
     "text": [
      "[096/100]  test loss: 0.0544  D: 0.6912  D2: -0.0079  D3: 0.0114  D4: 0.01396\r"
     ]
    },
    {
     "name": "stderr",
     "output_type": "stream",
     "text": [
      "[default |INFO|model.py:2540] [64/80]  loss: 5.408322e-02  D: 6.938929e-01  D2: -7.923344e-03  D3: 1.221649e-02  D4: 1.460641e-02\n",
      "test loss: 5.443869e-02  D: 6.912288e-01  D2: -7.838964e-03  D3: 1.150114e-02  D4: 1.390815e-02\n"
     ]
    },
    {
     "name": "stdout",
     "output_type": "stream",
     "text": [
      "[096/100]  test loss: 0.0532  D: 0.6833  D2: -0.0082  D3: 0.0124  D4: 0.01457\r"
     ]
    },
    {
     "name": "stderr",
     "output_type": "stream",
     "text": [
      "[default |INFO|model.py:2540] [65/80]  loss: 5.536310e-02  D: 6.932922e-01  D2: -7.905345e-03  D3: 1.218935e-02  D4: 1.466007e-02\n",
      "test loss: 5.314621e-02  D: 6.832951e-01  D2: -8.235779e-03  D3: 1.242185e-02  D4: 1.453769e-02\n"
     ]
    },
    {
     "name": "stdout",
     "output_type": "stream",
     "text": [
      "[096/100]  test loss: 0.0543  D: 0.6906  D2: -0.0084  D3: 0.0127  D4: 0.01529\r"
     ]
    },
    {
     "name": "stderr",
     "output_type": "stream",
     "text": [
      "[default |INFO|model.py:2540] [66/80]  loss: 5.178893e-02  D: 6.940189e-01  D2: -7.999765e-03  D3: 1.234944e-02  D4: 1.486096e-02\n",
      "test loss: 5.422068e-02  D: 6.905543e-01  D2: -8.435087e-03  D3: 1.268355e-02  D4: 1.519601e-02\n"
     ]
    },
    {
     "name": "stdout",
     "output_type": "stream",
     "text": [
      "[096/100]  test loss: 0.0537  D: 0.6933  D2: -0.0083  D3: 0.0137  D4: 0.01626\r"
     ]
    },
    {
     "name": "stderr",
     "output_type": "stream",
     "text": [
      "[default |INFO|model.py:2540] [67/80]  loss: 5.248540e-02  D: 6.944753e-01  D2: -8.059367e-03  D3: 1.221674e-02  D4: 1.464088e-02\n",
      "test loss: 5.363484e-02  D: 6.932895e-01  D2: -8.269596e-03  D3: 1.373857e-02  D4: 1.624204e-02\n"
     ]
    },
    {
     "name": "stdout",
     "output_type": "stream",
     "text": [
      "[096/100]  test loss: 0.0523  D: 0.6873  D2: -0.0085  D3: 0.0125  D4: 0.01488\r"
     ]
    },
    {
     "name": "stderr",
     "output_type": "stream",
     "text": [
      "[default |INFO|model.py:2540] [68/80]  loss: 5.176028e-02  D: 6.928777e-01  D2: -8.047965e-03  D3: 1.237101e-02  D4: 1.475598e-02\n",
      "test loss: 5.218566e-02  D: 6.873509e-01  D2: -8.497820e-03  D3: 1.250532e-02  D4: 1.476928e-02\n"
     ]
    },
    {
     "name": "stdout",
     "output_type": "stream",
     "text": [
      "[096/100]  test loss: 0.0540  D: 0.7038  D2: -0.0082  D3: 0.0117  D4: 0.01397\r"
     ]
    },
    {
     "name": "stderr",
     "output_type": "stream",
     "text": [
      "[default |INFO|model.py:2540] [69/80]  loss: 5.244728e-02  D: 6.940633e-01  D2: -8.065521e-03  D3: 1.228140e-02  D4: 1.470370e-02\n",
      "test loss: 5.423623e-02  D: 7.038135e-01  D2: -8.217230e-03  D3: 1.170934e-02  D4: 1.387627e-02\n"
     ]
    },
    {
     "name": "stdout",
     "output_type": "stream",
     "text": [
      "[096/100]  test loss: 0.0534  D: 0.6935  D2: -0.0085  D3: 0.0121  D4: 0.01458\r"
     ]
    },
    {
     "name": "stderr",
     "output_type": "stream",
     "text": [
      "[default |INFO|model.py:2540] [70/80]  loss: 5.225576e-02  D: 6.938678e-01  D2: -8.134807e-03  D3: 1.223723e-02  D4: 1.476151e-02\n",
      "test loss: 5.331660e-02  D: 6.935015e-01  D2: -8.513527e-03  D3: 1.213053e-02  D4: 1.449015e-02\n"
     ]
    },
    {
     "name": "stdout",
     "output_type": "stream",
     "text": [
      "[096/100]  test loss: 0.0528  D: 0.6929  D2: -0.0085  D3: 0.0125  D4: 0.01506\r"
     ]
    },
    {
     "name": "stderr",
     "output_type": "stream",
     "text": [
      "[default |INFO|model.py:2540] [71/80]  loss: 5.157155e-02  D: 6.944577e-01  D2: -8.282199e-03  D3: 1.217690e-02  D4: 1.464116e-02\n",
      "test loss: 5.295418e-02  D: 6.928939e-01  D2: -8.504267e-03  D3: 1.252402e-02  D4: 1.508200e-02\n"
     ]
    },
    {
     "name": "stdout",
     "output_type": "stream",
     "text": [
      "[096/100]  test loss: 0.0541  D: 0.6947  D2: -0.0082  D3: 0.0108  D4: 0.01286\r"
     ]
    },
    {
     "name": "stderr",
     "output_type": "stream",
     "text": [
      "[default |INFO|model.py:2540] [72/80]  loss: 5.134907e-02  D: 6.938881e-01  D2: -8.117429e-03  D3: 1.216429e-02  D4: 1.457464e-02\n",
      "test loss: 5.411590e-02  D: 6.946704e-01  D2: -8.232546e-03  D3: 1.076672e-02  D4: 1.281638e-02\n"
     ]
    },
    {
     "name": "stdout",
     "output_type": "stream",
     "text": [
      "[096/100]  test loss: 0.0527  D: 0.6960  D2: -0.0085  D3: 0.0116  D4: 0.01394\r"
     ]
    },
    {
     "name": "stderr",
     "output_type": "stream",
     "text": [
      "[default |INFO|model.py:2540] [73/80]  loss: 5.217442e-02  D: 6.944827e-01  D2: -8.242799e-03  D3: 1.208198e-02  D4: 1.441762e-02\n",
      "test loss: 5.272649e-02  D: 6.960446e-01  D2: -8.504696e-03  D3: 1.155644e-02  D4: 1.390671e-02\n"
     ]
    },
    {
     "name": "stdout",
     "output_type": "stream",
     "text": [
      "[096/100]  test loss: 0.0555  D: 0.6984  D2: -0.0081  D3: 0.0108  D4: 0.01325\r"
     ]
    },
    {
     "name": "stderr",
     "output_type": "stream",
     "text": [
      "[default |INFO|model.py:2540] [74/80]  loss: 5.173258e-02  D: 6.940216e-01  D2: -8.286670e-03  D3: 1.212755e-02  D4: 1.453966e-02\n",
      "test loss: 5.561982e-02  D: 6.984278e-01  D2: -8.152514e-03  D3: 1.082462e-02  D4: 1.322758e-02\n"
     ]
    },
    {
     "name": "stdout",
     "output_type": "stream",
     "text": [
      "[096/100]  test loss: 0.0529  D: 0.6913  D2: -0.0087  D3: 0.0131  D4: 0.01544\r"
     ]
    },
    {
     "name": "stderr",
     "output_type": "stream",
     "text": [
      "[default |INFO|model.py:2540] [75/80]  loss: 5.166350e-02  D: 6.934419e-01  D2: -8.345965e-03  D3: 1.200269e-02  D4: 1.441463e-02\n",
      "test loss: 5.292191e-02  D: 6.912414e-01  D2: -8.651400e-03  D3: 1.312166e-02  D4: 1.542898e-02\n"
     ]
    },
    {
     "name": "stdout",
     "output_type": "stream",
     "text": [
      "[096/100]  test loss: 0.0542  D: 0.6979  D2: -0.0085  D3: 0.0127  D4: 0.01501\r"
     ]
    },
    {
     "name": "stderr",
     "output_type": "stream",
     "text": [
      "[default |INFO|model.py:2540] [76/80]  loss: 5.464441e-02  D: 6.934622e-01  D2: -8.277013e-03  D3: 1.161430e-02  D4: 1.411407e-02\n",
      "test loss: 5.417902e-02  D: 6.978567e-01  D2: -8.539515e-03  D3: 1.263259e-02  D4: 1.497220e-02\n"
     ]
    },
    {
     "name": "stdout",
     "output_type": "stream",
     "text": [
      "[096/100]  test loss: 0.0545  D: 0.6928  D2: -0.0084  D3: 0.0131  D4: 0.01562\r"
     ]
    },
    {
     "name": "stderr",
     "output_type": "stream",
     "text": [
      "[default |INFO|model.py:2540] [77/80]  loss: 5.232556e-02  D: 6.935511e-01  D2: -8.420555e-03  D3: 1.190461e-02  D4: 1.423984e-02\n",
      "test loss: 5.451189e-02  D: 6.927810e-01  D2: -8.380480e-03  D3: 1.312117e-02  D4: 1.559412e-02\n"
     ]
    },
    {
     "name": "stdout",
     "output_type": "stream",
     "text": [
      "[096/100]  test loss: 0.0532  D: 0.6975  D2: -0.0083  D3: 0.0135  D4: 0.01584\r"
     ]
    },
    {
     "name": "stderr",
     "output_type": "stream",
     "text": [
      "[default |INFO|model.py:2540] [78/80]  loss: 5.202839e-02  D: 6.944336e-01  D2: -8.397005e-03  D3: 1.205001e-02  D4: 1.436843e-02\n",
      "test loss: 5.318754e-02  D: 6.975303e-01  D2: -8.329887e-03  D3: 1.348776e-02  D4: 1.581018e-02\n"
     ]
    },
    {
     "name": "stdout",
     "output_type": "stream",
     "text": [
      "[095/100]  test loss: 0.0543  D: 0.6779  D2: -0.0085  D3: 0.0131  D4: 0.01533\r"
     ]
    },
    {
     "name": "stderr",
     "output_type": "stream",
     "text": [
      "[default |INFO|model.py:2540] [79/80]  loss: 5.173451e-02  D: 6.945282e-01  D2: -8.470755e-03  D3: 1.189631e-02  D4: 1.427456e-02\n",
      "test loss: 5.439230e-02  D: 6.779268e-01  D2: -8.444147e-03  D3: 1.304486e-02  D4: 1.525161e-02\n"
     ]
    },
    {
     "name": "stdout",
     "output_type": "stream",
     "text": [
      "[096/100]  test loss: 0.0547  D: 0.6915  D2: -0.0086  D3: 0.0109  D4: 0.01323\r"
     ]
    },
    {
     "name": "stderr",
     "output_type": "stream",
     "text": [
      "[default |INFO|model.py:2540] [80/80]  loss: 5.217549e-02  D: 6.935416e-01  D2: -8.457845e-03  D3: 1.187041e-02  D4: 1.425553e-02\n",
      "test loss: 5.475400e-02  D: 6.915312e-01  D2: -8.647223e-03  D3: 1.089185e-02  D4: 1.321191e-02\n"
     ]
    },
    {
     "name": "stdout",
     "output_type": "stream",
     "text": [
      "[097/100]  test loss: 0.0547  D: 0.6915  D2: -0.0086  D3: 0.0109  D4: 0.0132\r",
      "[098/100]  test loss: 0.0547  D: 0.6915  D2: -0.0087  D3: 0.0109  D4: 0.0132\r",
      "[099/100]  test loss: 0.0547  D: 0.6915  D2: -0.0087  D3: 0.0109  D4: 0.0132\r",
      "[100/100]  test loss: 0.0548  D: 0.6915  D2: -0.0086  D3: 0.0109  D4: 0.0132\r"
     ]
    },
    {
     "name": "stderr",
     "output_type": "stream",
     "text": [
      "[default |INFO|model.py:2655] Training Finished!\n",
      "[default |INFO|model.py:2656] Elapsed time: 1645.073s\n"
     ]
    }
   ],
   "source": [
    "mm = cur_model(cfg, log, device = device)\n",
    "\n",
    "mm.gm.mu.load_state_dict(torch.load(f'./result/mu_{cfg[\"train_info\"][\"y_dim\"]}.pt'))\n",
    "mm.gm.cov.load_state_dict(torch.load(f'./result/cov_{cfg[\"train_info\"][\"y_dim\"]}.pt'))\n",
    "\n",
    "mm.train()\n",
    "# mm.load('./%s' % (cfg['path_info']['save_path']))"
   ]
  },
  {
   "cell_type": "markdown",
   "metadata": {},
   "source": [
    "# Train - 2"
   ]
  },
  {
   "cell_type": "code",
   "execution_count": 4,
   "metadata": {},
   "outputs": [
    {
     "name": "stderr",
     "output_type": "stream",
     "text": [
      "[default |INFO|_base_model.py:27] ------------------------------------------------------------\n",
      "[default |INFO|_base_model.py:29] model_name : SSWAE_HSIC_MNIST\n",
      "[default |INFO|_base_model.py:29] train_data : rmMNIST\n",
      "[default |INFO|_base_model.py:29] train_data_label : True\n",
      "[default |INFO|_base_model.py:29] z_sampler : gaus\n",
      "[default |INFO|_base_model.py:29] z_dim : 6\n",
      "[default |INFO|_base_model.py:29] y_sampler : gaus\n",
      "[default |INFO|_base_model.py:29] y_dim : 4\n",
      "[default |INFO|_base_model.py:29] labeled_class : 0,1,2,3,4,5,6,7,8,9\n",
      "[default |INFO|_base_model.py:29] unlabeled_class : \n",
      "[default |INFO|_base_model.py:29] test_class : \n",
      "[default |INFO|_base_model.py:29] portion : 1.0\n",
      "[default |INFO|_base_model.py:29] unk : False\n",
      "[default |INFO|_base_model.py:29] encoder_pretrain : False\n",
      "[default |INFO|_base_model.py:29] encoder_pretrain_step : 3\n",
      "[default |INFO|_base_model.py:29] lr : 5e-4\n",
      "[default |INFO|_base_model.py:29] beta1 : 0.5\n",
      "[default |INFO|_base_model.py:29] lr_adv : 2e-4\n",
      "[default |INFO|_base_model.py:29] beta1_adv : 0.5\n",
      "[default |INFO|_base_model.py:29] lambda : 10.0\n",
      "[default |INFO|_base_model.py:29] lambda_mmd : 10.0\n",
      "[default |INFO|_base_model.py:29] lambda_hsic : 10.0\n",
      "[default |INFO|_base_model.py:29] lr_schedule : manual\n",
      "[default |INFO|_base_model.py:29] validate : True\n",
      "[default |INFO|_base_model.py:29] histogram : True\n",
      "[default |INFO|_base_model.py:29] batch_size : 100\n",
      "[default |INFO|_base_model.py:29] epoch : 80\n",
      "[default |INFO|_base_model.py:29] replace : False\n",
      "[default |INFO|_base_model.py:29] save_best : False\n",
      "[default |INFO|_base_model.py:32] data_home : ./data/MNIST\n",
      "[default |INFO|_base_model.py:32] tb_logs : \n",
      "[default |INFO|_base_model.py:32] save_path : ./result/weights/sswae_dev2_hsic_7.pt\n",
      "[default |INFO|_base_model.py:32] save_state : ./result/states/sswae_dev2_hsic_7.pt\n",
      "[default |INFO|_base_model.py:32] save_img_path : \n",
      "[default |INFO|model.py:2419] ------------------------------------------------------------\n",
      "[default |INFO|model.py:2420] Training Start!\n"
     ]
    },
    {
     "name": "stdout",
     "output_type": "stream",
     "text": [
      "[096/100]  test loss: 0.1999  D: 0.6710  D2: 0.0071  D3: 0.0059  D4: 0.00796\r"
     ]
    },
    {
     "name": "stderr",
     "output_type": "stream",
     "text": [
      "[default |INFO|model.py:2540] [01/80]  loss: 2.524884e-01  D: 6.975391e-01  D2: 2.027682e-02  D3: 3.867541e-03  D4: 4.558660e-03\n",
      "test loss: 1.998298e-01  D: 6.710330e-01  D2: 7.010593e-03  D3: 5.895350e-03  D4: 7.924496e-03\n"
     ]
    },
    {
     "name": "stdout",
     "output_type": "stream",
     "text": [
      "[096/100]  test loss: 0.1615  D: 0.6715  D2: -0.0035  D3: 0.0085  D4: 0.0095\r"
     ]
    },
    {
     "name": "stderr",
     "output_type": "stream",
     "text": [
      "[default |INFO|model.py:2540] [02/80]  loss: 1.778722e-01  D: 6.938498e-01  D2: 1.465688e-03  D3: 6.725228e-03  D4: 8.058267e-03\n",
      "test loss: 1.615006e-01  D: 6.715508e-01  D2: -3.386688e-03  D3: 8.541288e-03  D4: 9.523842e-03\n"
     ]
    },
    {
     "name": "stdout",
     "output_type": "stream",
     "text": [
      "[096/100]  test loss: 0.1632  D: 0.7724  D2: -0.0029  D3: 0.0096  D4: 0.01372\r"
     ]
    },
    {
     "name": "stderr",
     "output_type": "stream",
     "text": [
      "[default |INFO|model.py:2540] [03/80]  loss: 1.562351e-01  D: 6.970752e-01  D2: -3.730437e-03  D3: 6.629947e-03  D4: 8.218183e-03\n",
      "test loss: 1.633999e-01  D: 7.724009e-01  D2: -2.873535e-03  D3: 9.543317e-03  D4: 1.368871e-02\n"
     ]
    },
    {
     "name": "stdout",
     "output_type": "stream",
     "text": [
      "[096/100]  test loss: 0.1257  D: 0.7018  D2: -0.0051  D3: 0.0096  D4: 0.01160\r"
     ]
    },
    {
     "name": "stderr",
     "output_type": "stream",
     "text": [
      "[default |INFO|model.py:2540] [04/80]  loss: 1.360440e-01  D: 6.978148e-01  D2: -4.333285e-03  D3: 8.949070e-03  D4: 1.100719e-02\n",
      "test loss: 1.260003e-01  D: 7.018264e-01  D2: -5.163565e-03  D3: 9.578039e-03  D4: 1.155608e-02\n"
     ]
    },
    {
     "name": "stdout",
     "output_type": "stream",
     "text": [
      "[096/100]  test loss: 0.1205  D: 0.6944  D2: -0.0038  D3: 0.0122  D4: 0.01513\r"
     ]
    },
    {
     "name": "stderr",
     "output_type": "stream",
     "text": [
      "[default |INFO|model.py:2540] [05/80]  loss: 1.243572e-01  D: 6.960101e-01  D2: -4.309425e-03  D3: 1.130865e-02  D4: 1.328435e-02\n",
      "test loss: 1.205064e-01  D: 6.944324e-01  D2: -3.836260e-03  D3: 1.223469e-02  D4: 1.505709e-02\n"
     ]
    },
    {
     "name": "stdout",
     "output_type": "stream",
     "text": [
      "[096/100]  test loss: 0.1114  D: 0.6977  D2: -0.0048  D3: 0.0123  D4: 0.01347\r"
     ]
    },
    {
     "name": "stderr",
     "output_type": "stream",
     "text": [
      "[default |INFO|model.py:2540] [06/80]  loss: 1.197635e-01  D: 7.010888e-01  D2: -4.249091e-03  D3: 1.238178e-02  D4: 1.472488e-02\n",
      "test loss: 1.114342e-01  D: 6.976713e-01  D2: -4.726219e-03  D3: 1.235725e-02  D4: 1.343113e-02\n"
     ]
    },
    {
     "name": "stdout",
     "output_type": "stream",
     "text": [
      "[096/100]  test loss: 0.1014  D: 0.6929  D2: -0.0040  D3: 0.0126  D4: 0.01382\r"
     ]
    },
    {
     "name": "stderr",
     "output_type": "stream",
     "text": [
      "[default |INFO|model.py:2540] [07/80]  loss: 1.060317e-01  D: 6.953666e-01  D2: -4.194128e-03  D3: 1.306956e-02  D4: 1.515516e-02\n",
      "test loss: 1.013445e-01  D: 6.928786e-01  D2: -4.170399e-03  D3: 1.256538e-02  D4: 1.378721e-02\n"
     ]
    },
    {
     "name": "stdout",
     "output_type": "stream",
     "text": [
      "[096/100]  test loss: 0.0911  D: 0.6823  D2: -0.0045  D3: 0.0139  D4: 0.01606\r"
     ]
    },
    {
     "name": "stderr",
     "output_type": "stream",
     "text": [
      "[default |INFO|model.py:2540] [08/80]  loss: 1.059980e-01  D: 6.996655e-01  D2: -4.646691e-03  D3: 1.540379e-02  D4: 1.755235e-02\n",
      "test loss: 9.117797e-02  D: 6.823353e-01  D2: -4.458389e-03  D3: 1.391060e-02  D4: 1.596029e-02\n"
     ]
    },
    {
     "name": "stdout",
     "output_type": "stream",
     "text": [
      "[096/100]  test loss: 0.0904  D: 0.6813  D2: -0.0052  D3: 0.0148  D4: 0.01678\r"
     ]
    },
    {
     "name": "stderr",
     "output_type": "stream",
     "text": [
      "[default |INFO|model.py:2540] [09/80]  loss: 9.141264e-02  D: 6.947244e-01  D2: -4.943328e-03  D3: 1.496477e-02  D4: 1.677513e-02\n",
      "test loss: 9.027902e-02  D: 6.813216e-01  D2: -5.208483e-03  D3: 1.481010e-02  D4: 1.676032e-02\n"
     ]
    },
    {
     "name": "stdout",
     "output_type": "stream",
     "text": [
      "[096/100]  test loss: 0.0866  D: 0.6912  D2: -0.0047  D3: 0.0139  D4: 0.01505\r"
     ]
    },
    {
     "name": "stderr",
     "output_type": "stream",
     "text": [
      "[default |INFO|model.py:2540] [10/80]  loss: 8.903812e-02  D: 6.935302e-01  D2: -4.681967e-03  D3: 1.559940e-02  D4: 1.753463e-02\n",
      "test loss: 8.654868e-02  D: 6.911858e-01  D2: -4.686937e-03  D3: 1.385673e-02  D4: 1.504492e-02\n"
     ]
    },
    {
     "name": "stdout",
     "output_type": "stream",
     "text": [
      "[096/100]  test loss: 0.0868  D: 0.7009  D2: -0.0042  D3: 0.0163  D4: 0.01815\r"
     ]
    },
    {
     "name": "stderr",
     "output_type": "stream",
     "text": [
      "[default |INFO|model.py:2540] [11/80]  loss: 8.508137e-02  D: 6.940023e-01  D2: -4.896555e-03  D3: 1.466572e-02  D4: 1.653573e-02\n",
      "test loss: 8.687964e-02  D: 7.009106e-01  D2: -4.209776e-03  D3: 1.619408e-02  D4: 1.805406e-02\n"
     ]
    },
    {
     "name": "stdout",
     "output_type": "stream",
     "text": [
      "[095/100]  test loss: 0.0848  D: 0.6673  D2: -0.0046  D3: 0.0161  D4: 0.01725\r"
     ]
    },
    {
     "name": "stderr",
     "output_type": "stream",
     "text": [
      "[default |INFO|model.py:2540] [12/80]  loss: 8.305010e-02  D: 6.947020e-01  D2: -4.877191e-03  D3: 1.449224e-02  D4: 1.646365e-02\n",
      "test loss: 8.488372e-02  D: 6.673006e-01  D2: -4.663067e-03  D3: 1.603455e-02  D4: 1.719524e-02\n"
     ]
    },
    {
     "name": "stdout",
     "output_type": "stream",
     "text": [
      "[096/100]  test loss: 0.0826  D: 0.6969  D2: -0.0057  D3: 0.0176  D4: 0.01862\r"
     ]
    },
    {
     "name": "stderr",
     "output_type": "stream",
     "text": [
      "[default |INFO|model.py:2540] [13/80]  loss: 8.284822e-02  D: 6.951409e-01  D2: -4.745569e-03  D3: 1.416477e-02  D4: 1.620725e-02\n",
      "test loss: 8.264459e-02  D: 6.968912e-01  D2: -5.634689e-03  D3: 1.767909e-02  D4: 1.870180e-02\n"
     ]
    },
    {
     "name": "stdout",
     "output_type": "stream",
     "text": [
      "[095/100]  test loss: 0.0777  D: 0.6906  D2: -0.0048  D3: 0.0120  D4: 0.01431\r"
     ]
    },
    {
     "name": "stderr",
     "output_type": "stream",
     "text": [
      "[default |INFO|model.py:2540] [14/80]  loss: 8.095197e-02  D: 6.953990e-01  D2: -5.168959e-03  D3: 1.398552e-02  D4: 1.610894e-02\n",
      "test loss: 7.782887e-02  D: 6.906137e-01  D2: -4.810781e-03  D3: 1.201818e-02  D4: 1.433379e-02\n"
     ]
    },
    {
     "name": "stdout",
     "output_type": "stream",
     "text": [
      "[096/100]  test loss: 0.0793  D: 0.7113  D2: -0.0050  D3: 0.0119  D4: 0.01437\r"
     ]
    },
    {
     "name": "stderr",
     "output_type": "stream",
     "text": [
      "[default |INFO|model.py:2540] [15/80]  loss: 8.432012e-02  D: 6.959993e-01  D2: -5.008814e-03  D3: 1.370459e-02  D4: 1.570573e-02\n",
      "test loss: 7.916254e-02  D: 7.113258e-01  D2: -5.161142e-03  D3: 1.194091e-02  D4: 1.434039e-02\n"
     ]
    },
    {
     "name": "stdout",
     "output_type": "stream",
     "text": [
      "[096/100]  test loss: 0.0864  D: 0.7185  D2: -0.0054  D3: 0.0156  D4: 0.01806\r"
     ]
    },
    {
     "name": "stderr",
     "output_type": "stream",
     "text": [
      "[default |INFO|model.py:2540] [16/80]  loss: 8.405005e-02  D: 6.968622e-01  D2: -5.195944e-03  D3: 1.251391e-02  D4: 1.458500e-02\n",
      "test loss: 8.646192e-02  D: 7.184821e-01  D2: -5.482178e-03  D3: 1.559835e-02  D4: 1.807251e-02\n"
     ]
    },
    {
     "name": "stdout",
     "output_type": "stream",
     "text": [
      "[096/100]  test loss: 0.0789  D: 0.7110  D2: -0.0057  D3: 0.0169  D4: 0.01929\r"
     ]
    },
    {
     "name": "stderr",
     "output_type": "stream",
     "text": [
      "[default |INFO|model.py:2540] [17/80]  loss: 8.364314e-02  D: 6.967359e-01  D2: -5.229379e-03  D3: 1.370955e-02  D4: 1.588947e-02\n",
      "test loss: 7.895322e-02  D: 7.109762e-01  D2: -5.473480e-03  D3: 1.696023e-02  D4: 1.921533e-02\n"
     ]
    },
    {
     "name": "stdout",
     "output_type": "stream",
     "text": [
      "[096/100]  test loss: 0.0801  D: 0.6861  D2: -0.0053  D3: 0.0115  D4: 0.01450\r"
     ]
    },
    {
     "name": "stderr",
     "output_type": "stream",
     "text": [
      "[default |INFO|model.py:2540] [18/80]  loss: 7.829242e-02  D: 6.944492e-01  D2: -5.404291e-03  D3: 1.374602e-02  D4: 1.600112e-02\n",
      "test loss: 8.018738e-02  D: 6.860797e-01  D2: -5.391731e-03  D3: 1.146737e-02  D4: 1.447244e-02\n"
     ]
    },
    {
     "name": "stdout",
     "output_type": "stream",
     "text": [
      "[096/100]  test loss: 0.0879  D: 0.6858  D2: -0.0049  D3: 0.0144  D4: 0.01621\r"
     ]
    },
    {
     "name": "stderr",
     "output_type": "stream",
     "text": [
      "[default |INFO|model.py:2540] [19/80]  loss: 8.229732e-02  D: 6.983872e-01  D2: -5.339047e-03  D3: 1.277264e-02  D4: 1.505031e-02\n",
      "test loss: 8.796987e-02  D: 6.857656e-01  D2: -4.880848e-03  D3: 1.434155e-02  D4: 1.623655e-02\n"
     ]
    },
    {
     "name": "stdout",
     "output_type": "stream",
     "text": [
      "[096/100]  test loss: 0.0838  D: 0.7140  D2: -0.0052  D3: 0.0181  D4: 0.02002\r"
     ]
    },
    {
     "name": "stderr",
     "output_type": "stream",
     "text": [
      "[default |INFO|model.py:2540] [20/80]  loss: 8.044839e-02  D: 6.942609e-01  D2: -5.516022e-03  D3: 1.315140e-02  D4: 1.522233e-02\n",
      "test loss: 8.383109e-02  D: 7.140203e-01  D2: -5.261517e-03  D3: 1.810337e-02  D4: 2.001512e-02\n"
     ]
    },
    {
     "name": "stdout",
     "output_type": "stream",
     "text": [
      "[096/100]  test loss: 0.0755  D: 0.6980  D2: -0.0062  D3: 0.0088  D4: 0.01071\r"
     ]
    },
    {
     "name": "stderr",
     "output_type": "stream",
     "text": [
      "[default |INFO|model.py:2540] [21/80]  loss: 7.894892e-02  D: 6.964322e-01  D2: -5.467052e-03  D3: 1.276611e-02  D4: 1.505153e-02\n",
      "test loss: 7.542448e-02  D: 6.980797e-01  D2: -6.101933e-03  D3: 8.781723e-03  D4: 1.066071e-02\n"
     ]
    },
    {
     "name": "stdout",
     "output_type": "stream",
     "text": [
      "[096/100]  test loss: 0.0745  D: 0.6676  D2: -0.0063  D3: 0.0131  D4: 0.01566\r"
     ]
    },
    {
     "name": "stderr",
     "output_type": "stream",
     "text": [
      "[default |INFO|model.py:2540] [22/80]  loss: 7.633429e-02  D: 6.966761e-01  D2: -5.692213e-03  D3: 1.327082e-02  D4: 1.555472e-02\n",
      "test loss: 7.454241e-02  D: 6.675767e-01  D2: -6.328526e-03  D3: 1.309391e-02  D4: 1.563742e-02\n"
     ]
    },
    {
     "name": "stdout",
     "output_type": "stream",
     "text": [
      "[096/100]  test loss: 0.0712  D: 0.7083  D2: -0.0061  D3: 0.0140  D4: 0.01684\r"
     ]
    },
    {
     "name": "stderr",
     "output_type": "stream",
     "text": [
      "[default |INFO|model.py:2540] [23/80]  loss: 7.403204e-02  D: 6.950539e-01  D2: -5.633896e-03  D3: 1.313591e-02  D4: 1.536125e-02\n",
      "test loss: 7.128822e-02  D: 7.082642e-01  D2: -6.077299e-03  D3: 1.405027e-02  D4: 1.679609e-02\n"
     ]
    },
    {
     "name": "stdout",
     "output_type": "stream",
     "text": [
      "[096/100]  test loss: 0.0722  D: 0.6826  D2: -0.0057  D3: 0.0134  D4: 0.01569\r"
     ]
    },
    {
     "name": "stderr",
     "output_type": "stream",
     "text": [
      "[default |INFO|model.py:2540] [24/80]  loss: 7.169112e-02  D: 6.941583e-01  D2: -5.864973e-03  D3: 1.349433e-02  D4: 1.588495e-02\n",
      "test loss: 7.208068e-02  D: 6.825607e-01  D2: -5.792542e-03  D3: 1.342698e-02  D4: 1.565603e-02\n"
     ]
    },
    {
     "name": "stdout",
     "output_type": "stream",
     "text": [
      "[096/100]  test loss: 0.0738  D: 0.7067  D2: -0.0059  D3: 0.0141  D4: 0.01647\r"
     ]
    },
    {
     "name": "stderr",
     "output_type": "stream",
     "text": [
      "[default |INFO|model.py:2540] [25/80]  loss: 7.088221e-02  D: 6.957002e-01  D2: -5.915476e-03  D3: 1.317668e-02  D4: 1.566963e-02\n",
      "test loss: 7.387628e-02  D: 7.067383e-01  D2: -5.881109e-03  D3: 1.415941e-02  D4: 1.638051e-02\n"
     ]
    },
    {
     "name": "stdout",
     "output_type": "stream",
     "text": [
      "[096/100]  test loss: 0.0683  D: 0.6768  D2: -0.0062  D3: 0.0115  D4: 0.01407\r"
     ]
    },
    {
     "name": "stderr",
     "output_type": "stream",
     "text": [
      "[default |INFO|model.py:2540] [26/80]  loss: 7.267500e-02  D: 6.958462e-01  D2: -5.990345e-03  D3: 1.323099e-02  D4: 1.565658e-02\n",
      "test loss: 6.842449e-02  D: 6.767845e-01  D2: -6.138296e-03  D3: 1.150060e-02  D4: 1.401424e-02\n"
     ]
    },
    {
     "name": "stdout",
     "output_type": "stream",
     "text": [
      "[096/100]  test loss: 0.0688  D: 0.6943  D2: -0.0062  D3: 0.0140  D4: 0.01636\r"
     ]
    },
    {
     "name": "stderr",
     "output_type": "stream",
     "text": [
      "[default |INFO|model.py:2540] [27/80]  loss: 7.029284e-02  D: 6.943577e-01  D2: -6.007202e-03  D3: 1.321131e-02  D4: 1.556268e-02\n",
      "test loss: 6.877782e-02  D: 6.942431e-01  D2: -6.178026e-03  D3: 1.403221e-02  D4: 1.632787e-02\n"
     ]
    },
    {
     "name": "stdout",
     "output_type": "stream",
     "text": [
      "[096/100]  test loss: 0.0723  D: 0.6909  D2: -0.0063  D3: 0.0105  D4: 0.01306\r"
     ]
    },
    {
     "name": "stderr",
     "output_type": "stream",
     "text": [
      "[default |INFO|model.py:2540] [28/80]  loss: 6.841295e-02  D: 6.954541e-01  D2: -6.104910e-03  D3: 1.302062e-02  D4: 1.560632e-02\n",
      "test loss: 7.238526e-02  D: 6.909351e-01  D2: -6.266680e-03  D3: 1.048829e-02  D4: 1.293553e-02\n"
     ]
    },
    {
     "name": "stdout",
     "output_type": "stream",
     "text": [
      "[096/100]  test loss: 0.0673  D: 0.6893  D2: -0.0068  D3: 0.0133  D4: 0.01609\r"
     ]
    },
    {
     "name": "stderr",
     "output_type": "stream",
     "text": [
      "[default |INFO|model.py:2540] [29/80]  loss: 6.917299e-02  D: 6.947915e-01  D2: -6.418873e-03  D3: 1.327626e-02  D4: 1.590086e-02\n",
      "test loss: 6.716944e-02  D: 6.893268e-01  D2: -6.829786e-03  D3: 1.329892e-02  D4: 1.604866e-02\n"
     ]
    },
    {
     "name": "stdout",
     "output_type": "stream",
     "text": [
      "[096/100]  test loss: 0.0661  D: 0.6816  D2: -0.0060  D3: 0.0141  D4: 0.01649\r"
     ]
    },
    {
     "name": "stderr",
     "output_type": "stream",
     "text": [
      "[default |INFO|model.py:2540] [30/80]  loss: 6.708690e-02  D: 6.938588e-01  D2: -6.331709e-03  D3: 1.340180e-02  D4: 1.592607e-02\n",
      "test loss: 6.622663e-02  D: 6.816106e-01  D2: -6.010036e-03  D3: 1.410295e-02  D4: 1.645669e-02\n"
     ]
    },
    {
     "name": "stdout",
     "output_type": "stream",
     "text": [
      "[096/100]  test loss: 0.0693  D: 0.6919  D2: -0.0057  D3: 0.0137  D4: 0.01617\r"
     ]
    },
    {
     "name": "stderr",
     "output_type": "stream",
     "text": [
      "[default |INFO|model.py:2540] [31/80]  loss: 6.822926e-02  D: 6.956133e-01  D2: -6.413891e-03  D3: 1.314274e-02  D4: 1.571749e-02\n",
      "test loss: 6.940158e-02  D: 6.919079e-01  D2: -5.554171e-03  D3: 1.377673e-02  D4: 1.610478e-02\n"
     ]
    },
    {
     "name": "stdout",
     "output_type": "stream",
     "text": [
      "[096/100]  test loss: 0.0673  D: 0.7142  D2: -0.0070  D3: 0.0144  D4: 0.01679\r"
     ]
    },
    {
     "name": "stderr",
     "output_type": "stream",
     "text": [
      "[default |INFO|model.py:2540] [32/80]  loss: 6.701668e-02  D: 6.945598e-01  D2: -6.475169e-03  D3: 1.327978e-02  D4: 1.589311e-02\n",
      "test loss: 6.734377e-02  D: 7.142339e-01  D2: -6.980133e-03  D3: 1.443005e-02  D4: 1.672703e-02\n"
     ]
    },
    {
     "name": "stdout",
     "output_type": "stream",
     "text": [
      "[096/100]  test loss: 0.0677  D: 0.7077  D2: -0.0065  D3: 0.0136  D4: 0.01619\r"
     ]
    },
    {
     "name": "stderr",
     "output_type": "stream",
     "text": [
      "[default |INFO|model.py:2540] [33/80]  loss: 6.602865e-02  D: 6.942175e-01  D2: -6.698167e-03  D3: 1.336345e-02  D4: 1.593595e-02\n",
      "test loss: 6.762797e-02  D: 7.076815e-01  D2: -6.470566e-03  D3: 1.363078e-02  D4: 1.608855e-02\n"
     ]
    },
    {
     "name": "stdout",
     "output_type": "stream",
     "text": [
      "[096/100]  test loss: 0.0670  D: 0.6863  D2: -0.0067  D3: 0.0128  D4: 0.01548\r"
     ]
    },
    {
     "name": "stderr",
     "output_type": "stream",
     "text": [
      "[default |INFO|model.py:2540] [34/80]  loss: 6.640023e-02  D: 6.941528e-01  D2: -6.557172e-03  D3: 1.318026e-02  D4: 1.578529e-02\n",
      "test loss: 6.692563e-02  D: 6.863301e-01  D2: -6.560564e-03  D3: 1.285248e-02  D4: 1.542038e-02\n"
     ]
    },
    {
     "name": "stdout",
     "output_type": "stream",
     "text": [
      "[094/100]  test loss: 0.0679  D: 0.6976  D2: -0.0068  D3: 0.0132  D4: 0.01598\r"
     ]
    },
    {
     "name": "stderr",
     "output_type": "stream",
     "text": [
      "[default |INFO|model.py:2540] [35/80]  loss: 6.525991e-02  D: 6.947489e-01  D2: -6.978691e-03  D3: 1.320171e-02  D4: 1.579917e-02\n",
      "test loss: 6.802369e-02  D: 6.976184e-01  D2: -6.805830e-03  D3: 1.320843e-02  D4: 1.591500e-02\n"
     ]
    },
    {
     "name": "stdout",
     "output_type": "stream",
     "text": [
      "[096/100]  test loss: 0.0652  D: 0.6903  D2: -0.0072  D3: 0.0137  D4: 0.01648\r"
     ]
    },
    {
     "name": "stderr",
     "output_type": "stream",
     "text": [
      "[default |INFO|model.py:2540] [36/80]  loss: 6.420875e-02  D: 6.943181e-01  D2: -6.838447e-03  D3: 1.308664e-02  D4: 1.579200e-02\n",
      "test loss: 6.519629e-02  D: 6.903510e-01  D2: -7.142830e-03  D3: 1.364913e-02  D4: 1.639658e-02\n"
     ]
    },
    {
     "name": "stdout",
     "output_type": "stream",
     "text": [
      "[096/100]  test loss: 0.0666  D: 0.6866  D2: -0.0074  D3: 0.0119  D4: 0.01448\r"
     ]
    },
    {
     "name": "stderr",
     "output_type": "stream",
     "text": [
      "[default |INFO|model.py:2540] [37/80]  loss: 6.409069e-02  D: 6.943310e-01  D2: -7.074984e-03  D3: 1.317645e-02  D4: 1.576202e-02\n",
      "test loss: 6.652728e-02  D: 6.866123e-01  D2: -7.336550e-03  D3: 1.184422e-02  D4: 1.441384e-02\n"
     ]
    },
    {
     "name": "stdout",
     "output_type": "stream",
     "text": [
      "[094/100]  test loss: 0.0674  D: 0.7115  D2: -0.0075  D3: 0.0148  D4: 0.01705\r"
     ]
    },
    {
     "name": "stderr",
     "output_type": "stream",
     "text": [
      "[default |INFO|model.py:2540] [38/80]  loss: 6.429326e-02  D: 6.940870e-01  D2: -7.093186e-03  D3: 1.289440e-02  D4: 1.552470e-02\n",
      "test loss: 6.736314e-02  D: 7.115142e-01  D2: -7.537374e-03  D3: 1.485211e-02  D4: 1.705214e-02\n"
     ]
    },
    {
     "name": "stdout",
     "output_type": "stream",
     "text": [
      "[096/100]  test loss: 0.0665  D: 0.6852  D2: -0.0070  D3: 0.0136  D4: 0.01614\r"
     ]
    },
    {
     "name": "stderr",
     "output_type": "stream",
     "text": [
      "[default |INFO|model.py:2540] [39/80]  loss: 6.533374e-02  D: 6.958274e-01  D2: -7.304339e-03  D3: 1.260354e-02  D4: 1.535721e-02\n",
      "test loss: 6.636272e-02  D: 6.852432e-01  D2: -6.976624e-03  D3: 1.356005e-02  D4: 1.611623e-02\n"
     ]
    },
    {
     "name": "stdout",
     "output_type": "stream",
     "text": [
      "[096/100]  test loss: 0.0679  D: 0.6995  D2: -0.0077  D3: 0.0122  D4: 0.01476\r"
     ]
    },
    {
     "name": "stderr",
     "output_type": "stream",
     "text": [
      "[default |INFO|model.py:2540] [40/80]  loss: 6.561546e-02  D: 6.948174e-01  D2: -7.261632e-03  D3: 1.284694e-02  D4: 1.559415e-02\n",
      "test loss: 6.786646e-02  D: 6.994734e-01  D2: -7.704449e-03  D3: 1.213957e-02  D4: 1.465706e-02\n"
     ]
    },
    {
     "name": "stdout",
     "output_type": "stream",
     "text": [
      "[096/100]  test loss: 0.0639  D: 0.7069  D2: -0.0078  D3: 0.0134  D4: 0.01607\r"
     ]
    },
    {
     "name": "stderr",
     "output_type": "stream",
     "text": [
      "[default |INFO|model.py:2540] [41/80]  loss: 6.457585e-02  D: 6.945014e-01  D2: -7.372667e-03  D3: 1.298037e-02  D4: 1.567950e-02\n",
      "test loss: 6.386313e-02  D: 7.069642e-01  D2: -7.774649e-03  D3: 1.337709e-02  D4: 1.594651e-02\n"
     ]
    },
    {
     "name": "stdout",
     "output_type": "stream",
     "text": [
      "[096/100]  test loss: 0.0691  D: 0.6894  D2: -0.0075  D3: 0.0131  D4: 0.01564\r"
     ]
    },
    {
     "name": "stderr",
     "output_type": "stream",
     "text": [
      "[default |INFO|model.py:2540] [42/80]  loss: 6.483830e-02  D: 6.941813e-01  D2: -7.328547e-03  D3: 1.259953e-02  D4: 1.538010e-02\n",
      "test loss: 6.909203e-02  D: 6.894806e-01  D2: -7.511148e-03  D3: 1.311006e-02  D4: 1.562340e-02\n"
     ]
    },
    {
     "name": "stdout",
     "output_type": "stream",
     "text": [
      "[096/100]  test loss: 0.0673  D: 0.7104  D2: -0.0076  D3: 0.0126  D4: 0.01544\r"
     ]
    },
    {
     "name": "stderr",
     "output_type": "stream",
     "text": [
      "[default |INFO|model.py:2540] [43/80]  loss: 6.604756e-02  D: 6.945947e-01  D2: -7.532942e-03  D3: 1.262954e-02  D4: 1.536392e-02\n",
      "test loss: 6.719710e-02  D: 7.103225e-01  D2: -7.542677e-03  D3: 1.256572e-02  D4: 1.535586e-02\n"
     ]
    },
    {
     "name": "stdout",
     "output_type": "stream",
     "text": [
      "[096/100]  test loss: 0.0647  D: 0.6871  D2: -0.0081  D3: 0.0119  D4: 0.01465\r"
     ]
    },
    {
     "name": "stderr",
     "output_type": "stream",
     "text": [
      "[default |INFO|model.py:2540] [44/80]  loss: 6.379185e-02  D: 6.937929e-01  D2: -7.427281e-03  D3: 1.279647e-02  D4: 1.550942e-02\n",
      "test loss: 6.457088e-02  D: 6.871426e-01  D2: -8.121462e-03  D3: 1.186380e-02  D4: 1.459904e-02\n"
     ]
    },
    {
     "name": "stdout",
     "output_type": "stream",
     "text": [
      "[095/100]  test loss: 0.0726  D: 0.7263  D2: -0.0069  D3: 0.0136  D4: 0.01625\r"
     ]
    },
    {
     "name": "stderr",
     "output_type": "stream",
     "text": [
      "[default |INFO|model.py:2540] [45/80]  loss: 6.442979e-02  D: 6.945384e-01  D2: -7.499363e-03  D3: 1.266389e-02  D4: 1.546795e-02\n",
      "test loss: 7.273925e-02  D: 7.262487e-01  D2: -6.897821e-03  D3: 1.361125e-02  D4: 1.624233e-02\n"
     ]
    },
    {
     "name": "stdout",
     "output_type": "stream",
     "text": [
      "[096/100]  test loss: 0.0651  D: 0.6914  D2: -0.0079  D3: 0.0118  D4: 0.01475\r"
     ]
    },
    {
     "name": "stderr",
     "output_type": "stream",
     "text": [
      "[default |INFO|model.py:2540] [46/80]  loss: 6.481813e-02  D: 6.950978e-01  D2: -7.552714e-03  D3: 1.275815e-02  D4: 1.554383e-02\n",
      "test loss: 6.503719e-02  D: 6.913758e-01  D2: -7.885447e-03  D3: 1.178879e-02  D4: 1.472904e-02\n"
     ]
    },
    {
     "name": "stdout",
     "output_type": "stream",
     "text": [
      "[096/100]  test loss: 0.0664  D: 0.6925  D2: -0.0080  D3: 0.0122  D4: 0.01490\r"
     ]
    },
    {
     "name": "stderr",
     "output_type": "stream",
     "text": [
      "[default |INFO|model.py:2540] [47/80]  loss: 6.481273e-02  D: 6.949911e-01  D2: -7.781250e-03  D3: 1.225612e-02  D4: 1.501491e-02\n",
      "test loss: 6.643272e-02  D: 6.924306e-01  D2: -7.987566e-03  D3: 1.217062e-02  D4: 1.492859e-02\n"
     ]
    },
    {
     "name": "stdout",
     "output_type": "stream",
     "text": [
      "[095/100]  test loss: 0.0644  D: 0.6915  D2: -0.0079  D3: 0.0110  D4: 0.01395\r"
     ]
    },
    {
     "name": "stderr",
     "output_type": "stream",
     "text": [
      "[default |INFO|model.py:2540] [48/80]  loss: 6.404470e-02  D: 6.947043e-01  D2: -7.746437e-03  D3: 1.262634e-02  D4: 1.549012e-02\n",
      "test loss: 6.454599e-02  D: 6.914705e-01  D2: -7.849770e-03  D3: 1.107063e-02  D4: 1.394015e-02\n"
     ]
    },
    {
     "name": "stdout",
     "output_type": "stream",
     "text": [
      "[096/100]  test loss: 0.0670  D: 0.6676  D2: -0.0080  D3: 0.0115  D4: 0.01460\r"
     ]
    },
    {
     "name": "stderr",
     "output_type": "stream",
     "text": [
      "[default |INFO|model.py:2540] [49/80]  loss: 6.402748e-02  D: 6.933755e-01  D2: -7.816297e-03  D3: 1.223495e-02  D4: 1.504793e-02\n",
      "test loss: 6.708651e-02  D: 6.675602e-01  D2: -8.053703e-03  D3: 1.148204e-02  D4: 1.459937e-02\n"
     ]
    },
    {
     "name": "stdout",
     "output_type": "stream",
     "text": [
      "[096/100]  test loss: 0.0651  D: 0.6784  D2: -0.0082  D3: 0.0123  D4: 0.01493\r"
     ]
    },
    {
     "name": "stderr",
     "output_type": "stream",
     "text": [
      "[default |INFO|model.py:2540] [50/80]  loss: 6.443262e-02  D: 6.953005e-01  D2: -7.933002e-03  D3: 1.240659e-02  D4: 1.531069e-02\n",
      "test loss: 6.530989e-02  D: 6.783685e-01  D2: -8.194628e-03  D3: 1.237166e-02  D4: 1.489511e-02\n"
     ]
    },
    {
     "name": "stdout",
     "output_type": "stream",
     "text": [
      "[096/100]  test loss: 0.0628  D: 0.6956  D2: -0.0082  D3: 0.0130  D4: 0.01585\r"
     ]
    },
    {
     "name": "stderr",
     "output_type": "stream",
     "text": [
      "[default |INFO|model.py:2540] [51/80]  loss: 6.362357e-02  D: 6.946924e-01  D2: -7.923365e-03  D3: 1.257262e-02  D4: 1.547451e-02\n",
      "test loss: 6.275039e-02  D: 6.955852e-01  D2: -8.127146e-03  D3: 1.307684e-02  D4: 1.581105e-02\n"
     ]
    },
    {
     "name": "stdout",
     "output_type": "stream",
     "text": [
      "[096/100]  test loss: 0.0655  D: 0.6928  D2: -0.0080  D3: 0.0111  D4: 0.01403\r"
     ]
    },
    {
     "name": "stderr",
     "output_type": "stream",
     "text": [
      "[default |INFO|model.py:2540] [52/80]  loss: 6.343301e-02  D: 6.940901e-01  D2: -8.020611e-03  D3: 1.248004e-02  D4: 1.527652e-02\n",
      "test loss: 6.556578e-02  D: 6.927920e-01  D2: -8.054485e-03  D3: 1.105978e-02  D4: 1.396732e-02\n"
     ]
    },
    {
     "name": "stdout",
     "output_type": "stream",
     "text": [
      "[095/100]  test loss: 0.0637  D: 0.7238  D2: -0.0083  D3: 0.0129  D4: 0.01560\r"
     ]
    },
    {
     "name": "stderr",
     "output_type": "stream",
     "text": [
      "[default |INFO|model.py:2540] [53/80]  loss: 6.425143e-02  D: 6.957027e-01  D2: -7.985972e-03  D3: 1.224482e-02  D4: 1.497282e-02\n",
      "test loss: 6.376862e-02  D: 7.237922e-01  D2: -8.335485e-03  D3: 1.291460e-02  D4: 1.566799e-02\n"
     ]
    },
    {
     "name": "stdout",
     "output_type": "stream",
     "text": [
      "[096/100]  test loss: 0.0644  D: 0.6852  D2: -0.0083  D3: 0.0121  D4: 0.01512\r"
     ]
    },
    {
     "name": "stderr",
     "output_type": "stream",
     "text": [
      "[default |INFO|model.py:2540] [54/80]  loss: 6.289906e-02  D: 6.953666e-01  D2: -8.057359e-03  D3: 1.240006e-02  D4: 1.521259e-02\n",
      "test loss: 6.439426e-02  D: 6.851713e-01  D2: -8.294287e-03  D3: 1.209911e-02  D4: 1.506464e-02\n"
     ]
    },
    {
     "name": "stdout",
     "output_type": "stream",
     "text": [
      "[096/100]  test loss: 0.0647  D: 0.6797  D2: -0.0087  D3: 0.0132  D4: 0.01613\r"
     ]
    },
    {
     "name": "stderr",
     "output_type": "stream",
     "text": [
      "[default |INFO|model.py:2540] [55/80]  loss: 6.285135e-02  D: 6.949257e-01  D2: -8.109784e-03  D3: 1.245128e-02  D4: 1.526257e-02\n",
      "test loss: 6.496535e-02  D: 6.796815e-01  D2: -8.664837e-03  D3: 1.321489e-02  D4: 1.604486e-02\n"
     ]
    },
    {
     "name": "stdout",
     "output_type": "stream",
     "text": [
      "[096/100]  test loss: 0.0625  D: 0.6924  D2: -0.0085  D3: 0.0129  D4: 0.01553\r"
     ]
    },
    {
     "name": "stderr",
     "output_type": "stream",
     "text": [
      "[default |INFO|model.py:2540] [56/80]  loss: 6.255209e-02  D: 6.945182e-01  D2: -8.249046e-03  D3: 1.259307e-02  D4: 1.532343e-02\n",
      "test loss: 6.261585e-02  D: 6.923897e-01  D2: -8.474140e-03  D3: 1.290970e-02  D4: 1.544234e-02\n"
     ]
    },
    {
     "name": "stdout",
     "output_type": "stream",
     "text": [
      "[096/100]  test loss: 0.0638  D: 0.6913  D2: -0.0085  D3: 0.0115  D4: 0.01394\r"
     ]
    },
    {
     "name": "stderr",
     "output_type": "stream",
     "text": [
      "[default |INFO|model.py:2540] [57/80]  loss: 6.130054e-02  D: 6.938024e-01  D2: -8.180558e-03  D3: 1.268990e-02  D4: 1.540726e-02\n",
      "test loss: 6.382863e-02  D: 6.912898e-01  D2: -8.500404e-03  D3: 1.150363e-02  D4: 1.387449e-02\n"
     ]
    },
    {
     "name": "stdout",
     "output_type": "stream",
     "text": [
      "[096/100]  test loss: 0.0634  D: 0.7011  D2: -0.0085  D3: 0.0128  D4: 0.01523\r"
     ]
    },
    {
     "name": "stderr",
     "output_type": "stream",
     "text": [
      "[default |INFO|model.py:2540] [58/80]  loss: 6.228288e-02  D: 6.939449e-01  D2: -8.241545e-03  D3: 1.262833e-02  D4: 1.525107e-02\n",
      "test loss: 6.336969e-02  D: 7.011488e-01  D2: -8.546858e-03  D3: 1.279847e-02  D4: 1.525539e-02\n"
     ]
    },
    {
     "name": "stdout",
     "output_type": "stream",
     "text": [
      "[096/100]  test loss: 0.0605  D: 0.7064  D2: -0.0081  D3: 0.0123  D4: 0.01542\r"
     ]
    },
    {
     "name": "stderr",
     "output_type": "stream",
     "text": [
      "[default |INFO|model.py:2540] [59/80]  loss: 6.100137e-02  D: 6.942445e-01  D2: -8.331908e-03  D3: 1.254270e-02  D4: 1.517789e-02\n",
      "test loss: 6.057312e-02  D: 7.063815e-01  D2: -8.144751e-03  D3: 1.229842e-02  D4: 1.544002e-02\n"
     ]
    },
    {
     "name": "stdout",
     "output_type": "stream",
     "text": [
      "[096/100]  test loss: 0.0619  D: 0.7160  D2: -0.0084  D3: 0.0122  D4: 0.01485\r"
     ]
    },
    {
     "name": "stderr",
     "output_type": "stream",
     "text": [
      "[default |INFO|model.py:2540] [60/80]  loss: 6.031248e-02  D: 6.935495e-01  D2: -8.335964e-03  D3: 1.273078e-02  D4: 1.547201e-02\n",
      "test loss: 6.190217e-02  D: 7.160195e-01  D2: -8.306942e-03  D3: 1.225118e-02  D4: 1.477404e-02\n"
     ]
    },
    {
     "name": "stdout",
     "output_type": "stream",
     "text": [
      "[096/100]  test loss: 0.0616  D: 0.6860  D2: -0.0085  D3: 0.0129  D4: 0.01563\r"
     ]
    },
    {
     "name": "stderr",
     "output_type": "stream",
     "text": [
      "[default |INFO|model.py:2540] [61/80]  loss: 6.077822e-02  D: 6.938743e-01  D2: -8.396808e-03  D3: 1.262559e-02  D4: 1.532079e-02\n",
      "test loss: 6.166695e-02  D: 6.860233e-01  D2: -8.558035e-03  D3: 1.287040e-02  D4: 1.560920e-02\n"
     ]
    },
    {
     "name": "stdout",
     "output_type": "stream",
     "text": [
      "[096/100]  test loss: 0.0640  D: 0.7095  D2: -0.0085  D3: 0.0126  D4: 0.01562\r"
     ]
    },
    {
     "name": "stderr",
     "output_type": "stream",
     "text": [
      "[default |INFO|model.py:2540] [62/80]  loss: 6.153161e-02  D: 6.949356e-01  D2: -8.457112e-03  D3: 1.251684e-02  D4: 1.517069e-02\n",
      "test loss: 6.392892e-02  D: 7.095102e-01  D2: -8.533735e-03  D3: 1.261919e-02  D4: 1.553171e-02\n"
     ]
    },
    {
     "name": "stdout",
     "output_type": "stream",
     "text": [
      "[096/100]  test loss: 0.0639  D: 0.6995  D2: -0.0088  D3: 0.0122  D4: 0.01481\r"
     ]
    },
    {
     "name": "stderr",
     "output_type": "stream",
     "text": [
      "[default |INFO|model.py:2540] [63/80]  loss: 6.080567e-02  D: 6.930396e-01  D2: -8.419121e-03  D3: 1.242316e-02  D4: 1.512065e-02\n",
      "test loss: 6.390859e-02  D: 6.995462e-01  D2: -8.764324e-03  D3: 1.224451e-02  D4: 1.479667e-02\n"
     ]
    },
    {
     "name": "stdout",
     "output_type": "stream",
     "text": [
      "[095/100]  test loss: 0.0629  D: 0.6923  D2: -0.0085  D3: 0.0120  D4: 0.01464\r"
     ]
    },
    {
     "name": "stderr",
     "output_type": "stream",
     "text": [
      "[default |INFO|model.py:2540] [64/80]  loss: 6.031725e-02  D: 6.937534e-01  D2: -8.531284e-03  D3: 1.262334e-02  D4: 1.538294e-02\n",
      "test loss: 6.302532e-02  D: 6.923172e-01  D2: -8.500757e-03  D3: 1.199725e-02  D4: 1.466054e-02\n"
     ]
    },
    {
     "name": "stdout",
     "output_type": "stream",
     "text": [
      "[096/100]  test loss: 0.0626  D: 0.7170  D2: -0.0086  D3: 0.0134  D4: 0.01623\r"
     ]
    },
    {
     "name": "stderr",
     "output_type": "stream",
     "text": [
      "[default |INFO|model.py:2540] [65/80]  loss: 6.000774e-02  D: 6.944783e-01  D2: -8.538888e-03  D3: 1.246733e-02  D4: 1.526997e-02\n",
      "test loss: 6.265250e-02  D: 7.170063e-01  D2: -8.578329e-03  D3: 1.342361e-02  D4: 1.619012e-02\n"
     ]
    },
    {
     "name": "stdout",
     "output_type": "stream",
     "text": [
      "[096/100]  test loss: 0.0652  D: 0.6927  D2: -0.0086  D3: 0.0113  D4: 0.01392\r"
     ]
    },
    {
     "name": "stderr",
     "output_type": "stream",
     "text": [
      "[default |INFO|model.py:2540] [66/80]  loss: 6.076635e-02  D: 6.940111e-01  D2: -8.474291e-03  D3: 1.237162e-02  D4: 1.517767e-02\n",
      "test loss: 6.527029e-02  D: 6.926541e-01  D2: -8.591223e-03  D3: 1.130155e-02  D4: 1.397301e-02\n"
     ]
    },
    {
     "name": "stdout",
     "output_type": "stream",
     "text": [
      "[096/100]  test loss: 0.0659  D: 0.6955  D2: -0.0085  D3: 0.0111  D4: 0.01361\r"
     ]
    },
    {
     "name": "stderr",
     "output_type": "stream",
     "text": [
      "[default |INFO|model.py:2540] [67/80]  loss: 6.042071e-02  D: 6.931227e-01  D2: -8.631210e-03  D3: 1.230810e-02  D4: 1.510439e-02\n",
      "test loss: 6.584769e-02  D: 6.954915e-01  D2: -8.486395e-03  D3: 1.105931e-02  D4: 1.362482e-02\n"
     ]
    },
    {
     "name": "stdout",
     "output_type": "stream",
     "text": [
      "[096/100]  test loss: 0.0620  D: 0.6955  D2: -0.0088  D3: 0.0130  D4: 0.01571\r"
     ]
    },
    {
     "name": "stderr",
     "output_type": "stream",
     "text": [
      "[default |INFO|model.py:2540] [68/80]  loss: 6.044163e-02  D: 6.947198e-01  D2: -8.734180e-03  D3: 1.221351e-02  D4: 1.505942e-02\n",
      "test loss: 6.198859e-02  D: 6.954398e-01  D2: -8.823366e-03  D3: 1.291533e-02  D4: 1.571003e-02\n"
     ]
    },
    {
     "name": "stdout",
     "output_type": "stream",
     "text": [
      "[096/100]  test loss: 0.0629  D: 0.7028  D2: -0.0086  D3: 0.0131  D4: 0.01591\r"
     ]
    },
    {
     "name": "stderr",
     "output_type": "stream",
     "text": [
      "[default |INFO|model.py:2540] [69/80]  loss: 6.087965e-02  D: 6.935929e-01  D2: -8.564665e-03  D3: 1.216949e-02  D4: 1.508587e-02\n",
      "test loss: 6.293222e-02  D: 7.028306e-01  D2: -8.604994e-03  D3: 1.306635e-02  D4: 1.593869e-02\n"
     ]
    },
    {
     "name": "stdout",
     "output_type": "stream",
     "text": [
      "[096/100]  test loss: 0.0613  D: 0.6982  D2: -0.0087  D3: 0.0120  D4: 0.01502\r"
     ]
    },
    {
     "name": "stderr",
     "output_type": "stream",
     "text": [
      "[default |INFO|model.py:2540] [70/80]  loss: 5.972590e-02  D: 6.938413e-01  D2: -8.654364e-03  D3: 1.234270e-02  D4: 1.515917e-02\n",
      "test loss: 6.154848e-02  D: 6.981655e-01  D2: -8.692980e-03  D3: 1.203095e-02  D4: 1.505349e-02\n"
     ]
    },
    {
     "name": "stdout",
     "output_type": "stream",
     "text": [
      "[096/100]  test loss: 0.0626  D: 0.6866  D2: -0.0088  D3: 0.0125  D4: 0.01506\r"
     ]
    },
    {
     "name": "stderr",
     "output_type": "stream",
     "text": [
      "[default |INFO|model.py:2540] [71/80]  loss: 6.146639e-02  D: 6.942031e-01  D2: -8.735801e-03  D3: 1.193143e-02  D4: 1.464549e-02\n",
      "test loss: 6.250588e-02  D: 6.865942e-01  D2: -8.871326e-03  D3: 1.252765e-02  D4: 1.506530e-02\n"
     ]
    },
    {
     "name": "stdout",
     "output_type": "stream",
     "text": [
      "[095/100]  test loss: 0.0625  D: 0.6973  D2: -0.0085  D3: 0.0112  D4: 0.01401\r"
     ]
    },
    {
     "name": "stderr",
     "output_type": "stream",
     "text": [
      "[default |INFO|model.py:2540] [72/80]  loss: 6.029479e-02  D: 6.946963e-01  D2: -8.757016e-03  D3: 1.237611e-02  D4: 1.514291e-02\n",
      "test loss: 6.236206e-02  D: 6.972583e-01  D2: -8.475943e-03  D3: 1.115983e-02  D4: 1.397706e-02\n"
     ]
    },
    {
     "name": "stdout",
     "output_type": "stream",
     "text": [
      "[095/100]  test loss: 0.0626  D: 0.6783  D2: -0.0090  D3: 0.0126  D4: 0.01532\r"
     ]
    },
    {
     "name": "stderr",
     "output_type": "stream",
     "text": [
      "[default |INFO|model.py:2540] [73/80]  loss: 6.022470e-02  D: 6.940954e-01  D2: -8.734857e-03  D3: 1.236350e-02  D4: 1.516349e-02\n",
      "test loss: 6.264877e-02  D: 6.783288e-01  D2: -9.074917e-03  D3: 1.255053e-02  D4: 1.526648e-02\n"
     ]
    },
    {
     "name": "stdout",
     "output_type": "stream",
     "text": [
      "[096/100]  test loss: 0.0619  D: 0.6885  D2: -0.0089  D3: 0.0122  D4: 0.01480\r"
     ]
    },
    {
     "name": "stderr",
     "output_type": "stream",
     "text": [
      "[default |INFO|model.py:2540] [74/80]  loss: 6.028874e-02  D: 6.940154e-01  D2: -8.753220e-03  D3: 1.223258e-02  D4: 1.497666e-02\n",
      "test loss: 6.194161e-02  D: 6.884812e-01  D2: -8.922358e-03  D3: 1.227037e-02  D4: 1.485306e-02\n"
     ]
    },
    {
     "name": "stdout",
     "output_type": "stream",
     "text": [
      "[096/100]  test loss: 0.0612  D: 0.7018  D2: -0.0089  D3: 0.0130  D4: 0.01563\r"
     ]
    },
    {
     "name": "stderr",
     "output_type": "stream",
     "text": [
      "[default |INFO|model.py:2540] [75/80]  loss: 5.964054e-02  D: 6.937222e-01  D2: -8.751435e-03  D3: 1.242858e-02  D4: 1.525945e-02\n",
      "test loss: 6.135700e-02  D: 7.018011e-01  D2: -8.878183e-03  D3: 1.297589e-02  D4: 1.560370e-02\n"
     ]
    },
    {
     "name": "stdout",
     "output_type": "stream",
     "text": [
      "[095/100]  test loss: 0.0615  D: 0.6777  D2: -0.0086  D3: 0.0127  D4: 0.01542\r"
     ]
    },
    {
     "name": "stderr",
     "output_type": "stream",
     "text": [
      "[default |INFO|model.py:2540] [76/80]  loss: 5.958430e-02  D: 6.945337e-01  D2: -8.874985e-03  D3: 1.236625e-02  D4: 1.517491e-02\n",
      "test loss: 6.151827e-02  D: 6.776888e-01  D2: -8.560123e-03  D3: 1.270524e-02  D4: 1.541550e-02\n"
     ]
    },
    {
     "name": "stdout",
     "output_type": "stream",
     "text": [
      "[096/100]  test loss: 0.0612  D: 0.6961  D2: -0.0090  D3: 0.0124  D4: 0.01498\r"
     ]
    },
    {
     "name": "stderr",
     "output_type": "stream",
     "text": [
      "[default |INFO|model.py:2540] [77/80]  loss: 5.996559e-02  D: 6.948571e-01  D2: -8.826269e-03  D3: 1.203437e-02  D4: 1.484218e-02\n",
      "test loss: 6.106965e-02  D: 6.961108e-01  D2: -8.986578e-03  D3: 1.238723e-02  D4: 1.494798e-02\n"
     ]
    },
    {
     "name": "stdout",
     "output_type": "stream",
     "text": [
      "[096/100]  test loss: 0.0622  D: 0.7007  D2: -0.0092  D3: 0.0113  D4: 0.01420\r"
     ]
    },
    {
     "name": "stderr",
     "output_type": "stream",
     "text": [
      "[default |INFO|model.py:2540] [78/80]  loss: 5.932000e-02  D: 6.940674e-01  D2: -8.817852e-03  D3: 1.226101e-02  D4: 1.501856e-02\n",
      "test loss: 6.221620e-02  D: 7.006808e-01  D2: -9.167423e-03  D3: 1.129718e-02  D4: 1.416501e-02\n"
     ]
    },
    {
     "name": "stdout",
     "output_type": "stream",
     "text": [
      "[096/100]  test loss: 0.0637  D: 0.7044  D2: -0.0091  D3: 0.0128  D4: 0.01569\r"
     ]
    },
    {
     "name": "stderr",
     "output_type": "stream",
     "text": [
      "[default |INFO|model.py:2540] [79/80]  loss: 5.998228e-02  D: 6.946191e-01  D2: -8.884834e-03  D3: 1.216320e-02  D4: 1.492872e-02\n",
      "test loss: 6.384490e-02  D: 7.042983e-01  D2: -9.098253e-03  D3: 1.282196e-02  D4: 1.555488e-02\n"
     ]
    },
    {
     "name": "stdout",
     "output_type": "stream",
     "text": [
      "[096/100]  test loss: 0.0615  D: 0.6966  D2: -0.0089  D3: 0.0126  D4: 0.01560\r"
     ]
    },
    {
     "name": "stderr",
     "output_type": "stream",
     "text": [
      "[default |INFO|model.py:2540] [80/80]  loss: 6.003184e-02  D: 6.939605e-01  D2: -8.930559e-03  D3: 1.219546e-02  D4: 1.498633e-02\n",
      "test loss: 6.144965e-02  D: 6.965632e-01  D2: -8.904657e-03  D3: 1.267750e-02  D4: 1.562753e-02\n"
     ]
    },
    {
     "name": "stdout",
     "output_type": "stream",
     "text": [
      "[097/100]  test loss: 0.0615  D: 0.6966  D2: -0.0089  D3: 0.0126  D4: 0.0156\r",
      "[098/100]  test loss: 0.0615  D: 0.6966  D2: -0.0089  D3: 0.0126  D4: 0.0156\r",
      "[099/100]  test loss: 0.0615  D: 0.6966  D2: -0.0089  D3: 0.0127  D4: 0.0156\r",
      "[100/100]  test loss: 0.0614  D: 0.6966  D2: -0.0089  D3: 0.0127  D4: 0.0156\r"
     ]
    },
    {
     "name": "stderr",
     "output_type": "stream",
     "text": [
      "[default |INFO|model.py:2655] Training Finished!\n",
      "[default |INFO|model.py:2656] Elapsed time: 1624.959s\n"
     ]
    }
   ],
   "source": [
    "cfg = configparser.ConfigParser()\n",
    "cfg.read('./config/sswae_dev2_hsic_7.cfg')\n",
    "\n",
    "mm = cur_model(cfg, log, device = device)\n",
    "\n",
    "mm.gm.mu.load_state_dict(torch.load(f'./result/mu_{cfg[\"train_info\"][\"y_dim\"]}.pt'))\n",
    "mm.gm.cov.load_state_dict(torch.load(f'./result/cov_{cfg[\"train_info\"][\"y_dim\"]}.pt'))\n",
    "\n",
    "mm.train()\n",
    "# mm.load('./%s' % (cfg['path_info']['save_path']))"
   ]
  },
  {
   "cell_type": "markdown",
   "metadata": {},
   "source": [
    "# Train - 3"
   ]
  },
  {
   "cell_type": "code",
   "execution_count": 5,
   "metadata": {
    "scrolled": true
   },
   "outputs": [
    {
     "name": "stderr",
     "output_type": "stream",
     "text": [
      "[default |INFO|_base_model.py:27] ------------------------------------------------------------\n",
      "[default |INFO|_base_model.py:29] model_name : SSWAE_HSIC_MNIST\n",
      "[default |INFO|_base_model.py:29] train_data : rmMNIST\n",
      "[default |INFO|_base_model.py:29] train_data_label : True\n",
      "[default |INFO|_base_model.py:29] z_sampler : gaus\n",
      "[default |INFO|_base_model.py:29] z_dim : 6\n",
      "[default |INFO|_base_model.py:29] y_sampler : gaus\n",
      "[default |INFO|_base_model.py:29] y_dim : 4\n",
      "[default |INFO|_base_model.py:29] labeled_class : 0,1,2,3,4,5,6,7,8,9\n",
      "[default |INFO|_base_model.py:29] unlabeled_class : \n",
      "[default |INFO|_base_model.py:29] test_class : \n",
      "[default |INFO|_base_model.py:29] portion : 1.0\n",
      "[default |INFO|_base_model.py:29] unk : False\n",
      "[default |INFO|_base_model.py:29] encoder_pretrain : False\n",
      "[default |INFO|_base_model.py:29] encoder_pretrain_step : 3\n",
      "[default |INFO|_base_model.py:29] lr : 5e-4\n",
      "[default |INFO|_base_model.py:29] beta1 : 0.5\n",
      "[default |INFO|_base_model.py:29] lr_adv : 2e-4\n",
      "[default |INFO|_base_model.py:29] beta1_adv : 0.5\n",
      "[default |INFO|_base_model.py:29] lambda : 10.0\n",
      "[default |INFO|_base_model.py:29] lambda_mmd : 10.0\n",
      "[default |INFO|_base_model.py:29] lambda_hsic : 15.0\n",
      "[default |INFO|_base_model.py:29] lr_schedule : manual\n",
      "[default |INFO|_base_model.py:29] validate : True\n",
      "[default |INFO|_base_model.py:29] histogram : True\n",
      "[default |INFO|_base_model.py:29] batch_size : 100\n",
      "[default |INFO|_base_model.py:29] epoch : 80\n",
      "[default |INFO|_base_model.py:29] replace : False\n",
      "[default |INFO|_base_model.py:29] save_best : False\n",
      "[default |INFO|_base_model.py:32] data_home : ./data/MNIST\n",
      "[default |INFO|_base_model.py:32] tb_logs : \n",
      "[default |INFO|_base_model.py:32] save_path : ./result/weights/sswae_dev2_hsic_8.pt\n",
      "[default |INFO|_base_model.py:32] save_state : ./result/states/sswae_dev2_hsic_8.pt\n",
      "[default |INFO|_base_model.py:32] save_img_path : \n",
      "[default |INFO|model.py:2419] ------------------------------------------------------------\n",
      "[default |INFO|model.py:2420] Training Start!\n"
     ]
    },
    {
     "name": "stdout",
     "output_type": "stream",
     "text": [
      "[096/100]  test loss: 0.1958  D: 0.7001  D2: 0.0063  D3: 0.0077  D4: 0.00704\r"
     ]
    },
    {
     "name": "stderr",
     "output_type": "stream",
     "text": [
      "[default |INFO|model.py:2540] [01/80]  loss: 2.499741e-01  D: 6.886602e-01  D2: 1.940543e-02  D3: 2.708356e-03  D4: 3.411465e-03\n",
      "test loss: 1.956603e-01  D: 7.000791e-01  D2: 6.155195e-03  D3: 7.617891e-03  D4: 6.938927e-03\n"
     ]
    },
    {
     "name": "stdout",
     "output_type": "stream",
     "text": [
      "[096/100]  test loss: 0.1729  D: 0.7062  D2: -0.0015  D3: 0.0068  D4: 0.0090\r"
     ]
    },
    {
     "name": "stderr",
     "output_type": "stream",
     "text": [
      "[default |INFO|model.py:2540] [02/80]  loss: 1.773423e-01  D: 6.989668e-01  D2: 7.520517e-04  D3: 6.212914e-03  D4: 7.455994e-03\n",
      "test loss: 1.728960e-01  D: 7.061404e-01  D2: -1.520367e-03  D3: 6.885847e-03  D4: 9.048469e-03\n"
     ]
    },
    {
     "name": "stdout",
     "output_type": "stream",
     "text": [
      "[096/100]  test loss: 0.1487  D: 0.6822  D2: -0.0048  D3: 0.0050  D4: 0.00745\r"
     ]
    },
    {
     "name": "stderr",
     "output_type": "stream",
     "text": [
      "[default |INFO|model.py:2540] [03/80]  loss: 1.606691e-01  D: 6.987138e-01  D2: -3.659867e-03  D3: 5.955572e-03  D4: 7.487106e-03\n",
      "test loss: 1.488396e-01  D: 6.821208e-01  D2: -4.787016e-03  D3: 4.953864e-03  D4: 7.333412e-03\n"
     ]
    },
    {
     "name": "stdout",
     "output_type": "stream",
     "text": [
      "[093/100]  test loss: 0.1403  D: 0.7437  D2: -0.0046  D3: 0.0056  D4: 0.00739\r"
     ]
    },
    {
     "name": "stderr",
     "output_type": "stream",
     "text": [
      "[default |INFO|model.py:2540] [04/80]  loss: 1.358745e-01  D: 6.988186e-01  D2: -4.092736e-03  D3: 5.306959e-03  D4: 6.923844e-03\n",
      "test loss: 1.404262e-01  D: 7.437748e-01  D2: -4.622240e-03  D3: 5.609046e-03  D4: 7.288526e-03\n"
     ]
    },
    {
     "name": "stdout",
     "output_type": "stream",
     "text": [
      "[096/100]  test loss: 0.1253  D: 0.7189  D2: -0.0047  D3: 0.0118  D4: 0.01417\r"
     ]
    },
    {
     "name": "stderr",
     "output_type": "stream",
     "text": [
      "[default |INFO|model.py:2540] [05/80]  loss: 1.317990e-01  D: 6.994210e-01  D2: -4.114525e-03  D3: 1.017426e-02  D4: 1.168209e-02\n",
      "test loss: 1.253919e-01  D: 7.188824e-01  D2: -4.696102e-03  D3: 1.176658e-02  D4: 1.414275e-02\n"
     ]
    },
    {
     "name": "stdout",
     "output_type": "stream",
     "text": [
      "[096/100]  test loss: 0.1349  D: 0.7378  D2: -0.0040  D3: 0.0120  D4: 0.01463\r"
     ]
    },
    {
     "name": "stderr",
     "output_type": "stream",
     "text": [
      "[default |INFO|model.py:2540] [06/80]  loss: 1.296583e-01  D: 7.008882e-01  D2: -3.760575e-03  D3: 1.117194e-02  D4: 1.328567e-02\n",
      "test loss: 1.348612e-01  D: 7.377697e-01  D2: -4.032202e-03  D3: 1.206198e-02  D4: 1.464129e-02\n"
     ]
    },
    {
     "name": "stdout",
     "output_type": "stream",
     "text": [
      "[096/100]  test loss: 0.1337  D: 0.7455  D2: -0.0046  D3: 0.0149  D4: 0.01839\r"
     ]
    },
    {
     "name": "stderr",
     "output_type": "stream",
     "text": [
      "[default |INFO|model.py:2540] [07/80]  loss: 1.220136e-01  D: 7.015952e-01  D2: -3.938589e-03  D3: 1.128729e-02  D4: 1.388317e-02\n",
      "test loss: 1.336552e-01  D: 7.454936e-01  D2: -4.642725e-03  D3: 1.485163e-02  D4: 1.827498e-02\n"
     ]
    },
    {
     "name": "stdout",
     "output_type": "stream",
     "text": [
      "[096/100]  test loss: 0.1076  D: 0.6996  D2: -0.0049  D3: 0.0114  D4: 0.01416\r"
     ]
    },
    {
     "name": "stderr",
     "output_type": "stream",
     "text": [
      "[default |INFO|model.py:2540] [08/80]  loss: 1.161186e-01  D: 6.952928e-01  D2: -3.829109e-03  D3: 1.350378e-02  D4: 1.658638e-02\n",
      "test loss: 1.075431e-01  D: 6.996607e-01  D2: -4.959507e-03  D3: 1.141156e-02  D4: 1.416227e-02\n"
     ]
    },
    {
     "name": "stdout",
     "output_type": "stream",
     "text": [
      "[096/100]  test loss: 0.1126  D: 0.6941  D2: -0.0037  D3: 0.0163  D4: 0.01931\r"
     ]
    },
    {
     "name": "stderr",
     "output_type": "stream",
     "text": [
      "[default |INFO|model.py:2540] [09/80]  loss: 1.110271e-01  D: 6.963052e-01  D2: -4.187744e-03  D3: 1.262739e-02  D4: 1.508365e-02\n",
      "test loss: 1.124914e-01  D: 6.941419e-01  D2: -3.581934e-03  D3: 1.618025e-02  D4: 1.925316e-02\n"
     ]
    },
    {
     "name": "stdout",
     "output_type": "stream",
     "text": [
      "[096/100]  test loss: 0.1051  D: 0.7144  D2: -0.0045  D3: 0.0118  D4: 0.01359\r"
     ]
    },
    {
     "name": "stderr",
     "output_type": "stream",
     "text": [
      "[default |INFO|model.py:2540] [10/80]  loss: 1.092449e-01  D: 6.977770e-01  D2: -4.222728e-03  D3: 1.353659e-02  D4: 1.591316e-02\n",
      "test loss: 1.050286e-01  D: 7.143953e-01  D2: -4.567347e-03  D3: 1.176671e-02  D4: 1.352872e-02\n"
     ]
    },
    {
     "name": "stdout",
     "output_type": "stream",
     "text": [
      "[094/100]  test loss: 0.0991  D: 0.6994  D2: -0.0054  D3: 0.0086  D4: 0.00962\r"
     ]
    },
    {
     "name": "stderr",
     "output_type": "stream",
     "text": [
      "[default |INFO|model.py:2540] [11/80]  loss: 1.017261e-01  D: 6.949709e-01  D2: -4.403000e-03  D3: 1.339145e-02  D4: 1.624755e-02\n",
      "test loss: 9.915759e-02  D: 6.994406e-01  D2: -5.383558e-03  D3: 8.543785e-03  D4: 9.611109e-03\n"
     ]
    },
    {
     "name": "stdout",
     "output_type": "stream",
     "text": [
      "[095/100]  test loss: 0.0932  D: 0.6981  D2: -0.0047  D3: 0.0108  D4: 0.01355\r"
     ]
    },
    {
     "name": "stderr",
     "output_type": "stream",
     "text": [
      "[default |INFO|model.py:2540] [12/80]  loss: 1.023097e-01  D: 6.969147e-01  D2: -4.278936e-03  D3: 1.292610e-02  D4: 1.546774e-02\n",
      "test loss: 9.301344e-02  D: 6.980465e-01  D2: -4.620466e-03  D3: 1.079228e-02  D4: 1.347154e-02\n"
     ]
    },
    {
     "name": "stdout",
     "output_type": "stream",
     "text": [
      "[096/100]  test loss: 0.0964  D: 0.6855  D2: -0.0038  D3: 0.0146  D4: 0.01788\r"
     ]
    },
    {
     "name": "stderr",
     "output_type": "stream",
     "text": [
      "[default |INFO|model.py:2540] [13/80]  loss: 9.716983e-02  D: 6.955538e-01  D2: -4.421455e-03  D3: 1.301374e-02  D4: 1.584414e-02\n",
      "test loss: 9.619684e-02  D: 6.855099e-01  D2: -3.773928e-03  D3: 1.461094e-02  D4: 1.776133e-02\n"
     ]
    },
    {
     "name": "stdout",
     "output_type": "stream",
     "text": [
      "[095/100]  test loss: 0.0891  D: 0.6606  D2: -0.0055  D3: 0.0122  D4: 0.01513\r"
     ]
    },
    {
     "name": "stderr",
     "output_type": "stream",
     "text": [
      "[default |INFO|model.py:2540] [14/80]  loss: 9.322714e-02  D: 6.954539e-01  D2: -4.778457e-03  D3: 1.249978e-02  D4: 1.525442e-02\n",
      "test loss: 8.926125e-02  D: 6.606358e-01  D2: -5.467892e-03  D3: 1.221741e-02  D4: 1.514846e-02\n"
     ]
    },
    {
     "name": "stdout",
     "output_type": "stream",
     "text": [
      "[096/100]  test loss: 0.0871  D: 0.7235  D2: -0.0049  D3: 0.0166  D4: 0.01915\r"
     ]
    },
    {
     "name": "stderr",
     "output_type": "stream",
     "text": [
      "[default |INFO|model.py:2540] [15/80]  loss: 8.960809e-02  D: 6.949958e-01  D2: -4.399552e-03  D3: 1.364065e-02  D4: 1.647642e-02\n",
      "test loss: 8.721463e-02  D: 7.234656e-01  D2: -5.012197e-03  D3: 1.655199e-02  D4: 1.909858e-02\n"
     ]
    },
    {
     "name": "stdout",
     "output_type": "stream",
     "text": [
      "[096/100]  test loss: 0.0878  D: 0.6957  D2: -0.0048  D3: 0.0075  D4: 0.00919\r"
     ]
    },
    {
     "name": "stderr",
     "output_type": "stream",
     "text": [
      "[default |INFO|model.py:2540] [16/80]  loss: 8.930216e-02  D: 6.964768e-01  D2: -4.862068e-03  D3: 1.321691e-02  D4: 1.588371e-02\n",
      "test loss: 8.775523e-02  D: 6.956313e-01  D2: -4.834404e-03  D3: 7.477832e-03  D4: 9.089176e-03\n"
     ]
    },
    {
     "name": "stdout",
     "output_type": "stream",
     "text": [
      "[096/100]  test loss: 0.0856  D: 0.6652  D2: -0.0056  D3: 0.0117  D4: 0.01435\r"
     ]
    },
    {
     "name": "stderr",
     "output_type": "stream",
     "text": [
      "[default |INFO|model.py:2540] [17/80]  loss: 9.015063e-02  D: 6.981915e-01  D2: -4.636326e-03  D3: 1.266146e-02  D4: 1.551879e-02\n",
      "test loss: 8.565644e-02  D: 6.651746e-01  D2: -5.536957e-03  D3: 1.173658e-02  D4: 1.430084e-02\n"
     ]
    },
    {
     "name": "stdout",
     "output_type": "stream",
     "text": [
      "[096/100]  test loss: 0.0824  D: 0.6753  D2: -0.0059  D3: 0.0158  D4: 0.01823\r"
     ]
    },
    {
     "name": "stderr",
     "output_type": "stream",
     "text": [
      "[default |INFO|model.py:2540] [18/80]  loss: 8.549190e-02  D: 6.937654e-01  D2: -4.839681e-03  D3: 1.337250e-02  D4: 1.628603e-02\n",
      "test loss: 8.228349e-02  D: 6.753534e-01  D2: -5.881777e-03  D3: 1.572196e-02  D4: 1.812953e-02\n"
     ]
    },
    {
     "name": "stdout",
     "output_type": "stream",
     "text": [
      "[096/100]  test loss: 0.0811  D: 0.6809  D2: -0.0053  D3: 0.0142  D4: 0.01744\r"
     ]
    },
    {
     "name": "stderr",
     "output_type": "stream",
     "text": [
      "[default |INFO|model.py:2540] [19/80]  loss: 8.169990e-02  D: 6.960962e-01  D2: -4.841237e-03  D3: 1.342379e-02  D4: 1.635334e-02\n",
      "test loss: 8.108311e-02  D: 6.809314e-01  D2: -5.214281e-03  D3: 1.419806e-02  D4: 1.733125e-02\n"
     ]
    },
    {
     "name": "stdout",
     "output_type": "stream",
     "text": [
      "[095/100]  test loss: 0.0787  D: 0.7046  D2: -0.0055  D3: 0.0142  D4: 0.01672\r"
     ]
    },
    {
     "name": "stderr",
     "output_type": "stream",
     "text": [
      "[default |INFO|model.py:2540] [20/80]  loss: 8.067458e-02  D: 6.948614e-01  D2: -5.249438e-03  D3: 1.340317e-02  D4: 1.622254e-02\n",
      "test loss: 7.865800e-02  D: 7.046201e-01  D2: -5.578566e-03  D3: 1.421793e-02  D4: 1.673546e-02\n"
     ]
    },
    {
     "name": "stdout",
     "output_type": "stream",
     "text": [
      "[096/100]  test loss: 0.0777  D: 0.7282  D2: -0.0050  D3: 0.0134  D4: 0.01590\r"
     ]
    },
    {
     "name": "stderr",
     "output_type": "stream",
     "text": [
      "[default |INFO|model.py:2540] [21/80]  loss: 7.957256e-02  D: 6.938358e-01  D2: -4.786154e-03  D3: 1.311801e-02  D4: 1.603083e-02\n",
      "test loss: 7.775361e-02  D: 7.281162e-01  D2: -5.080137e-03  D3: 1.338394e-02  D4: 1.594608e-02\n"
     ]
    },
    {
     "name": "stdout",
     "output_type": "stream",
     "text": [
      "[095/100]  test loss: 0.0781  D: 0.6903  D2: -0.0053  D3: 0.0118  D4: 0.01429\r"
     ]
    },
    {
     "name": "stderr",
     "output_type": "stream",
     "text": [
      "[default |INFO|model.py:2540] [22/80]  loss: 7.866784e-02  D: 6.942016e-01  D2: -5.247321e-03  D3: 1.303270e-02  D4: 1.586260e-02\n",
      "test loss: 7.796754e-02  D: 6.902790e-01  D2: -5.402260e-03  D3: 1.181540e-02  D4: 1.427665e-02\n"
     ]
    },
    {
     "name": "stdout",
     "output_type": "stream",
     "text": [
      "[096/100]  test loss: 0.0794  D: 0.6746  D2: -0.0056  D3: 0.0138  D4: 0.01666\r"
     ]
    },
    {
     "name": "stderr",
     "output_type": "stream",
     "text": [
      "[default |INFO|model.py:2540] [23/80]  loss: 7.989687e-02  D: 6.956059e-01  D2: -5.227866e-03  D3: 1.285402e-02  D4: 1.563778e-02\n",
      "test loss: 7.943056e-02  D: 6.745559e-01  D2: -5.571547e-03  D3: 1.377127e-02  D4: 1.662277e-02\n"
     ]
    },
    {
     "name": "stdout",
     "output_type": "stream",
     "text": [
      "[095/100]  test loss: 0.0759  D: 0.7010  D2: -0.0054  D3: 0.0133  D4: 0.01622\r"
     ]
    },
    {
     "name": "stderr",
     "output_type": "stream",
     "text": [
      "[default |INFO|model.py:2540] [24/80]  loss: 7.822471e-02  D: 6.942545e-01  D2: -5.276155e-03  D3: 1.338109e-02  D4: 1.621237e-02\n",
      "test loss: 7.609957e-02  D: 7.009789e-01  D2: -5.343723e-03  D3: 1.329677e-02  D4: 1.622474e-02\n"
     ]
    },
    {
     "name": "stdout",
     "output_type": "stream",
     "text": [
      "[096/100]  test loss: 0.0761  D: 0.7160  D2: -0.0059  D3: 0.0119  D4: 0.01529\r"
     ]
    },
    {
     "name": "stderr",
     "output_type": "stream",
     "text": [
      "[default |INFO|model.py:2540] [25/80]  loss: 7.651872e-02  D: 6.936603e-01  D2: -5.422328e-03  D3: 1.297006e-02  D4: 1.591522e-02\n",
      "test loss: 7.607769e-02  D: 7.159642e-01  D2: -5.819931e-03  D3: 1.183966e-02  D4: 1.518103e-02\n"
     ]
    },
    {
     "name": "stdout",
     "output_type": "stream",
     "text": [
      "[096/100]  test loss: 0.0729  D: 0.7029  D2: -0.0050  D3: 0.0136  D4: 0.01688\r"
     ]
    },
    {
     "name": "stderr",
     "output_type": "stream",
     "text": [
      "[default |INFO|model.py:2540] [26/80]  loss: 7.610699e-02  D: 6.973997e-01  D2: -5.586282e-03  D3: 1.289937e-02  D4: 1.583974e-02\n",
      "test loss: 7.288886e-02  D: 7.029259e-01  D2: -4.967718e-03  D3: 1.360647e-02  D4: 1.677724e-02\n"
     ]
    },
    {
     "name": "stdout",
     "output_type": "stream",
     "text": [
      "[096/100]  test loss: 0.0732  D: 0.7110  D2: -0.0050  D3: 0.0141  D4: 0.01731\r"
     ]
    },
    {
     "name": "stderr",
     "output_type": "stream",
     "text": [
      "[default |INFO|model.py:2540] [27/80]  loss: 7.330102e-02  D: 6.966681e-01  D2: -5.360001e-03  D3: 1.307552e-02  D4: 1.613277e-02\n",
      "test loss: 7.319191e-02  D: 7.110431e-01  D2: -5.078659e-03  D3: 1.407688e-02  D4: 1.731465e-02\n"
     ]
    },
    {
     "name": "stdout",
     "output_type": "stream",
     "text": [
      "[096/100]  test loss: 0.0754  D: 0.6794  D2: -0.0067  D3: 0.0119  D4: 0.01463\r"
     ]
    },
    {
     "name": "stderr",
     "output_type": "stream",
     "text": [
      "[default |INFO|model.py:2540] [28/80]  loss: 7.633801e-02  D: 6.958369e-01  D2: -5.565732e-03  D3: 1.242277e-02  D4: 1.532436e-02\n",
      "test loss: 7.543916e-02  D: 6.794189e-01  D2: -6.638794e-03  D3: 1.187435e-02  D4: 1.461454e-02\n"
     ]
    },
    {
     "name": "stdout",
     "output_type": "stream",
     "text": [
      "[096/100]  test loss: 0.0795  D: 0.7218  D2: -0.0055  D3: 0.0136  D4: 0.01670\r"
     ]
    },
    {
     "name": "stderr",
     "output_type": "stream",
     "text": [
      "[default |INFO|model.py:2540] [29/80]  loss: 7.715669e-02  D: 6.965602e-01  D2: -5.610757e-03  D3: 1.191761e-02  D4: 1.504974e-02\n",
      "test loss: 7.941771e-02  D: 7.218526e-01  D2: -5.461941e-03  D3: 1.365285e-02  D4: 1.674685e-02\n"
     ]
    },
    {
     "name": "stdout",
     "output_type": "stream",
     "text": [
      "[096/100]  test loss: 0.0751  D: 0.6801  D2: -0.0055  D3: 0.0127  D4: 0.01595\r"
     ]
    },
    {
     "name": "stderr",
     "output_type": "stream",
     "text": [
      "[default |INFO|model.py:2540] [30/80]  loss: 7.637628e-02  D: 6.988313e-01  D2: -5.741119e-03  D3: 1.235925e-02  D4: 1.546253e-02\n",
      "test loss: 7.496252e-02  D: 6.800459e-01  D2: -5.440397e-03  D3: 1.268517e-02  D4: 1.586177e-02\n"
     ]
    },
    {
     "name": "stdout",
     "output_type": "stream",
     "text": [
      "[096/100]  test loss: 0.0729  D: 0.6897  D2: -0.0054  D3: 0.0122  D4: 0.01540\r"
     ]
    },
    {
     "name": "stderr",
     "output_type": "stream",
     "text": [
      "[default |INFO|model.py:2540] [31/80]  loss: 7.204887e-02  D: 6.932155e-01  D2: -5.857635e-03  D3: 1.282446e-02  D4: 1.599101e-02\n",
      "test loss: 7.282719e-02  D: 6.897104e-01  D2: -5.404167e-03  D3: 1.216467e-02  D4: 1.533766e-02\n"
     ]
    },
    {
     "name": "stdout",
     "output_type": "stream",
     "text": [
      "[096/100]  test loss: 0.0708  D: 0.6905  D2: -0.0059  D3: 0.0128  D4: 0.01590\r"
     ]
    },
    {
     "name": "stderr",
     "output_type": "stream",
     "text": [
      "[default |INFO|model.py:2540] [32/80]  loss: 7.113843e-02  D: 6.956778e-01  D2: -5.753290e-03  D3: 1.270567e-02  D4: 1.600050e-02\n",
      "test loss: 7.094878e-02  D: 6.906036e-01  D2: -5.949049e-03  D3: 1.282865e-02  D4: 1.591385e-02\n"
     ]
    },
    {
     "name": "stdout",
     "output_type": "stream",
     "text": [
      "[096/100]  test loss: 0.0725  D: 0.6982  D2: -0.0059  D3: 0.0147  D4: 0.01759\r"
     ]
    },
    {
     "name": "stderr",
     "output_type": "stream",
     "text": [
      "[default |INFO|model.py:2540] [33/80]  loss: 7.043228e-02  D: 6.949773e-01  D2: -5.930336e-03  D3: 1.273400e-02  D4: 1.593281e-02\n",
      "test loss: 7.225482e-02  D: 6.982597e-01  D2: -5.900784e-03  D3: 1.473549e-02  D4: 1.750558e-02\n"
     ]
    },
    {
     "name": "stdout",
     "output_type": "stream",
     "text": [
      "[096/100]  test loss: 0.0736  D: 0.6939  D2: -0.0061  D3: 0.0126  D4: 0.01608\r"
     ]
    },
    {
     "name": "stderr",
     "output_type": "stream",
     "text": [
      "[default |INFO|model.py:2540] [34/80]  loss: 7.105631e-02  D: 6.961315e-01  D2: -6.042271e-03  D3: 1.255627e-02  D4: 1.577579e-02\n",
      "test loss: 7.354172e-02  D: 6.939473e-01  D2: -6.095018e-03  D3: 1.260959e-02  D4: 1.601438e-02\n"
     ]
    },
    {
     "name": "stdout",
     "output_type": "stream",
     "text": [
      "[096/100]  test loss: 0.0710  D: 0.7140  D2: -0.0062  D3: 0.0122  D4: 0.01516\r"
     ]
    },
    {
     "name": "stderr",
     "output_type": "stream",
     "text": [
      "[default |INFO|model.py:2540] [35/80]  loss: 6.981514e-02  D: 6.944866e-01  D2: -6.106811e-03  D3: 1.248633e-02  D4: 1.564786e-02\n",
      "test loss: 7.100498e-02  D: 7.139714e-01  D2: -6.146879e-03  D3: 1.218341e-02  D4: 1.512976e-02\n"
     ]
    },
    {
     "name": "stdout",
     "output_type": "stream",
     "text": [
      "[096/100]  test loss: 0.0710  D: 0.7185  D2: -0.0062  D3: 0.0135  D4: 0.01667\r"
     ]
    },
    {
     "name": "stderr",
     "output_type": "stream",
     "text": [
      "[default |INFO|model.py:2540] [36/80]  loss: 6.983519e-02  D: 6.949720e-01  D2: -6.191401e-03  D3: 1.254625e-02  D4: 1.571835e-02\n",
      "test loss: 7.096996e-02  D: 7.184806e-01  D2: -6.185226e-03  D3: 1.347074e-02  D4: 1.662758e-02\n"
     ]
    },
    {
     "name": "stdout",
     "output_type": "stream",
     "text": [
      "[096/100]  test loss: 0.0702  D: 0.6886  D2: -0.0064  D3: 0.0110  D4: 0.01387\r"
     ]
    },
    {
     "name": "stderr",
     "output_type": "stream",
     "text": [
      "[default |INFO|model.py:2540] [37/80]  loss: 6.963790e-02  D: 6.952630e-01  D2: -6.153782e-03  D3: 1.247433e-02  D4: 1.570678e-02\n",
      "test loss: 7.026708e-02  D: 6.886629e-01  D2: -6.427631e-03  D3: 1.099503e-02  D4: 1.383638e-02\n"
     ]
    },
    {
     "name": "stdout",
     "output_type": "stream",
     "text": [
      "[096/100]  test loss: 0.0751  D: 0.6877  D2: -0.0063  D3: 0.0104  D4: 0.01344\r"
     ]
    },
    {
     "name": "stderr",
     "output_type": "stream",
     "text": [
      "[default |INFO|model.py:2540] [38/80]  loss: 7.108143e-02  D: 6.960789e-01  D2: -6.217281e-03  D3: 1.222811e-02  D4: 1.540579e-02\n",
      "test loss: 7.529976e-02  D: 6.877247e-01  D2: -6.312132e-03  D3: 1.041364e-02  D4: 1.340728e-02\n"
     ]
    },
    {
     "name": "stdout",
     "output_type": "stream",
     "text": [
      "[096/100]  test loss: 0.0714  D: 0.6933  D2: -0.0065  D3: 0.0115  D4: 0.01474\r"
     ]
    },
    {
     "name": "stderr",
     "output_type": "stream",
     "text": [
      "[default |INFO|model.py:2540] [39/80]  loss: 7.132232e-02  D: 6.961345e-01  D2: -6.398136e-03  D3: 1.202001e-02  D4: 1.535360e-02\n",
      "test loss: 7.155581e-02  D: 6.932839e-01  D2: -6.449461e-03  D3: 1.147258e-02  D4: 1.476353e-02\n"
     ]
    },
    {
     "name": "stdout",
     "output_type": "stream",
     "text": [
      "[096/100]  test loss: 0.0709  D: 0.7270  D2: -0.0066  D3: 0.0135  D4: 0.01654\r"
     ]
    },
    {
     "name": "stderr",
     "output_type": "stream",
     "text": [
      "[default |INFO|model.py:2540] [40/80]  loss: 7.073768e-02  D: 6.965912e-01  D2: -6.461010e-03  D3: 1.224471e-02  D4: 1.543977e-02\n",
      "test loss: 7.098735e-02  D: 7.270043e-01  D2: -6.631670e-03  D3: 1.352292e-02  D4: 1.653571e-02\n"
     ]
    },
    {
     "name": "stdout",
     "output_type": "stream",
     "text": [
      "[096/100]  test loss: 0.0701  D: 0.6931  D2: -0.0049  D3: 0.0129  D4: 0.01576\r"
     ]
    },
    {
     "name": "stderr",
     "output_type": "stream",
     "text": [
      "[default |INFO|model.py:2540] [41/80]  loss: 6.961686e-02  D: 6.959800e-01  D2: -6.283565e-03  D3: 1.239961e-02  D4: 1.562989e-02\n",
      "test loss: 7.013893e-02  D: 6.930996e-01  D2: -4.976387e-03  D3: 1.291617e-02  D4: 1.574004e-02\n"
     ]
    },
    {
     "name": "stdout",
     "output_type": "stream",
     "text": [
      "[096/100]  test loss: 0.0694  D: 0.6915  D2: -0.0066  D3: 0.0113  D4: 0.01454\r"
     ]
    },
    {
     "name": "stderr",
     "output_type": "stream",
     "text": [
      "[default |INFO|model.py:2540] [42/80]  loss: 6.921768e-02  D: 6.950268e-01  D2: -6.356095e-03  D3: 1.215937e-02  D4: 1.541923e-02\n",
      "test loss: 6.932836e-02  D: 6.914885e-01  D2: -6.653337e-03  D3: 1.133212e-02  D4: 1.454704e-02\n"
     ]
    },
    {
     "name": "stdout",
     "output_type": "stream",
     "text": [
      "[095/100]  test loss: 0.0690  D: 0.6766  D2: -0.0067  D3: 0.0108  D4: 0.01416\r"
     ]
    },
    {
     "name": "stderr",
     "output_type": "stream",
     "text": [
      "[default |INFO|model.py:2540] [43/80]  loss: 6.812242e-02  D: 6.961114e-01  D2: -6.435102e-03  D3: 1.214522e-02  D4: 1.556157e-02\n",
      "test loss: 6.908042e-02  D: 6.765664e-01  D2: -6.778164e-03  D3: 1.081684e-02  D4: 1.407260e-02\n"
     ]
    },
    {
     "name": "stdout",
     "output_type": "stream",
     "text": [
      "[095/100]  test loss: 0.0678  D: 0.7070  D2: -0.0070  D3: 0.0135  D4: 0.01656\r"
     ]
    },
    {
     "name": "stderr",
     "output_type": "stream",
     "text": [
      "[default |INFO|model.py:2540] [44/80]  loss: 6.779842e-02  D: 6.961835e-01  D2: -6.595354e-03  D3: 1.226191e-02  D4: 1.561314e-02\n",
      "test loss: 6.790998e-02  D: 7.069916e-01  D2: -6.990337e-03  D3: 1.346825e-02  D4: 1.650013e-02\n"
     ]
    },
    {
     "name": "stdout",
     "output_type": "stream",
     "text": [
      "[096/100]  test loss: 0.0689  D: 0.7022  D2: -0.0068  D3: 0.0113  D4: 0.01465\r"
     ]
    },
    {
     "name": "stderr",
     "output_type": "stream",
     "text": [
      "[default |INFO|model.py:2540] [45/80]  loss: 6.713858e-02  D: 6.937185e-01  D2: -6.552850e-03  D3: 1.217919e-02  D4: 1.550235e-02\n",
      "test loss: 6.900246e-02  D: 7.021368e-01  D2: -6.788626e-03  D3: 1.129542e-02  D4: 1.460002e-02\n"
     ]
    },
    {
     "name": "stdout",
     "output_type": "stream",
     "text": [
      "[095/100]  test loss: 0.0672  D: 0.6984  D2: -0.0075  D3: 0.0130  D4: 0.01583\r"
     ]
    },
    {
     "name": "stderr",
     "output_type": "stream",
     "text": [
      "[default |INFO|model.py:2540] [46/80]  loss: 6.807324e-02  D: 6.960052e-01  D2: -6.831155e-03  D3: 1.203557e-02  D4: 1.526498e-02\n",
      "test loss: 6.716007e-02  D: 6.984539e-01  D2: -7.444363e-03  D3: 1.297483e-02  D4: 1.583923e-02\n"
     ]
    },
    {
     "name": "stdout",
     "output_type": "stream",
     "text": [
      "[095/100]  test loss: 0.0701  D: 0.6966  D2: -0.0069  D3: 0.0130  D4: 0.01603\r"
     ]
    },
    {
     "name": "stderr",
     "output_type": "stream",
     "text": [
      "[default |INFO|model.py:2540] [47/80]  loss: 6.828612e-02  D: 6.958854e-01  D2: -6.786647e-03  D3: 1.214885e-02  D4: 1.531827e-02\n",
      "test loss: 7.026159e-02  D: 6.964840e-01  D2: -6.752548e-03  D3: 1.294507e-02  D4: 1.595600e-02\n"
     ]
    },
    {
     "name": "stdout",
     "output_type": "stream",
     "text": [
      "[096/100]  test loss: 0.0694  D: 0.7119  D2: -0.0070  D3: 0.0123  D4: 0.01562\r"
     ]
    },
    {
     "name": "stderr",
     "output_type": "stream",
     "text": [
      "[default |INFO|model.py:2540] [48/80]  loss: 6.871503e-02  D: 6.971963e-01  D2: -6.746532e-03  D3: 1.205207e-02  D4: 1.524285e-02\n",
      "test loss: 6.941000e-02  D: 7.119014e-01  D2: -7.107916e-03  D3: 1.225090e-02  D4: 1.556900e-02\n"
     ]
    },
    {
     "name": "stdout",
     "output_type": "stream",
     "text": [
      "[096/100]  test loss: 0.0673  D: 0.6844  D2: -0.0067  D3: 0.0108  D4: 0.01425\r"
     ]
    },
    {
     "name": "stderr",
     "output_type": "stream",
     "text": [
      "[default |INFO|model.py:2540] [49/80]  loss: 6.749173e-02  D: 6.951839e-01  D2: -6.908970e-03  D3: 1.220895e-02  D4: 1.545675e-02\n",
      "test loss: 6.719341e-02  D: 6.843947e-01  D2: -6.782246e-03  D3: 1.079150e-02  D4: 1.418732e-02\n"
     ]
    },
    {
     "name": "stdout",
     "output_type": "stream",
     "text": [
      "[096/100]  test loss: 0.0692  D: 0.7008  D2: -0.0064  D3: 0.0122  D4: 0.01542\r"
     ]
    },
    {
     "name": "stderr",
     "output_type": "stream",
     "text": [
      "[default |INFO|model.py:2540] [50/80]  loss: 6.763097e-02  D: 6.942180e-01  D2: -7.000368e-03  D3: 1.196817e-02  D4: 1.522290e-02\n",
      "test loss: 6.925503e-02  D: 7.007568e-01  D2: -6.451750e-03  D3: 1.218722e-02  D4: 1.538276e-02\n"
     ]
    },
    {
     "name": "stdout",
     "output_type": "stream",
     "text": [
      "[096/100]  test loss: 0.0690  D: 0.6858  D2: -0.0065  D3: 0.0126  D4: 0.01593\r"
     ]
    },
    {
     "name": "stderr",
     "output_type": "stream",
     "text": [
      "[default |INFO|model.py:2540] [51/80]  loss: 6.778226e-02  D: 6.982691e-01  D2: -6.938705e-03  D3: 1.206273e-02  D4: 1.533630e-02\n",
      "test loss: 6.902070e-02  D: 6.857787e-01  D2: -6.528282e-03  D3: 1.257994e-02  D4: 1.591760e-02\n"
     ]
    },
    {
     "name": "stdout",
     "output_type": "stream",
     "text": [
      "[096/100]  test loss: 0.0672  D: 0.6722  D2: -0.0073  D3: 0.0121  D4: 0.01504\r"
     ]
    },
    {
     "name": "stderr",
     "output_type": "stream",
     "text": [
      "[default |INFO|model.py:2540] [52/80]  loss: 6.741100e-02  D: 6.931002e-01  D2: -6.955519e-03  D3: 1.218642e-02  D4: 1.538651e-02\n",
      "test loss: 6.701186e-02  D: 6.721729e-01  D2: -7.395668e-03  D3: 1.206924e-02  D4: 1.502924e-02\n"
     ]
    },
    {
     "name": "stdout",
     "output_type": "stream",
     "text": [
      "[096/100]  test loss: 0.0683  D: 0.6985  D2: -0.0071  D3: 0.0118  D4: 0.01484\r"
     ]
    },
    {
     "name": "stderr",
     "output_type": "stream",
     "text": [
      "[default |INFO|model.py:2540] [53/80]  loss: 6.619008e-02  D: 6.942384e-01  D2: -7.024837e-03  D3: 1.204840e-02  D4: 1.537656e-02\n",
      "test loss: 6.826313e-02  D: 6.984686e-01  D2: -7.095451e-03  D3: 1.176881e-02  D4: 1.477904e-02\n"
     ]
    },
    {
     "name": "stdout",
     "output_type": "stream",
     "text": [
      "[096/100]  test loss: 0.0682  D: 0.6903  D2: -0.0076  D3: 0.0116  D4: 0.01483\r"
     ]
    },
    {
     "name": "stderr",
     "output_type": "stream",
     "text": [
      "[default |INFO|model.py:2540] [54/80]  loss: 6.592866e-02  D: 6.934388e-01  D2: -7.139292e-03  D3: 1.199185e-02  D4: 1.528603e-02\n",
      "test loss: 6.817417e-02  D: 6.903323e-01  D2: -7.556620e-03  D3: 1.157916e-02  D4: 1.483089e-02\n"
     ]
    },
    {
     "name": "stdout",
     "output_type": "stream",
     "text": [
      "[095/100]  test loss: 0.0696  D: 0.6730  D2: -0.0071  D3: 0.0115  D4: 0.01492\r"
     ]
    },
    {
     "name": "stderr",
     "output_type": "stream",
     "text": [
      "[default |INFO|model.py:2540] [55/80]  loss: 6.691767e-02  D: 6.946560e-01  D2: -7.060986e-03  D3: 1.188624e-02  D4: 1.517165e-02\n",
      "test loss: 6.935598e-02  D: 6.730848e-01  D2: -7.192087e-03  D3: 1.153947e-02  D4: 1.487732e-02\n"
     ]
    },
    {
     "name": "stdout",
     "output_type": "stream",
     "text": [
      "[095/100]  test loss: 0.0706  D: 0.6987  D2: -0.0068  D3: 0.0136  D4: 0.01680\r"
     ]
    },
    {
     "name": "stderr",
     "output_type": "stream",
     "text": [
      "[default |INFO|model.py:2540] [56/80]  loss: 6.745088e-02  D: 6.950008e-01  D2: -7.274623e-03  D3: 1.177243e-02  D4: 1.502741e-02\n",
      "test loss: 7.055820e-02  D: 6.986365e-01  D2: -6.734972e-03  D3: 1.358700e-02  D4: 1.678109e-02\n"
     ]
    },
    {
     "name": "stdout",
     "output_type": "stream",
     "text": [
      "[096/100]  test loss: 0.0671  D: 0.6968  D2: -0.0073  D3: 0.0115  D4: 0.01472\r"
     ]
    },
    {
     "name": "stderr",
     "output_type": "stream",
     "text": [
      "[default |INFO|model.py:2540] [57/80]  loss: 6.725531e-02  D: 6.966521e-01  D2: -7.295620e-03  D3: 1.187805e-02  D4: 1.516778e-02\n",
      "test loss: 6.703613e-02  D: 6.967837e-01  D2: -7.365551e-03  D3: 1.152837e-02  D4: 1.467064e-02\n"
     ]
    },
    {
     "name": "stdout",
     "output_type": "stream",
     "text": [
      "[095/100]  test loss: 0.0698  D: 0.7002  D2: -0.0070  D3: 0.0132  D4: 0.01643\r"
     ]
    },
    {
     "name": "stderr",
     "output_type": "stream",
     "text": [
      "[default |INFO|model.py:2540] [58/80]  loss: 6.565508e-02  D: 6.943768e-01  D2: -7.199758e-03  D3: 1.208839e-02  D4: 1.531608e-02\n",
      "test loss: 6.987524e-02  D: 7.001233e-01  D2: -6.956568e-03  D3: 1.328829e-02  D4: 1.645133e-02\n"
     ]
    },
    {
     "name": "stdout",
     "output_type": "stream",
     "text": [
      "[096/100]  test loss: 0.0681  D: 0.6873  D2: -0.0069  D3: 0.0125  D4: 0.01583\r"
     ]
    },
    {
     "name": "stderr",
     "output_type": "stream",
     "text": [
      "[default |INFO|model.py:2540] [59/80]  loss: 6.670270e-02  D: 6.964540e-01  D2: -7.368085e-03  D3: 1.201667e-02  D4: 1.531628e-02\n",
      "test loss: 6.796172e-02  D: 6.873107e-01  D2: -6.886091e-03  D3: 1.249773e-02  D4: 1.577064e-02\n"
     ]
    },
    {
     "name": "stdout",
     "output_type": "stream",
     "text": [
      "[096/100]  test loss: 0.0663  D: 0.6953  D2: -0.0074  D3: 0.0117  D4: 0.01504\r"
     ]
    },
    {
     "name": "stderr",
     "output_type": "stream",
     "text": [
      "[default |INFO|model.py:2540] [60/80]  loss: 6.595887e-02  D: 6.959997e-01  D2: -7.357705e-03  D3: 1.210734e-02  D4: 1.535975e-02\n",
      "test loss: 6.635458e-02  D: 6.953574e-01  D2: -7.371464e-03  D3: 1.167279e-02  D4: 1.500366e-02\n"
     ]
    },
    {
     "name": "stdout",
     "output_type": "stream",
     "text": [
      "[096/100]  test loss: 0.0667  D: 0.6950  D2: -0.0070  D3: 0.0120  D4: 0.01533\r"
     ]
    },
    {
     "name": "stderr",
     "output_type": "stream",
     "text": [
      "[default |INFO|model.py:2540] [61/80]  loss: 6.559770e-02  D: 6.939133e-01  D2: -7.395207e-03  D3: 1.206240e-02  D4: 1.530932e-02\n",
      "test loss: 6.661959e-02  D: 6.950051e-01  D2: -7.098904e-03  D3: 1.204425e-02  D4: 1.528383e-02\n"
     ]
    },
    {
     "name": "stdout",
     "output_type": "stream",
     "text": [
      "[096/100]  test loss: 0.0664  D: 0.6863  D2: -0.0079  D3: 0.0119  D4: 0.01493\r"
     ]
    },
    {
     "name": "stderr",
     "output_type": "stream",
     "text": [
      "[default |INFO|model.py:2540] [62/80]  loss: 6.557272e-02  D: 6.954153e-01  D2: -7.501526e-03  D3: 1.200564e-02  D4: 1.530677e-02\n",
      "test loss: 6.639719e-02  D: 6.862946e-01  D2: -7.917585e-03  D3: 1.185806e-02  D4: 1.489137e-02\n"
     ]
    },
    {
     "name": "stdout",
     "output_type": "stream",
     "text": [
      "[096/100]  test loss: 0.0655  D: 0.6990  D2: -0.0078  D3: 0.0119  D4: 0.01523\r"
     ]
    },
    {
     "name": "stderr",
     "output_type": "stream",
     "text": [
      "[default |INFO|model.py:2540] [63/80]  loss: 6.558751e-02  D: 6.937850e-01  D2: -7.634633e-03  D3: 1.203518e-02  D4: 1.532993e-02\n",
      "test loss: 6.540698e-02  D: 6.989366e-01  D2: -7.754984e-03  D3: 1.191658e-02  D4: 1.526032e-02\n"
     ]
    },
    {
     "name": "stdout",
     "output_type": "stream",
     "text": [
      "[096/100]  test loss: 0.0675  D: 0.7000  D2: -0.0078  D3: 0.0112  D4: 0.01462\r"
     ]
    },
    {
     "name": "stderr",
     "output_type": "stream",
     "text": [
      "[default |INFO|model.py:2540] [64/80]  loss: 6.515552e-02  D: 6.946242e-01  D2: -7.508609e-03  D3: 1.188774e-02  D4: 1.515608e-02\n",
      "test loss: 6.739488e-02  D: 6.999649e-01  D2: -7.800112e-03  D3: 1.117325e-02  D4: 1.459107e-02\n"
     ]
    },
    {
     "name": "stdout",
     "output_type": "stream",
     "text": [
      "[096/100]  test loss: 0.0667  D: 0.7106  D2: -0.0078  D3: 0.0131  D4: 0.01602\r"
     ]
    },
    {
     "name": "stderr",
     "output_type": "stream",
     "text": [
      "[default |INFO|model.py:2540] [65/80]  loss: 6.552575e-02  D: 6.952172e-01  D2: -7.489567e-03  D3: 1.182374e-02  D4: 1.516901e-02\n",
      "test loss: 6.665303e-02  D: 7.107001e-01  D2: -7.841825e-03  D3: 1.300366e-02  D4: 1.600147e-02\n"
     ]
    },
    {
     "name": "stdout",
     "output_type": "stream",
     "text": [
      "[096/100]  test loss: 0.0676  D: 0.6897  D2: -0.0075  D3: 0.0118  D4: 0.01531\r"
     ]
    },
    {
     "name": "stderr",
     "output_type": "stream",
     "text": [
      "[default |INFO|model.py:2540] [66/80]  loss: 6.495524e-02  D: 6.938130e-01  D2: -7.511091e-03  D3: 1.178476e-02  D4: 1.509705e-02\n",
      "test loss: 6.748800e-02  D: 6.897587e-01  D2: -7.510614e-03  D3: 1.181191e-02  D4: 1.524692e-02\n"
     ]
    },
    {
     "name": "stdout",
     "output_type": "stream",
     "text": [
      "[096/100]  test loss: 0.0659  D: 0.6895  D2: -0.0079  D3: 0.0124  D4: 0.01561\r"
     ]
    },
    {
     "name": "stderr",
     "output_type": "stream",
     "text": [
      "[default |INFO|model.py:2540] [67/80]  loss: 6.489627e-02  D: 6.946220e-01  D2: -7.711579e-03  D3: 1.181743e-02  D4: 1.513767e-02\n",
      "test loss: 6.586888e-02  D: 6.894790e-01  D2: -7.900906e-03  D3: 1.237566e-02  D4: 1.564271e-02\n"
     ]
    },
    {
     "name": "stdout",
     "output_type": "stream",
     "text": [
      "[096/100]  test loss: 0.0681  D: 0.6797  D2: -0.0077  D3: 0.0116  D4: 0.01502\r"
     ]
    },
    {
     "name": "stderr",
     "output_type": "stream",
     "text": [
      "[default |INFO|model.py:2540] [68/80]  loss: 6.562302e-02  D: 6.950028e-01  D2: -7.724555e-03  D3: 1.186901e-02  D4: 1.516201e-02\n",
      "test loss: 6.795350e-02  D: 6.796384e-01  D2: -7.750511e-03  D3: 1.161936e-02  D4: 1.504502e-02\n"
     ]
    },
    {
     "name": "stdout",
     "output_type": "stream",
     "text": [
      "[096/100]  test loss: 0.0677  D: 0.6964  D2: -0.0080  D3: 0.0116  D4: 0.01452\r"
     ]
    },
    {
     "name": "stderr",
     "output_type": "stream",
     "text": [
      "[default |INFO|model.py:2540] [69/80]  loss: 6.508459e-02  D: 6.947462e-01  D2: -7.656124e-03  D3: 1.184564e-02  D4: 1.515113e-02\n",
      "test loss: 6.772280e-02  D: 6.963931e-01  D2: -7.994537e-03  D3: 1.156053e-02  D4: 1.446645e-02\n"
     ]
    },
    {
     "name": "stdout",
     "output_type": "stream",
     "text": [
      "[096/100]  test loss: 0.0681  D: 0.6924  D2: -0.0075  D3: 0.0105  D4: 0.01390\r"
     ]
    },
    {
     "name": "stderr",
     "output_type": "stream",
     "text": [
      "[default |INFO|model.py:2540] [70/80]  loss: 6.553389e-02  D: 6.947172e-01  D2: -7.736290e-03  D3: 1.168718e-02  D4: 1.500078e-02\n",
      "test loss: 6.805437e-02  D: 6.924415e-01  D2: -7.468557e-03  D3: 1.047560e-02  D4: 1.386537e-02\n"
     ]
    },
    {
     "name": "stdout",
     "output_type": "stream",
     "text": [
      "[096/100]  test loss: 0.0667  D: 0.6889  D2: -0.0082  D3: 0.0119  D4: 0.01502\r"
     ]
    },
    {
     "name": "stderr",
     "output_type": "stream",
     "text": [
      "[default |INFO|model.py:2540] [71/80]  loss: 6.485266e-02  D: 6.956018e-01  D2: -7.638156e-03  D3: 1.199416e-02  D4: 1.524215e-02\n",
      "test loss: 6.665211e-02  D: 6.889666e-01  D2: -8.161764e-03  D3: 1.191606e-02  D4: 1.495815e-02\n"
     ]
    },
    {
     "name": "stdout",
     "output_type": "stream",
     "text": [
      "[095/100]  test loss: 0.0690  D: 0.6920  D2: -0.0076  D3: 0.0109  D4: 0.01410\r"
     ]
    },
    {
     "name": "stderr",
     "output_type": "stream",
     "text": [
      "[default |INFO|model.py:2540] [72/80]  loss: 6.515030e-02  D: 6.946914e-01  D2: -7.782728e-03  D3: 1.166898e-02  D4: 1.497126e-02\n",
      "test loss: 6.880847e-02  D: 6.920909e-01  D2: -7.553549e-03  D3: 1.088650e-02  D4: 1.413462e-02\n"
     ]
    },
    {
     "name": "stdout",
     "output_type": "stream",
     "text": [
      "[096/100]  test loss: 0.0677  D: 0.6910  D2: -0.0076  D3: 0.0125  D4: 0.01581\r"
     ]
    },
    {
     "name": "stderr",
     "output_type": "stream",
     "text": [
      "[default |INFO|model.py:2540] [73/80]  loss: 6.481595e-02  D: 6.938370e-01  D2: -7.761758e-03  D3: 1.174952e-02  D4: 1.505880e-02\n",
      "test loss: 6.776447e-02  D: 6.909173e-01  D2: -7.628956e-03  D3: 1.250347e-02  D4: 1.578797e-02\n"
     ]
    },
    {
     "name": "stdout",
     "output_type": "stream",
     "text": [
      "[096/100]  test loss: 0.0680  D: 0.6730  D2: -0.0079  D3: 0.0111  D4: 0.01421\r"
     ]
    },
    {
     "name": "stderr",
     "output_type": "stream",
     "text": [
      "[default |INFO|model.py:2540] [74/80]  loss: 6.479730e-02  D: 6.963979e-01  D2: -7.859263e-03  D3: 1.182740e-02  D4: 1.513746e-02\n",
      "test loss: 6.786307e-02  D: 6.729941e-01  D2: -7.900934e-03  D3: 1.110793e-02  D4: 1.418418e-02\n"
     ]
    },
    {
     "name": "stdout",
     "output_type": "stream",
     "text": [
      "[096/100]  test loss: 0.0661  D: 0.7152  D2: -0.0077  D3: 0.0128  D4: 0.01630\r"
     ]
    },
    {
     "name": "stderr",
     "output_type": "stream",
     "text": [
      "[default |INFO|model.py:2540] [75/80]  loss: 6.434718e-02  D: 6.934150e-01  D2: -7.885297e-03  D3: 1.163484e-02  D4: 1.502789e-02\n",
      "test loss: 6.608340e-02  D: 7.152424e-01  D2: -7.714863e-03  D3: 1.278661e-02  D4: 1.625966e-02\n"
     ]
    },
    {
     "name": "stdout",
     "output_type": "stream",
     "text": [
      "[096/100]  test loss: 0.0670  D: 0.6919  D2: -0.0083  D3: 0.0111  D4: 0.01450\r"
     ]
    },
    {
     "name": "stderr",
     "output_type": "stream",
     "text": [
      "[default |INFO|model.py:2540] [76/80]  loss: 6.387230e-02  D: 6.947414e-01  D2: -7.872384e-03  D3: 1.174715e-02  D4: 1.502861e-02\n",
      "test loss: 6.711789e-02  D: 6.919055e-01  D2: -8.225126e-03  D3: 1.113472e-02  D4: 1.449426e-02\n"
     ]
    },
    {
     "name": "stdout",
     "output_type": "stream",
     "text": [
      "[096/100]  test loss: 0.0681  D: 0.6849  D2: -0.0084  D3: 0.0112  D4: 0.01439\r"
     ]
    },
    {
     "name": "stderr",
     "output_type": "stream",
     "text": [
      "[default |INFO|model.py:2540] [77/80]  loss: 6.493778e-02  D: 6.939713e-01  D2: -7.903736e-03  D3: 1.158835e-02  D4: 1.491670e-02\n",
      "test loss: 6.805394e-02  D: 6.848957e-01  D2: -8.397207e-03  D3: 1.122036e-02  D4: 1.431824e-02\n"
     ]
    },
    {
     "name": "stdout",
     "output_type": "stream",
     "text": [
      "[096/100]  test loss: 0.0653  D: 0.6972  D2: -0.0082  D3: 0.0117  D4: 0.01490\r"
     ]
    },
    {
     "name": "stderr",
     "output_type": "stream",
     "text": [
      "[default |INFO|model.py:2540] [78/80]  loss: 6.355987e-02  D: 6.944884e-01  D2: -7.990821e-03  D3: 1.170077e-02  D4: 1.503381e-02\n",
      "test loss: 6.526820e-02  D: 6.971899e-01  D2: -8.204012e-03  D3: 1.168401e-02  D4: 1.489310e-02\n"
     ]
    },
    {
     "name": "stdout",
     "output_type": "stream",
     "text": [
      "[096/100]  test loss: 0.0670  D: 0.6816  D2: -0.0078  D3: 0.0111  D4: 0.01450\r"
     ]
    },
    {
     "name": "stderr",
     "output_type": "stream",
     "text": [
      "[default |INFO|model.py:2540] [79/80]  loss: 6.398844e-02  D: 6.942682e-01  D2: -7.871710e-03  D3: 1.175369e-02  D4: 1.503912e-02\n",
      "test loss: 6.708553e-02  D: 6.816450e-01  D2: -7.786980e-03  D3: 1.110678e-02  D4: 1.453094e-02\n"
     ]
    },
    {
     "name": "stdout",
     "output_type": "stream",
     "text": [
      "[095/100]  test loss: 0.0670  D: 0.6740  D2: -0.0084  D3: 0.0119  D4: 0.01500\r"
     ]
    },
    {
     "name": "stderr",
     "output_type": "stream",
     "text": [
      "[default |INFO|model.py:2540] [80/80]  loss: 6.436327e-02  D: 6.948230e-01  D2: -8.051531e-03  D3: 1.161638e-02  D4: 1.498522e-02\n",
      "test loss: 6.701850e-02  D: 6.740420e-01  D2: -8.425360e-03  D3: 1.191337e-02  D4: 1.504475e-02\n"
     ]
    },
    {
     "name": "stdout",
     "output_type": "stream",
     "text": [
      "[096/100]  test loss: 0.0671  D: 0.6740  D2: -0.0084  D3: 0.0119  D4: 0.0150\r",
      "[097/100]  test loss: 0.0670  D: 0.6741  D2: -0.0084  D3: 0.0119  D4: 0.0150\r",
      "[098/100]  test loss: 0.0670  D: 0.6740  D2: -0.0084  D3: 0.0119  D4: 0.0150\r",
      "[099/100]  test loss: 0.0670  D: 0.6740  D2: -0.0084  D3: 0.0119  D4: 0.0150\r",
      "[100/100]  test loss: 0.0670  D: 0.6740  D2: -0.0084  D3: 0.0119  D4: 0.0150\r"
     ]
    },
    {
     "name": "stderr",
     "output_type": "stream",
     "text": [
      "[default |INFO|model.py:2655] Training Finished!\n",
      "[default |INFO|model.py:2656] Elapsed time: 1632.347s\n"
     ]
    }
   ],
   "source": [
    "cfg = configparser.ConfigParser()\n",
    "cfg.read('./config/sswae_dev2_hsic_8.cfg')\n",
    "\n",
    "mm = cur_model(cfg, log, device = device)\n",
    "\n",
    "mm.gm.mu.load_state_dict(torch.load(f'./result/mu_{cfg[\"train_info\"][\"y_dim\"]}.pt'))\n",
    "mm.gm.cov.load_state_dict(torch.load(f'./result/cov_{cfg[\"train_info\"][\"y_dim\"]}.pt'))\n",
    "\n",
    "mm.train()\n",
    "# mm.load('./%s' % (cfg['path_info']['save_path']))"
   ]
  },
  {
   "cell_type": "markdown",
   "metadata": {},
   "source": [
    "# Train - 4"
   ]
  },
  {
   "cell_type": "code",
   "execution_count": 6,
   "metadata": {
    "scrolled": true
   },
   "outputs": [
    {
     "name": "stderr",
     "output_type": "stream",
     "text": [
      "[default |INFO|_base_model.py:27] ------------------------------------------------------------\n",
      "[default |INFO|_base_model.py:29] model_name : SSWAE_HSIC_MNIST\n",
      "[default |INFO|_base_model.py:29] train_data : rmMNIST\n",
      "[default |INFO|_base_model.py:29] train_data_label : True\n",
      "[default |INFO|_base_model.py:29] z_sampler : gaus\n",
      "[default |INFO|_base_model.py:29] z_dim : 8\n",
      "[default |INFO|_base_model.py:29] y_sampler : gaus\n",
      "[default |INFO|_base_model.py:29] y_dim : 4\n",
      "[default |INFO|_base_model.py:29] labeled_class : 0,1,2,3,4,5,6,7,8,9\n",
      "[default |INFO|_base_model.py:29] unlabeled_class : \n",
      "[default |INFO|_base_model.py:29] test_class : \n",
      "[default |INFO|_base_model.py:29] portion : 1.0\n",
      "[default |INFO|_base_model.py:29] unk : False\n",
      "[default |INFO|_base_model.py:29] encoder_pretrain : False\n",
      "[default |INFO|_base_model.py:29] encoder_pretrain_step : 3\n",
      "[default |INFO|_base_model.py:29] lr : 5e-4\n",
      "[default |INFO|_base_model.py:29] beta1 : 0.5\n",
      "[default |INFO|_base_model.py:29] lr_adv : 2e-4\n",
      "[default |INFO|_base_model.py:29] beta1_adv : 0.5\n",
      "[default |INFO|_base_model.py:29] lambda : 10.0\n",
      "[default |INFO|_base_model.py:29] lambda_mmd : 10.0\n",
      "[default |INFO|_base_model.py:29] lambda_hsic : 10.0\n",
      "[default |INFO|_base_model.py:29] lr_schedule : manual\n",
      "[default |INFO|_base_model.py:29] validate : True\n",
      "[default |INFO|_base_model.py:29] histogram : True\n",
      "[default |INFO|_base_model.py:29] batch_size : 100\n",
      "[default |INFO|_base_model.py:29] epoch : 80\n",
      "[default |INFO|_base_model.py:29] replace : False\n",
      "[default |INFO|_base_model.py:29] save_best : False\n",
      "[default |INFO|_base_model.py:32] data_home : ./data/MNIST\n",
      "[default |INFO|_base_model.py:32] tb_logs : \n",
      "[default |INFO|_base_model.py:32] save_path : ./result/weights/sswae_dev2_hsic_9.pt\n",
      "[default |INFO|_base_model.py:32] save_state : ./result/states/sswae_dev2_hsic_9.pt\n",
      "[default |INFO|_base_model.py:32] save_img_path : \n",
      "[default |INFO|model.py:2419] ------------------------------------------------------------\n",
      "[default |INFO|model.py:2420] Training Start!\n"
     ]
    },
    {
     "name": "stdout",
     "output_type": "stream",
     "text": [
      "[096/100]  test loss: 0.2016  D: 0.7070  D2: 0.0051  D3: 0.0069  D4: 0.00639\r"
     ]
    },
    {
     "name": "stderr",
     "output_type": "stream",
     "text": [
      "[default |INFO|model.py:2540] [01/80]  loss: 2.524330e-01  D: 6.936313e-01  D2: 2.591851e-02  D3: 3.159874e-03  D4: 3.852710e-03\n",
      "test loss: 2.014596e-01  D: 7.070043e-01  D2: 5.134926e-03  D3: 6.869401e-03  D4: 6.277480e-03\n"
     ]
    },
    {
     "name": "stdout",
     "output_type": "stream",
     "text": [
      "[094/100]  test loss: 0.1622  D: 0.6799  D2: -0.0031  D3: 0.0054  D4: 0.00647\r"
     ]
    },
    {
     "name": "stderr",
     "output_type": "stream",
     "text": [
      "[default |INFO|model.py:2540] [02/80]  loss: 1.792349e-01  D: 6.942729e-01  D2: -5.808401e-04  D3: 5.844715e-03  D4: 6.725689e-03\n",
      "test loss: 1.620666e-01  D: 6.798935e-01  D2: -3.225346e-03  D3: 5.371416e-03  D4: 6.435423e-03\n"
     ]
    },
    {
     "name": "stdout",
     "output_type": "stream",
     "text": [
      "[096/100]  test loss: 0.1428  D: 0.6863  D2: -0.0048  D3: 0.0053  D4: 0.00671\r"
     ]
    },
    {
     "name": "stderr",
     "output_type": "stream",
     "text": [
      "[default |INFO|model.py:2540] [03/80]  loss: 1.524677e-01  D: 6.941622e-01  D2: -4.362065e-03  D3: 5.721914e-03  D4: 7.132606e-03\n",
      "test loss: 1.426964e-01  D: 6.863093e-01  D2: -4.667492e-03  D3: 5.252641e-03  D4: 6.697985e-03\n"
     ]
    },
    {
     "name": "stdout",
     "output_type": "stream",
     "text": [
      "[096/100]  test loss: 0.1261  D: 0.6975  D2: -0.0050  D3: 0.0067  D4: 0.00895\r"
     ]
    },
    {
     "name": "stderr",
     "output_type": "stream",
     "text": [
      "[default |INFO|model.py:2540] [04/80]  loss: 1.349673e-01  D: 6.938751e-01  D2: -4.350888e-03  D3: 5.661753e-03  D4: 7.504312e-03\n",
      "test loss: 1.263030e-01  D: 6.975015e-01  D2: -5.018368e-03  D3: 6.738831e-03  D4: 8.876305e-03\n"
     ]
    },
    {
     "name": "stdout",
     "output_type": "stream",
     "text": [
      "[095/100]  test loss: 0.1374  D: 0.7355  D2: -0.0025  D3: 0.0099  D4: 0.01184\r"
     ]
    },
    {
     "name": "stderr",
     "output_type": "stream",
     "text": [
      "[default |INFO|model.py:2540] [05/80]  loss: 1.374213e-01  D: 7.117660e-01  D2: -4.294354e-03  D3: 7.857016e-03  D4: 9.405468e-03\n",
      "test loss: 1.375244e-01  D: 7.355580e-01  D2: -2.509861e-03  D3: 9.841933e-03  D4: 1.178463e-02\n"
     ]
    },
    {
     "name": "stdout",
     "output_type": "stream",
     "text": [
      "[096/100]  test loss: 0.1242  D: 0.7371  D2: -0.0048  D3: 0.0160  D4: 0.01711\r"
     ]
    },
    {
     "name": "stderr",
     "output_type": "stream",
     "text": [
      "[default |INFO|model.py:2540] [06/80]  loss: 1.234228e-01  D: 6.963999e-01  D2: -4.279561e-03  D3: 1.227195e-02  D4: 1.407921e-02\n",
      "test loss: 1.241651e-01  D: 7.371189e-01  D2: -4.711790e-03  D3: 1.592647e-02  D4: 1.708690e-02\n"
     ]
    },
    {
     "name": "stdout",
     "output_type": "stream",
     "text": [
      "[096/100]  test loss: 0.1048  D: 0.7280  D2: -0.0049  D3: 0.0154  D4: 0.01815\r"
     ]
    },
    {
     "name": "stderr",
     "output_type": "stream",
     "text": [
      "[default |INFO|model.py:2540] [07/80]  loss: 1.111103e-01  D: 6.932228e-01  D2: -4.497239e-03  D3: 1.376011e-02  D4: 1.551426e-02\n",
      "test loss: 1.050362e-01  D: 7.280651e-01  D2: -4.758425e-03  D3: 1.539070e-02  D4: 1.807935e-02\n"
     ]
    },
    {
     "name": "stdout",
     "output_type": "stream",
     "text": [
      "[096/100]  test loss: 0.1049  D: 0.6967  D2: -0.0053  D3: 0.0079  D4: 0.00928\r"
     ]
    },
    {
     "name": "stderr",
     "output_type": "stream",
     "text": [
      "[default |INFO|model.py:2540] [08/80]  loss: 1.096267e-01  D: 6.989156e-01  D2: -4.117513e-03  D3: 1.415649e-02  D4: 1.583960e-02\n",
      "test loss: 1.049492e-01  D: 6.966998e-01  D2: -5.320454e-03  D3: 7.910626e-03  D4: 9.263964e-03\n"
     ]
    },
    {
     "name": "stdout",
     "output_type": "stream",
     "text": [
      "[096/100]  test loss: 0.0880  D: 0.6522  D2: -0.0046  D3: 0.0111  D4: 0.01245\r"
     ]
    },
    {
     "name": "stderr",
     "output_type": "stream",
     "text": [
      "[default |INFO|model.py:2540] [09/80]  loss: 9.670124e-02  D: 6.964530e-01  D2: -4.592654e-03  D3: 1.273539e-02  D4: 1.445981e-02\n",
      "test loss: 8.800064e-02  D: 6.522554e-01  D2: -4.590998e-03  D3: 1.115564e-02  D4: 1.245357e-02\n"
     ]
    },
    {
     "name": "stdout",
     "output_type": "stream",
     "text": [
      "[095/100]  test loss: 0.1023  D: 0.6494  D2: -0.0039  D3: 0.0176  D4: 0.02069\r"
     ]
    },
    {
     "name": "stderr",
     "output_type": "stream",
     "text": [
      "[default |INFO|model.py:2540] [10/80]  loss: 9.406767e-02  D: 6.970403e-01  D2: -4.362354e-03  D3: 1.521657e-02  D4: 1.693131e-02\n",
      "test loss: 1.023843e-01  D: 6.494710e-01  D2: -3.959885e-03  D3: 1.758632e-02  D4: 2.059600e-02\n"
     ]
    },
    {
     "name": "stdout",
     "output_type": "stream",
     "text": [
      "[096/100]  test loss: 0.0866  D: 0.6998  D2: -0.0045  D3: 0.0162  D4: 0.01788\r"
     ]
    },
    {
     "name": "stderr",
     "output_type": "stream",
     "text": [
      "[default |INFO|model.py:2540] [11/80]  loss: 9.651511e-02  D: 6.969639e-01  D2: -4.141585e-03  D3: 1.506912e-02  D4: 1.682522e-02\n",
      "test loss: 8.661229e-02  D: 6.997710e-01  D2: -4.445534e-03  D3: 1.618042e-02  D4: 1.782628e-02\n"
     ]
    },
    {
     "name": "stdout",
     "output_type": "stream",
     "text": [
      "[096/100]  test loss: 0.0810  D: 0.6869  D2: -0.0054  D3: 0.0111  D4: 0.01275\r"
     ]
    },
    {
     "name": "stderr",
     "output_type": "stream",
     "text": [
      "[default |INFO|model.py:2540] [12/80]  loss: 8.460741e-02  D: 6.947786e-01  D2: -4.508266e-03  D3: 1.379525e-02  D4: 1.553274e-02\n",
      "test loss: 8.113359e-02  D: 6.868382e-01  D2: -5.284309e-03  D3: 1.109741e-02  D4: 1.265767e-02\n"
     ]
    },
    {
     "name": "stdout",
     "output_type": "stream",
     "text": [
      "[096/100]  test loss: 0.0844  D: 0.6903  D2: -0.0049  D3: 0.0147  D4: 0.01653\r"
     ]
    },
    {
     "name": "stderr",
     "output_type": "stream",
     "text": [
      "[default |INFO|model.py:2540] [13/80]  loss: 8.927370e-02  D: 6.963179e-01  D2: -4.735945e-03  D3: 1.440808e-02  D4: 1.625685e-02\n",
      "test loss: 8.429508e-02  D: 6.903145e-01  D2: -4.796066e-03  D3: 1.472305e-02  D4: 1.651813e-02\n"
     ]
    },
    {
     "name": "stdout",
     "output_type": "stream",
     "text": [
      "[096/100]  test loss: 0.0857  D: 0.6960  D2: -0.0046  D3: 0.0166  D4: 0.01887\r"
     ]
    },
    {
     "name": "stderr",
     "output_type": "stream",
     "text": [
      "[default |INFO|model.py:2540] [14/80]  loss: 8.216591e-02  D: 6.940207e-01  D2: -4.705968e-03  D3: 1.455425e-02  D4: 1.668248e-02\n",
      "test loss: 8.580242e-02  D: 6.959456e-01  D2: -4.613180e-03  D3: 1.652285e-02  D4: 1.878705e-02\n"
     ]
    },
    {
     "name": "stdout",
     "output_type": "stream",
     "text": [
      "[094/100]  test loss: 0.0785  D: 0.7100  D2: -0.0052  D3: 0.0171  D4: 0.01905\r"
     ]
    },
    {
     "name": "stderr",
     "output_type": "stream",
     "text": [
      "[default |INFO|model.py:2540] [15/80]  loss: 7.803536e-02  D: 6.944858e-01  D2: -4.731310e-03  D3: 1.462619e-02  D4: 1.652702e-02\n",
      "test loss: 7.861616e-02  D: 7.099662e-01  D2: -5.305672e-03  D3: 1.705651e-02  D4: 1.895422e-02\n"
     ]
    },
    {
     "name": "stdout",
     "output_type": "stream",
     "text": [
      "[096/100]  test loss: 0.0760  D: 0.6931  D2: -0.0049  D3: 0.0129  D4: 0.01514\r"
     ]
    },
    {
     "name": "stderr",
     "output_type": "stream",
     "text": [
      "[default |INFO|model.py:2540] [16/80]  loss: 7.839068e-02  D: 6.947688e-01  D2: -4.998776e-03  D3: 1.437948e-02  D4: 1.637245e-02\n",
      "test loss: 7.595936e-02  D: 6.930979e-01  D2: -4.850616e-03  D3: 1.292634e-02  D4: 1.502675e-02\n"
     ]
    },
    {
     "name": "stdout",
     "output_type": "stream",
     "text": [
      "[095/100]  test loss: 0.0726  D: 0.7032  D2: -0.0054  D3: 0.0140  D4: 0.01610\r"
     ]
    },
    {
     "name": "stderr",
     "output_type": "stream",
     "text": [
      "[default |INFO|model.py:2540] [17/80]  loss: 7.775582e-02  D: 6.942686e-01  D2: -5.147831e-03  D3: 1.385542e-02  D4: 1.596245e-02\n",
      "test loss: 7.247792e-02  D: 7.032471e-01  D2: -5.399628e-03  D3: 1.399307e-02  D4: 1.612774e-02\n"
     ]
    },
    {
     "name": "stdout",
     "output_type": "stream",
     "text": [
      "[096/100]  test loss: 0.0758  D: 0.7161  D2: -0.0051  D3: 0.0080  D4: 0.00944\r"
     ]
    },
    {
     "name": "stderr",
     "output_type": "stream",
     "text": [
      "[default |INFO|model.py:2540] [18/80]  loss: 8.226902e-02  D: 6.983044e-01  D2: -4.921325e-03  D3: 1.250261e-02  D4: 1.444871e-02\n",
      "test loss: 7.575010e-02  D: 7.161441e-01  D2: -5.126305e-03  D3: 7.937000e-03  D4: 9.454871e-03\n"
     ]
    },
    {
     "name": "stdout",
     "output_type": "stream",
     "text": [
      "[096/100]  test loss: 0.0817  D: 0.6808  D2: -0.0049  D3: 0.0162  D4: 0.01909\r"
     ]
    },
    {
     "name": "stderr",
     "output_type": "stream",
     "text": [
      "[default |INFO|model.py:2540] [19/80]  loss: 8.066989e-02  D: 6.976483e-01  D2: -5.068334e-03  D3: 1.264545e-02  D4: 1.489971e-02\n",
      "test loss: 8.172362e-02  D: 6.807819e-01  D2: -4.963932e-03  D3: 1.623522e-02  D4: 1.904521e-02\n"
     ]
    },
    {
     "name": "stdout",
     "output_type": "stream",
     "text": [
      "[096/100]  test loss: 0.0888  D: 0.7177  D2: -0.0054  D3: 0.0155  D4: 0.01792\r"
     ]
    },
    {
     "name": "stderr",
     "output_type": "stream",
     "text": [
      "[default |INFO|model.py:2540] [20/80]  loss: 7.714663e-02  D: 6.957218e-01  D2: -5.098788e-03  D3: 1.389725e-02  D4: 1.622356e-02\n",
      "test loss: 8.880514e-02  D: 7.176914e-01  D2: -5.523329e-03  D3: 1.546483e-02  D4: 1.786169e-02\n"
     ]
    },
    {
     "name": "stdout",
     "output_type": "stream",
     "text": [
      "[096/100]  test loss: 0.0770  D: 0.6964  D2: -0.0054  D3: 0.0163  D4: 0.01884\r"
     ]
    },
    {
     "name": "stderr",
     "output_type": "stream",
     "text": [
      "[default |INFO|model.py:2540] [21/80]  loss: 7.681613e-02  D: 6.948689e-01  D2: -4.990184e-03  D3: 1.417413e-02  D4: 1.638618e-02\n",
      "test loss: 7.686937e-02  D: 6.963682e-01  D2: -5.392704e-03  D3: 1.630112e-02  D4: 1.873194e-02\n"
     ]
    },
    {
     "name": "stdout",
     "output_type": "stream",
     "text": [
      "[096/100]  test loss: 0.0699  D: 0.6937  D2: -0.0051  D3: 0.0141  D4: 0.01686\r"
     ]
    },
    {
     "name": "stderr",
     "output_type": "stream",
     "text": [
      "[default |INFO|model.py:2540] [22/80]  loss: 7.149556e-02  D: 6.940416e-01  D2: -5.221804e-03  D3: 1.435164e-02  D4: 1.664052e-02\n",
      "test loss: 6.981862e-02  D: 6.936903e-01  D2: -5.198879e-03  D3: 1.411390e-02  D4: 1.683949e-02\n"
     ]
    },
    {
     "name": "stdout",
     "output_type": "stream",
     "text": [
      "[096/100]  test loss: 0.0695  D: 0.7109  D2: -0.0052  D3: 0.0166  D4: 0.01897\r"
     ]
    },
    {
     "name": "stderr",
     "output_type": "stream",
     "text": [
      "[default |INFO|model.py:2540] [23/80]  loss: 7.038048e-02  D: 6.938017e-01  D2: -5.329564e-03  D3: 1.434482e-02  D4: 1.671906e-02\n",
      "test loss: 6.950097e-02  D: 7.108787e-01  D2: -5.209360e-03  D3: 1.662034e-02  D4: 1.891544e-02\n"
     ]
    },
    {
     "name": "stdout",
     "output_type": "stream",
     "text": [
      "[096/100]  test loss: 0.0679  D: 0.7012  D2: -0.0055  D3: 0.0149  D4: 0.01777\r"
     ]
    },
    {
     "name": "stderr",
     "output_type": "stream",
     "text": [
      "[default |INFO|model.py:2540] [24/80]  loss: 6.796664e-02  D: 6.950259e-01  D2: -5.542520e-03  D3: 1.422611e-02  D4: 1.667533e-02\n",
      "test loss: 6.797408e-02  D: 7.011919e-01  D2: -5.578985e-03  D3: 1.486809e-02  D4: 1.764202e-02\n"
     ]
    },
    {
     "name": "stdout",
     "output_type": "stream",
     "text": [
      "[096/100]  test loss: 0.0684  D: 0.6944  D2: -0.0056  D3: 0.0151  D4: 0.01760\r"
     ]
    },
    {
     "name": "stderr",
     "output_type": "stream",
     "text": [
      "[default |INFO|model.py:2540] [25/80]  loss: 6.664665e-02  D: 6.959282e-01  D2: -5.456128e-03  D3: 1.354437e-02  D4: 1.604717e-02\n",
      "test loss: 6.830932e-02  D: 6.943567e-01  D2: -5.681162e-03  D3: 1.513725e-02  D4: 1.764770e-02\n"
     ]
    },
    {
     "name": "stdout",
     "output_type": "stream",
     "text": [
      "[096/100]  test loss: 0.0672  D: 0.6514  D2: -0.0062  D3: 0.0137  D4: 0.01613\r"
     ]
    },
    {
     "name": "stderr",
     "output_type": "stream",
     "text": [
      "[default |INFO|model.py:2540] [26/80]  loss: 6.682360e-02  D: 6.951521e-01  D2: -5.578575e-03  D3: 1.382880e-02  D4: 1.631151e-02\n",
      "test loss: 6.708187e-02  D: 6.513826e-01  D2: -6.293793e-03  D3: 1.367140e-02  D4: 1.609038e-02\n"
     ]
    },
    {
     "name": "stdout",
     "output_type": "stream",
     "text": [
      "[096/100]  test loss: 0.0644  D: 0.6851  D2: -0.0060  D3: 0.0133  D4: 0.01588\r"
     ]
    },
    {
     "name": "stderr",
     "output_type": "stream",
     "text": [
      "[default |INFO|model.py:2540] [27/80]  loss: 6.644655e-02  D: 6.951011e-01  D2: -5.554128e-03  D3: 1.343718e-02  D4: 1.582860e-02\n",
      "test loss: 6.436577e-02  D: 6.851545e-01  D2: -6.015730e-03  D3: 1.332311e-02  D4: 1.582648e-02\n"
     ]
    },
    {
     "name": "stdout",
     "output_type": "stream",
     "text": [
      "[095/100]  test loss: 0.0652  D: 0.6930  D2: -0.0063  D3: 0.0128  D4: 0.01546\r"
     ]
    },
    {
     "name": "stderr",
     "output_type": "stream",
     "text": [
      "[default |INFO|model.py:2540] [28/80]  loss: 6.568490e-02  D: 6.939669e-01  D2: -5.602495e-03  D3: 1.399328e-02  D4: 1.660006e-02\n",
      "test loss: 6.507451e-02  D: 6.929849e-01  D2: -6.294489e-03  D3: 1.279744e-02  D4: 1.532317e-02\n"
     ]
    },
    {
     "name": "stdout",
     "output_type": "stream",
     "text": [
      "[096/100]  test loss: 0.0651  D: 0.6909  D2: -0.0059  D3: 0.0144  D4: 0.01709\r"
     ]
    },
    {
     "name": "stderr",
     "output_type": "stream",
     "text": [
      "[default |INFO|model.py:2540] [29/80]  loss: 6.436943e-02  D: 6.955258e-01  D2: -5.831431e-03  D3: 1.340718e-02  D4: 1.589936e-02\n",
      "test loss: 6.517423e-02  D: 6.909159e-01  D2: -5.947170e-03  D3: 1.440468e-02  D4: 1.706499e-02\n"
     ]
    },
    {
     "name": "stdout",
     "output_type": "stream",
     "text": [
      "[096/100]  test loss: 0.0665  D: 0.6894  D2: -0.0055  D3: 0.0155  D4: 0.01814\r"
     ]
    },
    {
     "name": "stderr",
     "output_type": "stream",
     "text": [
      "[default |INFO|model.py:2540] [30/80]  loss: 6.507094e-02  D: 6.957660e-01  D2: -5.809452e-03  D3: 1.377844e-02  D4: 1.636814e-02\n",
      "test loss: 6.631713e-02  D: 6.894325e-01  D2: -5.578461e-03  D3: 1.550285e-02  D4: 1.810864e-02\n"
     ]
    },
    {
     "name": "stdout",
     "output_type": "stream",
     "text": [
      "[096/100]  test loss: 0.0652  D: 0.7063  D2: -0.0061  D3: 0.0112  D4: 0.01350\r"
     ]
    },
    {
     "name": "stderr",
     "output_type": "stream",
     "text": [
      "[default |INFO|model.py:2540] [31/80]  loss: 6.243564e-02  D: 6.943003e-01  D2: -6.031523e-03  D3: 1.330604e-02  D4: 1.600839e-02\n",
      "test loss: 6.514492e-02  D: 7.062873e-01  D2: -6.081362e-03  D3: 1.117774e-02  D4: 1.348476e-02\n"
     ]
    },
    {
     "name": "stdout",
     "output_type": "stream",
     "text": [
      "[096/100]  test loss: 0.0611  D: 0.6977  D2: -0.0066  D3: 0.0134  D4: 0.01629\r"
     ]
    },
    {
     "name": "stderr",
     "output_type": "stream",
     "text": [
      "[default |INFO|model.py:2540] [32/80]  loss: 6.370029e-02  D: 6.958367e-01  D2: -6.007366e-03  D3: 1.329578e-02  D4: 1.586865e-02\n",
      "test loss: 6.132933e-02  D: 6.976520e-01  D2: -6.568737e-03  D3: 1.338530e-02  D4: 1.626147e-02\n"
     ]
    },
    {
     "name": "stdout",
     "output_type": "stream",
     "text": [
      "[096/100]  test loss: 0.0615  D: 0.6946  D2: -0.0062  D3: 0.0112  D4: 0.01350\r"
     ]
    },
    {
     "name": "stderr",
     "output_type": "stream",
     "text": [
      "[default |INFO|model.py:2540] [33/80]  loss: 6.306876e-02  D: 6.943944e-01  D2: -6.228250e-03  D3: 1.332780e-02  D4: 1.601821e-02\n",
      "test loss: 6.150711e-02  D: 6.945737e-01  D2: -6.192217e-03  D3: 1.116295e-02  D4: 1.352123e-02\n"
     ]
    },
    {
     "name": "stdout",
     "output_type": "stream",
     "text": [
      "[096/100]  test loss: 0.0652  D: 0.7090  D2: -0.0063  D3: 0.0150  D4: 0.01686\r"
     ]
    },
    {
     "name": "stderr",
     "output_type": "stream",
     "text": [
      "[default |INFO|model.py:2540] [34/80]  loss: 6.607716e-02  D: 6.976973e-01  D2: -6.253255e-03  D3: 1.299215e-02  D4: 1.558297e-02\n",
      "test loss: 6.509387e-02  D: 7.089804e-01  D2: -6.213207e-03  D3: 1.492231e-02  D4: 1.685044e-02\n"
     ]
    },
    {
     "name": "stdout",
     "output_type": "stream",
     "text": [
      "[096/100]  test loss: 0.0667  D: 0.6778  D2: -0.0070  D3: 0.0115  D4: 0.01378\r"
     ]
    },
    {
     "name": "stderr",
     "output_type": "stream",
     "text": [
      "[default |INFO|model.py:2540] [35/80]  loss: 6.253047e-02  D: 6.946607e-01  D2: -6.397196e-03  D3: 1.329791e-02  D4: 1.579730e-02\n",
      "test loss: 6.657136e-02  D: 6.777942e-01  D2: -7.030716e-03  D3: 1.150579e-02  D4: 1.369159e-02\n"
     ]
    },
    {
     "name": "stdout",
     "output_type": "stream",
     "text": [
      "[096/100]  test loss: 0.0628  D: 0.6861  D2: -0.0068  D3: 0.0139  D4: 0.01599\r"
     ]
    },
    {
     "name": "stderr",
     "output_type": "stream",
     "text": [
      "[default |INFO|model.py:2540] [36/80]  loss: 6.270355e-02  D: 6.961435e-01  D2: -6.339280e-03  D3: 1.336323e-02  D4: 1.587998e-02\n",
      "test loss: 6.261042e-02  D: 6.860597e-01  D2: -6.782932e-03  D3: 1.391591e-02  D4: 1.588717e-02\n"
     ]
    },
    {
     "name": "stdout",
     "output_type": "stream",
     "text": [
      "[096/100]  test loss: 0.0602  D: 0.6920  D2: -0.0071  D3: 0.0147  D4: 0.01682\r"
     ]
    },
    {
     "name": "stderr",
     "output_type": "stream",
     "text": [
      "[default |INFO|model.py:2540] [37/80]  loss: 6.356200e-02  D: 6.951496e-01  D2: -6.589033e-03  D3: 1.268585e-02  D4: 1.523769e-02\n",
      "test loss: 6.001920e-02  D: 6.920593e-01  D2: -7.115612e-03  D3: 1.467719e-02  D4: 1.680734e-02\n"
     ]
    },
    {
     "name": "stdout",
     "output_type": "stream",
     "text": [
      "[096/100]  test loss: 0.0643  D: 0.7081  D2: -0.0063  D3: 0.0163  D4: 0.01879\r"
     ]
    },
    {
     "name": "stderr",
     "output_type": "stream",
     "text": [
      "[default |INFO|model.py:2540] [38/80]  loss: 6.030520e-02  D: 6.942543e-01  D2: -6.610942e-03  D3: 1.344440e-02  D4: 1.594589e-02\n",
      "test loss: 6.440667e-02  D: 7.080991e-01  D2: -6.238813e-03  D3: 1.632338e-02  D4: 1.865621e-02\n"
     ]
    },
    {
     "name": "stdout",
     "output_type": "stream",
     "text": [
      "[095/100]  test loss: 0.0602  D: 0.6915  D2: -0.0067  D3: 0.0141  D4: 0.01708\r"
     ]
    },
    {
     "name": "stderr",
     "output_type": "stream",
     "text": [
      "[default |INFO|model.py:2540] [39/80]  loss: 6.113687e-02  D: 6.956547e-01  D2: -6.607447e-03  D3: 1.307538e-02  D4: 1.576863e-02\n",
      "test loss: 6.011025e-02  D: 6.915139e-01  D2: -6.788902e-03  D3: 1.408575e-02  D4: 1.706892e-02\n"
     ]
    },
    {
     "name": "stdout",
     "output_type": "stream",
     "text": [
      "[096/100]  test loss: 0.0603  D: 0.7051  D2: -0.0072  D3: 0.0138  D4: 0.01691\r"
     ]
    },
    {
     "name": "stderr",
     "output_type": "stream",
     "text": [
      "[default |INFO|model.py:2540] [40/80]  loss: 6.099284e-02  D: 6.935099e-01  D2: -6.701605e-03  D3: 1.351771e-02  D4: 1.606078e-02\n",
      "test loss: 6.020370e-02  D: 7.051205e-01  D2: -7.217197e-03  D3: 1.377082e-02  D4: 1.687842e-02\n"
     ]
    },
    {
     "name": "stdout",
     "output_type": "stream",
     "text": [
      "[096/100]  test loss: 0.0597  D: 0.7009  D2: -0.0071  D3: 0.0141  D4: 0.01661\r"
     ]
    },
    {
     "name": "stderr",
     "output_type": "stream",
     "text": [
      "[default |INFO|model.py:2540] [41/80]  loss: 5.923252e-02  D: 6.944300e-01  D2: -6.732545e-03  D3: 1.357498e-02  D4: 1.614735e-02\n",
      "test loss: 5.959497e-02  D: 7.009376e-01  D2: -7.114315e-03  D3: 1.407379e-02  D4: 1.662297e-02\n"
     ]
    },
    {
     "name": "stdout",
     "output_type": "stream",
     "text": [
      "[096/100]  test loss: 0.0616  D: 0.6898  D2: -0.0065  D3: 0.0119  D4: 0.01429\r"
     ]
    },
    {
     "name": "stderr",
     "output_type": "stream",
     "text": [
      "[default |INFO|model.py:2540] [42/80]  loss: 5.950200e-02  D: 6.939723e-01  D2: -6.755749e-03  D3: 1.320649e-02  D4: 1.586309e-02\n",
      "test loss: 6.149706e-02  D: 6.898126e-01  D2: -6.527824e-03  D3: 1.194434e-02  D4: 1.422638e-02\n"
     ]
    },
    {
     "name": "stdout",
     "output_type": "stream",
     "text": [
      "[096/100]  test loss: 0.0625  D: 0.6785  D2: -0.0072  D3: 0.0115  D4: 0.01417\r"
     ]
    },
    {
     "name": "stderr",
     "output_type": "stream",
     "text": [
      "[default |INFO|model.py:2540] [43/80]  loss: 6.183579e-02  D: 6.960258e-01  D2: -6.836133e-03  D3: 1.305430e-02  D4: 1.569475e-02\n",
      "test loss: 6.247148e-02  D: 6.785354e-01  D2: -7.182512e-03  D3: 1.153864e-02  D4: 1.411274e-02\n"
     ]
    },
    {
     "name": "stdout",
     "output_type": "stream",
     "text": [
      "[095/100]  test loss: 0.0628  D: 0.7022  D2: -0.0076  D3: 0.0141  D4: 0.01629\r"
     ]
    },
    {
     "name": "stderr",
     "output_type": "stream",
     "text": [
      "[default |INFO|model.py:2540] [44/80]  loss: 6.013080e-02  D: 6.950335e-01  D2: -7.022723e-03  D3: 1.322942e-02  D4: 1.593407e-02\n",
      "test loss: 6.274850e-02  D: 7.022586e-01  D2: -7.544298e-03  D3: 1.410299e-02  D4: 1.627263e-02\n"
     ]
    },
    {
     "name": "stdout",
     "output_type": "stream",
     "text": [
      "[096/100]  test loss: 0.0580  D: 0.7073  D2: -0.0075  D3: 0.0120  D4: 0.01458\r"
     ]
    },
    {
     "name": "stderr",
     "output_type": "stream",
     "text": [
      "[default |INFO|model.py:2540] [45/80]  loss: 5.947246e-02  D: 6.940848e-01  D2: -7.133636e-03  D3: 1.319542e-02  D4: 1.584119e-02\n",
      "test loss: 5.801927e-02  D: 7.072740e-01  D2: -7.518644e-03  D3: 1.205681e-02  D4: 1.448562e-02\n"
     ]
    },
    {
     "name": "stdout",
     "output_type": "stream",
     "text": [
      "[096/100]  test loss: 0.0606  D: 0.7054  D2: -0.0073  D3: 0.0143  D4: 0.01696\r"
     ]
    },
    {
     "name": "stderr",
     "output_type": "stream",
     "text": [
      "[default |INFO|model.py:2540] [46/80]  loss: 6.026064e-02  D: 6.957905e-01  D2: -7.086976e-03  D3: 1.293298e-02  D4: 1.557706e-02\n",
      "test loss: 6.059435e-02  D: 7.054210e-01  D2: -7.255936e-03  D3: 1.433263e-02  D4: 1.689802e-02\n"
     ]
    },
    {
     "name": "stdout",
     "output_type": "stream",
     "text": [
      "[096/100]  test loss: 0.0615  D: 0.6888  D2: -0.0074  D3: 0.0107  D4: 0.01277\r"
     ]
    },
    {
     "name": "stderr",
     "output_type": "stream",
     "text": [
      "[default |INFO|model.py:2540] [47/80]  loss: 5.911458e-02  D: 6.942562e-01  D2: -7.190698e-03  D3: 1.306570e-02  D4: 1.567784e-02\n",
      "test loss: 6.169952e-02  D: 6.887471e-01  D2: -7.377253e-03  D3: 1.069129e-02  D4: 1.273521e-02\n"
     ]
    },
    {
     "name": "stdout",
     "output_type": "stream",
     "text": [
      "[095/100]  test loss: 0.0620  D: 0.6821  D2: -0.0080  D3: 0.0135  D4: 0.01624\r"
     ]
    },
    {
     "name": "stderr",
     "output_type": "stream",
     "text": [
      "[default |INFO|model.py:2540] [48/80]  loss: 6.090531e-02  D: 6.951422e-01  D2: -7.137642e-03  D3: 1.271578e-02  D4: 1.541082e-02\n",
      "test loss: 6.209592e-02  D: 6.821110e-01  D2: -7.913008e-03  D3: 1.353753e-02  D4: 1.617424e-02\n"
     ]
    },
    {
     "name": "stdout",
     "output_type": "stream",
     "text": [
      "[095/100]  test loss: 0.0582  D: 0.6976  D2: -0.0075  D3: 0.0126  D4: 0.01539\r"
     ]
    },
    {
     "name": "stderr",
     "output_type": "stream",
     "text": [
      "[default |INFO|model.py:2540] [49/80]  loss: 5.967919e-02  D: 6.953189e-01  D2: -7.107231e-03  D3: 1.317796e-02  D4: 1.586658e-02\n",
      "test loss: 5.809133e-02  D: 6.975165e-01  D2: -7.502880e-03  D3: 1.263582e-02  D4: 1.531314e-02\n"
     ]
    },
    {
     "name": "stdout",
     "output_type": "stream",
     "text": [
      "[096/100]  test loss: 0.0584  D: 0.7001  D2: -0.0077  D3: 0.0114  D4: 0.01419\r"
     ]
    },
    {
     "name": "stderr",
     "output_type": "stream",
     "text": [
      "[default |INFO|model.py:2540] [50/80]  loss: 5.660539e-02  D: 6.937500e-01  D2: -7.390927e-03  D3: 1.324192e-02  D4: 1.588626e-02\n",
      "test loss: 5.823706e-02  D: 7.001033e-01  D2: -7.729645e-03  D3: 1.137882e-02  D4: 1.404503e-02\n"
     ]
    },
    {
     "name": "stdout",
     "output_type": "stream",
     "text": [
      "[095/100]  test loss: 0.0583  D: 0.7320  D2: -0.0075  D3: 0.0128  D4: 0.01537\r"
     ]
    },
    {
     "name": "stderr",
     "output_type": "stream",
     "text": [
      "[default |INFO|model.py:2540] [51/80]  loss: 5.816445e-02  D: 6.939093e-01  D2: -7.407416e-03  D3: 1.303654e-02  D4: 1.571002e-02\n",
      "test loss: 5.835560e-02  D: 7.320071e-01  D2: -7.532148e-03  D3: 1.281662e-02  D4: 1.526332e-02\n"
     ]
    },
    {
     "name": "stdout",
     "output_type": "stream",
     "text": [
      "[095/100]  test loss: 0.0567  D: 0.6868  D2: -0.0079  D3: 0.0134  D4: 0.01616\r"
     ]
    },
    {
     "name": "stderr",
     "output_type": "stream",
     "text": [
      "[default |INFO|model.py:2540] [52/80]  loss: 5.799389e-02  D: 6.959813e-01  D2: -7.478159e-03  D3: 1.283339e-02  D4: 1.557195e-02\n",
      "test loss: 5.682956e-02  D: 6.867883e-01  D2: -7.908869e-03  D3: 1.335975e-02  D4: 1.604334e-02\n"
     ]
    },
    {
     "name": "stdout",
     "output_type": "stream",
     "text": [
      "[096/100]  test loss: 0.0601  D: 0.6897  D2: -0.0073  D3: 0.0114  D4: 0.01416\r"
     ]
    },
    {
     "name": "stderr",
     "output_type": "stream",
     "text": [
      "[default |INFO|model.py:2540] [53/80]  loss: 5.794896e-02  D: 6.946296e-01  D2: -7.517473e-03  D3: 1.296805e-02  D4: 1.560069e-02\n",
      "test loss: 6.011540e-02  D: 6.896911e-01  D2: -7.390118e-03  D3: 1.141359e-02  D4: 1.408722e-02\n"
     ]
    },
    {
     "name": "stdout",
     "output_type": "stream",
     "text": [
      "[096/100]  test loss: 0.0596  D: 0.6849  D2: -0.0078  D3: 0.0110  D4: 0.01336\r"
     ]
    },
    {
     "name": "stderr",
     "output_type": "stream",
     "text": [
      "[default |INFO|model.py:2540] [54/80]  loss: 5.847395e-02  D: 6.947605e-01  D2: -7.671274e-03  D3: 1.284919e-02  D4: 1.562405e-02\n",
      "test loss: 5.958459e-02  D: 6.849262e-01  D2: -7.810383e-03  D3: 1.108045e-02  D4: 1.338527e-02\n"
     ]
    },
    {
     "name": "stdout",
     "output_type": "stream",
     "text": [
      "[096/100]  test loss: 0.0608  D: 0.6887  D2: -0.0078  D3: 0.0134  D4: 0.01625\r"
     ]
    },
    {
     "name": "stderr",
     "output_type": "stream",
     "text": [
      "[default |INFO|model.py:2540] [55/80]  loss: 5.891643e-02  D: 6.932028e-01  D2: -7.607751e-03  D3: 1.287493e-02  D4: 1.554800e-02\n",
      "test loss: 6.070971e-02  D: 6.886735e-01  D2: -7.799425e-03  D3: 1.337899e-02  D4: 1.624124e-02\n"
     ]
    },
    {
     "name": "stdout",
     "output_type": "stream",
     "text": [
      "[096/100]  test loss: 0.0577  D: 0.6847  D2: -0.0077  D3: 0.0124  D4: 0.01526\r"
     ]
    },
    {
     "name": "stderr",
     "output_type": "stream",
     "text": [
      "[default |INFO|model.py:2540] [56/80]  loss: 5.655284e-02  D: 6.921719e-01  D2: -7.689190e-03  D3: 1.291819e-02  D4: 1.562427e-02\n",
      "test loss: 5.784381e-02  D: 6.846434e-01  D2: -7.730236e-03  D3: 1.247850e-02  D4: 1.526051e-02\n"
     ]
    },
    {
     "name": "stdout",
     "output_type": "stream",
     "text": [
      "[096/100]  test loss: 0.0604  D: 0.6899  D2: -0.0079  D3: 0.0141  D4: 0.01673\r"
     ]
    },
    {
     "name": "stderr",
     "output_type": "stream",
     "text": [
      "[default |INFO|model.py:2540] [57/80]  loss: 5.631477e-02  D: 6.923035e-01  D2: -7.782415e-03  D3: 1.261123e-02  D4: 1.525888e-02\n",
      "test loss: 6.047222e-02  D: 6.898984e-01  D2: -7.850990e-03  D3: 1.408679e-02  D4: 1.671681e-02\n"
     ]
    },
    {
     "name": "stdout",
     "output_type": "stream",
     "text": [
      "[096/100]  test loss: 0.0576  D: 0.6894  D2: -0.0076  D3: 0.0119  D4: 0.01477\r"
     ]
    },
    {
     "name": "stderr",
     "output_type": "stream",
     "text": [
      "[default |INFO|model.py:2540] [58/80]  loss: 5.533442e-02  D: 6.939782e-01  D2: -7.947421e-03  D3: 1.299054e-02  D4: 1.570723e-02\n",
      "test loss: 5.745680e-02  D: 6.894689e-01  D2: -7.645054e-03  D3: 1.186055e-02  D4: 1.466226e-02\n"
     ]
    },
    {
     "name": "stdout",
     "output_type": "stream",
     "text": [
      "[096/100]  test loss: 0.0567  D: 0.7084  D2: -0.0079  D3: 0.0122  D4: 0.01546\r"
     ]
    },
    {
     "name": "stderr",
     "output_type": "stream",
     "text": [
      "[default |INFO|model.py:2540] [59/80]  loss: 5.621543e-02  D: 6.951622e-01  D2: -7.871593e-03  D3: 1.275389e-02  D4: 1.556101e-02\n",
      "test loss: 5.677633e-02  D: 7.083464e-01  D2: -7.923822e-03  D3: 1.221394e-02  D4: 1.539227e-02\n"
     ]
    },
    {
     "name": "stdout",
     "output_type": "stream",
     "text": [
      "[094/100]  test loss: 0.0601  D: 0.6946  D2: -0.0078  D3: 0.0096  D4: 0.01225\r"
     ]
    },
    {
     "name": "stderr",
     "output_type": "stream",
     "text": [
      "[default |INFO|model.py:2540] [60/80]  loss: 5.661933e-02  D: 6.950320e-01  D2: -7.919345e-03  D3: 1.257432e-02  D4: 1.547232e-02\n",
      "test loss: 5.992576e-02  D: 6.946604e-01  D2: -7.782650e-03  D3: 9.527514e-03  D4: 1.221638e-02\n"
     ]
    },
    {
     "name": "stdout",
     "output_type": "stream",
     "text": [
      "[096/100]  test loss: 0.0564  D: 0.7077  D2: -0.0077  D3: 0.0117  D4: 0.01435\r"
     ]
    },
    {
     "name": "stderr",
     "output_type": "stream",
     "text": [
      "[default |INFO|model.py:2540] [61/80]  loss: 5.742594e-02  D: 6.935038e-01  D2: -7.892083e-03  D3: 1.266998e-02  D4: 1.553425e-02\n",
      "test loss: 5.651234e-02  D: 7.076617e-01  D2: -7.727146e-03  D3: 1.162529e-02  D4: 1.434569e-02\n"
     ]
    },
    {
     "name": "stdout",
     "output_type": "stream",
     "text": [
      "[096/100]  test loss: 0.0570  D: 0.7025  D2: -0.0078  D3: 0.0130  D4: 0.01573\r"
     ]
    },
    {
     "name": "stderr",
     "output_type": "stream",
     "text": [
      "[default |INFO|model.py:2540] [62/80]  loss: 5.720165e-02  D: 6.949194e-01  D2: -8.037224e-03  D3: 1.242192e-02  D4: 1.531613e-02\n",
      "test loss: 5.704552e-02  D: 7.025402e-01  D2: -7.782545e-03  D3: 1.300203e-02  D4: 1.569912e-02\n"
     ]
    },
    {
     "name": "stdout",
     "output_type": "stream",
     "text": [
      "[096/100]  test loss: 0.0563  D: 0.7500  D2: -0.0083  D3: 0.0131  D4: 0.01593\r"
     ]
    },
    {
     "name": "stderr",
     "output_type": "stream",
     "text": [
      "[default |INFO|model.py:2540] [63/80]  loss: 5.664215e-02  D: 6.940529e-01  D2: -8.070771e-03  D3: 1.245952e-02  D4: 1.526462e-02\n",
      "test loss: 5.625484e-02  D: 7.499749e-01  D2: -8.313284e-03  D3: 1.308999e-02  D4: 1.589686e-02\n"
     ]
    },
    {
     "name": "stdout",
     "output_type": "stream",
     "text": [
      "[096/100]  test loss: 0.0581  D: 0.6819  D2: -0.0082  D3: 0.0112  D4: 0.01413\r"
     ]
    },
    {
     "name": "stderr",
     "output_type": "stream",
     "text": [
      "[default |INFO|model.py:2540] [64/80]  loss: 5.642336e-02  D: 6.940558e-01  D2: -8.141184e-03  D3: 1.240646e-02  D4: 1.534300e-02\n",
      "test loss: 5.803451e-02  D: 6.819109e-01  D2: -8.202934e-03  D3: 1.127142e-02  D4: 1.409450e-02\n"
     ]
    },
    {
     "name": "stdout",
     "output_type": "stream",
     "text": [
      "[096/100]  test loss: 0.0575  D: 0.6927  D2: -0.0083  D3: 0.0129  D4: 0.01554\r"
     ]
    },
    {
     "name": "stderr",
     "output_type": "stream",
     "text": [
      "[default |INFO|model.py:2540] [65/80]  loss: 5.724994e-02  D: 6.924374e-01  D2: -8.040811e-03  D3: 1.247396e-02  D4: 1.538626e-02\n",
      "test loss: 5.744706e-02  D: 6.926863e-01  D2: -8.314056e-03  D3: 1.284868e-02  D4: 1.551932e-02\n"
     ]
    },
    {
     "name": "stdout",
     "output_type": "stream",
     "text": [
      "[096/100]  test loss: 0.0563  D: 0.6993  D2: -0.0085  D3: 0.0122  D4: 0.01505\r"
     ]
    },
    {
     "name": "stderr",
     "output_type": "stream",
     "text": [
      "[default |INFO|model.py:2540] [66/80]  loss: 5.705633e-02  D: 6.962766e-01  D2: -8.221393e-03  D3: 1.261903e-02  D4: 1.551239e-02\n",
      "test loss: 5.638733e-02  D: 6.992991e-01  D2: -8.497515e-03  D3: 1.216844e-02  D4: 1.499610e-02\n"
     ]
    },
    {
     "name": "stdout",
     "output_type": "stream",
     "text": [
      "[096/100]  test loss: 0.0571  D: 0.6997  D2: -0.0082  D3: 0.0135  D4: 0.01614\r"
     ]
    },
    {
     "name": "stderr",
     "output_type": "stream",
     "text": [
      "[default |INFO|model.py:2540] [67/80]  loss: 5.632396e-02  D: 6.962821e-01  D2: -8.346008e-03  D3: 1.252160e-02  D4: 1.541656e-02\n",
      "test loss: 5.712044e-02  D: 6.996809e-01  D2: -8.223772e-03  D3: 1.348093e-02  D4: 1.614399e-02\n"
     ]
    },
    {
     "name": "stdout",
     "output_type": "stream",
     "text": [
      "[096/100]  test loss: 0.0587  D: 0.7008  D2: -0.0085  D3: 0.0131  D4: 0.01596\r"
     ]
    },
    {
     "name": "stderr",
     "output_type": "stream",
     "text": [
      "[default |INFO|model.py:2540] [68/80]  loss: 5.600126e-02  D: 6.950405e-01  D2: -8.234994e-03  D3: 1.262024e-02  D4: 1.556936e-02\n",
      "test loss: 5.891851e-02  D: 7.008071e-01  D2: -8.486528e-03  D3: 1.313546e-02  D4: 1.589701e-02\n"
     ]
    },
    {
     "name": "stdout",
     "output_type": "stream",
     "text": [
      "[095/100]  test loss: 0.0570  D: 0.6899  D2: -0.0082  D3: 0.0130  D4: 0.01595\r"
     ]
    },
    {
     "name": "stderr",
     "output_type": "stream",
     "text": [
      "[default |INFO|model.py:2540] [69/80]  loss: 5.615118e-02  D: 6.963883e-01  D2: -8.321017e-03  D3: 1.263797e-02  D4: 1.553702e-02\n",
      "test loss: 5.691274e-02  D: 6.898739e-01  D2: -8.159933e-03  D3: 1.302809e-02  D4: 1.593682e-02\n"
     ]
    },
    {
     "name": "stdout",
     "output_type": "stream",
     "text": [
      "[096/100]  test loss: 0.0570  D: 0.6945  D2: -0.0083  D3: 0.0125  D4: 0.01545\r"
     ]
    },
    {
     "name": "stderr",
     "output_type": "stream",
     "text": [
      "[default |INFO|model.py:2540] [70/80]  loss: 5.578188e-02  D: 6.945582e-01  D2: -8.405213e-03  D3: 1.250574e-02  D4: 1.547322e-02\n",
      "test loss: 5.697718e-02  D: 6.945198e-01  D2: -8.306646e-03  D3: 1.252633e-02  D4: 1.544389e-02\n"
     ]
    },
    {
     "name": "stdout",
     "output_type": "stream",
     "text": [
      "[095/100]  test loss: 0.0593  D: 0.7358  D2: -0.0084  D3: 0.0133  D4: 0.01637\r"
     ]
    },
    {
     "name": "stderr",
     "output_type": "stream",
     "text": [
      "[default |INFO|model.py:2540] [71/80]  loss: 5.534126e-02  D: 6.961670e-01  D2: -8.407125e-03  D3: 1.265594e-02  D4: 1.565923e-02\n",
      "test loss: 5.925659e-02  D: 7.357583e-01  D2: -8.417444e-03  D3: 1.328046e-02  D4: 1.623988e-02\n"
     ]
    },
    {
     "name": "stdout",
     "output_type": "stream",
     "text": [
      "[095/100]  test loss: 0.0562  D: 0.6704  D2: -0.0088  D3: 0.0119  D4: 0.01455\r"
     ]
    },
    {
     "name": "stderr",
     "output_type": "stream",
     "text": [
      "[default |INFO|model.py:2540] [72/80]  loss: 5.430285e-02  D: 6.946904e-01  D2: -8.406541e-03  D3: 1.268321e-02  D4: 1.550171e-02\n",
      "test loss: 5.614165e-02  D: 6.704187e-01  D2: -8.766727e-03  D3: 1.187939e-02  D4: 1.453955e-02\n"
     ]
    },
    {
     "name": "stdout",
     "output_type": "stream",
     "text": [
      "[096/100]  test loss: 0.0567  D: 0.7292  D2: -0.0083  D3: 0.0135  D4: 0.01644\r"
     ]
    },
    {
     "name": "stderr",
     "output_type": "stream",
     "text": [
      "[default |INFO|model.py:2540] [73/80]  loss: 5.461486e-02  D: 6.938015e-01  D2: -8.469858e-03  D3: 1.251180e-02  D4: 1.540435e-02\n",
      "test loss: 5.681636e-02  D: 7.292439e-01  D2: -8.294802e-03  D3: 1.353642e-02  D4: 1.633587e-02\n"
     ]
    },
    {
     "name": "stdout",
     "output_type": "stream",
     "text": [
      "[096/100]  test loss: 0.0566  D: 0.7071  D2: -0.0087  D3: 0.0146  D4: 0.01725\r"
     ]
    },
    {
     "name": "stderr",
     "output_type": "stream",
     "text": [
      "[default |INFO|model.py:2540] [74/80]  loss: 5.570835e-02  D: 6.954127e-01  D2: -8.516232e-03  D3: 1.264871e-02  D4: 1.550617e-02\n",
      "test loss: 5.655797e-02  D: 7.070792e-01  D2: -8.690701e-03  D3: 1.452363e-02  D4: 1.713343e-02\n"
     ]
    },
    {
     "name": "stdout",
     "output_type": "stream",
     "text": [
      "[095/100]  test loss: 0.0573  D: 0.6858  D2: -0.0084  D3: 0.0140  D4: 0.01673\r"
     ]
    },
    {
     "name": "stderr",
     "output_type": "stream",
     "text": [
      "[default |INFO|model.py:2540] [75/80]  loss: 5.539855e-02  D: 6.943453e-01  D2: -8.439531e-03  D3: 1.233845e-02  D4: 1.526660e-02\n",
      "test loss: 5.720351e-02  D: 6.858528e-01  D2: -8.415194e-03  D3: 1.395080e-02  D4: 1.666477e-02\n"
     ]
    },
    {
     "name": "stdout",
     "output_type": "stream",
     "text": [
      "[096/100]  test loss: 0.0580  D: 0.7093  D2: -0.0088  D3: 0.0123  D4: 0.01501\r"
     ]
    },
    {
     "name": "stderr",
     "output_type": "stream",
     "text": [
      "[default |INFO|model.py:2540] [76/80]  loss: 5.640099e-02  D: 6.949729e-01  D2: -8.511345e-03  D3: 1.225978e-02  D4: 1.512757e-02\n",
      "test loss: 5.802130e-02  D: 7.093390e-01  D2: -8.766184e-03  D3: 1.222371e-02  D4: 1.502743e-02\n"
     ]
    },
    {
     "name": "stdout",
     "output_type": "stream",
     "text": [
      "[096/100]  test loss: 0.0591  D: 0.7144  D2: -0.0085  D3: 0.0124  D4: 0.01494\r"
     ]
    },
    {
     "name": "stderr",
     "output_type": "stream",
     "text": [
      "[default |INFO|model.py:2540] [77/80]  loss: 5.632633e-02  D: 6.944100e-01  D2: -8.635438e-03  D3: 1.255558e-02  D4: 1.539820e-02\n",
      "test loss: 5.913905e-02  D: 7.144470e-01  D2: -8.508778e-03  D3: 1.235013e-02  D4: 1.482655e-02\n"
     ]
    },
    {
     "name": "stdout",
     "output_type": "stream",
     "text": [
      "[096/100]  test loss: 0.0567  D: 0.6822  D2: -0.0088  D3: 0.0117  D4: 0.01461\r"
     ]
    },
    {
     "name": "stderr",
     "output_type": "stream",
     "text": [
      "[default |INFO|model.py:2540] [78/80]  loss: 5.561763e-02  D: 6.943565e-01  D2: -8.598274e-03  D3: 1.232737e-02  D4: 1.514623e-02\n",
      "test loss: 5.672927e-02  D: 6.821953e-01  D2: -8.799171e-03  D3: 1.171543e-02  D4: 1.456295e-02\n"
     ]
    },
    {
     "name": "stdout",
     "output_type": "stream",
     "text": [
      "[096/100]  test loss: 0.0586  D: 0.6975  D2: -0.0088  D3: 0.0140  D4: 0.01654\r"
     ]
    },
    {
     "name": "stderr",
     "output_type": "stream",
     "text": [
      "[default |INFO|model.py:2540] [79/80]  loss: 5.577934e-02  D: 6.941238e-01  D2: -8.555244e-03  D3: 1.245323e-02  D4: 1.536188e-02\n",
      "test loss: 5.853698e-02  D: 6.975134e-01  D2: -8.786125e-03  D3: 1.402673e-02  D4: 1.653596e-02\n"
     ]
    },
    {
     "name": "stdout",
     "output_type": "stream",
     "text": [
      "[096/100]  test loss: 0.0573  D: 0.6940  D2: -0.0086  D3: 0.0110  D4: 0.01395\r"
     ]
    },
    {
     "name": "stderr",
     "output_type": "stream",
     "text": [
      "[default |INFO|model.py:2540] [80/80]  loss: 5.431258e-02  D: 6.962277e-01  D2: -8.606361e-03  D3: 1.266131e-02  D4: 1.547002e-02\n",
      "test loss: 5.734790e-02  D: 6.940240e-01  D2: -8.578444e-03  D3: 1.099302e-02  D4: 1.388533e-02\n"
     ]
    },
    {
     "name": "stdout",
     "output_type": "stream",
     "text": [
      "[097/100]  test loss: 0.0573  D: 0.6940  D2: -0.0086  D3: 0.0110  D4: 0.0139\r",
      "[098/100]  test loss: 0.0574  D: 0.6940  D2: -0.0086  D3: 0.0110  D4: 0.0139\r",
      "[099/100]  test loss: 0.0574  D: 0.6940  D2: -0.0086  D3: 0.0110  D4: 0.0139\r",
      "[100/100]  test loss: 0.0573  D: 0.6940  D2: -0.0086  D3: 0.0110  D4: 0.0139\r"
     ]
    },
    {
     "name": "stderr",
     "output_type": "stream",
     "text": [
      "[default |INFO|model.py:2655] Training Finished!\n",
      "[default |INFO|model.py:2656] Elapsed time: 1625.748s\n"
     ]
    }
   ],
   "source": [
    "cfg = configparser.ConfigParser()\n",
    "cfg.read('./config/sswae_dev2_hsic_9.cfg')\n",
    "\n",
    "mm = cur_model(cfg, log, device = device)\n",
    "\n",
    "mm.gm.mu.load_state_dict(torch.load(f'./result/mu_{cfg[\"train_info\"][\"y_dim\"]}.pt'))\n",
    "mm.gm.cov.load_state_dict(torch.load(f'./result/cov_{cfg[\"train_info\"][\"y_dim\"]}.pt'))\n",
    "\n",
    "mm.train()\n",
    "# mm.load('./%s' % (cfg['path_info']['save_path']))"
   ]
  },
  {
   "cell_type": "markdown",
   "metadata": {},
   "source": [
    "# Train - 5"
   ]
  },
  {
   "cell_type": "code",
   "execution_count": 7,
   "metadata": {
    "scrolled": true
   },
   "outputs": [
    {
     "name": "stderr",
     "output_type": "stream",
     "text": [
      "[default |INFO|_base_model.py:27] ------------------------------------------------------------\n",
      "[default |INFO|_base_model.py:29] model_name : SSWAE_HSIC_MNIST\n",
      "[default |INFO|_base_model.py:29] train_data : rmMNIST\n",
      "[default |INFO|_base_model.py:29] train_data_label : True\n",
      "[default |INFO|_base_model.py:29] z_sampler : gaus\n",
      "[default |INFO|_base_model.py:29] z_dim : 6\n",
      "[default |INFO|_base_model.py:29] y_sampler : gaus\n",
      "[default |INFO|_base_model.py:29] y_dim : 6\n",
      "[default |INFO|_base_model.py:29] labeled_class : 0,1,2,3,4,5,6,7,8,9\n",
      "[default |INFO|_base_model.py:29] unlabeled_class : \n",
      "[default |INFO|_base_model.py:29] test_class : \n",
      "[default |INFO|_base_model.py:29] portion : 1.0\n",
      "[default |INFO|_base_model.py:29] unk : False\n",
      "[default |INFO|_base_model.py:29] encoder_pretrain : False\n",
      "[default |INFO|_base_model.py:29] encoder_pretrain_step : 3\n",
      "[default |INFO|_base_model.py:29] lr : 5e-4\n",
      "[default |INFO|_base_model.py:29] beta1 : 0.5\n",
      "[default |INFO|_base_model.py:29] lr_adv : 2e-4\n",
      "[default |INFO|_base_model.py:29] beta1_adv : 0.5\n",
      "[default |INFO|_base_model.py:29] lambda : 10.0\n",
      "[default |INFO|_base_model.py:29] lambda_mmd : 10.0\n",
      "[default |INFO|_base_model.py:29] lambda_hsic : 10.0\n",
      "[default |INFO|_base_model.py:29] lr_schedule : manual\n",
      "[default |INFO|_base_model.py:29] validate : True\n",
      "[default |INFO|_base_model.py:29] histogram : True\n",
      "[default |INFO|_base_model.py:29] batch_size : 100\n",
      "[default |INFO|_base_model.py:29] epoch : 80\n",
      "[default |INFO|_base_model.py:29] replace : False\n",
      "[default |INFO|_base_model.py:29] save_best : False\n",
      "[default |INFO|_base_model.py:32] data_home : ./data/MNIST\n",
      "[default |INFO|_base_model.py:32] tb_logs : \n",
      "[default |INFO|_base_model.py:32] save_path : ./result/weights/sswae_dev2_hsic_10.pt\n",
      "[default |INFO|_base_model.py:32] save_state : ./result/states/sswae_dev2_hsic_10.pt\n",
      "[default |INFO|_base_model.py:32] save_img_path : \n",
      "[default |INFO|model.py:2419] ------------------------------------------------------------\n",
      "[default |INFO|model.py:2420] Training Start!\n"
     ]
    },
    {
     "name": "stdout",
     "output_type": "stream",
     "text": [
      "[096/100]  test loss: 0.1916  D: 0.7039  D2: 0.0119  D3: 0.0076  D4: 0.00842\r"
     ]
    },
    {
     "name": "stderr",
     "output_type": "stream",
     "text": [
      "[default |INFO|model.py:2540] [01/80]  loss: 2.500332e-01  D: 6.946034e-01  D2: 4.301045e-02  D3: 1.777678e-03  D4: 2.172947e-03\n",
      "test loss: 1.915020e-01  D: 7.038461e-01  D2: 1.207084e-02  D3: 7.688191e-03  D4: 8.465456e-03\n"
     ]
    },
    {
     "name": "stdout",
     "output_type": "stream",
     "text": [
      "[095/100]  test loss: 0.1721  D: 0.7000  D2: 0.0014  D3: 0.0125  D4: 0.01410\r"
     ]
    },
    {
     "name": "stderr",
     "output_type": "stream",
     "text": [
      "[default |INFO|model.py:2540] [02/80]  loss: 1.852312e-01  D: 7.080188e-01  D2: 4.617524e-03  D3: 8.351486e-03  D4: 9.758660e-03\n",
      "test loss: 1.719543e-01  D: 7.000013e-01  D2: 1.294441e-03  D3: 1.249689e-02  D4: 1.407048e-02\n"
     ]
    },
    {
     "name": "stdout",
     "output_type": "stream",
     "text": [
      "[096/100]  test loss: 0.1440  D: 0.7083  D2: -0.0024  D3: 0.0071  D4: 0.00849\r"
     ]
    },
    {
     "name": "stderr",
     "output_type": "stream",
     "text": [
      "[default |INFO|model.py:2540] [03/80]  loss: 1.600728e-01  D: 7.031039e-01  D2: 5.824248e-05  D3: 1.113845e-02  D4: 1.264221e-02\n",
      "test loss: 1.437188e-01  D: 7.082628e-01  D2: -2.486773e-03  D3: 7.031426e-03  D4: 8.378492e-03\n"
     ]
    },
    {
     "name": "stdout",
     "output_type": "stream",
     "text": [
      "[096/100]  test loss: 0.1197  D: 0.6907  D2: -0.0049  D3: 0.0105  D4: 0.01095\r"
     ]
    },
    {
     "name": "stderr",
     "output_type": "stream",
     "text": [
      "[default |INFO|model.py:2540] [04/80]  loss: 1.395476e-01  D: 6.967332e-01  D2: -2.804871e-03  D3: 1.335830e-02  D4: 1.449824e-02\n",
      "test loss: 1.195732e-01  D: 6.907132e-01  D2: -5.023918e-03  D3: 1.044185e-02  D4: 1.097412e-02\n"
     ]
    },
    {
     "name": "stdout",
     "output_type": "stream",
     "text": [
      "[096/100]  test loss: 0.1081  D: 0.6809  D2: -0.0046  D3: 0.0100  D4: 0.01085\r"
     ]
    },
    {
     "name": "stderr",
     "output_type": "stream",
     "text": [
      "[default |INFO|model.py:2540] [05/80]  loss: 1.194917e-01  D: 6.987267e-01  D2: -4.039620e-03  D3: 1.391510e-02  D4: 1.550926e-02\n",
      "test loss: 1.080379e-01  D: 6.809268e-01  D2: -4.596748e-03  D3: 1.002938e-02  D4: 1.081420e-02\n"
     ]
    },
    {
     "name": "stdout",
     "output_type": "stream",
     "text": [
      "[096/100]  test loss: 0.1183  D: 0.7352  D2: -0.0045  D3: 0.0185  D4: 0.01905\r"
     ]
    },
    {
     "name": "stderr",
     "output_type": "stream",
     "text": [
      "[default |INFO|model.py:2540] [06/80]  loss: 1.102426e-01  D: 6.966935e-01  D2: -4.417582e-03  D3: 1.454671e-02  D4: 1.552189e-02\n",
      "test loss: 1.181945e-01  D: 7.351684e-01  D2: -4.573851e-03  D3: 1.851566e-02  D4: 1.894333e-02\n"
     ]
    },
    {
     "name": "stdout",
     "output_type": "stream",
     "text": [
      "[096/100]  test loss: 0.0918  D: 0.6822  D2: -0.0054  D3: 0.0137  D4: 0.01479\r"
     ]
    },
    {
     "name": "stderr",
     "output_type": "stream",
     "text": [
      "[default |INFO|model.py:2540] [07/80]  loss: 1.014647e-01  D: 6.977237e-01  D2: -4.473941e-03  D3: 1.568060e-02  D4: 1.694577e-02\n",
      "test loss: 9.163735e-02  D: 6.821678e-01  D2: -5.476570e-03  D3: 1.370981e-02  D4: 1.474269e-02\n"
     ]
    },
    {
     "name": "stdout",
     "output_type": "stream",
     "text": [
      "[092/100]  test loss: 0.0931  D: 0.6717  D2: -0.0056  D3: 0.0177  D4: 0.01853\r"
     ]
    },
    {
     "name": "stderr",
     "output_type": "stream",
     "text": [
      "[default |INFO|model.py:2540] [08/80]  loss: 9.074279e-02  D: 6.972880e-01  D2: -4.879080e-03  D3: 1.515887e-02  D4: 1.634529e-02\n",
      "test loss: 9.278862e-02  D: 6.717500e-01  D2: -5.659838e-03  D3: 1.769477e-02  D4: 1.846609e-02\n"
     ]
    },
    {
     "name": "stdout",
     "output_type": "stream",
     "text": [
      "[095/100]  test loss: 0.0837  D: 0.6820  D2: -0.0060  D3: 0.0147  D4: 0.01578\r"
     ]
    },
    {
     "name": "stderr",
     "output_type": "stream",
     "text": [
      "[default |INFO|model.py:2540] [09/80]  loss: 8.845580e-02  D: 6.953364e-01  D2: -5.082277e-03  D3: 1.467269e-02  D4: 1.584423e-02\n",
      "test loss: 8.381317e-02  D: 6.820452e-01  D2: -5.995865e-03  D3: 1.465989e-02  D4: 1.572352e-02\n"
     ]
    },
    {
     "name": "stdout",
     "output_type": "stream",
     "text": [
      "[096/100]  test loss: 0.0825  D: 0.7017  D2: -0.0063  D3: 0.0138  D4: 0.01556\r"
     ]
    },
    {
     "name": "stderr",
     "output_type": "stream",
     "text": [
      "[default |INFO|model.py:2540] [10/80]  loss: 8.373269e-02  D: 6.939340e-01  D2: -5.453520e-03  D3: 1.449098e-02  D4: 1.556220e-02\n",
      "test loss: 8.233175e-02  D: 7.016492e-01  D2: -6.380234e-03  D3: 1.382398e-02  D4: 1.549030e-02\n"
     ]
    },
    {
     "name": "stdout",
     "output_type": "stream",
     "text": [
      "[096/100]  test loss: 0.0817  D: 0.7091  D2: -0.0060  D3: 0.0170  D4: 0.01771\r"
     ]
    },
    {
     "name": "stderr",
     "output_type": "stream",
     "text": [
      "[default |INFO|model.py:2540] [11/80]  loss: 8.237751e-02  D: 6.947630e-01  D2: -5.843488e-03  D3: 1.510382e-02  D4: 1.608194e-02\n",
      "test loss: 8.165488e-02  D: 7.091264e-01  D2: -5.963955e-03  D3: 1.696786e-02  D4: 1.769029e-02\n"
     ]
    },
    {
     "name": "stdout",
     "output_type": "stream",
     "text": [
      "[096/100]  test loss: 0.0769  D: 0.6532  D2: -0.0062  D3: 0.0170  D4: 0.01774\r"
     ]
    },
    {
     "name": "stderr",
     "output_type": "stream",
     "text": [
      "[default |INFO|model.py:2540] [12/80]  loss: 8.060453e-02  D: 6.979055e-01  D2: -6.168151e-03  D3: 1.431320e-02  D4: 1.536872e-02\n",
      "test loss: 7.675890e-02  D: 6.532702e-01  D2: -6.212931e-03  D3: 1.697138e-02  D4: 1.774901e-02\n"
     ]
    },
    {
     "name": "stdout",
     "output_type": "stream",
     "text": [
      "[096/100]  test loss: 0.0731  D: 0.6794  D2: -0.0071  D3: 0.0107  D4: 0.01196\r"
     ]
    },
    {
     "name": "stderr",
     "output_type": "stream",
     "text": [
      "[default |INFO|model.py:2540] [13/80]  loss: 7.817047e-02  D: 6.947625e-01  D2: -6.247395e-03  D3: 1.453326e-02  D4: 1.564963e-02\n",
      "test loss: 7.297256e-02  D: 6.793995e-01  D2: -7.149849e-03  D3: 1.066521e-02  D4: 1.194256e-02\n"
     ]
    },
    {
     "name": "stdout",
     "output_type": "stream",
     "text": [
      "[096/100]  test loss: 0.0712  D: 0.7050  D2: -0.0065  D3: 0.0109  D4: 0.01212\r"
     ]
    },
    {
     "name": "stderr",
     "output_type": "stream",
     "text": [
      "[default |INFO|model.py:2540] [14/80]  loss: 7.780043e-02  D: 6.977970e-01  D2: -6.283941e-03  D3: 1.296284e-02  D4: 1.415842e-02\n",
      "test loss: 7.120845e-02  D: 7.050148e-01  D2: -6.529951e-03  D3: 1.089985e-02  D4: 1.210122e-02\n"
     ]
    },
    {
     "name": "stdout",
     "output_type": "stream",
     "text": [
      "[096/100]  test loss: 0.0735  D: 0.7001  D2: -0.0070  D3: 0.0176  D4: 0.01860\r"
     ]
    },
    {
     "name": "stderr",
     "output_type": "stream",
     "text": [
      "[default |INFO|model.py:2540] [15/80]  loss: 7.406736e-02  D: 6.950147e-01  D2: -6.605523e-03  D3: 1.468175e-02  D4: 1.597503e-02\n",
      "test loss: 7.347443e-02  D: 7.001328e-01  D2: -7.010746e-03  D3: 1.768062e-02  D4: 1.859135e-02\n"
     ]
    },
    {
     "name": "stdout",
     "output_type": "stream",
     "text": [
      "[096/100]  test loss: 0.0688  D: 0.6990  D2: -0.0076  D3: 0.0130  D4: 0.01407\r"
     ]
    },
    {
     "name": "stderr",
     "output_type": "stream",
     "text": [
      "[default |INFO|model.py:2540] [16/80]  loss: 7.150637e-02  D: 6.946254e-01  D2: -6.620445e-03  D3: 1.454917e-02  D4: 1.566986e-02\n",
      "test loss: 6.865694e-02  D: 6.989644e-01  D2: -7.450905e-03  D3: 1.293180e-02  D4: 1.399797e-02\n"
     ]
    },
    {
     "name": "stdout",
     "output_type": "stream",
     "text": [
      "[096/100]  test loss: 0.0820  D: 0.6950  D2: -0.0070  D3: 0.0120  D4: 0.01359\r"
     ]
    },
    {
     "name": "stderr",
     "output_type": "stream",
     "text": [
      "[default |INFO|model.py:2540] [17/80]  loss: 7.241195e-02  D: 6.954698e-01  D2: -6.585353e-03  D3: 1.470159e-02  D4: 1.591160e-02\n",
      "test loss: 8.189744e-02  D: 6.949868e-01  D2: -7.054338e-03  D3: 1.198207e-02  D4: 1.348656e-02\n"
     ]
    },
    {
     "name": "stdout",
     "output_type": "stream",
     "text": [
      "[096/100]  test loss: 0.0761  D: 0.6928  D2: -0.0070  D3: 0.0162  D4: 0.01718\r"
     ]
    },
    {
     "name": "stderr",
     "output_type": "stream",
     "text": [
      "[default |INFO|model.py:2540] [18/80]  loss: 7.703508e-02  D: 6.953276e-01  D2: -7.004776e-03  D3: 1.348102e-02  D4: 1.477903e-02\n",
      "test loss: 7.631061e-02  D: 6.927939e-01  D2: -6.912956e-03  D3: 1.618370e-02  D4: 1.715557e-02\n"
     ]
    },
    {
     "name": "stdout",
     "output_type": "stream",
     "text": [
      "[095/100]  test loss: 0.0783  D: 0.6998  D2: -0.0066  D3: 0.0191  D4: 0.02025\r"
     ]
    },
    {
     "name": "stderr",
     "output_type": "stream",
     "text": [
      "[default |INFO|model.py:2540] [19/80]  loss: 7.398191e-02  D: 6.956224e-01  D2: -6.878878e-03  D3: 1.351834e-02  D4: 1.454262e-02\n",
      "test loss: 7.826098e-02  D: 6.998434e-01  D2: -6.646309e-03  D3: 1.910930e-02  D4: 2.022068e-02\n"
     ]
    },
    {
     "name": "stdout",
     "output_type": "stream",
     "text": [
      "[096/100]  test loss: 0.0799  D: 0.6942  D2: -0.0070  D3: 0.0064  D4: 0.00683\r"
     ]
    },
    {
     "name": "stderr",
     "output_type": "stream",
     "text": [
      "[default |INFO|model.py:2540] [20/80]  loss: 7.738916e-02  D: 6.947081e-01  D2: -7.276805e-03  D3: 8.686216e-03  D4: 9.271241e-03\n",
      "test loss: 8.020754e-02  D: 6.941638e-01  D2: -7.047253e-03  D3: 6.367113e-03  D4: 6.797950e-03\n"
     ]
    },
    {
     "name": "stdout",
     "output_type": "stream",
     "text": [
      "[095/100]  test loss: 0.0837  D: 0.6931  D2: -0.0075  D3: 0.0055  D4: 0.00569\r"
     ]
    },
    {
     "name": "stderr",
     "output_type": "stream",
     "text": [
      "[default |INFO|model.py:2540] [21/80]  loss: 9.505564e-02  D: 6.981594e-01  D2: -6.843457e-03  D3: 8.843474e-03  D4: 9.946681e-03\n",
      "test loss: 8.365441e-02  D: 6.931471e-01  D2: -7.554493e-03  D3: 5.447827e-03  D4: 5.637836e-03\n"
     ]
    },
    {
     "name": "stdout",
     "output_type": "stream",
     "text": [
      "[096/100]  test loss: 0.0863  D: 0.7050  D2: -0.0073  D3: 0.0178  D4: 0.01667\r"
     ]
    },
    {
     "name": "stderr",
     "output_type": "stream",
     "text": [
      "[default |INFO|model.py:2540] [22/80]  loss: 9.717652e-02  D: 6.991813e-01  D2: -6.640840e-03  D3: 1.247423e-02  D4: 1.373717e-02\n",
      "test loss: 8.631651e-02  D: 7.050705e-01  D2: -7.322025e-03  D3: 1.775299e-02  D4: 1.651448e-02\n"
     ]
    },
    {
     "name": "stdout",
     "output_type": "stream",
     "text": [
      "[096/100]  test loss: 0.0773  D: 0.6954  D2: -0.0072  D3: 0.0128  D4: 0.01443\r"
     ]
    },
    {
     "name": "stderr",
     "output_type": "stream",
     "text": [
      "[default |INFO|model.py:2540] [23/80]  loss: 7.952638e-02  D: 6.961472e-01  D2: -7.292336e-03  D3: 1.496272e-02  D4: 1.634886e-02\n",
      "test loss: 7.711333e-02  D: 6.954101e-01  D2: -7.144461e-03  D3: 1.274877e-02  D4: 1.432458e-02\n"
     ]
    },
    {
     "name": "stdout",
     "output_type": "stream",
     "text": [
      "[096/100]  test loss: 0.0840  D: 0.6677  D2: -0.0074  D3: 0.0100  D4: 0.01166\r"
     ]
    },
    {
     "name": "stderr",
     "output_type": "stream",
     "text": [
      "[default |INFO|model.py:2540] [24/80]  loss: 7.652432e-02  D: 6.966201e-01  D2: -7.266429e-03  D3: 1.420440e-02  D4: 1.557688e-02\n",
      "test loss: 8.391851e-02  D: 6.677255e-01  D2: -7.395735e-03  D3: 9.931192e-03  D4: 1.157175e-02\n"
     ]
    },
    {
     "name": "stdout",
     "output_type": "stream",
     "text": [
      "[096/100]  test loss: 0.0690  D: 0.6844  D2: -0.0073  D3: 0.0118  D4: 0.01303\r"
     ]
    },
    {
     "name": "stderr",
     "output_type": "stream",
     "text": [
      "[default |INFO|model.py:2540] [25/80]  loss: 7.640089e-02  D: 6.955249e-01  D2: -7.132886e-03  D3: 1.385206e-02  D4: 1.527850e-02\n",
      "test loss: 6.891593e-02  D: 6.844364e-01  D2: -7.317371e-03  D3: 1.183157e-02  D4: 1.303075e-02\n"
     ]
    },
    {
     "name": "stdout",
     "output_type": "stream",
     "text": [
      "[096/100]  test loss: 0.0710  D: 0.6862  D2: -0.0074  D3: 0.0150  D4: 0.01622\r"
     ]
    },
    {
     "name": "stderr",
     "output_type": "stream",
     "text": [
      "[default |INFO|model.py:2540] [26/80]  loss: 7.500638e-02  D: 6.970605e-01  D2: -7.361506e-03  D3: 1.385037e-02  D4: 1.522695e-02\n",
      "test loss: 7.093633e-02  D: 6.861484e-01  D2: -7.311068e-03  D3: 1.500401e-02  D4: 1.615850e-02\n"
     ]
    },
    {
     "name": "stdout",
     "output_type": "stream",
     "text": [
      "[096/100]  test loss: 0.0712  D: 0.6874  D2: -0.0075  D3: 0.0123  D4: 0.01363\r"
     ]
    },
    {
     "name": "stderr",
     "output_type": "stream",
     "text": [
      "[default |INFO|model.py:2540] [27/80]  loss: 7.502272e-02  D: 6.947958e-01  D2: -7.463121e-03  D3: 1.395918e-02  D4: 1.527254e-02\n",
      "test loss: 7.109091e-02  D: 6.873855e-01  D2: -7.535286e-03  D3: 1.231003e-02  D4: 1.355404e-02\n"
     ]
    },
    {
     "name": "stdout",
     "output_type": "stream",
     "text": [
      "[095/100]  test loss: 0.0660  D: 0.7095  D2: -0.0081  D3: 0.0150  D4: 0.01604\r"
     ]
    },
    {
     "name": "stderr",
     "output_type": "stream",
     "text": [
      "[default |INFO|model.py:2540] [28/80]  loss: 7.162547e-02  D: 6.953672e-01  D2: -7.542720e-03  D3: 1.412851e-02  D4: 1.541317e-02\n",
      "test loss: 6.601159e-02  D: 7.095083e-01  D2: -8.178978e-03  D3: 1.503238e-02  D4: 1.605858e-02\n"
     ]
    },
    {
     "name": "stdout",
     "output_type": "stream",
     "text": [
      "[096/100]  test loss: 0.0756  D: 0.7198  D2: -0.0080  D3: 0.0182  D4: 0.01951\r"
     ]
    },
    {
     "name": "stderr",
     "output_type": "stream",
     "text": [
      "[default |INFO|model.py:2540] [29/80]  loss: 7.510518e-02  D: 6.958875e-01  D2: -7.682403e-03  D3: 1.371421e-02  D4: 1.510519e-02\n",
      "test loss: 7.566777e-02  D: 7.197852e-01  D2: -8.011484e-03  D3: 1.818580e-02  D4: 1.949992e-02\n"
     ]
    },
    {
     "name": "stdout",
     "output_type": "stream",
     "text": [
      "[096/100]  test loss: 0.0721  D: 0.6988  D2: -0.0073  D3: 0.0092  D4: 0.01002\r"
     ]
    },
    {
     "name": "stderr",
     "output_type": "stream",
     "text": [
      "[default |INFO|model.py:2540] [30/80]  loss: 7.122425e-02  D: 6.957827e-01  D2: -7.679882e-03  D3: 1.372763e-02  D4: 1.517549e-02\n",
      "test loss: 7.187936e-02  D: 6.988410e-01  D2: -7.235355e-03  D3: 9.219620e-03  D4: 9.981949e-03\n"
     ]
    },
    {
     "name": "stdout",
     "output_type": "stream",
     "text": [
      "[096/100]  test loss: 0.0739  D: 0.6753  D2: -0.0066  D3: 0.0112  D4: 0.01262\r"
     ]
    },
    {
     "name": "stderr",
     "output_type": "stream",
     "text": [
      "[default |INFO|model.py:2540] [31/80]  loss: 7.593885e-02  D: 6.940891e-01  D2: -7.670964e-03  D3: 1.391506e-02  D4: 1.523017e-02\n",
      "test loss: 7.406119e-02  D: 6.753345e-01  D2: -6.634712e-03  D3: 1.126806e-02  D4: 1.264118e-02\n"
     ]
    },
    {
     "name": "stdout",
     "output_type": "stream",
     "text": [
      "[096/100]  test loss: 0.0712  D: 0.7239  D2: -0.0074  D3: 0.0157  D4: 0.01750\r"
     ]
    },
    {
     "name": "stderr",
     "output_type": "stream",
     "text": [
      "[default |INFO|model.py:2540] [32/80]  loss: 7.166247e-02  D: 6.961809e-01  D2: -7.686602e-03  D3: 1.349113e-02  D4: 1.501991e-02\n",
      "test loss: 7.116065e-02  D: 7.238896e-01  D2: -7.373352e-03  D3: 1.571403e-02  D4: 1.744896e-02\n"
     ]
    },
    {
     "name": "stdout",
     "output_type": "stream",
     "text": [
      "[096/100]  test loss: 0.0656  D: 0.7025  D2: -0.0080  D3: 0.0158  D4: 0.01683\r"
     ]
    },
    {
     "name": "stderr",
     "output_type": "stream",
     "text": [
      "[default |INFO|model.py:2540] [33/80]  loss: 7.105425e-02  D: 6.956174e-01  D2: -7.809825e-03  D3: 1.379527e-02  D4: 1.529666e-02\n",
      "test loss: 6.565033e-02  D: 7.025114e-01  D2: -8.003626e-03  D3: 1.580151e-02  D4: 1.677750e-02\n"
     ]
    },
    {
     "name": "stdout",
     "output_type": "stream",
     "text": [
      "[096/100]  test loss: 0.0726  D: 0.6932  D2: -0.0081  D3: 0.0100  D4: 0.01112\r"
     ]
    },
    {
     "name": "stderr",
     "output_type": "stream",
     "text": [
      "[default |INFO|model.py:2540] [34/80]  loss: 6.716300e-02  D: 6.942147e-01  D2: -7.726189e-03  D3: 1.383955e-02  D4: 1.524663e-02\n",
      "test loss: 7.266528e-02  D: 6.932255e-01  D2: -8.127747e-03  D3: 1.004588e-02  D4: 1.116453e-02\n"
     ]
    },
    {
     "name": "stdout",
     "output_type": "stream",
     "text": [
      "[096/100]  test loss: 0.0712  D: 0.6980  D2: -0.0082  D3: 0.0146  D4: 0.01590\r"
     ]
    },
    {
     "name": "stderr",
     "output_type": "stream",
     "text": [
      "[default |INFO|model.py:2540] [35/80]  loss: 7.410497e-02  D: 6.946593e-01  D2: -8.072515e-03  D3: 1.366605e-02  D4: 1.504943e-02\n",
      "test loss: 7.128016e-02  D: 6.979717e-01  D2: -8.187304e-03  D3: 1.462214e-02  D4: 1.588351e-02\n"
     ]
    },
    {
     "name": "stdout",
     "output_type": "stream",
     "text": [
      "[096/100]  test loss: 0.0864  D: 0.7433  D2: -0.0069  D3: 0.0197  D4: 0.02008\r"
     ]
    },
    {
     "name": "stderr",
     "output_type": "stream",
     "text": [
      "[default |INFO|model.py:2540] [36/80]  loss: 6.996185e-02  D: 6.962826e-01  D2: -7.985492e-03  D3: 1.343395e-02  D4: 1.479433e-02\n",
      "test loss: 8.650385e-02  D: 7.432766e-01  D2: -6.949139e-03  D3: 1.965257e-02  D4: 1.997452e-02\n"
     ]
    },
    {
     "name": "stdout",
     "output_type": "stream",
     "text": [
      "[096/100]  test loss: 0.0652  D: 0.6846  D2: -0.0082  D3: 0.0155  D4: 0.01705\r"
     ]
    },
    {
     "name": "stderr",
     "output_type": "stream",
     "text": [
      "[default |INFO|model.py:2540] [37/80]  loss: 6.889771e-02  D: 6.935680e-01  D2: -7.717101e-03  D3: 1.405559e-02  D4: 1.545514e-02\n",
      "test loss: 6.531452e-02  D: 6.845481e-01  D2: -8.157701e-03  D3: 1.552768e-02  D4: 1.699747e-02\n"
     ]
    },
    {
     "name": "stdout",
     "output_type": "stream",
     "text": [
      "[096/100]  test loss: 0.0688  D: 0.7064  D2: -0.0085  D3: 0.0156  D4: 0.01721\r"
     ]
    },
    {
     "name": "stderr",
     "output_type": "stream",
     "text": [
      "[default |INFO|model.py:2540] [38/80]  loss: 6.886209e-02  D: 6.960014e-01  D2: -7.918161e-03  D3: 1.371661e-02  D4: 1.512738e-02\n",
      "test loss: 6.886650e-02  D: 7.064904e-01  D2: -8.443069e-03  D3: 1.562957e-02  D4: 1.724991e-02\n"
     ]
    },
    {
     "name": "stdout",
     "output_type": "stream",
     "text": [
      "[096/100]  test loss: 0.0674  D: 0.7099  D2: -0.0086  D3: 0.0166  D4: 0.01749\r"
     ]
    },
    {
     "name": "stderr",
     "output_type": "stream",
     "text": [
      "[default |INFO|model.py:2540] [39/80]  loss: 6.827998e-02  D: 6.973006e-01  D2: -7.916641e-03  D3: 1.357316e-02  D4: 1.492995e-02\n",
      "test loss: 6.751527e-02  D: 7.098874e-01  D2: -8.607883e-03  D3: 1.655649e-02  D4: 1.739765e-02\n"
     ]
    },
    {
     "name": "stdout",
     "output_type": "stream",
     "text": [
      "[096/100]  test loss: 0.0677  D: 0.7142  D2: -0.0082  D3: 0.0174  D4: 0.01886\r"
     ]
    },
    {
     "name": "stderr",
     "output_type": "stream",
     "text": [
      "[default |INFO|model.py:2540] [40/80]  loss: 6.574877e-02  D: 6.946717e-01  D2: -8.178048e-03  D3: 1.408370e-02  D4: 1.557341e-02\n",
      "test loss: 6.760361e-02  D: 7.142332e-01  D2: -8.194313e-03  D3: 1.741750e-02  D4: 1.881054e-02\n"
     ]
    },
    {
     "name": "stdout",
     "output_type": "stream",
     "text": [
      "[096/100]  test loss: 0.0636  D: 0.6664  D2: -0.0085  D3: 0.0133  D4: 0.01507\r"
     ]
    },
    {
     "name": "stderr",
     "output_type": "stream",
     "text": [
      "[default |INFO|model.py:2540] [41/80]  loss: 6.467987e-02  D: 6.937162e-01  D2: -8.178887e-03  D3: 1.415012e-02  D4: 1.567191e-02\n",
      "test loss: 6.369539e-02  D: 6.664224e-01  D2: -8.549843e-03  D3: 1.326661e-02  D4: 1.504744e-02\n"
     ]
    },
    {
     "name": "stdout",
     "output_type": "stream",
     "text": [
      "[096/100]  test loss: 0.0674  D: 0.7051  D2: -0.0078  D3: 0.0183  D4: 0.01942\r"
     ]
    },
    {
     "name": "stderr",
     "output_type": "stream",
     "text": [
      "[default |INFO|model.py:2540] [42/80]  loss: 6.530590e-02  D: 6.950505e-01  D2: -8.136476e-03  D3: 1.376234e-02  D4: 1.519492e-02\n",
      "test loss: 6.757984e-02  D: 7.051216e-01  D2: -7.757540e-03  D3: 1.828107e-02  D4: 1.943473e-02\n"
     ]
    },
    {
     "name": "stdout",
     "output_type": "stream",
     "text": [
      "[096/100]  test loss: 0.0682  D: 0.6887  D2: -0.0085  D3: 0.0153  D4: 0.01754\r"
     ]
    },
    {
     "name": "stderr",
     "output_type": "stream",
     "text": [
      "[default |INFO|model.py:2540] [43/80]  loss: 6.683011e-02  D: 6.969505e-01  D2: -8.331380e-03  D3: 1.298813e-02  D4: 1.437530e-02\n",
      "test loss: 6.816393e-02  D: 6.887164e-01  D2: -8.541851e-03  D3: 1.526092e-02  D4: 1.750789e-02\n"
     ]
    },
    {
     "name": "stdout",
     "output_type": "stream",
     "text": [
      "[096/100]  test loss: 0.0677  D: 0.7090  D2: -0.0080  D3: 0.0162  D4: 0.01740\r"
     ]
    },
    {
     "name": "stderr",
     "output_type": "stream",
     "text": [
      "[default |INFO|model.py:2540] [44/80]  loss: 6.570826e-02  D: 6.937861e-01  D2: -8.258456e-03  D3: 1.345325e-02  D4: 1.499996e-02\n",
      "test loss: 6.779926e-02  D: 7.090253e-01  D2: -8.004513e-03  D3: 1.617706e-02  D4: 1.736849e-02\n"
     ]
    },
    {
     "name": "stdout",
     "output_type": "stream",
     "text": [
      "[096/100]  test loss: 0.0636  D: 0.6822  D2: -0.0086  D3: 0.0144  D4: 0.01628\r"
     ]
    },
    {
     "name": "stderr",
     "output_type": "stream",
     "text": [
      "[default |INFO|model.py:2540] [45/80]  loss: 6.628596e-02  D: 6.982015e-01  D2: -8.399576e-03  D3: 1.318899e-02  D4: 1.478938e-02\n",
      "test loss: 6.371854e-02  D: 6.822348e-01  D2: -8.566608e-03  D3: 1.436762e-02  D4: 1.621872e-02\n"
     ]
    },
    {
     "name": "stdout",
     "output_type": "stream",
     "text": [
      "[096/100]  test loss: 0.0629  D: 0.6719  D2: -0.0086  D3: 0.0109  D4: 0.01254\r"
     ]
    },
    {
     "name": "stderr",
     "output_type": "stream",
     "text": [
      "[default |INFO|model.py:2540] [46/80]  loss: 6.527039e-02  D: 6.943893e-01  D2: -8.399790e-03  D3: 1.369945e-02  D4: 1.537702e-02\n",
      "test loss: 6.285925e-02  D: 6.719598e-01  D2: -8.558054e-03  D3: 1.093614e-02  D4: 1.245308e-02\n"
     ]
    },
    {
     "name": "stdout",
     "output_type": "stream",
     "text": [
      "[096/100]  test loss: 0.0633  D: 0.6792  D2: -0.0085  D3: 0.0120  D4: 0.01369\r"
     ]
    },
    {
     "name": "stderr",
     "output_type": "stream",
     "text": [
      "[default |INFO|model.py:2540] [47/80]  loss: 6.606653e-02  D: 6.960255e-01  D2: -8.494425e-03  D3: 1.331684e-02  D4: 1.494539e-02\n",
      "test loss: 6.357920e-02  D: 6.792275e-01  D2: -8.507042e-03  D3: 1.201158e-02  D4: 1.358460e-02\n"
     ]
    },
    {
     "name": "stdout",
     "output_type": "stream",
     "text": [
      "[096/100]  test loss: 0.0624  D: 0.7070  D2: -0.0085  D3: 0.0147  D4: 0.01633\r"
     ]
    },
    {
     "name": "stderr",
     "output_type": "stream",
     "text": [
      "[default |INFO|model.py:2540] [48/80]  loss: 6.314091e-02  D: 6.946215e-01  D2: -8.483779e-03  D3: 1.368014e-02  D4: 1.529755e-02\n",
      "test loss: 6.253027e-02  D: 7.070347e-01  D2: -8.537302e-03  D3: 1.478366e-02  D4: 1.626792e-02\n"
     ]
    },
    {
     "name": "stdout",
     "output_type": "stream",
     "text": [
      "[093/100]  test loss: 0.0630  D: 0.6957  D2: -0.0086  D3: 0.0115  D4: 0.01309\r"
     ]
    },
    {
     "name": "stderr",
     "output_type": "stream",
     "text": [
      "[default |INFO|model.py:2540] [49/80]  loss: 6.665760e-02  D: 6.947230e-01  D2: -8.557383e-03  D3: 1.330463e-02  D4: 1.489573e-02\n",
      "test loss: 6.295789e-02  D: 6.956512e-01  D2: -8.568993e-03  D3: 1.150575e-02  D4: 1.301467e-02\n"
     ]
    },
    {
     "name": "stdout",
     "output_type": "stream",
     "text": [
      "[095/100]  test loss: 0.0654  D: 0.6953  D2: -0.0090  D3: 0.0167  D4: 0.01830\r"
     ]
    },
    {
     "name": "stderr",
     "output_type": "stream",
     "text": [
      "[default |INFO|model.py:2540] [50/80]  loss: 6.390896e-02  D: 6.945582e-01  D2: -8.445876e-03  D3: 1.329562e-02  D4: 1.496229e-02\n",
      "test loss: 6.553720e-02  D: 6.952569e-01  D2: -8.977394e-03  D3: 1.673347e-02  D4: 1.829799e-02\n"
     ]
    },
    {
     "name": "stdout",
     "output_type": "stream",
     "text": [
      "[095/100]  test loss: 0.0617  D: 0.7065  D2: -0.0091  D3: 0.0136  D4: 0.01538\r"
     ]
    },
    {
     "name": "stderr",
     "output_type": "stream",
     "text": [
      "[default |INFO|model.py:2540] [51/80]  loss: 6.768855e-02  D: 6.962681e-01  D2: -8.701749e-03  D3: 1.332423e-02  D4: 1.481601e-02\n",
      "test loss: 6.173429e-02  D: 7.064458e-01  D2: -9.074402e-03  D3: 1.358309e-02  D4: 1.538200e-02\n"
     ]
    },
    {
     "name": "stdout",
     "output_type": "stream",
     "text": [
      "[096/100]  test loss: 0.0635  D: 0.6994  D2: -0.0089  D3: 0.0116  D4: 0.01342\r"
     ]
    },
    {
     "name": "stderr",
     "output_type": "stream",
     "text": [
      "[default |INFO|model.py:2540] [52/80]  loss: 6.150525e-02  D: 6.940897e-01  D2: -8.675855e-03  D3: 1.360302e-02  D4: 1.515481e-02\n",
      "test loss: 6.348412e-02  D: 6.993450e-01  D2: -8.933239e-03  D3: 1.161269e-02  D4: 1.338627e-02\n"
     ]
    },
    {
     "name": "stdout",
     "output_type": "stream",
     "text": [
      "[096/100]  test loss: 0.0610  D: 0.6828  D2: -0.0085  D3: 0.0123  D4: 0.01370\r"
     ]
    },
    {
     "name": "stderr",
     "output_type": "stream",
     "text": [
      "[default |INFO|model.py:2540] [53/80]  loss: 6.356586e-02  D: 6.947948e-01  D2: -8.615839e-03  D3: 1.330169e-02  D4: 1.502630e-02\n",
      "test loss: 6.103534e-02  D: 6.828587e-01  D2: -8.560581e-03  D3: 1.231423e-02  D4: 1.373885e-02\n"
     ]
    },
    {
     "name": "stdout",
     "output_type": "stream",
     "text": [
      "[096/100]  test loss: 0.0638  D: 0.6587  D2: -0.0090  D3: 0.0113  D4: 0.01297\r"
     ]
    },
    {
     "name": "stderr",
     "output_type": "stream",
     "text": [
      "[default |INFO|model.py:2540] [54/80]  loss: 6.303568e-02  D: 6.965127e-01  D2: -8.745553e-03  D3: 1.307290e-02  D4: 1.473200e-02\n",
      "test loss: 6.394869e-02  D: 6.587222e-01  D2: -8.957596e-03  D3: 1.132152e-02  D4: 1.291803e-02\n"
     ]
    },
    {
     "name": "stdout",
     "output_type": "stream",
     "text": [
      "[096/100]  test loss: 0.0643  D: 0.7239  D2: -0.0087  D3: 0.0169  D4: 0.01827\r"
     ]
    },
    {
     "name": "stderr",
     "output_type": "stream",
     "text": [
      "[default |INFO|model.py:2540] [55/80]  loss: 6.436755e-02  D: 6.945398e-01  D2: -8.721585e-03  D3: 1.313276e-02  D4: 1.472639e-02\n",
      "test loss: 6.418571e-02  D: 7.238807e-01  D2: -8.699417e-03  D3: 1.683281e-02  D4: 1.821156e-02\n"
     ]
    },
    {
     "name": "stdout",
     "output_type": "stream",
     "text": [
      "[096/100]  test loss: 0.0608  D: 0.6790  D2: -0.0088  D3: 0.0136  D4: 0.01523\r"
     ]
    },
    {
     "name": "stderr",
     "output_type": "stream",
     "text": [
      "[default |INFO|model.py:2540] [56/80]  loss: 6.542527e-02  D: 6.977766e-01  D2: -8.729088e-03  D3: 1.271184e-02  D4: 1.425637e-02\n",
      "test loss: 6.086508e-02  D: 6.789661e-01  D2: -8.890820e-03  D3: 1.357141e-02  D4: 1.521862e-02\n"
     ]
    },
    {
     "name": "stdout",
     "output_type": "stream",
     "text": [
      "[096/100]  test loss: 0.0623  D: 0.6868  D2: -0.0089  D3: 0.0145  D4: 0.01576\r"
     ]
    },
    {
     "name": "stderr",
     "output_type": "stream",
     "text": [
      "[default |INFO|model.py:2540] [57/80]  loss: 6.258431e-02  D: 6.946481e-01  D2: -8.906870e-03  D3: 1.286645e-02  D4: 1.463797e-02\n",
      "test loss: 6.229115e-02  D: 6.867861e-01  D2: -8.922768e-03  D3: 1.448824e-02  D4: 1.576200e-02\n"
     ]
    },
    {
     "name": "stdout",
     "output_type": "stream",
     "text": [
      "[096/100]  test loss: 0.0586  D: 0.6835  D2: -0.0088  D3: 0.0135  D4: 0.01535\r"
     ]
    },
    {
     "name": "stderr",
     "output_type": "stream",
     "text": [
      "[default |INFO|model.py:2540] [58/80]  loss: 6.051872e-02  D: 6.940667e-01  D2: -8.925775e-03  D3: 1.385224e-02  D4: 1.549982e-02\n",
      "test loss: 5.867088e-02  D: 6.835058e-01  D2: -8.799210e-03  D3: 1.349483e-02  D4: 1.532172e-02\n"
     ]
    },
    {
     "name": "stdout",
     "output_type": "stream",
     "text": [
      "[096/100]  test loss: 0.0585  D: 0.6751  D2: -0.0089  D3: 0.0153  D4: 0.01693\r"
     ]
    },
    {
     "name": "stderr",
     "output_type": "stream",
     "text": [
      "[default |INFO|model.py:2540] [59/80]  loss: 5.961267e-02  D: 6.947911e-01  D2: -8.969908e-03  D3: 1.365222e-02  D4: 1.533060e-02\n",
      "test loss: 5.851551e-02  D: 6.750818e-01  D2: -8.944559e-03  D3: 1.529832e-02  D4: 1.691023e-02\n"
     ]
    },
    {
     "name": "stdout",
     "output_type": "stream",
     "text": [
      "[096/100]  test loss: 0.0582  D: 0.6935  D2: -0.0091  D3: 0.0145  D4: 0.01605\r"
     ]
    },
    {
     "name": "stderr",
     "output_type": "stream",
     "text": [
      "[default |INFO|model.py:2540] [60/80]  loss: 5.858971e-02  D: 6.948551e-01  D2: -9.041692e-03  D3: 1.386366e-02  D4: 1.549200e-02\n",
      "test loss: 5.825442e-02  D: 6.934892e-01  D2: -9.135532e-03  D3: 1.450376e-02  D4: 1.603856e-02\n"
     ]
    },
    {
     "name": "stdout",
     "output_type": "stream",
     "text": [
      "[096/100]  test loss: 0.0618  D: 0.6909  D2: -0.0094  D3: 0.0119  D4: 0.01360\r"
     ]
    },
    {
     "name": "stderr",
     "output_type": "stream",
     "text": [
      "[default |INFO|model.py:2540] [61/80]  loss: 6.109916e-02  D: 6.934284e-01  D2: -9.046305e-03  D3: 1.330397e-02  D4: 1.496617e-02\n",
      "test loss: 6.191656e-02  D: 6.909309e-01  D2: -9.378462e-03  D3: 1.191958e-02  D4: 1.357285e-02\n"
     ]
    },
    {
     "name": "stdout",
     "output_type": "stream",
     "text": [
      "[096/100]  test loss: 0.0616  D: 0.6835  D2: -0.0093  D3: 0.0119  D4: 0.01343\r"
     ]
    },
    {
     "name": "stderr",
     "output_type": "stream",
     "text": [
      "[default |INFO|model.py:2540] [62/80]  loss: 6.349436e-02  D: 6.955789e-01  D2: -8.993948e-03  D3: 1.267587e-02  D4: 1.432743e-02\n",
      "test loss: 6.145941e-02  D: 6.834949e-01  D2: -9.275675e-03  D3: 1.190039e-02  D4: 1.343018e-02\n"
     ]
    },
    {
     "name": "stdout",
     "output_type": "stream",
     "text": [
      "[096/100]  test loss: 0.0603  D: 0.6804  D2: -0.0093  D3: 0.0114  D4: 0.01299\r"
     ]
    },
    {
     "name": "stderr",
     "output_type": "stream",
     "text": [
      "[default |INFO|model.py:2540] [63/80]  loss: 6.179074e-02  D: 6.959940e-01  D2: -9.115326e-03  D3: 1.320014e-02  D4: 1.485747e-02\n",
      "test loss: 6.024107e-02  D: 6.803947e-01  D2: -9.307318e-03  D3: 1.134782e-02  D4: 1.288015e-02\n"
     ]
    },
    {
     "name": "stdout",
     "output_type": "stream",
     "text": [
      "[096/100]  test loss: 0.0594  D: 0.6930  D2: -0.0095  D3: 0.0119  D4: 0.01388\r"
     ]
    },
    {
     "name": "stderr",
     "output_type": "stream",
     "text": [
      "[default |INFO|model.py:2540] [64/80]  loss: 6.225489e-02  D: 6.944239e-01  D2: -9.100892e-03  D3: 1.299483e-02  D4: 1.479598e-02\n",
      "test loss: 5.943863e-02  D: 6.929567e-01  D2: -9.431801e-03  D3: 1.197578e-02  D4: 1.386347e-02\n"
     ]
    },
    {
     "name": "stdout",
     "output_type": "stream",
     "text": [
      "[096/100]  test loss: 0.0637  D: 0.7074  D2: -0.0090  D3: 0.0152  D4: 0.01740\r"
     ]
    },
    {
     "name": "stderr",
     "output_type": "stream",
     "text": [
      "[default |INFO|model.py:2540] [65/80]  loss: 6.240136e-02  D: 6.963132e-01  D2: -9.120749e-03  D3: 1.305223e-02  D4: 1.496727e-02\n",
      "test loss: 6.373854e-02  D: 7.073568e-01  D2: -9.054461e-03  D3: 1.525216e-02  D4: 1.741391e-02\n"
     ]
    },
    {
     "name": "stdout",
     "output_type": "stream",
     "text": [
      "[096/100]  test loss: 0.0600  D: 0.6779  D2: -0.0092  D3: 0.0113  D4: 0.01292\r"
     ]
    },
    {
     "name": "stderr",
     "output_type": "stream",
     "text": [
      "[default |INFO|model.py:2540] [66/80]  loss: 6.049584e-02  D: 6.926035e-01  D2: -9.205012e-03  D3: 1.323983e-02  D4: 1.517216e-02\n",
      "test loss: 6.001279e-02  D: 6.778675e-01  D2: -9.210415e-03  D3: 1.127306e-02  D4: 1.294600e-02\n"
     ]
    },
    {
     "name": "stdout",
     "output_type": "stream",
     "text": [
      "[096/100]  test loss: 0.0640  D: 0.6747  D2: -0.0093  D3: 0.0146  D4: 0.01616\r"
     ]
    },
    {
     "name": "stderr",
     "output_type": "stream",
     "text": [
      "[default |INFO|model.py:2540] [67/80]  loss: 6.379216e-02  D: 6.959858e-01  D2: -9.164295e-03  D3: 1.274130e-02  D4: 1.455275e-02\n",
      "test loss: 6.392085e-02  D: 6.747578e-01  D2: -9.321232e-03  D3: 1.457671e-02  D4: 1.608857e-02\n"
     ]
    },
    {
     "name": "stdout",
     "output_type": "stream",
     "text": [
      "[096/100]  test loss: 0.0610  D: 0.6989  D2: -0.0095  D3: 0.0110  D4: 0.01280\r"
     ]
    },
    {
     "name": "stderr",
     "output_type": "stream",
     "text": [
      "[default |INFO|model.py:2540] [68/80]  loss: 6.164666e-02  D: 6.948030e-01  D2: -9.244795e-03  D3: 1.320124e-02  D4: 1.503597e-02\n",
      "test loss: 6.095523e-02  D: 6.988696e-01  D2: -9.479284e-03  D3: 1.101494e-02  D4: 1.281387e-02\n"
     ]
    },
    {
     "name": "stdout",
     "output_type": "stream",
     "text": [
      "[096/100]  test loss: 0.0601  D: 0.6994  D2: -0.0091  D3: 0.0153  D4: 0.01683\r"
     ]
    },
    {
     "name": "stderr",
     "output_type": "stream",
     "text": [
      "[default |INFO|model.py:2540] [69/80]  loss: 5.884778e-02  D: 6.951984e-01  D2: -9.292529e-03  D3: 1.360603e-02  D4: 1.534509e-02\n",
      "test loss: 6.013682e-02  D: 6.993794e-01  D2: -9.086380e-03  D3: 1.528205e-02  D4: 1.684559e-02\n"
     ]
    },
    {
     "name": "stdout",
     "output_type": "stream",
     "text": [
      "[095/100]  test loss: 0.0572  D: 0.6786  D2: -0.0095  D3: 0.0125  D4: 0.01442\r"
     ]
    },
    {
     "name": "stderr",
     "output_type": "stream",
     "text": [
      "[default |INFO|model.py:2540] [70/80]  loss: 5.827611e-02  D: 6.941388e-01  D2: -9.346339e-03  D3: 1.346125e-02  D4: 1.518813e-02\n",
      "test loss: 5.708476e-02  D: 6.785819e-01  D2: -9.530334e-03  D3: 1.252682e-02  D4: 1.438320e-02\n"
     ]
    },
    {
     "name": "stdout",
     "output_type": "stream",
     "text": [
      "[096/100]  test loss: 0.0604  D: 0.7104  D2: -0.0095  D3: 0.0146  D4: 0.01619\r"
     ]
    },
    {
     "name": "stderr",
     "output_type": "stream",
     "text": [
      "[default |INFO|model.py:2540] [71/80]  loss: 5.817651e-02  D: 6.947837e-01  D2: -9.342585e-03  D3: 1.319931e-02  D4: 1.492907e-02\n",
      "test loss: 6.040909e-02  D: 7.103615e-01  D2: -9.514923e-03  D3: 1.453105e-02  D4: 1.607944e-02\n"
     ]
    },
    {
     "name": "stdout",
     "output_type": "stream",
     "text": [
      "[096/100]  test loss: 0.0574  D: 0.6680  D2: -0.0094  D3: 0.0124  D4: 0.01453\r"
     ]
    },
    {
     "name": "stderr",
     "output_type": "stream",
     "text": [
      "[default |INFO|model.py:2540] [72/80]  loss: 5.725195e-02  D: 6.957185e-01  D2: -9.362551e-03  D3: 1.348559e-02  D4: 1.531625e-02\n",
      "test loss: 5.743992e-02  D: 6.679833e-01  D2: -9.384251e-03  D3: 1.248052e-02  D4: 1.446208e-02\n"
     ]
    },
    {
     "name": "stdout",
     "output_type": "stream",
     "text": [
      "[096/100]  test loss: 0.0563  D: 0.7010  D2: -0.0095  D3: 0.0142  D4: 0.01590\r"
     ]
    },
    {
     "name": "stderr",
     "output_type": "stream",
     "text": [
      "[default |INFO|model.py:2540] [73/80]  loss: 5.832726e-02  D: 6.962384e-01  D2: -9.370863e-03  D3: 1.320146e-02  D4: 1.500491e-02\n",
      "test loss: 5.638435e-02  D: 7.009749e-01  D2: -9.556322e-03  D3: 1.419726e-02  D4: 1.591049e-02\n"
     ]
    },
    {
     "name": "stdout",
     "output_type": "stream",
     "text": [
      "[095/100]  test loss: 0.0563  D: 0.6877  D2: -0.0095  D3: 0.0121  D4: 0.01424\r"
     ]
    },
    {
     "name": "stderr",
     "output_type": "stream",
     "text": [
      "[default |INFO|model.py:2540] [74/80]  loss: 5.537291e-02  D: 6.938705e-01  D2: -9.506451e-03  D3: 1.355087e-02  D4: 1.536727e-02\n",
      "test loss: 5.620355e-02  D: 6.876933e-01  D2: -9.420977e-03  D3: 1.209637e-02  D4: 1.417633e-02\n"
     ]
    },
    {
     "name": "stdout",
     "output_type": "stream",
     "text": [
      "[096/100]  test loss: 0.0571  D: 0.7025  D2: -0.0095  D3: 0.0119  D4: 0.01331\r"
     ]
    },
    {
     "name": "stderr",
     "output_type": "stream",
     "text": [
      "[default |INFO|model.py:2540] [75/80]  loss: 5.609234e-02  D: 6.948588e-01  D2: -9.462759e-03  D3: 1.322994e-02  D4: 1.506410e-02\n",
      "test loss: 5.688672e-02  D: 7.024444e-01  D2: -9.488459e-03  D3: 1.191929e-02  D4: 1.333495e-02\n"
     ]
    },
    {
     "name": "stdout",
     "output_type": "stream",
     "text": [
      "[096/100]  test loss: 0.0551  D: 0.6767  D2: -0.0094  D3: 0.0140  D4: 0.01560\r"
     ]
    },
    {
     "name": "stderr",
     "output_type": "stream",
     "text": [
      "[default |INFO|model.py:2540] [76/80]  loss: 5.530036e-02  D: 6.947779e-01  D2: -9.591543e-03  D3: 1.309510e-02  D4: 1.499492e-02\n",
      "test loss: 5.514086e-02  D: 6.767364e-01  D2: -9.372082e-03  D3: 1.404405e-02  D4: 1.565035e-02\n"
     ]
    },
    {
     "name": "stdout",
     "output_type": "stream",
     "text": [
      "[096/100]  test loss: 0.0575  D: 0.7007  D2: -0.0097  D3: 0.0133  D4: 0.01491\r"
     ]
    },
    {
     "name": "stderr",
     "output_type": "stream",
     "text": [
      "[default |INFO|model.py:2540] [77/80]  loss: 5.614435e-02  D: 6.954025e-01  D2: -9.493836e-03  D3: 1.320713e-02  D4: 1.505278e-02\n",
      "test loss: 5.742281e-02  D: 7.007304e-01  D2: -9.713154e-03  D3: 1.333367e-02  D4: 1.494760e-02\n"
     ]
    },
    {
     "name": "stdout",
     "output_type": "stream",
     "text": [
      "[096/100]  test loss: 0.0648  D: 0.6847  D2: -0.0093  D3: 0.0143  D4: 0.01594\r"
     ]
    },
    {
     "name": "stderr",
     "output_type": "stream",
     "text": [
      "[default |INFO|model.py:2540] [78/80]  loss: 5.777026e-02  D: 6.943312e-01  D2: -9.587398e-03  D3: 1.250895e-02  D4: 1.440474e-02\n",
      "test loss: 6.484495e-02  D: 6.847152e-01  D2: -9.340439e-03  D3: 1.429483e-02  D4: 1.594569e-02\n"
     ]
    },
    {
     "name": "stdout",
     "output_type": "stream",
     "text": [
      "[096/100]  test loss: 0.0615  D: 0.6913  D2: -0.0096  D3: 0.0154  D4: 0.01777\r"
     ]
    },
    {
     "name": "stderr",
     "output_type": "stream",
     "text": [
      "[default |INFO|model.py:2540] [79/80]  loss: 6.020158e-02  D: 6.965729e-01  D2: -9.621873e-03  D3: 1.291772e-02  D4: 1.472594e-02\n",
      "test loss: 6.144028e-02  D: 6.912975e-01  D2: -9.569445e-03  D3: 1.544305e-02  D4: 1.769081e-02\n"
     ]
    },
    {
     "name": "stdout",
     "output_type": "stream",
     "text": [
      "[096/100]  test loss: 0.0557  D: 0.6827  D2: -0.0100  D3: 0.0122  D4: 0.01430\r"
     ]
    },
    {
     "name": "stderr",
     "output_type": "stream",
     "text": [
      "[default |INFO|model.py:2540] [80/80]  loss: 5.735959e-02  D: 6.941875e-01  D2: -9.656541e-03  D3: 1.315594e-02  D4: 1.497787e-02\n",
      "test loss: 5.575430e-02  D: 6.827390e-01  D2: -1.000036e-02  D3: 1.224675e-02  D4: 1.423635e-02\n"
     ]
    },
    {
     "name": "stdout",
     "output_type": "stream",
     "text": [
      "[097/100]  test loss: 0.0557  D: 0.6827  D2: -0.0100  D3: 0.0122  D4: 0.0143\r",
      "[098/100]  test loss: 0.0557  D: 0.6827  D2: -0.0100  D3: 0.0122  D4: 0.0142\r",
      "[099/100]  test loss: 0.0558  D: 0.6827  D2: -0.0100  D3: 0.0123  D4: 0.0142\r",
      "[100/100]  test loss: 0.0558  D: 0.6827  D2: -0.0100  D3: 0.0122  D4: 0.0142\r"
     ]
    },
    {
     "name": "stderr",
     "output_type": "stream",
     "text": [
      "[default |INFO|model.py:2655] Training Finished!\n",
      "[default |INFO|model.py:2656] Elapsed time: 1622.812s\n"
     ]
    }
   ],
   "source": [
    "cfg = configparser.ConfigParser()\n",
    "cfg.read('./config/sswae_dev2_hsic_10.cfg')\n",
    "\n",
    "mm = cur_model(cfg, log, device = device)\n",
    "\n",
    "mm.gm.mu.load_state_dict(torch.load(f'./result/mu_{cfg[\"train_info\"][\"y_dim\"]}.pt'))\n",
    "mm.gm.cov.load_state_dict(torch.load(f'./result/cov_{cfg[\"train_info\"][\"y_dim\"]}.pt'))\n",
    "\n",
    "mm.train()\n",
    "# mm.load('./%s' % (cfg['path_info']['save_path']))"
   ]
  },
  {
   "cell_type": "code",
   "execution_count": null,
   "metadata": {},
   "outputs": [],
   "source": []
  },
  {
   "cell_type": "markdown",
   "metadata": {},
   "source": [
    "# Train - 6"
   ]
  },
  {
   "cell_type": "code",
   "execution_count": 4,
   "metadata": {
    "scrolled": true
   },
   "outputs": [
    {
     "name": "stderr",
     "output_type": "stream",
     "text": [
      "[default |INFO|_base_model.py:27] ------------------------------------------------------------\n",
      "[default |INFO|_base_model.py:29] model_name : SSWAE_HSIC_MNIST\n",
      "[default |INFO|_base_model.py:29] train_data : rmMNIST\n",
      "[default |INFO|_base_model.py:29] train_data_label : True\n",
      "[default |INFO|_base_model.py:29] z_sampler : gaus\n",
      "[default |INFO|_base_model.py:29] z_dim : 10\n",
      "[default |INFO|_base_model.py:29] y_sampler : gaus\n",
      "[default |INFO|_base_model.py:29] y_dim : 4\n",
      "[default |INFO|_base_model.py:29] labeled_class : 0,1,2,3,4,5,6,7,8,9\n",
      "[default |INFO|_base_model.py:29] unlabeled_class : \n",
      "[default |INFO|_base_model.py:29] test_class : \n",
      "[default |INFO|_base_model.py:29] portion : 1.0\n",
      "[default |INFO|_base_model.py:29] unk : False\n",
      "[default |INFO|_base_model.py:29] encoder_pretrain : False\n",
      "[default |INFO|_base_model.py:29] encoder_pretrain_step : 3\n",
      "[default |INFO|_base_model.py:29] lr : 5e-4\n",
      "[default |INFO|_base_model.py:29] beta1 : 0.5\n",
      "[default |INFO|_base_model.py:29] lr_adv : 2e-4\n",
      "[default |INFO|_base_model.py:29] beta1_adv : 0.5\n",
      "[default |INFO|_base_model.py:29] lambda : 10.0\n",
      "[default |INFO|_base_model.py:29] lambda_mmd : 10.0\n",
      "[default |INFO|_base_model.py:29] lambda_hsic : 10.0\n",
      "[default |INFO|_base_model.py:29] lr_schedule : manual\n",
      "[default |INFO|_base_model.py:29] validate : True\n",
      "[default |INFO|_base_model.py:29] histogram : True\n",
      "[default |INFO|_base_model.py:29] batch_size : 100\n",
      "[default |INFO|_base_model.py:29] epoch : 80\n",
      "[default |INFO|_base_model.py:29] replace : False\n",
      "[default |INFO|_base_model.py:29] save_best : False\n",
      "[default |INFO|_base_model.py:32] data_home : ./data/MNIST\n",
      "[default |INFO|_base_model.py:32] tb_logs : \n",
      "[default |INFO|_base_model.py:32] save_path : ./result/weights/sswae_dev2_hsic_14.pt\n",
      "[default |INFO|_base_model.py:32] save_state : ./result/states/sswae_dev2_hsic_14.pt\n",
      "[default |INFO|_base_model.py:32] save_img_path : \n",
      "[default |INFO|model.py:2419] ------------------------------------------------------------\n",
      "[default |INFO|model.py:2420] Training Start!\n"
     ]
    },
    {
     "name": "stdout",
     "output_type": "stream",
     "text": [
      "[092/100]  test loss: 0.2252  D: 2.3509  D2: 0.0047  D3: 0.0101  D4: 0.01609\r"
     ]
    },
    {
     "name": "stderr",
     "output_type": "stream",
     "text": [
      "[default |INFO|model.py:2540] [01/80]  loss: 2.508984e-01  D: 1.256227e+00  D2: 1.849365e-02  D3: 3.509023e-03  D4: 4.905940e-03\n",
      "test loss: 2.256090e-01  D: 2.352560e+00  D2: 4.666758e-03  D3: 1.008259e-02  D4: 1.585746e-02\n"
     ]
    },
    {
     "name": "stdout",
     "output_type": "stream",
     "text": [
      "[096/100]  test loss: 0.2129  D: 1.2311  D2: 0.0024  D3: 0.0136  D4: 0.01645\r"
     ]
    },
    {
     "name": "stderr",
     "output_type": "stream",
     "text": [
      "[default |INFO|model.py:2540] [02/80]  loss: 2.197381e-01  D: 2.358100e+00  D2: 2.169426e-03  D3: 1.370381e-02  D4: 1.863872e-02\n",
      "test loss: 2.126920e-01  D: 1.231176e+00  D2: 2.574787e-03  D3: 1.365469e-02  D4: 1.644657e-02\n"
     ]
    },
    {
     "name": "stdout",
     "output_type": "stream",
     "text": [
      "[100/100]  test loss: 0.1775  D: 0.6695  D2: 0.0004  D3: 0.0072  D4: 0.009902\r"
     ]
    },
    {
     "name": "stderr",
     "output_type": "stream",
     "text": [
      "[default |INFO|model.py:2540] [03/80]  loss: 1.951465e-01  D: 9.198912e-01  D2: 1.121176e-03  D3: 1.081150e-02  D4: 1.631385e-02\n",
      "test loss: 1.774579e-01  D: 6.694878e-01  D2: 4.247475e-04  D3: 7.179753e-03  D4: 9.915909e-03\n"
     ]
    },
    {
     "name": "stdout",
     "output_type": "stream",
     "text": [
      "[090/100]  test loss: 0.1387  D: 0.8515  D2: -0.0044  D3: 0.0034  D4: 0.00395\r"
     ]
    },
    {
     "name": "stderr",
     "output_type": "stream",
     "text": [
      "[default |INFO|model.py:2540] [04/80]  loss: 1.582436e-01  D: 7.172863e-01  D2: -2.601458e-03  D3: 4.289721e-03  D4: 5.518157e-03\n",
      "test loss: 1.386692e-01  D: 8.514591e-01  D2: -4.289217e-03  D3: 3.354901e-03  D4: 3.909398e-03\n"
     ]
    },
    {
     "name": "stdout",
     "output_type": "stream",
     "text": [
      "[100/100]  test loss: 0.1245  D: 0.5831  D2: -0.0043  D3: 0.0037  D4: 0.00451\r"
     ]
    },
    {
     "name": "stderr",
     "output_type": "stream",
     "text": [
      "[default |INFO|model.py:2540] [05/80]  loss: 1.384538e-01  D: 7.081975e-01  D2: -3.757695e-03  D3: 8.726147e-03  D4: 1.106112e-02\n",
      "test loss: 1.244693e-01  D: 5.830842e-01  D2: -4.332867e-03  D3: 3.746839e-03  D4: 4.459095e-03\n"
     ]
    },
    {
     "name": "stdout",
     "output_type": "stream",
     "text": [
      "[099/100]  test loss: 0.1335  D: 0.6596  D2: -0.0044  D3: 0.0150  D4: 0.01739\r"
     ]
    },
    {
     "name": "stderr",
     "output_type": "stream",
     "text": [
      "[default |INFO|model.py:2540] [06/80]  loss: 1.275180e-01  D: 6.895639e-01  D2: -4.512043e-03  D3: 6.792108e-03  D4: 7.890817e-03\n",
      "test loss: 1.334977e-01  D: 6.595597e-01  D2: -4.309139e-03  D3: 1.504504e-02  D4: 1.732761e-02\n"
     ]
    },
    {
     "name": "stdout",
     "output_type": "stream",
     "text": [
      "[100/100]  test loss: 0.1003  D: 0.6906  D2: -0.0047  D3: 0.0081  D4: 0.01049\r"
     ]
    },
    {
     "name": "stderr",
     "output_type": "stream",
     "text": [
      "[default |INFO|model.py:2540] [07/80]  loss: 1.124894e-01  D: 6.910554e-01  D2: -4.178445e-03  D3: 1.100769e-02  D4: 1.291095e-02\n",
      "test loss: 1.003211e-01  D: 6.906280e-01  D2: -4.746447e-03  D3: 8.061645e-03  D4: 1.044163e-02\n"
     ]
    },
    {
     "name": "stdout",
     "output_type": "stream",
     "text": [
      "[090/100]  test loss: 0.0961  D: 0.7318  D2: -0.0045  D3: 0.0104  D4: 0.01274\r"
     ]
    },
    {
     "name": "stderr",
     "output_type": "stream",
     "text": [
      "[default |INFO|model.py:2540] [08/80]  loss: 9.753859e-02  D: 6.941846e-01  D2: -3.998005e-03  D3: 1.112708e-02  D4: 1.342535e-02\n",
      "test loss: 9.613080e-02  D: 7.318123e-01  D2: -4.462519e-03  D3: 1.052452e-02  D4: 1.277406e-02\n"
     ]
    },
    {
     "name": "stdout",
     "output_type": "stream",
     "text": [
      "[100/100]  test loss: 0.0996  D: 0.7085  D2: -0.0048  D3: 0.0143  D4: 0.01635\r"
     ]
    },
    {
     "name": "stderr",
     "output_type": "stream",
     "text": [
      "[default |INFO|model.py:2540] [09/80]  loss: 9.649755e-02  D: 6.908448e-01  D2: -4.264778e-03  D3: 1.170456e-02  D4: 1.447711e-02\n",
      "test loss: 9.955748e-02  D: 7.085028e-01  D2: -4.767914e-03  D3: 1.425013e-02  D4: 1.632636e-02\n"
     ]
    },
    {
     "name": "stdout",
     "output_type": "stream",
     "text": [
      "[100/100]  test loss: 0.1043  D: 0.6808  D2: -0.0045  D3: 0.0148  D4: 0.01684\r"
     ]
    },
    {
     "name": "stderr",
     "output_type": "stream",
     "text": [
      "[default |INFO|model.py:2540] [10/80]  loss: 1.012250e-01  D: 6.948222e-01  D2: -4.590362e-03  D3: 1.249003e-02  D4: 1.540177e-02\n",
      "test loss: 1.042937e-01  D: 6.807934e-01  D2: -4.511290e-03  D3: 1.475810e-02  D4: 1.683690e-02\n"
     ]
    },
    {
     "name": "stdout",
     "output_type": "stream",
     "text": [
      "[100/100]  test loss: 0.1034  D: 0.7073  D2: -0.0039  D3: 0.0120  D4: 0.01625\r"
     ]
    },
    {
     "name": "stderr",
     "output_type": "stream",
     "text": [
      "[default |INFO|model.py:2540] [11/80]  loss: 1.051361e-01  D: 6.956509e-01  D2: -4.204917e-03  D3: 1.291112e-02  D4: 1.546512e-02\n",
      "test loss: 1.033714e-01  D: 7.072948e-01  D2: -3.945770e-03  D3: 1.204170e-02  D4: 1.619547e-02\n"
     ]
    },
    {
     "name": "stdout",
     "output_type": "stream",
     "text": [
      "[097/100]  test loss: 0.1059  D: 0.6859  D2: -0.0050  D3: 0.0145  D4: 0.01688\r"
     ]
    },
    {
     "name": "stderr",
     "output_type": "stream",
     "text": [
      "[default |INFO|model.py:2540] [12/80]  loss: 1.027429e-01  D: 6.940273e-01  D2: -3.919568e-03  D3: 1.314057e-02  D4: 1.584061e-02\n",
      "test loss: 1.059150e-01  D: 6.858895e-01  D2: -4.898386e-03  D3: 1.446639e-02  D4: 1.678179e-02\n"
     ]
    },
    {
     "name": "stdout",
     "output_type": "stream",
     "text": [
      "[099/100]  test loss: 0.0921  D: 0.7000  D2: -0.0050  D3: 0.0137  D4: 0.01653\r"
     ]
    },
    {
     "name": "stderr",
     "output_type": "stream",
     "text": [
      "[default |INFO|model.py:2540] [13/80]  loss: 1.024327e-01  D: 6.943670e-01  D2: -4.120156e-03  D3: 1.270429e-02  D4: 1.534203e-02\n",
      "test loss: 9.213182e-02  D: 6.999546e-01  D2: -4.983568e-03  D3: 1.373250e-02  D4: 1.643575e-02\n"
     ]
    },
    {
     "name": "stdout",
     "output_type": "stream",
     "text": [
      "[100/100]  test loss: 0.1109  D: 0.7031  D2: -0.0027  D3: 0.0100  D4: 0.01376\r"
     ]
    },
    {
     "name": "stderr",
     "output_type": "stream",
     "text": [
      "[default |INFO|model.py:2540] [14/80]  loss: 1.023353e-01  D: 6.940145e-01  D2: -4.333018e-03  D3: 1.318818e-02  D4: 1.555923e-02\n",
      "test loss: 1.109262e-01  D: 7.030838e-01  D2: -2.743654e-03  D3: 9.978187e-03  D4: 1.365413e-02\n"
     ]
    },
    {
     "name": "stdout",
     "output_type": "stream",
     "text": [
      "[100/100]  test loss: 0.1074  D: 0.6734  D2: -0.0048  D3: 0.0127  D4: 0.01533\r"
     ]
    },
    {
     "name": "stderr",
     "output_type": "stream",
     "text": [
      "[default |INFO|model.py:2540] [15/80]  loss: 1.055863e-01  D: 6.964064e-01  D2: -4.271329e-03  D3: 1.266173e-02  D4: 1.528690e-02\n",
      "test loss: 1.073724e-01  D: 6.734120e-01  D2: -4.768600e-03  D3: 1.270296e-02  D4: 1.526502e-02\n"
     ]
    },
    {
     "name": "stdout",
     "output_type": "stream",
     "text": [
      "[100/100]  test loss: 0.1045  D: 0.7177  D2: -0.0048  D3: 0.0110  D4: 0.01493\r"
     ]
    },
    {
     "name": "stderr",
     "output_type": "stream",
     "text": [
      "[default |INFO|model.py:2540] [16/80]  loss: 1.053398e-01  D: 6.952935e-01  D2: -4.138921e-03  D3: 1.224261e-02  D4: 1.531848e-02\n",
      "test loss: 1.045319e-01  D: 7.176812e-01  D2: -4.761047e-03  D3: 1.098906e-02  D4: 1.486526e-02\n"
     ]
    },
    {
     "name": "stdout",
     "output_type": "stream",
     "text": [
      "[100/100]  test loss: 0.1115  D: 0.6732  D2: -0.0048  D3: 0.0110  D4: 0.01416\r"
     ]
    },
    {
     "name": "stderr",
     "output_type": "stream",
     "text": [
      "[default |INFO|model.py:2540] [17/80]  loss: 1.113951e-01  D: 6.965095e-01  D2: -4.409776e-03  D3: 1.166414e-02  D4: 1.461168e-02\n",
      "test loss: 1.115423e-01  D: 6.731549e-01  D2: -4.792061e-03  D3: 1.104138e-02  D4: 1.406675e-02\n"
     ]
    },
    {
     "name": "stdout",
     "output_type": "stream",
     "text": [
      "[100/100]  test loss: 0.1055  D: 0.7249  D2: -0.0042  D3: 0.0132  D4: 0.01648\r"
     ]
    },
    {
     "name": "stderr",
     "output_type": "stream",
     "text": [
      "[default |INFO|model.py:2540] [18/80]  loss: 1.070192e-01  D: 6.949373e-01  D2: -4.296128e-03  D3: 1.239871e-02  D4: 1.475635e-02\n",
      "test loss: 1.055406e-01  D: 7.248924e-01  D2: -4.247551e-03  D3: 1.324711e-02  D4: 1.644451e-02\n"
     ]
    },
    {
     "name": "stdout",
     "output_type": "stream",
     "text": [
      "[090/100]  test loss: 0.1091  D: 0.6840  D2: -0.0043  D3: 0.0107  D4: 0.01439\r"
     ]
    },
    {
     "name": "stderr",
     "output_type": "stream",
     "text": [
      "[default |INFO|model.py:2540] [19/80]  loss: 1.126302e-01  D: 6.940036e-01  D2: -4.278253e-03  D3: 1.020089e-02  D4: 1.288313e-02\n",
      "test loss: 1.091037e-01  D: 6.840092e-01  D2: -4.291172e-03  D3: 1.068854e-02  D4: 1.437156e-02\n"
     ]
    },
    {
     "name": "stdout",
     "output_type": "stream",
     "text": [
      "[091/100]  test loss: 0.1041  D: 0.6955  D2: -0.0048  D3: 0.0070  D4: 0.00718\r"
     ]
    },
    {
     "name": "stderr",
     "output_type": "stream",
     "text": [
      "[default |INFO|model.py:2540] [20/80]  loss: 1.075351e-01  D: 6.976387e-01  D2: -4.285917e-03  D3: 1.057389e-02  D4: 1.276229e-02\n",
      "test loss: 1.043076e-01  D: 6.955136e-01  D2: -4.760962e-03  D3: 7.039445e-03  D4: 7.133138e-03\n"
     ]
    },
    {
     "name": "stdout",
     "output_type": "stream",
     "text": [
      "[100/100]  test loss: 0.0991  D: 0.6749  D2: -0.0045  D3: 0.0141  D4: 0.01643\r"
     ]
    },
    {
     "name": "stderr",
     "output_type": "stream",
     "text": [
      "[default |INFO|model.py:2540] [21/80]  loss: 1.097875e-01  D: 6.930823e-01  D2: -4.463919e-03  D3: 1.293328e-02  D4: 1.532671e-02\n",
      "test loss: 9.911001e-02  D: 6.748927e-01  D2: -4.498882e-03  D3: 1.405430e-02  D4: 1.643047e-02\n"
     ]
    },
    {
     "name": "stdout",
     "output_type": "stream",
     "text": [
      "[091/100]  test loss: 0.1158  D: 0.6960  D2: -0.0045  D3: 0.0119  D4: 0.01435\r"
     ]
    },
    {
     "name": "stderr",
     "output_type": "stream",
     "text": [
      "[default |INFO|model.py:2540] [22/80]  loss: 1.111060e-01  D: 6.993892e-01  D2: -4.797012e-03  D3: 1.031684e-02  D4: 1.248316e-02\n",
      "test loss: 1.160431e-01  D: 6.960414e-01  D2: -4.244356e-03  D3: 1.182072e-02  D4: 1.436769e-02\n"
     ]
    },
    {
     "name": "stdout",
     "output_type": "stream",
     "text": [
      "[091/100]  test loss: 0.1023  D: 0.6766  D2: -0.0051  D3: 0.0076  D4: 0.01041\r"
     ]
    },
    {
     "name": "stderr",
     "output_type": "stream",
     "text": [
      "[default |INFO|model.py:2540] [23/80]  loss: 1.092249e-01  D: 6.899485e-01  D2: -4.813229e-03  D3: 1.031171e-02  D4: 1.307532e-02\n",
      "test loss: 1.021134e-01  D: 6.765964e-01  D2: -5.063028e-03  D3: 7.642451e-03  D4: 1.044705e-02\n"
     ]
    },
    {
     "name": "stdout",
     "output_type": "stream",
     "text": [
      "[091/100]  test loss: 0.1061  D: 0.6918  D2: -0.0054  D3: 0.0066  D4: 0.00787\r"
     ]
    },
    {
     "name": "stderr",
     "output_type": "stream",
     "text": [
      "[default |INFO|model.py:2540] [24/80]  loss: 1.084960e-01  D: 6.961271e-01  D2: -4.698242e-03  D3: 1.139568e-02  D4: 1.374993e-02\n",
      "test loss: 1.063123e-01  D: 6.917777e-01  D2: -5.370483e-03  D3: 6.661894e-03  D4: 7.857636e-03\n"
     ]
    },
    {
     "name": "stdout",
     "output_type": "stream",
     "text": [
      "[100/100]  test loss: 0.1062  D: 0.7079  D2: -0.0042  D3: 0.0082  D4: 0.01207\r"
     ]
    },
    {
     "name": "stderr",
     "output_type": "stream",
     "text": [
      "[default |INFO|model.py:2540] [25/80]  loss: 1.093203e-01  D: 6.923210e-01  D2: -4.743466e-03  D3: 1.023943e-02  D4: 1.269394e-02\n",
      "test loss: 1.061666e-01  D: 7.078730e-01  D2: -4.162197e-03  D3: 8.175474e-03  D4: 1.198014e-02\n"
     ]
    },
    {
     "name": "stdout",
     "output_type": "stream",
     "text": [
      "[100/100]  test loss: 0.1076  D: 0.7101  D2: -0.0042  D3: 0.0080  D4: 0.01182\r"
     ]
    },
    {
     "name": "stderr",
     "output_type": "stream",
     "text": [
      "[default |INFO|model.py:2540] [26/80]  loss: 1.061546e-01  D: 6.952610e-01  D2: -4.914641e-03  D3: 1.152909e-02  D4: 1.424840e-02\n",
      "test loss: 1.075761e-01  D: 7.101374e-01  D2: -4.179449e-03  D3: 7.959332e-03  D4: 1.175281e-02\n"
     ]
    },
    {
     "name": "stdout",
     "output_type": "stream",
     "text": [
      "[090/100]  test loss: 0.1040  D: 0.7166  D2: -0.0051  D3: 0.0060  D4: 0.00873\r"
     ]
    },
    {
     "name": "stderr",
     "output_type": "stream",
     "text": [
      "[default |INFO|model.py:2540] [27/80]  loss: 1.098785e-01  D: 6.982993e-01  D2: -4.776847e-03  D3: 9.665796e-03  D4: 1.226186e-02\n",
      "test loss: 1.039594e-01  D: 7.165369e-01  D2: -5.191822e-03  D3: 6.040565e-03  D4: 8.650290e-03\n"
     ]
    },
    {
     "name": "stdout",
     "output_type": "stream",
     "text": [
      "[091/100]  test loss: 0.1020  D: 0.7297  D2: -0.0057  D3: 0.0060  D4: 0.00811\r"
     ]
    },
    {
     "name": "stderr",
     "output_type": "stream",
     "text": [
      "[default |INFO|model.py:2540] [28/80]  loss: 1.080414e-01  D: 6.937968e-01  D2: -4.863385e-03  D3: 1.173460e-02  D4: 1.411395e-02\n",
      "test loss: 1.021553e-01  D: 7.296602e-01  D2: -5.594749e-03  D3: 6.015786e-03  D4: 8.132634e-03\n"
     ]
    },
    {
     "name": "stdout",
     "output_type": "stream",
     "text": [
      "[090/100]  test loss: 0.1059  D: 0.6830  D2: -0.0047  D3: 0.0083  D4: 0.01079\r"
     ]
    },
    {
     "name": "stderr",
     "output_type": "stream",
     "text": [
      "[default |INFO|model.py:2540] [29/80]  loss: 1.094844e-01  D: 6.937951e-01  D2: -5.124054e-03  D3: 1.057427e-02  D4: 1.289180e-02\n",
      "test loss: 1.056643e-01  D: 6.829449e-01  D2: -4.864244e-03  D3: 8.332294e-03  D4: 1.073937e-02\n"
     ]
    },
    {
     "name": "stdout",
     "output_type": "stream",
     "text": [
      "[090/100]  test loss: 0.1008  D: 0.6923  D2: -0.0057  D3: 0.0114  D4: 0.01374\r"
     ]
    },
    {
     "name": "stderr",
     "output_type": "stream",
     "text": [
      "[default |INFO|model.py:2540] [30/80]  loss: 1.076922e-01  D: 6.968085e-01  D2: -5.089070e-03  D3: 1.076022e-02  D4: 1.242776e-02\n",
      "test loss: 1.009411e-01  D: 6.923333e-01  D2: -5.760098e-03  D3: 1.139509e-02  D4: 1.377030e-02\n"
     ]
    },
    {
     "name": "stdout",
     "output_type": "stream",
     "text": [
      "[091/100]  test loss: 0.1014  D: 0.6786  D2: -0.0054  D3: 0.0125  D4: 0.01360\r"
     ]
    },
    {
     "name": "stderr",
     "output_type": "stream",
     "text": [
      "[default |INFO|model.py:2540] [31/80]  loss: 1.060550e-01  D: 6.915965e-01  D2: -5.040825e-03  D3: 1.069208e-02  D4: 1.296100e-02\n",
      "test loss: 1.012068e-01  D: 6.786372e-01  D2: -5.434713e-03  D3: 1.246810e-02  D4: 1.355564e-02\n"
     ]
    },
    {
     "name": "stdout",
     "output_type": "stream",
     "text": [
      "[100/100]  test loss: 0.1171  D: 0.6983  D2: -0.0052  D3: 0.0103  D4: 0.01398\r"
     ]
    },
    {
     "name": "stderr",
     "output_type": "stream",
     "text": [
      "[default |INFO|model.py:2540] [32/80]  loss: 1.094961e-01  D: 6.977920e-01  D2: -4.885720e-03  D3: 9.278159e-03  D4: 1.178732e-02\n",
      "test loss: 1.171212e-01  D: 6.983498e-01  D2: -5.245857e-03  D3: 1.025496e-02  D4: 1.390256e-02\n"
     ]
    },
    {
     "name": "stdout",
     "output_type": "stream",
     "text": [
      "[100/100]  test loss: 0.1142  D: 0.6795  D2: -0.0050  D3: 0.0099  D4: 0.01340\r"
     ]
    },
    {
     "name": "stderr",
     "output_type": "stream",
     "text": [
      "[default |INFO|model.py:2540] [33/80]  loss: 1.156914e-01  D: 6.949815e-01  D2: -5.077995e-03  D3: 9.017617e-03  D4: 1.204547e-02\n",
      "test loss: 1.142384e-01  D: 6.795349e-01  D2: -4.960518e-03  D3: 9.934204e-03  D4: 1.340505e-02\n"
     ]
    },
    {
     "name": "stdout",
     "output_type": "stream",
     "text": [
      "[091/100]  test loss: 0.1158  D: 0.6764  D2: -0.0047  D3: 0.0134  D4: 0.01632\r"
     ]
    },
    {
     "name": "stderr",
     "output_type": "stream",
     "text": [
      "[default |INFO|model.py:2540] [34/80]  loss: 1.106200e-01  D: 6.949334e-01  D2: -5.368044e-03  D3: 1.044428e-02  D4: 1.321349e-02\n",
      "test loss: 1.158704e-01  D: 6.764172e-01  D2: -4.804392e-03  D3: 1.337100e-02  D4: 1.625159e-02\n"
     ]
    },
    {
     "name": "stdout",
     "output_type": "stream",
     "text": [
      "[090/100]  test loss: 0.1016  D: 0.6914  D2: -0.0056  D3: 0.0111  D4: 0.01313\r"
     ]
    },
    {
     "name": "stderr",
     "output_type": "stream",
     "text": [
      "[default |INFO|model.py:2540] [35/80]  loss: 1.091192e-01  D: 6.942907e-01  D2: -5.316423e-03  D3: 1.077857e-02  D4: 1.327981e-02\n",
      "test loss: 1.014352e-01  D: 6.914392e-01  D2: -5.556326e-03  D3: 1.098463e-02  D4: 1.300751e-02\n"
     ]
    },
    {
     "name": "stdout",
     "output_type": "stream",
     "text": [
      "[091/100]  test loss: 0.1063  D: 0.6798  D2: -0.0052  D3: 0.0109  D4: 0.01435\r"
     ]
    },
    {
     "name": "stderr",
     "output_type": "stream",
     "text": [
      "[default |INFO|model.py:2540] [36/80]  loss: 1.068123e-01  D: 6.934269e-01  D2: -5.299985e-03  D3: 1.019417e-02  D4: 1.252688e-02\n",
      "test loss: 1.062145e-01  D: 6.797690e-01  D2: -5.181808e-03  D3: 1.087155e-02  D4: 1.420605e-02\n"
     ]
    },
    {
     "name": "stdout",
     "output_type": "stream",
     "text": [
      "[100/100]  test loss: 0.1044  D: 0.7051  D2: -0.0054  D3: 0.0062  D4: 0.00833\r"
     ]
    },
    {
     "name": "stderr",
     "output_type": "stream",
     "text": [
      "[default |INFO|model.py:2540] [37/80]  loss: 1.055115e-01  D: 6.940548e-01  D2: -5.209246e-03  D3: 1.111771e-02  D4: 1.331429e-02\n",
      "test loss: 1.044208e-01  D: 7.051189e-01  D2: -5.428638e-03  D3: 6.201921e-03  D4: 8.330772e-03\n"
     ]
    },
    {
     "name": "stdout",
     "output_type": "stream",
     "text": [
      "[091/100]  test loss: 0.0996  D: 0.7080  D2: -0.0053  D3: 0.0098  D4: 0.01138\r"
     ]
    },
    {
     "name": "stderr",
     "output_type": "stream",
     "text": [
      "[default |INFO|model.py:2540] [38/80]  loss: 1.071061e-01  D: 6.962179e-01  D2: -5.396962e-03  D3: 1.056952e-02  D4: 1.279388e-02\n",
      "test loss: 9.924279e-02  D: 7.080510e-01  D2: -5.311880e-03  D3: 9.737330e-03  D4: 1.129598e-02\n"
     ]
    },
    {
     "name": "stdout",
     "output_type": "stream",
     "text": [
      "[100/100]  test loss: 0.1048  D: 0.6863  D2: -0.0056  D3: 0.0096  D4: 0.01304\r"
     ]
    },
    {
     "name": "stderr",
     "output_type": "stream",
     "text": [
      "[default |INFO|model.py:2540] [39/80]  loss: 1.035294e-01  D: 6.950755e-01  D2: -5.501523e-03  D3: 1.120918e-02  D4: 1.338808e-02\n",
      "test loss: 1.048056e-01  D: 6.862672e-01  D2: -5.583858e-03  D3: 9.596841e-03  D4: 1.295910e-02\n"
     ]
    },
    {
     "name": "stdout",
     "output_type": "stream",
     "text": [
      "[091/100]  test loss: 0.1070  D: 0.7171  D2: -0.0055  D3: 0.0098  D4: 0.01276\r"
     ]
    },
    {
     "name": "stderr",
     "output_type": "stream",
     "text": [
      "[default |INFO|model.py:2540] [40/80]  loss: 1.064373e-01  D: 6.944599e-01  D2: -5.710667e-03  D3: 1.131631e-02  D4: 1.360769e-02\n",
      "test loss: 1.070363e-01  D: 7.171130e-01  D2: -5.687752e-03  D3: 9.764945e-03  D4: 1.262390e-02\n"
     ]
    },
    {
     "name": "stdout",
     "output_type": "stream",
     "text": [
      "[091/100]  test loss: 0.0963  D: 0.7104  D2: -0.0066  D3: 0.0121  D4: 0.01427\r"
     ]
    },
    {
     "name": "stderr",
     "output_type": "stream",
     "text": [
      "[default |INFO|model.py:2540] [41/80]  loss: 1.069204e-01  D: 6.956916e-01  D2: -5.336310e-03  D3: 1.105255e-02  D4: 1.373600e-02\n",
      "test loss: 9.627384e-02  D: 7.104143e-01  D2: -6.546469e-03  D3: 1.209556e-02  D4: 1.427001e-02\n"
     ]
    },
    {
     "name": "stdout",
     "output_type": "stream",
     "text": [
      "[100/100]  test loss: 0.1034  D: 0.6835  D2: -0.0049  D3: 0.0074  D4: 0.01127\r"
     ]
    },
    {
     "name": "stderr",
     "output_type": "stream",
     "text": [
      "[default |INFO|model.py:2540] [42/80]  loss: 1.055360e-01  D: 6.939119e-01  D2: -5.654189e-03  D3: 1.115620e-02  D4: 1.365152e-02\n",
      "test loss: 1.034336e-01  D: 6.835308e-01  D2: -4.897013e-03  D3: 7.363293e-03  D4: 1.121918e-02\n"
     ]
    },
    {
     "name": "stdout",
     "output_type": "stream",
     "text": [
      "[091/100]  test loss: 0.1095  D: 0.6480  D2: -0.0057  D3: 0.0103  D4: 0.01298\r"
     ]
    },
    {
     "name": "stderr",
     "output_type": "stream",
     "text": [
      "[default |INFO|model.py:2540] [43/80]  loss: 1.014917e-01  D: 6.931956e-01  D2: -5.500484e-03  D3: 1.169588e-02  D4: 1.381976e-02\n",
      "test loss: 1.098492e-01  D: 6.480399e-01  D2: -5.772829e-03  D3: 1.025299e-02  D4: 1.285884e-02\n"
     ]
    },
    {
     "name": "stdout",
     "output_type": "stream",
     "text": [
      "[100/100]  test loss: 0.1025  D: 0.7113  D2: -0.0058  D3: 0.0086  D4: 0.01187\r"
     ]
    },
    {
     "name": "stderr",
     "output_type": "stream",
     "text": [
      "[default |INFO|model.py:2540] [44/80]  loss: 1.070917e-01  D: 6.906286e-01  D2: -5.358423e-03  D3: 1.038462e-02  D4: 1.265263e-02\n",
      "test loss: 1.024833e-01  D: 7.113417e-01  D2: -5.833006e-03  D3: 8.642295e-03  D4: 1.175002e-02\n"
     ]
    },
    {
     "name": "stdout",
     "output_type": "stream",
     "text": [
      "[090/100]  test loss: 0.1015  D: 0.6731  D2: -0.0051  D3: 0.0123  D4: 0.01401\r"
     ]
    },
    {
     "name": "stderr",
     "output_type": "stream",
     "text": [
      "[default |INFO|model.py:2540] [45/80]  loss: 1.031789e-01  D: 6.947061e-01  D2: -5.534512e-03  D3: 1.110071e-02  D4: 1.308997e-02\n",
      "test loss: 1.013648e-01  D: 6.731948e-01  D2: -5.257292e-03  D3: 1.234739e-02  D4: 1.394188e-02\n"
     ]
    },
    {
     "name": "stdout",
     "output_type": "stream",
     "text": [
      "[100/100]  test loss: 0.1026  D: 0.7020  D2: -0.0056  D3: 0.0109  D4: 0.01272\r"
     ]
    },
    {
     "name": "stderr",
     "output_type": "stream",
     "text": [
      "[default |INFO|model.py:2540] [46/80]  loss: 1.031188e-01  D: 6.937903e-01  D2: -5.437671e-03  D3: 1.240070e-02  D4: 1.420075e-02\n",
      "test loss: 1.026031e-01  D: 7.020046e-01  D2: -5.562239e-03  D3: 1.086558e-02  D4: 1.273373e-02\n"
     ]
    },
    {
     "name": "stdout",
     "output_type": "stream",
     "text": [
      "[100/100]  test loss: 0.1047  D: 0.7164  D2: -0.0054  D3: 0.0160  D4: 0.01799\r"
     ]
    },
    {
     "name": "stderr",
     "output_type": "stream",
     "text": [
      "[default |INFO|model.py:2540] [47/80]  loss: 1.067207e-01  D: 6.978097e-01  D2: -5.544964e-03  D3: 1.159128e-02  D4: 1.387123e-02\n",
      "test loss: 1.046920e-01  D: 7.163884e-01  D2: -5.423822e-03  D3: 1.596374e-02  D4: 1.791048e-02\n"
     ]
    },
    {
     "name": "stdout",
     "output_type": "stream",
     "text": [
      "[100/100]  test loss: 0.1044  D: 0.6996  D2: -0.0052  D3: 0.0105  D4: 0.01277\r"
     ]
    },
    {
     "name": "stderr",
     "output_type": "stream",
     "text": [
      "[default |INFO|model.py:2540] [48/80]  loss: 1.051574e-01  D: 6.944372e-01  D2: -5.707981e-03  D3: 1.129773e-02  D4: 1.370639e-02\n",
      "test loss: 1.044061e-01  D: 6.995715e-01  D2: -5.207882e-03  D3: 1.046885e-02  D4: 1.271848e-02\n"
     ]
    },
    {
     "name": "stdout",
     "output_type": "stream",
     "text": [
      "[091/100]  test loss: 0.0964  D: 0.6799  D2: -0.0053  D3: 0.0143  D4: 0.01647\r"
     ]
    },
    {
     "name": "stderr",
     "output_type": "stream",
     "text": [
      "[default |INFO|model.py:2540] [49/80]  loss: 1.024785e-01  D: 6.882790e-01  D2: -5.705759e-03  D3: 1.281902e-02  D4: 1.465286e-02\n",
      "test loss: 9.703721e-02  D: 6.799332e-01  D2: -5.420523e-03  D3: 1.431575e-02  D4: 1.645445e-02\n"
     ]
    },
    {
     "name": "stdout",
     "output_type": "stream",
     "text": [
      "[091/100]  test loss: 0.1103  D: 0.6791  D2: -0.0054  D3: 0.0095  D4: 0.01248\r"
     ]
    },
    {
     "name": "stderr",
     "output_type": "stream",
     "text": [
      "[default |INFO|model.py:2540] [50/80]  loss: 1.029012e-01  D: 6.946096e-01  D2: -5.448996e-03  D3: 1.266884e-02  D4: 1.482271e-02\n",
      "test loss: 1.103786e-01  D: 6.790781e-01  D2: -5.400467e-03  D3: 9.601393e-03  D4: 1.254410e-02\n"
     ]
    },
    {
     "name": "stdout",
     "output_type": "stream",
     "text": [
      "[091/100]  test loss: 0.1059  D: 0.6623  D2: -0.0051  D3: 0.0039  D4: 0.00477\r"
     ]
    },
    {
     "name": "stderr",
     "output_type": "stream",
     "text": [
      "[default |INFO|model.py:2540] [51/80]  loss: 1.074810e-01  D: 6.895723e-01  D2: -5.628128e-03  D3: 1.096959e-02  D4: 1.270961e-02\n",
      "test loss: 1.058410e-01  D: 6.622930e-01  D2: -5.313778e-03  D3: 3.924614e-03  D4: 4.677457e-03\n"
     ]
    },
    {
     "name": "stdout",
     "output_type": "stream",
     "text": [
      "[091/100]  test loss: 0.1030  D: 0.7100  D2: -0.0061  D3: 0.0099  D4: 0.01179\r"
     ]
    },
    {
     "name": "stderr",
     "output_type": "stream",
     "text": [
      "[default |INFO|model.py:2540] [52/80]  loss: 1.011413e-01  D: 6.956286e-01  D2: -5.710543e-03  D3: 1.186168e-02  D4: 1.390582e-02\n",
      "test loss: 1.027392e-01  D: 7.100131e-01  D2: -6.021290e-03  D3: 9.830340e-03  D4: 1.167028e-02\n"
     ]
    },
    {
     "name": "stdout",
     "output_type": "stream",
     "text": [
      "[093/100]  test loss: 0.0978  D: 0.6909  D2: -0.0048  D3: 0.0144  D4: 0.01624\r"
     ]
    },
    {
     "name": "stderr",
     "output_type": "stream",
     "text": [
      "[default |INFO|model.py:2540] [53/80]  loss: 1.053670e-01  D: 6.994761e-01  D2: -5.858970e-03  D3: 1.117279e-02  D4: 1.338147e-02\n",
      "test loss: 9.749446e-02  D: 6.909337e-01  D2: -4.907780e-03  D3: 1.447502e-02  D4: 1.627788e-02\n"
     ]
    },
    {
     "name": "stdout",
     "output_type": "stream",
     "text": [
      "[091/100]  test loss: 0.1000  D: 0.6979  D2: -0.0059  D3: 0.0052  D4: 0.00696\r"
     ]
    },
    {
     "name": "stderr",
     "output_type": "stream",
     "text": [
      "[default |INFO|model.py:2540] [54/80]  loss: 1.030720e-01  D: 6.924051e-01  D2: -5.585709e-03  D3: 1.162685e-02  D4: 1.360689e-02\n",
      "test loss: 1.001824e-01  D: 6.979109e-01  D2: -5.933704e-03  D3: 5.213045e-03  D4: 6.945328e-03\n"
     ]
    },
    {
     "name": "stdout",
     "output_type": "stream",
     "text": [
      "[091/100]  test loss: 0.0990  D: 0.6548  D2: -0.0060  D3: 0.0138  D4: 0.01595\r"
     ]
    },
    {
     "name": "stderr",
     "output_type": "stream",
     "text": [
      "[default |INFO|model.py:2540] [55/80]  loss: 1.036672e-01  D: 6.958005e-01  D2: -5.385537e-03  D3: 1.136662e-02  D4: 1.348704e-02\n",
      "test loss: 9.959921e-02  D: 6.546881e-01  D2: -6.056871e-03  D3: 1.381969e-02  D4: 1.585908e-02\n"
     ]
    },
    {
     "name": "stdout",
     "output_type": "stream",
     "text": [
      "[090/100]  test loss: 0.1050  D: 0.7342  D2: -0.0060  D3: 0.0119  D4: 0.01400\r"
     ]
    },
    {
     "name": "stderr",
     "output_type": "stream",
     "text": [
      "[default |INFO|model.py:2540] [56/80]  loss: 1.025311e-01  D: 6.932628e-01  D2: -5.634219e-03  D3: 1.124894e-02  D4: 1.302981e-02\n",
      "test loss: 1.050819e-01  D: 7.342576e-01  D2: -5.852060e-03  D3: 1.194248e-02  D4: 1.398959e-02\n"
     ]
    },
    {
     "name": "stdout",
     "output_type": "stream",
     "text": [
      "[100/100]  test loss: 0.1145  D: 0.6898  D2: -0.0056  D3: 0.0095  D4: 0.01144\r"
     ]
    },
    {
     "name": "stderr",
     "output_type": "stream",
     "text": [
      "[default |INFO|model.py:2540] [57/80]  loss: 1.051685e-01  D: 6.919827e-01  D2: -5.588142e-03  D3: 1.203344e-02  D4: 1.441271e-02\n",
      "test loss: 1.145161e-01  D: 6.897771e-01  D2: -5.593405e-03  D3: 9.506951e-03  D4: 1.142802e-02\n"
     ]
    },
    {
     "name": "stdout",
     "output_type": "stream",
     "text": [
      "[100/100]  test loss: 0.1055  D: 0.7156  D2: -0.0055  D3: 0.0114  D4: 0.01349\r"
     ]
    },
    {
     "name": "stderr",
     "output_type": "stream",
     "text": [
      "[default |INFO|model.py:2540] [58/80]  loss: 1.080208e-01  D: 6.993193e-01  D2: -5.673456e-03  D3: 9.836458e-03  D4: 1.188934e-02\n",
      "test loss: 1.054532e-01  D: 7.155762e-01  D2: -5.482922e-03  D3: 1.140530e-02  D4: 1.343622e-02\n"
     ]
    },
    {
     "name": "stdout",
     "output_type": "stream",
     "text": [
      "[100/100]  test loss: 0.0980  D: 0.6850  D2: -0.0063  D3: 0.0127  D4: 0.01546\r"
     ]
    },
    {
     "name": "stderr",
     "output_type": "stream",
     "text": [
      "[default |INFO|model.py:2540] [59/80]  loss: 1.016689e-01  D: 6.922277e-01  D2: -5.579308e-03  D3: 1.198824e-02  D4: 1.459999e-02\n",
      "test loss: 9.802563e-02  D: 6.850396e-01  D2: -6.283903e-03  D3: 1.273863e-02  D4: 1.537275e-02\n"
     ]
    },
    {
     "name": "stdout",
     "output_type": "stream",
     "text": [
      "[090/100]  test loss: 0.0953  D: 0.6847  D2: -0.0056  D3: 0.0135  D4: 0.01581\r"
     ]
    },
    {
     "name": "stderr",
     "output_type": "stream",
     "text": [
      "[default |INFO|model.py:2540] [60/80]  loss: 9.979776e-02  D: 6.932132e-01  D2: -5.670158e-03  D3: 1.231853e-02  D4: 1.505383e-02\n",
      "test loss: 9.546981e-02  D: 6.846937e-01  D2: -5.640621e-03  D3: 1.364473e-02  D4: 1.580408e-02\n"
     ]
    },
    {
     "name": "stdout",
     "output_type": "stream",
     "text": [
      "[090/100]  test loss: 0.1076  D: 0.6909  D2: -0.0055  D3: 0.0138  D4: 0.01748\r"
     ]
    },
    {
     "name": "stderr",
     "output_type": "stream",
     "text": [
      "[default |INFO|model.py:2540] [61/80]  loss: 1.060216e-01  D: 6.958545e-01  D2: -5.596852e-03  D3: 1.139900e-02  D4: 1.384509e-02\n",
      "test loss: 1.077424e-01  D: 6.909141e-01  D2: -5.501881e-03  D3: 1.387132e-02  D4: 1.746312e-02\n"
     ]
    },
    {
     "name": "stdout",
     "output_type": "stream",
     "text": [
      "[091/100]  test loss: 0.0989  D: 0.6842  D2: -0.0057  D3: 0.0132  D4: 0.01521\r"
     ]
    },
    {
     "name": "stderr",
     "output_type": "stream",
     "text": [
      "[default |INFO|model.py:2540] [62/80]  loss: 1.060703e-01  D: 6.889760e-01  D2: -5.705558e-03  D3: 1.160773e-02  D4: 1.406599e-02\n",
      "test loss: 9.901307e-02  D: 6.842036e-01  D2: -5.805893e-03  D3: 1.328757e-02  D4: 1.510933e-02\n"
     ]
    },
    {
     "name": "stdout",
     "output_type": "stream",
     "text": [
      "[091/100]  test loss: 0.0980  D: 0.6747  D2: -0.0055  D3: 0.0135  D4: 0.01638\r"
     ]
    },
    {
     "name": "stderr",
     "output_type": "stream",
     "text": [
      "[default |INFO|model.py:2540] [63/80]  loss: 1.019072e-01  D: 6.934722e-01  D2: -5.448969e-03  D3: 1.222349e-02  D4: 1.479359e-02\n",
      "test loss: 9.772333e-02  D: 6.747875e-01  D2: -5.638103e-03  D3: 1.334598e-02  D4: 1.625930e-02\n"
     ]
    },
    {
     "name": "stdout",
     "output_type": "stream",
     "text": [
      "[090/100]  test loss: 0.0954  D: 0.6856  D2: -0.0062  D3: 0.0151  D4: 0.01779\r"
     ]
    },
    {
     "name": "stderr",
     "output_type": "stream",
     "text": [
      "[default |INFO|model.py:2540] [64/80]  loss: 9.896627e-02  D: 6.943914e-01  D2: -5.586646e-03  D3: 1.193699e-02  D4: 1.491302e-02\n",
      "test loss: 9.530877e-02  D: 6.856076e-01  D2: -6.239777e-03  D3: 1.503721e-02  D4: 1.770244e-02\n"
     ]
    },
    {
     "name": "stdout",
     "output_type": "stream",
     "text": [
      "[090/100]  test loss: 0.1020  D: 0.7121  D2: -0.0058  D3: 0.0099  D4: 0.01253\r"
     ]
    },
    {
     "name": "stderr",
     "output_type": "stream",
     "text": [
      "[default |INFO|model.py:2540] [65/80]  loss: 1.020420e-01  D: 6.931732e-01  D2: -5.712350e-03  D3: 1.108677e-02  D4: 1.431031e-02\n",
      "test loss: 1.015234e-01  D: 7.120770e-01  D2: -5.750093e-03  D3: 9.927632e-03  D4: 1.263798e-02\n"
     ]
    },
    {
     "name": "stdout",
     "output_type": "stream",
     "text": [
      "[091/100]  test loss: 0.1027  D: 0.6912  D2: -0.0058  D3: 0.0096  D4: 0.01310\r"
     ]
    },
    {
     "name": "stderr",
     "output_type": "stream",
     "text": [
      "[default |INFO|model.py:2540] [66/80]  loss: 1.053179e-01  D: 6.952069e-01  D2: -5.477036e-03  D3: 1.060333e-02  D4: 1.397144e-02\n",
      "test loss: 1.028754e-01  D: 6.911862e-01  D2: -5.776339e-03  D3: 9.696513e-03  D4: 1.319104e-02\n"
     ]
    },
    {
     "name": "stdout",
     "output_type": "stream",
     "text": [
      "[092/100]  test loss: 0.1096  D: 0.7059  D2: -0.0056  D3: 0.0114  D4: 0.01513\r"
     ]
    },
    {
     "name": "stderr",
     "output_type": "stream",
     "text": [
      "[default |INFO|model.py:2540] [67/80]  loss: 1.074642e-01  D: 6.964565e-01  D2: -5.805990e-03  D3: 1.001579e-02  D4: 1.332038e-02\n",
      "test loss: 1.096762e-01  D: 7.058558e-01  D2: -5.487404e-03  D3: 1.151962e-02  D4: 1.514024e-02\n"
     ]
    },
    {
     "name": "stdout",
     "output_type": "stream",
     "text": [
      "[090/100]  test loss: 0.1093  D: 0.7109  D2: -0.0053  D3: 0.0121  D4: 0.01559\r"
     ]
    },
    {
     "name": "stderr",
     "output_type": "stream",
     "text": [
      "[default |INFO|model.py:2540] [68/80]  loss: 1.067308e-01  D: 6.946750e-01  D2: -5.756679e-03  D3: 1.055864e-02  D4: 1.386199e-02\n",
      "test loss: 1.093466e-01  D: 7.109244e-01  D2: -5.191450e-03  D3: 1.205457e-02  D4: 1.541539e-02\n"
     ]
    },
    {
     "name": "stdout",
     "output_type": "stream",
     "text": [
      "[091/100]  test loss: 0.1054  D: 0.7147  D2: -0.0061  D3: 0.0139  D4: 0.01695\r"
     ]
    },
    {
     "name": "stderr",
     "output_type": "stream",
     "text": [
      "[default |INFO|model.py:2540] [69/80]  loss: 1.108086e-01  D: 6.961539e-01  D2: -5.831168e-03  D3: 1.124514e-02  D4: 1.452438e-02\n",
      "test loss: 1.053252e-01  D: 7.146903e-01  D2: -6.065779e-03  D3: 1.390081e-02  D4: 1.684106e-02\n"
     ]
    },
    {
     "name": "stdout",
     "output_type": "stream",
     "text": [
      "[091/100]  test loss: 0.1036  D: 0.6798  D2: -0.0063  D3: 0.0113  D4: 0.01424\r"
     ]
    },
    {
     "name": "stderr",
     "output_type": "stream",
     "text": [
      "[default |INFO|model.py:2540] [70/80]  loss: 1.054052e-01  D: 6.957330e-01  D2: -5.489192e-03  D3: 1.197846e-02  D4: 1.538856e-02\n",
      "test loss: 1.036188e-01  D: 6.797899e-01  D2: -6.300068e-03  D3: 1.136861e-02  D4: 1.413270e-02\n"
     ]
    },
    {
     "name": "stdout",
     "output_type": "stream",
     "text": [
      "[091/100]  test loss: 0.0995  D: 0.6793  D2: -0.0056  D3: 0.0132  D4: 0.01447\r"
     ]
    },
    {
     "name": "stderr",
     "output_type": "stream",
     "text": [
      "[default |INFO|model.py:2540] [71/80]  loss: 1.045586e-01  D: 6.929956e-01  D2: -5.621999e-03  D3: 1.192798e-02  D4: 1.472511e-02\n",
      "test loss: 9.950139e-02  D: 6.792635e-01  D2: -5.737600e-03  D3: 1.329354e-02  D4: 1.443866e-02\n"
     ]
    },
    {
     "name": "stdout",
     "output_type": "stream",
     "text": [
      "[091/100]  test loss: 0.1031  D: 0.6812  D2: -0.0062  D3: 0.0110  D4: 0.01435\r"
     ]
    },
    {
     "name": "stderr",
     "output_type": "stream",
     "text": [
      "[default |INFO|model.py:2540] [72/80]  loss: 9.843540e-02  D: 6.947074e-01  D2: -5.701181e-03  D3: 1.251027e-02  D4: 1.552654e-02\n",
      "test loss: 1.028985e-01  D: 6.812660e-01  D2: -6.326742e-03  D3: 1.100536e-02  D4: 1.436464e-02\n"
     ]
    },
    {
     "name": "stdout",
     "output_type": "stream",
     "text": [
      "[092/100]  test loss: 0.1052  D: 0.6742  D2: -0.0059  D3: 0.0130  D4: 0.01595\r"
     ]
    },
    {
     "name": "stderr",
     "output_type": "stream",
     "text": [
      "[default |INFO|model.py:2540] [73/80]  loss: 1.015378e-01  D: 6.959470e-01  D2: -5.822740e-03  D3: 1.139548e-02  D4: 1.452134e-02\n",
      "test loss: 1.051880e-01  D: 6.741490e-01  D2: -6.115236e-03  D3: 1.299190e-02  D4: 1.584596e-02\n"
     ]
    },
    {
     "name": "stdout",
     "output_type": "stream",
     "text": [
      "[090/100]  test loss: 0.0978  D: 0.7163  D2: -0.0063  D3: 0.0080  D4: 0.01087\r"
     ]
    },
    {
     "name": "stderr",
     "output_type": "stream",
     "text": [
      "[default |INFO|model.py:2540] [74/80]  loss: 1.042817e-01  D: 6.938917e-01  D2: -5.883668e-03  D3: 1.146109e-02  D4: 1.470080e-02\n",
      "test loss: 9.796408e-02  D: 7.162872e-01  D2: -6.302948e-03  D3: 7.930011e-03  D4: 1.087193e-02\n"
     ]
    },
    {
     "name": "stdout",
     "output_type": "stream",
     "text": [
      "[091/100]  test loss: 0.1052  D: 0.7013  D2: -0.0062  D3: 0.0104  D4: 0.01395\r"
     ]
    },
    {
     "name": "stderr",
     "output_type": "stream",
     "text": [
      "[default |INFO|model.py:2540] [75/80]  loss: 1.080368e-01  D: 6.967998e-01  D2: -5.698466e-03  D3: 1.127144e-02  D4: 1.454214e-02\n",
      "test loss: 1.049383e-01  D: 7.012739e-01  D2: -6.181355e-03  D3: 1.040223e-02  D4: 1.379844e-02\n"
     ]
    },
    {
     "name": "stdout",
     "output_type": "stream",
     "text": [
      "[090/100]  test loss: 0.1049  D: 0.6930  D2: -0.0064  D3: 0.0080  D4: 0.01205\r"
     ]
    },
    {
     "name": "stderr",
     "output_type": "stream",
     "text": [
      "[default |INFO|model.py:2540] [76/80]  loss: 1.029443e-01  D: 6.942927e-01  D2: -5.860971e-03  D3: 1.083830e-02  D4: 1.447619e-02\n",
      "test loss: 1.050295e-01  D: 6.929964e-01  D2: -6.453619e-03  D3: 8.043974e-03  D4: 1.206011e-02\n"
     ]
    },
    {
     "name": "stdout",
     "output_type": "stream",
     "text": [
      "[091/100]  test loss: 0.1044  D: 0.6845  D2: -0.0066  D3: 0.0105  D4: 0.01503\r"
     ]
    },
    {
     "name": "stderr",
     "output_type": "stream",
     "text": [
      "[default |INFO|model.py:2540] [77/80]  loss: 1.046680e-01  D: 6.933712e-01  D2: -5.782854e-03  D3: 1.036662e-02  D4: 1.431431e-02\n",
      "test loss: 1.044836e-01  D: 6.844699e-01  D2: -6.539011e-03  D3: 1.040717e-02  D4: 1.506065e-02\n"
     ]
    },
    {
     "name": "stdout",
     "output_type": "stream",
     "text": [
      "[091/100]  test loss: 0.1051  D: 0.6957  D2: -0.0066  D3: 0.0090  D4: 0.01365\r"
     ]
    },
    {
     "name": "stderr",
     "output_type": "stream",
     "text": [
      "[default |INFO|model.py:2540] [78/80]  loss: 1.097753e-01  D: 6.975549e-01  D2: -5.591666e-03  D3: 9.881221e-03  D4: 1.347555e-02\n",
      "test loss: 1.051487e-01  D: 6.957219e-01  D2: -6.315145e-03  D3: 8.949029e-03  D4: 1.369391e-02\n"
     ]
    },
    {
     "name": "stdout",
     "output_type": "stream",
     "text": [
      "[090/100]  test loss: 0.1023  D: 0.7079  D2: -0.0056  D3: 0.0107  D4: 0.01394\r"
     ]
    },
    {
     "name": "stderr",
     "output_type": "stream",
     "text": [
      "[default |INFO|model.py:2540] [79/80]  loss: 1.060611e-01  D: 6.947896e-01  D2: -5.757731e-03  D3: 1.030502e-02  D4: 1.443256e-02\n",
      "test loss: 1.023176e-01  D: 7.079546e-01  D2: -5.573769e-03  D3: 1.063476e-02  D4: 1.388992e-02\n"
     ]
    },
    {
     "name": "stdout",
     "output_type": "stream",
     "text": [
      "[091/100]  test loss: 0.1000  D: 0.6885  D2: -0.0061  D3: 0.0097  D4: 0.01413\r"
     ]
    },
    {
     "name": "stderr",
     "output_type": "stream",
     "text": [
      "[default |INFO|model.py:2540] [80/80]  loss: 1.058793e-01  D: 6.936362e-01  D2: -5.821681e-03  D3: 1.044220e-02  D4: 1.425455e-02\n",
      "test loss: 1.000751e-01  D: 6.885388e-01  D2: -6.183758e-03  D3: 9.649649e-03  D4: 1.406231e-02\n"
     ]
    },
    {
     "name": "stdout",
     "output_type": "stream",
     "text": [
      "[092/100]  test loss: 0.1001  D: 0.6885  D2: -0.0061  D3: 0.0097  D4: 0.0141\r",
      "[093/100]  test loss: 0.1000  D: 0.6885  D2: -0.0061  D3: 0.0097  D4: 0.0141\r",
      "[094/100]  test loss: 0.1000  D: 0.6885  D2: -0.0061  D3: 0.0097  D4: 0.0140\r",
      "[095/100]  test loss: 0.1000  D: 0.6885  D2: -0.0061  D3: 0.0097  D4: 0.0140\r",
      "[096/100]  test loss: 0.1000  D: 0.6885  D2: -0.0062  D3: 0.0096  D4: 0.0140\r",
      "[097/100]  test loss: 0.1000  D: 0.6885  D2: -0.0061  D3: 0.0096  D4: 0.0141\r",
      "[098/100]  test loss: 0.1001  D: 0.6885  D2: -0.0061  D3: 0.0096  D4: 0.0141\r",
      "[099/100]  test loss: 0.1001  D: 0.6885  D2: -0.0062  D3: 0.0097  D4: 0.0141\r",
      "[100/100]  test loss: 0.1001  D: 0.6885  D2: -0.0062  D3: 0.0096  D4: 0.0141\r"
     ]
    },
    {
     "name": "stderr",
     "output_type": "stream",
     "text": [
      "[default |INFO|model.py:2655] Training Finished!\n",
      "[default |INFO|model.py:2656] Elapsed time: 3065.030s\n"
     ]
    }
   ],
   "source": [
    "cfg = configparser.ConfigParser()\n",
    "cfg.read('./config/sswae_dev2_hsic_14.cfg')\n",
    "\n",
    "mm = cur_model(cfg, log, device = device)\n",
    "\n",
    "mm.gm.mu.load_state_dict(torch.load(f'./result/mu_{cfg[\"train_info\"][\"y_dim\"]}.pt'))\n",
    "mm.gm.cov.load_state_dict(torch.load(f'./result/cov_{cfg[\"train_info\"][\"y_dim\"]}.pt'))\n",
    "\n",
    "mm.train()\n",
    "# mm.load('./%s' % (cfg['path_info']['save_path']))"
   ]
  },
  {
   "cell_type": "markdown",
   "metadata": {},
   "source": [
    "# Train - 7"
   ]
  },
  {
   "cell_type": "code",
   "execution_count": 5,
   "metadata": {
    "scrolled": true
   },
   "outputs": [
    {
     "name": "stderr",
     "output_type": "stream",
     "text": [
      "[default |INFO|_base_model.py:27] ------------------------------------------------------------\n",
      "[default |INFO|_base_model.py:29] model_name : SSWAE_HSIC_MNIST\n",
      "[default |INFO|_base_model.py:29] train_data : rmMNIST\n",
      "[default |INFO|_base_model.py:29] train_data_label : True\n",
      "[default |INFO|_base_model.py:29] z_sampler : gaus\n",
      "[default |INFO|_base_model.py:29] z_dim : 12\n",
      "[default |INFO|_base_model.py:29] y_sampler : gaus\n",
      "[default |INFO|_base_model.py:29] y_dim : 4\n",
      "[default |INFO|_base_model.py:29] labeled_class : 0,1,2,3,4,5,6,7,8,9\n",
      "[default |INFO|_base_model.py:29] unlabeled_class : \n",
      "[default |INFO|_base_model.py:29] test_class : \n",
      "[default |INFO|_base_model.py:29] portion : 1.0\n",
      "[default |INFO|_base_model.py:29] unk : False\n",
      "[default |INFO|_base_model.py:29] encoder_pretrain : False\n",
      "[default |INFO|_base_model.py:29] encoder_pretrain_step : 3\n",
      "[default |INFO|_base_model.py:29] lr : 5e-4\n",
      "[default |INFO|_base_model.py:29] beta1 : 0.5\n",
      "[default |INFO|_base_model.py:29] lr_adv : 2e-4\n",
      "[default |INFO|_base_model.py:29] beta1_adv : 0.5\n",
      "[default |INFO|_base_model.py:29] lambda : 10.0\n",
      "[default |INFO|_base_model.py:29] lambda_mmd : 10.0\n",
      "[default |INFO|_base_model.py:29] lambda_hsic : 10.0\n",
      "[default |INFO|_base_model.py:29] lr_schedule : manual\n",
      "[default |INFO|_base_model.py:29] validate : True\n",
      "[default |INFO|_base_model.py:29] histogram : True\n",
      "[default |INFO|_base_model.py:29] batch_size : 100\n",
      "[default |INFO|_base_model.py:29] epoch : 80\n",
      "[default |INFO|_base_model.py:29] replace : False\n",
      "[default |INFO|_base_model.py:29] save_best : False\n",
      "[default |INFO|_base_model.py:32] data_home : ./data/MNIST\n",
      "[default |INFO|_base_model.py:32] tb_logs : \n",
      "[default |INFO|_base_model.py:32] save_path : ./result/weights/sswae_dev2_hsic_15.pt\n",
      "[default |INFO|_base_model.py:32] save_state : ./result/states/sswae_dev2_hsic_15.pt\n",
      "[default |INFO|_base_model.py:32] save_img_path : \n",
      "[default |INFO|model.py:2419] ------------------------------------------------------------\n",
      "[default |INFO|model.py:2420] Training Start!\n"
     ]
    },
    {
     "name": "stdout",
     "output_type": "stream",
     "text": [
      "[091/100]  test loss: 0.1889  D: 0.7170  D2: 0.0010  D3: 0.0085  D4: 0.00913\r"
     ]
    },
    {
     "name": "stderr",
     "output_type": "stream",
     "text": [
      "[default |INFO|model.py:2540] [01/80]  loss: 2.383686e-01  D: 6.977157e-01  D2: 2.015874e-02  D3: 2.620313e-03  D4: 3.313342e-03\n",
      "test loss: 1.890051e-01  D: 7.169680e-01  D2: 1.166449e-03  D3: 8.440689e-03  D4: 9.043108e-03\n"
     ]
    },
    {
     "name": "stdout",
     "output_type": "stream",
     "text": [
      "[092/100]  test loss: 0.1712  D: 0.6932  D2: -0.0042  D3: 0.0108  D4: 0.01419\r"
     ]
    },
    {
     "name": "stderr",
     "output_type": "stream",
     "text": [
      "[default |INFO|model.py:2540] [02/80]  loss: 1.681435e-01  D: 6.966089e-01  D2: -1.758202e-03  D3: 7.312256e-03  D4: 8.927309e-03\n",
      "test loss: 1.712269e-01  D: 6.932493e-01  D2: -4.129562e-03  D3: 1.080550e-02  D4: 1.415056e-02\n"
     ]
    },
    {
     "name": "stdout",
     "output_type": "stream",
     "text": [
      "[091/100]  test loss: 0.1702  D: 0.6578  D2: -0.0046  D3: 0.0146  D4: 0.01876\r"
     ]
    },
    {
     "name": "stderr",
     "output_type": "stream",
     "text": [
      "[default |INFO|model.py:2540] [03/80]  loss: 1.786572e-01  D: 7.466392e-01  D2: -3.588063e-03  D3: 1.377522e-02  D4: 1.660861e-02\n",
      "test loss: 1.702092e-01  D: 6.578681e-01  D2: -4.385023e-03  D3: 1.454147e-02  D4: 1.875213e-02\n"
     ]
    },
    {
     "name": "stdout",
     "output_type": "stream",
     "text": [
      "[100/100]  test loss: 0.1152  D: 0.7204  D2: -0.0026  D3: 0.0107  D4: 0.01338\r"
     ]
    },
    {
     "name": "stderr",
     "output_type": "stream",
     "text": [
      "[default |INFO|model.py:2540] [04/80]  loss: 1.383931e-01  D: 6.909872e-01  D2: -3.857142e-03  D3: 1.097387e-02  D4: 1.280710e-02\n",
      "test loss: 1.151918e-01  D: 7.203888e-01  D2: -2.598524e-03  D3: 1.066917e-02  D4: 1.330117e-02\n"
     ]
    },
    {
     "name": "stdout",
     "output_type": "stream",
     "text": [
      "[091/100]  test loss: 0.1145  D: 0.7038  D2: -0.0040  D3: 0.0158  D4: 0.01579\r"
     ]
    },
    {
     "name": "stderr",
     "output_type": "stream",
     "text": [
      "[default |INFO|model.py:2540] [05/80]  loss: 1.276223e-01  D: 6.914477e-01  D2: -3.811185e-03  D3: 1.251350e-02  D4: 1.387696e-02\n",
      "test loss: 1.143616e-01  D: 7.037672e-01  D2: -3.913021e-03  D3: 1.596195e-02  D4: 1.570584e-02\n"
     ]
    },
    {
     "name": "stdout",
     "output_type": "stream",
     "text": [
      "[090/100]  test loss: 0.1053  D: 0.6995  D2: -0.0038  D3: 0.0129  D4: 0.01317\r"
     ]
    },
    {
     "name": "stderr",
     "output_type": "stream",
     "text": [
      "[default |INFO|model.py:2540] [06/80]  loss: 1.165628e-01  D: 6.997755e-01  D2: -3.796439e-03  D3: 1.420133e-02  D4: 1.571799e-02\n",
      "test loss: 1.054249e-01  D: 6.994458e-01  D2: -3.878012e-03  D3: 1.290405e-02  D4: 1.301309e-02\n"
     ]
    },
    {
     "name": "stdout",
     "output_type": "stream",
     "text": [
      "[091/100]  test loss: 0.1117  D: 0.6733  D2: -0.0041  D3: 0.0139  D4: 0.01585\r"
     ]
    },
    {
     "name": "stderr",
     "output_type": "stream",
     "text": [
      "[default |INFO|model.py:2540] [07/80]  loss: 1.116449e-01  D: 6.987733e-01  D2: -3.806567e-03  D3: 1.373878e-02  D4: 1.554813e-02\n",
      "test loss: 1.117737e-01  D: 6.733323e-01  D2: -3.936596e-03  D3: 1.378777e-02  D4: 1.574938e-02\n"
     ]
    },
    {
     "name": "stdout",
     "output_type": "stream",
     "text": [
      "[090/100]  test loss: 0.0884  D: 0.6898  D2: -0.0043  D3: 0.0120  D4: 0.01446\r"
     ]
    },
    {
     "name": "stderr",
     "output_type": "stream",
     "text": [
      "[default |INFO|model.py:2540] [08/80]  loss: 1.022652e-01  D: 6.912451e-01  D2: -3.803827e-03  D3: 1.384234e-02  D4: 1.563723e-02\n",
      "test loss: 8.840714e-02  D: 6.898190e-01  D2: -4.192781e-03  D3: 1.191657e-02  D4: 1.433625e-02\n"
     ]
    },
    {
     "name": "stdout",
     "output_type": "stream",
     "text": [
      "[090/100]  test loss: 0.0872  D: 0.6940  D2: -0.0043  D3: 0.0167  D4: 0.01833\r"
     ]
    },
    {
     "name": "stderr",
     "output_type": "stream",
     "text": [
      "[default |INFO|model.py:2540] [09/80]  loss: 8.902301e-02  D: 6.956577e-01  D2: -4.116327e-03  D3: 1.469026e-02  D4: 1.626528e-02\n",
      "test loss: 8.722108e-02  D: 6.939516e-01  D2: -4.379053e-03  D3: 1.675043e-02  D4: 1.829473e-02\n"
     ]
    },
    {
     "name": "stdout",
     "output_type": "stream",
     "text": [
      "[091/100]  test loss: 0.0820  D: 0.6822  D2: -0.0034  D3: 0.0162  D4: 0.01768\r"
     ]
    },
    {
     "name": "stderr",
     "output_type": "stream",
     "text": [
      "[default |INFO|model.py:2540] [10/80]  loss: 8.665580e-02  D: 6.938974e-01  D2: -4.091026e-03  D3: 1.526406e-02  D4: 1.684224e-02\n",
      "test loss: 8.219602e-02  D: 6.822444e-01  D2: -3.436022e-03  D3: 1.619391e-02  D4: 1.761187e-02\n"
     ]
    },
    {
     "name": "stdout",
     "output_type": "stream",
     "text": [
      "[091/100]  test loss: 0.0856  D: 0.6797  D2: -0.0035  D3: 0.0171  D4: 0.01961\r"
     ]
    },
    {
     "name": "stderr",
     "output_type": "stream",
     "text": [
      "[default |INFO|model.py:2540] [11/80]  loss: 8.441991e-02  D: 6.949745e-01  D2: -3.967363e-03  D3: 1.447846e-02  D4: 1.605236e-02\n",
      "test loss: 8.560668e-02  D: 6.796471e-01  D2: -3.606167e-03  D3: 1.714581e-02  D4: 1.967701e-02\n"
     ]
    },
    {
     "name": "stdout",
     "output_type": "stream",
     "text": [
      "[091/100]  test loss: 0.0829  D: 0.6843  D2: -0.0033  D3: 0.0152  D4: 0.01625\r"
     ]
    },
    {
     "name": "stderr",
     "output_type": "stream",
     "text": [
      "[default |INFO|model.py:2540] [12/80]  loss: 8.514478e-02  D: 6.951898e-01  D2: -4.240227e-03  D3: 1.446340e-02  D4: 1.653037e-02\n",
      "test loss: 8.287696e-02  D: 6.842670e-01  D2: -3.326397e-03  D3: 1.516726e-02  D4: 1.613634e-02\n"
     ]
    },
    {
     "name": "stdout",
     "output_type": "stream",
     "text": [
      "[091/100]  test loss: 0.0771  D: 0.6998  D2: -0.0046  D3: 0.0148  D4: 0.01598\r"
     ]
    },
    {
     "name": "stderr",
     "output_type": "stream",
     "text": [
      "[default |INFO|model.py:2540] [13/80]  loss: 8.279391e-02  D: 6.943967e-01  D2: -4.474805e-03  D3: 1.502082e-02  D4: 1.680419e-02\n",
      "test loss: 7.689004e-02  D: 6.998552e-01  D2: -4.437580e-03  D3: 1.480221e-02  D4: 1.592065e-02\n"
     ]
    },
    {
     "name": "stdout",
     "output_type": "stream",
     "text": [
      "[091/100]  test loss: 0.0745  D: 0.6775  D2: -0.0039  D3: 0.0168  D4: 0.01886\r"
     ]
    },
    {
     "name": "stderr",
     "output_type": "stream",
     "text": [
      "[default |INFO|model.py:2540] [14/80]  loss: 7.725863e-02  D: 6.956788e-01  D2: -4.433438e-03  D3: 1.505879e-02  D4: 1.664611e-02\n",
      "test loss: 7.424752e-02  D: 6.775146e-01  D2: -4.160881e-03  D3: 1.673281e-02  D4: 1.883361e-02\n"
     ]
    },
    {
     "name": "stdout",
     "output_type": "stream",
     "text": [
      "[092/100]  test loss: 0.0759  D: 0.6935  D2: -0.0037  D3: 0.0158  D4: 0.01742\r"
     ]
    },
    {
     "name": "stderr",
     "output_type": "stream",
     "text": [
      "[default |INFO|model.py:2540] [15/80]  loss: 8.119490e-02  D: 6.955063e-01  D2: -4.497428e-03  D3: 1.445316e-02  D4: 1.624758e-02\n",
      "test loss: 7.595832e-02  D: 6.934407e-01  D2: -3.802118e-03  D3: 1.585953e-02  D4: 1.739216e-02\n"
     ]
    },
    {
     "name": "stdout",
     "output_type": "stream",
     "text": [
      "[091/100]  test loss: 0.0746  D: 0.6950  D2: -0.0052  D3: 0.0121  D4: 0.01395\r"
     ]
    },
    {
     "name": "stderr",
     "output_type": "stream",
     "text": [
      "[default |INFO|model.py:2540] [16/80]  loss: 7.418225e-02  D: 6.951782e-01  D2: -4.375798e-03  D3: 1.471165e-02  D4: 1.654292e-02\n",
      "test loss: 7.446034e-02  D: 6.950189e-01  D2: -5.054684e-03  D3: 1.220958e-02  D4: 1.388563e-02\n"
     ]
    },
    {
     "name": "stdout",
     "output_type": "stream",
     "text": [
      "[100/100]  test loss: 0.0687  D: 0.6902  D2: -0.0054  D3: 0.0119  D4: 0.01379\r"
     ]
    },
    {
     "name": "stderr",
     "output_type": "stream",
     "text": [
      "[default |INFO|model.py:2540] [17/80]  loss: 7.790898e-02  D: 6.958887e-01  D2: -4.672003e-03  D3: 1.395110e-02  D4: 1.594253e-02\n",
      "test loss: 6.871647e-02  D: 6.901538e-01  D2: -5.373659e-03  D3: 1.194935e-02  D4: 1.365422e-02\n"
     ]
    },
    {
     "name": "stdout",
     "output_type": "stream",
     "text": [
      "[091/100]  test loss: 0.0692  D: 0.7191  D2: -0.0042  D3: 0.0157  D4: 0.01748\r"
     ]
    },
    {
     "name": "stderr",
     "output_type": "stream",
     "text": [
      "[default |INFO|model.py:2540] [18/80]  loss: 7.443279e-02  D: 6.954274e-01  D2: -4.517430e-03  D3: 1.463923e-02  D4: 1.675353e-02\n",
      "test loss: 6.917699e-02  D: 7.191415e-01  D2: -4.303789e-03  D3: 1.570434e-02  D4: 1.737455e-02\n"
     ]
    },
    {
     "name": "stdout",
     "output_type": "stream",
     "text": [
      "[091/100]  test loss: 0.0726  D: 0.6747  D2: -0.0047  D3: 0.0159  D4: 0.01776\r"
     ]
    },
    {
     "name": "stderr",
     "output_type": "stream",
     "text": [
      "[default |INFO|model.py:2540] [19/80]  loss: 7.351777e-02  D: 6.961471e-01  D2: -4.407768e-03  D3: 1.461215e-02  D4: 1.656252e-02\n",
      "test loss: 7.285464e-02  D: 6.747101e-01  D2: -4.799156e-03  D3: 1.579046e-02  D4: 1.763672e-02\n"
     ]
    },
    {
     "name": "stdout",
     "output_type": "stream",
     "text": [
      "[091/100]  test loss: 0.0846  D: 0.6844  D2: -0.0039  D3: 0.0162  D4: 0.01881\r"
     ]
    },
    {
     "name": "stderr",
     "output_type": "stream",
     "text": [
      "[default |INFO|model.py:2540] [20/80]  loss: 7.440954e-02  D: 6.964592e-01  D2: -4.653560e-03  D3: 1.297839e-02  D4: 1.509213e-02\n",
      "test loss: 8.467118e-02  D: 6.844981e-01  D2: -3.603334e-03  D3: 1.621757e-02  D4: 1.878102e-02\n"
     ]
    },
    {
     "name": "stdout",
     "output_type": "stream",
     "text": [
      "[090/100]  test loss: 0.0725  D: 0.6910  D2: -0.0042  D3: 0.0168  D4: 0.01880\r"
     ]
    },
    {
     "name": "stderr",
     "output_type": "stream",
     "text": [
      "[default |INFO|model.py:2540] [21/80]  loss: 7.775732e-02  D: 6.948741e-01  D2: -4.601146e-03  D3: 1.405025e-02  D4: 1.603875e-02\n",
      "test loss: 7.236143e-02  D: 6.910562e-01  D2: -4.145374e-03  D3: 1.670054e-02  D4: 1.884318e-02\n"
     ]
    },
    {
     "name": "stdout",
     "output_type": "stream",
     "text": [
      "[100/100]  test loss: 0.0647  D: 0.7008  D2: -0.0049  D3: 0.0099  D4: 0.01143\r"
     ]
    },
    {
     "name": "stderr",
     "output_type": "stream",
     "text": [
      "[default |INFO|model.py:2540] [22/80]  loss: 6.949480e-02  D: 6.952131e-01  D2: -4.436460e-03  D3: 1.420360e-02  D4: 1.625181e-02\n",
      "test loss: 6.468272e-02  D: 7.007639e-01  D2: -4.900904e-03  D3: 9.876010e-03  D4: 1.142309e-02\n"
     ]
    },
    {
     "name": "stdout",
     "output_type": "stream",
     "text": [
      "[091/100]  test loss: 0.0836  D: 0.6700  D2: -0.0050  D3: 0.0178  D4: 0.02011\r"
     ]
    },
    {
     "name": "stderr",
     "output_type": "stream",
     "text": [
      "[default |INFO|model.py:2540] [23/80]  loss: 7.576480e-02  D: 6.987893e-01  D2: -4.796422e-03  D3: 1.306255e-02  D4: 1.509159e-02\n",
      "test loss: 8.367992e-02  D: 6.699803e-01  D2: -4.852028e-03  D3: 1.779686e-02  D4: 2.006599e-02\n"
     ]
    },
    {
     "name": "stdout",
     "output_type": "stream",
     "text": [
      "[091/100]  test loss: 0.0684  D: 0.6877  D2: -0.0057  D3: 0.0123  D4: 0.01445\r"
     ]
    },
    {
     "name": "stderr",
     "output_type": "stream",
     "text": [
      "[default |INFO|model.py:2540] [24/80]  loss: 7.520856e-02  D: 6.940174e-01  D2: -4.745447e-03  D3: 1.342375e-02  D4: 1.552807e-02\n",
      "test loss: 6.852851e-02  D: 6.876820e-01  D2: -5.450487e-03  D3: 1.226861e-02  D4: 1.442712e-02\n"
     ]
    },
    {
     "name": "stdout",
     "output_type": "stream",
     "text": [
      "[090/100]  test loss: 0.0935  D: 0.6906  D2: -0.0057  D3: 0.0175  D4: 0.01986\r"
     ]
    },
    {
     "name": "stderr",
     "output_type": "stream",
     "text": [
      "[default |INFO|model.py:2540] [25/80]  loss: 7.080224e-02  D: 6.960649e-01  D2: -4.965734e-03  D3: 1.342481e-02  D4: 1.563651e-02\n",
      "test loss: 9.340395e-02  D: 6.905524e-01  D2: -5.513401e-03  D3: 1.759852e-02  D4: 1.985712e-02\n"
     ]
    },
    {
     "name": "stdout",
     "output_type": "stream",
     "text": [
      "[091/100]  test loss: 0.0653  D: 0.6948  D2: -0.0051  D3: 0.0168  D4: 0.01930\r"
     ]
    },
    {
     "name": "stderr",
     "output_type": "stream",
     "text": [
      "[default |INFO|model.py:2540] [26/80]  loss: 7.528851e-02  D: 6.948798e-01  D2: -4.789489e-03  D3: 1.385855e-02  D4: 1.596175e-02\n",
      "test loss: 6.513396e-02  D: 6.947804e-01  D2: -5.206060e-03  D3: 1.686169e-02  D4: 1.933894e-02\n"
     ]
    },
    {
     "name": "stdout",
     "output_type": "stream",
     "text": [
      "[091/100]  test loss: 0.0780  D: 0.6791  D2: -0.0057  D3: 0.0181  D4: 0.02062\r"
     ]
    },
    {
     "name": "stderr",
     "output_type": "stream",
     "text": [
      "[default |INFO|model.py:2540] [27/80]  loss: 6.720136e-02  D: 6.982502e-01  D2: -4.913770e-03  D3: 1.404554e-02  D4: 1.620661e-02\n",
      "test loss: 7.808561e-02  D: 6.791269e-01  D2: -5.770197e-03  D3: 1.810318e-02  D4: 2.061565e-02\n"
     ]
    },
    {
     "name": "stdout",
     "output_type": "stream",
     "text": [
      "[100/100]  test loss: 0.0691  D: 0.6899  D2: -0.0058  D3: 0.0071  D4: 0.00877\r"
     ]
    },
    {
     "name": "stderr",
     "output_type": "stream",
     "text": [
      "[default |INFO|model.py:2540] [28/80]  loss: 7.119102e-02  D: 6.970217e-01  D2: -4.942660e-03  D3: 1.356741e-02  D4: 1.574020e-02\n",
      "test loss: 6.914761e-02  D: 6.899211e-01  D2: -5.846386e-03  D3: 7.070119e-03  D4: 8.662826e-03\n"
     ]
    },
    {
     "name": "stdout",
     "output_type": "stream",
     "text": [
      "[091/100]  test loss: 0.0684  D: 0.6856  D2: -0.0050  D3: 0.0179  D4: 0.01986\r"
     ]
    },
    {
     "name": "stderr",
     "output_type": "stream",
     "text": [
      "[default |INFO|model.py:2540] [29/80]  loss: 6.911979e-02  D: 6.984171e-01  D2: -5.127115e-03  D3: 1.344705e-02  D4: 1.563924e-02\n",
      "test loss: 6.828522e-02  D: 6.856065e-01  D2: -5.044432e-03  D3: 1.793515e-02  D4: 1.985524e-02\n"
     ]
    },
    {
     "name": "stdout",
     "output_type": "stream",
     "text": [
      "[091/100]  test loss: 0.0663  D: 0.6984  D2: -0.0045  D3: 0.0081  D4: 0.00960\r"
     ]
    },
    {
     "name": "stderr",
     "output_type": "stream",
     "text": [
      "[default |INFO|model.py:2540] [30/80]  loss: 6.660996e-02  D: 6.945549e-01  D2: -5.157072e-03  D3: 1.374037e-02  D4: 1.602131e-02\n",
      "test loss: 6.631907e-02  D: 6.984110e-01  D2: -4.394827e-03  D3: 8.088248e-03  D4: 9.579753e-03\n"
     ]
    },
    {
     "name": "stdout",
     "output_type": "stream",
     "text": [
      "[091/100]  test loss: 0.0663  D: 0.7028  D2: -0.0051  D3: 0.0084  D4: 0.00988\r"
     ]
    },
    {
     "name": "stderr",
     "output_type": "stream",
     "text": [
      "[default |INFO|model.py:2540] [31/80]  loss: 6.945832e-02  D: 6.951174e-01  D2: -4.942288e-03  D3: 1.282741e-02  D4: 1.481509e-02\n",
      "test loss: 6.636485e-02  D: 7.027609e-01  D2: -5.031433e-03  D3: 8.416336e-03  D4: 9.722258e-03\n"
     ]
    },
    {
     "name": "stdout",
     "output_type": "stream",
     "text": [
      "[091/100]  test loss: 0.0670  D: 0.6940  D2: -0.0044  D3: 0.0100  D4: 0.01269\r"
     ]
    },
    {
     "name": "stderr",
     "output_type": "stream",
     "text": [
      "[default |INFO|model.py:2540] [32/80]  loss: 6.782977e-02  D: 6.978887e-01  D2: -5.213553e-03  D3: 1.383786e-02  D4: 1.592856e-02\n",
      "test loss: 6.685687e-02  D: 6.940394e-01  D2: -4.599524e-03  D3: 1.000326e-02  D4: 1.254860e-02\n"
     ]
    },
    {
     "name": "stdout",
     "output_type": "stream",
     "text": [
      "[091/100]  test loss: 0.0637  D: 0.6563  D2: -0.0057  D3: 0.0128  D4: 0.01510\r"
     ]
    },
    {
     "name": "stderr",
     "output_type": "stream",
     "text": [
      "[default |INFO|model.py:2540] [33/80]  loss: 6.670105e-02  D: 6.972591e-01  D2: -5.324426e-03  D3: 1.372738e-02  D4: 1.596217e-02\n",
      "test loss: 6.358484e-02  D: 6.563339e-01  D2: -5.731106e-03  D3: 1.276216e-02  D4: 1.503060e-02\n"
     ]
    },
    {
     "name": "stdout",
     "output_type": "stream",
     "text": [
      "[092/100]  test loss: 0.0679  D: 0.6786  D2: -0.0056  D3: 0.0072  D4: 0.00872\r"
     ]
    },
    {
     "name": "stderr",
     "output_type": "stream",
     "text": [
      "[default |INFO|model.py:2540] [34/80]  loss: 6.337566e-02  D: 6.953651e-01  D2: -5.395228e-03  D3: 1.390819e-02  D4: 1.617158e-02\n",
      "test loss: 6.788668e-02  D: 6.785659e-01  D2: -5.589437e-03  D3: 7.196683e-03  D4: 8.678615e-03\n"
     ]
    },
    {
     "name": "stdout",
     "output_type": "stream",
     "text": [
      "[090/100]  test loss: 0.0706  D: 0.6546  D2: -0.0055  D3: 0.0090  D4: 0.01108\r"
     ]
    },
    {
     "name": "stderr",
     "output_type": "stream",
     "text": [
      "[default |INFO|model.py:2540] [35/80]  loss: 6.893437e-02  D: 6.969334e-01  D2: -5.255869e-03  D3: 1.349292e-02  D4: 1.576826e-02\n",
      "test loss: 7.070867e-02  D: 6.545805e-01  D2: -5.564270e-03  D3: 8.969560e-03  D4: 1.097377e-02\n"
     ]
    },
    {
     "name": "stdout",
     "output_type": "stream",
     "text": [
      "[096/100]  test loss: 0.0599  D: 0.6858  D2: -0.0050  D3: 0.0138  D4: 0.01648\r"
     ]
    },
    {
     "name": "stderr",
     "output_type": "stream",
     "text": [
      "[default |INFO|model.py:2540] [36/80]  loss: 6.686227e-02  D: 6.958500e-01  D2: -5.146770e-03  D3: 1.362236e-02  D4: 1.581286e-02\n",
      "test loss: 5.979869e-02  D: 6.857555e-01  D2: -4.916048e-03  D3: 1.385023e-02  D4: 1.649513e-02\n"
     ]
    },
    {
     "name": "stdout",
     "output_type": "stream",
     "text": [
      "[100/100]  test loss: 0.0814  D: 0.6685  D2: -0.0045  D3: 0.0124  D4: 0.01480\r"
     ]
    },
    {
     "name": "stderr",
     "output_type": "stream",
     "text": [
      "[default |INFO|model.py:2540] [37/80]  loss: 6.740544e-02  D: 6.963832e-01  D2: -5.410280e-03  D3: 1.275163e-02  D4: 1.501810e-02\n",
      "test loss: 8.141600e-02  D: 6.684857e-01  D2: -4.453211e-03  D3: 1.238946e-02  D4: 1.482249e-02\n"
     ]
    },
    {
     "name": "stdout",
     "output_type": "stream",
     "text": [
      "[100/100]  test loss: 0.0680  D: 0.6647  D2: -0.0057  D3: 0.0093  D4: 0.01156\r"
     ]
    },
    {
     "name": "stderr",
     "output_type": "stream",
     "text": [
      "[default |INFO|model.py:2540] [38/80]  loss: 6.663142e-02  D: 6.913443e-01  D2: -5.404434e-03  D3: 1.319475e-02  D4: 1.561631e-02\n",
      "test loss: 6.803490e-02  D: 6.646648e-01  D2: -5.680504e-03  D3: 9.262436e-03  D4: 1.149480e-02\n"
     ]
    },
    {
     "name": "stdout",
     "output_type": "stream",
     "text": [
      "[087/100]  test loss: 0.0619  D: 0.6722  D2: -0.0061  D3: 0.0136  D4: 0.01603\r"
     ]
    },
    {
     "name": "stderr",
     "output_type": "stream",
     "text": [
      "[default |INFO|model.py:2540] [39/80]  loss: 6.573226e-02  D: 6.968362e-01  D2: -5.596520e-03  D3: 1.384833e-02  D4: 1.632740e-02\n",
      "test loss: 6.197932e-02  D: 6.721712e-01  D2: -5.950603e-03  D3: 1.356119e-02  D4: 1.596321e-02\n"
     ]
    },
    {
     "name": "stdout",
     "output_type": "stream",
     "text": [
      "[092/100]  test loss: 0.0792  D: 0.7011  D2: -0.0054  D3: 0.0159  D4: 0.01831\r"
     ]
    },
    {
     "name": "stderr",
     "output_type": "stream",
     "text": [
      "[default |INFO|model.py:2540] [40/80]  loss: 6.237401e-02  D: 6.946367e-01  D2: -5.556746e-03  D3: 1.353686e-02  D4: 1.612725e-02\n",
      "test loss: 7.921001e-02  D: 7.010732e-01  D2: -5.522118e-03  D3: 1.589976e-02  D4: 1.828782e-02\n"
     ]
    },
    {
     "name": "stdout",
     "output_type": "stream",
     "text": [
      "[092/100]  test loss: 0.0687  D: 0.7162  D2: -0.0058  D3: 0.0164  D4: 0.01839\r"
     ]
    },
    {
     "name": "stderr",
     "output_type": "stream",
     "text": [
      "[default |INFO|model.py:2540] [41/80]  loss: 6.615736e-02  D: 6.980349e-01  D2: -5.675146e-03  D3: 1.343864e-02  D4: 1.589803e-02\n",
      "test loss: 6.880997e-02  D: 7.162457e-01  D2: -5.960445e-03  D3: 1.636370e-02  D4: 1.826603e-02\n"
     ]
    },
    {
     "name": "stdout",
     "output_type": "stream",
     "text": [
      "[096/100]  test loss: 0.0618  D: 0.6799  D2: -0.0045  D3: 0.0156  D4: 0.01830\r"
     ]
    },
    {
     "name": "stderr",
     "output_type": "stream",
     "text": [
      "[default |INFO|model.py:2540] [42/80]  loss: 6.030834e-02  D: 6.940411e-01  D2: -5.671089e-03  D3: 1.347062e-02  D4: 1.600099e-02\n",
      "test loss: 6.181789e-02  D: 6.798491e-01  D2: -4.641466e-03  D3: 1.560667e-02  D4: 1.831581e-02\n"
     ]
    },
    {
     "name": "stdout",
     "output_type": "stream",
     "text": [
      "[099/100]  test loss: 0.0627  D: 0.7082  D2: -0.0054  D3: 0.0134  D4: 0.01592\r"
     ]
    },
    {
     "name": "stderr",
     "output_type": "stream",
     "text": [
      "[default |INFO|model.py:2540] [43/80]  loss: 6.465722e-02  D: 6.975114e-01  D2: -5.707270e-03  D3: 1.353551e-02  D4: 1.615847e-02\n",
      "test loss: 6.271466e-02  D: 7.082478e-01  D2: -5.387716e-03  D3: 1.338664e-02  D4: 1.593424e-02\n"
     ]
    },
    {
     "name": "stdout",
     "output_type": "stream",
     "text": [
      "[094/100]  test loss: 0.0596  D: 0.6776  D2: -0.0057  D3: 0.0147  D4: 0.01724\r"
     ]
    },
    {
     "name": "stderr",
     "output_type": "stream",
     "text": [
      "[default |INFO|model.py:2540] [44/80]  loss: 5.932641e-02  D: 6.938822e-01  D2: -5.670374e-03  D3: 1.382875e-02  D4: 1.638137e-02\n",
      "test loss: 5.960769e-02  D: 6.776368e-01  D2: -5.737553e-03  D3: 1.467478e-02  D4: 1.714024e-02\n"
     ]
    },
    {
     "name": "stdout",
     "output_type": "stream",
     "text": [
      "[096/100]  test loss: 0.0614  D: 0.7066  D2: -0.0060  D3: 0.0143  D4: 0.01681\r"
     ]
    },
    {
     "name": "stderr",
     "output_type": "stream",
     "text": [
      "[default |INFO|model.py:2540] [45/80]  loss: 5.974474e-02  D: 6.952811e-01  D2: -6.120582e-03  D3: 1.357766e-02  D4: 1.608670e-02\n",
      "test loss: 6.137113e-02  D: 7.065639e-01  D2: -6.033125e-03  D3: 1.429649e-02  D4: 1.682775e-02\n"
     ]
    },
    {
     "name": "stdout",
     "output_type": "stream",
     "text": [
      "[094/100]  test loss: 0.0556  D: 0.7066  D2: -0.0055  D3: 0.0149  D4: 0.01751\r"
     ]
    },
    {
     "name": "stderr",
     "output_type": "stream",
     "text": [
      "[default |INFO|model.py:2540] [46/80]  loss: 5.786357e-02  D: 6.957782e-01  D2: -6.006858e-03  D3: 1.340671e-02  D4: 1.610745e-02\n",
      "test loss: 5.558798e-02  D: 7.065960e-01  D2: -5.560465e-03  D3: 1.491352e-02  D4: 1.754575e-02\n"
     ]
    },
    {
     "name": "stdout",
     "output_type": "stream",
     "text": [
      "[095/100]  test loss: 0.0584  D: 0.7075  D2: -0.0056  D3: 0.0144  D4: 0.01714\r"
     ]
    },
    {
     "name": "stderr",
     "output_type": "stream",
     "text": [
      "[default |INFO|model.py:2540] [47/80]  loss: 5.739241e-02  D: 6.959580e-01  D2: -6.249817e-03  D3: 1.378539e-02  D4: 1.637254e-02\n",
      "test loss: 5.850706e-02  D: 7.075122e-01  D2: -5.630112e-03  D3: 1.435320e-02  D4: 1.702696e-02\n"
     ]
    },
    {
     "name": "stdout",
     "output_type": "stream",
     "text": [
      "[095/100]  test loss: 0.0596  D: 0.7110  D2: -0.0062  D3: 0.0145  D4: 0.01701\r"
     ]
    },
    {
     "name": "stderr",
     "output_type": "stream",
     "text": [
      "[default |INFO|model.py:2540] [48/80]  loss: 5.930500e-02  D: 6.937457e-01  D2: -6.184069e-03  D3: 1.337552e-02  D4: 1.607571e-02\n",
      "test loss: 5.951966e-02  D: 7.110565e-01  D2: -6.261120e-03  D3: 1.447910e-02  D4: 1.702553e-02\n"
     ]
    },
    {
     "name": "stdout",
     "output_type": "stream",
     "text": [
      "[099/100]  test loss: 0.0557  D: 0.7095  D2: -0.0060  D3: 0.0142  D4: 0.01654\r"
     ]
    },
    {
     "name": "stderr",
     "output_type": "stream",
     "text": [
      "[default |INFO|model.py:2540] [49/80]  loss: 5.714146e-02  D: 6.964678e-01  D2: -6.071990e-03  D3: 1.379445e-02  D4: 1.642243e-02\n",
      "test loss: 5.569788e-02  D: 7.095611e-01  D2: -5.929670e-03  D3: 1.417489e-02  D4: 1.649207e-02\n"
     ]
    },
    {
     "name": "stdout",
     "output_type": "stream",
     "text": [
      "[090/100]  test loss: 0.0537  D: 0.6987  D2: -0.0065  D3: 0.0134  D4: 0.01593\r"
     ]
    },
    {
     "name": "stderr",
     "output_type": "stream",
     "text": [
      "[default |INFO|model.py:2540] [50/80]  loss: 5.689007e-02  D: 6.941290e-01  D2: -6.345143e-03  D3: 1.365944e-02  D4: 1.633383e-02\n",
      "test loss: 5.380660e-02  D: 6.987102e-01  D2: -6.354485e-03  D3: 1.331262e-02  D4: 1.582482e-02\n"
     ]
    },
    {
     "name": "stdout",
     "output_type": "stream",
     "text": [
      "[096/100]  test loss: 0.0549  D: 0.7212  D2: -0.0065  D3: 0.0155  D4: 0.01802\r"
     ]
    },
    {
     "name": "stderr",
     "output_type": "stream",
     "text": [
      "[default |INFO|model.py:2540] [51/80]  loss: 5.459713e-02  D: 6.965046e-01  D2: -6.376481e-03  D3: 1.360509e-02  D4: 1.618074e-02\n",
      "test loss: 5.495534e-02  D: 7.211702e-01  D2: -6.478672e-03  D3: 1.551179e-02  D4: 1.800395e-02\n"
     ]
    },
    {
     "name": "stdout",
     "output_type": "stream",
     "text": [
      "[096/100]  test loss: 0.0572  D: 0.6975  D2: -0.0065  D3: 0.0140  D4: 0.01681\r"
     ]
    },
    {
     "name": "stderr",
     "output_type": "stream",
     "text": [
      "[default |INFO|model.py:2540] [52/80]  loss: 5.570177e-02  D: 6.942751e-01  D2: -6.168324e-03  D3: 1.356107e-02  D4: 1.614756e-02\n",
      "test loss: 5.714780e-02  D: 6.974484e-01  D2: -6.504717e-03  D3: 1.397602e-02  D4: 1.677847e-02\n"
     ]
    },
    {
     "name": "stdout",
     "output_type": "stream",
     "text": [
      "[097/100]  test loss: 0.0563  D: 0.6974  D2: -0.0067  D3: 0.0099  D4: 0.01250\r"
     ]
    },
    {
     "name": "stderr",
     "output_type": "stream",
     "text": [
      "[default |INFO|model.py:2540] [53/80]  loss: 5.683901e-02  D: 6.977224e-01  D2: -6.160421e-03  D3: 1.341462e-02  D4: 1.601058e-02\n",
      "test loss: 5.627350e-02  D: 6.973337e-01  D2: -6.661043e-03  D3: 9.894819e-03  D4: 1.250785e-02\n"
     ]
    },
    {
     "name": "stdout",
     "output_type": "stream",
     "text": [
      "[100/100]  test loss: 0.0584  D: 0.7025  D2: -0.0060  D3: 0.0136  D4: 0.01622\r"
     ]
    },
    {
     "name": "stderr",
     "output_type": "stream",
     "text": [
      "[default |INFO|model.py:2540] [54/80]  loss: 5.572995e-02  D: 6.960945e-01  D2: -6.474193e-03  D3: 1.358673e-02  D4: 1.616119e-02\n",
      "test loss: 5.837716e-02  D: 7.025071e-01  D2: -6.000910e-03  D3: 1.360264e-02  D4: 1.615703e-02\n"
     ]
    },
    {
     "name": "stdout",
     "output_type": "stream",
     "text": [
      "[100/100]  test loss: 0.0585  D: 0.6865  D2: -0.0068  D3: 0.0141  D4: 0.01681\r"
     ]
    },
    {
     "name": "stderr",
     "output_type": "stream",
     "text": [
      "[default |INFO|model.py:2540] [55/80]  loss: 5.537686e-02  D: 6.947857e-01  D2: -6.366019e-03  D3: 1.343994e-02  D4: 1.608969e-02\n",
      "test loss: 5.846581e-02  D: 6.865161e-01  D2: -6.833487e-03  D3: 1.406722e-02  D4: 1.684728e-02\n"
     ]
    },
    {
     "name": "stdout",
     "output_type": "stream",
     "text": [
      "[086/100]  test loss: 0.0578  D: 0.6989  D2: -0.0068  D3: 0.0140  D4: 0.01657\r"
     ]
    },
    {
     "name": "stderr",
     "output_type": "stream",
     "text": [
      "[default |INFO|model.py:2540] [56/80]  loss: 5.772467e-02  D: 6.959466e-01  D2: -6.521347e-03  D3: 1.314251e-02  D4: 1.568091e-02\n",
      "test loss: 5.789414e-02  D: 6.987811e-01  D2: -6.865292e-03  D3: 1.399265e-02  D4: 1.649329e-02\n"
     ]
    },
    {
     "name": "stdout",
     "output_type": "stream",
     "text": [
      "[085/100]  test loss: 0.0557  D: 0.6760  D2: -0.0070  D3: 0.0142  D4: 0.01683\r"
     ]
    },
    {
     "name": "stderr",
     "output_type": "stream",
     "text": [
      "[default |INFO|model.py:2540] [57/80]  loss: 5.641405e-02  D: 6.954145e-01  D2: -6.691910e-03  D3: 1.376635e-02  D4: 1.626446e-02\n",
      "test loss: 5.565258e-02  D: 6.759450e-01  D2: -6.920614e-03  D3: 1.408298e-02  D4: 1.682500e-02\n"
     ]
    },
    {
     "name": "stdout",
     "output_type": "stream",
     "text": [
      "[086/100]  test loss: 0.0528  D: 0.6992  D2: -0.0070  D3: 0.0127  D4: 0.01525\r"
     ]
    },
    {
     "name": "stderr",
     "output_type": "stream",
     "text": [
      "[default |INFO|model.py:2540] [58/80]  loss: 5.300646e-02  D: 6.948372e-01  D2: -6.709379e-03  D3: 1.387609e-02  D4: 1.653129e-02\n",
      "test loss: 5.288301e-02  D: 6.991840e-01  D2: -6.766424e-03  D3: 1.264589e-02  D4: 1.519253e-02\n"
     ]
    },
    {
     "name": "stdout",
     "output_type": "stream",
     "text": [
      "[086/100]  test loss: 0.0558  D: 0.6872  D2: -0.0068  D3: 0.0130  D4: 0.01551\r"
     ]
    },
    {
     "name": "stderr",
     "output_type": "stream",
     "text": [
      "[default |INFO|model.py:2540] [59/80]  loss: 5.403292e-02  D: 6.937910e-01  D2: -6.896575e-03  D3: 1.346307e-02  D4: 1.612670e-02\n",
      "test loss: 5.545947e-02  D: 6.872230e-01  D2: -6.857204e-03  D3: 1.305434e-02  D4: 1.562173e-02\n"
     ]
    },
    {
     "name": "stdout",
     "output_type": "stream",
     "text": [
      "[093/100]  test loss: 0.0623  D: 0.6694  D2: -0.0070  D3: 0.0138  D4: 0.01638\r"
     ]
    },
    {
     "name": "stderr",
     "output_type": "stream",
     "text": [
      "[default |INFO|model.py:2540] [60/80]  loss: 5.761670e-02  D: 6.959522e-01  D2: -6.671001e-03  D3: 1.328305e-02  D4: 1.582830e-02\n",
      "test loss: 6.238654e-02  D: 6.693899e-01  D2: -6.940069e-03  D3: 1.373347e-02  D4: 1.625260e-02\n"
     ]
    },
    {
     "name": "stdout",
     "output_type": "stream",
     "text": [
      "[090/100]  test loss: 0.0540  D: 0.6869  D2: -0.0066  D3: 0.0147  D4: 0.01682\r"
     ]
    },
    {
     "name": "stderr",
     "output_type": "stream",
     "text": [
      "[default |INFO|model.py:2540] [61/80]  loss: 5.656234e-02  D: 6.967264e-01  D2: -6.926881e-03  D3: 1.367398e-02  D4: 1.619203e-02\n",
      "test loss: 5.397904e-02  D: 6.868994e-01  D2: -6.632347e-03  D3: 1.469758e-02  D4: 1.683934e-02\n"
     ]
    },
    {
     "name": "stdout",
     "output_type": "stream",
     "text": [
      "[100/100]  test loss: 0.0534  D: 0.6933  D2: -0.0069  D3: 0.0148  D4: 0.01753\r"
     ]
    },
    {
     "name": "stderr",
     "output_type": "stream",
     "text": [
      "[default |INFO|model.py:2540] [62/80]  loss: 5.270424e-02  D: 6.945303e-01  D2: -6.976007e-03  D3: 1.368199e-02  D4: 1.625397e-02\n",
      "test loss: 5.335166e-02  D: 6.933210e-01  D2: -6.905890e-03  D3: 1.484106e-02  D4: 1.745174e-02\n"
     ]
    },
    {
     "name": "stdout",
     "output_type": "stream",
     "text": [
      "[100/100]  test loss: 0.0549  D: 0.7014  D2: -0.0072  D3: 0.0156  D4: 0.01801\r"
     ]
    },
    {
     "name": "stderr",
     "output_type": "stream",
     "text": [
      "[default |INFO|model.py:2540] [63/80]  loss: 5.328647e-02  D: 6.954976e-01  D2: -7.023163e-03  D3: 1.357549e-02  D4: 1.610940e-02\n",
      "test loss: 5.490083e-02  D: 7.013751e-01  D2: -7.213888e-03  D3: 1.555567e-02  D4: 1.800737e-02\n"
     ]
    },
    {
     "name": "stdout",
     "output_type": "stream",
     "text": [
      "[091/100]  test loss: 0.0523  D: 0.7123  D2: -0.0071  D3: 0.0138  D4: 0.01661\r"
     ]
    },
    {
     "name": "stderr",
     "output_type": "stream",
     "text": [
      "[default |INFO|model.py:2540] [64/80]  loss: 5.384163e-02  D: 6.946162e-01  D2: -7.097446e-03  D3: 1.353305e-02  D4: 1.614884e-02\n",
      "test loss: 5.215947e-02  D: 7.123243e-01  D2: -7.055817e-03  D3: 1.382561e-02  D4: 1.655676e-02\n"
     ]
    },
    {
     "name": "stdout",
     "output_type": "stream",
     "text": [
      "[090/100]  test loss: 0.0543  D: 0.6878  D2: -0.0064  D3: 0.0105  D4: 0.01339\r"
     ]
    },
    {
     "name": "stderr",
     "output_type": "stream",
     "text": [
      "[default |INFO|model.py:2540] [65/80]  loss: 5.286011e-02  D: 6.956436e-01  D2: -7.316602e-03  D3: 1.333770e-02  D4: 1.591450e-02\n",
      "test loss: 5.432357e-02  D: 6.878206e-01  D2: -6.317539e-03  D3: 1.047498e-02  D4: 1.331611e-02\n"
     ]
    },
    {
     "name": "stdout",
     "output_type": "stream",
     "text": [
      "[091/100]  test loss: 0.0539  D: 0.6976  D2: -0.0072  D3: 0.0157  D4: 0.01838\r"
     ]
    },
    {
     "name": "stderr",
     "output_type": "stream",
     "text": [
      "[default |INFO|model.py:2540] [66/80]  loss: 5.694426e-02  D: 6.944393e-01  D2: -7.127209e-03  D3: 1.331592e-02  D4: 1.583200e-02\n",
      "test loss: 5.382513e-02  D: 6.976269e-01  D2: -7.209282e-03  D3: 1.564187e-02  D4: 1.828233e-02\n"
     ]
    },
    {
     "name": "stdout",
     "output_type": "stream",
     "text": [
      "[091/100]  test loss: 0.0562  D: 0.6831  D2: -0.0072  D3: 0.0155  D4: 0.01819\r"
     ]
    },
    {
     "name": "stderr",
     "output_type": "stream",
     "text": [
      "[default |INFO|model.py:2540] [67/80]  loss: 5.375110e-02  D: 6.956531e-01  D2: -7.348456e-03  D3: 1.330778e-02  D4: 1.592003e-02\n",
      "test loss: 5.620603e-02  D: 6.831583e-01  D2: -7.180443e-03  D3: 1.552174e-02  D4: 1.812634e-02\n"
     ]
    },
    {
     "name": "stdout",
     "output_type": "stream",
     "text": [
      "[092/100]  test loss: 0.0559  D: 0.6828  D2: -0.0069  D3: 0.0106  D4: 0.01337\r"
     ]
    },
    {
     "name": "stderr",
     "output_type": "stream",
     "text": [
      "[default |INFO|model.py:2540] [68/80]  loss: 5.601580e-02  D: 6.948722e-01  D2: -7.120740e-03  D3: 1.321362e-02  D4: 1.568634e-02\n",
      "test loss: 5.599420e-02  D: 6.828263e-01  D2: -6.942873e-03  D3: 1.062443e-02  D4: 1.325189e-02\n"
     ]
    },
    {
     "name": "stdout",
     "output_type": "stream",
     "text": [
      "[100/100]  test loss: 0.0559  D: 0.7147  D2: -0.0075  D3: 0.0146  D4: 0.01750\r"
     ]
    },
    {
     "name": "stderr",
     "output_type": "stream",
     "text": [
      "[default |INFO|model.py:2540] [69/80]  loss: 5.363699e-02  D: 6.961597e-01  D2: -7.313898e-03  D3: 1.341342e-02  D4: 1.601885e-02\n",
      "test loss: 5.591027e-02  D: 7.147099e-01  D2: -7.452450e-03  D3: 1.458073e-02  D4: 1.749880e-02\n"
     ]
    },
    {
     "name": "stdout",
     "output_type": "stream",
     "text": [
      "[091/100]  test loss: 0.0529  D: 0.7062  D2: -0.0076  D3: 0.0113  D4: 0.01409\r"
     ]
    },
    {
     "name": "stderr",
     "output_type": "stream",
     "text": [
      "[default |INFO|model.py:2540] [70/80]  loss: 5.355251e-02  D: 6.954788e-01  D2: -7.510772e-03  D3: 1.319136e-02  D4: 1.594429e-02\n",
      "test loss: 5.285291e-02  D: 7.061712e-01  D2: -7.494116e-03  D3: 1.126737e-02  D4: 1.402060e-02\n"
     ]
    },
    {
     "name": "stdout",
     "output_type": "stream",
     "text": [
      "[100/100]  test loss: 0.0565  D: 0.7228  D2: -0.0071  D3: 0.0155  D4: 0.01830\r"
     ]
    },
    {
     "name": "stderr",
     "output_type": "stream",
     "text": [
      "[default |INFO|model.py:2540] [71/80]  loss: 5.546782e-02  D: 6.952248e-01  D2: -7.424254e-03  D3: 1.333096e-02  D4: 1.596113e-02\n",
      "test loss: 5.650718e-02  D: 7.227652e-01  D2: -7.101622e-03  D3: 1.550770e-02  D4: 1.826491e-02\n"
     ]
    },
    {
     "name": "stdout",
     "output_type": "stream",
     "text": [
      "[090/100]  test loss: 0.0519  D: 0.6991  D2: -0.0075  D3: 0.0136  D4: 0.01619\r"
     ]
    },
    {
     "name": "stderr",
     "output_type": "stream",
     "text": [
      "[default |INFO|model.py:2540] [72/80]  loss: 5.512521e-02  D: 6.959274e-01  D2: -7.467578e-03  D3: 1.329603e-02  D4: 1.593734e-02\n",
      "test loss: 5.171624e-02  D: 6.991483e-01  D2: -7.518740e-03  D3: 1.365580e-02  D4: 1.609313e-02\n"
     ]
    },
    {
     "name": "stdout",
     "output_type": "stream",
     "text": [
      "[091/100]  test loss: 0.0516  D: 0.6976  D2: -0.0074  D3: 0.0122  D4: 0.01503\r"
     ]
    },
    {
     "name": "stderr",
     "output_type": "stream",
     "text": [
      "[default |INFO|model.py:2540] [73/80]  loss: 5.088998e-02  D: 6.933776e-01  D2: -7.620581e-03  D3: 1.363926e-02  D4: 1.630868e-02\n",
      "test loss: 5.165680e-02  D: 6.975651e-01  D2: -7.258797e-03  D3: 1.223736e-02  D4: 1.497220e-02\n"
     ]
    },
    {
     "name": "stdout",
     "output_type": "stream",
     "text": [
      "[100/100]  test loss: 0.0540  D: 0.6951  D2: -0.0076  D3: 0.0134  D4: 0.01598\r"
     ]
    },
    {
     "name": "stderr",
     "output_type": "stream",
     "text": [
      "[default |INFO|model.py:2540] [74/80]  loss: 5.321588e-02  D: 6.956591e-01  D2: -7.610099e-03  D3: 1.314422e-02  D4: 1.578555e-02\n",
      "test loss: 5.403862e-02  D: 6.950673e-01  D2: -7.600451e-03  D3: 1.335733e-02  D4: 1.589854e-02\n"
     ]
    },
    {
     "name": "stdout",
     "output_type": "stream",
     "text": [
      "[090/100]  test loss: 0.0548  D: 0.7090  D2: -0.0073  D3: 0.0152  D4: 0.01771\r"
     ]
    },
    {
     "name": "stderr",
     "output_type": "stream",
     "text": [
      "[default |INFO|model.py:2540] [75/80]  loss: 5.121150e-02  D: 6.960702e-01  D2: -7.809401e-03  D3: 1.337531e-02  D4: 1.606432e-02\n",
      "test loss: 5.453471e-02  D: 7.091127e-01  D2: -7.416859e-03  D3: 1.518507e-02  D4: 1.770651e-02\n"
     ]
    },
    {
     "name": "stdout",
     "output_type": "stream",
     "text": [
      "[090/100]  test loss: 0.0534  D: 0.7044  D2: -0.0078  D3: 0.0151  D4: 0.01777\r"
     ]
    },
    {
     "name": "stderr",
     "output_type": "stream",
     "text": [
      "[default |INFO|model.py:2540] [76/80]  loss: 5.171770e-02  D: 6.927202e-01  D2: -7.765381e-03  D3: 1.313401e-02  D4: 1.574821e-02\n",
      "test loss: 5.324266e-02  D: 7.044128e-01  D2: -7.766819e-03  D3: 1.511736e-02  D4: 1.767886e-02\n"
     ]
    },
    {
     "name": "stdout",
     "output_type": "stream",
     "text": [
      "[090/100]  test loss: 0.0515  D: 0.6838  D2: -0.0074  D3: 0.0135  D4: 0.01579\r"
     ]
    },
    {
     "name": "stderr",
     "output_type": "stream",
     "text": [
      "[default |INFO|model.py:2540] [77/80]  loss: 5.132332e-02  D: 6.965817e-01  D2: -7.834284e-03  D3: 1.328057e-02  D4: 1.593088e-02\n",
      "test loss: 5.145599e-02  D: 6.838467e-01  D2: -7.342634e-03  D3: 1.347425e-02  D4: 1.572260e-02\n"
     ]
    },
    {
     "name": "stdout",
     "output_type": "stream",
     "text": [
      "[100/100]  test loss: 0.0668  D: 0.7071  D2: -0.0080  D3: 0.0116  D4: 0.01416\r"
     ]
    },
    {
     "name": "stderr",
     "output_type": "stream",
     "text": [
      "[default |INFO|model.py:2540] [78/80]  loss: 5.388278e-02  D: 6.935461e-01  D2: -7.774717e-03  D3: 1.281315e-02  D4: 1.561194e-02\n",
      "test loss: 6.682909e-02  D: 7.070693e-01  D2: -7.999964e-03  D3: 1.157032e-02  D4: 1.410458e-02\n"
     ]
    },
    {
     "name": "stdout",
     "output_type": "stream",
     "text": [
      "[091/100]  test loss: 0.0532  D: 0.6896  D2: -0.0078  D3: 0.0125  D4: 0.01520\r"
     ]
    },
    {
     "name": "stderr",
     "output_type": "stream",
     "text": [
      "[default |INFO|model.py:2540] [79/80]  loss: 5.265518e-02  D: 6.974357e-01  D2: -7.939105e-03  D3: 1.321695e-02  D4: 1.598322e-02\n",
      "test loss: 5.307383e-02  D: 6.896118e-01  D2: -7.711325e-03  D3: 1.247232e-02  D4: 1.522395e-02\n"
     ]
    },
    {
     "name": "stdout",
     "output_type": "stream",
     "text": [
      "[100/100]  test loss: 0.0509  D: 0.7045  D2: -0.0080  D3: 0.0137  D4: 0.01640\r"
     ]
    },
    {
     "name": "stderr",
     "output_type": "stream",
     "text": [
      "[default |INFO|model.py:2540] [80/80]  loss: 5.190700e-02  D: 6.960797e-01  D2: -7.944519e-03  D3: 1.335971e-02  D4: 1.604428e-02\n",
      "test loss: 5.085075e-02  D: 7.045407e-01  D2: -7.963457e-03  D3: 1.374977e-02  D4: 1.642354e-02\n",
      "[default |INFO|model.py:2655] Training Finished!\n",
      "[default |INFO|model.py:2656] Elapsed time: 3087.273s\n"
     ]
    }
   ],
   "source": [
    "cfg = configparser.ConfigParser()\n",
    "cfg.read('./config/sswae_dev2_hsic_15.cfg')\n",
    "\n",
    "mm = cur_model(cfg, log, device = device)\n",
    "\n",
    "mm.gm.mu.load_state_dict(torch.load(f'./result/mu_{cfg[\"train_info\"][\"y_dim\"]}.pt'))\n",
    "mm.gm.cov.load_state_dict(torch.load(f'./result/cov_{cfg[\"train_info\"][\"y_dim\"]}.pt'))\n",
    "\n",
    "mm.train()\n",
    "# mm.load('./%s' % (cfg['path_info']['save_path']))"
   ]
  },
  {
   "cell_type": "markdown",
   "metadata": {},
   "source": [
    "# Train - 8"
   ]
  },
  {
   "cell_type": "code",
   "execution_count": 6,
   "metadata": {
    "scrolled": true
   },
   "outputs": [
    {
     "name": "stderr",
     "output_type": "stream",
     "text": [
      "[default |INFO|_base_model.py:27] ------------------------------------------------------------\n",
      "[default |INFO|_base_model.py:29] model_name : SSWAE_HSIC_MNIST\n",
      "[default |INFO|_base_model.py:29] train_data : rmMNIST\n",
      "[default |INFO|_base_model.py:29] train_data_label : True\n",
      "[default |INFO|_base_model.py:29] z_sampler : gaus\n",
      "[default |INFO|_base_model.py:29] z_dim : 8\n",
      "[default |INFO|_base_model.py:29] y_sampler : gaus\n",
      "[default |INFO|_base_model.py:29] y_dim : 4\n",
      "[default |INFO|_base_model.py:29] labeled_class : 0,1,2,3,4,5,6,7,8,9\n",
      "[default |INFO|_base_model.py:29] unlabeled_class : \n",
      "[default |INFO|_base_model.py:29] test_class : \n",
      "[default |INFO|_base_model.py:29] portion : 1.0\n",
      "[default |INFO|_base_model.py:29] unk : False\n",
      "[default |INFO|_base_model.py:29] encoder_pretrain : False\n",
      "[default |INFO|_base_model.py:29] encoder_pretrain_step : 3\n",
      "[default |INFO|_base_model.py:29] lr : 5e-4\n",
      "[default |INFO|_base_model.py:29] beta1 : 0.5\n",
      "[default |INFO|_base_model.py:29] lr_adv : 2e-4\n",
      "[default |INFO|_base_model.py:29] beta1_adv : 0.5\n",
      "[default |INFO|_base_model.py:29] lambda : 10.0\n",
      "[default |INFO|_base_model.py:29] lambda_mmd : 10.0\n",
      "[default |INFO|_base_model.py:29] lambda_hsic : 15.0\n",
      "[default |INFO|_base_model.py:29] lr_schedule : manual\n",
      "[default |INFO|_base_model.py:29] validate : True\n",
      "[default |INFO|_base_model.py:29] histogram : True\n",
      "[default |INFO|_base_model.py:29] batch_size : 100\n",
      "[default |INFO|_base_model.py:29] epoch : 80\n",
      "[default |INFO|_base_model.py:29] replace : False\n",
      "[default |INFO|_base_model.py:29] save_best : False\n",
      "[default |INFO|_base_model.py:32] data_home : ./data/MNIST\n",
      "[default |INFO|_base_model.py:32] tb_logs : \n",
      "[default |INFO|_base_model.py:32] save_path : ./result/weights/sswae_dev2_hsic_16.pt\n",
      "[default |INFO|_base_model.py:32] save_state : ./result/states/sswae_dev2_hsic_16.pt\n",
      "[default |INFO|_base_model.py:32] save_img_path : \n",
      "[default |INFO|model.py:2419] ------------------------------------------------------------\n",
      "[default |INFO|model.py:2420] Training Start!\n"
     ]
    },
    {
     "name": "stdout",
     "output_type": "stream",
     "text": [
      "[099/100]  test loss: 0.1927  D: 0.6917  D2: 0.0061  D3: 0.0060  D4: 0.00590\r"
     ]
    },
    {
     "name": "stderr",
     "output_type": "stream",
     "text": [
      "[default |INFO|model.py:2540] [01/80]  loss: 2.581891e-01  D: 6.972628e-01  D2: 2.472284e-02  D3: 2.304123e-03  D4: 3.036478e-03\n",
      "test loss: 1.927172e-01  D: 6.917248e-01  D2: 6.145840e-03  D3: 5.982328e-03  D4: 5.938605e-03\n"
     ]
    },
    {
     "name": "stdout",
     "output_type": "stream",
     "text": [
      "[091/100]  test loss: 0.1925  D: 0.6876  D2: 0.0018  D3: 0.0105  D4: 0.00948\r"
     ]
    },
    {
     "name": "stderr",
     "output_type": "stream",
     "text": [
      "[default |INFO|model.py:2540] [02/80]  loss: 1.832076e-01  D: 6.999629e-01  D2: 2.657216e-03  D3: 5.787051e-03  D4: 7.321082e-03\n",
      "test loss: 1.925346e-01  D: 6.876036e-01  D2: 1.786833e-03  D3: 1.039127e-02  D4: 9.380556e-03\n"
     ]
    },
    {
     "name": "stdout",
     "output_type": "stream",
     "text": [
      "[092/100]  test loss: 0.1539  D: 0.6798  D2: -0.0027  D3: 0.0086  D4: 0.00954\r"
     ]
    },
    {
     "name": "stderr",
     "output_type": "stream",
     "text": [
      "[default |INFO|model.py:2540] [03/80]  loss: 1.730180e-01  D: 6.911637e-01  D2: -8.512338e-04  D3: 6.988640e-03  D4: 8.435756e-03\n",
      "test loss: 1.539692e-01  D: 6.797020e-01  D2: -2.744484e-03  D3: 8.710833e-03  D4: 9.508978e-03\n"
     ]
    },
    {
     "name": "stdout",
     "output_type": "stream",
     "text": [
      "[091/100]  test loss: 0.1520  D: 0.7168  D2: -0.0037  D3: 0.0116  D4: 0.01447\r"
     ]
    },
    {
     "name": "stderr",
     "output_type": "stream",
     "text": [
      "[default |INFO|model.py:2540] [04/80]  loss: 1.442560e-01  D: 6.988549e-01  D2: -3.580699e-03  D3: 8.433148e-03  D4: 9.688758e-03\n",
      "test loss: 1.525914e-01  D: 7.168420e-01  D2: -3.552771e-03  D3: 1.154883e-02  D4: 1.459141e-02\n"
     ]
    },
    {
     "name": "stdout",
     "output_type": "stream",
     "text": [
      "[091/100]  test loss: 0.1275  D: 0.7296  D2: -0.0040  D3: 0.0088  D4: 0.01130\r"
     ]
    },
    {
     "name": "stderr",
     "output_type": "stream",
     "text": [
      "[default |INFO|model.py:2540] [05/80]  loss: 1.348064e-01  D: 6.992919e-01  D2: -3.689562e-03  D3: 1.053017e-02  D4: 1.296925e-02\n",
      "test loss: 1.273481e-01  D: 7.296564e-01  D2: -4.086494e-03  D3: 8.851771e-03  D4: 1.127425e-02\n"
     ]
    },
    {
     "name": "stdout",
     "output_type": "stream",
     "text": [
      "[100/100]  test loss: 0.1171  D: 0.7401  D2: -0.0043  D3: 0.0122  D4: 0.01303\r"
     ]
    },
    {
     "name": "stderr",
     "output_type": "stream",
     "text": [
      "[default |INFO|model.py:2540] [06/80]  loss: 1.197033e-01  D: 6.953313e-01  D2: -4.345024e-03  D3: 9.300785e-03  D4: 1.130577e-02\n",
      "test loss: 1.171024e-01  D: 7.400805e-01  D2: -4.306364e-03  D3: 1.221605e-02  D4: 1.303714e-02\n"
     ]
    },
    {
     "name": "stdout",
     "output_type": "stream",
     "text": [
      "[090/100]  test loss: 0.1061  D: 0.7166  D2: -0.0029  D3: 0.0107  D4: 0.01223\r"
     ]
    },
    {
     "name": "stderr",
     "output_type": "stream",
     "text": [
      "[default |INFO|model.py:2540] [07/80]  loss: 1.102862e-01  D: 6.990830e-01  D2: -4.149567e-03  D3: 1.040339e-02  D4: 1.232346e-02\n",
      "test loss: 1.061369e-01  D: 7.165837e-01  D2: -2.904510e-03  D3: 1.063153e-02  D4: 1.215633e-02\n"
     ]
    },
    {
     "name": "stdout",
     "output_type": "stream",
     "text": [
      "[100/100]  test loss: 0.1256  D: 0.6737  D2: -0.0048  D3: 0.0148  D4: 0.01805\r"
     ]
    },
    {
     "name": "stderr",
     "output_type": "stream",
     "text": [
      "[default |INFO|model.py:2540] [08/80]  loss: 1.146747e-01  D: 6.996982e-01  D2: -4.128146e-03  D3: 1.269562e-02  D4: 1.548702e-02\n",
      "test loss: 1.255908e-01  D: 6.736916e-01  D2: -4.783525e-03  D3: 1.479625e-02  D4: 1.802089e-02\n"
     ]
    },
    {
     "name": "stdout",
     "output_type": "stream",
     "text": [
      "[091/100]  test loss: 0.1146  D: 0.6709  D2: -0.0042  D3: 0.0164  D4: 0.01853\r"
     ]
    },
    {
     "name": "stderr",
     "output_type": "stream",
     "text": [
      "[default |INFO|model.py:2540] [09/80]  loss: 1.215452e-01  D: 7.063229e-01  D2: -4.006070e-03  D3: 1.311957e-02  D4: 1.526678e-02\n",
      "test loss: 1.149170e-01  D: 6.709264e-01  D2: -4.101629e-03  D3: 1.640060e-02  D4: 1.854410e-02\n"
     ]
    },
    {
     "name": "stdout",
     "output_type": "stream",
     "text": [
      "[091/100]  test loss: 0.0991  D: 0.6799  D2: -0.0038  D3: 0.0131  D4: 0.01568\r"
     ]
    },
    {
     "name": "stderr",
     "output_type": "stream",
     "text": [
      "[default |INFO|model.py:2540] [10/80]  loss: 1.080741e-01  D: 6.975915e-01  D2: -3.845391e-03  D3: 1.383694e-02  D4: 1.579270e-02\n",
      "test loss: 9.898835e-02  D: 6.798596e-01  D2: -3.792133e-03  D3: 1.308929e-02  D4: 1.553985e-02\n"
     ]
    },
    {
     "name": "stdout",
     "output_type": "stream",
     "text": [
      "[090/100]  test loss: 0.0971  D: 0.6814  D2: -0.0045  D3: 0.0148  D4: 0.01745\r"
     ]
    },
    {
     "name": "stderr",
     "output_type": "stream",
     "text": [
      "[default |INFO|model.py:2540] [11/80]  loss: 1.015070e-01  D: 6.950725e-01  D2: -4.154565e-03  D3: 1.410030e-02  D4: 1.649057e-02\n",
      "test loss: 9.706389e-02  D: 6.814464e-01  D2: -4.502134e-03  D3: 1.469427e-02  D4: 1.741442e-02\n"
     ]
    },
    {
     "name": "stdout",
     "output_type": "stream",
     "text": [
      "[091/100]  test loss: 0.0903  D: 0.6886  D2: -0.0052  D3: 0.0117  D4: 0.01310\r"
     ]
    },
    {
     "name": "stderr",
     "output_type": "stream",
     "text": [
      "[default |INFO|model.py:2540] [12/80]  loss: 1.012481e-01  D: 6.941207e-01  D2: -4.606249e-03  D3: 1.306489e-02  D4: 1.495529e-02\n",
      "test loss: 9.064712e-02  D: 6.886472e-01  D2: -4.965725e-03  D3: 1.166902e-02  D4: 1.301540e-02\n"
     ]
    },
    {
     "name": "stdout",
     "output_type": "stream",
     "text": [
      "[091/100]  test loss: 0.1070  D: 0.7037  D2: -0.0045  D3: 0.0144  D4: 0.01653\r"
     ]
    },
    {
     "name": "stderr",
     "output_type": "stream",
     "text": [
      "[default |INFO|model.py:2540] [13/80]  loss: 9.675797e-02  D: 6.976810e-01  D2: -4.425437e-03  D3: 1.411312e-02  D4: 1.634631e-02\n",
      "test loss: 1.070872e-01  D: 7.036820e-01  D2: -4.468155e-03  D3: 1.438050e-02  D4: 1.651656e-02\n"
     ]
    },
    {
     "name": "stdout",
     "output_type": "stream",
     "text": [
      "[091/100]  test loss: 0.0945  D: 0.6803  D2: -0.0050  D3: 0.0137  D4: 0.01583\r"
     ]
    },
    {
     "name": "stderr",
     "output_type": "stream",
     "text": [
      "[default |INFO|model.py:2540] [14/80]  loss: 9.487089e-02  D: 6.957260e-01  D2: -4.255454e-03  D3: 1.372113e-02  D4: 1.627455e-02\n",
      "test loss: 9.428387e-02  D: 6.803238e-01  D2: -4.843407e-03  D3: 1.365026e-02  D4: 1.571674e-02\n"
     ]
    },
    {
     "name": "stdout",
     "output_type": "stream",
     "text": [
      "[091/100]  test loss: 0.0943  D: 0.7411  D2: -0.0055  D3: 0.0064  D4: 0.00727\r"
     ]
    },
    {
     "name": "stderr",
     "output_type": "stream",
     "text": [
      "[default |INFO|model.py:2540] [15/80]  loss: 9.532350e-02  D: 6.997370e-01  D2: -4.362087e-03  D3: 1.209595e-02  D4: 1.467463e-02\n",
      "test loss: 9.403763e-02  D: 7.410527e-01  D2: -5.551167e-03  D3: 6.368552e-03  D4: 7.163915e-03\n"
     ]
    },
    {
     "name": "stdout",
     "output_type": "stream",
     "text": [
      "[091/100]  test loss: 0.0981  D: 0.7145  D2: -0.0057  D3: 0.0097  D4: 0.01262\r"
     ]
    },
    {
     "name": "stderr",
     "output_type": "stream",
     "text": [
      "[default |INFO|model.py:2540] [16/80]  loss: 9.804167e-02  D: 6.962439e-01  D2: -4.642132e-03  D3: 1.353940e-02  D4: 1.621041e-02\n",
      "test loss: 9.809093e-02  D: 7.144856e-01  D2: -5.621386e-03  D3: 9.602515e-03  D4: 1.251928e-02\n"
     ]
    },
    {
     "name": "stdout",
     "output_type": "stream",
     "text": [
      "[100/100]  test loss: 0.0884  D: 0.6919  D2: -0.0057  D3: 0.0127  D4: 0.01560\r"
     ]
    },
    {
     "name": "stderr",
     "output_type": "stream",
     "text": [
      "[default |INFO|model.py:2540] [17/80]  loss: 9.342583e-02  D: 6.973843e-01  D2: -4.561443e-03  D3: 1.312332e-02  D4: 1.603674e-02\n",
      "test loss: 8.837172e-02  D: 6.918971e-01  D2: -5.739431e-03  D3: 1.268472e-02  D4: 1.556111e-02\n"
     ]
    },
    {
     "name": "stdout",
     "output_type": "stream",
     "text": [
      "[090/100]  test loss: 0.0918  D: 0.6817  D2: -0.0055  D3: 0.0148  D4: 0.01785\r"
     ]
    },
    {
     "name": "stderr",
     "output_type": "stream",
     "text": [
      "[default |INFO|model.py:2540] [18/80]  loss: 9.254818e-02  D: 6.975025e-01  D2: -4.645816e-03  D3: 1.284615e-02  D4: 1.546004e-02\n",
      "test loss: 9.205863e-02  D: 6.816029e-01  D2: -5.516796e-03  D3: 1.497196e-02  D4: 1.790920e-02\n"
     ]
    },
    {
     "name": "stdout",
     "output_type": "stream",
     "text": [
      "[100/100]  test loss: 0.0915  D: 0.7021  D2: -0.0043  D3: 0.0102  D4: 0.01285\r"
     ]
    },
    {
     "name": "stderr",
     "output_type": "stream",
     "text": [
      "[default |INFO|model.py:2540] [19/80]  loss: 8.777395e-02  D: 6.972903e-01  D2: -4.753218e-03  D3: 1.271087e-02  D4: 1.551911e-02\n",
      "test loss: 9.147297e-02  D: 7.021119e-01  D2: -4.274578e-03  D3: 1.020281e-02  D4: 1.278876e-02\n"
     ]
    },
    {
     "name": "stdout",
     "output_type": "stream",
     "text": [
      "[100/100]  test loss: 0.0898  D: 0.7104  D2: -0.0035  D3: 0.0135  D4: 0.01572\r"
     ]
    },
    {
     "name": "stderr",
     "output_type": "stream",
     "text": [
      "[default |INFO|model.py:2540] [20/80]  loss: 8.826659e-02  D: 6.961545e-01  D2: -4.699930e-03  D3: 1.241031e-02  D4: 1.517940e-02\n",
      "test loss: 8.976976e-02  D: 7.103909e-01  D2: -3.510017e-03  D3: 1.349719e-02  D4: 1.570076e-02\n"
     ]
    },
    {
     "name": "stdout",
     "output_type": "stream",
     "text": [
      "[100/100]  test loss: 0.0819  D: 0.6859  D2: -0.0054  D3: 0.0130  D4: 0.01579\r"
     ]
    },
    {
     "name": "stderr",
     "output_type": "stream",
     "text": [
      "[default |INFO|model.py:2540] [21/80]  loss: 8.798966e-02  D: 6.980910e-01  D2: -4.634708e-03  D3: 1.287961e-02  D4: 1.585672e-02\n",
      "test loss: 8.187804e-02  D: 6.858969e-01  D2: -5.393610e-03  D3: 1.302630e-02  D4: 1.566236e-02\n"
     ]
    },
    {
     "name": "stdout",
     "output_type": "stream",
     "text": [
      "[091/100]  test loss: 0.0871  D: 0.7012  D2: -0.0047  D3: 0.0138  D4: 0.01729\r"
     ]
    },
    {
     "name": "stderr",
     "output_type": "stream",
     "text": [
      "[default |INFO|model.py:2540] [22/80]  loss: 8.540217e-02  D: 7.014262e-01  D2: -4.869507e-03  D3: 1.286769e-02  D4: 1.591625e-02\n",
      "test loss: 8.707775e-02  D: 7.012451e-01  D2: -4.748898e-03  D3: 1.386751e-02  D4: 1.711689e-02\n"
     ]
    },
    {
     "name": "stdout",
     "output_type": "stream",
     "text": [
      "[091/100]  test loss: 0.0851  D: 0.7032  D2: -0.0058  D3: 0.0120  D4: 0.01469\r"
     ]
    },
    {
     "name": "stderr",
     "output_type": "stream",
     "text": [
      "[default |INFO|model.py:2540] [23/80]  loss: 8.621362e-02  D: 6.965447e-01  D2: -5.018280e-03  D3: 1.281181e-02  D4: 1.589608e-02\n",
      "test loss: 8.491637e-02  D: 7.032132e-01  D2: -5.954304e-03  D3: 1.208283e-02  D4: 1.468296e-02\n"
     ]
    },
    {
     "name": "stdout",
     "output_type": "stream",
     "text": [
      "[091/100]  test loss: 0.0830  D: 0.6864  D2: -0.0049  D3: 0.0125  D4: 0.01520\r"
     ]
    },
    {
     "name": "stderr",
     "output_type": "stream",
     "text": [
      "[default |INFO|model.py:2540] [24/80]  loss: 8.525310e-02  D: 6.975625e-01  D2: -4.810513e-03  D3: 1.309481e-02  D4: 1.598526e-02\n",
      "test loss: 8.284996e-02  D: 6.864511e-01  D2: -4.833326e-03  D3: 1.253250e-02  D4: 1.520743e-02\n"
     ]
    },
    {
     "name": "stdout",
     "output_type": "stream",
     "text": [
      "[092/100]  test loss: 0.0866  D: 0.7039  D2: -0.0050  D3: 0.0144  D4: 0.01815\r"
     ]
    },
    {
     "name": "stderr",
     "output_type": "stream",
     "text": [
      "[default |INFO|model.py:2540] [25/80]  loss: 8.912776e-02  D: 6.974153e-01  D2: -4.848005e-03  D3: 1.239579e-02  D4: 1.552037e-02\n",
      "test loss: 8.681640e-02  D: 7.039685e-01  D2: -4.979620e-03  D3: 1.444828e-02  D4: 1.808032e-02\n"
     ]
    },
    {
     "name": "stdout",
     "output_type": "stream",
     "text": [
      "[090/100]  test loss: 0.0939  D: 0.6901  D2: -0.0052  D3: 0.0140  D4: 0.01787\r"
     ]
    },
    {
     "name": "stderr",
     "output_type": "stream",
     "text": [
      "[default |INFO|model.py:2540] [26/80]  loss: 9.158580e-02  D: 6.971391e-01  D2: -4.951995e-03  D3: 1.238807e-02  D4: 1.566042e-02\n",
      "test loss: 9.404861e-02  D: 6.901115e-01  D2: -5.000315e-03  D3: 1.409259e-02  D4: 1.769924e-02\n"
     ]
    },
    {
     "name": "stdout",
     "output_type": "stream",
     "text": [
      "[091/100]  test loss: 0.0832  D: 0.6651  D2: -0.0058  D3: 0.0140  D4: 0.01786\r"
     ]
    },
    {
     "name": "stderr",
     "output_type": "stream",
     "text": [
      "[default |INFO|model.py:2540] [27/80]  loss: 9.086692e-02  D: 6.967203e-01  D2: -4.979242e-03  D3: 1.223096e-02  D4: 1.560824e-02\n",
      "test loss: 8.317126e-02  D: 6.650930e-01  D2: -5.777540e-03  D3: 1.388071e-02  D4: 1.773006e-02\n"
     ]
    },
    {
     "name": "stdout",
     "output_type": "stream",
     "text": [
      "[100/100]  test loss: 0.0840  D: 0.7497  D2: -0.0053  D3: 0.0120  D4: 0.01528\r"
     ]
    },
    {
     "name": "stderr",
     "output_type": "stream",
     "text": [
      "[default |INFO|model.py:2540] [28/80]  loss: 8.696328e-02  D: 6.972527e-01  D2: -5.057022e-03  D3: 1.270528e-02  D4: 1.584948e-02\n",
      "test loss: 8.397036e-02  D: 7.497018e-01  D2: -5.276155e-03  D3: 1.201956e-02  D4: 1.521424e-02\n"
     ]
    },
    {
     "name": "stdout",
     "output_type": "stream",
     "text": [
      "[100/100]  test loss: 0.0973  D: 0.6745  D2: -0.0050  D3: 0.0122  D4: 0.01499\r"
     ]
    },
    {
     "name": "stderr",
     "output_type": "stream",
     "text": [
      "[default |INFO|model.py:2540] [29/80]  loss: 8.798546e-02  D: 6.984876e-01  D2: -5.066260e-03  D3: 1.282781e-02  D4: 1.593481e-02\n",
      "test loss: 9.734375e-02  D: 6.744652e-01  D2: -4.996195e-03  D3: 1.217982e-02  D4: 1.490078e-02\n"
     ]
    },
    {
     "name": "stdout",
     "output_type": "stream",
     "text": [
      "[090/100]  test loss: 0.0809  D: 0.7056  D2: -0.0052  D3: 0.0123  D4: 0.01530\r"
     ]
    },
    {
     "name": "stderr",
     "output_type": "stream",
     "text": [
      "[default |INFO|model.py:2540] [30/80]  loss: 8.916744e-02  D: 6.969731e-01  D2: -4.792693e-03  D3: 1.255806e-02  D4: 1.604418e-02\n",
      "test loss: 8.078409e-02  D: 7.055758e-01  D2: -5.337887e-03  D3: 1.226702e-02  D4: 1.527929e-02\n"
     ]
    },
    {
     "name": "stdout",
     "output_type": "stream",
     "text": [
      "[090/100]  test loss: 0.1066  D: 0.7447  D2: -0.0053  D3: 0.0153  D4: 0.01755\r"
     ]
    },
    {
     "name": "stderr",
     "output_type": "stream",
     "text": [
      "[default |INFO|model.py:2540] [31/80]  loss: 8.702373e-02  D: 6.989055e-01  D2: -5.140840e-03  D3: 1.202755e-02  D4: 1.554098e-02\n",
      "test loss: 1.068275e-01  D: 7.447788e-01  D2: -5.245810e-03  D3: 1.526324e-02  D4: 1.747823e-02\n"
     ]
    },
    {
     "name": "stdout",
     "output_type": "stream",
     "text": [
      "[093/100]  test loss: 0.0875  D: 0.6671  D2: -0.0053  D3: 0.0114  D4: 0.01436\r"
     ]
    },
    {
     "name": "stderr",
     "output_type": "stream",
     "text": [
      "[default |INFO|model.py:2540] [32/80]  loss: 8.663721e-02  D: 6.978327e-01  D2: -5.282707e-03  D3: 1.255533e-02  D4: 1.562363e-02\n",
      "test loss: 8.751336e-02  D: 6.671271e-01  D2: -5.290880e-03  D3: 1.136802e-02  D4: 1.437362e-02\n"
     ]
    },
    {
     "name": "stdout",
     "output_type": "stream",
     "text": [
      "[090/100]  test loss: 0.0857  D: 0.7159  D2: -0.0049  D3: 0.0139  D4: 0.01721\r"
     ]
    },
    {
     "name": "stderr",
     "output_type": "stream",
     "text": [
      "[default |INFO|model.py:2540] [33/80]  loss: 8.720513e-02  D: 6.971838e-01  D2: -5.174171e-03  D3: 1.273328e-02  D4: 1.612964e-02\n",
      "test loss: 8.559026e-02  D: 7.159099e-01  D2: -4.991150e-03  D3: 1.391155e-02  D4: 1.727516e-02\n"
     ]
    },
    {
     "name": "stdout",
     "output_type": "stream",
     "text": [
      "[091/100]  test loss: 0.0841  D: 0.6994  D2: -0.0040  D3: 0.0129  D4: 0.01594\r"
     ]
    },
    {
     "name": "stderr",
     "output_type": "stream",
     "text": [
      "[default |INFO|model.py:2540] [34/80]  loss: 8.810894e-02  D: 6.968527e-01  D2: -5.077314e-03  D3: 1.319954e-02  D4: 1.635452e-02\n",
      "test loss: 8.392749e-02  D: 6.993374e-01  D2: -4.252071e-03  D3: 1.290998e-02  D4: 1.597850e-02\n"
     ]
    },
    {
     "name": "stdout",
     "output_type": "stream",
     "text": [
      "[091/100]  test loss: 0.0791  D: 0.7261  D2: -0.0059  D3: 0.0137  D4: 0.01703\r"
     ]
    },
    {
     "name": "stderr",
     "output_type": "stream",
     "text": [
      "[default |INFO|model.py:2540] [35/80]  loss: 8.141643e-02  D: 6.965184e-01  D2: -5.386877e-03  D3: 1.296542e-02  D4: 1.626254e-02\n",
      "test loss: 7.917518e-02  D: 7.261338e-01  D2: -5.943727e-03  D3: 1.365406e-02  D4: 1.707008e-02\n"
     ]
    },
    {
     "name": "stdout",
     "output_type": "stream",
     "text": [
      "[091/100]  test loss: 0.0858  D: 0.7060  D2: -0.0053  D3: 0.0134  D4: 0.01699\r"
     ]
    },
    {
     "name": "stderr",
     "output_type": "stream",
     "text": [
      "[default |INFO|model.py:2540] [36/80]  loss: 8.742395e-02  D: 6.964876e-01  D2: -5.053423e-03  D3: 1.282170e-02  D4: 1.590402e-02\n",
      "test loss: 8.583174e-02  D: 7.060686e-01  D2: -5.335207e-03  D3: 1.332309e-02  D4: 1.683463e-02\n"
     ]
    },
    {
     "name": "stdout",
     "output_type": "stream",
     "text": [
      "[100/100]  test loss: 0.0876  D: 0.6919  D2: -0.0053  D3: 0.0143  D4: 0.01786\r"
     ]
    },
    {
     "name": "stderr",
     "output_type": "stream",
     "text": [
      "[default |INFO|model.py:2540] [37/80]  loss: 8.055995e-02  D: 6.954048e-01  D2: -5.268464e-03  D3: 1.354163e-02  D4: 1.663378e-02\n",
      "test loss: 8.759397e-02  D: 6.918716e-01  D2: -5.310097e-03  D3: 1.433414e-02  D4: 1.781322e-02\n"
     ]
    },
    {
     "name": "stdout",
     "output_type": "stream",
     "text": [
      "[091/100]  test loss: 0.0749  D: 0.6684  D2: -0.0062  D3: 0.0142  D4: 0.01732\r"
     ]
    },
    {
     "name": "stderr",
     "output_type": "stream",
     "text": [
      "[default |INFO|model.py:2540] [38/80]  loss: 7.800522e-02  D: 6.967770e-01  D2: -5.463815e-03  D3: 1.313620e-02  D4: 1.623105e-02\n",
      "test loss: 7.483223e-02  D: 6.682609e-01  D2: -6.113281e-03  D3: 1.424230e-02  D4: 1.733515e-02\n"
     ]
    },
    {
     "name": "stdout",
     "output_type": "stream",
     "text": [
      "[100/100]  test loss: 0.0767  D: 0.7077  D2: -0.0048  D3: 0.0150  D4: 0.01822\r"
     ]
    },
    {
     "name": "stderr",
     "output_type": "stream",
     "text": [
      "[default |INFO|model.py:2540] [39/80]  loss: 7.524700e-02  D: 6.973200e-01  D2: -5.203648e-03  D3: 1.301714e-02  D4: 1.617386e-02\n",
      "test loss: 7.671998e-02  D: 7.077021e-01  D2: -4.825716e-03  D3: 1.495450e-02  D4: 1.823591e-02\n"
     ]
    },
    {
     "name": "stdout",
     "output_type": "stream",
     "text": [
      "[090/100]  test loss: 0.0788  D: 0.7000  D2: -0.0053  D3: 0.0136  D4: 0.01762\r"
     ]
    },
    {
     "name": "stderr",
     "output_type": "stream",
     "text": [
      "[default |INFO|model.py:2540] [40/80]  loss: 7.471413e-02  D: 6.952903e-01  D2: -5.442135e-03  D3: 1.307153e-02  D4: 1.619927e-02\n",
      "test loss: 7.908542e-02  D: 6.999548e-01  D2: -5.240068e-03  D3: 1.359360e-02  D4: 1.759840e-02\n"
     ]
    },
    {
     "name": "stdout",
     "output_type": "stream",
     "text": [
      "[100/100]  test loss: 0.0760  D: 0.6847  D2: -0.0061  D3: 0.0138  D4: 0.01712\r"
     ]
    },
    {
     "name": "stderr",
     "output_type": "stream",
     "text": [
      "[default |INFO|model.py:2540] [41/80]  loss: 7.516146e-02  D: 6.946900e-01  D2: -5.269308e-03  D3: 1.286702e-02  D4: 1.616336e-02\n",
      "test loss: 7.596135e-02  D: 6.846615e-01  D2: -6.124115e-03  D3: 1.383908e-02  D4: 1.714807e-02\n"
     ]
    },
    {
     "name": "stdout",
     "output_type": "stream",
     "text": [
      "[091/100]  test loss: 0.0732  D: 0.7015  D2: -0.0063  D3: 0.0147  D4: 0.01741\r"
     ]
    },
    {
     "name": "stderr",
     "output_type": "stream",
     "text": [
      "[default |INFO|model.py:2540] [42/80]  loss: 7.243606e-02  D: 6.968989e-01  D2: -5.752796e-03  D3: 1.303075e-02  D4: 1.614087e-02\n",
      "test loss: 7.308748e-02  D: 7.014904e-01  D2: -6.354151e-03  D3: 1.467827e-02  D4: 1.747132e-02\n"
     ]
    },
    {
     "name": "stdout",
     "output_type": "stream",
     "text": [
      "[090/100]  test loss: 0.0707  D: 0.6939  D2: -0.0056  D3: 0.0128  D4: 0.01552\r"
     ]
    },
    {
     "name": "stderr",
     "output_type": "stream",
     "text": [
      "[default |INFO|model.py:2540] [43/80]  loss: 7.050825e-02  D: 6.951059e-01  D2: -5.532460e-03  D3: 1.299903e-02  D4: 1.620670e-02\n",
      "test loss: 7.079268e-02  D: 6.938728e-01  D2: -5.721025e-03  D3: 1.271555e-02  D4: 1.552860e-02\n"
     ]
    },
    {
     "name": "stdout",
     "output_type": "stream",
     "text": [
      "[091/100]  test loss: 0.0677  D: 0.7106  D2: -0.0061  D3: 0.0110  D4: 0.01432\r"
     ]
    },
    {
     "name": "stderr",
     "output_type": "stream",
     "text": [
      "[default |INFO|model.py:2540] [44/80]  loss: 6.949161e-02  D: 6.969101e-01  D2: -5.709106e-03  D3: 1.293540e-02  D4: 1.617647e-02\n",
      "test loss: 6.789142e-02  D: 7.106916e-01  D2: -6.011581e-03  D3: 1.100205e-02  D4: 1.433925e-02\n"
     ]
    },
    {
     "name": "stdout",
     "output_type": "stream",
     "text": [
      "[090/100]  test loss: 0.0715  D: 0.7152  D2: -0.0055  D3: 0.0144  D4: 0.01820\r"
     ]
    },
    {
     "name": "stderr",
     "output_type": "stream",
     "text": [
      "[default |INFO|model.py:2540] [45/80]  loss: 7.164131e-02  D: 6.977882e-01  D2: -5.680876e-03  D3: 1.260588e-02  D4: 1.601380e-02\n",
      "test loss: 7.153381e-02  D: 7.152132e-01  D2: -5.601082e-03  D3: 1.434220e-02  D4: 1.812251e-02\n"
     ]
    },
    {
     "name": "stdout",
     "output_type": "stream",
     "text": [
      "[091/100]  test loss: 0.0695  D: 0.6939  D2: -0.0055  D3: 0.0128  D4: 0.01648\r"
     ]
    },
    {
     "name": "stderr",
     "output_type": "stream",
     "text": [
      "[default |INFO|model.py:2540] [46/80]  loss: 6.978097e-02  D: 6.952725e-01  D2: -5.808245e-03  D3: 1.259204e-02  D4: 1.582614e-02\n",
      "test loss: 6.950347e-02  D: 6.939807e-01  D2: -5.637846e-03  D3: 1.275466e-02  D4: 1.635487e-02\n"
     ]
    },
    {
     "name": "stdout",
     "output_type": "stream",
     "text": [
      "[100/100]  test loss: 0.0694  D: 0.6716  D2: -0.0057  D3: 0.0119  D4: 0.01510\r"
     ]
    },
    {
     "name": "stderr",
     "output_type": "stream",
     "text": [
      "[default |INFO|model.py:2540] [47/80]  loss: 6.927411e-02  D: 6.951175e-01  D2: -5.787603e-03  D3: 1.274904e-02  D4: 1.602035e-02\n",
      "test loss: 6.936211e-02  D: 6.716464e-01  D2: -5.737171e-03  D3: 1.193191e-02  D4: 1.509084e-02\n"
     ]
    },
    {
     "name": "stdout",
     "output_type": "stream",
     "text": [
      "[090/100]  test loss: 0.0715  D: 0.6880  D2: -0.0056  D3: 0.0138  D4: 0.01708\r"
     ]
    },
    {
     "name": "stderr",
     "output_type": "stream",
     "text": [
      "[default |INFO|model.py:2540] [48/80]  loss: 7.093052e-02  D: 6.974896e-01  D2: -5.841746e-03  D3: 1.253804e-02  D4: 1.581865e-02\n",
      "test loss: 7.159114e-02  D: 6.880407e-01  D2: -5.437403e-03  D3: 1.384028e-02  D4: 1.697656e-02\n"
     ]
    },
    {
     "name": "stdout",
     "output_type": "stream",
     "text": [
      "[091/100]  test loss: 0.0691  D: 0.6933  D2: -0.0058  D3: 0.0120  D4: 0.01508\r"
     ]
    },
    {
     "name": "stderr",
     "output_type": "stream",
     "text": [
      "[default |INFO|model.py:2540] [49/80]  loss: 7.031022e-02  D: 6.957651e-01  D2: -6.002173e-03  D3: 1.275131e-02  D4: 1.580744e-02\n",
      "test loss: 6.900075e-02  D: 6.933148e-01  D2: -5.849018e-03  D3: 1.201680e-02  D4: 1.494842e-02\n"
     ]
    },
    {
     "name": "stdout",
     "output_type": "stream",
     "text": [
      "[091/100]  test loss: 0.0704  D: 0.6696  D2: -0.0060  D3: 0.0106  D4: 0.01385\r"
     ]
    },
    {
     "name": "stderr",
     "output_type": "stream",
     "text": [
      "[default |INFO|model.py:2540] [50/80]  loss: 6.983311e-02  D: 6.940539e-01  D2: -6.064914e-03  D3: 1.231178e-02  D4: 1.552424e-02\n",
      "test loss: 7.031335e-02  D: 6.696406e-01  D2: -5.905066e-03  D3: 1.058792e-02  D4: 1.379599e-02\n"
     ]
    },
    {
     "name": "stdout",
     "output_type": "stream",
     "text": [
      "[090/100]  test loss: 0.0700  D: 0.6769  D2: -0.0062  D3: 0.0108  D4: 0.01374\r"
     ]
    },
    {
     "name": "stderr",
     "output_type": "stream",
     "text": [
      "[default |INFO|model.py:2540] [51/80]  loss: 7.355141e-02  D: 6.944749e-01  D2: -5.975739e-03  D3: 1.223522e-02  D4: 1.536228e-02\n",
      "test loss: 7.024961e-02  D: 6.769021e-01  D2: -6.000929e-03  D3: 1.084513e-02  D4: 1.369762e-02\n"
     ]
    },
    {
     "name": "stdout",
     "output_type": "stream",
     "text": [
      "[091/100]  test loss: 0.0704  D: 0.7108  D2: -0.0064  D3: 0.0136  D4: 0.01724\r"
     ]
    },
    {
     "name": "stderr",
     "output_type": "stream",
     "text": [
      "[default |INFO|model.py:2540] [52/80]  loss: 7.144855e-02  D: 6.949086e-01  D2: -6.065354e-03  D3: 1.223454e-02  D4: 1.537120e-02\n",
      "test loss: 7.034121e-02  D: 7.108629e-01  D2: -6.198292e-03  D3: 1.362145e-02  D4: 1.707631e-02\n"
     ]
    },
    {
     "name": "stdout",
     "output_type": "stream",
     "text": [
      "[091/100]  test loss: 0.0667  D: 0.6933  D2: -0.0067  D3: 0.0136  D4: 0.01669\r"
     ]
    },
    {
     "name": "stderr",
     "output_type": "stream",
     "text": [
      "[default |INFO|model.py:2540] [53/80]  loss: 6.865982e-02  D: 6.974794e-01  D2: -6.203017e-03  D3: 1.263903e-02  D4: 1.585128e-02\n",
      "test loss: 6.674881e-02  D: 6.932506e-01  D2: -6.774788e-03  D3: 1.364013e-02  D4: 1.670340e-02\n"
     ]
    },
    {
     "name": "stdout",
     "output_type": "stream",
     "text": [
      "[090/100]  test loss: 0.0671  D: 0.6863  D2: -0.0062  D3: 0.0131  D4: 0.01668\r"
     ]
    },
    {
     "name": "stderr",
     "output_type": "stream",
     "text": [
      "[default |INFO|model.py:2540] [54/80]  loss: 6.765786e-02  D: 6.946025e-01  D2: -6.380030e-03  D3: 1.270244e-02  D4: 1.576893e-02\n",
      "test loss: 6.727073e-02  D: 6.862967e-01  D2: -6.300383e-03  D3: 1.307557e-02  D4: 1.650949e-02\n"
     ]
    },
    {
     "name": "stdout",
     "output_type": "stream",
     "text": [
      "[099/100]  test loss: 0.0626  D: 0.6889  D2: -0.0063  D3: 0.0135  D4: 0.01637\r"
     ]
    },
    {
     "name": "stderr",
     "output_type": "stream",
     "text": [
      "[default |INFO|model.py:2540] [55/80]  loss: 6.847968e-02  D: 6.950293e-01  D2: -6.216224e-03  D3: 1.254079e-02  D4: 1.568037e-02\n",
      "test loss: 6.256535e-02  D: 6.888634e-01  D2: -6.299095e-03  D3: 1.354505e-02  D4: 1.626966e-02\n"
     ]
    },
    {
     "name": "stdout",
     "output_type": "stream",
     "text": [
      "[090/100]  test loss: 0.0626  D: 0.6918  D2: -0.0062  D3: 0.0139  D4: 0.01710\r"
     ]
    },
    {
     "name": "stderr",
     "output_type": "stream",
     "text": [
      "[default |INFO|model.py:2540] [56/80]  loss: 6.314108e-02  D: 6.936943e-01  D2: -6.379984e-03  D3: 1.292437e-02  D4: 1.595530e-02\n",
      "test loss: 6.272700e-02  D: 6.918650e-01  D2: -6.168890e-03  D3: 1.385901e-02  D4: 1.706906e-02\n"
     ]
    },
    {
     "name": "stdout",
     "output_type": "stream",
     "text": [
      "[090/100]  test loss: 0.0657  D: 0.6920  D2: -0.0064  D3: 0.0114  D4: 0.01437\r"
     ]
    },
    {
     "name": "stderr",
     "output_type": "stream",
     "text": [
      "[default |INFO|model.py:2540] [57/80]  loss: 6.320287e-02  D: 6.975729e-01  D2: -6.412740e-03  D3: 1.274732e-02  D4: 1.571815e-02\n",
      "test loss: 6.578268e-02  D: 6.918393e-01  D2: -6.317930e-03  D3: 1.143374e-02  D4: 1.428389e-02\n"
     ]
    },
    {
     "name": "stdout",
     "output_type": "stream",
     "text": [
      "[091/100]  test loss: 0.0641  D: 0.7088  D2: -0.0072  D3: 0.0133  D4: 0.01617\r"
     ]
    },
    {
     "name": "stderr",
     "output_type": "stream",
     "text": [
      "[default |INFO|model.py:2540] [58/80]  loss: 6.400059e-02  D: 6.956558e-01  D2: -6.579652e-03  D3: 1.273345e-02  D4: 1.573843e-02\n",
      "test loss: 6.394784e-02  D: 7.087274e-01  D2: -7.120876e-03  D3: 1.320125e-02  D4: 1.602641e-02\n"
     ]
    },
    {
     "name": "stdout",
     "output_type": "stream",
     "text": [
      "[091/100]  test loss: 0.0646  D: 0.6901  D2: -0.0065  D3: 0.0127  D4: 0.01607\r"
     ]
    },
    {
     "name": "stderr",
     "output_type": "stream",
     "text": [
      "[default |INFO|model.py:2540] [59/80]  loss: 6.382739e-02  D: 6.964519e-01  D2: -6.532429e-03  D3: 1.262705e-02  D4: 1.574447e-02\n",
      "test loss: 6.429333e-02  D: 6.901752e-01  D2: -6.498251e-03  D3: 1.262944e-02  D4: 1.593451e-02\n"
     ]
    },
    {
     "name": "stdout",
     "output_type": "stream",
     "text": [
      "[091/100]  test loss: 0.0618  D: 0.7134  D2: -0.0070  D3: 0.0132  D4: 0.01646\r"
     ]
    },
    {
     "name": "stderr",
     "output_type": "stream",
     "text": [
      "[default |INFO|model.py:2540] [60/80]  loss: 6.320819e-02  D: 6.949431e-01  D2: -6.666279e-03  D3: 1.256985e-02  D4: 1.561827e-02\n",
      "test loss: 6.200689e-02  D: 7.133300e-01  D2: -6.866627e-03  D3: 1.325604e-02  D4: 1.645232e-02\n"
     ]
    },
    {
     "name": "stdout",
     "output_type": "stream",
     "text": [
      "[091/100]  test loss: 0.0655  D: 0.7082  D2: -0.0072  D3: 0.0122  D4: 0.01556\r"
     ]
    },
    {
     "name": "stderr",
     "output_type": "stream",
     "text": [
      "[default |INFO|model.py:2540] [61/80]  loss: 6.399670e-02  D: 6.961676e-01  D2: -6.783791e-03  D3: 1.229051e-02  D4: 1.556919e-02\n",
      "test loss: 6.538917e-02  D: 7.081489e-01  D2: -7.120476e-03  D3: 1.219330e-02  D4: 1.552538e-02\n"
     ]
    },
    {
     "name": "stdout",
     "output_type": "stream",
     "text": [
      "[091/100]  test loss: 0.0661  D: 0.7065  D2: -0.0068  D3: 0.0137  D4: 0.01706\r"
     ]
    },
    {
     "name": "stderr",
     "output_type": "stream",
     "text": [
      "[default |INFO|model.py:2540] [62/80]  loss: 6.615313e-02  D: 6.960899e-01  D2: -6.625323e-03  D3: 1.250696e-02  D4: 1.562943e-02\n",
      "test loss: 6.612146e-02  D: 7.065246e-01  D2: -6.813955e-03  D3: 1.374668e-02  D4: 1.704663e-02\n"
     ]
    },
    {
     "name": "stdout",
     "output_type": "stream",
     "text": [
      "[091/100]  test loss: 0.0640  D: 0.6851  D2: -0.0064  D3: 0.0131  D4: 0.01638\r"
     ]
    },
    {
     "name": "stderr",
     "output_type": "stream",
     "text": [
      "[default |INFO|model.py:2540] [63/80]  loss: 6.461600e-02  D: 6.938954e-01  D2: -6.685171e-03  D3: 1.262507e-02  D4: 1.581738e-02\n",
      "test loss: 6.410255e-02  D: 6.851702e-01  D2: -6.496258e-03  D3: 1.311753e-02  D4: 1.629655e-02\n"
     ]
    },
    {
     "name": "stdout",
     "output_type": "stream",
     "text": [
      "[091/100]  test loss: 0.0624  D: 0.7014  D2: -0.0067  D3: 0.0130  D4: 0.01637\r"
     ]
    },
    {
     "name": "stderr",
     "output_type": "stream",
     "text": [
      "[default |INFO|model.py:2540] [64/80]  loss: 6.296165e-02  D: 6.964712e-01  D2: -6.882002e-03  D3: 1.259266e-02  D4: 1.569486e-02\n",
      "test loss: 6.233896e-02  D: 7.014460e-01  D2: -6.704540e-03  D3: 1.294289e-02  D4: 1.626572e-02\n"
     ]
    },
    {
     "name": "stdout",
     "output_type": "stream",
     "text": [
      "[091/100]  test loss: 0.0622  D: 0.7142  D2: -0.0067  D3: 0.0140  D4: 0.01728\r"
     ]
    },
    {
     "name": "stderr",
     "output_type": "stream",
     "text": [
      "[default |INFO|model.py:2540] [65/80]  loss: 6.111590e-02  D: 6.957293e-01  D2: -7.014120e-03  D3: 1.256365e-02  D4: 1.576715e-02\n",
      "test loss: 6.227437e-02  D: 7.141990e-01  D2: -6.640100e-03  D3: 1.396658e-02  D4: 1.715025e-02\n"
     ]
    },
    {
     "name": "stdout",
     "output_type": "stream",
     "text": [
      "[090/100]  test loss: 0.0601  D: 0.6922  D2: -0.0069  D3: 0.0120  D4: 0.01536\r"
     ]
    },
    {
     "name": "stderr",
     "output_type": "stream",
     "text": [
      "[default |INFO|model.py:2540] [66/80]  loss: 6.127078e-02  D: 6.952916e-01  D2: -7.050360e-03  D3: 1.254367e-02  D4: 1.564331e-02\n",
      "test loss: 6.019985e-02  D: 6.922053e-01  D2: -6.991682e-03  D3: 1.199046e-02  D4: 1.532582e-02\n"
     ]
    },
    {
     "name": "stdout",
     "output_type": "stream",
     "text": [
      "[090/100]  test loss: 0.0616  D: 0.6994  D2: -0.0071  D3: 0.0124  D4: 0.01563\r"
     ]
    },
    {
     "name": "stderr",
     "output_type": "stream",
     "text": [
      "[default |INFO|model.py:2540] [67/80]  loss: 6.162908e-02  D: 6.945496e-01  D2: -7.051716e-03  D3: 1.216776e-02  D4: 1.528563e-02\n",
      "test loss: 6.141188e-02  D: 6.994785e-01  D2: -7.025976e-03  D3: 1.246183e-02  D4: 1.561153e-02\n"
     ]
    },
    {
     "name": "stdout",
     "output_type": "stream",
     "text": [
      "[091/100]  test loss: 0.0904  D: 0.7071  D2: -0.0070  D3: 0.0132  D4: 0.01632\r"
     ]
    },
    {
     "name": "stderr",
     "output_type": "stream",
     "text": [
      "[default |INFO|model.py:2540] [68/80]  loss: 6.312641e-02  D: 6.988600e-01  D2: -7.146138e-03  D3: 1.206444e-02  D4: 1.522056e-02\n",
      "test loss: 9.019734e-02  D: 7.070990e-01  D2: -7.060699e-03  D3: 1.324438e-02  D4: 1.628317e-02\n"
     ]
    },
    {
     "name": "stdout",
     "output_type": "stream",
     "text": [
      "[100/100]  test loss: 0.0864  D: 0.7157  D2: -0.0067  D3: 0.0120  D4: 0.01515\r"
     ]
    },
    {
     "name": "stderr",
     "output_type": "stream",
     "text": [
      "[default |INFO|model.py:2540] [69/80]  loss: 6.265852e-02  D: 6.929816e-01  D2: -6.943234e-03  D3: 1.233174e-02  D4: 1.551685e-02\n",
      "test loss: 8.640240e-02  D: 7.156806e-01  D2: -6.653709e-03  D3: 1.203413e-02  D4: 1.511117e-02\n"
     ]
    },
    {
     "name": "stdout",
     "output_type": "stream",
     "text": [
      "[091/100]  test loss: 0.0638  D: 0.7013  D2: -0.0074  D3: 0.0118  D4: 0.01483\r"
     ]
    },
    {
     "name": "stderr",
     "output_type": "stream",
     "text": [
      "[default |INFO|model.py:2540] [70/80]  loss: 6.590946e-02  D: 6.951740e-01  D2: -7.289187e-03  D3: 1.201729e-02  D4: 1.528566e-02\n",
      "test loss: 6.371034e-02  D: 7.013077e-01  D2: -7.437277e-03  D3: 1.178991e-02  D4: 1.474260e-02\n"
     ]
    },
    {
     "name": "stdout",
     "output_type": "stream",
     "text": [
      "[090/100]  test loss: 0.0831  D: 0.7133  D2: -0.0081  D3: 0.0143  D4: 0.01633\r"
     ]
    },
    {
     "name": "stderr",
     "output_type": "stream",
     "text": [
      "[default |INFO|model.py:2540] [71/80]  loss: 6.547848e-02  D: 6.960413e-01  D2: -7.075820e-03  D3: 1.213634e-02  D4: 1.530408e-02\n",
      "test loss: 8.307673e-02  D: 7.132826e-01  D2: -8.064289e-03  D3: 1.428259e-02  D4: 1.629651e-02\n"
     ]
    },
    {
     "name": "stdout",
     "output_type": "stream",
     "text": [
      "[090/100]  test loss: 0.0619  D: 0.6889  D2: -0.0066  D3: 0.0133  D4: 0.01664\r"
     ]
    },
    {
     "name": "stderr",
     "output_type": "stream",
     "text": [
      "[default |INFO|model.py:2540] [72/80]  loss: 6.351071e-02  D: 6.951214e-01  D2: -7.439481e-03  D3: 1.221872e-02  D4: 1.543669e-02\n",
      "test loss: 6.179523e-02  D: 6.889658e-01  D2: -6.658955e-03  D3: 1.327326e-02  D4: 1.656784e-02\n"
     ]
    },
    {
     "name": "stdout",
     "output_type": "stream",
     "text": [
      "[100/100]  test loss: 0.0632  D: 0.6782  D2: -0.0077  D3: 0.0124  D4: 0.01564\r"
     ]
    },
    {
     "name": "stderr",
     "output_type": "stream",
     "text": [
      "[default |INFO|model.py:2540] [73/80]  loss: 6.201472e-02  D: 6.953998e-01  D2: -7.380672e-03  D3: 1.218885e-02  D4: 1.536354e-02\n",
      "test loss: 6.319355e-02  D: 6.781547e-01  D2: -7.676249e-03  D3: 1.244114e-02  D4: 1.556117e-02\n"
     ]
    },
    {
     "name": "stdout",
     "output_type": "stream",
     "text": [
      "[091/100]  test loss: 0.0607  D: 0.6741  D2: -0.0077  D3: 0.0113  D4: 0.01454\r"
     ]
    },
    {
     "name": "stderr",
     "output_type": "stream",
     "text": [
      "[default |INFO|model.py:2540] [74/80]  loss: 6.201585e-02  D: 6.932915e-01  D2: -7.291468e-03  D3: 1.227850e-02  D4: 1.543055e-02\n",
      "test loss: 6.068424e-02  D: 6.741579e-01  D2: -7.708664e-03  D3: 1.127436e-02  D4: 1.448507e-02\n"
     ]
    },
    {
     "name": "stdout",
     "output_type": "stream",
     "text": [
      "[099/100]  test loss: 0.0594  D: 0.7035  D2: -0.0074  D3: 0.0130  D4: 0.01635\r"
     ]
    },
    {
     "name": "stderr",
     "output_type": "stream",
     "text": [
      "[default |INFO|model.py:2540] [75/80]  loss: 6.002118e-02  D: 6.955168e-01  D2: -7.422288e-03  D3: 1.233216e-02  D4: 1.554429e-02\n",
      "test loss: 5.943103e-02  D: 7.035124e-01  D2: -7.419920e-03  D3: 1.296170e-02  D4: 1.628172e-02\n"
     ]
    },
    {
     "name": "stdout",
     "output_type": "stream",
     "text": [
      "[100/100]  test loss: 0.0586  D: 0.6745  D2: -0.0078  D3: 0.0117  D4: 0.01504\r"
     ]
    },
    {
     "name": "stderr",
     "output_type": "stream",
     "text": [
      "[default |INFO|model.py:2540] [76/80]  loss: 5.944282e-02  D: 6.942565e-01  D2: -7.679965e-03  D3: 1.215767e-02  D4: 1.539078e-02\n",
      "test loss: 5.860026e-02  D: 6.744954e-01  D2: -7.839994e-03  D3: 1.174000e-02  D4: 1.502689e-02\n"
     ]
    },
    {
     "name": "stdout",
     "output_type": "stream",
     "text": [
      "[091/100]  test loss: 0.0610  D: 0.6973  D2: -0.0077  D3: 0.0111  D4: 0.01445\r"
     ]
    },
    {
     "name": "stderr",
     "output_type": "stream",
     "text": [
      "[default |INFO|model.py:2540] [77/80]  loss: 5.922409e-02  D: 6.939918e-01  D2: -7.552986e-03  D3: 1.224644e-02  D4: 1.548041e-02\n",
      "test loss: 6.091595e-02  D: 6.972045e-01  D2: -7.656727e-03  D3: 1.110951e-02  D4: 1.441298e-02\n"
     ]
    },
    {
     "name": "stdout",
     "output_type": "stream",
     "text": [
      "[092/100]  test loss: 0.0643  D: 0.6831  D2: -0.0075  D3: 0.0109  D4: 0.01435\r"
     ]
    },
    {
     "name": "stderr",
     "output_type": "stream",
     "text": [
      "[default |INFO|model.py:2540] [78/80]  loss: 5.972876e-02  D: 6.952159e-01  D2: -7.541582e-03  D3: 1.221654e-02  D4: 1.550350e-02\n",
      "test loss: 6.418169e-02  D: 6.831220e-01  D2: -7.495470e-03  D3: 1.095917e-02  D4: 1.429302e-02\n"
     ]
    },
    {
     "name": "stdout",
     "output_type": "stream",
     "text": [
      "[091/100]  test loss: 0.0592  D: 0.7098  D2: -0.0078  D3: 0.0122  D4: 0.01544\r"
     ]
    },
    {
     "name": "stderr",
     "output_type": "stream",
     "text": [
      "[default |INFO|model.py:2540] [79/80]  loss: 6.007796e-02  D: 6.942232e-01  D2: -7.700019e-03  D3: 1.220097e-02  D4: 1.536471e-02\n",
      "test loss: 5.917933e-02  D: 7.098125e-01  D2: -7.793579e-03  D3: 1.212776e-02  D4: 1.545038e-02\n"
     ]
    },
    {
     "name": "stdout",
     "output_type": "stream",
     "text": [
      "[092/100]  test loss: 0.0626  D: 0.6890  D2: -0.0074  D3: 0.0114  D4: 0.01473\r"
     ]
    },
    {
     "name": "stderr",
     "output_type": "stream",
     "text": [
      "[default |INFO|model.py:2540] [80/80]  loss: 5.877746e-02  D: 6.957594e-01  D2: -7.693895e-03  D3: 1.200205e-02  D4: 1.532084e-02\n",
      "test loss: 6.264056e-02  D: 6.889592e-01  D2: -7.278509e-03  D3: 1.133047e-02  D4: 1.476851e-02\n"
     ]
    },
    {
     "name": "stdout",
     "output_type": "stream",
     "text": [
      "[093/100]  test loss: 0.0626  D: 0.6890  D2: -0.0073  D3: 0.0114  D4: 0.0147\r",
      "[094/100]  test loss: 0.0627  D: 0.6890  D2: -0.0073  D3: 0.0114  D4: 0.0147\r",
      "[095/100]  test loss: 0.0627  D: 0.6890  D2: -0.0073  D3: 0.0114  D4: 0.0148\r",
      "[096/100]  test loss: 0.0627  D: 0.6889  D2: -0.0073  D3: 0.0114  D4: 0.0148\r",
      "[097/100]  test loss: 0.0627  D: 0.6889  D2: -0.0073  D3: 0.0114  D4: 0.0148\r",
      "[098/100]  test loss: 0.0627  D: 0.6890  D2: -0.0073  D3: 0.0114  D4: 0.0148\r",
      "[099/100]  test loss: 0.0626  D: 0.6890  D2: -0.0073  D3: 0.0113  D4: 0.0148\r",
      "[100/100]  test loss: 0.0626  D: 0.6890  D2: -0.0073  D3: 0.0113  D4: 0.0148\r"
     ]
    },
    {
     "name": "stderr",
     "output_type": "stream",
     "text": [
      "[default |INFO|model.py:2655] Training Finished!\n",
      "[default |INFO|model.py:2656] Elapsed time: 3062.077s\n"
     ]
    }
   ],
   "source": [
    "cfg = configparser.ConfigParser()\n",
    "cfg.read('./config/sswae_dev2_hsic_16.cfg')\n",
    "\n",
    "mm = cur_model(cfg, log, device = device)\n",
    "\n",
    "mm.gm.mu.load_state_dict(torch.load(f'./result/mu_{cfg[\"train_info\"][\"y_dim\"]}.pt'))\n",
    "mm.gm.cov.load_state_dict(torch.load(f'./result/cov_{cfg[\"train_info\"][\"y_dim\"]}.pt'))\n",
    "\n",
    "mm.train()\n",
    "# mm.load('./%s' % (cfg['path_info']['save_path']))"
   ]
  },
  {
   "cell_type": "code",
   "execution_count": null,
   "metadata": {},
   "outputs": [],
   "source": []
  }
 ],
 "metadata": {
  "kernelspec": {
   "display_name": "Python 3",
   "language": "python",
   "name": "python3"
  },
  "language_info": {
   "codemirror_mode": {
    "name": "ipython",
    "version": 3
   },
   "file_extension": ".py",
   "mimetype": "text/x-python",
   "name": "python",
   "nbconvert_exporter": "python",
   "pygments_lexer": "ipython3",
   "version": "3.8.5"
  }
 },
 "nbformat": 4,
 "nbformat_minor": 4
}
