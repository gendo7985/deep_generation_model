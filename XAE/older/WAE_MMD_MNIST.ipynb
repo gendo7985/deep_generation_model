{
 "cells": [
  {
   "cell_type": "markdown",
   "metadata": {},
   "source": [
    "# WAE_MMD\n",
    "## Model1"
   ]
  },
  {
   "cell_type": "code",
   "execution_count": 1,
   "metadata": {},
   "outputs": [],
   "source": [
    "import os, sys, logging, configparser\n",
    "# sys.path.append('/'.join(os.getcwd().split('/')[:-2]))\n",
    "\n",
    "import warnings\n",
    "warnings.filterwarnings(\"ignore\")\n",
    "# os.environ['CUDA_VISIBLE_DEVICES']='1'\n",
    "\n",
    "import torch\n",
    "from tensorboardX import SummaryWriter\n",
    "from model.exp1.train_wae_mmd import WAE_MMD_MNIST\n",
    "from XAE.logging_daily import logging_daily"
   ]
  },
  {
   "cell_type": "code",
   "execution_count": 2,
   "metadata": {},
   "outputs": [
    {
     "data": {
      "text/plain": [
       "['./config/train_config_wae_mmd1.cfg']"
      ]
     },
     "execution_count": 2,
     "metadata": {},
     "output_type": "execute_result"
    }
   ],
   "source": [
    "is_cuda = torch.cuda.is_available()\n",
    "device = torch.device('cuda' if is_cuda else 'cpu')\n",
    "\n",
    "logger = logging_daily('./config/log_info.yaml')\n",
    "log = logger.get_logging()\n",
    "log.setLevel(logging.INFO)\n",
    "\n",
    "cfg = configparser.ConfigParser()\n",
    "cfg.read('./config/train_config_wae_mmd1.cfg')"
   ]
  },
  {
   "cell_type": "code",
   "execution_count": 4,
   "metadata": {
    "scrolled": true
   },
   "outputs": [
    {
     "name": "stderr",
     "output_type": "stream",
     "text": [
      "[default |INFO|_base_model.py:25] ------------------------------------------------------------\n",
      "[default |INFO|_base_model.py:27] model_name : WAE_MMD_MNIST\n",
      "[default |INFO|_base_model.py:27] train_data : MNIST\n",
      "[default |INFO|_base_model.py:27] z_sampler : gaus\n",
      "[default |INFO|_base_model.py:27] z_dim : 8\n",
      "[default |INFO|_base_model.py:27] prob_enc : False\n",
      "[default |INFO|_base_model.py:27] encoder_pretrain : False\n",
      "[default |INFO|_base_model.py:27] encoder_pretrain_batch_size : 1000\n",
      "[default |INFO|_base_model.py:27] encoder_pretrain_max_step : 200\n",
      "[default |INFO|_base_model.py:27] lr : 1e-3\n",
      "[default |INFO|_base_model.py:27] beta1 : 0.5\n",
      "[default |INFO|_base_model.py:27] lambda : 10.0\n",
      "[default |INFO|_base_model.py:27] lr_schedule : manual\n",
      "[default |INFO|_base_model.py:27] validate : True\n",
      "[default |INFO|_base_model.py:27] histogram : True\n",
      "[default |INFO|_base_model.py:27] batch_size : 100\n",
      "[default |INFO|_base_model.py:27] epoch : 100\n",
      "[default |INFO|_base_model.py:27] replace : False\n",
      "[default |INFO|_base_model.py:27] iter_per_epoch : None\n",
      "[default |INFO|_base_model.py:27] save_best : False\n",
      "[default |INFO|_base_model.py:30] data_home : ./data/MNIST\n",
      "[default |INFO|_base_model.py:30] tb_logs : ./result/tb_logs/wae_mmd1\n",
      "[default |INFO|_base_model.py:30] save_path : ./result/weights/weight_wae_mmd1.pt\n",
      "[default |INFO|_base_model.py:30] save_state : ./result/states/state_wae_mmd1.pt\n",
      "[default |INFO|_base_model.py:30] save_img_path : ./result/plots/wae_mmd1/\n",
      "[default |INFO|_base_model.py:194] ------------------------------------------------------------\n",
      "[default |INFO|_base_model.py:195] Training Start!\n"
     ]
    },
    {
     "name": "stdout",
     "output_type": "stream",
     "text": [
      "[90/100]\ttest_main: 0.2407\ttest_penalty: 0.4487659\r"
     ]
    },
    {
     "name": "stderr",
     "output_type": "stream",
     "text": [
      "[default |INFO|_base_model.py:264] [1/100]\ttrain_main: 2.607991e-01\ttrain_penalty: 5.658975e-01\ttest_main: 2.410818e-01\ttest_penalty: 4.487827e-01\n"
     ]
    },
    {
     "name": "stdout",
     "output_type": "stream",
     "text": [
      "[85/100]\ttest_main: 0.2272\ttest_penalty: 0.2262006\r"
     ]
    },
    {
     "name": "stderr",
     "output_type": "stream",
     "text": [
      "[default |INFO|_base_model.py:264] [2/100]\ttrain_main: 2.334103e-01\ttrain_penalty: 3.005644e-01\ttest_main: 2.287748e-01\ttest_penalty: 2.276058e-01\n"
     ]
    },
    {
     "name": "stdout",
     "output_type": "stream",
     "text": [
      "[91/100]\ttest_main: 0.2117\ttest_penalty: 0.1400678\r"
     ]
    },
    {
     "name": "stderr",
     "output_type": "stream",
     "text": [
      "[default |INFO|_base_model.py:264] [3/100]\ttrain_main: 2.151153e-01\ttrain_penalty: 1.677705e-01\ttest_main: 2.122809e-01\ttest_penalty: 1.416738e-01\n"
     ]
    },
    {
     "name": "stdout",
     "output_type": "stream",
     "text": [
      "[90/100]\ttest_main: 0.1902\ttest_penalty: 0.0906913\r"
     ]
    },
    {
     "name": "stderr",
     "output_type": "stream",
     "text": [
      "[default |INFO|_base_model.py:264] [4/100]\ttrain_main: 1.869201e-01\ttrain_penalty: 9.128527e-02\ttest_main: 1.911917e-01\ttest_penalty: 9.187263e-02\n"
     ]
    },
    {
     "name": "stdout",
     "output_type": "stream",
     "text": [
      "[91/100]\ttest_main: 0.1732\ttest_penalty: 0.0825701\r"
     ]
    },
    {
     "name": "stderr",
     "output_type": "stream",
     "text": [
      "[default |INFO|_base_model.py:264] [5/100]\ttrain_main: 1.666212e-01\ttrain_penalty: 7.010788e-02\ttest_main: 1.748167e-01\ttest_penalty: 8.315403e-02\n"
     ]
    },
    {
     "name": "stdout",
     "output_type": "stream",
     "text": [
      "[78/100]\ttest_main: 0.1462\ttest_penalty: 0.0308347\r"
     ]
    },
    {
     "name": "stderr",
     "output_type": "stream",
     "text": [
      "[default |INFO|_base_model.py:264] [6/100]\ttrain_main: 1.410558e-01\ttrain_penalty: 3.466586e-02\ttest_main: 1.491444e-01\ttest_penalty: 3.395370e-02\n"
     ]
    },
    {
     "name": "stdout",
     "output_type": "stream",
     "text": [
      "[90/100]\ttest_main: 0.1387\ttest_penalty: 0.0303180\r"
     ]
    },
    {
     "name": "stderr",
     "output_type": "stream",
     "text": [
      "[default |INFO|_base_model.py:264] [7/100]\ttrain_main: 1.237195e-01\ttrain_penalty: 1.795993e-02\ttest_main: 1.406824e-01\ttest_penalty: 3.106373e-02\n"
     ]
    },
    {
     "name": "stdout",
     "output_type": "stream",
     "text": [
      "[92/100]\ttest_main: 0.1317\ttest_penalty: 0.0269162\r"
     ]
    },
    {
     "name": "stderr",
     "output_type": "stream",
     "text": [
      "[default |INFO|_base_model.py:264] [8/100]\ttrain_main: 1.170121e-01\ttrain_penalty: 1.623538e-02\ttest_main: 1.335345e-01\ttest_penalty: 2.781295e-02\n"
     ]
    },
    {
     "name": "stdout",
     "output_type": "stream",
     "text": [
      "[92/100]\ttest_main: 0.1266\ttest_penalty: 0.0147051\r"
     ]
    },
    {
     "name": "stderr",
     "output_type": "stream",
     "text": [
      "[default |INFO|_base_model.py:264] [9/100]\ttrain_main: 1.108550e-01\ttrain_penalty: 5.100682e-03\ttest_main: 1.280669e-01\ttest_penalty: 1.549627e-02\n"
     ]
    },
    {
     "name": "stdout",
     "output_type": "stream",
     "text": [
      "[99/100]\ttest_main: 0.1213\ttest_penalty: 0.00510039\r"
     ]
    },
    {
     "name": "stderr",
     "output_type": "stream",
     "text": [
      "[default |INFO|_base_model.py:264] [10/100]\ttrain_main: 1.034270e-01\ttrain_penalty: -3.944710e-03\ttest_main: 1.212599e-01\ttest_penalty: 5.107679e-03\n"
     ]
    },
    {
     "name": "stdout",
     "output_type": "stream",
     "text": [
      "[99/100]\ttest_main: 0.1158\ttest_penalty: 0.00291085\r"
     ]
    },
    {
     "name": "stderr",
     "output_type": "stream",
     "text": [
      "[default |INFO|_base_model.py:264] [11/100]\ttrain_main: 9.679528e-02\ttrain_penalty: -8.485215e-03\ttest_main: 1.158362e-01\ttest_penalty: 2.882404e-03\n"
     ]
    },
    {
     "name": "stdout",
     "output_type": "stream",
     "text": [
      "[92/100]\ttest_main: 0.1122\ttest_penalty: 0.00152096\r"
     ]
    },
    {
     "name": "stderr",
     "output_type": "stream",
     "text": [
      "[default |INFO|_base_model.py:264] [12/100]\ttrain_main: 9.261757e-02\ttrain_penalty: -9.580244e-03\ttest_main: 1.137761e-01\ttest_penalty: 2.312527e-03\n"
     ]
    },
    {
     "name": "stdout",
     "output_type": "stream",
     "text": [
      "[90/100]\ttest_main: 0.1114\ttest_penalty: 0.00151091\r"
     ]
    },
    {
     "name": "stderr",
     "output_type": "stream",
     "text": [
      "[default |INFO|_base_model.py:264] [13/100]\ttrain_main: 9.013499e-02\ttrain_penalty: -9.115701e-03\ttest_main: 1.133767e-01\ttest_penalty: 2.641363e-03\n"
     ]
    },
    {
     "name": "stdout",
     "output_type": "stream",
     "text": [
      "[82/100]\ttest_main: 0.1092\ttest_penalty: -0.0012093\r"
     ]
    },
    {
     "name": "stderr",
     "output_type": "stream",
     "text": [
      "[default |INFO|_base_model.py:264] [14/100]\ttrain_main: 8.795529e-02\ttrain_penalty: -9.254147e-03\ttest_main: 1.111640e-01\ttest_penalty: 1.505980e-03\n"
     ]
    },
    {
     "name": "stdout",
     "output_type": "stream",
     "text": [
      "[90/100]\ttest_main: 0.1079\ttest_penalty: 0.00232106\r"
     ]
    },
    {
     "name": "stderr",
     "output_type": "stream",
     "text": [
      "[default |INFO|_base_model.py:264] [15/100]\ttrain_main: 8.608463e-02\ttrain_penalty: -1.064364e-02\ttest_main: 1.096996e-01\ttest_penalty: 3.178663e-03\n"
     ]
    },
    {
     "name": "stdout",
     "output_type": "stream",
     "text": [
      "[93/100]\ttest_main: 0.1072\ttest_penalty: 0.00011104\r"
     ]
    },
    {
     "name": "stderr",
     "output_type": "stream",
     "text": [
      "[default |INFO|_base_model.py:264] [16/100]\ttrain_main: 8.502116e-02\ttrain_penalty: -1.042894e-02\ttest_main: 1.090115e-01\ttest_penalty: 9.530783e-04\n"
     ]
    },
    {
     "name": "stdout",
     "output_type": "stream",
     "text": [
      "[91/100]\ttest_main: 0.1062\ttest_penalty: -0.0002106\r"
     ]
    },
    {
     "name": "stderr",
     "output_type": "stream",
     "text": [
      "[default |INFO|_base_model.py:264] [17/100]\ttrain_main: 8.374810e-02\ttrain_penalty: -1.064235e-02\ttest_main: 1.080222e-01\ttest_penalty: 7.755804e-04\n"
     ]
    },
    {
     "name": "stdout",
     "output_type": "stream",
     "text": [
      "[81/100]\ttest_main: 0.1043\ttest_penalty: -0.0016107\r"
     ]
    },
    {
     "name": "stderr",
     "output_type": "stream",
     "text": [
      "[default |INFO|_base_model.py:264] [18/100]\ttrain_main: 8.286724e-02\ttrain_penalty: -1.071953e-02\ttest_main: 1.068267e-01\ttest_penalty: 1.471186e-04\n"
     ]
    },
    {
     "name": "stdout",
     "output_type": "stream",
     "text": [
      "[91/100]\ttest_main: 0.1059\ttest_penalty: -0.0011106\r"
     ]
    },
    {
     "name": "stderr",
     "output_type": "stream",
     "text": [
      "[default |INFO|_base_model.py:264] [19/100]\ttrain_main: 8.193820e-02\ttrain_penalty: -1.064013e-02\ttest_main: 1.073051e-01\ttest_penalty: 1.665354e-04\n"
     ]
    },
    {
     "name": "stdout",
     "output_type": "stream",
     "text": [
      "[92/100]\ttest_main: 0.1044\ttest_penalty: 0.00062110\r"
     ]
    },
    {
     "name": "stderr",
     "output_type": "stream",
     "text": [
      "[default |INFO|_base_model.py:264] [20/100]\ttrain_main: 8.109674e-02\ttrain_penalty: -1.104698e-02\ttest_main: 1.059083e-01\ttest_penalty: 1.097312e-03\n"
     ]
    },
    {
     "name": "stdout",
     "output_type": "stream",
     "text": [
      "[91/100]\ttest_main: 0.1048\ttest_penalty: -0.0005113\r"
     ]
    },
    {
     "name": "stderr",
     "output_type": "stream",
     "text": [
      "[default |INFO|_base_model.py:264] [21/100]\ttrain_main: 8.024833e-02\ttrain_penalty: -1.131739e-02\ttest_main: 1.063897e-01\ttest_penalty: 5.109358e-04\n"
     ]
    },
    {
     "name": "stdout",
     "output_type": "stream",
     "text": [
      "[93/100]\ttest_main: 0.1044\ttest_penalty: 0.00281103\r"
     ]
    },
    {
     "name": "stderr",
     "output_type": "stream",
     "text": [
      "[default |INFO|_base_model.py:264] [22/100]\ttrain_main: 7.955075e-02\ttrain_penalty: -1.034936e-02\ttest_main: 1.061921e-01\ttest_penalty: 3.165631e-03\n"
     ]
    },
    {
     "name": "stdout",
     "output_type": "stream",
     "text": [
      "[99/100]\ttest_main: 0.1048\ttest_penalty: 0.00021102\r"
     ]
    },
    {
     "name": "stderr",
     "output_type": "stream",
     "text": [
      "[default |INFO|_base_model.py:264] [23/100]\ttrain_main: 7.946548e-02\ttrain_penalty: -1.019961e-02\ttest_main: 1.048113e-01\ttest_penalty: 1.591539e-04\n"
     ]
    },
    {
     "name": "stdout",
     "output_type": "stream",
     "text": [
      "[93/100]\ttest_main: 0.1037\ttest_penalty: 0.00030110\r"
     ]
    },
    {
     "name": "stderr",
     "output_type": "stream",
     "text": [
      "[default |INFO|_base_model.py:264] [24/100]\ttrain_main: 7.843987e-02\ttrain_penalty: -1.099564e-02\ttest_main: 1.054214e-01\ttest_penalty: 7.044744e-04\n"
     ]
    },
    {
     "name": "stdout",
     "output_type": "stream",
     "text": [
      "[91/100]\ttest_main: 0.1030\ttest_penalty: -0.0022114\r"
     ]
    },
    {
     "name": "stderr",
     "output_type": "stream",
     "text": [
      "[default |INFO|_base_model.py:264] [25/100]\ttrain_main: 7.799397e-02\ttrain_penalty: -1.144210e-02\ttest_main: 1.046169e-01\ttest_penalty: -1.413493e-03\n"
     ]
    },
    {
     "name": "stdout",
     "output_type": "stream",
     "text": [
      "[99/100]\ttest_main: 0.1043\ttest_penalty: 0.00211112\r"
     ]
    },
    {
     "name": "stderr",
     "output_type": "stream",
     "text": [
      "[default |INFO|_base_model.py:264] [26/100]\ttrain_main: 7.730111e-02\ttrain_penalty: -1.119223e-02\ttest_main: 1.042617e-01\ttest_penalty: 2.140551e-03\n"
     ]
    },
    {
     "name": "stdout",
     "output_type": "stream",
     "text": [
      "[99/100]\ttest_main: 0.1038\ttest_penalty: -0.0004110\r"
     ]
    },
    {
     "name": "stderr",
     "output_type": "stream",
     "text": [
      "[default |INFO|_base_model.py:264] [27/100]\ttrain_main: 7.666532e-02\ttrain_penalty: -1.098601e-02\ttest_main: 1.038373e-01\ttest_penalty: -3.558493e-04\n"
     ]
    },
    {
     "name": "stdout",
     "output_type": "stream",
     "text": [
      "[99/100]\ttest_main: 0.1031\ttest_penalty: 0.00111113\r"
     ]
    },
    {
     "name": "stderr",
     "output_type": "stream",
     "text": [
      "[default |INFO|_base_model.py:264] [28/100]\ttrain_main: 7.639758e-02\ttrain_penalty: -1.131981e-02\ttest_main: 1.031076e-01\ttest_penalty: 1.109948e-03\n"
     ]
    },
    {
     "name": "stdout",
     "output_type": "stream",
     "text": [
      "[95/100]\ttest_main: 0.1021\ttest_penalty: 0.00040116\r"
     ]
    },
    {
     "name": "stderr",
     "output_type": "stream",
     "text": [
      "[default |INFO|_base_model.py:264] [29/100]\ttrain_main: 7.591115e-02\ttrain_penalty: -1.161109e-02\ttest_main: 1.041716e-01\ttest_penalty: 1.010623e-03\n"
     ]
    },
    {
     "name": "stdout",
     "output_type": "stream",
     "text": [
      "[99/100]\ttest_main: 0.1029\ttest_penalty: 0.00020119\r"
     ]
    },
    {
     "name": "stderr",
     "output_type": "stream",
     "text": [
      "[default |INFO|_base_model.py:264] [30/100]\ttrain_main: 7.574359e-02\ttrain_penalty: -1.185640e-02\ttest_main: 1.029156e-01\ttest_penalty: 2.362680e-04\n"
     ]
    },
    {
     "name": "stdout",
     "output_type": "stream",
     "text": [
      "[99/100]\ttest_main: 0.1025\ttest_penalty: -0.0008114\r"
     ]
    },
    {
     "name": "stderr",
     "output_type": "stream",
     "text": [
      "[default |INFO|_base_model.py:264] [31/100]\ttrain_main: 7.569817e-02\ttrain_penalty: -1.135566e-02\ttest_main: 1.025456e-01\ttest_penalty: -8.338022e-04\n"
     ]
    },
    {
     "name": "stdout",
     "output_type": "stream",
     "text": [
      "[99/100]\ttest_main: 0.1028\ttest_penalty: 0.00033115\r"
     ]
    },
    {
     "name": "stderr",
     "output_type": "stream",
     "text": [
      "[default |INFO|_base_model.py:264] [32/100]\ttrain_main: 7.484071e-02\ttrain_penalty: -1.148191e-02\ttest_main: 1.028250e-01\ttest_penalty: 2.823639e-04\n"
     ]
    },
    {
     "name": "stdout",
     "output_type": "stream",
     "text": [
      "[90/100]\ttest_main: 0.1013\ttest_penalty: -0.0005113\r"
     ]
    },
    {
     "name": "stderr",
     "output_type": "stream",
     "text": [
      "[default |INFO|_base_model.py:264] [33/100]\ttrain_main: 7.480764e-02\ttrain_penalty: -1.126912e-02\ttest_main: 1.033484e-01\ttest_penalty: 2.261543e-04\n"
     ]
    },
    {
     "name": "stdout",
     "output_type": "stream",
     "text": [
      "[99/100]\ttest_main: 0.1025\ttest_penalty: 0.00140115\r"
     ]
    },
    {
     "name": "stderr",
     "output_type": "stream",
     "text": [
      "[default |INFO|_base_model.py:264] [34/100]\ttrain_main: 7.440524e-02\ttrain_penalty: -1.148934e-02\ttest_main: 1.025447e-01\ttest_penalty: 1.391726e-03\n"
     ]
    },
    {
     "name": "stdout",
     "output_type": "stream",
     "text": [
      "[91/100]\ttest_main: 0.1012\ttest_penalty: -0.0030119\r"
     ]
    },
    {
     "name": "stderr",
     "output_type": "stream",
     "text": [
      "[default |INFO|_base_model.py:264] [35/100]\ttrain_main: 7.399524e-02\ttrain_penalty: -1.186529e-02\ttest_main: 1.030934e-01\ttest_penalty: -2.275271e-03\n"
     ]
    },
    {
     "name": "stdout",
     "output_type": "stream",
     "text": [
      "[91/100]\ttest_main: 0.1023\ttest_penalty: -0.0007116\r"
     ]
    },
    {
     "name": "stderr",
     "output_type": "stream",
     "text": [
      "[default |INFO|_base_model.py:264] [36/100]\ttrain_main: 7.372280e-02\ttrain_penalty: -1.158248e-02\ttest_main: 1.038263e-01\ttest_penalty: 8.349562e-04\n"
     ]
    },
    {
     "name": "stdout",
     "output_type": "stream",
     "text": [
      "[99/100]\ttest_main: 0.1026\ttest_penalty: -0.0009119\r"
     ]
    },
    {
     "name": "stderr",
     "output_type": "stream",
     "text": [
      "[default |INFO|_base_model.py:264] [37/100]\ttrain_main: 7.336047e-02\ttrain_penalty: -1.185893e-02\ttest_main: 1.025585e-01\ttest_penalty: -8.504009e-04\n"
     ]
    },
    {
     "name": "stdout",
     "output_type": "stream",
     "text": [
      "[99/100]\ttest_main: 0.1039\ttest_penalty: 0.00121117\r"
     ]
    },
    {
     "name": "stderr",
     "output_type": "stream",
     "text": [
      "[default |INFO|_base_model.py:264] [38/100]\ttrain_main: 7.339394e-02\ttrain_penalty: -1.170560e-02\ttest_main: 1.038952e-01\ttest_penalty: 1.226268e-03\n"
     ]
    },
    {
     "name": "stdout",
     "output_type": "stream",
     "text": [
      "[90/100]\ttest_main: 0.1022\ttest_penalty: -0.0029116\r"
     ]
    },
    {
     "name": "stderr",
     "output_type": "stream",
     "text": [
      "[default |INFO|_base_model.py:264] [39/100]\ttrain_main: 7.299339e-02\ttrain_penalty: -1.157601e-02\ttest_main: 1.038794e-01\ttest_penalty: -1.819277e-03\n"
     ]
    },
    {
     "name": "stdout",
     "output_type": "stream",
     "text": [
      "[99/100]\ttest_main: 0.1024\ttest_penalty: 0.00101118\r"
     ]
    },
    {
     "name": "stderr",
     "output_type": "stream",
     "text": [
      "[default |INFO|_base_model.py:264] [40/100]\ttrain_main: 7.264159e-02\ttrain_penalty: -1.177509e-02\ttest_main: 1.024372e-01\ttest_penalty: 9.691525e-04\n"
     ]
    },
    {
     "name": "stdout",
     "output_type": "stream",
     "text": [
      "[99/100]\ttest_main: 0.1018\ttest_penalty: -0.0001117\r"
     ]
    },
    {
     "name": "stderr",
     "output_type": "stream",
     "text": [
      "[default |INFO|_base_model.py:264] [41/100]\ttrain_main: 7.259578e-02\ttrain_penalty: -1.165553e-02\ttest_main: 1.018294e-01\ttest_penalty: -1.310158e-04\n"
     ]
    },
    {
     "name": "stdout",
     "output_type": "stream",
     "text": [
      "[90/100]\ttest_main: 0.0994\ttest_penalty: -0.0009121\r"
     ]
    },
    {
     "name": "stderr",
     "output_type": "stream",
     "text": [
      "[default |INFO|_base_model.py:264] [42/100]\ttrain_main: 7.221836e-02\ttrain_penalty: -1.211682e-02\ttest_main: 1.017173e-01\ttest_penalty: 7.531643e-05\n"
     ]
    },
    {
     "name": "stdout",
     "output_type": "stream",
     "text": [
      "[91/100]\ttest_main: 0.1001\ttest_penalty: -0.0009113\r"
     ]
    },
    {
     "name": "stderr",
     "output_type": "stream",
     "text": [
      "[default |INFO|_base_model.py:264] [43/100]\ttrain_main: 7.201160e-02\ttrain_penalty: -1.129455e-02\ttest_main: 1.025098e-01\ttest_penalty: 5.279636e-04\n"
     ]
    },
    {
     "name": "stdout",
     "output_type": "stream",
     "text": [
      "[95/100]\ttest_main: 0.1008\ttest_penalty: -0.0010118\r"
     ]
    },
    {
     "name": "stderr",
     "output_type": "stream",
     "text": [
      "[default |INFO|_base_model.py:264] [44/100]\ttrain_main: 7.175343e-02\ttrain_penalty: -1.175212e-02\ttest_main: 1.028599e-01\ttest_penalty: -5.023623e-04\n"
     ]
    },
    {
     "name": "stdout",
     "output_type": "stream",
     "text": [
      "[99/100]\ttest_main: 0.1024\ttest_penalty: -0.0015120\r"
     ]
    },
    {
     "name": "stderr",
     "output_type": "stream",
     "text": [
      "[default |INFO|_base_model.py:264] [45/100]\ttrain_main: 7.137301e-02\ttrain_penalty: -1.198629e-02\ttest_main: 1.023838e-01\ttest_penalty: -1.473413e-03\n"
     ]
    },
    {
     "name": "stdout",
     "output_type": "stream",
     "text": [
      "[99/100]\ttest_main: 0.1013\ttest_penalty: 0.00000122\r"
     ]
    },
    {
     "name": "stderr",
     "output_type": "stream",
     "text": [
      "[default |INFO|_base_model.py:264] [46/100]\ttrain_main: 7.135876e-02\ttrain_penalty: -1.215430e-02\ttest_main: 1.013494e-01\ttest_penalty: 4.636288e-05\n"
     ]
    },
    {
     "name": "stdout",
     "output_type": "stream",
     "text": [
      "[99/100]\ttest_main: 0.1036\ttest_penalty: -0.0008118\r"
     ]
    },
    {
     "name": "stderr",
     "output_type": "stream",
     "text": [
      "[default |INFO|_base_model.py:264] [47/100]\ttrain_main: 7.112429e-02\ttrain_penalty: -1.176138e-02\ttest_main: 1.035727e-01\ttest_penalty: -7.678890e-04\n"
     ]
    },
    {
     "name": "stdout",
     "output_type": "stream",
     "text": [
      "[99/100]\ttest_main: 0.1024\ttest_penalty: -0.0010124\r"
     ]
    },
    {
     "name": "stderr",
     "output_type": "stream",
     "text": [
      "[default |INFO|_base_model.py:264] [48/100]\ttrain_main: 7.082827e-02\ttrain_penalty: -1.237840e-02\ttest_main: 1.024407e-01\ttest_penalty: -9.850311e-04\n"
     ]
    },
    {
     "name": "stdout",
     "output_type": "stream",
     "text": [
      "[93/100]\ttest_main: 0.0995\ttest_penalty: -0.0011124\r"
     ]
    },
    {
     "name": "stderr",
     "output_type": "stream",
     "text": [
      "[default |INFO|_base_model.py:264] [49/100]\ttrain_main: 7.057217e-02\ttrain_penalty: -1.235179e-02\ttest_main: 1.020855e-01\ttest_penalty: -6.909466e-04\n"
     ]
    },
    {
     "name": "stdout",
     "output_type": "stream",
     "text": [
      "[91/100]\ttest_main: 0.1013\ttest_penalty: -0.0013118\r"
     ]
    },
    {
     "name": "stderr",
     "output_type": "stream",
     "text": [
      "[default |INFO|_base_model.py:264] [50/100]\ttrain_main: 7.065260e-02\ttrain_penalty: -1.177333e-02\ttest_main: 1.034011e-01\ttest_penalty: -7.171011e-04\n"
     ]
    },
    {
     "name": "stdout",
     "output_type": "stream",
     "text": [
      "[99/100]\ttest_main: 0.1010\ttest_penalty: 0.00000127\r"
     ]
    },
    {
     "name": "stderr",
     "output_type": "stream",
     "text": [
      "[default |INFO|_base_model.py:264] [51/100]\ttrain_main: 7.009428e-02\ttrain_penalty: -1.267607e-02\ttest_main: 1.010319e-01\ttest_penalty: 1.714230e-05\n"
     ]
    },
    {
     "name": "stdout",
     "output_type": "stream",
     "text": [
      "[92/100]\ttest_main: 0.0986\ttest_penalty: -0.0014118\r"
     ]
    },
    {
     "name": "stderr",
     "output_type": "stream",
     "text": [
      "[default |INFO|_base_model.py:264] [52/100]\ttrain_main: 7.001285e-02\ttrain_penalty: -1.176762e-02\ttest_main: 1.009551e-01\ttest_penalty: -2.901936e-04\n"
     ]
    },
    {
     "name": "stdout",
     "output_type": "stream",
     "text": [
      "[99/100]\ttest_main: 0.1013\ttest_penalty: -0.0004115\r"
     ]
    },
    {
     "name": "stderr",
     "output_type": "stream",
     "text": [
      "[default |INFO|_base_model.py:264] [53/100]\ttrain_main: 6.988922e-02\ttrain_penalty: -1.152272e-02\ttest_main: 1.012723e-01\ttest_penalty: -3.689051e-04\n"
     ]
    },
    {
     "name": "stdout",
     "output_type": "stream",
     "text": [
      "[99/100]\ttest_main: 0.1010\ttest_penalty: -0.0014120\r"
     ]
    },
    {
     "name": "stderr",
     "output_type": "stream",
     "text": [
      "[default |INFO|_base_model.py:264] [54/100]\ttrain_main: 7.013819e-02\ttrain_penalty: -1.202184e-02\ttest_main: 1.010333e-01\ttest_penalty: -1.410456e-03\n"
     ]
    },
    {
     "name": "stdout",
     "output_type": "stream",
     "text": [
      "[99/100]\ttest_main: 0.1018\ttest_penalty: -0.0021119\r"
     ]
    },
    {
     "name": "stderr",
     "output_type": "stream",
     "text": [
      "[default |INFO|_base_model.py:264] [55/100]\ttrain_main: 6.971394e-02\ttrain_penalty: -1.189899e-02\ttest_main: 1.018419e-01\ttest_penalty: -2.076344e-03\n"
     ]
    },
    {
     "name": "stdout",
     "output_type": "stream",
     "text": [
      "[99/100]\ttest_main: 0.1018\ttest_penalty: -0.0019120\r"
     ]
    },
    {
     "name": "stderr",
     "output_type": "stream",
     "text": [
      "[default |INFO|_base_model.py:264] [56/100]\ttrain_main: 6.959778e-02\ttrain_penalty: -1.199750e-02\ttest_main: 1.017741e-01\ttest_penalty: -1.922741e-03\n"
     ]
    },
    {
     "name": "stdout",
     "output_type": "stream",
     "text": [
      "[99/100]\ttest_main: 0.1016\ttest_penalty: -0.0003117\r"
     ]
    },
    {
     "name": "stderr",
     "output_type": "stream",
     "text": [
      "[default |INFO|_base_model.py:264] [57/100]\ttrain_main: 6.944880e-02\ttrain_penalty: -1.171790e-02\ttest_main: 1.016319e-01\ttest_penalty: -3.315067e-04\n"
     ]
    },
    {
     "name": "stdout",
     "output_type": "stream",
     "text": [
      "[99/100]\ttest_main: 0.1013\ttest_penalty: -0.0029122\r"
     ]
    },
    {
     "name": "stderr",
     "output_type": "stream",
     "text": [
      "[default |INFO|_base_model.py:264] [58/100]\ttrain_main: 6.935530e-02\ttrain_penalty: -1.218434e-02\ttest_main: 1.013165e-01\ttest_penalty: -2.912393e-03\n"
     ]
    },
    {
     "name": "stdout",
     "output_type": "stream",
     "text": [
      "[99/100]\ttest_main: 0.1002\ttest_penalty: -0.0020120\r"
     ]
    },
    {
     "name": "stderr",
     "output_type": "stream",
     "text": [
      "[default |INFO|_base_model.py:264] [59/100]\ttrain_main: 6.903148e-02\ttrain_penalty: -1.203029e-02\ttest_main: 1.002173e-01\ttest_penalty: -1.954560e-03\n"
     ]
    },
    {
     "name": "stdout",
     "output_type": "stream",
     "text": [
      "[99/100]\ttest_main: 0.1008\ttest_penalty: -0.0012122\r"
     ]
    },
    {
     "name": "stderr",
     "output_type": "stream",
     "text": [
      "[default |INFO|_base_model.py:264] [60/100]\ttrain_main: 6.875661e-02\ttrain_penalty: -1.222165e-02\ttest_main: 1.008124e-01\ttest_penalty: -1.181884e-03\n"
     ]
    },
    {
     "name": "stdout",
     "output_type": "stream",
     "text": [
      "[99/100]\ttest_main: 0.1006\ttest_penalty: -0.0028121\r"
     ]
    },
    {
     "name": "stderr",
     "output_type": "stream",
     "text": [
      "[default |INFO|_base_model.py:264] [61/100]\ttrain_main: 6.869252e-02\ttrain_penalty: -1.213662e-02\ttest_main: 1.006394e-01\ttest_penalty: -2.806220e-03\n"
     ]
    },
    {
     "name": "stdout",
     "output_type": "stream",
     "text": [
      "[99/100]\ttest_main: 0.1023\ttest_penalty: -0.0000124\r"
     ]
    },
    {
     "name": "stderr",
     "output_type": "stream",
     "text": [
      "[default |INFO|_base_model.py:264] [62/100]\ttrain_main: 6.860682e-02\ttrain_penalty: -1.241593e-02\ttest_main: 1.022790e-01\ttest_penalty: -4.071712e-05\n"
     ]
    },
    {
     "name": "stdout",
     "output_type": "stream",
     "text": [
      "[99/100]\ttest_main: 0.1012\ttest_penalty: -0.0017128\r"
     ]
    },
    {
     "name": "stderr",
     "output_type": "stream",
     "text": [
      "[default |INFO|_base_model.py:264] [63/100]\ttrain_main: 6.845045e-02\ttrain_penalty: -1.280231e-02\ttest_main: 1.012359e-01\ttest_penalty: -1.722870e-03\n"
     ]
    },
    {
     "name": "stdout",
     "output_type": "stream",
     "text": [
      "[91/100]\ttest_main: 0.0987\ttest_penalty: -0.0017123\r"
     ]
    },
    {
     "name": "stderr",
     "output_type": "stream",
     "text": [
      "[default |INFO|_base_model.py:264] [64/100]\ttrain_main: 6.830112e-02\ttrain_penalty: -1.232102e-02\ttest_main: 1.007870e-01\ttest_penalty: -8.599806e-04\n"
     ]
    },
    {
     "name": "stdout",
     "output_type": "stream",
     "text": [
      "[99/100]\ttest_main: 0.1011\ttest_penalty: -0.0031128\r"
     ]
    },
    {
     "name": "stderr",
     "output_type": "stream",
     "text": [
      "[default |INFO|_base_model.py:264] [65/100]\ttrain_main: 6.816790e-02\ttrain_penalty: -1.275790e-02\ttest_main: 1.011213e-01\ttest_penalty: -3.132129e-03\n"
     ]
    },
    {
     "name": "stdout",
     "output_type": "stream",
     "text": [
      "[99/100]\ttest_main: 0.1008\ttest_penalty: -0.0023124\r"
     ]
    },
    {
     "name": "stderr",
     "output_type": "stream",
     "text": [
      "[default |INFO|_base_model.py:264] [66/100]\ttrain_main: 6.805944e-02\ttrain_penalty: -1.242039e-02\ttest_main: 1.007657e-01\ttest_penalty: -2.343102e-03\n"
     ]
    },
    {
     "name": "stdout",
     "output_type": "stream",
     "text": [
      "[99/100]\ttest_main: 0.1009\ttest_penalty: -0.0027131\r"
     ]
    },
    {
     "name": "stderr",
     "output_type": "stream",
     "text": [
      "[default |INFO|_base_model.py:264] [67/100]\ttrain_main: 6.798338e-02\ttrain_penalty: -1.306518e-02\ttest_main: 1.008898e-01\ttest_penalty: -2.682481e-03\n"
     ]
    },
    {
     "name": "stdout",
     "output_type": "stream",
     "text": [
      "[99/100]\ttest_main: 0.1024\ttest_penalty: -0.0026125\r"
     ]
    },
    {
     "name": "stderr",
     "output_type": "stream",
     "text": [
      "[default |INFO|_base_model.py:264] [68/100]\ttrain_main: 6.780649e-02\ttrain_penalty: -1.249977e-02\ttest_main: 1.024015e-01\ttest_penalty: -2.602801e-03\n"
     ]
    },
    {
     "name": "stdout",
     "output_type": "stream",
     "text": [
      "[99/100]\ttest_main: 0.1015\ttest_penalty: -0.0023122\r"
     ]
    },
    {
     "name": "stderr",
     "output_type": "stream",
     "text": [
      "[default |INFO|_base_model.py:264] [69/100]\ttrain_main: 6.783784e-02\ttrain_penalty: -1.218549e-02\ttest_main: 1.015004e-01\ttest_penalty: -2.349381e-03\n"
     ]
    },
    {
     "name": "stdout",
     "output_type": "stream",
     "text": [
      "[99/100]\ttest_main: 0.1004\ttest_penalty: -0.0018127\r"
     ]
    },
    {
     "name": "stderr",
     "output_type": "stream",
     "text": [
      "[default |INFO|_base_model.py:264] [70/100]\ttrain_main: 6.781359e-02\ttrain_penalty: -1.267385e-02\ttest_main: 1.004209e-01\ttest_penalty: -1.786714e-03\n"
     ]
    },
    {
     "name": "stdout",
     "output_type": "stream",
     "text": [
      "[99/100]\ttest_main: 0.1007\ttest_penalty: -0.0017127\r"
     ]
    },
    {
     "name": "stderr",
     "output_type": "stream",
     "text": [
      "[default |INFO|_base_model.py:264] [71/100]\ttrain_main: 6.756078e-02\ttrain_penalty: -1.270482e-02\ttest_main: 1.007393e-01\ttest_penalty: -1.742806e-03\n"
     ]
    },
    {
     "name": "stdout",
     "output_type": "stream",
     "text": [
      "[99/100]\ttest_main: 0.1012\ttest_penalty: -0.0008128\r"
     ]
    },
    {
     "name": "stderr",
     "output_type": "stream",
     "text": [
      "[default |INFO|_base_model.py:264] [72/100]\ttrain_main: 6.749898e-02\ttrain_penalty: -1.275935e-02\ttest_main: 1.011607e-01\ttest_penalty: -7.666826e-04\n"
     ]
    },
    {
     "name": "stdout",
     "output_type": "stream",
     "text": [
      "[99/100]\ttest_main: 0.1000\ttest_penalty: -0.0035129\r"
     ]
    },
    {
     "name": "stderr",
     "output_type": "stream",
     "text": [
      "[default |INFO|_base_model.py:264] [73/100]\ttrain_main: 6.717308e-02\ttrain_penalty: -1.289255e-02\ttest_main: 1.000209e-01\ttest_penalty: -3.510866e-03\n"
     ]
    },
    {
     "name": "stdout",
     "output_type": "stream",
     "text": [
      "[99/100]\ttest_main: 0.0999\ttest_penalty: -0.0020132\r"
     ]
    },
    {
     "name": "stderr",
     "output_type": "stream",
     "text": [
      "[default |INFO|_base_model.py:264] [74/100]\ttrain_main: 6.736045e-02\ttrain_penalty: -1.323771e-02\ttest_main: 9.990380e-02\ttest_penalty: -1.950440e-03\n"
     ]
    },
    {
     "name": "stdout",
     "output_type": "stream",
     "text": [
      "[99/100]\ttest_main: 0.1009\ttest_penalty: -0.0020124\r"
     ]
    },
    {
     "name": "stderr",
     "output_type": "stream",
     "text": [
      "[default |INFO|_base_model.py:264] [75/100]\ttrain_main: 6.710001e-02\ttrain_penalty: -1.237424e-02\ttest_main: 1.009320e-01\ttest_penalty: -1.976299e-03\n"
     ]
    },
    {
     "name": "stdout",
     "output_type": "stream",
     "text": [
      "[99/100]\ttest_main: 0.1006\ttest_penalty: -0.0011126\r"
     ]
    },
    {
     "name": "stderr",
     "output_type": "stream",
     "text": [
      "[default |INFO|_base_model.py:264] [76/100]\ttrain_main: 6.694739e-02\ttrain_penalty: -1.258775e-02\ttest_main: 1.006446e-01\ttest_penalty: -1.106415e-03\n"
     ]
    },
    {
     "name": "stdout",
     "output_type": "stream",
     "text": [
      "[99/100]\ttest_main: 0.1003\ttest_penalty: -0.0022118\r"
     ]
    },
    {
     "name": "stderr",
     "output_type": "stream",
     "text": [
      "[default |INFO|_base_model.py:264] [77/100]\ttrain_main: 6.730476e-02\ttrain_penalty: -1.179459e-02\ttest_main: 1.002954e-01\ttest_penalty: -2.197824e-03\n"
     ]
    },
    {
     "name": "stdout",
     "output_type": "stream",
     "text": [
      "[99/100]\ttest_main: 0.1005\ttest_penalty: -0.0019128\r"
     ]
    },
    {
     "name": "stderr",
     "output_type": "stream",
     "text": [
      "[default |INFO|_base_model.py:264] [78/100]\ttrain_main: 6.716380e-02\ttrain_penalty: -1.280189e-02\ttest_main: 1.005234e-01\ttest_penalty: -1.941152e-03\n"
     ]
    },
    {
     "name": "stdout",
     "output_type": "stream",
     "text": [
      "[99/100]\ttest_main: 0.1000\ttest_penalty: -0.0022128\r"
     ]
    },
    {
     "name": "stderr",
     "output_type": "stream",
     "text": [
      "[default |INFO|_base_model.py:264] [79/100]\ttrain_main: 6.685739e-02\ttrain_penalty: -1.278642e-02\ttest_main: 1.000291e-01\ttest_penalty: -2.170734e-03\n"
     ]
    },
    {
     "name": "stdout",
     "output_type": "stream",
     "text": [
      "[91/100]\ttest_main: 0.0989\ttest_penalty: -0.0051127\r"
     ]
    },
    {
     "name": "stderr",
     "output_type": "stream",
     "text": [
      "[default |INFO|_base_model.py:264] [80/100]\ttrain_main: 6.670183e-02\ttrain_penalty: -1.268263e-02\ttest_main: 1.011293e-01\ttest_penalty: -4.238887e-03\n"
     ]
    },
    {
     "name": "stdout",
     "output_type": "stream",
     "text": [
      "[99/100]\ttest_main: 0.1013\ttest_penalty: -0.0016122\r"
     ]
    },
    {
     "name": "stderr",
     "output_type": "stream",
     "text": [
      "[default |INFO|_base_model.py:264] [81/100]\ttrain_main: 6.690552e-02\ttrain_penalty: -1.218007e-02\ttest_main: 1.013200e-01\ttest_penalty: -1.606359e-03\n"
     ]
    },
    {
     "name": "stdout",
     "output_type": "stream",
     "text": [
      "[86/100]\ttest_main: 0.0978\ttest_penalty: -0.0047126\r"
     ]
    },
    {
     "name": "stderr",
     "output_type": "stream",
     "text": [
      "[default |INFO|_base_model.py:264] [82/100]\ttrain_main: 6.651134e-02\ttrain_penalty: -1.262940e-02\ttest_main: 1.004945e-01\ttest_penalty: -3.285913e-03\n"
     ]
    },
    {
     "name": "stdout",
     "output_type": "stream",
     "text": [
      "[99/100]\ttest_main: 0.1005\ttest_penalty: -0.0027126\r"
     ]
    },
    {
     "name": "stderr",
     "output_type": "stream",
     "text": [
      "[default |INFO|_base_model.py:264] [83/100]\ttrain_main: 6.659850e-02\ttrain_penalty: -1.255311e-02\ttest_main: 1.004867e-01\ttest_penalty: -2.661891e-03\n"
     ]
    },
    {
     "name": "stdout",
     "output_type": "stream",
     "text": [
      "[99/100]\ttest_main: 0.1005\ttest_penalty: -0.0013122\r"
     ]
    },
    {
     "name": "stderr",
     "output_type": "stream",
     "text": [
      "[default |INFO|_base_model.py:264] [84/100]\ttrain_main: 6.639569e-02\ttrain_penalty: -1.224744e-02\ttest_main: 1.004564e-01\ttest_penalty: -1.311460e-03\n"
     ]
    },
    {
     "name": "stdout",
     "output_type": "stream",
     "text": [
      "[99/100]\ttest_main: 0.1003\ttest_penalty: -0.0027126\r"
     ]
    },
    {
     "name": "stderr",
     "output_type": "stream",
     "text": [
      "[default |INFO|_base_model.py:264] [85/100]\ttrain_main: 6.652893e-02\ttrain_penalty: -1.257220e-02\ttest_main: 1.003066e-01\ttest_penalty: -2.726889e-03\n"
     ]
    },
    {
     "name": "stdout",
     "output_type": "stream",
     "text": [
      "[99/100]\ttest_main: 0.1000\ttest_penalty: 0.00022128\r"
     ]
    },
    {
     "name": "stderr",
     "output_type": "stream",
     "text": [
      "[default |INFO|_base_model.py:264] [86/100]\ttrain_main: 6.637815e-02\ttrain_penalty: -1.281349e-02\ttest_main: 9.996379e-02\ttest_penalty: 1.545858e-04\n"
     ]
    },
    {
     "name": "stdout",
     "output_type": "stream",
     "text": [
      "[99/100]\ttest_main: 0.1009\ttest_penalty: -0.0030125\r"
     ]
    },
    {
     "name": "stderr",
     "output_type": "stream",
     "text": [
      "[default |INFO|_base_model.py:264] [87/100]\ttrain_main: 6.628199e-02\ttrain_penalty: -1.252285e-02\ttest_main: 1.009289e-01\ttest_penalty: -3.046346e-03\n"
     ]
    },
    {
     "name": "stdout",
     "output_type": "stream",
     "text": [
      "[99/100]\ttest_main: 0.1011\ttest_penalty: -0.0019127\r"
     ]
    },
    {
     "name": "stderr",
     "output_type": "stream",
     "text": [
      "[default |INFO|_base_model.py:264] [88/100]\ttrain_main: 6.614980e-02\ttrain_penalty: -1.274724e-02\ttest_main: 1.010821e-01\ttest_penalty: -1.943221e-03\n"
     ]
    },
    {
     "name": "stdout",
     "output_type": "stream",
     "text": [
      "[99/100]\ttest_main: 0.0997\ttest_penalty: -0.0033132\r"
     ]
    },
    {
     "name": "stderr",
     "output_type": "stream",
     "text": [
      "[default |INFO|_base_model.py:264] [89/100]\ttrain_main: 6.612288e-02\ttrain_penalty: -1.318646e-02\ttest_main: 9.967999e-02\ttest_penalty: -3.254819e-03\n"
     ]
    },
    {
     "name": "stdout",
     "output_type": "stream",
     "text": [
      "[99/100]\ttest_main: 0.1013\ttest_penalty: -0.0014129\r"
     ]
    },
    {
     "name": "stderr",
     "output_type": "stream",
     "text": [
      "[default |INFO|_base_model.py:264] [90/100]\ttrain_main: 6.621672e-02\ttrain_penalty: -1.292789e-02\ttest_main: 1.013280e-01\ttest_penalty: -1.357059e-03\n"
     ]
    },
    {
     "name": "stdout",
     "output_type": "stream",
     "text": [
      "[99/100]\ttest_main: 0.1008\ttest_penalty: -0.0028126\r"
     ]
    },
    {
     "name": "stderr",
     "output_type": "stream",
     "text": [
      "[default |INFO|_base_model.py:264] [91/100]\ttrain_main: 6.611168e-02\ttrain_penalty: -1.258578e-02\ttest_main: 1.008212e-01\ttest_penalty: -2.817822e-03\n"
     ]
    },
    {
     "name": "stdout",
     "output_type": "stream",
     "text": [
      "[91/100]\ttest_main: 0.0988\ttest_penalty: -0.0041125\r"
     ]
    },
    {
     "name": "stderr",
     "output_type": "stream",
     "text": [
      "[default |INFO|_base_model.py:264] [92/100]\ttrain_main: 6.580645e-02\ttrain_penalty: -1.248124e-02\ttest_main: 1.010769e-01\ttest_penalty: -2.908034e-03\n"
     ]
    },
    {
     "name": "stdout",
     "output_type": "stream",
     "text": [
      "[93/100]\ttest_main: 0.0978\ttest_penalty: -0.0049133\r"
     ]
    },
    {
     "name": "stderr",
     "output_type": "stream",
     "text": [
      "[default |INFO|_base_model.py:264] [93/100]\ttrain_main: 6.601319e-02\ttrain_penalty: -1.327420e-02\ttest_main: 1.002897e-01\ttest_penalty: -4.419651e-03\n"
     ]
    },
    {
     "name": "stdout",
     "output_type": "stream",
     "text": [
      "[93/100]\ttest_main: 0.0968\ttest_penalty: -0.0035127\r"
     ]
    },
    {
     "name": "stderr",
     "output_type": "stream",
     "text": [
      "[default |INFO|_base_model.py:264] [94/100]\ttrain_main: 6.588658e-02\ttrain_penalty: -1.266458e-02\ttest_main: 9.954426e-02\ttest_penalty: -3.074455e-03\n"
     ]
    },
    {
     "name": "stdout",
     "output_type": "stream",
     "text": [
      "[99/100]\ttest_main: 0.0997\ttest_penalty: -0.0005130\r"
     ]
    },
    {
     "name": "stderr",
     "output_type": "stream",
     "text": [
      "[default |INFO|_base_model.py:264] [95/100]\ttrain_main: 6.592800e-02\ttrain_penalty: -1.297476e-02\ttest_main: 9.972614e-02\ttest_penalty: -4.894304e-04\n"
     ]
    },
    {
     "name": "stdout",
     "output_type": "stream",
     "text": [
      "[99/100]\ttest_main: 0.1000\ttest_penalty: -0.0023127\r"
     ]
    },
    {
     "name": "stderr",
     "output_type": "stream",
     "text": [
      "[default |INFO|_base_model.py:264] [96/100]\ttrain_main: 6.574995e-02\ttrain_penalty: -1.269534e-02\ttest_main: 1.000390e-01\ttest_penalty: -2.330894e-03\n"
     ]
    },
    {
     "name": "stdout",
     "output_type": "stream",
     "text": [
      "[93/100]\ttest_main: 0.0996\ttest_penalty: -0.0029130\r"
     ]
    },
    {
     "name": "stderr",
     "output_type": "stream",
     "text": [
      "[default |INFO|_base_model.py:264] [97/100]\ttrain_main: 6.591600e-02\ttrain_penalty: -1.299698e-02\ttest_main: 1.016210e-01\ttest_penalty: -2.092495e-03\n"
     ]
    },
    {
     "name": "stdout",
     "output_type": "stream",
     "text": [
      "[99/100]\ttest_main: 0.0999\ttest_penalty: -0.0025132\r"
     ]
    },
    {
     "name": "stderr",
     "output_type": "stream",
     "text": [
      "[default |INFO|_base_model.py:264] [98/100]\ttrain_main: 6.566608e-02\ttrain_penalty: -1.316236e-02\ttest_main: 9.992061e-02\ttest_penalty: -2.540374e-03\n"
     ]
    },
    {
     "name": "stdout",
     "output_type": "stream",
     "text": [
      "[98/100]\ttest_main: 0.0996\ttest_penalty: -0.0026132\r"
     ]
    },
    {
     "name": "stderr",
     "output_type": "stream",
     "text": [
      "[default |INFO|_base_model.py:264] [99/100]\ttrain_main: 6.554901e-02\ttrain_penalty: -1.321536e-02\ttest_main: 1.000754e-01\ttest_penalty: -2.259092e-03\n"
     ]
    },
    {
     "name": "stdout",
     "output_type": "stream",
     "text": [
      "[99/100]\ttest_main: 0.1011\ttest_penalty: -0.0025130\r"
     ]
    },
    {
     "name": "stderr",
     "output_type": "stream",
     "text": [
      "[default |INFO|_base_model.py:264] [100/100]\ttrain_main: 6.541534e-02\ttrain_penalty: -1.302955e-02\ttest_main: 1.010769e-01\ttest_penalty: -2.547731e-03\n",
      "[default |INFO|_base_model.py:329] Training Finished!\n",
      "[default |INFO|_base_model.py:330] Elapsed time: 2670.291s\n"
     ]
    }
   ],
   "source": [
    "model = WAE_MMD_MNIST(cfg, log, device = device)\n",
    "model.train()\n",
    "# model.train(resume = True)"
   ]
  },
  {
   "cell_type": "markdown",
   "metadata": {},
   "source": [
    "## Model2"
   ]
  },
  {
   "cell_type": "code",
   "execution_count": 3,
   "metadata": {},
   "outputs": [
    {
     "name": "stderr",
     "output_type": "stream",
     "text": [
      "[default |INFO|_base_model.py:25] ------------------------------------------------------------\n",
      "[default |INFO|_base_model.py:27] model_name : WAE_MMD_MNIST\n",
      "[default |INFO|_base_model.py:27] train_data : MNIST\n",
      "[default |INFO|_base_model.py:27] z_sampler : gaus\n",
      "[default |INFO|_base_model.py:27] z_dim : 8\n",
      "[default |INFO|_base_model.py:27] prob_enc : False\n",
      "[default |INFO|_base_model.py:27] encoder_pretrain : False\n",
      "[default |INFO|_base_model.py:27] encoder_pretrain_batch_size : 1000\n",
      "[default |INFO|_base_model.py:27] encoder_pretrain_max_step : 200\n",
      "[default |INFO|_base_model.py:27] lr : 1e-3\n",
      "[default |INFO|_base_model.py:27] beta1 : 0.5\n",
      "[default |INFO|_base_model.py:27] lambda : 10.0\n",
      "[default |INFO|_base_model.py:27] lr_schedule : manual\n",
      "[default |INFO|_base_model.py:27] validate : True\n",
      "[default |INFO|_base_model.py:27] histogram : True\n",
      "[default |INFO|_base_model.py:27] batch_size : 100\n",
      "[default |INFO|_base_model.py:27] epoch : 100\n",
      "[default |INFO|_base_model.py:27] replace : False\n",
      "[default |INFO|_base_model.py:27] iter_per_epoch : None\n",
      "[default |INFO|_base_model.py:27] save_best : False\n",
      "[default |INFO|_base_model.py:30] data_home : ./data/MNIST\n",
      "[default |INFO|_base_model.py:30] tb_logs : ./result/tb_logs/wae_mmd2\n",
      "[default |INFO|_base_model.py:30] save_path : ./result/weights/weight_wae_mmd2.pt\n",
      "[default |INFO|_base_model.py:30] save_state : ./result/states/state_wae_mmd2.pt\n",
      "[default |INFO|_base_model.py:30] save_img_path : ./result/plots/wae_mmd2/\n",
      "[default |INFO|_base_model.py:194] ------------------------------------------------------------\n",
      "[default |INFO|_base_model.py:195] Training Start!\n"
     ]
    },
    {
     "name": "stdout",
     "output_type": "stream",
     "text": [
      "[96/100]\ttest_main: 0.0996\ttest_penalty: -0.0067142\r"
     ]
    },
    {
     "name": "stderr",
     "output_type": "stream",
     "text": [
      "[default |INFO|_base_model.py:264] [96/100]\ttrain_main: 6.624007e-02\ttrain_penalty: -1.421543e-02\ttest_main: 1.013210e-01\ttest_penalty: -6.377993e-03\n"
     ]
    },
    {
     "name": "stdout",
     "output_type": "stream",
     "text": [
      "[94/100]\ttest_main: 0.0976\ttest_penalty: -0.0078145\r"
     ]
    },
    {
     "name": "stderr",
     "output_type": "stream",
     "text": [
      "[default |INFO|_base_model.py:264] [97/100]\ttrain_main: 6.630953e-02\ttrain_penalty: -1.450324e-02\ttest_main: 1.002640e-01\ttest_penalty: -7.520261e-03\n"
     ]
    },
    {
     "name": "stdout",
     "output_type": "stream",
     "text": [
      "[95/100]\ttest_main: 0.0985\ttest_penalty: -0.0075143\r"
     ]
    },
    {
     "name": "stderr",
     "output_type": "stream",
     "text": [
      "[default |INFO|_base_model.py:264] [98/100]\ttrain_main: 6.598208e-02\ttrain_penalty: -1.428867e-02\ttest_main: 1.009932e-01\ttest_penalty: -7.267399e-03\n"
     ]
    },
    {
     "name": "stdout",
     "output_type": "stream",
     "text": [
      "[96/100]\ttest_main: 0.0993\ttest_penalty: -0.0074\r",
      "[97/100]\ttest_main: 0.1004\ttest_penalty: -0.0073\r",
      "[98/100]\ttest_main: 0.1005\ttest_penalty: -0.0072\r",
      "[99/100]\ttest_main: 0.1010\ttest_penalty: -0.0073\r"
     ]
    },
    {
     "name": "stderr",
     "output_type": "stream",
     "text": [
      "Traceback (most recent call last):\n",
      "  File \"/home/zendo/anaconda3/lib/python3.8/multiprocessing/util.py\", line 300, in _run_finalizers\n",
      "    finalizer()\n",
      "  File \"/home/zendo/anaconda3/lib/python3.8/multiprocessing/util.py\", line 224, in __call__\n",
      "    res = self._callback(*self._args, **self._kwargs)\n",
      "  File \"/home/zendo/anaconda3/lib/python3.8/multiprocessing/util.py\", line 133, in _remove_temp_dir\n",
      "    rmtree(tempdir)\n",
      "  File \"/home/zendo/anaconda3/lib/python3.8/shutil.py\", line 719, in rmtree\n",
      "    onerror(os.rmdir, path, sys.exc_info())\n",
      "  File \"/home/zendo/anaconda3/lib/python3.8/shutil.py\", line 717, in rmtree\n",
      "    os.rmdir(path)\n",
      "OSError: [Errno 39] Directory not empty: '/tmp/pymp-cdrfcdov'\n"
     ]
    },
    {
     "name": "stdout",
     "output_type": "stream",
     "text": [
      "[92/100]\ttest_main: 0.0985\ttest_penalty: -0.0055147\r"
     ]
    },
    {
     "name": "stderr",
     "output_type": "stream",
     "text": [
      "[default |INFO|_base_model.py:264] [99/100]\ttrain_main: 6.617705e-02\ttrain_penalty: -1.469314e-02\ttest_main: 1.006672e-01\ttest_penalty: -5.027385e-03\n"
     ]
    },
    {
     "name": "stdout",
     "output_type": "stream",
     "text": [
      "[95/100]\ttest_main: 0.0978\ttest_penalty: -0.0063142\r"
     ]
    },
    {
     "name": "stderr",
     "output_type": "stream",
     "text": [
      "[default |INFO|_base_model.py:264] [100/100]\ttrain_main: 6.616232e-02\ttrain_penalty: -1.423916e-02\ttest_main: 1.004553e-01\ttest_penalty: -6.166091e-03\n"
     ]
    },
    {
     "name": "stdout",
     "output_type": "stream",
     "text": [
      "[96/100]\ttest_main: 0.0986\ttest_penalty: -0.0062\r",
      "[97/100]\ttest_main: 0.0998\ttest_penalty: -0.0061\r",
      "[98/100]\ttest_main: 0.1000\ttest_penalty: -0.0061\r",
      "[99/100]\ttest_main: 0.1005\ttest_penalty: -0.0062\r"
     ]
    },
    {
     "name": "stderr",
     "output_type": "stream",
     "text": [
      "[default |INFO|_base_model.py:329] Training Finished!\n",
      "[default |INFO|_base_model.py:330] Elapsed time: 99.845s\n"
     ]
    }
   ],
   "source": [
    "from model.exp2.train_wae_mmd import WAE_MMD_MNIST\n",
    "\n",
    "cfg = configparser.ConfigParser()\n",
    "cfg.read('./config/train_config_wae_mmd2.cfg')\n",
    "\n",
    "model = WAE_MMD_MNIST(cfg, log, device = device)\n",
    "model.train(resume = True)"
   ]
  },
  {
   "cell_type": "markdown",
   "metadata": {},
   "source": [
    "# CWAE_MMD\n",
    "## Model1"
   ]
  },
  {
   "cell_type": "code",
   "execution_count": 4,
   "metadata": {
    "scrolled": true
   },
   "outputs": [
    {
     "name": "stderr",
     "output_type": "stream",
     "text": [
      "[default |INFO|_base_model.py:25] ------------------------------------------------------------\n",
      "[default |INFO|_base_model.py:27] model_name : CWAE_MMD_MNIST\n",
      "[default |INFO|_base_model.py:27] train_data : MNIST\n",
      "[default |INFO|_base_model.py:27] train_data_label : True\n",
      "[default |INFO|_base_model.py:27] z_sampler : gaus\n",
      "[default |INFO|_base_model.py:27] z_dim : 6\n",
      "[default |INFO|_base_model.py:27] y_sampler : multinomial\n",
      "[default |INFO|_base_model.py:27] y_dim : 10\n",
      "[default |INFO|_base_model.py:27] prob_enc : False\n",
      "[default |INFO|_base_model.py:27] encoder_pretrain : False\n",
      "[default |INFO|_base_model.py:27] encoder_pretrain_batch_size : 1000,\n",
      "[default |INFO|_base_model.py:27] encoder_pretrain_max_step : 200,\n",
      "[default |INFO|_base_model.py:27] lr : 1e-3\n",
      "[default |INFO|_base_model.py:27] beta1 : 0.5\n",
      "[default |INFO|_base_model.py:27] lambda : 10.0\n",
      "[default |INFO|_base_model.py:27] lr_schedule : manual\n",
      "[default |INFO|_base_model.py:27] validate : True\n",
      "[default |INFO|_base_model.py:27] histogram : True\n",
      "[default |INFO|_base_model.py:27] batch_size : 100\n",
      "[default |INFO|_base_model.py:27] epoch : 100\n",
      "[default |INFO|_base_model.py:27] replace : False\n",
      "[default |INFO|_base_model.py:27] iter_per_epoch : None\n",
      "[default |INFO|_base_model.py:27] save_best : False\n",
      "[default |INFO|_base_model.py:30] data_home : ./data/MNIST\n",
      "[default |INFO|_base_model.py:30] tb_logs : ./result/tb_logs/cwae_mmd1\n",
      "[default |INFO|_base_model.py:30] save_path : ./result/weights/weight_cwae_mmd1.pt\n",
      "[default |INFO|_base_model.py:30] save_state : ./result/states/state_cwae_mmd1.pt\n",
      "[default |INFO|_base_model.py:30] save_img_path : ./result/plots/cwae_mmd1/\n",
      "[default |INFO|_base_model.py:645] ------------------------------------------------------------\n",
      "[default |INFO|_base_model.py:646] Training Start!\n"
     ]
    },
    {
     "name": "stdout",
     "output_type": "stream",
     "text": [
      "[79/100]\ttest_main: 0.1045\ttest_penalty: -0.0060108\r"
     ]
    },
    {
     "name": "stderr",
     "output_type": "stream",
     "text": [
      "[default |INFO|_base_model.py:717] [66/100]\ttrain_main: 7.974575e-02\ttrain_penalty: -1.084540e-02\ttest_main: 1.067150e-01\ttest_penalty: -4.142752e-03\n"
     ]
    },
    {
     "name": "stdout",
     "output_type": "stream",
     "text": [
      "[81/100]\ttest_main: 0.1055\ttest_penalty: -0.0030118\r"
     ]
    },
    {
     "name": "stderr",
     "output_type": "stream",
     "text": [
      "[default |INFO|_base_model.py:717] [67/100]\ttrain_main: 7.938467e-02\ttrain_penalty: -1.180314e-02\ttest_main: 1.074513e-01\ttest_penalty: -2.584481e-03\n"
     ]
    },
    {
     "name": "stdout",
     "output_type": "stream",
     "text": [
      "[80/100]\ttest_main: 0.1038\ttest_penalty: -0.0049113\r"
     ]
    },
    {
     "name": "stderr",
     "output_type": "stream",
     "text": [
      "[default |INFO|_base_model.py:717] [68/100]\ttrain_main: 7.940654e-02\ttrain_penalty: -1.134258e-02\ttest_main: 1.058844e-01\ttest_penalty: -3.370924e-03\n"
     ]
    },
    {
     "name": "stdout",
     "output_type": "stream",
     "text": [
      "[80/100]\ttest_main: 0.1044\ttest_penalty: -0.0050111\r"
     ]
    },
    {
     "name": "stderr",
     "output_type": "stream",
     "text": [
      "[default |INFO|_base_model.py:717] [69/100]\ttrain_main: 7.907946e-02\ttrain_penalty: -1.108417e-02\ttest_main: 1.063256e-01\ttest_penalty: -3.340945e-03\n"
     ]
    },
    {
     "name": "stdout",
     "output_type": "stream",
     "text": [
      "[80/100]\ttest_main: 0.1057\ttest_penalty: -0.0053122\r"
     ]
    },
    {
     "name": "stderr",
     "output_type": "stream",
     "text": [
      "[default |INFO|_base_model.py:717] [70/100]\ttrain_main: 7.910164e-02\ttrain_penalty: -1.220097e-02\ttest_main: 1.074898e-01\ttest_penalty: -4.379506e-03\n"
     ]
    },
    {
     "name": "stdout",
     "output_type": "stream",
     "text": [
      "[80/100]\ttest_main: 0.1059\ttest_penalty: -0.0065118\r"
     ]
    },
    {
     "name": "stderr",
     "output_type": "stream",
     "text": [
      "[default |INFO|_base_model.py:717] [71/100]\ttrain_main: 7.878045e-02\ttrain_penalty: -1.180545e-02\ttest_main: 1.076043e-01\ttest_penalty: -4.682679e-03\n"
     ]
    },
    {
     "name": "stdout",
     "output_type": "stream",
     "text": [
      "[80/100]\ttest_main: 0.1040\ttest_penalty: -0.0059116\r"
     ]
    },
    {
     "name": "stderr",
     "output_type": "stream",
     "text": [
      "[default |INFO|_base_model.py:717] [72/100]\ttrain_main: 7.859873e-02\ttrain_penalty: -1.163990e-02\ttest_main: 1.065197e-01\ttest_penalty: -4.052382e-03\n"
     ]
    },
    {
     "name": "stdout",
     "output_type": "stream",
     "text": [
      "[80/100]\ttest_main: 0.1048\ttest_penalty: -0.0056116\r"
     ]
    },
    {
     "name": "stderr",
     "output_type": "stream",
     "text": [
      "[default |INFO|_base_model.py:717] [73/100]\ttrain_main: 7.879234e-02\ttrain_penalty: -1.156229e-02\ttest_main: 1.065360e-01\ttest_penalty: -4.279680e-03\n"
     ]
    },
    {
     "name": "stdout",
     "output_type": "stream",
     "text": [
      "[80/100]\ttest_main: 0.1043\ttest_penalty: -0.0030121\r"
     ]
    },
    {
     "name": "stderr",
     "output_type": "stream",
     "text": [
      "[default |INFO|_base_model.py:717] [74/100]\ttrain_main: 7.842041e-02\ttrain_penalty: -1.214450e-02\ttest_main: 1.064722e-01\ttest_penalty: -1.830478e-03\n"
     ]
    },
    {
     "name": "stdout",
     "output_type": "stream",
     "text": [
      "[80/100]\ttest_main: 0.1038\ttest_penalty: -0.0027114\r"
     ]
    },
    {
     "name": "stderr",
     "output_type": "stream",
     "text": [
      "[default |INFO|_base_model.py:717] [75/100]\ttrain_main: 7.810377e-02\ttrain_penalty: -1.144140e-02\ttest_main: 1.063272e-01\ttest_penalty: -1.721683e-03\n"
     ]
    },
    {
     "name": "stdout",
     "output_type": "stream",
     "text": [
      "[79/100]\ttest_main: 0.1025\ttest_penalty: -0.0055120\r"
     ]
    },
    {
     "name": "stderr",
     "output_type": "stream",
     "text": [
      "[default |INFO|_base_model.py:717] [76/100]\ttrain_main: 7.789233e-02\ttrain_penalty: -1.199583e-02\ttest_main: 1.053085e-01\ttest_penalty: -3.611116e-03\n"
     ]
    },
    {
     "name": "stdout",
     "output_type": "stream",
     "text": [
      "[80/100]\ttest_main: 0.1041\ttest_penalty: -0.0063119\r"
     ]
    },
    {
     "name": "stderr",
     "output_type": "stream",
     "text": [
      "[default |INFO|_base_model.py:717] [77/100]\ttrain_main: 7.786930e-02\ttrain_penalty: -1.194929e-02\ttest_main: 1.063545e-01\ttest_penalty: -3.521872e-03\n"
     ]
    },
    {
     "name": "stdout",
     "output_type": "stream",
     "text": [
      "[80/100]\ttest_main: 0.1035\ttest_penalty: -0.0064122\r"
     ]
    },
    {
     "name": "stderr",
     "output_type": "stream",
     "text": [
      "[default |INFO|_base_model.py:717] [78/100]\ttrain_main: 7.789973e-02\ttrain_penalty: -1.215680e-02\ttest_main: 1.059393e-01\ttest_penalty: -4.165015e-03\n"
     ]
    },
    {
     "name": "stdout",
     "output_type": "stream",
     "text": [
      "[80/100]\ttest_main: 0.1020\ttest_penalty: -0.0035118\r"
     ]
    },
    {
     "name": "stderr",
     "output_type": "stream",
     "text": [
      "[default |INFO|_base_model.py:717] [79/100]\ttrain_main: 7.783664e-02\ttrain_penalty: -1.178715e-02\ttest_main: 1.047103e-01\ttest_penalty: -2.263756e-03\n"
     ]
    },
    {
     "name": "stdout",
     "output_type": "stream",
     "text": [
      "[80/100]\ttest_main: 0.1025\ttest_penalty: -0.0050112\r"
     ]
    },
    {
     "name": "stderr",
     "output_type": "stream",
     "text": [
      "[default |INFO|_base_model.py:717] [80/100]\ttrain_main: 7.756354e-02\ttrain_penalty: -1.121151e-02\ttest_main: 1.053045e-01\ttest_penalty: -2.818928e-03\n"
     ]
    },
    {
     "name": "stdout",
     "output_type": "stream",
     "text": [
      "[80/100]\ttest_main: 0.1030\ttest_penalty: -0.0028114\r"
     ]
    },
    {
     "name": "stderr",
     "output_type": "stream",
     "text": [
      "[default |INFO|_base_model.py:717] [81/100]\ttrain_main: 7.732329e-02\ttrain_penalty: -1.140525e-02\ttest_main: 1.057335e-01\ttest_penalty: -1.387310e-03\n"
     ]
    },
    {
     "name": "stdout",
     "output_type": "stream",
     "text": [
      "[80/100]\ttest_main: 0.1028\ttest_penalty: -0.0012120\r"
     ]
    },
    {
     "name": "stderr",
     "output_type": "stream",
     "text": [
      "[default |INFO|_base_model.py:717] [82/100]\ttrain_main: 7.718665e-02\ttrain_penalty: -1.196095e-02\ttest_main: 1.052171e-01\ttest_penalty: 5.024290e-04\n"
     ]
    },
    {
     "name": "stdout",
     "output_type": "stream",
     "text": [
      "[80/100]\ttest_main: 0.1027\ttest_penalty: -0.0060119\r"
     ]
    },
    {
     "name": "stderr",
     "output_type": "stream",
     "text": [
      "[default |INFO|_base_model.py:717] [83/100]\ttrain_main: 7.725077e-02\ttrain_penalty: -1.192013e-02\ttest_main: 1.048175e-01\ttest_penalty: -4.430223e-03\n"
     ]
    },
    {
     "name": "stdout",
     "output_type": "stream",
     "text": [
      "[80/100]\ttest_main: 0.1027\ttest_penalty: -0.0042119\r"
     ]
    },
    {
     "name": "stderr",
     "output_type": "stream",
     "text": [
      "[default |INFO|_base_model.py:717] [84/100]\ttrain_main: 7.710504e-02\ttrain_penalty: -1.191931e-02\ttest_main: 1.050227e-01\ttest_penalty: -2.835760e-03\n"
     ]
    },
    {
     "name": "stdout",
     "output_type": "stream",
     "text": [
      "[80/100]\ttest_main: 0.1030\ttest_penalty: -0.0054119\r"
     ]
    },
    {
     "name": "stderr",
     "output_type": "stream",
     "text": [
      "[default |INFO|_base_model.py:717] [85/100]\ttrain_main: 7.712694e-02\ttrain_penalty: -1.191040e-02\ttest_main: 1.050255e-01\ttest_penalty: -3.898005e-03\n"
     ]
    },
    {
     "name": "stdout",
     "output_type": "stream",
     "text": [
      "[80/100]\ttest_main: 0.1041\ttest_penalty: -0.0057119\r"
     ]
    },
    {
     "name": "stderr",
     "output_type": "stream",
     "text": [
      "[default |INFO|_base_model.py:717] [86/100]\ttrain_main: 7.685544e-02\ttrain_penalty: -1.194347e-02\ttest_main: 1.060218e-01\ttest_penalty: -4.002910e-03\n"
     ]
    },
    {
     "name": "stdout",
     "output_type": "stream",
     "text": [
      "[80/100]\ttest_main: 0.1032\ttest_penalty: -0.0040115\r"
     ]
    },
    {
     "name": "stderr",
     "output_type": "stream",
     "text": [
      "[default |INFO|_base_model.py:717] [87/100]\ttrain_main: 7.679544e-02\ttrain_penalty: -1.146181e-02\ttest_main: 1.053889e-01\ttest_penalty: -2.853508e-03\n"
     ]
    },
    {
     "name": "stdout",
     "output_type": "stream",
     "text": [
      "[80/100]\ttest_main: 0.1051\ttest_penalty: -0.0058118\r"
     ]
    },
    {
     "name": "stderr",
     "output_type": "stream",
     "text": [
      "[default |INFO|_base_model.py:717] [88/100]\ttrain_main: 7.676167e-02\ttrain_penalty: -1.181987e-02\ttest_main: 1.071370e-01\ttest_penalty: -3.788691e-03\n"
     ]
    },
    {
     "name": "stdout",
     "output_type": "stream",
     "text": [
      "[99/100]\ttest_main: 0.1062\ttest_penalty: -0.0015114\r"
     ]
    },
    {
     "name": "stderr",
     "output_type": "stream",
     "text": [
      "[default |INFO|_base_model.py:717] [89/100]\ttrain_main: 7.683401e-02\ttrain_penalty: -1.139946e-02\ttest_main: 1.062111e-01\ttest_penalty: -1.488967e-03\n"
     ]
    },
    {
     "name": "stdout",
     "output_type": "stream",
     "text": [
      "[99/100]\ttest_main: 0.1065\ttest_penalty: -0.0050120\r"
     ]
    },
    {
     "name": "stderr",
     "output_type": "stream",
     "text": [
      "[default |INFO|_base_model.py:717] [90/100]\ttrain_main: 7.627276e-02\ttrain_penalty: -1.195745e-02\ttest_main: 1.065327e-01\ttest_penalty: -5.009623e-03\n"
     ]
    },
    {
     "name": "stdout",
     "output_type": "stream",
     "text": [
      "[80/100]\ttest_main: 0.1017\ttest_penalty: -0.0025119\r"
     ]
    },
    {
     "name": "stderr",
     "output_type": "stream",
     "text": [
      "[default |INFO|_base_model.py:717] [91/100]\ttrain_main: 7.637861e-02\ttrain_penalty: -1.189761e-02\ttest_main: 1.046280e-01\ttest_penalty: -1.337504e-03\n"
     ]
    },
    {
     "name": "stdout",
     "output_type": "stream",
     "text": [
      "[99/100]\ttest_main: 0.1061\ttest_penalty: -0.0039120\r"
     ]
    },
    {
     "name": "stderr",
     "output_type": "stream",
     "text": [
      "[default |INFO|_base_model.py:717] [92/100]\ttrain_main: 7.630020e-02\ttrain_penalty: -1.201841e-02\ttest_main: 1.060947e-01\ttest_penalty: -3.940802e-03\n"
     ]
    },
    {
     "name": "stdout",
     "output_type": "stream",
     "text": [
      "[80/100]\ttest_main: 0.1034\ttest_penalty: -0.0060122\r"
     ]
    },
    {
     "name": "stderr",
     "output_type": "stream",
     "text": [
      "[default |INFO|_base_model.py:717] [93/100]\ttrain_main: 7.627976e-02\ttrain_penalty: -1.217329e-02\ttest_main: 1.056544e-01\ttest_penalty: -4.899964e-03\n"
     ]
    },
    {
     "name": "stdout",
     "output_type": "stream",
     "text": [
      "[80/100]\ttest_main: 0.1030\ttest_penalty: -0.0055120\r"
     ]
    },
    {
     "name": "stderr",
     "output_type": "stream",
     "text": [
      "[default |INFO|_base_model.py:717] [94/100]\ttrain_main: 7.615728e-02\ttrain_penalty: -1.200350e-02\ttest_main: 1.054908e-01\ttest_penalty: -3.980012e-03\n"
     ]
    },
    {
     "name": "stdout",
     "output_type": "stream",
     "text": [
      "[99/100]\ttest_main: 0.1044\ttest_penalty: -0.0031120\r"
     ]
    },
    {
     "name": "stderr",
     "output_type": "stream",
     "text": [
      "[default |INFO|_base_model.py:717] [95/100]\ttrain_main: 7.592803e-02\ttrain_penalty: -1.200251e-02\ttest_main: 1.044059e-01\ttest_penalty: -3.051887e-03\n"
     ]
    },
    {
     "name": "stdout",
     "output_type": "stream",
     "text": [
      "[80/100]\ttest_main: 0.1025\ttest_penalty: -0.0047120\r"
     ]
    },
    {
     "name": "stderr",
     "output_type": "stream",
     "text": [
      "[default |INFO|_base_model.py:717] [96/100]\ttrain_main: 7.569400e-02\ttrain_penalty: -1.198302e-02\ttest_main: 1.048754e-01\ttest_penalty: -3.241687e-03\n"
     ]
    },
    {
     "name": "stdout",
     "output_type": "stream",
     "text": [
      "[80/100]\ttest_main: 0.1027\ttest_penalty: -0.0058123\r"
     ]
    },
    {
     "name": "stderr",
     "output_type": "stream",
     "text": [
      "[default |INFO|_base_model.py:717] [97/100]\ttrain_main: 7.587546e-02\ttrain_penalty: -1.229684e-02\ttest_main: 1.051233e-01\ttest_penalty: -3.825378e-03\n"
     ]
    },
    {
     "name": "stdout",
     "output_type": "stream",
     "text": [
      "[80/100]\ttest_main: 0.1022\ttest_penalty: -0.0034112\r"
     ]
    },
    {
     "name": "stderr",
     "output_type": "stream",
     "text": [
      "[default |INFO|_base_model.py:717] [98/100]\ttrain_main: 7.586883e-02\ttrain_penalty: -1.121976e-02\ttest_main: 1.046569e-01\ttest_penalty: -2.581892e-03\n"
     ]
    },
    {
     "name": "stdout",
     "output_type": "stream",
     "text": [
      "[99/100]\ttest_main: 0.1061\ttest_penalty: -0.0041122\r"
     ]
    },
    {
     "name": "stderr",
     "output_type": "stream",
     "text": [
      "[default |INFO|_base_model.py:717] [99/100]\ttrain_main: 7.582000e-02\ttrain_penalty: -1.215796e-02\ttest_main: 1.061392e-01\ttest_penalty: -4.062643e-03\n"
     ]
    },
    {
     "name": "stdout",
     "output_type": "stream",
     "text": [
      "[99/100]\ttest_main: 0.1054\ttest_penalty: -0.0032122\r"
     ]
    },
    {
     "name": "stderr",
     "output_type": "stream",
     "text": [
      "[default |INFO|_base_model.py:717] [100/100]\ttrain_main: 7.572144e-02\ttrain_penalty: -1.221197e-02\ttest_main: 1.053862e-01\ttest_penalty: -3.234072e-03\n",
      "[default |INFO|_base_model.py:783] Training Finished!\n",
      "[default |INFO|_base_model.py:784] Elapsed time: 535.429s\n"
     ]
    }
   ],
   "source": [
    "from model.exp1.train_cwae_mmd import CWAE_MMD_MNIST\n",
    "\n",
    "cfg = configparser.ConfigParser()\n",
    "cfg.read('./config/train_config_cwae_mmd1.cfg')\n",
    "\n",
    "model = CWAE_MMD_MNIST(cfg, log, device = device)\n",
    "model.train(resume = True)"
   ]
  },
  {
   "cell_type": "markdown",
   "metadata": {},
   "source": [
    "## Model2"
   ]
  },
  {
   "cell_type": "code",
   "execution_count": 7,
   "metadata": {},
   "outputs": [
    {
     "name": "stderr",
     "output_type": "stream",
     "text": [
      "[default |INFO|_base_model.py:25] ------------------------------------------------------------\n",
      "[default |INFO|_base_model.py:27] model_name : CWAE_MMD_MNIST\n",
      "[default |INFO|_base_model.py:27] train_data : MNIST\n",
      "[default |INFO|_base_model.py:27] train_data_label : True\n",
      "[default |INFO|_base_model.py:27] z_sampler : gaus\n",
      "[default |INFO|_base_model.py:27] z_dim : 6\n",
      "[default |INFO|_base_model.py:27] y_sampler : multinomial\n",
      "[default |INFO|_base_model.py:27] y_dim : 10\n",
      "[default |INFO|_base_model.py:27] prob_enc : False\n",
      "[default |INFO|_base_model.py:27] encoder_pretrain : False\n",
      "[default |INFO|_base_model.py:27] encoder_pretrain_batch_size : 1000,\n",
      "[default |INFO|_base_model.py:27] encoder_pretrain_max_step : 200,\n",
      "[default |INFO|_base_model.py:27] lr : 1e-3\n",
      "[default |INFO|_base_model.py:27] beta1 : 0.5\n",
      "[default |INFO|_base_model.py:27] lambda : 10.0\n",
      "[default |INFO|_base_model.py:27] lr_schedule : manual\n",
      "[default |INFO|_base_model.py:27] validate : True\n",
      "[default |INFO|_base_model.py:27] histogram : True\n",
      "[default |INFO|_base_model.py:27] batch_size : 100\n",
      "[default |INFO|_base_model.py:27] epoch : 100\n",
      "[default |INFO|_base_model.py:27] replace : False\n",
      "[default |INFO|_base_model.py:27] iter_per_epoch : None\n",
      "[default |INFO|_base_model.py:27] save_best : False\n",
      "[default |INFO|_base_model.py:30] data_home : ./data/MNIST\n",
      "[default |INFO|_base_model.py:30] tb_logs : ./result/tb_logs/cwae_mmd2\n",
      "[default |INFO|_base_model.py:30] save_path : ./result/weights/weight_cwae_mmd2.pt\n",
      "[default |INFO|_base_model.py:30] save_state : ./result/states/state_cwae_mmd2.pt\n",
      "[default |INFO|_base_model.py:30] save_img_path : ./result/plots/cwae_mmd2/\n",
      "[default |INFO|_base_model.py:645] ------------------------------------------------------------\n",
      "[default |INFO|_base_model.py:646] Training Start!\n"
     ]
    },
    {
     "name": "stdout",
     "output_type": "stream",
     "text": [
      "[99/100]\ttest_main: 0.2043\ttest_penalty: 0.4246384\r"
     ]
    },
    {
     "name": "stderr",
     "output_type": "stream",
     "text": [
      "[default |INFO|_base_model.py:717] [1/100]\ttrain_main: 2.369384e-01\ttrain_penalty: 5.384076e-01\ttest_main: 2.042701e-01\ttest_penalty: 4.246064e-01\n"
     ]
    },
    {
     "name": "stdout",
     "output_type": "stream",
     "text": [
      "[91/100]\ttest_main: 0.2004\ttest_penalty: 0.3685800\r"
     ]
    },
    {
     "name": "stderr",
     "output_type": "stream",
     "text": [
      "[default |INFO|_base_model.py:717] [2/100]\ttrain_main: 1.996969e-01\ttrain_penalty: 3.800008e-01\ttest_main: 1.999270e-01\ttest_penalty: 3.705807e-01\n"
     ]
    },
    {
     "name": "stdout",
     "output_type": "stream",
     "text": [
      "[99/100]\ttest_main: 0.2016\ttest_penalty: 0.3527504\r"
     ]
    },
    {
     "name": "stderr",
     "output_type": "stream",
     "text": [
      "[default |INFO|_base_model.py:717] [3/100]\ttrain_main: 1.999408e-01\ttrain_penalty: 3.503654e-01\ttest_main: 2.016199e-01\ttest_penalty: 3.526551e-01\n"
     ]
    },
    {
     "name": "stdout",
     "output_type": "stream",
     "text": [
      "[99/100]\ttest_main: 0.2012\ttest_penalty: 0.3506403\r"
     ]
    },
    {
     "name": "stderr",
     "output_type": "stream",
     "text": [
      "[default |INFO|_base_model.py:717] [4/100]\ttrain_main: 2.033576e-01\ttrain_penalty: 3.402830e-01\ttest_main: 2.012371e-01\ttest_penalty: 3.505803e-01\n"
     ]
    },
    {
     "name": "stdout",
     "output_type": "stream",
     "text": [
      "[99/100]\ttest_main: 0.2000\ttest_penalty: 0.3463327\r"
     ]
    },
    {
     "name": "stderr",
     "output_type": "stream",
     "text": [
      "[default |INFO|_base_model.py:717] [5/100]\ttrain_main: 2.008930e-01\ttrain_penalty: 3.327348e-01\ttest_main: 1.999501e-01\ttest_penalty: 3.462910e-01\n"
     ]
    },
    {
     "name": "stdout",
     "output_type": "stream",
     "text": [
      "[90/100]\ttest_main: 0.2003\ttest_penalty: 0.3308278\r"
     ]
    },
    {
     "name": "stderr",
     "output_type": "stream",
     "text": [
      "[default |INFO|_base_model.py:717] [6/100]\ttrain_main: 1.993528e-01\ttrain_penalty: 3.278293e-01\ttest_main: 1.998042e-01\ttest_penalty: 3.311196e-01\n"
     ]
    },
    {
     "name": "stdout",
     "output_type": "stream",
     "text": [
      "[97/100]\ttest_main: 0.1982\ttest_penalty: 0.3370242\r"
     ]
    },
    {
     "name": "stderr",
     "output_type": "stream",
     "text": [
      "[default |INFO|_base_model.py:717] [7/100]\ttrain_main: 1.970256e-01\ttrain_penalty: 3.242369e-01\ttest_main: 1.978417e-01\ttest_penalty: 3.364239e-01\n"
     ]
    },
    {
     "name": "stdout",
     "output_type": "stream",
     "text": [
      "[96/100]\ttest_main: 0.1983\ttest_penalty: 0.3306200\r"
     ]
    },
    {
     "name": "stderr",
     "output_type": "stream",
     "text": [
      "[default |INFO|_base_model.py:717] [8/100]\ttrain_main: 1.960969e-01\ttrain_penalty: 3.200306e-01\ttest_main: 1.982817e-01\ttest_penalty: 3.318467e-01\n"
     ]
    },
    {
     "name": "stdout",
     "output_type": "stream",
     "text": [
      "[90/100]\ttest_main: 0.1956\ttest_penalty: 0.3242162\r"
     ]
    },
    {
     "name": "stderr",
     "output_type": "stream",
     "text": [
      "[default |INFO|_base_model.py:717] [9/100]\ttrain_main: 1.945560e-01\ttrain_penalty: 3.161529e-01\ttest_main: 1.953383e-01\ttest_penalty: 3.274733e-01\n"
     ]
    },
    {
     "name": "stdout",
     "output_type": "stream",
     "text": [
      "[99/100]\ttest_main: 0.1960\ttest_penalty: 0.3265146\r"
     ]
    },
    {
     "name": "stderr",
     "output_type": "stream",
     "text": [
      "[default |INFO|_base_model.py:717] [10/100]\ttrain_main: 1.948425e-01\ttrain_penalty: 3.146133e-01\ttest_main: 1.959829e-01\ttest_penalty: 3.265176e-01\n"
     ]
    },
    {
     "name": "stdout",
     "output_type": "stream",
     "text": [
      "[90/100]\ttest_main: 0.1934\ttest_penalty: 0.2210985\r"
     ]
    },
    {
     "name": "stderr",
     "output_type": "stream",
     "text": [
      "[default |INFO|_base_model.py:717] [11/100]\ttrain_main: 1.932550e-01\ttrain_penalty: 2.985464e-01\ttest_main: 1.935935e-01\ttest_penalty: 2.219091e-01\n"
     ]
    },
    {
     "name": "stdout",
     "output_type": "stream",
     "text": [
      "[90/100]\ttest_main: 0.1849\ttest_penalty: 0.1658714\r"
     ]
    },
    {
     "name": "stderr",
     "output_type": "stream",
     "text": [
      "[default |INFO|_base_model.py:717] [12/100]\ttrain_main: 1.858162e-01\ttrain_penalty: 1.713639e-01\ttest_main: 1.848809e-01\ttest_penalty: 1.669326e-01\n"
     ]
    },
    {
     "name": "stdout",
     "output_type": "stream",
     "text": [
      "[90/100]\ttest_main: 0.1778\ttest_penalty: 0.0992175\r"
     ]
    },
    {
     "name": "stderr",
     "output_type": "stream",
     "text": [
      "[default |INFO|_base_model.py:717] [13/100]\ttrain_main: 1.775722e-01\ttrain_penalty: 1.174531e-01\ttest_main: 1.775397e-01\ttest_penalty: 9.981040e-02\n"
     ]
    },
    {
     "name": "stdout",
     "output_type": "stream",
     "text": [
      "[91/100]\ttest_main: 0.1741\ttest_penalty: 0.0930837\r"
     ]
    },
    {
     "name": "stderr",
     "output_type": "stream",
     "text": [
      "[default |INFO|_base_model.py:717] [14/100]\ttrain_main: 1.687338e-01\ttrain_penalty: 8.365243e-02\ttest_main: 1.738606e-01\ttest_penalty: 9.274929e-02\n"
     ]
    },
    {
     "name": "stdout",
     "output_type": "stream",
     "text": [
      "[90/100]\ttest_main: 0.1654\ttest_penalty: 0.0549615\r"
     ]
    },
    {
     "name": "stderr",
     "output_type": "stream",
     "text": [
      "[default |INFO|_base_model.py:717] [15/100]\ttrain_main: 1.625435e-01\ttrain_penalty: 6.151659e-02\ttest_main: 1.657268e-01\ttest_penalty: 5.692331e-02\n"
     ]
    },
    {
     "name": "stdout",
     "output_type": "stream",
     "text": [
      "[92/100]\ttest_main: 0.1598\ttest_penalty: 0.0455404\r"
     ]
    },
    {
     "name": "stderr",
     "output_type": "stream",
     "text": [
      "[default |INFO|_base_model.py:717] [16/100]\ttrain_main: 1.532372e-01\ttrain_penalty: 4.043642e-02\ttest_main: 1.600197e-01\ttest_penalty: 4.610645e-02\n"
     ]
    },
    {
     "name": "stdout",
     "output_type": "stream",
     "text": [
      "[90/100]\ttest_main: 0.1527\ttest_penalty: 0.0215288\r"
     ]
    },
    {
     "name": "stderr",
     "output_type": "stream",
     "text": [
      "[default |INFO|_base_model.py:717] [17/100]\ttrain_main: 1.459489e-01\ttrain_penalty: 2.881955e-02\ttest_main: 1.528741e-01\ttest_penalty: 2.171902e-02\n"
     ]
    },
    {
     "name": "stdout",
     "output_type": "stream",
     "text": [
      "[92/100]\ttest_main: 0.1463\ttest_penalty: 0.0167121\r"
     ]
    },
    {
     "name": "stderr",
     "output_type": "stream",
     "text": [
      "[default |INFO|_base_model.py:717] [18/100]\ttrain_main: 1.373924e-01\ttrain_penalty: 1.209645e-02\ttest_main: 1.465893e-01\ttest_penalty: 1.717484e-02\n"
     ]
    },
    {
     "name": "stdout",
     "output_type": "stream",
     "text": [
      "[91/100]\ttest_main: 0.1449\ttest_penalty: 0.0156093\r"
     ]
    },
    {
     "name": "stderr",
     "output_type": "stream",
     "text": [
      "[default |INFO|_base_model.py:717] [19/100]\ttrain_main: 1.320202e-01\ttrain_penalty: 9.280408e-03\ttest_main: 1.450578e-01\ttest_penalty: 1.587150e-02\n"
     ]
    },
    {
     "name": "stdout",
     "output_type": "stream",
     "text": [
      "[99/100]\ttest_main: 0.1414\ttest_penalty: 0.0148094\r"
     ]
    },
    {
     "name": "stderr",
     "output_type": "stream",
     "text": [
      "[default |INFO|_base_model.py:717] [20/100]\ttrain_main: 1.285201e-01\ttrain_penalty: 9.352813e-03\ttest_main: 1.414170e-01\ttest_penalty: 1.475656e-02\n"
     ]
    },
    {
     "name": "stdout",
     "output_type": "stream",
     "text": [
      "[91/100]\ttest_main: 0.1399\ttest_penalty: 0.0152080\r"
     ]
    },
    {
     "name": "stderr",
     "output_type": "stream",
     "text": [
      "[default |INFO|_base_model.py:717] [21/100]\ttrain_main: 1.252348e-01\ttrain_penalty: 7.959692e-03\ttest_main: 1.400241e-01\ttest_penalty: 1.583838e-02\n"
     ]
    },
    {
     "name": "stdout",
     "output_type": "stream",
     "text": [
      "[92/100]\ttest_main: 0.1370\ttest_penalty: 0.0146074\r"
     ]
    },
    {
     "name": "stderr",
     "output_type": "stream",
     "text": [
      "[default |INFO|_base_model.py:717] [22/100]\ttrain_main: 1.229406e-01\ttrain_penalty: 7.379022e-03\ttest_main: 1.373477e-01\ttest_penalty: 1.441505e-02\n"
     ]
    },
    {
     "name": "stdout",
     "output_type": "stream",
     "text": [
      "[93/100]\ttest_main: 0.1359\ttest_penalty: 0.0070162\r"
     ]
    },
    {
     "name": "stderr",
     "output_type": "stream",
     "text": [
      "[default |INFO|_base_model.py:717] [23/100]\ttrain_main: 1.204744e-01\ttrain_penalty: 6.163855e-03\ttest_main: 1.363322e-01\ttest_penalty: 7.481771e-03\n"
     ]
    },
    {
     "name": "stdout",
     "output_type": "stream",
     "text": [
      "[90/100]\ttest_main: 0.1305\ttest_penalty: 0.00264050\r"
     ]
    },
    {
     "name": "stderr",
     "output_type": "stream",
     "text": [
      "[default |INFO|_base_model.py:717] [24/100]\ttrain_main: 1.172321e-01\ttrain_penalty: -4.952914e-03\ttest_main: 1.308868e-01\ttest_penalty: 3.260388e-03\n"
     ]
    },
    {
     "name": "stdout",
     "output_type": "stream",
     "text": [
      "[91/100]\ttest_main: 0.1279\ttest_penalty: 0.00051081\r"
     ]
    },
    {
     "name": "stderr",
     "output_type": "stream",
     "text": [
      "[default |INFO|_base_model.py:717] [25/100]\ttrain_main: 1.129325e-01\ttrain_penalty: -8.092413e-03\ttest_main: 1.280545e-01\ttest_penalty: 9.611034e-04\n"
     ]
    },
    {
     "name": "stdout",
     "output_type": "stream",
     "text": [
      "[99/100]\ttest_main: 0.1251\ttest_penalty: -0.0031091\r"
     ]
    },
    {
     "name": "stderr",
     "output_type": "stream",
     "text": [
      "[default |INFO|_base_model.py:717] [26/100]\ttrain_main: 1.096224e-01\ttrain_penalty: -9.126742e-03\ttest_main: 1.250798e-01\ttest_penalty: -3.145866e-03\n"
     ]
    },
    {
     "name": "stdout",
     "output_type": "stream",
     "text": [
      "[99/100]\ttest_main: 0.1235\ttest_penalty: -0.0036104\r"
     ]
    },
    {
     "name": "stderr",
     "output_type": "stream",
     "text": [
      "[default |INFO|_base_model.py:717] [27/100]\ttrain_main: 1.066802e-01\ttrain_penalty: -1.041406e-02\ttest_main: 1.234668e-01\ttest_penalty: -3.641996e-03\n"
     ]
    },
    {
     "name": "stdout",
     "output_type": "stream",
     "text": [
      "[90/100]\ttest_main: 0.1201\ttest_penalty: -0.0044106\r"
     ]
    },
    {
     "name": "stderr",
     "output_type": "stream",
     "text": [
      "[default |INFO|_base_model.py:717] [28/100]\ttrain_main: 1.041682e-01\ttrain_penalty: -1.056817e-02\ttest_main: 1.210605e-01\ttest_penalty: -3.494840e-03\n"
     ]
    },
    {
     "name": "stdout",
     "output_type": "stream",
     "text": [
      "[91/100]\ttest_main: 0.1205\ttest_penalty: -0.0040100\r"
     ]
    },
    {
     "name": "stderr",
     "output_type": "stream",
     "text": [
      "[default |INFO|_base_model.py:717] [29/100]\ttrain_main: 1.024138e-01\ttrain_penalty: -1.004728e-02\ttest_main: 1.208504e-01\ttest_penalty: -3.861260e-03\n"
     ]
    },
    {
     "name": "stdout",
     "output_type": "stream",
     "text": [
      "[90/100]\ttest_main: 0.1196\ttest_penalty: -0.0053106\r"
     ]
    },
    {
     "name": "stderr",
     "output_type": "stream",
     "text": [
      "[default |INFO|_base_model.py:717] [30/100]\ttrain_main: 1.006249e-01\ttrain_penalty: -1.056240e-02\ttest_main: 1.201664e-01\ttest_penalty: -4.760256e-03\n"
     ]
    },
    {
     "name": "stdout",
     "output_type": "stream",
     "text": [
      "[90/100]\ttest_main: 0.1180\ttest_penalty: -0.0051106\r"
     ]
    },
    {
     "name": "stderr",
     "output_type": "stream",
     "text": [
      "[default |INFO|_base_model.py:717] [31/100]\ttrain_main: 9.908184e-02\ttrain_penalty: -1.059720e-02\ttest_main: 1.186140e-01\ttest_penalty: -4.412518e-03\n"
     ]
    },
    {
     "name": "stdout",
     "output_type": "stream",
     "text": [
      "[92/100]\ttest_main: 0.1176\ttest_penalty: -0.0031115\r"
     ]
    },
    {
     "name": "stderr",
     "output_type": "stream",
     "text": [
      "[default |INFO|_base_model.py:717] [32/100]\ttrain_main: 9.797441e-02\ttrain_penalty: -1.145290e-02\ttest_main: 1.181865e-01\ttest_penalty: -2.669177e-03\n"
     ]
    },
    {
     "name": "stdout",
     "output_type": "stream",
     "text": [
      "[99/100]\ttest_main: 0.1173\ttest_penalty: -0.0020112\r"
     ]
    },
    {
     "name": "stderr",
     "output_type": "stream",
     "text": [
      "[default |INFO|_base_model.py:717] [33/100]\ttrain_main: 9.687097e-02\ttrain_penalty: -1.117896e-02\ttest_main: 1.172578e-01\ttest_penalty: -2.001133e-03\n"
     ]
    },
    {
     "name": "stdout",
     "output_type": "stream",
     "text": [
      "[91/100]\ttest_main: 0.1174\ttest_penalty: -0.0036110\r"
     ]
    },
    {
     "name": "stderr",
     "output_type": "stream",
     "text": [
      "[default |INFO|_base_model.py:717] [34/100]\ttrain_main: 9.600076e-02\ttrain_penalty: -1.095884e-02\ttest_main: 1.177489e-01\ttest_penalty: -3.229351e-03\n"
     ]
    },
    {
     "name": "stdout",
     "output_type": "stream",
     "text": [
      "[91/100]\ttest_main: 0.1149\ttest_penalty: -0.0035111\r"
     ]
    },
    {
     "name": "stderr",
     "output_type": "stream",
     "text": [
      "[default |INFO|_base_model.py:717] [35/100]\ttrain_main: 9.490869e-02\ttrain_penalty: -1.108569e-02\ttest_main: 1.155332e-01\ttest_penalty: -3.476653e-03\n"
     ]
    },
    {
     "name": "stdout",
     "output_type": "stream",
     "text": [
      "[86/100]\ttest_main: 0.1133\ttest_penalty: -0.0050109\r"
     ]
    },
    {
     "name": "stderr",
     "output_type": "stream",
     "text": [
      "[default |INFO|_base_model.py:717] [36/100]\ttrain_main: 9.415507e-02\ttrain_penalty: -1.094921e-02\ttest_main: 1.144796e-01\ttest_penalty: -4.423084e-03\n"
     ]
    },
    {
     "name": "stdout",
     "output_type": "stream",
     "text": [
      "[91/100]\ttest_main: 0.1126\ttest_penalty: -0.0058116\r"
     ]
    },
    {
     "name": "stderr",
     "output_type": "stream",
     "text": [
      "[default |INFO|_base_model.py:717] [37/100]\ttrain_main: 9.318507e-02\ttrain_penalty: -1.164155e-02\ttest_main: 1.135037e-01\ttest_penalty: -5.553813e-03\n"
     ]
    },
    {
     "name": "stdout",
     "output_type": "stream",
     "text": [
      "[94/100]\ttest_main: 0.1139\ttest_penalty: -0.0063109\r"
     ]
    },
    {
     "name": "stderr",
     "output_type": "stream",
     "text": [
      "[default |INFO|_base_model.py:717] [38/100]\ttrain_main: 9.252218e-02\ttrain_penalty: -1.085139e-02\ttest_main: 1.148042e-01\ttest_penalty: -5.911407e-03\n"
     ]
    },
    {
     "name": "stdout",
     "output_type": "stream",
     "text": [
      "[94/100]\ttest_main: 0.1135\ttest_penalty: -0.0049114\r"
     ]
    },
    {
     "name": "stderr",
     "output_type": "stream",
     "text": [
      "[default |INFO|_base_model.py:717] [39/100]\ttrain_main: 9.196424e-02\ttrain_penalty: -1.138630e-02\ttest_main: 1.146102e-01\ttest_penalty: -4.607735e-03\n"
     ]
    },
    {
     "name": "stdout",
     "output_type": "stream",
     "text": [
      "[91/100]\ttest_main: 0.1121\ttest_penalty: -0.0063112\r"
     ]
    },
    {
     "name": "stderr",
     "output_type": "stream",
     "text": [
      "[default |INFO|_base_model.py:717] [40/100]\ttrain_main: 9.140655e-02\ttrain_penalty: -1.115885e-02\ttest_main: 1.131160e-01\ttest_penalty: -5.465808e-03\n"
     ]
    },
    {
     "name": "stdout",
     "output_type": "stream",
     "text": [
      "[99/100]\ttest_main: 0.1129\ttest_penalty: -0.0053118\r"
     ]
    },
    {
     "name": "stderr",
     "output_type": "stream",
     "text": [
      "[default |INFO|_base_model.py:717] [41/100]\ttrain_main: 9.048435e-02\ttrain_penalty: -1.180381e-02\ttest_main: 1.129172e-01\ttest_penalty: -5.260024e-03\n"
     ]
    },
    {
     "name": "stdout",
     "output_type": "stream",
     "text": [
      "[99/100]\ttest_main: 0.1123\ttest_penalty: -0.0035116\r"
     ]
    },
    {
     "name": "stderr",
     "output_type": "stream",
     "text": [
      "[default |INFO|_base_model.py:717] [42/100]\ttrain_main: 8.984326e-02\ttrain_penalty: -1.157580e-02\ttest_main: 1.122955e-01\ttest_penalty: -3.499198e-03\n"
     ]
    },
    {
     "name": "stdout",
     "output_type": "stream",
     "text": [
      "[92/100]\ttest_main: 0.1111\ttest_penalty: -0.0062115\r"
     ]
    },
    {
     "name": "stderr",
     "output_type": "stream",
     "text": [
      "[default |INFO|_base_model.py:717] [43/100]\ttrain_main: 8.939459e-02\ttrain_penalty: -1.145748e-02\ttest_main: 1.123814e-01\ttest_penalty: -5.668197e-03\n"
     ]
    },
    {
     "name": "stdout",
     "output_type": "stream",
     "text": [
      "[99/100]\ttest_main: 0.1124\ttest_penalty: -0.0053117\r"
     ]
    },
    {
     "name": "stderr",
     "output_type": "stream",
     "text": [
      "[default |INFO|_base_model.py:717] [44/100]\ttrain_main: 8.875950e-02\ttrain_penalty: -1.171052e-02\ttest_main: 1.123876e-01\ttest_penalty: -5.308595e-03\n"
     ]
    },
    {
     "name": "stdout",
     "output_type": "stream",
     "text": [
      "[92/100]\ttest_main: 0.1124\ttest_penalty: -0.0047119\r"
     ]
    },
    {
     "name": "stderr",
     "output_type": "stream",
     "text": [
      "[default |INFO|_base_model.py:717] [45/100]\ttrain_main: 8.863082e-02\ttrain_penalty: -1.187559e-02\ttest_main: 1.130874e-01\ttest_penalty: -4.264526e-03\n"
     ]
    },
    {
     "name": "stdout",
     "output_type": "stream",
     "text": [
      "[88/100]\ttest_main: 0.1124\ttest_penalty: -0.0058122\r"
     ]
    },
    {
     "name": "stderr",
     "output_type": "stream",
     "text": [
      "[default |INFO|_base_model.py:717] [46/100]\ttrain_main: 8.784565e-02\ttrain_penalty: -1.217364e-02\ttest_main: 1.139317e-01\ttest_penalty: -4.954553e-03\n"
     ]
    },
    {
     "name": "stdout",
     "output_type": "stream",
     "text": [
      "[91/100]\ttest_main: 0.1107\ttest_penalty: -0.0079119\r"
     ]
    },
    {
     "name": "stderr",
     "output_type": "stream",
     "text": [
      "[default |INFO|_base_model.py:717] [47/100]\ttrain_main: 8.736992e-02\ttrain_penalty: -1.192507e-02\ttest_main: 1.117532e-01\ttest_penalty: -7.715306e-03\n"
     ]
    },
    {
     "name": "stdout",
     "output_type": "stream",
     "text": [
      "[91/100]\ttest_main: 0.1121\ttest_penalty: -0.0068119\r"
     ]
    },
    {
     "name": "stderr",
     "output_type": "stream",
     "text": [
      "[default |INFO|_base_model.py:717] [48/100]\ttrain_main: 8.719330e-02\ttrain_penalty: -1.190326e-02\ttest_main: 1.128659e-01\ttest_penalty: -6.601925e-03\n"
     ]
    },
    {
     "name": "stdout",
     "output_type": "stream",
     "text": [
      "[91/100]\ttest_main: 0.1117\ttest_penalty: -0.0063120\r"
     ]
    },
    {
     "name": "stderr",
     "output_type": "stream",
     "text": [
      "[default |INFO|_base_model.py:717] [49/100]\ttrain_main: 8.687561e-02\ttrain_penalty: -1.195155e-02\ttest_main: 1.125014e-01\ttest_penalty: -5.572171e-03\n"
     ]
    },
    {
     "name": "stdout",
     "output_type": "stream",
     "text": [
      "[92/100]\ttest_main: 0.1101\ttest_penalty: -0.0059121\r"
     ]
    },
    {
     "name": "stderr",
     "output_type": "stream",
     "text": [
      "[default |INFO|_base_model.py:717] [50/100]\ttrain_main: 8.657550e-02\ttrain_penalty: -1.209166e-02\ttest_main: 1.114615e-01\ttest_penalty: -5.649118e-03\n"
     ]
    },
    {
     "name": "stdout",
     "output_type": "stream",
     "text": [
      "[99/100]\ttest_main: 0.1109\ttest_penalty: -0.0061119\r"
     ]
    },
    {
     "name": "stderr",
     "output_type": "stream",
     "text": [
      "[default |INFO|_base_model.py:717] [51/100]\ttrain_main: 8.609420e-02\ttrain_penalty: -1.194865e-02\ttest_main: 1.109161e-01\ttest_penalty: -6.141038e-03\n"
     ]
    },
    {
     "name": "stdout",
     "output_type": "stream",
     "text": [
      "[99/100]\ttest_main: 0.1122\ttest_penalty: -0.0054118\r"
     ]
    },
    {
     "name": "stderr",
     "output_type": "stream",
     "text": [
      "[default |INFO|_base_model.py:717] [52/100]\ttrain_main: 8.574657e-02\ttrain_penalty: -1.179718e-02\ttest_main: 1.121975e-01\ttest_penalty: -5.354409e-03\n"
     ]
    },
    {
     "name": "stdout",
     "output_type": "stream",
     "text": [
      "[92/100]\ttest_main: 0.1107\ttest_penalty: -0.0039119\r"
     ]
    },
    {
     "name": "stderr",
     "output_type": "stream",
     "text": [
      "[default |INFO|_base_model.py:717] [53/100]\ttrain_main: 8.520956e-02\ttrain_penalty: -1.190798e-02\ttest_main: 1.117917e-01\ttest_penalty: -3.894877e-03\n"
     ]
    },
    {
     "name": "stdout",
     "output_type": "stream",
     "text": [
      "[91/100]\ttest_main: 0.1095\ttest_penalty: -0.0057121\r"
     ]
    },
    {
     "name": "stderr",
     "output_type": "stream",
     "text": [
      "[default |INFO|_base_model.py:717] [54/100]\ttrain_main: 8.500740e-02\ttrain_penalty: -1.211286e-02\ttest_main: 1.106009e-01\ttest_penalty: -5.008340e-03\n"
     ]
    },
    {
     "name": "stdout",
     "output_type": "stream",
     "text": [
      "[92/100]\ttest_main: 0.1096\ttest_penalty: -0.0040120\r"
     ]
    },
    {
     "name": "stderr",
     "output_type": "stream",
     "text": [
      "[default |INFO|_base_model.py:717] [55/100]\ttrain_main: 8.471800e-02\ttrain_penalty: -1.201965e-02\ttest_main: 1.108255e-01\ttest_penalty: -4.023762e-03\n"
     ]
    },
    {
     "name": "stdout",
     "output_type": "stream",
     "text": [
      "[99/100]\ttest_main: 0.1104\ttest_penalty: -0.0036122\r"
     ]
    },
    {
     "name": "stderr",
     "output_type": "stream",
     "text": [
      "[default |INFO|_base_model.py:717] [56/100]\ttrain_main: 8.456972e-02\ttrain_penalty: -1.215861e-02\ttest_main: 1.104102e-01\ttest_penalty: -3.557100e-03\n"
     ]
    },
    {
     "name": "stdout",
     "output_type": "stream",
     "text": [
      "[93/100]\ttest_main: 0.1097\ttest_penalty: -0.0069120\r"
     ]
    },
    {
     "name": "stderr",
     "output_type": "stream",
     "text": [
      "[default |INFO|_base_model.py:717] [57/100]\ttrain_main: 8.440958e-02\ttrain_penalty: -1.204068e-02\ttest_main: 1.106742e-01\ttest_penalty: -6.513071e-03\n"
     ]
    },
    {
     "name": "stdout",
     "output_type": "stream",
     "text": [
      "[92/100]\ttest_main: 0.1097\ttest_penalty: -0.0054119\r"
     ]
    },
    {
     "name": "stderr",
     "output_type": "stream",
     "text": [
      "[default |INFO|_base_model.py:717] [58/100]\ttrain_main: 8.397086e-02\ttrain_penalty: -1.191471e-02\ttest_main: 1.109065e-01\ttest_penalty: -5.138650e-03\n"
     ]
    },
    {
     "name": "stdout",
     "output_type": "stream",
     "text": [
      "[99/100]\ttest_main: 0.1110\ttest_penalty: -0.0065120\r"
     ]
    },
    {
     "name": "stderr",
     "output_type": "stream",
     "text": [
      "[default |INFO|_base_model.py:717] [59/100]\ttrain_main: 8.354287e-02\ttrain_penalty: -1.203215e-02\ttest_main: 1.110431e-01\ttest_penalty: -6.517768e-03\n"
     ]
    },
    {
     "name": "stdout",
     "output_type": "stream",
     "text": [
      "[89/100]\ttest_main: 0.1095\ttest_penalty: -0.0056118\r"
     ]
    },
    {
     "name": "stderr",
     "output_type": "stream",
     "text": [
      "[default |INFO|_base_model.py:717] [60/100]\ttrain_main: 8.328767e-02\ttrain_penalty: -1.175067e-02\ttest_main: 1.106401e-01\ttest_penalty: -5.301762e-03\n"
     ]
    },
    {
     "name": "stdout",
     "output_type": "stream",
     "text": [
      "[99/100]\ttest_main: 0.1100\ttest_penalty: -0.0044123\r"
     ]
    },
    {
     "name": "stderr",
     "output_type": "stream",
     "text": [
      "[default |INFO|_base_model.py:717] [61/100]\ttrain_main: 8.297723e-02\ttrain_penalty: -1.229604e-02\ttest_main: 1.100345e-01\ttest_penalty: -4.429550e-03\n"
     ]
    },
    {
     "name": "stdout",
     "output_type": "stream",
     "text": [
      "[91/100]\ttest_main: 0.1093\ttest_penalty: -0.0052119\r"
     ]
    },
    {
     "name": "stderr",
     "output_type": "stream",
     "text": [
      "[default |INFO|_base_model.py:717] [62/100]\ttrain_main: 8.294165e-02\ttrain_penalty: -1.194237e-02\ttest_main: 1.104439e-01\ttest_penalty: -5.234489e-03\n"
     ]
    },
    {
     "name": "stdout",
     "output_type": "stream",
     "text": [
      "[93/100]\ttest_main: 0.1099\ttest_penalty: -0.0061122\r"
     ]
    },
    {
     "name": "stderr",
     "output_type": "stream",
     "text": [
      "[default |INFO|_base_model.py:717] [63/100]\ttrain_main: 8.261350e-02\ttrain_penalty: -1.217133e-02\ttest_main: 1.110398e-01\ttest_penalty: -5.906739e-03\n"
     ]
    },
    {
     "name": "stdout",
     "output_type": "stream",
     "text": [
      "[91/100]\ttest_main: 0.1081\ttest_penalty: -0.0063121\r"
     ]
    },
    {
     "name": "stderr",
     "output_type": "stream",
     "text": [
      "[default |INFO|_base_model.py:717] [64/100]\ttrain_main: 8.255175e-02\ttrain_penalty: -1.210160e-02\ttest_main: 1.094073e-01\ttest_penalty: -5.938926e-03\n"
     ]
    },
    {
     "name": "stdout",
     "output_type": "stream",
     "text": [
      "[99/100]\ttest_main: 0.1094\ttest_penalty: -0.0053120\r"
     ]
    },
    {
     "name": "stderr",
     "output_type": "stream",
     "text": [
      "[default |INFO|_base_model.py:717] [65/100]\ttrain_main: 8.223984e-02\ttrain_penalty: -1.204123e-02\ttest_main: 1.093687e-01\ttest_penalty: -5.296302e-03\n"
     ]
    },
    {
     "name": "stdout",
     "output_type": "stream",
     "text": [
      "[93/100]\ttest_main: 0.1083\ttest_penalty: -0.0063125\r"
     ]
    },
    {
     "name": "stderr",
     "output_type": "stream",
     "text": [
      "[default |INFO|_base_model.py:717] [66/100]\ttrain_main: 8.211269e-02\ttrain_penalty: -1.247558e-02\ttest_main: 1.093873e-01\ttest_penalty: -6.062198e-03\n"
     ]
    },
    {
     "name": "stdout",
     "output_type": "stream",
     "text": [
      "[92/100]\ttest_main: 0.1073\ttest_penalty: -0.0043123\r"
     ]
    },
    {
     "name": "stderr",
     "output_type": "stream",
     "text": [
      "[default |INFO|_base_model.py:717] [67/100]\ttrain_main: 8.170061e-02\ttrain_penalty: -1.226916e-02\ttest_main: 1.086085e-01\ttest_penalty: -4.259524e-03\n"
     ]
    },
    {
     "name": "stdout",
     "output_type": "stream",
     "text": [
      "[99/100]\ttest_main: 0.1091\ttest_penalty: -0.0065125\r"
     ]
    },
    {
     "name": "stderr",
     "output_type": "stream",
     "text": [
      "[default |INFO|_base_model.py:717] [68/100]\ttrain_main: 8.144171e-02\ttrain_penalty: -1.248341e-02\ttest_main: 1.090687e-01\ttest_penalty: -6.457844e-03\n"
     ]
    },
    {
     "name": "stdout",
     "output_type": "stream",
     "text": [
      "[98/100]\ttest_main: 0.1091\ttest_penalty: -0.0059124\r"
     ]
    },
    {
     "name": "stderr",
     "output_type": "stream",
     "text": [
      "[default |INFO|_base_model.py:717] [69/100]\ttrain_main: 8.117085e-02\ttrain_penalty: -1.239798e-02\ttest_main: 1.092714e-01\ttest_penalty: -5.737257e-03\n"
     ]
    },
    {
     "name": "stdout",
     "output_type": "stream",
     "text": [
      "[99/100]\ttest_main: 0.1090\ttest_penalty: -0.0049118\r"
     ]
    },
    {
     "name": "stderr",
     "output_type": "stream",
     "text": [
      "[default |INFO|_base_model.py:717] [70/100]\ttrain_main: 8.114269e-02\ttrain_penalty: -1.183662e-02\ttest_main: 1.090406e-01\ttest_penalty: -4.903302e-03\n"
     ]
    },
    {
     "name": "stdout",
     "output_type": "stream",
     "text": [
      "[92/100]\ttest_main: 0.1080\ttest_penalty: -0.0055126\r"
     ]
    },
    {
     "name": "stderr",
     "output_type": "stream",
     "text": [
      "[default |INFO|_base_model.py:717] [71/100]\ttrain_main: 8.069926e-02\ttrain_penalty: -1.256712e-02\ttest_main: 1.091637e-01\ttest_penalty: -5.007157e-03\n"
     ]
    },
    {
     "name": "stdout",
     "output_type": "stream",
     "text": [
      "[99/100]\ttest_main: 0.1093\ttest_penalty: -0.0056130\r"
     ]
    },
    {
     "name": "stderr",
     "output_type": "stream",
     "text": [
      "[default |INFO|_base_model.py:717] [72/100]\ttrain_main: 8.064829e-02\ttrain_penalty: -1.301275e-02\ttest_main: 1.093442e-01\ttest_penalty: -5.615759e-03\n"
     ]
    },
    {
     "name": "stdout",
     "output_type": "stream",
     "text": [
      "[99/100]\ttest_main: 0.1094\ttest_penalty: -0.0069124\r"
     ]
    },
    {
     "name": "stderr",
     "output_type": "stream",
     "text": [
      "[default |INFO|_base_model.py:717] [73/100]\ttrain_main: 8.067663e-02\ttrain_penalty: -1.242277e-02\ttest_main: 1.094178e-01\ttest_penalty: -6.871033e-03\n"
     ]
    },
    {
     "name": "stdout",
     "output_type": "stream",
     "text": [
      "[94/100]\ttest_main: 0.1075\ttest_penalty: -0.0064125\r"
     ]
    },
    {
     "name": "stderr",
     "output_type": "stream",
     "text": [
      "[default |INFO|_base_model.py:717] [74/100]\ttrain_main: 8.043009e-02\ttrain_penalty: -1.248577e-02\ttest_main: 1.086915e-01\ttest_penalty: -5.976181e-03\n"
     ]
    },
    {
     "name": "stdout",
     "output_type": "stream",
     "text": [
      "[93/100]\ttest_main: 0.1066\ttest_penalty: -0.0053124\r"
     ]
    },
    {
     "name": "stderr",
     "output_type": "stream",
     "text": [
      "[default |INFO|_base_model.py:717] [75/100]\ttrain_main: 8.055702e-02\ttrain_penalty: -1.236339e-02\ttest_main: 1.079934e-01\ttest_penalty: -4.733882e-03\n"
     ]
    },
    {
     "name": "stdout",
     "output_type": "stream",
     "text": [
      "[99/100]\ttest_main: 0.1076\ttest_penalty: -0.0061124\r"
     ]
    },
    {
     "name": "stderr",
     "output_type": "stream",
     "text": [
      "[default |INFO|_base_model.py:717] [76/100]\ttrain_main: 8.023844e-02\ttrain_penalty: -1.242562e-02\ttest_main: 1.075619e-01\ttest_penalty: -6.120534e-03\n"
     ]
    },
    {
     "name": "stdout",
     "output_type": "stream",
     "text": [
      "[91/100]\ttest_main: 0.1088\ttest_penalty: -0.0069123\r"
     ]
    },
    {
     "name": "stderr",
     "output_type": "stream",
     "text": [
      "[default |INFO|_base_model.py:717] [77/100]\ttrain_main: 7.997138e-02\ttrain_penalty: -1.226042e-02\ttest_main: 1.096801e-01\ttest_penalty: -6.677933e-03\n"
     ]
    },
    {
     "name": "stdout",
     "output_type": "stream",
     "text": [
      "[99/100]\ttest_main: 0.1090\ttest_penalty: -0.0070129\r"
     ]
    },
    {
     "name": "stderr",
     "output_type": "stream",
     "text": [
      "[default |INFO|_base_model.py:717] [78/100]\ttrain_main: 7.964241e-02\ttrain_penalty: -1.289814e-02\ttest_main: 1.089628e-01\ttest_penalty: -7.009511e-03\n"
     ]
    },
    {
     "name": "stdout",
     "output_type": "stream",
     "text": [
      "[87/100]\ttest_main: 0.1064\ttest_penalty: -0.0079127\r"
     ]
    },
    {
     "name": "stderr",
     "output_type": "stream",
     "text": [
      "[default |INFO|_base_model.py:717] [79/100]\ttrain_main: 7.933825e-02\ttrain_penalty: -1.265692e-02\ttest_main: 1.085015e-01\ttest_penalty: -6.935377e-03\n"
     ]
    },
    {
     "name": "stdout",
     "output_type": "stream",
     "text": [
      "[99/100]\ttest_main: 0.1077\ttest_penalty: -0.0082131\r"
     ]
    },
    {
     "name": "stderr",
     "output_type": "stream",
     "text": [
      "[default |INFO|_base_model.py:717] [80/100]\ttrain_main: 7.931461e-02\ttrain_penalty: -1.307478e-02\ttest_main: 1.077461e-01\ttest_penalty: -8.157535e-03\n"
     ]
    },
    {
     "name": "stdout",
     "output_type": "stream",
     "text": [
      "[99/100]\ttest_main: 0.1082\ttest_penalty: -0.0029121\r"
     ]
    },
    {
     "name": "stderr",
     "output_type": "stream",
     "text": [
      "[default |INFO|_base_model.py:717] [81/100]\ttrain_main: 7.928047e-02\ttrain_penalty: -1.212395e-02\ttest_main: 1.082426e-01\ttest_penalty: -2.916183e-03\n"
     ]
    },
    {
     "name": "stdout",
     "output_type": "stream",
     "text": [
      "[99/100]\ttest_main: 0.1087\ttest_penalty: -0.0043124\r"
     ]
    },
    {
     "name": "stderr",
     "output_type": "stream",
     "text": [
      "[default |INFO|_base_model.py:717] [82/100]\ttrain_main: 7.920782e-02\ttrain_penalty: -1.239491e-02\ttest_main: 1.087064e-01\ttest_penalty: -4.308324e-03\n"
     ]
    },
    {
     "name": "stdout",
     "output_type": "stream",
     "text": [
      "[91/100]\ttest_main: 0.1079\ttest_penalty: -0.0048123\r"
     ]
    },
    {
     "name": "stderr",
     "output_type": "stream",
     "text": [
      "[default |INFO|_base_model.py:717] [83/100]\ttrain_main: 7.920588e-02\ttrain_penalty: -1.233156e-02\ttest_main: 1.088210e-01\ttest_penalty: -4.670229e-03\n"
     ]
    },
    {
     "name": "stdout",
     "output_type": "stream",
     "text": [
      "[84/100]\ttest_main: 0.1069\ttest_penalty: -0.0062125\r"
     ]
    },
    {
     "name": "stderr",
     "output_type": "stream",
     "text": [
      "[default |INFO|_base_model.py:717] [84/100]\ttrain_main: 7.894182e-02\ttrain_penalty: -1.246727e-02\ttest_main: 1.087775e-01\ttest_penalty: -5.334911e-03\n"
     ]
    },
    {
     "name": "stdout",
     "output_type": "stream",
     "text": [
      "[99/100]\ttest_main: 0.1079\ttest_penalty: -0.0066126\r"
     ]
    },
    {
     "name": "stderr",
     "output_type": "stream",
     "text": [
      "[default |INFO|_base_model.py:717] [85/100]\ttrain_main: 7.881610e-02\ttrain_penalty: -1.263876e-02\ttest_main: 1.079072e-01\ttest_penalty: -6.574306e-03\n"
     ]
    },
    {
     "name": "stdout",
     "output_type": "stream",
     "text": [
      "[99/100]\ttest_main: 0.1080\ttest_penalty: -0.0060125\r"
     ]
    },
    {
     "name": "stderr",
     "output_type": "stream",
     "text": [
      "[default |INFO|_base_model.py:717] [86/100]\ttrain_main: 7.879032e-02\ttrain_penalty: -1.246913e-02\ttest_main: 1.080251e-01\ttest_penalty: -6.039062e-03\n"
     ]
    },
    {
     "name": "stdout",
     "output_type": "stream",
     "text": [
      "[99/100]\ttest_main: 0.1080\ttest_penalty: -0.0072127\r"
     ]
    },
    {
     "name": "stderr",
     "output_type": "stream",
     "text": [
      "[default |INFO|_base_model.py:717] [87/100]\ttrain_main: 7.853378e-02\ttrain_penalty: -1.272147e-02\ttest_main: 1.079916e-01\ttest_penalty: -7.245622e-03\n"
     ]
    },
    {
     "name": "stdout",
     "output_type": "stream",
     "text": [
      "[99/100]\ttest_main: 0.1079\ttest_penalty: -0.0061122\r"
     ]
    },
    {
     "name": "stderr",
     "output_type": "stream",
     "text": [
      "[default |INFO|_base_model.py:717] [88/100]\ttrain_main: 7.844686e-02\ttrain_penalty: -1.222025e-02\ttest_main: 1.078751e-01\ttest_penalty: -6.087260e-03\n"
     ]
    },
    {
     "name": "stdout",
     "output_type": "stream",
     "text": [
      "[87/100]\ttest_main: 0.1049\ttest_penalty: -0.0074130\r"
     ]
    },
    {
     "name": "stderr",
     "output_type": "stream",
     "text": [
      "[default |INFO|_base_model.py:717] [89/100]\ttrain_main: 7.847143e-02\ttrain_penalty: -1.304773e-02\ttest_main: 1.070200e-01\ttest_penalty: -6.563010e-03\n"
     ]
    },
    {
     "name": "stdout",
     "output_type": "stream",
     "text": [
      "[99/100]\ttest_main: 0.1078\ttest_penalty: -0.0076129\r"
     ]
    },
    {
     "name": "stderr",
     "output_type": "stream",
     "text": [
      "[default |INFO|_base_model.py:717] [90/100]\ttrain_main: 7.792829e-02\ttrain_penalty: -1.285513e-02\ttest_main: 1.077871e-01\ttest_penalty: -7.611322e-03\n"
     ]
    },
    {
     "name": "stdout",
     "output_type": "stream",
     "text": [
      "[99/100]\ttest_main: 0.1069\ttest_penalty: -0.0073126\r"
     ]
    },
    {
     "name": "stderr",
     "output_type": "stream",
     "text": [
      "[default |INFO|_base_model.py:717] [91/100]\ttrain_main: 7.796683e-02\ttrain_penalty: -1.259452e-02\ttest_main: 1.068958e-01\ttest_penalty: -7.341862e-03\n"
     ]
    },
    {
     "name": "stdout",
     "output_type": "stream",
     "text": [
      "[99/100]\ttest_main: 0.1068\ttest_penalty: -0.0067129\r"
     ]
    },
    {
     "name": "stderr",
     "output_type": "stream",
     "text": [
      "[default |INFO|_base_model.py:717] [92/100]\ttrain_main: 7.789102e-02\ttrain_penalty: -1.290502e-02\ttest_main: 1.067939e-01\ttest_penalty: -6.716609e-03\n"
     ]
    },
    {
     "name": "stdout",
     "output_type": "stream",
     "text": [
      "[92/100]\ttest_main: 0.1063\ttest_penalty: -0.0062126\r"
     ]
    },
    {
     "name": "stderr",
     "output_type": "stream",
     "text": [
      "[default |INFO|_base_model.py:717] [93/100]\ttrain_main: 7.769877e-02\ttrain_penalty: -1.257219e-02\ttest_main: 1.078920e-01\ttest_penalty: -5.929971e-03\n"
     ]
    },
    {
     "name": "stdout",
     "output_type": "stream",
     "text": [
      "[99/100]\ttest_main: 0.1073\ttest_penalty: -0.0066128\r"
     ]
    },
    {
     "name": "stderr",
     "output_type": "stream",
     "text": [
      "[default |INFO|_base_model.py:717] [94/100]\ttrain_main: 7.757043e-02\ttrain_penalty: -1.275584e-02\ttest_main: 1.073113e-01\ttest_penalty: -6.576467e-03\n"
     ]
    },
    {
     "name": "stdout",
     "output_type": "stream",
     "text": [
      "[92/100]\ttest_main: 0.1066\ttest_penalty: -0.0048131\r"
     ]
    },
    {
     "name": "stderr",
     "output_type": "stream",
     "text": [
      "[default |INFO|_base_model.py:717] [95/100]\ttrain_main: 7.763178e-02\ttrain_penalty: -1.312370e-02\ttest_main: 1.076610e-01\ttest_penalty: -4.486785e-03\n"
     ]
    },
    {
     "name": "stdout",
     "output_type": "stream",
     "text": [
      "[99/100]\ttest_main: 0.1066\ttest_penalty: -0.0057129\r"
     ]
    },
    {
     "name": "stderr",
     "output_type": "stream",
     "text": [
      "[default |INFO|_base_model.py:717] [96/100]\ttrain_main: 7.734547e-02\ttrain_penalty: -1.285699e-02\ttest_main: 1.065735e-01\ttest_penalty: -5.656505e-03\n"
     ]
    },
    {
     "name": "stdout",
     "output_type": "stream",
     "text": [
      "[99/100]\ttest_main: 0.1076\ttest_penalty: -0.0070127\r"
     ]
    },
    {
     "name": "stderr",
     "output_type": "stream",
     "text": [
      "[default |INFO|_base_model.py:717] [97/100]\ttrain_main: 7.720575e-02\ttrain_penalty: -1.265056e-02\ttest_main: 1.076061e-01\ttest_penalty: -6.967125e-03\n"
     ]
    },
    {
     "name": "stdout",
     "output_type": "stream",
     "text": [
      "[99/100]\ttest_main: 0.1069\ttest_penalty: -0.0061129\r"
     ]
    },
    {
     "name": "stderr",
     "output_type": "stream",
     "text": [
      "[default |INFO|_base_model.py:717] [98/100]\ttrain_main: 7.707677e-02\ttrain_penalty: -1.286862e-02\ttest_main: 1.068806e-01\ttest_penalty: -6.066818e-03\n"
     ]
    },
    {
     "name": "stdout",
     "output_type": "stream",
     "text": [
      "[93/100]\ttest_main: 0.1052\ttest_penalty: -0.0071130\r"
     ]
    },
    {
     "name": "stderr",
     "output_type": "stream",
     "text": [
      "[default |INFO|_base_model.py:717] [99/100]\ttrain_main: 7.716142e-02\ttrain_penalty: -1.296469e-02\ttest_main: 1.065843e-01\ttest_penalty: -6.605191e-03\n"
     ]
    },
    {
     "name": "stdout",
     "output_type": "stream",
     "text": [
      "[99/100]\ttest_main: 0.1079\ttest_penalty: -0.0062125\r"
     ]
    },
    {
     "name": "stderr",
     "output_type": "stream",
     "text": [
      "[default |INFO|_base_model.py:717] [100/100]\ttrain_main: 7.717588e-02\ttrain_penalty: -1.248112e-02\ttest_main: 1.079122e-01\ttest_penalty: -6.157112e-03\n",
      "[default |INFO|_base_model.py:783] Training Finished!\n",
      "[default |INFO|_base_model.py:784] Elapsed time: 2984.061s\n"
     ]
    }
   ],
   "source": [
    "from model.exp2.train_cwae_mmd import CWAE_MMD_MNIST\n",
    "\n",
    "cfg = configparser.ConfigParser()\n",
    "cfg.read('./config/train_config_cwae_mmd2.cfg')\n",
    "\n",
    "model = CWAE_MMD_MNIST(cfg, log, device = device)\n",
    "model.train()"
   ]
  },
  {
   "cell_type": "markdown",
   "metadata": {},
   "source": [
    "# Apendix\n",
    "## Number of trainable parameters"
   ]
  },
  {
   "cell_type": "code",
   "execution_count": 4,
   "metadata": {},
   "outputs": [
    {
     "name": "stderr",
     "output_type": "stream",
     "text": [
      "[default |INFO|_base_model.py:25] ------------------------------------------------------------\n",
      "[default |INFO|_base_model.py:27] model_name : WAE_MMD_MNIST\n",
      "[default |INFO|_base_model.py:27] train_data : MNIST\n",
      "[default |INFO|_base_model.py:27] z_sampler : gaus\n",
      "[default |INFO|_base_model.py:27] z_dim : 8\n",
      "[default |INFO|_base_model.py:27] prob_enc : False\n",
      "[default |INFO|_base_model.py:27] encoder_pretrain : False\n",
      "[default |INFO|_base_model.py:27] encoder_pretrain_batch_size : 1000\n",
      "[default |INFO|_base_model.py:27] encoder_pretrain_max_step : 200\n",
      "[default |INFO|_base_model.py:27] lr : 1e-3\n",
      "[default |INFO|_base_model.py:27] beta1 : 0.5\n",
      "[default |INFO|_base_model.py:27] lambda : 10.0\n",
      "[default |INFO|_base_model.py:27] lr_schedule : manual\n",
      "[default |INFO|_base_model.py:27] validate : True\n",
      "[default |INFO|_base_model.py:27] histogram : True\n",
      "[default |INFO|_base_model.py:27] batch_size : 100\n",
      "[default |INFO|_base_model.py:27] epoch : 100\n",
      "[default |INFO|_base_model.py:27] replace : False\n",
      "[default |INFO|_base_model.py:27] iter_per_epoch : None\n",
      "[default |INFO|_base_model.py:27] save_best : False\n",
      "[default |INFO|_base_model.py:30] data_home : ./data/MNIST\n",
      "[default |INFO|_base_model.py:30] tb_logs : ./result/tb_logs/wae_mmd1\n",
      "[default |INFO|_base_model.py:30] save_path : ./result/weights/weight_wae_mmd1.pt\n",
      "[default |INFO|_base_model.py:30] save_state : ./result/states/state_wae_mmd1.pt\n",
      "[default |INFO|_base_model.py:30] save_img_path : ./result/plots/wae_mmd1/\n"
     ]
    },
    {
     "name": "stdout",
     "output_type": "stream",
     "text": [
      "WAE_MMD_1 has 1,091,625 trainable parameters\n"
     ]
    }
   ],
   "source": [
    "def count_parameters(model):\n",
    "    return sum(p.numel() for p in model.parameters() if p.requires_grad)  # Count number of elements of all parameters\n",
    "\n",
    "from model.exp1.train_wae_mmd import WAE_MMD_MNIST\n",
    "\n",
    "model = WAE_MMD_MNIST(cfg, log, device = device)\n",
    "\n",
    "print('WAE_MMD_1 has {:,} trainable parameters'.format(count_parameters(model)))"
   ]
  },
  {
   "cell_type": "code",
   "execution_count": 6,
   "metadata": {},
   "outputs": [
    {
     "name": "stderr",
     "output_type": "stream",
     "text": [
      "[default |INFO|_base_model.py:25] ------------------------------------------------------------\n",
      "[default |INFO|_base_model.py:27] model_name : WAE_MMD_MNIST\n",
      "[default |INFO|_base_model.py:27] train_data : MNIST\n",
      "[default |INFO|_base_model.py:27] z_sampler : gaus\n",
      "[default |INFO|_base_model.py:27] z_dim : 8\n",
      "[default |INFO|_base_model.py:27] prob_enc : False\n",
      "[default |INFO|_base_model.py:27] encoder_pretrain : False\n",
      "[default |INFO|_base_model.py:27] encoder_pretrain_batch_size : 1000\n",
      "[default |INFO|_base_model.py:27] encoder_pretrain_max_step : 200\n",
      "[default |INFO|_base_model.py:27] lr : 1e-3\n",
      "[default |INFO|_base_model.py:27] beta1 : 0.5\n",
      "[default |INFO|_base_model.py:27] lambda : 10.0\n",
      "[default |INFO|_base_model.py:27] lr_schedule : manual\n",
      "[default |INFO|_base_model.py:27] validate : True\n",
      "[default |INFO|_base_model.py:27] histogram : True\n",
      "[default |INFO|_base_model.py:27] batch_size : 100\n",
      "[default |INFO|_base_model.py:27] epoch : 100\n",
      "[default |INFO|_base_model.py:27] replace : False\n",
      "[default |INFO|_base_model.py:27] iter_per_epoch : None\n",
      "[default |INFO|_base_model.py:27] save_best : False\n",
      "[default |INFO|_base_model.py:30] data_home : ./data/MNIST\n",
      "[default |INFO|_base_model.py:30] tb_logs : ./result/tb_logs/wae_mmd2\n",
      "[default |INFO|_base_model.py:30] save_path : ./result/weights/weight_wae_mmd2.pt\n",
      "[default |INFO|_base_model.py:30] save_state : ./result/states/state_wae_mmd2.pt\n",
      "[default |INFO|_base_model.py:30] save_img_path : ./result/plots/wae_mmd2/\n"
     ]
    },
    {
     "name": "stdout",
     "output_type": "stream",
     "text": [
      "WAE_MMD_2 has 1,467,817 trainable parameters\n"
     ]
    }
   ],
   "source": [
    "from model.exp2.train_wae_mmd import WAE_MMD_MNIST\n",
    "\n",
    "model = WAE_MMD_MNIST(cfg, log, device = device)\n",
    "\n",
    "print('WAE_MMD_2 has {:,} trainable parameters'.format(count_parameters(model)))"
   ]
  },
  {
   "cell_type": "code",
   "execution_count": 5,
   "metadata": {},
   "outputs": [
    {
     "name": "stderr",
     "output_type": "stream",
     "text": [
      "[default |INFO|_base_model.py:25] ------------------------------------------------------------\n",
      "[default |INFO|_base_model.py:27] model_name : CWAE_MMD_MNIST\n",
      "[default |INFO|_base_model.py:27] train_data : MNIST\n",
      "[default |INFO|_base_model.py:27] train_data_label : True\n",
      "[default |INFO|_base_model.py:27] z_sampler : gaus\n",
      "[default |INFO|_base_model.py:27] z_dim : 6\n",
      "[default |INFO|_base_model.py:27] y_sampler : multinomial\n",
      "[default |INFO|_base_model.py:27] y_dim : 10\n",
      "[default |INFO|_base_model.py:27] prob_enc : False\n",
      "[default |INFO|_base_model.py:27] encoder_pretrain : False\n",
      "[default |INFO|_base_model.py:27] encoder_pretrain_batch_size : 1000,\n",
      "[default |INFO|_base_model.py:27] encoder_pretrain_max_step : 200,\n",
      "[default |INFO|_base_model.py:27] lr : 1e-3\n",
      "[default |INFO|_base_model.py:27] beta1 : 0.5\n",
      "[default |INFO|_base_model.py:27] lambda : 10.0\n",
      "[default |INFO|_base_model.py:27] lr_schedule : manual\n",
      "[default |INFO|_base_model.py:27] validate : True\n",
      "[default |INFO|_base_model.py:27] histogram : True\n",
      "[default |INFO|_base_model.py:27] batch_size : 100\n",
      "[default |INFO|_base_model.py:27] epoch : 100\n",
      "[default |INFO|_base_model.py:27] replace : False\n",
      "[default |INFO|_base_model.py:27] iter_per_epoch : None\n",
      "[default |INFO|_base_model.py:27] save_best : False\n",
      "[default |INFO|_base_model.py:30] data_home : ./data/MNIST\n",
      "[default |INFO|_base_model.py:30] tb_logs : ./result/tb_logs/cwae_mmd1\n",
      "[default |INFO|_base_model.py:30] save_path : ./result/weights/weight_cwae_mmd1.pt\n",
      "[default |INFO|_base_model.py:30] save_state : ./result/states/state_cwae_mmd1.pt\n",
      "[default |INFO|_base_model.py:30] save_img_path : ./result/plots/cwae_mmd1/\n"
     ]
    },
    {
     "name": "stdout",
     "output_type": "stream",
     "text": [
      "CWAE_MMD_1 has 1,142,311 trainable parameters\n"
     ]
    }
   ],
   "source": [
    "from model.exp1.train_cwae_mmd import CWAE_MMD_MNIST\n",
    "cfg = configparser.ConfigParser()\n",
    "cfg.read('./config/train_config_cwae_mmd1.cfg')\n",
    "model = CWAE_MMD_MNIST(cfg, log, device = device)\n",
    "\n",
    "print('CWAE_MMD_1 has {:,} trainable parameters'.format(count_parameters(model)))"
   ]
  },
  {
   "cell_type": "code",
   "execution_count": 6,
   "metadata": {},
   "outputs": [
    {
     "name": "stderr",
     "output_type": "stream",
     "text": [
      "[default |INFO|_base_model.py:25] ------------------------------------------------------------\n",
      "[default |INFO|_base_model.py:27] model_name : CWAE_MMD_MNIST\n",
      "[default |INFO|_base_model.py:27] train_data : MNIST\n",
      "[default |INFO|_base_model.py:27] train_data_label : True\n",
      "[default |INFO|_base_model.py:27] z_sampler : gaus\n",
      "[default |INFO|_base_model.py:27] z_dim : 6\n",
      "[default |INFO|_base_model.py:27] y_sampler : multinomial\n",
      "[default |INFO|_base_model.py:27] y_dim : 10\n",
      "[default |INFO|_base_model.py:27] prob_enc : False\n",
      "[default |INFO|_base_model.py:27] encoder_pretrain : False\n",
      "[default |INFO|_base_model.py:27] encoder_pretrain_batch_size : 1000,\n",
      "[default |INFO|_base_model.py:27] encoder_pretrain_max_step : 200,\n",
      "[default |INFO|_base_model.py:27] lr : 1e-3\n",
      "[default |INFO|_base_model.py:27] beta1 : 0.5\n",
      "[default |INFO|_base_model.py:27] lambda : 10.0\n",
      "[default |INFO|_base_model.py:27] lr_schedule : manual\n",
      "[default |INFO|_base_model.py:27] validate : True\n",
      "[default |INFO|_base_model.py:27] histogram : True\n",
      "[default |INFO|_base_model.py:27] batch_size : 100\n",
      "[default |INFO|_base_model.py:27] epoch : 100\n",
      "[default |INFO|_base_model.py:27] replace : False\n",
      "[default |INFO|_base_model.py:27] iter_per_epoch : None\n",
      "[default |INFO|_base_model.py:27] save_best : False\n",
      "[default |INFO|_base_model.py:30] data_home : ./data/MNIST\n",
      "[default |INFO|_base_model.py:30] tb_logs : ./result/tb_logs/cwae_mmd2\n",
      "[default |INFO|_base_model.py:30] save_path : ./result/weights/weight_cwae_mmd2.pt\n",
      "[default |INFO|_base_model.py:30] save_state : ./result/states/state_cwae_mmd2.pt\n",
      "[default |INFO|_base_model.py:30] save_img_path : ./result/plots/cwae_mmd2/\n"
     ]
    },
    {
     "name": "stdout",
     "output_type": "stream",
     "text": [
      "CWAE_MMD_2 has 1,568,423 trainable parameters\n"
     ]
    }
   ],
   "source": [
    "from model.exp2.train_cwae_mmd import CWAE_MMD_MNIST\n",
    "cfg = configparser.ConfigParser()\n",
    "cfg.read('./config/train_config_cwae_mmd2.cfg')\n",
    "model = CWAE_MMD_MNIST(cfg, log, device = device)\n",
    "\n",
    "print('CWAE_MMD_2 has {:,} trainable parameters'.format(count_parameters(model)))"
   ]
  },
  {
   "cell_type": "code",
   "execution_count": null,
   "metadata": {},
   "outputs": [],
   "source": []
  }
 ],
 "metadata": {
  "kernelspec": {
   "display_name": "Python 3",
   "language": "python",
   "name": "python3"
  },
  "language_info": {
   "codemirror_mode": {
    "name": "ipython",
    "version": 3
   },
   "file_extension": ".py",
   "mimetype": "text/x-python",
   "name": "python",
   "nbconvert_exporter": "python",
   "pygments_lexer": "ipython3",
   "version": "3.8.5"
  }
 },
 "nbformat": 4,
 "nbformat_minor": 4
}
