{
 "cells": [
  {
   "cell_type": "markdown",
   "metadata": {},
   "source": [
    "# VAE\n",
    "## Model1"
   ]
  },
  {
   "cell_type": "code",
   "execution_count": 1,
   "metadata": {},
   "outputs": [],
   "source": [
    "import os, sys, logging, configparser\n",
    "# sys.path.append('/'.join(os.getcwd().split('/')[:-2]))\n",
    "\n",
    "import warnings\n",
    "warnings.filterwarnings(\"ignore\")\n",
    "# os.environ['CUDA_VISIBLE_DEVICES']='1'\n",
    "\n",
    "import torch\n",
    "from tensorboardX import SummaryWriter\n",
    "from model.exp1.train_vae import VAE_MNIST\n",
    "from XAE.logging_daily import logging_daily"
   ]
  },
  {
   "cell_type": "code",
   "execution_count": 2,
   "metadata": {},
   "outputs": [
    {
     "data": {
      "text/plain": [
       "['./config/train_config_vae1.cfg']"
      ]
     },
     "execution_count": 2,
     "metadata": {},
     "output_type": "execute_result"
    }
   ],
   "source": [
    "is_cuda = torch.cuda.is_available()\n",
    "device = torch.device('cuda' if is_cuda else 'cpu')\n",
    "\n",
    "logger = logging_daily('./config/log_info.yaml')\n",
    "log = logger.get_logging()\n",
    "log.setLevel(logging.INFO)\n",
    "\n",
    "cfg = configparser.ConfigParser()\n",
    "cfg.read('./config/train_config_vae1.cfg')"
   ]
  },
  {
   "cell_type": "code",
   "execution_count": 3,
   "metadata": {
    "scrolled": true
   },
   "outputs": [
    {
     "name": "stderr",
     "output_type": "stream",
     "text": [
      "[default |INFO|_base_model.py:27] ------------------------------------------------------------\n",
      "[default |INFO|_base_model.py:29] model_name : VAE_MNIST\n",
      "[default |INFO|_base_model.py:29] train_data : MNIST\n",
      "[default |INFO|_base_model.py:29] z_sampler : gaus\n",
      "[default |INFO|_base_model.py:29] z_dim : 8\n",
      "[default |INFO|_base_model.py:29] prob_enc : True\n",
      "[default |INFO|_base_model.py:29] encoder_pretrain : False\n",
      "[default |INFO|_base_model.py:29] encoder_pretrain_batch_size : 1000\n",
      "[default |INFO|_base_model.py:29] encoder_pretrain_max_step : 200\n",
      "[default |INFO|_base_model.py:29] lr : 1e-3\n",
      "[default |INFO|_base_model.py:29] beta1 : 0.5\n",
      "[default |INFO|_base_model.py:29] lambda : 10.0\n",
      "[default |INFO|_base_model.py:29] lr_schedule : manual\n",
      "[default |INFO|_base_model.py:29] validate : True\n",
      "[default |INFO|_base_model.py:29] histogram : True\n",
      "[default |INFO|_base_model.py:29] batch_size : 100\n",
      "[default |INFO|_base_model.py:29] epoch : 100\n",
      "[default |INFO|_base_model.py:29] replace : False\n",
      "[default |INFO|_base_model.py:29] iter_per_epoch : None\n",
      "[default |INFO|_base_model.py:29] save_best : False\n",
      "[default |INFO|_base_model.py:32] data_home : ./data/MNIST\n",
      "[default |INFO|_base_model.py:32] tb_logs : ./result/tb_logs/vae1\n",
      "[default |INFO|_base_model.py:32] save_path : ./result/weights/weight_vae1.pt\n",
      "[default |INFO|_base_model.py:32] save_state : ./result/states/state_vae1.pt\n",
      "[default |INFO|_base_model.py:32] save_img_path : ./result/plots/vae1/\n",
      "[default |INFO|model.py:149] ------------------------------------------------------------\n",
      "[default |INFO|model.py:150] Training Start!\n"
     ]
    },
    {
     "name": "stdout",
     "output_type": "stream",
     "text": [
      "[600/600]\ttrain_mse: 184.6031\r"
     ]
    },
    {
     "name": "stderr",
     "output_type": "stream",
     "text": [
      "[default |INFO|model.py:225] [1/100]\ttrain_loss: 1.846031e+02\ttest_loss: 1.526726e+02\n"
     ]
    },
    {
     "name": "stdout",
     "output_type": "stream",
     "text": [
      "[600/600]\ttrain_mse: 144.7440\r"
     ]
    },
    {
     "name": "stderr",
     "output_type": "stream",
     "text": [
      "[default |INFO|model.py:225] [2/100]\ttrain_loss: 1.447440e+02\ttest_loss: 1.372280e+02\n"
     ]
    },
    {
     "name": "stdout",
     "output_type": "stream",
     "text": [
      "[600/600]\ttrain_mse: 133.5709\r"
     ]
    },
    {
     "name": "stderr",
     "output_type": "stream",
     "text": [
      "[default |INFO|model.py:225] [3/100]\ttrain_loss: 1.335709e+02\ttest_loss: 1.257331e+02\n"
     ]
    },
    {
     "name": "stdout",
     "output_type": "stream",
     "text": [
      "[600/600]\ttrain_mse: 121.1666\r"
     ]
    },
    {
     "name": "stderr",
     "output_type": "stream",
     "text": [
      "[default |INFO|model.py:225] [4/100]\ttrain_loss: 1.211666e+02\ttest_loss: 1.158489e+02\n"
     ]
    },
    {
     "name": "stdout",
     "output_type": "stream",
     "text": [
      "[600/600]\ttrain_mse: 116.3898\r"
     ]
    },
    {
     "name": "stderr",
     "output_type": "stream",
     "text": [
      "[default |INFO|model.py:225] [5/100]\ttrain_loss: 1.163898e+02\ttest_loss: 1.114619e+02\n"
     ]
    },
    {
     "name": "stdout",
     "output_type": "stream",
     "text": [
      "[600/600]\ttrain_mse: 113.9264\r"
     ]
    },
    {
     "name": "stderr",
     "output_type": "stream",
     "text": [
      "[default |INFO|model.py:225] [6/100]\ttrain_loss: 1.139264e+02\ttest_loss: 1.090023e+02\n"
     ]
    },
    {
     "name": "stdout",
     "output_type": "stream",
     "text": [
      "[600/600]\ttrain_mse: 111.2633\r"
     ]
    },
    {
     "name": "stderr",
     "output_type": "stream",
     "text": [
      "[default |INFO|model.py:225] [7/100]\ttrain_loss: 1.112633e+02\ttest_loss: 1.078768e+02\n"
     ]
    },
    {
     "name": "stdout",
     "output_type": "stream",
     "text": [
      "[600/600]\ttrain_mse: 109.9919\r"
     ]
    },
    {
     "name": "stderr",
     "output_type": "stream",
     "text": [
      "[default |INFO|model.py:225] [8/100]\ttrain_loss: 1.099919e+02\ttest_loss: 1.069487e+02\n"
     ]
    },
    {
     "name": "stdout",
     "output_type": "stream",
     "text": [
      "[600/600]\ttrain_mse: 108.8003\r"
     ]
    },
    {
     "name": "stderr",
     "output_type": "stream",
     "text": [
      "[default |INFO|model.py:225] [9/100]\ttrain_loss: 1.088003e+02\ttest_loss: 1.058538e+02\n"
     ]
    },
    {
     "name": "stdout",
     "output_type": "stream",
     "text": [
      "[600/600]\ttrain_mse: 108.0857\r"
     ]
    },
    {
     "name": "stderr",
     "output_type": "stream",
     "text": [
      "[default |INFO|model.py:225] [10/100]\ttrain_loss: 1.080857e+02\ttest_loss: 1.048391e+02\n"
     ]
    },
    {
     "name": "stdout",
     "output_type": "stream",
     "text": [
      "[600/600]\ttrain_mse: 107.3708\r"
     ]
    },
    {
     "name": "stderr",
     "output_type": "stream",
     "text": [
      "[default |INFO|model.py:225] [11/100]\ttrain_loss: 1.073708e+02\ttest_loss: 1.070632e+02\n"
     ]
    },
    {
     "name": "stdout",
     "output_type": "stream",
     "text": [
      "[600/600]\ttrain_mse: 106.8082\r"
     ]
    },
    {
     "name": "stderr",
     "output_type": "stream",
     "text": [
      "[default |INFO|model.py:225] [12/100]\ttrain_loss: 1.068082e+02\ttest_loss: 1.032750e+02\n"
     ]
    },
    {
     "name": "stdout",
     "output_type": "stream",
     "text": [
      "[600/600]\ttrain_mse: 106.0981\r"
     ]
    },
    {
     "name": "stderr",
     "output_type": "stream",
     "text": [
      "[default |INFO|model.py:225] [13/100]\ttrain_loss: 1.060981e+02\ttest_loss: 1.032431e+02\n"
     ]
    },
    {
     "name": "stdout",
     "output_type": "stream",
     "text": [
      "[600/600]\ttrain_mse: 105.8292\r"
     ]
    },
    {
     "name": "stderr",
     "output_type": "stream",
     "text": [
      "[default |INFO|model.py:225] [14/100]\ttrain_loss: 1.058292e+02\ttest_loss: 1.045725e+02\n"
     ]
    },
    {
     "name": "stdout",
     "output_type": "stream",
     "text": [
      "[600/600]\ttrain_mse: 105.3510\r"
     ]
    },
    {
     "name": "stderr",
     "output_type": "stream",
     "text": [
      "[default |INFO|model.py:225] [15/100]\ttrain_loss: 1.053510e+02\ttest_loss: 1.024106e+02\n"
     ]
    },
    {
     "name": "stdout",
     "output_type": "stream",
     "text": [
      "[600/600]\ttrain_mse: 104.9181\r"
     ]
    },
    {
     "name": "stderr",
     "output_type": "stream",
     "text": [
      "[default |INFO|model.py:225] [16/100]\ttrain_loss: 1.049181e+02\ttest_loss: 1.020868e+02\n"
     ]
    },
    {
     "name": "stdout",
     "output_type": "stream",
     "text": [
      "[600/600]\ttrain_mse: 104.6378\r"
     ]
    },
    {
     "name": "stderr",
     "output_type": "stream",
     "text": [
      "[default |INFO|model.py:225] [17/100]\ttrain_loss: 1.046378e+02\ttest_loss: 1.021899e+02\n"
     ]
    },
    {
     "name": "stdout",
     "output_type": "stream",
     "text": [
      "[600/600]\ttrain_mse: 104.3546\r"
     ]
    },
    {
     "name": "stderr",
     "output_type": "stream",
     "text": [
      "[default |INFO|model.py:225] [18/100]\ttrain_loss: 1.043546e+02\ttest_loss: 1.016244e+02\n"
     ]
    },
    {
     "name": "stdout",
     "output_type": "stream",
     "text": [
      "[600/600]\ttrain_mse: 104.0861\r"
     ]
    },
    {
     "name": "stderr",
     "output_type": "stream",
     "text": [
      "[default |INFO|model.py:225] [19/100]\ttrain_loss: 1.040861e+02\ttest_loss: 1.021491e+02\n"
     ]
    },
    {
     "name": "stdout",
     "output_type": "stream",
     "text": [
      "[600/600]\ttrain_mse: 103.7483\r"
     ]
    },
    {
     "name": "stderr",
     "output_type": "stream",
     "text": [
      "[default |INFO|model.py:225] [20/100]\ttrain_loss: 1.037483e+02\ttest_loss: 1.014734e+02\n"
     ]
    },
    {
     "name": "stdout",
     "output_type": "stream",
     "text": [
      "[600/600]\ttrain_mse: 103.4672\r"
     ]
    },
    {
     "name": "stderr",
     "output_type": "stream",
     "text": [
      "[default |INFO|model.py:225] [21/100]\ttrain_loss: 1.034672e+02\ttest_loss: 1.011077e+02\n"
     ]
    },
    {
     "name": "stdout",
     "output_type": "stream",
     "text": [
      "[600/600]\ttrain_mse: 103.3318\r"
     ]
    },
    {
     "name": "stderr",
     "output_type": "stream",
     "text": [
      "[default |INFO|model.py:225] [22/100]\ttrain_loss: 1.033318e+02\ttest_loss: 1.019063e+02\n"
     ]
    },
    {
     "name": "stdout",
     "output_type": "stream",
     "text": [
      "[600/600]\ttrain_mse: 103.0690\r"
     ]
    },
    {
     "name": "stderr",
     "output_type": "stream",
     "text": [
      "[default |INFO|model.py:225] [23/100]\ttrain_loss: 1.030690e+02\ttest_loss: 1.016818e+02\n"
     ]
    },
    {
     "name": "stdout",
     "output_type": "stream",
     "text": [
      "[600/600]\ttrain_mse: 102.8188\r"
     ]
    },
    {
     "name": "stderr",
     "output_type": "stream",
     "text": [
      "[default |INFO|model.py:225] [24/100]\ttrain_loss: 1.028188e+02\ttest_loss: 1.020962e+02\n"
     ]
    },
    {
     "name": "stdout",
     "output_type": "stream",
     "text": [
      "[600/600]\ttrain_mse: 102.5577\r"
     ]
    },
    {
     "name": "stderr",
     "output_type": "stream",
     "text": [
      "[default |INFO|model.py:225] [25/100]\ttrain_loss: 1.025577e+02\ttest_loss: 1.005975e+02\n"
     ]
    },
    {
     "name": "stdout",
     "output_type": "stream",
     "text": [
      "[600/600]\ttrain_mse: 102.5172\r"
     ]
    },
    {
     "name": "stderr",
     "output_type": "stream",
     "text": [
      "[default |INFO|model.py:225] [26/100]\ttrain_loss: 1.025172e+02\ttest_loss: 1.008155e+02\n"
     ]
    },
    {
     "name": "stdout",
     "output_type": "stream",
     "text": [
      "[600/600]\ttrain_mse: 102.3344\r"
     ]
    },
    {
     "name": "stderr",
     "output_type": "stream",
     "text": [
      "[default |INFO|model.py:225] [27/100]\ttrain_loss: 1.023344e+02\ttest_loss: 1.016825e+02\n"
     ]
    },
    {
     "name": "stdout",
     "output_type": "stream",
     "text": [
      "[600/600]\ttrain_mse: 102.2533\r"
     ]
    },
    {
     "name": "stderr",
     "output_type": "stream",
     "text": [
      "[default |INFO|model.py:225] [28/100]\ttrain_loss: 1.022533e+02\ttest_loss: 1.007929e+02\n"
     ]
    },
    {
     "name": "stdout",
     "output_type": "stream",
     "text": [
      "[600/600]\ttrain_mse: 102.0953\r"
     ]
    },
    {
     "name": "stderr",
     "output_type": "stream",
     "text": [
      "[default |INFO|model.py:225] [29/100]\ttrain_loss: 1.020953e+02\ttest_loss: 1.007508e+02\n"
     ]
    },
    {
     "name": "stdout",
     "output_type": "stream",
     "text": [
      "[600/600]\ttrain_mse: 101.7404\r"
     ]
    },
    {
     "name": "stderr",
     "output_type": "stream",
     "text": [
      "[default |INFO|model.py:225] [30/100]\ttrain_loss: 1.017404e+02\ttest_loss: 1.008407e+02\n"
     ]
    },
    {
     "name": "stdout",
     "output_type": "stream",
     "text": [
      "[600/600]\ttrain_mse: 101.7215\r"
     ]
    },
    {
     "name": "stderr",
     "output_type": "stream",
     "text": [
      "[default |INFO|model.py:225] [31/100]\ttrain_loss: 1.017215e+02\ttest_loss: 9.993002e+01\n"
     ]
    },
    {
     "name": "stdout",
     "output_type": "stream",
     "text": [
      "[600/600]\ttrain_mse: 101.5931\r"
     ]
    },
    {
     "name": "stderr",
     "output_type": "stream",
     "text": [
      "[default |INFO|model.py:225] [32/100]\ttrain_loss: 1.015931e+02\ttest_loss: 1.001456e+02\n"
     ]
    },
    {
     "name": "stdout",
     "output_type": "stream",
     "text": [
      "[600/600]\ttrain_mse: 101.4559\r"
     ]
    },
    {
     "name": "stderr",
     "output_type": "stream",
     "text": [
      "[default |INFO|model.py:225] [33/100]\ttrain_loss: 1.014559e+02\ttest_loss: 9.965681e+01\n"
     ]
    },
    {
     "name": "stdout",
     "output_type": "stream",
     "text": [
      "[600/600]\ttrain_mse: 101.2956\r"
     ]
    },
    {
     "name": "stderr",
     "output_type": "stream",
     "text": [
      "[default |INFO|model.py:225] [34/100]\ttrain_loss: 1.012956e+02\ttest_loss: 1.003255e+02\n"
     ]
    },
    {
     "name": "stdout",
     "output_type": "stream",
     "text": [
      "[600/600]\ttrain_mse: 101.1863\r"
     ]
    },
    {
     "name": "stderr",
     "output_type": "stream",
     "text": [
      "[default |INFO|model.py:225] [35/100]\ttrain_loss: 1.011863e+02\ttest_loss: 1.008844e+02\n"
     ]
    },
    {
     "name": "stdout",
     "output_type": "stream",
     "text": [
      "[600/600]\ttrain_mse: 101.1714\r"
     ]
    },
    {
     "name": "stderr",
     "output_type": "stream",
     "text": [
      "[default |INFO|model.py:225] [36/100]\ttrain_loss: 1.011714e+02\ttest_loss: 1.004305e+02\n"
     ]
    },
    {
     "name": "stdout",
     "output_type": "stream",
     "text": [
      "[600/600]\ttrain_mse: 100.9051\r"
     ]
    },
    {
     "name": "stderr",
     "output_type": "stream",
     "text": [
      "[default |INFO|model.py:225] [37/100]\ttrain_loss: 1.009051e+02\ttest_loss: 9.956872e+01\n"
     ]
    },
    {
     "name": "stdout",
     "output_type": "stream",
     "text": [
      "[600/600]\ttrain_mse: 100.8193\r"
     ]
    },
    {
     "name": "stderr",
     "output_type": "stream",
     "text": [
      "[default |INFO|model.py:225] [38/100]\ttrain_loss: 1.008193e+02\ttest_loss: 1.003451e+02\n"
     ]
    },
    {
     "name": "stdout",
     "output_type": "stream",
     "text": [
      "[600/600]\ttrain_mse: 100.8552\r"
     ]
    },
    {
     "name": "stderr",
     "output_type": "stream",
     "text": [
      "[default |INFO|model.py:225] [39/100]\ttrain_loss: 1.008552e+02\ttest_loss: 1.003648e+02\n"
     ]
    },
    {
     "name": "stdout",
     "output_type": "stream",
     "text": [
      "[600/600]\ttrain_mse: 100.7628\r"
     ]
    },
    {
     "name": "stderr",
     "output_type": "stream",
     "text": [
      "[default |INFO|model.py:225] [40/100]\ttrain_loss: 1.007628e+02\ttest_loss: 9.964018e+01\n"
     ]
    },
    {
     "name": "stdout",
     "output_type": "stream",
     "text": [
      "[600/600]\ttrain_mse: 100.4191\r"
     ]
    },
    {
     "name": "stderr",
     "output_type": "stream",
     "text": [
      "[default |INFO|model.py:225] [41/100]\ttrain_loss: 1.004191e+02\ttest_loss: 1.001234e+02\n"
     ]
    },
    {
     "name": "stdout",
     "output_type": "stream",
     "text": [
      "[600/600]\ttrain_mse: 100.3671\r"
     ]
    },
    {
     "name": "stderr",
     "output_type": "stream",
     "text": [
      "[default |INFO|model.py:225] [42/100]\ttrain_loss: 1.003671e+02\ttest_loss: 1.021810e+02\n"
     ]
    },
    {
     "name": "stdout",
     "output_type": "stream",
     "text": [
      "[600/600]\ttrain_mse: 100.4364\r"
     ]
    },
    {
     "name": "stderr",
     "output_type": "stream",
     "text": [
      "[default |INFO|model.py:225] [43/100]\ttrain_loss: 1.004364e+02\ttest_loss: 9.964498e+01\n"
     ]
    },
    {
     "name": "stdout",
     "output_type": "stream",
     "text": [
      "[600/600]\ttrain_mse: 100.4020\r"
     ]
    },
    {
     "name": "stderr",
     "output_type": "stream",
     "text": [
      "[default |INFO|model.py:225] [44/100]\ttrain_loss: 1.004020e+02\ttest_loss: 9.985427e+01\n"
     ]
    },
    {
     "name": "stdout",
     "output_type": "stream",
     "text": [
      "[600/600]\ttrain_mse: 100.1955\r"
     ]
    },
    {
     "name": "stderr",
     "output_type": "stream",
     "text": [
      "[default |INFO|model.py:225] [45/100]\ttrain_loss: 1.001955e+02\ttest_loss: 9.953455e+01\n"
     ]
    },
    {
     "name": "stdout",
     "output_type": "stream",
     "text": [
      "[600/600]\ttrain_mse: 100.0969\r"
     ]
    },
    {
     "name": "stderr",
     "output_type": "stream",
     "text": [
      "[default |INFO|model.py:225] [46/100]\ttrain_loss: 1.000969e+02\ttest_loss: 9.932894e+01\n"
     ]
    },
    {
     "name": "stdout",
     "output_type": "stream",
     "text": [
      "[600/600]\ttrain_mse: 99.98518\r"
     ]
    },
    {
     "name": "stderr",
     "output_type": "stream",
     "text": [
      "[default |INFO|model.py:225] [47/100]\ttrain_loss: 9.998512e+01\ttest_loss: 9.935015e+01\n"
     ]
    },
    {
     "name": "stdout",
     "output_type": "stream",
     "text": [
      "[600/600]\ttrain_mse: 99.9090\r"
     ]
    },
    {
     "name": "stderr",
     "output_type": "stream",
     "text": [
      "[default |INFO|model.py:225] [48/100]\ttrain_loss: 9.990897e+01\ttest_loss: 9.978787e+01\n"
     ]
    },
    {
     "name": "stdout",
     "output_type": "stream",
     "text": [
      "[600/600]\ttrain_mse: 99.7467\r"
     ]
    },
    {
     "name": "stderr",
     "output_type": "stream",
     "text": [
      "[default |INFO|model.py:225] [49/100]\ttrain_loss: 9.974668e+01\ttest_loss: 9.929749e+01\n"
     ]
    },
    {
     "name": "stdout",
     "output_type": "stream",
     "text": [
      "[600/600]\ttrain_mse: 99.7946\r"
     ]
    },
    {
     "name": "stderr",
     "output_type": "stream",
     "text": [
      "[default |INFO|model.py:225] [50/100]\ttrain_loss: 9.979456e+01\ttest_loss: 1.002167e+02\n"
     ]
    },
    {
     "name": "stdout",
     "output_type": "stream",
     "text": [
      "[600/600]\ttrain_mse: 99.7315\r"
     ]
    },
    {
     "name": "stderr",
     "output_type": "stream",
     "text": [
      "[default |INFO|model.py:225] [51/100]\ttrain_loss: 9.973147e+01\ttest_loss: 9.909755e+01\n"
     ]
    },
    {
     "name": "stdout",
     "output_type": "stream",
     "text": [
      "[600/600]\ttrain_mse: 99.5402\r"
     ]
    },
    {
     "name": "stderr",
     "output_type": "stream",
     "text": [
      "[default |INFO|model.py:225] [52/100]\ttrain_loss: 9.954016e+01\ttest_loss: 9.933474e+01\n"
     ]
    },
    {
     "name": "stdout",
     "output_type": "stream",
     "text": [
      "[600/600]\ttrain_mse: 99.5392\r"
     ]
    },
    {
     "name": "stderr",
     "output_type": "stream",
     "text": [
      "[default |INFO|model.py:225] [53/100]\ttrain_loss: 9.953920e+01\ttest_loss: 9.933769e+01\n"
     ]
    },
    {
     "name": "stdout",
     "output_type": "stream",
     "text": [
      "[600/600]\ttrain_mse: 99.4203\r"
     ]
    },
    {
     "name": "stderr",
     "output_type": "stream",
     "text": [
      "[default |INFO|model.py:225] [54/100]\ttrain_loss: 9.942029e+01\ttest_loss: 9.932384e+01\n"
     ]
    },
    {
     "name": "stdout",
     "output_type": "stream",
     "text": [
      "[600/600]\ttrain_mse: 99.4253\r"
     ]
    },
    {
     "name": "stderr",
     "output_type": "stream",
     "text": [
      "[default |INFO|model.py:225] [55/100]\ttrain_loss: 9.942532e+01\ttest_loss: 9.962789e+01\n"
     ]
    },
    {
     "name": "stdout",
     "output_type": "stream",
     "text": [
      "[600/600]\ttrain_mse: 99.4488\r"
     ]
    },
    {
     "name": "stderr",
     "output_type": "stream",
     "text": [
      "[default |INFO|model.py:225] [56/100]\ttrain_loss: 9.944882e+01\ttest_loss: 9.924641e+01\n"
     ]
    },
    {
     "name": "stdout",
     "output_type": "stream",
     "text": [
      "[600/600]\ttrain_mse: 99.2858\r"
     ]
    },
    {
     "name": "stderr",
     "output_type": "stream",
     "text": [
      "[default |INFO|model.py:225] [57/100]\ttrain_loss: 9.928583e+01\ttest_loss: 9.929869e+01\n"
     ]
    },
    {
     "name": "stdout",
     "output_type": "stream",
     "text": [
      "[600/600]\ttrain_mse: 99.1658\r"
     ]
    },
    {
     "name": "stderr",
     "output_type": "stream",
     "text": [
      "[default |INFO|model.py:225] [58/100]\ttrain_loss: 9.916584e+01\ttest_loss: 9.899620e+01\n"
     ]
    },
    {
     "name": "stdout",
     "output_type": "stream",
     "text": [
      "[600/600]\ttrain_mse: 99.1898\r"
     ]
    },
    {
     "name": "stderr",
     "output_type": "stream",
     "text": [
      "[default |INFO|model.py:225] [59/100]\ttrain_loss: 9.918976e+01\ttest_loss: 9.952740e+01\n"
     ]
    },
    {
     "name": "stdout",
     "output_type": "stream",
     "text": [
      "[600/600]\ttrain_mse: 99.0629\r"
     ]
    },
    {
     "name": "stderr",
     "output_type": "stream",
     "text": [
      "[default |INFO|model.py:225] [60/100]\ttrain_loss: 9.906287e+01\ttest_loss: 1.002173e+02\n"
     ]
    },
    {
     "name": "stdout",
     "output_type": "stream",
     "text": [
      "[600/600]\ttrain_mse: 98.9789\r"
     ]
    },
    {
     "name": "stderr",
     "output_type": "stream",
     "text": [
      "[default |INFO|model.py:225] [61/100]\ttrain_loss: 9.897890e+01\ttest_loss: 9.915094e+01\n"
     ]
    },
    {
     "name": "stdout",
     "output_type": "stream",
     "text": [
      "[600/600]\ttrain_mse: 98.9802\r"
     ]
    },
    {
     "name": "stderr",
     "output_type": "stream",
     "text": [
      "[default |INFO|model.py:225] [62/100]\ttrain_loss: 9.898024e+01\ttest_loss: 9.968926e+01\n"
     ]
    },
    {
     "name": "stdout",
     "output_type": "stream",
     "text": [
      "[600/600]\ttrain_mse: 99.0595\r"
     ]
    },
    {
     "name": "stderr",
     "output_type": "stream",
     "text": [
      "[default |INFO|model.py:225] [63/100]\ttrain_loss: 9.905950e+01\ttest_loss: 9.916078e+01\n"
     ]
    },
    {
     "name": "stdout",
     "output_type": "stream",
     "text": [
      "[600/600]\ttrain_mse: 98.8410\r"
     ]
    },
    {
     "name": "stderr",
     "output_type": "stream",
     "text": [
      "[default |INFO|model.py:225] [64/100]\ttrain_loss: 9.884099e+01\ttest_loss: 9.878294e+01\n"
     ]
    },
    {
     "name": "stdout",
     "output_type": "stream",
     "text": [
      "[600/600]\ttrain_mse: 98.9757\r"
     ]
    },
    {
     "name": "stderr",
     "output_type": "stream",
     "text": [
      "[default |INFO|model.py:225] [65/100]\ttrain_loss: 9.897573e+01\ttest_loss: 9.930105e+01\n"
     ]
    },
    {
     "name": "stdout",
     "output_type": "stream",
     "text": [
      "[600/600]\ttrain_mse: 98.6688\r"
     ]
    },
    {
     "name": "stderr",
     "output_type": "stream",
     "text": [
      "[default |INFO|model.py:225] [66/100]\ttrain_loss: 9.866878e+01\ttest_loss: 9.912672e+01\n"
     ]
    },
    {
     "name": "stdout",
     "output_type": "stream",
     "text": [
      "[600/600]\ttrain_mse: 98.7164\r"
     ]
    },
    {
     "name": "stderr",
     "output_type": "stream",
     "text": [
      "[default |INFO|model.py:225] [67/100]\ttrain_loss: 9.871638e+01\ttest_loss: 9.868052e+01\n"
     ]
    },
    {
     "name": "stdout",
     "output_type": "stream",
     "text": [
      "[600/600]\ttrain_mse: 98.7012\r"
     ]
    },
    {
     "name": "stderr",
     "output_type": "stream",
     "text": [
      "[default |INFO|model.py:225] [68/100]\ttrain_loss: 9.870119e+01\ttest_loss: 9.877694e+01\n"
     ]
    },
    {
     "name": "stdout",
     "output_type": "stream",
     "text": [
      "[600/600]\ttrain_mse: 98.6810\r"
     ]
    },
    {
     "name": "stderr",
     "output_type": "stream",
     "text": [
      "[default |INFO|model.py:225] [69/100]\ttrain_loss: 9.868103e+01\ttest_loss: 9.937434e+01\n"
     ]
    },
    {
     "name": "stdout",
     "output_type": "stream",
     "text": [
      "[600/600]\ttrain_mse: 98.4955\r"
     ]
    },
    {
     "name": "stderr",
     "output_type": "stream",
     "text": [
      "[default |INFO|model.py:225] [70/100]\ttrain_loss: 9.849550e+01\ttest_loss: 9.898175e+01\n"
     ]
    },
    {
     "name": "stdout",
     "output_type": "stream",
     "text": [
      "[600/600]\ttrain_mse: 98.5764\r"
     ]
    },
    {
     "name": "stderr",
     "output_type": "stream",
     "text": [
      "[default |INFO|model.py:225] [71/100]\ttrain_loss: 9.857637e+01\ttest_loss: 9.964998e+01\n"
     ]
    },
    {
     "name": "stdout",
     "output_type": "stream",
     "text": [
      "[600/600]\ttrain_mse: 98.4278\r"
     ]
    },
    {
     "name": "stderr",
     "output_type": "stream",
     "text": [
      "[default |INFO|model.py:225] [72/100]\ttrain_loss: 9.842782e+01\ttest_loss: 9.872289e+01\n"
     ]
    },
    {
     "name": "stdout",
     "output_type": "stream",
     "text": [
      "[600/600]\ttrain_mse: 98.4808\r"
     ]
    },
    {
     "name": "stderr",
     "output_type": "stream",
     "text": [
      "[default |INFO|model.py:225] [73/100]\ttrain_loss: 9.848081e+01\ttest_loss: 9.996264e+01\n"
     ]
    },
    {
     "name": "stdout",
     "output_type": "stream",
     "text": [
      "[600/600]\ttrain_mse: 98.3517\r"
     ]
    },
    {
     "name": "stderr",
     "output_type": "stream",
     "text": [
      "[default |INFO|model.py:225] [74/100]\ttrain_loss: 9.835173e+01\ttest_loss: 9.895293e+01\n"
     ]
    },
    {
     "name": "stdout",
     "output_type": "stream",
     "text": [
      "[600/600]\ttrain_mse: 98.3887\r"
     ]
    },
    {
     "name": "stderr",
     "output_type": "stream",
     "text": [
      "[default |INFO|model.py:225] [75/100]\ttrain_loss: 9.838865e+01\ttest_loss: 9.906345e+01\n"
     ]
    },
    {
     "name": "stdout",
     "output_type": "stream",
     "text": [
      "[600/600]\ttrain_mse: 98.2544\r"
     ]
    },
    {
     "name": "stderr",
     "output_type": "stream",
     "text": [
      "[default |INFO|model.py:225] [76/100]\ttrain_loss: 9.825440e+01\ttest_loss: 9.878190e+01\n"
     ]
    },
    {
     "name": "stdout",
     "output_type": "stream",
     "text": [
      "[600/600]\ttrain_mse: 98.2371\r"
     ]
    },
    {
     "name": "stderr",
     "output_type": "stream",
     "text": [
      "[default |INFO|model.py:225] [77/100]\ttrain_loss: 9.823708e+01\ttest_loss: 9.930810e+01\n"
     ]
    },
    {
     "name": "stdout",
     "output_type": "stream",
     "text": [
      "[600/600]\ttrain_mse: 98.2139\r"
     ]
    },
    {
     "name": "stderr",
     "output_type": "stream",
     "text": [
      "[default |INFO|model.py:225] [78/100]\ttrain_loss: 9.821394e+01\ttest_loss: 9.921662e+01\n"
     ]
    },
    {
     "name": "stdout",
     "output_type": "stream",
     "text": [
      "[600/600]\ttrain_mse: 98.2489\r"
     ]
    },
    {
     "name": "stderr",
     "output_type": "stream",
     "text": [
      "[default |INFO|model.py:225] [79/100]\ttrain_loss: 9.824890e+01\ttest_loss: 9.871510e+01\n"
     ]
    },
    {
     "name": "stdout",
     "output_type": "stream",
     "text": [
      "[600/600]\ttrain_mse: 97.9775\r"
     ]
    },
    {
     "name": "stderr",
     "output_type": "stream",
     "text": [
      "[default |INFO|model.py:225] [80/100]\ttrain_loss: 9.797754e+01\ttest_loss: 9.926262e+01\n"
     ]
    },
    {
     "name": "stdout",
     "output_type": "stream",
     "text": [
      "[600/600]\ttrain_mse: 98.1257\r"
     ]
    },
    {
     "name": "stderr",
     "output_type": "stream",
     "text": [
      "[default |INFO|model.py:225] [81/100]\ttrain_loss: 9.812573e+01\ttest_loss: 9.869661e+01\n"
     ]
    },
    {
     "name": "stdout",
     "output_type": "stream",
     "text": [
      "[600/600]\ttrain_mse: 97.9762\r"
     ]
    },
    {
     "name": "stderr",
     "output_type": "stream",
     "text": [
      "[default |INFO|model.py:225] [82/100]\ttrain_loss: 9.797621e+01\ttest_loss: 1.003813e+02\n"
     ]
    },
    {
     "name": "stdout",
     "output_type": "stream",
     "text": [
      "[600/600]\ttrain_mse: 97.9733\r"
     ]
    },
    {
     "name": "stderr",
     "output_type": "stream",
     "text": [
      "[default |INFO|model.py:225] [83/100]\ttrain_loss: 9.797326e+01\ttest_loss: 9.918680e+01\n"
     ]
    },
    {
     "name": "stdout",
     "output_type": "stream",
     "text": [
      "[600/600]\ttrain_mse: 97.8863\r"
     ]
    },
    {
     "name": "stderr",
     "output_type": "stream",
     "text": [
      "[default |INFO|model.py:225] [84/100]\ttrain_loss: 9.788632e+01\ttest_loss: 9.855764e+01\n"
     ]
    },
    {
     "name": "stdout",
     "output_type": "stream",
     "text": [
      "[600/600]\ttrain_mse: 97.9196\r"
     ]
    },
    {
     "name": "stderr",
     "output_type": "stream",
     "text": [
      "[default |INFO|model.py:225] [85/100]\ttrain_loss: 9.791959e+01\ttest_loss: 9.994042e+01\n"
     ]
    },
    {
     "name": "stdout",
     "output_type": "stream",
     "text": [
      "[600/600]\ttrain_mse: 97.9041\r"
     ]
    },
    {
     "name": "stderr",
     "output_type": "stream",
     "text": [
      "[default |INFO|model.py:225] [86/100]\ttrain_loss: 9.790407e+01\ttest_loss: 9.857968e+01\n"
     ]
    },
    {
     "name": "stdout",
     "output_type": "stream",
     "text": [
      "[600/600]\ttrain_mse: 97.8069\r"
     ]
    },
    {
     "name": "stderr",
     "output_type": "stream",
     "text": [
      "[default |INFO|model.py:225] [87/100]\ttrain_loss: 9.780687e+01\ttest_loss: 9.849581e+01\n"
     ]
    },
    {
     "name": "stdout",
     "output_type": "stream",
     "text": [
      "[600/600]\ttrain_mse: 97.7012\r"
     ]
    },
    {
     "name": "stderr",
     "output_type": "stream",
     "text": [
      "[default |INFO|model.py:225] [88/100]\ttrain_loss: 9.770119e+01\ttest_loss: 9.943569e+01\n"
     ]
    },
    {
     "name": "stdout",
     "output_type": "stream",
     "text": [
      "[600/600]\ttrain_mse: 97.7690\r"
     ]
    },
    {
     "name": "stderr",
     "output_type": "stream",
     "text": [
      "[default |INFO|model.py:225] [89/100]\ttrain_loss: 9.776903e+01\ttest_loss: 9.989256e+01\n"
     ]
    },
    {
     "name": "stdout",
     "output_type": "stream",
     "text": [
      "[600/600]\ttrain_mse: 97.7157\r"
     ]
    },
    {
     "name": "stderr",
     "output_type": "stream",
     "text": [
      "[default |INFO|model.py:225] [90/100]\ttrain_loss: 9.771567e+01\ttest_loss: 9.831161e+01\n"
     ]
    },
    {
     "name": "stdout",
     "output_type": "stream",
     "text": [
      "[600/600]\ttrain_mse: 97.6566\r"
     ]
    },
    {
     "name": "stderr",
     "output_type": "stream",
     "text": [
      "[default |INFO|model.py:225] [91/100]\ttrain_loss: 9.765662e+01\ttest_loss: 9.853431e+01\n"
     ]
    },
    {
     "name": "stdout",
     "output_type": "stream",
     "text": [
      "[600/600]\ttrain_mse: 97.6794\r"
     ]
    },
    {
     "name": "stderr",
     "output_type": "stream",
     "text": [
      "[default |INFO|model.py:225] [92/100]\ttrain_loss: 9.767945e+01\ttest_loss: 9.896479e+01\n"
     ]
    },
    {
     "name": "stdout",
     "output_type": "stream",
     "text": [
      "[600/600]\ttrain_mse: 97.5972\r"
     ]
    },
    {
     "name": "stderr",
     "output_type": "stream",
     "text": [
      "[default |INFO|model.py:225] [93/100]\ttrain_loss: 9.759724e+01\ttest_loss: 9.860157e+01\n"
     ]
    },
    {
     "name": "stdout",
     "output_type": "stream",
     "text": [
      "[600/600]\ttrain_mse: 97.5511\r"
     ]
    },
    {
     "name": "stderr",
     "output_type": "stream",
     "text": [
      "[default |INFO|model.py:225] [94/100]\ttrain_loss: 9.755110e+01\ttest_loss: 9.831773e+01\n"
     ]
    },
    {
     "name": "stdout",
     "output_type": "stream",
     "text": [
      "[600/600]\ttrain_mse: 97.4887\r"
     ]
    },
    {
     "name": "stderr",
     "output_type": "stream",
     "text": [
      "[default |INFO|model.py:225] [95/100]\ttrain_loss: 9.748874e+01\ttest_loss: 9.896586e+01\n"
     ]
    },
    {
     "name": "stdout",
     "output_type": "stream",
     "text": [
      "[600/600]\ttrain_mse: 97.6031\r"
     ]
    },
    {
     "name": "stderr",
     "output_type": "stream",
     "text": [
      "[default |INFO|model.py:225] [96/100]\ttrain_loss: 9.760305e+01\ttest_loss: 9.835386e+01\n"
     ]
    },
    {
     "name": "stdout",
     "output_type": "stream",
     "text": [
      "[600/600]\ttrain_mse: 97.4443\r"
     ]
    },
    {
     "name": "stderr",
     "output_type": "stream",
     "text": [
      "[default |INFO|model.py:225] [97/100]\ttrain_loss: 9.744434e+01\ttest_loss: 9.881479e+01\n"
     ]
    },
    {
     "name": "stdout",
     "output_type": "stream",
     "text": [
      "[600/600]\ttrain_mse: 97.4515\r"
     ]
    },
    {
     "name": "stderr",
     "output_type": "stream",
     "text": [
      "[default |INFO|model.py:225] [98/100]\ttrain_loss: 9.745150e+01\ttest_loss: 9.874592e+01\n"
     ]
    },
    {
     "name": "stdout",
     "output_type": "stream",
     "text": [
      "[600/600]\ttrain_mse: 97.4259\r"
     ]
    },
    {
     "name": "stderr",
     "output_type": "stream",
     "text": [
      "[default |INFO|model.py:225] [99/100]\ttrain_loss: 9.742588e+01\ttest_loss: 1.006011e+02\n"
     ]
    },
    {
     "name": "stdout",
     "output_type": "stream",
     "text": [
      "[600/600]\ttrain_mse: 97.3237\r"
     ]
    },
    {
     "name": "stderr",
     "output_type": "stream",
     "text": [
      "[default |INFO|model.py:225] [100/100]\ttrain_loss: 9.732366e+01\ttest_loss: 9.829835e+01\n",
      "[default |INFO|model.py:305] Training Finished!\n",
      "[default |INFO|model.py:306] Elapsed time: 1465.836s\n"
     ]
    }
   ],
   "source": [
    "model = VAE_MNIST(cfg, log, device = device)\n",
    "model.train()\n",
    "# model.train(resume = True)"
   ]
  },
  {
   "cell_type": "markdown",
   "metadata": {},
   "source": [
    "## Model2"
   ]
  },
  {
   "cell_type": "code",
   "execution_count": 6,
   "metadata": {
    "scrolled": true
   },
   "outputs": [
    {
     "name": "stderr",
     "output_type": "stream",
     "text": [
      "[default |INFO|_base_model.py:27] ------------------------------------------------------------\n",
      "[default |INFO|_base_model.py:29] model_name : VAE_MNIST\n",
      "[default |INFO|_base_model.py:29] train_data : MNIST\n",
      "[default |INFO|_base_model.py:29] z_sampler : gaus\n",
      "[default |INFO|_base_model.py:29] z_dim : 8\n",
      "[default |INFO|_base_model.py:29] prob_enc : True\n",
      "[default |INFO|_base_model.py:29] encoder_pretrain : False\n",
      "[default |INFO|_base_model.py:29] encoder_pretrain_batch_size : 1000\n",
      "[default |INFO|_base_model.py:29] encoder_pretrain_max_step : 200\n",
      "[default |INFO|_base_model.py:29] lr : 1e-3\n",
      "[default |INFO|_base_model.py:29] beta1 : 0.5\n",
      "[default |INFO|_base_model.py:29] lambda : 10.0\n",
      "[default |INFO|_base_model.py:29] lr_schedule : manual\n",
      "[default |INFO|_base_model.py:29] validate : True\n",
      "[default |INFO|_base_model.py:29] histogram : True\n",
      "[default |INFO|_base_model.py:29] batch_size : 100\n",
      "[default |INFO|_base_model.py:29] epoch : 100\n",
      "[default |INFO|_base_model.py:29] replace : False\n",
      "[default |INFO|_base_model.py:29] iter_per_epoch : None\n",
      "[default |INFO|_base_model.py:29] save_best : False\n",
      "[default |INFO|_base_model.py:32] data_home : ./data/MNIST\n",
      "[default |INFO|_base_model.py:32] tb_logs : ./result/tb_logs/vae2\n",
      "[default |INFO|_base_model.py:32] save_path : ./result/weights/weight_vae2.pt\n",
      "[default |INFO|_base_model.py:32] save_state : ./result/states/state_vae2.pt\n",
      "[default |INFO|_base_model.py:32] save_img_path : ./result/plots/vae2/\n",
      "[default |INFO|model.py:149] ------------------------------------------------------------\n",
      "[default |INFO|model.py:150] Training Start!\n"
     ]
    },
    {
     "name": "stdout",
     "output_type": "stream",
     "text": [
      "[600/600]\ttrain_mse: 210.6326\r"
     ]
    },
    {
     "name": "stderr",
     "output_type": "stream",
     "text": [
      "[default |INFO|model.py:225] [1/100]\ttrain_loss: 2.106326e+02\ttest_loss: 1.796594e+02\n"
     ]
    },
    {
     "name": "stdout",
     "output_type": "stream",
     "text": [
      "[600/600]\ttrain_mse: 168.4172\r"
     ]
    },
    {
     "name": "stderr",
     "output_type": "stream",
     "text": [
      "[default |INFO|model.py:225] [2/100]\ttrain_loss: 1.684172e+02\ttest_loss: 1.543037e+02\n"
     ]
    },
    {
     "name": "stdout",
     "output_type": "stream",
     "text": [
      "[600/600]\ttrain_mse: 149.0360\r"
     ]
    },
    {
     "name": "stderr",
     "output_type": "stream",
     "text": [
      "[default |INFO|model.py:225] [3/100]\ttrain_loss: 1.490360e+02\ttest_loss: 1.446132e+02\n"
     ]
    },
    {
     "name": "stdout",
     "output_type": "stream",
     "text": [
      "[600/600]\ttrain_mse: 143.1747\r"
     ]
    },
    {
     "name": "stderr",
     "output_type": "stream",
     "text": [
      "[default |INFO|model.py:225] [4/100]\ttrain_loss: 1.431747e+02\ttest_loss: 1.367180e+02\n"
     ]
    },
    {
     "name": "stdout",
     "output_type": "stream",
     "text": [
      "[600/600]\ttrain_mse: 137.2412\r"
     ]
    },
    {
     "name": "stderr",
     "output_type": "stream",
     "text": [
      "[default |INFO|model.py:225] [5/100]\ttrain_loss: 1.372412e+02\ttest_loss: 1.334578e+02\n"
     ]
    },
    {
     "name": "stdout",
     "output_type": "stream",
     "text": [
      "[600/600]\ttrain_mse: 134.1023\r"
     ]
    },
    {
     "name": "stderr",
     "output_type": "stream",
     "text": [
      "[default |INFO|model.py:225] [6/100]\ttrain_loss: 1.341023e+02\ttest_loss: 1.304727e+02\n"
     ]
    },
    {
     "name": "stdout",
     "output_type": "stream",
     "text": [
      "[600/600]\ttrain_mse: 132.1570\r"
     ]
    },
    {
     "name": "stderr",
     "output_type": "stream",
     "text": [
      "[default |INFO|model.py:225] [7/100]\ttrain_loss: 1.321570e+02\ttest_loss: 1.288139e+02\n"
     ]
    },
    {
     "name": "stdout",
     "output_type": "stream",
     "text": [
      "[600/600]\ttrain_mse: 130.2448\r"
     ]
    },
    {
     "name": "stderr",
     "output_type": "stream",
     "text": [
      "[default |INFO|model.py:225] [8/100]\ttrain_loss: 1.302448e+02\ttest_loss: 1.263595e+02\n"
     ]
    },
    {
     "name": "stdout",
     "output_type": "stream",
     "text": [
      "[600/600]\ttrain_mse: 126.4459\r"
     ]
    },
    {
     "name": "stderr",
     "output_type": "stream",
     "text": [
      "[default |INFO|model.py:225] [9/100]\ttrain_loss: 1.264459e+02\ttest_loss: 1.223768e+02\n"
     ]
    },
    {
     "name": "stdout",
     "output_type": "stream",
     "text": [
      "[600/600]\ttrain_mse: 123.9885\r"
     ]
    },
    {
     "name": "stderr",
     "output_type": "stream",
     "text": [
      "[default |INFO|model.py:225] [10/100]\ttrain_loss: 1.239885e+02\ttest_loss: 1.218237e+02\n"
     ]
    },
    {
     "name": "stdout",
     "output_type": "stream",
     "text": [
      "[600/600]\ttrain_mse: 122.5026\r"
     ]
    },
    {
     "name": "stderr",
     "output_type": "stream",
     "text": [
      "[default |INFO|model.py:225] [11/100]\ttrain_loss: 1.225026e+02\ttest_loss: 1.195470e+02\n"
     ]
    },
    {
     "name": "stdout",
     "output_type": "stream",
     "text": [
      "[600/600]\ttrain_mse: 120.3537\r"
     ]
    },
    {
     "name": "stderr",
     "output_type": "stream",
     "text": [
      "[default |INFO|model.py:225] [12/100]\ttrain_loss: 1.203537e+02\ttest_loss: 1.162038e+02\n"
     ]
    },
    {
     "name": "stdout",
     "output_type": "stream",
     "text": [
      "[600/600]\ttrain_mse: 117.1834\r"
     ]
    },
    {
     "name": "stderr",
     "output_type": "stream",
     "text": [
      "[default |INFO|model.py:225] [13/100]\ttrain_loss: 1.171834e+02\ttest_loss: 1.134618e+02\n"
     ]
    },
    {
     "name": "stdout",
     "output_type": "stream",
     "text": [
      "[600/600]\ttrain_mse: 116.0718\r"
     ]
    },
    {
     "name": "stderr",
     "output_type": "stream",
     "text": [
      "[default |INFO|model.py:225] [14/100]\ttrain_loss: 1.160718e+02\ttest_loss: 1.143015e+02\n"
     ]
    },
    {
     "name": "stdout",
     "output_type": "stream",
     "text": [
      "[600/600]\ttrain_mse: 114.9600\r"
     ]
    },
    {
     "name": "stderr",
     "output_type": "stream",
     "text": [
      "[default |INFO|model.py:225] [15/100]\ttrain_loss: 1.149600e+02\ttest_loss: 1.118462e+02\n"
     ]
    },
    {
     "name": "stdout",
     "output_type": "stream",
     "text": [
      "[600/600]\ttrain_mse: 114.2704\r"
     ]
    },
    {
     "name": "stderr",
     "output_type": "stream",
     "text": [
      "[default |INFO|model.py:225] [16/100]\ttrain_loss: 1.142704e+02\ttest_loss: 1.128482e+02\n"
     ]
    },
    {
     "name": "stdout",
     "output_type": "stream",
     "text": [
      "[600/600]\ttrain_mse: 113.7844\r"
     ]
    },
    {
     "name": "stderr",
     "output_type": "stream",
     "text": [
      "[default |INFO|model.py:225] [17/100]\ttrain_loss: 1.137844e+02\ttest_loss: 1.113966e+02\n"
     ]
    },
    {
     "name": "stdout",
     "output_type": "stream",
     "text": [
      "[600/600]\ttrain_mse: 113.1169\r"
     ]
    },
    {
     "name": "stderr",
     "output_type": "stream",
     "text": [
      "[default |INFO|model.py:225] [18/100]\ttrain_loss: 1.131169e+02\ttest_loss: 1.105360e+02\n"
     ]
    },
    {
     "name": "stdout",
     "output_type": "stream",
     "text": [
      "[600/600]\ttrain_mse: 112.8461\r"
     ]
    },
    {
     "name": "stderr",
     "output_type": "stream",
     "text": [
      "[default |INFO|model.py:225] [19/100]\ttrain_loss: 1.128461e+02\ttest_loss: 1.112337e+02\n"
     ]
    },
    {
     "name": "stdout",
     "output_type": "stream",
     "text": [
      "[600/600]\ttrain_mse: 112.3924\r"
     ]
    },
    {
     "name": "stderr",
     "output_type": "stream",
     "text": [
      "[default |INFO|model.py:225] [20/100]\ttrain_loss: 1.123924e+02\ttest_loss: 1.101587e+02\n"
     ]
    },
    {
     "name": "stdout",
     "output_type": "stream",
     "text": [
      "[600/600]\ttrain_mse: 112.1119\r"
     ]
    },
    {
     "name": "stderr",
     "output_type": "stream",
     "text": [
      "[default |INFO|model.py:225] [21/100]\ttrain_loss: 1.121119e+02\ttest_loss: 1.093547e+02\n"
     ]
    },
    {
     "name": "stdout",
     "output_type": "stream",
     "text": [
      "[600/600]\ttrain_mse: 111.6463\r"
     ]
    },
    {
     "name": "stderr",
     "output_type": "stream",
     "text": [
      "[default |INFO|model.py:225] [22/100]\ttrain_loss: 1.116463e+02\ttest_loss: 1.097194e+02\n"
     ]
    },
    {
     "name": "stdout",
     "output_type": "stream",
     "text": [
      "[600/600]\ttrain_mse: 111.3274\r"
     ]
    },
    {
     "name": "stderr",
     "output_type": "stream",
     "text": [
      "[default |INFO|model.py:225] [23/100]\ttrain_loss: 1.113274e+02\ttest_loss: 1.091032e+02\n"
     ]
    },
    {
     "name": "stdout",
     "output_type": "stream",
     "text": [
      "[600/600]\ttrain_mse: 111.2010\r"
     ]
    },
    {
     "name": "stderr",
     "output_type": "stream",
     "text": [
      "[default |INFO|model.py:225] [24/100]\ttrain_loss: 1.112010e+02\ttest_loss: 1.097491e+02\n"
     ]
    },
    {
     "name": "stdout",
     "output_type": "stream",
     "text": [
      "[600/600]\ttrain_mse: 110.8703\r"
     ]
    },
    {
     "name": "stderr",
     "output_type": "stream",
     "text": [
      "[default |INFO|model.py:225] [25/100]\ttrain_loss: 1.108703e+02\ttest_loss: 1.093631e+02\n"
     ]
    },
    {
     "name": "stdout",
     "output_type": "stream",
     "text": [
      "[600/600]\ttrain_mse: 110.6488\r"
     ]
    },
    {
     "name": "stderr",
     "output_type": "stream",
     "text": [
      "[default |INFO|model.py:225] [26/100]\ttrain_loss: 1.106488e+02\ttest_loss: 1.093649e+02\n"
     ]
    },
    {
     "name": "stdout",
     "output_type": "stream",
     "text": [
      "[600/600]\ttrain_mse: 110.4151\r"
     ]
    },
    {
     "name": "stderr",
     "output_type": "stream",
     "text": [
      "[default |INFO|model.py:225] [27/100]\ttrain_loss: 1.104151e+02\ttest_loss: 1.081433e+02\n"
     ]
    },
    {
     "name": "stdout",
     "output_type": "stream",
     "text": [
      "[600/600]\ttrain_mse: 110.2487\r"
     ]
    },
    {
     "name": "stderr",
     "output_type": "stream",
     "text": [
      "[default |INFO|model.py:225] [28/100]\ttrain_loss: 1.102487e+02\ttest_loss: 1.091173e+02\n"
     ]
    },
    {
     "name": "stdout",
     "output_type": "stream",
     "text": [
      "[600/600]\ttrain_mse: 109.8997\r"
     ]
    },
    {
     "name": "stderr",
     "output_type": "stream",
     "text": [
      "[default |INFO|model.py:225] [29/100]\ttrain_loss: 1.098997e+02\ttest_loss: 1.079431e+02\n"
     ]
    },
    {
     "name": "stdout",
     "output_type": "stream",
     "text": [
      "[600/600]\ttrain_mse: 109.6778\r"
     ]
    },
    {
     "name": "stderr",
     "output_type": "stream",
     "text": [
      "[default |INFO|model.py:225] [30/100]\ttrain_loss: 1.096778e+02\ttest_loss: 1.085458e+02\n"
     ]
    },
    {
     "name": "stdout",
     "output_type": "stream",
     "text": [
      "[600/600]\ttrain_mse: 109.6036\r"
     ]
    },
    {
     "name": "stderr",
     "output_type": "stream",
     "text": [
      "[default |INFO|model.py:225] [31/100]\ttrain_loss: 1.096036e+02\ttest_loss: 1.075735e+02\n"
     ]
    },
    {
     "name": "stdout",
     "output_type": "stream",
     "text": [
      "[600/600]\ttrain_mse: 109.3725\r"
     ]
    },
    {
     "name": "stderr",
     "output_type": "stream",
     "text": [
      "[default |INFO|model.py:225] [32/100]\ttrain_loss: 1.093725e+02\ttest_loss: 1.080302e+02\n"
     ]
    },
    {
     "name": "stdout",
     "output_type": "stream",
     "text": [
      "[600/600]\ttrain_mse: 109.2174\r"
     ]
    },
    {
     "name": "stderr",
     "output_type": "stream",
     "text": [
      "[default |INFO|model.py:225] [33/100]\ttrain_loss: 1.092174e+02\ttest_loss: 1.076049e+02\n"
     ]
    },
    {
     "name": "stdout",
     "output_type": "stream",
     "text": [
      "[600/600]\ttrain_mse: 109.0534\r"
     ]
    },
    {
     "name": "stderr",
     "output_type": "stream",
     "text": [
      "[default |INFO|model.py:225] [34/100]\ttrain_loss: 1.090534e+02\ttest_loss: 1.089562e+02\n",
      "Traceback (most recent call last):\n"
     ]
    },
    {
     "name": "stdout",
     "output_type": "stream",
     "text": [
      "[600/600]\ttrain_mse: 108.9448\r"
     ]
    },
    {
     "name": "stderr",
     "output_type": "stream",
     "text": [
      "[default |INFO|model.py:225] [35/100]\ttrain_loss: 1.089448e+02\ttest_loss: 1.079701e+02\n"
     ]
    },
    {
     "name": "stdout",
     "output_type": "stream",
     "text": [
      "[600/600]\ttrain_mse: 108.8107\r"
     ]
    },
    {
     "name": "stderr",
     "output_type": "stream",
     "text": [
      "[default |INFO|model.py:225] [36/100]\ttrain_loss: 1.088107e+02\ttest_loss: 1.074806e+02\n"
     ]
    },
    {
     "name": "stdout",
     "output_type": "stream",
     "text": [
      "[600/600]\ttrain_mse: 108.5545\r"
     ]
    },
    {
     "name": "stderr",
     "output_type": "stream",
     "text": [
      "[default |INFO|model.py:225] [37/100]\ttrain_loss: 1.085545e+02\ttest_loss: 1.074496e+02\n"
     ]
    },
    {
     "name": "stdout",
     "output_type": "stream",
     "text": [
      "[600/600]\ttrain_mse: 108.3806\r"
     ]
    },
    {
     "name": "stderr",
     "output_type": "stream",
     "text": [
      "[default |INFO|model.py:225] [38/100]\ttrain_loss: 1.083806e+02\ttest_loss: 1.073629e+02\n"
     ]
    },
    {
     "name": "stdout",
     "output_type": "stream",
     "text": [
      "[600/600]\ttrain_mse: 108.3170\r"
     ]
    },
    {
     "name": "stderr",
     "output_type": "stream",
     "text": [
      "[default |INFO|model.py:225] [39/100]\ttrain_loss: 1.083170e+02\ttest_loss: 1.072964e+02\n"
     ]
    },
    {
     "name": "stdout",
     "output_type": "stream",
     "text": [
      "[600/600]\ttrain_mse: 108.1993\r"
     ]
    },
    {
     "name": "stderr",
     "output_type": "stream",
     "text": [
      "[default |INFO|model.py:225] [40/100]\ttrain_loss: 1.081993e+02\ttest_loss: 1.072273e+02\n"
     ]
    },
    {
     "name": "stdout",
     "output_type": "stream",
     "text": [
      "[600/600]\ttrain_mse: 108.2141\r"
     ]
    },
    {
     "name": "stderr",
     "output_type": "stream",
     "text": [
      "[default |INFO|model.py:225] [41/100]\ttrain_loss: 1.082141e+02\ttest_loss: 1.090553e+02\n"
     ]
    },
    {
     "name": "stdout",
     "output_type": "stream",
     "text": [
      "[600/600]\ttrain_mse: 107.9154\r"
     ]
    },
    {
     "name": "stderr",
     "output_type": "stream",
     "text": [
      "[default |INFO|model.py:225] [42/100]\ttrain_loss: 1.079154e+02\ttest_loss: 1.069154e+02\n"
     ]
    },
    {
     "name": "stdout",
     "output_type": "stream",
     "text": [
      "[600/600]\ttrain_mse: 108.0229\r"
     ]
    },
    {
     "name": "stderr",
     "output_type": "stream",
     "text": [
      "[default |INFO|model.py:225] [43/100]\ttrain_loss: 1.080229e+02\ttest_loss: 1.068474e+02\n"
     ]
    },
    {
     "name": "stdout",
     "output_type": "stream",
     "text": [
      "[600/600]\ttrain_mse: 107.8373\r"
     ]
    },
    {
     "name": "stderr",
     "output_type": "stream",
     "text": [
      "[default |INFO|model.py:225] [44/100]\ttrain_loss: 1.078373e+02\ttest_loss: 1.076245e+02\n"
     ]
    },
    {
     "name": "stdout",
     "output_type": "stream",
     "text": [
      "[600/600]\ttrain_mse: 107.6528\r"
     ]
    },
    {
     "name": "stderr",
     "output_type": "stream",
     "text": [
      "[default |INFO|model.py:225] [45/100]\ttrain_loss: 1.076528e+02\ttest_loss: 1.071491e+02\n"
     ]
    },
    {
     "name": "stdout",
     "output_type": "stream",
     "text": [
      "[600/600]\ttrain_mse: 107.6730\r"
     ]
    },
    {
     "name": "stderr",
     "output_type": "stream",
     "text": [
      "[default |INFO|model.py:225] [46/100]\ttrain_loss: 1.076730e+02\ttest_loss: 1.077463e+02\n"
     ]
    },
    {
     "name": "stdout",
     "output_type": "stream",
     "text": [
      "[600/600]\ttrain_mse: 107.5295\r"
     ]
    },
    {
     "name": "stderr",
     "output_type": "stream",
     "text": [
      "[default |INFO|model.py:225] [47/100]\ttrain_loss: 1.075295e+02\ttest_loss: 1.068981e+02\n"
     ]
    },
    {
     "name": "stdout",
     "output_type": "stream",
     "text": [
      "[600/600]\ttrain_mse: 107.3948\r"
     ]
    },
    {
     "name": "stderr",
     "output_type": "stream",
     "text": [
      "[default |INFO|model.py:225] [48/100]\ttrain_loss: 1.073948e+02\ttest_loss: 1.076654e+02\n"
     ]
    },
    {
     "name": "stdout",
     "output_type": "stream",
     "text": [
      "[600/600]\ttrain_mse: 107.3285\r"
     ]
    },
    {
     "name": "stderr",
     "output_type": "stream",
     "text": [
      "[default |INFO|model.py:225] [49/100]\ttrain_loss: 1.073285e+02\ttest_loss: 1.066931e+02\n"
     ]
    },
    {
     "name": "stdout",
     "output_type": "stream",
     "text": [
      "[600/600]\ttrain_mse: 107.1164\r"
     ]
    },
    {
     "name": "stderr",
     "output_type": "stream",
     "text": [
      "[default |INFO|model.py:225] [50/100]\ttrain_loss: 1.071164e+02\ttest_loss: 1.069711e+02\n"
     ]
    },
    {
     "name": "stdout",
     "output_type": "stream",
     "text": [
      "[600/600]\ttrain_mse: 106.6495\r"
     ]
    },
    {
     "name": "stderr",
     "output_type": "stream",
     "text": [
      "[default |INFO|model.py:225] [51/100]\ttrain_loss: 1.066495e+02\ttest_loss: 1.060830e+02\n"
     ]
    },
    {
     "name": "stdout",
     "output_type": "stream",
     "text": [
      "[600/600]\ttrain_mse: 106.1779\r"
     ]
    },
    {
     "name": "stderr",
     "output_type": "stream",
     "text": [
      "[default |INFO|model.py:225] [52/100]\ttrain_loss: 1.061779e+02\ttest_loss: 1.055289e+02\n"
     ]
    },
    {
     "name": "stdout",
     "output_type": "stream",
     "text": [
      "[600/600]\ttrain_mse: 105.8956\r"
     ]
    },
    {
     "name": "stderr",
     "output_type": "stream",
     "text": [
      "[default |INFO|model.py:225] [53/100]\ttrain_loss: 1.058956e+02\ttest_loss: 1.050680e+02\n"
     ]
    },
    {
     "name": "stdout",
     "output_type": "stream",
     "text": [
      "[600/600]\ttrain_mse: 105.5268\r"
     ]
    },
    {
     "name": "stderr",
     "output_type": "stream",
     "text": [
      "[default |INFO|model.py:225] [54/100]\ttrain_loss: 1.055268e+02\ttest_loss: 1.045716e+02\n"
     ]
    },
    {
     "name": "stdout",
     "output_type": "stream",
     "text": [
      "[600/600]\ttrain_mse: 105.1536\r"
     ]
    },
    {
     "name": "stderr",
     "output_type": "stream",
     "text": [
      "[default |INFO|model.py:225] [55/100]\ttrain_loss: 1.051536e+02\ttest_loss: 1.041168e+02\n"
     ]
    },
    {
     "name": "stdout",
     "output_type": "stream",
     "text": [
      "[600/600]\ttrain_mse: 105.0027\r"
     ]
    },
    {
     "name": "stderr",
     "output_type": "stream",
     "text": [
      "[default |INFO|model.py:225] [56/100]\ttrain_loss: 1.050027e+02\ttest_loss: 1.044387e+02\n"
     ]
    },
    {
     "name": "stdout",
     "output_type": "stream",
     "text": [
      "[600/600]\ttrain_mse: 104.6500\r"
     ]
    },
    {
     "name": "stderr",
     "output_type": "stream",
     "text": [
      "[default |INFO|model.py:225] [57/100]\ttrain_loss: 1.046500e+02\ttest_loss: 1.042100e+02\n"
     ]
    },
    {
     "name": "stdout",
     "output_type": "stream",
     "text": [
      "[600/600]\ttrain_mse: 104.5290\r"
     ]
    },
    {
     "name": "stderr",
     "output_type": "stream",
     "text": [
      "[default |INFO|model.py:225] [58/100]\ttrain_loss: 1.045290e+02\ttest_loss: 1.036021e+02\n"
     ]
    },
    {
     "name": "stdout",
     "output_type": "stream",
     "text": [
      "[600/600]\ttrain_mse: 104.3890\r"
     ]
    },
    {
     "name": "stderr",
     "output_type": "stream",
     "text": [
      "[default |INFO|model.py:225] [59/100]\ttrain_loss: 1.043890e+02\ttest_loss: 1.035730e+02\n"
     ]
    },
    {
     "name": "stdout",
     "output_type": "stream",
     "text": [
      "[600/600]\ttrain_mse: 104.2357\r"
     ]
    },
    {
     "name": "stderr",
     "output_type": "stream",
     "text": [
      "[default |INFO|model.py:225] [60/100]\ttrain_loss: 1.042357e+02\ttest_loss: 1.044549e+02\n"
     ]
    },
    {
     "name": "stdout",
     "output_type": "stream",
     "text": [
      "[600/600]\ttrain_mse: 104.1187\r"
     ]
    },
    {
     "name": "stderr",
     "output_type": "stream",
     "text": [
      "[default |INFO|model.py:225] [61/100]\ttrain_loss: 1.041187e+02\ttest_loss: 1.035817e+02\n"
     ]
    },
    {
     "name": "stdout",
     "output_type": "stream",
     "text": [
      "[600/600]\ttrain_mse: 103.9867\r"
     ]
    },
    {
     "name": "stderr",
     "output_type": "stream",
     "text": [
      "[default |INFO|model.py:225] [62/100]\ttrain_loss: 1.039867e+02\ttest_loss: 1.036509e+02\n"
     ]
    },
    {
     "name": "stdout",
     "output_type": "stream",
     "text": [
      "[600/600]\ttrain_mse: 103.9069\r"
     ]
    },
    {
     "name": "stderr",
     "output_type": "stream",
     "text": [
      "[default |INFO|model.py:225] [63/100]\ttrain_loss: 1.039069e+02\ttest_loss: 1.035462e+02\n"
     ]
    },
    {
     "name": "stdout",
     "output_type": "stream",
     "text": [
      "[600/600]\ttrain_mse: 103.7763\r"
     ]
    },
    {
     "name": "stderr",
     "output_type": "stream",
     "text": [
      "[default |INFO|model.py:225] [64/100]\ttrain_loss: 1.037763e+02\ttest_loss: 1.044809e+02\n"
     ]
    },
    {
     "name": "stdout",
     "output_type": "stream",
     "text": [
      "[600/600]\ttrain_mse: 103.8315\r"
     ]
    },
    {
     "name": "stderr",
     "output_type": "stream",
     "text": [
      "[default |INFO|model.py:225] [65/100]\ttrain_loss: 1.038315e+02\ttest_loss: 1.039145e+02\n"
     ]
    },
    {
     "name": "stdout",
     "output_type": "stream",
     "text": [
      "[600/600]\ttrain_mse: 103.5564\r"
     ]
    },
    {
     "name": "stderr",
     "output_type": "stream",
     "text": [
      "[default |INFO|model.py:225] [66/100]\ttrain_loss: 1.035564e+02\ttest_loss: 1.037642e+02\n"
     ]
    },
    {
     "name": "stdout",
     "output_type": "stream",
     "text": [
      "[600/600]\ttrain_mse: 103.4126\r"
     ]
    },
    {
     "name": "stderr",
     "output_type": "stream",
     "text": [
      "[default |INFO|model.py:225] [67/100]\ttrain_loss: 1.034126e+02\ttest_loss: 1.039279e+02\n"
     ]
    },
    {
     "name": "stdout",
     "output_type": "stream",
     "text": [
      "[600/600]\ttrain_mse: 103.4609\r"
     ]
    },
    {
     "name": "stderr",
     "output_type": "stream",
     "text": [
      "[default |INFO|model.py:225] [68/100]\ttrain_loss: 1.034609e+02\ttest_loss: 1.036160e+02\n"
     ]
    },
    {
     "name": "stdout",
     "output_type": "stream",
     "text": [
      "[600/600]\ttrain_mse: 103.2846\r"
     ]
    },
    {
     "name": "stderr",
     "output_type": "stream",
     "text": [
      "[default |INFO|model.py:225] [69/100]\ttrain_loss: 1.032846e+02\ttest_loss: 1.032277e+02\n"
     ]
    },
    {
     "name": "stdout",
     "output_type": "stream",
     "text": [
      "[600/600]\ttrain_mse: 103.2112\r"
     ]
    },
    {
     "name": "stderr",
     "output_type": "stream",
     "text": [
      "[default |INFO|model.py:225] [70/100]\ttrain_loss: 1.032112e+02\ttest_loss: 1.030637e+02\n"
     ]
    },
    {
     "name": "stdout",
     "output_type": "stream",
     "text": [
      "[600/600]\ttrain_mse: 103.0948\r"
     ]
    },
    {
     "name": "stderr",
     "output_type": "stream",
     "text": [
      "[default |INFO|model.py:225] [71/100]\ttrain_loss: 1.030948e+02\ttest_loss: 1.028960e+02\n"
     ]
    },
    {
     "name": "stdout",
     "output_type": "stream",
     "text": [
      "[600/600]\ttrain_mse: 102.9017\r"
     ]
    },
    {
     "name": "stderr",
     "output_type": "stream",
     "text": [
      "[default |INFO|model.py:225] [72/100]\ttrain_loss: 1.029017e+02\ttest_loss: 1.028421e+02\n"
     ]
    },
    {
     "name": "stdout",
     "output_type": "stream",
     "text": [
      "[600/600]\ttrain_mse: 102.7076\r"
     ]
    },
    {
     "name": "stderr",
     "output_type": "stream",
     "text": [
      "[default |INFO|model.py:225] [73/100]\ttrain_loss: 1.027076e+02\ttest_loss: 1.025406e+02\n"
     ]
    },
    {
     "name": "stdout",
     "output_type": "stream",
     "text": [
      "[600/600]\ttrain_mse: 102.4895\r"
     ]
    },
    {
     "name": "stderr",
     "output_type": "stream",
     "text": [
      "[default |INFO|model.py:225] [74/100]\ttrain_loss: 1.024895e+02\ttest_loss: 1.026381e+02\n"
     ]
    },
    {
     "name": "stdout",
     "output_type": "stream",
     "text": [
      "[600/600]\ttrain_mse: 102.2788\r"
     ]
    },
    {
     "name": "stderr",
     "output_type": "stream",
     "text": [
      "[default |INFO|model.py:225] [75/100]\ttrain_loss: 1.022788e+02\ttest_loss: 1.022271e+02\n"
     ]
    },
    {
     "name": "stdout",
     "output_type": "stream",
     "text": [
      "[600/600]\ttrain_mse: 102.0037\r"
     ]
    },
    {
     "name": "stderr",
     "output_type": "stream",
     "text": [
      "[default |INFO|model.py:225] [76/100]\ttrain_loss: 1.020037e+02\ttest_loss: 1.015516e+02\n"
     ]
    },
    {
     "name": "stdout",
     "output_type": "stream",
     "text": [
      "[600/600]\ttrain_mse: 101.9236\r"
     ]
    },
    {
     "name": "stderr",
     "output_type": "stream",
     "text": [
      "[default |INFO|model.py:225] [77/100]\ttrain_loss: 1.019236e+02\ttest_loss: 1.017471e+02\n"
     ]
    },
    {
     "name": "stdout",
     "output_type": "stream",
     "text": [
      "[600/600]\ttrain_mse: 101.6278\r"
     ]
    },
    {
     "name": "stderr",
     "output_type": "stream",
     "text": [
      "[default |INFO|model.py:225] [78/100]\ttrain_loss: 1.016278e+02\ttest_loss: 1.015208e+02\n"
     ]
    },
    {
     "name": "stdout",
     "output_type": "stream",
     "text": [
      "[600/600]\ttrain_mse: 101.5785\r"
     ]
    },
    {
     "name": "stderr",
     "output_type": "stream",
     "text": [
      "[default |INFO|model.py:225] [79/100]\ttrain_loss: 1.015785e+02\ttest_loss: 1.019200e+02\n"
     ]
    },
    {
     "name": "stdout",
     "output_type": "stream",
     "text": [
      "[600/600]\ttrain_mse: 101.4643\r"
     ]
    },
    {
     "name": "stderr",
     "output_type": "stream",
     "text": [
      "[default |INFO|model.py:225] [80/100]\ttrain_loss: 1.014643e+02\ttest_loss: 1.023480e+02\n"
     ]
    },
    {
     "name": "stdout",
     "output_type": "stream",
     "text": [
      "[600/600]\ttrain_mse: 101.2913\r"
     ]
    },
    {
     "name": "stderr",
     "output_type": "stream",
     "text": [
      "[default |INFO|model.py:225] [81/100]\ttrain_loss: 1.012913e+02\ttest_loss: 1.009397e+02\n"
     ]
    },
    {
     "name": "stdout",
     "output_type": "stream",
     "text": [
      "[600/600]\ttrain_mse: 101.2049\r"
     ]
    },
    {
     "name": "stderr",
     "output_type": "stream",
     "text": [
      "[default |INFO|model.py:225] [82/100]\ttrain_loss: 1.012049e+02\ttest_loss: 1.009020e+02\n"
     ]
    },
    {
     "name": "stdout",
     "output_type": "stream",
     "text": [
      "[600/600]\ttrain_mse: 101.1083\r"
     ]
    },
    {
     "name": "stderr",
     "output_type": "stream",
     "text": [
      "[default |INFO|model.py:225] [83/100]\ttrain_loss: 1.011083e+02\ttest_loss: 1.014075e+02\n"
     ]
    },
    {
     "name": "stdout",
     "output_type": "stream",
     "text": [
      "[600/600]\ttrain_mse: 100.9722\r"
     ]
    },
    {
     "name": "stderr",
     "output_type": "stream",
     "text": [
      "[default |INFO|model.py:225] [84/100]\ttrain_loss: 1.009722e+02\ttest_loss: 1.006352e+02\n"
     ]
    },
    {
     "name": "stdout",
     "output_type": "stream",
     "text": [
      "[600/600]\ttrain_mse: 100.8137\r"
     ]
    },
    {
     "name": "stderr",
     "output_type": "stream",
     "text": [
      "[default |INFO|model.py:225] [85/100]\ttrain_loss: 1.008137e+02\ttest_loss: 1.005422e+02\n"
     ]
    },
    {
     "name": "stdout",
     "output_type": "stream",
     "text": [
      "[600/600]\ttrain_mse: 100.8471\r"
     ]
    },
    {
     "name": "stderr",
     "output_type": "stream",
     "text": [
      "[default |INFO|model.py:225] [86/100]\ttrain_loss: 1.008471e+02\ttest_loss: 1.005088e+02\n"
     ]
    },
    {
     "name": "stdout",
     "output_type": "stream",
     "text": [
      "[600/600]\ttrain_mse: 100.7767\r"
     ]
    },
    {
     "name": "stderr",
     "output_type": "stream",
     "text": [
      "[default |INFO|model.py:225] [87/100]\ttrain_loss: 1.007767e+02\ttest_loss: 1.002919e+02\n"
     ]
    },
    {
     "name": "stdout",
     "output_type": "stream",
     "text": [
      "[600/600]\ttrain_mse: 100.5148\r"
     ]
    },
    {
     "name": "stderr",
     "output_type": "stream",
     "text": [
      "[default |INFO|model.py:225] [88/100]\ttrain_loss: 1.005148e+02\ttest_loss: 1.005221e+02\n"
     ]
    },
    {
     "name": "stdout",
     "output_type": "stream",
     "text": [
      "[600/600]\ttrain_mse: 100.4854\r"
     ]
    },
    {
     "name": "stderr",
     "output_type": "stream",
     "text": [
      "[default |INFO|model.py:225] [89/100]\ttrain_loss: 1.004854e+02\ttest_loss: 1.007260e+02\n"
     ]
    },
    {
     "name": "stdout",
     "output_type": "stream",
     "text": [
      "[600/600]\ttrain_mse: 100.3721\r"
     ]
    },
    {
     "name": "stderr",
     "output_type": "stream",
     "text": [
      "[default |INFO|model.py:225] [90/100]\ttrain_loss: 1.003721e+02\ttest_loss: 1.004396e+02\n"
     ]
    },
    {
     "name": "stdout",
     "output_type": "stream",
     "text": [
      "[600/600]\ttrain_mse: 100.3011\r"
     ]
    },
    {
     "name": "stderr",
     "output_type": "stream",
     "text": [
      "[default |INFO|model.py:225] [91/100]\ttrain_loss: 1.003011e+02\ttest_loss: 1.002140e+02\n"
     ]
    },
    {
     "name": "stdout",
     "output_type": "stream",
     "text": [
      "[600/600]\ttrain_mse: 100.2132\r"
     ]
    },
    {
     "name": "stderr",
     "output_type": "stream",
     "text": [
      "[default |INFO|model.py:225] [92/100]\ttrain_loss: 1.002132e+02\ttest_loss: 1.001690e+02\n"
     ]
    },
    {
     "name": "stdout",
     "output_type": "stream",
     "text": [
      "[600/600]\ttrain_mse: 100.2151\r"
     ]
    },
    {
     "name": "stderr",
     "output_type": "stream",
     "text": [
      "[default |INFO|model.py:225] [93/100]\ttrain_loss: 1.002151e+02\ttest_loss: 1.002382e+02\n"
     ]
    },
    {
     "name": "stdout",
     "output_type": "stream",
     "text": [
      "[600/600]\ttrain_mse: 100.1640\r"
     ]
    },
    {
     "name": "stderr",
     "output_type": "stream",
     "text": [
      "[default |INFO|model.py:225] [94/100]\ttrain_loss: 1.001640e+02\ttest_loss: 1.001051e+02\n"
     ]
    },
    {
     "name": "stdout",
     "output_type": "stream",
     "text": [
      "[600/600]\ttrain_mse: 100.0370\r"
     ]
    },
    {
     "name": "stderr",
     "output_type": "stream",
     "text": [
      "[default |INFO|model.py:225] [95/100]\ttrain_loss: 1.000370e+02\ttest_loss: 1.004538e+02\n"
     ]
    },
    {
     "name": "stdout",
     "output_type": "stream",
     "text": [
      "[600/600]\ttrain_mse: 100.0410\r"
     ]
    },
    {
     "name": "stderr",
     "output_type": "stream",
     "text": [
      "[default |INFO|model.py:225] [96/100]\ttrain_loss: 1.000410e+02\ttest_loss: 1.015026e+02\n"
     ]
    },
    {
     "name": "stdout",
     "output_type": "stream",
     "text": [
      "[600/600]\ttrain_mse: 99.9180\r"
     ]
    },
    {
     "name": "stderr",
     "output_type": "stream",
     "text": [
      "[default |INFO|model.py:225] [97/100]\ttrain_loss: 9.991796e+01\ttest_loss: 1.005741e+02\n"
     ]
    },
    {
     "name": "stdout",
     "output_type": "stream",
     "text": [
      "[600/600]\ttrain_mse: 99.88952\r"
     ]
    },
    {
     "name": "stderr",
     "output_type": "stream",
     "text": [
      "[default |INFO|model.py:225] [98/100]\ttrain_loss: 9.988946e+01\ttest_loss: 1.004095e+02\n"
     ]
    },
    {
     "name": "stdout",
     "output_type": "stream",
     "text": [
      "[600/600]\ttrain_mse: 99.86525\r"
     ]
    },
    {
     "name": "stderr",
     "output_type": "stream",
     "text": [
      "[default |INFO|model.py:225] [99/100]\ttrain_loss: 9.986525e+01\ttest_loss: 1.001475e+02\n"
     ]
    },
    {
     "name": "stdout",
     "output_type": "stream",
     "text": [
      "[600/600]\ttrain_mse: 99.7058\r"
     ]
    },
    {
     "name": "stderr",
     "output_type": "stream",
     "text": [
      "[default |INFO|model.py:225] [100/100]\ttrain_loss: 9.970577e+01\ttest_loss: 1.000795e+02\n",
      "[default |INFO|model.py:305] Training Finished!\n",
      "[default |INFO|model.py:306] Elapsed time: 1607.184s\n"
     ]
    }
   ],
   "source": [
    "from model.exp2.train_vae import VAE_MNIST\n",
    "\n",
    "cfg = configparser.ConfigParser()\n",
    "cfg.read('./config/train_config_vae2.cfg')\n",
    "\n",
    "model = VAE_MNIST(cfg, log, device = device)\n",
    "model.train()"
   ]
  },
  {
   "cell_type": "markdown",
   "metadata": {},
   "source": [
    "# CVAE\n",
    "## Model1"
   ]
  },
  {
   "cell_type": "code",
   "execution_count": 3,
   "metadata": {},
   "outputs": [
    {
     "name": "stderr",
     "output_type": "stream",
     "text": [
      "[default |INFO|_base_model.py:27] ------------------------------------------------------------\n",
      "[default |INFO|_base_model.py:29] model_name : CVAE_MNIST\n",
      "[default |INFO|_base_model.py:29] train_data : MNIST\n",
      "[default |INFO|_base_model.py:29] z_sampler : gaus\n",
      "[default |INFO|_base_model.py:29] z_dim : 8\n",
      "[default |INFO|_base_model.py:29] y_sampler : multinomial\n",
      "[default |INFO|_base_model.py:29] y_dim : 10\n",
      "[default |INFO|_base_model.py:29] prob_enc : True\n",
      "[default |INFO|_base_model.py:29] encoder_pretrain : False\n",
      "[default |INFO|_base_model.py:29] encoder_pretrain_batch_size : 1000\n",
      "[default |INFO|_base_model.py:29] encoder_pretrain_max_step : 200\n",
      "[default |INFO|_base_model.py:29] lr : 1e-3\n",
      "[default |INFO|_base_model.py:29] beta1 : 0.5\n",
      "[default |INFO|_base_model.py:29] lambda : 10.0\n",
      "[default |INFO|_base_model.py:29] lr_schedule : manual\n",
      "[default |INFO|_base_model.py:29] validate : True\n",
      "[default |INFO|_base_model.py:29] histogram : True\n",
      "[default |INFO|_base_model.py:29] batch_size : 100\n",
      "[default |INFO|_base_model.py:29] epoch : 100\n",
      "[default |INFO|_base_model.py:29] replace : False\n",
      "[default |INFO|_base_model.py:29] iter_per_epoch : None\n",
      "[default |INFO|_base_model.py:29] save_best : False\n",
      "[default |INFO|_base_model.py:32] data_home : ./data/MNIST\n",
      "[default |INFO|_base_model.py:32] tb_logs : ./result/tb_logs/cvae1\n",
      "[default |INFO|_base_model.py:32] save_path : ./result/weights/weight_cvae1.pt\n",
      "[default |INFO|_base_model.py:32] save_state : ./result/states/state_cvae1.pt\n",
      "[default |INFO|_base_model.py:32] save_img_path : ./result/plots/cvae1/\n",
      "[default |INFO|model.py:399] ------------------------------------------------------------\n",
      "[default |INFO|model.py:400] Training Start!\n"
     ]
    },
    {
     "name": "stdout",
     "output_type": "stream",
     "text": [
      "[600/600]\ttrain_mse: 173.6956\r"
     ]
    },
    {
     "name": "stderr",
     "output_type": "stream",
     "text": [
      "[default |INFO|model.py:481] [1/100]\ttrain_loss: 1.736956e+02\ttest_loss: 1.517403e+02\n"
     ]
    },
    {
     "name": "stdout",
     "output_type": "stream",
     "text": [
      "[600/600]\ttrain_mse: 141.8219\r"
     ]
    },
    {
     "name": "stderr",
     "output_type": "stream",
     "text": [
      "[default |INFO|model.py:481] [2/100]\ttrain_loss: 1.418219e+02\ttest_loss: 1.390755e+02\n"
     ]
    },
    {
     "name": "stdout",
     "output_type": "stream",
     "text": [
      "[600/600]\ttrain_mse: 129.0374\r"
     ]
    },
    {
     "name": "stderr",
     "output_type": "stream",
     "text": [
      "[default |INFO|model.py:481] [3/100]\ttrain_loss: 1.290374e+02\ttest_loss: 1.198921e+02\n"
     ]
    },
    {
     "name": "stdout",
     "output_type": "stream",
     "text": [
      "[600/600]\ttrain_mse: 117.5089\r"
     ]
    },
    {
     "name": "stderr",
     "output_type": "stream",
     "text": [
      "[default |INFO|model.py:481] [4/100]\ttrain_loss: 1.175089e+02\ttest_loss: 1.128974e+02\n"
     ]
    },
    {
     "name": "stdout",
     "output_type": "stream",
     "text": [
      "[600/600]\ttrain_mse: 113.4982\r"
     ]
    },
    {
     "name": "stderr",
     "output_type": "stream",
     "text": [
      "[default |INFO|model.py:481] [5/100]\ttrain_loss: 1.134982e+02\ttest_loss: 1.103484e+02\n"
     ]
    },
    {
     "name": "stdout",
     "output_type": "stream",
     "text": [
      "[600/600]\ttrain_mse: 108.8451\r"
     ]
    },
    {
     "name": "stderr",
     "output_type": "stream",
     "text": [
      "[default |INFO|model.py:481] [6/100]\ttrain_loss: 1.088451e+02\ttest_loss: 1.057444e+02\n"
     ]
    },
    {
     "name": "stdout",
     "output_type": "stream",
     "text": [
      "[600/600]\ttrain_mse: 106.2408\r"
     ]
    },
    {
     "name": "stderr",
     "output_type": "stream",
     "text": [
      "[default |INFO|model.py:481] [7/100]\ttrain_loss: 1.062408e+02\ttest_loss: 1.056228e+02\n"
     ]
    },
    {
     "name": "stdout",
     "output_type": "stream",
     "text": [
      "[600/600]\ttrain_mse: 104.9775\r"
     ]
    },
    {
     "name": "stderr",
     "output_type": "stream",
     "text": [
      "[default |INFO|model.py:481] [8/100]\ttrain_loss: 1.049775e+02\ttest_loss: 1.024137e+02\n"
     ]
    },
    {
     "name": "stdout",
     "output_type": "stream",
     "text": [
      "[600/600]\ttrain_mse: 103.9458\r"
     ]
    },
    {
     "name": "stderr",
     "output_type": "stream",
     "text": [
      "[default |INFO|model.py:481] [9/100]\ttrain_loss: 1.039458e+02\ttest_loss: 1.013551e+02\n"
     ]
    },
    {
     "name": "stdout",
     "output_type": "stream",
     "text": [
      "[600/600]\ttrain_mse: 103.0135\r"
     ]
    },
    {
     "name": "stderr",
     "output_type": "stream",
     "text": [
      "[default |INFO|model.py:481] [10/100]\ttrain_loss: 1.030135e+02\ttest_loss: 1.021485e+02\n"
     ]
    },
    {
     "name": "stdout",
     "output_type": "stream",
     "text": [
      "[600/600]\ttrain_mse: 101.7350\r"
     ]
    },
    {
     "name": "stderr",
     "output_type": "stream",
     "text": [
      "[default |INFO|model.py:481] [11/100]\ttrain_loss: 1.017350e+02\ttest_loss: 1.003153e+02\n"
     ]
    },
    {
     "name": "stdout",
     "output_type": "stream",
     "text": [
      "[600/600]\ttrain_mse: 100.5691\r"
     ]
    },
    {
     "name": "stderr",
     "output_type": "stream",
     "text": [
      "[default |INFO|model.py:481] [12/100]\ttrain_loss: 1.005691e+02\ttest_loss: 1.005634e+02\n"
     ]
    },
    {
     "name": "stdout",
     "output_type": "stream",
     "text": [
      "[600/600]\ttrain_mse: 99.82887\r"
     ]
    },
    {
     "name": "stderr",
     "output_type": "stream",
     "text": [
      "[default |INFO|model.py:481] [13/100]\ttrain_loss: 9.982881e+01\ttest_loss: 1.013357e+02\n"
     ]
    },
    {
     "name": "stdout",
     "output_type": "stream",
     "text": [
      "[600/600]\ttrain_mse: 99.3026\r"
     ]
    },
    {
     "name": "stderr",
     "output_type": "stream",
     "text": [
      "[default |INFO|model.py:481] [14/100]\ttrain_loss: 9.930261e+01\ttest_loss: 9.727437e+01\n"
     ]
    },
    {
     "name": "stdout",
     "output_type": "stream",
     "text": [
      "[600/600]\ttrain_mse: 98.7940\r"
     ]
    },
    {
     "name": "stderr",
     "output_type": "stream",
     "text": [
      "[default |INFO|model.py:481] [15/100]\ttrain_loss: 9.879399e+01\ttest_loss: 9.736147e+01\n"
     ]
    },
    {
     "name": "stdout",
     "output_type": "stream",
     "text": [
      "[600/600]\ttrain_mse: 98.3546\r"
     ]
    },
    {
     "name": "stderr",
     "output_type": "stream",
     "text": [
      "[default |INFO|model.py:481] [16/100]\ttrain_loss: 9.835464e+01\ttest_loss: 9.824577e+01\n"
     ]
    },
    {
     "name": "stdout",
     "output_type": "stream",
     "text": [
      "[600/600]\ttrain_mse: 98.0364\r"
     ]
    },
    {
     "name": "stderr",
     "output_type": "stream",
     "text": [
      "[default |INFO|model.py:481] [17/100]\ttrain_loss: 9.803644e+01\ttest_loss: 9.712848e+01\n"
     ]
    },
    {
     "name": "stdout",
     "output_type": "stream",
     "text": [
      "[600/600]\ttrain_mse: 97.8051\r"
     ]
    },
    {
     "name": "stderr",
     "output_type": "stream",
     "text": [
      "[default |INFO|model.py:481] [18/100]\ttrain_loss: 9.780509e+01\ttest_loss: 9.678359e+01\n"
     ]
    },
    {
     "name": "stdout",
     "output_type": "stream",
     "text": [
      "[600/600]\ttrain_mse: 97.4173\r"
     ]
    },
    {
     "name": "stderr",
     "output_type": "stream",
     "text": [
      "[default |INFO|model.py:481] [19/100]\ttrain_loss: 9.741733e+01\ttest_loss: 9.668238e+01\n"
     ]
    },
    {
     "name": "stdout",
     "output_type": "stream",
     "text": [
      "[600/600]\ttrain_mse: 97.2714\r"
     ]
    },
    {
     "name": "stderr",
     "output_type": "stream",
     "text": [
      "[default |INFO|model.py:481] [20/100]\ttrain_loss: 9.727142e+01\ttest_loss: 9.645491e+01\n"
     ]
    },
    {
     "name": "stdout",
     "output_type": "stream",
     "text": [
      "[600/600]\ttrain_mse: 97.0023\r"
     ]
    },
    {
     "name": "stderr",
     "output_type": "stream",
     "text": [
      "[default |INFO|model.py:481] [21/100]\ttrain_loss: 9.700234e+01\ttest_loss: 9.586475e+01\n"
     ]
    },
    {
     "name": "stdout",
     "output_type": "stream",
     "text": [
      "[600/600]\ttrain_mse: 96.8511\r"
     ]
    },
    {
     "name": "stderr",
     "output_type": "stream",
     "text": [
      "[default |INFO|model.py:481] [22/100]\ttrain_loss: 9.685113e+01\ttest_loss: 9.684059e+01\n"
     ]
    },
    {
     "name": "stdout",
     "output_type": "stream",
     "text": [
      "[600/600]\ttrain_mse: 96.8041\r"
     ]
    },
    {
     "name": "stderr",
     "output_type": "stream",
     "text": [
      "[default |INFO|model.py:481] [23/100]\ttrain_loss: 9.680407e+01\ttest_loss: 9.598961e+01\n"
     ]
    },
    {
     "name": "stdout",
     "output_type": "stream",
     "text": [
      "[600/600]\ttrain_mse: 96.5835\r"
     ]
    },
    {
     "name": "stderr",
     "output_type": "stream",
     "text": [
      "[default |INFO|model.py:481] [24/100]\ttrain_loss: 9.658348e+01\ttest_loss: 9.565774e+01\n"
     ]
    },
    {
     "name": "stdout",
     "output_type": "stream",
     "text": [
      "[600/600]\ttrain_mse: 96.2882\r"
     ]
    },
    {
     "name": "stderr",
     "output_type": "stream",
     "text": [
      "[default |INFO|model.py:481] [25/100]\ttrain_loss: 9.628816e+01\ttest_loss: 9.688622e+01\n"
     ]
    },
    {
     "name": "stdout",
     "output_type": "stream",
     "text": [
      "[600/600]\ttrain_mse: 96.2661\r"
     ]
    },
    {
     "name": "stderr",
     "output_type": "stream",
     "text": [
      "[default |INFO|model.py:481] [26/100]\ttrain_loss: 9.626606e+01\ttest_loss: 9.507386e+01\n"
     ]
    },
    {
     "name": "stdout",
     "output_type": "stream",
     "text": [
      "[600/600]\ttrain_mse: 96.0398\r"
     ]
    },
    {
     "name": "stderr",
     "output_type": "stream",
     "text": [
      "[default |INFO|model.py:481] [27/100]\ttrain_loss: 9.603978e+01\ttest_loss: 9.966173e+01\n"
     ]
    },
    {
     "name": "stdout",
     "output_type": "stream",
     "text": [
      "[600/600]\ttrain_mse: 95.9285\r"
     ]
    },
    {
     "name": "stderr",
     "output_type": "stream",
     "text": [
      "[default |INFO|model.py:481] [28/100]\ttrain_loss: 9.592854e+01\ttest_loss: 9.539619e+01\n"
     ]
    },
    {
     "name": "stdout",
     "output_type": "stream",
     "text": [
      "[600/600]\ttrain_mse: 95.9039\r"
     ]
    },
    {
     "name": "stderr",
     "output_type": "stream",
     "text": [
      "[default |INFO|model.py:481] [29/100]\ttrain_loss: 9.590390e+01\ttest_loss: 9.551569e+01\n"
     ]
    },
    {
     "name": "stdout",
     "output_type": "stream",
     "text": [
      "[600/600]\ttrain_mse: 95.6571\r"
     ]
    },
    {
     "name": "stderr",
     "output_type": "stream",
     "text": [
      "[default |INFO|model.py:481] [30/100]\ttrain_loss: 9.565711e+01\ttest_loss: 9.519387e+01\n"
     ]
    },
    {
     "name": "stdout",
     "output_type": "stream",
     "text": [
      "[600/600]\ttrain_mse: 95.7171\r"
     ]
    },
    {
     "name": "stderr",
     "output_type": "stream",
     "text": [
      "[default |INFO|model.py:481] [31/100]\ttrain_loss: 9.571715e+01\ttest_loss: 9.476135e+01\n"
     ]
    },
    {
     "name": "stdout",
     "output_type": "stream",
     "text": [
      "[600/600]\ttrain_mse: 95.4079\r"
     ]
    },
    {
     "name": "stderr",
     "output_type": "stream",
     "text": [
      "[default |INFO|model.py:481] [32/100]\ttrain_loss: 9.540791e+01\ttest_loss: 9.498187e+01\n"
     ]
    },
    {
     "name": "stdout",
     "output_type": "stream",
     "text": [
      "[600/600]\ttrain_mse: 95.3109\r"
     ]
    },
    {
     "name": "stderr",
     "output_type": "stream",
     "text": [
      "[default |INFO|model.py:481] [33/100]\ttrain_loss: 9.531089e+01\ttest_loss: 9.556146e+01\n"
     ]
    },
    {
     "name": "stdout",
     "output_type": "stream",
     "text": [
      "[600/600]\ttrain_mse: 95.2753\r"
     ]
    },
    {
     "name": "stderr",
     "output_type": "stream",
     "text": [
      "[default |INFO|model.py:481] [34/100]\ttrain_loss: 9.527534e+01\ttest_loss: 9.649992e+01\n"
     ]
    },
    {
     "name": "stdout",
     "output_type": "stream",
     "text": [
      "[600/600]\ttrain_mse: 95.1880\r"
     ]
    },
    {
     "name": "stderr",
     "output_type": "stream",
     "text": [
      "[default |INFO|model.py:481] [35/100]\ttrain_loss: 9.518803e+01\ttest_loss: 9.533574e+01\n"
     ]
    },
    {
     "name": "stdout",
     "output_type": "stream",
     "text": [
      "[600/600]\ttrain_mse: 95.1428\r"
     ]
    },
    {
     "name": "stderr",
     "output_type": "stream",
     "text": [
      "[default |INFO|model.py:481] [36/100]\ttrain_loss: 9.514279e+01\ttest_loss: 9.526988e+01\n"
     ]
    },
    {
     "name": "stdout",
     "output_type": "stream",
     "text": [
      "[600/600]\ttrain_mse: 94.9831\r"
     ]
    },
    {
     "name": "stderr",
     "output_type": "stream",
     "text": [
      "[default |INFO|model.py:481] [37/100]\ttrain_loss: 9.498307e+01\ttest_loss: 9.487329e+01\n"
     ]
    },
    {
     "name": "stdout",
     "output_type": "stream",
     "text": [
      "[600/600]\ttrain_mse: 94.9090\r"
     ]
    },
    {
     "name": "stderr",
     "output_type": "stream",
     "text": [
      "[default |INFO|model.py:481] [38/100]\ttrain_loss: 9.490901e+01\ttest_loss: 9.481005e+01\n"
     ]
    },
    {
     "name": "stdout",
     "output_type": "stream",
     "text": [
      "[600/600]\ttrain_mse: 94.8593\r"
     ]
    },
    {
     "name": "stderr",
     "output_type": "stream",
     "text": [
      "[default |INFO|model.py:481] [39/100]\ttrain_loss: 9.485926e+01\ttest_loss: 9.411069e+01\n"
     ]
    },
    {
     "name": "stdout",
     "output_type": "stream",
     "text": [
      "[600/600]\ttrain_mse: 94.7220\r"
     ]
    },
    {
     "name": "stderr",
     "output_type": "stream",
     "text": [
      "[default |INFO|model.py:481] [40/100]\ttrain_loss: 9.472202e+01\ttest_loss: 9.516625e+01\n"
     ]
    },
    {
     "name": "stdout",
     "output_type": "stream",
     "text": [
      "[600/600]\ttrain_mse: 94.7812\r"
     ]
    },
    {
     "name": "stderr",
     "output_type": "stream",
     "text": [
      "[default |INFO|model.py:481] [41/100]\ttrain_loss: 9.478118e+01\ttest_loss: 9.541991e+01\n"
     ]
    },
    {
     "name": "stdout",
     "output_type": "stream",
     "text": [
      "[600/600]\ttrain_mse: 94.5448\r"
     ]
    },
    {
     "name": "stderr",
     "output_type": "stream",
     "text": [
      "[default |INFO|model.py:481] [42/100]\ttrain_loss: 9.454483e+01\ttest_loss: 9.467831e+01\n"
     ]
    },
    {
     "name": "stdout",
     "output_type": "stream",
     "text": [
      "[600/600]\ttrain_mse: 94.4518\r"
     ]
    },
    {
     "name": "stderr",
     "output_type": "stream",
     "text": [
      "[default |INFO|model.py:481] [43/100]\ttrain_loss: 9.445178e+01\ttest_loss: 9.528551e+01\n"
     ]
    },
    {
     "name": "stdout",
     "output_type": "stream",
     "text": [
      "[600/600]\ttrain_mse: 94.3216\r"
     ]
    },
    {
     "name": "stderr",
     "output_type": "stream",
     "text": [
      "[default |INFO|model.py:481] [44/100]\ttrain_loss: 9.432162e+01\ttest_loss: 9.446244e+01\n"
     ]
    },
    {
     "name": "stdout",
     "output_type": "stream",
     "text": [
      "[600/600]\ttrain_mse: 94.3460\r"
     ]
    },
    {
     "name": "stderr",
     "output_type": "stream",
     "text": [
      "[default |INFO|model.py:481] [45/100]\ttrain_loss: 9.434603e+01\ttest_loss: 9.518183e+01\n"
     ]
    },
    {
     "name": "stdout",
     "output_type": "stream",
     "text": [
      "[600/600]\ttrain_mse: 94.2582\r"
     ]
    },
    {
     "name": "stderr",
     "output_type": "stream",
     "text": [
      "[default |INFO|model.py:481] [46/100]\ttrain_loss: 9.425825e+01\ttest_loss: 9.474060e+01\n"
     ]
    },
    {
     "name": "stdout",
     "output_type": "stream",
     "text": [
      "[600/600]\ttrain_mse: 94.2233\r"
     ]
    },
    {
     "name": "stderr",
     "output_type": "stream",
     "text": [
      "[default |INFO|model.py:481] [47/100]\ttrain_loss: 9.422332e+01\ttest_loss: 9.664129e+01\n"
     ]
    },
    {
     "name": "stdout",
     "output_type": "stream",
     "text": [
      "[600/600]\ttrain_mse: 94.2500\r"
     ]
    },
    {
     "name": "stderr",
     "output_type": "stream",
     "text": [
      "[default |INFO|model.py:481] [48/100]\ttrain_loss: 9.425003e+01\ttest_loss: 9.762448e+01\n"
     ]
    },
    {
     "name": "stdout",
     "output_type": "stream",
     "text": [
      "[600/600]\ttrain_mse: 94.0567\r"
     ]
    },
    {
     "name": "stderr",
     "output_type": "stream",
     "text": [
      "[default |INFO|model.py:481] [49/100]\ttrain_loss: 9.405673e+01\ttest_loss: 9.544700e+01\n"
     ]
    },
    {
     "name": "stdout",
     "output_type": "stream",
     "text": [
      "[600/600]\ttrain_mse: 94.0803\r"
     ]
    },
    {
     "name": "stderr",
     "output_type": "stream",
     "text": [
      "[default |INFO|model.py:481] [50/100]\ttrain_loss: 9.408026e+01\ttest_loss: 9.507199e+01\n"
     ]
    },
    {
     "name": "stdout",
     "output_type": "stream",
     "text": [
      "[600/600]\ttrain_mse: 93.9140\r"
     ]
    },
    {
     "name": "stderr",
     "output_type": "stream",
     "text": [
      "[default |INFO|model.py:481] [51/100]\ttrain_loss: 9.391400e+01\ttest_loss: 1.013935e+02\n"
     ]
    },
    {
     "name": "stdout",
     "output_type": "stream",
     "text": [
      "[600/600]\ttrain_mse: 93.9168\r"
     ]
    },
    {
     "name": "stderr",
     "output_type": "stream",
     "text": [
      "[default |INFO|model.py:481] [52/100]\ttrain_loss: 9.391676e+01\ttest_loss: 9.985567e+01\n"
     ]
    },
    {
     "name": "stdout",
     "output_type": "stream",
     "text": [
      "[600/600]\ttrain_mse: 93.9030\r"
     ]
    },
    {
     "name": "stderr",
     "output_type": "stream",
     "text": [
      "[default |INFO|model.py:481] [53/100]\ttrain_loss: 9.390298e+01\ttest_loss: 9.978812e+01\n"
     ]
    },
    {
     "name": "stdout",
     "output_type": "stream",
     "text": [
      "[600/600]\ttrain_mse: 93.8767\r"
     ]
    },
    {
     "name": "stderr",
     "output_type": "stream",
     "text": [
      "[default |INFO|model.py:481] [54/100]\ttrain_loss: 9.387669e+01\ttest_loss: 9.952453e+01\n"
     ]
    },
    {
     "name": "stdout",
     "output_type": "stream",
     "text": [
      "[600/600]\ttrain_mse: 93.6964\r"
     ]
    },
    {
     "name": "stderr",
     "output_type": "stream",
     "text": [
      "[default |INFO|model.py:481] [55/100]\ttrain_loss: 9.369643e+01\ttest_loss: 1.043370e+02\n"
     ]
    },
    {
     "name": "stdout",
     "output_type": "stream",
     "text": [
      "[600/600]\ttrain_mse: 93.7493\r"
     ]
    },
    {
     "name": "stderr",
     "output_type": "stream",
     "text": [
      "[default |INFO|model.py:481] [56/100]\ttrain_loss: 9.374933e+01\ttest_loss: 1.119381e+02\n"
     ]
    },
    {
     "name": "stdout",
     "output_type": "stream",
     "text": [
      "[600/600]\ttrain_mse: 93.6387\r"
     ]
    },
    {
     "name": "stderr",
     "output_type": "stream",
     "text": [
      "[default |INFO|model.py:481] [57/100]\ttrain_loss: 9.363870e+01\ttest_loss: 1.079515e+02\n"
     ]
    },
    {
     "name": "stdout",
     "output_type": "stream",
     "text": [
      "[600/600]\ttrain_mse: 93.6579\r"
     ]
    },
    {
     "name": "stderr",
     "output_type": "stream",
     "text": [
      "[default |INFO|model.py:481] [58/100]\ttrain_loss: 9.365785e+01\ttest_loss: 1.140822e+02\n"
     ]
    },
    {
     "name": "stdout",
     "output_type": "stream",
     "text": [
      "[600/600]\ttrain_mse: 93.5824\r"
     ]
    },
    {
     "name": "stderr",
     "output_type": "stream",
     "text": [
      "[default |INFO|model.py:481] [59/100]\ttrain_loss: 9.358243e+01\ttest_loss: 1.270794e+02\n"
     ]
    },
    {
     "name": "stdout",
     "output_type": "stream",
     "text": [
      "[600/600]\ttrain_mse: 93.5324\r"
     ]
    },
    {
     "name": "stderr",
     "output_type": "stream",
     "text": [
      "[default |INFO|model.py:481] [60/100]\ttrain_loss: 9.353237e+01\ttest_loss: 1.192273e+02\n"
     ]
    },
    {
     "name": "stdout",
     "output_type": "stream",
     "text": [
      "[600/600]\ttrain_mse: 93.4784\r"
     ]
    },
    {
     "name": "stderr",
     "output_type": "stream",
     "text": [
      "[default |INFO|model.py:481] [61/100]\ttrain_loss: 9.347842e+01\ttest_loss: 1.648119e+02\n"
     ]
    },
    {
     "name": "stdout",
     "output_type": "stream",
     "text": [
      "[600/600]\ttrain_mse: 93.4243\r"
     ]
    },
    {
     "name": "stderr",
     "output_type": "stream",
     "text": [
      "[default |INFO|model.py:481] [62/100]\ttrain_loss: 9.342428e+01\ttest_loss: 2.808329e+02\n"
     ]
    },
    {
     "name": "stdout",
     "output_type": "stream",
     "text": [
      "[600/600]\ttrain_mse: 93.5228\r"
     ]
    },
    {
     "name": "stderr",
     "output_type": "stream",
     "text": [
      "[default |INFO|model.py:481] [63/100]\ttrain_loss: 9.352279e+01\ttest_loss: 2.776963e+02\n"
     ]
    },
    {
     "name": "stdout",
     "output_type": "stream",
     "text": [
      "[600/600]\ttrain_mse: 93.3783\r"
     ]
    },
    {
     "name": "stderr",
     "output_type": "stream",
     "text": [
      "[default |INFO|model.py:481] [64/100]\ttrain_loss: 9.337829e+01\ttest_loss: 2.687170e+02\n"
     ]
    },
    {
     "name": "stdout",
     "output_type": "stream",
     "text": [
      "[600/600]\ttrain_mse: 93.3405\r"
     ]
    },
    {
     "name": "stderr",
     "output_type": "stream",
     "text": [
      "[default |INFO|model.py:481] [65/100]\ttrain_loss: 9.334050e+01\ttest_loss: 4.920955e+02\n"
     ]
    },
    {
     "name": "stdout",
     "output_type": "stream",
     "text": [
      "[600/600]\ttrain_mse: 93.2085\r"
     ]
    },
    {
     "name": "stderr",
     "output_type": "stream",
     "text": [
      "[default |INFO|model.py:481] [66/100]\ttrain_loss: 9.320846e+01\ttest_loss: 4.658711e+02\n"
     ]
    },
    {
     "name": "stdout",
     "output_type": "stream",
     "text": [
      "[600/600]\ttrain_mse: 93.1701\r"
     ]
    },
    {
     "name": "stderr",
     "output_type": "stream",
     "text": [
      "[default |INFO|model.py:481] [67/100]\ttrain_loss: 9.317007e+01\ttest_loss: 9.461981e+02\n"
     ]
    },
    {
     "name": "stdout",
     "output_type": "stream",
     "text": [
      "[600/600]\ttrain_mse: 93.1244\r"
     ]
    },
    {
     "name": "stderr",
     "output_type": "stream",
     "text": [
      "[default |INFO|model.py:481] [68/100]\ttrain_loss: 9.312443e+01\ttest_loss: 5.560500e+02\n"
     ]
    },
    {
     "name": "stdout",
     "output_type": "stream",
     "text": [
      "[600/600]\ttrain_mse: 93.0379\r"
     ]
    },
    {
     "name": "stderr",
     "output_type": "stream",
     "text": [
      "[default |INFO|model.py:481] [69/100]\ttrain_loss: 9.303786e+01\ttest_loss: 6.388109e+02\n"
     ]
    },
    {
     "name": "stdout",
     "output_type": "stream",
     "text": [
      "[600/600]\ttrain_mse: 93.1071\r"
     ]
    },
    {
     "name": "stderr",
     "output_type": "stream",
     "text": [
      "[default |INFO|model.py:481] [70/100]\ttrain_loss: 9.310712e+01\ttest_loss: 6.876071e+02\n"
     ]
    },
    {
     "name": "stdout",
     "output_type": "stream",
     "text": [
      "[600/600]\ttrain_mse: 93.1281\r"
     ]
    },
    {
     "name": "stderr",
     "output_type": "stream",
     "text": [
      "[default |INFO|model.py:481] [71/100]\ttrain_loss: 9.312810e+01\ttest_loss: 4.778067e+02\n"
     ]
    },
    {
     "name": "stdout",
     "output_type": "stream",
     "text": [
      "[600/600]\ttrain_mse: 93.0200\r"
     ]
    },
    {
     "name": "stderr",
     "output_type": "stream",
     "text": [
      "[default |INFO|model.py:481] [72/100]\ttrain_loss: 9.302002e+01\ttest_loss: 7.036372e+02\n"
     ]
    },
    {
     "name": "stdout",
     "output_type": "stream",
     "text": [
      "[600/600]\ttrain_mse: 92.9281\r"
     ]
    },
    {
     "name": "stderr",
     "output_type": "stream",
     "text": [
      "[default |INFO|model.py:481] [73/100]\ttrain_loss: 9.292805e+01\ttest_loss: 9.687035e+02\n"
     ]
    },
    {
     "name": "stdout",
     "output_type": "stream",
     "text": [
      "[600/600]\ttrain_mse: 92.8732\r"
     ]
    },
    {
     "name": "stderr",
     "output_type": "stream",
     "text": [
      "[default |INFO|model.py:481] [74/100]\ttrain_loss: 9.287316e+01\ttest_loss: 5.753716e+02\n"
     ]
    },
    {
     "name": "stdout",
     "output_type": "stream",
     "text": [
      "[600/600]\ttrain_mse: 92.8499\r"
     ]
    },
    {
     "name": "stderr",
     "output_type": "stream",
     "text": [
      "[default |INFO|model.py:481] [75/100]\ttrain_loss: 9.284994e+01\ttest_loss: 3.251552e+03\n"
     ]
    },
    {
     "name": "stdout",
     "output_type": "stream",
     "text": [
      "[600/600]\ttrain_mse: 92.8737\r"
     ]
    },
    {
     "name": "stderr",
     "output_type": "stream",
     "text": [
      "[default |INFO|model.py:481] [76/100]\ttrain_loss: 9.287369e+01\ttest_loss: 8.341085e+02\n"
     ]
    },
    {
     "name": "stdout",
     "output_type": "stream",
     "text": [
      "[600/600]\ttrain_mse: 92.8879\r"
     ]
    },
    {
     "name": "stderr",
     "output_type": "stream",
     "text": [
      "[default |INFO|model.py:481] [77/100]\ttrain_loss: 9.288793e+01\ttest_loss: 5.273318e+02\n"
     ]
    },
    {
     "name": "stdout",
     "output_type": "stream",
     "text": [
      "[600/600]\ttrain_mse: 92.7981\r"
     ]
    },
    {
     "name": "stderr",
     "output_type": "stream",
     "text": [
      "[default |INFO|model.py:481] [78/100]\ttrain_loss: 9.279811e+01\ttest_loss: 1.260914e+03\n"
     ]
    },
    {
     "name": "stdout",
     "output_type": "stream",
     "text": [
      "[600/600]\ttrain_mse: 92.6968\r"
     ]
    },
    {
     "name": "stderr",
     "output_type": "stream",
     "text": [
      "[default |INFO|model.py:481] [79/100]\ttrain_loss: 9.269682e+01\ttest_loss: 2.142305e+03\n"
     ]
    },
    {
     "name": "stdout",
     "output_type": "stream",
     "text": [
      "[600/600]\ttrain_mse: 92.7053\r"
     ]
    },
    {
     "name": "stderr",
     "output_type": "stream",
     "text": [
      "[default |INFO|model.py:481] [80/100]\ttrain_loss: 9.270528e+01\ttest_loss: 7.499806e+02\n"
     ]
    },
    {
     "name": "stdout",
     "output_type": "stream",
     "text": [
      "[600/600]\ttrain_mse: 92.6441\r"
     ]
    },
    {
     "name": "stderr",
     "output_type": "stream",
     "text": [
      "[default |INFO|model.py:481] [81/100]\ttrain_loss: 9.264414e+01\ttest_loss: 1.479612e+03\n"
     ]
    },
    {
     "name": "stdout",
     "output_type": "stream",
     "text": [
      "[600/600]\ttrain_mse: 92.7222\r"
     ]
    },
    {
     "name": "stderr",
     "output_type": "stream",
     "text": [
      "[default |INFO|model.py:481] [82/100]\ttrain_loss: 9.272224e+01\ttest_loss: 1.219940e+03\n"
     ]
    },
    {
     "name": "stdout",
     "output_type": "stream",
     "text": [
      "[600/600]\ttrain_mse: 92.6905\r"
     ]
    },
    {
     "name": "stderr",
     "output_type": "stream",
     "text": [
      "[default |INFO|model.py:481] [83/100]\ttrain_loss: 9.269049e+01\ttest_loss: 2.814367e+03\n"
     ]
    },
    {
     "name": "stdout",
     "output_type": "stream",
     "text": [
      "[600/600]\ttrain_mse: 92.6581\r"
     ]
    },
    {
     "name": "stderr",
     "output_type": "stream",
     "text": [
      "[default |INFO|model.py:481] [84/100]\ttrain_loss: 9.265812e+01\ttest_loss: 8.448424e+02\n"
     ]
    },
    {
     "name": "stdout",
     "output_type": "stream",
     "text": [
      "[600/600]\ttrain_mse: 92.6437\r"
     ]
    },
    {
     "name": "stderr",
     "output_type": "stream",
     "text": [
      "[default |INFO|model.py:481] [85/100]\ttrain_loss: 9.264373e+01\ttest_loss: 1.451421e+03\n"
     ]
    },
    {
     "name": "stdout",
     "output_type": "stream",
     "text": [
      "[600/600]\ttrain_mse: 92.4451\r"
     ]
    },
    {
     "name": "stderr",
     "output_type": "stream",
     "text": [
      "[default |INFO|model.py:481] [86/100]\ttrain_loss: 9.244514e+01\ttest_loss: 1.635898e+03\n"
     ]
    },
    {
     "name": "stdout",
     "output_type": "stream",
     "text": [
      "[600/600]\ttrain_mse: 92.5421\r"
     ]
    },
    {
     "name": "stderr",
     "output_type": "stream",
     "text": [
      "[default |INFO|model.py:481] [87/100]\ttrain_loss: 9.254209e+01\ttest_loss: 2.464752e+03\n"
     ]
    },
    {
     "name": "stdout",
     "output_type": "stream",
     "text": [
      "[600/600]\ttrain_mse: 92.4638\r"
     ]
    },
    {
     "name": "stderr",
     "output_type": "stream",
     "text": [
      "[default |INFO|model.py:481] [88/100]\ttrain_loss: 9.246378e+01\ttest_loss: 1.755378e+03\n"
     ]
    },
    {
     "name": "stdout",
     "output_type": "stream",
     "text": [
      "[600/600]\ttrain_mse: 92.5106\r"
     ]
    },
    {
     "name": "stderr",
     "output_type": "stream",
     "text": [
      "[default |INFO|model.py:481] [89/100]\ttrain_loss: 9.251058e+01\ttest_loss: 3.657704e+03\n"
     ]
    },
    {
     "name": "stdout",
     "output_type": "stream",
     "text": [
      "[600/600]\ttrain_mse: 92.4459\r"
     ]
    },
    {
     "name": "stderr",
     "output_type": "stream",
     "text": [
      "[default |INFO|model.py:481] [90/100]\ttrain_loss: 9.244589e+01\ttest_loss: 1.358262e+03\n"
     ]
    },
    {
     "name": "stdout",
     "output_type": "stream",
     "text": [
      "[600/600]\ttrain_mse: 92.5171\r"
     ]
    },
    {
     "name": "stderr",
     "output_type": "stream",
     "text": [
      "[default |INFO|model.py:481] [91/100]\ttrain_loss: 9.251710e+01\ttest_loss: 1.210880e+03\n"
     ]
    },
    {
     "name": "stdout",
     "output_type": "stream",
     "text": [
      "[600/600]\ttrain_mse: 92.4142\r"
     ]
    },
    {
     "name": "stderr",
     "output_type": "stream",
     "text": [
      "[default |INFO|model.py:481] [92/100]\ttrain_loss: 9.241415e+01\ttest_loss: 1.419137e+03\n"
     ]
    },
    {
     "name": "stdout",
     "output_type": "stream",
     "text": [
      "[600/600]\ttrain_mse: 92.3892\r"
     ]
    },
    {
     "name": "stderr",
     "output_type": "stream",
     "text": [
      "[default |INFO|model.py:481] [93/100]\ttrain_loss: 9.238918e+01\ttest_loss: 2.945008e+03\n"
     ]
    },
    {
     "name": "stdout",
     "output_type": "stream",
     "text": [
      "[600/600]\ttrain_mse: 92.2540\r"
     ]
    },
    {
     "name": "stderr",
     "output_type": "stream",
     "text": [
      "[default |INFO|model.py:481] [94/100]\ttrain_loss: 9.225403e+01\ttest_loss: 1.346723e+03\n"
     ]
    },
    {
     "name": "stdout",
     "output_type": "stream",
     "text": [
      "[600/600]\ttrain_mse: 92.2980\r"
     ]
    },
    {
     "name": "stderr",
     "output_type": "stream",
     "text": [
      "[default |INFO|model.py:481] [95/100]\ttrain_loss: 9.229803e+01\ttest_loss: 2.154009e+03\n"
     ]
    },
    {
     "name": "stdout",
     "output_type": "stream",
     "text": [
      "[600/600]\ttrain_mse: 92.1706\r"
     ]
    },
    {
     "name": "stderr",
     "output_type": "stream",
     "text": [
      "[default |INFO|model.py:481] [96/100]\ttrain_loss: 9.217060e+01\ttest_loss: 1.456293e+03\n"
     ]
    },
    {
     "name": "stdout",
     "output_type": "stream",
     "text": [
      "[600/600]\ttrain_mse: 92.2321\r"
     ]
    },
    {
     "name": "stderr",
     "output_type": "stream",
     "text": [
      "[default |INFO|model.py:481] [97/100]\ttrain_loss: 9.223214e+01\ttest_loss: 9.151902e+02\n"
     ]
    },
    {
     "name": "stdout",
     "output_type": "stream",
     "text": [
      "[600/600]\ttrain_mse: 92.2333\r"
     ]
    },
    {
     "name": "stderr",
     "output_type": "stream",
     "text": [
      "[default |INFO|model.py:481] [98/100]\ttrain_loss: 9.223327e+01\ttest_loss: 2.459194e+03\n"
     ]
    },
    {
     "name": "stdout",
     "output_type": "stream",
     "text": [
      "[600/600]\ttrain_mse: 92.1264\r"
     ]
    },
    {
     "name": "stderr",
     "output_type": "stream",
     "text": [
      "[default |INFO|model.py:481] [99/100]\ttrain_loss: 9.212638e+01\ttest_loss: 2.419967e+03\n"
     ]
    },
    {
     "name": "stdout",
     "output_type": "stream",
     "text": [
      "[600/600]\ttrain_mse: 92.2046\r"
     ]
    },
    {
     "name": "stderr",
     "output_type": "stream",
     "text": [
      "[default |INFO|model.py:481] [100/100]\ttrain_loss: 9.220457e+01\ttest_loss: 2.474533e+03\n",
      "[default |INFO|model.py:559] Training Finished!\n",
      "[default |INFO|model.py:560] Elapsed time: 1570.297s\n"
     ]
    }
   ],
   "source": [
    "from model.exp1.train_cvae import CVAE_MNIST\n",
    "\n",
    "cfg = configparser.ConfigParser()\n",
    "cfg.read('./config/train_config_cvae1.cfg')\n",
    "\n",
    "model = CVAE_MNIST(cfg, log, device = device)\n",
    "model.train()"
   ]
  },
  {
   "cell_type": "markdown",
   "metadata": {},
   "source": [
    "## Model2"
   ]
  },
  {
   "cell_type": "code",
   "execution_count": null,
   "metadata": {
    "scrolled": true
   },
   "outputs": [
    {
     "name": "stderr",
     "output_type": "stream",
     "text": [
      "[default |INFO|_base_model.py:27] ------------------------------------------------------------\n",
      "[default |INFO|_base_model.py:29] model_name : CVAE_MNIST\n",
      "[default |INFO|_base_model.py:29] train_data : MNIST\n",
      "[default |INFO|_base_model.py:29] z_sampler : gaus\n",
      "[default |INFO|_base_model.py:29] z_dim : 8\n",
      "[default |INFO|_base_model.py:29] y_sampler : multinomial\n",
      "[default |INFO|_base_model.py:29] y_dim : 10\n",
      "[default |INFO|_base_model.py:29] prob_enc : True\n",
      "[default |INFO|_base_model.py:29] encoder_pretrain : False\n",
      "[default |INFO|_base_model.py:29] encoder_pretrain_batch_size : 1000\n",
      "[default |INFO|_base_model.py:29] encoder_pretrain_max_step : 200\n",
      "[default |INFO|_base_model.py:29] lr : 1e-3\n",
      "[default |INFO|_base_model.py:29] beta1 : 0.5\n",
      "[default |INFO|_base_model.py:29] lambda : 10.0\n",
      "[default |INFO|_base_model.py:29] lr_schedule : manual\n",
      "[default |INFO|_base_model.py:29] validate : True\n",
      "[default |INFO|_base_model.py:29] histogram : True\n",
      "[default |INFO|_base_model.py:29] batch_size : 100\n",
      "[default |INFO|_base_model.py:29] epoch : 100\n",
      "[default |INFO|_base_model.py:29] replace : False\n",
      "[default |INFO|_base_model.py:29] iter_per_epoch : None\n",
      "[default |INFO|_base_model.py:29] save_best : False\n",
      "[default |INFO|_base_model.py:32] data_home : ./data/MNIST\n",
      "[default |INFO|_base_model.py:32] tb_logs : ./result/tb_logs/cvae2\n",
      "[default |INFO|_base_model.py:32] save_path : ./result/weights/weight_cvae2.pt\n",
      "[default |INFO|_base_model.py:32] save_state : ./result/states/state_cvae2.pt\n",
      "[default |INFO|_base_model.py:32] save_img_path : ./result/plots/cvae2/\n",
      "[default |INFO|model.py:399] ------------------------------------------------------------\n",
      "[default |INFO|model.py:400] Training Start!\n"
     ]
    },
    {
     "name": "stdout",
     "output_type": "stream",
     "text": [
      "[600/600]\ttrain_mse: 182.7571\r"
     ]
    },
    {
     "name": "stderr",
     "output_type": "stream",
     "text": [
      "[default |INFO|model.py:481] [1/100]\ttrain_loss: 1.827571e+02\ttest_loss: 1.547642e+02\n"
     ]
    },
    {
     "name": "stdout",
     "output_type": "stream",
     "text": [
      "[600/600]\ttrain_mse: 142.3277\r"
     ]
    },
    {
     "name": "stderr",
     "output_type": "stream",
     "text": [
      "[default |INFO|model.py:481] [2/100]\ttrain_loss: 1.423277e+02\ttest_loss: 1.331485e+02\n"
     ]
    },
    {
     "name": "stdout",
     "output_type": "stream",
     "text": [
      "[600/600]\ttrain_mse: 130.5343\r"
     ]
    },
    {
     "name": "stderr",
     "output_type": "stream",
     "text": [
      "[default |INFO|model.py:481] [3/100]\ttrain_loss: 1.305343e+02\ttest_loss: 1.288730e+02\n"
     ]
    },
    {
     "name": "stdout",
     "output_type": "stream",
     "text": [
      "[600/600]\ttrain_mse: 127.3413\r"
     ]
    },
    {
     "name": "stderr",
     "output_type": "stream",
     "text": [
      "[default |INFO|model.py:481] [4/100]\ttrain_loss: 1.273413e+02\ttest_loss: 1.275352e+02\n"
     ]
    },
    {
     "name": "stdout",
     "output_type": "stream",
     "text": [
      "[600/600]\ttrain_mse: 125.8688\r"
     ]
    },
    {
     "name": "stderr",
     "output_type": "stream",
     "text": [
      "[default |INFO|model.py:481] [5/100]\ttrain_loss: 1.258688e+02\ttest_loss: 1.241779e+02\n"
     ]
    },
    {
     "name": "stdout",
     "output_type": "stream",
     "text": [
      "[600/600]\ttrain_mse: 124.8445\r"
     ]
    },
    {
     "name": "stderr",
     "output_type": "stream",
     "text": [
      "[default |INFO|model.py:481] [6/100]\ttrain_loss: 1.248445e+02\ttest_loss: 1.233719e+02\n"
     ]
    },
    {
     "name": "stdout",
     "output_type": "stream",
     "text": [
      "[600/600]\ttrain_mse: 124.0407\r"
     ]
    },
    {
     "name": "stderr",
     "output_type": "stream",
     "text": [
      "[default |INFO|model.py:481] [7/100]\ttrain_loss: 1.240407e+02\ttest_loss: 1.229454e+02\n"
     ]
    },
    {
     "name": "stdout",
     "output_type": "stream",
     "text": [
      "[600/600]\ttrain_mse: 120.4479\r"
     ]
    },
    {
     "name": "stderr",
     "output_type": "stream",
     "text": [
      "[default |INFO|model.py:481] [8/100]\ttrain_loss: 1.204479e+02\ttest_loss: 1.181674e+02\n"
     ]
    },
    {
     "name": "stdout",
     "output_type": "stream",
     "text": [
      "[600/600]\ttrain_mse: 118.2955\r"
     ]
    },
    {
     "name": "stderr",
     "output_type": "stream",
     "text": [
      "[default |INFO|model.py:481] [9/100]\ttrain_loss: 1.182955e+02\ttest_loss: 1.160128e+02\n"
     ]
    },
    {
     "name": "stdout",
     "output_type": "stream",
     "text": [
      "[600/600]\ttrain_mse: 117.3468\r"
     ]
    },
    {
     "name": "stderr",
     "output_type": "stream",
     "text": [
      "[default |INFO|model.py:481] [10/100]\ttrain_loss: 1.173468e+02\ttest_loss: 1.157265e+02\n"
     ]
    },
    {
     "name": "stdout",
     "output_type": "stream",
     "text": [
      "[600/600]\ttrain_mse: 116.7207\r"
     ]
    },
    {
     "name": "stderr",
     "output_type": "stream",
     "text": [
      "[default |INFO|model.py:481] [11/100]\ttrain_loss: 1.167207e+02\ttest_loss: 1.152395e+02\n"
     ]
    },
    {
     "name": "stdout",
     "output_type": "stream",
     "text": [
      "[600/600]\ttrain_mse: 116.1808\r"
     ]
    },
    {
     "name": "stderr",
     "output_type": "stream",
     "text": [
      "[default |INFO|model.py:481] [12/100]\ttrain_loss: 1.161808e+02\ttest_loss: 1.146307e+02\n"
     ]
    },
    {
     "name": "stdout",
     "output_type": "stream",
     "text": [
      "[600/600]\ttrain_mse: 115.7078\r"
     ]
    },
    {
     "name": "stderr",
     "output_type": "stream",
     "text": [
      "[default |INFO|model.py:481] [13/100]\ttrain_loss: 1.157078e+02\ttest_loss: 1.142195e+02\n"
     ]
    },
    {
     "name": "stdout",
     "output_type": "stream",
     "text": [
      "[600/600]\ttrain_mse: 115.4664\r"
     ]
    },
    {
     "name": "stderr",
     "output_type": "stream",
     "text": [
      "[default |INFO|model.py:481] [14/100]\ttrain_loss: 1.154664e+02\ttest_loss: 1.140873e+02\n"
     ]
    },
    {
     "name": "stdout",
     "output_type": "stream",
     "text": [
      "[600/600]\ttrain_mse: 115.0549\r"
     ]
    },
    {
     "name": "stderr",
     "output_type": "stream",
     "text": [
      "[default |INFO|model.py:481] [15/100]\ttrain_loss: 1.150549e+02\ttest_loss: 1.142624e+02\n"
     ]
    },
    {
     "name": "stdout",
     "output_type": "stream",
     "text": [
      "[600/600]\ttrain_mse: 114.7877\r"
     ]
    },
    {
     "name": "stderr",
     "output_type": "stream",
     "text": [
      "[default |INFO|model.py:481] [16/100]\ttrain_loss: 1.147877e+02\ttest_loss: 1.137461e+02\n"
     ]
    },
    {
     "name": "stdout",
     "output_type": "stream",
     "text": [
      "[600/600]\ttrain_mse: 113.3300\r"
     ]
    },
    {
     "name": "stderr",
     "output_type": "stream",
     "text": [
      "[default |INFO|model.py:481] [17/100]\ttrain_loss: 1.133300e+02\ttest_loss: 1.105226e+02\n"
     ]
    },
    {
     "name": "stdout",
     "output_type": "stream",
     "text": [
      "[600/600]\ttrain_mse: 111.0023\r"
     ]
    },
    {
     "name": "stderr",
     "output_type": "stream",
     "text": [
      "[default |INFO|model.py:481] [18/100]\ttrain_loss: 1.110023e+02\ttest_loss: 1.102681e+02\n"
     ]
    },
    {
     "name": "stdout",
     "output_type": "stream",
     "text": [
      "[600/600]\ttrain_mse: 109.7893\r"
     ]
    },
    {
     "name": "stderr",
     "output_type": "stream",
     "text": [
      "[default |INFO|model.py:481] [19/100]\ttrain_loss: 1.097893e+02\ttest_loss: 1.089418e+02\n"
     ]
    },
    {
     "name": "stdout",
     "output_type": "stream",
     "text": [
      "[600/600]\ttrain_mse: 109.1526\r"
     ]
    },
    {
     "name": "stderr",
     "output_type": "stream",
     "text": [
      "[default |INFO|model.py:481] [20/100]\ttrain_loss: 1.091526e+02\ttest_loss: 1.084726e+02\n"
     ]
    },
    {
     "name": "stdout",
     "output_type": "stream",
     "text": [
      "[600/600]\ttrain_mse: 108.8309\r"
     ]
    },
    {
     "name": "stderr",
     "output_type": "stream",
     "text": [
      "[default |INFO|model.py:481] [21/100]\ttrain_loss: 1.088309e+02\ttest_loss: 1.084990e+02\n"
     ]
    },
    {
     "name": "stdout",
     "output_type": "stream",
     "text": [
      "[600/600]\ttrain_mse: 108.4693\r"
     ]
    },
    {
     "name": "stderr",
     "output_type": "stream",
     "text": [
      "[default |INFO|model.py:481] [22/100]\ttrain_loss: 1.084693e+02\ttest_loss: 1.075398e+02\n"
     ]
    },
    {
     "name": "stdout",
     "output_type": "stream",
     "text": [
      "[600/600]\ttrain_mse: 108.1777\r"
     ]
    },
    {
     "name": "stderr",
     "output_type": "stream",
     "text": [
      "[default |INFO|model.py:481] [23/100]\ttrain_loss: 1.081777e+02\ttest_loss: 1.068680e+02\n"
     ]
    },
    {
     "name": "stdout",
     "output_type": "stream",
     "text": [
      "[600/600]\ttrain_mse: 107.8776\r"
     ]
    },
    {
     "name": "stderr",
     "output_type": "stream",
     "text": [
      "[default |INFO|model.py:481] [24/100]\ttrain_loss: 1.078776e+02\ttest_loss: 1.080612e+02\n"
     ]
    },
    {
     "name": "stdout",
     "output_type": "stream",
     "text": [
      "[600/600]\ttrain_mse: 107.5654\r"
     ]
    },
    {
     "name": "stderr",
     "output_type": "stream",
     "text": [
      "[default |INFO|model.py:481] [25/100]\ttrain_loss: 1.075654e+02\ttest_loss: 1.072147e+02\n"
     ]
    },
    {
     "name": "stdout",
     "output_type": "stream",
     "text": [
      "[600/600]\ttrain_mse: 107.3631\r"
     ]
    },
    {
     "name": "stderr",
     "output_type": "stream",
     "text": [
      "[default |INFO|model.py:481] [26/100]\ttrain_loss: 1.073631e+02\ttest_loss: 1.064029e+02\n"
     ]
    },
    {
     "name": "stdout",
     "output_type": "stream",
     "text": [
      "[600/600]\ttrain_mse: 107.2430\r"
     ]
    },
    {
     "name": "stderr",
     "output_type": "stream",
     "text": [
      "[default |INFO|model.py:481] [27/100]\ttrain_loss: 1.072430e+02\ttest_loss: 1.074834e+02\n"
     ]
    },
    {
     "name": "stdout",
     "output_type": "stream",
     "text": [
      "[600/600]\ttrain_mse: 107.1267\r"
     ]
    },
    {
     "name": "stderr",
     "output_type": "stream",
     "text": [
      "[default |INFO|model.py:481] [28/100]\ttrain_loss: 1.071267e+02\ttest_loss: 1.061097e+02\n"
     ]
    },
    {
     "name": "stdout",
     "output_type": "stream",
     "text": [
      "[600/600]\ttrain_mse: 106.9132\r"
     ]
    },
    {
     "name": "stderr",
     "output_type": "stream",
     "text": [
      "[default |INFO|model.py:481] [29/100]\ttrain_loss: 1.069132e+02\ttest_loss: 1.064244e+02\n"
     ]
    },
    {
     "name": "stdout",
     "output_type": "stream",
     "text": [
      "[600/600]\ttrain_mse: 106.7286\r"
     ]
    },
    {
     "name": "stderr",
     "output_type": "stream",
     "text": [
      "[default |INFO|model.py:481] [30/100]\ttrain_loss: 1.067286e+02\ttest_loss: 1.061146e+02\n"
     ]
    },
    {
     "name": "stdout",
     "output_type": "stream",
     "text": [
      "[600/600]\ttrain_mse: 106.5157\r"
     ]
    },
    {
     "name": "stderr",
     "output_type": "stream",
     "text": [
      "[default |INFO|model.py:481] [31/100]\ttrain_loss: 1.065157e+02\ttest_loss: 1.063584e+02\n"
     ]
    },
    {
     "name": "stdout",
     "output_type": "stream",
     "text": [
      "[600/600]\ttrain_mse: 106.4686\r"
     ]
    },
    {
     "name": "stderr",
     "output_type": "stream",
     "text": [
      "[default |INFO|model.py:481] [32/100]\ttrain_loss: 1.064686e+02\ttest_loss: 1.061716e+02\n"
     ]
    },
    {
     "name": "stdout",
     "output_type": "stream",
     "text": [
      "[600/600]\ttrain_mse: 106.2731\r"
     ]
    },
    {
     "name": "stderr",
     "output_type": "stream",
     "text": [
      "[default |INFO|model.py:481] [33/100]\ttrain_loss: 1.062731e+02\ttest_loss: 1.062406e+02\n"
     ]
    },
    {
     "name": "stdout",
     "output_type": "stream",
     "text": [
      "[600/600]\ttrain_mse: 106.2467\r"
     ]
    },
    {
     "name": "stderr",
     "output_type": "stream",
     "text": [
      "[default |INFO|model.py:481] [34/100]\ttrain_loss: 1.062467e+02\ttest_loss: 1.060358e+02\n"
     ]
    },
    {
     "name": "stdout",
     "output_type": "stream",
     "text": [
      "[600/600]\ttrain_mse: 106.0444\r"
     ]
    },
    {
     "name": "stderr",
     "output_type": "stream",
     "text": [
      "[default |INFO|model.py:481] [35/100]\ttrain_loss: 1.060444e+02\ttest_loss: 1.054346e+02\n"
     ]
    },
    {
     "name": "stdout",
     "output_type": "stream",
     "text": [
      "[600/600]\ttrain_mse: 105.8719\r"
     ]
    },
    {
     "name": "stderr",
     "output_type": "stream",
     "text": [
      "[default |INFO|model.py:481] [36/100]\ttrain_loss: 1.058719e+02\ttest_loss: 1.059518e+02\n"
     ]
    },
    {
     "name": "stdout",
     "output_type": "stream",
     "text": [
      "[600/600]\ttrain_mse: 105.8937\r"
     ]
    },
    {
     "name": "stderr",
     "output_type": "stream",
     "text": [
      "[default |INFO|model.py:481] [37/100]\ttrain_loss: 1.058937e+02\ttest_loss: 1.064055e+02\n"
     ]
    },
    {
     "name": "stdout",
     "output_type": "stream",
     "text": [
      "[600/600]\ttrain_mse: 105.6392\r"
     ]
    },
    {
     "name": "stderr",
     "output_type": "stream",
     "text": [
      "[default |INFO|model.py:481] [38/100]\ttrain_loss: 1.056392e+02\ttest_loss: 1.054748e+02\n"
     ]
    },
    {
     "name": "stdout",
     "output_type": "stream",
     "text": [
      "[600/600]\ttrain_mse: 105.6467\r"
     ]
    },
    {
     "name": "stderr",
     "output_type": "stream",
     "text": [
      "[default |INFO|model.py:481] [39/100]\ttrain_loss: 1.056467e+02\ttest_loss: 1.054129e+02\n"
     ]
    },
    {
     "name": "stdout",
     "output_type": "stream",
     "text": [
      "[600/600]\ttrain_mse: 105.5558\r"
     ]
    },
    {
     "name": "stderr",
     "output_type": "stream",
     "text": [
      "[default |INFO|model.py:481] [40/100]\ttrain_loss: 1.055558e+02\ttest_loss: 1.056194e+02\n"
     ]
    },
    {
     "name": "stdout",
     "output_type": "stream",
     "text": [
      "[600/600]\ttrain_mse: 105.4341\r"
     ]
    },
    {
     "name": "stderr",
     "output_type": "stream",
     "text": [
      "[default |INFO|model.py:481] [41/100]\ttrain_loss: 1.054341e+02\ttest_loss: 1.052005e+02\n"
     ]
    },
    {
     "name": "stdout",
     "output_type": "stream",
     "text": [
      "[600/600]\ttrain_mse: 105.3359\r"
     ]
    },
    {
     "name": "stderr",
     "output_type": "stream",
     "text": [
      "[default |INFO|model.py:481] [42/100]\ttrain_loss: 1.053359e+02\ttest_loss: 1.051221e+02\n"
     ]
    },
    {
     "name": "stdout",
     "output_type": "stream",
     "text": [
      "[600/600]\ttrain_mse: 104.5603\r"
     ]
    },
    {
     "name": "stderr",
     "output_type": "stream",
     "text": [
      "[default |INFO|model.py:481] [43/100]\ttrain_loss: 1.045603e+02\ttest_loss: 1.035345e+02\n"
     ]
    },
    {
     "name": "stdout",
     "output_type": "stream",
     "text": [
      "[600/600]\ttrain_mse: 103.6400\r"
     ]
    },
    {
     "name": "stderr",
     "output_type": "stream",
     "text": [
      "[default |INFO|model.py:481] [44/100]\ttrain_loss: 1.036400e+02\ttest_loss: 1.030017e+02\n"
     ]
    },
    {
     "name": "stdout",
     "output_type": "stream",
     "text": [
      "[600/600]\ttrain_mse: 102.9286\r"
     ]
    },
    {
     "name": "stderr",
     "output_type": "stream",
     "text": [
      "[default |INFO|model.py:481] [45/100]\ttrain_loss: 1.029286e+02\ttest_loss: 1.032783e+02\n"
     ]
    },
    {
     "name": "stdout",
     "output_type": "stream",
     "text": [
      "[600/600]\ttrain_mse: 102.5850\r"
     ]
    },
    {
     "name": "stderr",
     "output_type": "stream",
     "text": [
      "[default |INFO|model.py:481] [46/100]\ttrain_loss: 1.025850e+02\ttest_loss: 1.022180e+02\n"
     ]
    },
    {
     "name": "stdout",
     "output_type": "stream",
     "text": [
      "[600/600]\ttrain_mse: 102.2921\r"
     ]
    },
    {
     "name": "stderr",
     "output_type": "stream",
     "text": [
      "[default |INFO|model.py:481] [47/100]\ttrain_loss: 1.022921e+02\ttest_loss: 1.019705e+02\n"
     ]
    },
    {
     "name": "stdout",
     "output_type": "stream",
     "text": [
      "[600/600]\ttrain_mse: 102.1593\r"
     ]
    },
    {
     "name": "stderr",
     "output_type": "stream",
     "text": [
      "[default |INFO|model.py:481] [48/100]\ttrain_loss: 1.021593e+02\ttest_loss: 1.019019e+02\n"
     ]
    },
    {
     "name": "stdout",
     "output_type": "stream",
     "text": [
      "[600/600]\ttrain_mse: 101.7792\r"
     ]
    },
    {
     "name": "stderr",
     "output_type": "stream",
     "text": [
      "[default |INFO|model.py:481] [49/100]\ttrain_loss: 1.017792e+02\ttest_loss: 1.024504e+02\n"
     ]
    },
    {
     "name": "stdout",
     "output_type": "stream",
     "text": [
      "[600/600]\ttrain_mse: 101.6718\r"
     ]
    },
    {
     "name": "stderr",
     "output_type": "stream",
     "text": [
      "[default |INFO|model.py:481] [50/100]\ttrain_loss: 1.016718e+02\ttest_loss: 1.015798e+02\n"
     ]
    },
    {
     "name": "stdout",
     "output_type": "stream",
     "text": [
      "[600/600]\ttrain_mse: 101.5686\r"
     ]
    },
    {
     "name": "stderr",
     "output_type": "stream",
     "text": [
      "[default |INFO|model.py:481] [51/100]\ttrain_loss: 1.015686e+02\ttest_loss: 1.014264e+02\n"
     ]
    },
    {
     "name": "stdout",
     "output_type": "stream",
     "text": [
      "[600/600]\ttrain_mse: 101.4579\r"
     ]
    },
    {
     "name": "stderr",
     "output_type": "stream",
     "text": [
      "[default |INFO|model.py:481] [52/100]\ttrain_loss: 1.014579e+02\ttest_loss: 1.019907e+02\n"
     ]
    },
    {
     "name": "stdout",
     "output_type": "stream",
     "text": [
      "[600/600]\ttrain_mse: 101.3964\r"
     ]
    },
    {
     "name": "stderr",
     "output_type": "stream",
     "text": [
      "[default |INFO|model.py:481] [53/100]\ttrain_loss: 1.013964e+02\ttest_loss: 1.020239e+02\n"
     ]
    },
    {
     "name": "stdout",
     "output_type": "stream",
     "text": [
      "[600/600]\ttrain_mse: 101.1923\r"
     ]
    },
    {
     "name": "stderr",
     "output_type": "stream",
     "text": [
      "[default |INFO|model.py:481] [54/100]\ttrain_loss: 1.011923e+02\ttest_loss: 1.013904e+02\n"
     ]
    },
    {
     "name": "stdout",
     "output_type": "stream",
     "text": [
      "[600/600]\ttrain_mse: 101.0811\r"
     ]
    },
    {
     "name": "stderr",
     "output_type": "stream",
     "text": [
      "[default |INFO|model.py:481] [55/100]\ttrain_loss: 1.010811e+02\ttest_loss: 1.011412e+02\n"
     ]
    },
    {
     "name": "stdout",
     "output_type": "stream",
     "text": [
      "[600/600]\ttrain_mse: 100.9194\r"
     ]
    },
    {
     "name": "stderr",
     "output_type": "stream",
     "text": [
      "[default |INFO|model.py:481] [56/100]\ttrain_loss: 1.009194e+02\ttest_loss: 1.010858e+02\n"
     ]
    },
    {
     "name": "stdout",
     "output_type": "stream",
     "text": [
      "[600/600]\ttrain_mse: 100.8162\r"
     ]
    },
    {
     "name": "stderr",
     "output_type": "stream",
     "text": [
      "[default |INFO|model.py:481] [57/100]\ttrain_loss: 1.008162e+02\ttest_loss: 1.017068e+02\n"
     ]
    },
    {
     "name": "stdout",
     "output_type": "stream",
     "text": [
      "[600/600]\ttrain_mse: 100.7156\r"
     ]
    },
    {
     "name": "stderr",
     "output_type": "stream",
     "text": [
      "[default |INFO|model.py:481] [58/100]\ttrain_loss: 1.007156e+02\ttest_loss: 1.013460e+02\n"
     ]
    },
    {
     "name": "stdout",
     "output_type": "stream",
     "text": [
      "[600/600]\ttrain_mse: 100.3570\r"
     ]
    },
    {
     "name": "stderr",
     "output_type": "stream",
     "text": [
      "[default |INFO|model.py:481] [59/100]\ttrain_loss: 1.003570e+02\ttest_loss: 1.004564e+02\n"
     ]
    },
    {
     "name": "stdout",
     "output_type": "stream",
     "text": [
      "[600/600]\ttrain_mse: 100.0618\r"
     ]
    },
    {
     "name": "stderr",
     "output_type": "stream",
     "text": [
      "[default |INFO|model.py:481] [60/100]\ttrain_loss: 1.000618e+02\ttest_loss: 9.994154e+01\n"
     ]
    },
    {
     "name": "stdout",
     "output_type": "stream",
     "text": [
      "[600/600]\ttrain_mse: 99.63785\r"
     ]
    },
    {
     "name": "stderr",
     "output_type": "stream",
     "text": [
      "[default |INFO|model.py:481] [61/100]\ttrain_loss: 9.963782e+01\ttest_loss: 1.001545e+02\n"
     ]
    },
    {
     "name": "stdout",
     "output_type": "stream",
     "text": [
      "[600/600]\ttrain_mse: 99.3063\r"
     ]
    },
    {
     "name": "stderr",
     "output_type": "stream",
     "text": [
      "[default |INFO|model.py:481] [62/100]\ttrain_loss: 9.930625e+01\ttest_loss: 9.956563e+01\n"
     ]
    },
    {
     "name": "stdout",
     "output_type": "stream",
     "text": [
      "[600/600]\ttrain_mse: 99.0514\r"
     ]
    },
    {
     "name": "stderr",
     "output_type": "stream",
     "text": [
      "[default |INFO|model.py:481] [63/100]\ttrain_loss: 9.905144e+01\ttest_loss: 9.901755e+01\n"
     ]
    },
    {
     "name": "stdout",
     "output_type": "stream",
     "text": [
      "[600/600]\ttrain_mse: 98.7098\r"
     ]
    },
    {
     "name": "stderr",
     "output_type": "stream",
     "text": [
      "[default |INFO|model.py:481] [64/100]\ttrain_loss: 9.870979e+01\ttest_loss: 9.956324e+01\n"
     ]
    },
    {
     "name": "stdout",
     "output_type": "stream",
     "text": [
      "[600/600]\ttrain_mse: 98.5760\r"
     ]
    },
    {
     "name": "stderr",
     "output_type": "stream",
     "text": [
      "[default |INFO|model.py:481] [65/100]\ttrain_loss: 9.857604e+01\ttest_loss: 9.888162e+01\n"
     ]
    },
    {
     "name": "stdout",
     "output_type": "stream",
     "text": [
      "[600/600]\ttrain_mse: 98.3585\r"
     ]
    },
    {
     "name": "stderr",
     "output_type": "stream",
     "text": [
      "[default |INFO|model.py:481] [66/100]\ttrain_loss: 9.835847e+01\ttest_loss: 9.932373e+01\n"
     ]
    },
    {
     "name": "stdout",
     "output_type": "stream",
     "text": [
      "[600/600]\ttrain_mse: 98.3038\r"
     ]
    },
    {
     "name": "stderr",
     "output_type": "stream",
     "text": [
      "[default |INFO|model.py:481] [67/100]\ttrain_loss: 9.830378e+01\ttest_loss: 9.846942e+01\n"
     ]
    },
    {
     "name": "stdout",
     "output_type": "stream",
     "text": [
      "[600/600]\ttrain_mse: 98.0813\r"
     ]
    },
    {
     "name": "stderr",
     "output_type": "stream",
     "text": [
      "[default |INFO|model.py:481] [68/100]\ttrain_loss: 9.808129e+01\ttest_loss: 9.857965e+01\n"
     ]
    },
    {
     "name": "stdout",
     "output_type": "stream",
     "text": [
      "[600/600]\ttrain_mse: 97.9266\r"
     ]
    },
    {
     "name": "stderr",
     "output_type": "stream",
     "text": [
      "[default |INFO|model.py:481] [69/100]\ttrain_loss: 9.792662e+01\ttest_loss: 9.823611e+01\n"
     ]
    },
    {
     "name": "stdout",
     "output_type": "stream",
     "text": [
      "[600/600]\ttrain_mse: 97.7833\r"
     ]
    },
    {
     "name": "stderr",
     "output_type": "stream",
     "text": [
      "[default |INFO|model.py:481] [70/100]\ttrain_loss: 9.778329e+01\ttest_loss: 9.823369e+01\n"
     ]
    },
    {
     "name": "stdout",
     "output_type": "stream",
     "text": [
      "[600/600]\ttrain_mse: 97.6906\r"
     ]
    },
    {
     "name": "stderr",
     "output_type": "stream",
     "text": [
      "[default |INFO|model.py:481] [71/100]\ttrain_loss: 9.769058e+01\ttest_loss: 9.842931e+01\n"
     ]
    },
    {
     "name": "stdout",
     "output_type": "stream",
     "text": [
      "[600/600]\ttrain_mse: 97.6548\r"
     ]
    },
    {
     "name": "stderr",
     "output_type": "stream",
     "text": [
      "[default |INFO|model.py:481] [72/100]\ttrain_loss: 9.765483e+01\ttest_loss: 9.854489e+01\n"
     ]
    },
    {
     "name": "stdout",
     "output_type": "stream",
     "text": [
      "[600/600]\ttrain_mse: 97.4159\r"
     ]
    },
    {
     "name": "stderr",
     "output_type": "stream",
     "text": [
      "[default |INFO|model.py:481] [73/100]\ttrain_loss: 9.741588e+01\ttest_loss: 9.784724e+01\n"
     ]
    },
    {
     "name": "stdout",
     "output_type": "stream",
     "text": [
      "[600/600]\ttrain_mse: 97.3587\r"
     ]
    },
    {
     "name": "stderr",
     "output_type": "stream",
     "text": [
      "[default |INFO|model.py:481] [74/100]\ttrain_loss: 9.735868e+01\ttest_loss: 9.821735e+01\n"
     ]
    },
    {
     "name": "stdout",
     "output_type": "stream",
     "text": [
      "[600/600]\ttrain_mse: 97.3376\r"
     ]
    },
    {
     "name": "stderr",
     "output_type": "stream",
     "text": [
      "[default |INFO|model.py:481] [75/100]\ttrain_loss: 9.733765e+01\ttest_loss: 9.777688e+01\n"
     ]
    },
    {
     "name": "stdout",
     "output_type": "stream",
     "text": [
      "[600/600]\ttrain_mse: 97.2261\r"
     ]
    },
    {
     "name": "stderr",
     "output_type": "stream",
     "text": [
      "[default |INFO|model.py:481] [76/100]\ttrain_loss: 9.722607e+01\ttest_loss: 9.808204e+01\n"
     ]
    },
    {
     "name": "stdout",
     "output_type": "stream",
     "text": [
      "[600/600]\ttrain_mse: 97.1650\r"
     ]
    },
    {
     "name": "stderr",
     "output_type": "stream",
     "text": [
      "[default |INFO|model.py:481] [77/100]\ttrain_loss: 9.716502e+01\ttest_loss: 9.778080e+01\n"
     ]
    },
    {
     "name": "stdout",
     "output_type": "stream",
     "text": [
      "[600/600]\ttrain_mse: 97.0236\r"
     ]
    },
    {
     "name": "stderr",
     "output_type": "stream",
     "text": [
      "[default |INFO|model.py:481] [78/100]\ttrain_loss: 9.702363e+01\ttest_loss: 9.780867e+01\n"
     ]
    },
    {
     "name": "stdout",
     "output_type": "stream",
     "text": [
      "[600/600]\ttrain_mse: 96.9599\r"
     ]
    },
    {
     "name": "stderr",
     "output_type": "stream",
     "text": [
      "[default |INFO|model.py:481] [79/100]\ttrain_loss: 9.695990e+01\ttest_loss: 9.777323e+01\n"
     ]
    },
    {
     "name": "stdout",
     "output_type": "stream",
     "text": [
      "[600/600]\ttrain_mse: 96.8968\r"
     ]
    },
    {
     "name": "stderr",
     "output_type": "stream",
     "text": [
      "[default |INFO|model.py:481] [80/100]\ttrain_loss: 9.689679e+01\ttest_loss: 9.796503e+01\n"
     ]
    },
    {
     "name": "stdout",
     "output_type": "stream",
     "text": [
      "[600/600]\ttrain_mse: 96.7532\r"
     ]
    },
    {
     "name": "stderr",
     "output_type": "stream",
     "text": [
      "[default |INFO|model.py:481] [81/100]\ttrain_loss: 9.675321e+01\ttest_loss: 9.921220e+01\n"
     ]
    },
    {
     "name": "stdout",
     "output_type": "stream",
     "text": [
      "[600/600]\ttrain_mse: 96.6129\r"
     ]
    },
    {
     "name": "stderr",
     "output_type": "stream",
     "text": [
      "[default |INFO|model.py:481] [82/100]\ttrain_loss: 9.661292e+01\ttest_loss: 9.782375e+01\n"
     ]
    },
    {
     "name": "stdout",
     "output_type": "stream",
     "text": [
      "[600/600]\ttrain_mse: 96.7165\r"
     ]
    },
    {
     "name": "stderr",
     "output_type": "stream",
     "text": [
      "[default |INFO|model.py:481] [83/100]\ttrain_loss: 9.671647e+01\ttest_loss: 9.810658e+01\n"
     ]
    },
    {
     "name": "stdout",
     "output_type": "stream",
     "text": [
      "[600/600]\ttrain_mse: 96.5033\r"
     ]
    },
    {
     "name": "stderr",
     "output_type": "stream",
     "text": [
      "[default |INFO|model.py:481] [84/100]\ttrain_loss: 9.650335e+01\ttest_loss: 9.760179e+01\n"
     ]
    },
    {
     "name": "stdout",
     "output_type": "stream",
     "text": [
      "[600/600]\ttrain_mse: 96.5255\r"
     ]
    },
    {
     "name": "stderr",
     "output_type": "stream",
     "text": [
      "[default |INFO|model.py:481] [85/100]\ttrain_loss: 9.652553e+01\ttest_loss: 9.749188e+01\n"
     ]
    },
    {
     "name": "stdout",
     "output_type": "stream",
     "text": [
      "[600/600]\ttrain_mse: 96.4353\r"
     ]
    },
    {
     "name": "stderr",
     "output_type": "stream",
     "text": [
      "[default |INFO|model.py:481] [86/100]\ttrain_loss: 9.643529e+01\ttest_loss: 9.761448e+01\n"
     ]
    },
    {
     "name": "stdout",
     "output_type": "stream",
     "text": [
      "[600/600]\ttrain_mse: 96.3341\r"
     ]
    },
    {
     "name": "stderr",
     "output_type": "stream",
     "text": [
      "[default |INFO|model.py:481] [87/100]\ttrain_loss: 9.633412e+01\ttest_loss: 9.762256e+01\n"
     ]
    },
    {
     "name": "stdout",
     "output_type": "stream",
     "text": [
      "[600/600]\ttrain_mse: 96.3515\r"
     ]
    },
    {
     "name": "stderr",
     "output_type": "stream",
     "text": [
      "[default |INFO|model.py:481] [88/100]\ttrain_loss: 9.635154e+01\ttest_loss: 9.812734e+01\n"
     ]
    },
    {
     "name": "stdout",
     "output_type": "stream",
     "text": [
      "[600/600]\ttrain_mse: 96.2966\r"
     ]
    },
    {
     "name": "stderr",
     "output_type": "stream",
     "text": [
      "[default |INFO|model.py:481] [89/100]\ttrain_loss: 9.629663e+01\ttest_loss: 9.747046e+01\n"
     ]
    },
    {
     "name": "stdout",
     "output_type": "stream",
     "text": [
      "[600/600]\ttrain_mse: 96.2171\r"
     ]
    },
    {
     "name": "stderr",
     "output_type": "stream",
     "text": [
      "[default |INFO|model.py:481] [90/100]\ttrain_loss: 9.621710e+01\ttest_loss: 9.771815e+01\n"
     ]
    },
    {
     "name": "stdout",
     "output_type": "stream",
     "text": [
      "[600/600]\ttrain_mse: 96.2509\r"
     ]
    },
    {
     "name": "stderr",
     "output_type": "stream",
     "text": [
      "[default |INFO|model.py:481] [91/100]\ttrain_loss: 9.625091e+01\ttest_loss: 9.845175e+01\n"
     ]
    },
    {
     "name": "stdout",
     "output_type": "stream",
     "text": [
      "[600/600]\ttrain_mse: 96.1181\r"
     ]
    },
    {
     "name": "stderr",
     "output_type": "stream",
     "text": [
      "[default |INFO|model.py:481] [92/100]\ttrain_loss: 9.611809e+01\ttest_loss: 9.805437e+01\n"
     ]
    },
    {
     "name": "stdout",
     "output_type": "stream",
     "text": [
      "[600/600]\ttrain_mse: 95.9883\r"
     ]
    },
    {
     "name": "stderr",
     "output_type": "stream",
     "text": [
      "[default |INFO|model.py:481] [93/100]\ttrain_loss: 9.598834e+01\ttest_loss: 9.748853e+01\n"
     ]
    },
    {
     "name": "stdout",
     "output_type": "stream",
     "text": [
      "[600/600]\ttrain_mse: 96.0525\r"
     ]
    },
    {
     "name": "stderr",
     "output_type": "stream",
     "text": [
      "[default |INFO|model.py:481] [94/100]\ttrain_loss: 9.605253e+01\ttest_loss: 9.711701e+01\n"
     ]
    },
    {
     "name": "stdout",
     "output_type": "stream",
     "text": [
      "[600/600]\ttrain_mse: 95.9011\r"
     ]
    },
    {
     "name": "stderr",
     "output_type": "stream",
     "text": [
      "[default |INFO|model.py:481] [95/100]\ttrain_loss: 9.590110e+01\ttest_loss: 9.742940e+01\n"
     ]
    },
    {
     "name": "stdout",
     "output_type": "stream",
     "text": [
      "[600/600]\ttrain_mse: 95.8925\r"
     ]
    },
    {
     "name": "stderr",
     "output_type": "stream",
     "text": [
      "[default |INFO|model.py:481] [96/100]\ttrain_loss: 9.589247e+01\ttest_loss: 9.725935e+01\n"
     ]
    },
    {
     "name": "stdout",
     "output_type": "stream",
     "text": [
      "[600/600]\ttrain_mse: 95.8218\r"
     ]
    },
    {
     "name": "stderr",
     "output_type": "stream",
     "text": [
      "[default |INFO|model.py:481] [97/100]\ttrain_loss: 9.582182e+01\ttest_loss: 9.748203e+01\n"
     ]
    },
    {
     "name": "stdout",
     "output_type": "stream",
     "text": [
      "[600/600]\ttrain_mse: 95.7848\r"
     ]
    },
    {
     "name": "stderr",
     "output_type": "stream",
     "text": [
      "[default |INFO|model.py:481] [98/100]\ttrain_loss: 9.578483e+01\ttest_loss: 9.762551e+01\n"
     ]
    },
    {
     "name": "stdout",
     "output_type": "stream",
     "text": [
      "[380/600]\ttrain_mse: 95.6562\r"
     ]
    }
   ],
   "source": [
    "from model.exp2.train_cvae import CVAE_MNIST\n",
    "\n",
    "cfg = configparser.ConfigParser()\n",
    "cfg.read('./config/train_config_cvae2.cfg')\n",
    "\n",
    "model = CVAE_MNIST(cfg, log, device = device)\n",
    "model.train()"
   ]
  },
  {
   "cell_type": "markdown",
   "metadata": {},
   "source": [
    "# Apendix\n",
    "## Number of trainable parameters"
   ]
  },
  {
   "cell_type": "code",
   "execution_count": 4,
   "metadata": {},
   "outputs": [
    {
     "name": "stderr",
     "output_type": "stream",
     "text": [
      "[default |INFO|_base_model.py:27] ------------------------------------------------------------\n",
      "[default |INFO|_base_model.py:29] model_name : VAE_MNIST\n",
      "[default |INFO|_base_model.py:29] train_data : MNIST\n",
      "[default |INFO|_base_model.py:29] z_sampler : gaus\n",
      "[default |INFO|_base_model.py:29] z_dim : 8\n",
      "[default |INFO|_base_model.py:29] prob_enc : True\n",
      "[default |INFO|_base_model.py:29] encoder_pretrain : False\n",
      "[default |INFO|_base_model.py:29] encoder_pretrain_batch_size : 1000\n",
      "[default |INFO|_base_model.py:29] encoder_pretrain_max_step : 200\n",
      "[default |INFO|_base_model.py:29] lr : 1e-3\n",
      "[default |INFO|_base_model.py:29] beta1 : 0.5\n",
      "[default |INFO|_base_model.py:29] lambda : 10.0\n",
      "[default |INFO|_base_model.py:29] lr_schedule : manual\n",
      "[default |INFO|_base_model.py:29] validate : True\n",
      "[default |INFO|_base_model.py:29] histogram : True\n",
      "[default |INFO|_base_model.py:29] batch_size : 100\n",
      "[default |INFO|_base_model.py:29] epoch : 100\n",
      "[default |INFO|_base_model.py:29] replace : False\n",
      "[default |INFO|_base_model.py:29] iter_per_epoch : None\n",
      "[default |INFO|_base_model.py:29] save_best : False\n",
      "[default |INFO|_base_model.py:32] data_home : ./data/MNIST\n",
      "[default |INFO|_base_model.py:32] tb_logs : ./result/tb_logs/vae1\n",
      "[default |INFO|_base_model.py:32] save_path : ./result/weights/weight_vae1.pt\n",
      "[default |INFO|_base_model.py:32] save_state : ./result/states/state_vae1.pt\n",
      "[default |INFO|_base_model.py:32] save_img_path : ./result/plots/vae1/\n"
     ]
    },
    {
     "name": "stdout",
     "output_type": "stream",
     "text": [
      "VAE_1 has 1,092,145 trainable parameters\n"
     ]
    }
   ],
   "source": [
    "def count_parameters(model):\n",
    "    return sum(p.numel() for p in model.parameters() if p.requires_grad)  # Count number of elements of all parameters\n",
    "\n",
    "from model.exp1.train_vae import VAE_MNIST\n",
    "\n",
    "cfg = configparser.ConfigParser()\n",
    "cfg.read('./config/train_config_vae1.cfg')\n",
    "\n",
    "model = VAE_MNIST(cfg, log, device = device)\n",
    "\n",
    "print('VAE_1 has {:,} trainable parameters'.format(count_parameters(model)))"
   ]
  },
  {
   "cell_type": "code",
   "execution_count": 5,
   "metadata": {},
   "outputs": [
    {
     "name": "stderr",
     "output_type": "stream",
     "text": [
      "[default |INFO|_base_model.py:27] ------------------------------------------------------------\n",
      "[default |INFO|_base_model.py:29] model_name : VAE_MNIST\n",
      "[default |INFO|_base_model.py:29] train_data : MNIST\n",
      "[default |INFO|_base_model.py:29] z_sampler : gaus\n",
      "[default |INFO|_base_model.py:29] z_dim : 8\n",
      "[default |INFO|_base_model.py:29] prob_enc : True\n",
      "[default |INFO|_base_model.py:29] encoder_pretrain : False\n",
      "[default |INFO|_base_model.py:29] encoder_pretrain_batch_size : 1000\n",
      "[default |INFO|_base_model.py:29] encoder_pretrain_max_step : 200\n",
      "[default |INFO|_base_model.py:29] lr : 1e-3\n",
      "[default |INFO|_base_model.py:29] beta1 : 0.5\n",
      "[default |INFO|_base_model.py:29] lambda : 10.0\n",
      "[default |INFO|_base_model.py:29] lr_schedule : manual\n",
      "[default |INFO|_base_model.py:29] validate : True\n",
      "[default |INFO|_base_model.py:29] histogram : True\n",
      "[default |INFO|_base_model.py:29] batch_size : 100\n",
      "[default |INFO|_base_model.py:29] epoch : 100\n",
      "[default |INFO|_base_model.py:29] replace : False\n",
      "[default |INFO|_base_model.py:29] iter_per_epoch : None\n",
      "[default |INFO|_base_model.py:29] save_best : False\n",
      "[default |INFO|_base_model.py:32] data_home : ./data/MNIST\n",
      "[default |INFO|_base_model.py:32] tb_logs : ./result/tb_logs/vae2\n",
      "[default |INFO|_base_model.py:32] save_path : ./result/weights/weight_vae2.pt\n",
      "[default |INFO|_base_model.py:32] save_state : ./result/states/state_vae2.pt\n",
      "[default |INFO|_base_model.py:32] save_img_path : ./result/plots/vae2/\n"
     ]
    },
    {
     "name": "stdout",
     "output_type": "stream",
     "text": [
      "VAE_2 has 1,468,081 trainable parameters\n"
     ]
    }
   ],
   "source": [
    "from model.exp2.train_vae import VAE_MNIST\n",
    "\n",
    "cfg = configparser.ConfigParser()\n",
    "cfg.read('./config/train_config_vae2.cfg')\n",
    "\n",
    "model = VAE_MNIST(cfg, log, device = device)\n",
    "\n",
    "print('VAE_2 has {:,} trainable parameters'.format(count_parameters(model)))"
   ]
  },
  {
   "cell_type": "code",
   "execution_count": 4,
   "metadata": {},
   "outputs": [
    {
     "name": "stderr",
     "output_type": "stream",
     "text": [
      "[default |INFO|_base_model.py:27] ------------------------------------------------------------\n",
      "[default |INFO|_base_model.py:29] model_name : CVAE_MNIST\n",
      "[default |INFO|_base_model.py:29] train_data : MNIST\n",
      "[default |INFO|_base_model.py:29] z_sampler : gaus\n",
      "[default |INFO|_base_model.py:29] z_dim : 8\n",
      "[default |INFO|_base_model.py:29] y_sampler : multinomial\n",
      "[default |INFO|_base_model.py:29] y_dim : 10\n",
      "[default |INFO|_base_model.py:29] prob_enc : True\n",
      "[default |INFO|_base_model.py:29] encoder_pretrain : False\n",
      "[default |INFO|_base_model.py:29] encoder_pretrain_batch_size : 1000\n",
      "[default |INFO|_base_model.py:29] encoder_pretrain_max_step : 200\n",
      "[default |INFO|_base_model.py:29] lr : 1e-3\n",
      "[default |INFO|_base_model.py:29] beta1 : 0.5\n",
      "[default |INFO|_base_model.py:29] lambda : 10.0\n",
      "[default |INFO|_base_model.py:29] lr_schedule : manual\n",
      "[default |INFO|_base_model.py:29] validate : True\n",
      "[default |INFO|_base_model.py:29] histogram : True\n",
      "[default |INFO|_base_model.py:29] batch_size : 100\n",
      "[default |INFO|_base_model.py:29] epoch : 100\n",
      "[default |INFO|_base_model.py:29] replace : False\n",
      "[default |INFO|_base_model.py:29] iter_per_epoch : None\n",
      "[default |INFO|_base_model.py:29] save_best : False\n",
      "[default |INFO|_base_model.py:32] data_home : ./data/MNIST\n",
      "[default |INFO|_base_model.py:32] tb_logs : ./result/tb_logs/cvae1\n",
      "[default |INFO|_base_model.py:32] save_path : ./result/weights/weight_cvae1.pt\n",
      "[default |INFO|_base_model.py:32] save_state : ./result/states/state_cvae1.pt\n",
      "[default |INFO|_base_model.py:32] save_img_path : ./result/plots/cvae1/\n"
     ]
    },
    {
     "name": "stdout",
     "output_type": "stream",
     "text": [
      "CVAE_1 has 1,155,505 trainable parameters\n"
     ]
    }
   ],
   "source": [
    "from model.exp1.train_cvae import CVAE_MNIST\n",
    "\n",
    "cfg = configparser.ConfigParser()\n",
    "cfg.read('./config/train_config_cvae1.cfg')\n",
    "\n",
    "model = CVAE_MNIST(cfg, log, device = device)\n",
    "\n",
    "print('CVAE_1 has {:,} trainable parameters'.format(count_parameters(model)))"
   ]
  },
  {
   "cell_type": "code",
   "execution_count": 5,
   "metadata": {},
   "outputs": [
    {
     "name": "stderr",
     "output_type": "stream",
     "text": [
      "[default |INFO|_base_model.py:27] ------------------------------------------------------------\n",
      "[default |INFO|_base_model.py:29] model_name : CVAE_MNIST\n",
      "[default |INFO|_base_model.py:29] train_data : MNIST\n",
      "[default |INFO|_base_model.py:29] z_sampler : gaus\n",
      "[default |INFO|_base_model.py:29] z_dim : 8\n",
      "[default |INFO|_base_model.py:29] y_sampler : multinomial\n",
      "[default |INFO|_base_model.py:29] y_dim : 10\n",
      "[default |INFO|_base_model.py:29] prob_enc : True\n",
      "[default |INFO|_base_model.py:29] encoder_pretrain : False\n",
      "[default |INFO|_base_model.py:29] encoder_pretrain_batch_size : 1000\n",
      "[default |INFO|_base_model.py:29] encoder_pretrain_max_step : 200\n",
      "[default |INFO|_base_model.py:29] lr : 1e-3\n",
      "[default |INFO|_base_model.py:29] beta1 : 0.5\n",
      "[default |INFO|_base_model.py:29] lambda : 10.0\n",
      "[default |INFO|_base_model.py:29] lr_schedule : manual\n",
      "[default |INFO|_base_model.py:29] validate : True\n",
      "[default |INFO|_base_model.py:29] histogram : True\n",
      "[default |INFO|_base_model.py:29] batch_size : 100\n",
      "[default |INFO|_base_model.py:29] epoch : 100\n",
      "[default |INFO|_base_model.py:29] replace : False\n",
      "[default |INFO|_base_model.py:29] iter_per_epoch : None\n",
      "[default |INFO|_base_model.py:29] save_best : False\n",
      "[default |INFO|_base_model.py:32] data_home : ./data/MNIST\n",
      "[default |INFO|_base_model.py:32] tb_logs : ./result/tb_logs/cvae2\n",
      "[default |INFO|_base_model.py:32] save_path : ./result/weights/weight_cvae2.pt\n",
      "[default |INFO|_base_model.py:32] save_state : ./result/states/state_cvae2.pt\n",
      "[default |INFO|_base_model.py:32] save_img_path : ./result/plots/cvae2/\n"
     ]
    },
    {
     "name": "stdout",
     "output_type": "stream",
     "text": [
      "CVAE_2 has 1,593,841 trainable parameters\n"
     ]
    }
   ],
   "source": [
    "from model.exp2.train_cvae import CVAE_MNIST\n",
    "\n",
    "cfg = configparser.ConfigParser()\n",
    "cfg.read('./config/train_config_cvae2.cfg')\n",
    "\n",
    "model = CVAE_MNIST(cfg, log, device = device)\n",
    "\n",
    "print('CVAE_2 has {:,} trainable parameters'.format(count_parameters(model)))"
   ]
  },
  {
   "cell_type": "code",
   "execution_count": null,
   "metadata": {},
   "outputs": [],
   "source": []
  }
 ],
 "metadata": {
  "kernelspec": {
   "display_name": "Python 3",
   "language": "python",
   "name": "python3"
  },
  "language_info": {
   "codemirror_mode": {
    "name": "ipython",
    "version": 3
   },
   "file_extension": ".py",
   "mimetype": "text/x-python",
   "name": "python",
   "nbconvert_exporter": "python",
   "pygments_lexer": "ipython3",
   "version": "3.8.5"
  }
 },
 "nbformat": 4,
 "nbformat_minor": 4
}
