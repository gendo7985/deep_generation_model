{
 "cells": [
  {
   "cell_type": "markdown",
   "metadata": {},
   "source": [
    "## 1. number of labeled data"
   ]
  },
  {
   "cell_type": "markdown",
   "metadata": {},
   "source": [
    "label: 1|label: 2|label: 3\n",
    ":---:|:---:|:---:\n",
    "![](./result/z2_plot/label_vs_unlabel/1.png)|![](./result/z2_plot/label_vs_unlabel/2.png)|![](./result/z2_plot/label_vs_unlabel/3.png)\n",
    "label: 4|label: 5|label: 7\n",
    "![](./result/z2_plot/label_vs_unlabel/4.png)|![](./result/z2_plot/label_vs_unlabel/5.png)|![](./result/z2_plot/label_vs_unlabel/7.png)\n",
    "label: 8\n",
    "![](./result/z2_plot/label_vs_unlabel/8.png)"
   ]
  },
  {
   "cell_type": "markdown",
   "metadata": {},
   "source": [
    "label의 수가 많을수록 분류가 잘 된다."
   ]
  },
  {
   "cell_type": "markdown",
   "metadata": {},
   "source": [
    "## 2. Batch size"
   ]
  },
  {
   "cell_type": "markdown",
   "metadata": {},
   "source": [
    "### 1) labeled(7, 8)"
   ]
  },
  {
   "cell_type": "markdown",
   "metadata": {},
   "source": [
    "1.1|2.2\n",
    ":---:|:---:\n",
    "![](./result/z2_plot/b1_vs_b2[1]/1.1.png)|![](./result/z2_plot/b1_vs_b2[1]/2.2.png)\n",
    "4.5|9.0 (without label 8)\n",
    "![](./result/z2_plot/b1_vs_b2[1]/4.5.png)|![](./result/z2_plot/b1_vs_b2[1]/9.0(without8).png)\n",
    "9.0\n",
    "![](./result/z2_plot/b1_vs_b2[1]/9.0.png)"
   ]
  },
  {
   "cell_type": "markdown",
   "metadata": {},
   "source": [
    "### 2) labeled(0, 1, 7, 8, 9)"
   ]
  },
  {
   "cell_type": "markdown",
   "metadata": {},
   "source": [
    "0.9|1.8\n",
    ":---:|:---:\n",
    "![](./result/z2_plot/b1_vs_b2[2]/0.9.png)|![](./result/z2_plot/b1_vs_b2[2]/1.8.png)\n",
    "3.6|7.2\n",
    "![](./result/z2_plot/b1_vs_b2[2]/3.6.png)|![](./result/z2_plot/b1_vs_b2[2]/7.2.png)"
   ]
  },
  {
   "cell_type": "markdown",
   "metadata": {},
   "source": [
    "### 3) labeled(1, 3, 5)"
   ]
  },
  {
   "cell_type": "markdown",
   "metadata": {},
   "source": [
    "1.5|3.0\n",
    ":---:|:---:\n",
    "![](./result/z2_plot/b1_vs_b2[3]/1.5.png)|![](./result/z2_plot/b1_vs_b2[3]/3.png)\n",
    "4.0|6.0\n",
    "![](./result/z2_plot/b1_vs_b2[3]/4.png)|![](./result/z2_plot/b1_vs_b2[3]/6.png)"
   ]
  },
  {
   "cell_type": "markdown",
   "metadata": {},
   "source": [
    "labeled data를 너무 많이 주면 같은 label의 데이터라도 labeled / unlabeled의 군집이 떨어져서 분포.\n",
    "\n",
    "labeled data를 너무 적게 주면 unlabeled의 데이터의 군집이 뭉쳐짐."
   ]
  },
  {
   "cell_type": "markdown",
   "metadata": {},
   "source": [
    "## 2. lambda1, lambda2"
   ]
  },
  {
   "cell_type": "markdown",
   "metadata": {},
   "source": [
    "### 1) lambda1 = 10"
   ]
  },
  {
   "cell_type": "markdown",
   "metadata": {},
   "source": [
    "5|8|10\n",
    ":---:|:---:|:---:\n",
    "![](./result/z2_plot/l1_l2/lambda1=10/10,5.png)|![](./result/z2_plot/l1_l2/lambda1=10/10,8.png)|![](./result/z2_plot/l1_l2/lambda1=10/10,10.png)"
   ]
  },
  {
   "cell_type": "markdown",
   "metadata": {},
   "source": [
    "$\\lambda_2$은 클수록 분류가 잘 되는 것 같다. (labeled / unlabeled 군집이 비슷하게 분포)"
   ]
  },
  {
   "cell_type": "markdown",
   "metadata": {},
   "source": [
    "### 2) lambda2 = 10"
   ]
  },
  {
   "cell_type": "markdown",
   "metadata": {},
   "source": [
    "1|3|5\n",
    ":---:|:---:|:---:\n",
    "![](./result/z2_plot/l1_l2/lambda2=10/1,10.png)|![](./result/z2_plot/l1_l2/lambda2=10/3,10.png)|![](./result/z2_plot/l1_l2/lambda2=10/5,10.png)\n",
    "8|10\n",
    "![](./result/z2_plot/l1_l2/lambda2=10/8,10.png)|![](./result/z2_plot/l1_l2/lambda2=10/10,10.png)"
   ]
  },
  {
   "cell_type": "markdown",
   "metadata": {},
   "source": [
    "$\\lambda_1$은 너무 작으면 labeled / unlabeled 분포가 떨어져서 나타나고, 너무 크면 unlabeled 분포가 뭉쳐진다. "
   ]
  },
  {
   "cell_type": "markdown",
   "metadata": {},
   "source": [
    "### 3) lambda1 = lambda2"
   ]
  },
  {
   "cell_type": "markdown",
   "metadata": {},
   "source": [
    "5|8|10\n",
    ":---:|:---:|:---:\n",
    "![](./result/z2_plot/l1_l2/lambda1=lambda2/5,5.png)|![](./result/z2_plot/l1_l2/lambda1=lambda2/8,8.png)|![](./result/z2_plot/l1_l2/lambda1=lambda2/10,10.png)"
   ]
  }
 ],
 "metadata": {
  "kernelspec": {
   "display_name": "Python 3",
   "language": "python",
   "name": "python3"
  },
  "language_info": {
   "codemirror_mode": {
    "name": "ipython",
    "version": 3
   },
   "file_extension": ".py",
   "mimetype": "text/x-python",
   "name": "python",
   "nbconvert_exporter": "python",
   "pygments_lexer": "ipython3",
   "version": "3.8.5"
  }
 },
 "nbformat": 4,
 "nbformat_minor": 4
}
