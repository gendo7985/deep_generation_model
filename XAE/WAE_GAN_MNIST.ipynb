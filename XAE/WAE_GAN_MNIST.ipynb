{
 "cells": [
  {
   "cell_type": "code",
   "execution_count": 2,
   "metadata": {},
   "outputs": [],
   "source": [
    "import os, sys, logging, configparser\n",
    "# sys.path.append('/'.join(os.getcwd().split('/')[:-2]))\n",
    "\n",
    "import warnings\n",
    "warnings.filterwarnings(\"ignore\")\n",
    "os.environ['CUDA_VISIBLE_DEVICES']='1'\n",
    "\n",
    "import torch\n",
    "from tensorboardX import SummaryWriter\n",
    "from model.train_GAN_MNIST import WAE_GAN_MNIST\n",
    "from XAE.logging_daily import logging_daily"
   ]
  },
  {
   "cell_type": "code",
   "execution_count": 3,
   "metadata": {},
   "outputs": [
    {
     "data": {
      "text/plain": [
       "['./config/train_config_GAN_MNIST.cfg']"
      ]
     },
     "execution_count": 3,
     "metadata": {},
     "output_type": "execute_result"
    }
   ],
   "source": [
    "is_cuda = torch.cuda.is_available()\n",
    "device = torch.device('cuda' if is_cuda else 'cpu')\n",
    "\n",
    "logger = logging_daily('./config/log_info.yaml')\n",
    "log = logger.get_logging()\n",
    "log.setLevel(logging.INFO)\n",
    "\n",
    "cfg = configparser.ConfigParser()\n",
    "cfg.read('./config/train_config_GAN_MNIST.cfg')"
   ]
  },
  {
   "cell_type": "code",
   "execution_count": 5,
   "metadata": {
    "scrolled": false
   },
   "outputs": [
    {
     "name": "stderr",
     "output_type": "stream",
     "text": [
      "[default |INFO|_base_model.py:13] ------------------------------------------------------------\n",
      "[default |INFO|_base_model.py:15] model_name : WAE_GAN_MNIST\n",
      "[default |INFO|_base_model.py:15] train_data : MNIST\n",
      "[default |INFO|_base_model.py:15] z_sampler : gaus\n",
      "[default |INFO|_base_model.py:15] z_dim : 8\n",
      "[default |INFO|_base_model.py:15] prob_enc : False\n",
      "[default |INFO|_base_model.py:15] encoder_pretrain : False\n",
      "[default |INFO|_base_model.py:15] encoder_pretrain_batch_size : 1000\n",
      "[default |INFO|_base_model.py:15] encoder_pretrain_max_step : 200\n",
      "[default |INFO|_base_model.py:15] lr : 1e-3\n",
      "[default |INFO|_base_model.py:15] beta1 : 0.5\n",
      "[default |INFO|_base_model.py:15] lr_adv : 5e-4\n",
      "[default |INFO|_base_model.py:15] beta1_adv : 0.5\n",
      "[default |INFO|_base_model.py:15] lambda : 10.0\n",
      "[default |INFO|_base_model.py:15] lr_schedule : manual\n",
      "[default |INFO|_base_model.py:15] validate : True\n",
      "[default |INFO|_base_model.py:15] histogram : True\n",
      "[default |INFO|_base_model.py:15] batch_size : 100\n",
      "[default |INFO|_base_model.py:15] epoch : 10\n",
      "[default |INFO|_base_model.py:15] replace : True\n",
      "[default |INFO|_base_model.py:15] iter_per_epoch : 100\n",
      "[default |INFO|_base_model.py:15] save_best : False\n",
      "[default |INFO|_base_model.py:18] data_home : ./data/MNIST\n",
      "[default |INFO|_base_model.py:18] tb_logs : ./tb_logs/train_base_adv\n",
      "[default |INFO|_base_model.py:18] save_path : ./weight.pt\n",
      "[default |INFO|_base_model.py:18] save_state : ./state.pt\n",
      "[default |INFO|_base_model.py:18] save_img_path : ./plots\n",
      "[default |INFO|model.py:523] ------------------------------------------------------------\n",
      "[default |INFO|model.py:524] Training Start!\n"
     ]
    },
    {
     "name": "stdout",
     "output_type": "stream",
     "text": [
      "[98/100]\ttest_mse: 0.2129\ttest_penalty: 0.6928917\r"
     ]
    },
    {
     "name": "stderr",
     "output_type": "stream",
     "text": [
      "[default |INFO|model.py:606] [1/10]\ttrain_mse: 2.922963e-01\ttrain_penalty: 6.916627e-01\ttest_mse: 2.128370e-01\ttest_penalty: 6.928428e-01\n"
     ]
    },
    {
     "name": "stdout",
     "output_type": "stream",
     "text": [
      "warning: Embedding dir exists, did you set global_step for add_embedding()?\n",
      "[98/100]\ttest_mse: 0.1678\ttest_penalty: 0.6915944\r"
     ]
    },
    {
     "name": "stderr",
     "output_type": "stream",
     "text": [
      "[default |INFO|model.py:606] [2/10]\ttrain_mse: 1.766976e-01\ttrain_penalty: 6.944356e-01\ttest_mse: 1.679197e-01\ttest_penalty: 6.914486e-01\n"
     ]
    },
    {
     "name": "stdout",
     "output_type": "stream",
     "text": [
      "[98/100]\ttest_mse: 0.1534\ttest_penalty: 0.6930947\r"
     ]
    },
    {
     "name": "stderr",
     "output_type": "stream",
     "text": [
      "[default |INFO|model.py:606] [3/10]\ttrain_mse: 1.445215e-01\ttrain_penalty: 6.946691e-01\ttest_mse: 1.535575e-01\ttest_penalty: 6.929567e-01\n"
     ]
    },
    {
     "name": "stdout",
     "output_type": "stream",
     "text": [
      "[98/100]\ttest_mse: 0.1348\ttest_penalty: 0.6934946\r"
     ]
    },
    {
     "name": "stderr",
     "output_type": "stream",
     "text": [
      "[default |INFO|model.py:606] [4/10]\ttrain_mse: 1.298425e-01\ttrain_penalty: 6.945939e-01\ttest_mse: 1.351737e-01\ttest_penalty: 6.933697e-01\n"
     ]
    },
    {
     "name": "stdout",
     "output_type": "stream",
     "text": [
      "[98/100]\ttest_mse: 0.1372\ttest_penalty: 0.6920945\r"
     ]
    },
    {
     "name": "stderr",
     "output_type": "stream",
     "text": [
      "[default |INFO|model.py:606] [5/10]\ttrain_mse: 1.210929e-01\ttrain_penalty: 6.944895e-01\ttest_mse: 1.374387e-01\ttest_penalty: 6.919750e-01\n"
     ]
    },
    {
     "name": "stdout",
     "output_type": "stream",
     "text": [
      "[98/100]\ttest_mse: 0.1307\ttest_penalty: 0.6931944\r"
     ]
    },
    {
     "name": "stderr",
     "output_type": "stream",
     "text": [
      "[default |INFO|model.py:606] [6/10]\ttrain_mse: 1.147801e-01\ttrain_penalty: 6.943617e-01\ttest_mse: 1.312120e-01\ttest_penalty: 6.931019e-01\n"
     ]
    },
    {
     "name": "stdout",
     "output_type": "stream",
     "text": [
      "[98/100]\ttest_mse: 0.1328\ttest_penalty: 0.6935947\r"
     ]
    },
    {
     "name": "stderr",
     "output_type": "stream",
     "text": [
      "[default |INFO|model.py:606] [7/10]\ttrain_mse: 1.100728e-01\ttrain_penalty: 6.947269e-01\ttest_mse: 1.333276e-01\ttest_penalty: 6.935026e-01\n"
     ]
    },
    {
     "name": "stdout",
     "output_type": "stream",
     "text": [
      "[98/100]\ttest_mse: 0.1301\ttest_penalty: 0.6922946\r"
     ]
    },
    {
     "name": "stderr",
     "output_type": "stream",
     "text": [
      "[default |INFO|model.py:606] [8/10]\ttrain_mse: 1.084255e-01\ttrain_penalty: 6.945600e-01\ttest_mse: 1.305015e-01\ttest_penalty: 6.922299e-01\n"
     ]
    },
    {
     "name": "stdout",
     "output_type": "stream",
     "text": [
      "[98/100]\ttest_mse: 0.1285\ttest_penalty: 0.6936944\r"
     ]
    },
    {
     "name": "stderr",
     "output_type": "stream",
     "text": [
      "[default |INFO|model.py:606] [9/10]\ttrain_mse: 1.058610e-01\ttrain_penalty: 6.943864e-01\ttest_mse: 1.288825e-01\ttest_penalty: 6.936258e-01\n"
     ]
    },
    {
     "name": "stdout",
     "output_type": "stream",
     "text": [
      "[98/100]\ttest_mse: 0.1245\ttest_penalty: 0.6932945\r"
     ]
    },
    {
     "name": "stderr",
     "output_type": "stream",
     "text": [
      "[default |INFO|model.py:606] [10/10]\ttrain_mse: 1.054802e-01\ttrain_penalty: 6.945189e-01\ttest_mse: 1.249021e-01\ttest_penalty: 6.932086e-01\n"
     ]
    },
    {
     "name": "stdout",
     "output_type": "stream",
     "text": [
      "[99/100]\ttest_mse: 0.1249\ttest_penalty: 0.6932\r"
     ]
    },
    {
     "name": "stderr",
     "output_type": "stream",
     "text": [
      "[default |INFO|model.py:675] Training Finished!\n",
      "[default |INFO|model.py:676] Elapsed time: 1776.864s\n"
     ]
    }
   ],
   "source": [
    "model = WAE_GAN_MNIST(cfg, log, device = device)\n",
    "model.train()\n",
    "# model.train(resume = True)"
   ]
  },
  {
   "cell_type": "code",
   "execution_count": null,
   "metadata": {},
   "outputs": [],
   "source": []
  }
 ],
 "metadata": {
  "kernelspec": {
   "display_name": "Python 3",
   "language": "python",
   "name": "python3"
  },
  "language_info": {
   "codemirror_mode": {
    "name": "ipython",
    "version": 3
   },
   "file_extension": ".py",
   "mimetype": "text/x-python",
   "name": "python",
   "nbconvert_exporter": "python",
   "pygments_lexer": "ipython3",
   "version": "3.8.5"
  }
 },
 "nbformat": 4,
 "nbformat_minor": 4
}
