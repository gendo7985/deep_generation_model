{
 "cells": [
  {
   "cell_type": "markdown",
   "metadata": {},
   "source": [
    "# WAE_GAN"
   ]
  },
  {
   "cell_type": "markdown",
   "metadata": {},
   "source": [
    "## Model1"
   ]
  },
  {
   "cell_type": "code",
   "execution_count": 1,
   "metadata": {},
   "outputs": [],
   "source": [
    "import os, sys, logging, configparser\n",
    "# sys.path.append('/'.join(os.getcwd().split('/')[:-2]))\n",
    "\n",
    "import warnings\n",
    "warnings.filterwarnings(\"ignore\")\n",
    "#os.environ['CUDA_VISIBLE_DEVICES']='1'\n",
    "\n",
    "import torch\n",
    "from tensorboardX import SummaryWriter\n",
    "from model.exp1.train_wae_gan import WAE_GAN_MNIST\n",
    "from XAE.logging_daily import logging_daily"
   ]
  },
  {
   "cell_type": "code",
   "execution_count": 2,
   "metadata": {},
   "outputs": [
    {
     "data": {
      "text/plain": [
       "['./config/train_config_wae_gan1.cfg']"
      ]
     },
     "execution_count": 2,
     "metadata": {},
     "output_type": "execute_result"
    }
   ],
   "source": [
    "is_cuda = torch.cuda.is_available()\n",
    "device = torch.device('cuda' if is_cuda else 'cpu')\n",
    "\n",
    "logger = logging_daily('./config/log_info.yaml')\n",
    "log = logger.get_logging()\n",
    "log.setLevel(logging.INFO)\n",
    "\n",
    "cfg = configparser.ConfigParser()\n",
    "cfg.read('./config/train_config_wae_gan1.cfg')"
   ]
  },
  {
   "cell_type": "code",
   "execution_count": 3,
   "metadata": {
    "scrolled": true
   },
   "outputs": [
    {
     "name": "stderr",
     "output_type": "stream",
     "text": [
      "[default |INFO|_base_model.py:25] ------------------------------------------------------------\n",
      "[default |INFO|_base_model.py:27] model_name : WAE_GAN_MNIST\n",
      "[default |INFO|_base_model.py:27] train_data : MNIST\n",
      "[default |INFO|_base_model.py:27] z_sampler : gaus\n",
      "[default |INFO|_base_model.py:27] z_dim : 8\n",
      "[default |INFO|_base_model.py:27] prob_enc : False\n",
      "[default |INFO|_base_model.py:27] encoder_pretrain : False\n",
      "[default |INFO|_base_model.py:27] encoder_pretrain_batch_size : 1000\n",
      "[default |INFO|_base_model.py:27] encoder_pretrain_max_step : 200\n",
      "[default |INFO|_base_model.py:27] lr : 1e-3\n",
      "[default |INFO|_base_model.py:27] beta1 : 0.5\n",
      "[default |INFO|_base_model.py:27] lr_adv : 5e-4\n",
      "[default |INFO|_base_model.py:27] beta1_adv : 0.5\n",
      "[default |INFO|_base_model.py:27] lambda : 10.0\n",
      "[default |INFO|_base_model.py:27] lr_schedule : manual\n",
      "[default |INFO|_base_model.py:27] validate : True\n",
      "[default |INFO|_base_model.py:27] histogram : True\n",
      "[default |INFO|_base_model.py:27] batch_size : 100\n",
      "[default |INFO|_base_model.py:27] epoch : 100\n",
      "[default |INFO|_base_model.py:27] replace : False\n",
      "[default |INFO|_base_model.py:27] iter_per_epoch : None\n",
      "[default |INFO|_base_model.py:27] save_best : False\n",
      "[default |INFO|_base_model.py:30] data_home : ./data/MNIST\n",
      "[default |INFO|_base_model.py:30] tb_logs : ./result/tb_logs/wae_gan1\n",
      "[default |INFO|_base_model.py:30] save_path : ./result/weights/weight_wae_gan1.pt\n",
      "[default |INFO|_base_model.py:30] save_state : ./result/states/state_wae_gan1.pt\n",
      "[default |INFO|_base_model.py:30] save_img_path : ./result/plots/wae_gan1/\n",
      "[default |INFO|_base_model.py:395] ------------------------------------------------------------\n",
      "[default |INFO|_base_model.py:396] Training Start!\n",
      "[default |INFO|_base_model.py:544] Training Finished!\n",
      "[default |INFO|_base_model.py:545] Elapsed time: 0.000s\n"
     ]
    }
   ],
   "source": [
    "model = WAE_GAN_MNIST(cfg, log, device = device)\n",
    "# model.train()\n",
    "model.train(resume = True)"
   ]
  },
  {
   "cell_type": "markdown",
   "metadata": {},
   "source": [
    "## Model2"
   ]
  },
  {
   "cell_type": "code",
   "execution_count": 4,
   "metadata": {
    "scrolled": true
   },
   "outputs": [
    {
     "name": "stderr",
     "output_type": "stream",
     "text": [
      "[default |INFO|_base_model.py:25] ------------------------------------------------------------\n",
      "[default |INFO|_base_model.py:27] model_name : WAE_GAN_MNIST\n",
      "[default |INFO|_base_model.py:27] train_data : MNIST\n",
      "[default |INFO|_base_model.py:27] z_sampler : gaus\n",
      "[default |INFO|_base_model.py:27] z_dim : 8\n",
      "[default |INFO|_base_model.py:27] prob_enc : False\n",
      "[default |INFO|_base_model.py:27] encoder_pretrain : False\n",
      "[default |INFO|_base_model.py:27] encoder_pretrain_batch_size : 1000\n",
      "[default |INFO|_base_model.py:27] encoder_pretrain_max_step : 200\n",
      "[default |INFO|_base_model.py:27] lr : 1e-3\n",
      "[default |INFO|_base_model.py:27] beta1 : 0.5\n",
      "[default |INFO|_base_model.py:27] lr_adv : 5e-4\n",
      "[default |INFO|_base_model.py:27] beta1_adv : 0.5\n",
      "[default |INFO|_base_model.py:27] lambda : 10.0\n",
      "[default |INFO|_base_model.py:27] lr_schedule : manual\n",
      "[default |INFO|_base_model.py:27] validate : True\n",
      "[default |INFO|_base_model.py:27] histogram : True\n",
      "[default |INFO|_base_model.py:27] batch_size : 100\n",
      "[default |INFO|_base_model.py:27] epoch : 100\n",
      "[default |INFO|_base_model.py:27] replace : False\n",
      "[default |INFO|_base_model.py:27] iter_per_epoch : None\n",
      "[default |INFO|_base_model.py:27] save_best : False\n",
      "[default |INFO|_base_model.py:30] data_home : ./data/MNIST\n",
      "[default |INFO|_base_model.py:30] tb_logs : ./result/tb_logs/wae_gan2\n",
      "[default |INFO|_base_model.py:30] save_path : ./result/weights/weight_wae_gan2.pt\n",
      "[default |INFO|_base_model.py:30] save_state : ./result/states/state_wae_gan2.pt\n",
      "[default |INFO|_base_model.py:30] save_img_path : ./result/plots/wae_gan2/\n",
      "[default |INFO|_base_model.py:395] ------------------------------------------------------------\n",
      "[default |INFO|_base_model.py:396] Training Start!\n"
     ]
    },
    {
     "name": "stdout",
     "output_type": "stream",
     "text": [
      "[99/100]\ttest_main: 0.0793\ttest_penalty: 0.6929932\r"
     ]
    },
    {
     "name": "stderr",
     "output_type": "stream",
     "text": [
      "[default |INFO|_base_model.py:475] [100/100]\ttrain_main: 5.062172e-02\ttrain_penalty: 6.932071e-01\ttest_main: 7.933879e-02\ttest_penalty: 6.929299e-01\n",
      "[default |INFO|_base_model.py:544] Training Finished!\n",
      "[default |INFO|_base_model.py:545] Elapsed time: 39.582s\n"
     ]
    }
   ],
   "source": [
    "from model.exp2.train_wae_gan import WAE_GAN_MNIST\n",
    "\n",
    "cfg = configparser.ConfigParser()\n",
    "cfg.read('./config/train_config_wae_gan2.cfg')\n",
    "\n",
    "model = WAE_GAN_MNIST(cfg, log, device = device)\n",
    "model.train(resume = True)"
   ]
  },
  {
   "cell_type": "markdown",
   "metadata": {},
   "source": [
    "# CWAE_GAN\n",
    "## Model1"
   ]
  },
  {
   "cell_type": "code",
   "execution_count": 5,
   "metadata": {
    "scrolled": true
   },
   "outputs": [
    {
     "name": "stderr",
     "output_type": "stream",
     "text": [
      "[default |INFO|_base_model.py:25] ------------------------------------------------------------\n",
      "[default |INFO|_base_model.py:27] model_name : CWAE_GAN_MNIST\n",
      "[default |INFO|_base_model.py:27] train_data : MNIST\n",
      "[default |INFO|_base_model.py:27] train_data_label : True\n",
      "[default |INFO|_base_model.py:27] z_sampler : gaus\n",
      "[default |INFO|_base_model.py:27] z_dim : 6\n",
      "[default |INFO|_base_model.py:27] y_sampler : multinomial\n",
      "[default |INFO|_base_model.py:27] y_dim : 10\n",
      "[default |INFO|_base_model.py:27] prob_enc : False\n",
      "[default |INFO|_base_model.py:27] prob_embed : False\n",
      "[default |INFO|_base_model.py:27] encoder_pretrain : False\n",
      "[default |INFO|_base_model.py:27] encoder_pretrain_batch_size : 1000\n",
      "[default |INFO|_base_model.py:27] encoder_pretrain_max_step : 200\n",
      "[default |INFO|_base_model.py:27] lr : 1e-3\n",
      "[default |INFO|_base_model.py:27] beta1 : 0.5\n",
      "[default |INFO|_base_model.py:27] lr_adv : 5e-4\n",
      "[default |INFO|_base_model.py:27] beta1_adv : 0.5\n",
      "[default |INFO|_base_model.py:27] lambda : 10.0\n",
      "[default |INFO|_base_model.py:27] lr_schedule : manual\n",
      "[default |INFO|_base_model.py:27] validate : True\n",
      "[default |INFO|_base_model.py:27] histogram : True\n",
      "[default |INFO|_base_model.py:27] batch_size : 100\n",
      "[default |INFO|_base_model.py:27] epoch : 100\n",
      "[default |INFO|_base_model.py:27] replace : False\n",
      "[default |INFO|_base_model.py:27] iter_per_epoch : None\n",
      "[default |INFO|_base_model.py:27] save_best : False\n",
      "[default |INFO|_base_model.py:30] data_home : ./data/MNIST\n",
      "[default |INFO|_base_model.py:30] tb_logs : ./result/tb_logs/cwae_gan1\n",
      "[default |INFO|_base_model.py:30] save_path : ./result/weights/weight_cwae_gan1.pt\n",
      "[default |INFO|_base_model.py:30] save_state : ./result/states/state_cwae_gan1.pt\n",
      "[default |INFO|_base_model.py:30] save_img_path : ./result/plots/cwae_gan1/\n",
      "[default |INFO|_base_model.py:890] ------------------------------------------------------------\n",
      "[default |INFO|_base_model.py:891] Training Start!\n",
      "[default |INFO|_base_model.py:1042] Training Finished!\n",
      "[default |INFO|_base_model.py:1043] Elapsed time: 0.000s\n"
     ]
    }
   ],
   "source": [
    "from model.exp1.train_cwae_gan import CWAE_GAN_MNIST\n",
    "\n",
    "cfg = configparser.ConfigParser()\n",
    "cfg.read('./config/train_config_cwae_gan1.cfg')\n",
    "\n",
    "model = CWAE_GAN_MNIST(cfg, log, device = device)\n",
    "model.train(resume = True)"
   ]
  },
  {
   "cell_type": "markdown",
   "metadata": {},
   "source": [
    "## Model2"
   ]
  },
  {
   "cell_type": "code",
   "execution_count": 11,
   "metadata": {},
   "outputs": [
    {
     "name": "stderr",
     "output_type": "stream",
     "text": [
      "[default |INFO|_base_model.py:25] ------------------------------------------------------------\n",
      "[default |INFO|_base_model.py:27] model_name : CWAE_GAN_MNIST\n",
      "[default |INFO|_base_model.py:27] train_data : MNIST\n",
      "[default |INFO|_base_model.py:27] train_data_label : True\n",
      "[default |INFO|_base_model.py:27] z_sampler : gaus\n",
      "[default |INFO|_base_model.py:27] z_dim : 6\n",
      "[default |INFO|_base_model.py:27] y_sampler : multinomial\n",
      "[default |INFO|_base_model.py:27] y_dim : 10\n",
      "[default |INFO|_base_model.py:27] prob_enc : False\n",
      "[default |INFO|_base_model.py:27] prob_embed : False\n",
      "[default |INFO|_base_model.py:27] encoder_pretrain : False\n",
      "[default |INFO|_base_model.py:27] encoder_pretrain_batch_size : 1000\n",
      "[default |INFO|_base_model.py:27] encoder_pretrain_max_step : 200\n",
      "[default |INFO|_base_model.py:27] lr : 1e-3\n",
      "[default |INFO|_base_model.py:27] beta1 : 0.5\n",
      "[default |INFO|_base_model.py:27] lr_adv : 5e-4\n",
      "[default |INFO|_base_model.py:27] beta1_adv : 0.5\n",
      "[default |INFO|_base_model.py:27] lambda : 10.0\n",
      "[default |INFO|_base_model.py:27] lr_schedule : manual\n",
      "[default |INFO|_base_model.py:27] validate : True\n",
      "[default |INFO|_base_model.py:27] histogram : True\n",
      "[default |INFO|_base_model.py:27] batch_size : 100\n",
      "[default |INFO|_base_model.py:27] epoch : 100\n",
      "[default |INFO|_base_model.py:27] replace : False\n",
      "[default |INFO|_base_model.py:27] iter_per_epoch : None\n",
      "[default |INFO|_base_model.py:27] save_best : False\n",
      "[default |INFO|_base_model.py:30] data_home : ./data/MNIST\n",
      "[default |INFO|_base_model.py:30] tb_logs : ./result/tb_logs/cwae_gan2\n",
      "[default |INFO|_base_model.py:30] save_path : ./result/weights/weight_cwae_gan2.pt\n",
      "[default |INFO|_base_model.py:30] save_state : ./result/states/state_cwae_gan2.pt\n",
      "[default |INFO|_base_model.py:30] save_img_path : ./result/plots/cwae_gan2/\n",
      "[default |INFO|_base_model.py:890] ------------------------------------------------------------\n",
      "[default |INFO|_base_model.py:891] Training Start!\n"
     ]
    },
    {
     "name": "stdout",
     "output_type": "stream",
     "text": [
      "[97/100]\ttest_main: 0.1611\ttest_penalty: 0.6922907\r"
     ]
    },
    {
     "name": "stderr",
     "output_type": "stream",
     "text": [
      "[default |INFO|_base_model.py:972] [1/100]\ttrain_main: 1.985696e-01\ttrain_penalty: 6.906916e-01\ttest_main: 1.613344e-01\ttest_penalty: 6.921597e-01\n"
     ]
    },
    {
     "name": "stdout",
     "output_type": "stream",
     "text": [
      "[94/100]\ttest_main: 0.1364\ttest_penalty: 0.6997895\r"
     ]
    },
    {
     "name": "stderr",
     "output_type": "stream",
     "text": [
      "[default |INFO|_base_model.py:972] [2/100]\ttrain_main: 1.278142e-01\ttrain_penalty: 6.895286e-01\ttest_main: 1.390142e-01\ttest_penalty: 6.996946e-01\n"
     ]
    },
    {
     "name": "stdout",
     "output_type": "stream",
     "text": [
      "[87/100]\ttest_main: 0.1234\ttest_penalty: 0.6927931\r"
     ]
    },
    {
     "name": "stderr",
     "output_type": "stream",
     "text": [
      "[default |INFO|_base_model.py:972] [3/100]\ttrain_main: 1.049725e-01\ttrain_penalty: 6.930747e-01\ttest_main: 1.266336e-01\ttest_penalty: 6.927279e-01\n"
     ]
    },
    {
     "name": "stdout",
     "output_type": "stream",
     "text": [
      "[96/100]\ttest_main: 0.1140\ttest_penalty: 0.6954932\r"
     ]
    },
    {
     "name": "stderr",
     "output_type": "stream",
     "text": [
      "[default |INFO|_base_model.py:972] [4/100]\ttrain_main: 9.028878e-02\ttrain_penalty: 6.931664e-01\ttest_main: 1.160976e-01\ttest_penalty: 6.953893e-01\n"
     ]
    },
    {
     "name": "stdout",
     "output_type": "stream",
     "text": [
      "[97/100]\ttest_main: 0.1122\ttest_penalty: 0.6933933\r"
     ]
    },
    {
     "name": "stderr",
     "output_type": "stream",
     "text": [
      "[default |INFO|_base_model.py:972] [5/100]\ttrain_main: 8.683183e-02\ttrain_penalty: 6.933203e-01\ttest_main: 1.128002e-01\ttest_penalty: 6.933088e-01\n"
     ]
    },
    {
     "name": "stdout",
     "output_type": "stream",
     "text": [
      "[84/100]\ttest_main: 0.1066\ttest_penalty: 0.6931933\r"
     ]
    },
    {
     "name": "stderr",
     "output_type": "stream",
     "text": [
      "[default |INFO|_base_model.py:972] [6/100]\ttrain_main: 8.074183e-02\ttrain_penalty: 6.933436e-01\ttest_main: 1.097992e-01\ttest_penalty: 6.931472e-01\n"
     ]
    },
    {
     "name": "stdout",
     "output_type": "stream",
     "text": [
      "[97/100]\ttest_main: 0.1054\ttest_penalty: 0.6931931\r"
     ]
    },
    {
     "name": "stderr",
     "output_type": "stream",
     "text": [
      "[default |INFO|_base_model.py:972] [7/100]\ttrain_main: 7.550304e-02\ttrain_penalty: 6.931472e-01\ttest_main: 1.061749e-01\ttest_penalty: 6.931472e-01\n"
     ]
    },
    {
     "name": "stdout",
     "output_type": "stream",
     "text": [
      "[94/100]\ttest_main: 0.1027\ttest_penalty: 0.6931931\r"
     ]
    },
    {
     "name": "stderr",
     "output_type": "stream",
     "text": [
      "[default |INFO|_base_model.py:972] [8/100]\ttrain_main: 7.337773e-02\ttrain_penalty: 6.931472e-01\ttest_main: 1.053339e-01\ttest_penalty: 6.931472e-01\n"
     ]
    },
    {
     "name": "stdout",
     "output_type": "stream",
     "text": [
      "[95/100]\ttest_main: 0.1012\ttest_penalty: 0.6931931\r"
     ]
    },
    {
     "name": "stderr",
     "output_type": "stream",
     "text": [
      "[default |INFO|_base_model.py:972] [9/100]\ttrain_main: 7.193162e-02\ttrain_penalty: 6.931472e-01\ttest_main: 1.035747e-01\ttest_penalty: 6.931472e-01\n"
     ]
    },
    {
     "name": "stdout",
     "output_type": "stream",
     "text": [
      "[88/100]\ttest_main: 0.1018\ttest_penalty: 0.6931931\r"
     ]
    },
    {
     "name": "stderr",
     "output_type": "stream",
     "text": [
      "[default |INFO|_base_model.py:972] [10/100]\ttrain_main: 7.093087e-02\ttrain_penalty: 6.931472e-01\ttest_main: 1.047554e-01\ttest_penalty: 6.931472e-01\n"
     ]
    },
    {
     "name": "stdout",
     "output_type": "stream",
     "text": [
      "[96/100]\ttest_main: 0.0993\ttest_penalty: 0.6931931\r"
     ]
    },
    {
     "name": "stderr",
     "output_type": "stream",
     "text": [
      "[default |INFO|_base_model.py:972] [11/100]\ttrain_main: 6.976088e-02\ttrain_penalty: 6.931472e-01\ttest_main: 1.010012e-01\ttest_penalty: 6.931472e-01\n"
     ]
    },
    {
     "name": "stdout",
     "output_type": "stream",
     "text": [
      "[90/100]\ttest_main: 0.1005\ttest_penalty: 0.6931931\r"
     ]
    },
    {
     "name": "stderr",
     "output_type": "stream",
     "text": [
      "[default |INFO|_base_model.py:972] [12/100]\ttrain_main: 6.889469e-02\ttrain_penalty: 6.931472e-01\ttest_main: 1.025869e-01\ttest_penalty: 6.931472e-01\n"
     ]
    },
    {
     "name": "stdout",
     "output_type": "stream",
     "text": [
      "[99/100]\ttest_main: 0.1001\ttest_penalty: 0.6931931\r"
     ]
    },
    {
     "name": "stderr",
     "output_type": "stream",
     "text": [
      "[default |INFO|_base_model.py:972] [13/100]\ttrain_main: 6.826937e-02\ttrain_penalty: 6.931472e-01\ttest_main: 1.001076e-01\ttest_penalty: 6.931472e-01\n"
     ]
    },
    {
     "name": "stdout",
     "output_type": "stream",
     "text": [
      "[88/100]\ttest_main: 0.0961\ttest_penalty: 0.6931931\r"
     ]
    },
    {
     "name": "stderr",
     "output_type": "stream",
     "text": [
      "[default |INFO|_base_model.py:972] [14/100]\ttrain_main: 6.729215e-02\ttrain_penalty: 6.931472e-01\ttest_main: 9.969780e-02\ttest_penalty: 6.931472e-01\n"
     ]
    },
    {
     "name": "stdout",
     "output_type": "stream",
     "text": [
      "[99/100]\ttest_main: 0.0974\ttest_penalty: 0.6931931\r"
     ]
    },
    {
     "name": "stderr",
     "output_type": "stream",
     "text": [
      "[default |INFO|_base_model.py:972] [15/100]\ttrain_main: 6.686567e-02\ttrain_penalty: 6.931472e-01\ttest_main: 9.736230e-02\ttest_penalty: 6.931472e-01\n"
     ]
    },
    {
     "name": "stdout",
     "output_type": "stream",
     "text": [
      "[91/100]\ttest_main: 0.0965\ttest_penalty: 0.6931931\r"
     ]
    },
    {
     "name": "stderr",
     "output_type": "stream",
     "text": [
      "[default |INFO|_base_model.py:972] [16/100]\ttrain_main: 6.623412e-02\ttrain_penalty: 6.931472e-01\ttest_main: 9.839401e-02\ttest_penalty: 6.931472e-01\n"
     ]
    },
    {
     "name": "stdout",
     "output_type": "stream",
     "text": [
      "[86/100]\ttest_main: 0.0935\ttest_penalty: 0.6931931\r"
     ]
    },
    {
     "name": "stderr",
     "output_type": "stream",
     "text": [
      "[default |INFO|_base_model.py:972] [17/100]\ttrain_main: 6.585934e-02\ttrain_penalty: 6.931472e-01\ttest_main: 9.706141e-02\ttest_penalty: 6.931472e-01\n"
     ]
    },
    {
     "name": "stdout",
     "output_type": "stream",
     "text": [
      "[87/100]\ttest_main: 0.0938\ttest_penalty: 0.6931931\r"
     ]
    },
    {
     "name": "stderr",
     "output_type": "stream",
     "text": [
      "[default |INFO|_base_model.py:972] [18/100]\ttrain_main: 6.518050e-02\ttrain_penalty: 6.931472e-01\ttest_main: 9.677130e-02\ttest_penalty: 6.931472e-01\n"
     ]
    },
    {
     "name": "stdout",
     "output_type": "stream",
     "text": [
      "[91/100]\ttest_main: 0.0947\ttest_penalty: 0.6931931\r"
     ]
    },
    {
     "name": "stderr",
     "output_type": "stream",
     "text": [
      "[default |INFO|_base_model.py:972] [19/100]\ttrain_main: 6.478168e-02\ttrain_penalty: 6.931472e-01\ttest_main: 9.676390e-02\ttest_penalty: 6.931472e-01\n"
     ]
    },
    {
     "name": "stdout",
     "output_type": "stream",
     "text": [
      "[94/100]\ttest_main: 0.0937\ttest_penalty: 0.6931931\r"
     ]
    },
    {
     "name": "stderr",
     "output_type": "stream",
     "text": [
      "[default |INFO|_base_model.py:972] [20/100]\ttrain_main: 6.438965e-02\ttrain_penalty: 6.931472e-01\ttest_main: 9.593162e-02\ttest_penalty: 6.931472e-01\n"
     ]
    },
    {
     "name": "stdout",
     "output_type": "stream",
     "text": [
      "[88/100]\ttest_main: 0.0922\ttest_penalty: 0.6931931\r"
     ]
    },
    {
     "name": "stderr",
     "output_type": "stream",
     "text": [
      "[default |INFO|_base_model.py:972] [21/100]\ttrain_main: 6.399637e-02\ttrain_penalty: 6.931472e-01\ttest_main: 9.516118e-02\ttest_penalty: 6.931472e-01\n"
     ]
    },
    {
     "name": "stdout",
     "output_type": "stream",
     "text": [
      "[94/100]\ttest_main: 0.0930\ttest_penalty: 0.6931931\r"
     ]
    },
    {
     "name": "stderr",
     "output_type": "stream",
     "text": [
      "[default |INFO|_base_model.py:972] [22/100]\ttrain_main: 6.367187e-02\ttrain_penalty: 6.931472e-01\ttest_main: 9.531683e-02\ttest_penalty: 6.931472e-01\n"
     ]
    },
    {
     "name": "stdout",
     "output_type": "stream",
     "text": [
      "[97/100]\ttest_main: 0.0956\ttest_penalty: 0.6931931\r"
     ]
    },
    {
     "name": "stderr",
     "output_type": "stream",
     "text": [
      "[default |INFO|_base_model.py:972] [23/100]\ttrain_main: 6.351506e-02\ttrain_penalty: 6.931472e-01\ttest_main: 9.597173e-02\ttest_penalty: 6.931472e-01\n"
     ]
    },
    {
     "name": "stdout",
     "output_type": "stream",
     "text": [
      "[98/100]\ttest_main: 0.0954\ttest_penalty: 0.6931931\r"
     ]
    },
    {
     "name": "stderr",
     "output_type": "stream",
     "text": [
      "[default |INFO|_base_model.py:972] [24/100]\ttrain_main: 6.292019e-02\ttrain_penalty: 6.931472e-01\ttest_main: 9.563309e-02\ttest_penalty: 6.931472e-01\n"
     ]
    },
    {
     "name": "stdout",
     "output_type": "stream",
     "text": [
      "[87/100]\ttest_main: 0.0913\ttest_penalty: 0.6931931\r"
     ]
    },
    {
     "name": "stderr",
     "output_type": "stream",
     "text": [
      "[default |INFO|_base_model.py:972] [25/100]\ttrain_main: 6.264723e-02\ttrain_penalty: 6.931472e-01\ttest_main: 9.422671e-02\ttest_penalty: 6.931472e-01\n"
     ]
    },
    {
     "name": "stdout",
     "output_type": "stream",
     "text": [
      "[99/100]\ttest_main: 0.0933\ttest_penalty: 0.6931931\r"
     ]
    },
    {
     "name": "stderr",
     "output_type": "stream",
     "text": [
      "[default |INFO|_base_model.py:972] [26/100]\ttrain_main: 6.232769e-02\ttrain_penalty: 6.931472e-01\ttest_main: 9.325669e-02\ttest_penalty: 6.931472e-01\n"
     ]
    },
    {
     "name": "stdout",
     "output_type": "stream",
     "text": [
      "[93/100]\ttest_main: 0.0908\ttest_penalty: 0.6931931\r"
     ]
    },
    {
     "name": "stderr",
     "output_type": "stream",
     "text": [
      "[default |INFO|_base_model.py:972] [27/100]\ttrain_main: 6.194754e-02\ttrain_penalty: 6.931472e-01\ttest_main: 9.266795e-02\ttest_penalty: 6.931472e-01\n"
     ]
    },
    {
     "name": "stdout",
     "output_type": "stream",
     "text": [
      "[94/100]\ttest_main: 0.0916\ttest_penalty: 0.6931931\r"
     ]
    },
    {
     "name": "stderr",
     "output_type": "stream",
     "text": [
      "[default |INFO|_base_model.py:972] [28/100]\ttrain_main: 6.172169e-02\ttrain_penalty: 6.931472e-01\ttest_main: 9.363377e-02\ttest_penalty: 6.931472e-01\n"
     ]
    },
    {
     "name": "stdout",
     "output_type": "stream",
     "text": [
      "[99/100]\ttest_main: 0.0923\ttest_penalty: 0.6931931\r"
     ]
    },
    {
     "name": "stderr",
     "output_type": "stream",
     "text": [
      "[default |INFO|_base_model.py:972] [29/100]\ttrain_main: 6.159956e-02\ttrain_penalty: 6.931472e-01\ttest_main: 9.234639e-02\ttest_penalty: 6.931472e-01\n"
     ]
    },
    {
     "name": "stdout",
     "output_type": "stream",
     "text": [
      "[96/100]\ttest_main: 0.0914\ttest_penalty: 0.6931931\r"
     ]
    },
    {
     "name": "stderr",
     "output_type": "stream",
     "text": [
      "[default |INFO|_base_model.py:972] [30/100]\ttrain_main: 6.128010e-02\ttrain_penalty: 6.931472e-01\ttest_main: 9.250262e-02\ttest_penalty: 6.931472e-01\n"
     ]
    },
    {
     "name": "stdout",
     "output_type": "stream",
     "text": [
      "[99/100]\ttest_main: 0.0933\ttest_penalty: 0.6931931\r"
     ]
    },
    {
     "name": "stderr",
     "output_type": "stream",
     "text": [
      "[default |INFO|_base_model.py:972] [31/100]\ttrain_main: 6.084176e-02\ttrain_penalty: 6.931472e-01\ttest_main: 9.329201e-02\ttest_penalty: 6.931472e-01\n"
     ]
    },
    {
     "name": "stdout",
     "output_type": "stream",
     "text": [
      "[82/100]\ttest_main: 0.0923\ttest_penalty: 0.6931931\r"
     ]
    },
    {
     "name": "stderr",
     "output_type": "stream",
     "text": [
      "[default |INFO|_base_model.py:972] [32/100]\ttrain_main: 6.075352e-02\ttrain_penalty: 6.931472e-01\ttest_main: 9.395509e-02\ttest_penalty: 6.931472e-01\n"
     ]
    },
    {
     "name": "stdout",
     "output_type": "stream",
     "text": [
      "[99/100]\ttest_main: 0.0915\ttest_penalty: 0.6931931\r"
     ]
    },
    {
     "name": "stderr",
     "output_type": "stream",
     "text": [
      "[default |INFO|_base_model.py:972] [33/100]\ttrain_main: 6.074201e-02\ttrain_penalty: 6.931472e-01\ttest_main: 9.147524e-02\ttest_penalty: 6.931472e-01\n"
     ]
    },
    {
     "name": "stdout",
     "output_type": "stream",
     "text": [
      "[99/100]\ttest_main: 0.0909\ttest_penalty: 0.6931931\r"
     ]
    },
    {
     "name": "stderr",
     "output_type": "stream",
     "text": [
      "[default |INFO|_base_model.py:972] [34/100]\ttrain_main: 6.040999e-02\ttrain_penalty: 6.931472e-01\ttest_main: 9.085200e-02\ttest_penalty: 6.931472e-01\n"
     ]
    },
    {
     "name": "stdout",
     "output_type": "stream",
     "text": [
      "[93/100]\ttest_main: 0.0886\ttest_penalty: 0.6931931\r"
     ]
    },
    {
     "name": "stderr",
     "output_type": "stream",
     "text": [
      "[default |INFO|_base_model.py:972] [35/100]\ttrain_main: 6.016173e-02\ttrain_penalty: 6.931472e-01\ttest_main: 9.033464e-02\ttest_penalty: 6.931472e-01\n"
     ]
    },
    {
     "name": "stdout",
     "output_type": "stream",
     "text": [
      "[92/100]\ttest_main: 0.0889\ttest_penalty: 0.6931931\r"
     ]
    },
    {
     "name": "stderr",
     "output_type": "stream",
     "text": [
      "[default |INFO|_base_model.py:972] [36/100]\ttrain_main: 5.990617e-02\ttrain_penalty: 6.931472e-01\ttest_main: 9.085984e-02\ttest_penalty: 6.931472e-01\n"
     ]
    },
    {
     "name": "stdout",
     "output_type": "stream",
     "text": [
      "[94/100]\ttest_main: 0.0899\ttest_penalty: 0.6931931\r"
     ]
    },
    {
     "name": "stderr",
     "output_type": "stream",
     "text": [
      "[default |INFO|_base_model.py:972] [37/100]\ttrain_main: 5.983002e-02\ttrain_penalty: 6.931472e-01\ttest_main: 9.200542e-02\ttest_penalty: 6.931472e-01\n"
     ]
    },
    {
     "name": "stdout",
     "output_type": "stream",
     "text": [
      "[99/100]\ttest_main: 0.0903\ttest_penalty: 0.6931931\r"
     ]
    },
    {
     "name": "stderr",
     "output_type": "stream",
     "text": [
      "[default |INFO|_base_model.py:972] [38/100]\ttrain_main: 5.962970e-02\ttrain_penalty: 6.931472e-01\ttest_main: 9.032358e-02\ttest_penalty: 6.931472e-01\n"
     ]
    },
    {
     "name": "stdout",
     "output_type": "stream",
     "text": [
      "[99/100]\ttest_main: 0.0904\ttest_penalty: 0.6931931\r"
     ]
    },
    {
     "name": "stderr",
     "output_type": "stream",
     "text": [
      "[default |INFO|_base_model.py:972] [39/100]\ttrain_main: 5.941274e-02\ttrain_penalty: 6.931472e-01\ttest_main: 9.043951e-02\ttest_penalty: 6.931472e-01\n"
     ]
    },
    {
     "name": "stdout",
     "output_type": "stream",
     "text": [
      "[99/100]\ttest_main: 0.0907\ttest_penalty: 0.6931931\r"
     ]
    },
    {
     "name": "stderr",
     "output_type": "stream",
     "text": [
      "[default |INFO|_base_model.py:972] [40/100]\ttrain_main: 5.925886e-02\ttrain_penalty: 6.931472e-01\ttest_main: 9.070110e-02\ttest_penalty: 6.931472e-01\n"
     ]
    },
    {
     "name": "stdout",
     "output_type": "stream",
     "text": [
      "[99/100]\ttest_main: 0.0912\ttest_penalty: 0.6931931\r"
     ]
    },
    {
     "name": "stderr",
     "output_type": "stream",
     "text": [
      "[default |INFO|_base_model.py:972] [41/100]\ttrain_main: 5.905094e-02\ttrain_penalty: 6.931472e-01\ttest_main: 9.121548e-02\ttest_penalty: 6.931472e-01\n"
     ]
    },
    {
     "name": "stdout",
     "output_type": "stream",
     "text": [
      "[99/100]\ttest_main: 0.0891\ttest_penalty: 0.6931931\r"
     ]
    },
    {
     "name": "stderr",
     "output_type": "stream",
     "text": [
      "[default |INFO|_base_model.py:972] [42/100]\ttrain_main: 5.898978e-02\ttrain_penalty: 6.931472e-01\ttest_main: 8.913585e-02\ttest_penalty: 6.931472e-01\n"
     ]
    },
    {
     "name": "stdout",
     "output_type": "stream",
     "text": [
      "[99/100]\ttest_main: 0.0902\ttest_penalty: 0.6931931\r"
     ]
    },
    {
     "name": "stderr",
     "output_type": "stream",
     "text": [
      "[default |INFO|_base_model.py:972] [43/100]\ttrain_main: 5.873230e-02\ttrain_penalty: 6.931472e-01\ttest_main: 9.019142e-02\ttest_penalty: 6.931472e-01\n"
     ]
    },
    {
     "name": "stdout",
     "output_type": "stream",
     "text": [
      "[97/100]\ttest_main: 0.0901\ttest_penalty: 0.6931931\r"
     ]
    },
    {
     "name": "stderr",
     "output_type": "stream",
     "text": [
      "[default |INFO|_base_model.py:972] [44/100]\ttrain_main: 5.858542e-02\ttrain_penalty: 6.931472e-01\ttest_main: 9.024968e-02\ttest_penalty: 6.931472e-01\n"
     ]
    },
    {
     "name": "stdout",
     "output_type": "stream",
     "text": [
      "[95/100]\ttest_main: 0.0888\ttest_penalty: 0.6931931\r"
     ]
    },
    {
     "name": "stderr",
     "output_type": "stream",
     "text": [
      "[default |INFO|_base_model.py:972] [45/100]\ttrain_main: 5.860684e-02\ttrain_penalty: 6.931472e-01\ttest_main: 9.054991e-02\ttest_penalty: 6.931472e-01\n"
     ]
    },
    {
     "name": "stdout",
     "output_type": "stream",
     "text": [
      "[96/100]\ttest_main: 0.0887\ttest_penalty: 0.6931931\r"
     ]
    },
    {
     "name": "stderr",
     "output_type": "stream",
     "text": [
      "[default |INFO|_base_model.py:972] [46/100]\ttrain_main: 5.829225e-02\ttrain_penalty: 6.931472e-01\ttest_main: 8.969659e-02\ttest_penalty: 6.931472e-01\n"
     ]
    },
    {
     "name": "stdout",
     "output_type": "stream",
     "text": [
      "[78/100]\ttest_main: 0.0841\ttest_penalty: 0.6931931\r"
     ]
    },
    {
     "name": "stderr",
     "output_type": "stream",
     "text": [
      "[default |INFO|_base_model.py:972] [47/100]\ttrain_main: 5.834121e-02\ttrain_penalty: 6.931472e-01\ttest_main: 8.894565e-02\ttest_penalty: 6.931472e-01\n"
     ]
    },
    {
     "name": "stdout",
     "output_type": "stream",
     "text": [
      "[98/100]\ttest_main: 0.0883\ttest_penalty: 0.6931931\r"
     ]
    },
    {
     "name": "stderr",
     "output_type": "stream",
     "text": [
      "[default |INFO|_base_model.py:972] [48/100]\ttrain_main: 5.806256e-02\ttrain_penalty: 6.931472e-01\ttest_main: 8.863942e-02\ttest_penalty: 6.931472e-01\n"
     ]
    },
    {
     "name": "stdout",
     "output_type": "stream",
     "text": [
      "[97/100]\ttest_main: 0.0889\ttest_penalty: 0.6931931\r"
     ]
    },
    {
     "name": "stderr",
     "output_type": "stream",
     "text": [
      "[default |INFO|_base_model.py:972] [49/100]\ttrain_main: 5.786284e-02\ttrain_penalty: 6.931472e-01\ttest_main: 8.913414e-02\ttest_penalty: 6.931472e-01\n"
     ]
    },
    {
     "name": "stdout",
     "output_type": "stream",
     "text": [
      "[98/100]\ttest_main: 0.0883\ttest_penalty: 0.6931931\r"
     ]
    },
    {
     "name": "stderr",
     "output_type": "stream",
     "text": [
      "[default |INFO|_base_model.py:972] [50/100]\ttrain_main: 5.785848e-02\ttrain_penalty: 6.931472e-01\ttest_main: 8.856866e-02\ttest_penalty: 6.931472e-01\n"
     ]
    },
    {
     "name": "stdout",
     "output_type": "stream",
     "text": [
      "[99/100]\ttest_main: 0.0880\ttest_penalty: 0.6931931\r"
     ]
    },
    {
     "name": "stderr",
     "output_type": "stream",
     "text": [
      "[default |INFO|_base_model.py:972] [51/100]\ttrain_main: 5.756568e-02\ttrain_penalty: 6.931472e-01\ttest_main: 8.798174e-02\ttest_penalty: 6.931472e-01\n"
     ]
    },
    {
     "name": "stdout",
     "output_type": "stream",
     "text": [
      "[98/100]\ttest_main: 0.0879\ttest_penalty: 0.6931931\r"
     ]
    },
    {
     "name": "stderr",
     "output_type": "stream",
     "text": [
      "[default |INFO|_base_model.py:972] [52/100]\ttrain_main: 5.769570e-02\ttrain_penalty: 6.931472e-01\ttest_main: 8.807410e-02\ttest_penalty: 6.931472e-01\n"
     ]
    },
    {
     "name": "stdout",
     "output_type": "stream",
     "text": [
      "[98/100]\ttest_main: 0.0873\ttest_penalty: 0.6931931\r"
     ]
    },
    {
     "name": "stderr",
     "output_type": "stream",
     "text": [
      "[default |INFO|_base_model.py:972] [53/100]\ttrain_main: 5.746065e-02\ttrain_penalty: 6.931472e-01\ttest_main: 8.758618e-02\ttest_penalty: 6.931472e-01\n"
     ]
    },
    {
     "name": "stdout",
     "output_type": "stream",
     "text": [
      "[99/100]\ttest_main: 0.0874\ttest_penalty: 0.6931931\r"
     ]
    },
    {
     "name": "stderr",
     "output_type": "stream",
     "text": [
      "[default |INFO|_base_model.py:972] [54/100]\ttrain_main: 5.726695e-02\ttrain_penalty: 6.931472e-01\ttest_main: 8.735040e-02\ttest_penalty: 6.931472e-01\n"
     ]
    },
    {
     "name": "stdout",
     "output_type": "stream",
     "text": [
      "[85/100]\ttest_main: 0.0854\ttest_penalty: 0.6931931\r"
     ]
    },
    {
     "name": "stderr",
     "output_type": "stream",
     "text": [
      "[default |INFO|_base_model.py:972] [55/100]\ttrain_main: 5.719107e-02\ttrain_penalty: 6.931472e-01\ttest_main: 8.724614e-02\ttest_penalty: 6.931472e-01\n"
     ]
    },
    {
     "name": "stdout",
     "output_type": "stream",
     "text": [
      "[99/100]\ttest_main: 0.0878\ttest_penalty: 0.6931931\r"
     ]
    },
    {
     "name": "stderr",
     "output_type": "stream",
     "text": [
      "[default |INFO|_base_model.py:972] [56/100]\ttrain_main: 5.709748e-02\ttrain_penalty: 6.931472e-01\ttest_main: 8.776875e-02\ttest_penalty: 6.931472e-01\n"
     ]
    },
    {
     "name": "stdout",
     "output_type": "stream",
     "text": [
      "[94/100]\ttest_main: 0.0857\ttest_penalty: 0.6931931\r"
     ]
    },
    {
     "name": "stderr",
     "output_type": "stream",
     "text": [
      "[default |INFO|_base_model.py:972] [57/100]\ttrain_main: 5.698938e-02\ttrain_penalty: 6.931472e-01\ttest_main: 8.764545e-02\ttest_penalty: 6.931472e-01\n"
     ]
    },
    {
     "name": "stdout",
     "output_type": "stream",
     "text": [
      "[93/100]\ttest_main: 0.0860\ttest_penalty: 0.6931931\r"
     ]
    },
    {
     "name": "stderr",
     "output_type": "stream",
     "text": [
      "[default |INFO|_base_model.py:972] [58/100]\ttrain_main: 5.678088e-02\ttrain_penalty: 6.931472e-01\ttest_main: 8.788797e-02\ttest_penalty: 6.931472e-01\n"
     ]
    },
    {
     "name": "stdout",
     "output_type": "stream",
     "text": [
      "[85/100]\ttest_main: 0.0852\ttest_penalty: 0.6931931\r"
     ]
    },
    {
     "name": "stderr",
     "output_type": "stream",
     "text": [
      "[default |INFO|_base_model.py:972] [59/100]\ttrain_main: 5.681296e-02\ttrain_penalty: 6.931472e-01\ttest_main: 8.734148e-02\ttest_penalty: 6.931472e-01\n"
     ]
    },
    {
     "name": "stdout",
     "output_type": "stream",
     "text": [
      "[94/100]\ttest_main: 0.0849\ttest_penalty: 0.6931931\r"
     ]
    },
    {
     "name": "stderr",
     "output_type": "stream",
     "text": [
      "[default |INFO|_base_model.py:972] [60/100]\ttrain_main: 5.658811e-02\ttrain_penalty: 6.931472e-01\ttest_main: 8.721071e-02\ttest_penalty: 6.931472e-01\n"
     ]
    },
    {
     "name": "stdout",
     "output_type": "stream",
     "text": [
      "[93/100]\ttest_main: 0.0864\ttest_penalty: 0.6931931\r"
     ]
    },
    {
     "name": "stderr",
     "output_type": "stream",
     "text": [
      "[default |INFO|_base_model.py:972] [61/100]\ttrain_main: 5.659107e-02\ttrain_penalty: 6.931472e-01\ttest_main: 8.780359e-02\ttest_penalty: 6.931472e-01\n"
     ]
    },
    {
     "name": "stdout",
     "output_type": "stream",
     "text": [
      "[99/100]\ttest_main: 0.0870\ttest_penalty: 0.6931931\r"
     ]
    },
    {
     "name": "stderr",
     "output_type": "stream",
     "text": [
      "[default |INFO|_base_model.py:972] [62/100]\ttrain_main: 5.651381e-02\ttrain_penalty: 6.931472e-01\ttest_main: 8.700233e-02\ttest_penalty: 6.931472e-01\n"
     ]
    },
    {
     "name": "stdout",
     "output_type": "stream",
     "text": [
      "[87/100]\ttest_main: 0.0844\ttest_penalty: 0.6931931\r"
     ]
    },
    {
     "name": "stderr",
     "output_type": "stream",
     "text": [
      "[default |INFO|_base_model.py:972] [63/100]\ttrain_main: 5.649146e-02\ttrain_penalty: 6.931472e-01\ttest_main: 8.774789e-02\ttest_penalty: 6.931472e-01\n"
     ]
    },
    {
     "name": "stdout",
     "output_type": "stream",
     "text": [
      "[92/100]\ttest_main: 0.0846\ttest_penalty: 0.6931931\r"
     ]
    },
    {
     "name": "stderr",
     "output_type": "stream",
     "text": [
      "[default |INFO|_base_model.py:972] [64/100]\ttrain_main: 5.649915e-02\ttrain_penalty: 6.931472e-01\ttest_main: 8.643442e-02\ttest_penalty: 6.931472e-01\n"
     ]
    },
    {
     "name": "stdout",
     "output_type": "stream",
     "text": [
      "[94/100]\ttest_main: 0.0862\ttest_penalty: 0.6931931\r"
     ]
    },
    {
     "name": "stderr",
     "output_type": "stream",
     "text": [
      "[default |INFO|_base_model.py:972] [65/100]\ttrain_main: 5.619882e-02\ttrain_penalty: 6.931472e-01\ttest_main: 8.769361e-02\ttest_penalty: 6.931472e-01\n"
     ]
    },
    {
     "name": "stdout",
     "output_type": "stream",
     "text": [
      "[78/100]\ttest_main: 0.0834\ttest_penalty: 0.6931931\r"
     ]
    },
    {
     "name": "stderr",
     "output_type": "stream",
     "text": [
      "[default |INFO|_base_model.py:972] [66/100]\ttrain_main: 5.618124e-02\ttrain_penalty: 6.931472e-01\ttest_main: 8.735532e-02\ttest_penalty: 6.931472e-01\n"
     ]
    },
    {
     "name": "stdout",
     "output_type": "stream",
     "text": [
      "[99/100]\ttest_main: 0.0863\ttest_penalty: 0.6931931\r"
     ]
    },
    {
     "name": "stderr",
     "output_type": "stream",
     "text": [
      "[default |INFO|_base_model.py:972] [67/100]\ttrain_main: 5.611334e-02\ttrain_penalty: 6.931472e-01\ttest_main: 8.634086e-02\ttest_penalty: 6.931472e-01\n"
     ]
    },
    {
     "name": "stdout",
     "output_type": "stream",
     "text": [
      "[99/100]\ttest_main: 0.0865\ttest_penalty: 0.6931931\r"
     ]
    },
    {
     "name": "stderr",
     "output_type": "stream",
     "text": [
      "[default |INFO|_base_model.py:972] [68/100]\ttrain_main: 5.581441e-02\ttrain_penalty: 6.931472e-01\ttest_main: 8.649142e-02\ttest_penalty: 6.931472e-01\n"
     ]
    },
    {
     "name": "stdout",
     "output_type": "stream",
     "text": [
      "[91/100]\ttest_main: 0.0848\ttest_penalty: 0.6931931\r"
     ]
    },
    {
     "name": "stderr",
     "output_type": "stream",
     "text": [
      "[default |INFO|_base_model.py:972] [69/100]\ttrain_main: 5.581380e-02\ttrain_penalty: 6.931472e-01\ttest_main: 8.638105e-02\ttest_penalty: 6.931472e-01\n"
     ]
    },
    {
     "name": "stdout",
     "output_type": "stream",
     "text": [
      "[83/100]\ttest_main: 0.0852\ttest_penalty: 0.6931931\r"
     ]
    },
    {
     "name": "stderr",
     "output_type": "stream",
     "text": [
      "[default |INFO|_base_model.py:972] [70/100]\ttrain_main: 5.570766e-02\ttrain_penalty: 6.931472e-01\ttest_main: 8.694818e-02\ttest_penalty: 6.931472e-01\n"
     ]
    },
    {
     "name": "stdout",
     "output_type": "stream",
     "text": [
      "[94/100]\ttest_main: 0.0851\ttest_penalty: 0.6931931\r"
     ]
    },
    {
     "name": "stderr",
     "output_type": "stream",
     "text": [
      "[default |INFO|_base_model.py:972] [71/100]\ttrain_main: 5.569819e-02\ttrain_penalty: 6.931472e-01\ttest_main: 8.708766e-02\ttest_penalty: 6.931472e-01\n"
     ]
    },
    {
     "name": "stdout",
     "output_type": "stream",
     "text": [
      "[99/100]\ttest_main: 0.0864\ttest_penalty: 0.6931931\r"
     ]
    },
    {
     "name": "stderr",
     "output_type": "stream",
     "text": [
      "[default |INFO|_base_model.py:972] [72/100]\ttrain_main: 5.570046e-02\ttrain_penalty: 6.931472e-01\ttest_main: 8.635776e-02\ttest_penalty: 6.931472e-01\n"
     ]
    },
    {
     "name": "stdout",
     "output_type": "stream",
     "text": [
      "[92/100]\ttest_main: 0.0845\ttest_penalty: 0.6931931\r"
     ]
    },
    {
     "name": "stderr",
     "output_type": "stream",
     "text": [
      "[default |INFO|_base_model.py:972] [73/100]\ttrain_main: 5.554031e-02\ttrain_penalty: 6.931472e-01\ttest_main: 8.610139e-02\ttest_penalty: 6.931472e-01\n"
     ]
    },
    {
     "name": "stdout",
     "output_type": "stream",
     "text": [
      "[85/100]\ttest_main: 0.0845\ttest_penalty: 0.6931931\r"
     ]
    },
    {
     "name": "stderr",
     "output_type": "stream",
     "text": [
      "[default |INFO|_base_model.py:972] [74/100]\ttrain_main: 5.551360e-02\ttrain_penalty: 6.931472e-01\ttest_main: 8.619797e-02\ttest_penalty: 6.931472e-01\n"
     ]
    },
    {
     "name": "stdout",
     "output_type": "stream",
     "text": [
      "[91/100]\ttest_main: 0.0843\ttest_penalty: 0.6931931\r"
     ]
    },
    {
     "name": "stderr",
     "output_type": "stream",
     "text": [
      "[default |INFO|_base_model.py:972] [75/100]\ttrain_main: 5.531350e-02\ttrain_penalty: 6.931472e-01\ttest_main: 8.591052e-02\ttest_penalty: 6.931472e-01\n"
     ]
    },
    {
     "name": "stdout",
     "output_type": "stream",
     "text": [
      "[97/100]\ttest_main: 0.0856\ttest_penalty: 0.6931931\r"
     ]
    },
    {
     "name": "stderr",
     "output_type": "stream",
     "text": [
      "[default |INFO|_base_model.py:972] [76/100]\ttrain_main: 5.540472e-02\ttrain_penalty: 6.931472e-01\ttest_main: 8.582418e-02\ttest_penalty: 6.931472e-01\n"
     ]
    },
    {
     "name": "stdout",
     "output_type": "stream",
     "text": [
      "[79/100]\ttest_main: 0.0813\ttest_penalty: 0.6931931\r"
     ]
    },
    {
     "name": "stderr",
     "output_type": "stream",
     "text": [
      "[default |INFO|_base_model.py:972] [77/100]\ttrain_main: 5.518056e-02\ttrain_penalty: 6.931472e-01\ttest_main: 8.537567e-02\ttest_penalty: 6.931472e-01\n"
     ]
    },
    {
     "name": "stdout",
     "output_type": "stream",
     "text": [
      "[99/100]\ttest_main: 0.0858\ttest_penalty: 0.6931931\r"
     ]
    },
    {
     "name": "stderr",
     "output_type": "stream",
     "text": [
      "[default |INFO|_base_model.py:972] [78/100]\ttrain_main: 5.510080e-02\ttrain_penalty: 6.931472e-01\ttest_main: 8.584672e-02\ttest_penalty: 6.931472e-01\n"
     ]
    },
    {
     "name": "stdout",
     "output_type": "stream",
     "text": [
      "[88/100]\ttest_main: 0.0831\ttest_penalty: 0.6931931\r"
     ]
    },
    {
     "name": "stderr",
     "output_type": "stream",
     "text": [
      "[default |INFO|_base_model.py:972] [79/100]\ttrain_main: 5.498737e-02\ttrain_penalty: 6.931472e-01\ttest_main: 8.569829e-02\ttest_penalty: 6.931472e-01\n"
     ]
    },
    {
     "name": "stdout",
     "output_type": "stream",
     "text": [
      "[88/100]\ttest_main: 0.0826\ttest_penalty: 0.6931931\r"
     ]
    },
    {
     "name": "stderr",
     "output_type": "stream",
     "text": [
      "[default |INFO|_base_model.py:972] [80/100]\ttrain_main: 5.506635e-02\ttrain_penalty: 6.931472e-01\ttest_main: 8.548577e-02\ttest_penalty: 6.931472e-01\n"
     ]
    },
    {
     "name": "stdout",
     "output_type": "stream",
     "text": [
      "[86/100]\ttest_main: 0.0832\ttest_penalty: 0.6931931\r"
     ]
    },
    {
     "name": "stderr",
     "output_type": "stream",
     "text": [
      "[default |INFO|_base_model.py:972] [81/100]\ttrain_main: 5.489885e-02\ttrain_penalty: 6.931472e-01\ttest_main: 8.521288e-02\ttest_penalty: 6.931472e-01\n"
     ]
    },
    {
     "name": "stdout",
     "output_type": "stream",
     "text": [
      "[87/100]\ttest_main: 0.0831\ttest_penalty: 0.6931931\r"
     ]
    },
    {
     "name": "stderr",
     "output_type": "stream",
     "text": [
      "[default |INFO|_base_model.py:972] [82/100]\ttrain_main: 5.490736e-02\ttrain_penalty: 6.931472e-01\ttest_main: 8.541685e-02\ttest_penalty: 6.931472e-01\n"
     ]
    },
    {
     "name": "stdout",
     "output_type": "stream",
     "text": [
      "[84/100]\ttest_main: 0.0831\ttest_penalty: 0.6931931\r"
     ]
    },
    {
     "name": "stderr",
     "output_type": "stream",
     "text": [
      "[default |INFO|_base_model.py:972] [83/100]\ttrain_main: 5.472900e-02\ttrain_penalty: 6.931472e-01\ttest_main: 8.491873e-02\ttest_penalty: 6.931472e-01\n"
     ]
    },
    {
     "name": "stdout",
     "output_type": "stream",
     "text": [
      "[87/100]\ttest_main: 0.0827\ttest_penalty: 0.6931931\r"
     ]
    },
    {
     "name": "stderr",
     "output_type": "stream",
     "text": [
      "[default |INFO|_base_model.py:972] [84/100]\ttrain_main: 5.470380e-02\ttrain_penalty: 6.931472e-01\ttest_main: 8.554359e-02\ttest_penalty: 6.931472e-01\n"
     ]
    },
    {
     "name": "stdout",
     "output_type": "stream",
     "text": [
      "[89/100]\ttest_main: 0.0831\ttest_penalty: 0.6931931\r"
     ]
    },
    {
     "name": "stderr",
     "output_type": "stream",
     "text": [
      "[default |INFO|_base_model.py:972] [85/100]\ttrain_main: 5.457304e-02\ttrain_penalty: 6.931472e-01\ttest_main: 8.493625e-02\ttest_penalty: 6.931472e-01\n"
     ]
    },
    {
     "name": "stdout",
     "output_type": "stream",
     "text": [
      "[87/100]\ttest_main: 0.0833\ttest_penalty: 0.6931931\r"
     ]
    },
    {
     "name": "stderr",
     "output_type": "stream",
     "text": [
      "[default |INFO|_base_model.py:972] [86/100]\ttrain_main: 5.458094e-02\ttrain_penalty: 6.931472e-01\ttest_main: 8.545272e-02\ttest_penalty: 6.931472e-01\n"
     ]
    },
    {
     "name": "stdout",
     "output_type": "stream",
     "text": [
      "[87/100]\ttest_main: 0.0837\ttest_penalty: 0.6931931\r"
     ]
    },
    {
     "name": "stderr",
     "output_type": "stream",
     "text": [
      "[default |INFO|_base_model.py:972] [87/100]\ttrain_main: 5.443798e-02\ttrain_penalty: 6.931472e-01\ttest_main: 8.612207e-02\ttest_penalty: 6.931472e-01\n"
     ]
    },
    {
     "name": "stdout",
     "output_type": "stream",
     "text": [
      "[87/100]\ttest_main: 0.0828\ttest_penalty: 0.6931931\r"
     ]
    },
    {
     "name": "stderr",
     "output_type": "stream",
     "text": [
      "[default |INFO|_base_model.py:972] [88/100]\ttrain_main: 5.441223e-02\ttrain_penalty: 6.931472e-01\ttest_main: 8.522311e-02\ttest_penalty: 6.931472e-01\n"
     ]
    },
    {
     "name": "stdout",
     "output_type": "stream",
     "text": [
      "[88/100]\ttest_main: 0.0827\ttest_penalty: 0.6931931\r"
     ]
    },
    {
     "name": "stderr",
     "output_type": "stream",
     "text": [
      "[default |INFO|_base_model.py:972] [89/100]\ttrain_main: 5.425049e-02\ttrain_penalty: 6.931472e-01\ttest_main: 8.540892e-02\ttest_penalty: 6.931472e-01\n"
     ]
    },
    {
     "name": "stdout",
     "output_type": "stream",
     "text": [
      "[87/100]\ttest_main: 0.0827\ttest_penalty: 0.6931931\r"
     ]
    },
    {
     "name": "stderr",
     "output_type": "stream",
     "text": [
      "[default |INFO|_base_model.py:972] [90/100]\ttrain_main: 5.432948e-02\ttrain_penalty: 6.931472e-01\ttest_main: 8.534727e-02\ttest_penalty: 6.931472e-01\n"
     ]
    },
    {
     "name": "stdout",
     "output_type": "stream",
     "text": [
      "[85/100]\ttest_main: 0.0828\ttest_penalty: 0.6931931\r"
     ]
    },
    {
     "name": "stderr",
     "output_type": "stream",
     "text": [
      "[default |INFO|_base_model.py:972] [91/100]\ttrain_main: 5.432767e-02\ttrain_penalty: 6.931472e-01\ttest_main: 8.551253e-02\ttest_penalty: 6.931472e-01\n"
     ]
    },
    {
     "name": "stdout",
     "output_type": "stream",
     "text": [
      "[87/100]\ttest_main: 0.0831\ttest_penalty: 0.6931931\r"
     ]
    },
    {
     "name": "stderr",
     "output_type": "stream",
     "text": [
      "[default |INFO|_base_model.py:972] [92/100]\ttrain_main: 5.423472e-02\ttrain_penalty: 6.931472e-01\ttest_main: 8.530617e-02\ttest_penalty: 6.931472e-01\n"
     ]
    },
    {
     "name": "stdout",
     "output_type": "stream",
     "text": [
      "[87/100]\ttest_main: 0.0824\ttest_penalty: 0.6931931\r"
     ]
    },
    {
     "name": "stderr",
     "output_type": "stream",
     "text": [
      "[default |INFO|_base_model.py:972] [93/100]\ttrain_main: 5.423255e-02\ttrain_penalty: 6.931472e-01\ttest_main: 8.516114e-02\ttest_penalty: 6.931472e-01\n"
     ]
    },
    {
     "name": "stdout",
     "output_type": "stream",
     "text": [
      "[86/100]\ttest_main: 0.0820\ttest_penalty: 0.6931931\r"
     ]
    },
    {
     "name": "stderr",
     "output_type": "stream",
     "text": [
      "[default |INFO|_base_model.py:972] [94/100]\ttrain_main: 5.414408e-02\ttrain_penalty: 6.931472e-01\ttest_main: 8.469503e-02\ttest_penalty: 6.931472e-01\n"
     ]
    },
    {
     "name": "stdout",
     "output_type": "stream",
     "text": [
      "[87/100]\ttest_main: 0.0826\ttest_penalty: 0.6931931\r"
     ]
    },
    {
     "name": "stderr",
     "output_type": "stream",
     "text": [
      "[default |INFO|_base_model.py:972] [95/100]\ttrain_main: 5.397856e-02\ttrain_penalty: 6.931472e-01\ttest_main: 8.518850e-02\ttest_penalty: 6.931472e-01\n"
     ]
    },
    {
     "name": "stdout",
     "output_type": "stream",
     "text": [
      "[87/100]\ttest_main: 0.0821\ttest_penalty: 0.6931931\r"
     ]
    },
    {
     "name": "stderr",
     "output_type": "stream",
     "text": [
      "[default |INFO|_base_model.py:972] [96/100]\ttrain_main: 5.395286e-02\ttrain_penalty: 6.931472e-01\ttest_main: 8.452375e-02\ttest_penalty: 6.931472e-01\n"
     ]
    },
    {
     "name": "stdout",
     "output_type": "stream",
     "text": [
      "[87/100]\ttest_main: 0.0821\ttest_penalty: 0.6931931\r"
     ]
    },
    {
     "name": "stderr",
     "output_type": "stream",
     "text": [
      "[default |INFO|_base_model.py:972] [97/100]\ttrain_main: 5.380250e-02\ttrain_penalty: 6.931472e-01\ttest_main: 8.455462e-02\ttest_penalty: 6.931472e-01\n"
     ]
    },
    {
     "name": "stdout",
     "output_type": "stream",
     "text": [
      "[85/100]\ttest_main: 0.0828\ttest_penalty: 0.6931931\r"
     ]
    },
    {
     "name": "stderr",
     "output_type": "stream",
     "text": [
      "[default |INFO|_base_model.py:972] [98/100]\ttrain_main: 5.387060e-02\ttrain_penalty: 6.931472e-01\ttest_main: 8.487368e-02\ttest_penalty: 6.931472e-01\n"
     ]
    },
    {
     "name": "stdout",
     "output_type": "stream",
     "text": [
      "[86/100]\ttest_main: 0.0821\ttest_penalty: 0.6931931\r"
     ]
    },
    {
     "name": "stderr",
     "output_type": "stream",
     "text": [
      "[default |INFO|_base_model.py:972] [99/100]\ttrain_main: 5.372261e-02\ttrain_penalty: 6.931472e-01\ttest_main: 8.461638e-02\ttest_penalty: 6.931472e-01\n"
     ]
    },
    {
     "name": "stdout",
     "output_type": "stream",
     "text": [
      "[88/100]\ttest_main: 0.0823\ttest_penalty: 0.6931931\r"
     ]
    },
    {
     "name": "stderr",
     "output_type": "stream",
     "text": [
      "[default |INFO|_base_model.py:972] [100/100]\ttrain_main: 5.369726e-02\ttrain_penalty: 6.931472e-01\ttest_main: 8.463283e-02\ttest_penalty: 6.931472e-01\n"
     ]
    },
    {
     "name": "stdout",
     "output_type": "stream",
     "text": [
      "[89/100]\ttest_main: 0.0828\ttest_penalty: 0.6931\r",
      "[90/100]\ttest_main: 0.0831\ttest_penalty: 0.6931\r",
      "[91/100]\ttest_main: 0.0831\ttest_penalty: 0.6931\r",
      "[92/100]\ttest_main: 0.0831\ttest_penalty: 0.6931\r",
      "[93/100]\ttest_main: 0.0829\ttest_penalty: 0.6931\r",
      "[94/100]\ttest_main: 0.0828\ttest_penalty: 0.6931\r",
      "[95/100]\ttest_main: 0.0828\ttest_penalty: 0.6931\r",
      "[96/100]\ttest_main: 0.0835\ttest_penalty: 0.6931\r",
      "[97/100]\ttest_main: 0.0844\ttest_penalty: 0.6931\r",
      "[98/100]\ttest_main: 0.0844\ttest_penalty: 0.6931\r",
      "[99/100]\ttest_main: 0.0846\ttest_penalty: 0.6931\r"
     ]
    },
    {
     "name": "stderr",
     "output_type": "stream",
     "text": [
      "[default |INFO|_base_model.py:1042] Training Finished!\n",
      "[default |INFO|_base_model.py:1043] Elapsed time: 3465.250s\n"
     ]
    }
   ],
   "source": [
    "from model.exp2.train_cwae_gan import CWAE_GAN_MNIST\n",
    "\n",
    "cfg = configparser.ConfigParser()\n",
    "cfg.read('./config/train_config_cwae_gan2.cfg')\n",
    "\n",
    "model = CWAE_GAN_MNIST(cfg, log, device = device)\n",
    "model.train()"
   ]
  },
  {
   "cell_type": "markdown",
   "metadata": {},
   "source": [
    "# Apendix\n",
    "## Number of trainable parameters"
   ]
  },
  {
   "cell_type": "code",
   "execution_count": 3,
   "metadata": {},
   "outputs": [
    {
     "name": "stderr",
     "output_type": "stream",
     "text": [
      "[default |INFO|_base_model.py:25] ------------------------------------------------------------\n",
      "[default |INFO|_base_model.py:27] model_name : WAE_GAN_MNIST\n",
      "[default |INFO|_base_model.py:27] train_data : MNIST\n",
      "[default |INFO|_base_model.py:27] z_sampler : gaus\n",
      "[default |INFO|_base_model.py:27] z_dim : 8\n",
      "[default |INFO|_base_model.py:27] prob_enc : False\n",
      "[default |INFO|_base_model.py:27] encoder_pretrain : False\n",
      "[default |INFO|_base_model.py:27] encoder_pretrain_batch_size : 1000\n",
      "[default |INFO|_base_model.py:27] encoder_pretrain_max_step : 200\n",
      "[default |INFO|_base_model.py:27] lr : 1e-3\n",
      "[default |INFO|_base_model.py:27] beta1 : 0.5\n",
      "[default |INFO|_base_model.py:27] lr_adv : 5e-4\n",
      "[default |INFO|_base_model.py:27] beta1_adv : 0.5\n",
      "[default |INFO|_base_model.py:27] lambda : 10.0\n",
      "[default |INFO|_base_model.py:27] lr_schedule : manual\n",
      "[default |INFO|_base_model.py:27] validate : True\n",
      "[default |INFO|_base_model.py:27] histogram : True\n",
      "[default |INFO|_base_model.py:27] batch_size : 100\n",
      "[default |INFO|_base_model.py:27] epoch : 100\n",
      "[default |INFO|_base_model.py:27] replace : False\n",
      "[default |INFO|_base_model.py:27] iter_per_epoch : None\n",
      "[default |INFO|_base_model.py:27] save_best : False\n",
      "[default |INFO|_base_model.py:30] data_home : ./data/MNIST\n",
      "[default |INFO|_base_model.py:30] tb_logs : ./result/tb_logs/wae_gan1\n",
      "[default |INFO|_base_model.py:30] save_path : ./result/weights/weight_wae_gan1.pt\n",
      "[default |INFO|_base_model.py:30] save_state : ./result/states/state_wae_gan1.pt\n",
      "[default |INFO|_base_model.py:30] save_img_path : ./result/plots/wae_gan1/\n"
     ]
    },
    {
     "name": "stdout",
     "output_type": "stream",
     "text": [
      "WAE_GAN_1 has 1,108,906 trainable parameters\n"
     ]
    }
   ],
   "source": [
    "def count_parameters(model):\n",
    "    return sum(p.numel() for p in model.parameters() if p.requires_grad)  # Count number of elements of all parameters\n",
    "\n",
    "from model.exp1.train_wae_gan import WAE_GAN_MNIST\n",
    "\n",
    "model = WAE_GAN_MNIST(cfg, log, device = device)\n",
    "\n",
    "print('WAE_GAN_1 has {:,} trainable parameters'.format(count_parameters(model)))"
   ]
  },
  {
   "cell_type": "code",
   "execution_count": 10,
   "metadata": {},
   "outputs": [
    {
     "name": "stderr",
     "output_type": "stream",
     "text": [
      "[default |INFO|_base_model.py:25] ------------------------------------------------------------\n",
      "[default |INFO|_base_model.py:27] model_name : WAE_GAN_MNIST\n",
      "[default |INFO|_base_model.py:27] train_data : MNIST\n",
      "[default |INFO|_base_model.py:27] z_sampler : gaus\n",
      "[default |INFO|_base_model.py:27] z_dim : 8\n",
      "[default |INFO|_base_model.py:27] prob_enc : False\n",
      "[default |INFO|_base_model.py:27] encoder_pretrain : False\n",
      "[default |INFO|_base_model.py:27] encoder_pretrain_batch_size : 1000\n",
      "[default |INFO|_base_model.py:27] encoder_pretrain_max_step : 200\n",
      "[default |INFO|_base_model.py:27] lr : 1e-3\n",
      "[default |INFO|_base_model.py:27] beta1 : 0.5\n",
      "[default |INFO|_base_model.py:27] lr_adv : 5e-4\n",
      "[default |INFO|_base_model.py:27] beta1_adv : 0.5\n",
      "[default |INFO|_base_model.py:27] lambda : 10.0\n",
      "[default |INFO|_base_model.py:27] lr_schedule : manual\n",
      "[default |INFO|_base_model.py:27] validate : True\n",
      "[default |INFO|_base_model.py:27] histogram : True\n",
      "[default |INFO|_base_model.py:27] batch_size : 100\n",
      "[default |INFO|_base_model.py:27] epoch : 100\n",
      "[default |INFO|_base_model.py:27] replace : False\n",
      "[default |INFO|_base_model.py:27] iter_per_epoch : None\n",
      "[default |INFO|_base_model.py:27] save_best : False\n",
      "[default |INFO|_base_model.py:30] data_home : ./data/MNIST\n",
      "[default |INFO|_base_model.py:30] tb_logs : ./result/tb_logs/wae_gan2\n",
      "[default |INFO|_base_model.py:30] save_path : ./result/weights/weight_wae_gan2.pt\n",
      "[default |INFO|_base_model.py:30] save_state : ./result/states/state_wae_gan2.pt\n",
      "[default |INFO|_base_model.py:30] save_img_path : ./result/plots/wae_gan2/\n"
     ]
    },
    {
     "name": "stdout",
     "output_type": "stream",
     "text": [
      "WAE_GAN_2 has 1,472,362 trainable parameters\n"
     ]
    }
   ],
   "source": [
    "from model.exp2.train_wae_gan import WAE_GAN_MNIST\n",
    "cfg = configparser.ConfigParser()\n",
    "cfg.read('./config/train_config_wae_gan2.cfg')\n",
    "model = WAE_GAN_MNIST(cfg, log, device = device)\n",
    "\n",
    "print('WAE_GAN_2 has {:,} trainable parameters'.format(count_parameters(model)))"
   ]
  },
  {
   "cell_type": "code",
   "execution_count": 8,
   "metadata": {},
   "outputs": [
    {
     "name": "stderr",
     "output_type": "stream",
     "text": [
      "[default |INFO|_base_model.py:25] ------------------------------------------------------------\n",
      "[default |INFO|_base_model.py:27] model_name : CWAE_GAN_MNIST\n",
      "[default |INFO|_base_model.py:27] train_data : MNIST\n",
      "[default |INFO|_base_model.py:27] train_data_label : True\n",
      "[default |INFO|_base_model.py:27] z_sampler : gaus\n",
      "[default |INFO|_base_model.py:27] z_dim : 6\n",
      "[default |INFO|_base_model.py:27] y_sampler : multinomial\n",
      "[default |INFO|_base_model.py:27] y_dim : 10\n",
      "[default |INFO|_base_model.py:27] prob_enc : False\n",
      "[default |INFO|_base_model.py:27] prob_embed : False\n",
      "[default |INFO|_base_model.py:27] encoder_pretrain : False\n",
      "[default |INFO|_base_model.py:27] encoder_pretrain_batch_size : 1000\n",
      "[default |INFO|_base_model.py:27] encoder_pretrain_max_step : 200\n",
      "[default |INFO|_base_model.py:27] lr : 1e-3\n",
      "[default |INFO|_base_model.py:27] beta1 : 0.5\n",
      "[default |INFO|_base_model.py:27] lr_adv : 5e-4\n",
      "[default |INFO|_base_model.py:27] beta1_adv : 0.5\n",
      "[default |INFO|_base_model.py:27] lambda : 10.0\n",
      "[default |INFO|_base_model.py:27] lr_schedule : manual\n",
      "[default |INFO|_base_model.py:27] validate : True\n",
      "[default |INFO|_base_model.py:27] histogram : True\n",
      "[default |INFO|_base_model.py:27] batch_size : 100\n",
      "[default |INFO|_base_model.py:27] epoch : 100\n",
      "[default |INFO|_base_model.py:27] replace : False\n",
      "[default |INFO|_base_model.py:27] iter_per_epoch : None\n",
      "[default |INFO|_base_model.py:27] save_best : False\n",
      "[default |INFO|_base_model.py:30] data_home : ./data/MNIST\n",
      "[default |INFO|_base_model.py:30] tb_logs : ./result/tb_logs/cwae_gan1\n",
      "[default |INFO|_base_model.py:30] save_path : ./result/weights/weight_cwae_gan1.pt\n",
      "[default |INFO|_base_model.py:30] save_state : ./result/states/state_cwae_gan1.pt\n",
      "[default |INFO|_base_model.py:30] save_img_path : ./result/plots/cwae_gan1/\n"
     ]
    },
    {
     "name": "stdout",
     "output_type": "stream",
     "text": [
      "CWAE_GAN_1 has 1,160,104 trainable parameters\n"
     ]
    }
   ],
   "source": [
    "from model.exp1.train_cwae_gan import CWAE_GAN_MNIST\n",
    "cfg = configparser.ConfigParser()\n",
    "cfg.read('./config/train_config_cwae_gan1.cfg')\n",
    "model = CWAE_GAN_MNIST(cfg, log, device = device)\n",
    "\n",
    "print('CWAE_GAN_1 has {:,} trainable parameters'.format(count_parameters(model)))"
   ]
  },
  {
   "cell_type": "code",
   "execution_count": 9,
   "metadata": {},
   "outputs": [
    {
     "name": "stderr",
     "output_type": "stream",
     "text": [
      "[default |INFO|_base_model.py:25] ------------------------------------------------------------\n",
      "[default |INFO|_base_model.py:27] model_name : CWAE_GAN_MNIST\n",
      "[default |INFO|_base_model.py:27] train_data : MNIST\n",
      "[default |INFO|_base_model.py:27] train_data_label : True\n",
      "[default |INFO|_base_model.py:27] z_sampler : gaus\n",
      "[default |INFO|_base_model.py:27] z_dim : 6\n",
      "[default |INFO|_base_model.py:27] y_sampler : multinomial\n",
      "[default |INFO|_base_model.py:27] y_dim : 10\n",
      "[default |INFO|_base_model.py:27] prob_enc : False\n",
      "[default |INFO|_base_model.py:27] prob_embed : False\n",
      "[default |INFO|_base_model.py:27] encoder_pretrain : False\n",
      "[default |INFO|_base_model.py:27] encoder_pretrain_batch_size : 1000\n",
      "[default |INFO|_base_model.py:27] encoder_pretrain_max_step : 200\n",
      "[default |INFO|_base_model.py:27] lr : 1e-3\n",
      "[default |INFO|_base_model.py:27] beta1 : 0.5\n",
      "[default |INFO|_base_model.py:27] lr_adv : 5e-4\n",
      "[default |INFO|_base_model.py:27] beta1_adv : 0.5\n",
      "[default |INFO|_base_model.py:27] lambda : 10.0\n",
      "[default |INFO|_base_model.py:27] lr_schedule : manual\n",
      "[default |INFO|_base_model.py:27] validate : True\n",
      "[default |INFO|_base_model.py:27] histogram : True\n",
      "[default |INFO|_base_model.py:27] batch_size : 100\n",
      "[default |INFO|_base_model.py:27] epoch : 100\n",
      "[default |INFO|_base_model.py:27] replace : False\n",
      "[default |INFO|_base_model.py:27] iter_per_epoch : None\n",
      "[default |INFO|_base_model.py:27] save_best : False\n",
      "[default |INFO|_base_model.py:30] data_home : ./data/MNIST\n",
      "[default |INFO|_base_model.py:30] tb_logs : ./result/tb_logs/cwae_gan2\n",
      "[default |INFO|_base_model.py:30] save_path : ./result/weights/weight_cwae_gan2.pt\n",
      "[default |INFO|_base_model.py:30] save_state : ./result/states/state_cwae_gan2.pt\n",
      "[default |INFO|_base_model.py:30] save_img_path : ./result/plots/cwae_gan2/\n"
     ]
    },
    {
     "name": "stdout",
     "output_type": "stream",
     "text": [
      "CWAE_GAN_2 has 1,573,224 trainable parameters\n"
     ]
    }
   ],
   "source": [
    "from model.exp2.train_cwae_gan import CWAE_GAN_MNIST\n",
    "cfg = configparser.ConfigParser()\n",
    "cfg.read('./config/train_config_cwae_gan2.cfg')\n",
    "model = CWAE_GAN_MNIST(cfg, log, device = device)\n",
    "\n",
    "print('CWAE_GAN_2 has {:,} trainable parameters'.format(count_parameters(model)))"
   ]
  },
  {
   "cell_type": "code",
   "execution_count": null,
   "metadata": {},
   "outputs": [],
   "source": []
  }
 ],
 "metadata": {
  "kernelspec": {
   "display_name": "Python 3",
   "language": "python",
   "name": "python3"
  },
  "language_info": {
   "codemirror_mode": {
    "name": "ipython",
    "version": 3
   },
   "file_extension": ".py",
   "mimetype": "text/x-python",
   "name": "python",
   "nbconvert_exporter": "python",
   "pygments_lexer": "ipython3",
   "version": "3.8.5"
  }
 },
 "nbformat": 4,
 "nbformat_minor": 4
}
