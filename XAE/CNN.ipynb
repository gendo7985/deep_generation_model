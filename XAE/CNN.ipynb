{
 "cells": [
  {
   "cell_type": "markdown",
   "metadata": {},
   "source": [
    "# CNN test"
   ]
  },
  {
   "cell_type": "code",
   "execution_count": 1,
   "metadata": {},
   "outputs": [],
   "source": [
    "import os, sys, logging, configparser\n",
    "# sys.path.append('/'.join(os.getcwd().split('/')[:-2]))\n",
    "\n",
    "import warnings\n",
    "warnings.filterwarnings(\"ignore\")\n",
    "#os.environ['CUDA_VISIBLE_DEVICES']='1'\n",
    "\n",
    "import torch\n",
    "from tensorboardX import SummaryWriter\n",
    "from XAE.logging_daily import logging_daily\n",
    "\n",
    "is_cuda = torch.cuda.is_available()\n",
    "device = torch.device('cuda' if is_cuda else 'cpu')\n",
    "\n",
    "logger = logging_daily('./config/log_info.yaml')\n",
    "log = logger.get_logging()\n",
    "log.setLevel(logging.INFO)"
   ]
  },
  {
   "cell_type": "code",
   "execution_count": 37,
   "metadata": {},
   "outputs": [
    {
     "data": {
      "text/plain": [
       "['./config/train_config_cnn.cfg']"
      ]
     },
     "execution_count": 37,
     "metadata": {},
     "output_type": "execute_result"
    }
   ],
   "source": [
    "# from model.exp1.train_wae_gan import WAE_GAN_MNIST\n",
    "\n",
    "cfg = configparser.ConfigParser()\n",
    "cfg.read('./config/train_config_cnn.cfg')"
   ]
  },
  {
   "cell_type": "code",
   "execution_count": 38,
   "metadata": {},
   "outputs": [],
   "source": [
    "import time\n",
    "import torch\n",
    "import torch.nn as nn\n",
    "import torch.optim as optim\n",
    "from XAE.util import inc_avg, save_sample_images\n",
    "from XAE import dataset, sampler\n",
    "\n",
    "class CNN_MNIST(nn.Module):\n",
    "    def __init__(self, cfg, log, device = 'cpu', verbose = 1):\n",
    "        super(CNN_MNIST, self).__init__()\n",
    "        self.log = log\n",
    "        if verbose == 1:\n",
    "            self.log.info('------------------------------------------------------------')\n",
    "            for key in cfg['train_info']:\n",
    "                self.log.info('%s : %s' % (key, cfg['train_info'][key]))\n",
    "\n",
    "            for key in cfg['path_info']:\n",
    "                self.log.info('%s : %s' % (key, cfg['path_info'][key]))\n",
    "\n",
    "        self.cfg = cfg\n",
    "    \n",
    "        # Concrete Parts\n",
    "        self.device = device\n",
    "        self.z_dim = int(cfg['train_info']['z_dim'])\n",
    "        self.z_sampler = getattr(sampler, cfg['train_info']['z_sampler']) # generate prior\n",
    "\n",
    "        data_class = getattr(dataset, cfg['train_info']['train_data'])\n",
    "        labeled = cfg['train_info'].getboolean('train_data_label')\n",
    "        self.validate_batch = cfg['train_info'].getboolean('validate')\n",
    "        try:\n",
    "            self.train_data =  data_class(cfg['path_info']['data_home'], train = True, label = labeled)\n",
    "            self.test_data = data_class(cfg['path_info']['data_home'], train = False, label = labeled)\n",
    "\n",
    "            self.batch_size = int(cfg['train_info']['batch_size'])\n",
    "            if cfg['train_info'].getboolean('replace'):\n",
    "                it = int(cfg['train_info']['iter_per_epoch'])\n",
    "                train_sampler = torch.utils.data.RandomSampler(self.train_data, replacement = True, num_samples = self.batch_size * it)\n",
    "                self.train_generator = torch.utils.data.DataLoader(self.train_data, self.batch_size, num_workers = 5, sampler = train_sampler, pin_memory=True)\n",
    "            else:\n",
    "                self.train_generator = torch.utils.data.DataLoader(self.train_data, self.batch_size, num_workers = 5, shuffle = True, pin_memory=True, drop_last=True)\n",
    "            self.test_generator = torch.utils.data.DataLoader(self.test_data, self.batch_size, num_workers = 5, shuffle = False, pin_memory=True, drop_last=True)\n",
    "        except KeyError:\n",
    "            pass\n",
    "            \n",
    "        self.save_best = cfg['train_info'].getboolean('save_best')\n",
    "        self.save_path = cfg['path_info']['save_path']\n",
    "        self.tensorboard_dir = cfg['path_info']['tb_logs']\n",
    "        self.save_img_path = cfg['path_info']['save_img_path']\n",
    "        self.save_state = cfg['path_info']['save_state']\n",
    "        \n",
    "        self.encoder_pretrain = cfg['train_info'].getboolean('encoder_pretrain')\n",
    "        if self.encoder_pretrain:\n",
    "            self.encoder_pretrain_batch_size = int(cfg['train_info']['encoder_pretrain_batch_size'])\n",
    "            self.encoder_pretrain_step = int(cfg['train_info']['encoder_pretrain_max_step'])\n",
    "            self.pretrain_generator = torch.utils.data.DataLoader(self.train_data, self.encoder_pretrain_batch_size, num_workers = 5, shuffle = True, pin_memory=True, drop_last=True)\n",
    "\n",
    "        \n",
    "        self.lr = float(cfg['train_info']['lr'])\n",
    "        self.beta1 = float(cfg['train_info']['beta1'])\n",
    "        self.lamb = float(cfg['train_info']['lambda'])\n",
    "        self.lr_schedule = cfg['train_info']['lr_schedule']\n",
    "        self.num_epoch = int(cfg['train_info']['epoch'])\n",
    "\n",
    "        # Abstract Parts need overriding\n",
    "        self.d = 64\n",
    "        d = self.d\n",
    "        self.embed_data = nn.Sequential(\n",
    "            nn.Conv2d(1, d, kernel_size = 4, stride = 2, padding = 1, bias = False),\n",
    "            nn.BatchNorm2d(d),\n",
    "            nn.ReLU(True),\n",
    "\n",
    "            nn.Conv2d(d, d, kernel_size = 4, padding = 'same', bias = False),\n",
    "            nn.BatchNorm2d(d),\n",
    "            nn.ReLU(True),\n",
    "\n",
    "            nn.Conv2d(d, 2*d, kernel_size = 4, stride = 2, padding = 1, bias = False),\n",
    "            nn.BatchNorm2d(2*d),\n",
    "            nn.ReLU(True),\n",
    "\n",
    "            nn.Conv2d(2*d, 2*d, kernel_size = 4, padding = 'same', bias = False),\n",
    "            nn.BatchNorm2d(2*d),\n",
    "            nn.ReLU(True),\n",
    "\n",
    "            nn.Flatten(),\n",
    "        ).to(device)\n",
    "        \n",
    "        self.enc = nn.Sequential(\n",
    "            nn.Linear(49*2*d, d),\n",
    "            nn.BatchNorm1d(d),\n",
    "            nn.ReLU(True),\n",
    "\n",
    "            nn.Linear(d, d),\n",
    "            nn.BatchNorm1d(d),\n",
    "            nn.ReLU(True),\n",
    "            nn.Linear(d, 10),\n",
    "            nn.Sigmoid()\n",
    "            ).to(device)\n",
    "\n",
    "        self.loss = nn.MSELoss()\n",
    "\n",
    "        self.encoder_trainable = [self.enc, self.embed_data]\n",
    "    \n",
    "    def main_loss(self, x, y):\n",
    "        return self.loss(x, y)\n",
    "    \n",
    "    def encode(self, x):\n",
    "        return self.enc(self.embed_data(x))\n",
    "    \n",
    "    def forward(self, x):\n",
    "        return self.encode(x)\n",
    "    \n",
    "    def lr_scheduler(self, optimizer, decay = 1.0):\n",
    "        lamb = lambda e: decay\n",
    "        if self.lr_schedule is \"basic\":\n",
    "            lamb = lambda e: 1.0 / (1.0 + decay * e)\n",
    "        if self.lr_schedule is \"manual\":\n",
    "            lamb = lambda e: decay * 1.0 * (0.5 ** (e >= 30)) * (0.2 ** (e >= 50)) * (0.1 ** (e >= 100))\n",
    "        return optim.lr_scheduler.MultiplicativeLR(optimizer, lamb)\n",
    "\n",
    "    def train(self, resume = False):\n",
    "        self.train_main_list = []\n",
    "        self.test_main_list = []\n",
    "\n",
    "        for net in self.encoder_trainable:\n",
    "            net.train()\n",
    "     \n",
    "        optimizer = optim.Adam(sum([list(net.parameters()) for net in self.encoder_trainable], []), lr = self.lr, betas = (self.beta1, 0.999))\n",
    "\n",
    "        start_epoch = 0\n",
    "        scheduler = self.lr_scheduler(optimizer)\n",
    "\n",
    "        if resume:\n",
    "            checkpoint = torch.load(self.save_state)\n",
    "            start_epoch = checkpoint['epoch']\n",
    "            self.load_state_dict(checkpoint['model_state_dict'])\n",
    "            optimizer.load_state_dict(checkpoint['optimizer_state_dict'])\n",
    "            if len(self.lr_schedule) > 0:\n",
    "                scheduler.load_state_dict(checkpoint['scheduler'])\n",
    "\n",
    "        self.log.info('------------------------------------------------------------')\n",
    "        self.log.info('Training Start!')\n",
    "        start_time = time.time()\n",
    "        \n",
    "        for epoch in range(start_epoch, self.num_epoch):\n",
    "            # train_step\n",
    "            train_loss_main = inc_avg()\n",
    "            train_loss_penalty = inc_avg()\n",
    "            \n",
    "            for i, data in enumerate(self.train_generator):\n",
    "\n",
    "                for net in self.encoder_trainable:\n",
    "                    net.zero_grad()\n",
    "\n",
    "                n = len(data[0])\n",
    "                x = data[0].to(self.device)\n",
    "                y = data[1].to(self.device)\n",
    "                predicted = self.encode(x)\n",
    "                \n",
    "                loss = self.main_loss(y, predicted)\n",
    "                loss.backward()\n",
    "                optimizer.step()\n",
    "                \n",
    "                train_loss_main.append(loss.item(), n)\n",
    "                \n",
    "                print('[%i/%i]\\ttrain_main: %.4f' % (i+1, len(self.train_generator), train_loss_main.avg), \n",
    "                      end = \"\\r\")\n",
    "\n",
    "            self.train_main_list.append(train_loss_main.avg)\n",
    "        \n",
    "            # validation_step\n",
    "            test_loss_main = inc_avg()\n",
    "\n",
    "            if self.validate_batch:\n",
    "                for i, data in enumerate(self.test_generator):\n",
    "\n",
    "                    n = len(data[0])\n",
    "                    x = data[0].to(self.device)\n",
    "                    y = data[1].to(self.device)\n",
    "                    predicted = self.encode(x)\n",
    "\n",
    "                    test_loss_main.append(self.main_loss(y, predicted).item(), n)\n",
    "                    print('[%i/%i]\\ttest_main: %.4f' % (i, len(self.test_generator), test_loss_main.avg), end = \"\\r\")\n",
    "\n",
    "                self.test_main_list.append(test_loss_main.avg)\n",
    "                \n",
    "                self.log.info('[%d/%d]\\ttrain_main: %.6e\\ttest_main: %.6e'\n",
    "                      % (epoch + 1, self.num_epoch, train_loss_main.avg, test_loss_main.avg))\n",
    "\n",
    "            scheduler.step()\n",
    "\n",
    "        self.log.info('Training Finished!')\n",
    "        self.log.info(\"Elapsed time: %.3fs\" % (time.time() - start_time))\n"
   ]
  },
  {
   "cell_type": "code",
   "execution_count": 39,
   "metadata": {
    "scrolled": true
   },
   "outputs": [
    {
     "name": "stderr",
     "output_type": "stream",
     "text": [
      "[default |INFO|<ipython-input-38-9e011345e519>:13] ------------------------------------------------------------\n",
      "[default |INFO|<ipython-input-38-9e011345e519>:15] model_name : CNN\n",
      "[default |INFO|<ipython-input-38-9e011345e519>:15] train_data : MNIST\n",
      "[default |INFO|<ipython-input-38-9e011345e519>:15] z_sampler : gaus\n",
      "[default |INFO|<ipython-input-38-9e011345e519>:15] z_dim : 8\n",
      "[default |INFO|<ipython-input-38-9e011345e519>:15] y_sampler : multinomial\n",
      "[default |INFO|<ipython-input-38-9e011345e519>:15] y_dim : 10\n",
      "[default |INFO|<ipython-input-38-9e011345e519>:15] prob_enc : True\n",
      "[default |INFO|<ipython-input-38-9e011345e519>:15] train_data_label : True\n",
      "[default |INFO|<ipython-input-38-9e011345e519>:15] encoder_pretrain : False\n",
      "[default |INFO|<ipython-input-38-9e011345e519>:15] encoder_pretrain_batch_size : 1000\n",
      "[default |INFO|<ipython-input-38-9e011345e519>:15] encoder_pretrain_max_step : 200\n",
      "[default |INFO|<ipython-input-38-9e011345e519>:15] lr : 1e-3\n",
      "[default |INFO|<ipython-input-38-9e011345e519>:15] beta1 : 0.5\n",
      "[default |INFO|<ipython-input-38-9e011345e519>:15] lambda : 10.0\n",
      "[default |INFO|<ipython-input-38-9e011345e519>:15] lr_schedule : manual\n",
      "[default |INFO|<ipython-input-38-9e011345e519>:15] validate : True\n",
      "[default |INFO|<ipython-input-38-9e011345e519>:15] histogram : True\n",
      "[default |INFO|<ipython-input-38-9e011345e519>:15] batch_size : 100\n",
      "[default |INFO|<ipython-input-38-9e011345e519>:15] epoch : 40\n",
      "[default |INFO|<ipython-input-38-9e011345e519>:15] replace : False\n",
      "[default |INFO|<ipython-input-38-9e011345e519>:15] iter_per_epoch : None\n",
      "[default |INFO|<ipython-input-38-9e011345e519>:15] save_best : False\n",
      "[default |INFO|<ipython-input-38-9e011345e519>:18] data_home : ./data/MNIST\n",
      "[default |INFO|<ipython-input-38-9e011345e519>:18] tb_logs : ./result/tb_logs/cnn\n",
      "[default |INFO|<ipython-input-38-9e011345e519>:18] save_path : ./result/weights/weight_cnn.pt\n",
      "[default |INFO|<ipython-input-38-9e011345e519>:18] save_state : \n",
      "[default |INFO|<ipython-input-38-9e011345e519>:18] save_img_path : \n",
      "[default |INFO|<ipython-input-38-9e011345e519>:140] ------------------------------------------------------------\n",
      "[default |INFO|<ipython-input-38-9e011345e519>:141] Training Start!\n"
     ]
    },
    {
     "name": "stdout",
     "output_type": "stream",
     "text": [
      "[68/100]\ttest_main: 0.003163\r"
     ]
    },
    {
     "name": "stderr",
     "output_type": "stream",
     "text": [
      "[default |INFO|<ipython-input-38-9e011345e519>:186] [1/40]\ttrain_main: 1.630894e-02\ttest_main: 2.580448e-03\n"
     ]
    },
    {
     "name": "stdout",
     "output_type": "stream",
     "text": [
      "[68/100]\ttest_main: 0.002221\r"
     ]
    },
    {
     "name": "stderr",
     "output_type": "stream",
     "text": [
      "[default |INFO|<ipython-input-38-9e011345e519>:186] [2/40]\ttrain_main: 2.129726e-03\ttest_main: 1.769781e-03\n"
     ]
    },
    {
     "name": "stdout",
     "output_type": "stream",
     "text": [
      "[68/100]\ttest_main: 0.001814\r"
     ]
    },
    {
     "name": "stderr",
     "output_type": "stream",
     "text": [
      "[default |INFO|<ipython-input-38-9e011345e519>:186] [3/40]\ttrain_main: 1.433445e-03\ttest_main: 1.409638e-03\n"
     ]
    },
    {
     "name": "stdout",
     "output_type": "stream",
     "text": [
      "[67/100]\ttest_main: 0.001711\r"
     ]
    },
    {
     "name": "stderr",
     "output_type": "stream",
     "text": [
      "[default |INFO|<ipython-input-38-9e011345e519>:186] [4/40]\ttrain_main: 1.086634e-03\ttest_main: 1.255981e-03\n"
     ]
    },
    {
     "name": "stdout",
     "output_type": "stream",
     "text": [
      "[65/100]\ttest_main: 0.001709\r"
     ]
    },
    {
     "name": "stderr",
     "output_type": "stream",
     "text": [
      "[default |INFO|<ipython-input-38-9e011345e519>:186] [5/40]\ttrain_main: 8.753754e-04\ttest_main: 1.269023e-03\n"
     ]
    },
    {
     "name": "stdout",
     "output_type": "stream",
     "text": [
      "[67/100]\ttest_main: 0.001508\r"
     ]
    },
    {
     "name": "stderr",
     "output_type": "stream",
     "text": [
      "[default |INFO|<ipython-input-38-9e011345e519>:186] [6/40]\ttrain_main: 7.677241e-04\ttest_main: 1.152738e-03\n"
     ]
    },
    {
     "name": "stdout",
     "output_type": "stream",
     "text": [
      "[67/100]\ttest_main: 0.001307\r"
     ]
    },
    {
     "name": "stderr",
     "output_type": "stream",
     "text": [
      "[default |INFO|<ipython-input-38-9e011345e519>:186] [7/40]\ttrain_main: 6.826462e-04\ttest_main: 1.036847e-03\n"
     ]
    },
    {
     "name": "stdout",
     "output_type": "stream",
     "text": [
      "[68/100]\ttest_main: 0.001406\r"
     ]
    },
    {
     "name": "stderr",
     "output_type": "stream",
     "text": [
      "[default |INFO|<ipython-input-38-9e011345e519>:186] [8/40]\ttrain_main: 5.774166e-04\ttest_main: 1.067348e-03\n"
     ]
    },
    {
     "name": "stdout",
     "output_type": "stream",
     "text": [
      "[67/100]\ttest_main: 0.001305\r"
     ]
    },
    {
     "name": "stderr",
     "output_type": "stream",
     "text": [
      "[default |INFO|<ipython-input-38-9e011345e519>:186] [9/40]\ttrain_main: 5.382020e-04\ttest_main: 1.008217e-03\n"
     ]
    },
    {
     "name": "stdout",
     "output_type": "stream",
     "text": [
      "[67/100]\ttest_main: 0.001705\r"
     ]
    },
    {
     "name": "stderr",
     "output_type": "stream",
     "text": [
      "[default |INFO|<ipython-input-38-9e011345e519>:186] [10/40]\ttrain_main: 4.901054e-04\ttest_main: 1.226150e-03\n"
     ]
    },
    {
     "name": "stdout",
     "output_type": "stream",
     "text": [
      "[68/100]\ttest_main: 0.001504\r"
     ]
    },
    {
     "name": "stderr",
     "output_type": "stream",
     "text": [
      "[default |INFO|<ipython-input-38-9e011345e519>:186] [11/40]\ttrain_main: 3.539226e-04\ttest_main: 1.198155e-03\n"
     ]
    },
    {
     "name": "stdout",
     "output_type": "stream",
     "text": [
      "[68/100]\ttest_main: 0.001404\r"
     ]
    },
    {
     "name": "stderr",
     "output_type": "stream",
     "text": [
      "[default |INFO|<ipython-input-38-9e011345e519>:186] [12/40]\ttrain_main: 4.286752e-04\ttest_main: 1.090728e-03\n"
     ]
    },
    {
     "name": "stdout",
     "output_type": "stream",
     "text": [
      "[67/100]\ttest_main: 0.001804\r"
     ]
    },
    {
     "name": "stderr",
     "output_type": "stream",
     "text": [
      "[default |INFO|<ipython-input-38-9e011345e519>:186] [13/40]\ttrain_main: 4.053624e-04\ttest_main: 1.347016e-03\n"
     ]
    },
    {
     "name": "stdout",
     "output_type": "stream",
     "text": [
      "[67/100]\ttest_main: 0.001603\r"
     ]
    },
    {
     "name": "stderr",
     "output_type": "stream",
     "text": [
      "[default |INFO|<ipython-input-38-9e011345e519>:186] [14/40]\ttrain_main: 3.067185e-04\ttest_main: 1.232146e-03\n"
     ]
    },
    {
     "name": "stdout",
     "output_type": "stream",
     "text": [
      "[67/100]\ttest_main: 0.001503\r"
     ]
    },
    {
     "name": "stderr",
     "output_type": "stream",
     "text": [
      "[default |INFO|<ipython-input-38-9e011345e519>:186] [15/40]\ttrain_main: 2.831184e-04\ttest_main: 1.069254e-03\n"
     ]
    },
    {
     "name": "stdout",
     "output_type": "stream",
     "text": [
      "[68/100]\ttest_main: 0.001403\r"
     ]
    },
    {
     "name": "stderr",
     "output_type": "stream",
     "text": [
      "[default |INFO|<ipython-input-38-9e011345e519>:186] [16/40]\ttrain_main: 3.156687e-04\ttest_main: 1.121161e-03\n"
     ]
    },
    {
     "name": "stdout",
     "output_type": "stream",
     "text": [
      "[67/100]\ttest_main: 0.001403\r"
     ]
    },
    {
     "name": "stderr",
     "output_type": "stream",
     "text": [
      "[default |INFO|<ipython-input-38-9e011345e519>:186] [17/40]\ttrain_main: 2.619827e-04\ttest_main: 1.044001e-03\n"
     ]
    },
    {
     "name": "stdout",
     "output_type": "stream",
     "text": [
      "[67/100]\ttest_main: 0.001402\r"
     ]
    },
    {
     "name": "stderr",
     "output_type": "stream",
     "text": [
      "[default |INFO|<ipython-input-38-9e011345e519>:186] [18/40]\ttrain_main: 2.414495e-04\ttest_main: 1.086406e-03\n"
     ]
    },
    {
     "name": "stdout",
     "output_type": "stream",
     "text": [
      "[67/100]\ttest_main: 0.001303\r"
     ]
    },
    {
     "name": "stderr",
     "output_type": "stream",
     "text": [
      "[default |INFO|<ipython-input-38-9e011345e519>:186] [19/40]\ttrain_main: 2.722908e-04\ttest_main: 9.300032e-04\n"
     ]
    },
    {
     "name": "stdout",
     "output_type": "stream",
     "text": [
      "[67/100]\ttest_main: 0.001502\r"
     ]
    },
    {
     "name": "stderr",
     "output_type": "stream",
     "text": [
      "[default |INFO|<ipython-input-38-9e011345e519>:186] [20/40]\ttrain_main: 1.939653e-04\ttest_main: 1.121564e-03\n"
     ]
    },
    {
     "name": "stdout",
     "output_type": "stream",
     "text": [
      "[67/100]\ttest_main: 0.001202\r"
     ]
    },
    {
     "name": "stderr",
     "output_type": "stream",
     "text": [
      "[default |INFO|<ipython-input-38-9e011345e519>:186] [21/40]\ttrain_main: 1.994157e-04\ttest_main: 9.408824e-04\n"
     ]
    },
    {
     "name": "stdout",
     "output_type": "stream",
     "text": [
      "[67/100]\ttest_main: 0.001502\r"
     ]
    },
    {
     "name": "stderr",
     "output_type": "stream",
     "text": [
      "[default |INFO|<ipython-input-38-9e011345e519>:186] [22/40]\ttrain_main: 1.764147e-04\ttest_main: 1.077299e-03\n"
     ]
    },
    {
     "name": "stdout",
     "output_type": "stream",
     "text": [
      "[67/100]\ttest_main: 0.001502\r"
     ]
    },
    {
     "name": "stderr",
     "output_type": "stream",
     "text": [
      "[default |INFO|<ipython-input-38-9e011345e519>:186] [23/40]\ttrain_main: 2.284284e-04\ttest_main: 1.127868e-03\n"
     ]
    },
    {
     "name": "stdout",
     "output_type": "stream",
     "text": [
      "[67/100]\ttest_main: 0.001402\r"
     ]
    },
    {
     "name": "stderr",
     "output_type": "stream",
     "text": [
      "[default |INFO|<ipython-input-38-9e011345e519>:186] [24/40]\ttrain_main: 2.303643e-04\ttest_main: 1.089709e-03\n"
     ]
    },
    {
     "name": "stdout",
     "output_type": "stream",
     "text": [
      "[65/100]\ttest_main: 0.001402\r"
     ]
    },
    {
     "name": "stderr",
     "output_type": "stream",
     "text": [
      "[default |INFO|<ipython-input-38-9e011345e519>:186] [25/40]\ttrain_main: 2.315841e-04\ttest_main: 9.889146e-04\n"
     ]
    },
    {
     "name": "stdout",
     "output_type": "stream",
     "text": [
      "[67/100]\ttest_main: 0.001302\r"
     ]
    },
    {
     "name": "stderr",
     "output_type": "stream",
     "text": [
      "[default |INFO|<ipython-input-38-9e011345e519>:186] [26/40]\ttrain_main: 1.592319e-04\ttest_main: 9.313517e-04\n"
     ]
    },
    {
     "name": "stdout",
     "output_type": "stream",
     "text": [
      "[67/100]\ttest_main: 0.001401\r"
     ]
    },
    {
     "name": "stderr",
     "output_type": "stream",
     "text": [
      "[default |INFO|<ipython-input-38-9e011345e519>:186] [27/40]\ttrain_main: 1.465711e-04\ttest_main: 1.095978e-03\n"
     ]
    },
    {
     "name": "stdout",
     "output_type": "stream",
     "text": [
      "[67/100]\ttest_main: 0.001302\r"
     ]
    },
    {
     "name": "stderr",
     "output_type": "stream",
     "text": [
      "[default |INFO|<ipython-input-38-9e011345e519>:186] [28/40]\ttrain_main: 1.638494e-04\ttest_main: 1.014288e-03\n"
     ]
    },
    {
     "name": "stdout",
     "output_type": "stream",
     "text": [
      "[67/100]\ttest_main: 0.001502\r"
     ]
    },
    {
     "name": "stderr",
     "output_type": "stream",
     "text": [
      "[default |INFO|<ipython-input-38-9e011345e519>:186] [29/40]\ttrain_main: 1.540917e-04\ttest_main: 1.149614e-03\n"
     ]
    },
    {
     "name": "stdout",
     "output_type": "stream",
     "text": [
      "[66/100]\ttest_main: 0.001202\r"
     ]
    },
    {
     "name": "stderr",
     "output_type": "stream",
     "text": [
      "[default |INFO|<ipython-input-38-9e011345e519>:186] [30/40]\ttrain_main: 1.928252e-04\ttest_main: 8.625191e-04\n"
     ]
    },
    {
     "name": "stdout",
     "output_type": "stream",
     "text": [
      "[66/100]\ttest_main: 0.001301\r"
     ]
    },
    {
     "name": "stderr",
     "output_type": "stream",
     "text": [
      "[default |INFO|<ipython-input-38-9e011345e519>:186] [31/40]\ttrain_main: 9.338132e-05\ttest_main: 9.323479e-04\n"
     ]
    },
    {
     "name": "stdout",
     "output_type": "stream",
     "text": [
      "[68/100]\ttest_main: 0.001802\r"
     ]
    },
    {
     "name": "stderr",
     "output_type": "stream",
     "text": [
      "[default |INFO|<ipython-input-38-9e011345e519>:186] [32/40]\ttrain_main: 1.820648e-04\ttest_main: 1.317116e-03\n"
     ]
    },
    {
     "name": "stdout",
     "output_type": "stream",
     "text": [
      "[67/100]\ttest_main: 0.001402\r"
     ]
    },
    {
     "name": "stderr",
     "output_type": "stream",
     "text": [
      "[default |INFO|<ipython-input-38-9e011345e519>:186] [33/40]\ttrain_main: 1.607171e-04\ttest_main: 1.034681e-03\n"
     ]
    },
    {
     "name": "stdout",
     "output_type": "stream",
     "text": [
      "[68/100]\ttest_main: 0.001202\r"
     ]
    },
    {
     "name": "stderr",
     "output_type": "stream",
     "text": [
      "[default |INFO|<ipython-input-38-9e011345e519>:186] [34/40]\ttrain_main: 1.675914e-04\ttest_main: 9.005978e-04\n"
     ]
    },
    {
     "name": "stdout",
     "output_type": "stream",
     "text": [
      "[68/100]\ttest_main: 0.001401\r"
     ]
    },
    {
     "name": "stderr",
     "output_type": "stream",
     "text": [
      "[default |INFO|<ipython-input-38-9e011345e519>:186] [35/40]\ttrain_main: 1.074427e-04\ttest_main: 1.005468e-03\n"
     ]
    },
    {
     "name": "stdout",
     "output_type": "stream",
     "text": [
      "[67/100]\ttest_main: 0.001501\r"
     ]
    },
    {
     "name": "stderr",
     "output_type": "stream",
     "text": [
      "[default |INFO|<ipython-input-38-9e011345e519>:186] [36/40]\ttrain_main: 1.221686e-04\ttest_main: 1.103856e-03\n"
     ]
    },
    {
     "name": "stdout",
     "output_type": "stream",
     "text": [
      "[67/100]\ttest_main: 0.001402\r"
     ]
    },
    {
     "name": "stderr",
     "output_type": "stream",
     "text": [
      "[default |INFO|<ipython-input-38-9e011345e519>:186] [37/40]\ttrain_main: 1.621302e-04\ttest_main: 9.988523e-04\n"
     ]
    },
    {
     "name": "stdout",
     "output_type": "stream",
     "text": [
      "[67/100]\ttest_main: 0.001101\r"
     ]
    },
    {
     "name": "stderr",
     "output_type": "stream",
     "text": [
      "[default |INFO|<ipython-input-38-9e011345e519>:186] [38/40]\ttrain_main: 1.193144e-04\ttest_main: 8.491961e-04\n"
     ]
    },
    {
     "name": "stdout",
     "output_type": "stream",
     "text": [
      "[67/100]\ttest_main: 0.001301\r"
     ]
    },
    {
     "name": "stderr",
     "output_type": "stream",
     "text": [
      "[default |INFO|<ipython-input-38-9e011345e519>:186] [39/40]\ttrain_main: 1.129870e-04\ttest_main: 9.250285e-04\n"
     ]
    },
    {
     "name": "stdout",
     "output_type": "stream",
     "text": [
      "[68/100]\ttest_main: 0.001301\r"
     ]
    },
    {
     "name": "stderr",
     "output_type": "stream",
     "text": [
      "[default |INFO|<ipython-input-38-9e011345e519>:186] [40/40]\ttrain_main: 9.006116e-05\ttest_main: 1.032913e-03\n",
      "[default |INFO|<ipython-input-38-9e011345e519>:191] Training Finished!\n",
      "[default |INFO|<ipython-input-38-9e011345e519>:192] Elapsed time: 272.032s\n"
     ]
    },
    {
     "name": "stdout",
     "output_type": "stream",
     "text": [
      "[69/100]\ttest_main: 0.0013\r",
      "[70/100]\ttest_main: 0.0013\r",
      "[71/100]\ttest_main: 0.0013\r",
      "[72/100]\ttest_main: 0.0013\r",
      "[73/100]\ttest_main: 0.0012\r",
      "[74/100]\ttest_main: 0.0012\r",
      "[75/100]\ttest_main: 0.0012\r",
      "[76/100]\ttest_main: 0.0012\r",
      "[77/100]\ttest_main: 0.0012\r",
      "[78/100]\ttest_main: 0.0012\r",
      "[79/100]\ttest_main: 0.0012\r",
      "[80/100]\ttest_main: 0.0012\r",
      "[81/100]\ttest_main: 0.0011\r",
      "[82/100]\ttest_main: 0.0011\r",
      "[83/100]\ttest_main: 0.0011\r",
      "[84/100]\ttest_main: 0.0011\r",
      "[85/100]\ttest_main: 0.0011\r",
      "[86/100]\ttest_main: 0.0011\r",
      "[87/100]\ttest_main: 0.0011\r",
      "[88/100]\ttest_main: 0.0011\r",
      "[89/100]\ttest_main: 0.0011\r",
      "[90/100]\ttest_main: 0.0011\r",
      "[91/100]\ttest_main: 0.0010\r",
      "[92/100]\ttest_main: 0.0010\r",
      "[93/100]\ttest_main: 0.0010\r",
      "[94/100]\ttest_main: 0.0010\r",
      "[95/100]\ttest_main: 0.0010\r",
      "[96/100]\ttest_main: 0.0010\r",
      "[97/100]\ttest_main: 0.0010\r",
      "[98/100]\ttest_main: 0.0010\r",
      "[99/100]\ttest_main: 0.0010\r"
     ]
    }
   ],
   "source": [
    "model = CNN_MNIST(cfg, log, device = device)\n",
    "model.train()\n",
    "# model.train(resume = True)"
   ]
  },
  {
   "cell_type": "code",
   "execution_count": 56,
   "metadata": {},
   "outputs": [],
   "source": [
    "from XAE.dataset import MNIST\n",
    "\n",
    "batch_size = 100\n",
    "test_data = MNIST(cfg['path_info']['data_home'], train = False, label = True)\n",
    "test_generator = torch.utils.data.DataLoader(test_data, batch_size, num_workers = 5, shuffle = False, pin_memory=True, drop_last=True)\n",
    "\n",
    "res = []\n",
    "for data in test_generator:\n",
    "    predicted = model(data[0].to(device)).cpu().detach()\n",
    "    pred_label = torch.topk(predicted, 2, dim=1)[1]\n",
    "    actual_label = torch.max(data[1],1)[1]\n",
    "    for i, j in zip(pred_label, actual_label):\n",
    "        if j in i :\n",
    "            res.append((i,j))\n"
   ]
  },
  {
   "cell_type": "code",
   "execution_count": 77,
   "metadata": {},
   "outputs": [
    {
     "name": "stdout",
     "output_type": "stream",
     "text": [
      "0 0\n",
      "1 0\n",
      "2 0\n",
      "3 0\n",
      "4 5\n",
      "5 0\n",
      "6 0\n",
      "7 1\n",
      "8 1\n",
      "9 996\n"
     ]
    }
   ],
   "source": [
    "n=[]\n",
    "for i in res:\n",
    "    if 9 == i[0][0]:\n",
    "        n.append(i[1].numpy())\n",
    "\n",
    "for i in range(10):\n",
    "    print(i, n.count(i))\n"
   ]
  },
  {
   "cell_type": "code",
   "execution_count": null,
   "metadata": {},
   "outputs": [],
   "source": []
  }
 ],
 "metadata": {
  "kernelspec": {
   "display_name": "Python 3",
   "language": "python",
   "name": "python3"
  },
  "language_info": {
   "codemirror_mode": {
    "name": "ipython",
    "version": 3
   },
   "file_extension": ".py",
   "mimetype": "text/x-python",
   "name": "python",
   "nbconvert_exporter": "python",
   "pygments_lexer": "ipython3",
   "version": "3.8.5"
  }
 },
 "nbformat": 4,
 "nbformat_minor": 4
}
