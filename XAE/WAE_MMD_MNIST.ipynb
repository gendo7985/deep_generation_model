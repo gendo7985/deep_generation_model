{
 "cells": [
  {
   "cell_type": "code",
   "execution_count": 1,
   "metadata": {},
   "outputs": [],
   "source": [
    "import os, sys, logging, configparser\n",
    "# sys.path.append('/'.join(os.getcwd().split('/')[:-2]))\n",
    "\n",
    "import warnings\n",
    "warnings.filterwarnings(\"ignore\")\n",
    "os.environ['CUDA_VISIBLE_DEVICES']='1'\n",
    "\n",
    "import torch\n",
    "from tensorboardX import SummaryWriter\n",
    "from model.train_MMD_MNIST import WAE_MMD_MNIST\n",
    "from XAE.logging_daily import logging_daily"
   ]
  },
  {
   "cell_type": "code",
   "execution_count": 2,
   "metadata": {},
   "outputs": [
    {
     "data": {
      "text/plain": [
       "['./config/train_config_MMD_MNIST.cfg']"
      ]
     },
     "execution_count": 2,
     "metadata": {},
     "output_type": "execute_result"
    }
   ],
   "source": [
    "is_cuda = torch.cuda.is_available()\n",
    "device = torch.device('cuda' if is_cuda else 'cpu')\n",
    "\n",
    "logger = logging_daily('./config/log_info.yaml')\n",
    "log = logger.get_logging()\n",
    "log.setLevel(logging.INFO)\n",
    "\n",
    "cfg = configparser.ConfigParser()\n",
    "cfg.read('./config/train_config_MMD_MNIST.cfg')"
   ]
  },
  {
   "cell_type": "code",
   "execution_count": 3,
   "metadata": {
    "scrolled": false
   },
   "outputs": [
    {
     "name": "stderr",
     "output_type": "stream",
     "text": [
      "[default |INFO|_base_model.py:13] ------------------------------------------------------------\n",
      "[default |INFO|_base_model.py:15] model_name : WAE_MMD_MNIST\n",
      "[default |INFO|_base_model.py:15] train_data : MNIST\n",
      "[default |INFO|_base_model.py:15] z_sampler : gaus\n",
      "[default |INFO|_base_model.py:15] z_dim : 8\n",
      "[default |INFO|_base_model.py:15] prob_enc : False\n",
      "[default |INFO|_base_model.py:15] encoder_pretrain : False\n",
      "[default |INFO|_base_model.py:15] encoder_pretrain_batch_size : 1000,\n",
      "[default |INFO|_base_model.py:15] encoder_pretrain_max_step : 200,\n",
      "[default |INFO|_base_model.py:15] lr : 1e-3\n",
      "[default |INFO|_base_model.py:15] beta1 : 0.9\n",
      "[default |INFO|_base_model.py:15] lambda : 10.0\n",
      "[default |INFO|_base_model.py:15] lr_schedule : manual\n",
      "[default |INFO|_base_model.py:15] validate : True\n",
      "[default |INFO|_base_model.py:15] histogram : True\n",
      "[default |INFO|_base_model.py:15] batch_size : 100\n",
      "[default |INFO|_base_model.py:15] epoch : 10\n",
      "[default |INFO|_base_model.py:15] replace : True\n",
      "[default |INFO|_base_model.py:15] iter_per_epoch : 100\n",
      "[default |INFO|_base_model.py:15] save_best : False\n",
      "[default |INFO|_base_model.py:18] data_home : ./data/MNIST\n",
      "[default |INFO|_base_model.py:18] tb_logs : ./result/tb_logs/train_base\n",
      "[default |INFO|_base_model.py:18] save_path : ./result/weights/weight_MMD_MNIST.pt\n",
      "[default |INFO|_base_model.py:18] save_state : ./result/states/state_MMD_MNIST.pt\n",
      "[default |INFO|_base_model.py:18] save_img_path : ./result/plots/MMD_MNIST\n",
      "[default |INFO|model.py:78] ------------------------------------------------------------\n",
      "[default |INFO|model.py:79] Training Start!\n"
     ]
    },
    {
     "name": "stdout",
     "output_type": "stream",
     "text": [
      "[98/100]\ttest_mse: 0.2105\ttest_penalty: 0.1008375\r"
     ]
    },
    {
     "name": "stderr",
     "output_type": "stream",
     "text": [
      "[default |INFO|model.py:149] [1/10]\ttrain_mse: 2.752530e-01\ttrain_penalty: 3.375412e-01\ttest_mse: 2.105249e-01\ttest_penalty: 1.006611e-01\n"
     ]
    },
    {
     "name": "stdout",
     "output_type": "stream",
     "text": [
      "warning: Embedding dir exists, did you set global_step for add_embedding()?\n",
      "[98/100]\ttest_mse: 0.1986\ttest_penalty: 0.0831792\r"
     ]
    },
    {
     "name": "stderr",
     "output_type": "stream",
     "text": [
      "[default |INFO|model.py:149] [2/10]\ttrain_mse: 2.036713e-01\ttrain_penalty: 7.916484e-02\ttest_mse: 1.986389e-01\ttest_penalty: 8.304667e-02\n"
     ]
    },
    {
     "name": "stdout",
     "output_type": "stream",
     "text": [
      "warning: Embedding dir exists, did you set global_step for add_embedding()?\n",
      "[98/100]\ttest_mse: 0.1786\ttest_penalty: 0.0340429\r"
     ]
    },
    {
     "name": "stderr",
     "output_type": "stream",
     "text": [
      "[default |INFO|model.py:149] [3/10]\ttrain_mse: 1.786663e-01\ttrain_penalty: 4.289276e-02\ttest_mse: 1.785782e-01\ttest_penalty: 3.397556e-02\n"
     ]
    },
    {
     "name": "stdout",
     "output_type": "stream",
     "text": [
      "warning: Embedding dir exists, did you set global_step for add_embedding()?\n",
      "[98/100]\ttest_mse: 0.1658\ttest_penalty: 0.0338208\r"
     ]
    },
    {
     "name": "stderr",
     "output_type": "stream",
     "text": [
      "[default |INFO|model.py:149] [4/10]\ttrain_mse: 1.646201e-01\ttrain_penalty: 2.084991e-02\ttest_mse: 1.657483e-01\ttest_penalty: 3.361309e-02\n"
     ]
    },
    {
     "name": "stdout",
     "output_type": "stream",
     "text": [
      "warning: Embedding dir exists, did you set global_step for add_embedding()?\n",
      "[98/100]\ttest_mse: 0.1547\ttest_penalty: 0.0187128\r"
     ]
    },
    {
     "name": "stderr",
     "output_type": "stream",
     "text": [
      "[default |INFO|model.py:149] [5/10]\ttrain_mse: 1.503959e-01\ttrain_penalty: 1.278195e-02\ttest_mse: 1.547645e-01\ttest_penalty: 1.882452e-02\n"
     ]
    },
    {
     "name": "stdout",
     "output_type": "stream",
     "text": [
      "warning: Embedding dir exists, did you set global_step for add_embedding()?\n",
      "[98/100]\ttest_mse: 0.1478\ttest_penalty: 0.0101737\r"
     ]
    },
    {
     "name": "stderr",
     "output_type": "stream",
     "text": [
      "[default |INFO|model.py:149] [6/10]\ttrain_mse: 1.394209e-01\ttrain_penalty: 3.728809e-03\ttest_mse: 1.479635e-01\ttest_penalty: 1.004313e-02\n"
     ]
    },
    {
     "name": "stdout",
     "output_type": "stream",
     "text": [
      "warning: Embedding dir exists, did you set global_step for add_embedding()?\n",
      "[98/100]\ttest_mse: 0.1412\ttest_penalty: 0.00571048\r"
     ]
    },
    {
     "name": "stderr",
     "output_type": "stream",
     "text": [
      "[default |INFO|model.py:149] [7/10]\ttrain_mse: 1.324025e-01\ttrain_penalty: -4.761319e-03\ttest_mse: 1.413462e-01\ttest_penalty: 5.747991e-03\n"
     ]
    },
    {
     "name": "stdout",
     "output_type": "stream",
     "text": [
      "[98/100]\ttest_mse: 0.1380\ttest_penalty: 0.00271056\r"
     ]
    },
    {
     "name": "stderr",
     "output_type": "stream",
     "text": [
      "[default |INFO|model.py:149] [8/10]\ttrain_mse: 1.269566e-01\ttrain_penalty: -5.613093e-03\ttest_mse: 1.380969e-01\ttest_penalty: 2.639761e-03\n"
     ]
    },
    {
     "name": "stdout",
     "output_type": "stream",
     "text": [
      "[98/100]\ttest_mse: 0.1412\ttest_penalty: 0.00593054\r"
     ]
    },
    {
     "name": "stderr",
     "output_type": "stream",
     "text": [
      "[default |INFO|model.py:149] [9/10]\ttrain_mse: 1.221508e-01\ttrain_penalty: -5.371242e-03\ttest_mse: 1.412401e-01\ttest_penalty: 5.904727e-03\n"
     ]
    },
    {
     "name": "stdout",
     "output_type": "stream",
     "text": [
      "[98/100]\ttest_mse: 0.1348\ttest_penalty: 0.01160030\r"
     ]
    },
    {
     "name": "stderr",
     "output_type": "stream",
     "text": [
      "[default |INFO|model.py:149] [10/10]\ttrain_mse: 1.200801e-01\ttrain_penalty: -2.992210e-03\ttest_mse: 1.350009e-01\ttest_penalty: 1.165897e-02\n"
     ]
    },
    {
     "name": "stdout",
     "output_type": "stream",
     "text": [
      "[99/100]\ttest_mse: 0.1350\ttest_penalty: 0.0117\r"
     ]
    },
    {
     "name": "stderr",
     "output_type": "stream",
     "text": [
      "[default |INFO|model.py:214] Training Finished!\n",
      "[default |INFO|model.py:215] Elapsed time: 2128.774s\n"
     ]
    }
   ],
   "source": [
    "model = WAE_MMD_MNIST(cfg, log, device = device)\n",
    "model.train()\n",
    "# model.train(resume = True)"
   ]
  },
  {
   "cell_type": "code",
   "execution_count": null,
   "metadata": {},
   "outputs": [],
   "source": []
  }
 ],
 "metadata": {
  "kernelspec": {
   "display_name": "Python 3",
   "language": "python",
   "name": "python3"
  },
  "language_info": {
   "codemirror_mode": {
    "name": "ipython",
    "version": 3
   },
   "file_extension": ".py",
   "mimetype": "text/x-python",
   "name": "python",
   "nbconvert_exporter": "python",
   "pygments_lexer": "ipython3",
   "version": "3.8.5"
  }
 },
 "nbformat": 4,
 "nbformat_minor": 4
}
