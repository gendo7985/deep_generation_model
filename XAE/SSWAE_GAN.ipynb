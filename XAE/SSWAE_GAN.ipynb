{
 "cells": [
  {
   "cell_type": "markdown",
   "metadata": {},
   "source": [
    "## Result table"
   ]
  },
  {
   "cell_type": "markdown",
   "metadata": {},
   "source": [
    "#### 1. labeled / unlabeled (Test: 2, Batch1 = 50, Batch2 = 100)\n",
    "|labeled|unlabeled|Accuracy(%)|Random(%)|\n",
    "|---|---|---|---|\n",
    "|<font color='gray'>0123456</font>**78**<font color='gray'>9</font>|**01**<font color='gray'>2</font>**3456**<font color='gray'>78</font>**9**|62.4|33.3|\n",
    "|**01**<font color='gray'>23456</font>**789**|<font color='gray'>012</font>**3456**<font color='gray'>789</font>|32.0|16.7|\n",
    "|**01**<font color='gray'>2</font>**3456**<font color='gray'>78</font>**9**|<font color='gray'>0123456</font>**78**<font color='gray'>9</font>|27.8|14.3|\n",
    "|<font color='gray'>012</font>**3456**<font color='gray'>789</font>|**01**<font color='gray'>23456</font>**789**|20.4|20.0|\n"
   ]
  },
  {
   "cell_type": "markdown",
   "metadata": {},
   "source": [
    "#### 2. Batch size (labeled:<font color='gray'>0123456</font>**78**<font color='gray'>9</font>, unlabeled: **01**<font color='gray'>2</font>**3456**<font color='gray'>78</font>**9**, Test: 2)\n",
    "|Batch1|Batch2|B1/# : B2/#|Accuracy|\n",
    "|---|---|---|---|\n",
    "|100|50|9.0 : 1|65.8|\n",
    "|100|100|4.5 : 1|79.5|\n",
    "|50|100|2.2 : 1|62.4|\n",
    "|25|100|1.1 : 1|60.4|"
   ]
  },
  {
   "cell_type": "markdown",
   "metadata": {},
   "source": [
    "#### 2-1. Batch size (labeled: **01**<font color='gray'>23456</font>**789**, unlabeled: <font color='gray'>012</font>**3456**<font color='gray'>789</font>, Test: 2)\n",
    "\n",
    "|Batch1|Batch2|B1/# : B2/#|Accuracy|\n",
    "|---|---|---|---|\n",
    "|100|25|7.2 : 1|34.6|\n",
    "|100|50|3.6 : 1|42.5|\n",
    "|100|100|1.8 : 1|35.9|\n",
    "|50|100|0.9 : 1|32.0|"
   ]
  },
  {
   "cell_type": "markdown",
   "metadata": {},
   "source": [
    "#### 2-2. Batch size (labeled: <font color='gray'>0</font>**1**<font color='gray'>2</font>**3**<font color='gray'>4</font>**5**<font color='gray'>6789</font>, unlabeled: **0**<font color='gray'>123</font>**4**<font color='gray'>5</font>**6789**, Test: 2)\n",
    "\n",
    "|Batch1|Batch2|B1/# : B2/#|Accuracy|\n",
    "|---|---|---|---|\n",
    "|100|50|6 : 1|59.2|\n",
    "|100|75|4 : 1|60.6|\n",
    "|100|100|3 : 1|66.0|"
   ]
  },
  {
   "cell_type": "markdown",
   "metadata": {},
   "source": [
    "# SSWAE_GAN\n",
    "\n",
    "## Experiment 1) labeled / unlabeled"
   ]
  },
  {
   "cell_type": "code",
   "execution_count": 1,
   "metadata": {},
   "outputs": [],
   "source": [
    "import os, sys, logging, configparser\n",
    "# sys.path.append('/'.join(os.getcwd().split('/')[:-2]))\n",
    "\n",
    "import warnings\n",
    "warnings.filterwarnings(\"ignore\")\n",
    "#os.environ['CUDA_VISIBLE_DEVICES']='1'\n",
    "\n",
    "import torch\n",
    "from tensorboardX import SummaryWriter\n",
    "from XAE.logging_daily import logging_daily\n",
    "\n",
    "is_cuda = torch.cuda.is_available()\n",
    "device = torch.device('cuda' if is_cuda else 'cpu')\n",
    "\n",
    "logger = logging_daily('./config/log_info.yaml')\n",
    "log = logger.get_logging()\n",
    "log.setLevel(logging.INFO)"
   ]
  },
  {
   "cell_type": "markdown",
   "metadata": {},
   "source": [
    "### Case 1. Test(2), unlabeled(<u>7</u>, <u>8</u>)"
   ]
  },
  {
   "cell_type": "code",
   "execution_count": 2,
   "metadata": {},
   "outputs": [
    {
     "data": {
      "text/plain": [
       "['./config/train_config_sswae_gan1.cfg']"
      ]
     },
     "execution_count": 2,
     "metadata": {},
     "output_type": "execute_result"
    }
   ],
   "source": [
    "from model.sswae_gan import SSWAE_GAN_MNIST\n",
    "\n",
    "cfg = configparser.ConfigParser()\n",
    "cfg.read('./config/train_config_sswae_gan1.cfg')"
   ]
  },
  {
   "cell_type": "code",
   "execution_count": 3,
   "metadata": {
    "collapsed": true
   },
   "outputs": [
    {
     "name": "stderr",
     "output_type": "stream",
     "text": [
      "[default |INFO|_base_model.py:25] ------------------------------------------------------------\n",
      "[default |INFO|_base_model.py:27] model_name : SSWAE_GAN_MNIST\n",
      "[default |INFO|_base_model.py:27] train_data : rmMNIST\n",
      "[default |INFO|_base_model.py:27] train_data_label : True\n",
      "[default |INFO|_base_model.py:27] z_sampler : gaus\n",
      "[default |INFO|_base_model.py:27] z_dim : 6\n",
      "[default |INFO|_base_model.py:27] yz_dim : 2\n",
      "[default |INFO|_base_model.py:27] y_sampler : multinomial\n",
      "[default |INFO|_base_model.py:27] y_dim : 8\n",
      "[default |INFO|_base_model.py:27] labeled_class : 0, 1, 3, 4, 5, 6, 9\n",
      "[default |INFO|_base_model.py:27] unlabeled_class : 7, 8\n",
      "[default |INFO|_base_model.py:27] test_class : 2\n",
      "[default |INFO|_base_model.py:27] classification_weight : \n",
      "[default |INFO|_base_model.py:27] encoder_pretrain : False\n",
      "[default |INFO|_base_model.py:27] lr : 5e-4\n",
      "[default |INFO|_base_model.py:27] beta1 : 0.5\n",
      "[default |INFO|_base_model.py:27] lr_adv : 2e-4\n",
      "[default |INFO|_base_model.py:27] beta1_adv : 0.5\n",
      "[default |INFO|_base_model.py:27] lambda : 10.0\n",
      "[default |INFO|_base_model.py:27] lambda2 : 10.0\n",
      "[default |INFO|_base_model.py:27] lr_schedule : manual\n",
      "[default |INFO|_base_model.py:27] validate : True\n",
      "[default |INFO|_base_model.py:27] histogram : True\n",
      "[default |INFO|_base_model.py:27] batch_size1 : 50\n",
      "[default |INFO|_base_model.py:27] batch_size2 : 100\n",
      "[default |INFO|_base_model.py:27] epoch : 100\n",
      "[default |INFO|_base_model.py:27] replace : False\n",
      "[default |INFO|_base_model.py:27] iter_per_epoch : None\n",
      "[default |INFO|_base_model.py:27] save_best : False\n",
      "[default |INFO|_base_model.py:30] data_home2 : ./data/MNIST\n",
      "[default |INFO|_base_model.py:30] tb_logs : ./result/tb_logs/sswae_gan1\n",
      "[default |INFO|_base_model.py:30] save_path : ./result/weights/sswae_gan1.pt\n",
      "[default |INFO|_base_model.py:30] save_state : ./result/states/state_sswae_gan1.pt\n",
      "[default |INFO|_base_model.py:30] save_img_path : \n",
      "[default |INFO|model.py:877] ------------------------------------------------------------\n",
      "[default |INFO|model.py:878] Training Start!\n"
     ]
    },
    {
     "name": "stdout",
     "output_type": "stream",
     "text": [
      "[575/600]\ttest_main: 0.1642\ttest_main2: 0.3797\ttest_penalty: 0.6871870\r"
     ]
    },
    {
     "name": "stderr",
     "output_type": "stream",
     "text": [
      "[default |INFO|model.py:1005] [600/600]\ttest_main: 0.1641\ttest_main2: 0.3798\ttest_penalty: 0.6871\n"
     ]
    },
    {
     "name": "stdout",
     "output_type": "stream",
     "text": [
      "[578/600]\ttest_main: 0.1403\ttest_main2: 0.2736\ttest_penalty: 0.6992930\r"
     ]
    },
    {
     "name": "stderr",
     "output_type": "stream",
     "text": [
      "[default |INFO|model.py:1005] [600/600]\ttest_main: 0.1403\ttest_main2: 0.2736\ttest_penalty: 0.6992\n"
     ]
    },
    {
     "name": "stdout",
     "output_type": "stream",
     "text": [
      "[575/600]\ttest_main: 0.1210\ttest_main2: 0.1729\ttest_penalty: 0.6931942\r"
     ]
    },
    {
     "name": "stderr",
     "output_type": "stream",
     "text": [
      "[default |INFO|model.py:1005] [600/600]\ttest_main: 0.1210\ttest_main2: 0.1728\ttest_penalty: 0.6931\n"
     ]
    },
    {
     "name": "stdout",
     "output_type": "stream",
     "text": [
      "[578/600]\ttest_main: 0.1228\ttest_main2: 0.1215\ttest_penalty: 0.6914934\r"
     ]
    },
    {
     "name": "stderr",
     "output_type": "stream",
     "text": [
      "[default |INFO|model.py:1005] [600/600]\ttest_main: 0.1227\ttest_main2: 0.1216\ttest_penalty: 0.6914\n"
     ]
    },
    {
     "name": "stdout",
     "output_type": "stream",
     "text": [
      "[577/600]\ttest_main: 0.1451\ttest_main2: 0.0962\ttest_penalty: 0.7055994\r"
     ]
    },
    {
     "name": "stderr",
     "output_type": "stream",
     "text": [
      "[default |INFO|model.py:1005] [600/600]\ttest_main: 0.1452\ttest_main2: 0.0960\ttest_penalty: 0.7055\n"
     ]
    },
    {
     "name": "stdout",
     "output_type": "stream",
     "text": [
      "[600/600]\ttest_main: 0.1284\ttest_main2: 0.0692\ttest_penalty: 0.6438006\r"
     ]
    },
    {
     "name": "stderr",
     "output_type": "stream",
     "text": [
      "[default |INFO|model.py:1005] [600/600]\ttest_main: 0.1284\ttest_main2: 0.0692\ttest_penalty: 0.6438\n"
     ]
    },
    {
     "name": "stdout",
     "output_type": "stream",
     "text": [
      "[578/600]\ttest_main: 0.1361\ttest_main2: 0.0820\ttest_penalty: 0.6818107\r"
     ]
    },
    {
     "name": "stderr",
     "output_type": "stream",
     "text": [
      "[default |INFO|model.py:1005] [600/600]\ttest_main: 0.1363\ttest_main2: 0.0826\ttest_penalty: 0.6819\n"
     ]
    },
    {
     "name": "stdout",
     "output_type": "stream",
     "text": [
      "[577/600]\ttest_main: 0.1193\ttest_main2: 0.0737\ttest_penalty: 0.7014055\r"
     ]
    },
    {
     "name": "stderr",
     "output_type": "stream",
     "text": [
      "[default |INFO|model.py:1005] [600/600]\ttest_main: 0.1193\ttest_main2: 0.0738\ttest_penalty: 0.7013\n"
     ]
    },
    {
     "name": "stdout",
     "output_type": "stream",
     "text": [
      "[578/600]\ttest_main: 0.1188\ttest_main2: 0.0661\ttest_penalty: 0.6935039\r"
     ]
    },
    {
     "name": "stderr",
     "output_type": "stream",
     "text": [
      "[default |INFO|model.py:1005] [600/600]\ttest_main: 0.1189\ttest_main2: 0.0662\ttest_penalty: 0.6935\n"
     ]
    },
    {
     "name": "stdout",
     "output_type": "stream",
     "text": [
      "[578/600]\ttest_main: 0.1184\ttest_main2: 0.0683\ttest_penalty: 0.6771026\r"
     ]
    },
    {
     "name": "stderr",
     "output_type": "stream",
     "text": [
      "[default |INFO|model.py:1005] [600/600]\ttest_main: 0.1185\ttest_main2: 0.0684\ttest_penalty: 0.6771\n"
     ]
    },
    {
     "name": "stdout",
     "output_type": "stream",
     "text": [
      "[578/600]\ttest_main: 0.1141\ttest_main2: 0.0640\ttest_penalty: 0.6570011\r"
     ]
    },
    {
     "name": "stderr",
     "output_type": "stream",
     "text": [
      "[default |INFO|model.py:1005] [600/600]\ttest_main: 0.1141\ttest_main2: 0.0642\ttest_penalty: 0.6571\n"
     ]
    },
    {
     "name": "stdout",
     "output_type": "stream",
     "text": [
      "[578/600]\ttest_main: 0.1238\ttest_main2: 0.0829\ttest_penalty: 0.6963006\r"
     ]
    },
    {
     "name": "stderr",
     "output_type": "stream",
     "text": [
      "[default |INFO|model.py:1005] [600/600]\ttest_main: 0.1238\ttest_main2: 0.0829\ttest_penalty: 0.6962\n"
     ]
    },
    {
     "name": "stdout",
     "output_type": "stream",
     "text": [
      "[577/600]\ttest_main: 0.1211\ttest_main2: 0.0513\ttest_penalty: 0.6319025\r"
     ]
    },
    {
     "name": "stderr",
     "output_type": "stream",
     "text": [
      "[default |INFO|model.py:1005] [600/600]\ttest_main: 0.1212\ttest_main2: 0.0513\ttest_penalty: 0.6319\n"
     ]
    },
    {
     "name": "stdout",
     "output_type": "stream",
     "text": [
      "[600/600]\ttest_main: 0.1145\ttest_main2: 0.0571\ttest_penalty: 0.7077015\r"
     ]
    },
    {
     "name": "stderr",
     "output_type": "stream",
     "text": [
      "[default |INFO|model.py:1005] [600/600]\ttest_main: 0.1145\ttest_main2: 0.0571\ttest_penalty: 0.7077\n"
     ]
    },
    {
     "name": "stdout",
     "output_type": "stream",
     "text": [
      "[578/600]\ttest_main: 0.1125\ttest_main2: 0.0863\ttest_penalty: 0.6876037\r"
     ]
    },
    {
     "name": "stderr",
     "output_type": "stream",
     "text": [
      "[default |INFO|model.py:1005] [600/600]\ttest_main: 0.1125\ttest_main2: 0.0863\ttest_penalty: 0.6876\n"
     ]
    },
    {
     "name": "stdout",
     "output_type": "stream",
     "text": [
      "[578/600]\ttest_main: 0.1144\ttest_main2: 0.0744\ttest_penalty: 0.6946049\r"
     ]
    },
    {
     "name": "stderr",
     "output_type": "stream",
     "text": [
      "[default |INFO|model.py:1005] [600/600]\ttest_main: 0.1144\ttest_main2: 0.0744\ttest_penalty: 0.6946\n"
     ]
    },
    {
     "name": "stdout",
     "output_type": "stream",
     "text": [
      "[578/600]\ttest_main: 0.1154\ttest_main2: 0.0942\ttest_penalty: 0.7257070\r"
     ]
    },
    {
     "name": "stderr",
     "output_type": "stream",
     "text": [
      "[default |INFO|model.py:1005] [600/600]\ttest_main: 0.1155\ttest_main2: 0.0940\ttest_penalty: 0.7256\n"
     ]
    },
    {
     "name": "stdout",
     "output_type": "stream",
     "text": [
      "[600/600]\ttest_main: 0.1127\ttest_main2: 0.0837\ttest_penalty: 0.6969071\r"
     ]
    },
    {
     "name": "stderr",
     "output_type": "stream",
     "text": [
      "[default |INFO|model.py:1005] [600/600]\ttest_main: 0.1127\ttest_main2: 0.0837\ttest_penalty: 0.6969\n"
     ]
    },
    {
     "name": "stdout",
     "output_type": "stream",
     "text": [
      "[578/600]\ttest_main: 0.1091\ttest_main2: 0.0821\ttest_penalty: 0.6585029\r"
     ]
    },
    {
     "name": "stderr",
     "output_type": "stream",
     "text": [
      "[default |INFO|model.py:1005] [600/600]\ttest_main: 0.1090\ttest_main2: 0.0824\ttest_penalty: 0.6585\n"
     ]
    },
    {
     "name": "stdout",
     "output_type": "stream",
     "text": [
      "[577/600]\ttest_main: 0.1115\ttest_main2: 0.0714\ttest_penalty: 0.6610052\r"
     ]
    },
    {
     "name": "stderr",
     "output_type": "stream",
     "text": [
      "[default |INFO|model.py:1005] [600/600]\ttest_main: 0.1115\ttest_main2: 0.0715\ttest_penalty: 0.6610\n"
     ]
    },
    {
     "name": "stdout",
     "output_type": "stream",
     "text": [
      "[600/600]\ttest_main: 0.1128\ttest_main2: 0.0714\ttest_penalty: 0.6827024\r"
     ]
    },
    {
     "name": "stderr",
     "output_type": "stream",
     "text": [
      "[default |INFO|model.py:1005] [600/600]\ttest_main: 0.1128\ttest_main2: 0.0714\ttest_penalty: 0.6827\n"
     ]
    },
    {
     "name": "stdout",
     "output_type": "stream",
     "text": [
      "[576/600]\ttest_main: 0.1083\ttest_main2: 0.0777\ttest_penalty: 0.6991023\r"
     ]
    },
    {
     "name": "stderr",
     "output_type": "stream",
     "text": [
      "[default |INFO|model.py:1005] [600/600]\ttest_main: 0.1084\ttest_main2: 0.0780\ttest_penalty: 0.6992\n"
     ]
    },
    {
     "name": "stdout",
     "output_type": "stream",
     "text": [
      "[578/600]\ttest_main: 0.1084\ttest_main2: 0.0759\ttest_penalty: 0.7327006\r"
     ]
    },
    {
     "name": "stderr",
     "output_type": "stream",
     "text": [
      "[default |INFO|model.py:1005] [600/600]\ttest_main: 0.1085\ttest_main2: 0.0759\ttest_penalty: 0.7327\n"
     ]
    },
    {
     "name": "stdout",
     "output_type": "stream",
     "text": [
      "[600/600]\ttest_main: 0.1082\ttest_main2: 0.0826\ttest_penalty: 0.6781009\r"
     ]
    },
    {
     "name": "stderr",
     "output_type": "stream",
     "text": [
      "[default |INFO|model.py:1005] [600/600]\ttest_main: 0.1082\ttest_main2: 0.0826\ttest_penalty: 0.6781\n"
     ]
    },
    {
     "name": "stdout",
     "output_type": "stream",
     "text": [
      "[578/600]\ttest_main: 0.1071\ttest_main2: 0.0768\ttest_penalty: 0.6611032\r"
     ]
    },
    {
     "name": "stderr",
     "output_type": "stream",
     "text": [
      "[default |INFO|model.py:1005] [600/600]\ttest_main: 0.1071\ttest_main2: 0.0771\ttest_penalty: 0.6611\n"
     ]
    },
    {
     "name": "stdout",
     "output_type": "stream",
     "text": [
      "[600/600]\ttest_main: 0.1041\ttest_main2: 0.0865\ttest_penalty: 0.7040990\r"
     ]
    },
    {
     "name": "stderr",
     "output_type": "stream",
     "text": [
      "[default |INFO|model.py:1005] [600/600]\ttest_main: 0.1041\ttest_main2: 0.0865\ttest_penalty: 0.7040\n"
     ]
    },
    {
     "name": "stdout",
     "output_type": "stream",
     "text": [
      "[578/600]\ttest_main: 0.1061\ttest_main2: 0.0658\ttest_penalty: 0.6829987\r"
     ]
    },
    {
     "name": "stderr",
     "output_type": "stream",
     "text": [
      "[default |INFO|model.py:1005] [600/600]\ttest_main: 0.1061\ttest_main2: 0.0659\ttest_penalty: 0.6830\n"
     ]
    },
    {
     "name": "stdout",
     "output_type": "stream",
     "text": [
      "[577/600]\ttest_main: 0.1072\ttest_main2: 0.0501\ttest_penalty: 0.7002981\r"
     ]
    },
    {
     "name": "stderr",
     "output_type": "stream",
     "text": [
      "[default |INFO|model.py:1005] [600/600]\ttest_main: 0.1074\ttest_main2: 0.0503\ttest_penalty: 0.7002\n"
     ]
    },
    {
     "name": "stdout",
     "output_type": "stream",
     "text": [
      "[578/600]\ttest_main: 0.1023\ttest_main2: 0.0627\ttest_penalty: 0.7013990\r"
     ]
    },
    {
     "name": "stderr",
     "output_type": "stream",
     "text": [
      "[default |INFO|model.py:1005] [600/600]\ttest_main: 0.1023\ttest_main2: 0.0624\ttest_penalty: 0.7013\n"
     ]
    },
    {
     "name": "stdout",
     "output_type": "stream",
     "text": [
      "[577/600]\ttest_main: 0.0997\ttest_main2: 0.0716\ttest_penalty: 0.7189000\r"
     ]
    },
    {
     "name": "stderr",
     "output_type": "stream",
     "text": [
      "[default |INFO|model.py:1005] [600/600]\ttest_main: 0.0997\ttest_main2: 0.0715\ttest_penalty: 0.7189\n"
     ]
    },
    {
     "name": "stdout",
     "output_type": "stream",
     "text": [
      "[577/600]\ttest_main: 0.1065\ttest_main2: 0.0643\ttest_penalty: 0.7169995\r"
     ]
    },
    {
     "name": "stderr",
     "output_type": "stream",
     "text": [
      "[default |INFO|model.py:1005] [600/600]\ttest_main: 0.1066\ttest_main2: 0.0647\ttest_penalty: 0.7169\n"
     ]
    },
    {
     "name": "stdout",
     "output_type": "stream",
     "text": [
      "[578/600]\ttest_main: 0.1026\ttest_main2: 0.0670\ttest_penalty: 0.7202994\r"
     ]
    },
    {
     "name": "stderr",
     "output_type": "stream",
     "text": [
      "[default |INFO|model.py:1005] [600/600]\ttest_main: 0.1026\ttest_main2: 0.0666\ttest_penalty: 0.7202\n"
     ]
    },
    {
     "name": "stdout",
     "output_type": "stream",
     "text": [
      "[578/600]\ttest_main: 0.1066\ttest_main2: 0.0590\ttest_penalty: 0.6845006\r"
     ]
    },
    {
     "name": "stderr",
     "output_type": "stream",
     "text": [
      "[default |INFO|model.py:1005] [600/600]\ttest_main: 0.1066\ttest_main2: 0.0591\ttest_penalty: 0.6845\n"
     ]
    },
    {
     "name": "stdout",
     "output_type": "stream",
     "text": [
      "[578/600]\ttest_main: 0.1053\ttest_main2: 0.0497\ttest_penalty: 0.7053990\r"
     ]
    },
    {
     "name": "stderr",
     "output_type": "stream",
     "text": [
      "[default |INFO|model.py:1005] [600/600]\ttest_main: 0.1054\ttest_main2: 0.0497\ttest_penalty: 0.7053\n"
     ]
    },
    {
     "name": "stdout",
     "output_type": "stream",
     "text": [
      "[578/600]\ttest_main: 0.1070\ttest_main2: 0.0540\ttest_penalty: 0.6838992\r"
     ]
    },
    {
     "name": "stderr",
     "output_type": "stream",
     "text": [
      "[default |INFO|model.py:1005] [600/600]\ttest_main: 0.1071\ttest_main2: 0.0543\ttest_penalty: 0.6837\n"
     ]
    },
    {
     "name": "stdout",
     "output_type": "stream",
     "text": [
      "[600/600]\ttest_main: 0.1022\ttest_main2: 0.0623\ttest_penalty: 0.6912983\r"
     ]
    },
    {
     "name": "stderr",
     "output_type": "stream",
     "text": [
      "[default |INFO|model.py:1005] [600/600]\ttest_main: 0.1022\ttest_main2: 0.0623\ttest_penalty: 0.6912\n"
     ]
    },
    {
     "name": "stdout",
     "output_type": "stream",
     "text": [
      "[592/600]\ttest_main: 0.1062\ttest_main2: 0.0607\ttest_penalty: 0.6889000\r"
     ]
    },
    {
     "name": "stderr",
     "output_type": "stream",
     "text": [
      "[default |INFO|model.py:1005] [600/600]\ttest_main: 0.1062\ttest_main2: 0.0607\ttest_penalty: 0.6889\n"
     ]
    },
    {
     "name": "stdout",
     "output_type": "stream",
     "text": [
      "[598/600]\ttest_main: 0.1075\ttest_main2: 0.0773\ttest_penalty: 0.7076999\r"
     ]
    },
    {
     "name": "stderr",
     "output_type": "stream",
     "text": [
      "[default |INFO|model.py:1005] [600/600]\ttest_main: 0.1075\ttest_main2: 0.0772\ttest_penalty: 0.7076\n"
     ]
    },
    {
     "name": "stdout",
     "output_type": "stream",
     "text": [
      "[592/600]\ttest_main: 0.1074\ttest_main2: 0.0801\ttest_penalty: 0.6885998\r"
     ]
    },
    {
     "name": "stderr",
     "output_type": "stream",
     "text": [
      "[default |INFO|model.py:1005] [600/600]\ttest_main: 0.1074\ttest_main2: 0.0799\ttest_penalty: 0.6885\n"
     ]
    },
    {
     "name": "stdout",
     "output_type": "stream",
     "text": [
      "[578/600]\ttest_main: 0.1050\ttest_main2: 0.0820\ttest_penalty: 0.6815012\r"
     ]
    },
    {
     "name": "stderr",
     "output_type": "stream",
     "text": [
      "[default |INFO|model.py:1005] [600/600]\ttest_main: 0.1051\ttest_main2: 0.0819\ttest_penalty: 0.6816\n"
     ]
    },
    {
     "name": "stdout",
     "output_type": "stream",
     "text": [
      "[578/600]\ttest_main: 0.1066\ttest_main2: 0.0867\ttest_penalty: 0.7061033\r"
     ]
    },
    {
     "name": "stderr",
     "output_type": "stream",
     "text": [
      "[default |INFO|model.py:1005] [600/600]\ttest_main: 0.1066\ttest_main2: 0.0867\ttest_penalty: 0.7061\n"
     ]
    },
    {
     "name": "stdout",
     "output_type": "stream",
     "text": [
      "[598/600]\ttest_main: 0.1030\ttest_main2: 0.0949\ttest_penalty: 0.6861988\r"
     ]
    },
    {
     "name": "stderr",
     "output_type": "stream",
     "text": [
      "[default |INFO|model.py:1005] [600/600]\ttest_main: 0.1030\ttest_main2: 0.0951\ttest_penalty: 0.6861\n"
     ]
    },
    {
     "name": "stdout",
     "output_type": "stream",
     "text": [
      "[595/600]\ttest_main: 0.1047\ttest_main2: 0.0742\ttest_penalty: 0.7038996\r"
     ]
    },
    {
     "name": "stderr",
     "output_type": "stream",
     "text": [
      "[default |INFO|model.py:1005] [600/600]\ttest_main: 0.1048\ttest_main2: 0.0743\ttest_penalty: 0.7038\n"
     ]
    },
    {
     "name": "stdout",
     "output_type": "stream",
     "text": [
      "[600/600]\ttest_main: 0.1042\ttest_main2: 0.0797\ttest_penalty: 0.6988030\r"
     ]
    },
    {
     "name": "stderr",
     "output_type": "stream",
     "text": [
      "[default |INFO|model.py:1005] [600/600]\ttest_main: 0.1042\ttest_main2: 0.0797\ttest_penalty: 0.6988\n"
     ]
    },
    {
     "name": "stdout",
     "output_type": "stream",
     "text": [
      "[592/600]\ttest_main: 0.1066\ttest_main2: 0.0697\ttest_penalty: 0.7100054\r"
     ]
    },
    {
     "name": "stderr",
     "output_type": "stream",
     "text": [
      "[default |INFO|model.py:1005] [600/600]\ttest_main: 0.1066\ttest_main2: 0.0695\ttest_penalty: 0.7100\n"
     ]
    },
    {
     "name": "stdout",
     "output_type": "stream",
     "text": [
      "[586/600]\ttest_main: 0.1083\ttest_main2: 0.0787\ttest_penalty: 0.7248046\r"
     ]
    },
    {
     "name": "stderr",
     "output_type": "stream",
     "text": [
      "[default |INFO|model.py:1005] [600/600]\ttest_main: 0.1083\ttest_main2: 0.0790\ttest_penalty: 0.7247\n"
     ]
    },
    {
     "name": "stdout",
     "output_type": "stream",
     "text": [
      "[592/600]\ttest_main: 0.1051\ttest_main2: 0.1084\ttest_penalty: 0.6936039\r"
     ]
    },
    {
     "name": "stderr",
     "output_type": "stream",
     "text": [
      "[default |INFO|model.py:1005] [600/600]\ttest_main: 0.1052\ttest_main2: 0.1085\ttest_penalty: 0.6936\n"
     ]
    },
    {
     "name": "stdout",
     "output_type": "stream",
     "text": [
      "[600/600]\ttest_main: 0.1129\ttest_main2: 0.0685\ttest_penalty: 0.6765025\r"
     ]
    },
    {
     "name": "stderr",
     "output_type": "stream",
     "text": [
      "[default |INFO|model.py:1005] [600/600]\ttest_main: 0.1129\ttest_main2: 0.0685\ttest_penalty: 0.6765\n"
     ]
    },
    {
     "name": "stdout",
     "output_type": "stream",
     "text": [
      "[600/600]\ttest_main: 0.1073\ttest_main2: 0.0839\ttest_penalty: 0.6596039\r"
     ]
    },
    {
     "name": "stderr",
     "output_type": "stream",
     "text": [
      "[default |INFO|model.py:1005] [600/600]\ttest_main: 0.1073\ttest_main2: 0.0839\ttest_penalty: 0.6596\n"
     ]
    },
    {
     "name": "stdout",
     "output_type": "stream",
     "text": [
      "[600/600]\ttest_main: 0.1096\ttest_main2: 0.0910\ttest_penalty: 0.7008048\r"
     ]
    },
    {
     "name": "stderr",
     "output_type": "stream",
     "text": [
      "[default |INFO|model.py:1005] [600/600]\ttest_main: 0.1096\ttest_main2: 0.0910\ttest_penalty: 0.7008\n"
     ]
    },
    {
     "name": "stdout",
     "output_type": "stream",
     "text": [
      "[600/600]\ttest_main: 0.1091\ttest_main2: 0.0676\ttest_penalty: 0.6731044\r"
     ]
    },
    {
     "name": "stderr",
     "output_type": "stream",
     "text": [
      "[default |INFO|model.py:1005] [600/600]\ttest_main: 0.1091\ttest_main2: 0.0676\ttest_penalty: 0.6731\n"
     ]
    },
    {
     "name": "stdout",
     "output_type": "stream",
     "text": [
      "[586/600]\ttest_main: 0.1045\ttest_main2: 0.0834\ttest_penalty: 0.7277036\r"
     ]
    },
    {
     "name": "stderr",
     "output_type": "stream",
     "text": [
      "[default |INFO|model.py:1005] [600/600]\ttest_main: 0.1047\ttest_main2: 0.0832\ttest_penalty: 0.7276\n"
     ]
    },
    {
     "name": "stdout",
     "output_type": "stream",
     "text": [
      "[598/600]\ttest_main: 0.1019\ttest_main2: 0.0813\ttest_penalty: 0.7144038\r"
     ]
    },
    {
     "name": "stderr",
     "output_type": "stream",
     "text": [
      "[default |INFO|model.py:1005] [600/600]\ttest_main: 0.1019\ttest_main2: 0.0811\ttest_penalty: 0.7144\n"
     ]
    },
    {
     "name": "stdout",
     "output_type": "stream",
     "text": [
      "[600/600]\ttest_main: 0.1059\ttest_main2: 0.0844\ttest_penalty: 0.7159051\r"
     ]
    },
    {
     "name": "stderr",
     "output_type": "stream",
     "text": [
      "[default |INFO|model.py:1005] [600/600]\ttest_main: 0.1059\ttest_main2: 0.0844\ttest_penalty: 0.7159\n"
     ]
    },
    {
     "name": "stdout",
     "output_type": "stream",
     "text": [
      "[600/600]\ttest_main: 0.1085\ttest_main2: 0.0695\ttest_penalty: 0.6789046\r"
     ]
    },
    {
     "name": "stderr",
     "output_type": "stream",
     "text": [
      "[default |INFO|model.py:1005] [600/600]\ttest_main: 0.1085\ttest_main2: 0.0695\ttest_penalty: 0.6789\n"
     ]
    },
    {
     "name": "stdout",
     "output_type": "stream",
     "text": [
      "[598/600]\ttest_main: 0.1035\ttest_main2: 0.0740\ttest_penalty: 0.6813066\r"
     ]
    },
    {
     "name": "stderr",
     "output_type": "stream",
     "text": [
      "[default |INFO|model.py:1005] [600/600]\ttest_main: 0.1035\ttest_main2: 0.0742\ttest_penalty: 0.6813\n"
     ]
    },
    {
     "name": "stdout",
     "output_type": "stream",
     "text": [
      "[600/600]\ttest_main: 0.1071\ttest_main2: 0.0823\ttest_penalty: 0.7035065\r"
     ]
    },
    {
     "name": "stderr",
     "output_type": "stream",
     "text": [
      "[default |INFO|model.py:1005] [600/600]\ttest_main: 0.1071\ttest_main2: 0.0823\ttest_penalty: 0.7035\n"
     ]
    },
    {
     "name": "stdout",
     "output_type": "stream",
     "text": [
      "[600/600]\ttest_main: 0.1070\ttest_main2: 0.0569\ttest_penalty: 0.7069045\r"
     ]
    },
    {
     "name": "stderr",
     "output_type": "stream",
     "text": [
      "[default |INFO|model.py:1005] [600/600]\ttest_main: 0.1070\ttest_main2: 0.0569\ttest_penalty: 0.7069\n"
     ]
    },
    {
     "name": "stdout",
     "output_type": "stream",
     "text": [
      "[586/600]\ttest_main: 0.1082\ttest_main2: 0.0703\ttest_penalty: 0.6851050\r"
     ]
    },
    {
     "name": "stderr",
     "output_type": "stream",
     "text": [
      "[default |INFO|model.py:1005] [600/600]\ttest_main: 0.1081\ttest_main2: 0.0699\ttest_penalty: 0.6851\n"
     ]
    },
    {
     "name": "stdout",
     "output_type": "stream",
     "text": [
      "[600/600]\ttest_main: 0.1031\ttest_main2: 0.0803\ttest_penalty: 0.7324043\r"
     ]
    },
    {
     "name": "stderr",
     "output_type": "stream",
     "text": [
      "[default |INFO|model.py:1005] [600/600]\ttest_main: 0.1031\ttest_main2: 0.0803\ttest_penalty: 0.7324\n"
     ]
    },
    {
     "name": "stdout",
     "output_type": "stream",
     "text": [
      "[590/600]\ttest_main: 0.1097\ttest_main2: 0.0759\ttest_penalty: 0.7141042\r"
     ]
    },
    {
     "name": "stderr",
     "output_type": "stream",
     "text": [
      "[default |INFO|model.py:1005] [600/600]\ttest_main: 0.1097\ttest_main2: 0.0756\ttest_penalty: 0.7141\n"
     ]
    },
    {
     "name": "stdout",
     "output_type": "stream",
     "text": [
      "[579/600]\ttest_main: 0.1087\ttest_main2: 0.0895\ttest_penalty: 0.7188054\r"
     ]
    },
    {
     "name": "stderr",
     "output_type": "stream",
     "text": [
      "[default |INFO|model.py:1005] [600/600]\ttest_main: 0.1086\ttest_main2: 0.0890\ttest_penalty: 0.7188\n"
     ]
    },
    {
     "name": "stdout",
     "output_type": "stream",
     "text": [
      "[600/600]\ttest_main: 0.1051\ttest_main2: 0.0811\ttest_penalty: 0.6733029\r"
     ]
    },
    {
     "name": "stderr",
     "output_type": "stream",
     "text": [
      "[default |INFO|model.py:1005] [600/600]\ttest_main: 0.1051\ttest_main2: 0.0811\ttest_penalty: 0.6733\n"
     ]
    },
    {
     "name": "stdout",
     "output_type": "stream",
     "text": [
      "[600/600]\ttest_main: 0.1053\ttest_main2: 0.0664\ttest_penalty: 0.7141030\r"
     ]
    },
    {
     "name": "stderr",
     "output_type": "stream",
     "text": [
      "[default |INFO|model.py:1005] [600/600]\ttest_main: 0.1053\ttest_main2: 0.0664\ttest_penalty: 0.7141\n"
     ]
    },
    {
     "name": "stdout",
     "output_type": "stream",
     "text": [
      "[575/600]\ttest_main: 0.1099\ttest_main2: 0.0880\ttest_penalty: 0.7229031\r"
     ]
    },
    {
     "name": "stderr",
     "output_type": "stream",
     "text": [
      "[default |INFO|model.py:1005] [600/600]\ttest_main: 0.1099\ttest_main2: 0.0878\ttest_penalty: 0.7229\n"
     ]
    },
    {
     "name": "stdout",
     "output_type": "stream",
     "text": [
      "[600/600]\ttest_main: 0.1065\ttest_main2: 0.0885\ttest_penalty: 0.6621045\r"
     ]
    },
    {
     "name": "stderr",
     "output_type": "stream",
     "text": [
      "[default |INFO|model.py:1005] [600/600]\ttest_main: 0.1065\ttest_main2: 0.0885\ttest_penalty: 0.6621\n"
     ]
    },
    {
     "name": "stdout",
     "output_type": "stream",
     "text": [
      "[600/600]\ttest_main: 0.1099\ttest_main2: 0.0933\ttest_penalty: 0.6595029\r"
     ]
    },
    {
     "name": "stderr",
     "output_type": "stream",
     "text": [
      "[default |INFO|model.py:1005] [600/600]\ttest_main: 0.1099\ttest_main2: 0.0933\ttest_penalty: 0.6595\n"
     ]
    },
    {
     "name": "stdout",
     "output_type": "stream",
     "text": [
      "[600/600]\ttest_main: 0.1105\ttest_main2: 0.1071\ttest_penalty: 0.7160028\r"
     ]
    },
    {
     "name": "stderr",
     "output_type": "stream",
     "text": [
      "[default |INFO|model.py:1005] [600/600]\ttest_main: 0.1105\ttest_main2: 0.1071\ttest_penalty: 0.7160\n"
     ]
    },
    {
     "name": "stdout",
     "output_type": "stream",
     "text": [
      "[576/600]\ttest_main: 0.1092\ttest_main2: 0.0894\ttest_penalty: 0.7267027\r"
     ]
    },
    {
     "name": "stderr",
     "output_type": "stream",
     "text": [
      "[default |INFO|model.py:1005] [600/600]\ttest_main: 0.1092\ttest_main2: 0.0891\ttest_penalty: 0.7266\n"
     ]
    },
    {
     "name": "stdout",
     "output_type": "stream",
     "text": [
      "[600/600]\ttest_main: 0.1104\ttest_main2: 0.0949\ttest_penalty: 0.7001027\r"
     ]
    },
    {
     "name": "stderr",
     "output_type": "stream",
     "text": [
      "[default |INFO|model.py:1005] [600/600]\ttest_main: 0.1104\ttest_main2: 0.0949\ttest_penalty: 0.7001\n"
     ]
    },
    {
     "name": "stdout",
     "output_type": "stream",
     "text": [
      "[600/600]\ttest_main: 0.1097\ttest_main2: 0.1073\ttest_penalty: 0.6940021\r"
     ]
    },
    {
     "name": "stderr",
     "output_type": "stream",
     "text": [
      "[default |INFO|model.py:1005] [600/600]\ttest_main: 0.1097\ttest_main2: 0.1073\ttest_penalty: 0.6940\n"
     ]
    },
    {
     "name": "stdout",
     "output_type": "stream",
     "text": [
      "[600/600]\ttest_main: 0.1098\ttest_main2: 0.1003\ttest_penalty: 0.7020013\r"
     ]
    },
    {
     "name": "stderr",
     "output_type": "stream",
     "text": [
      "[default |INFO|model.py:1005] [600/600]\ttest_main: 0.1098\ttest_main2: 0.1003\ttest_penalty: 0.7020\n"
     ]
    },
    {
     "name": "stdout",
     "output_type": "stream",
     "text": [
      "[600/600]\ttest_main: 0.1089\ttest_main2: 0.0696\ttest_penalty: 0.6954028\r"
     ]
    },
    {
     "name": "stderr",
     "output_type": "stream",
     "text": [
      "[default |INFO|model.py:1005] [600/600]\ttest_main: 0.1089\ttest_main2: 0.0696\ttest_penalty: 0.6954\n"
     ]
    },
    {
     "name": "stdout",
     "output_type": "stream",
     "text": [
      "[600/600]\ttest_main: 0.1090\ttest_main2: 0.1073\ttest_penalty: 0.6998012\r"
     ]
    },
    {
     "name": "stderr",
     "output_type": "stream",
     "text": [
      "[default |INFO|model.py:1005] [600/600]\ttest_main: 0.1090\ttest_main2: 0.1073\ttest_penalty: 0.6998\n"
     ]
    },
    {
     "name": "stdout",
     "output_type": "stream",
     "text": [
      "[576/600]\ttest_main: 0.1085\ttest_main2: 0.0814\ttest_penalty: 0.7103027\r"
     ]
    },
    {
     "name": "stderr",
     "output_type": "stream",
     "text": [
      "[default |INFO|model.py:1005] [600/600]\ttest_main: 0.1085\ttest_main2: 0.0818\ttest_penalty: 0.7102\n"
     ]
    },
    {
     "name": "stdout",
     "output_type": "stream",
     "text": [
      "[600/600]\ttest_main: 0.1091\ttest_main2: 0.0954\ttest_penalty: 0.6866024\r"
     ]
    },
    {
     "name": "stderr",
     "output_type": "stream",
     "text": [
      "[default |INFO|model.py:1005] [600/600]\ttest_main: 0.1091\ttest_main2: 0.0954\ttest_penalty: 0.6866\n"
     ]
    },
    {
     "name": "stdout",
     "output_type": "stream",
     "text": [
      "[600/600]\ttest_main: 0.1102\ttest_main2: 0.0632\ttest_penalty: 0.6967028\r"
     ]
    },
    {
     "name": "stderr",
     "output_type": "stream",
     "text": [
      "[default |INFO|model.py:1005] [600/600]\ttest_main: 0.1102\ttest_main2: 0.0632\ttest_penalty: 0.6967\n"
     ]
    },
    {
     "name": "stdout",
     "output_type": "stream",
     "text": [
      "[597/600]\ttest_main: 0.1056\ttest_main2: 0.0857\ttest_penalty: 0.6692032\r"
     ]
    },
    {
     "name": "stderr",
     "output_type": "stream",
     "text": [
      "[default |INFO|model.py:1005] [600/600]\ttest_main: 0.1057\ttest_main2: 0.0858\ttest_penalty: 0.6692\n"
     ]
    },
    {
     "name": "stdout",
     "output_type": "stream",
     "text": [
      "[593/600]\ttest_main: 0.1035\ttest_main2: 0.0899\ttest_penalty: 0.6685020\r"
     ]
    },
    {
     "name": "stderr",
     "output_type": "stream",
     "text": [
      "[default |INFO|model.py:1005] [600/600]\ttest_main: 0.1035\ttest_main2: 0.0896\ttest_penalty: 0.6685\n"
     ]
    },
    {
     "name": "stdout",
     "output_type": "stream",
     "text": [
      "[590/600]\ttest_main: 0.1021\ttest_main2: 0.0930\ttest_penalty: 0.6990016\r"
     ]
    },
    {
     "name": "stderr",
     "output_type": "stream",
     "text": [
      "[default |INFO|model.py:1005] [600/600]\ttest_main: 0.1021\ttest_main2: 0.0928\ttest_penalty: 0.6990\n"
     ]
    },
    {
     "name": "stdout",
     "output_type": "stream",
     "text": [
      "[594/600]\ttest_main: 0.1041\ttest_main2: 0.1044\ttest_penalty: 0.7072004\r"
     ]
    },
    {
     "name": "stderr",
     "output_type": "stream",
     "text": [
      "[default |INFO|model.py:1005] [600/600]\ttest_main: 0.1041\ttest_main2: 0.1048\ttest_penalty: 0.7072\n"
     ]
    },
    {
     "name": "stdout",
     "output_type": "stream",
     "text": [
      "[600/600]\ttest_main: 0.1050\ttest_main2: 0.0954\ttest_penalty: 0.6957002\r"
     ]
    },
    {
     "name": "stderr",
     "output_type": "stream",
     "text": [
      "[default |INFO|model.py:1005] [600/600]\ttest_main: 0.1050\ttest_main2: 0.0954\ttest_penalty: 0.6957\n"
     ]
    },
    {
     "name": "stdout",
     "output_type": "stream",
     "text": [
      "[581/600]\ttest_main: 0.1052\ttest_main2: 0.0798\ttest_penalty: 0.6804006\r"
     ]
    },
    {
     "name": "stderr",
     "output_type": "stream",
     "text": [
      "[default |INFO|model.py:1005] [600/600]\ttest_main: 0.1052\ttest_main2: 0.0800\ttest_penalty: 0.6805\n"
     ]
    },
    {
     "name": "stdout",
     "output_type": "stream",
     "text": [
      "[576/600]\ttest_main: 0.1056\ttest_main2: 0.0907\ttest_penalty: 0.6952004\r"
     ]
    },
    {
     "name": "stderr",
     "output_type": "stream",
     "text": [
      "[default |INFO|model.py:1005] [600/600]\ttest_main: 0.1056\ttest_main2: 0.0914\ttest_penalty: 0.6952\n"
     ]
    },
    {
     "name": "stdout",
     "output_type": "stream",
     "text": [
      "[578/600]\ttest_main: 0.1056\ttest_main2: 0.0929\ttest_penalty: 0.6836996\r"
     ]
    },
    {
     "name": "stderr",
     "output_type": "stream",
     "text": [
      "[default |INFO|model.py:1005] [600/600]\ttest_main: 0.1057\ttest_main2: 0.0934\ttest_penalty: 0.6836\n"
     ]
    },
    {
     "name": "stdout",
     "output_type": "stream",
     "text": [
      "[600/600]\ttest_main: 0.1034\ttest_main2: 0.1004\ttest_penalty: 0.7057997\r"
     ]
    },
    {
     "name": "stderr",
     "output_type": "stream",
     "text": [
      "[default |INFO|model.py:1005] [600/600]\ttest_main: 0.1034\ttest_main2: 0.1004\ttest_penalty: 0.7057\n"
     ]
    },
    {
     "name": "stdout",
     "output_type": "stream",
     "text": [
      "[573/600]\ttest_main: 0.1039\ttest_main2: 0.0779\ttest_penalty: 0.6769002\r"
     ]
    },
    {
     "name": "stderr",
     "output_type": "stream",
     "text": [
      "[default |INFO|model.py:1005] [600/600]\ttest_main: 0.1041\ttest_main2: 0.0784\ttest_penalty: 0.6769\n"
     ]
    },
    {
     "name": "stdout",
     "output_type": "stream",
     "text": [
      "[577/600]\ttest_main: 0.1052\ttest_main2: 0.0984\ttest_penalty: 0.6927995\r"
     ]
    },
    {
     "name": "stderr",
     "output_type": "stream",
     "text": [
      "[default |INFO|model.py:1005] [600/600]\ttest_main: 0.1052\ttest_main2: 0.0985\ttest_penalty: 0.6928\n"
     ]
    },
    {
     "name": "stdout",
     "output_type": "stream",
     "text": [
      "[600/600]\ttest_main: 0.1063\ttest_main2: 0.0749\ttest_penalty: 0.6862997\r"
     ]
    },
    {
     "name": "stderr",
     "output_type": "stream",
     "text": [
      "[default |INFO|model.py:1005] [600/600]\ttest_main: 0.1063\ttest_main2: 0.0749\ttest_penalty: 0.6862\n"
     ]
    },
    {
     "name": "stdout",
     "output_type": "stream",
     "text": [
      "[575/600]\ttest_main: 0.1038\ttest_main2: 0.0921\ttest_penalty: 0.6564002\r"
     ]
    },
    {
     "name": "stderr",
     "output_type": "stream",
     "text": [
      "[default |INFO|model.py:1005] [600/600]\ttest_main: 0.1039\ttest_main2: 0.0924\ttest_penalty: 0.6564\n"
     ]
    },
    {
     "name": "stdout",
     "output_type": "stream",
     "text": [
      "[578/600]\ttest_main: 0.1024\ttest_main2: 0.0805\ttest_penalty: 0.6874997\r"
     ]
    },
    {
     "name": "stderr",
     "output_type": "stream",
     "text": [
      "[default |INFO|model.py:1005] [600/600]\ttest_main: 0.1023\ttest_main2: 0.0802\ttest_penalty: 0.6874\n"
     ]
    },
    {
     "name": "stdout",
     "output_type": "stream",
     "text": [
      "[578/600]\ttest_main: 0.1011\ttest_main2: 0.1017\ttest_penalty: 0.6910991\r"
     ]
    },
    {
     "name": "stderr",
     "output_type": "stream",
     "text": [
      "[default |INFO|model.py:1005] [600/600]\ttest_main: 0.1013\ttest_main2: 0.1021\ttest_penalty: 0.6911\n"
     ]
    },
    {
     "name": "stdout",
     "output_type": "stream",
     "text": [
      "[594/600]\ttest_main: 0.1008\ttest_main2: 0.0884\ttest_penalty: 0.7138996\r"
     ]
    },
    {
     "name": "stderr",
     "output_type": "stream",
     "text": [
      "[default |INFO|model.py:1005] [600/600]\ttest_main: 0.1009\ttest_main2: 0.0886\ttest_penalty: 0.7138\n"
     ]
    },
    {
     "name": "stdout",
     "output_type": "stream",
     "text": [
      "[580/600]\ttest_main: 0.1018\ttest_main2: 0.0836\ttest_penalty: 0.6760993\r"
     ]
    },
    {
     "name": "stderr",
     "output_type": "stream",
     "text": [
      "[default |INFO|model.py:1005] [600/600]\ttest_main: 0.1017\ttest_main2: 0.0832\ttest_penalty: 0.6760\n"
     ]
    },
    {
     "name": "stdout",
     "output_type": "stream",
     "text": [
      "[600/600]\ttest_main: 0.1053\ttest_main2: 0.1044\ttest_penalty: 0.6744994\r"
     ]
    },
    {
     "name": "stderr",
     "output_type": "stream",
     "text": [
      "[default |INFO|model.py:1005] [600/600]\ttest_main: 0.1053\ttest_main2: 0.1044\ttest_penalty: 0.6744\n"
     ]
    },
    {
     "name": "stdout",
     "output_type": "stream",
     "text": [
      "[597/600]\ttest_main: 0.1046\ttest_main2: 0.0786\ttest_penalty: 0.6826991\r"
     ]
    },
    {
     "name": "stderr",
     "output_type": "stream",
     "text": [
      "[default |INFO|model.py:1005] [600/600]\ttest_main: 0.1046\ttest_main2: 0.0785\ttest_penalty: 0.6826\n"
     ]
    },
    {
     "name": "stdout",
     "output_type": "stream",
     "text": [
      "[600/600]\ttest_main: 0.1035\ttest_main2: 0.0761\ttest_penalty: 0.6993995\r"
     ]
    },
    {
     "name": "stderr",
     "output_type": "stream",
     "text": [
      "[default |INFO|model.py:1005] [600/600]\ttest_main: 0.1035\ttest_main2: 0.0761\ttest_penalty: 0.6993\n"
     ]
    },
    {
     "name": "stdout",
     "output_type": "stream",
     "text": [
      "[594/600]\ttest_main: 0.1014\ttest_main2: 0.0648\ttest_penalty: 0.6849003\r"
     ]
    },
    {
     "name": "stderr",
     "output_type": "stream",
     "text": [
      "[default |INFO|model.py:1005] [600/600]\ttest_main: 0.1014\ttest_main2: 0.0649\ttest_penalty: 0.6849\n"
     ]
    },
    {
     "name": "stdout",
     "output_type": "stream",
     "text": [
      "[578/600]\ttest_main: 0.1012\ttest_main2: 0.0808\ttest_penalty: 0.6854999\r"
     ]
    },
    {
     "name": "stderr",
     "output_type": "stream",
     "text": [
      "[default |INFO|model.py:1005] [600/600]\ttest_main: 0.1012\ttest_main2: 0.0812\ttest_penalty: 0.6855\n"
     ]
    },
    {
     "name": "stdout",
     "output_type": "stream",
     "text": [
      "[578/600]\ttest_main: 0.1040\ttest_main2: 0.0749\ttest_penalty: 0.6828997\r"
     ]
    },
    {
     "name": "stderr",
     "output_type": "stream",
     "text": [
      "[default |INFO|model.py:1005] [600/600]\ttest_main: 0.1040\ttest_main2: 0.0755\ttest_penalty: 0.6828\n"
     ]
    },
    {
     "name": "stdout",
     "output_type": "stream",
     "text": [
      "[579/600]\ttest_main: 0.1039\ttest_main2: 0.0748\ttest_penalty: 0.6828\r",
      "[580/600]\ttest_main: 0.1039\ttest_main2: 0.0748\ttest_penalty: 0.6828\r",
      "[581/600]\ttest_main: 0.1039\ttest_main2: 0.0749\ttest_penalty: 0.6828\r",
      "[582/600]\ttest_main: 0.1040\ttest_main2: 0.0751\ttest_penalty: 0.6828\r",
      "[583/600]\ttest_main: 0.1040\ttest_main2: 0.0751\ttest_penalty: 0.6828\r",
      "[584/600]\ttest_main: 0.1040\ttest_main2: 0.0751\ttest_penalty: 0.6828\r",
      "[585/600]\ttest_main: 0.1040\ttest_main2: 0.0750\ttest_penalty: 0.6828\r",
      "[586/600]\ttest_main: 0.1040\ttest_main2: 0.0751\ttest_penalty: 0.6828\r",
      "[587/600]\ttest_main: 0.1040\ttest_main2: 0.0753\ttest_penalty: 0.6828\r",
      "[588/600]\ttest_main: 0.1040\ttest_main2: 0.0753\ttest_penalty: 0.6828\r",
      "[589/600]\ttest_main: 0.1040\ttest_main2: 0.0752\ttest_penalty: 0.6828\r",
      "[590/600]\ttest_main: 0.1040\ttest_main2: 0.0752\ttest_penalty: 0.6828\r",
      "[591/600]\ttest_main: 0.1040\ttest_main2: 0.0752\ttest_penalty: 0.6828\r",
      "[592/600]\ttest_main: 0.1040\ttest_main2: 0.0754\ttest_penalty: 0.6828\r",
      "[593/600]\ttest_main: 0.1040\ttest_main2: 0.0755\ttest_penalty: 0.6828\r",
      "[594/600]\ttest_main: 0.1040\ttest_main2: 0.0756\ttest_penalty: 0.6828\r",
      "[595/600]\ttest_main: 0.1040\ttest_main2: 0.0757\ttest_penalty: 0.6828\r",
      "[596/600]\ttest_main: 0.1039\ttest_main2: 0.0756\ttest_penalty: 0.6828\r",
      "[597/600]\ttest_main: 0.1040\ttest_main2: 0.0756\ttest_penalty: 0.6828\r",
      "[598/600]\ttest_main: 0.1040\ttest_main2: 0.0755\ttest_penalty: 0.6828\r",
      "[599/600]\ttest_main: 0.1040\ttest_main2: 0.0755\ttest_penalty: 0.6828\r",
      "[600/600]\ttest_main: 0.1040\ttest_main2: 0.0755\ttest_penalty: 0.6828\r"
     ]
    },
    {
     "name": "stderr",
     "output_type": "stream",
     "text": [
      "[default |INFO|model.py:1076] Training Finished!\n",
      "[default |INFO|model.py:1077] Elapsed time: 2978.447s\n"
     ]
    }
   ],
   "source": [
    "model = SSWAE_GAN_MNIST(cfg, log, device = device)\n",
    "model.train()\n",
    "# model.train(resume = True)"
   ]
  },
  {
   "cell_type": "code",
   "execution_count": 14,
   "metadata": {},
   "outputs": [
    {
     "name": "stdout",
     "output_type": "stream",
     "text": [
      "0.278\n"
     ]
    }
   ],
   "source": [
    "from XAE.dataset import rmMNIST\n",
    "\n",
    "batch_size = 100\n",
    "test_data = rmMNIST(cfg['path_info']['data_home2'], train = False, label = True, aux=[[2],[]])\n",
    "test_generator = torch.utils.data.DataLoader(test_data, batch_size, num_workers = 5, shuffle = False, pin_memory=True, drop_last=True)\n",
    "\n",
    "acc, n = 0, 0\n",
    "for data, condition in test_generator:\n",
    "    x = data.to(device)\n",
    "    y = condition.to(device)\n",
    "    fake_latent = model.encode_s(x)\n",
    "    recon = model.decode(fake_latent)\n",
    "    recon_y = model.decode_c(fake_latent)\n",
    "    acc += torch.sum(torch.max(recon_y, 1)[1] == 7).item() # 7 for unk\n",
    "    n += len(x)\n",
    "print(acc/n)"
   ]
  },
  {
   "cell_type": "markdown",
   "metadata": {},
   "source": [
    "### Case 2. Test(2), labeled(<u>7</u>, <u>8</u>)"
   ]
  },
  {
   "cell_type": "code",
   "execution_count": 5,
   "metadata": {
    "scrolled": true
   },
   "outputs": [
    {
     "data": {
      "text/plain": [
       "['./config/train_config_sswae_gan2.cfg']"
      ]
     },
     "execution_count": 5,
     "metadata": {},
     "output_type": "execute_result"
    }
   ],
   "source": [
    "cfg = configparser.ConfigParser()\n",
    "cfg.read('./config/train_config_sswae_gan2.cfg')"
   ]
  },
  {
   "cell_type": "code",
   "execution_count": 6,
   "metadata": {
    "collapsed": true
   },
   "outputs": [
    {
     "name": "stderr",
     "output_type": "stream",
     "text": [
      "[default |INFO|_base_model.py:25] ------------------------------------------------------------\n",
      "[default |INFO|_base_model.py:27] model_name : SSWAE_GAN_MNIST\n",
      "[default |INFO|_base_model.py:27] train_data : rmMNIST\n",
      "[default |INFO|_base_model.py:27] train_data_label : True\n",
      "[default |INFO|_base_model.py:27] z_sampler : gaus\n",
      "[default |INFO|_base_model.py:27] z_dim : 6\n",
      "[default |INFO|_base_model.py:27] yz_dim : 2\n",
      "[default |INFO|_base_model.py:27] y_sampler : multinomial\n",
      "[default |INFO|_base_model.py:27] y_dim : 3\n",
      "[default |INFO|_base_model.py:27] labeled_class : 7, 8\n",
      "[default |INFO|_base_model.py:27] unlabeled_class : 0, 1, 3, 4, 5, 6, 9\n",
      "[default |INFO|_base_model.py:27] test_class : 2\n",
      "[default |INFO|_base_model.py:27] classification_weight : \n",
      "[default |INFO|_base_model.py:27] encoder_pretrain : False\n",
      "[default |INFO|_base_model.py:27] lr : 5e-4\n",
      "[default |INFO|_base_model.py:27] beta1 : 0.5\n",
      "[default |INFO|_base_model.py:27] lr_adv : 2e-4\n",
      "[default |INFO|_base_model.py:27] beta1_adv : 0.5\n",
      "[default |INFO|_base_model.py:27] lambda : 10.0\n",
      "[default |INFO|_base_model.py:27] lambda2 : 10.0\n",
      "[default |INFO|_base_model.py:27] lr_schedule : manual\n",
      "[default |INFO|_base_model.py:27] validate : True\n",
      "[default |INFO|_base_model.py:27] histogram : True\n",
      "[default |INFO|_base_model.py:27] batch_size1 : 50\n",
      "[default |INFO|_base_model.py:27] batch_size2 : 100\n",
      "[default |INFO|_base_model.py:27] epoch : 100\n",
      "[default |INFO|_base_model.py:27] replace : False\n",
      "[default |INFO|_base_model.py:27] iter_per_epoch : None\n",
      "[default |INFO|_base_model.py:27] save_best : False\n",
      "[default |INFO|_base_model.py:30] data_home2 : ./data/MNIST\n",
      "[default |INFO|_base_model.py:30] tb_logs : ./result/tb_logs/sswae_gan2\n",
      "[default |INFO|_base_model.py:30] save_path : ./result/weights/sswae_gan2.pt\n",
      "[default |INFO|_base_model.py:30] save_state : ./result/states/state_sswae_gan2.pt\n",
      "[default |INFO|_base_model.py:30] save_img_path : \n",
      "[default |INFO|model.py:1149] ------------------------------------------------------------\n",
      "[default |INFO|model.py:1150] Training Start!\n"
     ]
    },
    {
     "name": "stdout",
     "output_type": "stream",
     "text": [
      "[100/100]\ttest_main: 0.1911\ttest_main2: 0.5368\ttest_penalty: 0.7190825\r"
     ]
    },
    {
     "name": "stderr",
     "output_type": "stream",
     "text": [
      "[default |INFO|model.py:1303] [1/100]\ttest_main: 0.1911\ttest_main2: 0.5368\ttest_penalty: 0.7190\n"
     ]
    },
    {
     "name": "stdout",
     "output_type": "stream",
     "text": [
      "[100/100]\ttest_main: 0.1737\ttest_main2: 0.3640\ttest_penalty: 0.6928927\r"
     ]
    },
    {
     "name": "stderr",
     "output_type": "stream",
     "text": [
      "[default |INFO|model.py:1303] [2/100]\ttest_main: 0.1737\ttest_main2: 0.3640\ttest_penalty: 0.6928\n"
     ]
    },
    {
     "name": "stdout",
     "output_type": "stream",
     "text": [
      "[99/100]\ttest_main: 0.1609\ttest_main2: 0.3199\ttest_penalty: 0.69766929\r"
     ]
    },
    {
     "name": "stderr",
     "output_type": "stream",
     "text": [
      "[default |INFO|model.py:1303] [3/100]\ttest_main: 0.1609\ttest_main2: 0.3193\ttest_penalty: 0.6976\n"
     ]
    },
    {
     "name": "stdout",
     "output_type": "stream",
     "text": [
      "[99/100]\ttest_main: 0.1490\ttest_main2: 0.2723\ttest_penalty: 0.69666928\r"
     ]
    },
    {
     "name": "stderr",
     "output_type": "stream",
     "text": [
      "[default |INFO|model.py:1303] [4/100]\ttest_main: 0.1490\ttest_main2: 0.2721\ttest_penalty: 0.6966\n"
     ]
    },
    {
     "name": "stdout",
     "output_type": "stream",
     "text": [
      "[100/100]\ttest_main: 0.1444\ttest_main2: 0.2434\ttest_penalty: 0.6693046\r"
     ]
    },
    {
     "name": "stderr",
     "output_type": "stream",
     "text": [
      "[default |INFO|model.py:1303] [5/100]\ttest_main: 0.1444\ttest_main2: 0.2434\ttest_penalty: 0.6693\n"
     ]
    },
    {
     "name": "stdout",
     "output_type": "stream",
     "text": [
      "[100/100]\ttest_main: 0.1349\ttest_main2: 0.1640\ttest_penalty: 0.6897891\r"
     ]
    },
    {
     "name": "stderr",
     "output_type": "stream",
     "text": [
      "[default |INFO|model.py:1303] [6/100]\ttest_main: 0.1349\ttest_main2: 0.1640\ttest_penalty: 0.6897\n"
     ]
    },
    {
     "name": "stdout",
     "output_type": "stream",
     "text": [
      "[100/100]\ttest_main: 0.1410\ttest_main2: 0.1410\ttest_penalty: 0.6737195\r"
     ]
    },
    {
     "name": "stderr",
     "output_type": "stream",
     "text": [
      "[default |INFO|model.py:1303] [7/100]\ttest_main: 0.1410\ttest_main2: 0.1410\ttest_penalty: 0.6737\n"
     ]
    },
    {
     "name": "stdout",
     "output_type": "stream",
     "text": [
      "[100/100]\ttest_main: 0.1480\ttest_main2: 0.1200\ttest_penalty: 0.6471272\r"
     ]
    },
    {
     "name": "stderr",
     "output_type": "stream",
     "text": [
      "[default |INFO|model.py:1303] [8/100]\ttest_main: 0.1480\ttest_main2: 0.1200\ttest_penalty: 0.6471\n"
     ]
    },
    {
     "name": "stdout",
     "output_type": "stream",
     "text": [
      "[100/100]\ttest_main: 0.1470\ttest_main2: 0.1400\ttest_penalty: 0.6454409\r"
     ]
    },
    {
     "name": "stderr",
     "output_type": "stream",
     "text": [
      "[default |INFO|model.py:1303] [9/100]\ttest_main: 0.1470\ttest_main2: 0.1400\ttest_penalty: 0.6454\n"
     ]
    },
    {
     "name": "stdout",
     "output_type": "stream",
     "text": [
      "[100/100]\ttest_main: 0.1351\ttest_main2: 0.1238\ttest_penalty: 0.6483398\r"
     ]
    },
    {
     "name": "stderr",
     "output_type": "stream",
     "text": [
      "[default |INFO|model.py:1303] [10/100]\ttest_main: 0.1351\ttest_main2: 0.1238\ttest_penalty: 0.6483\n"
     ]
    },
    {
     "name": "stdout",
     "output_type": "stream",
     "text": [
      "[100/100]\ttest_main: 0.1388\ttest_main2: 0.0998\ttest_penalty: 0.6644300\r"
     ]
    },
    {
     "name": "stderr",
     "output_type": "stream",
     "text": [
      "[default |INFO|model.py:1303] [11/100]\ttest_main: 0.1388\ttest_main2: 0.0998\ttest_penalty: 0.6644\n"
     ]
    },
    {
     "name": "stdout",
     "output_type": "stream",
     "text": [
      "[100/100]\ttest_main: 0.1320\ttest_main2: 0.1188\ttest_penalty: 0.6908419\r"
     ]
    },
    {
     "name": "stderr",
     "output_type": "stream",
     "text": [
      "[default |INFO|model.py:1303] [12/100]\ttest_main: 0.1320\ttest_main2: 0.1188\ttest_penalty: 0.6908\n"
     ]
    },
    {
     "name": "stdout",
     "output_type": "stream",
     "text": [
      "[100/100]\ttest_main: 0.1296\ttest_main2: 0.0697\ttest_penalty: 0.6777500\r"
     ]
    },
    {
     "name": "stderr",
     "output_type": "stream",
     "text": [
      "[default |INFO|model.py:1303] [13/100]\ttest_main: 0.1296\ttest_main2: 0.0697\ttest_penalty: 0.6777\n"
     ]
    },
    {
     "name": "stdout",
     "output_type": "stream",
     "text": [
      "[100/100]\ttest_main: 0.1276\ttest_main2: 0.1326\ttest_penalty: 0.6611328\r"
     ]
    },
    {
     "name": "stderr",
     "output_type": "stream",
     "text": [
      "[default |INFO|model.py:1303] [14/100]\ttest_main: 0.1276\ttest_main2: 0.1326\ttest_penalty: 0.6611\n"
     ]
    },
    {
     "name": "stdout",
     "output_type": "stream",
     "text": [
      "[100/100]\ttest_main: 0.1269\ttest_main2: 0.0837\ttest_penalty: 0.6821141\r"
     ]
    },
    {
     "name": "stderr",
     "output_type": "stream",
     "text": [
      "[default |INFO|model.py:1303] [15/100]\ttest_main: 0.1269\ttest_main2: 0.0837\ttest_penalty: 0.6821\n"
     ]
    },
    {
     "name": "stdout",
     "output_type": "stream",
     "text": [
      "[100/100]\ttest_main: 0.1278\ttest_main2: 0.1894\ttest_penalty: 0.6353522\r"
     ]
    },
    {
     "name": "stderr",
     "output_type": "stream",
     "text": [
      "[default |INFO|model.py:1303] [16/100]\ttest_main: 0.1278\ttest_main2: 0.1894\ttest_penalty: 0.6353\n"
     ]
    },
    {
     "name": "stdout",
     "output_type": "stream",
     "text": [
      "[100/100]\ttest_main: 0.1221\ttest_main2: 0.1953\ttest_penalty: 0.6286357\r"
     ]
    },
    {
     "name": "stderr",
     "output_type": "stream",
     "text": [
      "[default |INFO|model.py:1303] [17/100]\ttest_main: 0.1221\ttest_main2: 0.1953\ttest_penalty: 0.6286\n"
     ]
    },
    {
     "name": "stdout",
     "output_type": "stream",
     "text": [
      "[100/100]\ttest_main: 0.1240\ttest_main2: 0.1442\ttest_penalty: 0.6600640\r"
     ]
    },
    {
     "name": "stderr",
     "output_type": "stream",
     "text": [
      "[default |INFO|model.py:1303] [18/100]\ttest_main: 0.1240\ttest_main2: 0.1442\ttest_penalty: 0.6600\n"
     ]
    },
    {
     "name": "stdout",
     "output_type": "stream",
     "text": [
      "[100/100]\ttest_main: 0.1396\ttest_main2: 0.0947\ttest_penalty: 0.6958515\r"
     ]
    },
    {
     "name": "stderr",
     "output_type": "stream",
     "text": [
      "[default |INFO|model.py:1303] [19/100]\ttest_main: 0.1396\ttest_main2: 0.0947\ttest_penalty: 0.6958\n"
     ]
    },
    {
     "name": "stdout",
     "output_type": "stream",
     "text": [
      "[100/100]\ttest_main: 0.1330\ttest_main2: 0.0920\ttest_penalty: 0.7043574\r"
     ]
    },
    {
     "name": "stderr",
     "output_type": "stream",
     "text": [
      "[default |INFO|model.py:1303] [20/100]\ttest_main: 0.1330\ttest_main2: 0.0920\ttest_penalty: 0.7043\n"
     ]
    },
    {
     "name": "stdout",
     "output_type": "stream",
     "text": [
      "[100/100]\ttest_main: 0.1366\ttest_main2: 0.1050\ttest_penalty: 0.6529633\r"
     ]
    },
    {
     "name": "stderr",
     "output_type": "stream",
     "text": [
      "[default |INFO|model.py:1303] [21/100]\ttest_main: 0.1366\ttest_main2: 0.1050\ttest_penalty: 0.6529\n"
     ]
    },
    {
     "name": "stdout",
     "output_type": "stream",
     "text": [
      "[100/100]\ttest_main: 0.1332\ttest_main2: 0.0908\ttest_penalty: 0.6887461\r"
     ]
    },
    {
     "name": "stderr",
     "output_type": "stream",
     "text": [
      "[default |INFO|model.py:1303] [22/100]\ttest_main: 0.1332\ttest_main2: 0.0908\ttest_penalty: 0.6887\n"
     ]
    },
    {
     "name": "stdout",
     "output_type": "stream",
     "text": [
      "[100/100]\ttest_main: 0.1258\ttest_main2: 0.0868\ttest_penalty: 0.6264506\r"
     ]
    },
    {
     "name": "stderr",
     "output_type": "stream",
     "text": [
      "[default |INFO|model.py:1303] [23/100]\ttest_main: 0.1258\ttest_main2: 0.0868\ttest_penalty: 0.6264\n"
     ]
    },
    {
     "name": "stdout",
     "output_type": "stream",
     "text": [
      "[100/100]\ttest_main: 0.1227\ttest_main2: 0.1055\ttest_penalty: 0.6680390\r"
     ]
    },
    {
     "name": "stderr",
     "output_type": "stream",
     "text": [
      "[default |INFO|model.py:1303] [24/100]\ttest_main: 0.1227\ttest_main2: 0.1055\ttest_penalty: 0.6680\n"
     ]
    },
    {
     "name": "stdout",
     "output_type": "stream",
     "text": [
      "[100/100]\ttest_main: 0.1212\ttest_main2: 0.0508\ttest_penalty: 0.6755223\r"
     ]
    },
    {
     "name": "stderr",
     "output_type": "stream",
     "text": [
      "[default |INFO|model.py:1303] [25/100]\ttest_main: 0.1212\ttest_main2: 0.0508\ttest_penalty: 0.6755\n"
     ]
    },
    {
     "name": "stdout",
     "output_type": "stream",
     "text": [
      "[100/100]\ttest_main: 0.1191\ttest_main2: 0.1043\ttest_penalty: 0.6756171\r"
     ]
    },
    {
     "name": "stderr",
     "output_type": "stream",
     "text": [
      "[default |INFO|model.py:1303] [26/100]\ttest_main: 0.1191\ttest_main2: 0.1043\ttest_penalty: 0.6756\n"
     ]
    },
    {
     "name": "stdout",
     "output_type": "stream",
     "text": [
      "[100/100]\ttest_main: 0.1163\ttest_main2: 0.0987\ttest_penalty: 0.6833088\r"
     ]
    },
    {
     "name": "stderr",
     "output_type": "stream",
     "text": [
      "[default |INFO|model.py:1303] [27/100]\ttest_main: 0.1163\ttest_main2: 0.0987\ttest_penalty: 0.6833\n"
     ]
    },
    {
     "name": "stdout",
     "output_type": "stream",
     "text": [
      "[100/100]\ttest_main: 0.1186\ttest_main2: 0.0926\ttest_penalty: 0.6726110\r"
     ]
    },
    {
     "name": "stderr",
     "output_type": "stream",
     "text": [
      "[default |INFO|model.py:1303] [28/100]\ttest_main: 0.1186\ttest_main2: 0.0926\ttest_penalty: 0.6726\n"
     ]
    },
    {
     "name": "stdout",
     "output_type": "stream",
     "text": [
      "[100/100]\ttest_main: 0.1164\ttest_main2: 0.0954\ttest_penalty: 0.6825099\r"
     ]
    },
    {
     "name": "stderr",
     "output_type": "stream",
     "text": [
      "[default |INFO|model.py:1303] [29/100]\ttest_main: 0.1164\ttest_main2: 0.0954\ttest_penalty: 0.6825\n"
     ]
    },
    {
     "name": "stdout",
     "output_type": "stream",
     "text": [
      "[100/100]\ttest_main: 0.1187\ttest_main2: 0.1270\ttest_penalty: 0.6572043\r"
     ]
    },
    {
     "name": "stderr",
     "output_type": "stream",
     "text": [
      "[default |INFO|model.py:1303] [30/100]\ttest_main: 0.1187\ttest_main2: 0.1270\ttest_penalty: 0.6572\n"
     ]
    },
    {
     "name": "stdout",
     "output_type": "stream",
     "text": [
      "[100/100]\ttest_main: 0.1195\ttest_main2: 0.0534\ttest_penalty: 0.6540115\r"
     ]
    },
    {
     "name": "stderr",
     "output_type": "stream",
     "text": [
      "[default |INFO|model.py:1303] [31/100]\ttest_main: 0.1195\ttest_main2: 0.0534\ttest_penalty: 0.6540\n"
     ]
    },
    {
     "name": "stdout",
     "output_type": "stream",
     "text": [
      "[100/100]\ttest_main: 0.1190\ttest_main2: 0.0724\ttest_penalty: 0.7041024\r"
     ]
    },
    {
     "name": "stderr",
     "output_type": "stream",
     "text": [
      "[default |INFO|model.py:1303] [32/100]\ttest_main: 0.1190\ttest_main2: 0.0724\ttest_penalty: 0.7041\n"
     ]
    },
    {
     "name": "stdout",
     "output_type": "stream",
     "text": [
      "[99/100]\ttest_main: 0.1132\ttest_main2: 0.1821\ttest_penalty: 0.68536998\r"
     ]
    },
    {
     "name": "stderr",
     "output_type": "stream",
     "text": [
      "[default |INFO|model.py:1303] [33/100]\ttest_main: 0.1131\ttest_main2: 0.1824\ttest_penalty: 0.6853\n"
     ]
    },
    {
     "name": "stdout",
     "output_type": "stream",
     "text": [
      "[95/100]\ttest_main: 0.1088\ttest_main2: 0.0863\ttest_penalty: 0.70357048\r"
     ]
    },
    {
     "name": "stderr",
     "output_type": "stream",
     "text": [
      "[default |INFO|model.py:1303] [34/100]\ttest_main: 0.1088\ttest_main2: 0.0869\ttest_penalty: 0.7036\n"
     ]
    },
    {
     "name": "stdout",
     "output_type": "stream",
     "text": [
      "[100/100]\ttest_main: 0.1125\ttest_main2: 0.2005\ttest_penalty: 0.6967077\r"
     ]
    },
    {
     "name": "stderr",
     "output_type": "stream",
     "text": [
      "[default |INFO|model.py:1303] [35/100]\ttest_main: 0.1125\ttest_main2: 0.2005\ttest_penalty: 0.6967\n"
     ]
    },
    {
     "name": "stdout",
     "output_type": "stream",
     "text": [
      "[99/100]\ttest_main: 0.1099\ttest_main2: 0.1188\ttest_penalty: 0.69647062\r"
     ]
    },
    {
     "name": "stderr",
     "output_type": "stream",
     "text": [
      "[default |INFO|model.py:1303] [36/100]\ttest_main: 0.1100\ttest_main2: 0.1194\ttest_penalty: 0.6964\n"
     ]
    },
    {
     "name": "stdout",
     "output_type": "stream",
     "text": [
      "[100/100]\ttest_main: 0.1099\ttest_main2: 0.1117\ttest_penalty: 0.7050091\r"
     ]
    },
    {
     "name": "stderr",
     "output_type": "stream",
     "text": [
      "[default |INFO|model.py:1303] [37/100]\ttest_main: 0.1099\ttest_main2: 0.1117\ttest_penalty: 0.7050\n"
     ]
    },
    {
     "name": "stdout",
     "output_type": "stream",
     "text": [
      "[100/100]\ttest_main: 0.1187\ttest_main2: 0.1086\ttest_penalty: 0.6761071\r"
     ]
    },
    {
     "name": "stderr",
     "output_type": "stream",
     "text": [
      "[default |INFO|model.py:1303] [38/100]\ttest_main: 0.1187\ttest_main2: 0.1086\ttest_penalty: 0.6761\n"
     ]
    },
    {
     "name": "stdout",
     "output_type": "stream",
     "text": [
      "[96/100]\ttest_main: 0.1093\ttest_main2: 0.0602\ttest_penalty: 0.69436930\r"
     ]
    },
    {
     "name": "stderr",
     "output_type": "stream",
     "text": [
      "[default |INFO|model.py:1303] [39/100]\ttest_main: 0.1092\ttest_main2: 0.0596\ttest_penalty: 0.6943\n"
     ]
    },
    {
     "name": "stdout",
     "output_type": "stream",
     "text": [
      "[98/100]\ttest_main: 0.1088\ttest_main2: 0.0931\ttest_penalty: 0.69677022\r"
     ]
    },
    {
     "name": "stderr",
     "output_type": "stream",
     "text": [
      "[default |INFO|model.py:1303] [40/100]\ttest_main: 0.1086\ttest_main2: 0.0922\ttest_penalty: 0.6966\n"
     ]
    },
    {
     "name": "stdout",
     "output_type": "stream",
     "text": [
      "[100/100]\ttest_main: 0.1105\ttest_main2: 0.1545\ttest_penalty: 0.7194040\r"
     ]
    },
    {
     "name": "stderr",
     "output_type": "stream",
     "text": [
      "[default |INFO|model.py:1303] [41/100]\ttest_main: 0.1105\ttest_main2: 0.1545\ttest_penalty: 0.7194\n"
     ]
    },
    {
     "name": "stdout",
     "output_type": "stream",
     "text": [
      "[100/100]\ttest_main: 0.1150\ttest_main2: 0.0637\ttest_penalty: 0.7342126\r"
     ]
    },
    {
     "name": "stderr",
     "output_type": "stream",
     "text": [
      "[default |INFO|model.py:1303] [42/100]\ttest_main: 0.1150\ttest_main2: 0.0637\ttest_penalty: 0.7342\n"
     ]
    },
    {
     "name": "stdout",
     "output_type": "stream",
     "text": [
      "[100/100]\ttest_main: 0.1206\ttest_main2: 0.1167\ttest_penalty: 0.6945111\r"
     ]
    },
    {
     "name": "stderr",
     "output_type": "stream",
     "text": [
      "[default |INFO|model.py:1303] [43/100]\ttest_main: 0.1206\ttest_main2: 0.1167\ttest_penalty: 0.6945\n"
     ]
    },
    {
     "name": "stdout",
     "output_type": "stream",
     "text": [
      "[100/100]\ttest_main: 0.1190\ttest_main2: 0.1486\ttest_penalty: 0.6788999\r"
     ]
    },
    {
     "name": "stderr",
     "output_type": "stream",
     "text": [
      "[default |INFO|model.py:1303] [44/100]\ttest_main: 0.1190\ttest_main2: 0.1486\ttest_penalty: 0.6788\n"
     ]
    },
    {
     "name": "stdout",
     "output_type": "stream",
     "text": [
      "[100/100]\ttest_main: 0.1200\ttest_main2: 0.1150\ttest_penalty: 0.7171058\r"
     ]
    },
    {
     "name": "stderr",
     "output_type": "stream",
     "text": [
      "[default |INFO|model.py:1303] [45/100]\ttest_main: 0.1200\ttest_main2: 0.1150\ttest_penalty: 0.7171\n"
     ]
    },
    {
     "name": "stdout",
     "output_type": "stream",
     "text": [
      "[100/100]\ttest_main: 0.1227\ttest_main2: 0.0684\ttest_penalty: 0.6879087\r"
     ]
    },
    {
     "name": "stderr",
     "output_type": "stream",
     "text": [
      "[default |INFO|model.py:1303] [46/100]\ttest_main: 0.1227\ttest_main2: 0.0684\ttest_penalty: 0.6879\n"
     ]
    },
    {
     "name": "stdout",
     "output_type": "stream",
     "text": [
      "[100/100]\ttest_main: 0.1246\ttest_main2: 0.0931\ttest_penalty: 0.7300996\r"
     ]
    },
    {
     "name": "stderr",
     "output_type": "stream",
     "text": [
      "[default |INFO|model.py:1303] [47/100]\ttest_main: 0.1246\ttest_main2: 0.0931\ttest_penalty: 0.7300\n"
     ]
    },
    {
     "name": "stdout",
     "output_type": "stream",
     "text": [
      "[100/100]\ttest_main: 0.1211\ttest_main2: 0.1077\ttest_penalty: 0.6989094\r"
     ]
    },
    {
     "name": "stderr",
     "output_type": "stream",
     "text": [
      "[default |INFO|model.py:1303] [48/100]\ttest_main: 0.1211\ttest_main2: 0.1077\ttest_penalty: 0.6989\n"
     ]
    },
    {
     "name": "stdout",
     "output_type": "stream",
     "text": [
      "[100/100]\ttest_main: 0.1161\ttest_main2: 0.1153\ttest_penalty: 0.6850085\r"
     ]
    },
    {
     "name": "stderr",
     "output_type": "stream",
     "text": [
      "[default |INFO|model.py:1303] [49/100]\ttest_main: 0.1161\ttest_main2: 0.1153\ttest_penalty: 0.6850\n"
     ]
    },
    {
     "name": "stdout",
     "output_type": "stream",
     "text": [
      "[100/100]\ttest_main: 0.1237\ttest_main2: 0.0997\ttest_penalty: 0.7116069\r"
     ]
    },
    {
     "name": "stderr",
     "output_type": "stream",
     "text": [
      "[default |INFO|model.py:1303] [50/100]\ttest_main: 0.1237\ttest_main2: 0.0997\ttest_penalty: 0.7116\n"
     ]
    },
    {
     "name": "stdout",
     "output_type": "stream",
     "text": [
      "[100/100]\ttest_main: 0.1244\ttest_main2: 0.1051\ttest_penalty: 0.6926185\r"
     ]
    },
    {
     "name": "stderr",
     "output_type": "stream",
     "text": [
      "[default |INFO|model.py:1303] [51/100]\ttest_main: 0.1244\ttest_main2: 0.1051\ttest_penalty: 0.6926\n"
     ]
    },
    {
     "name": "stdout",
     "output_type": "stream",
     "text": [
      "[100/100]\ttest_main: 0.1170\ttest_main2: 0.0794\ttest_penalty: 0.7082183\r"
     ]
    },
    {
     "name": "stderr",
     "output_type": "stream",
     "text": [
      "[default |INFO|model.py:1303] [52/100]\ttest_main: 0.1170\ttest_main2: 0.0794\ttest_penalty: 0.7082\n"
     ]
    },
    {
     "name": "stdout",
     "output_type": "stream",
     "text": [
      "[100/100]\ttest_main: 0.1223\ttest_main2: 0.1078\ttest_penalty: 0.6775113\r"
     ]
    },
    {
     "name": "stderr",
     "output_type": "stream",
     "text": [
      "[default |INFO|model.py:1303] [53/100]\ttest_main: 0.1223\ttest_main2: 0.1078\ttest_penalty: 0.6775\n"
     ]
    },
    {
     "name": "stdout",
     "output_type": "stream",
     "text": [
      "[100/100]\ttest_main: 0.1217\ttest_main2: 0.1229\ttest_penalty: 0.6711148\r"
     ]
    },
    {
     "name": "stderr",
     "output_type": "stream",
     "text": [
      "[default |INFO|model.py:1303] [54/100]\ttest_main: 0.1217\ttest_main2: 0.1229\ttest_penalty: 0.6711\n"
     ]
    },
    {
     "name": "stdout",
     "output_type": "stream",
     "text": [
      "[100/100]\ttest_main: 0.1156\ttest_main2: 0.1200\ttest_penalty: 0.7338143\r"
     ]
    },
    {
     "name": "stderr",
     "output_type": "stream",
     "text": [
      "[default |INFO|model.py:1303] [55/100]\ttest_main: 0.1156\ttest_main2: 0.1200\ttest_penalty: 0.7338\n"
     ]
    },
    {
     "name": "stdout",
     "output_type": "stream",
     "text": [
      "[100/100]\ttest_main: 0.1171\ttest_main2: 0.0585\ttest_penalty: 0.6794144\r"
     ]
    },
    {
     "name": "stderr",
     "output_type": "stream",
     "text": [
      "[default |INFO|model.py:1303] [56/100]\ttest_main: 0.1171\ttest_main2: 0.0585\ttest_penalty: 0.6794\n"
     ]
    },
    {
     "name": "stdout",
     "output_type": "stream",
     "text": [
      "[100/100]\ttest_main: 0.1163\ttest_main2: 0.0651\ttest_penalty: 0.7159158\r"
     ]
    },
    {
     "name": "stderr",
     "output_type": "stream",
     "text": [
      "[default |INFO|model.py:1303] [57/100]\ttest_main: 0.1163\ttest_main2: 0.0651\ttest_penalty: 0.7159\n"
     ]
    },
    {
     "name": "stdout",
     "output_type": "stream",
     "text": [
      "[100/100]\ttest_main: 0.1157\ttest_main2: 0.0718\ttest_penalty: 0.6669141\r"
     ]
    },
    {
     "name": "stderr",
     "output_type": "stream",
     "text": [
      "[default |INFO|model.py:1303] [58/100]\ttest_main: 0.1157\ttest_main2: 0.0718\ttest_penalty: 0.6669\n"
     ]
    },
    {
     "name": "stdout",
     "output_type": "stream",
     "text": [
      "[100/100]\ttest_main: 0.1191\ttest_main2: 0.1121\ttest_penalty: 0.6636141\r"
     ]
    },
    {
     "name": "stderr",
     "output_type": "stream",
     "text": [
      "[default |INFO|model.py:1303] [59/100]\ttest_main: 0.1191\ttest_main2: 0.1121\ttest_penalty: 0.6636\n"
     ]
    },
    {
     "name": "stdout",
     "output_type": "stream",
     "text": [
      "[100/100]\ttest_main: 0.1197\ttest_main2: 0.1397\ttest_penalty: 0.6653114\r"
     ]
    },
    {
     "name": "stderr",
     "output_type": "stream",
     "text": [
      "[default |INFO|model.py:1303] [60/100]\ttest_main: 0.1197\ttest_main2: 0.1397\ttest_penalty: 0.6653\n"
     ]
    },
    {
     "name": "stdout",
     "output_type": "stream",
     "text": [
      "[100/100]\ttest_main: 0.1132\ttest_main2: 0.0703\ttest_penalty: 0.6824096\r"
     ]
    },
    {
     "name": "stderr",
     "output_type": "stream",
     "text": [
      "[default |INFO|model.py:1303] [61/100]\ttest_main: 0.1132\ttest_main2: 0.0703\ttest_penalty: 0.6824\n"
     ]
    },
    {
     "name": "stdout",
     "output_type": "stream",
     "text": [
      "[100/100]\ttest_main: 0.1141\ttest_main2: 0.1335\ttest_penalty: 0.7302050\r"
     ]
    },
    {
     "name": "stderr",
     "output_type": "stream",
     "text": [
      "[default |INFO|model.py:1303] [62/100]\ttest_main: 0.1141\ttest_main2: 0.1335\ttest_penalty: 0.7302\n"
     ]
    },
    {
     "name": "stdout",
     "output_type": "stream",
     "text": [
      "[100/100]\ttest_main: 0.1115\ttest_main2: 0.1042\ttest_penalty: 0.6830060\r"
     ]
    },
    {
     "name": "stderr",
     "output_type": "stream",
     "text": [
      "[default |INFO|model.py:1303] [63/100]\ttest_main: 0.1115\ttest_main2: 0.1042\ttest_penalty: 0.6830\n"
     ]
    },
    {
     "name": "stdout",
     "output_type": "stream",
     "text": [
      "[100/100]\ttest_main: 0.1171\ttest_main2: 0.0636\ttest_penalty: 0.6804021\r"
     ]
    },
    {
     "name": "stderr",
     "output_type": "stream",
     "text": [
      "[default |INFO|model.py:1303] [64/100]\ttest_main: 0.1171\ttest_main2: 0.0636\ttest_penalty: 0.6804\n"
     ]
    },
    {
     "name": "stdout",
     "output_type": "stream",
     "text": [
      "[100/100]\ttest_main: 0.1110\ttest_main2: 0.0655\ttest_penalty: 0.7121001\r"
     ]
    },
    {
     "name": "stderr",
     "output_type": "stream",
     "text": [
      "[default |INFO|model.py:1303] [65/100]\ttest_main: 0.1110\ttest_main2: 0.0655\ttest_penalty: 0.7121\n"
     ]
    },
    {
     "name": "stdout",
     "output_type": "stream",
     "text": [
      "[100/100]\ttest_main: 0.1142\ttest_main2: 0.0476\ttest_penalty: 0.6761024\r"
     ]
    },
    {
     "name": "stderr",
     "output_type": "stream",
     "text": [
      "[default |INFO|model.py:1303] [66/100]\ttest_main: 0.1142\ttest_main2: 0.0476\ttest_penalty: 0.6761\n"
     ]
    },
    {
     "name": "stdout",
     "output_type": "stream",
     "text": [
      "[100/100]\ttest_main: 0.1087\ttest_main2: 0.0886\ttest_penalty: 0.7065004\r"
     ]
    },
    {
     "name": "stderr",
     "output_type": "stream",
     "text": [
      "[default |INFO|model.py:1303] [67/100]\ttest_main: 0.1087\ttest_main2: 0.0886\ttest_penalty: 0.7065\n"
     ]
    },
    {
     "name": "stdout",
     "output_type": "stream",
     "text": [
      "[100/100]\ttest_main: 0.1065\ttest_main2: 0.1171\ttest_penalty: 0.6893024\r"
     ]
    },
    {
     "name": "stderr",
     "output_type": "stream",
     "text": [
      "[default |INFO|model.py:1303] [68/100]\ttest_main: 0.1065\ttest_main2: 0.1171\ttest_penalty: 0.6893\n"
     ]
    },
    {
     "name": "stdout",
     "output_type": "stream",
     "text": [
      "[100/100]\ttest_main: 0.1090\ttest_main2: 0.0898\ttest_penalty: 0.7043001\r"
     ]
    },
    {
     "name": "stderr",
     "output_type": "stream",
     "text": [
      "[default |INFO|model.py:1303] [69/100]\ttest_main: 0.1090\ttest_main2: 0.0898\ttest_penalty: 0.7043\n"
     ]
    },
    {
     "name": "stdout",
     "output_type": "stream",
     "text": [
      "[100/100]\ttest_main: 0.1066\ttest_main2: 0.0732\ttest_penalty: 0.6859009\r"
     ]
    },
    {
     "name": "stderr",
     "output_type": "stream",
     "text": [
      "[default |INFO|model.py:1303] [70/100]\ttest_main: 0.1066\ttest_main2: 0.0732\ttest_penalty: 0.6859\n"
     ]
    },
    {
     "name": "stdout",
     "output_type": "stream",
     "text": [
      "[100/100]\ttest_main: 0.1063\ttest_main2: 0.1002\ttest_penalty: 0.6873000\r"
     ]
    },
    {
     "name": "stderr",
     "output_type": "stream",
     "text": [
      "[default |INFO|model.py:1303] [71/100]\ttest_main: 0.1063\ttest_main2: 0.1002\ttest_penalty: 0.6873\n"
     ]
    },
    {
     "name": "stdout",
     "output_type": "stream",
     "text": [
      "[100/100]\ttest_main: 0.1063\ttest_main2: 0.0832\ttest_penalty: 0.7016022\r"
     ]
    },
    {
     "name": "stderr",
     "output_type": "stream",
     "text": [
      "[default |INFO|model.py:1303] [72/100]\ttest_main: 0.1063\ttest_main2: 0.0832\ttest_penalty: 0.7016\n"
     ]
    },
    {
     "name": "stdout",
     "output_type": "stream",
     "text": [
      "[100/100]\ttest_main: 0.1082\ttest_main2: 0.0751\ttest_penalty: 0.6804031\r"
     ]
    },
    {
     "name": "stderr",
     "output_type": "stream",
     "text": [
      "[default |INFO|model.py:1303] [73/100]\ttest_main: 0.1082\ttest_main2: 0.0751\ttest_penalty: 0.6804\n"
     ]
    },
    {
     "name": "stdout",
     "output_type": "stream",
     "text": [
      "[100/100]\ttest_main: 0.1118\ttest_main2: 0.0803\ttest_penalty: 0.7058987\r"
     ]
    },
    {
     "name": "stderr",
     "output_type": "stream",
     "text": [
      "[default |INFO|model.py:1303] [74/100]\ttest_main: 0.1118\ttest_main2: 0.0803\ttest_penalty: 0.7058\n"
     ]
    },
    {
     "name": "stdout",
     "output_type": "stream",
     "text": [
      "[100/100]\ttest_main: 0.1111\ttest_main2: 0.0771\ttest_penalty: 0.6843008\r"
     ]
    },
    {
     "name": "stderr",
     "output_type": "stream",
     "text": [
      "[default |INFO|model.py:1303] [75/100]\ttest_main: 0.1111\ttest_main2: 0.0771\ttest_penalty: 0.6843\n"
     ]
    },
    {
     "name": "stdout",
     "output_type": "stream",
     "text": [
      "[100/100]\ttest_main: 0.1136\ttest_main2: 0.0800\ttest_penalty: 0.6960008\r"
     ]
    },
    {
     "name": "stderr",
     "output_type": "stream",
     "text": [
      "[default |INFO|model.py:1303] [76/100]\ttest_main: 0.1136\ttest_main2: 0.0800\ttest_penalty: 0.6960\n"
     ]
    },
    {
     "name": "stdout",
     "output_type": "stream",
     "text": [
      "[100/100]\ttest_main: 0.1098\ttest_main2: 0.0940\ttest_penalty: 0.6885995\r"
     ]
    },
    {
     "name": "stderr",
     "output_type": "stream",
     "text": [
      "[default |INFO|model.py:1303] [77/100]\ttest_main: 0.1098\ttest_main2: 0.0940\ttest_penalty: 0.6885\n"
     ]
    },
    {
     "name": "stdout",
     "output_type": "stream",
     "text": [
      "[100/100]\ttest_main: 0.1099\ttest_main2: 0.0775\ttest_penalty: 0.6986008\r"
     ]
    },
    {
     "name": "stderr",
     "output_type": "stream",
     "text": [
      "[default |INFO|model.py:1303] [78/100]\ttest_main: 0.1099\ttest_main2: 0.0775\ttest_penalty: 0.6986\n"
     ]
    },
    {
     "name": "stdout",
     "output_type": "stream",
     "text": [
      "[100/100]\ttest_main: 0.1140\ttest_main2: 0.1009\ttest_penalty: 0.6923003\r"
     ]
    },
    {
     "name": "stderr",
     "output_type": "stream",
     "text": [
      "[default |INFO|model.py:1303] [79/100]\ttest_main: 0.1140\ttest_main2: 0.1009\ttest_penalty: 0.6923\n"
     ]
    },
    {
     "name": "stdout",
     "output_type": "stream",
     "text": [
      "[100/100]\ttest_main: 0.1117\ttest_main2: 0.1177\ttest_penalty: 0.7085015\r"
     ]
    },
    {
     "name": "stderr",
     "output_type": "stream",
     "text": [
      "[default |INFO|model.py:1303] [80/100]\ttest_main: 0.1117\ttest_main2: 0.1177\ttest_penalty: 0.7085\n"
     ]
    },
    {
     "name": "stdout",
     "output_type": "stream",
     "text": [
      "[100/100]\ttest_main: 0.1086\ttest_main2: 0.0848\ttest_penalty: 0.6834996\r"
     ]
    },
    {
     "name": "stderr",
     "output_type": "stream",
     "text": [
      "[default |INFO|model.py:1303] [81/100]\ttest_main: 0.1086\ttest_main2: 0.0848\ttest_penalty: 0.6834\n"
     ]
    },
    {
     "name": "stdout",
     "output_type": "stream",
     "text": [
      "[100/100]\ttest_main: 0.1127\ttest_main2: 0.1122\ttest_penalty: 0.6805991\r"
     ]
    },
    {
     "name": "stderr",
     "output_type": "stream",
     "text": [
      "[default |INFO|model.py:1303] [82/100]\ttest_main: 0.1127\ttest_main2: 0.1122\ttest_penalty: 0.6805\n"
     ]
    },
    {
     "name": "stdout",
     "output_type": "stream",
     "text": [
      "[100/100]\ttest_main: 0.1116\ttest_main2: 0.1161\ttest_penalty: 0.6920994\r"
     ]
    },
    {
     "name": "stderr",
     "output_type": "stream",
     "text": [
      "[default |INFO|model.py:1303] [83/100]\ttest_main: 0.1116\ttest_main2: 0.1161\ttest_penalty: 0.6920\n"
     ]
    },
    {
     "name": "stdout",
     "output_type": "stream",
     "text": [
      "[100/100]\ttest_main: 0.1115\ttest_main2: 0.1366\ttest_penalty: 0.6947005\r"
     ]
    },
    {
     "name": "stderr",
     "output_type": "stream",
     "text": [
      "[default |INFO|model.py:1303] [84/100]\ttest_main: 0.1115\ttest_main2: 0.1366\ttest_penalty: 0.6947\n"
     ]
    },
    {
     "name": "stdout",
     "output_type": "stream",
     "text": [
      "[100/100]\ttest_main: 0.1072\ttest_main2: 0.1506\ttest_penalty: 0.7021001\r"
     ]
    },
    {
     "name": "stderr",
     "output_type": "stream",
     "text": [
      "[default |INFO|model.py:1303] [85/100]\ttest_main: 0.1072\ttest_main2: 0.1506\ttest_penalty: 0.7021\n"
     ]
    },
    {
     "name": "stdout",
     "output_type": "stream",
     "text": [
      "[100/100]\ttest_main: 0.1069\ttest_main2: 0.1164\ttest_penalty: 0.6806986\r"
     ]
    },
    {
     "name": "stderr",
     "output_type": "stream",
     "text": [
      "[default |INFO|model.py:1303] [86/100]\ttest_main: 0.1069\ttest_main2: 0.1164\ttest_penalty: 0.6806\n"
     ]
    },
    {
     "name": "stdout",
     "output_type": "stream",
     "text": [
      "[100/100]\ttest_main: 0.1033\ttest_main2: 0.1459\ttest_penalty: 0.6712963\r"
     ]
    },
    {
     "name": "stderr",
     "output_type": "stream",
     "text": [
      "[default |INFO|model.py:1303] [87/100]\ttest_main: 0.1033\ttest_main2: 0.1459\ttest_penalty: 0.6712\n"
     ]
    },
    {
     "name": "stdout",
     "output_type": "stream",
     "text": [
      "[100/100]\ttest_main: 0.1047\ttest_main2: 0.0779\ttest_penalty: 0.6725980\r"
     ]
    },
    {
     "name": "stderr",
     "output_type": "stream",
     "text": [
      "[default |INFO|model.py:1303] [88/100]\ttest_main: 0.1047\ttest_main2: 0.0779\ttest_penalty: 0.6725\n"
     ]
    },
    {
     "name": "stdout",
     "output_type": "stream",
     "text": [
      "[100/100]\ttest_main: 0.1043\ttest_main2: 0.0959\ttest_penalty: 0.6780957\r"
     ]
    },
    {
     "name": "stderr",
     "output_type": "stream",
     "text": [
      "[default |INFO|model.py:1303] [89/100]\ttest_main: 0.1043\ttest_main2: 0.0959\ttest_penalty: 0.6780\n"
     ]
    },
    {
     "name": "stdout",
     "output_type": "stream",
     "text": [
      "[100/100]\ttest_main: 0.1012\ttest_main2: 0.0756\ttest_penalty: 0.6917975\r"
     ]
    },
    {
     "name": "stderr",
     "output_type": "stream",
     "text": [
      "[default |INFO|model.py:1303] [90/100]\ttest_main: 0.1012\ttest_main2: 0.0756\ttest_penalty: 0.6917\n"
     ]
    },
    {
     "name": "stdout",
     "output_type": "stream",
     "text": [
      "[100/100]\ttest_main: 0.1048\ttest_main2: 0.1322\ttest_penalty: 0.6931957\r"
     ]
    },
    {
     "name": "stderr",
     "output_type": "stream",
     "text": [
      "[default |INFO|model.py:1303] [91/100]\ttest_main: 0.1048\ttest_main2: 0.1322\ttest_penalty: 0.6931\n"
     ]
    },
    {
     "name": "stdout",
     "output_type": "stream",
     "text": [
      "[100/100]\ttest_main: 0.1039\ttest_main2: 0.1321\ttest_penalty: 0.6824974\r"
     ]
    },
    {
     "name": "stderr",
     "output_type": "stream",
     "text": [
      "[default |INFO|model.py:1303] [92/100]\ttest_main: 0.1039\ttest_main2: 0.1321\ttest_penalty: 0.6824\n"
     ]
    },
    {
     "name": "stdout",
     "output_type": "stream",
     "text": [
      "[100/100]\ttest_main: 0.1027\ttest_main2: 0.1769\ttest_penalty: 0.6870958\r"
     ]
    },
    {
     "name": "stderr",
     "output_type": "stream",
     "text": [
      "[default |INFO|model.py:1303] [93/100]\ttest_main: 0.1027\ttest_main2: 0.1769\ttest_penalty: 0.6870\n"
     ]
    },
    {
     "name": "stdout",
     "output_type": "stream",
     "text": [
      "[100/100]\ttest_main: 0.1075\ttest_main2: 0.1532\ttest_penalty: 0.6784970\r"
     ]
    },
    {
     "name": "stderr",
     "output_type": "stream",
     "text": [
      "[default |INFO|model.py:1303] [94/100]\ttest_main: 0.1075\ttest_main2: 0.1532\ttest_penalty: 0.6784\n"
     ]
    },
    {
     "name": "stdout",
     "output_type": "stream",
     "text": [
      "[100/100]\ttest_main: 0.1026\ttest_main2: 0.0978\ttest_penalty: 0.6796989\r"
     ]
    },
    {
     "name": "stderr",
     "output_type": "stream",
     "text": [
      "[default |INFO|model.py:1303] [95/100]\ttest_main: 0.1026\ttest_main2: 0.0978\ttest_penalty: 0.6796\n"
     ]
    },
    {
     "name": "stdout",
     "output_type": "stream",
     "text": [
      "[100/100]\ttest_main: 0.1061\ttest_main2: 0.0785\ttest_penalty: 0.6795985\r"
     ]
    },
    {
     "name": "stderr",
     "output_type": "stream",
     "text": [
      "[default |INFO|model.py:1303] [96/100]\ttest_main: 0.1061\ttest_main2: 0.0785\ttest_penalty: 0.6795\n"
     ]
    },
    {
     "name": "stdout",
     "output_type": "stream",
     "text": [
      "[100/100]\ttest_main: 0.1020\ttest_main2: 0.1201\ttest_penalty: 0.6902944\r"
     ]
    },
    {
     "name": "stderr",
     "output_type": "stream",
     "text": [
      "[default |INFO|model.py:1303] [97/100]\ttest_main: 0.1020\ttest_main2: 0.1201\ttest_penalty: 0.6902\n"
     ]
    },
    {
     "name": "stdout",
     "output_type": "stream",
     "text": [
      "[100/100]\ttest_main: 0.1039\ttest_main2: 0.1103\ttest_penalty: 0.6863990\r"
     ]
    },
    {
     "name": "stderr",
     "output_type": "stream",
     "text": [
      "[default |INFO|model.py:1303] [98/100]\ttest_main: 0.1039\ttest_main2: 0.1103\ttest_penalty: 0.6863\n"
     ]
    },
    {
     "name": "stdout",
     "output_type": "stream",
     "text": [
      "[93/100]\ttest_main: 0.1036\ttest_main2: 0.1448\ttest_penalty: 0.68296955\r"
     ]
    },
    {
     "name": "stderr",
     "output_type": "stream",
     "text": [
      "[default |INFO|model.py:1303] [99/100]\ttest_main: 0.1034\ttest_main2: 0.1419\ttest_penalty: 0.6829\n"
     ]
    },
    {
     "name": "stdout",
     "output_type": "stream",
     "text": [
      "[99/100]\ttest_main: 0.1047\ttest_main2: 0.1315\ttest_penalty: 0.69026973\r"
     ]
    },
    {
     "name": "stderr",
     "output_type": "stream",
     "text": [
      "[default |INFO|model.py:1303] [100/100]\ttest_main: 0.1046\ttest_main2: 0.1311\ttest_penalty: 0.6902\n"
     ]
    },
    {
     "name": "stdout",
     "output_type": "stream",
     "text": [
      "[100/100]\ttest_main: 0.1046\ttest_main2: 0.1311\ttest_penalty: 0.6902\r"
     ]
    },
    {
     "name": "stderr",
     "output_type": "stream",
     "text": [
      "[default |INFO|model.py:1409] Training Finished!\n",
      "[default |INFO|model.py:1410] Elapsed time: 1273.238s\n"
     ]
    }
   ],
   "source": [
    "model = SSWAE_GAN_MNIST(cfg, log, device = device)\n",
    "model.train()\n",
    "# model.train(resume = True)"
   ]
  },
  {
   "cell_type": "code",
   "execution_count": 9,
   "metadata": {},
   "outputs": [
    {
     "name": "stdout",
     "output_type": "stream",
     "text": [
      "0.624\n"
     ]
    }
   ],
   "source": [
    "acc, n = 0, 0\n",
    "for data, condition in test_generator:\n",
    "    x = data.to(device)\n",
    "    y = condition.to(device)\n",
    "    fake_latent = model.encode_s(x)\n",
    "    recon = model.decode(fake_latent)\n",
    "    recon_y = model.decode_c(fake_latent)\n",
    "    acc += torch.sum(torch.max(recon_y, 1)[1] == 2).item() # 2 for unk\n",
    "    n += len(x)\n",
    "print(acc/n)"
   ]
  },
  {
   "cell_type": "markdown",
   "metadata": {},
   "source": [
    "### Case 3. Test(2), labeled(0, 1, <u>7</u>, <u>8</u>, 9)"
   ]
  },
  {
   "cell_type": "code",
   "execution_count": 15,
   "metadata": {},
   "outputs": [
    {
     "data": {
      "text/plain": [
       "['./config/train_config_sswae_gan3.cfg']"
      ]
     },
     "execution_count": 15,
     "metadata": {},
     "output_type": "execute_result"
    }
   ],
   "source": [
    "cfg = configparser.ConfigParser()\n",
    "cfg.read('./config/train_config_sswae_gan3.cfg')"
   ]
  },
  {
   "cell_type": "code",
   "execution_count": 16,
   "metadata": {
    "collapsed": true
   },
   "outputs": [
    {
     "name": "stderr",
     "output_type": "stream",
     "text": [
      "[default |INFO|_base_model.py:25] ------------------------------------------------------------\n",
      "[default |INFO|_base_model.py:27] model_name : SSWAE_GAN_MNIST\n",
      "[default |INFO|_base_model.py:27] train_data : rmMNIST\n",
      "[default |INFO|_base_model.py:27] train_data_label : True\n",
      "[default |INFO|_base_model.py:27] z_sampler : gaus\n",
      "[default |INFO|_base_model.py:27] z_dim : 6\n",
      "[default |INFO|_base_model.py:27] yz_dim : 2\n",
      "[default |INFO|_base_model.py:27] y_sampler : multinomial\n",
      "[default |INFO|_base_model.py:27] y_dim : 6\n",
      "[default |INFO|_base_model.py:27] labeled_class : 0, 1, 7, 8, 9\n",
      "[default |INFO|_base_model.py:27] unlabeled_class : 3, 4, 5, 6\n",
      "[default |INFO|_base_model.py:27] test_class : 2\n",
      "[default |INFO|_base_model.py:27] classification_weight : \n",
      "[default |INFO|_base_model.py:27] encoder_pretrain : False\n",
      "[default |INFO|_base_model.py:27] lr : 5e-4\n",
      "[default |INFO|_base_model.py:27] beta1 : 0.5\n",
      "[default |INFO|_base_model.py:27] lr_adv : 2e-4\n",
      "[default |INFO|_base_model.py:27] beta1_adv : 0.5\n",
      "[default |INFO|_base_model.py:27] lambda : 10.0\n",
      "[default |INFO|_base_model.py:27] lambda2 : 10.0\n",
      "[default |INFO|_base_model.py:27] lr_schedule : manual\n",
      "[default |INFO|_base_model.py:27] validate : True\n",
      "[default |INFO|_base_model.py:27] histogram : True\n",
      "[default |INFO|_base_model.py:27] batch_size1 : 50\n",
      "[default |INFO|_base_model.py:27] batch_size2 : 100\n",
      "[default |INFO|_base_model.py:27] epoch : 100\n",
      "[default |INFO|_base_model.py:27] replace : False\n",
      "[default |INFO|_base_model.py:27] iter_per_epoch : None\n",
      "[default |INFO|_base_model.py:27] save_best : False\n",
      "[default |INFO|_base_model.py:30] data_home2 : ./data/MNIST\n",
      "[default |INFO|_base_model.py:30] tb_logs : ./result/tb_logs/sswae_gan3\n",
      "[default |INFO|_base_model.py:30] save_path : ./result/weights/sswae_gan3.pt\n",
      "[default |INFO|_base_model.py:30] save_state : ./result/states/state_sswae_gan3.pt\n",
      "[default |INFO|_base_model.py:30] save_img_path : \n",
      "[default |INFO|model.py:1149] ------------------------------------------------------------\n",
      "[default |INFO|model.py:1150] Training Start!\n"
     ]
    },
    {
     "name": "stdout",
     "output_type": "stream",
     "text": [
      "[100/100]\ttest_main: 0.1613\ttest_main2: 0.3809\ttest_penalty: 0.6956892\r"
     ]
    },
    {
     "name": "stderr",
     "output_type": "stream",
     "text": [
      "[default |INFO|model.py:1303] [1/100]\ttest_main: 0.1613\ttest_main2: 0.3809\ttest_penalty: 0.6956\n"
     ]
    },
    {
     "name": "stdout",
     "output_type": "stream",
     "text": [
      "[100/100]\ttest_main: 0.1410\ttest_main2: 0.2449\ttest_penalty: 0.6954932\r"
     ]
    },
    {
     "name": "stderr",
     "output_type": "stream",
     "text": [
      "[default |INFO|model.py:1303] [2/100]\ttest_main: 0.1410\ttest_main2: 0.2449\ttest_penalty: 0.6954\n"
     ]
    },
    {
     "name": "stdout",
     "output_type": "stream",
     "text": [
      "[100/100]\ttest_main: 0.1382\ttest_main2: 0.1349\ttest_penalty: 0.7328984\r"
     ]
    },
    {
     "name": "stderr",
     "output_type": "stream",
     "text": [
      "[default |INFO|model.py:1303] [3/100]\ttest_main: 0.1382\ttest_main2: 0.1349\ttest_penalty: 0.7328\n"
     ]
    },
    {
     "name": "stdout",
     "output_type": "stream",
     "text": [
      "[100/100]\ttest_main: 0.1322\ttest_main2: 0.1037\ttest_penalty: 0.6753954\r"
     ]
    },
    {
     "name": "stderr",
     "output_type": "stream",
     "text": [
      "[default |INFO|model.py:1303] [4/100]\ttest_main: 0.1322\ttest_main2: 0.1037\ttest_penalty: 0.6753\n"
     ]
    },
    {
     "name": "stdout",
     "output_type": "stream",
     "text": [
      "[100/100]\ttest_main: 0.1236\ttest_main2: 0.0987\ttest_penalty: 0.6851023\r"
     ]
    },
    {
     "name": "stderr",
     "output_type": "stream",
     "text": [
      "[default |INFO|model.py:1303] [5/100]\ttest_main: 0.1236\ttest_main2: 0.0987\ttest_penalty: 0.6851\n"
     ]
    },
    {
     "name": "stdout",
     "output_type": "stream",
     "text": [
      "[100/100]\ttest_main: 0.1334\ttest_main2: 0.1231\ttest_penalty: 0.6649043\r"
     ]
    },
    {
     "name": "stderr",
     "output_type": "stream",
     "text": [
      "[default |INFO|model.py:1303] [6/100]\ttest_main: 0.1334\ttest_main2: 0.1231\ttest_penalty: 0.6649\n"
     ]
    },
    {
     "name": "stdout",
     "output_type": "stream",
     "text": [
      "[100/100]\ttest_main: 0.1217\ttest_main2: 0.0972\ttest_penalty: 0.6506024\r"
     ]
    },
    {
     "name": "stderr",
     "output_type": "stream",
     "text": [
      "[default |INFO|model.py:1303] [7/100]\ttest_main: 0.1217\ttest_main2: 0.0972\ttest_penalty: 0.6506\n"
     ]
    },
    {
     "name": "stdout",
     "output_type": "stream",
     "text": [
      "[100/100]\ttest_main: 0.1094\ttest_main2: 0.1326\ttest_penalty: 0.6920015\r"
     ]
    },
    {
     "name": "stderr",
     "output_type": "stream",
     "text": [
      "[default |INFO|model.py:1303] [8/100]\ttest_main: 0.1094\ttest_main2: 0.1326\ttest_penalty: 0.6920\n"
     ]
    },
    {
     "name": "stdout",
     "output_type": "stream",
     "text": [
      "[100/100]\ttest_main: 0.1099\ttest_main2: 0.1133\ttest_penalty: 0.6918995\r"
     ]
    },
    {
     "name": "stderr",
     "output_type": "stream",
     "text": [
      "[default |INFO|model.py:1303] [9/100]\ttest_main: 0.1099\ttest_main2: 0.1133\ttest_penalty: 0.6918\n"
     ]
    },
    {
     "name": "stdout",
     "output_type": "stream",
     "text": [
      "[100/100]\ttest_main: 0.1059\ttest_main2: 0.1339\ttest_penalty: 0.6960972\r"
     ]
    },
    {
     "name": "stderr",
     "output_type": "stream",
     "text": [
      "[default |INFO|model.py:1303] [10/100]\ttest_main: 0.1059\ttest_main2: 0.1339\ttest_penalty: 0.6960\n"
     ]
    },
    {
     "name": "stdout",
     "output_type": "stream",
     "text": [
      "[100/100]\ttest_main: 0.1034\ttest_main2: 0.1315\ttest_penalty: 0.6924961\r"
     ]
    },
    {
     "name": "stderr",
     "output_type": "stream",
     "text": [
      "[default |INFO|model.py:1303] [11/100]\ttest_main: 0.1034\ttest_main2: 0.1315\ttest_penalty: 0.6924\n"
     ]
    },
    {
     "name": "stdout",
     "output_type": "stream",
     "text": [
      "[100/100]\ttest_main: 0.1045\ttest_main2: 0.1646\ttest_penalty: 0.6979977\r"
     ]
    },
    {
     "name": "stderr",
     "output_type": "stream",
     "text": [
      "[default |INFO|model.py:1303] [12/100]\ttest_main: 0.1045\ttest_main2: 0.1646\ttest_penalty: 0.6979\n"
     ]
    },
    {
     "name": "stdout",
     "output_type": "stream",
     "text": [
      "[100/100]\ttest_main: 0.1073\ttest_main2: 0.2060\ttest_penalty: 0.6680007\r"
     ]
    },
    {
     "name": "stderr",
     "output_type": "stream",
     "text": [
      "[default |INFO|model.py:1303] [13/100]\ttest_main: 0.1073\ttest_main2: 0.2060\ttest_penalty: 0.6680\n"
     ]
    },
    {
     "name": "stdout",
     "output_type": "stream",
     "text": [
      "[100/100]\ttest_main: 0.1067\ttest_main2: 0.1657\ttest_penalty: 0.6819032\r"
     ]
    },
    {
     "name": "stderr",
     "output_type": "stream",
     "text": [
      "[default |INFO|model.py:1303] [14/100]\ttest_main: 0.1067\ttest_main2: 0.1657\ttest_penalty: 0.6819\n"
     ]
    },
    {
     "name": "stdout",
     "output_type": "stream",
     "text": [
      "[100/100]\ttest_main: 0.1054\ttest_main2: 0.1568\ttest_penalty: 0.7097063\r"
     ]
    },
    {
     "name": "stderr",
     "output_type": "stream",
     "text": [
      "[default |INFO|model.py:1303] [15/100]\ttest_main: 0.1054\ttest_main2: 0.1568\ttest_penalty: 0.7097\n"
     ]
    },
    {
     "name": "stdout",
     "output_type": "stream",
     "text": [
      "[100/100]\ttest_main: 0.1190\ttest_main2: 0.2139\ttest_penalty: 0.6952073\r"
     ]
    },
    {
     "name": "stderr",
     "output_type": "stream",
     "text": [
      "[default |INFO|model.py:1303] [16/100]\ttest_main: 0.1190\ttest_main2: 0.2139\ttest_penalty: 0.6952\n"
     ]
    },
    {
     "name": "stdout",
     "output_type": "stream",
     "text": [
      "[100/100]\ttest_main: 0.1071\ttest_main2: 0.1981\ttest_penalty: 0.6686036\r"
     ]
    },
    {
     "name": "stderr",
     "output_type": "stream",
     "text": [
      "[default |INFO|model.py:1303] [17/100]\ttest_main: 0.1071\ttest_main2: 0.1981\ttest_penalty: 0.6686\n"
     ]
    },
    {
     "name": "stdout",
     "output_type": "stream",
     "text": [
      "[100/100]\ttest_main: 0.1009\ttest_main2: 0.1696\ttest_penalty: 0.6911891\r"
     ]
    },
    {
     "name": "stderr",
     "output_type": "stream",
     "text": [
      "[default |INFO|model.py:1303] [18/100]\ttest_main: 0.1009\ttest_main2: 0.1696\ttest_penalty: 0.6911\n"
     ]
    },
    {
     "name": "stdout",
     "output_type": "stream",
     "text": [
      "[100/100]\ttest_main: 0.1022\ttest_main2: 0.2545\ttest_penalty: 0.6883989\r"
     ]
    },
    {
     "name": "stderr",
     "output_type": "stream",
     "text": [
      "[default |INFO|model.py:1303] [19/100]\ttest_main: 0.1022\ttest_main2: 0.2545\ttest_penalty: 0.6883\n"
     ]
    },
    {
     "name": "stdout",
     "output_type": "stream",
     "text": [
      "[100/100]\ttest_main: 0.1103\ttest_main2: 0.1951\ttest_penalty: 0.6903988\r"
     ]
    },
    {
     "name": "stderr",
     "output_type": "stream",
     "text": [
      "[default |INFO|model.py:1303] [20/100]\ttest_main: 0.1103\ttest_main2: 0.1951\ttest_penalty: 0.6903\n"
     ]
    },
    {
     "name": "stdout",
     "output_type": "stream",
     "text": [
      "[100/100]\ttest_main: 0.1058\ttest_main2: 0.1988\ttest_penalty: 0.6948981\r"
     ]
    },
    {
     "name": "stderr",
     "output_type": "stream",
     "text": [
      "[default |INFO|model.py:1303] [21/100]\ttest_main: 0.1058\ttest_main2: 0.1988\ttest_penalty: 0.6948\n"
     ]
    },
    {
     "name": "stdout",
     "output_type": "stream",
     "text": [
      "[100/100]\ttest_main: 0.0995\ttest_main2: 0.2357\ttest_penalty: 0.6909020\r"
     ]
    },
    {
     "name": "stderr",
     "output_type": "stream",
     "text": [
      "[default |INFO|model.py:1303] [22/100]\ttest_main: 0.0995\ttest_main2: 0.2357\ttest_penalty: 0.6909\n"
     ]
    },
    {
     "name": "stdout",
     "output_type": "stream",
     "text": [
      "[100/100]\ttest_main: 0.1007\ttest_main2: 0.2007\ttest_penalty: 0.6982015\r"
     ]
    },
    {
     "name": "stderr",
     "output_type": "stream",
     "text": [
      "[default |INFO|model.py:1303] [23/100]\ttest_main: 0.1007\ttest_main2: 0.2007\ttest_penalty: 0.6982\n"
     ]
    },
    {
     "name": "stdout",
     "output_type": "stream",
     "text": [
      "[99/100]\ttest_main: 0.1012\ttest_main2: 0.2258\ttest_penalty: 0.67837010\r"
     ]
    },
    {
     "name": "stderr",
     "output_type": "stream",
     "text": [
      "[default |INFO|model.py:1303] [24/100]\ttest_main: 0.1011\ttest_main2: 0.2247\ttest_penalty: 0.6782\n"
     ]
    },
    {
     "name": "stdout",
     "output_type": "stream",
     "text": [
      "[100/100]\ttest_main: 0.0996\ttest_main2: 0.1457\ttest_penalty: 0.6849953\r"
     ]
    },
    {
     "name": "stderr",
     "output_type": "stream",
     "text": [
      "[default |INFO|model.py:1303] [25/100]\ttest_main: 0.0996\ttest_main2: 0.1457\ttest_penalty: 0.6849\n"
     ]
    },
    {
     "name": "stdout",
     "output_type": "stream",
     "text": [
      "[100/100]\ttest_main: 0.1047\ttest_main2: 0.1759\ttest_penalty: 0.6983985\r"
     ]
    },
    {
     "name": "stderr",
     "output_type": "stream",
     "text": [
      "[default |INFO|model.py:1303] [26/100]\ttest_main: 0.1047\ttest_main2: 0.1759\ttest_penalty: 0.6983\n"
     ]
    },
    {
     "name": "stdout",
     "output_type": "stream",
     "text": [
      "[100/100]\ttest_main: 0.1043\ttest_main2: 0.2514\ttest_penalty: 0.6849968\r"
     ]
    },
    {
     "name": "stderr",
     "output_type": "stream",
     "text": [
      "[default |INFO|model.py:1303] [27/100]\ttest_main: 0.1043\ttest_main2: 0.2514\ttest_penalty: 0.6849\n"
     ]
    },
    {
     "name": "stdout",
     "output_type": "stream",
     "text": [
      "[100/100]\ttest_main: 0.1071\ttest_main2: 0.2485\ttest_penalty: 0.7146972\r"
     ]
    },
    {
     "name": "stderr",
     "output_type": "stream",
     "text": [
      "[default |INFO|model.py:1303] [28/100]\ttest_main: 0.1071\ttest_main2: 0.2485\ttest_penalty: 0.7146\n"
     ]
    },
    {
     "name": "stdout",
     "output_type": "stream",
     "text": [
      "[100/100]\ttest_main: 0.1009\ttest_main2: 0.1914\ttest_penalty: 0.6798964\r"
     ]
    },
    {
     "name": "stderr",
     "output_type": "stream",
     "text": [
      "[default |INFO|model.py:1303] [29/100]\ttest_main: 0.1009\ttest_main2: 0.1914\ttest_penalty: 0.6798\n"
     ]
    },
    {
     "name": "stdout",
     "output_type": "stream",
     "text": [
      "[100/100]\ttest_main: 0.1024\ttest_main2: 0.2304\ttest_penalty: 0.6841988\r"
     ]
    },
    {
     "name": "stderr",
     "output_type": "stream",
     "text": [
      "[default |INFO|model.py:1303] [30/100]\ttest_main: 0.1024\ttest_main2: 0.2304\ttest_penalty: 0.6841\n"
     ]
    },
    {
     "name": "stdout",
     "output_type": "stream",
     "text": [
      "[100/100]\ttest_main: 0.1050\ttest_main2: 0.2502\ttest_penalty: 0.6871023\r"
     ]
    },
    {
     "name": "stderr",
     "output_type": "stream",
     "text": [
      "[default |INFO|model.py:1303] [31/100]\ttest_main: 0.1050\ttest_main2: 0.2502\ttest_penalty: 0.6871\n"
     ]
    },
    {
     "name": "stdout",
     "output_type": "stream",
     "text": [
      "[100/100]\ttest_main: 0.1042\ttest_main2: 0.2664\ttest_penalty: 0.6846037\r"
     ]
    },
    {
     "name": "stderr",
     "output_type": "stream",
     "text": [
      "[default |INFO|model.py:1303] [32/100]\ttest_main: 0.1042\ttest_main2: 0.2664\ttest_penalty: 0.6846\n"
     ]
    },
    {
     "name": "stdout",
     "output_type": "stream",
     "text": [
      "[100/100]\ttest_main: 0.0964\ttest_main2: 0.2256\ttest_penalty: 0.6954950\r"
     ]
    },
    {
     "name": "stderr",
     "output_type": "stream",
     "text": [
      "[default |INFO|model.py:1303] [33/100]\ttest_main: 0.0964\ttest_main2: 0.2256\ttest_penalty: 0.6954\n"
     ]
    },
    {
     "name": "stdout",
     "output_type": "stream",
     "text": [
      "[100/100]\ttest_main: 0.0987\ttest_main2: 0.2204\ttest_penalty: 0.6917013\r"
     ]
    },
    {
     "name": "stderr",
     "output_type": "stream",
     "text": [
      "[default |INFO|model.py:1303] [34/100]\ttest_main: 0.0987\ttest_main2: 0.2204\ttest_penalty: 0.6917\n"
     ]
    },
    {
     "name": "stdout",
     "output_type": "stream",
     "text": [
      "[100/100]\ttest_main: 0.1034\ttest_main2: 0.2343\ttest_penalty: 0.6922010\r"
     ]
    },
    {
     "name": "stderr",
     "output_type": "stream",
     "text": [
      "[default |INFO|model.py:1303] [35/100]\ttest_main: 0.1034\ttest_main2: 0.2343\ttest_penalty: 0.6922\n"
     ]
    },
    {
     "name": "stdout",
     "output_type": "stream",
     "text": [
      "[100/100]\ttest_main: 0.1023\ttest_main2: 0.2948\ttest_penalty: 0.7043984\r"
     ]
    },
    {
     "name": "stderr",
     "output_type": "stream",
     "text": [
      "[default |INFO|model.py:1303] [36/100]\ttest_main: 0.1023\ttest_main2: 0.2948\ttest_penalty: 0.7043\n"
     ]
    },
    {
     "name": "stdout",
     "output_type": "stream",
     "text": [
      "[100/100]\ttest_main: 0.1015\ttest_main2: 0.3087\ttest_penalty: 0.6988007\r"
     ]
    },
    {
     "name": "stderr",
     "output_type": "stream",
     "text": [
      "[default |INFO|model.py:1303] [37/100]\ttest_main: 0.1015\ttest_main2: 0.3087\ttest_penalty: 0.6988\n"
     ]
    },
    {
     "name": "stdout",
     "output_type": "stream",
     "text": [
      "[100/100]\ttest_main: 0.1063\ttest_main2: 0.2451\ttest_penalty: 0.6918969\r"
     ]
    },
    {
     "name": "stderr",
     "output_type": "stream",
     "text": [
      "[default |INFO|model.py:1303] [38/100]\ttest_main: 0.1063\ttest_main2: 0.2451\ttest_penalty: 0.6918\n"
     ]
    },
    {
     "name": "stdout",
     "output_type": "stream",
     "text": [
      "[100/100]\ttest_main: 0.1074\ttest_main2: 0.2578\ttest_penalty: 0.7019020\r"
     ]
    },
    {
     "name": "stderr",
     "output_type": "stream",
     "text": [
      "[default |INFO|model.py:1303] [39/100]\ttest_main: 0.1074\ttest_main2: 0.2578\ttest_penalty: 0.7019\n"
     ]
    },
    {
     "name": "stdout",
     "output_type": "stream",
     "text": [
      "[100/100]\ttest_main: 0.1059\ttest_main2: 0.2124\ttest_penalty: 0.7156030\r"
     ]
    },
    {
     "name": "stderr",
     "output_type": "stream",
     "text": [
      "[default |INFO|model.py:1303] [40/100]\ttest_main: 0.1059\ttest_main2: 0.2124\ttest_penalty: 0.7156\n"
     ]
    },
    {
     "name": "stdout",
     "output_type": "stream",
     "text": [
      "[100/100]\ttest_main: 0.1203\ttest_main2: 0.2787\ttest_penalty: 0.7330029\r"
     ]
    },
    {
     "name": "stderr",
     "output_type": "stream",
     "text": [
      "[default |INFO|model.py:1303] [41/100]\ttest_main: 0.1203\ttest_main2: 0.2787\ttest_penalty: 0.7330\n"
     ]
    },
    {
     "name": "stdout",
     "output_type": "stream",
     "text": [
      "[100/100]\ttest_main: 0.1090\ttest_main2: 0.3246\ttest_penalty: 0.6780078\r"
     ]
    },
    {
     "name": "stderr",
     "output_type": "stream",
     "text": [
      "[default |INFO|model.py:1303] [42/100]\ttest_main: 0.1090\ttest_main2: 0.3246\ttest_penalty: 0.6780\n"
     ]
    },
    {
     "name": "stdout",
     "output_type": "stream",
     "text": [
      "[100/100]\ttest_main: 0.1048\ttest_main2: 0.2439\ttest_penalty: 0.6880045\r"
     ]
    },
    {
     "name": "stderr",
     "output_type": "stream",
     "text": [
      "[default |INFO|model.py:1303] [43/100]\ttest_main: 0.1048\ttest_main2: 0.2439\ttest_penalty: 0.6880\n"
     ]
    },
    {
     "name": "stdout",
     "output_type": "stream",
     "text": [
      "[100/100]\ttest_main: 0.1045\ttest_main2: 0.2512\ttest_penalty: 0.6729054\r"
     ]
    },
    {
     "name": "stderr",
     "output_type": "stream",
     "text": [
      "[default |INFO|model.py:1303] [44/100]\ttest_main: 0.1045\ttest_main2: 0.2512\ttest_penalty: 0.6729\n"
     ]
    },
    {
     "name": "stdout",
     "output_type": "stream",
     "text": [
      "[100/100]\ttest_main: 0.1125\ttest_main2: 0.2638\ttest_penalty: 0.6849070\r"
     ]
    },
    {
     "name": "stderr",
     "output_type": "stream",
     "text": [
      "[default |INFO|model.py:1303] [45/100]\ttest_main: 0.1125\ttest_main2: 0.2638\ttest_penalty: 0.6849\n"
     ]
    },
    {
     "name": "stdout",
     "output_type": "stream",
     "text": [
      "[100/100]\ttest_main: 0.1038\ttest_main2: 0.2279\ttest_penalty: 0.7037050\r"
     ]
    },
    {
     "name": "stderr",
     "output_type": "stream",
     "text": [
      "[default |INFO|model.py:1303] [46/100]\ttest_main: 0.1038\ttest_main2: 0.2279\ttest_penalty: 0.7037\n"
     ]
    },
    {
     "name": "stdout",
     "output_type": "stream",
     "text": [
      "[100/100]\ttest_main: 0.1077\ttest_main2: 0.3230\ttest_penalty: 0.6988060\r"
     ]
    },
    {
     "name": "stderr",
     "output_type": "stream",
     "text": [
      "[default |INFO|model.py:1303] [47/100]\ttest_main: 0.1077\ttest_main2: 0.3230\ttest_penalty: 0.6988\n"
     ]
    },
    {
     "name": "stdout",
     "output_type": "stream",
     "text": [
      "[100/100]\ttest_main: 0.1077\ttest_main2: 0.3474\ttest_penalty: 0.7195017\r"
     ]
    },
    {
     "name": "stderr",
     "output_type": "stream",
     "text": [
      "[default |INFO|model.py:1303] [48/100]\ttest_main: 0.1077\ttest_main2: 0.3474\ttest_penalty: 0.7195\n"
     ]
    },
    {
     "name": "stdout",
     "output_type": "stream",
     "text": [
      "[100/100]\ttest_main: 0.1137\ttest_main2: 0.3671\ttest_penalty: 0.6771022\r"
     ]
    },
    {
     "name": "stderr",
     "output_type": "stream",
     "text": [
      "[default |INFO|model.py:1303] [49/100]\ttest_main: 0.1137\ttest_main2: 0.3671\ttest_penalty: 0.6771\n"
     ]
    },
    {
     "name": "stdout",
     "output_type": "stream",
     "text": [
      "[100/100]\ttest_main: 0.1077\ttest_main2: 0.2631\ttest_penalty: 0.7028010\r"
     ]
    },
    {
     "name": "stderr",
     "output_type": "stream",
     "text": [
      "[default |INFO|model.py:1303] [50/100]\ttest_main: 0.1077\ttest_main2: 0.2631\ttest_penalty: 0.7028\n"
     ]
    },
    {
     "name": "stdout",
     "output_type": "stream",
     "text": [
      "[100/100]\ttest_main: 0.1108\ttest_main2: 0.2525\ttest_penalty: 0.7004011\r"
     ]
    },
    {
     "name": "stderr",
     "output_type": "stream",
     "text": [
      "[default |INFO|model.py:1303] [51/100]\ttest_main: 0.1108\ttest_main2: 0.2525\ttest_penalty: 0.7004\n"
     ]
    },
    {
     "name": "stdout",
     "output_type": "stream",
     "text": [
      "[100/100]\ttest_main: 0.1020\ttest_main2: 0.2513\ttest_penalty: 0.7279000\r"
     ]
    },
    {
     "name": "stderr",
     "output_type": "stream",
     "text": [
      "[default |INFO|model.py:1303] [52/100]\ttest_main: 0.1020\ttest_main2: 0.2513\ttest_penalty: 0.7279\n"
     ]
    },
    {
     "name": "stdout",
     "output_type": "stream",
     "text": [
      "[100/100]\ttest_main: 0.1089\ttest_main2: 0.2989\ttest_penalty: 0.6909010\r"
     ]
    },
    {
     "name": "stderr",
     "output_type": "stream",
     "text": [
      "[default |INFO|model.py:1303] [53/100]\ttest_main: 0.1089\ttest_main2: 0.2989\ttest_penalty: 0.6909\n"
     ]
    },
    {
     "name": "stdout",
     "output_type": "stream",
     "text": [
      "[100/100]\ttest_main: 0.1147\ttest_main2: 0.3595\ttest_penalty: 0.6738998\r"
     ]
    },
    {
     "name": "stderr",
     "output_type": "stream",
     "text": [
      "[default |INFO|model.py:1303] [54/100]\ttest_main: 0.1147\ttest_main2: 0.3595\ttest_penalty: 0.6738\n"
     ]
    },
    {
     "name": "stdout",
     "output_type": "stream",
     "text": [
      "[100/100]\ttest_main: 0.1062\ttest_main2: 0.4373\ttest_penalty: 0.6883996\r"
     ]
    },
    {
     "name": "stderr",
     "output_type": "stream",
     "text": [
      "[default |INFO|model.py:1303] [55/100]\ttest_main: 0.1062\ttest_main2: 0.4373\ttest_penalty: 0.6883\n"
     ]
    },
    {
     "name": "stdout",
     "output_type": "stream",
     "text": [
      "[100/100]\ttest_main: 0.1069\ttest_main2: 0.2822\ttest_penalty: 0.6754004\r"
     ]
    },
    {
     "name": "stderr",
     "output_type": "stream",
     "text": [
      "[default |INFO|model.py:1303] [56/100]\ttest_main: 0.1069\ttest_main2: 0.2822\ttest_penalty: 0.6754\n"
     ]
    },
    {
     "name": "stdout",
     "output_type": "stream",
     "text": [
      "[100/100]\ttest_main: 0.1144\ttest_main2: 0.4848\ttest_penalty: 0.6968002\r"
     ]
    },
    {
     "name": "stderr",
     "output_type": "stream",
     "text": [
      "[default |INFO|model.py:1303] [57/100]\ttest_main: 0.1144\ttest_main2: 0.4848\ttest_penalty: 0.6968\n"
     ]
    },
    {
     "name": "stdout",
     "output_type": "stream",
     "text": [
      "[100/100]\ttest_main: 0.1085\ttest_main2: 0.3794\ttest_penalty: 0.7253011\r"
     ]
    },
    {
     "name": "stderr",
     "output_type": "stream",
     "text": [
      "[default |INFO|model.py:1303] [58/100]\ttest_main: 0.1085\ttest_main2: 0.3794\ttest_penalty: 0.7253\n"
     ]
    },
    {
     "name": "stdout",
     "output_type": "stream",
     "text": [
      "[100/100]\ttest_main: 0.1014\ttest_main2: 0.4225\ttest_penalty: 0.6954008\r"
     ]
    },
    {
     "name": "stderr",
     "output_type": "stream",
     "text": [
      "[default |INFO|model.py:1303] [59/100]\ttest_main: 0.1014\ttest_main2: 0.4225\ttest_penalty: 0.6954\n"
     ]
    },
    {
     "name": "stdout",
     "output_type": "stream",
     "text": [
      "[100/100]\ttest_main: 0.1076\ttest_main2: 0.3574\ttest_penalty: 0.7055991\r"
     ]
    },
    {
     "name": "stderr",
     "output_type": "stream",
     "text": [
      "[default |INFO|model.py:1303] [60/100]\ttest_main: 0.1076\ttest_main2: 0.3574\ttest_penalty: 0.7055\n"
     ]
    },
    {
     "name": "stdout",
     "output_type": "stream",
     "text": [
      "[100/100]\ttest_main: 0.1093\ttest_main2: 0.4274\ttest_penalty: 0.6878000\r"
     ]
    },
    {
     "name": "stderr",
     "output_type": "stream",
     "text": [
      "[default |INFO|model.py:1303] [61/100]\ttest_main: 0.1093\ttest_main2: 0.4274\ttest_penalty: 0.6878\n"
     ]
    },
    {
     "name": "stdout",
     "output_type": "stream",
     "text": [
      "[100/100]\ttest_main: 0.1062\ttest_main2: 0.3768\ttest_penalty: 0.6962004\r"
     ]
    },
    {
     "name": "stderr",
     "output_type": "stream",
     "text": [
      "[default |INFO|model.py:1303] [62/100]\ttest_main: 0.1062\ttest_main2: 0.3768\ttest_penalty: 0.6962\n"
     ]
    },
    {
     "name": "stdout",
     "output_type": "stream",
     "text": [
      "[100/100]\ttest_main: 0.1055\ttest_main2: 0.3764\ttest_penalty: 0.6976001\r"
     ]
    },
    {
     "name": "stderr",
     "output_type": "stream",
     "text": [
      "[default |INFO|model.py:1303] [63/100]\ttest_main: 0.1055\ttest_main2: 0.3764\ttest_penalty: 0.6976\n"
     ]
    },
    {
     "name": "stdout",
     "output_type": "stream",
     "text": [
      "[100/100]\ttest_main: 0.1082\ttest_main2: 0.3451\ttest_penalty: 0.7050001\r"
     ]
    },
    {
     "name": "stderr",
     "output_type": "stream",
     "text": [
      "[default |INFO|model.py:1303] [64/100]\ttest_main: 0.1082\ttest_main2: 0.3451\ttest_penalty: 0.7050\n"
     ]
    },
    {
     "name": "stdout",
     "output_type": "stream",
     "text": [
      "[100/100]\ttest_main: 0.1037\ttest_main2: 0.3658\ttest_penalty: 0.6923987\r"
     ]
    },
    {
     "name": "stderr",
     "output_type": "stream",
     "text": [
      "[default |INFO|model.py:1303] [65/100]\ttest_main: 0.1037\ttest_main2: 0.3658\ttest_penalty: 0.6923\n"
     ]
    },
    {
     "name": "stdout",
     "output_type": "stream",
     "text": [
      "[100/100]\ttest_main: 0.1125\ttest_main2: 0.3726\ttest_penalty: 0.6722978\r"
     ]
    },
    {
     "name": "stderr",
     "output_type": "stream",
     "text": [
      "[default |INFO|model.py:1303] [66/100]\ttest_main: 0.1125\ttest_main2: 0.3726\ttest_penalty: 0.6722\n"
     ]
    },
    {
     "name": "stdout",
     "output_type": "stream",
     "text": [
      "[100/100]\ttest_main: 0.1060\ttest_main2: 0.3849\ttest_penalty: 0.6988998\r"
     ]
    },
    {
     "name": "stderr",
     "output_type": "stream",
     "text": [
      "[default |INFO|model.py:1303] [67/100]\ttest_main: 0.1060\ttest_main2: 0.3849\ttest_penalty: 0.6988\n"
     ]
    },
    {
     "name": "stdout",
     "output_type": "stream",
     "text": [
      "[100/100]\ttest_main: 0.1042\ttest_main2: 0.4478\ttest_penalty: 0.6929997\r"
     ]
    },
    {
     "name": "stderr",
     "output_type": "stream",
     "text": [
      "[default |INFO|model.py:1303] [68/100]\ttest_main: 0.1042\ttest_main2: 0.4478\ttest_penalty: 0.6929\n"
     ]
    },
    {
     "name": "stdout",
     "output_type": "stream",
     "text": [
      "[100/100]\ttest_main: 0.1069\ttest_main2: 0.3038\ttest_penalty: 0.6936982\r"
     ]
    },
    {
     "name": "stderr",
     "output_type": "stream",
     "text": [
      "[default |INFO|model.py:1303] [69/100]\ttest_main: 0.1069\ttest_main2: 0.3038\ttest_penalty: 0.6936\n"
     ]
    },
    {
     "name": "stdout",
     "output_type": "stream",
     "text": [
      "[100/100]\ttest_main: 0.1064\ttest_main2: 0.4383\ttest_penalty: 0.6983981\r"
     ]
    },
    {
     "name": "stderr",
     "output_type": "stream",
     "text": [
      "[default |INFO|model.py:1303] [70/100]\ttest_main: 0.1064\ttest_main2: 0.4383\ttest_penalty: 0.6983\n"
     ]
    },
    {
     "name": "stdout",
     "output_type": "stream",
     "text": [
      "[100/100]\ttest_main: 0.1048\ttest_main2: 0.4928\ttest_penalty: 0.6932000\r"
     ]
    },
    {
     "name": "stderr",
     "output_type": "stream",
     "text": [
      "[default |INFO|model.py:1303] [71/100]\ttest_main: 0.1048\ttest_main2: 0.4928\ttest_penalty: 0.6932\n"
     ]
    },
    {
     "name": "stdout",
     "output_type": "stream",
     "text": [
      "[100/100]\ttest_main: 0.1048\ttest_main2: 0.3619\ttest_penalty: 0.6774991\r"
     ]
    },
    {
     "name": "stderr",
     "output_type": "stream",
     "text": [
      "[default |INFO|model.py:1303] [72/100]\ttest_main: 0.1048\ttest_main2: 0.3619\ttest_penalty: 0.6774\n"
     ]
    },
    {
     "name": "stdout",
     "output_type": "stream",
     "text": [
      "[100/100]\ttest_main: 0.1095\ttest_main2: 0.3337\ttest_penalty: 0.6858981\r"
     ]
    },
    {
     "name": "stderr",
     "output_type": "stream",
     "text": [
      "[default |INFO|model.py:1303] [73/100]\ttest_main: 0.1095\ttest_main2: 0.3337\ttest_penalty: 0.6858\n"
     ]
    },
    {
     "name": "stdout",
     "output_type": "stream",
     "text": [
      "[100/100]\ttest_main: 0.1037\ttest_main2: 0.5154\ttest_penalty: 0.6975976\r"
     ]
    },
    {
     "name": "stderr",
     "output_type": "stream",
     "text": [
      "[default |INFO|model.py:1303] [74/100]\ttest_main: 0.1037\ttest_main2: 0.5154\ttest_penalty: 0.6975\n"
     ]
    },
    {
     "name": "stdout",
     "output_type": "stream",
     "text": [
      "[96/100]\ttest_main: 0.1029\ttest_main2: 0.3378\ttest_penalty: 0.68876975\r"
     ]
    },
    {
     "name": "stderr",
     "output_type": "stream",
     "text": [
      "[default |INFO|model.py:1303] [75/100]\ttest_main: 0.1030\ttest_main2: 0.3414\ttest_penalty: 0.6888\n"
     ]
    },
    {
     "name": "stdout",
     "output_type": "stream",
     "text": [
      "[100/100]\ttest_main: 0.1073\ttest_main2: 0.4830\ttest_penalty: 0.6849976\r"
     ]
    },
    {
     "name": "stderr",
     "output_type": "stream",
     "text": [
      "[default |INFO|model.py:1303] [76/100]\ttest_main: 0.1073\ttest_main2: 0.4830\ttest_penalty: 0.6849\n"
     ]
    },
    {
     "name": "stdout",
     "output_type": "stream",
     "text": [
      "[99/100]\ttest_main: 0.1032\ttest_main2: 0.2805\ttest_penalty: 0.70086983\r"
     ]
    },
    {
     "name": "stderr",
     "output_type": "stream",
     "text": [
      "[default |INFO|model.py:1303] [77/100]\ttest_main: 0.1032\ttest_main2: 0.2795\ttest_penalty: 0.7007\n"
     ]
    },
    {
     "name": "stdout",
     "output_type": "stream",
     "text": [
      "[97/100]\ttest_main: 0.1009\ttest_main2: 0.3625\ttest_penalty: 0.69696972\r"
     ]
    },
    {
     "name": "stderr",
     "output_type": "stream",
     "text": [
      "[default |INFO|model.py:1303] [78/100]\ttest_main: 0.1008\ttest_main2: 0.3573\ttest_penalty: 0.6970\n"
     ]
    },
    {
     "name": "stdout",
     "output_type": "stream",
     "text": [
      "[100/100]\ttest_main: 0.1047\ttest_main2: 0.3494\ttest_penalty: 0.7028985\r"
     ]
    },
    {
     "name": "stderr",
     "output_type": "stream",
     "text": [
      "[default |INFO|model.py:1303] [79/100]\ttest_main: 0.1047\ttest_main2: 0.3494\ttest_penalty: 0.7028\n"
     ]
    },
    {
     "name": "stdout",
     "output_type": "stream",
     "text": [
      "[100/100]\ttest_main: 0.1050\ttest_main2: 0.3858\ttest_penalty: 0.6988953\r"
     ]
    },
    {
     "name": "stderr",
     "output_type": "stream",
     "text": [
      "[default |INFO|model.py:1303] [80/100]\ttest_main: 0.1050\ttest_main2: 0.3858\ttest_penalty: 0.6988\n"
     ]
    },
    {
     "name": "stdout",
     "output_type": "stream",
     "text": [
      "[99/100]\ttest_main: 0.1006\ttest_main2: 0.3017\ttest_penalty: 0.68346970\r"
     ]
    },
    {
     "name": "stderr",
     "output_type": "stream",
     "text": [
      "[default |INFO|model.py:1303] [81/100]\ttest_main: 0.1004\ttest_main2: 0.3001\ttest_penalty: 0.6834\n"
     ]
    },
    {
     "name": "stdout",
     "output_type": "stream",
     "text": [
      "[100/100]\ttest_main: 0.1029\ttest_main2: 0.2374\ttest_penalty: 0.7138965\r"
     ]
    },
    {
     "name": "stderr",
     "output_type": "stream",
     "text": [
      "[default |INFO|model.py:1303] [82/100]\ttest_main: 0.1029\ttest_main2: 0.2374\ttest_penalty: 0.7138\n"
     ]
    },
    {
     "name": "stdout",
     "output_type": "stream",
     "text": [
      "[100/100]\ttest_main: 0.1040\ttest_main2: 0.2899\ttest_penalty: 0.7037972\r"
     ]
    },
    {
     "name": "stderr",
     "output_type": "stream",
     "text": [
      "[default |INFO|model.py:1303] [83/100]\ttest_main: 0.1040\ttest_main2: 0.2899\ttest_penalty: 0.7037\n"
     ]
    },
    {
     "name": "stdout",
     "output_type": "stream",
     "text": [
      "[98/100]\ttest_main: 0.1014\ttest_main2: 0.3132\ttest_penalty: 0.69306977\r"
     ]
    },
    {
     "name": "stderr",
     "output_type": "stream",
     "text": [
      "[default |INFO|model.py:1303] [84/100]\ttest_main: 0.1013\ttest_main2: 0.3108\ttest_penalty: 0.6930\n"
     ]
    },
    {
     "name": "stdout",
     "output_type": "stream",
     "text": [
      "[95/100]\ttest_main: 0.1031\ttest_main2: 0.3025\ttest_penalty: 0.68296979\r"
     ]
    },
    {
     "name": "stderr",
     "output_type": "stream",
     "text": [
      "[default |INFO|model.py:1303] [85/100]\ttest_main: 0.1031\ttest_main2: 0.3015\ttest_penalty: 0.6830\n"
     ]
    },
    {
     "name": "stdout",
     "output_type": "stream",
     "text": [
      "[99/100]\ttest_main: 0.0992\ttest_main2: 0.2896\ttest_penalty: 0.69756990\r"
     ]
    },
    {
     "name": "stderr",
     "output_type": "stream",
     "text": [
      "[default |INFO|model.py:1303] [86/100]\ttest_main: 0.0993\ttest_main2: 0.2903\ttest_penalty: 0.6975\n"
     ]
    },
    {
     "name": "stdout",
     "output_type": "stream",
     "text": [
      "[96/100]\ttest_main: 0.0983\ttest_main2: 0.3256\ttest_penalty: 0.70276946\r"
     ]
    },
    {
     "name": "stderr",
     "output_type": "stream",
     "text": [
      "[default |INFO|model.py:1303] [87/100]\ttest_main: 0.0988\ttest_main2: 0.3301\ttest_penalty: 0.7027\n"
     ]
    },
    {
     "name": "stdout",
     "output_type": "stream",
     "text": [
      "[96/100]\ttest_main: 0.0995\ttest_main2: 0.3460\ttest_penalty: 0.69136936\r"
     ]
    },
    {
     "name": "stderr",
     "output_type": "stream",
     "text": [
      "[default |INFO|model.py:1303] [88/100]\ttest_main: 0.0994\ttest_main2: 0.3411\ttest_penalty: 0.6914\n"
     ]
    },
    {
     "name": "stdout",
     "output_type": "stream",
     "text": [
      "[99/100]\ttest_main: 0.1006\ttest_main2: 0.3996\ttest_penalty: 0.68656969\r"
     ]
    },
    {
     "name": "stderr",
     "output_type": "stream",
     "text": [
      "[default |INFO|model.py:1303] [89/100]\ttest_main: 0.1004\ttest_main2: 0.3998\ttest_penalty: 0.6865\n"
     ]
    },
    {
     "name": "stdout",
     "output_type": "stream",
     "text": [
      "[99/100]\ttest_main: 0.1012\ttest_main2: 0.4021\ttest_penalty: 0.69346949\r"
     ]
    },
    {
     "name": "stderr",
     "output_type": "stream",
     "text": [
      "[default |INFO|model.py:1303] [90/100]\ttest_main: 0.1014\ttest_main2: 0.4050\ttest_penalty: 0.6933\n"
     ]
    },
    {
     "name": "stdout",
     "output_type": "stream",
     "text": [
      "[96/100]\ttest_main: 0.1015\ttest_main2: 0.3913\ttest_penalty: 0.68946957\r"
     ]
    },
    {
     "name": "stderr",
     "output_type": "stream",
     "text": [
      "[default |INFO|model.py:1303] [91/100]\ttest_main: 0.1015\ttest_main2: 0.3889\ttest_penalty: 0.6894\n"
     ]
    },
    {
     "name": "stdout",
     "output_type": "stream",
     "text": [
      "[99/100]\ttest_main: 0.1033\ttest_main2: 0.3051\ttest_penalty: 0.67926965\r"
     ]
    },
    {
     "name": "stderr",
     "output_type": "stream",
     "text": [
      "[default |INFO|model.py:1303] [92/100]\ttest_main: 0.1034\ttest_main2: 0.3064\ttest_penalty: 0.6792\n"
     ]
    },
    {
     "name": "stdout",
     "output_type": "stream",
     "text": [
      "[96/100]\ttest_main: 0.1026\ttest_main2: 0.3731\ttest_penalty: 0.69606957\r"
     ]
    },
    {
     "name": "stderr",
     "output_type": "stream",
     "text": [
      "[default |INFO|model.py:1303] [93/100]\ttest_main: 0.1028\ttest_main2: 0.3732\ttest_penalty: 0.6959\n"
     ]
    },
    {
     "name": "stdout",
     "output_type": "stream",
     "text": [
      "[94/100]\ttest_main: 0.1054\ttest_main2: 0.4388\ttest_penalty: 0.69186967\r"
     ]
    },
    {
     "name": "stderr",
     "output_type": "stream",
     "text": [
      "[default |INFO|model.py:1303] [94/100]\ttest_main: 0.1050\ttest_main2: 0.4343\ttest_penalty: 0.6918\n"
     ]
    },
    {
     "name": "stdout",
     "output_type": "stream",
     "text": [
      "[96/100]\ttest_main: 0.1004\ttest_main2: 0.3911\ttest_penalty: 0.69516973\r"
     ]
    },
    {
     "name": "stderr",
     "output_type": "stream",
     "text": [
      "[default |INFO|model.py:1303] [95/100]\ttest_main: 0.1003\ttest_main2: 0.3859\ttest_penalty: 0.6952\n"
     ]
    },
    {
     "name": "stdout",
     "output_type": "stream",
     "text": [
      "[95/100]\ttest_main: 0.1026\ttest_main2: 0.3582\ttest_penalty: 0.71106952\r"
     ]
    },
    {
     "name": "stderr",
     "output_type": "stream",
     "text": [
      "[default |INFO|model.py:1303] [96/100]\ttest_main: 0.1025\ttest_main2: 0.3602\ttest_penalty: 0.7110\n"
     ]
    },
    {
     "name": "stdout",
     "output_type": "stream",
     "text": [
      "[97/100]\ttest_main: 0.1012\ttest_main2: 0.3030\ttest_penalty: 0.70016977\r"
     ]
    },
    {
     "name": "stderr",
     "output_type": "stream",
     "text": [
      "[default |INFO|model.py:1303] [97/100]\ttest_main: 0.1011\ttest_main2: 0.3080\ttest_penalty: 0.7001\n"
     ]
    },
    {
     "name": "stdout",
     "output_type": "stream",
     "text": [
      "[95/100]\ttest_main: 0.1013\ttest_main2: 0.3812\ttest_penalty: 0.69456959\r"
     ]
    },
    {
     "name": "stderr",
     "output_type": "stream",
     "text": [
      "[default |INFO|model.py:1303] [98/100]\ttest_main: 0.1010\ttest_main2: 0.3846\ttest_penalty: 0.6946\n"
     ]
    },
    {
     "name": "stdout",
     "output_type": "stream",
     "text": [
      "[96/100]\ttest_main: 0.1017\ttest_main2: 0.3437\ttest_penalty: 0.67946946\r"
     ]
    },
    {
     "name": "stderr",
     "output_type": "stream",
     "text": [
      "[default |INFO|model.py:1303] [99/100]\ttest_main: 0.1018\ttest_main2: 0.3438\ttest_penalty: 0.6794\n"
     ]
    },
    {
     "name": "stdout",
     "output_type": "stream",
     "text": [
      "[94/100]\ttest_main: 0.1013\ttest_main2: 0.4048\ttest_penalty: 0.69166967\r"
     ]
    },
    {
     "name": "stderr",
     "output_type": "stream",
     "text": [
      "[default |INFO|model.py:1303] [100/100]\ttest_main: 0.1011\ttest_main2: 0.4044\ttest_penalty: 0.6915\n"
     ]
    },
    {
     "name": "stdout",
     "output_type": "stream",
     "text": [
      "[95/100]\ttest_main: 0.1012\ttest_main2: 0.4046\ttest_penalty: 0.6916\r",
      "[96/100]\ttest_main: 0.1010\ttest_main2: 0.4006\ttest_penalty: 0.6915\r",
      "[97/100]\ttest_main: 0.1010\ttest_main2: 0.4014\ttest_penalty: 0.6915\r",
      "[98/100]\ttest_main: 0.1011\ttest_main2: 0.4013\ttest_penalty: 0.6915\r",
      "[99/100]\ttest_main: 0.1011\ttest_main2: 0.4048\ttest_penalty: 0.6915\r",
      "[100/100]\ttest_main: 0.1011\ttest_main2: 0.4044\ttest_penalty: 0.6915\r"
     ]
    },
    {
     "name": "stderr",
     "output_type": "stream",
     "text": [
      "[default |INFO|model.py:1409] Training Finished!\n",
      "[default |INFO|model.py:1410] Elapsed time: 2668.792s\n"
     ]
    }
   ],
   "source": [
    "model = SSWAE_GAN_MNIST(cfg, log, device = device)\n",
    "model.train()\n",
    "# model.train(resume = True)"
   ]
  },
  {
   "cell_type": "code",
   "execution_count": 18,
   "metadata": {},
   "outputs": [
    {
     "name": "stdout",
     "output_type": "stream",
     "text": [
      "0.32\n"
     ]
    }
   ],
   "source": [
    "acc, n = 0, 0\n",
    "for data, condition in test_generator:\n",
    "    x = data.to(device)\n",
    "    y = condition.to(device)\n",
    "    fake_latent = model.encode_s(x)\n",
    "    recon = model.decode(fake_latent)\n",
    "    recon_y = model.decode_c(fake_latent)\n",
    "    acc += torch.sum(torch.max(recon_y, 1)[1] == 5).item() # 5 for unk\n",
    "    n += len(x)\n",
    "print(acc/n)"
   ]
  },
  {
   "cell_type": "markdown",
   "metadata": {},
   "source": [
    "### Case 4. Test(2), unlabeled(0, 1, <u>7</u>, <u>8</u>, 9)"
   ]
  },
  {
   "cell_type": "code",
   "execution_count": 23,
   "metadata": {},
   "outputs": [
    {
     "data": {
      "text/plain": [
       "['./config/train_config_sswae_gan4.cfg']"
      ]
     },
     "execution_count": 23,
     "metadata": {},
     "output_type": "execute_result"
    }
   ],
   "source": [
    "cfg = configparser.ConfigParser()\n",
    "cfg.read('./config/train_config_sswae_gan4.cfg')"
   ]
  },
  {
   "cell_type": "code",
   "execution_count": 24,
   "metadata": {
    "collapsed": true
   },
   "outputs": [
    {
     "name": "stderr",
     "output_type": "stream",
     "text": [
      "[default |INFO|_base_model.py:25] ------------------------------------------------------------\n",
      "[default |INFO|_base_model.py:27] model_name : SSWAE_GAN_MNIST\n",
      "[default |INFO|_base_model.py:27] train_data : rmMNIST\n",
      "[default |INFO|_base_model.py:27] train_data_label : True\n",
      "[default |INFO|_base_model.py:27] z_sampler : gaus\n",
      "[default |INFO|_base_model.py:27] z_dim : 6\n",
      "[default |INFO|_base_model.py:27] yz_dim : 2\n",
      "[default |INFO|_base_model.py:27] y_sampler : multinomial\n",
      "[default |INFO|_base_model.py:27] y_dim : 5\n",
      "[default |INFO|_base_model.py:27] labeled_class : 3, 4, 5, 6\n",
      "[default |INFO|_base_model.py:27] unlabeled_class : 0, 1, 7, 8, 9\n",
      "[default |INFO|_base_model.py:27] test_class : 2\n",
      "[default |INFO|_base_model.py:27] classification_weight : \n",
      "[default |INFO|_base_model.py:27] encoder_pretrain : False\n",
      "[default |INFO|_base_model.py:27] lr : 5e-4\n",
      "[default |INFO|_base_model.py:27] beta1 : 0.5\n",
      "[default |INFO|_base_model.py:27] lr_adv : 2e-4\n",
      "[default |INFO|_base_model.py:27] beta1_adv : 0.5\n",
      "[default |INFO|_base_model.py:27] lambda : 10.0\n",
      "[default |INFO|_base_model.py:27] lambda2 : 10.0\n",
      "[default |INFO|_base_model.py:27] lr_schedule : manual\n",
      "[default |INFO|_base_model.py:27] validate : True\n",
      "[default |INFO|_base_model.py:27] histogram : True\n",
      "[default |INFO|_base_model.py:27] batch_size1 : 50\n",
      "[default |INFO|_base_model.py:27] batch_size2 : 100\n",
      "[default |INFO|_base_model.py:27] epoch : 100\n",
      "[default |INFO|_base_model.py:27] replace : False\n",
      "[default |INFO|_base_model.py:27] iter_per_epoch : None\n",
      "[default |INFO|_base_model.py:27] save_best : False\n",
      "[default |INFO|_base_model.py:30] data_home2 : ./data/MNIST\n",
      "[default |INFO|_base_model.py:30] tb_logs : ./result/tb_logs/sswae_gan4\n",
      "[default |INFO|_base_model.py:30] save_path : ./result/weights/sswae_gan4.pt\n",
      "[default |INFO|_base_model.py:30] save_state : ./result/states/state_sswae_gan4.pt\n",
      "[default |INFO|_base_model.py:30] save_img_path : \n",
      "[default |INFO|model.py:1149] ------------------------------------------------------------\n",
      "[default |INFO|model.py:1150] Training Start!\n"
     ]
    },
    {
     "name": "stdout",
     "output_type": "stream",
     "text": [
      "[100/100]\ttest_main: 0.1659\ttest_main2: 0.3894\ttest_penalty: 0.6923865\r"
     ]
    },
    {
     "name": "stderr",
     "output_type": "stream",
     "text": [
      "[default |INFO|model.py:1303] [1/100]\ttest_main: 0.1659\ttest_main2: 0.3894\ttest_penalty: 0.6923\n"
     ]
    },
    {
     "name": "stdout",
     "output_type": "stream",
     "text": [
      "warning: Embedding dir exists, did you set global_step for add_embedding()?\n",
      "[100/100]\ttest_main: 0.1424\ttest_main2: 0.2146\ttest_penalty: 0.6931931\r"
     ]
    },
    {
     "name": "stderr",
     "output_type": "stream",
     "text": [
      "[default |INFO|model.py:1303] [2/100]\ttest_main: 0.1424\ttest_main2: 0.2146\ttest_penalty: 0.6931\n"
     ]
    },
    {
     "name": "stdout",
     "output_type": "stream",
     "text": [
      "warning: Embedding dir exists, did you set global_step for add_embedding()?\n",
      "[100/100]\ttest_main: 0.1251\ttest_main2: 0.1171\ttest_penalty: 0.6929929\r"
     ]
    },
    {
     "name": "stderr",
     "output_type": "stream",
     "text": [
      "[default |INFO|model.py:1303] [3/100]\ttest_main: 0.1251\ttest_main2: 0.1171\ttest_penalty: 0.6929\n"
     ]
    },
    {
     "name": "stdout",
     "output_type": "stream",
     "text": [
      "warning: Embedding dir exists, did you set global_step for add_embedding()?\n",
      "[100/100]\ttest_main: 0.1266\ttest_main2: 0.0782\ttest_penalty: 0.7387991\r"
     ]
    },
    {
     "name": "stderr",
     "output_type": "stream",
     "text": [
      "[default |INFO|model.py:1303] [4/100]\ttest_main: 0.1266\ttest_main2: 0.0782\ttest_penalty: 0.7387\n"
     ]
    },
    {
     "name": "stdout",
     "output_type": "stream",
     "text": [
      "warning: Embedding dir exists, did you set global_step for add_embedding()?\n",
      "[100/100]\ttest_main: 0.1207\ttest_main2: 0.0475\ttest_penalty: 0.6885042\r"
     ]
    },
    {
     "name": "stderr",
     "output_type": "stream",
     "text": [
      "[default |INFO|model.py:1303] [5/100]\ttest_main: 0.1207\ttest_main2: 0.0475\ttest_penalty: 0.6885\n"
     ]
    },
    {
     "name": "stdout",
     "output_type": "stream",
     "text": [
      "warning: Embedding dir exists, did you set global_step for add_embedding()?\n",
      "[100/100]\ttest_main: 0.1173\ttest_main2: 0.0381\ttest_penalty: 0.6549053\r"
     ]
    },
    {
     "name": "stderr",
     "output_type": "stream",
     "text": [
      "[default |INFO|model.py:1303] [6/100]\ttest_main: 0.1173\ttest_main2: 0.0381\ttest_penalty: 0.6549\n"
     ]
    },
    {
     "name": "stdout",
     "output_type": "stream",
     "text": [
      "warning: Embedding dir exists, did you set global_step for add_embedding()?\n",
      "[100/100]\ttest_main: 0.1204\ttest_main2: 0.0425\ttest_penalty: 0.7001092\r"
     ]
    },
    {
     "name": "stderr",
     "output_type": "stream",
     "text": [
      "[default |INFO|model.py:1303] [7/100]\ttest_main: 0.1204\ttest_main2: 0.0425\ttest_penalty: 0.7001\n"
     ]
    },
    {
     "name": "stdout",
     "output_type": "stream",
     "text": [
      "warning: Embedding dir exists, did you set global_step for add_embedding()?\n",
      "[100/100]\ttest_main: 0.1176\ttest_main2: 0.0469\ttest_penalty: 0.6325051\r"
     ]
    },
    {
     "name": "stderr",
     "output_type": "stream",
     "text": [
      "[default |INFO|model.py:1303] [8/100]\ttest_main: 0.1176\ttest_main2: 0.0469\ttest_penalty: 0.6325\n"
     ]
    },
    {
     "name": "stdout",
     "output_type": "stream",
     "text": [
      "warning: Embedding dir exists, did you set global_step for add_embedding()?\n",
      "[100/100]\ttest_main: 0.1215\ttest_main2: 0.0505\ttest_penalty: 0.6493157\r"
     ]
    },
    {
     "name": "stderr",
     "output_type": "stream",
     "text": [
      "[default |INFO|model.py:1303] [9/100]\ttest_main: 0.1215\ttest_main2: 0.0505\ttest_penalty: 0.6493\n"
     ]
    },
    {
     "name": "stdout",
     "output_type": "stream",
     "text": [
      "warning: Embedding dir exists, did you set global_step for add_embedding()?\n",
      "[100/100]\ttest_main: 0.1199\ttest_main2: 0.0542\ttest_penalty: 0.6941156\r"
     ]
    },
    {
     "name": "stderr",
     "output_type": "stream",
     "text": [
      "[default |INFO|model.py:1303] [10/100]\ttest_main: 0.1199\ttest_main2: 0.0542\ttest_penalty: 0.6941\n"
     ]
    },
    {
     "name": "stdout",
     "output_type": "stream",
     "text": [
      "warning: Embedding dir exists, did you set global_step for add_embedding()?\n",
      "[100/100]\ttest_main: 0.1152\ttest_main2: 0.0488\ttest_penalty: 0.6873119\r"
     ]
    },
    {
     "name": "stderr",
     "output_type": "stream",
     "text": [
      "[default |INFO|model.py:1303] [11/100]\ttest_main: 0.1152\ttest_main2: 0.0488\ttest_penalty: 0.6873\n"
     ]
    },
    {
     "name": "stdout",
     "output_type": "stream",
     "text": [
      "warning: Embedding dir exists, did you set global_step for add_embedding()?\n",
      "[100/100]\ttest_main: 0.1122\ttest_main2: 0.0580\ttest_penalty: 0.6895014\r"
     ]
    },
    {
     "name": "stderr",
     "output_type": "stream",
     "text": [
      "[default |INFO|model.py:1303] [12/100]\ttest_main: 0.1122\ttest_main2: 0.0580\ttest_penalty: 0.6895\n"
     ]
    },
    {
     "name": "stdout",
     "output_type": "stream",
     "text": [
      "warning: Embedding dir exists, did you set global_step for add_embedding()?\n",
      "[100/100]\ttest_main: 0.1106\ttest_main2: 0.0390\ttest_penalty: 0.6745077\r"
     ]
    },
    {
     "name": "stderr",
     "output_type": "stream",
     "text": [
      "[default |INFO|model.py:1303] [13/100]\ttest_main: 0.1106\ttest_main2: 0.0390\ttest_penalty: 0.6745\n"
     ]
    },
    {
     "name": "stdout",
     "output_type": "stream",
     "text": [
      "warning: Embedding dir exists, did you set global_step for add_embedding()?\n",
      "[100/100]\ttest_main: 0.1103\ttest_main2: 0.0324\ttest_penalty: 0.6619115\r"
     ]
    },
    {
     "name": "stderr",
     "output_type": "stream",
     "text": [
      "[default |INFO|model.py:1303] [14/100]\ttest_main: 0.1103\ttest_main2: 0.0324\ttest_penalty: 0.6619\n"
     ]
    },
    {
     "name": "stdout",
     "output_type": "stream",
     "text": [
      "warning: Embedding dir exists, did you set global_step for add_embedding()?\n",
      "[100/100]\ttest_main: 0.1088\ttest_main2: 0.0323\ttest_penalty: 0.7413059\r"
     ]
    },
    {
     "name": "stderr",
     "output_type": "stream",
     "text": [
      "[default |INFO|model.py:1303] [15/100]\ttest_main: 0.1088\ttest_main2: 0.0323\ttest_penalty: 0.7413\n"
     ]
    },
    {
     "name": "stdout",
     "output_type": "stream",
     "text": [
      "warning: Embedding dir exists, did you set global_step for add_embedding()?\n",
      "[97/100]\ttest_main: 0.1156\ttest_main2: 0.0215\ttest_penalty: 0.65027053\r"
     ]
    },
    {
     "name": "stderr",
     "output_type": "stream",
     "text": [
      "[default |INFO|model.py:1303] [16/100]\ttest_main: 0.1155\ttest_main2: 0.0215\ttest_penalty: 0.6502\n"
     ]
    },
    {
     "name": "stdout",
     "output_type": "stream",
     "text": [
      "warning: Embedding dir exists, did you set global_step for add_embedding()?\n",
      "[96/100]\ttest_main: 0.1169\ttest_main2: 0.0366\ttest_penalty: 0.67487064\r"
     ]
    },
    {
     "name": "stderr",
     "output_type": "stream",
     "text": [
      "[default |INFO|model.py:1303] [17/100]\ttest_main: 0.1168\ttest_main2: 0.0364\ttest_penalty: 0.6748\n"
     ]
    },
    {
     "name": "stdout",
     "output_type": "stream",
     "text": [
      "warning: Embedding dir exists, did you set global_step for add_embedding()?\n",
      "[95/100]\ttest_main: 0.1144\ttest_main2: 0.0361\ttest_penalty: 0.65977003\r"
     ]
    },
    {
     "name": "stderr",
     "output_type": "stream",
     "text": [
      "[default |INFO|model.py:1303] [18/100]\ttest_main: 0.1146\ttest_main2: 0.0357\ttest_penalty: 0.6595\n"
     ]
    },
    {
     "name": "stdout",
     "output_type": "stream",
     "text": [
      "warning: Embedding dir exists, did you set global_step for add_embedding()?\n",
      "[96/100]\ttest_main: 0.1199\ttest_main2: 0.0418\ttest_penalty: 0.68157037\r"
     ]
    },
    {
     "name": "stderr",
     "output_type": "stream",
     "text": [
      "[default |INFO|model.py:1303] [19/100]\ttest_main: 0.1197\ttest_main2: 0.0410\ttest_penalty: 0.6815\n"
     ]
    },
    {
     "name": "stdout",
     "output_type": "stream",
     "text": [
      "warning: Embedding dir exists, did you set global_step for add_embedding()?\n",
      "[95/100]\ttest_main: 0.1125\ttest_main2: 0.0389\ttest_penalty: 0.68687039\r"
     ]
    },
    {
     "name": "stderr",
     "output_type": "stream",
     "text": [
      "[default |INFO|model.py:1303] [20/100]\ttest_main: 0.1125\ttest_main2: 0.0383\ttest_penalty: 0.6869\n"
     ]
    },
    {
     "name": "stdout",
     "output_type": "stream",
     "text": [
      "warning: Embedding dir exists, did you set global_step for add_embedding()?\n",
      "[95/100]\ttest_main: 0.1179\ttest_main2: 0.0474\ttest_penalty: 0.70877064\r"
     ]
    },
    {
     "name": "stderr",
     "output_type": "stream",
     "text": [
      "[default |INFO|model.py:1303] [21/100]\ttest_main: 0.1181\ttest_main2: 0.0475\ttest_penalty: 0.7085\n"
     ]
    },
    {
     "name": "stdout",
     "output_type": "stream",
     "text": [
      "warning: Embedding dir exists, did you set global_step for add_embedding()?\n",
      "[97/100]\ttest_main: 0.1158\ttest_main2: 0.0267\ttest_penalty: 0.68647097\r"
     ]
    },
    {
     "name": "stderr",
     "output_type": "stream",
     "text": [
      "[default |INFO|model.py:1303] [22/100]\ttest_main: 0.1160\ttest_main2: 0.0268\ttest_penalty: 0.6864\n"
     ]
    },
    {
     "name": "stdout",
     "output_type": "stream",
     "text": [
      "warning: Embedding dir exists, did you set global_step for add_embedding()?\n",
      "[95/100]\ttest_main: 0.1142\ttest_main2: 0.0255\ttest_penalty: 0.71937104\r"
     ]
    },
    {
     "name": "stderr",
     "output_type": "stream",
     "text": [
      "[default |INFO|model.py:1303] [23/100]\ttest_main: 0.1138\ttest_main2: 0.0253\ttest_penalty: 0.7191\n"
     ]
    },
    {
     "name": "stdout",
     "output_type": "stream",
     "text": [
      "warning: Embedding dir exists, did you set global_step for add_embedding()?\n",
      "[97/100]\ttest_main: 0.1096\ttest_main2: 0.0273\ttest_penalty: 0.66737086\r"
     ]
    },
    {
     "name": "stderr",
     "output_type": "stream",
     "text": [
      "[default |INFO|model.py:1303] [24/100]\ttest_main: 0.1096\ttest_main2: 0.0267\ttest_penalty: 0.6673\n"
     ]
    },
    {
     "name": "stdout",
     "output_type": "stream",
     "text": [
      "warning: Embedding dir exists, did you set global_step for add_embedding()?\n",
      "[96/100]\ttest_main: 0.1181\ttest_main2: 0.0282\ttest_penalty: 0.66517043\r"
     ]
    },
    {
     "name": "stderr",
     "output_type": "stream",
     "text": [
      "[default |INFO|model.py:1303] [25/100]\ttest_main: 0.1182\ttest_main2: 0.0281\ttest_penalty: 0.6652\n"
     ]
    },
    {
     "name": "stdout",
     "output_type": "stream",
     "text": [
      "warning: Embedding dir exists, did you set global_step for add_embedding()?\n",
      "[95/100]\ttest_main: 0.1152\ttest_main2: 0.0224\ttest_penalty: 0.68497001\r"
     ]
    },
    {
     "name": "stderr",
     "output_type": "stream",
     "text": [
      "[default |INFO|model.py:1303] [26/100]\ttest_main: 0.1150\ttest_main2: 0.0229\ttest_penalty: 0.6849\n"
     ]
    },
    {
     "name": "stdout",
     "output_type": "stream",
     "text": [
      "warning: Embedding dir exists, did you set global_step for add_embedding()?\n",
      "[97/100]\ttest_main: 0.1092\ttest_main2: 0.0342\ttest_penalty: 0.70497039\r"
     ]
    },
    {
     "name": "stderr",
     "output_type": "stream",
     "text": [
      "[default |INFO|model.py:1303] [27/100]\ttest_main: 0.1090\ttest_main2: 0.0342\ttest_penalty: 0.7049\n"
     ]
    },
    {
     "name": "stdout",
     "output_type": "stream",
     "text": [
      "warning: Embedding dir exists, did you set global_step for add_embedding()?\n",
      "[97/100]\ttest_main: 0.1158\ttest_main2: 0.0500\ttest_penalty: 0.69917029\r"
     ]
    },
    {
     "name": "stderr",
     "output_type": "stream",
     "text": [
      "[default |INFO|model.py:1303] [28/100]\ttest_main: 0.1157\ttest_main2: 0.0490\ttest_penalty: 0.6992\n"
     ]
    },
    {
     "name": "stdout",
     "output_type": "stream",
     "text": [
      "warning: Embedding dir exists, did you set global_step for add_embedding()?\n",
      "[96/100]\ttest_main: 0.1135\ttest_main2: 0.0463\ttest_penalty: 0.67987038\r"
     ]
    },
    {
     "name": "stderr",
     "output_type": "stream",
     "text": [
      "[default |INFO|model.py:1303] [29/100]\ttest_main: 0.1134\ttest_main2: 0.0459\ttest_penalty: 0.6800\n"
     ]
    },
    {
     "name": "stdout",
     "output_type": "stream",
     "text": [
      "warning: Embedding dir exists, did you set global_step for add_embedding()?\n",
      "[99/100]\ttest_main: 0.1147\ttest_main2: 0.0194\ttest_penalty: 0.70237062\r"
     ]
    },
    {
     "name": "stderr",
     "output_type": "stream",
     "text": [
      "[default |INFO|model.py:1303] [30/100]\ttest_main: 0.1147\ttest_main2: 0.0194\ttest_penalty: 0.7024\n"
     ]
    },
    {
     "name": "stdout",
     "output_type": "stream",
     "text": [
      "warning: Embedding dir exists, did you set global_step for add_embedding()?\n",
      "[96/100]\ttest_main: 0.1133\ttest_main2: 0.0330\ttest_penalty: 0.71917041\r"
     ]
    },
    {
     "name": "stderr",
     "output_type": "stream",
     "text": [
      "[default |INFO|model.py:1303] [31/100]\ttest_main: 0.1132\ttest_main2: 0.0329\ttest_penalty: 0.7192\n"
     ]
    },
    {
     "name": "stdout",
     "output_type": "stream",
     "text": [
      "warning: Embedding dir exists, did you set global_step for add_embedding()?\n",
      "[98/100]\ttest_main: 0.1132\ttest_main2: 0.0488\ttest_penalty: 0.68277041\r"
     ]
    },
    {
     "name": "stderr",
     "output_type": "stream",
     "text": [
      "[default |INFO|model.py:1303] [32/100]\ttest_main: 0.1131\ttest_main2: 0.0489\ttest_penalty: 0.6827\n"
     ]
    },
    {
     "name": "stdout",
     "output_type": "stream",
     "text": [
      "warning: Embedding dir exists, did you set global_step for add_embedding()?\n",
      "[97/100]\ttest_main: 0.1126\ttest_main2: 0.0277\ttest_penalty: 0.67007038\r"
     ]
    },
    {
     "name": "stderr",
     "output_type": "stream",
     "text": [
      "[default |INFO|model.py:1303] [33/100]\ttest_main: 0.1123\ttest_main2: 0.0283\ttest_penalty: 0.6699\n"
     ]
    },
    {
     "name": "stdout",
     "output_type": "stream",
     "text": [
      "warning: Embedding dir exists, did you set global_step for add_embedding()?\n",
      "[97/100]\ttest_main: 0.1104\ttest_main2: 0.0219\ttest_penalty: 0.68387041\r"
     ]
    },
    {
     "name": "stderr",
     "output_type": "stream",
     "text": [
      "[default |INFO|model.py:1303] [34/100]\ttest_main: 0.1105\ttest_main2: 0.0220\ttest_penalty: 0.6837\n"
     ]
    },
    {
     "name": "stdout",
     "output_type": "stream",
     "text": [
      "warning: Embedding dir exists, did you set global_step for add_embedding()?\n",
      "[95/100]\ttest_main: 0.1078\ttest_main2: 0.0288\ttest_penalty: 0.71257022\r"
     ]
    },
    {
     "name": "stderr",
     "output_type": "stream",
     "text": [
      "[default |INFO|model.py:1303] [35/100]\ttest_main: 0.1077\ttest_main2: 0.0285\ttest_penalty: 0.7126\n"
     ]
    },
    {
     "name": "stdout",
     "output_type": "stream",
     "text": [
      "warning: Embedding dir exists, did you set global_step for add_embedding()?\n",
      "[96/100]\ttest_main: 0.1106\ttest_main2: 0.0304\ttest_penalty: 0.69867033\r"
     ]
    },
    {
     "name": "stderr",
     "output_type": "stream",
     "text": [
      "[default |INFO|model.py:1303] [36/100]\ttest_main: 0.1106\ttest_main2: 0.0302\ttest_penalty: 0.6986\n"
     ]
    },
    {
     "name": "stdout",
     "output_type": "stream",
     "text": [
      "warning: Embedding dir exists, did you set global_step for add_embedding()?\n",
      "[94/100]\ttest_main: 0.1116\ttest_main2: 0.0283\ttest_penalty: 0.68057036\r"
     ]
    },
    {
     "name": "stderr",
     "output_type": "stream",
     "text": [
      "[default |INFO|model.py:1303] [37/100]\ttest_main: 0.1112\ttest_main2: 0.0283\ttest_penalty: 0.6804\n"
     ]
    },
    {
     "name": "stdout",
     "output_type": "stream",
     "text": [
      "warning: Embedding dir exists, did you set global_step for add_embedding()?\n",
      "[97/100]\ttest_main: 0.1087\ttest_main2: 0.0321\ttest_penalty: 0.70787035\r"
     ]
    },
    {
     "name": "stderr",
     "output_type": "stream",
     "text": [
      "[default |INFO|model.py:1303] [38/100]\ttest_main: 0.1087\ttest_main2: 0.0315\ttest_penalty: 0.7077\n"
     ]
    },
    {
     "name": "stdout",
     "output_type": "stream",
     "text": [
      "[98/100]\ttest_main: 0.1093\ttest_main2: 0.0316\ttest_penalty: 0.68717027\r"
     ]
    },
    {
     "name": "stderr",
     "output_type": "stream",
     "text": [
      "[default |INFO|model.py:1303] [39/100]\ttest_main: 0.1093\ttest_main2: 0.0323\ttest_penalty: 0.6871\n"
     ]
    },
    {
     "name": "stdout",
     "output_type": "stream",
     "text": [
      "[98/100]\ttest_main: 0.1058\ttest_main2: 0.0419\ttest_penalty: 0.67837017\r"
     ]
    },
    {
     "name": "stderr",
     "output_type": "stream",
     "text": [
      "[default |INFO|model.py:1303] [40/100]\ttest_main: 0.1057\ttest_main2: 0.0423\ttest_penalty: 0.6784\n"
     ]
    },
    {
     "name": "stdout",
     "output_type": "stream",
     "text": [
      "[95/100]\ttest_main: 0.1100\ttest_main2: 0.0282\ttest_penalty: 0.69507022\r"
     ]
    },
    {
     "name": "stderr",
     "output_type": "stream",
     "text": [
      "[default |INFO|model.py:1303] [41/100]\ttest_main: 0.1100\ttest_main2: 0.0280\ttest_penalty: 0.6951\n"
     ]
    },
    {
     "name": "stdout",
     "output_type": "stream",
     "text": [
      "[97/100]\ttest_main: 0.1100\ttest_main2: 0.0406\ttest_penalty: 0.68807017\r"
     ]
    },
    {
     "name": "stderr",
     "output_type": "stream",
     "text": [
      "[default |INFO|model.py:1303] [42/100]\ttest_main: 0.1097\ttest_main2: 0.0397\ttest_penalty: 0.6880\n"
     ]
    },
    {
     "name": "stdout",
     "output_type": "stream",
     "text": [
      "[98/100]\ttest_main: 0.1065\ttest_main2: 0.0319\ttest_penalty: 0.67157006\r"
     ]
    },
    {
     "name": "stderr",
     "output_type": "stream",
     "text": [
      "[default |INFO|model.py:1303] [43/100]\ttest_main: 0.1062\ttest_main2: 0.0321\ttest_penalty: 0.6715\n"
     ]
    },
    {
     "name": "stdout",
     "output_type": "stream",
     "text": [
      "[96/100]\ttest_main: 0.1051\ttest_main2: 0.0285\ttest_penalty: 0.66656996\r"
     ]
    },
    {
     "name": "stderr",
     "output_type": "stream",
     "text": [
      "[default |INFO|model.py:1303] [44/100]\ttest_main: 0.1052\ttest_main2: 0.0283\ttest_penalty: 0.6664\n"
     ]
    },
    {
     "name": "stdout",
     "output_type": "stream",
     "text": [
      "[97/100]\ttest_main: 0.1048\ttest_main2: 0.0429\ttest_penalty: 0.67537001\r"
     ]
    },
    {
     "name": "stderr",
     "output_type": "stream",
     "text": [
      "[default |INFO|model.py:1303] [45/100]\ttest_main: 0.1050\ttest_main2: 0.0435\ttest_penalty: 0.6753\n"
     ]
    },
    {
     "name": "stdout",
     "output_type": "stream",
     "text": [
      "[95/100]\ttest_main: 0.1042\ttest_main2: 0.0869\ttest_penalty: 0.70457000\r"
     ]
    },
    {
     "name": "stderr",
     "output_type": "stream",
     "text": [
      "[default |INFO|model.py:1303] [46/100]\ttest_main: 0.1041\ttest_main2: 0.0873\ttest_penalty: 0.7045\n"
     ]
    },
    {
     "name": "stdout",
     "output_type": "stream",
     "text": [
      "[97/100]\ttest_main: 0.1059\ttest_main2: 0.0391\ttest_penalty: 0.69556997\r"
     ]
    },
    {
     "name": "stderr",
     "output_type": "stream",
     "text": [
      "[default |INFO|model.py:1303] [47/100]\ttest_main: 0.1058\ttest_main2: 0.0394\ttest_penalty: 0.6955\n"
     ]
    },
    {
     "name": "stdout",
     "output_type": "stream",
     "text": [
      "[100/100]\ttest_main: 0.1026\ttest_main2: 0.0329\ttest_penalty: 0.7030000\r"
     ]
    },
    {
     "name": "stderr",
     "output_type": "stream",
     "text": [
      "[default |INFO|model.py:1303] [48/100]\ttest_main: 0.1026\ttest_main2: 0.0329\ttest_penalty: 0.7030\n"
     ]
    },
    {
     "name": "stdout",
     "output_type": "stream",
     "text": [
      "[100/100]\ttest_main: 0.1055\ttest_main2: 0.0232\ttest_penalty: 0.6936007\r"
     ]
    },
    {
     "name": "stderr",
     "output_type": "stream",
     "text": [
      "[default |INFO|model.py:1303] [49/100]\ttest_main: 0.1055\ttest_main2: 0.0232\ttest_penalty: 0.6936\n"
     ]
    },
    {
     "name": "stdout",
     "output_type": "stream",
     "text": [
      "[100/100]\ttest_main: 0.1083\ttest_main2: 0.0385\ttest_penalty: 0.7049964\r"
     ]
    },
    {
     "name": "stderr",
     "output_type": "stream",
     "text": [
      "[default |INFO|model.py:1303] [50/100]\ttest_main: 0.1083\ttest_main2: 0.0385\ttest_penalty: 0.7049\n"
     ]
    },
    {
     "name": "stdout",
     "output_type": "stream",
     "text": [
      "[97/100]\ttest_main: 0.1025\ttest_main2: 0.0366\ttest_penalty: 0.67686985\r"
     ]
    },
    {
     "name": "stderr",
     "output_type": "stream",
     "text": [
      "[default |INFO|model.py:1303] [51/100]\ttest_main: 0.1027\ttest_main2: 0.0367\ttest_penalty: 0.6768\n"
     ]
    },
    {
     "name": "stdout",
     "output_type": "stream",
     "text": [
      "[94/100]\ttest_main: 0.1048\ttest_main2: 0.0286\ttest_penalty: 0.70596981\r"
     ]
    },
    {
     "name": "stderr",
     "output_type": "stream",
     "text": [
      "[default |INFO|model.py:1303] [52/100]\ttest_main: 0.1046\ttest_main2: 0.0282\ttest_penalty: 0.7060\n"
     ]
    },
    {
     "name": "stdout",
     "output_type": "stream",
     "text": [
      "[97/100]\ttest_main: 0.1034\ttest_main2: 0.0502\ttest_penalty: 0.68146986\r"
     ]
    },
    {
     "name": "stderr",
     "output_type": "stream",
     "text": [
      "[default |INFO|model.py:1303] [53/100]\ttest_main: 0.1036\ttest_main2: 0.0501\ttest_penalty: 0.6815\n"
     ]
    },
    {
     "name": "stdout",
     "output_type": "stream",
     "text": [
      "[99/100]\ttest_main: 0.1063\ttest_main2: 0.0362\ttest_penalty: 0.70206991\r"
     ]
    },
    {
     "name": "stderr",
     "output_type": "stream",
     "text": [
      "[default |INFO|model.py:1303] [54/100]\ttest_main: 0.1062\ttest_main2: 0.0358\ttest_penalty: 0.7020\n"
     ]
    },
    {
     "name": "stdout",
     "output_type": "stream",
     "text": [
      "[99/100]\ttest_main: 0.1045\ttest_main2: 0.0275\ttest_penalty: 0.67976992\r"
     ]
    },
    {
     "name": "stderr",
     "output_type": "stream",
     "text": [
      "[default |INFO|model.py:1303] [55/100]\ttest_main: 0.1045\ttest_main2: 0.0272\ttest_penalty: 0.6797\n"
     ]
    },
    {
     "name": "stdout",
     "output_type": "stream",
     "text": [
      "[98/100]\ttest_main: 0.1067\ttest_main2: 0.0258\ttest_penalty: 0.71726977\r"
     ]
    },
    {
     "name": "stderr",
     "output_type": "stream",
     "text": [
      "[default |INFO|model.py:1303] [56/100]\ttest_main: 0.1069\ttest_main2: 0.0258\ttest_penalty: 0.7171\n"
     ]
    },
    {
     "name": "stdout",
     "output_type": "stream",
     "text": [
      "[99/100]\ttest_main: 0.1034\ttest_main2: 0.0419\ttest_penalty: 0.68166982\r"
     ]
    },
    {
     "name": "stderr",
     "output_type": "stream",
     "text": [
      "[default |INFO|model.py:1303] [57/100]\ttest_main: 0.1033\ttest_main2: 0.0419\ttest_penalty: 0.6817\n"
     ]
    },
    {
     "name": "stdout",
     "output_type": "stream",
     "text": [
      "[95/100]\ttest_main: 0.1037\ttest_main2: 0.0472\ttest_penalty: 0.68226988\r"
     ]
    },
    {
     "name": "stderr",
     "output_type": "stream",
     "text": [
      "[default |INFO|model.py:1303] [58/100]\ttest_main: 0.1036\ttest_main2: 0.0455\ttest_penalty: 0.6822\n"
     ]
    },
    {
     "name": "stdout",
     "output_type": "stream",
     "text": [
      "[96/100]\ttest_main: 0.1014\ttest_main2: 0.0661\ttest_penalty: 0.70526982\r"
     ]
    },
    {
     "name": "stderr",
     "output_type": "stream",
     "text": [
      "[default |INFO|model.py:1303] [59/100]\ttest_main: 0.1017\ttest_main2: 0.0664\ttest_penalty: 0.7051\n"
     ]
    },
    {
     "name": "stdout",
     "output_type": "stream",
     "text": [
      "[95/100]\ttest_main: 0.1030\ttest_main2: 0.0416\ttest_penalty: 0.68326983\r"
     ]
    },
    {
     "name": "stderr",
     "output_type": "stream",
     "text": [
      "[default |INFO|model.py:1303] [60/100]\ttest_main: 0.1031\ttest_main2: 0.0403\ttest_penalty: 0.6833\n"
     ]
    },
    {
     "name": "stdout",
     "output_type": "stream",
     "text": [
      "[97/100]\ttest_main: 0.1022\ttest_main2: 0.0355\ttest_penalty: 0.67766983\r"
     ]
    },
    {
     "name": "stderr",
     "output_type": "stream",
     "text": [
      "[default |INFO|model.py:1303] [61/100]\ttest_main: 0.1024\ttest_main2: 0.0351\ttest_penalty: 0.6777\n"
     ]
    },
    {
     "name": "stdout",
     "output_type": "stream",
     "text": [
      "[96/100]\ttest_main: 0.1026\ttest_main2: 0.0434\ttest_penalty: 0.69796974\r"
     ]
    },
    {
     "name": "stderr",
     "output_type": "stream",
     "text": [
      "[default |INFO|model.py:1303] [62/100]\ttest_main: 0.1024\ttest_main2: 0.0435\ttest_penalty: 0.6978\n"
     ]
    },
    {
     "name": "stdout",
     "output_type": "stream",
     "text": [
      "[100/100]\ttest_main: 0.1046\ttest_main2: 0.0257\ttest_penalty: 0.6975976\r"
     ]
    },
    {
     "name": "stderr",
     "output_type": "stream",
     "text": [
      "[default |INFO|model.py:1303] [63/100]\ttest_main: 0.1046\ttest_main2: 0.0257\ttest_penalty: 0.6975\n"
     ]
    },
    {
     "name": "stdout",
     "output_type": "stream",
     "text": [
      "[100/100]\ttest_main: 0.1024\ttest_main2: 0.0390\ttest_penalty: 0.6805974\r"
     ]
    },
    {
     "name": "stderr",
     "output_type": "stream",
     "text": [
      "[default |INFO|model.py:1303] [64/100]\ttest_main: 0.1024\ttest_main2: 0.0390\ttest_penalty: 0.6805\n"
     ]
    },
    {
     "name": "stdout",
     "output_type": "stream",
     "text": [
      "[100/100]\ttest_main: 0.1019\ttest_main2: 0.0435\ttest_penalty: 0.7010975\r"
     ]
    },
    {
     "name": "stderr",
     "output_type": "stream",
     "text": [
      "[default |INFO|model.py:1303] [65/100]\ttest_main: 0.1019\ttest_main2: 0.0435\ttest_penalty: 0.7010\n"
     ]
    },
    {
     "name": "stdout",
     "output_type": "stream",
     "text": [
      "[100/100]\ttest_main: 0.1022\ttest_main2: 0.0379\ttest_penalty: 0.6949981\r"
     ]
    },
    {
     "name": "stderr",
     "output_type": "stream",
     "text": [
      "[default |INFO|model.py:1303] [66/100]\ttest_main: 0.1022\ttest_main2: 0.0379\ttest_penalty: 0.6949\n"
     ]
    },
    {
     "name": "stdout",
     "output_type": "stream",
     "text": [
      "[100/100]\ttest_main: 0.1024\ttest_main2: 0.0399\ttest_penalty: 0.6715972\r"
     ]
    },
    {
     "name": "stderr",
     "output_type": "stream",
     "text": [
      "[default |INFO|model.py:1303] [67/100]\ttest_main: 0.1024\ttest_main2: 0.0399\ttest_penalty: 0.6715\n"
     ]
    },
    {
     "name": "stdout",
     "output_type": "stream",
     "text": [
      "[98/100]\ttest_main: 0.1025\ttest_main2: 0.0239\ttest_penalty: 0.70606960\r"
     ]
    },
    {
     "name": "stderr",
     "output_type": "stream",
     "text": [
      "[default |INFO|model.py:1303] [68/100]\ttest_main: 0.1023\ttest_main2: 0.0242\ttest_penalty: 0.7060\n"
     ]
    },
    {
     "name": "stdout",
     "output_type": "stream",
     "text": [
      "[99/100]\ttest_main: 0.0987\ttest_main2: 0.0261\ttest_penalty: 0.70506967\r"
     ]
    },
    {
     "name": "stderr",
     "output_type": "stream",
     "text": [
      "[default |INFO|model.py:1303] [69/100]\ttest_main: 0.0987\ttest_main2: 0.0258\ttest_penalty: 0.7051\n"
     ]
    },
    {
     "name": "stdout",
     "output_type": "stream",
     "text": [
      "[96/100]\ttest_main: 0.1030\ttest_main2: 0.0304\ttest_penalty: 0.68526963\r"
     ]
    },
    {
     "name": "stderr",
     "output_type": "stream",
     "text": [
      "[default |INFO|model.py:1303] [70/100]\ttest_main: 0.1028\ttest_main2: 0.0299\ttest_penalty: 0.6853\n"
     ]
    },
    {
     "name": "stdout",
     "output_type": "stream",
     "text": [
      "[94/100]\ttest_main: 0.1009\ttest_main2: 0.0268\ttest_penalty: 0.68016954\r"
     ]
    },
    {
     "name": "stderr",
     "output_type": "stream",
     "text": [
      "[default |INFO|model.py:1303] [71/100]\ttest_main: 0.1009\ttest_main2: 0.0265\ttest_penalty: 0.6801\n"
     ]
    },
    {
     "name": "stdout",
     "output_type": "stream",
     "text": [
      "[95/100]\ttest_main: 0.1008\ttest_main2: 0.0283\ttest_penalty: 0.67136960\r"
     ]
    },
    {
     "name": "stderr",
     "output_type": "stream",
     "text": [
      "[default |INFO|model.py:1303] [72/100]\ttest_main: 0.1009\ttest_main2: 0.0288\ttest_penalty: 0.6714\n"
     ]
    },
    {
     "name": "stdout",
     "output_type": "stream",
     "text": [
      "[96/100]\ttest_main: 0.1012\ttest_main2: 0.0254\ttest_penalty: 0.69016968\r"
     ]
    },
    {
     "name": "stderr",
     "output_type": "stream",
     "text": [
      "[default |INFO|model.py:1303] [73/100]\ttest_main: 0.1011\ttest_main2: 0.0253\ttest_penalty: 0.6902\n"
     ]
    },
    {
     "name": "stdout",
     "output_type": "stream",
     "text": [
      "[97/100]\ttest_main: 0.1015\ttest_main2: 0.0350\ttest_penalty: 0.69786957\r"
     ]
    },
    {
     "name": "stderr",
     "output_type": "stream",
     "text": [
      "[default |INFO|model.py:1303] [74/100]\ttest_main: 0.1015\ttest_main2: 0.0348\ttest_penalty: 0.6979\n"
     ]
    },
    {
     "name": "stdout",
     "output_type": "stream",
     "text": [
      "[97/100]\ttest_main: 0.0999\ttest_main2: 0.0225\ttest_penalty: 0.67566961\r"
     ]
    },
    {
     "name": "stderr",
     "output_type": "stream",
     "text": [
      "[default |INFO|model.py:1303] [75/100]\ttest_main: 0.0998\ttest_main2: 0.0225\ttest_penalty: 0.6756\n"
     ]
    },
    {
     "name": "stdout",
     "output_type": "stream",
     "text": [
      "[99/100]\ttest_main: 0.0973\ttest_main2: 0.0187\ttest_penalty: 0.69406949\r"
     ]
    },
    {
     "name": "stderr",
     "output_type": "stream",
     "text": [
      "[default |INFO|model.py:1303] [76/100]\ttest_main: 0.0973\ttest_main2: 0.0190\ttest_penalty: 0.6940\n"
     ]
    },
    {
     "name": "stdout",
     "output_type": "stream",
     "text": [
      "[95/100]\ttest_main: 0.1005\ttest_main2: 0.0426\ttest_penalty: 0.70136957\r"
     ]
    },
    {
     "name": "stderr",
     "output_type": "stream",
     "text": [
      "[default |INFO|model.py:1303] [77/100]\ttest_main: 0.1000\ttest_main2: 0.0413\ttest_penalty: 0.7013\n"
     ]
    },
    {
     "name": "stdout",
     "output_type": "stream",
     "text": [
      "[99/100]\ttest_main: 0.1010\ttest_main2: 0.0376\ttest_penalty: 0.69336959\r"
     ]
    },
    {
     "name": "stderr",
     "output_type": "stream",
     "text": [
      "[default |INFO|model.py:1303] [78/100]\ttest_main: 0.1010\ttest_main2: 0.0372\ttest_penalty: 0.6934\n"
     ]
    },
    {
     "name": "stdout",
     "output_type": "stream",
     "text": [
      "[97/100]\ttest_main: 0.1047\ttest_main2: 0.0247\ttest_penalty: 0.71096964\r"
     ]
    },
    {
     "name": "stderr",
     "output_type": "stream",
     "text": [
      "[default |INFO|model.py:1303] [79/100]\ttest_main: 0.1049\ttest_main2: 0.0246\ttest_penalty: 0.7110\n"
     ]
    },
    {
     "name": "stdout",
     "output_type": "stream",
     "text": [
      "[96/100]\ttest_main: 0.0977\ttest_main2: 0.0302\ttest_penalty: 0.69996954\r"
     ]
    },
    {
     "name": "stderr",
     "output_type": "stream",
     "text": [
      "[default |INFO|model.py:1303] [80/100]\ttest_main: 0.0973\ttest_main2: 0.0303\ttest_penalty: 0.6999\n"
     ]
    },
    {
     "name": "stdout",
     "output_type": "stream",
     "text": [
      "[96/100]\ttest_main: 0.0987\ttest_main2: 0.0179\ttest_penalty: 0.68766958\r"
     ]
    },
    {
     "name": "stderr",
     "output_type": "stream",
     "text": [
      "[default |INFO|model.py:1303] [81/100]\ttest_main: 0.0986\ttest_main2: 0.0180\ttest_penalty: 0.6876\n"
     ]
    },
    {
     "name": "stdout",
     "output_type": "stream",
     "text": [
      "[99/100]\ttest_main: 0.1013\ttest_main2: 0.0293\ttest_penalty: 0.68806958\r"
     ]
    },
    {
     "name": "stderr",
     "output_type": "stream",
     "text": [
      "[default |INFO|model.py:1303] [82/100]\ttest_main: 0.1013\ttest_main2: 0.0295\ttest_penalty: 0.6880\n"
     ]
    },
    {
     "name": "stdout",
     "output_type": "stream",
     "text": [
      "[96/100]\ttest_main: 0.0988\ttest_main2: 0.0337\ttest_penalty: 0.68206954\r"
     ]
    },
    {
     "name": "stderr",
     "output_type": "stream",
     "text": [
      "[default |INFO|model.py:1303] [83/100]\ttest_main: 0.0987\ttest_main2: 0.0330\ttest_penalty: 0.6819\n"
     ]
    },
    {
     "name": "stdout",
     "output_type": "stream",
     "text": [
      "[96/100]\ttest_main: 0.0967\ttest_main2: 0.0386\ttest_penalty: 0.70596960\r"
     ]
    },
    {
     "name": "stderr",
     "output_type": "stream",
     "text": [
      "[default |INFO|model.py:1303] [84/100]\ttest_main: 0.0970\ttest_main2: 0.0377\ttest_penalty: 0.7059\n"
     ]
    },
    {
     "name": "stdout",
     "output_type": "stream",
     "text": [
      "[97/100]\ttest_main: 0.1007\ttest_main2: 0.0372\ttest_penalty: 0.69336956\r"
     ]
    },
    {
     "name": "stderr",
     "output_type": "stream",
     "text": [
      "[default |INFO|model.py:1303] [85/100]\ttest_main: 0.1009\ttest_main2: 0.0376\ttest_penalty: 0.6933\n"
     ]
    },
    {
     "name": "stdout",
     "output_type": "stream",
     "text": [
      "[98/100]\ttest_main: 0.0985\ttest_main2: 0.0790\ttest_penalty: 0.68716958\r"
     ]
    },
    {
     "name": "stderr",
     "output_type": "stream",
     "text": [
      "[default |INFO|model.py:1303] [86/100]\ttest_main: 0.0984\ttest_main2: 0.0776\ttest_penalty: 0.6871\n"
     ]
    },
    {
     "name": "stdout",
     "output_type": "stream",
     "text": [
      "[100/100]\ttest_main: 0.0986\ttest_main2: 0.0345\ttest_penalty: 0.6734955\r"
     ]
    },
    {
     "name": "stderr",
     "output_type": "stream",
     "text": [
      "[default |INFO|model.py:1303] [87/100]\ttest_main: 0.0986\ttest_main2: 0.0345\ttest_penalty: 0.6734\n"
     ]
    },
    {
     "name": "stdout",
     "output_type": "stream",
     "text": [
      "[100/100]\ttest_main: 0.1043\ttest_main2: 0.0372\ttest_penalty: 0.6991959\r"
     ]
    },
    {
     "name": "stderr",
     "output_type": "stream",
     "text": [
      "[default |INFO|model.py:1303] [88/100]\ttest_main: 0.1043\ttest_main2: 0.0372\ttest_penalty: 0.6991\n"
     ]
    },
    {
     "name": "stdout",
     "output_type": "stream",
     "text": [
      "[100/100]\ttest_main: 0.0975\ttest_main2: 0.0418\ttest_penalty: 0.6819957\r"
     ]
    },
    {
     "name": "stderr",
     "output_type": "stream",
     "text": [
      "[default |INFO|model.py:1303] [89/100]\ttest_main: 0.0975\ttest_main2: 0.0418\ttest_penalty: 0.6819\n"
     ]
    },
    {
     "name": "stdout",
     "output_type": "stream",
     "text": [
      "[100/100]\ttest_main: 0.0975\ttest_main2: 0.0328\ttest_penalty: 0.6915954\r"
     ]
    },
    {
     "name": "stderr",
     "output_type": "stream",
     "text": [
      "[default |INFO|model.py:1303] [90/100]\ttest_main: 0.0975\ttest_main2: 0.0328\ttest_penalty: 0.6915\n"
     ]
    },
    {
     "name": "stdout",
     "output_type": "stream",
     "text": [
      "[100/100]\ttest_main: 0.0964\ttest_main2: 0.0336\ttest_penalty: 0.6987952\r"
     ]
    },
    {
     "name": "stderr",
     "output_type": "stream",
     "text": [
      "[default |INFO|model.py:1303] [91/100]\ttest_main: 0.0964\ttest_main2: 0.0336\ttest_penalty: 0.6987\n"
     ]
    },
    {
     "name": "stdout",
     "output_type": "stream",
     "text": [
      "[100/100]\ttest_main: 0.0959\ttest_main2: 0.0363\ttest_penalty: 0.6968955\r"
     ]
    },
    {
     "name": "stderr",
     "output_type": "stream",
     "text": [
      "[default |INFO|model.py:1303] [92/100]\ttest_main: 0.0959\ttest_main2: 0.0363\ttest_penalty: 0.6968\n"
     ]
    },
    {
     "name": "stdout",
     "output_type": "stream",
     "text": [
      "[100/100]\ttest_main: 0.0959\ttest_main2: 0.0376\ttest_penalty: 0.7035954\r"
     ]
    },
    {
     "name": "stderr",
     "output_type": "stream",
     "text": [
      "[default |INFO|model.py:1303] [93/100]\ttest_main: 0.0959\ttest_main2: 0.0376\ttest_penalty: 0.7035\n"
     ]
    },
    {
     "name": "stdout",
     "output_type": "stream",
     "text": [
      "[100/100]\ttest_main: 0.0980\ttest_main2: 0.0285\ttest_penalty: 0.6898956\r"
     ]
    },
    {
     "name": "stderr",
     "output_type": "stream",
     "text": [
      "[default |INFO|model.py:1303] [94/100]\ttest_main: 0.0980\ttest_main2: 0.0285\ttest_penalty: 0.6898\n"
     ]
    },
    {
     "name": "stdout",
     "output_type": "stream",
     "text": [
      "[100/100]\ttest_main: 0.0972\ttest_main2: 0.0243\ttest_penalty: 0.6971956\r"
     ]
    },
    {
     "name": "stderr",
     "output_type": "stream",
     "text": [
      "[default |INFO|model.py:1303] [95/100]\ttest_main: 0.0972\ttest_main2: 0.0243\ttest_penalty: 0.6971\n"
     ]
    },
    {
     "name": "stdout",
     "output_type": "stream",
     "text": [
      "[100/100]\ttest_main: 0.0967\ttest_main2: 0.0450\ttest_penalty: 0.6970955\r"
     ]
    },
    {
     "name": "stderr",
     "output_type": "stream",
     "text": [
      "[default |INFO|model.py:1303] [96/100]\ttest_main: 0.0967\ttest_main2: 0.0450\ttest_penalty: 0.6970\n"
     ]
    },
    {
     "name": "stdout",
     "output_type": "stream",
     "text": [
      "[100/100]\ttest_main: 0.1001\ttest_main2: 0.0423\ttest_penalty: 0.6980958\r"
     ]
    },
    {
     "name": "stderr",
     "output_type": "stream",
     "text": [
      "[default |INFO|model.py:1303] [97/100]\ttest_main: 0.1001\ttest_main2: 0.0423\ttest_penalty: 0.6980\n"
     ]
    },
    {
     "name": "stdout",
     "output_type": "stream",
     "text": [
      "[100/100]\ttest_main: 0.0952\ttest_main2: 0.0383\ttest_penalty: 0.6921950\r"
     ]
    },
    {
     "name": "stderr",
     "output_type": "stream",
     "text": [
      "[default |INFO|model.py:1303] [98/100]\ttest_main: 0.0952\ttest_main2: 0.0383\ttest_penalty: 0.6921\n"
     ]
    },
    {
     "name": "stdout",
     "output_type": "stream",
     "text": [
      "[100/100]\ttest_main: 0.0977\ttest_main2: 0.0562\ttest_penalty: 0.6972961\r"
     ]
    },
    {
     "name": "stderr",
     "output_type": "stream",
     "text": [
      "[default |INFO|model.py:1303] [99/100]\ttest_main: 0.0977\ttest_main2: 0.0562\ttest_penalty: 0.6972\n"
     ]
    },
    {
     "name": "stdout",
     "output_type": "stream",
     "text": [
      "[100/100]\ttest_main: 0.0999\ttest_main2: 0.0671\ttest_penalty: 0.6904952\r"
     ]
    },
    {
     "name": "stderr",
     "output_type": "stream",
     "text": [
      "[default |INFO|model.py:1303] [100/100]\ttest_main: 0.0999\ttest_main2: 0.0671\ttest_penalty: 0.6904\n",
      "[default |INFO|model.py:1409] Training Finished!\n",
      "[default |INFO|model.py:1410] Elapsed time: 2428.094s\n"
     ]
    }
   ],
   "source": [
    "model = SSWAE_GAN_MNIST(cfg, log, device = device)\n",
    "model.train()\n",
    "# model.train(resume = True)"
   ]
  },
  {
   "cell_type": "code",
   "execution_count": 26,
   "metadata": {
    "scrolled": true
   },
   "outputs": [
    {
     "name": "stdout",
     "output_type": "stream",
     "text": [
      "0.204\n"
     ]
    }
   ],
   "source": [
    "acc, n = 0, 0\n",
    "for data, condition in test_generator:\n",
    "    x = data.to(device)\n",
    "    y = condition.to(device)\n",
    "    fake_latent = model.encode_s(x)\n",
    "    recon = model.decode(fake_latent)\n",
    "    recon_y = model.decode_c(fake_latent)\n",
    "    acc += torch.sum(torch.max(recon_y, 1)[1] == 4).item() # 4 for unk\n",
    "    n += len(x)\n",
    "print(acc/n)"
   ]
  },
  {
   "cell_type": "markdown",
   "metadata": {},
   "source": [
    "## Experiment 2) ratio of Batch1 / Batch2 \n",
    "\n",
    "위에서 가장 좋은 accuracy를 보이는 경우에 대해서 실험하였다. \\[test(2), labeled(7, 8)\\]"
   ]
  },
  {
   "cell_type": "markdown",
   "metadata": {},
   "source": [
    "### Case 0. Batch1 = 50, Batch2 = 100\n",
    "\n",
    "Experiment 1) Case 2.의 경우로, accuracy = 0.624가 나왔다."
   ]
  },
  {
   "cell_type": "markdown",
   "metadata": {},
   "source": [
    "### Case 1. Batch1 = 100, Batch2 = 100"
   ]
  },
  {
   "cell_type": "code",
   "execution_count": 6,
   "metadata": {},
   "outputs": [
    {
     "data": {
      "text/plain": [
       "['./config/train_config_sswae_gan2-1.cfg']"
      ]
     },
     "execution_count": 6,
     "metadata": {},
     "output_type": "execute_result"
    }
   ],
   "source": [
    "cfg = configparser.ConfigParser()\n",
    "cfg.read('./config/train_config_sswae_gan2-1.cfg')"
   ]
  },
  {
   "cell_type": "code",
   "execution_count": 7,
   "metadata": {
    "collapsed": true
   },
   "outputs": [
    {
     "name": "stderr",
     "output_type": "stream",
     "text": [
      "[default |INFO|_base_model.py:25] ------------------------------------------------------------\n",
      "[default |INFO|_base_model.py:27] model_name : SSWAE_GAN_MNIST\n",
      "[default |INFO|_base_model.py:27] train_data : rmMNIST\n",
      "[default |INFO|_base_model.py:27] train_data_label : True\n",
      "[default |INFO|_base_model.py:27] z_sampler : gaus\n",
      "[default |INFO|_base_model.py:27] z_dim : 6\n",
      "[default |INFO|_base_model.py:27] yz_dim : 2\n",
      "[default |INFO|_base_model.py:27] y_sampler : multinomial\n",
      "[default |INFO|_base_model.py:27] y_dim : 3\n",
      "[default |INFO|_base_model.py:27] labeled_class : 7, 8\n",
      "[default |INFO|_base_model.py:27] unlabeled_class : 0, 1, 3, 4, 5, 6, 9\n",
      "[default |INFO|_base_model.py:27] test_class : 2\n",
      "[default |INFO|_base_model.py:27] classification_weight : \n",
      "[default |INFO|_base_model.py:27] encoder_pretrain : False\n",
      "[default |INFO|_base_model.py:27] lr : 5e-4\n",
      "[default |INFO|_base_model.py:27] beta1 : 0.5\n",
      "[default |INFO|_base_model.py:27] lr_adv : 2e-4\n",
      "[default |INFO|_base_model.py:27] beta1_adv : 0.5\n",
      "[default |INFO|_base_model.py:27] lambda : 10.0\n",
      "[default |INFO|_base_model.py:27] lambda2 : 10.0\n",
      "[default |INFO|_base_model.py:27] lr_schedule : manual\n",
      "[default |INFO|_base_model.py:27] validate : True\n",
      "[default |INFO|_base_model.py:27] histogram : True\n",
      "[default |INFO|_base_model.py:27] batch_size1 : 100\n",
      "[default |INFO|_base_model.py:27] batch_size2 : 100\n",
      "[default |INFO|_base_model.py:27] epoch : 100\n",
      "[default |INFO|_base_model.py:27] replace : False\n",
      "[default |INFO|_base_model.py:27] iter_per_epoch : None\n",
      "[default |INFO|_base_model.py:27] save_best : False\n",
      "[default |INFO|_base_model.py:30] data_home2 : ./data/MNIST\n",
      "[default |INFO|_base_model.py:30] tb_logs : ./result/tb_logs/sswae_gan2-1\n",
      "[default |INFO|_base_model.py:30] save_path : ./result/weights/sswae_gan2-1.pt\n",
      "[default |INFO|_base_model.py:30] save_state : ./result/states/state_sswae_gan2-1.pt\n",
      "[default |INFO|_base_model.py:30] save_img_path : \n",
      "[default |INFO|model.py:1149] ------------------------------------------------------------\n",
      "[default |INFO|model.py:1150] Training Start!\n"
     ]
    },
    {
     "name": "stdout",
     "output_type": "stream",
     "text": [
      "[99/100]\ttest_main: 0.2201\ttest_main2: 0.6807\ttest_penalty: 0.68916751\r"
     ]
    },
    {
     "name": "stderr",
     "output_type": "stream",
     "text": [
      "[default |INFO|model.py:1303] [1/100]\ttest_main: 0.2202\ttest_main2: 0.6807\ttest_penalty: 0.6891\n"
     ]
    },
    {
     "name": "stdout",
     "output_type": "stream",
     "text": [
      "[100/100]\ttest_main: 0.1937\ttest_main2: 0.6236\ttest_penalty: 0.6789899\r"
     ]
    },
    {
     "name": "stderr",
     "output_type": "stream",
     "text": [
      "[default |INFO|model.py:1303] [2/100]\ttest_main: 0.1937\ttest_main2: 0.6236\ttest_penalty: 0.6789\n"
     ]
    },
    {
     "name": "stdout",
     "output_type": "stream",
     "text": [
      "[100/100]\ttest_main: 0.1790\ttest_main2: 0.5636\ttest_penalty: 0.6976884\r"
     ]
    },
    {
     "name": "stderr",
     "output_type": "stream",
     "text": [
      "[default |INFO|model.py:1303] [3/100]\ttest_main: 0.1790\ttest_main2: 0.5636\ttest_penalty: 0.6976\n"
     ]
    },
    {
     "name": "stdout",
     "output_type": "stream",
     "text": [
      "[100/100]\ttest_main: 0.1680\ttest_main2: 0.4777\ttest_penalty: 0.6957957\r"
     ]
    },
    {
     "name": "stderr",
     "output_type": "stream",
     "text": [
      "[default |INFO|model.py:1303] [4/100]\ttest_main: 0.1680\ttest_main2: 0.4777\ttest_penalty: 0.6957\n"
     ]
    },
    {
     "name": "stdout",
     "output_type": "stream",
     "text": [
      "[100/100]\ttest_main: 0.1651\ttest_main2: 0.4039\ttest_penalty: 0.6874926\r"
     ]
    },
    {
     "name": "stderr",
     "output_type": "stream",
     "text": [
      "[default |INFO|model.py:1303] [5/100]\ttest_main: 0.1651\ttest_main2: 0.4039\ttest_penalty: 0.6874\n"
     ]
    },
    {
     "name": "stdout",
     "output_type": "stream",
     "text": [
      "[100/100]\ttest_main: 0.1855\ttest_main2: 0.3476\ttest_penalty: 0.7106940\r"
     ]
    },
    {
     "name": "stderr",
     "output_type": "stream",
     "text": [
      "[default |INFO|model.py:1303] [6/100]\ttest_main: 0.1855\ttest_main2: 0.3476\ttest_penalty: 0.7106\n"
     ]
    },
    {
     "name": "stdout",
     "output_type": "stream",
     "text": [
      "[100/100]\ttest_main: 0.1559\ttest_main2: 0.3005\ttest_penalty: 0.6814909\r"
     ]
    },
    {
     "name": "stderr",
     "output_type": "stream",
     "text": [
      "[default |INFO|model.py:1303] [7/100]\ttest_main: 0.1559\ttest_main2: 0.3005\ttest_penalty: 0.6814\n"
     ]
    },
    {
     "name": "stdout",
     "output_type": "stream",
     "text": [
      "[100/100]\ttest_main: 0.1517\ttest_main2: 0.2639\ttest_penalty: 0.6940938\r"
     ]
    },
    {
     "name": "stderr",
     "output_type": "stream",
     "text": [
      "[default |INFO|model.py:1303] [8/100]\ttest_main: 0.1517\ttest_main2: 0.2639\ttest_penalty: 0.6940\n"
     ]
    },
    {
     "name": "stdout",
     "output_type": "stream",
     "text": [
      "[100/100]\ttest_main: 0.1441\ttest_main2: 0.2305\ttest_penalty: 0.6974938\r"
     ]
    },
    {
     "name": "stderr",
     "output_type": "stream",
     "text": [
      "[default |INFO|model.py:1303] [9/100]\ttest_main: 0.1441\ttest_main2: 0.2305\ttest_penalty: 0.6974\n"
     ]
    },
    {
     "name": "stdout",
     "output_type": "stream",
     "text": [
      "[100/100]\ttest_main: 0.1861\ttest_main2: 0.2459\ttest_penalty: 0.8845584\r"
     ]
    },
    {
     "name": "stderr",
     "output_type": "stream",
     "text": [
      "[default |INFO|model.py:1303] [10/100]\ttest_main: 0.1861\ttest_main2: 0.2459\ttest_penalty: 0.8845\n"
     ]
    },
    {
     "name": "stdout",
     "output_type": "stream",
     "text": [
      "[94/100]\ttest_main: 0.2009\ttest_main2: 0.2982\ttest_penalty: 0.66628504\r"
     ]
    },
    {
     "name": "stderr",
     "output_type": "stream",
     "text": [
      "[default |INFO|model.py:1303] [11/100]\ttest_main: 0.2006\ttest_main2: 0.2960\ttest_penalty: 0.6662\n"
     ]
    },
    {
     "name": "stdout",
     "output_type": "stream",
     "text": [
      "[100/100]\ttest_main: 0.1641\ttest_main2: 0.1849\ttest_penalty: 0.6816602\r"
     ]
    },
    {
     "name": "stderr",
     "output_type": "stream",
     "text": [
      "[default |INFO|model.py:1303] [12/100]\ttest_main: 0.1641\ttest_main2: 0.1849\ttest_penalty: 0.6816\n"
     ]
    },
    {
     "name": "stdout",
     "output_type": "stream",
     "text": [
      "[100/100]\ttest_main: 0.1553\ttest_main2: 0.1813\ttest_penalty: 0.6638705\r"
     ]
    },
    {
     "name": "stderr",
     "output_type": "stream",
     "text": [
      "[default |INFO|model.py:1303] [13/100]\ttest_main: 0.1553\ttest_main2: 0.1813\ttest_penalty: 0.6638\n"
     ]
    },
    {
     "name": "stdout",
     "output_type": "stream",
     "text": [
      "[100/100]\ttest_main: 0.1517\ttest_main2: 0.1418\ttest_penalty: 0.6595779\r"
     ]
    },
    {
     "name": "stderr",
     "output_type": "stream",
     "text": [
      "[default |INFO|model.py:1303] [14/100]\ttest_main: 0.1517\ttest_main2: 0.1418\ttest_penalty: 0.6595\n"
     ]
    },
    {
     "name": "stdout",
     "output_type": "stream",
     "text": [
      "[100/100]\ttest_main: 0.1970\ttest_main2: 0.2138\ttest_penalty: 0.9026367\r"
     ]
    },
    {
     "name": "stderr",
     "output_type": "stream",
     "text": [
      "[default |INFO|model.py:1303] [15/100]\ttest_main: 0.1970\ttest_main2: 0.2138\ttest_penalty: 0.9026\n"
     ]
    },
    {
     "name": "stdout",
     "output_type": "stream",
     "text": [
      "[100/100]\ttest_main: 0.1856\ttest_main2: 0.1389\ttest_penalty: 0.6997994\r"
     ]
    },
    {
     "name": "stderr",
     "output_type": "stream",
     "text": [
      "[default |INFO|model.py:1303] [16/100]\ttest_main: 0.1856\ttest_main2: 0.1389\ttest_penalty: 0.6997\n"
     ]
    },
    {
     "name": "stdout",
     "output_type": "stream",
     "text": [
      "[100/100]\ttest_main: 0.1499\ttest_main2: 0.1976\ttest_penalty: 0.6435118\r"
     ]
    },
    {
     "name": "stderr",
     "output_type": "stream",
     "text": [
      "[default |INFO|model.py:1303] [17/100]\ttest_main: 0.1499\ttest_main2: 0.1976\ttest_penalty: 0.6435\n"
     ]
    },
    {
     "name": "stdout",
     "output_type": "stream",
     "text": [
      "[100/100]\ttest_main: 0.1411\ttest_main2: 0.1340\ttest_penalty: 0.6850131\r"
     ]
    },
    {
     "name": "stderr",
     "output_type": "stream",
     "text": [
      "[default |INFO|model.py:1303] [18/100]\ttest_main: 0.1411\ttest_main2: 0.1340\ttest_penalty: 0.6850\n"
     ]
    },
    {
     "name": "stdout",
     "output_type": "stream",
     "text": [
      "[100/100]\ttest_main: 0.1368\ttest_main2: 0.1173\ttest_penalty: 0.6571205\r"
     ]
    },
    {
     "name": "stderr",
     "output_type": "stream",
     "text": [
      "[default |INFO|model.py:1303] [19/100]\ttest_main: 0.1368\ttest_main2: 0.1173\ttest_penalty: 0.6571\n"
     ]
    },
    {
     "name": "stdout",
     "output_type": "stream",
     "text": [
      "[100/100]\ttest_main: 0.1332\ttest_main2: 0.1488\ttest_penalty: 0.5848304\r"
     ]
    },
    {
     "name": "stderr",
     "output_type": "stream",
     "text": [
      "[default |INFO|model.py:1303] [20/100]\ttest_main: 0.1332\ttest_main2: 0.1488\ttest_penalty: 0.5848\n"
     ]
    },
    {
     "name": "stdout",
     "output_type": "stream",
     "text": [
      "[100/100]\ttest_main: 0.1406\ttest_main2: 0.1199\ttest_penalty: 0.7023397\r"
     ]
    },
    {
     "name": "stderr",
     "output_type": "stream",
     "text": [
      "[default |INFO|model.py:1303] [21/100]\ttest_main: 0.1406\ttest_main2: 0.1199\ttest_penalty: 0.7023\n"
     ]
    },
    {
     "name": "stdout",
     "output_type": "stream",
     "text": [
      "[100/100]\ttest_main: 0.1470\ttest_main2: 0.1223\ttest_penalty: 0.6424669\r"
     ]
    },
    {
     "name": "stderr",
     "output_type": "stream",
     "text": [
      "[default |INFO|model.py:1303] [22/100]\ttest_main: 0.1470\ttest_main2: 0.1223\ttest_penalty: 0.6424\n"
     ]
    },
    {
     "name": "stdout",
     "output_type": "stream",
     "text": [
      "[100/100]\ttest_main: 0.1548\ttest_main2: 0.1301\ttest_penalty: 0.6420742\r"
     ]
    },
    {
     "name": "stderr",
     "output_type": "stream",
     "text": [
      "[default |INFO|model.py:1303] [23/100]\ttest_main: 0.1548\ttest_main2: 0.1301\ttest_penalty: 0.6420\n"
     ]
    },
    {
     "name": "stdout",
     "output_type": "stream",
     "text": [
      "[100/100]\ttest_main: 0.1653\ttest_main2: 0.1539\ttest_penalty: 0.6823849\r"
     ]
    },
    {
     "name": "stderr",
     "output_type": "stream",
     "text": [
      "[default |INFO|model.py:1303] [24/100]\ttest_main: 0.1653\ttest_main2: 0.1539\ttest_penalty: 0.6823\n"
     ]
    },
    {
     "name": "stdout",
     "output_type": "stream",
     "text": [
      "[100/100]\ttest_main: 0.1547\ttest_main2: 0.2142\ttest_penalty: 0.6530834\r"
     ]
    },
    {
     "name": "stderr",
     "output_type": "stream",
     "text": [
      "[default |INFO|model.py:1303] [25/100]\ttest_main: 0.1547\ttest_main2: 0.2142\ttest_penalty: 0.6530\n"
     ]
    },
    {
     "name": "stdout",
     "output_type": "stream",
     "text": [
      "[100/100]\ttest_main: 0.1536\ttest_main2: 0.1736\ttest_penalty: 0.6235744\r"
     ]
    },
    {
     "name": "stderr",
     "output_type": "stream",
     "text": [
      "[default |INFO|model.py:1303] [26/100]\ttest_main: 0.1536\ttest_main2: 0.1736\ttest_penalty: 0.6235\n"
     ]
    },
    {
     "name": "stdout",
     "output_type": "stream",
     "text": [
      "[100/100]\ttest_main: 0.1463\ttest_main2: 0.1741\ttest_penalty: 0.6969770\r"
     ]
    },
    {
     "name": "stderr",
     "output_type": "stream",
     "text": [
      "[default |INFO|model.py:1303] [27/100]\ttest_main: 0.1463\ttest_main2: 0.1741\ttest_penalty: 0.6969\n"
     ]
    },
    {
     "name": "stdout",
     "output_type": "stream",
     "text": [
      "[100/100]\ttest_main: 0.1424\ttest_main2: 0.1697\ttest_penalty: 0.6540806\r"
     ]
    },
    {
     "name": "stderr",
     "output_type": "stream",
     "text": [
      "[default |INFO|model.py:1303] [28/100]\ttest_main: 0.1424\ttest_main2: 0.1697\ttest_penalty: 0.6540\n"
     ]
    },
    {
     "name": "stdout",
     "output_type": "stream",
     "text": [
      "[100/100]\ttest_main: 0.1516\ttest_main2: 0.1485\ttest_penalty: 0.6304841\r"
     ]
    },
    {
     "name": "stderr",
     "output_type": "stream",
     "text": [
      "[default |INFO|model.py:1303] [29/100]\ttest_main: 0.1516\ttest_main2: 0.1485\ttest_penalty: 0.6304\n"
     ]
    },
    {
     "name": "stdout",
     "output_type": "stream",
     "text": [
      "[100/100]\ttest_main: 0.1449\ttest_main2: 0.1393\ttest_penalty: 0.7240985\r"
     ]
    },
    {
     "name": "stderr",
     "output_type": "stream",
     "text": [
      "[default |INFO|model.py:1303] [30/100]\ttest_main: 0.1449\ttest_main2: 0.1393\ttest_penalty: 0.7240\n"
     ]
    },
    {
     "name": "stdout",
     "output_type": "stream",
     "text": [
      "[100/100]\ttest_main: 0.1445\ttest_main2: 0.1637\ttest_penalty: 0.6633172\r"
     ]
    },
    {
     "name": "stderr",
     "output_type": "stream",
     "text": [
      "[default |INFO|model.py:1303] [31/100]\ttest_main: 0.1445\ttest_main2: 0.1637\ttest_penalty: 0.6633\n"
     ]
    },
    {
     "name": "stdout",
     "output_type": "stream",
     "text": [
      "[100/100]\ttest_main: 0.1412\ttest_main2: 0.1344\ttest_penalty: 0.7265326\r"
     ]
    },
    {
     "name": "stderr",
     "output_type": "stream",
     "text": [
      "[default |INFO|model.py:1303] [32/100]\ttest_main: 0.1412\ttest_main2: 0.1344\ttest_penalty: 0.7265\n"
     ]
    },
    {
     "name": "stdout",
     "output_type": "stream",
     "text": [
      "[100/100]\ttest_main: 0.1435\ttest_main2: 0.1904\ttest_penalty: 0.6317481\r"
     ]
    },
    {
     "name": "stderr",
     "output_type": "stream",
     "text": [
      "[default |INFO|model.py:1303] [33/100]\ttest_main: 0.1435\ttest_main2: 0.1904\ttest_penalty: 0.6317\n"
     ]
    },
    {
     "name": "stdout",
     "output_type": "stream",
     "text": [
      "[100/100]\ttest_main: 0.1438\ttest_main2: 0.1770\ttest_penalty: 0.6283362\r"
     ]
    },
    {
     "name": "stderr",
     "output_type": "stream",
     "text": [
      "[default |INFO|model.py:1303] [34/100]\ttest_main: 0.1438\ttest_main2: 0.1770\ttest_penalty: 0.6283\n"
     ]
    },
    {
     "name": "stdout",
     "output_type": "stream",
     "text": [
      "[100/100]\ttest_main: 0.1580\ttest_main2: 0.1592\ttest_penalty: 0.5902248\r"
     ]
    },
    {
     "name": "stderr",
     "output_type": "stream",
     "text": [
      "[default |INFO|model.py:1303] [35/100]\ttest_main: 0.1580\ttest_main2: 0.1592\ttest_penalty: 0.5902\n"
     ]
    },
    {
     "name": "stdout",
     "output_type": "stream",
     "text": [
      "[100/100]\ttest_main: 0.1465\ttest_main2: 0.1948\ttest_penalty: 0.6782162\r"
     ]
    },
    {
     "name": "stderr",
     "output_type": "stream",
     "text": [
      "[default |INFO|model.py:1303] [36/100]\ttest_main: 0.1465\ttest_main2: 0.1948\ttest_penalty: 0.6782\n"
     ]
    },
    {
     "name": "stdout",
     "output_type": "stream",
     "text": [
      "[100/100]\ttest_main: 0.1386\ttest_main2: 0.1571\ttest_penalty: 0.6383126\r"
     ]
    },
    {
     "name": "stderr",
     "output_type": "stream",
     "text": [
      "[default |INFO|model.py:1303] [37/100]\ttest_main: 0.1386\ttest_main2: 0.1571\ttest_penalty: 0.6383\n"
     ]
    },
    {
     "name": "stdout",
     "output_type": "stream",
     "text": [
      "[100/100]\ttest_main: 0.1343\ttest_main2: 0.2548\ttest_penalty: 0.6240104\r"
     ]
    },
    {
     "name": "stderr",
     "output_type": "stream",
     "text": [
      "[default |INFO|model.py:1303] [38/100]\ttest_main: 0.1343\ttest_main2: 0.2548\ttest_penalty: 0.6240\n"
     ]
    },
    {
     "name": "stdout",
     "output_type": "stream",
     "text": [
      "[100/100]\ttest_main: 0.1382\ttest_main2: 0.1131\ttest_penalty: 0.6357212\r"
     ]
    },
    {
     "name": "stderr",
     "output_type": "stream",
     "text": [
      "[default |INFO|model.py:1303] [39/100]\ttest_main: 0.1382\ttest_main2: 0.1131\ttest_penalty: 0.6357\n"
     ]
    },
    {
     "name": "stdout",
     "output_type": "stream",
     "text": [
      "[100/100]\ttest_main: 0.1437\ttest_main2: 0.2413\ttest_penalty: 0.6451977\r"
     ]
    },
    {
     "name": "stderr",
     "output_type": "stream",
     "text": [
      "[default |INFO|model.py:1303] [40/100]\ttest_main: 0.1437\ttest_main2: 0.2413\ttest_penalty: 0.6451\n"
     ]
    },
    {
     "name": "stdout",
     "output_type": "stream",
     "text": [
      "[100/100]\ttest_main: 0.1412\ttest_main2: 0.2498\ttest_penalty: 0.6519833\r"
     ]
    },
    {
     "name": "stderr",
     "output_type": "stream",
     "text": [
      "[default |INFO|model.py:1303] [41/100]\ttest_main: 0.1412\ttest_main2: 0.2498\ttest_penalty: 0.6519\n"
     ]
    },
    {
     "name": "stdout",
     "output_type": "stream",
     "text": [
      "[100/100]\ttest_main: 0.1328\ttest_main2: 0.1422\ttest_penalty: 0.6922912\r"
     ]
    },
    {
     "name": "stderr",
     "output_type": "stream",
     "text": [
      "[default |INFO|model.py:1303] [42/100]\ttest_main: 0.1328\ttest_main2: 0.1422\ttest_penalty: 0.6922\n"
     ]
    },
    {
     "name": "stdout",
     "output_type": "stream",
     "text": [
      "[100/100]\ttest_main: 0.1342\ttest_main2: 0.2295\ttest_penalty: 0.6482688\r"
     ]
    },
    {
     "name": "stderr",
     "output_type": "stream",
     "text": [
      "[default |INFO|model.py:1303] [43/100]\ttest_main: 0.1342\ttest_main2: 0.2295\ttest_penalty: 0.6482\n"
     ]
    },
    {
     "name": "stdout",
     "output_type": "stream",
     "text": [
      "[100/100]\ttest_main: 0.1277\ttest_main2: 0.2618\ttest_penalty: 0.6831658\r"
     ]
    },
    {
     "name": "stderr",
     "output_type": "stream",
     "text": [
      "[default |INFO|model.py:1303] [44/100]\ttest_main: 0.1277\ttest_main2: 0.2618\ttest_penalty: 0.6831\n"
     ]
    },
    {
     "name": "stdout",
     "output_type": "stream",
     "text": [
      "[100/100]\ttest_main: 0.1308\ttest_main2: 0.3161\ttest_penalty: 0.6618672\r"
     ]
    },
    {
     "name": "stderr",
     "output_type": "stream",
     "text": [
      "[default |INFO|model.py:1303] [45/100]\ttest_main: 0.1308\ttest_main2: 0.3161\ttest_penalty: 0.6618\n"
     ]
    },
    {
     "name": "stdout",
     "output_type": "stream",
     "text": [
      "[100/100]\ttest_main: 0.1361\ttest_main2: 0.3278\ttest_penalty: 0.6116502\r"
     ]
    },
    {
     "name": "stderr",
     "output_type": "stream",
     "text": [
      "[default |INFO|model.py:1303] [46/100]\ttest_main: 0.1361\ttest_main2: 0.3278\ttest_penalty: 0.6116\n"
     ]
    },
    {
     "name": "stdout",
     "output_type": "stream",
     "text": [
      "[100/100]\ttest_main: 0.1253\ttest_main2: 0.2071\ttest_penalty: 0.6337482\r"
     ]
    },
    {
     "name": "stderr",
     "output_type": "stream",
     "text": [
      "[default |INFO|model.py:1303] [47/100]\ttest_main: 0.1253\ttest_main2: 0.2071\ttest_penalty: 0.6337\n"
     ]
    },
    {
     "name": "stdout",
     "output_type": "stream",
     "text": [
      "[95/100]\ttest_main: 0.1277\ttest_main2: 0.2733\ttest_penalty: 0.64937436\r"
     ]
    },
    {
     "name": "stderr",
     "output_type": "stream",
     "text": [
      "[default |INFO|model.py:1303] [48/100]\ttest_main: 0.1275\ttest_main2: 0.2712\ttest_penalty: 0.6497\n"
     ]
    },
    {
     "name": "stdout",
     "output_type": "stream",
     "text": [
      "[100/100]\ttest_main: 0.1257\ttest_main2: 0.1979\ttest_penalty: 0.6812388\r"
     ]
    },
    {
     "name": "stderr",
     "output_type": "stream",
     "text": [
      "[default |INFO|model.py:1303] [49/100]\ttest_main: 0.1257\ttest_main2: 0.1979\ttest_penalty: 0.6812\n"
     ]
    },
    {
     "name": "stdout",
     "output_type": "stream",
     "text": [
      "[100/100]\ttest_main: 0.1274\ttest_main2: 0.2421\ttest_penalty: 0.6727395\r"
     ]
    },
    {
     "name": "stderr",
     "output_type": "stream",
     "text": [
      "[default |INFO|model.py:1303] [50/100]\ttest_main: 0.1274\ttest_main2: 0.2421\ttest_penalty: 0.6727\n"
     ]
    },
    {
     "name": "stdout",
     "output_type": "stream",
     "text": [
      "[100/100]\ttest_main: 0.1301\ttest_main2: 0.1914\ttest_penalty: 0.7063380\r"
     ]
    },
    {
     "name": "stderr",
     "output_type": "stream",
     "text": [
      "[default |INFO|model.py:1303] [51/100]\ttest_main: 0.1301\ttest_main2: 0.1914\ttest_penalty: 0.7063\n"
     ]
    },
    {
     "name": "stdout",
     "output_type": "stream",
     "text": [
      "[100/100]\ttest_main: 0.1322\ttest_main2: 0.0939\ttest_penalty: 0.6610442\r"
     ]
    },
    {
     "name": "stderr",
     "output_type": "stream",
     "text": [
      "[default |INFO|model.py:1303] [52/100]\ttest_main: 0.1322\ttest_main2: 0.0939\ttest_penalty: 0.6610\n"
     ]
    },
    {
     "name": "stdout",
     "output_type": "stream",
     "text": [
      "[100/100]\ttest_main: 0.1233\ttest_main2: 0.1500\ttest_penalty: 0.7146371\r"
     ]
    },
    {
     "name": "stderr",
     "output_type": "stream",
     "text": [
      "[default |INFO|model.py:1303] [53/100]\ttest_main: 0.1233\ttest_main2: 0.1500\ttest_penalty: 0.7146\n"
     ]
    },
    {
     "name": "stdout",
     "output_type": "stream",
     "text": [
      "[100/100]\ttest_main: 0.1232\ttest_main2: 0.1646\ttest_penalty: 0.7323300\r"
     ]
    },
    {
     "name": "stderr",
     "output_type": "stream",
     "text": [
      "[default |INFO|model.py:1303] [54/100]\ttest_main: 0.1232\ttest_main2: 0.1646\ttest_penalty: 0.7323\n"
     ]
    },
    {
     "name": "stdout",
     "output_type": "stream",
     "text": [
      "[100/100]\ttest_main: 0.1229\ttest_main2: 0.1162\ttest_penalty: 0.6668278\r"
     ]
    },
    {
     "name": "stderr",
     "output_type": "stream",
     "text": [
      "[default |INFO|model.py:1303] [55/100]\ttest_main: 0.1229\ttest_main2: 0.1162\ttest_penalty: 0.6668\n"
     ]
    },
    {
     "name": "stdout",
     "output_type": "stream",
     "text": [
      "[87/100]\ttest_main: 0.1243\ttest_main2: 0.1602\ttest_penalty: 0.68997209\r"
     ]
    },
    {
     "name": "stderr",
     "output_type": "stream",
     "text": [
      "[default |INFO|model.py:1303] [56/100]\ttest_main: 0.1235\ttest_main2: 0.1505\ttest_penalty: 0.6891\n"
     ]
    },
    {
     "name": "stdout",
     "output_type": "stream",
     "text": [
      "[100/100]\ttest_main: 0.1185\ttest_main2: 0.1642\ttest_penalty: 0.6762206\r"
     ]
    },
    {
     "name": "stderr",
     "output_type": "stream",
     "text": [
      "[default |INFO|model.py:1303] [57/100]\ttest_main: 0.1185\ttest_main2: 0.1642\ttest_penalty: 0.6762\n"
     ]
    },
    {
     "name": "stdout",
     "output_type": "stream",
     "text": [
      "[100/100]\ttest_main: 0.1183\ttest_main2: 0.1838\ttest_penalty: 0.6915194\r"
     ]
    },
    {
     "name": "stderr",
     "output_type": "stream",
     "text": [
      "[default |INFO|model.py:1303] [58/100]\ttest_main: 0.1183\ttest_main2: 0.1838\ttest_penalty: 0.6915\n"
     ]
    },
    {
     "name": "stdout",
     "output_type": "stream",
     "text": [
      "[100/100]\ttest_main: 0.1200\ttest_main2: 0.1223\ttest_penalty: 0.6884209\r"
     ]
    },
    {
     "name": "stderr",
     "output_type": "stream",
     "text": [
      "[default |INFO|model.py:1303] [59/100]\ttest_main: 0.1200\ttest_main2: 0.1223\ttest_penalty: 0.6884\n"
     ]
    },
    {
     "name": "stdout",
     "output_type": "stream",
     "text": [
      "[100/100]\ttest_main: 0.1201\ttest_main2: 0.1400\ttest_penalty: 0.6485177\r"
     ]
    },
    {
     "name": "stderr",
     "output_type": "stream",
     "text": [
      "[default |INFO|model.py:1303] [60/100]\ttest_main: 0.1201\ttest_main2: 0.1400\ttest_penalty: 0.6485\n"
     ]
    },
    {
     "name": "stdout",
     "output_type": "stream",
     "text": [
      "[100/100]\ttest_main: 0.1221\ttest_main2: 0.1288\ttest_penalty: 0.6695165\r"
     ]
    },
    {
     "name": "stderr",
     "output_type": "stream",
     "text": [
      "[default |INFO|model.py:1303] [61/100]\ttest_main: 0.1221\ttest_main2: 0.1288\ttest_penalty: 0.6695\n"
     ]
    },
    {
     "name": "stdout",
     "output_type": "stream",
     "text": [
      "[100/100]\ttest_main: 0.1204\ttest_main2: 0.1047\ttest_penalty: 0.6740107\r"
     ]
    },
    {
     "name": "stderr",
     "output_type": "stream",
     "text": [
      "[default |INFO|model.py:1303] [62/100]\ttest_main: 0.1204\ttest_main2: 0.1047\ttest_penalty: 0.6740\n"
     ]
    },
    {
     "name": "stdout",
     "output_type": "stream",
     "text": [
      "[100/100]\ttest_main: 0.1239\ttest_main2: 0.1583\ttest_penalty: 0.6967147\r"
     ]
    },
    {
     "name": "stderr",
     "output_type": "stream",
     "text": [
      "[default |INFO|model.py:1303] [63/100]\ttest_main: 0.1239\ttest_main2: 0.1583\ttest_penalty: 0.6967\n"
     ]
    },
    {
     "name": "stdout",
     "output_type": "stream",
     "text": [
      "[100/100]\ttest_main: 0.1220\ttest_main2: 0.1849\ttest_penalty: 0.6413114\r"
     ]
    },
    {
     "name": "stderr",
     "output_type": "stream",
     "text": [
      "[default |INFO|model.py:1303] [64/100]\ttest_main: 0.1220\ttest_main2: 0.1849\ttest_penalty: 0.6413\n"
     ]
    },
    {
     "name": "stdout",
     "output_type": "stream",
     "text": [
      "[100/100]\ttest_main: 0.1165\ttest_main2: 0.3014\ttest_penalty: 0.6689127\r"
     ]
    },
    {
     "name": "stderr",
     "output_type": "stream",
     "text": [
      "[default |INFO|model.py:1303] [65/100]\ttest_main: 0.1165\ttest_main2: 0.3014\ttest_penalty: 0.6689\n"
     ]
    },
    {
     "name": "stdout",
     "output_type": "stream",
     "text": [
      "[100/100]\ttest_main: 0.1191\ttest_main2: 0.2295\ttest_penalty: 0.6961129\r"
     ]
    },
    {
     "name": "stderr",
     "output_type": "stream",
     "text": [
      "[default |INFO|model.py:1303] [66/100]\ttest_main: 0.1191\ttest_main2: 0.2295\ttest_penalty: 0.6961\n"
     ]
    },
    {
     "name": "stdout",
     "output_type": "stream",
     "text": [
      "[97/100]\ttest_main: 0.1185\ttest_main2: 0.2403\ttest_penalty: 0.66277099\r"
     ]
    },
    {
     "name": "stderr",
     "output_type": "stream",
     "text": [
      "[default |INFO|model.py:1303] [67/100]\ttest_main: 0.1185\ttest_main2: 0.2474\ttest_penalty: 0.6627\n"
     ]
    },
    {
     "name": "stdout",
     "output_type": "stream",
     "text": [
      "[100/100]\ttest_main: 0.1265\ttest_main2: 0.2228\ttest_penalty: 0.6892154\r"
     ]
    },
    {
     "name": "stderr",
     "output_type": "stream",
     "text": [
      "[default |INFO|model.py:1303] [68/100]\ttest_main: 0.1265\ttest_main2: 0.2228\ttest_penalty: 0.6892\n"
     ]
    },
    {
     "name": "stdout",
     "output_type": "stream",
     "text": [
      "[100/100]\ttest_main: 0.1227\ttest_main2: 0.1644\ttest_penalty: 0.6693113\r"
     ]
    },
    {
     "name": "stderr",
     "output_type": "stream",
     "text": [
      "[default |INFO|model.py:1303] [69/100]\ttest_main: 0.1227\ttest_main2: 0.1644\ttest_penalty: 0.6693\n"
     ]
    },
    {
     "name": "stdout",
     "output_type": "stream",
     "text": [
      "[100/100]\ttest_main: 0.1176\ttest_main2: 0.2327\ttest_penalty: 0.6357059\r"
     ]
    },
    {
     "name": "stderr",
     "output_type": "stream",
     "text": [
      "[default |INFO|model.py:1303] [70/100]\ttest_main: 0.1176\ttest_main2: 0.2327\ttest_penalty: 0.6357\n"
     ]
    },
    {
     "name": "stdout",
     "output_type": "stream",
     "text": [
      "[100/100]\ttest_main: 0.1205\ttest_main2: 0.2174\ttest_penalty: 0.6928090\r"
     ]
    },
    {
     "name": "stderr",
     "output_type": "stream",
     "text": [
      "[default |INFO|model.py:1303] [71/100]\ttest_main: 0.1205\ttest_main2: 0.2174\ttest_penalty: 0.6928\n"
     ]
    },
    {
     "name": "stdout",
     "output_type": "stream",
     "text": [
      "[100/100]\ttest_main: 0.1188\ttest_main2: 0.2279\ttest_penalty: 0.6794060\r"
     ]
    },
    {
     "name": "stderr",
     "output_type": "stream",
     "text": [
      "[default |INFO|model.py:1303] [72/100]\ttest_main: 0.1188\ttest_main2: 0.2279\ttest_penalty: 0.6794\n"
     ]
    },
    {
     "name": "stdout",
     "output_type": "stream",
     "text": [
      "[100/100]\ttest_main: 0.1240\ttest_main2: 0.0995\ttest_penalty: 0.7292094\r"
     ]
    },
    {
     "name": "stderr",
     "output_type": "stream",
     "text": [
      "[default |INFO|model.py:1303] [73/100]\ttest_main: 0.1240\ttest_main2: 0.0995\ttest_penalty: 0.7292\n"
     ]
    },
    {
     "name": "stdout",
     "output_type": "stream",
     "text": [
      "[100/100]\ttest_main: 0.1183\ttest_main2: 0.2582\ttest_penalty: 0.6943091\r"
     ]
    },
    {
     "name": "stderr",
     "output_type": "stream",
     "text": [
      "[default |INFO|model.py:1303] [74/100]\ttest_main: 0.1183\ttest_main2: 0.2582\ttest_penalty: 0.6943\n"
     ]
    },
    {
     "name": "stdout",
     "output_type": "stream",
     "text": [
      "[100/100]\ttest_main: 0.1192\ttest_main2: 0.4042\ttest_penalty: 0.6710089\r"
     ]
    },
    {
     "name": "stderr",
     "output_type": "stream",
     "text": [
      "[default |INFO|model.py:1303] [75/100]\ttest_main: 0.1192\ttest_main2: 0.4042\ttest_penalty: 0.6710\n"
     ]
    },
    {
     "name": "stdout",
     "output_type": "stream",
     "text": [
      "[100/100]\ttest_main: 0.1181\ttest_main2: 0.1611\ttest_penalty: 0.7260068\r"
     ]
    },
    {
     "name": "stderr",
     "output_type": "stream",
     "text": [
      "[default |INFO|model.py:1303] [76/100]\ttest_main: 0.1181\ttest_main2: 0.1611\ttest_penalty: 0.7260\n"
     ]
    },
    {
     "name": "stdout",
     "output_type": "stream",
     "text": [
      "[100/100]\ttest_main: 0.1155\ttest_main2: 0.2895\ttest_penalty: 0.7258086\r"
     ]
    },
    {
     "name": "stderr",
     "output_type": "stream",
     "text": [
      "[default |INFO|model.py:1303] [77/100]\ttest_main: 0.1155\ttest_main2: 0.2895\ttest_penalty: 0.7258\n"
     ]
    },
    {
     "name": "stdout",
     "output_type": "stream",
     "text": [
      "[100/100]\ttest_main: 0.1227\ttest_main2: 0.3414\ttest_penalty: 0.6664100\r"
     ]
    },
    {
     "name": "stderr",
     "output_type": "stream",
     "text": [
      "[default |INFO|model.py:1303] [78/100]\ttest_main: 0.1227\ttest_main2: 0.3414\ttest_penalty: 0.6664\n"
     ]
    },
    {
     "name": "stdout",
     "output_type": "stream",
     "text": [
      "[100/100]\ttest_main: 0.1289\ttest_main2: 0.2248\ttest_penalty: 0.6831080\r"
     ]
    },
    {
     "name": "stderr",
     "output_type": "stream",
     "text": [
      "[default |INFO|model.py:1303] [79/100]\ttest_main: 0.1289\ttest_main2: 0.2248\ttest_penalty: 0.6831\n"
     ]
    },
    {
     "name": "stdout",
     "output_type": "stream",
     "text": [
      "[100/100]\ttest_main: 0.1237\ttest_main2: 0.2897\ttest_penalty: 0.6794052\r"
     ]
    },
    {
     "name": "stderr",
     "output_type": "stream",
     "text": [
      "[default |INFO|model.py:1303] [80/100]\ttest_main: 0.1237\ttest_main2: 0.2897\ttest_penalty: 0.6794\n"
     ]
    },
    {
     "name": "stdout",
     "output_type": "stream",
     "text": [
      "[100/100]\ttest_main: 0.1193\ttest_main2: 0.3208\ttest_penalty: 0.6714065\r"
     ]
    },
    {
     "name": "stderr",
     "output_type": "stream",
     "text": [
      "[default |INFO|model.py:1303] [81/100]\ttest_main: 0.1193\ttest_main2: 0.3208\ttest_penalty: 0.6714\n"
     ]
    },
    {
     "name": "stdout",
     "output_type": "stream",
     "text": [
      "[100/100]\ttest_main: 0.1327\ttest_main2: 0.4247\ttest_penalty: 0.6483063\r"
     ]
    },
    {
     "name": "stderr",
     "output_type": "stream",
     "text": [
      "[default |INFO|model.py:1303] [82/100]\ttest_main: 0.1327\ttest_main2: 0.4247\ttest_penalty: 0.6483\n"
     ]
    },
    {
     "name": "stdout",
     "output_type": "stream",
     "text": [
      "[100/100]\ttest_main: 0.1160\ttest_main2: 0.3292\ttest_penalty: 0.6628017\r"
     ]
    },
    {
     "name": "stderr",
     "output_type": "stream",
     "text": [
      "[default |INFO|model.py:1303] [83/100]\ttest_main: 0.1160\ttest_main2: 0.3292\ttest_penalty: 0.6628\n"
     ]
    },
    {
     "name": "stdout",
     "output_type": "stream",
     "text": [
      "[100/100]\ttest_main: 0.1165\ttest_main2: 0.2457\ttest_penalty: 0.7040057\r"
     ]
    },
    {
     "name": "stderr",
     "output_type": "stream",
     "text": [
      "[default |INFO|model.py:1303] [84/100]\ttest_main: 0.1165\ttest_main2: 0.2457\ttest_penalty: 0.7040\n"
     ]
    },
    {
     "name": "stdout",
     "output_type": "stream",
     "text": [
      "[100/100]\ttest_main: 0.1207\ttest_main2: 0.3877\ttest_penalty: 0.6880048\r"
     ]
    },
    {
     "name": "stderr",
     "output_type": "stream",
     "text": [
      "[default |INFO|model.py:1303] [85/100]\ttest_main: 0.1207\ttest_main2: 0.3877\ttest_penalty: 0.6880\n"
     ]
    },
    {
     "name": "stdout",
     "output_type": "stream",
     "text": [
      "[100/100]\ttest_main: 0.1232\ttest_main2: 0.7136\ttest_penalty: 0.6702048\r"
     ]
    },
    {
     "name": "stderr",
     "output_type": "stream",
     "text": [
      "[default |INFO|model.py:1303] [86/100]\ttest_main: 0.1232\ttest_main2: 0.7136\ttest_penalty: 0.6702\n"
     ]
    },
    {
     "name": "stdout",
     "output_type": "stream",
     "text": [
      "[99/100]\ttest_main: 0.1275\ttest_main2: 0.2505\ttest_penalty: 0.68767042\r"
     ]
    },
    {
     "name": "stderr",
     "output_type": "stream",
     "text": [
      "[default |INFO|model.py:1303] [87/100]\ttest_main: 0.1276\ttest_main2: 0.2489\ttest_penalty: 0.6876\n"
     ]
    },
    {
     "name": "stdout",
     "output_type": "stream",
     "text": [
      "[100/100]\ttest_main: 0.1189\ttest_main2: 0.2608\ttest_penalty: 0.6855034\r"
     ]
    },
    {
     "name": "stderr",
     "output_type": "stream",
     "text": [
      "[default |INFO|model.py:1303] [88/100]\ttest_main: 0.1189\ttest_main2: 0.2608\ttest_penalty: 0.6855\n"
     ]
    },
    {
     "name": "stdout",
     "output_type": "stream",
     "text": [
      "[100/100]\ttest_main: 0.1170\ttest_main2: 0.2692\ttest_penalty: 0.6530029\r"
     ]
    },
    {
     "name": "stderr",
     "output_type": "stream",
     "text": [
      "[default |INFO|model.py:1303] [89/100]\ttest_main: 0.1170\ttest_main2: 0.2692\ttest_penalty: 0.6530\n"
     ]
    },
    {
     "name": "stdout",
     "output_type": "stream",
     "text": [
      "[100/100]\ttest_main: 0.1201\ttest_main2: 0.2099\ttest_penalty: 0.6846052\r"
     ]
    },
    {
     "name": "stderr",
     "output_type": "stream",
     "text": [
      "[default |INFO|model.py:1303] [90/100]\ttest_main: 0.1201\ttest_main2: 0.2099\ttest_penalty: 0.6846\n"
     ]
    },
    {
     "name": "stdout",
     "output_type": "stream",
     "text": [
      "[100/100]\ttest_main: 0.1192\ttest_main2: 0.5901\ttest_penalty: 0.6696989\r"
     ]
    },
    {
     "name": "stderr",
     "output_type": "stream",
     "text": [
      "[default |INFO|model.py:1303] [91/100]\ttest_main: 0.1192\ttest_main2: 0.5901\ttest_penalty: 0.6696\n"
     ]
    },
    {
     "name": "stdout",
     "output_type": "stream",
     "text": [
      "[100/100]\ttest_main: 0.1178\ttest_main2: 0.1854\ttest_penalty: 0.6728010\r"
     ]
    },
    {
     "name": "stderr",
     "output_type": "stream",
     "text": [
      "[default |INFO|model.py:1303] [92/100]\ttest_main: 0.1178\ttest_main2: 0.1854\ttest_penalty: 0.6728\n"
     ]
    },
    {
     "name": "stdout",
     "output_type": "stream",
     "text": [
      "[100/100]\ttest_main: 0.1137\ttest_main2: 0.1842\ttest_penalty: 0.6998052\r"
     ]
    },
    {
     "name": "stderr",
     "output_type": "stream",
     "text": [
      "[default |INFO|model.py:1303] [93/100]\ttest_main: 0.1137\ttest_main2: 0.1842\ttest_penalty: 0.6998\n"
     ]
    },
    {
     "name": "stdout",
     "output_type": "stream",
     "text": [
      "[100/100]\ttest_main: 0.1102\ttest_main2: 0.2282\ttest_penalty: 0.7033050\r"
     ]
    },
    {
     "name": "stderr",
     "output_type": "stream",
     "text": [
      "[default |INFO|model.py:1303] [94/100]\ttest_main: 0.1102\ttest_main2: 0.2282\ttest_penalty: 0.7033\n"
     ]
    },
    {
     "name": "stdout",
     "output_type": "stream",
     "text": [
      "[100/100]\ttest_main: 0.1206\ttest_main2: 0.1216\ttest_penalty: 0.7018024\r"
     ]
    },
    {
     "name": "stderr",
     "output_type": "stream",
     "text": [
      "[default |INFO|model.py:1303] [95/100]\ttest_main: 0.1206\ttest_main2: 0.1216\ttest_penalty: 0.7018\n"
     ]
    },
    {
     "name": "stdout",
     "output_type": "stream",
     "text": [
      "[100/100]\ttest_main: 0.1136\ttest_main2: 0.2597\ttest_penalty: 0.7011020\r"
     ]
    },
    {
     "name": "stderr",
     "output_type": "stream",
     "text": [
      "[default |INFO|model.py:1303] [96/100]\ttest_main: 0.1136\ttest_main2: 0.2597\ttest_penalty: 0.7011\n"
     ]
    },
    {
     "name": "stdout",
     "output_type": "stream",
     "text": [
      "[100/100]\ttest_main: 0.1203\ttest_main2: 0.2031\ttest_penalty: 0.7065000\r"
     ]
    },
    {
     "name": "stderr",
     "output_type": "stream",
     "text": [
      "[default |INFO|model.py:1303] [97/100]\ttest_main: 0.1203\ttest_main2: 0.2031\ttest_penalty: 0.7065\n"
     ]
    },
    {
     "name": "stdout",
     "output_type": "stream",
     "text": [
      "[100/100]\ttest_main: 0.1135\ttest_main2: 0.1570\ttest_penalty: 0.6701002\r"
     ]
    },
    {
     "name": "stderr",
     "output_type": "stream",
     "text": [
      "[default |INFO|model.py:1303] [98/100]\ttest_main: 0.1135\ttest_main2: 0.1570\ttest_penalty: 0.6701\n"
     ]
    },
    {
     "name": "stdout",
     "output_type": "stream",
     "text": [
      "[100/100]\ttest_main: 0.1126\ttest_main2: 0.2102\ttest_penalty: 0.6993988\r"
     ]
    },
    {
     "name": "stderr",
     "output_type": "stream",
     "text": [
      "[default |INFO|model.py:1303] [99/100]\ttest_main: 0.1126\ttest_main2: 0.2102\ttest_penalty: 0.6993\n"
     ]
    },
    {
     "name": "stdout",
     "output_type": "stream",
     "text": [
      "[100/100]\ttest_main: 0.1112\ttest_main2: 0.2443\ttest_penalty: 0.6668998\r"
     ]
    },
    {
     "name": "stderr",
     "output_type": "stream",
     "text": [
      "[default |INFO|model.py:1303] [100/100]\ttest_main: 0.1112\ttest_main2: 0.2443\ttest_penalty: 0.6668\n",
      "[default |INFO|model.py:1409] Training Finished!\n",
      "[default |INFO|model.py:1410] Elapsed time: 902.359s\n"
     ]
    }
   ],
   "source": [
    "model = SSWAE_GAN_MNIST(cfg, log, device = device)\n",
    "model.train()\n",
    "# model.train(resume = True)"
   ]
  },
  {
   "cell_type": "code",
   "execution_count": 8,
   "metadata": {},
   "outputs": [
    {
     "name": "stdout",
     "output_type": "stream",
     "text": [
      "0.795\n"
     ]
    }
   ],
   "source": [
    "acc, n = 0, 0\n",
    "for data, condition in test_generator:\n",
    "    x = data.to(device)\n",
    "    y = condition.to(device)\n",
    "    fake_latent = model.encode_s(x)\n",
    "    recon = model.decode(fake_latent)\n",
    "    recon_y = model.decode_c(fake_latent)\n",
    "    acc += torch.sum(torch.max(recon_y, 1)[1] == 2).item() # 2 for unk\n",
    "    n += len(x)\n",
    "print(acc/n)"
   ]
  },
  {
   "cell_type": "markdown",
   "metadata": {},
   "source": [
    "### Case 2. Batch1 = 25, Batch2 = 100"
   ]
  },
  {
   "cell_type": "code",
   "execution_count": 9,
   "metadata": {},
   "outputs": [
    {
     "data": {
      "text/plain": [
       "['./config/train_config_sswae_gan2-2.cfg']"
      ]
     },
     "execution_count": 9,
     "metadata": {},
     "output_type": "execute_result"
    }
   ],
   "source": [
    "cfg = configparser.ConfigParser()\n",
    "cfg.read('./config/train_config_sswae_gan2-2.cfg')"
   ]
  },
  {
   "cell_type": "code",
   "execution_count": 10,
   "metadata": {
    "collapsed": true
   },
   "outputs": [
    {
     "name": "stderr",
     "output_type": "stream",
     "text": [
      "[default |INFO|_base_model.py:25] ------------------------------------------------------------\n",
      "[default |INFO|_base_model.py:27] model_name : SSWAE_GAN_MNIST\n",
      "[default |INFO|_base_model.py:27] train_data : rmMNIST\n",
      "[default |INFO|_base_model.py:27] train_data_label : True\n",
      "[default |INFO|_base_model.py:27] z_sampler : gaus\n",
      "[default |INFO|_base_model.py:27] z_dim : 6\n",
      "[default |INFO|_base_model.py:27] yz_dim : 2\n",
      "[default |INFO|_base_model.py:27] y_sampler : multinomial\n",
      "[default |INFO|_base_model.py:27] y_dim : 3\n",
      "[default |INFO|_base_model.py:27] labeled_class : 7, 8\n",
      "[default |INFO|_base_model.py:27] unlabeled_class : 0, 1, 3, 4, 5, 6, 9\n",
      "[default |INFO|_base_model.py:27] test_class : 2\n",
      "[default |INFO|_base_model.py:27] classification_weight : \n",
      "[default |INFO|_base_model.py:27] encoder_pretrain : False\n",
      "[default |INFO|_base_model.py:27] lr : 5e-4\n",
      "[default |INFO|_base_model.py:27] beta1 : 0.5\n",
      "[default |INFO|_base_model.py:27] lr_adv : 2e-4\n",
      "[default |INFO|_base_model.py:27] beta1_adv : 0.5\n",
      "[default |INFO|_base_model.py:27] lambda : 10.0\n",
      "[default |INFO|_base_model.py:27] lambda2 : 10.0\n",
      "[default |INFO|_base_model.py:27] lr_schedule : manual\n",
      "[default |INFO|_base_model.py:27] validate : True\n",
      "[default |INFO|_base_model.py:27] histogram : True\n",
      "[default |INFO|_base_model.py:27] batch_size1 : 25\n",
      "[default |INFO|_base_model.py:27] batch_size2 : 100\n",
      "[default |INFO|_base_model.py:27] epoch : 100\n",
      "[default |INFO|_base_model.py:27] replace : False\n",
      "[default |INFO|_base_model.py:27] iter_per_epoch : None\n",
      "[default |INFO|_base_model.py:27] save_best : False\n",
      "[default |INFO|_base_model.py:30] data_home2 : ./data/MNIST\n",
      "[default |INFO|_base_model.py:30] tb_logs : ./result/tb_logs/sswae_gan2-2\n",
      "[default |INFO|_base_model.py:30] save_path : ./result/weights/sswae_gan2-2.pt\n",
      "[default |INFO|_base_model.py:30] save_state : ./result/states/state_sswae_gan2-2.pt\n",
      "[default |INFO|_base_model.py:30] save_img_path : \n",
      "[default |INFO|model.py:1149] ------------------------------------------------------------\n",
      "[default |INFO|model.py:1150] Training Start!\n"
     ]
    },
    {
     "name": "stdout",
     "output_type": "stream",
     "text": [
      "[100/100]\ttest_main: 0.1754\ttest_main2: 0.3087\ttest_penalty: 0.6826865\r"
     ]
    },
    {
     "name": "stderr",
     "output_type": "stream",
     "text": [
      "[default |INFO|model.py:1303] [1/100]\ttest_main: 0.1754\ttest_main2: 0.3087\ttest_penalty: 0.6826\n"
     ]
    },
    {
     "name": "stdout",
     "output_type": "stream",
     "text": [
      "[100/100]\ttest_main: 0.1505\ttest_main2: 0.2149\ttest_penalty: 0.6964924\r"
     ]
    },
    {
     "name": "stderr",
     "output_type": "stream",
     "text": [
      "[default |INFO|model.py:1303] [2/100]\ttest_main: 0.1505\ttest_main2: 0.2149\ttest_penalty: 0.6964\n"
     ]
    },
    {
     "name": "stdout",
     "output_type": "stream",
     "text": [
      "[100/100]\ttest_main: 0.1670\ttest_main2: 0.1942\ttest_penalty: 0.7502077\r"
     ]
    },
    {
     "name": "stderr",
     "output_type": "stream",
     "text": [
      "[default |INFO|model.py:1303] [3/100]\ttest_main: 0.1670\ttest_main2: 0.1942\ttest_penalty: 0.7502\n"
     ]
    },
    {
     "name": "stdout",
     "output_type": "stream",
     "text": [
      "[100/100]\ttest_main: 0.1468\ttest_main2: 0.1617\ttest_penalty: 0.6777395\r"
     ]
    },
    {
     "name": "stderr",
     "output_type": "stream",
     "text": [
      "[default |INFO|model.py:1303] [4/100]\ttest_main: 0.1468\ttest_main2: 0.1617\ttest_penalty: 0.6777\n"
     ]
    },
    {
     "name": "stdout",
     "output_type": "stream",
     "text": [
      "[98/100]\ttest_main: 0.1576\ttest_main2: 0.1142\ttest_penalty: 0.67847131\r"
     ]
    },
    {
     "name": "stderr",
     "output_type": "stream",
     "text": [
      "[default |INFO|model.py:1303] [5/100]\ttest_main: 0.1577\ttest_main2: 0.1147\ttest_penalty: 0.6783\n"
     ]
    },
    {
     "name": "stdout",
     "output_type": "stream",
     "text": [
      "[96/100]\ttest_main: 0.1445\ttest_main2: 0.1639\ttest_penalty: 0.66877156\r"
     ]
    },
    {
     "name": "stderr",
     "output_type": "stream",
     "text": [
      "[default |INFO|model.py:1303] [6/100]\ttest_main: 0.1442\ttest_main2: 0.1632\ttest_penalty: 0.6688\n"
     ]
    },
    {
     "name": "stdout",
     "output_type": "stream",
     "text": [
      "[96/100]\ttest_main: 0.1467\ttest_main2: 0.1387\ttest_penalty: 0.63567155\r"
     ]
    },
    {
     "name": "stderr",
     "output_type": "stream",
     "text": [
      "[default |INFO|model.py:1303] [7/100]\ttest_main: 0.1468\ttest_main2: 0.1387\ttest_penalty: 0.6357\n"
     ]
    },
    {
     "name": "stdout",
     "output_type": "stream",
     "text": [
      "[95/100]\ttest_main: 0.1377\ttest_main2: 0.0843\ttest_penalty: 0.64247168\r"
     ]
    },
    {
     "name": "stderr",
     "output_type": "stream",
     "text": [
      "[default |INFO|model.py:1303] [8/100]\ttest_main: 0.1375\ttest_main2: 0.0840\ttest_penalty: 0.6423\n"
     ]
    },
    {
     "name": "stdout",
     "output_type": "stream",
     "text": [
      "[96/100]\ttest_main: 0.1243\ttest_main2: 0.1993\ttest_penalty: 0.63587169\r"
     ]
    },
    {
     "name": "stderr",
     "output_type": "stream",
     "text": [
      "[default |INFO|model.py:1303] [9/100]\ttest_main: 0.1243\ttest_main2: 0.1990\ttest_penalty: 0.6358\n"
     ]
    },
    {
     "name": "stdout",
     "output_type": "stream",
     "text": [
      "[97/100]\ttest_main: 0.1306\ttest_main2: 0.1087\ttest_penalty: 0.72387203\r"
     ]
    },
    {
     "name": "stderr",
     "output_type": "stream",
     "text": [
      "[default |INFO|model.py:1303] [10/100]\ttest_main: 0.1304\ttest_main2: 0.1087\ttest_penalty: 0.7239\n"
     ]
    },
    {
     "name": "stdout",
     "output_type": "stream",
     "text": [
      "[95/100]\ttest_main: 0.1292\ttest_main2: 0.1922\ttest_penalty: 0.70787230\r"
     ]
    },
    {
     "name": "stderr",
     "output_type": "stream",
     "text": [
      "[default |INFO|model.py:1303] [11/100]\ttest_main: 0.1290\ttest_main2: 0.1921\ttest_penalty: 0.7078\n"
     ]
    },
    {
     "name": "stdout",
     "output_type": "stream",
     "text": [
      "[96/100]\ttest_main: 0.1278\ttest_main2: 0.1363\ttest_penalty: 0.75737215\r"
     ]
    },
    {
     "name": "stderr",
     "output_type": "stream",
     "text": [
      "[default |INFO|model.py:1303] [12/100]\ttest_main: 0.1282\ttest_main2: 0.1352\ttest_penalty: 0.7571\n"
     ]
    },
    {
     "name": "stdout",
     "output_type": "stream",
     "text": [
      "[95/100]\ttest_main: 0.1215\ttest_main2: 0.1257\ttest_penalty: 0.60817188\r"
     ]
    },
    {
     "name": "stderr",
     "output_type": "stream",
     "text": [
      "[default |INFO|model.py:1303] [13/100]\ttest_main: 0.1214\ttest_main2: 0.1267\ttest_penalty: 0.6083\n"
     ]
    },
    {
     "name": "stdout",
     "output_type": "stream",
     "text": [
      "[96/100]\ttest_main: 0.1221\ttest_main2: 0.1746\ttest_penalty: 0.69447162\r"
     ]
    },
    {
     "name": "stderr",
     "output_type": "stream",
     "text": [
      "[default |INFO|model.py:1303] [14/100]\ttest_main: 0.1220\ttest_main2: 0.1758\ttest_penalty: 0.6945\n"
     ]
    },
    {
     "name": "stdout",
     "output_type": "stream",
     "text": [
      "[95/100]\ttest_main: 0.1238\ttest_main2: 0.1996\ttest_penalty: 0.70777153\r"
     ]
    },
    {
     "name": "stderr",
     "output_type": "stream",
     "text": [
      "[default |INFO|model.py:1303] [15/100]\ttest_main: 0.1237\ttest_main2: 0.1972\ttest_penalty: 0.7076\n"
     ]
    },
    {
     "name": "stdout",
     "output_type": "stream",
     "text": [
      "[96/100]\ttest_main: 0.1207\ttest_main2: 0.1793\ttest_penalty: 0.67367159\r"
     ]
    },
    {
     "name": "stderr",
     "output_type": "stream",
     "text": [
      "[default |INFO|model.py:1303] [16/100]\ttest_main: 0.1210\ttest_main2: 0.1783\ttest_penalty: 0.6737\n"
     ]
    },
    {
     "name": "stdout",
     "output_type": "stream",
     "text": [
      "[92/100]\ttest_main: 0.1209\ttest_main2: 0.2247\ttest_penalty: 0.66157147\r"
     ]
    },
    {
     "name": "stderr",
     "output_type": "stream",
     "text": [
      "[default |INFO|model.py:1303] [17/100]\ttest_main: 0.1206\ttest_main2: 0.2242\ttest_penalty: 0.6615\n"
     ]
    },
    {
     "name": "stdout",
     "output_type": "stream",
     "text": [
      "[96/100]\ttest_main: 0.1174\ttest_main2: 0.2211\ttest_penalty: 0.74467103\r"
     ]
    },
    {
     "name": "stderr",
     "output_type": "stream",
     "text": [
      "[default |INFO|model.py:1303] [18/100]\ttest_main: 0.1175\ttest_main2: 0.2192\ttest_penalty: 0.7445\n"
     ]
    },
    {
     "name": "stdout",
     "output_type": "stream",
     "text": [
      "[96/100]\ttest_main: 0.1191\ttest_main2: 0.2062\ttest_penalty: 0.69977070\r"
     ]
    },
    {
     "name": "stderr",
     "output_type": "stream",
     "text": [
      "[default |INFO|model.py:1303] [19/100]\ttest_main: 0.1191\ttest_main2: 0.2026\ttest_penalty: 0.6999\n"
     ]
    },
    {
     "name": "stdout",
     "output_type": "stream",
     "text": [
      "[92/100]\ttest_main: 0.1160\ttest_main2: 0.1620\ttest_penalty: 0.64897050\r"
     ]
    },
    {
     "name": "stderr",
     "output_type": "stream",
     "text": [
      "[default |INFO|model.py:1303] [20/100]\ttest_main: 0.1157\ttest_main2: 0.1655\ttest_penalty: 0.6489\n"
     ]
    },
    {
     "name": "stdout",
     "output_type": "stream",
     "text": [
      "[98/100]\ttest_main: 0.1104\ttest_main2: 0.2093\ttest_penalty: 0.69057040\r"
     ]
    },
    {
     "name": "stderr",
     "output_type": "stream",
     "text": [
      "[default |INFO|model.py:1303] [21/100]\ttest_main: 0.1102\ttest_main2: 0.2056\ttest_penalty: 0.6904\n"
     ]
    },
    {
     "name": "stdout",
     "output_type": "stream",
     "text": [
      "[98/100]\ttest_main: 0.1192\ttest_main2: 0.2541\ttest_penalty: 0.71267038\r"
     ]
    },
    {
     "name": "stderr",
     "output_type": "stream",
     "text": [
      "[default |INFO|model.py:1303] [22/100]\ttest_main: 0.1192\ttest_main2: 0.2559\ttest_penalty: 0.7127\n"
     ]
    },
    {
     "name": "stdout",
     "output_type": "stream",
     "text": [
      "[96/100]\ttest_main: 0.1149\ttest_main2: 0.1574\ttest_penalty: 0.70217020\r"
     ]
    },
    {
     "name": "stderr",
     "output_type": "stream",
     "text": [
      "[default |INFO|model.py:1303] [23/100]\ttest_main: 0.1152\ttest_main2: 0.1577\ttest_penalty: 0.7020\n"
     ]
    },
    {
     "name": "stdout",
     "output_type": "stream",
     "text": [
      "[96/100]\ttest_main: 0.1116\ttest_main2: 0.2635\ttest_penalty: 0.70947005\r"
     ]
    },
    {
     "name": "stderr",
     "output_type": "stream",
     "text": [
      "[default |INFO|model.py:1303] [24/100]\ttest_main: 0.1117\ttest_main2: 0.2623\ttest_penalty: 0.7095\n"
     ]
    },
    {
     "name": "stdout",
     "output_type": "stream",
     "text": [
      "[97/100]\ttest_main: 0.1173\ttest_main2: 0.1495\ttest_penalty: 0.66947005\r"
     ]
    },
    {
     "name": "stderr",
     "output_type": "stream",
     "text": [
      "[default |INFO|model.py:1303] [25/100]\ttest_main: 0.1172\ttest_main2: 0.1502\ttest_penalty: 0.6693\n"
     ]
    },
    {
     "name": "stdout",
     "output_type": "stream",
     "text": [
      "[97/100]\ttest_main: 0.1148\ttest_main2: 0.1822\ttest_penalty: 0.69547001\r"
     ]
    },
    {
     "name": "stderr",
     "output_type": "stream",
     "text": [
      "[default |INFO|model.py:1303] [26/100]\ttest_main: 0.1149\ttest_main2: 0.1830\ttest_penalty: 0.6954\n"
     ]
    },
    {
     "name": "stdout",
     "output_type": "stream",
     "text": [
      "[96/100]\ttest_main: 0.1107\ttest_main2: 0.2586\ttest_penalty: 0.67836981\r"
     ]
    },
    {
     "name": "stderr",
     "output_type": "stream",
     "text": [
      "[default |INFO|model.py:1303] [27/100]\ttest_main: 0.1109\ttest_main2: 0.2601\ttest_penalty: 0.6783\n"
     ]
    },
    {
     "name": "stdout",
     "output_type": "stream",
     "text": [
      "[96/100]\ttest_main: 0.1172\ttest_main2: 0.1809\ttest_penalty: 0.73916987\r"
     ]
    },
    {
     "name": "stderr",
     "output_type": "stream",
     "text": [
      "[default |INFO|model.py:1303] [28/100]\ttest_main: 0.1172\ttest_main2: 0.1765\ttest_penalty: 0.7391\n"
     ]
    },
    {
     "name": "stdout",
     "output_type": "stream",
     "text": [
      "[96/100]\ttest_main: 0.1099\ttest_main2: 0.2787\ttest_penalty: 0.71646993\r"
     ]
    },
    {
     "name": "stderr",
     "output_type": "stream",
     "text": [
      "[default |INFO|model.py:1303] [29/100]\ttest_main: 0.1098\ttest_main2: 0.2712\ttest_penalty: 0.7163\n"
     ]
    },
    {
     "name": "stdout",
     "output_type": "stream",
     "text": [
      "[96/100]\ttest_main: 0.1098\ttest_main2: 0.2592\ttest_penalty: 0.66656990\r"
     ]
    },
    {
     "name": "stderr",
     "output_type": "stream",
     "text": [
      "[default |INFO|model.py:1303] [30/100]\ttest_main: 0.1097\ttest_main2: 0.2628\ttest_penalty: 0.6666\n"
     ]
    },
    {
     "name": "stdout",
     "output_type": "stream",
     "text": [
      "[97/100]\ttest_main: 0.1093\ttest_main2: 0.2556\ttest_penalty: 0.67836981\r"
     ]
    },
    {
     "name": "stderr",
     "output_type": "stream",
     "text": [
      "[default |INFO|model.py:1303] [31/100]\ttest_main: 0.1090\ttest_main2: 0.2549\ttest_penalty: 0.6783\n"
     ]
    },
    {
     "name": "stdout",
     "output_type": "stream",
     "text": [
      "[95/100]\ttest_main: 0.1074\ttest_main2: 0.1683\ttest_penalty: 0.69626983\r"
     ]
    },
    {
     "name": "stderr",
     "output_type": "stream",
     "text": [
      "[default |INFO|model.py:1303] [32/100]\ttest_main: 0.1073\ttest_main2: 0.1710\ttest_penalty: 0.6963\n"
     ]
    },
    {
     "name": "stdout",
     "output_type": "stream",
     "text": [
      "[97/100]\ttest_main: 0.1089\ttest_main2: 0.2842\ttest_penalty: 0.67536981\r"
     ]
    },
    {
     "name": "stderr",
     "output_type": "stream",
     "text": [
      "[default |INFO|model.py:1303] [33/100]\ttest_main: 0.1089\ttest_main2: 0.2799\ttest_penalty: 0.6753\n"
     ]
    },
    {
     "name": "stdout",
     "output_type": "stream",
     "text": [
      "[95/100]\ttest_main: 0.1052\ttest_main2: 0.2776\ttest_penalty: 0.67856980\r"
     ]
    },
    {
     "name": "stderr",
     "output_type": "stream",
     "text": [
      "[default |INFO|model.py:1303] [34/100]\ttest_main: 0.1048\ttest_main2: 0.2729\ttest_penalty: 0.6785\n"
     ]
    },
    {
     "name": "stdout",
     "output_type": "stream",
     "text": [
      "[95/100]\ttest_main: 0.1032\ttest_main2: 0.2337\ttest_penalty: 0.70096969\r"
     ]
    },
    {
     "name": "stderr",
     "output_type": "stream",
     "text": [
      "[default |INFO|model.py:1303] [35/100]\ttest_main: 0.1029\ttest_main2: 0.2305\ttest_penalty: 0.7009\n"
     ]
    },
    {
     "name": "stdout",
     "output_type": "stream",
     "text": [
      "[95/100]\ttest_main: 0.1050\ttest_main2: 0.1900\ttest_penalty: 0.68246972\r"
     ]
    },
    {
     "name": "stderr",
     "output_type": "stream",
     "text": [
      "[default |INFO|model.py:1303] [36/100]\ttest_main: 0.1050\ttest_main2: 0.1941\ttest_penalty: 0.6824\n"
     ]
    },
    {
     "name": "stdout",
     "output_type": "stream",
     "text": [
      "[93/100]\ttest_main: 0.1066\ttest_main2: 0.1807\ttest_penalty: 0.69126974\r"
     ]
    },
    {
     "name": "stderr",
     "output_type": "stream",
     "text": [
      "[default |INFO|model.py:1303] [37/100]\ttest_main: 0.1067\ttest_main2: 0.1755\ttest_penalty: 0.6912\n"
     ]
    },
    {
     "name": "stdout",
     "output_type": "stream",
     "text": [
      "[96/100]\ttest_main: 0.1033\ttest_main2: 0.1837\ttest_penalty: 0.69646973\r"
     ]
    },
    {
     "name": "stderr",
     "output_type": "stream",
     "text": [
      "[default |INFO|model.py:1303] [38/100]\ttest_main: 0.1030\ttest_main2: 0.1800\ttest_penalty: 0.6964\n"
     ]
    },
    {
     "name": "stdout",
     "output_type": "stream",
     "text": [
      "[100/100]\ttest_main: 0.1013\ttest_main2: 0.1623\ttest_penalty: 0.6991969\r"
     ]
    },
    {
     "name": "stderr",
     "output_type": "stream",
     "text": [
      "[default |INFO|model.py:1303] [39/100]\ttest_main: 0.1013\ttest_main2: 0.1623\ttest_penalty: 0.6991\n"
     ]
    },
    {
     "name": "stdout",
     "output_type": "stream",
     "text": [
      "[100/100]\ttest_main: 0.1038\ttest_main2: 0.2008\ttest_penalty: 0.6870967\r"
     ]
    },
    {
     "name": "stderr",
     "output_type": "stream",
     "text": [
      "[default |INFO|model.py:1303] [40/100]\ttest_main: 0.1038\ttest_main2: 0.2008\ttest_penalty: 0.6870\n"
     ]
    },
    {
     "name": "stdout",
     "output_type": "stream",
     "text": [
      "[100/100]\ttest_main: 0.1037\ttest_main2: 0.2401\ttest_penalty: 0.6840967\r"
     ]
    },
    {
     "name": "stderr",
     "output_type": "stream",
     "text": [
      "[default |INFO|model.py:1303] [41/100]\ttest_main: 0.1037\ttest_main2: 0.2401\ttest_penalty: 0.6840\n"
     ]
    },
    {
     "name": "stdout",
     "output_type": "stream",
     "text": [
      "[100/100]\ttest_main: 0.1028\ttest_main2: 0.2422\ttest_penalty: 0.6962975\r"
     ]
    },
    {
     "name": "stderr",
     "output_type": "stream",
     "text": [
      "[default |INFO|model.py:1303] [42/100]\ttest_main: 0.1028\ttest_main2: 0.2422\ttest_penalty: 0.6962\n"
     ]
    },
    {
     "name": "stdout",
     "output_type": "stream",
     "text": [
      "[100/100]\ttest_main: 0.0992\ttest_main2: 0.1444\ttest_penalty: 0.6776963\r"
     ]
    },
    {
     "name": "stderr",
     "output_type": "stream",
     "text": [
      "[default |INFO|model.py:1303] [43/100]\ttest_main: 0.0992\ttest_main2: 0.1444\ttest_penalty: 0.6776\n"
     ]
    },
    {
     "name": "stdout",
     "output_type": "stream",
     "text": [
      "[100/100]\ttest_main: 0.0996\ttest_main2: 0.1063\ttest_penalty: 0.6897959\r"
     ]
    },
    {
     "name": "stderr",
     "output_type": "stream",
     "text": [
      "[default |INFO|model.py:1303] [44/100]\ttest_main: 0.0996\ttest_main2: 0.1063\ttest_penalty: 0.6897\n"
     ]
    },
    {
     "name": "stdout",
     "output_type": "stream",
     "text": [
      "[100/100]\ttest_main: 0.1026\ttest_main2: 0.1147\ttest_penalty: 0.6876973\r"
     ]
    },
    {
     "name": "stderr",
     "output_type": "stream",
     "text": [
      "[default |INFO|model.py:1303] [45/100]\ttest_main: 0.1026\ttest_main2: 0.1147\ttest_penalty: 0.6876\n"
     ]
    },
    {
     "name": "stdout",
     "output_type": "stream",
     "text": [
      "[100/100]\ttest_main: 0.0984\ttest_main2: 0.1439\ttest_penalty: 0.6754965\r"
     ]
    },
    {
     "name": "stderr",
     "output_type": "stream",
     "text": [
      "[default |INFO|model.py:1303] [46/100]\ttest_main: 0.0984\ttest_main2: 0.1439\ttest_penalty: 0.6754\n"
     ]
    },
    {
     "name": "stdout",
     "output_type": "stream",
     "text": [
      "[100/100]\ttest_main: 0.0995\ttest_main2: 0.2019\ttest_penalty: 0.6853961\r"
     ]
    },
    {
     "name": "stderr",
     "output_type": "stream",
     "text": [
      "[default |INFO|model.py:1303] [47/100]\ttest_main: 0.0995\ttest_main2: 0.2019\ttest_penalty: 0.6853\n"
     ]
    },
    {
     "name": "stdout",
     "output_type": "stream",
     "text": [
      "[100/100]\ttest_main: 0.0952\ttest_main2: 0.1604\ttest_penalty: 0.6903958\r"
     ]
    },
    {
     "name": "stderr",
     "output_type": "stream",
     "text": [
      "[default |INFO|model.py:1303] [48/100]\ttest_main: 0.0952\ttest_main2: 0.1604\ttest_penalty: 0.6903\n"
     ]
    },
    {
     "name": "stdout",
     "output_type": "stream",
     "text": [
      "[100/100]\ttest_main: 0.1013\ttest_main2: 0.1785\ttest_penalty: 0.6886957\r"
     ]
    },
    {
     "name": "stderr",
     "output_type": "stream",
     "text": [
      "[default |INFO|model.py:1303] [49/100]\ttest_main: 0.1013\ttest_main2: 0.1785\ttest_penalty: 0.6886\n"
     ]
    },
    {
     "name": "stdout",
     "output_type": "stream",
     "text": [
      "[100/100]\ttest_main: 0.0997\ttest_main2: 0.2883\ttest_penalty: 0.6859959\r"
     ]
    },
    {
     "name": "stderr",
     "output_type": "stream",
     "text": [
      "[default |INFO|model.py:1303] [50/100]\ttest_main: 0.0997\ttest_main2: 0.2883\ttest_penalty: 0.6859\n"
     ]
    },
    {
     "name": "stdout",
     "output_type": "stream",
     "text": [
      "[100/100]\ttest_main: 0.0960\ttest_main2: 0.1150\ttest_penalty: 0.6827963\r"
     ]
    },
    {
     "name": "stderr",
     "output_type": "stream",
     "text": [
      "[default |INFO|model.py:1303] [51/100]\ttest_main: 0.0960\ttest_main2: 0.1150\ttest_penalty: 0.6827\n"
     ]
    },
    {
     "name": "stdout",
     "output_type": "stream",
     "text": [
      "[100/100]\ttest_main: 0.0978\ttest_main2: 0.1214\ttest_penalty: 0.6960960\r"
     ]
    },
    {
     "name": "stderr",
     "output_type": "stream",
     "text": [
      "[default |INFO|model.py:1303] [52/100]\ttest_main: 0.0978\ttest_main2: 0.1214\ttest_penalty: 0.6960\n"
     ]
    },
    {
     "name": "stdout",
     "output_type": "stream",
     "text": [
      "[99/100]\ttest_main: 0.1048\ttest_main2: 0.2972\ttest_penalty: 0.69086951\r"
     ]
    },
    {
     "name": "stderr",
     "output_type": "stream",
     "text": [
      "[default |INFO|model.py:1303] [53/100]\ttest_main: 0.1047\ttest_main2: 0.2961\ttest_penalty: 0.6908\n"
     ]
    },
    {
     "name": "stdout",
     "output_type": "stream",
     "text": [
      "[100/100]\ttest_main: 0.0979\ttest_main2: 0.1392\ttest_penalty: 0.6858957\r"
     ]
    },
    {
     "name": "stderr",
     "output_type": "stream",
     "text": [
      "[default |INFO|model.py:1303] [54/100]\ttest_main: 0.0979\ttest_main2: 0.1392\ttest_penalty: 0.6858\n"
     ]
    },
    {
     "name": "stdout",
     "output_type": "stream",
     "text": [
      "[100/100]\ttest_main: 0.0978\ttest_main2: 0.2010\ttest_penalty: 0.6915964\r"
     ]
    },
    {
     "name": "stderr",
     "output_type": "stream",
     "text": [
      "[default |INFO|model.py:1303] [55/100]\ttest_main: 0.0978\ttest_main2: 0.2010\ttest_penalty: 0.6915\n"
     ]
    },
    {
     "name": "stdout",
     "output_type": "stream",
     "text": [
      "[100/100]\ttest_main: 0.0949\ttest_main2: 0.1660\ttest_penalty: 0.7118955\r"
     ]
    },
    {
     "name": "stderr",
     "output_type": "stream",
     "text": [
      "[default |INFO|model.py:1303] [56/100]\ttest_main: 0.0949\ttest_main2: 0.1660\ttest_penalty: 0.7118\n"
     ]
    },
    {
     "name": "stdout",
     "output_type": "stream",
     "text": [
      "[100/100]\ttest_main: 0.0944\ttest_main2: 0.2295\ttest_penalty: 0.6890943\r"
     ]
    },
    {
     "name": "stderr",
     "output_type": "stream",
     "text": [
      "[default |INFO|model.py:1303] [57/100]\ttest_main: 0.0944\ttest_main2: 0.2295\ttest_penalty: 0.6890\n"
     ]
    },
    {
     "name": "stdout",
     "output_type": "stream",
     "text": [
      "[100/100]\ttest_main: 0.1002\ttest_main2: 0.1254\ttest_penalty: 0.7009954\r"
     ]
    },
    {
     "name": "stderr",
     "output_type": "stream",
     "text": [
      "[default |INFO|model.py:1303] [58/100]\ttest_main: 0.1002\ttest_main2: 0.1254\ttest_penalty: 0.7009\n"
     ]
    },
    {
     "name": "stdout",
     "output_type": "stream",
     "text": [
      "[100/100]\ttest_main: 0.0991\ttest_main2: 0.2009\ttest_penalty: 0.6993958\r"
     ]
    },
    {
     "name": "stderr",
     "output_type": "stream",
     "text": [
      "[default |INFO|model.py:1303] [59/100]\ttest_main: 0.0991\ttest_main2: 0.2009\ttest_penalty: 0.6993\n"
     ]
    },
    {
     "name": "stdout",
     "output_type": "stream",
     "text": [
      "[100/100]\ttest_main: 0.0962\ttest_main2: 0.1523\ttest_penalty: 0.6857955\r"
     ]
    },
    {
     "name": "stderr",
     "output_type": "stream",
     "text": [
      "[default |INFO|model.py:1303] [60/100]\ttest_main: 0.0962\ttest_main2: 0.1523\ttest_penalty: 0.6857\n"
     ]
    },
    {
     "name": "stdout",
     "output_type": "stream",
     "text": [
      "[100/100]\ttest_main: 0.0970\ttest_main2: 0.1740\ttest_penalty: 0.6835952\r"
     ]
    },
    {
     "name": "stderr",
     "output_type": "stream",
     "text": [
      "[default |INFO|model.py:1303] [61/100]\ttest_main: 0.0970\ttest_main2: 0.1740\ttest_penalty: 0.6835\n"
     ]
    },
    {
     "name": "stdout",
     "output_type": "stream",
     "text": [
      "[100/100]\ttest_main: 0.0973\ttest_main2: 0.1880\ttest_penalty: 0.6919953\r"
     ]
    },
    {
     "name": "stderr",
     "output_type": "stream",
     "text": [
      "[default |INFO|model.py:1303] [62/100]\ttest_main: 0.0973\ttest_main2: 0.1880\ttest_penalty: 0.6919\n"
     ]
    },
    {
     "name": "stdout",
     "output_type": "stream",
     "text": [
      "[100/100]\ttest_main: 0.0962\ttest_main2: 0.1195\ttest_penalty: 0.7039955\r"
     ]
    },
    {
     "name": "stderr",
     "output_type": "stream",
     "text": [
      "[default |INFO|model.py:1303] [63/100]\ttest_main: 0.0962\ttest_main2: 0.1195\ttest_penalty: 0.7039\n"
     ]
    },
    {
     "name": "stdout",
     "output_type": "stream",
     "text": [
      "[100/100]\ttest_main: 0.0971\ttest_main2: 0.1571\ttest_penalty: 0.6896951\r"
     ]
    },
    {
     "name": "stderr",
     "output_type": "stream",
     "text": [
      "[default |INFO|model.py:1303] [64/100]\ttest_main: 0.0971\ttest_main2: 0.1571\ttest_penalty: 0.6896\n"
     ]
    },
    {
     "name": "stdout",
     "output_type": "stream",
     "text": [
      "[100/100]\ttest_main: 0.0960\ttest_main2: 0.1597\ttest_penalty: 0.6891950\r"
     ]
    },
    {
     "name": "stderr",
     "output_type": "stream",
     "text": [
      "[default |INFO|model.py:1303] [65/100]\ttest_main: 0.0960\ttest_main2: 0.1597\ttest_penalty: 0.6891\n"
     ]
    },
    {
     "name": "stdout",
     "output_type": "stream",
     "text": [
      "[100/100]\ttest_main: 0.0924\ttest_main2: 0.1471\ttest_penalty: 0.6797952\r"
     ]
    },
    {
     "name": "stderr",
     "output_type": "stream",
     "text": [
      "[default |INFO|model.py:1303] [66/100]\ttest_main: 0.0924\ttest_main2: 0.1471\ttest_penalty: 0.6797\n"
     ]
    },
    {
     "name": "stdout",
     "output_type": "stream",
     "text": [
      "[100/100]\ttest_main: 0.0937\ttest_main2: 0.0928\ttest_penalty: 0.6775948\r"
     ]
    },
    {
     "name": "stderr",
     "output_type": "stream",
     "text": [
      "[default |INFO|model.py:1303] [67/100]\ttest_main: 0.0937\ttest_main2: 0.0928\ttest_penalty: 0.6775\n"
     ]
    },
    {
     "name": "stdout",
     "output_type": "stream",
     "text": [
      "[100/100]\ttest_main: 0.0920\ttest_main2: 0.1429\ttest_penalty: 0.6932938\r"
     ]
    },
    {
     "name": "stderr",
     "output_type": "stream",
     "text": [
      "[default |INFO|model.py:1303] [68/100]\ttest_main: 0.0920\ttest_main2: 0.1429\ttest_penalty: 0.6932\n"
     ]
    },
    {
     "name": "stdout",
     "output_type": "stream",
     "text": [
      "[100/100]\ttest_main: 0.0942\ttest_main2: 0.1206\ttest_penalty: 0.6918944\r"
     ]
    },
    {
     "name": "stderr",
     "output_type": "stream",
     "text": [
      "[default |INFO|model.py:1303] [69/100]\ttest_main: 0.0942\ttest_main2: 0.1206\ttest_penalty: 0.6918\n"
     ]
    },
    {
     "name": "stdout",
     "output_type": "stream",
     "text": [
      "[100/100]\ttest_main: 0.0914\ttest_main2: 0.1185\ttest_penalty: 0.6945957\r"
     ]
    },
    {
     "name": "stderr",
     "output_type": "stream",
     "text": [
      "[default |INFO|model.py:1303] [70/100]\ttest_main: 0.0914\ttest_main2: 0.1185\ttest_penalty: 0.6945\n"
     ]
    },
    {
     "name": "stdout",
     "output_type": "stream",
     "text": [
      "[100/100]\ttest_main: 0.0954\ttest_main2: 0.1612\ttest_penalty: 0.6913949\r"
     ]
    },
    {
     "name": "stderr",
     "output_type": "stream",
     "text": [
      "[default |INFO|model.py:1303] [71/100]\ttest_main: 0.0954\ttest_main2: 0.1612\ttest_penalty: 0.6913\n"
     ]
    },
    {
     "name": "stdout",
     "output_type": "stream",
     "text": [
      "[100/100]\ttest_main: 0.0912\ttest_main2: 0.1464\ttest_penalty: 0.6883956\r"
     ]
    },
    {
     "name": "stderr",
     "output_type": "stream",
     "text": [
      "[default |INFO|model.py:1303] [72/100]\ttest_main: 0.0912\ttest_main2: 0.1464\ttest_penalty: 0.6883\n"
     ]
    },
    {
     "name": "stdout",
     "output_type": "stream",
     "text": [
      "[100/100]\ttest_main: 0.0948\ttest_main2: 0.1102\ttest_penalty: 0.6925953\r"
     ]
    },
    {
     "name": "stderr",
     "output_type": "stream",
     "text": [
      "[default |INFO|model.py:1303] [73/100]\ttest_main: 0.0948\ttest_main2: 0.1102\ttest_penalty: 0.6925\n"
     ]
    },
    {
     "name": "stdout",
     "output_type": "stream",
     "text": [
      "[100/100]\ttest_main: 0.0938\ttest_main2: 0.1478\ttest_penalty: 0.6985955\r"
     ]
    },
    {
     "name": "stderr",
     "output_type": "stream",
     "text": [
      "[default |INFO|model.py:1303] [74/100]\ttest_main: 0.0938\ttest_main2: 0.1478\ttest_penalty: 0.6985\n"
     ]
    },
    {
     "name": "stdout",
     "output_type": "stream",
     "text": [
      "[100/100]\ttest_main: 0.0936\ttest_main2: 0.3129\ttest_penalty: 0.6955948\r"
     ]
    },
    {
     "name": "stderr",
     "output_type": "stream",
     "text": [
      "[default |INFO|model.py:1303] [75/100]\ttest_main: 0.0936\ttest_main2: 0.3129\ttest_penalty: 0.6955\n"
     ]
    },
    {
     "name": "stdout",
     "output_type": "stream",
     "text": [
      "[100/100]\ttest_main: 0.0920\ttest_main2: 0.1012\ttest_penalty: 0.6985949\r"
     ]
    },
    {
     "name": "stderr",
     "output_type": "stream",
     "text": [
      "[default |INFO|model.py:1303] [76/100]\ttest_main: 0.0920\ttest_main2: 0.1012\ttest_penalty: 0.6985\n"
     ]
    },
    {
     "name": "stdout",
     "output_type": "stream",
     "text": [
      "[100/100]\ttest_main: 0.0985\ttest_main2: 0.1256\ttest_penalty: 0.6877954\r"
     ]
    },
    {
     "name": "stderr",
     "output_type": "stream",
     "text": [
      "[default |INFO|model.py:1303] [77/100]\ttest_main: 0.0985\ttest_main2: 0.1256\ttest_penalty: 0.6877\n"
     ]
    },
    {
     "name": "stdout",
     "output_type": "stream",
     "text": [
      "[100/100]\ttest_main: 0.0947\ttest_main2: 0.1732\ttest_penalty: 0.6947944\r"
     ]
    },
    {
     "name": "stderr",
     "output_type": "stream",
     "text": [
      "[default |INFO|model.py:1303] [78/100]\ttest_main: 0.0947\ttest_main2: 0.1732\ttest_penalty: 0.6947\n"
     ]
    },
    {
     "name": "stdout",
     "output_type": "stream",
     "text": [
      "[100/100]\ttest_main: 0.0940\ttest_main2: 0.1633\ttest_penalty: 0.6921954\r"
     ]
    },
    {
     "name": "stderr",
     "output_type": "stream",
     "text": [
      "[default |INFO|model.py:1303] [79/100]\ttest_main: 0.0940\ttest_main2: 0.1633\ttest_penalty: 0.6921\n"
     ]
    },
    {
     "name": "stdout",
     "output_type": "stream",
     "text": [
      "[100/100]\ttest_main: 0.0944\ttest_main2: 0.1571\ttest_penalty: 0.6851947\r"
     ]
    },
    {
     "name": "stderr",
     "output_type": "stream",
     "text": [
      "[default |INFO|model.py:1303] [80/100]\ttest_main: 0.0944\ttest_main2: 0.1571\ttest_penalty: 0.6851\n"
     ]
    },
    {
     "name": "stdout",
     "output_type": "stream",
     "text": [
      "[100/100]\ttest_main: 0.0935\ttest_main2: 0.1742\ttest_penalty: 0.6916958\r"
     ]
    },
    {
     "name": "stderr",
     "output_type": "stream",
     "text": [
      "[default |INFO|model.py:1303] [81/100]\ttest_main: 0.0935\ttest_main2: 0.1742\ttest_penalty: 0.6916\n"
     ]
    },
    {
     "name": "stdout",
     "output_type": "stream",
     "text": [
      "[100/100]\ttest_main: 0.0961\ttest_main2: 0.1649\ttest_penalty: 0.6902949\r"
     ]
    },
    {
     "name": "stderr",
     "output_type": "stream",
     "text": [
      "[default |INFO|model.py:1303] [82/100]\ttest_main: 0.0961\ttest_main2: 0.1649\ttest_penalty: 0.6902\n"
     ]
    },
    {
     "name": "stdout",
     "output_type": "stream",
     "text": [
      "[100/100]\ttest_main: 0.0959\ttest_main2: 0.1632\ttest_penalty: 0.6933946\r"
     ]
    },
    {
     "name": "stderr",
     "output_type": "stream",
     "text": [
      "[default |INFO|model.py:1303] [83/100]\ttest_main: 0.0959\ttest_main2: 0.1632\ttest_penalty: 0.6933\n"
     ]
    },
    {
     "name": "stdout",
     "output_type": "stream",
     "text": [
      "[100/100]\ttest_main: 0.0946\ttest_main2: 0.2357\ttest_penalty: 0.6901947\r"
     ]
    },
    {
     "name": "stderr",
     "output_type": "stream",
     "text": [
      "[default |INFO|model.py:1303] [84/100]\ttest_main: 0.0946\ttest_main2: 0.2357\ttest_penalty: 0.6901\n"
     ]
    },
    {
     "name": "stdout",
     "output_type": "stream",
     "text": [
      "[100/100]\ttest_main: 0.0918\ttest_main2: 0.1394\ttest_penalty: 0.7061943\r"
     ]
    },
    {
     "name": "stderr",
     "output_type": "stream",
     "text": [
      "[default |INFO|model.py:1303] [85/100]\ttest_main: 0.0918\ttest_main2: 0.1394\ttest_penalty: 0.7061\n"
     ]
    },
    {
     "name": "stdout",
     "output_type": "stream",
     "text": [
      "[100/100]\ttest_main: 0.0933\ttest_main2: 0.1857\ttest_penalty: 0.6938949\r"
     ]
    },
    {
     "name": "stderr",
     "output_type": "stream",
     "text": [
      "[default |INFO|model.py:1303] [86/100]\ttest_main: 0.0933\ttest_main2: 0.1857\ttest_penalty: 0.6938\n"
     ]
    },
    {
     "name": "stdout",
     "output_type": "stream",
     "text": [
      "[100/100]\ttest_main: 0.0924\ttest_main2: 0.1346\ttest_penalty: 0.6930944\r"
     ]
    },
    {
     "name": "stderr",
     "output_type": "stream",
     "text": [
      "[default |INFO|model.py:1303] [87/100]\ttest_main: 0.0924\ttest_main2: 0.1346\ttest_penalty: 0.6930\n"
     ]
    },
    {
     "name": "stdout",
     "output_type": "stream",
     "text": [
      "[100/100]\ttest_main: 0.0931\ttest_main2: 0.2627\ttest_penalty: 0.6888953\r"
     ]
    },
    {
     "name": "stderr",
     "output_type": "stream",
     "text": [
      "[default |INFO|model.py:1303] [88/100]\ttest_main: 0.0931\ttest_main2: 0.2627\ttest_penalty: 0.6888\n"
     ]
    },
    {
     "name": "stdout",
     "output_type": "stream",
     "text": [
      "[100/100]\ttest_main: 0.0936\ttest_main2: 0.1287\ttest_penalty: 0.6875948\r"
     ]
    },
    {
     "name": "stderr",
     "output_type": "stream",
     "text": [
      "[default |INFO|model.py:1303] [89/100]\ttest_main: 0.0936\ttest_main2: 0.1287\ttest_penalty: 0.6875\n"
     ]
    },
    {
     "name": "stdout",
     "output_type": "stream",
     "text": [
      "[100/100]\ttest_main: 0.0921\ttest_main2: 0.1396\ttest_penalty: 0.6883950\r"
     ]
    },
    {
     "name": "stderr",
     "output_type": "stream",
     "text": [
      "[default |INFO|model.py:1303] [90/100]\ttest_main: 0.0921\ttest_main2: 0.1396\ttest_penalty: 0.6883\n"
     ]
    },
    {
     "name": "stdout",
     "output_type": "stream",
     "text": [
      "[100/100]\ttest_main: 0.0917\ttest_main2: 0.2370\ttest_penalty: 0.6977952\r"
     ]
    },
    {
     "name": "stderr",
     "output_type": "stream",
     "text": [
      "[default |INFO|model.py:1303] [91/100]\ttest_main: 0.0917\ttest_main2: 0.2370\ttest_penalty: 0.6977\n"
     ]
    },
    {
     "name": "stdout",
     "output_type": "stream",
     "text": [
      "[100/100]\ttest_main: 0.0919\ttest_main2: 0.2614\ttest_penalty: 0.6912941\r"
     ]
    },
    {
     "name": "stderr",
     "output_type": "stream",
     "text": [
      "[default |INFO|model.py:1303] [92/100]\ttest_main: 0.0919\ttest_main2: 0.2614\ttest_penalty: 0.6912\n"
     ]
    },
    {
     "name": "stdout",
     "output_type": "stream",
     "text": [
      "[100/100]\ttest_main: 0.0929\ttest_main2: 0.2359\ttest_penalty: 0.6891942\r"
     ]
    },
    {
     "name": "stderr",
     "output_type": "stream",
     "text": [
      "[default |INFO|model.py:1303] [93/100]\ttest_main: 0.0929\ttest_main2: 0.2359\ttest_penalty: 0.6891\n"
     ]
    },
    {
     "name": "stdout",
     "output_type": "stream",
     "text": [
      "[100/100]\ttest_main: 0.0899\ttest_main2: 0.2339\ttest_penalty: 0.6932941\r"
     ]
    },
    {
     "name": "stderr",
     "output_type": "stream",
     "text": [
      "[default |INFO|model.py:1303] [94/100]\ttest_main: 0.0899\ttest_main2: 0.2339\ttest_penalty: 0.6932\n"
     ]
    },
    {
     "name": "stdout",
     "output_type": "stream",
     "text": [
      "[100/100]\ttest_main: 0.0910\ttest_main2: 0.2354\ttest_penalty: 0.6900956\r"
     ]
    },
    {
     "name": "stderr",
     "output_type": "stream",
     "text": [
      "[default |INFO|model.py:1303] [95/100]\ttest_main: 0.0910\ttest_main2: 0.2354\ttest_penalty: 0.6900\n"
     ]
    },
    {
     "name": "stdout",
     "output_type": "stream",
     "text": [
      "[100/100]\ttest_main: 0.0922\ttest_main2: 0.1402\ttest_penalty: 0.6966953\r"
     ]
    },
    {
     "name": "stderr",
     "output_type": "stream",
     "text": [
      "[default |INFO|model.py:1303] [96/100]\ttest_main: 0.0922\ttest_main2: 0.1402\ttest_penalty: 0.6966\n"
     ]
    },
    {
     "name": "stdout",
     "output_type": "stream",
     "text": [
      "[100/100]\ttest_main: 0.0919\ttest_main2: 0.1635\ttest_penalty: 0.6923948\r"
     ]
    },
    {
     "name": "stderr",
     "output_type": "stream",
     "text": [
      "[default |INFO|model.py:1303] [97/100]\ttest_main: 0.0919\ttest_main2: 0.1635\ttest_penalty: 0.6923\n"
     ]
    },
    {
     "name": "stdout",
     "output_type": "stream",
     "text": [
      "[100/100]\ttest_main: 0.0959\ttest_main2: 0.1719\ttest_penalty: 0.6934946\r"
     ]
    },
    {
     "name": "stderr",
     "output_type": "stream",
     "text": [
      "[default |INFO|model.py:1303] [98/100]\ttest_main: 0.0959\ttest_main2: 0.1719\ttest_penalty: 0.6934\n"
     ]
    },
    {
     "name": "stdout",
     "output_type": "stream",
     "text": [
      "[100/100]\ttest_main: 0.0912\ttest_main2: 0.2368\ttest_penalty: 0.6862944\r"
     ]
    },
    {
     "name": "stderr",
     "output_type": "stream",
     "text": [
      "[default |INFO|model.py:1303] [99/100]\ttest_main: 0.0912\ttest_main2: 0.2368\ttest_penalty: 0.6862\n"
     ]
    },
    {
     "name": "stdout",
     "output_type": "stream",
     "text": [
      "[100/100]\ttest_main: 0.0903\ttest_main2: 0.1851\ttest_penalty: 0.6860950\r"
     ]
    },
    {
     "name": "stderr",
     "output_type": "stream",
     "text": [
      "[default |INFO|model.py:1303] [100/100]\ttest_main: 0.0903\ttest_main2: 0.1851\ttest_penalty: 0.6860\n",
      "[default |INFO|model.py:1409] Training Finished!\n",
      "[default |INFO|model.py:1410] Elapsed time: 2081.926s\n"
     ]
    }
   ],
   "source": [
    "model = SSWAE_GAN_MNIST(cfg, log, device = device)\n",
    "model.train()\n",
    "# model.train(resume = True)"
   ]
  },
  {
   "cell_type": "code",
   "execution_count": 11,
   "metadata": {
    "scrolled": true
   },
   "outputs": [
    {
     "name": "stdout",
     "output_type": "stream",
     "text": [
      "0.604\n"
     ]
    }
   ],
   "source": [
    "acc, n = 0, 0\n",
    "for data, condition in test_generator:\n",
    "    x = data.to(device)\n",
    "    y = condition.to(device)\n",
    "    fake_latent = model.encode_s(x)\n",
    "    recon = model.decode(fake_latent)\n",
    "    recon_y = model.decode_c(fake_latent)\n",
    "    acc += torch.sum(torch.max(recon_y, 1)[1] == 2).item() # 2 for unk\n",
    "    n += len(x)\n",
    "print(acc/n)"
   ]
  },
  {
   "cell_type": "markdown",
   "metadata": {},
   "source": [
    "### Case 3. Batch1 = 100, Batch2 = 50"
   ]
  },
  {
   "cell_type": "code",
   "execution_count": 12,
   "metadata": {},
   "outputs": [
    {
     "data": {
      "text/plain": [
       "['./config/train_config_sswae_gan2-3.cfg']"
      ]
     },
     "execution_count": 12,
     "metadata": {},
     "output_type": "execute_result"
    }
   ],
   "source": [
    "cfg = configparser.ConfigParser()\n",
    "cfg.read('./config/train_config_sswae_gan2-3.cfg')"
   ]
  },
  {
   "cell_type": "code",
   "execution_count": 13,
   "metadata": {
    "collapsed": true
   },
   "outputs": [
    {
     "name": "stderr",
     "output_type": "stream",
     "text": [
      "[default |INFO|_base_model.py:25] ------------------------------------------------------------\n",
      "[default |INFO|_base_model.py:27] model_name : SSWAE_GAN_MNIST\n",
      "[default |INFO|_base_model.py:27] train_data : rmMNIST\n",
      "[default |INFO|_base_model.py:27] train_data_label : True\n",
      "[default |INFO|_base_model.py:27] z_sampler : gaus\n",
      "[default |INFO|_base_model.py:27] z_dim : 6\n",
      "[default |INFO|_base_model.py:27] yz_dim : 2\n",
      "[default |INFO|_base_model.py:27] y_sampler : multinomial\n",
      "[default |INFO|_base_model.py:27] y_dim : 3\n",
      "[default |INFO|_base_model.py:27] labeled_class : 7, 8\n",
      "[default |INFO|_base_model.py:27] unlabeled_class : 0, 1, 3, 4, 5, 6, 9\n",
      "[default |INFO|_base_model.py:27] test_class : 2\n",
      "[default |INFO|_base_model.py:27] classification_weight : \n",
      "[default |INFO|_base_model.py:27] encoder_pretrain : False\n",
      "[default |INFO|_base_model.py:27] lr : 5e-4\n",
      "[default |INFO|_base_model.py:27] beta1 : 0.5\n",
      "[default |INFO|_base_model.py:27] lr_adv : 2e-4\n",
      "[default |INFO|_base_model.py:27] beta1_adv : 0.5\n",
      "[default |INFO|_base_model.py:27] lambda : 10.0\n",
      "[default |INFO|_base_model.py:27] lambda2 : 10.0\n",
      "[default |INFO|_base_model.py:27] lr_schedule : manual\n",
      "[default |INFO|_base_model.py:27] validate : True\n",
      "[default |INFO|_base_model.py:27] histogram : True\n",
      "[default |INFO|_base_model.py:27] batch_size1 : 100\n",
      "[default |INFO|_base_model.py:27] batch_size2 : 50\n",
      "[default |INFO|_base_model.py:27] epoch : 100\n",
      "[default |INFO|_base_model.py:27] replace : False\n",
      "[default |INFO|_base_model.py:27] iter_per_epoch : None\n",
      "[default |INFO|_base_model.py:27] save_best : False\n",
      "[default |INFO|_base_model.py:30] data_home2 : ./data/MNIST\n",
      "[default |INFO|_base_model.py:30] tb_logs : ./result/tb_logs/sswae_gan2-3\n",
      "[default |INFO|_base_model.py:30] save_path : ./result/weights/sswae_gan2-3.pt\n",
      "[default |INFO|_base_model.py:30] save_state : ./result/states/state_sswae_gan2-3.pt\n",
      "[default |INFO|_base_model.py:30] save_img_path : \n",
      "[default |INFO|model.py:1149] ------------------------------------------------------------\n",
      "[default |INFO|model.py:1150] Training Start!\n"
     ]
    },
    {
     "name": "stdout",
     "output_type": "stream",
     "text": [
      "[95/100]\ttest_main: 0.2286\ttest_main2: 0.7049\ttest_penalty: 0.65637043\r"
     ]
    },
    {
     "name": "stderr",
     "output_type": "stream",
     "text": [
      "[default |INFO|model.py:1303] [1/100]\ttest_main: 0.2287\ttest_main2: 0.7049\ttest_penalty: 0.6563\n"
     ]
    },
    {
     "name": "stdout",
     "output_type": "stream",
     "text": [
      "[99/100]\ttest_main: 0.2042\ttest_main2: 0.6847\ttest_penalty: 0.52998075\r"
     ]
    },
    {
     "name": "stderr",
     "output_type": "stream",
     "text": [
      "[default |INFO|model.py:1303] [2/100]\ttest_main: 0.2042\ttest_main2: 0.6844\ttest_penalty: 0.5299\n"
     ]
    },
    {
     "name": "stdout",
     "output_type": "stream",
     "text": [
      "[96/100]\ttest_main: 0.1915\ttest_main2: 0.6727\ttest_penalty: 0.45908506\r"
     ]
    },
    {
     "name": "stderr",
     "output_type": "stream",
     "text": [
      "[default |INFO|model.py:1303] [3/100]\ttest_main: 0.1919\ttest_main2: 0.6728\ttest_penalty: 0.4590\n"
     ]
    },
    {
     "name": "stdout",
     "output_type": "stream",
     "text": [
      "[99/100]\ttest_main: 0.1903\ttest_main2: 0.6710\ttest_penalty: 0.46288279\r"
     ]
    },
    {
     "name": "stderr",
     "output_type": "stream",
     "text": [
      "[default |INFO|model.py:1303] [4/100]\ttest_main: 0.1903\ttest_main2: 0.6707\ttest_penalty: 0.4628\n"
     ]
    },
    {
     "name": "stdout",
     "output_type": "stream",
     "text": [
      "[99/100]\ttest_main: 0.1807\ttest_main2: 0.6612\ttest_penalty: 0.47207889\r"
     ]
    },
    {
     "name": "stderr",
     "output_type": "stream",
     "text": [
      "[default |INFO|model.py:1303] [5/100]\ttest_main: 0.1807\ttest_main2: 0.6619\ttest_penalty: 0.4720\n"
     ]
    },
    {
     "name": "stdout",
     "output_type": "stream",
     "text": [
      "[98/100]\ttest_main: 0.1763\ttest_main2: 0.6328\ttest_penalty: 0.49487826\r"
     ]
    },
    {
     "name": "stderr",
     "output_type": "stream",
     "text": [
      "[default |INFO|model.py:1303] [6/100]\ttest_main: 0.1763\ttest_main2: 0.6327\ttest_penalty: 0.4948\n"
     ]
    },
    {
     "name": "stdout",
     "output_type": "stream",
     "text": [
      "[99/100]\ttest_main: 0.1929\ttest_main2: 0.5906\ttest_penalty: 0.52417777\r"
     ]
    },
    {
     "name": "stderr",
     "output_type": "stream",
     "text": [
      "[default |INFO|model.py:1303] [7/100]\ttest_main: 0.1929\ttest_main2: 0.5901\ttest_penalty: 0.5241\n"
     ]
    },
    {
     "name": "stdout",
     "output_type": "stream",
     "text": [
      "[97/100]\ttest_main: 0.2461\ttest_main2: 0.5874\ttest_penalty: 0.85778283\r"
     ]
    },
    {
     "name": "stderr",
     "output_type": "stream",
     "text": [
      "[default |INFO|model.py:1303] [8/100]\ttest_main: 0.2460\ttest_main2: 0.5880\ttest_penalty: 0.8577\n"
     ]
    },
    {
     "name": "stdout",
     "output_type": "stream",
     "text": [
      "[98/100]\ttest_main: 0.2080\ttest_main2: 0.5636\ttest_penalty: 0.70979010\r"
     ]
    },
    {
     "name": "stderr",
     "output_type": "stream",
     "text": [
      "[default |INFO|model.py:1303] [9/100]\ttest_main: 0.2081\ttest_main2: 0.5642\ttest_penalty: 0.7097\n"
     ]
    },
    {
     "name": "stdout",
     "output_type": "stream",
     "text": [
      "[97/100]\ttest_main: 0.1955\ttest_main2: 0.5119\ttest_penalty: 0.70727589\r"
     ]
    },
    {
     "name": "stderr",
     "output_type": "stream",
     "text": [
      "[default |INFO|model.py:1303] [10/100]\ttest_main: 0.1955\ttest_main2: 0.5110\ttest_penalty: 0.7070\n"
     ]
    },
    {
     "name": "stdout",
     "output_type": "stream",
     "text": [
      "[100/100]\ttest_main: 0.1889\ttest_main2: 0.5522\ttest_penalty: 0.7557566\r"
     ]
    },
    {
     "name": "stderr",
     "output_type": "stream",
     "text": [
      "[default |INFO|model.py:1303] [11/100]\ttest_main: 0.1889\ttest_main2: 0.5522\ttest_penalty: 0.7557\n"
     ]
    },
    {
     "name": "stdout",
     "output_type": "stream",
     "text": [
      "[100/100]\ttest_main: 0.1960\ttest_main2: 0.5081\ttest_penalty: 0.5742912\r"
     ]
    },
    {
     "name": "stderr",
     "output_type": "stream",
     "text": [
      "[default |INFO|model.py:1303] [12/100]\ttest_main: 0.1960\ttest_main2: 0.5081\ttest_penalty: 0.5742\n"
     ]
    },
    {
     "name": "stdout",
     "output_type": "stream",
     "text": [
      "[100/100]\ttest_main: 0.1879\ttest_main2: 0.4569\ttest_penalty: 0.5948130\r"
     ]
    },
    {
     "name": "stderr",
     "output_type": "stream",
     "text": [
      "[default |INFO|model.py:1303] [13/100]\ttest_main: 0.1879\ttest_main2: 0.4569\ttest_penalty: 0.5948\n"
     ]
    },
    {
     "name": "stdout",
     "output_type": "stream",
     "text": [
      "[100/100]\ttest_main: 0.1913\ttest_main2: 0.4449\ttest_penalty: 0.6045449\r"
     ]
    },
    {
     "name": "stderr",
     "output_type": "stream",
     "text": [
      "[default |INFO|model.py:1303] [14/100]\ttest_main: 0.1913\ttest_main2: 0.4449\ttest_penalty: 0.6045\n"
     ]
    },
    {
     "name": "stdout",
     "output_type": "stream",
     "text": [
      "[100/100]\ttest_main: 0.1862\ttest_main2: 0.4187\ttest_penalty: 0.4834880\r"
     ]
    },
    {
     "name": "stderr",
     "output_type": "stream",
     "text": [
      "[default |INFO|model.py:1303] [15/100]\ttest_main: 0.1862\ttest_main2: 0.4187\ttest_penalty: 0.4834\n"
     ]
    },
    {
     "name": "stdout",
     "output_type": "stream",
     "text": [
      "[100/100]\ttest_main: 0.1768\ttest_main2: 0.4193\ttest_penalty: 0.5116306\r"
     ]
    },
    {
     "name": "stderr",
     "output_type": "stream",
     "text": [
      "[default |INFO|model.py:1303] [16/100]\ttest_main: 0.1768\ttest_main2: 0.4193\ttest_penalty: 0.5116\n"
     ]
    },
    {
     "name": "stdout",
     "output_type": "stream",
     "text": [
      "[100/100]\ttest_main: 0.1651\ttest_main2: 0.3792\ttest_penalty: 0.5230318\r"
     ]
    },
    {
     "name": "stderr",
     "output_type": "stream",
     "text": [
      "[default |INFO|model.py:1303] [17/100]\ttest_main: 0.1651\ttest_main2: 0.3792\ttest_penalty: 0.5230\n"
     ]
    },
    {
     "name": "stdout",
     "output_type": "stream",
     "text": [
      "[100/100]\ttest_main: 0.1718\ttest_main2: 0.3883\ttest_penalty: 0.6327180\r"
     ]
    },
    {
     "name": "stderr",
     "output_type": "stream",
     "text": [
      "[default |INFO|model.py:1303] [18/100]\ttest_main: 0.1718\ttest_main2: 0.3883\ttest_penalty: 0.6327\n"
     ]
    },
    {
     "name": "stdout",
     "output_type": "stream",
     "text": [
      "[100/100]\ttest_main: 0.1702\ttest_main2: 0.3544\ttest_penalty: 0.5249692\r"
     ]
    },
    {
     "name": "stderr",
     "output_type": "stream",
     "text": [
      "[default |INFO|model.py:1303] [19/100]\ttest_main: 0.1702\ttest_main2: 0.3544\ttest_penalty: 0.5249\n"
     ]
    },
    {
     "name": "stdout",
     "output_type": "stream",
     "text": [
      "[100/100]\ttest_main: 0.1631\ttest_main2: 0.3461\ttest_penalty: 0.5080661\r"
     ]
    },
    {
     "name": "stderr",
     "output_type": "stream",
     "text": [
      "[default |INFO|model.py:1303] [20/100]\ttest_main: 0.1631\ttest_main2: 0.3461\ttest_penalty: 0.5080\n"
     ]
    },
    {
     "name": "stdout",
     "output_type": "stream",
     "text": [
      "[100/100]\ttest_main: 0.1697\ttest_main2: 0.3385\ttest_penalty: 0.4920629\r"
     ]
    },
    {
     "name": "stderr",
     "output_type": "stream",
     "text": [
      "[default |INFO|model.py:1303] [21/100]\ttest_main: 0.1697\ttest_main2: 0.3385\ttest_penalty: 0.4920\n"
     ]
    },
    {
     "name": "stdout",
     "output_type": "stream",
     "text": [
      "[100/100]\ttest_main: 0.1727\ttest_main2: 0.3334\ttest_penalty: 0.4493452\r"
     ]
    },
    {
     "name": "stderr",
     "output_type": "stream",
     "text": [
      "[default |INFO|model.py:1303] [22/100]\ttest_main: 0.1727\ttest_main2: 0.3334\ttest_penalty: 0.4493\n"
     ]
    },
    {
     "name": "stdout",
     "output_type": "stream",
     "text": [
      "[100/100]\ttest_main: 0.1604\ttest_main2: 0.3492\ttest_penalty: 0.4915214\r"
     ]
    },
    {
     "name": "stderr",
     "output_type": "stream",
     "text": [
      "[default |INFO|model.py:1303] [23/100]\ttest_main: 0.1604\ttest_main2: 0.3492\ttest_penalty: 0.4915\n"
     ]
    },
    {
     "name": "stdout",
     "output_type": "stream",
     "text": [
      "[100/100]\ttest_main: 0.1648\ttest_main2: 0.3342\ttest_penalty: 0.5156193\r"
     ]
    },
    {
     "name": "stderr",
     "output_type": "stream",
     "text": [
      "[default |INFO|model.py:1303] [24/100]\ttest_main: 0.1648\ttest_main2: 0.3342\ttest_penalty: 0.5156\n"
     ]
    },
    {
     "name": "stdout",
     "output_type": "stream",
     "text": [
      "[100/100]\ttest_main: 0.1649\ttest_main2: 0.3242\ttest_penalty: 0.4449129\r"
     ]
    },
    {
     "name": "stderr",
     "output_type": "stream",
     "text": [
      "[default |INFO|model.py:1303] [25/100]\ttest_main: 0.1649\ttest_main2: 0.3242\ttest_penalty: 0.4449\n"
     ]
    },
    {
     "name": "stdout",
     "output_type": "stream",
     "text": [
      "[100/100]\ttest_main: 0.1712\ttest_main2: 0.2839\ttest_penalty: 0.5002300\r"
     ]
    },
    {
     "name": "stderr",
     "output_type": "stream",
     "text": [
      "[default |INFO|model.py:1303] [26/100]\ttest_main: 0.1712\ttest_main2: 0.2839\ttest_penalty: 0.5002\n"
     ]
    },
    {
     "name": "stdout",
     "output_type": "stream",
     "text": [
      "[100/100]\ttest_main: 0.1665\ttest_main2: 0.3148\ttest_penalty: 0.4953341\r"
     ]
    },
    {
     "name": "stderr",
     "output_type": "stream",
     "text": [
      "[default |INFO|model.py:1303] [27/100]\ttest_main: 0.1665\ttest_main2: 0.3148\ttest_penalty: 0.4953\n"
     ]
    },
    {
     "name": "stdout",
     "output_type": "stream",
     "text": [
      "[100/100]\ttest_main: 0.1564\ttest_main2: 0.2563\ttest_penalty: 0.4765302\r"
     ]
    },
    {
     "name": "stderr",
     "output_type": "stream",
     "text": [
      "[default |INFO|model.py:1303] [28/100]\ttest_main: 0.1564\ttest_main2: 0.2563\ttest_penalty: 0.4765\n"
     ]
    },
    {
     "name": "stdout",
     "output_type": "stream",
     "text": [
      "[100/100]\ttest_main: 0.1516\ttest_main2: 0.2899\ttest_penalty: 0.4978134\r"
     ]
    },
    {
     "name": "stderr",
     "output_type": "stream",
     "text": [
      "[default |INFO|model.py:1303] [29/100]\ttest_main: 0.1516\ttest_main2: 0.2899\ttest_penalty: 0.4978\n"
     ]
    },
    {
     "name": "stdout",
     "output_type": "stream",
     "text": [
      "[100/100]\ttest_main: 0.1516\ttest_main2: 0.2564\ttest_penalty: 0.5305049\r"
     ]
    },
    {
     "name": "stderr",
     "output_type": "stream",
     "text": [
      "[default |INFO|model.py:1303] [30/100]\ttest_main: 0.1516\ttest_main2: 0.2564\ttest_penalty: 0.5305\n"
     ]
    },
    {
     "name": "stdout",
     "output_type": "stream",
     "text": [
      "[96/100]\ttest_main: 0.1527\ttest_main2: 0.2266\ttest_penalty: 0.51697947\r"
     ]
    },
    {
     "name": "stderr",
     "output_type": "stream",
     "text": [
      "[default |INFO|model.py:1303] [31/100]\ttest_main: 0.1528\ttest_main2: 0.2265\ttest_penalty: 0.5170\n"
     ]
    },
    {
     "name": "stdout",
     "output_type": "stream",
     "text": [
      "[95/100]\ttest_main: 0.1522\ttest_main2: 0.2282\ttest_penalty: 0.55367772\r"
     ]
    },
    {
     "name": "stderr",
     "output_type": "stream",
     "text": [
      "[default |INFO|model.py:1303] [32/100]\ttest_main: 0.1519\ttest_main2: 0.2264\ttest_penalty: 0.5538\n"
     ]
    },
    {
     "name": "stdout",
     "output_type": "stream",
     "text": [
      "[96/100]\ttest_main: 0.1504\ttest_main2: 0.2221\ttest_penalty: 0.53967671\r"
     ]
    },
    {
     "name": "stderr",
     "output_type": "stream",
     "text": [
      "[default |INFO|model.py:1303] [33/100]\ttest_main: 0.1505\ttest_main2: 0.2216\ttest_penalty: 0.5398\n"
     ]
    },
    {
     "name": "stdout",
     "output_type": "stream",
     "text": [
      "[96/100]\ttest_main: 0.1466\ttest_main2: 0.2189\ttest_penalty: 0.55037612\r"
     ]
    },
    {
     "name": "stderr",
     "output_type": "stream",
     "text": [
      "[default |INFO|model.py:1303] [34/100]\ttest_main: 0.1467\ttest_main2: 0.2190\ttest_penalty: 0.5501\n"
     ]
    },
    {
     "name": "stdout",
     "output_type": "stream",
     "text": [
      "[96/100]\ttest_main: 0.1493\ttest_main2: 0.2023\ttest_penalty: 0.54007467\r"
     ]
    },
    {
     "name": "stderr",
     "output_type": "stream",
     "text": [
      "[default |INFO|model.py:1303] [35/100]\ttest_main: 0.1491\ttest_main2: 0.2017\ttest_penalty: 0.5399\n"
     ]
    },
    {
     "name": "stdout",
     "output_type": "stream",
     "text": [
      "[96/100]\ttest_main: 0.1479\ttest_main2: 0.1939\ttest_penalty: 0.52707466\r"
     ]
    },
    {
     "name": "stderr",
     "output_type": "stream",
     "text": [
      "[default |INFO|model.py:1303] [36/100]\ttest_main: 0.1478\ttest_main2: 0.1936\ttest_penalty: 0.5269\n"
     ]
    },
    {
     "name": "stdout",
     "output_type": "stream",
     "text": [
      "[93/100]\ttest_main: 0.1394\ttest_main2: 0.2246\ttest_penalty: 0.55127399\r"
     ]
    },
    {
     "name": "stderr",
     "output_type": "stream",
     "text": [
      "[default |INFO|model.py:1303] [37/100]\ttest_main: 0.1396\ttest_main2: 0.2250\ttest_penalty: 0.5511\n"
     ]
    },
    {
     "name": "stdout",
     "output_type": "stream",
     "text": [
      "[93/100]\ttest_main: 0.1484\ttest_main2: 0.1916\ttest_penalty: 0.53077360\r"
     ]
    },
    {
     "name": "stderr",
     "output_type": "stream",
     "text": [
      "[default |INFO|model.py:1303] [38/100]\ttest_main: 0.1483\ttest_main2: 0.1920\ttest_penalty: 0.5306\n"
     ]
    },
    {
     "name": "stdout",
     "output_type": "stream",
     "text": [
      "[96/100]\ttest_main: 0.1413\ttest_main2: 0.1847\ttest_penalty: 0.55097330\r"
     ]
    },
    {
     "name": "stderr",
     "output_type": "stream",
     "text": [
      "[default |INFO|model.py:1303] [39/100]\ttest_main: 0.1414\ttest_main2: 0.1839\ttest_penalty: 0.5509\n"
     ]
    },
    {
     "name": "stdout",
     "output_type": "stream",
     "text": [
      "[95/100]\ttest_main: 0.1415\ttest_main2: 0.1976\ttest_penalty: 0.53777250\r"
     ]
    },
    {
     "name": "stderr",
     "output_type": "stream",
     "text": [
      "[default |INFO|model.py:1303] [40/100]\ttest_main: 0.1415\ttest_main2: 0.2011\ttest_penalty: 0.5377\n"
     ]
    },
    {
     "name": "stdout",
     "output_type": "stream",
     "text": [
      "[96/100]\ttest_main: 0.1432\ttest_main2: 0.1715\ttest_penalty: 0.55457190\r"
     ]
    },
    {
     "name": "stderr",
     "output_type": "stream",
     "text": [
      "[default |INFO|model.py:1303] [41/100]\ttest_main: 0.1434\ttest_main2: 0.1736\ttest_penalty: 0.5539\n"
     ]
    },
    {
     "name": "stdout",
     "output_type": "stream",
     "text": [
      "[96/100]\ttest_main: 0.1409\ttest_main2: 0.1706\ttest_penalty: 0.57867225\r"
     ]
    },
    {
     "name": "stderr",
     "output_type": "stream",
     "text": [
      "[default |INFO|model.py:1303] [42/100]\ttest_main: 0.1407\ttest_main2: 0.1701\ttest_penalty: 0.5787\n"
     ]
    },
    {
     "name": "stdout",
     "output_type": "stream",
     "text": [
      "[97/100]\ttest_main: 0.1400\ttest_main2: 0.1826\ttest_penalty: 0.56607117\r"
     ]
    },
    {
     "name": "stderr",
     "output_type": "stream",
     "text": [
      "[default |INFO|model.py:1303] [43/100]\ttest_main: 0.1398\ttest_main2: 0.1817\ttest_penalty: 0.5660\n"
     ]
    },
    {
     "name": "stdout",
     "output_type": "stream",
     "text": [
      "[99/100]\ttest_main: 0.1372\ttest_main2: 0.1864\ttest_penalty: 0.57887086\r"
     ]
    },
    {
     "name": "stderr",
     "output_type": "stream",
     "text": [
      "[default |INFO|model.py:1303] [44/100]\ttest_main: 0.1372\ttest_main2: 0.1867\ttest_penalty: 0.5788\n"
     ]
    },
    {
     "name": "stdout",
     "output_type": "stream",
     "text": [
      "[97/100]\ttest_main: 0.1377\ttest_main2: 0.1486\ttest_penalty: 0.59267100\r"
     ]
    },
    {
     "name": "stderr",
     "output_type": "stream",
     "text": [
      "[default |INFO|model.py:1303] [45/100]\ttest_main: 0.1375\ttest_main2: 0.1486\ttest_penalty: 0.5927\n"
     ]
    },
    {
     "name": "stdout",
     "output_type": "stream",
     "text": [
      "[97/100]\ttest_main: 0.1348\ttest_main2: 0.1618\ttest_penalty: 0.59937066\r"
     ]
    },
    {
     "name": "stderr",
     "output_type": "stream",
     "text": [
      "[default |INFO|model.py:1303] [46/100]\ttest_main: 0.1348\ttest_main2: 0.1621\ttest_penalty: 0.5993\n"
     ]
    },
    {
     "name": "stdout",
     "output_type": "stream",
     "text": [
      "[96/100]\ttest_main: 0.1406\ttest_main2: 0.1471\ttest_penalty: 0.60307043\r"
     ]
    },
    {
     "name": "stderr",
     "output_type": "stream",
     "text": [
      "[default |INFO|model.py:1303] [47/100]\ttest_main: 0.1407\ttest_main2: 0.1479\ttest_penalty: 0.6027\n"
     ]
    },
    {
     "name": "stdout",
     "output_type": "stream",
     "text": [
      "[94/100]\ttest_main: 0.1372\ttest_main2: 0.1383\ttest_penalty: 0.59877036\r"
     ]
    },
    {
     "name": "stderr",
     "output_type": "stream",
     "text": [
      "[default |INFO|model.py:1303] [48/100]\ttest_main: 0.1368\ttest_main2: 0.1378\ttest_penalty: 0.5985\n"
     ]
    },
    {
     "name": "stdout",
     "output_type": "stream",
     "text": [
      "[94/100]\ttest_main: 0.1335\ttest_main2: 0.1471\ttest_penalty: 0.61467002\r"
     ]
    },
    {
     "name": "stderr",
     "output_type": "stream",
     "text": [
      "[default |INFO|model.py:1303] [49/100]\ttest_main: 0.1333\ttest_main2: 0.1466\ttest_penalty: 0.6147\n"
     ]
    },
    {
     "name": "stdout",
     "output_type": "stream",
     "text": [
      "[96/100]\ttest_main: 0.1364\ttest_main2: 0.1360\ttest_penalty: 0.62557007\r"
     ]
    },
    {
     "name": "stderr",
     "output_type": "stream",
     "text": [
      "[default |INFO|model.py:1303] [50/100]\ttest_main: 0.1365\ttest_main2: 0.1357\ttest_penalty: 0.6255\n"
     ]
    },
    {
     "name": "stdout",
     "output_type": "stream",
     "text": [
      "[97/100]\ttest_main: 0.1409\ttest_main2: 0.1348\ttest_penalty: 0.63936946\r"
     ]
    },
    {
     "name": "stderr",
     "output_type": "stream",
     "text": [
      "[default |INFO|model.py:1303] [51/100]\ttest_main: 0.1410\ttest_main2: 0.1350\ttest_penalty: 0.6394\n"
     ]
    },
    {
     "name": "stdout",
     "output_type": "stream",
     "text": [
      "[96/100]\ttest_main: 0.1355\ttest_main2: 0.1517\ttest_penalty: 0.61486962\r"
     ]
    },
    {
     "name": "stderr",
     "output_type": "stream",
     "text": [
      "[default |INFO|model.py:1303] [52/100]\ttest_main: 0.1357\ttest_main2: 0.1518\ttest_penalty: 0.6148\n"
     ]
    },
    {
     "name": "stdout",
     "output_type": "stream",
     "text": [
      "[97/100]\ttest_main: 0.1304\ttest_main2: 0.1220\ttest_penalty: 0.63556951\r"
     ]
    },
    {
     "name": "stderr",
     "output_type": "stream",
     "text": [
      "[default |INFO|model.py:1303] [53/100]\ttest_main: 0.1305\ttest_main2: 0.1220\ttest_penalty: 0.6354\n"
     ]
    },
    {
     "name": "stdout",
     "output_type": "stream",
     "text": [
      "[97/100]\ttest_main: 0.1321\ttest_main2: 0.1380\ttest_penalty: 0.61656950\r"
     ]
    },
    {
     "name": "stderr",
     "output_type": "stream",
     "text": [
      "[default |INFO|model.py:1303] [54/100]\ttest_main: 0.1323\ttest_main2: 0.1389\ttest_penalty: 0.6164\n"
     ]
    },
    {
     "name": "stdout",
     "output_type": "stream",
     "text": [
      "[97/100]\ttest_main: 0.1303\ttest_main2: 0.1707\ttest_penalty: 0.64936926\r"
     ]
    },
    {
     "name": "stderr",
     "output_type": "stream",
     "text": [
      "[default |INFO|model.py:1303] [55/100]\ttest_main: 0.1301\ttest_main2: 0.1719\ttest_penalty: 0.6494\n"
     ]
    },
    {
     "name": "stdout",
     "output_type": "stream",
     "text": [
      "[94/100]\ttest_main: 0.1289\ttest_main2: 0.1241\ttest_penalty: 0.63676893\r"
     ]
    },
    {
     "name": "stderr",
     "output_type": "stream",
     "text": [
      "[default |INFO|model.py:1303] [56/100]\ttest_main: 0.1289\ttest_main2: 0.1235\ttest_penalty: 0.6371\n"
     ]
    },
    {
     "name": "stdout",
     "output_type": "stream",
     "text": [
      "[96/100]\ttest_main: 0.1317\ttest_main2: 0.1227\ttest_penalty: 0.65226932\r"
     ]
    },
    {
     "name": "stderr",
     "output_type": "stream",
     "text": [
      "[default |INFO|model.py:1303] [57/100]\ttest_main: 0.1317\ttest_main2: 0.1212\ttest_penalty: 0.6523\n"
     ]
    },
    {
     "name": "stdout",
     "output_type": "stream",
     "text": [
      "[94/100]\ttest_main: 0.1258\ttest_main2: 0.1261\ttest_penalty: 0.64076961\r"
     ]
    },
    {
     "name": "stderr",
     "output_type": "stream",
     "text": [
      "[default |INFO|model.py:1303] [58/100]\ttest_main: 0.1257\ttest_main2: 0.1273\ttest_penalty: 0.6407\n"
     ]
    },
    {
     "name": "stdout",
     "output_type": "stream",
     "text": [
      "[95/100]\ttest_main: 0.1298\ttest_main2: 0.1297\ttest_penalty: 0.64787008\r"
     ]
    },
    {
     "name": "stderr",
     "output_type": "stream",
     "text": [
      "[default |INFO|model.py:1303] [59/100]\ttest_main: 0.1297\ttest_main2: 0.1299\ttest_penalty: 0.6476\n"
     ]
    },
    {
     "name": "stdout",
     "output_type": "stream",
     "text": [
      "[98/100]\ttest_main: 0.1261\ttest_main2: 0.2024\ttest_penalty: 0.66806982\r"
     ]
    },
    {
     "name": "stderr",
     "output_type": "stream",
     "text": [
      "[default |INFO|model.py:1303] [60/100]\ttest_main: 0.1264\ttest_main2: 0.2025\ttest_penalty: 0.6680\n"
     ]
    },
    {
     "name": "stdout",
     "output_type": "stream",
     "text": [
      "[92/100]\ttest_main: 0.1290\ttest_main2: 0.1182\ttest_penalty: 0.65796978\r"
     ]
    },
    {
     "name": "stderr",
     "output_type": "stream",
     "text": [
      "[default |INFO|model.py:1303] [61/100]\ttest_main: 0.1289\ttest_main2: 0.1159\ttest_penalty: 0.6582\n"
     ]
    },
    {
     "name": "stdout",
     "output_type": "stream",
     "text": [
      "[95/100]\ttest_main: 0.1282\ttest_main2: 0.1262\ttest_penalty: 0.64677000\r"
     ]
    },
    {
     "name": "stderr",
     "output_type": "stream",
     "text": [
      "[default |INFO|model.py:1303] [62/100]\ttest_main: 0.1284\ttest_main2: 0.1279\ttest_penalty: 0.6465\n"
     ]
    },
    {
     "name": "stdout",
     "output_type": "stream",
     "text": [
      "[95/100]\ttest_main: 0.1249\ttest_main2: 0.0891\ttest_penalty: 0.67556973\r"
     ]
    },
    {
     "name": "stderr",
     "output_type": "stream",
     "text": [
      "[default |INFO|model.py:1303] [63/100]\ttest_main: 0.1249\ttest_main2: 0.0896\ttest_penalty: 0.6755\n"
     ]
    },
    {
     "name": "stdout",
     "output_type": "stream",
     "text": [
      "[97/100]\ttest_main: 0.1214\ttest_main2: 0.1241\ttest_penalty: 0.70316960\r"
     ]
    },
    {
     "name": "stderr",
     "output_type": "stream",
     "text": [
      "[default |INFO|model.py:1303] [64/100]\ttest_main: 0.1215\ttest_main2: 0.1229\ttest_penalty: 0.7032\n"
     ]
    },
    {
     "name": "stdout",
     "output_type": "stream",
     "text": [
      "[96/100]\ttest_main: 0.1224\ttest_main2: 0.1343\ttest_penalty: 0.67056992\r"
     ]
    },
    {
     "name": "stderr",
     "output_type": "stream",
     "text": [
      "[default |INFO|model.py:1303] [65/100]\ttest_main: 0.1225\ttest_main2: 0.1351\ttest_penalty: 0.6704\n"
     ]
    },
    {
     "name": "stdout",
     "output_type": "stream",
     "text": [
      "[95/100]\ttest_main: 0.1304\ttest_main2: 0.0933\ttest_penalty: 0.65807026\r"
     ]
    },
    {
     "name": "stderr",
     "output_type": "stream",
     "text": [
      "[default |INFO|model.py:1303] [66/100]\ttest_main: 0.1303\ttest_main2: 0.0922\ttest_penalty: 0.6581\n"
     ]
    },
    {
     "name": "stdout",
     "output_type": "stream",
     "text": [
      "[96/100]\ttest_main: 0.1380\ttest_main2: 0.1086\ttest_penalty: 0.66656962\r"
     ]
    },
    {
     "name": "stderr",
     "output_type": "stream",
     "text": [
      "[default |INFO|model.py:1303] [67/100]\ttest_main: 0.1380\ttest_main2: 0.1094\ttest_penalty: 0.6665\n"
     ]
    },
    {
     "name": "stdout",
     "output_type": "stream",
     "text": [
      "[95/100]\ttest_main: 0.1324\ttest_main2: 0.1139\ttest_penalty: 0.67056941\r"
     ]
    },
    {
     "name": "stderr",
     "output_type": "stream",
     "text": [
      "[default |INFO|model.py:1303] [68/100]\ttest_main: 0.1322\ttest_main2: 0.1139\ttest_penalty: 0.6705\n"
     ]
    },
    {
     "name": "stdout",
     "output_type": "stream",
     "text": [
      "[97/100]\ttest_main: 0.1284\ttest_main2: 0.0841\ttest_penalty: 0.66246968\r"
     ]
    },
    {
     "name": "stderr",
     "output_type": "stream",
     "text": [
      "[default |INFO|model.py:1303] [69/100]\ttest_main: 0.1285\ttest_main2: 0.0857\ttest_penalty: 0.6623\n"
     ]
    },
    {
     "name": "stdout",
     "output_type": "stream",
     "text": [
      "[96/100]\ttest_main: 0.1300\ttest_main2: 0.0820\ttest_penalty: 0.67956970\r"
     ]
    },
    {
     "name": "stderr",
     "output_type": "stream",
     "text": [
      "[default |INFO|model.py:1303] [70/100]\ttest_main: 0.1297\ttest_main2: 0.0813\ttest_penalty: 0.6798\n"
     ]
    },
    {
     "name": "stdout",
     "output_type": "stream",
     "text": [
      "[97/100]\ttest_main: 0.1250\ttest_main2: 0.0745\ttest_penalty: 0.67876935\r"
     ]
    },
    {
     "name": "stderr",
     "output_type": "stream",
     "text": [
      "[default |INFO|model.py:1303] [71/100]\ttest_main: 0.1248\ttest_main2: 0.0754\ttest_penalty: 0.6788\n"
     ]
    },
    {
     "name": "stdout",
     "output_type": "stream",
     "text": [
      "[95/100]\ttest_main: 0.1203\ttest_main2: 0.0808\ttest_penalty: 0.66866932\r"
     ]
    },
    {
     "name": "stderr",
     "output_type": "stream",
     "text": [
      "[default |INFO|model.py:1303] [72/100]\ttest_main: 0.1202\ttest_main2: 0.0816\ttest_penalty: 0.6685\n"
     ]
    },
    {
     "name": "stdout",
     "output_type": "stream",
     "text": [
      "[97/100]\ttest_main: 0.1217\ttest_main2: 0.0913\ttest_penalty: 0.67566949\r"
     ]
    },
    {
     "name": "stderr",
     "output_type": "stream",
     "text": [
      "[default |INFO|model.py:1303] [73/100]\ttest_main: 0.1217\ttest_main2: 0.0900\ttest_penalty: 0.6756\n"
     ]
    },
    {
     "name": "stdout",
     "output_type": "stream",
     "text": [
      "[96/100]\ttest_main: 0.1208\ttest_main2: 0.1086\ttest_penalty: 0.69366944\r"
     ]
    },
    {
     "name": "stderr",
     "output_type": "stream",
     "text": [
      "[default |INFO|model.py:1303] [74/100]\ttest_main: 0.1208\ttest_main2: 0.1104\ttest_penalty: 0.6935\n"
     ]
    },
    {
     "name": "stdout",
     "output_type": "stream",
     "text": [
      "[97/100]\ttest_main: 0.1171\ttest_main2: 0.0924\ttest_penalty: 0.69786975\r"
     ]
    },
    {
     "name": "stderr",
     "output_type": "stream",
     "text": [
      "[default |INFO|model.py:1303] [75/100]\ttest_main: 0.1171\ttest_main2: 0.0920\ttest_penalty: 0.6978\n"
     ]
    },
    {
     "name": "stdout",
     "output_type": "stream",
     "text": [
      "[98/100]\ttest_main: 0.1228\ttest_main2: 0.0698\ttest_penalty: 0.71356969\r"
     ]
    },
    {
     "name": "stderr",
     "output_type": "stream",
     "text": [
      "[default |INFO|model.py:1303] [76/100]\ttest_main: 0.1226\ttest_main2: 0.0698\ttest_penalty: 0.7133\n"
     ]
    },
    {
     "name": "stdout",
     "output_type": "stream",
     "text": [
      "[97/100]\ttest_main: 0.1245\ttest_main2: 0.0617\ttest_penalty: 0.69656938\r"
     ]
    },
    {
     "name": "stderr",
     "output_type": "stream",
     "text": [
      "[default |INFO|model.py:1303] [77/100]\ttest_main: 0.1245\ttest_main2: 0.0621\ttest_penalty: 0.6964\n"
     ]
    },
    {
     "name": "stdout",
     "output_type": "stream",
     "text": [
      "[96/100]\ttest_main: 0.1180\ttest_main2: 0.0804\ttest_penalty: 0.71686966\r"
     ]
    },
    {
     "name": "stderr",
     "output_type": "stream",
     "text": [
      "[default |INFO|model.py:1303] [78/100]\ttest_main: 0.1180\ttest_main2: 0.0800\ttest_penalty: 0.7164\n"
     ]
    },
    {
     "name": "stdout",
     "output_type": "stream",
     "text": [
      "[98/100]\ttest_main: 0.1206\ttest_main2: 0.0775\ttest_penalty: 0.67356968\r"
     ]
    },
    {
     "name": "stderr",
     "output_type": "stream",
     "text": [
      "[default |INFO|model.py:1303] [79/100]\ttest_main: 0.1207\ttest_main2: 0.0774\ttest_penalty: 0.6735\n"
     ]
    },
    {
     "name": "stdout",
     "output_type": "stream",
     "text": [
      "[97/100]\ttest_main: 0.1174\ttest_main2: 0.0720\ttest_penalty: 0.68426935\r"
     ]
    },
    {
     "name": "stderr",
     "output_type": "stream",
     "text": [
      "[default |INFO|model.py:1303] [80/100]\ttest_main: 0.1173\ttest_main2: 0.0716\ttest_penalty: 0.6842\n"
     ]
    },
    {
     "name": "stdout",
     "output_type": "stream",
     "text": [
      "[98/100]\ttest_main: 0.1166\ttest_main2: 0.0802\ttest_penalty: 0.66536933\r"
     ]
    },
    {
     "name": "stderr",
     "output_type": "stream",
     "text": [
      "[default |INFO|model.py:1303] [81/100]\ttest_main: 0.1166\ttest_main2: 0.0803\ttest_penalty: 0.6653\n"
     ]
    },
    {
     "name": "stdout",
     "output_type": "stream",
     "text": [
      "[96/100]\ttest_main: 0.1179\ttest_main2: 0.0704\ttest_penalty: 0.67516937\r"
     ]
    },
    {
     "name": "stderr",
     "output_type": "stream",
     "text": [
      "[default |INFO|model.py:1303] [82/100]\ttest_main: 0.1179\ttest_main2: 0.0722\ttest_penalty: 0.6750\n"
     ]
    },
    {
     "name": "stdout",
     "output_type": "stream",
     "text": [
      "[97/100]\ttest_main: 0.1215\ttest_main2: 0.0668\ttest_penalty: 0.69726954\r"
     ]
    },
    {
     "name": "stderr",
     "output_type": "stream",
     "text": [
      "[default |INFO|model.py:1303] [83/100]\ttest_main: 0.1215\ttest_main2: 0.0669\ttest_penalty: 0.6971\n"
     ]
    },
    {
     "name": "stdout",
     "output_type": "stream",
     "text": [
      "[98/100]\ttest_main: 0.1160\ttest_main2: 0.0847\ttest_penalty: 0.71676985\r"
     ]
    },
    {
     "name": "stderr",
     "output_type": "stream",
     "text": [
      "[default |INFO|model.py:1303] [84/100]\ttest_main: 0.1158\ttest_main2: 0.0843\ttest_penalty: 0.7165\n"
     ]
    },
    {
     "name": "stdout",
     "output_type": "stream",
     "text": [
      "[97/100]\ttest_main: 0.1132\ttest_main2: 0.0754\ttest_penalty: 0.69796938\r"
     ]
    },
    {
     "name": "stderr",
     "output_type": "stream",
     "text": [
      "[default |INFO|model.py:1303] [85/100]\ttest_main: 0.1132\ttest_main2: 0.0749\ttest_penalty: 0.6977\n"
     ]
    },
    {
     "name": "stdout",
     "output_type": "stream",
     "text": [
      "[97/100]\ttest_main: 0.1170\ttest_main2: 0.0597\ttest_penalty: 0.70446946\r"
     ]
    },
    {
     "name": "stderr",
     "output_type": "stream",
     "text": [
      "[default |INFO|model.py:1303] [86/100]\ttest_main: 0.1170\ttest_main2: 0.0594\ttest_penalty: 0.7044\n"
     ]
    },
    {
     "name": "stdout",
     "output_type": "stream",
     "text": [
      "[95/100]\ttest_main: 0.1135\ttest_main2: 0.0855\ttest_penalty: 0.69056955\r"
     ]
    },
    {
     "name": "stderr",
     "output_type": "stream",
     "text": [
      "[default |INFO|model.py:1303] [87/100]\ttest_main: 0.1137\ttest_main2: 0.0855\ttest_penalty: 0.6905\n"
     ]
    },
    {
     "name": "stdout",
     "output_type": "stream",
     "text": [
      "[96/100]\ttest_main: 0.1127\ttest_main2: 0.0833\ttest_penalty: 0.69616959\r"
     ]
    },
    {
     "name": "stderr",
     "output_type": "stream",
     "text": [
      "[default |INFO|model.py:1303] [88/100]\ttest_main: 0.1126\ttest_main2: 0.0851\ttest_penalty: 0.6963\n"
     ]
    },
    {
     "name": "stdout",
     "output_type": "stream",
     "text": [
      "[96/100]\ttest_main: 0.1103\ttest_main2: 0.1272\ttest_penalty: 0.69306963\r"
     ]
    },
    {
     "name": "stderr",
     "output_type": "stream",
     "text": [
      "[default |INFO|model.py:1303] [89/100]\ttest_main: 0.1103\ttest_main2: 0.1252\ttest_penalty: 0.6931\n"
     ]
    },
    {
     "name": "stdout",
     "output_type": "stream",
     "text": [
      "[95/100]\ttest_main: 0.1099\ttest_main2: 0.1135\ttest_penalty: 0.70456947\r"
     ]
    },
    {
     "name": "stderr",
     "output_type": "stream",
     "text": [
      "[default |INFO|model.py:1303] [90/100]\ttest_main: 0.1099\ttest_main2: 0.1130\ttest_penalty: 0.7042\n"
     ]
    },
    {
     "name": "stdout",
     "output_type": "stream",
     "text": [
      "[95/100]\ttest_main: 0.1146\ttest_main2: 0.0791\ttest_penalty: 0.71236955\r"
     ]
    },
    {
     "name": "stderr",
     "output_type": "stream",
     "text": [
      "[default |INFO|model.py:1303] [91/100]\ttest_main: 0.1148\ttest_main2: 0.0773\ttest_penalty: 0.7128\n"
     ]
    },
    {
     "name": "stdout",
     "output_type": "stream",
     "text": [
      "[94/100]\ttest_main: 0.1095\ttest_main2: 0.0938\ttest_penalty: 0.71026970\r"
     ]
    },
    {
     "name": "stderr",
     "output_type": "stream",
     "text": [
      "[default |INFO|model.py:1303] [92/100]\ttest_main: 0.1097\ttest_main2: 0.0939\ttest_penalty: 0.7100\n"
     ]
    },
    {
     "name": "stdout",
     "output_type": "stream",
     "text": [
      "[97/100]\ttest_main: 0.1093\ttest_main2: 0.0641\ttest_penalty: 0.71726971\r"
     ]
    },
    {
     "name": "stderr",
     "output_type": "stream",
     "text": [
      "[default |INFO|model.py:1303] [93/100]\ttest_main: 0.1093\ttest_main2: 0.0639\ttest_penalty: 0.7174\n"
     ]
    },
    {
     "name": "stdout",
     "output_type": "stream",
     "text": [
      "[93/100]\ttest_main: 0.1089\ttest_main2: 0.0671\ttest_penalty: 0.71086981\r"
     ]
    },
    {
     "name": "stderr",
     "output_type": "stream",
     "text": [
      "[default |INFO|model.py:1303] [94/100]\ttest_main: 0.1088\ttest_main2: 0.0669\ttest_penalty: 0.7109\n"
     ]
    },
    {
     "name": "stdout",
     "output_type": "stream",
     "text": [
      "[95/100]\ttest_main: 0.1119\ttest_main2: 0.0649\ttest_penalty: 0.70486979\r"
     ]
    },
    {
     "name": "stderr",
     "output_type": "stream",
     "text": [
      "[default |INFO|model.py:1303] [95/100]\ttest_main: 0.1121\ttest_main2: 0.0641\ttest_penalty: 0.7045\n"
     ]
    },
    {
     "name": "stdout",
     "output_type": "stream",
     "text": [
      "[95/100]\ttest_main: 0.1090\ttest_main2: 0.1178\ttest_penalty: 0.69356983\r"
     ]
    },
    {
     "name": "stderr",
     "output_type": "stream",
     "text": [
      "[default |INFO|model.py:1303] [96/100]\ttest_main: 0.1089\ttest_main2: 0.1169\ttest_penalty: 0.6935\n"
     ]
    },
    {
     "name": "stdout",
     "output_type": "stream",
     "text": [
      "[94/100]\ttest_main: 0.1100\ttest_main2: 0.0809\ttest_penalty: 0.71896977\r"
     ]
    },
    {
     "name": "stderr",
     "output_type": "stream",
     "text": [
      "[default |INFO|model.py:1303] [97/100]\ttest_main: 0.1097\ttest_main2: 0.0814\ttest_penalty: 0.7189\n"
     ]
    },
    {
     "name": "stdout",
     "output_type": "stream",
     "text": [
      "[96/100]\ttest_main: 0.1066\ttest_main2: 0.0820\ttest_penalty: 0.70706980\r"
     ]
    },
    {
     "name": "stderr",
     "output_type": "stream",
     "text": [
      "[default |INFO|model.py:1303] [98/100]\ttest_main: 0.1063\ttest_main2: 0.0809\ttest_penalty: 0.7068\n"
     ]
    },
    {
     "name": "stdout",
     "output_type": "stream",
     "text": [
      "[96/100]\ttest_main: 0.1056\ttest_main2: 0.0612\ttest_penalty: 0.71446988\r"
     ]
    },
    {
     "name": "stderr",
     "output_type": "stream",
     "text": [
      "[default |INFO|model.py:1303] [99/100]\ttest_main: 0.1054\ttest_main2: 0.0605\ttest_penalty: 0.7147\n"
     ]
    },
    {
     "name": "stdout",
     "output_type": "stream",
     "text": [
      "[97/100]\ttest_main: 0.1075\ttest_main2: 0.0887\ttest_penalty: 0.73146985\r"
     ]
    },
    {
     "name": "stderr",
     "output_type": "stream",
     "text": [
      "[default |INFO|model.py:1303] [100/100]\ttest_main: 0.1073\ttest_main2: 0.0883\ttest_penalty: 0.7316\n"
     ]
    },
    {
     "name": "stdout",
     "output_type": "stream",
     "text": [
      "[98/100]\ttest_main: 0.1075\ttest_main2: 0.0884\ttest_penalty: 0.7314\r",
      "[99/100]\ttest_main: 0.1074\ttest_main2: 0.0880\ttest_penalty: 0.7315\r",
      "[100/100]\ttest_main: 0.1073\ttest_main2: 0.0883\ttest_penalty: 0.7316\r"
     ]
    },
    {
     "name": "stderr",
     "output_type": "stream",
     "text": [
      "[default |INFO|model.py:1409] Training Finished!\n",
      "[default |INFO|model.py:1410] Elapsed time: 786.510s\n"
     ]
    }
   ],
   "source": [
    "model = SSWAE_GAN_MNIST(cfg, log, device = device)\n",
    "model.train()\n",
    "# model.train(resume = True)"
   ]
  },
  {
   "cell_type": "code",
   "execution_count": 14,
   "metadata": {},
   "outputs": [
    {
     "name": "stdout",
     "output_type": "stream",
     "text": [
      "0.658\n"
     ]
    }
   ],
   "source": [
    "acc, n = 0, 0\n",
    "for data, condition in test_generator:\n",
    "    x = data.to(device)\n",
    "    y = condition.to(device)\n",
    "    fake_latent = model.encode_s(x)\n",
    "    recon = model.decode(fake_latent)\n",
    "    recon_y = model.decode_c(fake_latent)\n",
    "    acc += torch.sum(torch.max(recon_y, 1)[1] == 2).item() # 2 for unk\n",
    "    n += len(x)\n",
    "print(acc/n)"
   ]
  },
  {
   "cell_type": "markdown",
   "metadata": {},
   "source": [
    "## Experiment 2-1) ration of Batch1 / Batch2\n",
    "\n",
    "위에서는 Batch1 = Batch2 일 때 결과가 가장 좋게 나왔는데, 다른 train(labeled/unlabeled) set에 대해서도 같은 결과가 나오는지 확인해 본다.\n",
    "\n",
    "labeled/unlabeled 개수가 비슷한 Experiment 1) Case 3을 기반으로 실험해 본다."
   ]
  },
  {
   "cell_type": "markdown",
   "metadata": {},
   "source": [
    "### Case 0. Batch1 = 50, Batch2 = 100\n",
    "\n",
    "Experiment 1) Case 3.의 경우로, accuracy = 0.32가 나왔다."
   ]
  },
  {
   "cell_type": "markdown",
   "metadata": {},
   "source": [
    "### Case 1. Batch1 = 100, Batch2 = 100"
   ]
  },
  {
   "cell_type": "code",
   "execution_count": 22,
   "metadata": {},
   "outputs": [
    {
     "data": {
      "text/plain": [
       "['./config/train_config_sswae_gan3-1.cfg']"
      ]
     },
     "execution_count": 22,
     "metadata": {},
     "output_type": "execute_result"
    }
   ],
   "source": [
    "cfg = configparser.ConfigParser()\n",
    "cfg.read('./config/train_config_sswae_gan3-1.cfg')"
   ]
  },
  {
   "cell_type": "code",
   "execution_count": 16,
   "metadata": {
    "scrolled": true
   },
   "outputs": [
    {
     "name": "stderr",
     "output_type": "stream",
     "text": [
      "[default |INFO|_base_model.py:25] ------------------------------------------------------------\n",
      "[default |INFO|_base_model.py:27] model_name : SSWAE_GAN_MNIST\n",
      "[default |INFO|_base_model.py:27] train_data : rmMNIST\n",
      "[default |INFO|_base_model.py:27] train_data_label : True\n",
      "[default |INFO|_base_model.py:27] z_sampler : gaus\n",
      "[default |INFO|_base_model.py:27] z_dim : 6\n",
      "[default |INFO|_base_model.py:27] yz_dim : 2\n",
      "[default |INFO|_base_model.py:27] y_sampler : multinomial\n",
      "[default |INFO|_base_model.py:27] y_dim : 6\n",
      "[default |INFO|_base_model.py:27] labeled_class : 0, 1, 7, 8, 9\n",
      "[default |INFO|_base_model.py:27] unlabeled_class : 3, 4, 5, 6\n",
      "[default |INFO|_base_model.py:27] test_class : 2\n",
      "[default |INFO|_base_model.py:27] classification_weight : \n",
      "[default |INFO|_base_model.py:27] encoder_pretrain : False\n",
      "[default |INFO|_base_model.py:27] lr : 5e-4\n",
      "[default |INFO|_base_model.py:27] beta1 : 0.5\n",
      "[default |INFO|_base_model.py:27] lr_adv : 2e-4\n",
      "[default |INFO|_base_model.py:27] beta1_adv : 0.5\n",
      "[default |INFO|_base_model.py:27] lambda : 10.0\n",
      "[default |INFO|_base_model.py:27] lambda2 : 10.0\n",
      "[default |INFO|_base_model.py:27] lr_schedule : manual\n",
      "[default |INFO|_base_model.py:27] validate : True\n",
      "[default |INFO|_base_model.py:27] histogram : True\n",
      "[default |INFO|_base_model.py:27] batch_size1 : 100\n",
      "[default |INFO|_base_model.py:27] batch_size2 : 100\n",
      "[default |INFO|_base_model.py:27] epoch : 100\n",
      "[default |INFO|_base_model.py:27] replace : False\n",
      "[default |INFO|_base_model.py:27] iter_per_epoch : None\n",
      "[default |INFO|_base_model.py:27] save_best : False\n",
      "[default |INFO|_base_model.py:30] data_home2 : ./data/MNIST\n",
      "[default |INFO|_base_model.py:30] tb_logs : ./result/tb_logs/sswae_gan3-1\n",
      "[default |INFO|_base_model.py:30] save_path : ./result/weights/sswae_gan3-1.pt\n",
      "[default |INFO|_base_model.py:30] save_state : ./result/states/state_sswae_gan3-1.pt\n",
      "[default |INFO|_base_model.py:30] save_img_path : \n",
      "[default |INFO|model.py:1149] ------------------------------------------------------------\n",
      "[default |INFO|model.py:1150] Training Start!\n"
     ]
    },
    {
     "name": "stdout",
     "output_type": "stream",
     "text": [
      "[100/100]\ttest_main: 0.1893\ttest_main2: 0.5103\ttest_penalty: 0.6782851\r"
     ]
    },
    {
     "name": "stderr",
     "output_type": "stream",
     "text": [
      "[default |INFO|model.py:1303] [1/100]\ttest_main: 0.1893\ttest_main2: 0.5103\ttest_penalty: 0.6782\n"
     ]
    },
    {
     "name": "stdout",
     "output_type": "stream",
     "text": [
      "[100/100]\ttest_main: 0.1569\ttest_main2: 0.3796\ttest_penalty: 0.6994927\r"
     ]
    },
    {
     "name": "stderr",
     "output_type": "stream",
     "text": [
      "[default |INFO|model.py:1303] [2/100]\ttest_main: 0.1569\ttest_main2: 0.3796\ttest_penalty: 0.6994\n"
     ]
    },
    {
     "name": "stdout",
     "output_type": "stream",
     "text": [
      "[100/100]\ttest_main: 0.1426\ttest_main2: 0.2667\ttest_penalty: 0.6905941\r"
     ]
    },
    {
     "name": "stderr",
     "output_type": "stream",
     "text": [
      "[default |INFO|model.py:1303] [3/100]\ttest_main: 0.1426\ttest_main2: 0.2667\ttest_penalty: 0.6905\n"
     ]
    },
    {
     "name": "stdout",
     "output_type": "stream",
     "text": [
      "[90/100]\ttest_main: 0.1353\ttest_main2: 0.1890\ttest_penalty: 0.69886945\r"
     ]
    },
    {
     "name": "stderr",
     "output_type": "stream",
     "text": [
      "[default |INFO|model.py:1303] [4/100]\ttest_main: 0.1352\ttest_main2: 0.1884\ttest_penalty: 0.6987\n"
     ]
    },
    {
     "name": "stdout",
     "output_type": "stream",
     "text": [
      "[100/100]\ttest_main: 0.1230\ttest_main2: 0.1498\ttest_penalty: 0.6973918\r"
     ]
    },
    {
     "name": "stderr",
     "output_type": "stream",
     "text": [
      "[default |INFO|model.py:1303] [5/100]\ttest_main: 0.1230\ttest_main2: 0.1498\ttest_penalty: 0.6973\n"
     ]
    },
    {
     "name": "stdout",
     "output_type": "stream",
     "text": [
      "[100/100]\ttest_main: 0.1125\ttest_main2: 0.1372\ttest_penalty: 0.6912917\r"
     ]
    },
    {
     "name": "stderr",
     "output_type": "stream",
     "text": [
      "[default |INFO|model.py:1303] [6/100]\ttest_main: 0.1125\ttest_main2: 0.1372\ttest_penalty: 0.6912\n"
     ]
    },
    {
     "name": "stdout",
     "output_type": "stream",
     "text": [
      "[100/100]\ttest_main: 0.1204\ttest_main2: 0.1122\ttest_penalty: 0.6922940\r"
     ]
    },
    {
     "name": "stderr",
     "output_type": "stream",
     "text": [
      "[default |INFO|model.py:1303] [7/100]\ttest_main: 0.1204\ttest_main2: 0.1122\ttest_penalty: 0.6922\n"
     ]
    },
    {
     "name": "stdout",
     "output_type": "stream",
     "text": [
      "[97/100]\ttest_main: 0.1039\ttest_main2: 0.1231\ttest_penalty: 0.69496916\r"
     ]
    },
    {
     "name": "stderr",
     "output_type": "stream",
     "text": [
      "[default |INFO|model.py:1303] [8/100]\ttest_main: 0.1039\ttest_main2: 0.1232\ttest_penalty: 0.6949\n"
     ]
    },
    {
     "name": "stdout",
     "output_type": "stream",
     "text": [
      "[92/100]\ttest_main: 0.1092\ttest_main2: 0.1216\ttest_penalty: 0.69266943\r"
     ]
    },
    {
     "name": "stderr",
     "output_type": "stream",
     "text": [
      "[default |INFO|model.py:1303] [9/100]\ttest_main: 0.1093\ttest_main2: 0.1229\ttest_penalty: 0.6926\n"
     ]
    },
    {
     "name": "stdout",
     "output_type": "stream",
     "text": [
      "[96/100]\ttest_main: 0.1177\ttest_main2: 0.1508\ttest_penalty: 0.68506987\r"
     ]
    },
    {
     "name": "stderr",
     "output_type": "stream",
     "text": [
      "[default |INFO|model.py:1303] [10/100]\ttest_main: 0.1176\ttest_main2: 0.1506\ttest_penalty: 0.6850\n"
     ]
    },
    {
     "name": "stdout",
     "output_type": "stream",
     "text": [
      "[95/100]\ttest_main: 0.1366\ttest_main2: 0.1418\ttest_penalty: 0.62067278\r"
     ]
    },
    {
     "name": "stderr",
     "output_type": "stream",
     "text": [
      "[default |INFO|model.py:1303] [11/100]\ttest_main: 0.1366\ttest_main2: 0.1419\ttest_penalty: 0.6207\n"
     ]
    },
    {
     "name": "stdout",
     "output_type": "stream",
     "text": [
      "[96/100]\ttest_main: 0.1294\ttest_main2: 0.1525\ttest_penalty: 0.68367452\r"
     ]
    },
    {
     "name": "stderr",
     "output_type": "stream",
     "text": [
      "[default |INFO|model.py:1303] [12/100]\ttest_main: 0.1292\ttest_main2: 0.1517\ttest_penalty: 0.6836\n"
     ]
    },
    {
     "name": "stdout",
     "output_type": "stream",
     "text": [
      "[96/100]\ttest_main: 0.1218\ttest_main2: 0.1123\ttest_penalty: 0.68947409\r"
     ]
    },
    {
     "name": "stderr",
     "output_type": "stream",
     "text": [
      "[default |INFO|model.py:1303] [13/100]\ttest_main: 0.1220\ttest_main2: 0.1130\ttest_penalty: 0.6894\n"
     ]
    },
    {
     "name": "stdout",
     "output_type": "stream",
     "text": [
      "[96/100]\ttest_main: 0.1104\ttest_main2: 0.1558\ttest_penalty: 0.67997198\r"
     ]
    },
    {
     "name": "stderr",
     "output_type": "stream",
     "text": [
      "[default |INFO|model.py:1303] [14/100]\ttest_main: 0.1105\ttest_main2: 0.1561\ttest_penalty: 0.6799\n"
     ]
    },
    {
     "name": "stdout",
     "output_type": "stream",
     "text": [
      "[96/100]\ttest_main: 0.1054\ttest_main2: 0.1327\ttest_penalty: 0.67877082\r"
     ]
    },
    {
     "name": "stderr",
     "output_type": "stream",
     "text": [
      "[default |INFO|model.py:1303] [15/100]\ttest_main: 0.1053\ttest_main2: 0.1348\ttest_penalty: 0.6787\n"
     ]
    },
    {
     "name": "stdout",
     "output_type": "stream",
     "text": [
      "[96/100]\ttest_main: 0.1066\ttest_main2: 0.1669\ttest_penalty: 0.68627153\r"
     ]
    },
    {
     "name": "stderr",
     "output_type": "stream",
     "text": [
      "[default |INFO|model.py:1303] [16/100]\ttest_main: 0.1064\ttest_main2: 0.1652\ttest_penalty: 0.6863\n"
     ]
    },
    {
     "name": "stdout",
     "output_type": "stream",
     "text": [
      "[95/100]\ttest_main: 0.1040\ttest_main2: 0.1229\ttest_penalty: 0.70297139\r"
     ]
    },
    {
     "name": "stderr",
     "output_type": "stream",
     "text": [
      "[default |INFO|model.py:1303] [17/100]\ttest_main: 0.1041\ttest_main2: 0.1237\ttest_penalty: 0.7028\n"
     ]
    },
    {
     "name": "stdout",
     "output_type": "stream",
     "text": [
      "[93/100]\ttest_main: 0.1023\ttest_main2: 0.1581\ttest_penalty: 0.68287068\r"
     ]
    },
    {
     "name": "stderr",
     "output_type": "stream",
     "text": [
      "[default |INFO|model.py:1303] [18/100]\ttest_main: 0.1026\ttest_main2: 0.1580\ttest_penalty: 0.6827\n"
     ]
    },
    {
     "name": "stdout",
     "output_type": "stream",
     "text": [
      "[96/100]\ttest_main: 0.1027\ttest_main2: 0.1418\ttest_penalty: 0.68577060\r"
     ]
    },
    {
     "name": "stderr",
     "output_type": "stream",
     "text": [
      "[default |INFO|model.py:1303] [19/100]\ttest_main: 0.1027\ttest_main2: 0.1418\ttest_penalty: 0.6857\n"
     ]
    },
    {
     "name": "stdout",
     "output_type": "stream",
     "text": [
      "[95/100]\ttest_main: 0.1148\ttest_main2: 0.1638\ttest_penalty: 0.67717088\r"
     ]
    },
    {
     "name": "stderr",
     "output_type": "stream",
     "text": [
      "[default |INFO|model.py:1303] [20/100]\ttest_main: 0.1151\ttest_main2: 0.1642\ttest_penalty: 0.6770\n"
     ]
    },
    {
     "name": "stdout",
     "output_type": "stream",
     "text": [
      "[93/100]\ttest_main: 0.1049\ttest_main2: 0.1941\ttest_penalty: 0.68427083\r"
     ]
    },
    {
     "name": "stderr",
     "output_type": "stream",
     "text": [
      "[default |INFO|model.py:1303] [21/100]\ttest_main: 0.1054\ttest_main2: 0.1953\ttest_penalty: 0.6843\n"
     ]
    },
    {
     "name": "stdout",
     "output_type": "stream",
     "text": [
      "[96/100]\ttest_main: 0.1090\ttest_main2: 0.1972\ttest_penalty: 0.65577058\r"
     ]
    },
    {
     "name": "stderr",
     "output_type": "stream",
     "text": [
      "[default |INFO|model.py:1303] [22/100]\ttest_main: 0.1088\ttest_main2: 0.1962\ttest_penalty: 0.6557\n"
     ]
    },
    {
     "name": "stdout",
     "output_type": "stream",
     "text": [
      "[95/100]\ttest_main: 0.1099\ttest_main2: 0.1822\ttest_penalty: 0.68807052\r"
     ]
    },
    {
     "name": "stderr",
     "output_type": "stream",
     "text": [
      "[default |INFO|model.py:1303] [23/100]\ttest_main: 0.1100\ttest_main2: 0.1804\ttest_penalty: 0.6879\n"
     ]
    },
    {
     "name": "stdout",
     "output_type": "stream",
     "text": [
      "[94/100]\ttest_main: 0.1123\ttest_main2: 0.1335\ttest_penalty: 0.67357051\r"
     ]
    },
    {
     "name": "stderr",
     "output_type": "stream",
     "text": [
      "[default |INFO|model.py:1303] [24/100]\ttest_main: 0.1122\ttest_main2: 0.1318\ttest_penalty: 0.6735\n"
     ]
    },
    {
     "name": "stdout",
     "output_type": "stream",
     "text": [
      "[94/100]\ttest_main: 0.1153\ttest_main2: 0.2243\ttest_penalty: 0.70557051\r"
     ]
    },
    {
     "name": "stderr",
     "output_type": "stream",
     "text": [
      "[default |INFO|model.py:1303] [25/100]\ttest_main: 0.1157\ttest_main2: 0.2228\ttest_penalty: 0.7055\n"
     ]
    },
    {
     "name": "stdout",
     "output_type": "stream",
     "text": [
      "[94/100]\ttest_main: 0.1094\ttest_main2: 0.1997\ttest_penalty: 0.69927008\r"
     ]
    },
    {
     "name": "stderr",
     "output_type": "stream",
     "text": [
      "[default |INFO|model.py:1303] [26/100]\ttest_main: 0.1094\ttest_main2: 0.2035\ttest_penalty: 0.6992\n"
     ]
    },
    {
     "name": "stdout",
     "output_type": "stream",
     "text": [
      "[94/100]\ttest_main: 0.1104\ttest_main2: 0.1929\ttest_penalty: 0.71707025\r"
     ]
    },
    {
     "name": "stderr",
     "output_type": "stream",
     "text": [
      "[default |INFO|model.py:1303] [27/100]\ttest_main: 0.1105\ttest_main2: 0.1918\ttest_penalty: 0.7170\n"
     ]
    },
    {
     "name": "stdout",
     "output_type": "stream",
     "text": [
      "[94/100]\ttest_main: 0.1093\ttest_main2: 0.2270\ttest_penalty: 0.68017059\r"
     ]
    },
    {
     "name": "stderr",
     "output_type": "stream",
     "text": [
      "[default |INFO|model.py:1303] [28/100]\ttest_main: 0.1094\ttest_main2: 0.2273\ttest_penalty: 0.6799\n"
     ]
    },
    {
     "name": "stdout",
     "output_type": "stream",
     "text": [
      "[95/100]\ttest_main: 0.1070\ttest_main2: 0.2795\ttest_penalty: 0.67117047\r"
     ]
    },
    {
     "name": "stderr",
     "output_type": "stream",
     "text": [
      "[default |INFO|model.py:1303] [29/100]\ttest_main: 0.1071\ttest_main2: 0.2821\ttest_penalty: 0.6710\n"
     ]
    },
    {
     "name": "stdout",
     "output_type": "stream",
     "text": [
      "[95/100]\ttest_main: 0.1058\ttest_main2: 0.2217\ttest_penalty: 0.69177010\r"
     ]
    },
    {
     "name": "stderr",
     "output_type": "stream",
     "text": [
      "[default |INFO|model.py:1303] [30/100]\ttest_main: 0.1059\ttest_main2: 0.2230\ttest_penalty: 0.6917\n"
     ]
    },
    {
     "name": "stdout",
     "output_type": "stream",
     "text": [
      "[94/100]\ttest_main: 0.1048\ttest_main2: 0.2370\ttest_penalty: 0.68416987\r"
     ]
    },
    {
     "name": "stderr",
     "output_type": "stream",
     "text": [
      "[default |INFO|model.py:1303] [31/100]\ttest_main: 0.1050\ttest_main2: 0.2374\ttest_penalty: 0.6842\n"
     ]
    },
    {
     "name": "stdout",
     "output_type": "stream",
     "text": [
      "[95/100]\ttest_main: 0.1080\ttest_main2: 0.3346\ttest_penalty: 0.67967001\r"
     ]
    },
    {
     "name": "stderr",
     "output_type": "stream",
     "text": [
      "[default |INFO|model.py:1303] [32/100]\ttest_main: 0.1080\ttest_main2: 0.3346\ttest_penalty: 0.6795\n"
     ]
    },
    {
     "name": "stdout",
     "output_type": "stream",
     "text": [
      "[94/100]\ttest_main: 0.1063\ttest_main2: 0.1923\ttest_penalty: 0.64767006\r"
     ]
    },
    {
     "name": "stderr",
     "output_type": "stream",
     "text": [
      "[default |INFO|model.py:1303] [33/100]\ttest_main: 0.1065\ttest_main2: 0.1936\ttest_penalty: 0.6476\n"
     ]
    },
    {
     "name": "stdout",
     "output_type": "stream",
     "text": [
      "[94/100]\ttest_main: 0.1107\ttest_main2: 0.2159\ttest_penalty: 0.66937018\r"
     ]
    },
    {
     "name": "stderr",
     "output_type": "stream",
     "text": [
      "[default |INFO|model.py:1303] [34/100]\ttest_main: 0.1108\ttest_main2: 0.2214\ttest_penalty: 0.6694\n"
     ]
    },
    {
     "name": "stdout",
     "output_type": "stream",
     "text": [
      "[94/100]\ttest_main: 0.1131\ttest_main2: 0.2254\ttest_penalty: 0.69937035\r"
     ]
    },
    {
     "name": "stderr",
     "output_type": "stream",
     "text": [
      "[default |INFO|model.py:1303] [35/100]\ttest_main: 0.1135\ttest_main2: 0.2272\ttest_penalty: 0.6994\n"
     ]
    },
    {
     "name": "stdout",
     "output_type": "stream",
     "text": [
      "[94/100]\ttest_main: 0.1140\ttest_main2: 0.2631\ttest_penalty: 0.66427024\r"
     ]
    },
    {
     "name": "stderr",
     "output_type": "stream",
     "text": [
      "[default |INFO|model.py:1303] [36/100]\ttest_main: 0.1135\ttest_main2: 0.2599\ttest_penalty: 0.6641\n"
     ]
    },
    {
     "name": "stdout",
     "output_type": "stream",
     "text": [
      "[94/100]\ttest_main: 0.1141\ttest_main2: 0.3061\ttest_penalty: 0.66867038\r"
     ]
    },
    {
     "name": "stderr",
     "output_type": "stream",
     "text": [
      "[default |INFO|model.py:1303] [37/100]\ttest_main: 0.1143\ttest_main2: 0.3080\ttest_penalty: 0.6685\n"
     ]
    },
    {
     "name": "stdout",
     "output_type": "stream",
     "text": [
      "[92/100]\ttest_main: 0.1091\ttest_main2: 0.2293\ttest_penalty: 0.67127025\r"
     ]
    },
    {
     "name": "stderr",
     "output_type": "stream",
     "text": [
      "[default |INFO|model.py:1303] [38/100]\ttest_main: 0.1095\ttest_main2: 0.2328\ttest_penalty: 0.6712\n"
     ]
    },
    {
     "name": "stdout",
     "output_type": "stream",
     "text": [
      "[93/100]\ttest_main: 0.1119\ttest_main2: 0.2168\ttest_penalty: 0.63707040\r"
     ]
    },
    {
     "name": "stderr",
     "output_type": "stream",
     "text": [
      "[default |INFO|model.py:1303] [39/100]\ttest_main: 0.1116\ttest_main2: 0.2154\ttest_penalty: 0.6371\n"
     ]
    },
    {
     "name": "stdout",
     "output_type": "stream",
     "text": [
      "[96/100]\ttest_main: 0.1101\ttest_main2: 0.2155\ttest_penalty: 0.71627056\r"
     ]
    },
    {
     "name": "stderr",
     "output_type": "stream",
     "text": [
      "[default |INFO|model.py:1303] [40/100]\ttest_main: 0.1104\ttest_main2: 0.2167\ttest_penalty: 0.7162\n"
     ]
    },
    {
     "name": "stdout",
     "output_type": "stream",
     "text": [
      "[96/100]\ttest_main: 0.1151\ttest_main2: 0.2638\ttest_penalty: 0.66127078\r"
     ]
    },
    {
     "name": "stderr",
     "output_type": "stream",
     "text": [
      "[default |INFO|model.py:1303] [41/100]\ttest_main: 0.1153\ttest_main2: 0.2640\ttest_penalty: 0.6613\n"
     ]
    },
    {
     "name": "stdout",
     "output_type": "stream",
     "text": [
      "[95/100]\ttest_main: 0.1130\ttest_main2: 0.1979\ttest_penalty: 0.66867086\r"
     ]
    },
    {
     "name": "stderr",
     "output_type": "stream",
     "text": [
      "[default |INFO|model.py:1303] [42/100]\ttest_main: 0.1129\ttest_main2: 0.1965\ttest_penalty: 0.6686\n"
     ]
    },
    {
     "name": "stdout",
     "output_type": "stream",
     "text": [
      "[94/100]\ttest_main: 0.1106\ttest_main2: 0.2344\ttest_penalty: 0.69017089\r"
     ]
    },
    {
     "name": "stderr",
     "output_type": "stream",
     "text": [
      "[default |INFO|model.py:1303] [43/100]\ttest_main: 0.1108\ttest_main2: 0.2328\ttest_penalty: 0.6902\n"
     ]
    },
    {
     "name": "stdout",
     "output_type": "stream",
     "text": [
      "[95/100]\ttest_main: 0.1118\ttest_main2: 0.2470\ttest_penalty: 0.68937075\r"
     ]
    },
    {
     "name": "stderr",
     "output_type": "stream",
     "text": [
      "[default |INFO|model.py:1303] [44/100]\ttest_main: 0.1118\ttest_main2: 0.2443\ttest_penalty: 0.6890\n"
     ]
    },
    {
     "name": "stdout",
     "output_type": "stream",
     "text": [
      "[94/100]\ttest_main: 0.1103\ttest_main2: 0.2492\ttest_penalty: 0.68957073\r"
     ]
    },
    {
     "name": "stderr",
     "output_type": "stream",
     "text": [
      "[default |INFO|model.py:1303] [45/100]\ttest_main: 0.1104\ttest_main2: 0.2491\ttest_penalty: 0.6894\n"
     ]
    },
    {
     "name": "stdout",
     "output_type": "stream",
     "text": [
      "[94/100]\ttest_main: 0.1189\ttest_main2: 0.2825\ttest_penalty: 0.67177058\r"
     ]
    },
    {
     "name": "stderr",
     "output_type": "stream",
     "text": [
      "[default |INFO|model.py:1303] [46/100]\ttest_main: 0.1189\ttest_main2: 0.2802\ttest_penalty: 0.6718\n"
     ]
    },
    {
     "name": "stdout",
     "output_type": "stream",
     "text": [
      "[94/100]\ttest_main: 0.1165\ttest_main2: 0.3109\ttest_penalty: 0.73907063\r"
     ]
    },
    {
     "name": "stderr",
     "output_type": "stream",
     "text": [
      "[default |INFO|model.py:1303] [47/100]\ttest_main: 0.1167\ttest_main2: 0.3076\ttest_penalty: 0.7391\n"
     ]
    },
    {
     "name": "stdout",
     "output_type": "stream",
     "text": [
      "[100/100]\ttest_main: 0.1088\ttest_main2: 0.2028\ttest_penalty: 0.7268017\r"
     ]
    },
    {
     "name": "stderr",
     "output_type": "stream",
     "text": [
      "[default |INFO|model.py:1303] [48/100]\ttest_main: 0.1088\ttest_main2: 0.2028\ttest_penalty: 0.7268\n"
     ]
    },
    {
     "name": "stdout",
     "output_type": "stream",
     "text": [
      "[100/100]\ttest_main: 0.1145\ttest_main2: 0.1979\ttest_penalty: 0.7007015\r"
     ]
    },
    {
     "name": "stderr",
     "output_type": "stream",
     "text": [
      "[default |INFO|model.py:1303] [49/100]\ttest_main: 0.1145\ttest_main2: 0.1979\ttest_penalty: 0.7007\n"
     ]
    },
    {
     "name": "stdout",
     "output_type": "stream",
     "text": [
      "[100/100]\ttest_main: 0.1100\ttest_main2: 0.2140\ttest_penalty: 0.6856003\r"
     ]
    },
    {
     "name": "stderr",
     "output_type": "stream",
     "text": [
      "[default |INFO|model.py:1303] [50/100]\ttest_main: 0.1100\ttest_main2: 0.2140\ttest_penalty: 0.6856\n"
     ]
    },
    {
     "name": "stdout",
     "output_type": "stream",
     "text": [
      "[100/100]\ttest_main: 0.1086\ttest_main2: 0.1885\ttest_penalty: 0.7124000\r"
     ]
    },
    {
     "name": "stderr",
     "output_type": "stream",
     "text": [
      "[default |INFO|model.py:1303] [51/100]\ttest_main: 0.1086\ttest_main2: 0.1885\ttest_penalty: 0.7124\n"
     ]
    },
    {
     "name": "stdout",
     "output_type": "stream",
     "text": [
      "[100/100]\ttest_main: 0.1079\ttest_main2: 0.1479\ttest_penalty: 0.7083992\r"
     ]
    },
    {
     "name": "stderr",
     "output_type": "stream",
     "text": [
      "[default |INFO|model.py:1303] [52/100]\ttest_main: 0.1079\ttest_main2: 0.1479\ttest_penalty: 0.7083\n"
     ]
    },
    {
     "name": "stdout",
     "output_type": "stream",
     "text": [
      "[100/100]\ttest_main: 0.1096\ttest_main2: 0.1458\ttest_penalty: 0.6643993\r"
     ]
    },
    {
     "name": "stderr",
     "output_type": "stream",
     "text": [
      "[default |INFO|model.py:1303] [53/100]\ttest_main: 0.1096\ttest_main2: 0.1458\ttest_penalty: 0.6643\n"
     ]
    },
    {
     "name": "stdout",
     "output_type": "stream",
     "text": [
      "[100/100]\ttest_main: 0.1075\ttest_main2: 0.1662\ttest_penalty: 0.6760006\r"
     ]
    },
    {
     "name": "stderr",
     "output_type": "stream",
     "text": [
      "[default |INFO|model.py:1303] [54/100]\ttest_main: 0.1075\ttest_main2: 0.1662\ttest_penalty: 0.6760\n"
     ]
    },
    {
     "name": "stdout",
     "output_type": "stream",
     "text": [
      "[100/100]\ttest_main: 0.1088\ttest_main2: 0.2376\ttest_penalty: 0.6924998\r"
     ]
    },
    {
     "name": "stderr",
     "output_type": "stream",
     "text": [
      "[default |INFO|model.py:1303] [55/100]\ttest_main: 0.1088\ttest_main2: 0.2376\ttest_penalty: 0.6924\n"
     ]
    },
    {
     "name": "stdout",
     "output_type": "stream",
     "text": [
      "[100/100]\ttest_main: 0.1095\ttest_main2: 0.2058\ttest_penalty: 0.6537003\r"
     ]
    },
    {
     "name": "stderr",
     "output_type": "stream",
     "text": [
      "[default |INFO|model.py:1303] [56/100]\ttest_main: 0.1095\ttest_main2: 0.2058\ttest_penalty: 0.6537\n"
     ]
    },
    {
     "name": "stdout",
     "output_type": "stream",
     "text": [
      "[100/100]\ttest_main: 0.1088\ttest_main2: 0.1881\ttest_penalty: 0.6996003\r"
     ]
    },
    {
     "name": "stderr",
     "output_type": "stream",
     "text": [
      "[default |INFO|model.py:1303] [57/100]\ttest_main: 0.1088\ttest_main2: 0.1881\ttest_penalty: 0.6996\n"
     ]
    },
    {
     "name": "stdout",
     "output_type": "stream",
     "text": [
      "[100/100]\ttest_main: 0.1059\ttest_main2: 0.2121\ttest_penalty: 0.6951992\r"
     ]
    },
    {
     "name": "stderr",
     "output_type": "stream",
     "text": [
      "[default |INFO|model.py:1303] [58/100]\ttest_main: 0.1059\ttest_main2: 0.2121\ttest_penalty: 0.6951\n"
     ]
    },
    {
     "name": "stdout",
     "output_type": "stream",
     "text": [
      "[100/100]\ttest_main: 0.1071\ttest_main2: 0.2115\ttest_penalty: 0.6440000\r"
     ]
    },
    {
     "name": "stderr",
     "output_type": "stream",
     "text": [
      "[default |INFO|model.py:1303] [59/100]\ttest_main: 0.1071\ttest_main2: 0.2115\ttest_penalty: 0.6440\n"
     ]
    },
    {
     "name": "stdout",
     "output_type": "stream",
     "text": [
      "[100/100]\ttest_main: 0.1085\ttest_main2: 0.2369\ttest_penalty: 0.7129981\r"
     ]
    },
    {
     "name": "stderr",
     "output_type": "stream",
     "text": [
      "[default |INFO|model.py:1303] [60/100]\ttest_main: 0.1085\ttest_main2: 0.2369\ttest_penalty: 0.7129\n"
     ]
    },
    {
     "name": "stdout",
     "output_type": "stream",
     "text": [
      "[100/100]\ttest_main: 0.1083\ttest_main2: 0.2093\ttest_penalty: 0.6949993\r"
     ]
    },
    {
     "name": "stderr",
     "output_type": "stream",
     "text": [
      "[default |INFO|model.py:1303] [61/100]\ttest_main: 0.1083\ttest_main2: 0.2093\ttest_penalty: 0.6949\n"
     ]
    },
    {
     "name": "stdout",
     "output_type": "stream",
     "text": [
      "[100/100]\ttest_main: 0.1065\ttest_main2: 0.2739\ttest_penalty: 0.6924983\r"
     ]
    },
    {
     "name": "stderr",
     "output_type": "stream",
     "text": [
      "[default |INFO|model.py:1303] [62/100]\ttest_main: 0.1065\ttest_main2: 0.2739\ttest_penalty: 0.6924\n"
     ]
    },
    {
     "name": "stdout",
     "output_type": "stream",
     "text": [
      "[100/100]\ttest_main: 0.1046\ttest_main2: 0.1667\ttest_penalty: 0.6711984\r"
     ]
    },
    {
     "name": "stderr",
     "output_type": "stream",
     "text": [
      "[default |INFO|model.py:1303] [63/100]\ttest_main: 0.1046\ttest_main2: 0.1667\ttest_penalty: 0.6711\n"
     ]
    },
    {
     "name": "stdout",
     "output_type": "stream",
     "text": [
      "[100/100]\ttest_main: 0.1052\ttest_main2: 0.1726\ttest_penalty: 0.6974970\r"
     ]
    },
    {
     "name": "stderr",
     "output_type": "stream",
     "text": [
      "[default |INFO|model.py:1303] [64/100]\ttest_main: 0.1052\ttest_main2: 0.1726\ttest_penalty: 0.6974\n"
     ]
    },
    {
     "name": "stdout",
     "output_type": "stream",
     "text": [
      "[100/100]\ttest_main: 0.1035\ttest_main2: 0.1699\ttest_penalty: 0.7018988\r"
     ]
    },
    {
     "name": "stderr",
     "output_type": "stream",
     "text": [
      "[default |INFO|model.py:1303] [65/100]\ttest_main: 0.1035\ttest_main2: 0.1699\ttest_penalty: 0.7018\n"
     ]
    },
    {
     "name": "stdout",
     "output_type": "stream",
     "text": [
      "[100/100]\ttest_main: 0.1036\ttest_main2: 0.1362\ttest_penalty: 0.6847970\r"
     ]
    },
    {
     "name": "stderr",
     "output_type": "stream",
     "text": [
      "[default |INFO|model.py:1303] [66/100]\ttest_main: 0.1036\ttest_main2: 0.1362\ttest_penalty: 0.6847\n"
     ]
    },
    {
     "name": "stdout",
     "output_type": "stream",
     "text": [
      "[100/100]\ttest_main: 0.1054\ttest_main2: 0.1389\ttest_penalty: 0.6832986\r"
     ]
    },
    {
     "name": "stderr",
     "output_type": "stream",
     "text": [
      "[default |INFO|model.py:1303] [67/100]\ttest_main: 0.1054\ttest_main2: 0.1389\ttest_penalty: 0.6832\n"
     ]
    },
    {
     "name": "stdout",
     "output_type": "stream",
     "text": [
      "[100/100]\ttest_main: 0.1041\ttest_main2: 0.1742\ttest_penalty: 0.6410993\r"
     ]
    },
    {
     "name": "stderr",
     "output_type": "stream",
     "text": [
      "[default |INFO|model.py:1303] [68/100]\ttest_main: 0.1041\ttest_main2: 0.1742\ttest_penalty: 0.6410\n"
     ]
    },
    {
     "name": "stdout",
     "output_type": "stream",
     "text": [
      "[100/100]\ttest_main: 0.1020\ttest_main2: 0.1879\ttest_penalty: 0.6743974\r"
     ]
    },
    {
     "name": "stderr",
     "output_type": "stream",
     "text": [
      "[default |INFO|model.py:1303] [69/100]\ttest_main: 0.1020\ttest_main2: 0.1879\ttest_penalty: 0.6743\n"
     ]
    },
    {
     "name": "stdout",
     "output_type": "stream",
     "text": [
      "[100/100]\ttest_main: 0.1002\ttest_main2: 0.1158\ttest_penalty: 0.6668002\r"
     ]
    },
    {
     "name": "stderr",
     "output_type": "stream",
     "text": [
      "[default |INFO|model.py:1303] [70/100]\ttest_main: 0.1002\ttest_main2: 0.1158\ttest_penalty: 0.6668\n"
     ]
    },
    {
     "name": "stdout",
     "output_type": "stream",
     "text": [
      "[100/100]\ttest_main: 0.1032\ttest_main2: 0.1792\ttest_penalty: 0.6980985\r"
     ]
    },
    {
     "name": "stderr",
     "output_type": "stream",
     "text": [
      "[default |INFO|model.py:1303] [71/100]\ttest_main: 0.1032\ttest_main2: 0.1792\ttest_penalty: 0.6980\n"
     ]
    },
    {
     "name": "stdout",
     "output_type": "stream",
     "text": [
      "[100/100]\ttest_main: 0.1012\ttest_main2: 0.2202\ttest_penalty: 0.6884989\r"
     ]
    },
    {
     "name": "stderr",
     "output_type": "stream",
     "text": [
      "[default |INFO|model.py:1303] [72/100]\ttest_main: 0.1012\ttest_main2: 0.2202\ttest_penalty: 0.6884\n"
     ]
    },
    {
     "name": "stdout",
     "output_type": "stream",
     "text": [
      "[100/100]\ttest_main: 0.1064\ttest_main2: 0.2450\ttest_penalty: 0.6710005\r"
     ]
    },
    {
     "name": "stderr",
     "output_type": "stream",
     "text": [
      "[default |INFO|model.py:1303] [73/100]\ttest_main: 0.1064\ttest_main2: 0.2450\ttest_penalty: 0.6710\n"
     ]
    },
    {
     "name": "stdout",
     "output_type": "stream",
     "text": [
      "[100/100]\ttest_main: 0.1040\ttest_main2: 0.1471\ttest_penalty: 0.6871989\r"
     ]
    },
    {
     "name": "stderr",
     "output_type": "stream",
     "text": [
      "[default |INFO|model.py:1303] [74/100]\ttest_main: 0.1040\ttest_main2: 0.1471\ttest_penalty: 0.6871\n"
     ]
    },
    {
     "name": "stdout",
     "output_type": "stream",
     "text": [
      "[100/100]\ttest_main: 0.1042\ttest_main2: 0.2062\ttest_penalty: 0.7073993\r"
     ]
    },
    {
     "name": "stderr",
     "output_type": "stream",
     "text": [
      "[default |INFO|model.py:1303] [75/100]\ttest_main: 0.1042\ttest_main2: 0.2062\ttest_penalty: 0.7073\n"
     ]
    },
    {
     "name": "stdout",
     "output_type": "stream",
     "text": [
      "[100/100]\ttest_main: 0.1011\ttest_main2: 0.1620\ttest_penalty: 0.6515997\r"
     ]
    },
    {
     "name": "stderr",
     "output_type": "stream",
     "text": [
      "[default |INFO|model.py:1303] [76/100]\ttest_main: 0.1011\ttest_main2: 0.1620\ttest_penalty: 0.6515\n"
     ]
    },
    {
     "name": "stdout",
     "output_type": "stream",
     "text": [
      "[100/100]\ttest_main: 0.1041\ttest_main2: 0.2013\ttest_penalty: 0.7028994\r"
     ]
    },
    {
     "name": "stderr",
     "output_type": "stream",
     "text": [
      "[default |INFO|model.py:1303] [77/100]\ttest_main: 0.1041\ttest_main2: 0.2013\ttest_penalty: 0.7028\n"
     ]
    },
    {
     "name": "stdout",
     "output_type": "stream",
     "text": [
      "[100/100]\ttest_main: 0.0998\ttest_main2: 0.1713\ttest_penalty: 0.6875993\r"
     ]
    },
    {
     "name": "stderr",
     "output_type": "stream",
     "text": [
      "[default |INFO|model.py:1303] [78/100]\ttest_main: 0.0998\ttest_main2: 0.1713\ttest_penalty: 0.6875\n"
     ]
    },
    {
     "name": "stdout",
     "output_type": "stream",
     "text": [
      "[100/100]\ttest_main: 0.1069\ttest_main2: 0.1750\ttest_penalty: 0.6973990\r"
     ]
    },
    {
     "name": "stderr",
     "output_type": "stream",
     "text": [
      "[default |INFO|model.py:1303] [79/100]\ttest_main: 0.1069\ttest_main2: 0.1750\ttest_penalty: 0.6973\n"
     ]
    },
    {
     "name": "stdout",
     "output_type": "stream",
     "text": [
      "[100/100]\ttest_main: 0.1040\ttest_main2: 0.1905\ttest_penalty: 0.6829985\r"
     ]
    },
    {
     "name": "stderr",
     "output_type": "stream",
     "text": [
      "[default |INFO|model.py:1303] [80/100]\ttest_main: 0.1040\ttest_main2: 0.1905\ttest_penalty: 0.6829\n"
     ]
    },
    {
     "name": "stdout",
     "output_type": "stream",
     "text": [
      "[100/100]\ttest_main: 0.1052\ttest_main2: 0.1940\ttest_penalty: 0.6848001\r"
     ]
    },
    {
     "name": "stderr",
     "output_type": "stream",
     "text": [
      "[default |INFO|model.py:1303] [81/100]\ttest_main: 0.1052\ttest_main2: 0.1940\ttest_penalty: 0.6848\n"
     ]
    },
    {
     "name": "stdout",
     "output_type": "stream",
     "text": [
      "[100/100]\ttest_main: 0.1023\ttest_main2: 0.1561\ttest_penalty: 0.6812973\r"
     ]
    },
    {
     "name": "stderr",
     "output_type": "stream",
     "text": [
      "[default |INFO|model.py:1303] [82/100]\ttest_main: 0.1023\ttest_main2: 0.1561\ttest_penalty: 0.6812\n"
     ]
    },
    {
     "name": "stdout",
     "output_type": "stream",
     "text": [
      "[100/100]\ttest_main: 0.1029\ttest_main2: 0.1905\ttest_penalty: 0.7108986\r"
     ]
    },
    {
     "name": "stderr",
     "output_type": "stream",
     "text": [
      "[default |INFO|model.py:1303] [83/100]\ttest_main: 0.1029\ttest_main2: 0.1905\ttest_penalty: 0.7108\n"
     ]
    },
    {
     "name": "stdout",
     "output_type": "stream",
     "text": [
      "[100/100]\ttest_main: 0.1029\ttest_main2: 0.1817\ttest_penalty: 0.6757978\r"
     ]
    },
    {
     "name": "stderr",
     "output_type": "stream",
     "text": [
      "[default |INFO|model.py:1303] [84/100]\ttest_main: 0.1029\ttest_main2: 0.1817\ttest_penalty: 0.6757\n"
     ]
    },
    {
     "name": "stdout",
     "output_type": "stream",
     "text": [
      "[99/100]\ttest_main: 0.1051\ttest_main2: 0.1812\ttest_penalty: 0.69136977\r"
     ]
    },
    {
     "name": "stderr",
     "output_type": "stream",
     "text": [
      "[default |INFO|model.py:1303] [85/100]\ttest_main: 0.1052\ttest_main2: 0.1821\ttest_penalty: 0.6913\n"
     ]
    },
    {
     "name": "stdout",
     "output_type": "stream",
     "text": [
      "[100/100]\ttest_main: 0.1044\ttest_main2: 0.1932\ttest_penalty: 0.6870964\r"
     ]
    },
    {
     "name": "stderr",
     "output_type": "stream",
     "text": [
      "[default |INFO|model.py:1303] [86/100]\ttest_main: 0.1044\ttest_main2: 0.1932\ttest_penalty: 0.6870\n"
     ]
    },
    {
     "name": "stdout",
     "output_type": "stream",
     "text": [
      "[100/100]\ttest_main: 0.1018\ttest_main2: 0.1498\ttest_penalty: 0.7155983\r"
     ]
    },
    {
     "name": "stderr",
     "output_type": "stream",
     "text": [
      "[default |INFO|model.py:1303] [87/100]\ttest_main: 0.1018\ttest_main2: 0.1498\ttest_penalty: 0.7155\n"
     ]
    },
    {
     "name": "stdout",
     "output_type": "stream",
     "text": [
      "[100/100]\ttest_main: 0.1009\ttest_main2: 0.1717\ttest_penalty: 0.6968976\r"
     ]
    },
    {
     "name": "stderr",
     "output_type": "stream",
     "text": [
      "[default |INFO|model.py:1303] [88/100]\ttest_main: 0.1009\ttest_main2: 0.1717\ttest_penalty: 0.6968\n"
     ]
    },
    {
     "name": "stdout",
     "output_type": "stream",
     "text": [
      "[100/100]\ttest_main: 0.1044\ttest_main2: 0.1177\ttest_penalty: 0.7053970\r"
     ]
    },
    {
     "name": "stderr",
     "output_type": "stream",
     "text": [
      "[default |INFO|model.py:1303] [89/100]\ttest_main: 0.1044\ttest_main2: 0.1177\ttest_penalty: 0.7053\n"
     ]
    },
    {
     "name": "stdout",
     "output_type": "stream",
     "text": [
      "[100/100]\ttest_main: 0.1038\ttest_main2: 0.1215\ttest_penalty: 0.7145980\r"
     ]
    },
    {
     "name": "stderr",
     "output_type": "stream",
     "text": [
      "[default |INFO|model.py:1303] [90/100]\ttest_main: 0.1038\ttest_main2: 0.1215\ttest_penalty: 0.7145\n"
     ]
    },
    {
     "name": "stdout",
     "output_type": "stream",
     "text": [
      "[100/100]\ttest_main: 0.1011\ttest_main2: 0.1404\ttest_penalty: 0.7116968\r"
     ]
    },
    {
     "name": "stderr",
     "output_type": "stream",
     "text": [
      "[default |INFO|model.py:1303] [91/100]\ttest_main: 0.1011\ttest_main2: 0.1404\ttest_penalty: 0.7116\n"
     ]
    },
    {
     "name": "stdout",
     "output_type": "stream",
     "text": [
      "[100/100]\ttest_main: 0.1022\ttest_main2: 0.1871\ttest_penalty: 0.6864973\r"
     ]
    },
    {
     "name": "stderr",
     "output_type": "stream",
     "text": [
      "[default |INFO|model.py:1303] [92/100]\ttest_main: 0.1022\ttest_main2: 0.1871\ttest_penalty: 0.6864\n"
     ]
    },
    {
     "name": "stdout",
     "output_type": "stream",
     "text": [
      "[100/100]\ttest_main: 0.1049\ttest_main2: 0.2106\ttest_penalty: 0.6912961\r"
     ]
    },
    {
     "name": "stderr",
     "output_type": "stream",
     "text": [
      "[default |INFO|model.py:1303] [93/100]\ttest_main: 0.1049\ttest_main2: 0.2106\ttest_penalty: 0.6912\n"
     ]
    },
    {
     "name": "stdout",
     "output_type": "stream",
     "text": [
      "[100/100]\ttest_main: 0.1006\ttest_main2: 0.1512\ttest_penalty: 0.6939971\r"
     ]
    },
    {
     "name": "stderr",
     "output_type": "stream",
     "text": [
      "[default |INFO|model.py:1303] [94/100]\ttest_main: 0.1006\ttest_main2: 0.1512\ttest_penalty: 0.6939\n"
     ]
    },
    {
     "name": "stdout",
     "output_type": "stream",
     "text": [
      "[100/100]\ttest_main: 0.1004\ttest_main2: 0.1552\ttest_penalty: 0.6919968\r"
     ]
    },
    {
     "name": "stderr",
     "output_type": "stream",
     "text": [
      "[default |INFO|model.py:1303] [95/100]\ttest_main: 0.1004\ttest_main2: 0.1552\ttest_penalty: 0.6919\n"
     ]
    },
    {
     "name": "stdout",
     "output_type": "stream",
     "text": [
      "[100/100]\ttest_main: 0.1013\ttest_main2: 0.1688\ttest_penalty: 0.6885983\r"
     ]
    },
    {
     "name": "stderr",
     "output_type": "stream",
     "text": [
      "[default |INFO|model.py:1303] [96/100]\ttest_main: 0.1013\ttest_main2: 0.1688\ttest_penalty: 0.6885\n"
     ]
    },
    {
     "name": "stdout",
     "output_type": "stream",
     "text": [
      "[100/100]\ttest_main: 0.1032\ttest_main2: 0.1265\ttest_penalty: 0.6935970\r"
     ]
    },
    {
     "name": "stderr",
     "output_type": "stream",
     "text": [
      "[default |INFO|model.py:1303] [97/100]\ttest_main: 0.1032\ttest_main2: 0.1265\ttest_penalty: 0.6935\n"
     ]
    },
    {
     "name": "stdout",
     "output_type": "stream",
     "text": [
      "[100/100]\ttest_main: 0.1012\ttest_main2: 0.1219\ttest_penalty: 0.6895976\r"
     ]
    },
    {
     "name": "stderr",
     "output_type": "stream",
     "text": [
      "[default |INFO|model.py:1303] [98/100]\ttest_main: 0.1012\ttest_main2: 0.1219\ttest_penalty: 0.6895\n"
     ]
    },
    {
     "name": "stdout",
     "output_type": "stream",
     "text": [
      "[100/100]\ttest_main: 0.1008\ttest_main2: 0.1677\ttest_penalty: 0.6963971\r"
     ]
    },
    {
     "name": "stderr",
     "output_type": "stream",
     "text": [
      "[default |INFO|model.py:1303] [99/100]\ttest_main: 0.1008\ttest_main2: 0.1677\ttest_penalty: 0.6963\n"
     ]
    },
    {
     "name": "stdout",
     "output_type": "stream",
     "text": [
      "[100/100]\ttest_main: 0.0982\ttest_main2: 0.1217\ttest_penalty: 0.6957972\r"
     ]
    },
    {
     "name": "stderr",
     "output_type": "stream",
     "text": [
      "[default |INFO|model.py:1303] [100/100]\ttest_main: 0.0982\ttest_main2: 0.1217\ttest_penalty: 0.6957\n",
      "[default |INFO|model.py:1409] Training Finished!\n",
      "[default |INFO|model.py:1410] Elapsed time: 1906.794s\n"
     ]
    }
   ],
   "source": [
    "model = SSWAE_GAN_MNIST(cfg, log, device = device)\n",
    "model.train()\n",
    "# model.train(resume = True)"
   ]
  },
  {
   "cell_type": "code",
   "execution_count": 23,
   "metadata": {},
   "outputs": [],
   "source": [
    "model = SSWAE_GAN_MNIST(cfg, log, device = device, verbose=0)\n",
    "model.load(cfg['path_info']['save_path'])"
   ]
  },
  {
   "cell_type": "code",
   "execution_count": 24,
   "metadata": {},
   "outputs": [
    {
     "name": "stdout",
     "output_type": "stream",
     "text": [
      "0.359\n"
     ]
    }
   ],
   "source": [
    "acc, n = 0, 0\n",
    "for data, condition in test_generator:\n",
    "    x = data.to(device)\n",
    "    y = condition.to(device)\n",
    "    fake_latent = model.encode_s(x)\n",
    "    recon = model.decode(fake_latent)\n",
    "    recon_y = model.decode_c(fake_latent)\n",
    "    acc += torch.sum(torch.max(recon_y, 1)[1] == 5).item() # 5 for unk\n",
    "    n += len(x)\n",
    "print(acc/n)"
   ]
  },
  {
   "cell_type": "markdown",
   "metadata": {},
   "source": [
    "### Case 2. Batch1 = 100, Batch2 = 50"
   ]
  },
  {
   "cell_type": "code",
   "execution_count": 18,
   "metadata": {
    "scrolled": true
   },
   "outputs": [
    {
     "data": {
      "text/plain": [
       "['./config/train_config_sswae_gan3-2.cfg']"
      ]
     },
     "execution_count": 18,
     "metadata": {},
     "output_type": "execute_result"
    }
   ],
   "source": [
    "cfg = configparser.ConfigParser()\n",
    "cfg.read('./config/train_config_sswae_gan3-2.cfg')"
   ]
  },
  {
   "cell_type": "code",
   "execution_count": 19,
   "metadata": {
    "scrolled": true
   },
   "outputs": [
    {
     "name": "stderr",
     "output_type": "stream",
     "text": [
      "[default |INFO|_base_model.py:25] ------------------------------------------------------------\n",
      "[default |INFO|_base_model.py:27] model_name : SSWAE_GAN_MNIST\n",
      "[default |INFO|_base_model.py:27] train_data : rmMNIST\n",
      "[default |INFO|_base_model.py:27] train_data_label : True\n",
      "[default |INFO|_base_model.py:27] z_sampler : gaus\n",
      "[default |INFO|_base_model.py:27] z_dim : 6\n",
      "[default |INFO|_base_model.py:27] yz_dim : 2\n",
      "[default |INFO|_base_model.py:27] y_sampler : multinomial\n",
      "[default |INFO|_base_model.py:27] y_dim : 6\n",
      "[default |INFO|_base_model.py:27] labeled_class : 0, 1, 7, 8, 9\n",
      "[default |INFO|_base_model.py:27] unlabeled_class : 3, 4, 5, 6\n",
      "[default |INFO|_base_model.py:27] test_class : 2\n",
      "[default |INFO|_base_model.py:27] classification_weight : \n",
      "[default |INFO|_base_model.py:27] encoder_pretrain : False\n",
      "[default |INFO|_base_model.py:27] lr : 5e-4\n",
      "[default |INFO|_base_model.py:27] beta1 : 0.5\n",
      "[default |INFO|_base_model.py:27] lr_adv : 2e-4\n",
      "[default |INFO|_base_model.py:27] beta1_adv : 0.5\n",
      "[default |INFO|_base_model.py:27] lambda : 10.0\n",
      "[default |INFO|_base_model.py:27] lambda2 : 10.0\n",
      "[default |INFO|_base_model.py:27] lr_schedule : manual\n",
      "[default |INFO|_base_model.py:27] validate : True\n",
      "[default |INFO|_base_model.py:27] histogram : True\n",
      "[default |INFO|_base_model.py:27] batch_size1 : 100\n",
      "[default |INFO|_base_model.py:27] batch_size2 : 50\n",
      "[default |INFO|_base_model.py:27] epoch : 100\n",
      "[default |INFO|_base_model.py:27] replace : False\n",
      "[default |INFO|_base_model.py:27] iter_per_epoch : None\n",
      "[default |INFO|_base_model.py:27] save_best : False\n",
      "[default |INFO|_base_model.py:30] data_home2 : ./data/MNIST\n",
      "[default |INFO|_base_model.py:30] tb_logs : ./result/tb_logs/sswae_gan3-2\n",
      "[default |INFO|_base_model.py:30] save_path : ./result/weights/sswae_gan3-2.pt\n",
      "[default |INFO|_base_model.py:30] save_state : ./result/states/state_sswae_gan3-2.pt\n",
      "[default |INFO|_base_model.py:30] save_img_path : \n",
      "[default |INFO|model.py:1149] ------------------------------------------------------------\n",
      "[default |INFO|model.py:1150] Training Start!\n"
     ]
    },
    {
     "name": "stdout",
     "output_type": "stream",
     "text": [
      "[100/100]\ttest_main: 0.2006\ttest_main2: 0.5175\ttest_penalty: 0.6986904\r"
     ]
    },
    {
     "name": "stderr",
     "output_type": "stream",
     "text": [
      "[default |INFO|model.py:1303] [1/100]\ttest_main: 0.2006\ttest_main2: 0.5175\ttest_penalty: 0.6986\n"
     ]
    },
    {
     "name": "stdout",
     "output_type": "stream",
     "text": [
      "[100/100]\ttest_main: 0.1713\ttest_main2: 0.4150\ttest_penalty: 0.6943927\r"
     ]
    },
    {
     "name": "stderr",
     "output_type": "stream",
     "text": [
      "[default |INFO|model.py:1303] [2/100]\ttest_main: 0.1713\ttest_main2: 0.4150\ttest_penalty: 0.6943\n"
     ]
    },
    {
     "name": "stdout",
     "output_type": "stream",
     "text": [
      "[100/100]\ttest_main: 0.1585\ttest_main2: 0.3263\ttest_penalty: 0.6887927\r"
     ]
    },
    {
     "name": "stderr",
     "output_type": "stream",
     "text": [
      "[default |INFO|model.py:1303] [3/100]\ttest_main: 0.1585\ttest_main2: 0.3263\ttest_penalty: 0.6887\n"
     ]
    },
    {
     "name": "stdout",
     "output_type": "stream",
     "text": [
      "[100/100]\ttest_main: 0.1422\ttest_main2: 0.2622\ttest_penalty: 0.6905930\r"
     ]
    },
    {
     "name": "stderr",
     "output_type": "stream",
     "text": [
      "[default |INFO|model.py:1303] [4/100]\ttest_main: 0.1422\ttest_main2: 0.2622\ttest_penalty: 0.6905\n"
     ]
    },
    {
     "name": "stdout",
     "output_type": "stream",
     "text": [
      "[100/100]\ttest_main: 0.1230\ttest_main2: 0.2187\ttest_penalty: 0.6936940\r"
     ]
    },
    {
     "name": "stderr",
     "output_type": "stream",
     "text": [
      "[default |INFO|model.py:1303] [5/100]\ttest_main: 0.1230\ttest_main2: 0.2187\ttest_penalty: 0.6936\n"
     ]
    },
    {
     "name": "stdout",
     "output_type": "stream",
     "text": [
      "[100/100]\ttest_main: 0.1143\ttest_main2: 0.1953\ttest_penalty: 0.6900931\r"
     ]
    },
    {
     "name": "stderr",
     "output_type": "stream",
     "text": [
      "[default |INFO|model.py:1303] [6/100]\ttest_main: 0.1143\ttest_main2: 0.1953\ttest_penalty: 0.6900\n"
     ]
    },
    {
     "name": "stdout",
     "output_type": "stream",
     "text": [
      "[100/100]\ttest_main: 0.1240\ttest_main2: 0.1508\ttest_penalty: 0.6883935\r"
     ]
    },
    {
     "name": "stderr",
     "output_type": "stream",
     "text": [
      "[default |INFO|model.py:1303] [7/100]\ttest_main: 0.1240\ttest_main2: 0.1508\ttest_penalty: 0.6883\n"
     ]
    },
    {
     "name": "stdout",
     "output_type": "stream",
     "text": [
      "[100/100]\ttest_main: 0.2245\ttest_main2: 0.1550\ttest_penalty: 0.4990719\r"
     ]
    },
    {
     "name": "stderr",
     "output_type": "stream",
     "text": [
      "[default |INFO|model.py:1303] [8/100]\ttest_main: 0.2245\ttest_main2: 0.1550\ttest_penalty: 0.4990\n"
     ]
    },
    {
     "name": "stdout",
     "output_type": "stream",
     "text": [
      "[100/100]\ttest_main: 0.2126\ttest_main2: 0.1345\ttest_penalty: 0.5433495\r"
     ]
    },
    {
     "name": "stderr",
     "output_type": "stream",
     "text": [
      "[default |INFO|model.py:1303] [9/100]\ttest_main: 0.2126\ttest_main2: 0.1345\ttest_penalty: 0.5433\n"
     ]
    },
    {
     "name": "stdout",
     "output_type": "stream",
     "text": [
      "[100/100]\ttest_main: 0.1833\ttest_main2: 0.1023\ttest_penalty: 0.4982058\r"
     ]
    },
    {
     "name": "stderr",
     "output_type": "stream",
     "text": [
      "[default |INFO|model.py:1303] [10/100]\ttest_main: 0.1833\ttest_main2: 0.1023\ttest_penalty: 0.4982\n"
     ]
    },
    {
     "name": "stdout",
     "output_type": "stream",
     "text": [
      "[100/100]\ttest_main: 0.1719\ttest_main2: 0.1331\ttest_penalty: 0.4958924\r"
     ]
    },
    {
     "name": "stderr",
     "output_type": "stream",
     "text": [
      "[default |INFO|model.py:1303] [11/100]\ttest_main: 0.1719\ttest_main2: 0.1331\ttest_penalty: 0.4958\n"
     ]
    },
    {
     "name": "stdout",
     "output_type": "stream",
     "text": [
      "[100/100]\ttest_main: 0.1596\ttest_main2: 0.0896\ttest_penalty: 0.5267784\r"
     ]
    },
    {
     "name": "stderr",
     "output_type": "stream",
     "text": [
      "[default |INFO|model.py:1303] [12/100]\ttest_main: 0.1596\ttest_main2: 0.0896\ttest_penalty: 0.5267\n"
     ]
    },
    {
     "name": "stdout",
     "output_type": "stream",
     "text": [
      "[100/100]\ttest_main: 0.1537\ttest_main2: 0.0874\ttest_penalty: 0.5505308\r"
     ]
    },
    {
     "name": "stderr",
     "output_type": "stream",
     "text": [
      "[default |INFO|model.py:1303] [13/100]\ttest_main: 0.1537\ttest_main2: 0.0874\ttest_penalty: 0.5505\n"
     ]
    },
    {
     "name": "stdout",
     "output_type": "stream",
     "text": [
      "[100/100]\ttest_main: 0.1535\ttest_main2: 0.0768\ttest_penalty: 0.5372203\r"
     ]
    },
    {
     "name": "stderr",
     "output_type": "stream",
     "text": [
      "[default |INFO|model.py:1303] [14/100]\ttest_main: 0.1535\ttest_main2: 0.0768\ttest_penalty: 0.5372\n"
     ]
    },
    {
     "name": "stdout",
     "output_type": "stream",
     "text": [
      "[100/100]\ttest_main: 0.1505\ttest_main2: 0.0892\ttest_penalty: 0.5644881\r"
     ]
    },
    {
     "name": "stderr",
     "output_type": "stream",
     "text": [
      "[default |INFO|model.py:1303] [15/100]\ttest_main: 0.1505\ttest_main2: 0.0892\ttest_penalty: 0.5644\n"
     ]
    },
    {
     "name": "stdout",
     "output_type": "stream",
     "text": [
      "[100/100]\ttest_main: 0.1518\ttest_main2: 0.0965\ttest_penalty: 0.5782788\r"
     ]
    },
    {
     "name": "stderr",
     "output_type": "stream",
     "text": [
      "[default |INFO|model.py:1303] [16/100]\ttest_main: 0.1518\ttest_main2: 0.0965\ttest_penalty: 0.5782\n"
     ]
    },
    {
     "name": "stdout",
     "output_type": "stream",
     "text": [
      "[100/100]\ttest_main: 0.1449\ttest_main2: 0.0935\ttest_penalty: 0.5631546\r"
     ]
    },
    {
     "name": "stderr",
     "output_type": "stream",
     "text": [
      "[default |INFO|model.py:1303] [17/100]\ttest_main: 0.1449\ttest_main2: 0.0935\ttest_penalty: 0.5631\n"
     ]
    },
    {
     "name": "stdout",
     "output_type": "stream",
     "text": [
      "[100/100]\ttest_main: 0.1400\ttest_main2: 0.1053\ttest_penalty: 0.5643340\r"
     ]
    },
    {
     "name": "stderr",
     "output_type": "stream",
     "text": [
      "[default |INFO|model.py:1303] [18/100]\ttest_main: 0.1400\ttest_main2: 0.1053\ttest_penalty: 0.5643\n"
     ]
    },
    {
     "name": "stdout",
     "output_type": "stream",
     "text": [
      "[90/100]\ttest_main: 0.1440\ttest_main2: 0.0876\ttest_penalty: 0.57138148\r"
     ]
    },
    {
     "name": "stderr",
     "output_type": "stream",
     "text": [
      "[default |INFO|model.py:1303] [19/100]\ttest_main: 0.1442\ttest_main2: 0.0872\ttest_penalty: 0.5713\n"
     ]
    },
    {
     "name": "stdout",
     "output_type": "stream",
     "text": [
      "[100/100]\ttest_main: 0.1410\ttest_main2: 0.0881\ttest_penalty: 0.5957975\r"
     ]
    },
    {
     "name": "stderr",
     "output_type": "stream",
     "text": [
      "[default |INFO|model.py:1303] [20/100]\ttest_main: 0.1410\ttest_main2: 0.0881\ttest_penalty: 0.5957\n"
     ]
    },
    {
     "name": "stdout",
     "output_type": "stream",
     "text": [
      "[100/100]\ttest_main: 0.1453\ttest_main2: 0.0982\ttest_penalty: 0.5756823\r"
     ]
    },
    {
     "name": "stderr",
     "output_type": "stream",
     "text": [
      "[default |INFO|model.py:1303] [21/100]\ttest_main: 0.1453\ttest_main2: 0.0982\ttest_penalty: 0.5756\n"
     ]
    },
    {
     "name": "stdout",
     "output_type": "stream",
     "text": [
      "[100/100]\ttest_main: 0.1361\ttest_main2: 0.1095\ttest_penalty: 0.6380689\r"
     ]
    },
    {
     "name": "stderr",
     "output_type": "stream",
     "text": [
      "[default |INFO|model.py:1303] [22/100]\ttest_main: 0.1361\ttest_main2: 0.1095\ttest_penalty: 0.6380\n"
     ]
    },
    {
     "name": "stdout",
     "output_type": "stream",
     "text": [
      "[100/100]\ttest_main: 0.1362\ttest_main2: 0.1640\ttest_penalty: 0.6063555\r"
     ]
    },
    {
     "name": "stderr",
     "output_type": "stream",
     "text": [
      "[default |INFO|model.py:1303] [23/100]\ttest_main: 0.1362\ttest_main2: 0.1640\ttest_penalty: 0.6063\n"
     ]
    },
    {
     "name": "stdout",
     "output_type": "stream",
     "text": [
      "[100/100]\ttest_main: 0.1300\ttest_main2: 0.1185\ttest_penalty: 0.6300467\r"
     ]
    },
    {
     "name": "stderr",
     "output_type": "stream",
     "text": [
      "[default |INFO|model.py:1303] [24/100]\ttest_main: 0.1300\ttest_main2: 0.1185\ttest_penalty: 0.6300\n"
     ]
    },
    {
     "name": "stdout",
     "output_type": "stream",
     "text": [
      "[100/100]\ttest_main: 0.1251\ttest_main2: 0.1082\ttest_penalty: 0.6284430\r"
     ]
    },
    {
     "name": "stderr",
     "output_type": "stream",
     "text": [
      "[default |INFO|model.py:1303] [25/100]\ttest_main: 0.1251\ttest_main2: 0.1082\ttest_penalty: 0.6284\n"
     ]
    },
    {
     "name": "stdout",
     "output_type": "stream",
     "text": [
      "[100/100]\ttest_main: 0.1249\ttest_main2: 0.1236\ttest_penalty: 0.6670370\r"
     ]
    },
    {
     "name": "stderr",
     "output_type": "stream",
     "text": [
      "[default |INFO|model.py:1303] [26/100]\ttest_main: 0.1249\ttest_main2: 0.1236\ttest_penalty: 0.6670\n"
     ]
    },
    {
     "name": "stdout",
     "output_type": "stream",
     "text": [
      "[100/100]\ttest_main: 0.1280\ttest_main2: 0.1242\ttest_penalty: 0.6859332\r"
     ]
    },
    {
     "name": "stderr",
     "output_type": "stream",
     "text": [
      "[default |INFO|model.py:1303] [27/100]\ttest_main: 0.1280\ttest_main2: 0.1242\ttest_penalty: 0.6859\n"
     ]
    },
    {
     "name": "stdout",
     "output_type": "stream",
     "text": [
      "[100/100]\ttest_main: 0.1276\ttest_main2: 0.1108\ttest_penalty: 0.6630283\r"
     ]
    },
    {
     "name": "stderr",
     "output_type": "stream",
     "text": [
      "[default |INFO|model.py:1303] [28/100]\ttest_main: 0.1276\ttest_main2: 0.1108\ttest_penalty: 0.6630\n"
     ]
    },
    {
     "name": "stdout",
     "output_type": "stream",
     "text": [
      "[100/100]\ttest_main: 0.1220\ttest_main2: 0.1112\ttest_penalty: 0.6652251\r"
     ]
    },
    {
     "name": "stderr",
     "output_type": "stream",
     "text": [
      "[default |INFO|model.py:1303] [29/100]\ttest_main: 0.1220\ttest_main2: 0.1112\ttest_penalty: 0.6652\n"
     ]
    },
    {
     "name": "stdout",
     "output_type": "stream",
     "text": [
      "[100/100]\ttest_main: 0.1226\ttest_main2: 0.1266\ttest_penalty: 0.6687206\r"
     ]
    },
    {
     "name": "stderr",
     "output_type": "stream",
     "text": [
      "[default |INFO|model.py:1303] [30/100]\ttest_main: 0.1226\ttest_main2: 0.1266\ttest_penalty: 0.6687\n"
     ]
    },
    {
     "name": "stdout",
     "output_type": "stream",
     "text": [
      "[100/100]\ttest_main: 0.1256\ttest_main2: 0.1261\ttest_penalty: 0.6351220\r"
     ]
    },
    {
     "name": "stderr",
     "output_type": "stream",
     "text": [
      "[default |INFO|model.py:1303] [31/100]\ttest_main: 0.1256\ttest_main2: 0.1261\ttest_penalty: 0.6351\n"
     ]
    },
    {
     "name": "stdout",
     "output_type": "stream",
     "text": [
      "[100/100]\ttest_main: 0.1234\ttest_main2: 0.1472\ttest_penalty: 0.6912196\r"
     ]
    },
    {
     "name": "stderr",
     "output_type": "stream",
     "text": [
      "[default |INFO|model.py:1303] [32/100]\ttest_main: 0.1234\ttest_main2: 0.1472\ttest_penalty: 0.6912\n"
     ]
    },
    {
     "name": "stdout",
     "output_type": "stream",
     "text": [
      "[100/100]\ttest_main: 0.1194\ttest_main2: 0.1233\ttest_penalty: 0.6767188\r"
     ]
    },
    {
     "name": "stderr",
     "output_type": "stream",
     "text": [
      "[default |INFO|model.py:1303] [33/100]\ttest_main: 0.1194\ttest_main2: 0.1233\ttest_penalty: 0.6767\n"
     ]
    },
    {
     "name": "stdout",
     "output_type": "stream",
     "text": [
      "[100/100]\ttest_main: 0.1240\ttest_main2: 0.2076\ttest_penalty: 0.6857172\r"
     ]
    },
    {
     "name": "stderr",
     "output_type": "stream",
     "text": [
      "[default |INFO|model.py:1303] [34/100]\ttest_main: 0.1240\ttest_main2: 0.2076\ttest_penalty: 0.6857\n"
     ]
    },
    {
     "name": "stdout",
     "output_type": "stream",
     "text": [
      "[100/100]\ttest_main: 0.1184\ttest_main2: 0.1536\ttest_penalty: 0.6983143\r"
     ]
    },
    {
     "name": "stderr",
     "output_type": "stream",
     "text": [
      "[default |INFO|model.py:1303] [35/100]\ttest_main: 0.1184\ttest_main2: 0.1536\ttest_penalty: 0.6983\n"
     ]
    },
    {
     "name": "stdout",
     "output_type": "stream",
     "text": [
      "[100/100]\ttest_main: 0.1192\ttest_main2: 0.1733\ttest_penalty: 0.6333141\r"
     ]
    },
    {
     "name": "stderr",
     "output_type": "stream",
     "text": [
      "[default |INFO|model.py:1303] [36/100]\ttest_main: 0.1192\ttest_main2: 0.1733\ttest_penalty: 0.6333\n"
     ]
    },
    {
     "name": "stdout",
     "output_type": "stream",
     "text": [
      "[100/100]\ttest_main: 0.1234\ttest_main2: 0.1611\ttest_penalty: 0.6867117\r"
     ]
    },
    {
     "name": "stderr",
     "output_type": "stream",
     "text": [
      "[default |INFO|model.py:1303] [37/100]\ttest_main: 0.1234\ttest_main2: 0.1611\ttest_penalty: 0.6867\n"
     ]
    },
    {
     "name": "stdout",
     "output_type": "stream",
     "text": [
      "[100/100]\ttest_main: 0.1210\ttest_main2: 0.1710\ttest_penalty: 0.6717144\r"
     ]
    },
    {
     "name": "stderr",
     "output_type": "stream",
     "text": [
      "[default |INFO|model.py:1303] [38/100]\ttest_main: 0.1210\ttest_main2: 0.1710\ttest_penalty: 0.6717\n"
     ]
    },
    {
     "name": "stdout",
     "output_type": "stream",
     "text": [
      "[100/100]\ttest_main: 0.1255\ttest_main2: 0.1253\ttest_penalty: 0.6513149\r"
     ]
    },
    {
     "name": "stderr",
     "output_type": "stream",
     "text": [
      "[default |INFO|model.py:1303] [39/100]\ttest_main: 0.1255\ttest_main2: 0.1253\ttest_penalty: 0.6513\n"
     ]
    },
    {
     "name": "stdout",
     "output_type": "stream",
     "text": [
      "[100/100]\ttest_main: 0.1205\ttest_main2: 0.1519\ttest_penalty: 0.7231132\r"
     ]
    },
    {
     "name": "stderr",
     "output_type": "stream",
     "text": [
      "[default |INFO|model.py:1303] [40/100]\ttest_main: 0.1205\ttest_main2: 0.1519\ttest_penalty: 0.7231\n"
     ]
    },
    {
     "name": "stdout",
     "output_type": "stream",
     "text": [
      "[100/100]\ttest_main: 0.1170\ttest_main2: 0.1409\ttest_penalty: 0.6973140\r"
     ]
    },
    {
     "name": "stderr",
     "output_type": "stream",
     "text": [
      "[default |INFO|model.py:1303] [41/100]\ttest_main: 0.1170\ttest_main2: 0.1409\ttest_penalty: 0.6973\n"
     ]
    },
    {
     "name": "stdout",
     "output_type": "stream",
     "text": [
      "[100/100]\ttest_main: 0.1157\ttest_main2: 0.1374\ttest_penalty: 0.6573117\r"
     ]
    },
    {
     "name": "stderr",
     "output_type": "stream",
     "text": [
      "[default |INFO|model.py:1303] [42/100]\ttest_main: 0.1157\ttest_main2: 0.1374\ttest_penalty: 0.6573\n"
     ]
    },
    {
     "name": "stdout",
     "output_type": "stream",
     "text": [
      "[100/100]\ttest_main: 0.1201\ttest_main2: 0.2022\ttest_penalty: 0.7017144\r"
     ]
    },
    {
     "name": "stderr",
     "output_type": "stream",
     "text": [
      "[default |INFO|model.py:1303] [43/100]\ttest_main: 0.1201\ttest_main2: 0.2022\ttest_penalty: 0.7017\n"
     ]
    },
    {
     "name": "stdout",
     "output_type": "stream",
     "text": [
      "[100/100]\ttest_main: 0.1176\ttest_main2: 0.1629\ttest_penalty: 0.6931113\r"
     ]
    },
    {
     "name": "stderr",
     "output_type": "stream",
     "text": [
      "[default |INFO|model.py:1303] [44/100]\ttest_main: 0.1176\ttest_main2: 0.1629\ttest_penalty: 0.6931\n"
     ]
    },
    {
     "name": "stdout",
     "output_type": "stream",
     "text": [
      "[100/100]\ttest_main: 0.1251\ttest_main2: 0.1523\ttest_penalty: 0.6726108\r"
     ]
    },
    {
     "name": "stderr",
     "output_type": "stream",
     "text": [
      "[default |INFO|model.py:1303] [45/100]\ttest_main: 0.1251\ttest_main2: 0.1523\ttest_penalty: 0.6726\n"
     ]
    },
    {
     "name": "stdout",
     "output_type": "stream",
     "text": [
      "[100/100]\ttest_main: 0.1140\ttest_main2: 0.1566\ttest_penalty: 0.7026115\r"
     ]
    },
    {
     "name": "stderr",
     "output_type": "stream",
     "text": [
      "[default |INFO|model.py:1303] [46/100]\ttest_main: 0.1140\ttest_main2: 0.1566\ttest_penalty: 0.7026\n"
     ]
    },
    {
     "name": "stdout",
     "output_type": "stream",
     "text": [
      "[100/100]\ttest_main: 0.1234\ttest_main2: 0.1982\ttest_penalty: 0.7046131\r"
     ]
    },
    {
     "name": "stderr",
     "output_type": "stream",
     "text": [
      "[default |INFO|model.py:1303] [47/100]\ttest_main: 0.1234\ttest_main2: 0.1982\ttest_penalty: 0.7046\n"
     ]
    },
    {
     "name": "stdout",
     "output_type": "stream",
     "text": [
      "[100/100]\ttest_main: 0.1198\ttest_main2: 0.1708\ttest_penalty: 0.7010105\r"
     ]
    },
    {
     "name": "stderr",
     "output_type": "stream",
     "text": [
      "[default |INFO|model.py:1303] [48/100]\ttest_main: 0.1198\ttest_main2: 0.1708\ttest_penalty: 0.7010\n"
     ]
    },
    {
     "name": "stdout",
     "output_type": "stream",
     "text": [
      "[100/100]\ttest_main: 0.1176\ttest_main2: 0.1611\ttest_penalty: 0.7056114\r"
     ]
    },
    {
     "name": "stderr",
     "output_type": "stream",
     "text": [
      "[default |INFO|model.py:1303] [49/100]\ttest_main: 0.1176\ttest_main2: 0.1611\ttest_penalty: 0.7056\n"
     ]
    },
    {
     "name": "stdout",
     "output_type": "stream",
     "text": [
      "[100/100]\ttest_main: 0.1163\ttest_main2: 0.2048\ttest_penalty: 0.6575116\r"
     ]
    },
    {
     "name": "stderr",
     "output_type": "stream",
     "text": [
      "[default |INFO|model.py:1303] [50/100]\ttest_main: 0.1163\ttest_main2: 0.2048\ttest_penalty: 0.6575\n"
     ]
    },
    {
     "name": "stdout",
     "output_type": "stream",
     "text": [
      "[100/100]\ttest_main: 0.1181\ttest_main2: 0.2448\ttest_penalty: 0.6727113\r"
     ]
    },
    {
     "name": "stderr",
     "output_type": "stream",
     "text": [
      "[default |INFO|model.py:1303] [51/100]\ttest_main: 0.1181\ttest_main2: 0.2448\ttest_penalty: 0.6727\n"
     ]
    },
    {
     "name": "stdout",
     "output_type": "stream",
     "text": [
      "[100/100]\ttest_main: 0.1144\ttest_main2: 0.1637\ttest_penalty: 0.6720096\r"
     ]
    },
    {
     "name": "stderr",
     "output_type": "stream",
     "text": [
      "[default |INFO|model.py:1303] [52/100]\ttest_main: 0.1144\ttest_main2: 0.1637\ttest_penalty: 0.6720\n"
     ]
    },
    {
     "name": "stdout",
     "output_type": "stream",
     "text": [
      "[100/100]\ttest_main: 0.1123\ttest_main2: 0.1545\ttest_penalty: 0.7077090\r"
     ]
    },
    {
     "name": "stderr",
     "output_type": "stream",
     "text": [
      "[default |INFO|model.py:1303] [53/100]\ttest_main: 0.1123\ttest_main2: 0.1545\ttest_penalty: 0.7077\n"
     ]
    },
    {
     "name": "stdout",
     "output_type": "stream",
     "text": [
      "[100/100]\ttest_main: 0.1117\ttest_main2: 0.2162\ttest_penalty: 0.6723087\r"
     ]
    },
    {
     "name": "stderr",
     "output_type": "stream",
     "text": [
      "[default |INFO|model.py:1303] [54/100]\ttest_main: 0.1117\ttest_main2: 0.2162\ttest_penalty: 0.6723\n"
     ]
    },
    {
     "name": "stdout",
     "output_type": "stream",
     "text": [
      "[100/100]\ttest_main: 0.1136\ttest_main2: 0.2069\ttest_penalty: 0.7101070\r"
     ]
    },
    {
     "name": "stderr",
     "output_type": "stream",
     "text": [
      "[default |INFO|model.py:1303] [55/100]\ttest_main: 0.1136\ttest_main2: 0.2069\ttest_penalty: 0.7101\n"
     ]
    },
    {
     "name": "stdout",
     "output_type": "stream",
     "text": [
      "[100/100]\ttest_main: 0.1161\ttest_main2: 0.2423\ttest_penalty: 0.6462079\r"
     ]
    },
    {
     "name": "stderr",
     "output_type": "stream",
     "text": [
      "[default |INFO|model.py:1303] [56/100]\ttest_main: 0.1161\ttest_main2: 0.2423\ttest_penalty: 0.6462\n"
     ]
    },
    {
     "name": "stdout",
     "output_type": "stream",
     "text": [
      "[100/100]\ttest_main: 0.1188\ttest_main2: 0.2435\ttest_penalty: 0.6746066\r"
     ]
    },
    {
     "name": "stderr",
     "output_type": "stream",
     "text": [
      "[default |INFO|model.py:1303] [57/100]\ttest_main: 0.1188\ttest_main2: 0.2435\ttest_penalty: 0.6746\n"
     ]
    },
    {
     "name": "stdout",
     "output_type": "stream",
     "text": [
      "[100/100]\ttest_main: 0.1126\ttest_main2: 0.2262\ttest_penalty: 0.6698075\r"
     ]
    },
    {
     "name": "stderr",
     "output_type": "stream",
     "text": [
      "[default |INFO|model.py:1303] [58/100]\ttest_main: 0.1126\ttest_main2: 0.2262\ttest_penalty: 0.6698\n"
     ]
    },
    {
     "name": "stdout",
     "output_type": "stream",
     "text": [
      "[100/100]\ttest_main: 0.1136\ttest_main2: 0.1926\ttest_penalty: 0.6779059\r"
     ]
    },
    {
     "name": "stderr",
     "output_type": "stream",
     "text": [
      "[default |INFO|model.py:1303] [59/100]\ttest_main: 0.1136\ttest_main2: 0.1926\ttest_penalty: 0.6779\n"
     ]
    },
    {
     "name": "stdout",
     "output_type": "stream",
     "text": [
      "[100/100]\ttest_main: 0.1147\ttest_main2: 0.2403\ttest_penalty: 0.7002066\r"
     ]
    },
    {
     "name": "stderr",
     "output_type": "stream",
     "text": [
      "[default |INFO|model.py:1303] [60/100]\ttest_main: 0.1147\ttest_main2: 0.2403\ttest_penalty: 0.7002\n"
     ]
    },
    {
     "name": "stdout",
     "output_type": "stream",
     "text": [
      "[100/100]\ttest_main: 0.1108\ttest_main2: 0.1938\ttest_penalty: 0.6759063\r"
     ]
    },
    {
     "name": "stderr",
     "output_type": "stream",
     "text": [
      "[default |INFO|model.py:1303] [61/100]\ttest_main: 0.1108\ttest_main2: 0.1938\ttest_penalty: 0.6759\n"
     ]
    },
    {
     "name": "stdout",
     "output_type": "stream",
     "text": [
      "[100/100]\ttest_main: 0.1129\ttest_main2: 0.3151\ttest_penalty: 0.6840065\r"
     ]
    },
    {
     "name": "stderr",
     "output_type": "stream",
     "text": [
      "[default |INFO|model.py:1303] [62/100]\ttest_main: 0.1129\ttest_main2: 0.3151\ttest_penalty: 0.6840\n"
     ]
    },
    {
     "name": "stdout",
     "output_type": "stream",
     "text": [
      "[100/100]\ttest_main: 0.1124\ttest_main2: 0.2203\ttest_penalty: 0.7043055\r"
     ]
    },
    {
     "name": "stderr",
     "output_type": "stream",
     "text": [
      "[default |INFO|model.py:1303] [63/100]\ttest_main: 0.1124\ttest_main2: 0.2203\ttest_penalty: 0.7043\n"
     ]
    },
    {
     "name": "stdout",
     "output_type": "stream",
     "text": [
      "[100/100]\ttest_main: 0.1153\ttest_main2: 0.2204\ttest_penalty: 0.6684074\r"
     ]
    },
    {
     "name": "stderr",
     "output_type": "stream",
     "text": [
      "[default |INFO|model.py:1303] [64/100]\ttest_main: 0.1153\ttest_main2: 0.2204\ttest_penalty: 0.6684\n"
     ]
    },
    {
     "name": "stdout",
     "output_type": "stream",
     "text": [
      "[100/100]\ttest_main: 0.1092\ttest_main2: 0.1668\ttest_penalty: 0.7093050\r"
     ]
    },
    {
     "name": "stderr",
     "output_type": "stream",
     "text": [
      "[default |INFO|model.py:1303] [65/100]\ttest_main: 0.1092\ttest_main2: 0.1668\ttest_penalty: 0.7093\n"
     ]
    },
    {
     "name": "stdout",
     "output_type": "stream",
     "text": [
      "[100/100]\ttest_main: 0.1118\ttest_main2: 0.2264\ttest_penalty: 0.6890073\r"
     ]
    },
    {
     "name": "stderr",
     "output_type": "stream",
     "text": [
      "[default |INFO|model.py:1303] [66/100]\ttest_main: 0.1118\ttest_main2: 0.2264\ttest_penalty: 0.6890\n"
     ]
    },
    {
     "name": "stdout",
     "output_type": "stream",
     "text": [
      "[100/100]\ttest_main: 0.1127\ttest_main2: 0.2450\ttest_penalty: 0.6823064\r"
     ]
    },
    {
     "name": "stderr",
     "output_type": "stream",
     "text": [
      "[default |INFO|model.py:1303] [67/100]\ttest_main: 0.1127\ttest_main2: 0.2450\ttest_penalty: 0.6823\n"
     ]
    },
    {
     "name": "stdout",
     "output_type": "stream",
     "text": [
      "[100/100]\ttest_main: 0.1104\ttest_main2: 0.2319\ttest_penalty: 0.6538067\r"
     ]
    },
    {
     "name": "stderr",
     "output_type": "stream",
     "text": [
      "[default |INFO|model.py:1303] [68/100]\ttest_main: 0.1104\ttest_main2: 0.2319\ttest_penalty: 0.6538\n"
     ]
    },
    {
     "name": "stdout",
     "output_type": "stream",
     "text": [
      "[100/100]\ttest_main: 0.1108\ttest_main2: 0.2986\ttest_penalty: 0.6434050\r"
     ]
    },
    {
     "name": "stderr",
     "output_type": "stream",
     "text": [
      "[default |INFO|model.py:1303] [69/100]\ttest_main: 0.1108\ttest_main2: 0.2986\ttest_penalty: 0.6434\n"
     ]
    },
    {
     "name": "stdout",
     "output_type": "stream",
     "text": [
      "[100/100]\ttest_main: 0.1095\ttest_main2: 0.1875\ttest_penalty: 0.6966048\r"
     ]
    },
    {
     "name": "stderr",
     "output_type": "stream",
     "text": [
      "[default |INFO|model.py:1303] [70/100]\ttest_main: 0.1095\ttest_main2: 0.1875\ttest_penalty: 0.6966\n"
     ]
    },
    {
     "name": "stdout",
     "output_type": "stream",
     "text": [
      "[100/100]\ttest_main: 0.1122\ttest_main2: 0.2251\ttest_penalty: 0.7037058\r"
     ]
    },
    {
     "name": "stderr",
     "output_type": "stream",
     "text": [
      "[default |INFO|model.py:1303] [71/100]\ttest_main: 0.1122\ttest_main2: 0.2251\ttest_penalty: 0.7037\n"
     ]
    },
    {
     "name": "stdout",
     "output_type": "stream",
     "text": [
      "[100/100]\ttest_main: 0.1104\ttest_main2: 0.2173\ttest_penalty: 0.6626058\r"
     ]
    },
    {
     "name": "stderr",
     "output_type": "stream",
     "text": [
      "[default |INFO|model.py:1303] [72/100]\ttest_main: 0.1104\ttest_main2: 0.2173\ttest_penalty: 0.6626\n"
     ]
    },
    {
     "name": "stdout",
     "output_type": "stream",
     "text": [
      "[100/100]\ttest_main: 0.1147\ttest_main2: 0.2406\ttest_penalty: 0.6774040\r"
     ]
    },
    {
     "name": "stderr",
     "output_type": "stream",
     "text": [
      "[default |INFO|model.py:1303] [73/100]\ttest_main: 0.1147\ttest_main2: 0.2406\ttest_penalty: 0.6774\n"
     ]
    },
    {
     "name": "stdout",
     "output_type": "stream",
     "text": [
      "[100/100]\ttest_main: 0.1115\ttest_main2: 0.2120\ttest_penalty: 0.6671053\r"
     ]
    },
    {
     "name": "stderr",
     "output_type": "stream",
     "text": [
      "[default |INFO|model.py:1303] [74/100]\ttest_main: 0.1115\ttest_main2: 0.2120\ttest_penalty: 0.6671\n"
     ]
    },
    {
     "name": "stdout",
     "output_type": "stream",
     "text": [
      "[100/100]\ttest_main: 0.1116\ttest_main2: 0.1804\ttest_penalty: 0.6849068\r"
     ]
    },
    {
     "name": "stderr",
     "output_type": "stream",
     "text": [
      "[default |INFO|model.py:1303] [75/100]\ttest_main: 0.1116\ttest_main2: 0.1804\ttest_penalty: 0.6849\n"
     ]
    },
    {
     "name": "stdout",
     "output_type": "stream",
     "text": [
      "[100/100]\ttest_main: 0.1114\ttest_main2: 0.2040\ttest_penalty: 0.7057043\r"
     ]
    },
    {
     "name": "stderr",
     "output_type": "stream",
     "text": [
      "[default |INFO|model.py:1303] [76/100]\ttest_main: 0.1114\ttest_main2: 0.2040\ttest_penalty: 0.7057\n"
     ]
    },
    {
     "name": "stdout",
     "output_type": "stream",
     "text": [
      "[100/100]\ttest_main: 0.1085\ttest_main2: 0.2601\ttest_penalty: 0.6597037\r"
     ]
    },
    {
     "name": "stderr",
     "output_type": "stream",
     "text": [
      "[default |INFO|model.py:1303] [77/100]\ttest_main: 0.1085\ttest_main2: 0.2601\ttest_penalty: 0.6597\n"
     ]
    },
    {
     "name": "stdout",
     "output_type": "stream",
     "text": [
      "[100/100]\ttest_main: 0.1101\ttest_main2: 0.3493\ttest_penalty: 0.7005049\r"
     ]
    },
    {
     "name": "stderr",
     "output_type": "stream",
     "text": [
      "[default |INFO|model.py:1303] [78/100]\ttest_main: 0.1101\ttest_main2: 0.3493\ttest_penalty: 0.7005\n"
     ]
    },
    {
     "name": "stdout",
     "output_type": "stream",
     "text": [
      "[100/100]\ttest_main: 0.1077\ttest_main2: 0.2963\ttest_penalty: 0.6674059\r"
     ]
    },
    {
     "name": "stderr",
     "output_type": "stream",
     "text": [
      "[default |INFO|model.py:1303] [79/100]\ttest_main: 0.1077\ttest_main2: 0.2963\ttest_penalty: 0.6674\n"
     ]
    },
    {
     "name": "stdout",
     "output_type": "stream",
     "text": [
      "[100/100]\ttest_main: 0.1092\ttest_main2: 0.1731\ttest_penalty: 0.7247048\r"
     ]
    },
    {
     "name": "stderr",
     "output_type": "stream",
     "text": [
      "[default |INFO|model.py:1303] [80/100]\ttest_main: 0.1092\ttest_main2: 0.1731\ttest_penalty: 0.7247\n"
     ]
    },
    {
     "name": "stdout",
     "output_type": "stream",
     "text": [
      "[100/100]\ttest_main: 0.1125\ttest_main2: 0.2068\ttest_penalty: 0.6897049\r"
     ]
    },
    {
     "name": "stderr",
     "output_type": "stream",
     "text": [
      "[default |INFO|model.py:1303] [81/100]\ttest_main: 0.1125\ttest_main2: 0.2068\ttest_penalty: 0.6897\n"
     ]
    },
    {
     "name": "stdout",
     "output_type": "stream",
     "text": [
      "[100/100]\ttest_main: 0.1092\ttest_main2: 0.1725\ttest_penalty: 0.6353038\r"
     ]
    },
    {
     "name": "stderr",
     "output_type": "stream",
     "text": [
      "[default |INFO|model.py:1303] [82/100]\ttest_main: 0.1092\ttest_main2: 0.1725\ttest_penalty: 0.6353\n"
     ]
    },
    {
     "name": "stdout",
     "output_type": "stream",
     "text": [
      "[100/100]\ttest_main: 0.1102\ttest_main2: 0.1922\ttest_penalty: 0.6665022\r"
     ]
    },
    {
     "name": "stderr",
     "output_type": "stream",
     "text": [
      "[default |INFO|model.py:1303] [83/100]\ttest_main: 0.1102\ttest_main2: 0.1922\ttest_penalty: 0.6665\n"
     ]
    },
    {
     "name": "stdout",
     "output_type": "stream",
     "text": [
      "[100/100]\ttest_main: 0.1101\ttest_main2: 0.2175\ttest_penalty: 0.6617055\r"
     ]
    },
    {
     "name": "stderr",
     "output_type": "stream",
     "text": [
      "[default |INFO|model.py:1303] [84/100]\ttest_main: 0.1101\ttest_main2: 0.2175\ttest_penalty: 0.6617\n"
     ]
    },
    {
     "name": "stdout",
     "output_type": "stream",
     "text": [
      "[100/100]\ttest_main: 0.1124\ttest_main2: 0.2574\ttest_penalty: 0.6924029\r"
     ]
    },
    {
     "name": "stderr",
     "output_type": "stream",
     "text": [
      "[default |INFO|model.py:1303] [85/100]\ttest_main: 0.1124\ttest_main2: 0.2574\ttest_penalty: 0.6924\n"
     ]
    },
    {
     "name": "stdout",
     "output_type": "stream",
     "text": [
      "[99/100]\ttest_main: 0.1083\ttest_main2: 0.2812\ttest_penalty: 0.67567039\r"
     ]
    },
    {
     "name": "stderr",
     "output_type": "stream",
     "text": [
      "[default |INFO|model.py:1303] [86/100]\ttest_main: 0.1084\ttest_main2: 0.2841\ttest_penalty: 0.6756\n"
     ]
    },
    {
     "name": "stdout",
     "output_type": "stream",
     "text": [
      "[100/100]\ttest_main: 0.1095\ttest_main2: 0.2478\ttest_penalty: 0.6723034\r"
     ]
    },
    {
     "name": "stderr",
     "output_type": "stream",
     "text": [
      "[default |INFO|model.py:1303] [87/100]\ttest_main: 0.1095\ttest_main2: 0.2478\ttest_penalty: 0.6723\n"
     ]
    },
    {
     "name": "stdout",
     "output_type": "stream",
     "text": [
      "[100/100]\ttest_main: 0.1072\ttest_main2: 0.3108\ttest_penalty: 0.6899030\r"
     ]
    },
    {
     "name": "stderr",
     "output_type": "stream",
     "text": [
      "[default |INFO|model.py:1303] [88/100]\ttest_main: 0.1072\ttest_main2: 0.3108\ttest_penalty: 0.6899\n"
     ]
    },
    {
     "name": "stdout",
     "output_type": "stream",
     "text": [
      "[100/100]\ttest_main: 0.1101\ttest_main2: 0.2878\ttest_penalty: 0.6667035\r"
     ]
    },
    {
     "name": "stderr",
     "output_type": "stream",
     "text": [
      "[default |INFO|model.py:1303] [89/100]\ttest_main: 0.1101\ttest_main2: 0.2878\ttest_penalty: 0.6667\n"
     ]
    },
    {
     "name": "stdout",
     "output_type": "stream",
     "text": [
      "[100/100]\ttest_main: 0.1087\ttest_main2: 0.2504\ttest_penalty: 0.6729030\r"
     ]
    },
    {
     "name": "stderr",
     "output_type": "stream",
     "text": [
      "[default |INFO|model.py:1303] [90/100]\ttest_main: 0.1087\ttest_main2: 0.2504\ttest_penalty: 0.6729\n"
     ]
    },
    {
     "name": "stdout",
     "output_type": "stream",
     "text": [
      "[100/100]\ttest_main: 0.1078\ttest_main2: 0.2415\ttest_penalty: 0.6712040\r"
     ]
    },
    {
     "name": "stderr",
     "output_type": "stream",
     "text": [
      "[default |INFO|model.py:1303] [91/100]\ttest_main: 0.1078\ttest_main2: 0.2415\ttest_penalty: 0.6712\n"
     ]
    },
    {
     "name": "stdout",
     "output_type": "stream",
     "text": [
      "[100/100]\ttest_main: 0.1083\ttest_main2: 0.2466\ttest_penalty: 0.6541021\r"
     ]
    },
    {
     "name": "stderr",
     "output_type": "stream",
     "text": [
      "[default |INFO|model.py:1303] [92/100]\ttest_main: 0.1083\ttest_main2: 0.2466\ttest_penalty: 0.6541\n"
     ]
    },
    {
     "name": "stdout",
     "output_type": "stream",
     "text": [
      "[100/100]\ttest_main: 0.1071\ttest_main2: 0.2982\ttest_penalty: 0.6656029\r"
     ]
    },
    {
     "name": "stderr",
     "output_type": "stream",
     "text": [
      "[default |INFO|model.py:1303] [93/100]\ttest_main: 0.1071\ttest_main2: 0.2982\ttest_penalty: 0.6656\n"
     ]
    },
    {
     "name": "stdout",
     "output_type": "stream",
     "text": [
      "[100/100]\ttest_main: 0.1094\ttest_main2: 0.2855\ttest_penalty: 0.6671033\r"
     ]
    },
    {
     "name": "stderr",
     "output_type": "stream",
     "text": [
      "[default |INFO|model.py:1303] [94/100]\ttest_main: 0.1094\ttest_main2: 0.2855\ttest_penalty: 0.6671\n"
     ]
    },
    {
     "name": "stdout",
     "output_type": "stream",
     "text": [
      "[100/100]\ttest_main: 0.1112\ttest_main2: 0.2005\ttest_penalty: 0.6982034\r"
     ]
    },
    {
     "name": "stderr",
     "output_type": "stream",
     "text": [
      "[default |INFO|model.py:1303] [95/100]\ttest_main: 0.1112\ttest_main2: 0.2005\ttest_penalty: 0.6982\n"
     ]
    },
    {
     "name": "stdout",
     "output_type": "stream",
     "text": [
      "[100/100]\ttest_main: 0.1104\ttest_main2: 0.2584\ttest_penalty: 0.6955041\r"
     ]
    },
    {
     "name": "stderr",
     "output_type": "stream",
     "text": [
      "[default |INFO|model.py:1303] [96/100]\ttest_main: 0.1104\ttest_main2: 0.2584\ttest_penalty: 0.6955\n"
     ]
    },
    {
     "name": "stdout",
     "output_type": "stream",
     "text": [
      "[100/100]\ttest_main: 0.1151\ttest_main2: 0.2292\ttest_penalty: 0.6934040\r"
     ]
    },
    {
     "name": "stderr",
     "output_type": "stream",
     "text": [
      "[default |INFO|model.py:1303] [97/100]\ttest_main: 0.1151\ttest_main2: 0.2292\ttest_penalty: 0.6934\n"
     ]
    },
    {
     "name": "stdout",
     "output_type": "stream",
     "text": [
      "[100/100]\ttest_main: 0.1135\ttest_main2: 0.2763\ttest_penalty: 0.6872035\r"
     ]
    },
    {
     "name": "stderr",
     "output_type": "stream",
     "text": [
      "[default |INFO|model.py:1303] [98/100]\ttest_main: 0.1135\ttest_main2: 0.2763\ttest_penalty: 0.6872\n"
     ]
    },
    {
     "name": "stdout",
     "output_type": "stream",
     "text": [
      "[100/100]\ttest_main: 0.1091\ttest_main2: 0.2141\ttest_penalty: 0.6780046\r"
     ]
    },
    {
     "name": "stderr",
     "output_type": "stream",
     "text": [
      "[default |INFO|model.py:1303] [99/100]\ttest_main: 0.1091\ttest_main2: 0.2141\ttest_penalty: 0.6780\n"
     ]
    },
    {
     "name": "stdout",
     "output_type": "stream",
     "text": [
      "[100/100]\ttest_main: 0.1088\ttest_main2: 0.2428\ttest_penalty: 0.7248019\r"
     ]
    },
    {
     "name": "stderr",
     "output_type": "stream",
     "text": [
      "[default |INFO|model.py:1303] [100/100]\ttest_main: 0.1088\ttest_main2: 0.2428\ttest_penalty: 0.7248\n",
      "[default |INFO|model.py:1409] Training Finished!\n",
      "[default |INFO|model.py:1410] Elapsed time: 1575.816s\n"
     ]
    }
   ],
   "source": [
    "model = SSWAE_GAN_MNIST(cfg, log, device = device)\n",
    "model.train()\n",
    "# model.train(resume = True)"
   ]
  },
  {
   "cell_type": "code",
   "execution_count": 21,
   "metadata": {},
   "outputs": [
    {
     "name": "stdout",
     "output_type": "stream",
     "text": [
      "0.425\n"
     ]
    }
   ],
   "source": [
    "acc, n = 0, 0\n",
    "for data, condition in test_generator:\n",
    "    x = data.to(device)\n",
    "    y = condition.to(device)\n",
    "    fake_latent = model.encode_s(x)\n",
    "    recon = model.decode(fake_latent)\n",
    "    recon_y = model.decode_c(fake_latent)\n",
    "    acc += torch.sum(torch.max(recon_y, 1)[1] == 5).item() # 5 for unk\n",
    "    n += len(x)\n",
    "print(acc/n)"
   ]
  },
  {
   "cell_type": "markdown",
   "metadata": {},
   "source": [
    "### Case 3. Batch1 = 100, Batch2 = 25"
   ]
  },
  {
   "cell_type": "code",
   "execution_count": 27,
   "metadata": {},
   "outputs": [
    {
     "data": {
      "text/plain": [
       "['./config/train_config_sswae_gan3-3.cfg']"
      ]
     },
     "execution_count": 27,
     "metadata": {},
     "output_type": "execute_result"
    }
   ],
   "source": [
    "cfg = configparser.ConfigParser()\n",
    "cfg.read('./config/train_config_sswae_gan3-3.cfg')"
   ]
  },
  {
   "cell_type": "code",
   "execution_count": 28,
   "metadata": {
    "collapsed": true
   },
   "outputs": [
    {
     "name": "stderr",
     "output_type": "stream",
     "text": [
      "[default |INFO|_base_model.py:25] ------------------------------------------------------------\n",
      "[default |INFO|_base_model.py:27] model_name : SSWAE_GAN_MNIST\n",
      "[default |INFO|_base_model.py:27] train_data : rmMNIST\n",
      "[default |INFO|_base_model.py:27] train_data_label : True\n",
      "[default |INFO|_base_model.py:27] z_sampler : gaus\n",
      "[default |INFO|_base_model.py:27] z_dim : 6\n",
      "[default |INFO|_base_model.py:27] yz_dim : 2\n",
      "[default |INFO|_base_model.py:27] y_sampler : multinomial\n",
      "[default |INFO|_base_model.py:27] y_dim : 6\n",
      "[default |INFO|_base_model.py:27] labeled_class : 0, 1, 7, 8, 9\n",
      "[default |INFO|_base_model.py:27] unlabeled_class : 3, 4, 5, 6\n",
      "[default |INFO|_base_model.py:27] test_class : 2\n",
      "[default |INFO|_base_model.py:27] classification_weight : \n",
      "[default |INFO|_base_model.py:27] encoder_pretrain : False\n",
      "[default |INFO|_base_model.py:27] lr : 5e-4\n",
      "[default |INFO|_base_model.py:27] beta1 : 0.5\n",
      "[default |INFO|_base_model.py:27] lr_adv : 2e-4\n",
      "[default |INFO|_base_model.py:27] beta1_adv : 0.5\n",
      "[default |INFO|_base_model.py:27] lambda : 10.0\n",
      "[default |INFO|_base_model.py:27] lambda2 : 10.0\n",
      "[default |INFO|_base_model.py:27] lr_schedule : manual\n",
      "[default |INFO|_base_model.py:27] validate : True\n",
      "[default |INFO|_base_model.py:27] histogram : True\n",
      "[default |INFO|_base_model.py:27] batch_size1 : 100\n",
      "[default |INFO|_base_model.py:27] batch_size2 : 25\n",
      "[default |INFO|_base_model.py:27] epoch : 100\n",
      "[default |INFO|_base_model.py:27] replace : False\n",
      "[default |INFO|_base_model.py:27] iter_per_epoch : None\n",
      "[default |INFO|_base_model.py:27] save_best : False\n",
      "[default |INFO|_base_model.py:30] data_home2 : ./data/MNIST\n",
      "[default |INFO|_base_model.py:30] tb_logs : ./result/tb_logs/sswae_gan3-3\n",
      "[default |INFO|_base_model.py:30] save_path : ./result/weights/sswae_gan3-3.pt\n",
      "[default |INFO|_base_model.py:30] save_state : ./result/states/state_sswae_gan3-3.pt\n",
      "[default |INFO|_base_model.py:30] save_img_path : \n",
      "[default |INFO|model.py:1149] ------------------------------------------------------------\n",
      "[default |INFO|model.py:1150] Training Start!\n"
     ]
    },
    {
     "name": "stdout",
     "output_type": "stream",
     "text": [
      "[97/100]\ttest_main: 0.2284\ttest_main2: 0.5224\ttest_penalty: 0.49307665\r"
     ]
    },
    {
     "name": "stderr",
     "output_type": "stream",
     "text": [
      "[default |INFO|model.py:1303] [1/100]\ttest_main: 0.2284\ttest_main2: 0.5224\ttest_penalty: 0.4930\n"
     ]
    },
    {
     "name": "stdout",
     "output_type": "stream",
     "text": [
      "[100/100]\ttest_main: 0.2073\ttest_main2: 0.4229\ttest_penalty: 0.5404957\r"
     ]
    },
    {
     "name": "stderr",
     "output_type": "stream",
     "text": [
      "[default |INFO|model.py:1303] [2/100]\ttest_main: 0.2073\ttest_main2: 0.4229\ttest_penalty: 0.5404\n"
     ]
    },
    {
     "name": "stdout",
     "output_type": "stream",
     "text": [
      "[100/100]\ttest_main: 0.1843\ttest_main2: 0.3540\ttest_penalty: 0.5849233\r"
     ]
    },
    {
     "name": "stderr",
     "output_type": "stream",
     "text": [
      "[default |INFO|model.py:1303] [3/100]\ttest_main: 0.1843\ttest_main2: 0.3540\ttest_penalty: 0.5849\n"
     ]
    },
    {
     "name": "stdout",
     "output_type": "stream",
     "text": [
      "[100/100]\ttest_main: 0.1805\ttest_main2: 0.2988\ttest_penalty: 0.5669213\r"
     ]
    },
    {
     "name": "stderr",
     "output_type": "stream",
     "text": [
      "[default |INFO|model.py:1303] [4/100]\ttest_main: 0.1805\ttest_main2: 0.2988\ttest_penalty: 0.5669\n"
     ]
    },
    {
     "name": "stdout",
     "output_type": "stream",
     "text": [
      "[100/100]\ttest_main: 0.1702\ttest_main2: 0.2537\ttest_penalty: 0.5806125\r"
     ]
    },
    {
     "name": "stderr",
     "output_type": "stream",
     "text": [
      "[default |INFO|model.py:1303] [5/100]\ttest_main: 0.1702\ttest_main2: 0.2537\ttest_penalty: 0.5806\n"
     ]
    },
    {
     "name": "stdout",
     "output_type": "stream",
     "text": [
      "[100/100]\ttest_main: 0.1544\ttest_main2: 0.2322\ttest_penalty: 0.6035166\r"
     ]
    },
    {
     "name": "stderr",
     "output_type": "stream",
     "text": [
      "[default |INFO|model.py:1303] [6/100]\ttest_main: 0.1544\ttest_main2: 0.2322\ttest_penalty: 0.6035\n"
     ]
    },
    {
     "name": "stdout",
     "output_type": "stream",
     "text": [
      "[98/100]\ttest_main: 0.1937\ttest_main2: 0.2042\ttest_penalty: 0.58867709\r"
     ]
    },
    {
     "name": "stderr",
     "output_type": "stream",
     "text": [
      "[default |INFO|model.py:1303] [7/100]\ttest_main: 0.1934\ttest_main2: 0.2043\ttest_penalty: 0.5886\n"
     ]
    },
    {
     "name": "stdout",
     "output_type": "stream",
     "text": [
      "[100/100]\ttest_main: 0.1726\ttest_main2: 0.1762\ttest_penalty: 0.5797990\r"
     ]
    },
    {
     "name": "stderr",
     "output_type": "stream",
     "text": [
      "[default |INFO|model.py:1303] [8/100]\ttest_main: 0.1726\ttest_main2: 0.1762\ttest_penalty: 0.5797\n"
     ]
    },
    {
     "name": "stdout",
     "output_type": "stream",
     "text": [
      "[100/100]\ttest_main: 0.1742\ttest_main2: 0.1651\ttest_penalty: 0.5810827\r"
     ]
    },
    {
     "name": "stderr",
     "output_type": "stream",
     "text": [
      "[default |INFO|model.py:1303] [9/100]\ttest_main: 0.1742\ttest_main2: 0.1651\ttest_penalty: 0.5810\n"
     ]
    },
    {
     "name": "stdout",
     "output_type": "stream",
     "text": [
      "[100/100]\ttest_main: 0.1671\ttest_main2: 0.1336\ttest_penalty: 0.6135844\r"
     ]
    },
    {
     "name": "stderr",
     "output_type": "stream",
     "text": [
      "[default |INFO|model.py:1303] [10/100]\ttest_main: 0.1671\ttest_main2: 0.1336\ttest_penalty: 0.6135\n"
     ]
    },
    {
     "name": "stdout",
     "output_type": "stream",
     "text": [
      "[99/100]\ttest_main: 0.1495\ttest_main2: 0.1236\ttest_penalty: 0.52297819\r"
     ]
    },
    {
     "name": "stderr",
     "output_type": "stream",
     "text": [
      "[default |INFO|model.py:1303] [11/100]\ttest_main: 0.1494\ttest_main2: 0.1236\ttest_penalty: 0.5230\n"
     ]
    },
    {
     "name": "stdout",
     "output_type": "stream",
     "text": [
      "[100/100]\ttest_main: 0.1491\ttest_main2: 0.1146\ttest_penalty: 0.5410828\r"
     ]
    },
    {
     "name": "stderr",
     "output_type": "stream",
     "text": [
      "[default |INFO|model.py:1303] [12/100]\ttest_main: 0.1491\ttest_main2: 0.1146\ttest_penalty: 0.5410\n"
     ]
    },
    {
     "name": "stdout",
     "output_type": "stream",
     "text": [
      "[98/100]\ttest_main: 0.1466\ttest_main2: 0.0896\ttest_penalty: 0.61888017\r"
     ]
    },
    {
     "name": "stderr",
     "output_type": "stream",
     "text": [
      "[default |INFO|model.py:1303] [13/100]\ttest_main: 0.1467\ttest_main2: 0.0892\ttest_penalty: 0.6186\n"
     ]
    },
    {
     "name": "stdout",
     "output_type": "stream",
     "text": [
      "[97/100]\ttest_main: 0.1450\ttest_main2: 0.1073\ttest_penalty: 0.67108211\r"
     ]
    },
    {
     "name": "stderr",
     "output_type": "stream",
     "text": [
      "[default |INFO|model.py:1303] [14/100]\ttest_main: 0.1451\ttest_main2: 0.1073\ttest_penalty: 0.6708\n"
     ]
    },
    {
     "name": "stdout",
     "output_type": "stream",
     "text": [
      "[99/100]\ttest_main: 0.1438\ttest_main2: 0.0893\ttest_penalty: 0.56808232\r"
     ]
    },
    {
     "name": "stderr",
     "output_type": "stream",
     "text": [
      "[default |INFO|model.py:1303] [15/100]\ttest_main: 0.1439\ttest_main2: 0.0894\ttest_penalty: 0.5680\n"
     ]
    },
    {
     "name": "stdout",
     "output_type": "stream",
     "text": [
      "[100/100]\ttest_main: 0.1423\ttest_main2: 0.1004\ttest_penalty: 0.5776198\r"
     ]
    },
    {
     "name": "stderr",
     "output_type": "stream",
     "text": [
      "[default |INFO|model.py:1303] [16/100]\ttest_main: 0.1423\ttest_main2: 0.1004\ttest_penalty: 0.5776\n"
     ]
    },
    {
     "name": "stdout",
     "output_type": "stream",
     "text": [
      "[100/100]\ttest_main: 0.1420\ttest_main2: 0.0889\ttest_penalty: 0.5891097\r"
     ]
    },
    {
     "name": "stderr",
     "output_type": "stream",
     "text": [
      "[default |INFO|model.py:1303] [17/100]\ttest_main: 0.1420\ttest_main2: 0.0889\ttest_penalty: 0.5891\n"
     ]
    },
    {
     "name": "stdout",
     "output_type": "stream",
     "text": [
      "[95/100]\ttest_main: 0.1436\ttest_main2: 0.0830\ttest_penalty: 0.58398079\r"
     ]
    },
    {
     "name": "stderr",
     "output_type": "stream",
     "text": [
      "[default |INFO|model.py:1303] [18/100]\ttest_main: 0.1436\ttest_main2: 0.0832\ttest_penalty: 0.5840\n"
     ]
    },
    {
     "name": "stdout",
     "output_type": "stream",
     "text": [
      "[100/100]\ttest_main: 0.1399\ttest_main2: 0.0962\ttest_penalty: 0.5710973\r"
     ]
    },
    {
     "name": "stderr",
     "output_type": "stream",
     "text": [
      "[default |INFO|model.py:1303] [19/100]\ttest_main: 0.1399\ttest_main2: 0.0962\ttest_penalty: 0.5710\n"
     ]
    },
    {
     "name": "stdout",
     "output_type": "stream",
     "text": [
      "[100/100]\ttest_main: 0.1396\ttest_main2: 0.1048\ttest_penalty: 0.6982950\r"
     ]
    },
    {
     "name": "stderr",
     "output_type": "stream",
     "text": [
      "[default |INFO|model.py:1303] [20/100]\ttest_main: 0.1396\ttest_main2: 0.1048\ttest_penalty: 0.6982\n"
     ]
    },
    {
     "name": "stdout",
     "output_type": "stream",
     "text": [
      "[100/100]\ttest_main: 0.1401\ttest_main2: 0.1284\ttest_penalty: 0.6165863\r"
     ]
    },
    {
     "name": "stderr",
     "output_type": "stream",
     "text": [
      "[default |INFO|model.py:1303] [21/100]\ttest_main: 0.1401\ttest_main2: 0.1284\ttest_penalty: 0.6165\n"
     ]
    },
    {
     "name": "stdout",
     "output_type": "stream",
     "text": [
      "[100/100]\ttest_main: 0.1374\ttest_main2: 0.0763\ttest_penalty: 0.6052714\r"
     ]
    },
    {
     "name": "stderr",
     "output_type": "stream",
     "text": [
      "[default |INFO|model.py:1303] [22/100]\ttest_main: 0.1374\ttest_main2: 0.0763\ttest_penalty: 0.6052\n"
     ]
    },
    {
     "name": "stdout",
     "output_type": "stream",
     "text": [
      "[100/100]\ttest_main: 0.1352\ttest_main2: 0.1004\ttest_penalty: 0.6386687\r"
     ]
    },
    {
     "name": "stderr",
     "output_type": "stream",
     "text": [
      "[default |INFO|model.py:1303] [23/100]\ttest_main: 0.1352\ttest_main2: 0.1004\ttest_penalty: 0.6386\n"
     ]
    },
    {
     "name": "stdout",
     "output_type": "stream",
     "text": [
      "[100/100]\ttest_main: 0.1319\ttest_main2: 0.1201\ttest_penalty: 0.6715609\r"
     ]
    },
    {
     "name": "stderr",
     "output_type": "stream",
     "text": [
      "[default |INFO|model.py:1303] [24/100]\ttest_main: 0.1319\ttest_main2: 0.1201\ttest_penalty: 0.6715\n"
     ]
    },
    {
     "name": "stdout",
     "output_type": "stream",
     "text": [
      "[98/100]\ttest_main: 0.1273\ttest_main2: 0.0919\ttest_penalty: 0.72217556\r"
     ]
    },
    {
     "name": "stderr",
     "output_type": "stream",
     "text": [
      "[default |INFO|model.py:1303] [25/100]\ttest_main: 0.1275\ttest_main2: 0.0922\ttest_penalty: 0.7222\n"
     ]
    },
    {
     "name": "stdout",
     "output_type": "stream",
     "text": [
      "[100/100]\ttest_main: 0.1314\ttest_main2: 0.1127\ttest_penalty: 0.6952485\r"
     ]
    },
    {
     "name": "stderr",
     "output_type": "stream",
     "text": [
      "[default |INFO|model.py:1303] [26/100]\ttest_main: 0.1314\ttest_main2: 0.1127\ttest_penalty: 0.6952\n"
     ]
    },
    {
     "name": "stdout",
     "output_type": "stream",
     "text": [
      "[100/100]\ttest_main: 0.1265\ttest_main2: 0.0605\ttest_penalty: 0.6683442\r"
     ]
    },
    {
     "name": "stderr",
     "output_type": "stream",
     "text": [
      "[default |INFO|model.py:1303] [27/100]\ttest_main: 0.1265\ttest_main2: 0.0605\ttest_penalty: 0.6683\n"
     ]
    },
    {
     "name": "stdout",
     "output_type": "stream",
     "text": [
      "[100/100]\ttest_main: 0.1248\ttest_main2: 0.0865\ttest_penalty: 0.6676437\r"
     ]
    },
    {
     "name": "stderr",
     "output_type": "stream",
     "text": [
      "[default |INFO|model.py:1303] [28/100]\ttest_main: 0.1248\ttest_main2: 0.0865\ttest_penalty: 0.6676\n"
     ]
    },
    {
     "name": "stdout",
     "output_type": "stream",
     "text": [
      "[100/100]\ttest_main: 0.1332\ttest_main2: 0.0918\ttest_penalty: 0.6766459\r"
     ]
    },
    {
     "name": "stderr",
     "output_type": "stream",
     "text": [
      "[default |INFO|model.py:1303] [29/100]\ttest_main: 0.1332\ttest_main2: 0.0918\ttest_penalty: 0.6766\n"
     ]
    },
    {
     "name": "stdout",
     "output_type": "stream",
     "text": [
      "[100/100]\ttest_main: 0.1234\ttest_main2: 0.0745\ttest_penalty: 0.7001454\r"
     ]
    },
    {
     "name": "stderr",
     "output_type": "stream",
     "text": [
      "[default |INFO|model.py:1303] [30/100]\ttest_main: 0.1234\ttest_main2: 0.0745\ttest_penalty: 0.7001\n"
     ]
    },
    {
     "name": "stdout",
     "output_type": "stream",
     "text": [
      "[97/100]\ttest_main: 0.1242\ttest_main2: 0.0695\ttest_penalty: 0.67287448\r"
     ]
    },
    {
     "name": "stderr",
     "output_type": "stream",
     "text": [
      "[default |INFO|model.py:1303] [31/100]\ttest_main: 0.1241\ttest_main2: 0.0685\ttest_penalty: 0.6730\n"
     ]
    },
    {
     "name": "stdout",
     "output_type": "stream",
     "text": [
      "[100/100]\ttest_main: 0.1296\ttest_main2: 0.1038\ttest_penalty: 0.7711443\r"
     ]
    },
    {
     "name": "stderr",
     "output_type": "stream",
     "text": [
      "[default |INFO|model.py:1303] [32/100]\ttest_main: 0.1296\ttest_main2: 0.1038\ttest_penalty: 0.7711\n"
     ]
    },
    {
     "name": "stdout",
     "output_type": "stream",
     "text": [
      "[100/100]\ttest_main: 0.1249\ttest_main2: 0.1168\ttest_penalty: 0.7185467\r"
     ]
    },
    {
     "name": "stderr",
     "output_type": "stream",
     "text": [
      "[default |INFO|model.py:1303] [33/100]\ttest_main: 0.1249\ttest_main2: 0.1168\ttest_penalty: 0.7185\n"
     ]
    },
    {
     "name": "stdout",
     "output_type": "stream",
     "text": [
      "[100/100]\ttest_main: 0.1316\ttest_main2: 0.0919\ttest_penalty: 0.6748421\r"
     ]
    },
    {
     "name": "stderr",
     "output_type": "stream",
     "text": [
      "[default |INFO|model.py:1303] [34/100]\ttest_main: 0.1316\ttest_main2: 0.0919\ttest_penalty: 0.6748\n"
     ]
    },
    {
     "name": "stdout",
     "output_type": "stream",
     "text": [
      "[100/100]\ttest_main: 0.1447\ttest_main2: 0.0866\ttest_penalty: 0.6181400\r"
     ]
    },
    {
     "name": "stderr",
     "output_type": "stream",
     "text": [
      "[default |INFO|model.py:1303] [35/100]\ttest_main: 0.1447\ttest_main2: 0.0866\ttest_penalty: 0.6181\n"
     ]
    },
    {
     "name": "stdout",
     "output_type": "stream",
     "text": [
      "[97/100]\ttest_main: 0.1345\ttest_main2: 0.0837\ttest_penalty: 0.60357276\r"
     ]
    },
    {
     "name": "stderr",
     "output_type": "stream",
     "text": [
      "[default |INFO|model.py:1303] [36/100]\ttest_main: 0.1343\ttest_main2: 0.0831\ttest_penalty: 0.6032\n"
     ]
    },
    {
     "name": "stdout",
     "output_type": "stream",
     "text": [
      "[100/100]\ttest_main: 0.1257\ttest_main2: 0.0938\ttest_penalty: 0.6260195\r"
     ]
    },
    {
     "name": "stderr",
     "output_type": "stream",
     "text": [
      "[default |INFO|model.py:1303] [37/100]\ttest_main: 0.1257\ttest_main2: 0.0938\ttest_penalty: 0.6260\n"
     ]
    },
    {
     "name": "stdout",
     "output_type": "stream",
     "text": [
      "[100/100]\ttest_main: 0.1245\ttest_main2: 0.0547\ttest_penalty: 0.6711166\r"
     ]
    },
    {
     "name": "stderr",
     "output_type": "stream",
     "text": [
      "[default |INFO|model.py:1303] [38/100]\ttest_main: 0.1245\ttest_main2: 0.0547\ttest_penalty: 0.6711\n"
     ]
    },
    {
     "name": "stdout",
     "output_type": "stream",
     "text": [
      "[99/100]\ttest_main: 0.1267\ttest_main2: 0.0597\ttest_penalty: 0.60617123\r"
     ]
    },
    {
     "name": "stderr",
     "output_type": "stream",
     "text": [
      "[default |INFO|model.py:1303] [39/100]\ttest_main: 0.1267\ttest_main2: 0.0598\ttest_penalty: 0.6061\n"
     ]
    },
    {
     "name": "stdout",
     "output_type": "stream",
     "text": [
      "[100/100]\ttest_main: 0.1239\ttest_main2: 0.0871\ttest_penalty: 0.5902126\r"
     ]
    },
    {
     "name": "stderr",
     "output_type": "stream",
     "text": [
      "[default |INFO|model.py:1303] [40/100]\ttest_main: 0.1239\ttest_main2: 0.0871\ttest_penalty: 0.5902\n"
     ]
    },
    {
     "name": "stdout",
     "output_type": "stream",
     "text": [
      "[100/100]\ttest_main: 0.1236\ttest_main2: 0.0605\ttest_penalty: 0.6441152\r"
     ]
    },
    {
     "name": "stderr",
     "output_type": "stream",
     "text": [
      "[default |INFO|model.py:1303] [41/100]\ttest_main: 0.1236\ttest_main2: 0.0605\ttest_penalty: 0.6441\n"
     ]
    },
    {
     "name": "stdout",
     "output_type": "stream",
     "text": [
      "[100/100]\ttest_main: 0.1281\ttest_main2: 0.0685\ttest_penalty: 0.5981143\r"
     ]
    },
    {
     "name": "stderr",
     "output_type": "stream",
     "text": [
      "[default |INFO|model.py:1303] [42/100]\ttest_main: 0.1281\ttest_main2: 0.0685\ttest_penalty: 0.5981\n"
     ]
    },
    {
     "name": "stdout",
     "output_type": "stream",
     "text": [
      "[100/100]\ttest_main: 0.1261\ttest_main2: 0.0732\ttest_penalty: 0.6761129\r"
     ]
    },
    {
     "name": "stderr",
     "output_type": "stream",
     "text": [
      "[default |INFO|model.py:1303] [43/100]\ttest_main: 0.1261\ttest_main2: 0.0732\ttest_penalty: 0.6761\n"
     ]
    },
    {
     "name": "stdout",
     "output_type": "stream",
     "text": [
      "[96/100]\ttest_main: 0.1220\ttest_main2: 0.0803\ttest_penalty: 0.67467122\r"
     ]
    },
    {
     "name": "stderr",
     "output_type": "stream",
     "text": [
      "[default |INFO|model.py:1303] [44/100]\ttest_main: 0.1221\ttest_main2: 0.0807\ttest_penalty: 0.6747\n"
     ]
    },
    {
     "name": "stdout",
     "output_type": "stream",
     "text": [
      "[100/100]\ttest_main: 0.1221\ttest_main2: 0.0921\ttest_penalty: 0.6122135\r"
     ]
    },
    {
     "name": "stderr",
     "output_type": "stream",
     "text": [
      "[default |INFO|model.py:1303] [45/100]\ttest_main: 0.1221\ttest_main2: 0.0921\ttest_penalty: 0.6122\n"
     ]
    },
    {
     "name": "stdout",
     "output_type": "stream",
     "text": [
      "[100/100]\ttest_main: 0.1224\ttest_main2: 0.0632\ttest_penalty: 0.6252108\r"
     ]
    },
    {
     "name": "stderr",
     "output_type": "stream",
     "text": [
      "[default |INFO|model.py:1303] [46/100]\ttest_main: 0.1224\ttest_main2: 0.0632\ttest_penalty: 0.6252\n"
     ]
    },
    {
     "name": "stdout",
     "output_type": "stream",
     "text": [
      "[100/100]\ttest_main: 0.1241\ttest_main2: 0.0530\ttest_penalty: 0.6446103\r"
     ]
    },
    {
     "name": "stderr",
     "output_type": "stream",
     "text": [
      "[default |INFO|model.py:1303] [47/100]\ttest_main: 0.1241\ttest_main2: 0.0530\ttest_penalty: 0.6446\n"
     ]
    },
    {
     "name": "stdout",
     "output_type": "stream",
     "text": [
      "[100/100]\ttest_main: 0.1188\ttest_main2: 0.0477\ttest_penalty: 0.6374092\r"
     ]
    },
    {
     "name": "stderr",
     "output_type": "stream",
     "text": [
      "[default |INFO|model.py:1303] [48/100]\ttest_main: 0.1188\ttest_main2: 0.0477\ttest_penalty: 0.6374\n"
     ]
    },
    {
     "name": "stdout",
     "output_type": "stream",
     "text": [
      "[97/100]\ttest_main: 0.1190\ttest_main2: 0.0606\ttest_penalty: 0.62917095\r"
     ]
    },
    {
     "name": "stderr",
     "output_type": "stream",
     "text": [
      "[default |INFO|model.py:1303] [49/100]\ttest_main: 0.1191\ttest_main2: 0.0612\ttest_penalty: 0.6293\n"
     ]
    },
    {
     "name": "stdout",
     "output_type": "stream",
     "text": [
      "[100/100]\ttest_main: 0.1184\ttest_main2: 0.0553\ttest_penalty: 0.6528094\r"
     ]
    },
    {
     "name": "stderr",
     "output_type": "stream",
     "text": [
      "[default |INFO|model.py:1303] [50/100]\ttest_main: 0.1184\ttest_main2: 0.0553\ttest_penalty: 0.6528\n"
     ]
    },
    {
     "name": "stdout",
     "output_type": "stream",
     "text": [
      "[100/100]\ttest_main: 0.1228\ttest_main2: 0.0684\ttest_penalty: 0.6398073\r"
     ]
    },
    {
     "name": "stderr",
     "output_type": "stream",
     "text": [
      "[default |INFO|model.py:1303] [51/100]\ttest_main: 0.1228\ttest_main2: 0.0684\ttest_penalty: 0.6398\n"
     ]
    },
    {
     "name": "stdout",
     "output_type": "stream",
     "text": [
      "[100/100]\ttest_main: 0.1174\ttest_main2: 0.0836\ttest_penalty: 0.6658062\r"
     ]
    },
    {
     "name": "stderr",
     "output_type": "stream",
     "text": [
      "[default |INFO|model.py:1303] [52/100]\ttest_main: 0.1174\ttest_main2: 0.0836\ttest_penalty: 0.6658\n"
     ]
    },
    {
     "name": "stdout",
     "output_type": "stream",
     "text": [
      "[100/100]\ttest_main: 0.1178\ttest_main2: 0.0646\ttest_penalty: 0.6989048\r"
     ]
    },
    {
     "name": "stderr",
     "output_type": "stream",
     "text": [
      "[default |INFO|model.py:1303] [53/100]\ttest_main: 0.1178\ttest_main2: 0.0646\ttest_penalty: 0.6989\n"
     ]
    },
    {
     "name": "stdout",
     "output_type": "stream",
     "text": [
      "[100/100]\ttest_main: 0.1242\ttest_main2: 0.0684\ttest_penalty: 0.6952068\r"
     ]
    },
    {
     "name": "stderr",
     "output_type": "stream",
     "text": [
      "[default |INFO|model.py:1303] [54/100]\ttest_main: 0.1242\ttest_main2: 0.0684\ttest_penalty: 0.6952\n"
     ]
    },
    {
     "name": "stdout",
     "output_type": "stream",
     "text": [
      "[100/100]\ttest_main: 0.1200\ttest_main2: 0.0437\ttest_penalty: 0.6504050\r"
     ]
    },
    {
     "name": "stderr",
     "output_type": "stream",
     "text": [
      "[default |INFO|model.py:1303] [55/100]\ttest_main: 0.1200\ttest_main2: 0.0437\ttest_penalty: 0.6504\n"
     ]
    },
    {
     "name": "stdout",
     "output_type": "stream",
     "text": [
      "[100/100]\ttest_main: 0.1190\ttest_main2: 0.0758\ttest_penalty: 0.6396068\r"
     ]
    },
    {
     "name": "stderr",
     "output_type": "stream",
     "text": [
      "[default |INFO|model.py:1303] [56/100]\ttest_main: 0.1190\ttest_main2: 0.0758\ttest_penalty: 0.6396\n"
     ]
    },
    {
     "name": "stdout",
     "output_type": "stream",
     "text": [
      "[100/100]\ttest_main: 0.1158\ttest_main2: 0.0467\ttest_penalty: 0.6655094\r"
     ]
    },
    {
     "name": "stderr",
     "output_type": "stream",
     "text": [
      "[default |INFO|model.py:1303] [57/100]\ttest_main: 0.1158\ttest_main2: 0.0467\ttest_penalty: 0.6655\n"
     ]
    },
    {
     "name": "stdout",
     "output_type": "stream",
     "text": [
      "[100/100]\ttest_main: 0.1200\ttest_main2: 0.0493\ttest_penalty: 0.6535055\r"
     ]
    },
    {
     "name": "stderr",
     "output_type": "stream",
     "text": [
      "[default |INFO|model.py:1303] [58/100]\ttest_main: 0.1200\ttest_main2: 0.0493\ttest_penalty: 0.6535\n"
     ]
    },
    {
     "name": "stdout",
     "output_type": "stream",
     "text": [
      "[100/100]\ttest_main: 0.1217\ttest_main2: 0.0543\ttest_penalty: 0.6643081\r"
     ]
    },
    {
     "name": "stderr",
     "output_type": "stream",
     "text": [
      "[default |INFO|model.py:1303] [59/100]\ttest_main: 0.1217\ttest_main2: 0.0543\ttest_penalty: 0.6643\n"
     ]
    },
    {
     "name": "stdout",
     "output_type": "stream",
     "text": [
      "[100/100]\ttest_main: 0.1237\ttest_main2: 0.0521\ttest_penalty: 0.6576072\r"
     ]
    },
    {
     "name": "stderr",
     "output_type": "stream",
     "text": [
      "[default |INFO|model.py:1303] [60/100]\ttest_main: 0.1237\ttest_main2: 0.0521\ttest_penalty: 0.6576\n"
     ]
    },
    {
     "name": "stdout",
     "output_type": "stream",
     "text": [
      "[100/100]\ttest_main: 0.1197\ttest_main2: 0.0451\ttest_penalty: 0.6617096\r"
     ]
    },
    {
     "name": "stderr",
     "output_type": "stream",
     "text": [
      "[default |INFO|model.py:1303] [61/100]\ttest_main: 0.1197\ttest_main2: 0.0451\ttest_penalty: 0.6617\n"
     ]
    },
    {
     "name": "stdout",
     "output_type": "stream",
     "text": [
      "[100/100]\ttest_main: 0.1152\ttest_main2: 0.0782\ttest_penalty: 0.6799098\r"
     ]
    },
    {
     "name": "stderr",
     "output_type": "stream",
     "text": [
      "[default |INFO|model.py:1303] [62/100]\ttest_main: 0.1152\ttest_main2: 0.0782\ttest_penalty: 0.6799\n"
     ]
    },
    {
     "name": "stdout",
     "output_type": "stream",
     "text": [
      "[100/100]\ttest_main: 0.1207\ttest_main2: 0.0599\ttest_penalty: 0.6321083\r"
     ]
    },
    {
     "name": "stderr",
     "output_type": "stream",
     "text": [
      "[default |INFO|model.py:1303] [63/100]\ttest_main: 0.1207\ttest_main2: 0.0599\ttest_penalty: 0.6321\n"
     ]
    },
    {
     "name": "stdout",
     "output_type": "stream",
     "text": [
      "[100/100]\ttest_main: 0.1152\ttest_main2: 0.0568\ttest_penalty: 0.6720085\r"
     ]
    },
    {
     "name": "stderr",
     "output_type": "stream",
     "text": [
      "[default |INFO|model.py:1303] [64/100]\ttest_main: 0.1152\ttest_main2: 0.0568\ttest_penalty: 0.6720\n"
     ]
    },
    {
     "name": "stdout",
     "output_type": "stream",
     "text": [
      "[98/100]\ttest_main: 0.1141\ttest_main2: 0.0730\ttest_penalty: 0.62587082\r"
     ]
    },
    {
     "name": "stderr",
     "output_type": "stream",
     "text": [
      "[default |INFO|model.py:1303] [65/100]\ttest_main: 0.1143\ttest_main2: 0.0725\ttest_penalty: 0.6252\n"
     ]
    },
    {
     "name": "stdout",
     "output_type": "stream",
     "text": [
      "[100/100]\ttest_main: 0.1155\ttest_main2: 0.0608\ttest_penalty: 0.6786084\r"
     ]
    },
    {
     "name": "stderr",
     "output_type": "stream",
     "text": [
      "[default |INFO|model.py:1303] [66/100]\ttest_main: 0.1155\ttest_main2: 0.0608\ttest_penalty: 0.6786\n"
     ]
    },
    {
     "name": "stdout",
     "output_type": "stream",
     "text": [
      "[99/100]\ttest_main: 0.1116\ttest_main2: 0.0848\ttest_penalty: 0.64507087\r"
     ]
    },
    {
     "name": "stderr",
     "output_type": "stream",
     "text": [
      "[default |INFO|model.py:1303] [67/100]\ttest_main: 0.1115\ttest_main2: 0.0841\ttest_penalty: 0.6451\n"
     ]
    },
    {
     "name": "stdout",
     "output_type": "stream",
     "text": [
      "[100/100]\ttest_main: 0.1126\ttest_main2: 0.0667\ttest_penalty: 0.6320096\r"
     ]
    },
    {
     "name": "stderr",
     "output_type": "stream",
     "text": [
      "[default |INFO|model.py:1303] [68/100]\ttest_main: 0.1126\ttest_main2: 0.0667\ttest_penalty: 0.6320\n"
     ]
    },
    {
     "name": "stdout",
     "output_type": "stream",
     "text": [
      "[100/100]\ttest_main: 0.1150\ttest_main2: 0.0491\ttest_penalty: 0.7006109\r"
     ]
    },
    {
     "name": "stderr",
     "output_type": "stream",
     "text": [
      "[default |INFO|model.py:1303] [69/100]\ttest_main: 0.1150\ttest_main2: 0.0491\ttest_penalty: 0.7006\n"
     ]
    },
    {
     "name": "stdout",
     "output_type": "stream",
     "text": [
      "[100/100]\ttest_main: 0.1201\ttest_main2: 0.0895\ttest_penalty: 0.6610092\r"
     ]
    },
    {
     "name": "stderr",
     "output_type": "stream",
     "text": [
      "[default |INFO|model.py:1303] [70/100]\ttest_main: 0.1201\ttest_main2: 0.0895\ttest_penalty: 0.6610\n"
     ]
    },
    {
     "name": "stdout",
     "output_type": "stream",
     "text": [
      "[100/100]\ttest_main: 0.1131\ttest_main2: 0.0669\ttest_penalty: 0.7277087\r"
     ]
    },
    {
     "name": "stderr",
     "output_type": "stream",
     "text": [
      "[default |INFO|model.py:1303] [71/100]\ttest_main: 0.1131\ttest_main2: 0.0669\ttest_penalty: 0.7277\n"
     ]
    },
    {
     "name": "stdout",
     "output_type": "stream",
     "text": [
      "[100/100]\ttest_main: 0.1146\ttest_main2: 0.0539\ttest_penalty: 0.6412129\r"
     ]
    },
    {
     "name": "stderr",
     "output_type": "stream",
     "text": [
      "[default |INFO|model.py:1303] [72/100]\ttest_main: 0.1146\ttest_main2: 0.0539\ttest_penalty: 0.6412\n"
     ]
    },
    {
     "name": "stdout",
     "output_type": "stream",
     "text": [
      "[100/100]\ttest_main: 0.1185\ttest_main2: 0.0501\ttest_penalty: 0.6571108\r"
     ]
    },
    {
     "name": "stderr",
     "output_type": "stream",
     "text": [
      "[default |INFO|model.py:1303] [73/100]\ttest_main: 0.1185\ttest_main2: 0.0501\ttest_penalty: 0.6571\n"
     ]
    },
    {
     "name": "stdout",
     "output_type": "stream",
     "text": [
      "[100/100]\ttest_main: 0.1088\ttest_main2: 0.0546\ttest_penalty: 0.6479109\r"
     ]
    },
    {
     "name": "stderr",
     "output_type": "stream",
     "text": [
      "[default |INFO|model.py:1303] [74/100]\ttest_main: 0.1088\ttest_main2: 0.0546\ttest_penalty: 0.6479\n"
     ]
    },
    {
     "name": "stdout",
     "output_type": "stream",
     "text": [
      "[100/100]\ttest_main: 0.1171\ttest_main2: 0.0619\ttest_penalty: 0.6331099\r"
     ]
    },
    {
     "name": "stderr",
     "output_type": "stream",
     "text": [
      "[default |INFO|model.py:1303] [75/100]\ttest_main: 0.1171\ttest_main2: 0.0619\ttest_penalty: 0.6331\n"
     ]
    },
    {
     "name": "stdout",
     "output_type": "stream",
     "text": [
      "[100/100]\ttest_main: 0.1128\ttest_main2: 0.1055\ttest_penalty: 0.6631097\r"
     ]
    },
    {
     "name": "stderr",
     "output_type": "stream",
     "text": [
      "[default |INFO|model.py:1303] [76/100]\ttest_main: 0.1128\ttest_main2: 0.1055\ttest_penalty: 0.6631\n"
     ]
    },
    {
     "name": "stdout",
     "output_type": "stream",
     "text": [
      "[99/100]\ttest_main: 0.1097\ttest_main2: 0.1153\ttest_penalty: 0.65357100\r"
     ]
    },
    {
     "name": "stderr",
     "output_type": "stream",
     "text": [
      "[default |INFO|model.py:1303] [77/100]\ttest_main: 0.1097\ttest_main2: 0.1149\ttest_penalty: 0.6534\n"
     ]
    },
    {
     "name": "stdout",
     "output_type": "stream",
     "text": [
      "[100/100]\ttest_main: 0.1134\ttest_main2: 0.0986\ttest_penalty: 0.6771108\r"
     ]
    },
    {
     "name": "stderr",
     "output_type": "stream",
     "text": [
      "[default |INFO|model.py:1303] [78/100]\ttest_main: 0.1134\ttest_main2: 0.0986\ttest_penalty: 0.6771\n"
     ]
    },
    {
     "name": "stdout",
     "output_type": "stream",
     "text": [
      "[100/100]\ttest_main: 0.1119\ttest_main2: 0.0841\ttest_penalty: 0.6045113\r"
     ]
    },
    {
     "name": "stderr",
     "output_type": "stream",
     "text": [
      "[default |INFO|model.py:1303] [79/100]\ttest_main: 0.1119\ttest_main2: 0.0841\ttest_penalty: 0.6045\n"
     ]
    },
    {
     "name": "stdout",
     "output_type": "stream",
     "text": [
      "[100/100]\ttest_main: 0.1115\ttest_main2: 0.0739\ttest_penalty: 0.6982100\r"
     ]
    },
    {
     "name": "stderr",
     "output_type": "stream",
     "text": [
      "[default |INFO|model.py:1303] [80/100]\ttest_main: 0.1115\ttest_main2: 0.0739\ttest_penalty: 0.6982\n"
     ]
    },
    {
     "name": "stdout",
     "output_type": "stream",
     "text": [
      "[99/100]\ttest_main: 0.1133\ttest_main2: 0.1292\ttest_penalty: 0.67057068\r"
     ]
    },
    {
     "name": "stderr",
     "output_type": "stream",
     "text": [
      "[default |INFO|model.py:1303] [81/100]\ttest_main: 0.1134\ttest_main2: 0.1289\ttest_penalty: 0.6708\n"
     ]
    },
    {
     "name": "stdout",
     "output_type": "stream",
     "text": [
      "[99/100]\ttest_main: 0.1091\ttest_main2: 0.1420\ttest_penalty: 0.69017100\r"
     ]
    },
    {
     "name": "stderr",
     "output_type": "stream",
     "text": [
      "[default |INFO|model.py:1303] [82/100]\ttest_main: 0.1092\ttest_main2: 0.1429\ttest_penalty: 0.6899\n"
     ]
    },
    {
     "name": "stdout",
     "output_type": "stream",
     "text": [
      "[100/100]\ttest_main: 0.1105\ttest_main2: 0.1028\ttest_penalty: 0.6615092\r"
     ]
    },
    {
     "name": "stderr",
     "output_type": "stream",
     "text": [
      "[default |INFO|model.py:1303] [83/100]\ttest_main: 0.1105\ttest_main2: 0.1028\ttest_penalty: 0.6615\n"
     ]
    },
    {
     "name": "stdout",
     "output_type": "stream",
     "text": [
      "[100/100]\ttest_main: 0.1121\ttest_main2: 0.1092\ttest_penalty: 0.6317075\r"
     ]
    },
    {
     "name": "stderr",
     "output_type": "stream",
     "text": [
      "[default |INFO|model.py:1303] [84/100]\ttest_main: 0.1121\ttest_main2: 0.1092\ttest_penalty: 0.6317\n"
     ]
    },
    {
     "name": "stdout",
     "output_type": "stream",
     "text": [
      "[100/100]\ttest_main: 0.1132\ttest_main2: 0.1004\ttest_penalty: 0.6387102\r"
     ]
    },
    {
     "name": "stderr",
     "output_type": "stream",
     "text": [
      "[default |INFO|model.py:1303] [85/100]\ttest_main: 0.1132\ttest_main2: 0.1004\ttest_penalty: 0.6387\n"
     ]
    },
    {
     "name": "stdout",
     "output_type": "stream",
     "text": [
      "[100/100]\ttest_main: 0.1111\ttest_main2: 0.0874\ttest_penalty: 0.6467087\r"
     ]
    },
    {
     "name": "stderr",
     "output_type": "stream",
     "text": [
      "[default |INFO|model.py:1303] [86/100]\ttest_main: 0.1111\ttest_main2: 0.0874\ttest_penalty: 0.6467\n"
     ]
    },
    {
     "name": "stdout",
     "output_type": "stream",
     "text": [
      "[100/100]\ttest_main: 0.1134\ttest_main2: 0.0591\ttest_penalty: 0.6791085\r"
     ]
    },
    {
     "name": "stderr",
     "output_type": "stream",
     "text": [
      "[default |INFO|model.py:1303] [87/100]\ttest_main: 0.1134\ttest_main2: 0.0591\ttest_penalty: 0.6791\n"
     ]
    },
    {
     "name": "stdout",
     "output_type": "stream",
     "text": [
      "[100/100]\ttest_main: 0.1074\ttest_main2: 0.0844\ttest_penalty: 0.6870081\r"
     ]
    },
    {
     "name": "stderr",
     "output_type": "stream",
     "text": [
      "[default |INFO|model.py:1303] [88/100]\ttest_main: 0.1074\ttest_main2: 0.0844\ttest_penalty: 0.6870\n"
     ]
    },
    {
     "name": "stdout",
     "output_type": "stream",
     "text": [
      "[98/100]\ttest_main: 0.1103\ttest_main2: 0.1078\ttest_penalty: 0.68317091\r"
     ]
    },
    {
     "name": "stderr",
     "output_type": "stream",
     "text": [
      "[default |INFO|model.py:1303] [89/100]\ttest_main: 0.1105\ttest_main2: 0.1087\ttest_penalty: 0.6832\n"
     ]
    },
    {
     "name": "stdout",
     "output_type": "stream",
     "text": [
      "[100/100]\ttest_main: 0.1145\ttest_main2: 0.0772\ttest_penalty: 0.6664076\r"
     ]
    },
    {
     "name": "stderr",
     "output_type": "stream",
     "text": [
      "[default |INFO|model.py:1303] [90/100]\ttest_main: 0.1145\ttest_main2: 0.0772\ttest_penalty: 0.6664\n"
     ]
    },
    {
     "name": "stdout",
     "output_type": "stream",
     "text": [
      "[100/100]\ttest_main: 0.1116\ttest_main2: 0.0861\ttest_penalty: 0.6645097\r"
     ]
    },
    {
     "name": "stderr",
     "output_type": "stream",
     "text": [
      "[default |INFO|model.py:1303] [91/100]\ttest_main: 0.1116\ttest_main2: 0.0861\ttest_penalty: 0.6645\n"
     ]
    },
    {
     "name": "stdout",
     "output_type": "stream",
     "text": [
      "[100/100]\ttest_main: 0.1111\ttest_main2: 0.0934\ttest_penalty: 0.6489101\r"
     ]
    },
    {
     "name": "stderr",
     "output_type": "stream",
     "text": [
      "[default |INFO|model.py:1303] [92/100]\ttest_main: 0.1111\ttest_main2: 0.0934\ttest_penalty: 0.6489\n"
     ]
    },
    {
     "name": "stdout",
     "output_type": "stream",
     "text": [
      "[99/100]\ttest_main: 0.1129\ttest_main2: 0.0973\ttest_penalty: 0.63287105\r"
     ]
    },
    {
     "name": "stderr",
     "output_type": "stream",
     "text": [
      "[default |INFO|model.py:1303] [93/100]\ttest_main: 0.1130\ttest_main2: 0.0969\ttest_penalty: 0.6329\n"
     ]
    },
    {
     "name": "stdout",
     "output_type": "stream",
     "text": [
      "[100/100]\ttest_main: 0.1106\ttest_main2: 0.0456\ttest_penalty: 0.6682089\r"
     ]
    },
    {
     "name": "stderr",
     "output_type": "stream",
     "text": [
      "[default |INFO|model.py:1303] [94/100]\ttest_main: 0.1106\ttest_main2: 0.0456\ttest_penalty: 0.6682\n"
     ]
    },
    {
     "name": "stdout",
     "output_type": "stream",
     "text": [
      "[97/100]\ttest_main: 0.1169\ttest_main2: 0.0708\ttest_penalty: 0.67797095\r"
     ]
    },
    {
     "name": "stderr",
     "output_type": "stream",
     "text": [
      "[default |INFO|model.py:1303] [95/100]\ttest_main: 0.1167\ttest_main2: 0.0714\ttest_penalty: 0.6779\n"
     ]
    },
    {
     "name": "stdout",
     "output_type": "stream",
     "text": [
      "[94/100]\ttest_main: 0.1102\ttest_main2: 0.1058\ttest_penalty: 0.65077086\r"
     ]
    },
    {
     "name": "stderr",
     "output_type": "stream",
     "text": [
      "[default |INFO|model.py:1303] [96/100]\ttest_main: 0.1102\ttest_main2: 0.1080\ttest_penalty: 0.6511\n"
     ]
    },
    {
     "name": "stdout",
     "output_type": "stream",
     "text": [
      "[98/100]\ttest_main: 0.1104\ttest_main2: 0.1449\ttest_penalty: 0.67027086\r"
     ]
    },
    {
     "name": "stderr",
     "output_type": "stream",
     "text": [
      "[default |INFO|model.py:1303] [97/100]\ttest_main: 0.1106\ttest_main2: 0.1441\ttest_penalty: 0.6703\n"
     ]
    },
    {
     "name": "stdout",
     "output_type": "stream",
     "text": [
      "[99/100]\ttest_main: 0.1099\ttest_main2: 0.1283\ttest_penalty: 0.67557092\r"
     ]
    },
    {
     "name": "stderr",
     "output_type": "stream",
     "text": [
      "[default |INFO|model.py:1303] [98/100]\ttest_main: 0.1100\ttest_main2: 0.1292\ttest_penalty: 0.6756\n"
     ]
    },
    {
     "name": "stdout",
     "output_type": "stream",
     "text": [
      "[100/100]\ttest_main: 0.1117\ttest_main2: 0.0855\ttest_penalty: 0.6778083\r"
     ]
    },
    {
     "name": "stderr",
     "output_type": "stream",
     "text": [
      "[default |INFO|model.py:1303] [99/100]\ttest_main: 0.1117\ttest_main2: 0.0855\ttest_penalty: 0.6778\n"
     ]
    },
    {
     "name": "stdout",
     "output_type": "stream",
     "text": [
      "[95/100]\ttest_main: 0.1098\ttest_main2: 0.1919\ttest_penalty: 0.69077090\r"
     ]
    },
    {
     "name": "stderr",
     "output_type": "stream",
     "text": [
      "[default |INFO|model.py:1303] [100/100]\ttest_main: 0.1099\ttest_main2: 0.1910\ttest_penalty: 0.6906\n"
     ]
    },
    {
     "name": "stdout",
     "output_type": "stream",
     "text": [
      "[96/100]\ttest_main: 0.1099\ttest_main2: 0.1935\ttest_penalty: 0.6907\r",
      "[97/100]\ttest_main: 0.1100\ttest_main2: 0.1930\ttest_penalty: 0.6908\r",
      "[98/100]\ttest_main: 0.1099\ttest_main2: 0.1926\ttest_penalty: 0.6907\r",
      "[99/100]\ttest_main: 0.1099\ttest_main2: 0.1921\ttest_penalty: 0.6907\r",
      "[100/100]\ttest_main: 0.1099\ttest_main2: 0.1910\ttest_penalty: 0.6906\r"
     ]
    },
    {
     "name": "stderr",
     "output_type": "stream",
     "text": [
      "[default |INFO|model.py:1409] Training Finished!\n",
      "[default |INFO|model.py:1410] Elapsed time: 1429.596s\n"
     ]
    }
   ],
   "source": [
    "model = SSWAE_GAN_MNIST(cfg, log, device = device)\n",
    "model.train()\n",
    "# model.train(resume = True)"
   ]
  },
  {
   "cell_type": "code",
   "execution_count": 29,
   "metadata": {
    "scrolled": true
   },
   "outputs": [
    {
     "name": "stdout",
     "output_type": "stream",
     "text": [
      "0.346\n"
     ]
    }
   ],
   "source": [
    "acc, n = 0, 0\n",
    "for data, condition in test_generator:\n",
    "    x = data.to(device)\n",
    "    y = condition.to(device)\n",
    "    fake_latent = model.encode_s(x)\n",
    "    recon = model.decode(fake_latent)\n",
    "    recon_y = model.decode_c(fake_latent)\n",
    "    acc += torch.sum(torch.max(recon_y, 1)[1] == 5).item() # 5 for unk\n",
    "    n += len(x)\n",
    "print(acc/n)"
   ]
  },
  {
   "cell_type": "markdown",
   "metadata": {},
   "source": [
    "## Experiment 2-2) Batch1 / |Batch1| : Batch2 / |Batch2| = 4 : 1 ?\n",
    "\n",
    "Setting: test(2), labeled(1, 3, 5), unlabeled(0, 4, 6, 7, 8, 9)\n",
    "\n",
    "WTS: 100/3 : x/9 = 4 : 1 ? (x = 75)"
   ]
  },
  {
   "cell_type": "markdown",
   "metadata": {},
   "source": [
    "### Case 1. Batch1 = 100, Batch2 = 50"
   ]
  },
  {
   "cell_type": "code",
   "execution_count": 3,
   "metadata": {
    "scrolled": true
   },
   "outputs": [
    {
     "data": {
      "text/plain": [
       "['./config/train_config_sswae_gan5-1.cfg']"
      ]
     },
     "execution_count": 3,
     "metadata": {},
     "output_type": "execute_result"
    }
   ],
   "source": [
    "cfg = configparser.ConfigParser()\n",
    "cfg.read('./config/train_config_sswae_gan5-1.cfg')"
   ]
  },
  {
   "cell_type": "code",
   "execution_count": 4,
   "metadata": {
    "collapsed": true
   },
   "outputs": [
    {
     "name": "stderr",
     "output_type": "stream",
     "text": [
      "[default |INFO|_base_model.py:25] ------------------------------------------------------------\n",
      "[default |INFO|_base_model.py:27] model_name : SSWAE_GAN_MNIST\n",
      "[default |INFO|_base_model.py:27] train_data : rmMNIST\n",
      "[default |INFO|_base_model.py:27] train_data_label : True\n",
      "[default |INFO|_base_model.py:27] z_sampler : gaus\n",
      "[default |INFO|_base_model.py:27] z_dim : 6\n",
      "[default |INFO|_base_model.py:27] yz_dim : 2\n",
      "[default |INFO|_base_model.py:27] y_sampler : multinomial\n",
      "[default |INFO|_base_model.py:27] y_dim : 4\n",
      "[default |INFO|_base_model.py:27] labeled_class : 1, 3, 5\n",
      "[default |INFO|_base_model.py:27] unlabeled_class : 0, 4, 6, 7, 8, 9\n",
      "[default |INFO|_base_model.py:27] test_class : 2\n",
      "[default |INFO|_base_model.py:27] classification_weight : \n",
      "[default |INFO|_base_model.py:27] encoder_pretrain : False\n",
      "[default |INFO|_base_model.py:27] lr : 5e-4\n",
      "[default |INFO|_base_model.py:27] beta1 : 0.5\n",
      "[default |INFO|_base_model.py:27] lr_adv : 2e-4\n",
      "[default |INFO|_base_model.py:27] beta1_adv : 0.5\n",
      "[default |INFO|_base_model.py:27] lambda : 10.0\n",
      "[default |INFO|_base_model.py:27] lambda2 : 10.0\n",
      "[default |INFO|_base_model.py:27] lr_schedule : manual\n",
      "[default |INFO|_base_model.py:27] validate : True\n",
      "[default |INFO|_base_model.py:27] histogram : True\n",
      "[default |INFO|_base_model.py:27] batch_size1 : 100\n",
      "[default |INFO|_base_model.py:27] batch_size2 : 50\n",
      "[default |INFO|_base_model.py:27] epoch : 100\n",
      "[default |INFO|_base_model.py:27] replace : False\n",
      "[default |INFO|_base_model.py:27] iter_per_epoch : None\n",
      "[default |INFO|_base_model.py:27] save_best : False\n",
      "[default |INFO|_base_model.py:30] data_home2 : ./data/MNIST\n",
      "[default |INFO|_base_model.py:30] tb_logs : ./result/tb_logs/sswae_gan5-1\n",
      "[default |INFO|_base_model.py:30] save_path : ./result/weights/sswae_gan5-1.pt\n",
      "[default |INFO|_base_model.py:30] save_state : ./result/states/state_sswae_gan5-1.pt\n",
      "[default |INFO|_base_model.py:30] save_img_path : \n",
      "[default |INFO|model.py:1149] ------------------------------------------------------------\n",
      "[default |INFO|model.py:1150] Training Start!\n"
     ]
    },
    {
     "name": "stdout",
     "output_type": "stream",
     "text": [
      "[100/100]\ttest_main: 0.2303\ttest_main2: 0.6530\ttest_penalty: 0.6835768\r"
     ]
    },
    {
     "name": "stderr",
     "output_type": "stream",
     "text": [
      "[default |INFO|model.py:1303] [1/100]\ttest_main: 0.2303\ttest_main2: 0.6530\ttest_penalty: 0.6835\n"
     ]
    },
    {
     "name": "stdout",
     "output_type": "stream",
     "text": [
      "[100/100]\ttest_main: 0.1949\ttest_main2: 0.5665\ttest_penalty: 0.6860927\r"
     ]
    },
    {
     "name": "stderr",
     "output_type": "stream",
     "text": [
      "[default |INFO|model.py:1303] [2/100]\ttest_main: 0.1949\ttest_main2: 0.5665\ttest_penalty: 0.6860\n"
     ]
    },
    {
     "name": "stdout",
     "output_type": "stream",
     "text": [
      "[100/100]\ttest_main: 0.1813\ttest_main2: 0.5057\ttest_penalty: 0.6806931\r"
     ]
    },
    {
     "name": "stderr",
     "output_type": "stream",
     "text": [
      "[default |INFO|model.py:1303] [3/100]\ttest_main: 0.1813\ttest_main2: 0.5057\ttest_penalty: 0.6806\n"
     ]
    },
    {
     "name": "stdout",
     "output_type": "stream",
     "text": [
      "[100/100]\ttest_main: 0.1753\ttest_main2: 0.4495\ttest_penalty: 0.6973938\r"
     ]
    },
    {
     "name": "stderr",
     "output_type": "stream",
     "text": [
      "[default |INFO|model.py:1303] [4/100]\ttest_main: 0.1753\ttest_main2: 0.4495\ttest_penalty: 0.6973\n"
     ]
    },
    {
     "name": "stdout",
     "output_type": "stream",
     "text": [
      "[100/100]\ttest_main: 0.1626\ttest_main2: 0.3874\ttest_penalty: 0.6927934\r"
     ]
    },
    {
     "name": "stderr",
     "output_type": "stream",
     "text": [
      "[default |INFO|model.py:1303] [5/100]\ttest_main: 0.1626\ttest_main2: 0.3874\ttest_penalty: 0.6927\n"
     ]
    },
    {
     "name": "stdout",
     "output_type": "stream",
     "text": [
      "[100/100]\ttest_main: 0.1645\ttest_main2: 0.3087\ttest_penalty: 0.6856924\r"
     ]
    },
    {
     "name": "stderr",
     "output_type": "stream",
     "text": [
      "[default |INFO|model.py:1303] [6/100]\ttest_main: 0.1645\ttest_main2: 0.3087\ttest_penalty: 0.6856\n"
     ]
    },
    {
     "name": "stdout",
     "output_type": "stream",
     "text": [
      "[100/100]\ttest_main: 0.1520\ttest_main2: 0.2402\ttest_penalty: 0.6789008\r"
     ]
    },
    {
     "name": "stderr",
     "output_type": "stream",
     "text": [
      "[default |INFO|model.py:1303] [7/100]\ttest_main: 0.1520\ttest_main2: 0.2402\ttest_penalty: 0.6789\n"
     ]
    },
    {
     "name": "stdout",
     "output_type": "stream",
     "text": [
      "[100/100]\ttest_main: 0.1571\ttest_main2: 0.2083\ttest_penalty: 0.6240132\r"
     ]
    },
    {
     "name": "stderr",
     "output_type": "stream",
     "text": [
      "[default |INFO|model.py:1303] [8/100]\ttest_main: 0.1571\ttest_main2: 0.2083\ttest_penalty: 0.6240\n"
     ]
    },
    {
     "name": "stdout",
     "output_type": "stream",
     "text": [
      "[100/100]\ttest_main: 0.1894\ttest_main2: 0.1848\ttest_penalty: 0.5959480\r"
     ]
    },
    {
     "name": "stderr",
     "output_type": "stream",
     "text": [
      "[default |INFO|model.py:1303] [9/100]\ttest_main: 0.1894\ttest_main2: 0.1848\ttest_penalty: 0.5959\n"
     ]
    },
    {
     "name": "stdout",
     "output_type": "stream",
     "text": [
      "[100/100]\ttest_main: 0.1672\ttest_main2: 0.1473\ttest_penalty: 0.5584397\r"
     ]
    },
    {
     "name": "stderr",
     "output_type": "stream",
     "text": [
      "[default |INFO|model.py:1303] [10/100]\ttest_main: 0.1672\ttest_main2: 0.1473\ttest_penalty: 0.5584\n"
     ]
    },
    {
     "name": "stdout",
     "output_type": "stream",
     "text": [
      "[100/100]\ttest_main: 0.1616\ttest_main2: 0.1054\ttest_penalty: 0.5566417\r"
     ]
    },
    {
     "name": "stderr",
     "output_type": "stream",
     "text": [
      "[default |INFO|model.py:1303] [11/100]\ttest_main: 0.1616\ttest_main2: 0.1054\ttest_penalty: 0.5566\n"
     ]
    },
    {
     "name": "stdout",
     "output_type": "stream",
     "text": [
      "[100/100]\ttest_main: 0.1510\ttest_main2: 0.0814\ttest_penalty: 0.5821348\r"
     ]
    },
    {
     "name": "stderr",
     "output_type": "stream",
     "text": [
      "[default |INFO|model.py:1303] [12/100]\ttest_main: 0.1510\ttest_main2: 0.0814\ttest_penalty: 0.5821\n"
     ]
    },
    {
     "name": "stdout",
     "output_type": "stream",
     "text": [
      "[100/100]\ttest_main: 0.1803\ttest_main2: 0.1030\ttest_penalty: 0.6303734\r"
     ]
    },
    {
     "name": "stderr",
     "output_type": "stream",
     "text": [
      "[default |INFO|model.py:1303] [13/100]\ttest_main: 0.1803\ttest_main2: 0.1030\ttest_penalty: 0.6303\n"
     ]
    },
    {
     "name": "stdout",
     "output_type": "stream",
     "text": [
      "[100/100]\ttest_main: 0.1605\ttest_main2: 0.1237\ttest_penalty: 0.6105694\r"
     ]
    },
    {
     "name": "stderr",
     "output_type": "stream",
     "text": [
      "[default |INFO|model.py:1303] [14/100]\ttest_main: 0.1605\ttest_main2: 0.1237\ttest_penalty: 0.6105\n"
     ]
    },
    {
     "name": "stdout",
     "output_type": "stream",
     "text": [
      "[100/100]\ttest_main: 0.1531\ttest_main2: 0.0834\ttest_penalty: 0.6587782\r"
     ]
    },
    {
     "name": "stderr",
     "output_type": "stream",
     "text": [
      "[default |INFO|model.py:1303] [15/100]\ttest_main: 0.1531\ttest_main2: 0.0834\ttest_penalty: 0.6587\n"
     ]
    },
    {
     "name": "stdout",
     "output_type": "stream",
     "text": [
      "[100/100]\ttest_main: 0.1475\ttest_main2: 0.0798\ttest_penalty: 0.6518654\r"
     ]
    },
    {
     "name": "stderr",
     "output_type": "stream",
     "text": [
      "[default |INFO|model.py:1303] [16/100]\ttest_main: 0.1475\ttest_main2: 0.0798\ttest_penalty: 0.6518\n"
     ]
    },
    {
     "name": "stdout",
     "output_type": "stream",
     "text": [
      "[100/100]\ttest_main: 0.1445\ttest_main2: 0.0791\ttest_penalty: 0.6744747\r"
     ]
    },
    {
     "name": "stderr",
     "output_type": "stream",
     "text": [
      "[default |INFO|model.py:1303] [17/100]\ttest_main: 0.1445\ttest_main2: 0.0791\ttest_penalty: 0.6744\n"
     ]
    },
    {
     "name": "stdout",
     "output_type": "stream",
     "text": [
      "[100/100]\ttest_main: 0.1513\ttest_main2: 0.0725\ttest_penalty: 0.6658859\r"
     ]
    },
    {
     "name": "stderr",
     "output_type": "stream",
     "text": [
      "[default |INFO|model.py:1303] [18/100]\ttest_main: 0.1513\ttest_main2: 0.0725\ttest_penalty: 0.6658\n"
     ]
    },
    {
     "name": "stdout",
     "output_type": "stream",
     "text": [
      "[100/100]\ttest_main: 0.1491\ttest_main2: 0.1078\ttest_penalty: 0.5801096\r"
     ]
    },
    {
     "name": "stderr",
     "output_type": "stream",
     "text": [
      "[default |INFO|model.py:1303] [19/100]\ttest_main: 0.1491\ttest_main2: 0.1078\ttest_penalty: 0.5801\n"
     ]
    },
    {
     "name": "stdout",
     "output_type": "stream",
     "text": [
      "[100/100]\ttest_main: 0.1607\ttest_main2: 0.1106\ttest_penalty: 0.6240890\r"
     ]
    },
    {
     "name": "stderr",
     "output_type": "stream",
     "text": [
      "[default |INFO|model.py:1303] [20/100]\ttest_main: 0.1607\ttest_main2: 0.1106\ttest_penalty: 0.6240\n"
     ]
    },
    {
     "name": "stdout",
     "output_type": "stream",
     "text": [
      "[100/100]\ttest_main: 0.1537\ttest_main2: 0.0919\ttest_penalty: 0.6404803\r"
     ]
    },
    {
     "name": "stderr",
     "output_type": "stream",
     "text": [
      "[default |INFO|model.py:1303] [21/100]\ttest_main: 0.1537\ttest_main2: 0.0919\ttest_penalty: 0.6404\n"
     ]
    },
    {
     "name": "stdout",
     "output_type": "stream",
     "text": [
      "[100/100]\ttest_main: 0.1655\ttest_main2: 0.0971\ttest_penalty: 0.7206929\r"
     ]
    },
    {
     "name": "stderr",
     "output_type": "stream",
     "text": [
      "[default |INFO|model.py:1303] [22/100]\ttest_main: 0.1655\ttest_main2: 0.0971\ttest_penalty: 0.7206\n"
     ]
    },
    {
     "name": "stdout",
     "output_type": "stream",
     "text": [
      "[100/100]\ttest_main: 0.1545\ttest_main2: 0.0845\ttest_penalty: 0.6356831\r"
     ]
    },
    {
     "name": "stderr",
     "output_type": "stream",
     "text": [
      "[default |INFO|model.py:1303] [23/100]\ttest_main: 0.1545\ttest_main2: 0.0845\ttest_penalty: 0.6356\n"
     ]
    },
    {
     "name": "stdout",
     "output_type": "stream",
     "text": [
      "[100/100]\ttest_main: 0.1486\ttest_main2: 0.1133\ttest_penalty: 0.6704640\r"
     ]
    },
    {
     "name": "stderr",
     "output_type": "stream",
     "text": [
      "[default |INFO|model.py:1303] [24/100]\ttest_main: 0.1486\ttest_main2: 0.1133\ttest_penalty: 0.6704\n"
     ]
    },
    {
     "name": "stdout",
     "output_type": "stream",
     "text": [
      "[100/100]\ttest_main: 0.1542\ttest_main2: 0.1051\ttest_penalty: 0.6254577\r"
     ]
    },
    {
     "name": "stderr",
     "output_type": "stream",
     "text": [
      "[default |INFO|model.py:1303] [25/100]\ttest_main: 0.1542\ttest_main2: 0.1051\ttest_penalty: 0.6254\n"
     ]
    },
    {
     "name": "stdout",
     "output_type": "stream",
     "text": [
      "[100/100]\ttest_main: 0.1472\ttest_main2: 0.0839\ttest_penalty: 0.6468435\r"
     ]
    },
    {
     "name": "stderr",
     "output_type": "stream",
     "text": [
      "[default |INFO|model.py:1303] [26/100]\ttest_main: 0.1472\ttest_main2: 0.0839\ttest_penalty: 0.6468\n"
     ]
    },
    {
     "name": "stdout",
     "output_type": "stream",
     "text": [
      "[100/100]\ttest_main: 0.1449\ttest_main2: 0.0802\ttest_penalty: 0.6840406\r"
     ]
    },
    {
     "name": "stderr",
     "output_type": "stream",
     "text": [
      "[default |INFO|model.py:1303] [27/100]\ttest_main: 0.1449\ttest_main2: 0.0802\ttest_penalty: 0.6840\n"
     ]
    },
    {
     "name": "stdout",
     "output_type": "stream",
     "text": [
      "[100/100]\ttest_main: 0.1411\ttest_main2: 0.1113\ttest_penalty: 0.6661331\r"
     ]
    },
    {
     "name": "stderr",
     "output_type": "stream",
     "text": [
      "[default |INFO|model.py:1303] [28/100]\ttest_main: 0.1411\ttest_main2: 0.1113\ttest_penalty: 0.6661\n"
     ]
    },
    {
     "name": "stdout",
     "output_type": "stream",
     "text": [
      "[100/100]\ttest_main: 0.1431\ttest_main2: 0.0899\ttest_penalty: 0.6738313\r"
     ]
    },
    {
     "name": "stderr",
     "output_type": "stream",
     "text": [
      "[default |INFO|model.py:1303] [29/100]\ttest_main: 0.1431\ttest_main2: 0.0899\ttest_penalty: 0.6738\n"
     ]
    },
    {
     "name": "stdout",
     "output_type": "stream",
     "text": [
      "[100/100]\ttest_main: 0.1362\ttest_main2: 0.0475\ttest_penalty: 0.6427252\r"
     ]
    },
    {
     "name": "stderr",
     "output_type": "stream",
     "text": [
      "[default |INFO|model.py:1303] [30/100]\ttest_main: 0.1362\ttest_main2: 0.0475\ttest_penalty: 0.6427\n"
     ]
    },
    {
     "name": "stdout",
     "output_type": "stream",
     "text": [
      "[100/100]\ttest_main: 0.1391\ttest_main2: 0.1184\ttest_penalty: 0.6739242\r"
     ]
    },
    {
     "name": "stderr",
     "output_type": "stream",
     "text": [
      "[default |INFO|model.py:1303] [31/100]\ttest_main: 0.1391\ttest_main2: 0.1184\ttest_penalty: 0.6739\n"
     ]
    },
    {
     "name": "stdout",
     "output_type": "stream",
     "text": [
      "[100/100]\ttest_main: 0.1346\ttest_main2: 0.0905\ttest_penalty: 0.7075202\r"
     ]
    },
    {
     "name": "stderr",
     "output_type": "stream",
     "text": [
      "[default |INFO|model.py:1303] [32/100]\ttest_main: 0.1346\ttest_main2: 0.0905\ttest_penalty: 0.7075\n"
     ]
    },
    {
     "name": "stdout",
     "output_type": "stream",
     "text": [
      "[100/100]\ttest_main: 0.1329\ttest_main2: 0.0889\ttest_penalty: 0.6594192\r"
     ]
    },
    {
     "name": "stderr",
     "output_type": "stream",
     "text": [
      "[default |INFO|model.py:1303] [33/100]\ttest_main: 0.1329\ttest_main2: 0.0889\ttest_penalty: 0.6594\n"
     ]
    },
    {
     "name": "stdout",
     "output_type": "stream",
     "text": [
      "[100/100]\ttest_main: 0.1362\ttest_main2: 0.0592\ttest_penalty: 0.6753182\r"
     ]
    },
    {
     "name": "stderr",
     "output_type": "stream",
     "text": [
      "[default |INFO|model.py:1303] [34/100]\ttest_main: 0.1362\ttest_main2: 0.0592\ttest_penalty: 0.6753\n"
     ]
    },
    {
     "name": "stdout",
     "output_type": "stream",
     "text": [
      "[100/100]\ttest_main: 0.1260\ttest_main2: 0.0779\ttest_penalty: 0.6656187\r"
     ]
    },
    {
     "name": "stderr",
     "output_type": "stream",
     "text": [
      "[default |INFO|model.py:1303] [35/100]\ttest_main: 0.1260\ttest_main2: 0.0779\ttest_penalty: 0.6656\n"
     ]
    },
    {
     "name": "stdout",
     "output_type": "stream",
     "text": [
      "[100/100]\ttest_main: 0.1310\ttest_main2: 0.0845\ttest_penalty: 0.6963165\r"
     ]
    },
    {
     "name": "stderr",
     "output_type": "stream",
     "text": [
      "[default |INFO|model.py:1303] [36/100]\ttest_main: 0.1310\ttest_main2: 0.0845\ttest_penalty: 0.6963\n"
     ]
    },
    {
     "name": "stdout",
     "output_type": "stream",
     "text": [
      "[100/100]\ttest_main: 0.1283\ttest_main2: 0.0840\ttest_penalty: 0.6520180\r"
     ]
    },
    {
     "name": "stderr",
     "output_type": "stream",
     "text": [
      "[default |INFO|model.py:1303] [37/100]\ttest_main: 0.1283\ttest_main2: 0.0840\ttest_penalty: 0.6520\n"
     ]
    },
    {
     "name": "stdout",
     "output_type": "stream",
     "text": [
      "[100/100]\ttest_main: 0.1258\ttest_main2: 0.1134\ttest_penalty: 0.6763158\r"
     ]
    },
    {
     "name": "stderr",
     "output_type": "stream",
     "text": [
      "[default |INFO|model.py:1303] [38/100]\ttest_main: 0.1258\ttest_main2: 0.1134\ttest_penalty: 0.6763\n"
     ]
    },
    {
     "name": "stdout",
     "output_type": "stream",
     "text": [
      "[100/100]\ttest_main: 0.1312\ttest_main2: 0.0577\ttest_penalty: 0.6719139\r"
     ]
    },
    {
     "name": "stderr",
     "output_type": "stream",
     "text": [
      "[default |INFO|model.py:1303] [39/100]\ttest_main: 0.1312\ttest_main2: 0.0577\ttest_penalty: 0.6719\n"
     ]
    },
    {
     "name": "stdout",
     "output_type": "stream",
     "text": [
      "[100/100]\ttest_main: 0.1279\ttest_main2: 0.0744\ttest_penalty: 0.6940137\r"
     ]
    },
    {
     "name": "stderr",
     "output_type": "stream",
     "text": [
      "[default |INFO|model.py:1303] [40/100]\ttest_main: 0.1279\ttest_main2: 0.0744\ttest_penalty: 0.6940\n"
     ]
    },
    {
     "name": "stdout",
     "output_type": "stream",
     "text": [
      "[100/100]\ttest_main: 0.1268\ttest_main2: 0.0907\ttest_penalty: 0.6761151\r"
     ]
    },
    {
     "name": "stderr",
     "output_type": "stream",
     "text": [
      "[default |INFO|model.py:1303] [41/100]\ttest_main: 0.1268\ttest_main2: 0.0907\ttest_penalty: 0.6761\n"
     ]
    },
    {
     "name": "stdout",
     "output_type": "stream",
     "text": [
      "[100/100]\ttest_main: 0.1246\ttest_main2: 0.0737\ttest_penalty: 0.6770141\r"
     ]
    },
    {
     "name": "stderr",
     "output_type": "stream",
     "text": [
      "[default |INFO|model.py:1303] [42/100]\ttest_main: 0.1246\ttest_main2: 0.0737\ttest_penalty: 0.6770\n"
     ]
    },
    {
     "name": "stdout",
     "output_type": "stream",
     "text": [
      "[100/100]\ttest_main: 0.1296\ttest_main2: 0.0791\ttest_penalty: 0.7048133\r"
     ]
    },
    {
     "name": "stderr",
     "output_type": "stream",
     "text": [
      "[default |INFO|model.py:1303] [43/100]\ttest_main: 0.1296\ttest_main2: 0.0791\ttest_penalty: 0.7048\n"
     ]
    },
    {
     "name": "stdout",
     "output_type": "stream",
     "text": [
      "[100/100]\ttest_main: 0.1290\ttest_main2: 0.0804\ttest_penalty: 0.6607127\r"
     ]
    },
    {
     "name": "stderr",
     "output_type": "stream",
     "text": [
      "[default |INFO|model.py:1303] [44/100]\ttest_main: 0.1290\ttest_main2: 0.0804\ttest_penalty: 0.6607\n"
     ]
    },
    {
     "name": "stdout",
     "output_type": "stream",
     "text": [
      "[90/100]\ttest_main: 0.1270\ttest_main2: 0.0799\ttest_penalty: 0.68407115\r"
     ]
    },
    {
     "name": "stderr",
     "output_type": "stream",
     "text": [
      "[default |INFO|model.py:1303] [45/100]\ttest_main: 0.1269\ttest_main2: 0.0783\ttest_penalty: 0.6837\n"
     ]
    },
    {
     "name": "stdout",
     "output_type": "stream",
     "text": [
      "[85/100]\ttest_main: 0.1328\ttest_main2: 0.1077\ttest_penalty: 0.66517094\r"
     ]
    },
    {
     "name": "stderr",
     "output_type": "stream",
     "text": [
      "[default |INFO|model.py:1303] [46/100]\ttest_main: 0.1327\ttest_main2: 0.1046\ttest_penalty: 0.6652\n"
     ]
    },
    {
     "name": "stdout",
     "output_type": "stream",
     "text": [
      "[100/100]\ttest_main: 0.1337\ttest_main2: 0.0638\ttest_penalty: 0.6824086\r"
     ]
    },
    {
     "name": "stderr",
     "output_type": "stream",
     "text": [
      "[default |INFO|model.py:1303] [47/100]\ttest_main: 0.1337\ttest_main2: 0.0638\ttest_penalty: 0.6824\n"
     ]
    },
    {
     "name": "stdout",
     "output_type": "stream",
     "text": [
      "[100/100]\ttest_main: 0.1273\ttest_main2: 0.1410\ttest_penalty: 0.6934115\r"
     ]
    },
    {
     "name": "stderr",
     "output_type": "stream",
     "text": [
      "[default |INFO|model.py:1303] [48/100]\ttest_main: 0.1273\ttest_main2: 0.1410\ttest_penalty: 0.6934\n"
     ]
    },
    {
     "name": "stdout",
     "output_type": "stream",
     "text": [
      "[100/100]\ttest_main: 0.1248\ttest_main2: 0.1377\ttest_penalty: 0.6889090\r"
     ]
    },
    {
     "name": "stderr",
     "output_type": "stream",
     "text": [
      "[default |INFO|model.py:1303] [49/100]\ttest_main: 0.1248\ttest_main2: 0.1377\ttest_penalty: 0.6889\n"
     ]
    },
    {
     "name": "stdout",
     "output_type": "stream",
     "text": [
      "[100/100]\ttest_main: 0.1279\ttest_main2: 0.0891\ttest_penalty: 0.6562081\r"
     ]
    },
    {
     "name": "stderr",
     "output_type": "stream",
     "text": [
      "[default |INFO|model.py:1303] [50/100]\ttest_main: 0.1279\ttest_main2: 0.0891\ttest_penalty: 0.6562\n"
     ]
    },
    {
     "name": "stdout",
     "output_type": "stream",
     "text": [
      "[100/100]\ttest_main: 0.1268\ttest_main2: 0.1255\ttest_penalty: 0.6521061\r"
     ]
    },
    {
     "name": "stderr",
     "output_type": "stream",
     "text": [
      "[default |INFO|model.py:1303] [51/100]\ttest_main: 0.1268\ttest_main2: 0.1255\ttest_penalty: 0.6521\n"
     ]
    },
    {
     "name": "stdout",
     "output_type": "stream",
     "text": [
      "[100/100]\ttest_main: 0.1268\ttest_main2: 0.0509\ttest_penalty: 0.6735062\r"
     ]
    },
    {
     "name": "stderr",
     "output_type": "stream",
     "text": [
      "[default |INFO|model.py:1303] [52/100]\ttest_main: 0.1268\ttest_main2: 0.0509\ttest_penalty: 0.6735\n"
     ]
    },
    {
     "name": "stdout",
     "output_type": "stream",
     "text": [
      "[100/100]\ttest_main: 0.1279\ttest_main2: 0.0742\ttest_penalty: 0.6605064\r"
     ]
    },
    {
     "name": "stderr",
     "output_type": "stream",
     "text": [
      "[default |INFO|model.py:1303] [53/100]\ttest_main: 0.1279\ttest_main2: 0.0742\ttest_penalty: 0.6605\n"
     ]
    },
    {
     "name": "stdout",
     "output_type": "stream",
     "text": [
      "[100/100]\ttest_main: 0.1193\ttest_main2: 0.0987\ttest_penalty: 0.6910060\r"
     ]
    },
    {
     "name": "stderr",
     "output_type": "stream",
     "text": [
      "[default |INFO|model.py:1303] [54/100]\ttest_main: 0.1193\ttest_main2: 0.0987\ttest_penalty: 0.6910\n"
     ]
    },
    {
     "name": "stdout",
     "output_type": "stream",
     "text": [
      "[100/100]\ttest_main: 0.1219\ttest_main2: 0.1141\ttest_penalty: 0.6736048\r"
     ]
    },
    {
     "name": "stderr",
     "output_type": "stream",
     "text": [
      "[default |INFO|model.py:1303] [55/100]\ttest_main: 0.1219\ttest_main2: 0.1141\ttest_penalty: 0.6736\n"
     ]
    },
    {
     "name": "stdout",
     "output_type": "stream",
     "text": [
      "[100/100]\ttest_main: 0.1240\ttest_main2: 0.1611\ttest_penalty: 0.6524055\r"
     ]
    },
    {
     "name": "stderr",
     "output_type": "stream",
     "text": [
      "[default |INFO|model.py:1303] [56/100]\ttest_main: 0.1240\ttest_main2: 0.1611\ttest_penalty: 0.6524\n"
     ]
    },
    {
     "name": "stdout",
     "output_type": "stream",
     "text": [
      "[100/100]\ttest_main: 0.1246\ttest_main2: 0.1145\ttest_penalty: 0.6781043\r"
     ]
    },
    {
     "name": "stderr",
     "output_type": "stream",
     "text": [
      "[default |INFO|model.py:1303] [57/100]\ttest_main: 0.1246\ttest_main2: 0.1145\ttest_penalty: 0.6781\n"
     ]
    },
    {
     "name": "stdout",
     "output_type": "stream",
     "text": [
      "[100/100]\ttest_main: 0.1229\ttest_main2: 0.1222\ttest_penalty: 0.6456052\r"
     ]
    },
    {
     "name": "stderr",
     "output_type": "stream",
     "text": [
      "[default |INFO|model.py:1303] [58/100]\ttest_main: 0.1229\ttest_main2: 0.1222\ttest_penalty: 0.6456\n"
     ]
    },
    {
     "name": "stdout",
     "output_type": "stream",
     "text": [
      "[100/100]\ttest_main: 0.1241\ttest_main2: 0.1335\ttest_penalty: 0.6860059\r"
     ]
    },
    {
     "name": "stderr",
     "output_type": "stream",
     "text": [
      "[default |INFO|model.py:1303] [59/100]\ttest_main: 0.1241\ttest_main2: 0.1335\ttest_penalty: 0.6860\n"
     ]
    },
    {
     "name": "stdout",
     "output_type": "stream",
     "text": [
      "[100/100]\ttest_main: 0.1231\ttest_main2: 0.0791\ttest_penalty: 0.6684029\r"
     ]
    },
    {
     "name": "stderr",
     "output_type": "stream",
     "text": [
      "[default |INFO|model.py:1303] [60/100]\ttest_main: 0.1231\ttest_main2: 0.0791\ttest_penalty: 0.6684\n"
     ]
    },
    {
     "name": "stdout",
     "output_type": "stream",
     "text": [
      "[100/100]\ttest_main: 0.1243\ttest_main2: 0.1485\ttest_penalty: 0.6692027\r"
     ]
    },
    {
     "name": "stderr",
     "output_type": "stream",
     "text": [
      "[default |INFO|model.py:1303] [61/100]\ttest_main: 0.1243\ttest_main2: 0.1485\ttest_penalty: 0.6692\n"
     ]
    },
    {
     "name": "stdout",
     "output_type": "stream",
     "text": [
      "[99/100]\ttest_main: 0.1234\ttest_main2: 0.1257\ttest_penalty: 0.66527057\r"
     ]
    },
    {
     "name": "stderr",
     "output_type": "stream",
     "text": [
      "[default |INFO|model.py:1303] [62/100]\ttest_main: 0.1233\ttest_main2: 0.1251\ttest_penalty: 0.6652\n"
     ]
    },
    {
     "name": "stdout",
     "output_type": "stream",
     "text": [
      "[100/100]\ttest_main: 0.1230\ttest_main2: 0.0551\ttest_penalty: 0.6485055\r"
     ]
    },
    {
     "name": "stderr",
     "output_type": "stream",
     "text": [
      "[default |INFO|model.py:1303] [63/100]\ttest_main: 0.1230\ttest_main2: 0.0551\ttest_penalty: 0.6485\n"
     ]
    },
    {
     "name": "stdout",
     "output_type": "stream",
     "text": [
      "[100/100]\ttest_main: 0.1219\ttest_main2: 0.1387\ttest_penalty: 0.6881026\r"
     ]
    },
    {
     "name": "stderr",
     "output_type": "stream",
     "text": [
      "[default |INFO|model.py:1303] [64/100]\ttest_main: 0.1219\ttest_main2: 0.1387\ttest_penalty: 0.6881\n"
     ]
    },
    {
     "name": "stdout",
     "output_type": "stream",
     "text": [
      "[100/100]\ttest_main: 0.1212\ttest_main2: 0.1149\ttest_penalty: 0.6498050\r"
     ]
    },
    {
     "name": "stderr",
     "output_type": "stream",
     "text": [
      "[default |INFO|model.py:1303] [65/100]\ttest_main: 0.1212\ttest_main2: 0.1149\ttest_penalty: 0.6498\n"
     ]
    },
    {
     "name": "stdout",
     "output_type": "stream",
     "text": [
      "[100/100]\ttest_main: 0.1166\ttest_main2: 0.1239\ttest_penalty: 0.6743042\r"
     ]
    },
    {
     "name": "stderr",
     "output_type": "stream",
     "text": [
      "[default |INFO|model.py:1303] [66/100]\ttest_main: 0.1166\ttest_main2: 0.1239\ttest_penalty: 0.6743\n"
     ]
    },
    {
     "name": "stdout",
     "output_type": "stream",
     "text": [
      "[100/100]\ttest_main: 0.1242\ttest_main2: 0.0723\ttest_penalty: 0.6784051\r"
     ]
    },
    {
     "name": "stderr",
     "output_type": "stream",
     "text": [
      "[default |INFO|model.py:1303] [67/100]\ttest_main: 0.1242\ttest_main2: 0.0723\ttest_penalty: 0.6784\n"
     ]
    },
    {
     "name": "stdout",
     "output_type": "stream",
     "text": [
      "[95/100]\ttest_main: 0.1187\ttest_main2: 0.1545\ttest_penalty: 0.67247052\r"
     ]
    },
    {
     "name": "stderr",
     "output_type": "stream",
     "text": [
      "[default |INFO|model.py:1303] [68/100]\ttest_main: 0.1184\ttest_main2: 0.1532\ttest_penalty: 0.6726\n"
     ]
    },
    {
     "name": "stdout",
     "output_type": "stream",
     "text": [
      "[96/100]\ttest_main: 0.1225\ttest_main2: 0.1046\ttest_penalty: 0.67167041\r"
     ]
    },
    {
     "name": "stderr",
     "output_type": "stream",
     "text": [
      "[default |INFO|model.py:1303] [69/100]\ttest_main: 0.1223\ttest_main2: 0.1041\ttest_penalty: 0.6716\n"
     ]
    },
    {
     "name": "stdout",
     "output_type": "stream",
     "text": [
      "[99/100]\ttest_main: 0.1171\ttest_main2: 0.1202\ttest_penalty: 0.66147041\r"
     ]
    },
    {
     "name": "stderr",
     "output_type": "stream",
     "text": [
      "[default |INFO|model.py:1303] [70/100]\ttest_main: 0.1170\ttest_main2: 0.1210\ttest_penalty: 0.6614\n"
     ]
    },
    {
     "name": "stdout",
     "output_type": "stream",
     "text": [
      "[99/100]\ttest_main: 0.1192\ttest_main2: 0.0668\ttest_penalty: 0.68097045\r"
     ]
    },
    {
     "name": "stderr",
     "output_type": "stream",
     "text": [
      "[default |INFO|model.py:1303] [71/100]\ttest_main: 0.1191\ttest_main2: 0.0672\ttest_penalty: 0.6809\n"
     ]
    },
    {
     "name": "stdout",
     "output_type": "stream",
     "text": [
      "[100/100]\ttest_main: 0.1218\ttest_main2: 0.1550\ttest_penalty: 0.6777021\r"
     ]
    },
    {
     "name": "stderr",
     "output_type": "stream",
     "text": [
      "[default |INFO|model.py:1303] [72/100]\ttest_main: 0.1218\ttest_main2: 0.1550\ttest_penalty: 0.6777\n"
     ]
    },
    {
     "name": "stdout",
     "output_type": "stream",
     "text": [
      "[100/100]\ttest_main: 0.1262\ttest_main2: 0.0651\ttest_penalty: 0.6842040\r"
     ]
    },
    {
     "name": "stderr",
     "output_type": "stream",
     "text": [
      "[default |INFO|model.py:1303] [73/100]\ttest_main: 0.1262\ttest_main2: 0.0651\ttest_penalty: 0.6842\n"
     ]
    },
    {
     "name": "stdout",
     "output_type": "stream",
     "text": [
      "[100/100]\ttest_main: 0.1246\ttest_main2: 0.0457\ttest_penalty: 0.6987031\r"
     ]
    },
    {
     "name": "stderr",
     "output_type": "stream",
     "text": [
      "[default |INFO|model.py:1303] [74/100]\ttest_main: 0.1246\ttest_main2: 0.0457\ttest_penalty: 0.6987\n"
     ]
    },
    {
     "name": "stdout",
     "output_type": "stream",
     "text": [
      "[100/100]\ttest_main: 0.1190\ttest_main2: 0.0780\ttest_penalty: 0.6922027\r"
     ]
    },
    {
     "name": "stderr",
     "output_type": "stream",
     "text": [
      "[default |INFO|model.py:1303] [75/100]\ttest_main: 0.1190\ttest_main2: 0.0780\ttest_penalty: 0.6922\n"
     ]
    },
    {
     "name": "stdout",
     "output_type": "stream",
     "text": [
      "[100/100]\ttest_main: 0.1220\ttest_main2: 0.0854\ttest_penalty: 0.6528026\r"
     ]
    },
    {
     "name": "stderr",
     "output_type": "stream",
     "text": [
      "[default |INFO|model.py:1303] [76/100]\ttest_main: 0.1220\ttest_main2: 0.0854\ttest_penalty: 0.6528\n"
     ]
    },
    {
     "name": "stdout",
     "output_type": "stream",
     "text": [
      "[96/100]\ttest_main: 0.1162\ttest_main2: 0.1123\ttest_penalty: 0.66467008\r"
     ]
    },
    {
     "name": "stderr",
     "output_type": "stream",
     "text": [
      "[default |INFO|model.py:1303] [77/100]\ttest_main: 0.1159\ttest_main2: 0.1104\ttest_penalty: 0.6644\n"
     ]
    },
    {
     "name": "stdout",
     "output_type": "stream",
     "text": [
      "[100/100]\ttest_main: 0.1190\ttest_main2: 0.0535\ttest_penalty: 0.6740027\r"
     ]
    },
    {
     "name": "stderr",
     "output_type": "stream",
     "text": [
      "[default |INFO|model.py:1303] [78/100]\ttest_main: 0.1190\ttest_main2: 0.0535\ttest_penalty: 0.6740\n"
     ]
    },
    {
     "name": "stdout",
     "output_type": "stream",
     "text": [
      "[98/100]\ttest_main: 0.1180\ttest_main2: 0.0980\ttest_penalty: 0.69467032\r"
     ]
    },
    {
     "name": "stderr",
     "output_type": "stream",
     "text": [
      "[default |INFO|model.py:1303] [79/100]\ttest_main: 0.1180\ttest_main2: 0.0984\ttest_penalty: 0.6946\n"
     ]
    },
    {
     "name": "stdout",
     "output_type": "stream",
     "text": [
      "[89/100]\ttest_main: 0.1189\ttest_main2: 0.0830\ttest_penalty: 0.69317031\r"
     ]
    },
    {
     "name": "stderr",
     "output_type": "stream",
     "text": [
      "[default |INFO|model.py:1303] [80/100]\ttest_main: 0.1187\ttest_main2: 0.0816\ttest_penalty: 0.6925\n"
     ]
    },
    {
     "name": "stdout",
     "output_type": "stream",
     "text": [
      "[100/100]\ttest_main: 0.1180\ttest_main2: 0.0693\ttest_penalty: 0.6856007\r"
     ]
    },
    {
     "name": "stderr",
     "output_type": "stream",
     "text": [
      "[default |INFO|model.py:1303] [81/100]\ttest_main: 0.1180\ttest_main2: 0.0693\ttest_penalty: 0.6856\n"
     ]
    },
    {
     "name": "stdout",
     "output_type": "stream",
     "text": [
      "[100/100]\ttest_main: 0.1136\ttest_main2: 0.1022\ttest_penalty: 0.6658012\r"
     ]
    },
    {
     "name": "stderr",
     "output_type": "stream",
     "text": [
      "[default |INFO|model.py:1303] [82/100]\ttest_main: 0.1136\ttest_main2: 0.1022\ttest_penalty: 0.6658\n"
     ]
    },
    {
     "name": "stdout",
     "output_type": "stream",
     "text": [
      "[100/100]\ttest_main: 0.1161\ttest_main2: 0.1062\ttest_penalty: 0.6770005\r"
     ]
    },
    {
     "name": "stderr",
     "output_type": "stream",
     "text": [
      "[default |INFO|model.py:1303] [83/100]\ttest_main: 0.1161\ttest_main2: 0.1062\ttest_penalty: 0.6770\n"
     ]
    },
    {
     "name": "stdout",
     "output_type": "stream",
     "text": [
      "[100/100]\ttest_main: 0.1150\ttest_main2: 0.0786\ttest_penalty: 0.6940017\r"
     ]
    },
    {
     "name": "stderr",
     "output_type": "stream",
     "text": [
      "[default |INFO|model.py:1303] [84/100]\ttest_main: 0.1150\ttest_main2: 0.0786\ttest_penalty: 0.6940\n"
     ]
    },
    {
     "name": "stdout",
     "output_type": "stream",
     "text": [
      "[93/100]\ttest_main: 0.1110\ttest_main2: 0.1586\ttest_penalty: 0.68847004\r"
     ]
    },
    {
     "name": "stderr",
     "output_type": "stream",
     "text": [
      "[default |INFO|model.py:1303] [85/100]\ttest_main: 0.1112\ttest_main2: 0.1594\ttest_penalty: 0.6885\n"
     ]
    },
    {
     "name": "stdout",
     "output_type": "stream",
     "text": [
      "[98/100]\ttest_main: 0.1144\ttest_main2: 0.2146\ttest_penalty: 0.65337017\r"
     ]
    },
    {
     "name": "stderr",
     "output_type": "stream",
     "text": [
      "[default |INFO|model.py:1303] [86/100]\ttest_main: 0.1145\ttest_main2: 0.2173\ttest_penalty: 0.6533\n"
     ]
    },
    {
     "name": "stdout",
     "output_type": "stream",
     "text": [
      "[96/100]\ttest_main: 0.1137\ttest_main2: 0.0869\ttest_penalty: 0.66277010\r"
     ]
    },
    {
     "name": "stderr",
     "output_type": "stream",
     "text": [
      "[default |INFO|model.py:1303] [87/100]\ttest_main: 0.1136\ttest_main2: 0.0849\ttest_penalty: 0.6628\n"
     ]
    },
    {
     "name": "stdout",
     "output_type": "stream",
     "text": [
      "[91/100]\ttest_main: 0.1130\ttest_main2: 0.1051\ttest_penalty: 0.68607012\r"
     ]
    },
    {
     "name": "stderr",
     "output_type": "stream",
     "text": [
      "[default |INFO|model.py:1303] [88/100]\ttest_main: 0.1131\ttest_main2: 0.1015\ttest_penalty: 0.6859\n"
     ]
    },
    {
     "name": "stdout",
     "output_type": "stream",
     "text": [
      "[93/100]\ttest_main: 0.1151\ttest_main2: 0.0537\ttest_penalty: 0.68987003\r"
     ]
    },
    {
     "name": "stderr",
     "output_type": "stream",
     "text": [
      "[default |INFO|model.py:1303] [89/100]\ttest_main: 0.1148\ttest_main2: 0.0518\ttest_penalty: 0.6895\n"
     ]
    },
    {
     "name": "stdout",
     "output_type": "stream",
     "text": [
      "[90/100]\ttest_main: 0.1133\ttest_main2: 0.0705\ttest_penalty: 0.68417014\r"
     ]
    },
    {
     "name": "stderr",
     "output_type": "stream",
     "text": [
      "[default |INFO|model.py:1303] [90/100]\ttest_main: 0.1134\ttest_main2: 0.0756\ttest_penalty: 0.6840\n"
     ]
    },
    {
     "name": "stdout",
     "output_type": "stream",
     "text": [
      "[93/100]\ttest_main: 0.1153\ttest_main2: 0.0719\ttest_penalty: 0.68167011\r"
     ]
    },
    {
     "name": "stderr",
     "output_type": "stream",
     "text": [
      "[default |INFO|model.py:1303] [91/100]\ttest_main: 0.1156\ttest_main2: 0.0724\ttest_penalty: 0.6815\n"
     ]
    },
    {
     "name": "stdout",
     "output_type": "stream",
     "text": [
      "[89/100]\ttest_main: 0.1139\ttest_main2: 0.1125\ttest_penalty: 0.66247011\r"
     ]
    },
    {
     "name": "stderr",
     "output_type": "stream",
     "text": [
      "[default |INFO|model.py:1303] [92/100]\ttest_main: 0.1138\ttest_main2: 0.1124\ttest_penalty: 0.6625\n"
     ]
    },
    {
     "name": "stdout",
     "output_type": "stream",
     "text": [
      "[93/100]\ttest_main: 0.1137\ttest_main2: 0.0368\ttest_penalty: 0.67177004\r"
     ]
    },
    {
     "name": "stderr",
     "output_type": "stream",
     "text": [
      "[default |INFO|model.py:1303] [93/100]\ttest_main: 0.1141\ttest_main2: 0.0396\ttest_penalty: 0.6714\n"
     ]
    },
    {
     "name": "stdout",
     "output_type": "stream",
     "text": [
      "[93/100]\ttest_main: 0.1082\ttest_main2: 0.0762\ttest_penalty: 0.67867002\r"
     ]
    },
    {
     "name": "stderr",
     "output_type": "stream",
     "text": [
      "[default |INFO|model.py:1303] [94/100]\ttest_main: 0.1081\ttest_main2: 0.0775\ttest_penalty: 0.6786\n"
     ]
    },
    {
     "name": "stdout",
     "output_type": "stream",
     "text": [
      "[90/100]\ttest_main: 0.1155\ttest_main2: 0.0954\ttest_penalty: 0.67467015\r"
     ]
    },
    {
     "name": "stderr",
     "output_type": "stream",
     "text": [
      "[default |INFO|model.py:1303] [95/100]\ttest_main: 0.1152\ttest_main2: 0.0982\ttest_penalty: 0.6748\n"
     ]
    },
    {
     "name": "stdout",
     "output_type": "stream",
     "text": [
      "[94/100]\ttest_main: 0.1119\ttest_main2: 0.0596\ttest_penalty: 0.66567008\r"
     ]
    },
    {
     "name": "stderr",
     "output_type": "stream",
     "text": [
      "[default |INFO|model.py:1303] [96/100]\ttest_main: 0.1120\ttest_main2: 0.0620\ttest_penalty: 0.6656\n"
     ]
    },
    {
     "name": "stdout",
     "output_type": "stream",
     "text": [
      "[96/100]\ttest_main: 0.1106\ttest_main2: 0.0861\ttest_penalty: 0.70286996\r"
     ]
    },
    {
     "name": "stderr",
     "output_type": "stream",
     "text": [
      "[default |INFO|model.py:1303] [97/100]\ttest_main: 0.1107\ttest_main2: 0.0873\ttest_penalty: 0.7027\n"
     ]
    },
    {
     "name": "stdout",
     "output_type": "stream",
     "text": [
      "[94/100]\ttest_main: 0.1134\ttest_main2: 0.0872\ttest_penalty: 0.66977008\r"
     ]
    },
    {
     "name": "stderr",
     "output_type": "stream",
     "text": [
      "[default |INFO|model.py:1303] [98/100]\ttest_main: 0.1137\ttest_main2: 0.0880\ttest_penalty: 0.6695\n"
     ]
    },
    {
     "name": "stdout",
     "output_type": "stream",
     "text": [
      "[94/100]\ttest_main: 0.1093\ttest_main2: 0.1188\ttest_penalty: 0.68007001\r"
     ]
    },
    {
     "name": "stderr",
     "output_type": "stream",
     "text": [
      "[default |INFO|model.py:1303] [99/100]\ttest_main: 0.1093\ttest_main2: 0.1165\ttest_penalty: 0.6801\n"
     ]
    },
    {
     "name": "stdout",
     "output_type": "stream",
     "text": [
      "[95/100]\ttest_main: 0.1084\ttest_main2: 0.0822\ttest_penalty: 0.67656997\r"
     ]
    },
    {
     "name": "stderr",
     "output_type": "stream",
     "text": [
      "[default |INFO|model.py:1303] [100/100]\ttest_main: 0.1082\ttest_main2: 0.0810\ttest_penalty: 0.6765\n"
     ]
    },
    {
     "name": "stdout",
     "output_type": "stream",
     "text": [
      "[96/100]\ttest_main: 0.1084\ttest_main2: 0.0822\ttest_penalty: 0.6765\r",
      "[97/100]\ttest_main: 0.1083\ttest_main2: 0.0823\ttest_penalty: 0.6764\r",
      "[98/100]\ttest_main: 0.1082\ttest_main2: 0.0821\ttest_penalty: 0.6765\r",
      "[99/100]\ttest_main: 0.1083\ttest_main2: 0.0816\ttest_penalty: 0.6765\r",
      "[100/100]\ttest_main: 0.1082\ttest_main2: 0.0810\ttest_penalty: 0.6765\r"
     ]
    },
    {
     "name": "stderr",
     "output_type": "stream",
     "text": [
      "[default |INFO|model.py:1409] Training Finished!\n",
      "[default |INFO|model.py:1410] Elapsed time: 1024.909s\n"
     ]
    }
   ],
   "source": [
    "model = SSWAE_GAN_MNIST(cfg, log, device = device)\n",
    "model.train()\n",
    "# model.train(resume = True)"
   ]
  },
  {
   "cell_type": "code",
   "execution_count": 5,
   "metadata": {},
   "outputs": [
    {
     "name": "stdout",
     "output_type": "stream",
     "text": [
      "0.592\n"
     ]
    }
   ],
   "source": [
    "acc, n = 0, 0\n",
    "for data, condition in test_generator:\n",
    "    x = data.to(device)\n",
    "    y = condition.to(device)\n",
    "    fake_latent = model.encode_s(x)\n",
    "    recon = model.decode(fake_latent)\n",
    "    recon_y = model.decode_c(fake_latent)\n",
    "    acc += torch.sum(torch.max(recon_y, 1)[1] == 3).item() # 3 for unk\n",
    "    n += len(x)\n",
    "print(acc/n)"
   ]
  },
  {
   "cell_type": "markdown",
   "metadata": {},
   "source": [
    "### Case 2. Batch1 = 100, Batch2 = 75"
   ]
  },
  {
   "cell_type": "code",
   "execution_count": 6,
   "metadata": {
    "scrolled": true
   },
   "outputs": [
    {
     "data": {
      "text/plain": [
       "['./config/train_config_sswae_gan5-2.cfg']"
      ]
     },
     "execution_count": 6,
     "metadata": {},
     "output_type": "execute_result"
    }
   ],
   "source": [
    "cfg = configparser.ConfigParser()\n",
    "cfg.read('./config/train_config_sswae_gan5-2.cfg')"
   ]
  },
  {
   "cell_type": "code",
   "execution_count": 7,
   "metadata": {
    "collapsed": true
   },
   "outputs": [
    {
     "name": "stderr",
     "output_type": "stream",
     "text": [
      "[default |INFO|_base_model.py:25] ------------------------------------------------------------\n",
      "[default |INFO|_base_model.py:27] model_name : SSWAE_GAN_MNIST\n",
      "[default |INFO|_base_model.py:27] train_data : rmMNIST\n",
      "[default |INFO|_base_model.py:27] train_data_label : True\n",
      "[default |INFO|_base_model.py:27] z_sampler : gaus\n",
      "[default |INFO|_base_model.py:27] z_dim : 6\n",
      "[default |INFO|_base_model.py:27] yz_dim : 2\n",
      "[default |INFO|_base_model.py:27] y_sampler : multinomial\n",
      "[default |INFO|_base_model.py:27] y_dim : 4\n",
      "[default |INFO|_base_model.py:27] labeled_class : 1, 3, 5\n",
      "[default |INFO|_base_model.py:27] unlabeled_class : 0, 4, 6, 7, 8, 9\n",
      "[default |INFO|_base_model.py:27] test_class : 2\n",
      "[default |INFO|_base_model.py:27] classification_weight : \n",
      "[default |INFO|_base_model.py:27] encoder_pretrain : False\n",
      "[default |INFO|_base_model.py:27] lr : 5e-4\n",
      "[default |INFO|_base_model.py:27] beta1 : 0.5\n",
      "[default |INFO|_base_model.py:27] lr_adv : 2e-4\n",
      "[default |INFO|_base_model.py:27] beta1_adv : 0.5\n",
      "[default |INFO|_base_model.py:27] lambda : 10.0\n",
      "[default |INFO|_base_model.py:27] lambda2 : 10.0\n",
      "[default |INFO|_base_model.py:27] lr_schedule : manual\n",
      "[default |INFO|_base_model.py:27] validate : True\n",
      "[default |INFO|_base_model.py:27] histogram : True\n",
      "[default |INFO|_base_model.py:27] batch_size1 : 100\n",
      "[default |INFO|_base_model.py:27] batch_size2 : 75\n",
      "[default |INFO|_base_model.py:27] epoch : 100\n",
      "[default |INFO|_base_model.py:27] replace : False\n",
      "[default |INFO|_base_model.py:27] iter_per_epoch : None\n",
      "[default |INFO|_base_model.py:27] save_best : False\n",
      "[default |INFO|_base_model.py:30] data_home2 : ./data/MNIST\n",
      "[default |INFO|_base_model.py:30] tb_logs : ./result/tb_logs/sswae_gan5-2\n",
      "[default |INFO|_base_model.py:30] save_path : ./result/weights/sswae_gan5-2.pt\n",
      "[default |INFO|_base_model.py:30] save_state : ./result/states/state_sswae_gan5-2.pt\n",
      "[default |INFO|_base_model.py:30] save_img_path : \n",
      "[default |INFO|model.py:1149] ------------------------------------------------------------\n",
      "[default |INFO|model.py:1150] Training Start!\n"
     ]
    },
    {
     "name": "stdout",
     "output_type": "stream",
     "text": [
      "[94/100]\ttest_main: 0.2375\ttest_main2: 0.6424\ttest_penalty: 0.61247206\r"
     ]
    },
    {
     "name": "stderr",
     "output_type": "stream",
     "text": [
      "[default |INFO|model.py:1303] [1/100]\ttest_main: 0.2374\ttest_main2: 0.6423\ttest_penalty: 0.6124\n"
     ]
    },
    {
     "name": "stdout",
     "output_type": "stream",
     "text": [
      "[96/100]\ttest_main: 0.1968\ttest_main2: 0.5545\ttest_penalty: 0.55298748\r"
     ]
    },
    {
     "name": "stderr",
     "output_type": "stream",
     "text": [
      "[default |INFO|model.py:1303] [2/100]\ttest_main: 0.1969\ttest_main2: 0.5547\ttest_penalty: 0.5529\n"
     ]
    },
    {
     "name": "stdout",
     "output_type": "stream",
     "text": [
      "[95/100]\ttest_main: 0.2023\ttest_main2: 0.4856\ttest_penalty: 0.54499983\r"
     ]
    },
    {
     "name": "stderr",
     "output_type": "stream",
     "text": [
      "[default |INFO|model.py:1303] [3/100]\ttest_main: 0.2023\ttest_main2: 0.4859\ttest_penalty: 0.5449\n"
     ]
    },
    {
     "name": "stdout",
     "output_type": "stream",
     "text": [
      "[93/100]\ttest_main: 0.2109\ttest_main2: 0.4013\ttest_penalty: 0.56199766\r"
     ]
    },
    {
     "name": "stderr",
     "output_type": "stream",
     "text": [
      "[default |INFO|model.py:1303] [4/100]\ttest_main: 0.2111\ttest_main2: 0.4017\ttest_penalty: 0.5619\n"
     ]
    },
    {
     "name": "stdout",
     "output_type": "stream",
     "text": [
      "[94/100]\ttest_main: 0.2306\ttest_main2: 0.3371\ttest_penalty: 0.73329908\r"
     ]
    },
    {
     "name": "stderr",
     "output_type": "stream",
     "text": [
      "[default |INFO|model.py:1303] [5/100]\ttest_main: 0.2306\ttest_main2: 0.3369\ttest_penalty: 0.7332\n"
     ]
    },
    {
     "name": "stdout",
     "output_type": "stream",
     "text": [
      "[93/100]\ttest_main: 0.2183\ttest_main2: 0.2513\ttest_penalty: 0.59848940\r"
     ]
    },
    {
     "name": "stderr",
     "output_type": "stream",
     "text": [
      "[default |INFO|model.py:1303] [6/100]\ttest_main: 0.2182\ttest_main2: 0.2514\ttest_penalty: 0.5984\n"
     ]
    },
    {
     "name": "stdout",
     "output_type": "stream",
     "text": [
      "[93/100]\ttest_main: 0.2476\ttest_main2: 0.2458\ttest_penalty: 0.59319112\r"
     ]
    },
    {
     "name": "stderr",
     "output_type": "stream",
     "text": [
      "[default |INFO|model.py:1303] [7/100]\ttest_main: 0.2480\ttest_main2: 0.2463\ttest_penalty: 0.5931\n"
     ]
    },
    {
     "name": "stdout",
     "output_type": "stream",
     "text": [
      "[95/100]\ttest_main: 0.1969\ttest_main2: 0.1976\ttest_penalty: 0.61498853\r"
     ]
    },
    {
     "name": "stderr",
     "output_type": "stream",
     "text": [
      "[default |INFO|model.py:1303] [8/100]\ttest_main: 0.1967\ttest_main2: 0.1975\ttest_penalty: 0.6149\n"
     ]
    },
    {
     "name": "stdout",
     "output_type": "stream",
     "text": [
      "[89/100]\ttest_main: 0.1803\ttest_main2: 0.1502\ttest_penalty: 0.59528798\r"
     ]
    },
    {
     "name": "stderr",
     "output_type": "stream",
     "text": [
      "[default |INFO|model.py:1303] [9/100]\ttest_main: 0.1802\ttest_main2: 0.1502\ttest_penalty: 0.5952\n"
     ]
    },
    {
     "name": "stdout",
     "output_type": "stream",
     "text": [
      "[96/100]\ttest_main: 0.2266\ttest_main2: 0.2231\ttest_penalty: 0.69799437\r"
     ]
    },
    {
     "name": "stderr",
     "output_type": "stream",
     "text": [
      "[default |INFO|model.py:1303] [10/100]\ttest_main: 0.2264\ttest_main2: 0.2224\ttest_penalty: 0.6974\n"
     ]
    },
    {
     "name": "stdout",
     "output_type": "stream",
     "text": [
      "[93/100]\ttest_main: 0.2038\ttest_main2: 0.2329\ttest_penalty: 0.69479663\r"
     ]
    },
    {
     "name": "stderr",
     "output_type": "stream",
     "text": [
      "[default |INFO|model.py:1303] [11/100]\ttest_main: 0.2039\ttest_main2: 0.2312\ttest_penalty: 0.6947\n"
     ]
    },
    {
     "name": "stdout",
     "output_type": "stream",
     "text": [
      "[92/100]\ttest_main: 0.1863\ttest_main2: 0.1362\ttest_penalty: 0.64719277\r"
     ]
    },
    {
     "name": "stderr",
     "output_type": "stream",
     "text": [
      "[default |INFO|model.py:1303] [12/100]\ttest_main: 0.1864\ttest_main2: 0.1354\ttest_penalty: 0.6469\n"
     ]
    },
    {
     "name": "stdout",
     "output_type": "stream",
     "text": [
      "[95/100]\ttest_main: 0.1941\ttest_main2: 0.1695\ttest_penalty: 0.75199355\r"
     ]
    },
    {
     "name": "stderr",
     "output_type": "stream",
     "text": [
      "[default |INFO|model.py:1303] [13/100]\ttest_main: 0.1942\ttest_main2: 0.1679\ttest_penalty: 0.7523\n"
     ]
    },
    {
     "name": "stdout",
     "output_type": "stream",
     "text": [
      "[94/100]\ttest_main: 0.1801\ttest_main2: 0.0991\ttest_penalty: 0.65678760\r"
     ]
    },
    {
     "name": "stderr",
     "output_type": "stream",
     "text": [
      "[default |INFO|model.py:1303] [14/100]\ttest_main: 0.1801\ttest_main2: 0.0991\ttest_penalty: 0.6564\n"
     ]
    },
    {
     "name": "stdout",
     "output_type": "stream",
     "text": [
      "[93/100]\ttest_main: 0.1792\ttest_main2: 0.1207\ttest_penalty: 0.53868522\r"
     ]
    },
    {
     "name": "stderr",
     "output_type": "stream",
     "text": [
      "[default |INFO|model.py:1303] [15/100]\ttest_main: 0.1791\ttest_main2: 0.1216\ttest_penalty: 0.5390\n"
     ]
    },
    {
     "name": "stdout",
     "output_type": "stream",
     "text": [
      "[97/100]\ttest_main: 0.1719\ttest_main2: 0.1417\ttest_penalty: 0.69498222\r"
     ]
    },
    {
     "name": "stderr",
     "output_type": "stream",
     "text": [
      "[default |INFO|model.py:1303] [16/100]\ttest_main: 0.1719\ttest_main2: 0.1414\ttest_penalty: 0.6950\n"
     ]
    },
    {
     "name": "stdout",
     "output_type": "stream",
     "text": [
      "[91/100]\ttest_main: 0.1691\ttest_main2: 0.0689\ttest_penalty: 0.66228394\r"
     ]
    },
    {
     "name": "stderr",
     "output_type": "stream",
     "text": [
      "[default |INFO|model.py:1303] [17/100]\ttest_main: 0.1692\ttest_main2: 0.0698\ttest_penalty: 0.6622\n"
     ]
    },
    {
     "name": "stdout",
     "output_type": "stream",
     "text": [
      "[94/100]\ttest_main: 0.1817\ttest_main2: 0.0877\ttest_penalty: 0.65928565\r"
     ]
    },
    {
     "name": "stderr",
     "output_type": "stream",
     "text": [
      "[default |INFO|model.py:1303] [18/100]\ttest_main: 0.1819\ttest_main2: 0.0875\ttest_penalty: 0.6591\n"
     ]
    },
    {
     "name": "stdout",
     "output_type": "stream",
     "text": [
      "[96/100]\ttest_main: 0.1706\ttest_main2: 0.0659\ttest_penalty: 0.61318358\r"
     ]
    },
    {
     "name": "stderr",
     "output_type": "stream",
     "text": [
      "[default |INFO|model.py:1303] [19/100]\ttest_main: 0.1706\ttest_main2: 0.0660\ttest_penalty: 0.6137\n"
     ]
    },
    {
     "name": "stdout",
     "output_type": "stream",
     "text": [
      "[92/100]\ttest_main: 0.1702\ttest_main2: 0.1040\ttest_penalty: 0.65268407\r"
     ]
    },
    {
     "name": "stderr",
     "output_type": "stream",
     "text": [
      "[default |INFO|model.py:1303] [20/100]\ttest_main: 0.1700\ttest_main2: 0.1028\ttest_penalty: 0.6527\n"
     ]
    },
    {
     "name": "stdout",
     "output_type": "stream",
     "text": [
      "[93/100]\ttest_main: 0.1602\ttest_main2: 0.1311\ttest_penalty: 0.62398347\r"
     ]
    },
    {
     "name": "stderr",
     "output_type": "stream",
     "text": [
      "[default |INFO|model.py:1303] [21/100]\ttest_main: 0.1604\ttest_main2: 0.1327\ttest_penalty: 0.6240\n"
     ]
    },
    {
     "name": "stdout",
     "output_type": "stream",
     "text": [
      "[94/100]\ttest_main: 0.1713\ttest_main2: 0.1070\ttest_penalty: 0.57778371\r"
     ]
    },
    {
     "name": "stderr",
     "output_type": "stream",
     "text": [
      "[default |INFO|model.py:1303] [22/100]\ttest_main: 0.1716\ttest_main2: 0.1053\ttest_penalty: 0.5781\n"
     ]
    },
    {
     "name": "stdout",
     "output_type": "stream",
     "text": [
      "[94/100]\ttest_main: 0.1662\ttest_main2: 0.1366\ttest_penalty: 0.63298533\r"
     ]
    },
    {
     "name": "stderr",
     "output_type": "stream",
     "text": [
      "[default |INFO|model.py:1303] [23/100]\ttest_main: 0.1665\ttest_main2: 0.1333\ttest_penalty: 0.6330\n"
     ]
    },
    {
     "name": "stdout",
     "output_type": "stream",
     "text": [
      "[93/100]\ttest_main: 0.1566\ttest_main2: 0.0895\ttest_penalty: 0.58508343\r"
     ]
    },
    {
     "name": "stderr",
     "output_type": "stream",
     "text": [
      "[default |INFO|model.py:1303] [24/100]\ttest_main: 0.1567\ttest_main2: 0.0922\ttest_penalty: 0.5852\n"
     ]
    },
    {
     "name": "stdout",
     "output_type": "stream",
     "text": [
      "[93/100]\ttest_main: 0.1527\ttest_main2: 0.0710\ttest_penalty: 0.64488247\r"
     ]
    },
    {
     "name": "stderr",
     "output_type": "stream",
     "text": [
      "[default |INFO|model.py:1303] [25/100]\ttest_main: 0.1529\ttest_main2: 0.0709\ttest_penalty: 0.6442\n"
     ]
    },
    {
     "name": "stdout",
     "output_type": "stream",
     "text": [
      "[93/100]\ttest_main: 0.1568\ttest_main2: 0.0553\ttest_penalty: 0.63938067\r"
     ]
    },
    {
     "name": "stderr",
     "output_type": "stream",
     "text": [
      "[default |INFO|model.py:1303] [26/100]\ttest_main: 0.1569\ttest_main2: 0.0552\ttest_penalty: 0.6395\n"
     ]
    },
    {
     "name": "stdout",
     "output_type": "stream",
     "text": [
      "[93/100]\ttest_main: 0.1592\ttest_main2: 0.0811\ttest_penalty: 0.66867969\r"
     ]
    },
    {
     "name": "stderr",
     "output_type": "stream",
     "text": [
      "[default |INFO|model.py:1303] [27/100]\ttest_main: 0.1588\ttest_main2: 0.0810\ttest_penalty: 0.6680\n"
     ]
    },
    {
     "name": "stdout",
     "output_type": "stream",
     "text": [
      "[94/100]\ttest_main: 0.1494\ttest_main2: 0.0744\ttest_penalty: 0.64897932\r"
     ]
    },
    {
     "name": "stderr",
     "output_type": "stream",
     "text": [
      "[default |INFO|model.py:1303] [28/100]\ttest_main: 0.1495\ttest_main2: 0.0754\ttest_penalty: 0.6493\n"
     ]
    },
    {
     "name": "stdout",
     "output_type": "stream",
     "text": [
      "[94/100]\ttest_main: 0.1484\ttest_main2: 0.1036\ttest_penalty: 0.64177805\r"
     ]
    },
    {
     "name": "stderr",
     "output_type": "stream",
     "text": [
      "[default |INFO|model.py:1303] [29/100]\ttest_main: 0.1486\ttest_main2: 0.1027\ttest_penalty: 0.6417\n"
     ]
    },
    {
     "name": "stdout",
     "output_type": "stream",
     "text": [
      "[91/100]\ttest_main: 0.1536\ttest_main2: 0.1400\ttest_penalty: 0.60507806\r"
     ]
    },
    {
     "name": "stderr",
     "output_type": "stream",
     "text": [
      "[default |INFO|model.py:1303] [30/100]\ttest_main: 0.1536\ttest_main2: 0.1394\ttest_penalty: 0.6048\n"
     ]
    },
    {
     "name": "stdout",
     "output_type": "stream",
     "text": [
      "[95/100]\ttest_main: 0.1488\ttest_main2: 0.1103\ttest_penalty: 0.69617765\r"
     ]
    },
    {
     "name": "stderr",
     "output_type": "stream",
     "text": [
      "[default |INFO|model.py:1303] [31/100]\ttest_main: 0.1488\ttest_main2: 0.1077\ttest_penalty: 0.6961\n"
     ]
    },
    {
     "name": "stdout",
     "output_type": "stream",
     "text": [
      "[96/100]\ttest_main: 0.1605\ttest_main2: 0.0430\ttest_penalty: 0.64557827\r"
     ]
    },
    {
     "name": "stderr",
     "output_type": "stream",
     "text": [
      "[default |INFO|model.py:1303] [32/100]\ttest_main: 0.1601\ttest_main2: 0.0421\ttest_penalty: 0.6455\n"
     ]
    },
    {
     "name": "stdout",
     "output_type": "stream",
     "text": [
      "[95/100]\ttest_main: 0.1530\ttest_main2: 0.0602\ttest_penalty: 0.68527730\r"
     ]
    },
    {
     "name": "stderr",
     "output_type": "stream",
     "text": [
      "[default |INFO|model.py:1303] [33/100]\ttest_main: 0.1533\ttest_main2: 0.0604\ttest_penalty: 0.6854\n"
     ]
    },
    {
     "name": "stdout",
     "output_type": "stream",
     "text": [
      "[93/100]\ttest_main: 0.1534\ttest_main2: 0.0527\ttest_penalty: 0.70667674\r"
     ]
    },
    {
     "name": "stderr",
     "output_type": "stream",
     "text": [
      "[default |INFO|model.py:1303] [34/100]\ttest_main: 0.1529\ttest_main2: 0.0527\ttest_penalty: 0.7068\n"
     ]
    },
    {
     "name": "stdout",
     "output_type": "stream",
     "text": [
      "[94/100]\ttest_main: 0.1537\ttest_main2: 0.0467\ttest_penalty: 0.62917674\r"
     ]
    },
    {
     "name": "stderr",
     "output_type": "stream",
     "text": [
      "[default |INFO|model.py:1303] [35/100]\ttest_main: 0.1536\ttest_main2: 0.0455\ttest_penalty: 0.6290\n"
     ]
    },
    {
     "name": "stdout",
     "output_type": "stream",
     "text": [
      "[96/100]\ttest_main: 0.1563\ttest_main2: 0.0334\ttest_penalty: 0.69297627\r"
     ]
    },
    {
     "name": "stderr",
     "output_type": "stream",
     "text": [
      "[default |INFO|model.py:1303] [36/100]\ttest_main: 0.1565\ttest_main2: 0.0374\ttest_penalty: 0.6929\n"
     ]
    },
    {
     "name": "stdout",
     "output_type": "stream",
     "text": [
      "[94/100]\ttest_main: 0.1425\ttest_main2: 0.0771\ttest_penalty: 0.71537546\r"
     ]
    },
    {
     "name": "stderr",
     "output_type": "stream",
     "text": [
      "[default |INFO|model.py:1303] [37/100]\ttest_main: 0.1428\ttest_main2: 0.0778\ttest_penalty: 0.7153\n"
     ]
    },
    {
     "name": "stdout",
     "output_type": "stream",
     "text": [
      "[96/100]\ttest_main: 0.1400\ttest_main2: 0.0622\ttest_penalty: 0.70507607\r"
     ]
    },
    {
     "name": "stderr",
     "output_type": "stream",
     "text": [
      "[default |INFO|model.py:1303] [38/100]\ttest_main: 0.1399\ttest_main2: 0.0634\ttest_penalty: 0.7052\n"
     ]
    },
    {
     "name": "stdout",
     "output_type": "stream",
     "text": [
      "[95/100]\ttest_main: 0.1478\ttest_main2: 0.1465\ttest_penalty: 0.66667470\r"
     ]
    },
    {
     "name": "stderr",
     "output_type": "stream",
     "text": [
      "[default |INFO|model.py:1303] [39/100]\ttest_main: 0.1475\ttest_main2: 0.1457\ttest_penalty: 0.6666\n"
     ]
    },
    {
     "name": "stdout",
     "output_type": "stream",
     "text": [
      "[94/100]\ttest_main: 0.1422\ttest_main2: 0.0590\ttest_penalty: 0.62667381\r"
     ]
    },
    {
     "name": "stderr",
     "output_type": "stream",
     "text": [
      "[default |INFO|model.py:1303] [40/100]\ttest_main: 0.1418\ttest_main2: 0.0572\ttest_penalty: 0.6265\n"
     ]
    },
    {
     "name": "stdout",
     "output_type": "stream",
     "text": [
      "[94/100]\ttest_main: 0.1420\ttest_main2: 0.0456\ttest_penalty: 0.69097431\r"
     ]
    },
    {
     "name": "stderr",
     "output_type": "stream",
     "text": [
      "[default |INFO|model.py:1303] [41/100]\ttest_main: 0.1416\ttest_main2: 0.0455\ttest_penalty: 0.6908\n"
     ]
    },
    {
     "name": "stdout",
     "output_type": "stream",
     "text": [
      "[93/100]\ttest_main: 0.1393\ttest_main2: 0.0668\ttest_penalty: 0.66977468\r"
     ]
    },
    {
     "name": "stderr",
     "output_type": "stream",
     "text": [
      "[default |INFO|model.py:1303] [42/100]\ttest_main: 0.1390\ttest_main2: 0.0667\ttest_penalty: 0.6694\n"
     ]
    },
    {
     "name": "stdout",
     "output_type": "stream",
     "text": [
      "[93/100]\ttest_main: 0.1377\ttest_main2: 0.0751\ttest_penalty: 0.60637320\r"
     ]
    },
    {
     "name": "stderr",
     "output_type": "stream",
     "text": [
      "[default |INFO|model.py:1303] [43/100]\ttest_main: 0.1376\ttest_main2: 0.0738\ttest_penalty: 0.6070\n"
     ]
    },
    {
     "name": "stdout",
     "output_type": "stream",
     "text": [
      "[95/100]\ttest_main: 0.1340\ttest_main2: 0.1277\ttest_penalty: 0.64877424\r"
     ]
    },
    {
     "name": "stderr",
     "output_type": "stream",
     "text": [
      "[default |INFO|model.py:1303] [44/100]\ttest_main: 0.1343\ttest_main2: 0.1314\ttest_penalty: 0.6489\n"
     ]
    },
    {
     "name": "stdout",
     "output_type": "stream",
     "text": [
      "[92/100]\ttest_main: 0.1330\ttest_main2: 0.0554\ttest_penalty: 0.64007386\r"
     ]
    },
    {
     "name": "stderr",
     "output_type": "stream",
     "text": [
      "[default |INFO|model.py:1303] [45/100]\ttest_main: 0.1333\ttest_main2: 0.0561\ttest_penalty: 0.6398\n"
     ]
    },
    {
     "name": "stdout",
     "output_type": "stream",
     "text": [
      "[93/100]\ttest_main: 0.1395\ttest_main2: 0.0572\ttest_penalty: 0.70317341\r"
     ]
    },
    {
     "name": "stderr",
     "output_type": "stream",
     "text": [
      "[default |INFO|model.py:1303] [46/100]\ttest_main: 0.1396\ttest_main2: 0.0576\ttest_penalty: 0.7033\n"
     ]
    },
    {
     "name": "stdout",
     "output_type": "stream",
     "text": [
      "[93/100]\ttest_main: 0.1440\ttest_main2: 0.0575\ttest_penalty: 0.67467360\r"
     ]
    },
    {
     "name": "stderr",
     "output_type": "stream",
     "text": [
      "[default |INFO|model.py:1303] [47/100]\ttest_main: 0.1440\ttest_main2: 0.0584\ttest_penalty: 0.6746\n"
     ]
    },
    {
     "name": "stdout",
     "output_type": "stream",
     "text": [
      "[93/100]\ttest_main: 0.1376\ttest_main2: 0.0662\ttest_penalty: 0.70957347\r"
     ]
    },
    {
     "name": "stderr",
     "output_type": "stream",
     "text": [
      "[default |INFO|model.py:1303] [48/100]\ttest_main: 0.1373\ttest_main2: 0.0644\ttest_penalty: 0.7097\n"
     ]
    },
    {
     "name": "stdout",
     "output_type": "stream",
     "text": [
      "[97/100]\ttest_main: 0.1321\ttest_main2: 0.0546\ttest_penalty: 0.68227236\r"
     ]
    },
    {
     "name": "stderr",
     "output_type": "stream",
     "text": [
      "[default |INFO|model.py:1303] [49/100]\ttest_main: 0.1319\ttest_main2: 0.0538\ttest_penalty: 0.6820\n"
     ]
    },
    {
     "name": "stdout",
     "output_type": "stream",
     "text": [
      "[94/100]\ttest_main: 0.1301\ttest_main2: 0.0825\ttest_penalty: 0.70987294\r"
     ]
    },
    {
     "name": "stderr",
     "output_type": "stream",
     "text": [
      "[default |INFO|model.py:1303] [50/100]\ttest_main: 0.1298\ttest_main2: 0.0848\ttest_penalty: 0.7096\n"
     ]
    },
    {
     "name": "stdout",
     "output_type": "stream",
     "text": [
      "[96/100]\ttest_main: 0.1302\ttest_main2: 0.0838\ttest_penalty: 0.63847245\r"
     ]
    },
    {
     "name": "stderr",
     "output_type": "stream",
     "text": [
      "[default |INFO|model.py:1303] [51/100]\ttest_main: 0.1299\ttest_main2: 0.0817\ttest_penalty: 0.6383\n"
     ]
    },
    {
     "name": "stdout",
     "output_type": "stream",
     "text": [
      "[94/100]\ttest_main: 0.1400\ttest_main2: 0.0185\ttest_penalty: 0.66597292\r"
     ]
    },
    {
     "name": "stderr",
     "output_type": "stream",
     "text": [
      "[default |INFO|model.py:1303] [52/100]\ttest_main: 0.1399\ttest_main2: 0.0187\ttest_penalty: 0.6656\n"
     ]
    },
    {
     "name": "stdout",
     "output_type": "stream",
     "text": [
      "[91/100]\ttest_main: 0.1344\ttest_main2: 0.0318\ttest_penalty: 0.65727196\r"
     ]
    },
    {
     "name": "stderr",
     "output_type": "stream",
     "text": [
      "[default |INFO|model.py:1303] [53/100]\ttest_main: 0.1342\ttest_main2: 0.0321\ttest_penalty: 0.6572\n"
     ]
    },
    {
     "name": "stdout",
     "output_type": "stream",
     "text": [
      "[98/100]\ttest_main: 0.1305\ttest_main2: 0.0518\ttest_penalty: 0.67417241\r"
     ]
    },
    {
     "name": "stderr",
     "output_type": "stream",
     "text": [
      "[default |INFO|model.py:1303] [54/100]\ttest_main: 0.1306\ttest_main2: 0.0515\ttest_penalty: 0.6741\n"
     ]
    },
    {
     "name": "stdout",
     "output_type": "stream",
     "text": [
      "[97/100]\ttest_main: 0.1240\ttest_main2: 0.0681\ttest_penalty: 0.68737121\r"
     ]
    },
    {
     "name": "stderr",
     "output_type": "stream",
     "text": [
      "[default |INFO|model.py:1303] [55/100]\ttest_main: 0.1241\ttest_main2: 0.0678\ttest_penalty: 0.6873\n"
     ]
    },
    {
     "name": "stdout",
     "output_type": "stream",
     "text": [
      "[95/100]\ttest_main: 0.1267\ttest_main2: 0.0450\ttest_penalty: 0.68857190\r"
     ]
    },
    {
     "name": "stderr",
     "output_type": "stream",
     "text": [
      "[default |INFO|model.py:1303] [56/100]\ttest_main: 0.1268\ttest_main2: 0.0447\ttest_penalty: 0.6885\n"
     ]
    },
    {
     "name": "stdout",
     "output_type": "stream",
     "text": [
      "[96/100]\ttest_main: 0.1290\ttest_main2: 0.1698\ttest_penalty: 0.65827148\r"
     ]
    },
    {
     "name": "stderr",
     "output_type": "stream",
     "text": [
      "[default |INFO|model.py:1303] [57/100]\ttest_main: 0.1291\ttest_main2: 0.1700\ttest_penalty: 0.6584\n"
     ]
    },
    {
     "name": "stdout",
     "output_type": "stream",
     "text": [
      "[96/100]\ttest_main: 0.1268\ttest_main2: 0.0432\ttest_penalty: 0.66767147\r"
     ]
    },
    {
     "name": "stderr",
     "output_type": "stream",
     "text": [
      "[default |INFO|model.py:1303] [58/100]\ttest_main: 0.1270\ttest_main2: 0.0433\ttest_penalty: 0.6677\n"
     ]
    },
    {
     "name": "stdout",
     "output_type": "stream",
     "text": [
      "[96/100]\ttest_main: 0.1238\ttest_main2: 0.0512\ttest_penalty: 0.64677123\r"
     ]
    },
    {
     "name": "stderr",
     "output_type": "stream",
     "text": [
      "[default |INFO|model.py:1303] [59/100]\ttest_main: 0.1235\ttest_main2: 0.0502\ttest_penalty: 0.6467\n"
     ]
    },
    {
     "name": "stdout",
     "output_type": "stream",
     "text": [
      "[94/100]\ttest_main: 0.1240\ttest_main2: 0.1328\ttest_penalty: 0.67837182\r"
     ]
    },
    {
     "name": "stderr",
     "output_type": "stream",
     "text": [
      "[default |INFO|model.py:1303] [60/100]\ttest_main: 0.1244\ttest_main2: 0.1341\ttest_penalty: 0.6782\n"
     ]
    },
    {
     "name": "stdout",
     "output_type": "stream",
     "text": [
      "[96/100]\ttest_main: 0.1230\ttest_main2: 0.0977\ttest_penalty: 0.68277113\r"
     ]
    },
    {
     "name": "stderr",
     "output_type": "stream",
     "text": [
      "[default |INFO|model.py:1303] [61/100]\ttest_main: 0.1229\ttest_main2: 0.0975\ttest_penalty: 0.6828\n"
     ]
    },
    {
     "name": "stdout",
     "output_type": "stream",
     "text": [
      "[95/100]\ttest_main: 0.1195\ttest_main2: 0.0787\ttest_penalty: 0.66127172\r"
     ]
    },
    {
     "name": "stderr",
     "output_type": "stream",
     "text": [
      "[default |INFO|model.py:1303] [62/100]\ttest_main: 0.1195\ttest_main2: 0.0796\ttest_penalty: 0.6615\n"
     ]
    },
    {
     "name": "stdout",
     "output_type": "stream",
     "text": [
      "[93/100]\ttest_main: 0.1195\ttest_main2: 0.0876\ttest_penalty: 0.68307132\r"
     ]
    },
    {
     "name": "stderr",
     "output_type": "stream",
     "text": [
      "[default |INFO|model.py:1303] [63/100]\ttest_main: 0.1195\ttest_main2: 0.0851\ttest_penalty: 0.6830\n"
     ]
    },
    {
     "name": "stdout",
     "output_type": "stream",
     "text": [
      "[94/100]\ttest_main: 0.1185\ttest_main2: 0.0688\ttest_penalty: 0.65937136\r"
     ]
    },
    {
     "name": "stderr",
     "output_type": "stream",
     "text": [
      "[default |INFO|model.py:1303] [64/100]\ttest_main: 0.1187\ttest_main2: 0.0696\ttest_penalty: 0.6593\n"
     ]
    },
    {
     "name": "stdout",
     "output_type": "stream",
     "text": [
      "[95/100]\ttest_main: 0.1216\ttest_main2: 0.0708\ttest_penalty: 0.68517097\r"
     ]
    },
    {
     "name": "stderr",
     "output_type": "stream",
     "text": [
      "[default |INFO|model.py:1303] [65/100]\ttest_main: 0.1218\ttest_main2: 0.0704\ttest_penalty: 0.6852\n"
     ]
    },
    {
     "name": "stdout",
     "output_type": "stream",
     "text": [
      "[96/100]\ttest_main: 0.1227\ttest_main2: 0.0425\ttest_penalty: 0.64467129\r"
     ]
    },
    {
     "name": "stderr",
     "output_type": "stream",
     "text": [
      "[default |INFO|model.py:1303] [66/100]\ttest_main: 0.1229\ttest_main2: 0.0421\ttest_penalty: 0.6444\n"
     ]
    },
    {
     "name": "stdout",
     "output_type": "stream",
     "text": [
      "[93/100]\ttest_main: 0.1202\ttest_main2: 0.0592\ttest_penalty: 0.66577123\r"
     ]
    },
    {
     "name": "stderr",
     "output_type": "stream",
     "text": [
      "[default |INFO|model.py:1303] [67/100]\ttest_main: 0.1201\ttest_main2: 0.0577\ttest_penalty: 0.6658\n"
     ]
    },
    {
     "name": "stdout",
     "output_type": "stream",
     "text": [
      "[95/100]\ttest_main: 0.1243\ttest_main2: 0.1755\ttest_penalty: 0.69527148\r"
     ]
    },
    {
     "name": "stderr",
     "output_type": "stream",
     "text": [
      "[default |INFO|model.py:1303] [68/100]\ttest_main: 0.1242\ttest_main2: 0.1741\ttest_penalty: 0.6951\n"
     ]
    },
    {
     "name": "stdout",
     "output_type": "stream",
     "text": [
      "[96/100]\ttest_main: 0.1205\ttest_main2: 0.0557\ttest_penalty: 0.66747072\r"
     ]
    },
    {
     "name": "stderr",
     "output_type": "stream",
     "text": [
      "[default |INFO|model.py:1303] [69/100]\ttest_main: 0.1205\ttest_main2: 0.0551\ttest_penalty: 0.6674\n"
     ]
    },
    {
     "name": "stdout",
     "output_type": "stream",
     "text": [
      "[97/100]\ttest_main: 0.1175\ttest_main2: 0.0681\ttest_penalty: 0.66417060\r"
     ]
    },
    {
     "name": "stderr",
     "output_type": "stream",
     "text": [
      "[default |INFO|model.py:1303] [70/100]\ttest_main: 0.1175\ttest_main2: 0.0688\ttest_penalty: 0.6641\n"
     ]
    },
    {
     "name": "stdout",
     "output_type": "stream",
     "text": [
      "[94/100]\ttest_main: 0.1243\ttest_main2: 0.1437\ttest_penalty: 0.64947080\r"
     ]
    },
    {
     "name": "stderr",
     "output_type": "stream",
     "text": [
      "[default |INFO|model.py:1303] [71/100]\ttest_main: 0.1239\ttest_main2: 0.1440\ttest_penalty: 0.6495\n"
     ]
    },
    {
     "name": "stdout",
     "output_type": "stream",
     "text": [
      "[93/100]\ttest_main: 0.1189\ttest_main2: 0.0513\ttest_penalty: 0.69487035\r"
     ]
    },
    {
     "name": "stderr",
     "output_type": "stream",
     "text": [
      "[default |INFO|model.py:1303] [72/100]\ttest_main: 0.1189\ttest_main2: 0.0507\ttest_penalty: 0.6948\n"
     ]
    },
    {
     "name": "stdout",
     "output_type": "stream",
     "text": [
      "[95/100]\ttest_main: 0.1174\ttest_main2: 0.0489\ttest_penalty: 0.69367059\r"
     ]
    },
    {
     "name": "stderr",
     "output_type": "stream",
     "text": [
      "[default |INFO|model.py:1303] [73/100]\ttest_main: 0.1174\ttest_main2: 0.0504\ttest_penalty: 0.6935\n"
     ]
    },
    {
     "name": "stdout",
     "output_type": "stream",
     "text": [
      "[91/100]\ttest_main: 0.1154\ttest_main2: 0.0654\ttest_penalty: 0.66887061\r"
     ]
    },
    {
     "name": "stderr",
     "output_type": "stream",
     "text": [
      "[default |INFO|model.py:1303] [74/100]\ttest_main: 0.1155\ttest_main2: 0.0634\ttest_penalty: 0.6687\n"
     ]
    },
    {
     "name": "stdout",
     "output_type": "stream",
     "text": [
      "[94/100]\ttest_main: 0.1304\ttest_main2: 0.0242\ttest_penalty: 0.67637066\r"
     ]
    },
    {
     "name": "stderr",
     "output_type": "stream",
     "text": [
      "[default |INFO|model.py:1303] [75/100]\ttest_main: 0.1305\ttest_main2: 0.0252\ttest_penalty: 0.6764\n"
     ]
    },
    {
     "name": "stdout",
     "output_type": "stream",
     "text": [
      "[95/100]\ttest_main: 0.1196\ttest_main2: 0.1281\ttest_penalty: 0.67527090\r"
     ]
    },
    {
     "name": "stderr",
     "output_type": "stream",
     "text": [
      "[default |INFO|model.py:1303] [76/100]\ttest_main: 0.1196\ttest_main2: 0.1265\ttest_penalty: 0.6752\n"
     ]
    },
    {
     "name": "stdout",
     "output_type": "stream",
     "text": [
      "[92/100]\ttest_main: 0.1235\ttest_main2: 0.0521\ttest_penalty: 0.68507049\r"
     ]
    },
    {
     "name": "stderr",
     "output_type": "stream",
     "text": [
      "[default |INFO|model.py:1303] [77/100]\ttest_main: 0.1231\ttest_main2: 0.0507\ttest_penalty: 0.6849\n"
     ]
    },
    {
     "name": "stdout",
     "output_type": "stream",
     "text": [
      "[92/100]\ttest_main: 0.1167\ttest_main2: 0.0473\ttest_penalty: 0.66057029\r"
     ]
    },
    {
     "name": "stderr",
     "output_type": "stream",
     "text": [
      "[default |INFO|model.py:1303] [78/100]\ttest_main: 0.1171\ttest_main2: 0.0497\ttest_penalty: 0.6603\n"
     ]
    },
    {
     "name": "stdout",
     "output_type": "stream",
     "text": [
      "[95/100]\ttest_main: 0.1216\ttest_main2: 0.0496\ttest_penalty: 0.68217035\r"
     ]
    },
    {
     "name": "stderr",
     "output_type": "stream",
     "text": [
      "[default |INFO|model.py:1303] [79/100]\ttest_main: 0.1216\ttest_main2: 0.0499\ttest_penalty: 0.6820\n"
     ]
    },
    {
     "name": "stdout",
     "output_type": "stream",
     "text": [
      "[94/100]\ttest_main: 0.1153\ttest_main2: 0.0689\ttest_penalty: 0.67776999\r"
     ]
    },
    {
     "name": "stderr",
     "output_type": "stream",
     "text": [
      "[default |INFO|model.py:1303] [80/100]\ttest_main: 0.1152\ttest_main2: 0.0676\ttest_penalty: 0.6776\n"
     ]
    },
    {
     "name": "stdout",
     "output_type": "stream",
     "text": [
      "[90/100]\ttest_main: 0.1156\ttest_main2: 0.0397\ttest_penalty: 0.66206973\r"
     ]
    },
    {
     "name": "stderr",
     "output_type": "stream",
     "text": [
      "[default |INFO|model.py:1303] [81/100]\ttest_main: 0.1161\ttest_main2: 0.0393\ttest_penalty: 0.6618\n"
     ]
    },
    {
     "name": "stdout",
     "output_type": "stream",
     "text": [
      "[97/100]\ttest_main: 0.1197\ttest_main2: 0.0611\ttest_penalty: 0.67227042\r"
     ]
    },
    {
     "name": "stderr",
     "output_type": "stream",
     "text": [
      "[default |INFO|model.py:1303] [82/100]\ttest_main: 0.1196\ttest_main2: 0.0616\ttest_penalty: 0.6723\n"
     ]
    },
    {
     "name": "stdout",
     "output_type": "stream",
     "text": [
      "[93/100]\ttest_main: 0.1132\ttest_main2: 0.0682\ttest_penalty: 0.67016996\r"
     ]
    },
    {
     "name": "stderr",
     "output_type": "stream",
     "text": [
      "[default |INFO|model.py:1303] [83/100]\ttest_main: 0.1132\ttest_main2: 0.0683\ttest_penalty: 0.6701\n"
     ]
    },
    {
     "name": "stdout",
     "output_type": "stream",
     "text": [
      "[96/100]\ttest_main: 0.1191\ttest_main2: 0.0591\ttest_penalty: 0.68357003\r"
     ]
    },
    {
     "name": "stderr",
     "output_type": "stream",
     "text": [
      "[default |INFO|model.py:1303] [84/100]\ttest_main: 0.1193\ttest_main2: 0.0614\ttest_penalty: 0.6837\n"
     ]
    },
    {
     "name": "stdout",
     "output_type": "stream",
     "text": [
      "[94/100]\ttest_main: 0.1187\ttest_main2: 0.0674\ttest_penalty: 0.66477006\r"
     ]
    },
    {
     "name": "stderr",
     "output_type": "stream",
     "text": [
      "[default |INFO|model.py:1303] [85/100]\ttest_main: 0.1189\ttest_main2: 0.0680\ttest_penalty: 0.6647\n"
     ]
    },
    {
     "name": "stdout",
     "output_type": "stream",
     "text": [
      "[91/100]\ttest_main: 0.1159\ttest_main2: 0.0615\ttest_penalty: 0.67837004\r"
     ]
    },
    {
     "name": "stderr",
     "output_type": "stream",
     "text": [
      "[default |INFO|model.py:1303] [86/100]\ttest_main: 0.1160\ttest_main2: 0.0609\ttest_penalty: 0.6783\n"
     ]
    },
    {
     "name": "stdout",
     "output_type": "stream",
     "text": [
      "[92/100]\ttest_main: 0.1124\ttest_main2: 0.0576\ttest_penalty: 0.67967005\r"
     ]
    },
    {
     "name": "stderr",
     "output_type": "stream",
     "text": [
      "[default |INFO|model.py:1303] [87/100]\ttest_main: 0.1124\ttest_main2: 0.0565\ttest_penalty: 0.6797\n"
     ]
    },
    {
     "name": "stdout",
     "output_type": "stream",
     "text": [
      "[92/100]\ttest_main: 0.1150\ttest_main2: 0.1058\ttest_penalty: 0.68476989\r"
     ]
    },
    {
     "name": "stderr",
     "output_type": "stream",
     "text": [
      "[default |INFO|model.py:1303] [88/100]\ttest_main: 0.1149\ttest_main2: 0.1049\ttest_penalty: 0.6847\n"
     ]
    },
    {
     "name": "stdout",
     "output_type": "stream",
     "text": [
      "[93/100]\ttest_main: 0.1136\ttest_main2: 0.0467\ttest_penalty: 0.68747012\r"
     ]
    },
    {
     "name": "stderr",
     "output_type": "stream",
     "text": [
      "[default |INFO|model.py:1303] [89/100]\ttest_main: 0.1137\ttest_main2: 0.0473\ttest_penalty: 0.6876\n"
     ]
    },
    {
     "name": "stdout",
     "output_type": "stream",
     "text": [
      "[98/100]\ttest_main: 0.1162\ttest_main2: 0.1062\ttest_penalty: 0.67517018\r"
     ]
    },
    {
     "name": "stderr",
     "output_type": "stream",
     "text": [
      "[default |INFO|model.py:1303] [90/100]\ttest_main: 0.1163\ttest_main2: 0.1061\ttest_penalty: 0.6751\n"
     ]
    },
    {
     "name": "stdout",
     "output_type": "stream",
     "text": [
      "[94/100]\ttest_main: 0.1110\ttest_main2: 0.1040\ttest_penalty: 0.69776975\r"
     ]
    },
    {
     "name": "stderr",
     "output_type": "stream",
     "text": [
      "[default |INFO|model.py:1303] [91/100]\ttest_main: 0.1112\ttest_main2: 0.1027\ttest_penalty: 0.6977\n"
     ]
    },
    {
     "name": "stdout",
     "output_type": "stream",
     "text": [
      "[93/100]\ttest_main: 0.1156\ttest_main2: 0.0574\ttest_penalty: 0.69487005\r"
     ]
    },
    {
     "name": "stderr",
     "output_type": "stream",
     "text": [
      "[default |INFO|model.py:1303] [92/100]\ttest_main: 0.1152\ttest_main2: 0.0570\ttest_penalty: 0.6948\n"
     ]
    },
    {
     "name": "stdout",
     "output_type": "stream",
     "text": [
      "[94/100]\ttest_main: 0.1227\ttest_main2: 0.2708\ttest_penalty: 0.65967002\r"
     ]
    },
    {
     "name": "stderr",
     "output_type": "stream",
     "text": [
      "[default |INFO|model.py:1303] [93/100]\ttest_main: 0.1226\ttest_main2: 0.2667\ttest_penalty: 0.6596\n"
     ]
    },
    {
     "name": "stdout",
     "output_type": "stream",
     "text": [
      "[96/100]\ttest_main: 0.1123\ttest_main2: 0.0681\ttest_penalty: 0.68856989\r"
     ]
    },
    {
     "name": "stderr",
     "output_type": "stream",
     "text": [
      "[default |INFO|model.py:1303] [94/100]\ttest_main: 0.1123\ttest_main2: 0.0681\ttest_penalty: 0.6885\n"
     ]
    },
    {
     "name": "stdout",
     "output_type": "stream",
     "text": [
      "[100/100]\ttest_main: 0.1111\ttest_main2: 0.0536\ttest_penalty: 0.6653997\r"
     ]
    },
    {
     "name": "stderr",
     "output_type": "stream",
     "text": [
      "[default |INFO|model.py:1303] [95/100]\ttest_main: 0.1111\ttest_main2: 0.0536\ttest_penalty: 0.6653\n"
     ]
    },
    {
     "name": "stdout",
     "output_type": "stream",
     "text": [
      "[93/100]\ttest_main: 0.1159\ttest_main2: 0.1733\ttest_penalty: 0.69556989\r"
     ]
    },
    {
     "name": "stderr",
     "output_type": "stream",
     "text": [
      "[default |INFO|model.py:1303] [96/100]\ttest_main: 0.1161\ttest_main2: 0.1736\ttest_penalty: 0.6955\n"
     ]
    },
    {
     "name": "stdout",
     "output_type": "stream",
     "text": [
      "[93/100]\ttest_main: 0.1147\ttest_main2: 0.0271\ttest_penalty: 0.70486973\r"
     ]
    },
    {
     "name": "stderr",
     "output_type": "stream",
     "text": [
      "[default |INFO|model.py:1303] [97/100]\ttest_main: 0.1149\ttest_main2: 0.0272\ttest_penalty: 0.7045\n"
     ]
    },
    {
     "name": "stdout",
     "output_type": "stream",
     "text": [
      "[92/100]\ttest_main: 0.1226\ttest_main2: 0.1362\ttest_penalty: 0.67567002\r"
     ]
    },
    {
     "name": "stderr",
     "output_type": "stream",
     "text": [
      "[default |INFO|model.py:1303] [98/100]\ttest_main: 0.1227\ttest_main2: 0.1376\ttest_penalty: 0.6756\n"
     ]
    },
    {
     "name": "stdout",
     "output_type": "stream",
     "text": [
      "[91/100]\ttest_main: 0.1121\ttest_main2: 0.0680\ttest_penalty: 0.69396999\r"
     ]
    },
    {
     "name": "stderr",
     "output_type": "stream",
     "text": [
      "[default |INFO|model.py:1303] [99/100]\ttest_main: 0.1118\ttest_main2: 0.0687\ttest_penalty: 0.6939\n"
     ]
    },
    {
     "name": "stdout",
     "output_type": "stream",
     "text": [
      "[92/100]\ttest_main: 0.1123\ttest_main2: 0.0312\ttest_penalty: 0.68876990\r"
     ]
    },
    {
     "name": "stderr",
     "output_type": "stream",
     "text": [
      "[default |INFO|model.py:1303] [100/100]\ttest_main: 0.1124\ttest_main2: 0.0312\ttest_penalty: 0.6886\n"
     ]
    },
    {
     "name": "stdout",
     "output_type": "stream",
     "text": [
      "[93/100]\ttest_main: 0.1124\ttest_main2: 0.0311\ttest_penalty: 0.6886\r",
      "[94/100]\ttest_main: 0.1125\ttest_main2: 0.0317\ttest_penalty: 0.6886\r",
      "[95/100]\ttest_main: 0.1125\ttest_main2: 0.0315\ttest_penalty: 0.6886\r",
      "[96/100]\ttest_main: 0.1125\ttest_main2: 0.0312\ttest_penalty: 0.6886\r",
      "[97/100]\ttest_main: 0.1125\ttest_main2: 0.0312\ttest_penalty: 0.6886\r",
      "[98/100]\ttest_main: 0.1125\ttest_main2: 0.0314\ttest_penalty: 0.6886\r",
      "[99/100]\ttest_main: 0.1125\ttest_main2: 0.0315\ttest_penalty: 0.6886\r",
      "[100/100]\ttest_main: 0.1124\ttest_main2: 0.0312\ttest_penalty: 0.6886\r"
     ]
    },
    {
     "name": "stderr",
     "output_type": "stream",
     "text": [
      "[default |INFO|model.py:1409] Training Finished!\n",
      "[default |INFO|model.py:1410] Elapsed time: 1190.933s\n"
     ]
    }
   ],
   "source": [
    "model = SSWAE_GAN_MNIST(cfg, log, device = device)\n",
    "model.train()\n",
    "# model.train(resume = True)"
   ]
  },
  {
   "cell_type": "code",
   "execution_count": 8,
   "metadata": {},
   "outputs": [
    {
     "name": "stdout",
     "output_type": "stream",
     "text": [
      "0.606\n"
     ]
    }
   ],
   "source": [
    "acc, n = 0, 0\n",
    "for data, condition in test_generator:\n",
    "    x = data.to(device)\n",
    "    y = condition.to(device)\n",
    "    fake_latent = model.encode_s(x)\n",
    "    recon = model.decode(fake_latent)\n",
    "    recon_y = model.decode_c(fake_latent)\n",
    "    acc += torch.sum(torch.max(recon_y, 1)[1] == 3).item() # 3 for unk\n",
    "    n += len(x)\n",
    "print(acc/n)"
   ]
  },
  {
   "cell_type": "markdown",
   "metadata": {},
   "source": [
    "### Case 3. Batch1 = 100, Batch2 = 100"
   ]
  },
  {
   "cell_type": "code",
   "execution_count": 9,
   "metadata": {
    "scrolled": true
   },
   "outputs": [
    {
     "data": {
      "text/plain": [
       "['./config/train_config_sswae_gan5-3.cfg']"
      ]
     },
     "execution_count": 9,
     "metadata": {},
     "output_type": "execute_result"
    }
   ],
   "source": [
    "cfg = configparser.ConfigParser()\n",
    "cfg.read('./config/train_config_sswae_gan5-3.cfg')"
   ]
  },
  {
   "cell_type": "code",
   "execution_count": 10,
   "metadata": {
    "collapsed": true
   },
   "outputs": [
    {
     "name": "stderr",
     "output_type": "stream",
     "text": [
      "[default |INFO|_base_model.py:25] ------------------------------------------------------------\n",
      "[default |INFO|_base_model.py:27] model_name : SSWAE_GAN_MNIST\n",
      "[default |INFO|_base_model.py:27] train_data : rmMNIST\n",
      "[default |INFO|_base_model.py:27] train_data_label : True\n",
      "[default |INFO|_base_model.py:27] z_sampler : gaus\n",
      "[default |INFO|_base_model.py:27] z_dim : 6\n",
      "[default |INFO|_base_model.py:27] yz_dim : 2\n",
      "[default |INFO|_base_model.py:27] y_sampler : multinomial\n",
      "[default |INFO|_base_model.py:27] y_dim : 4\n",
      "[default |INFO|_base_model.py:27] labeled_class : 1, 3, 5\n",
      "[default |INFO|_base_model.py:27] unlabeled_class : 0, 4, 6, 7, 8, 9\n",
      "[default |INFO|_base_model.py:27] test_class : 2\n",
      "[default |INFO|_base_model.py:27] classification_weight : \n",
      "[default |INFO|_base_model.py:27] encoder_pretrain : False\n",
      "[default |INFO|_base_model.py:27] lr : 5e-4\n",
      "[default |INFO|_base_model.py:27] beta1 : 0.5\n",
      "[default |INFO|_base_model.py:27] lr_adv : 2e-4\n",
      "[default |INFO|_base_model.py:27] beta1_adv : 0.5\n",
      "[default |INFO|_base_model.py:27] lambda : 10.0\n",
      "[default |INFO|_base_model.py:27] lambda2 : 10.0\n",
      "[default |INFO|_base_model.py:27] lr_schedule : manual\n",
      "[default |INFO|_base_model.py:27] validate : True\n",
      "[default |INFO|_base_model.py:27] histogram : True\n",
      "[default |INFO|_base_model.py:27] batch_size1 : 100\n",
      "[default |INFO|_base_model.py:27] batch_size2 : 100\n",
      "[default |INFO|_base_model.py:27] epoch : 100\n",
      "[default |INFO|_base_model.py:27] replace : False\n",
      "[default |INFO|_base_model.py:27] iter_per_epoch : None\n",
      "[default |INFO|_base_model.py:27] save_best : False\n",
      "[default |INFO|_base_model.py:30] data_home2 : ./data/MNIST\n",
      "[default |INFO|_base_model.py:30] tb_logs : ./result/tb_logs/sswae_gan5-3\n",
      "[default |INFO|_base_model.py:30] save_path : ./result/weights/sswae_gan5-3.pt\n",
      "[default |INFO|_base_model.py:30] save_state : ./result/states/state_sswae_gan5-3.pt\n",
      "[default |INFO|_base_model.py:30] save_img_path : \n",
      "[default |INFO|model.py:1149] ------------------------------------------------------------\n",
      "[default |INFO|model.py:1150] Training Start!\n"
     ]
    },
    {
     "name": "stdout",
     "output_type": "stream",
     "text": [
      "[91/100]\ttest_main: 0.1960\ttest_main2: 0.6338\ttest_penalty: 0.70576785\r"
     ]
    },
    {
     "name": "stderr",
     "output_type": "stream",
     "text": [
      "[default |INFO|model.py:1303] [1/100]\ttest_main: 0.1962\ttest_main2: 0.6338\ttest_penalty: 0.7057\n"
     ]
    },
    {
     "name": "stdout",
     "output_type": "stream",
     "text": [
      "[93/100]\ttest_main: 0.1793\ttest_main2: 0.5080\ttest_penalty: 0.69636866\r"
     ]
    },
    {
     "name": "stderr",
     "output_type": "stream",
     "text": [
      "[default |INFO|model.py:1303] [2/100]\ttest_main: 0.1794\ttest_main2: 0.5083\ttest_penalty: 0.6963\n"
     ]
    },
    {
     "name": "stdout",
     "output_type": "stream",
     "text": [
      "[95/100]\ttest_main: 0.1719\ttest_main2: 0.3910\ttest_penalty: 0.68926927\r"
     ]
    },
    {
     "name": "stderr",
     "output_type": "stream",
     "text": [
      "[default |INFO|model.py:1303] [3/100]\ttest_main: 0.1718\ttest_main2: 0.3908\ttest_penalty: 0.6892\n"
     ]
    },
    {
     "name": "stdout",
     "output_type": "stream",
     "text": [
      "[93/100]\ttest_main: 0.1734\ttest_main2: 0.2894\ttest_penalty: 0.68227057\r"
     ]
    },
    {
     "name": "stderr",
     "output_type": "stream",
     "text": [
      "[default |INFO|model.py:1303] [4/100]\ttest_main: 0.1732\ttest_main2: 0.2891\ttest_penalty: 0.6823\n"
     ]
    },
    {
     "name": "stdout",
     "output_type": "stream",
     "text": [
      "[96/100]\ttest_main: 0.1566\ttest_main2: 0.2488\ttest_penalty: 0.68107033\r"
     ]
    },
    {
     "name": "stderr",
     "output_type": "stream",
     "text": [
      "[default |INFO|model.py:1303] [5/100]\ttest_main: 0.1566\ttest_main2: 0.2499\ttest_penalty: 0.6810\n"
     ]
    },
    {
     "name": "stdout",
     "output_type": "stream",
     "text": [
      "[92/100]\ttest_main: 0.1529\ttest_main2: 0.1799\ttest_penalty: 0.66677149\r"
     ]
    },
    {
     "name": "stderr",
     "output_type": "stream",
     "text": [
      "[default |INFO|model.py:1303] [6/100]\ttest_main: 0.1532\ttest_main2: 0.1824\ttest_penalty: 0.6668\n"
     ]
    },
    {
     "name": "stdout",
     "output_type": "stream",
     "text": [
      "[92/100]\ttest_main: 0.1672\ttest_main2: 0.1546\ttest_penalty: 0.77027309\r"
     ]
    },
    {
     "name": "stderr",
     "output_type": "stream",
     "text": [
      "[default |INFO|model.py:1303] [7/100]\ttest_main: 0.1673\ttest_main2: 0.1542\ttest_penalty: 0.7703\n"
     ]
    },
    {
     "name": "stdout",
     "output_type": "stream",
     "text": [
      "[95/100]\ttest_main: 0.1571\ttest_main2: 0.1830\ttest_penalty: 0.65487111\r"
     ]
    },
    {
     "name": "stderr",
     "output_type": "stream",
     "text": [
      "[default |INFO|model.py:1303] [8/100]\ttest_main: 0.1572\ttest_main2: 0.1822\ttest_penalty: 0.6549\n"
     ]
    },
    {
     "name": "stdout",
     "output_type": "stream",
     "text": [
      "[95/100]\ttest_main: 0.1527\ttest_main2: 0.1270\ttest_penalty: 0.67257018\r"
     ]
    },
    {
     "name": "stderr",
     "output_type": "stream",
     "text": [
      "[default |INFO|model.py:1303] [9/100]\ttest_main: 0.1524\ttest_main2: 0.1270\ttest_penalty: 0.6722\n"
     ]
    },
    {
     "name": "stdout",
     "output_type": "stream",
     "text": [
      "[96/100]\ttest_main: 0.1539\ttest_main2: 0.1070\ttest_penalty: 0.67217176\r"
     ]
    },
    {
     "name": "stderr",
     "output_type": "stream",
     "text": [
      "[default |INFO|model.py:1303] [10/100]\ttest_main: 0.1536\ttest_main2: 0.1061\ttest_penalty: 0.6719\n"
     ]
    },
    {
     "name": "stdout",
     "output_type": "stream",
     "text": [
      "[95/100]\ttest_main: 0.1526\ttest_main2: 0.1227\ttest_penalty: 0.61087300\r"
     ]
    },
    {
     "name": "stderr",
     "output_type": "stream",
     "text": [
      "[default |INFO|model.py:1303] [11/100]\ttest_main: 0.1529\ttest_main2: 0.1242\ttest_penalty: 0.6107\n"
     ]
    },
    {
     "name": "stdout",
     "output_type": "stream",
     "text": [
      "[95/100]\ttest_main: 0.1582\ttest_main2: 0.1201\ttest_penalty: 0.65557334\r"
     ]
    },
    {
     "name": "stderr",
     "output_type": "stream",
     "text": [
      "[default |INFO|model.py:1303] [12/100]\ttest_main: 0.1582\ttest_main2: 0.1187\ttest_penalty: 0.6555\n"
     ]
    },
    {
     "name": "stdout",
     "output_type": "stream",
     "text": [
      "[95/100]\ttest_main: 0.1629\ttest_main2: 0.1498\ttest_penalty: 0.67937562\r"
     ]
    },
    {
     "name": "stderr",
     "output_type": "stream",
     "text": [
      "[default |INFO|model.py:1303] [13/100]\ttest_main: 0.1632\ttest_main2: 0.1512\ttest_penalty: 0.6795\n"
     ]
    },
    {
     "name": "stdout",
     "output_type": "stream",
     "text": [
      "[96/100]\ttest_main: 0.1558\ttest_main2: 0.1114\ttest_penalty: 0.70357471\r"
     ]
    },
    {
     "name": "stderr",
     "output_type": "stream",
     "text": [
      "[default |INFO|model.py:1303] [14/100]\ttest_main: 0.1559\ttest_main2: 0.1115\ttest_penalty: 0.7039\n"
     ]
    },
    {
     "name": "stdout",
     "output_type": "stream",
     "text": [
      "[92/100]\ttest_main: 0.1422\ttest_main2: 0.1188\ttest_penalty: 0.61137609\r"
     ]
    },
    {
     "name": "stderr",
     "output_type": "stream",
     "text": [
      "[default |INFO|model.py:1303] [15/100]\ttest_main: 0.1424\ttest_main2: 0.1196\ttest_penalty: 0.6117\n"
     ]
    },
    {
     "name": "stdout",
     "output_type": "stream",
     "text": [
      "[96/100]\ttest_main: 0.1408\ttest_main2: 0.1351\ttest_penalty: 0.66047744\r"
     ]
    },
    {
     "name": "stderr",
     "output_type": "stream",
     "text": [
      "[default |INFO|model.py:1303] [16/100]\ttest_main: 0.1406\ttest_main2: 0.1340\ttest_penalty: 0.6603\n"
     ]
    },
    {
     "name": "stdout",
     "output_type": "stream",
     "text": [
      "[94/100]\ttest_main: 0.1381\ttest_main2: 0.0753\ttest_penalty: 0.64557565\r"
     ]
    },
    {
     "name": "stderr",
     "output_type": "stream",
     "text": [
      "[default |INFO|model.py:1303] [17/100]\ttest_main: 0.1381\ttest_main2: 0.0791\ttest_penalty: 0.6455\n"
     ]
    },
    {
     "name": "stdout",
     "output_type": "stream",
     "text": [
      "[95/100]\ttest_main: 0.1423\ttest_main2: 0.0673\ttest_penalty: 0.63097505\r"
     ]
    },
    {
     "name": "stderr",
     "output_type": "stream",
     "text": [
      "[default |INFO|model.py:1303] [18/100]\ttest_main: 0.1423\ttest_main2: 0.0670\ttest_penalty: 0.6310\n"
     ]
    },
    {
     "name": "stdout",
     "output_type": "stream",
     "text": [
      "[94/100]\ttest_main: 0.1381\ttest_main2: 0.0884\ttest_penalty: 0.66497327\r"
     ]
    },
    {
     "name": "stderr",
     "output_type": "stream",
     "text": [
      "[default |INFO|model.py:1303] [19/100]\ttest_main: 0.1379\ttest_main2: 0.0899\ttest_penalty: 0.6649\n"
     ]
    },
    {
     "name": "stdout",
     "output_type": "stream",
     "text": [
      "[94/100]\ttest_main: 0.1328\ttest_main2: 0.0601\ttest_penalty: 0.65417243\r"
     ]
    },
    {
     "name": "stderr",
     "output_type": "stream",
     "text": [
      "[default |INFO|model.py:1303] [20/100]\ttest_main: 0.1330\ttest_main2: 0.0607\ttest_penalty: 0.6541\n"
     ]
    },
    {
     "name": "stdout",
     "output_type": "stream",
     "text": [
      "[96/100]\ttest_main: 0.1359\ttest_main2: 0.0744\ttest_penalty: 0.66467180\r"
     ]
    },
    {
     "name": "stderr",
     "output_type": "stream",
     "text": [
      "[default |INFO|model.py:1303] [21/100]\ttest_main: 0.1358\ttest_main2: 0.0736\ttest_penalty: 0.6647\n"
     ]
    },
    {
     "name": "stdout",
     "output_type": "stream",
     "text": [
      "[91/100]\ttest_main: 0.1393\ttest_main2: 0.2023\ttest_penalty: 0.66117106\r"
     ]
    },
    {
     "name": "stderr",
     "output_type": "stream",
     "text": [
      "[default |INFO|model.py:1303] [22/100]\ttest_main: 0.1396\ttest_main2: 0.2009\ttest_penalty: 0.6610\n"
     ]
    },
    {
     "name": "stdout",
     "output_type": "stream",
     "text": [
      "[94/100]\ttest_main: 0.1319\ttest_main2: 0.0822\ttest_penalty: 0.69997085\r"
     ]
    },
    {
     "name": "stderr",
     "output_type": "stream",
     "text": [
      "[default |INFO|model.py:1303] [23/100]\ttest_main: 0.1316\ttest_main2: 0.0821\ttest_penalty: 0.6999\n"
     ]
    },
    {
     "name": "stdout",
     "output_type": "stream",
     "text": [
      "[94/100]\ttest_main: 0.1312\ttest_main2: 0.0962\ttest_penalty: 0.66347168\r"
     ]
    },
    {
     "name": "stderr",
     "output_type": "stream",
     "text": [
      "[default |INFO|model.py:1303] [24/100]\ttest_main: 0.1309\ttest_main2: 0.0939\ttest_penalty: 0.6635\n"
     ]
    },
    {
     "name": "stdout",
     "output_type": "stream",
     "text": [
      "[93/100]\ttest_main: 0.1362\ttest_main2: 0.0702\ttest_penalty: 0.64087111\r"
     ]
    },
    {
     "name": "stderr",
     "output_type": "stream",
     "text": [
      "[default |INFO|model.py:1303] [25/100]\ttest_main: 0.1360\ttest_main2: 0.0696\ttest_penalty: 0.6408\n"
     ]
    },
    {
     "name": "stdout",
     "output_type": "stream",
     "text": [
      "[93/100]\ttest_main: 0.1249\ttest_main2: 0.0894\ttest_penalty: 0.60337098\r"
     ]
    },
    {
     "name": "stderr",
     "output_type": "stream",
     "text": [
      "[default |INFO|model.py:1303] [26/100]\ttest_main: 0.1249\ttest_main2: 0.0885\ttest_penalty: 0.6034\n"
     ]
    },
    {
     "name": "stdout",
     "output_type": "stream",
     "text": [
      "[93/100]\ttest_main: 0.1367\ttest_main2: 0.0600\ttest_penalty: 0.63237101\r"
     ]
    },
    {
     "name": "stderr",
     "output_type": "stream",
     "text": [
      "[default |INFO|model.py:1303] [27/100]\ttest_main: 0.1363\ttest_main2: 0.0603\ttest_penalty: 0.6323\n"
     ]
    },
    {
     "name": "stdout",
     "output_type": "stream",
     "text": [
      "[93/100]\ttest_main: 0.1359\ttest_main2: 0.0580\ttest_penalty: 0.66777093\r"
     ]
    },
    {
     "name": "stderr",
     "output_type": "stream",
     "text": [
      "[default |INFO|model.py:1303] [28/100]\ttest_main: 0.1357\ttest_main2: 0.0579\ttest_penalty: 0.6679\n"
     ]
    },
    {
     "name": "stdout",
     "output_type": "stream",
     "text": [
      "[94/100]\ttest_main: 0.1283\ttest_main2: 0.0663\ttest_penalty: 0.70987107\r"
     ]
    },
    {
     "name": "stderr",
     "output_type": "stream",
     "text": [
      "[default |INFO|model.py:1303] [29/100]\ttest_main: 0.1289\ttest_main2: 0.0722\ttest_penalty: 0.7096\n"
     ]
    },
    {
     "name": "stdout",
     "output_type": "stream",
     "text": [
      "[93/100]\ttest_main: 0.1315\ttest_main2: 0.0914\ttest_penalty: 0.67127089\r"
     ]
    },
    {
     "name": "stderr",
     "output_type": "stream",
     "text": [
      "[default |INFO|model.py:1303] [30/100]\ttest_main: 0.1315\ttest_main2: 0.0927\ttest_penalty: 0.6710\n"
     ]
    },
    {
     "name": "stdout",
     "output_type": "stream",
     "text": [
      "[93/100]\ttest_main: 0.1402\ttest_main2: 0.0483\ttest_penalty: 0.63007076\r"
     ]
    },
    {
     "name": "stderr",
     "output_type": "stream",
     "text": [
      "[default |INFO|model.py:1303] [31/100]\ttest_main: 0.1400\ttest_main2: 0.0477\ttest_penalty: 0.6300\n"
     ]
    },
    {
     "name": "stdout",
     "output_type": "stream",
     "text": [
      "[94/100]\ttest_main: 0.1306\ttest_main2: 0.1072\ttest_penalty: 0.67097166\r"
     ]
    },
    {
     "name": "stderr",
     "output_type": "stream",
     "text": [
      "[default |INFO|model.py:1303] [32/100]\ttest_main: 0.1310\ttest_main2: 0.1086\ttest_penalty: 0.6710\n"
     ]
    },
    {
     "name": "stdout",
     "output_type": "stream",
     "text": [
      "[94/100]\ttest_main: 0.1326\ttest_main2: 0.0648\ttest_penalty: 0.68067148\r"
     ]
    },
    {
     "name": "stderr",
     "output_type": "stream",
     "text": [
      "[default |INFO|model.py:1303] [33/100]\ttest_main: 0.1327\ttest_main2: 0.0637\ttest_penalty: 0.6806\n"
     ]
    },
    {
     "name": "stdout",
     "output_type": "stream",
     "text": [
      "[91/100]\ttest_main: 0.1280\ttest_main2: 0.0644\ttest_penalty: 0.70917169\r"
     ]
    },
    {
     "name": "stderr",
     "output_type": "stream",
     "text": [
      "[default |INFO|model.py:1303] [34/100]\ttest_main: 0.1283\ttest_main2: 0.0638\ttest_penalty: 0.7088\n"
     ]
    },
    {
     "name": "stdout",
     "output_type": "stream",
     "text": [
      "[91/100]\ttest_main: 0.1349\ttest_main2: 0.1273\ttest_penalty: 0.72057182\r"
     ]
    },
    {
     "name": "stderr",
     "output_type": "stream",
     "text": [
      "[default |INFO|model.py:1303] [35/100]\ttest_main: 0.1348\ttest_main2: 0.1271\ttest_penalty: 0.7206\n"
     ]
    },
    {
     "name": "stdout",
     "output_type": "stream",
     "text": [
      "[93/100]\ttest_main: 0.1390\ttest_main2: 0.1535\ttest_penalty: 0.69637194\r"
     ]
    },
    {
     "name": "stderr",
     "output_type": "stream",
     "text": [
      "[default |INFO|model.py:1303] [36/100]\ttest_main: 0.1390\ttest_main2: 0.1548\ttest_penalty: 0.6968\n"
     ]
    },
    {
     "name": "stdout",
     "output_type": "stream",
     "text": [
      "[93/100]\ttest_main: 0.1340\ttest_main2: 0.0868\ttest_penalty: 0.61197166\r"
     ]
    },
    {
     "name": "stderr",
     "output_type": "stream",
     "text": [
      "[default |INFO|model.py:1303] [37/100]\ttest_main: 0.1337\ttest_main2: 0.0862\ttest_penalty: 0.6120\n"
     ]
    },
    {
     "name": "stdout",
     "output_type": "stream",
     "text": [
      "[95/100]\ttest_main: 0.1268\ttest_main2: 0.0774\ttest_penalty: 0.66117086\r"
     ]
    },
    {
     "name": "stderr",
     "output_type": "stream",
     "text": [
      "[default |INFO|model.py:1303] [38/100]\ttest_main: 0.1268\ttest_main2: 0.0778\ttest_penalty: 0.6612\n"
     ]
    },
    {
     "name": "stdout",
     "output_type": "stream",
     "text": [
      "[93/100]\ttest_main: 0.1272\ttest_main2: 0.0756\ttest_penalty: 0.70927113\r"
     ]
    },
    {
     "name": "stderr",
     "output_type": "stream",
     "text": [
      "[default |INFO|model.py:1303] [39/100]\ttest_main: 0.1272\ttest_main2: 0.0742\ttest_penalty: 0.7092\n"
     ]
    },
    {
     "name": "stdout",
     "output_type": "stream",
     "text": [
      "[93/100]\ttest_main: 0.1301\ttest_main2: 0.0343\ttest_penalty: 0.68907084\r"
     ]
    },
    {
     "name": "stderr",
     "output_type": "stream",
     "text": [
      "[default |INFO|model.py:1303] [40/100]\ttest_main: 0.1297\ttest_main2: 0.0348\ttest_penalty: 0.6889\n"
     ]
    },
    {
     "name": "stdout",
     "output_type": "stream",
     "text": [
      "[95/100]\ttest_main: 0.1233\ttest_main2: 0.0398\ttest_penalty: 0.67507053\r"
     ]
    },
    {
     "name": "stderr",
     "output_type": "stream",
     "text": [
      "[default |INFO|model.py:1303] [41/100]\ttest_main: 0.1231\ttest_main2: 0.0387\ttest_penalty: 0.6751\n"
     ]
    },
    {
     "name": "stdout",
     "output_type": "stream",
     "text": [
      "[92/100]\ttest_main: 0.1277\ttest_main2: 0.1263\ttest_penalty: 0.67857052\r"
     ]
    },
    {
     "name": "stderr",
     "output_type": "stream",
     "text": [
      "[default |INFO|model.py:1303] [42/100]\ttest_main: 0.1277\ttest_main2: 0.1279\ttest_penalty: 0.6786\n"
     ]
    },
    {
     "name": "stdout",
     "output_type": "stream",
     "text": [
      "[91/100]\ttest_main: 0.1262\ttest_main2: 0.1445\ttest_penalty: 0.64797078\r"
     ]
    },
    {
     "name": "stderr",
     "output_type": "stream",
     "text": [
      "[default |INFO|model.py:1303] [43/100]\ttest_main: 0.1259\ttest_main2: 0.1397\ttest_penalty: 0.6478\n"
     ]
    },
    {
     "name": "stdout",
     "output_type": "stream",
     "text": [
      "[89/100]\ttest_main: 0.1231\ttest_main2: 0.0751\ttest_penalty: 0.68037089\r"
     ]
    },
    {
     "name": "stderr",
     "output_type": "stream",
     "text": [
      "[default |INFO|model.py:1303] [44/100]\ttest_main: 0.1231\ttest_main2: 0.0798\ttest_penalty: 0.6804\n"
     ]
    },
    {
     "name": "stdout",
     "output_type": "stream",
     "text": [
      "[91/100]\ttest_main: 0.1226\ttest_main2: 0.0995\ttest_penalty: 0.69567068\r"
     ]
    },
    {
     "name": "stderr",
     "output_type": "stream",
     "text": [
      "[default |INFO|model.py:1303] [45/100]\ttest_main: 0.1229\ttest_main2: 0.1002\ttest_penalty: 0.6955\n"
     ]
    },
    {
     "name": "stdout",
     "output_type": "stream",
     "text": [
      "[94/100]\ttest_main: 0.1277\ttest_main2: 0.1601\ttest_penalty: 0.68097064\r"
     ]
    },
    {
     "name": "stderr",
     "output_type": "stream",
     "text": [
      "[default |INFO|model.py:1303] [46/100]\ttest_main: 0.1271\ttest_main2: 0.1606\ttest_penalty: 0.6810\n"
     ]
    },
    {
     "name": "stdout",
     "output_type": "stream",
     "text": [
      "[93/100]\ttest_main: 0.1206\ttest_main2: 0.0421\ttest_penalty: 0.66207070\r"
     ]
    },
    {
     "name": "stderr",
     "output_type": "stream",
     "text": [
      "[default |INFO|model.py:1303] [47/100]\ttest_main: 0.1210\ttest_main2: 0.0425\ttest_penalty: 0.6621\n"
     ]
    },
    {
     "name": "stdout",
     "output_type": "stream",
     "text": [
      "[91/100]\ttest_main: 0.1230\ttest_main2: 0.0350\ttest_penalty: 0.73367100\r"
     ]
    },
    {
     "name": "stderr",
     "output_type": "stream",
     "text": [
      "[default |INFO|model.py:1303] [48/100]\ttest_main: 0.1229\ttest_main2: 0.0342\ttest_penalty: 0.7335\n"
     ]
    },
    {
     "name": "stdout",
     "output_type": "stream",
     "text": [
      "[93/100]\ttest_main: 0.1224\ttest_main2: 0.0759\ttest_penalty: 0.70977064\r"
     ]
    },
    {
     "name": "stderr",
     "output_type": "stream",
     "text": [
      "[default |INFO|model.py:1303] [49/100]\ttest_main: 0.1224\ttest_main2: 0.0747\ttest_penalty: 0.7094\n"
     ]
    },
    {
     "name": "stdout",
     "output_type": "stream",
     "text": [
      "[93/100]\ttest_main: 0.1310\ttest_main2: 0.0349\ttest_penalty: 0.60517080\r"
     ]
    },
    {
     "name": "stderr",
     "output_type": "stream",
     "text": [
      "[default |INFO|model.py:1303] [50/100]\ttest_main: 0.1307\ttest_main2: 0.0353\ttest_penalty: 0.6051\n"
     ]
    },
    {
     "name": "stdout",
     "output_type": "stream",
     "text": [
      "[95/100]\ttest_main: 0.1267\ttest_main2: 0.0943\ttest_penalty: 0.68517097\r"
     ]
    },
    {
     "name": "stderr",
     "output_type": "stream",
     "text": [
      "[default |INFO|model.py:1303] [51/100]\ttest_main: 0.1268\ttest_main2: 0.0944\ttest_penalty: 0.6850\n"
     ]
    },
    {
     "name": "stdout",
     "output_type": "stream",
     "text": [
      "[91/100]\ttest_main: 0.1344\ttest_main2: 0.1291\ttest_penalty: 0.76017022\r"
     ]
    },
    {
     "name": "stderr",
     "output_type": "stream",
     "text": [
      "[default |INFO|model.py:1303] [52/100]\ttest_main: 0.1350\ttest_main2: 0.1290\ttest_penalty: 0.7605\n"
     ]
    },
    {
     "name": "stdout",
     "output_type": "stream",
     "text": [
      "[96/100]\ttest_main: 0.1279\ttest_main2: 0.1100\ttest_penalty: 0.69617036\r"
     ]
    },
    {
     "name": "stderr",
     "output_type": "stream",
     "text": [
      "[default |INFO|model.py:1303] [53/100]\ttest_main: 0.1279\ttest_main2: 0.1088\ttest_penalty: 0.6961\n"
     ]
    },
    {
     "name": "stdout",
     "output_type": "stream",
     "text": [
      "[93/100]\ttest_main: 0.1232\ttest_main2: 0.0827\ttest_penalty: 0.73967033\r"
     ]
    },
    {
     "name": "stderr",
     "output_type": "stream",
     "text": [
      "[default |INFO|model.py:1303] [54/100]\ttest_main: 0.1231\ttest_main2: 0.0817\ttest_penalty: 0.7397\n"
     ]
    },
    {
     "name": "stdout",
     "output_type": "stream",
     "text": [
      "[92/100]\ttest_main: 0.1236\ttest_main2: 0.0370\ttest_penalty: 0.65997049\r"
     ]
    },
    {
     "name": "stderr",
     "output_type": "stream",
     "text": [
      "[default |INFO|model.py:1303] [55/100]\ttest_main: 0.1235\ttest_main2: 0.0374\ttest_penalty: 0.6599\n"
     ]
    },
    {
     "name": "stdout",
     "output_type": "stream",
     "text": [
      "[89/100]\ttest_main: 0.1207\ttest_main2: 0.0537\ttest_penalty: 0.62377019\r"
     ]
    },
    {
     "name": "stderr",
     "output_type": "stream",
     "text": [
      "[default |INFO|model.py:1303] [56/100]\ttest_main: 0.1211\ttest_main2: 0.0536\ttest_penalty: 0.6239\n"
     ]
    },
    {
     "name": "stdout",
     "output_type": "stream",
     "text": [
      "[88/100]\ttest_main: 0.1241\ttest_main2: 0.0401\ttest_penalty: 0.69137014\r"
     ]
    },
    {
     "name": "stderr",
     "output_type": "stream",
     "text": [
      "[default |INFO|model.py:1303] [57/100]\ttest_main: 0.1239\ttest_main2: 0.0398\ttest_penalty: 0.6916\n"
     ]
    },
    {
     "name": "stdout",
     "output_type": "stream",
     "text": [
      "[92/100]\ttest_main: 0.1210\ttest_main2: 0.0364\ttest_penalty: 0.72307002\r"
     ]
    },
    {
     "name": "stderr",
     "output_type": "stream",
     "text": [
      "[default |INFO|model.py:1303] [58/100]\ttest_main: 0.1210\ttest_main2: 0.0351\ttest_penalty: 0.7228\n"
     ]
    },
    {
     "name": "stdout",
     "output_type": "stream",
     "text": [
      "[93/100]\ttest_main: 0.1198\ttest_main2: 0.0792\ttest_penalty: 0.68647028\r"
     ]
    },
    {
     "name": "stderr",
     "output_type": "stream",
     "text": [
      "[default |INFO|model.py:1303] [59/100]\ttest_main: 0.1199\ttest_main2: 0.0795\ttest_penalty: 0.6865\n"
     ]
    },
    {
     "name": "stdout",
     "output_type": "stream",
     "text": [
      "[93/100]\ttest_main: 0.1149\ttest_main2: 0.1256\ttest_penalty: 0.67506986\r"
     ]
    },
    {
     "name": "stderr",
     "output_type": "stream",
     "text": [
      "[default |INFO|model.py:1303] [60/100]\ttest_main: 0.1146\ttest_main2: 0.1256\ttest_penalty: 0.6749\n"
     ]
    },
    {
     "name": "stdout",
     "output_type": "stream",
     "text": [
      "[91/100]\ttest_main: 0.1122\ttest_main2: 0.1265\ttest_penalty: 0.70327021\r"
     ]
    },
    {
     "name": "stderr",
     "output_type": "stream",
     "text": [
      "[default |INFO|model.py:1303] [61/100]\ttest_main: 0.1119\ttest_main2: 0.1232\ttest_penalty: 0.7033\n"
     ]
    },
    {
     "name": "stdout",
     "output_type": "stream",
     "text": [
      "[93/100]\ttest_main: 0.1161\ttest_main2: 0.1034\ttest_penalty: 0.67427003\r"
     ]
    },
    {
     "name": "stderr",
     "output_type": "stream",
     "text": [
      "[default |INFO|model.py:1303] [62/100]\ttest_main: 0.1159\ttest_main2: 0.0999\ttest_penalty: 0.6742\n"
     ]
    },
    {
     "name": "stdout",
     "output_type": "stream",
     "text": [
      "[96/100]\ttest_main: 0.1174\ttest_main2: 0.0733\ttest_penalty: 0.68427002\r"
     ]
    },
    {
     "name": "stderr",
     "output_type": "stream",
     "text": [
      "[default |INFO|model.py:1303] [63/100]\ttest_main: 0.1175\ttest_main2: 0.0747\ttest_penalty: 0.6843\n"
     ]
    },
    {
     "name": "stdout",
     "output_type": "stream",
     "text": [
      "[95/100]\ttest_main: 0.1216\ttest_main2: 0.0802\ttest_penalty: 0.68327025\r"
     ]
    },
    {
     "name": "stderr",
     "output_type": "stream",
     "text": [
      "[default |INFO|model.py:1303] [64/100]\ttest_main: 0.1213\ttest_main2: 0.0827\ttest_penalty: 0.6831\n"
     ]
    },
    {
     "name": "stdout",
     "output_type": "stream",
     "text": [
      "[92/100]\ttest_main: 0.1185\ttest_main2: 0.0730\ttest_penalty: 0.67016958\r"
     ]
    },
    {
     "name": "stderr",
     "output_type": "stream",
     "text": [
      "[default |INFO|model.py:1303] [65/100]\ttest_main: 0.1186\ttest_main2: 0.0715\ttest_penalty: 0.6701\n"
     ]
    },
    {
     "name": "stdout",
     "output_type": "stream",
     "text": [
      "[92/100]\ttest_main: 0.1175\ttest_main2: 0.0545\ttest_penalty: 0.68886986\r"
     ]
    },
    {
     "name": "stderr",
     "output_type": "stream",
     "text": [
      "[default |INFO|model.py:1303] [66/100]\ttest_main: 0.1174\ttest_main2: 0.0535\ttest_penalty: 0.6888\n"
     ]
    },
    {
     "name": "stdout",
     "output_type": "stream",
     "text": [
      "[91/100]\ttest_main: 0.1189\ttest_main2: 0.0850\ttest_penalty: 0.69106997\r"
     ]
    },
    {
     "name": "stderr",
     "output_type": "stream",
     "text": [
      "[default |INFO|model.py:1303] [67/100]\ttest_main: 0.1190\ttest_main2: 0.0862\ttest_penalty: 0.6911\n"
     ]
    },
    {
     "name": "stdout",
     "output_type": "stream",
     "text": [
      "[93/100]\ttest_main: 0.1138\ttest_main2: 0.0985\ttest_penalty: 0.72987010\r"
     ]
    },
    {
     "name": "stderr",
     "output_type": "stream",
     "text": [
      "[default |INFO|model.py:1303] [68/100]\ttest_main: 0.1137\ttest_main2: 0.0986\ttest_penalty: 0.7300\n"
     ]
    },
    {
     "name": "stdout",
     "output_type": "stream",
     "text": [
      "[91/100]\ttest_main: 0.1140\ttest_main2: 0.1294\ttest_penalty: 0.66056990\r"
     ]
    },
    {
     "name": "stderr",
     "output_type": "stream",
     "text": [
      "[default |INFO|model.py:1303] [69/100]\ttest_main: 0.1138\ttest_main2: 0.1273\ttest_penalty: 0.6605\n"
     ]
    },
    {
     "name": "stdout",
     "output_type": "stream",
     "text": [
      "[91/100]\ttest_main: 0.1079\ttest_main2: 0.3083\ttest_penalty: 0.67677007\r"
     ]
    },
    {
     "name": "stderr",
     "output_type": "stream",
     "text": [
      "[default |INFO|model.py:1303] [70/100]\ttest_main: 0.1079\ttest_main2: 0.3097\ttest_penalty: 0.6767\n"
     ]
    },
    {
     "name": "stdout",
     "output_type": "stream",
     "text": [
      "[96/100]\ttest_main: 0.1076\ttest_main2: 0.2759\ttest_penalty: 0.68126915\r"
     ]
    },
    {
     "name": "stderr",
     "output_type": "stream",
     "text": [
      "[default |INFO|model.py:1303] [71/100]\ttest_main: 0.1076\ttest_main2: 0.2732\ttest_penalty: 0.6811\n"
     ]
    },
    {
     "name": "stdout",
     "output_type": "stream",
     "text": [
      "[91/100]\ttest_main: 0.1061\ttest_main2: 0.2146\ttest_penalty: 0.68386929\r"
     ]
    },
    {
     "name": "stderr",
     "output_type": "stream",
     "text": [
      "[default |INFO|model.py:1303] [72/100]\ttest_main: 0.1064\ttest_main2: 0.2125\ttest_penalty: 0.6837\n"
     ]
    },
    {
     "name": "stdout",
     "output_type": "stream",
     "text": [
      "[95/100]\ttest_main: 0.1092\ttest_main2: 0.2167\ttest_penalty: 0.70306984\r"
     ]
    },
    {
     "name": "stderr",
     "output_type": "stream",
     "text": [
      "[default |INFO|model.py:1303] [73/100]\ttest_main: 0.1091\ttest_main2: 0.2153\ttest_penalty: 0.7031\n"
     ]
    },
    {
     "name": "stdout",
     "output_type": "stream",
     "text": [
      "[92/100]\ttest_main: 0.1087\ttest_main2: 0.2288\ttest_penalty: 0.70137017\r"
     ]
    },
    {
     "name": "stderr",
     "output_type": "stream",
     "text": [
      "[default |INFO|model.py:1303] [74/100]\ttest_main: 0.1091\ttest_main2: 0.2302\ttest_penalty: 0.7012\n"
     ]
    },
    {
     "name": "stdout",
     "output_type": "stream",
     "text": [
      "[92/100]\ttest_main: 0.1186\ttest_main2: 0.0881\ttest_penalty: 0.69227015\r"
     ]
    },
    {
     "name": "stderr",
     "output_type": "stream",
     "text": [
      "[default |INFO|model.py:1303] [75/100]\ttest_main: 0.1188\ttest_main2: 0.0920\ttest_penalty: 0.6919\n"
     ]
    },
    {
     "name": "stdout",
     "output_type": "stream",
     "text": [
      "[96/100]\ttest_main: 0.1236\ttest_main2: 0.0628\ttest_penalty: 0.69637012\r"
     ]
    },
    {
     "name": "stderr",
     "output_type": "stream",
     "text": [
      "[default |INFO|model.py:1303] [76/100]\ttest_main: 0.1237\ttest_main2: 0.0609\ttest_penalty: 0.6963\n"
     ]
    },
    {
     "name": "stdout",
     "output_type": "stream",
     "text": [
      "[98/100]\ttest_main: 0.1136\ttest_main2: 0.0664\ttest_penalty: 0.69346987\r"
     ]
    },
    {
     "name": "stderr",
     "output_type": "stream",
     "text": [
      "[default |INFO|model.py:1303] [77/100]\ttest_main: 0.1135\ttest_main2: 0.0659\ttest_penalty: 0.6933\n"
     ]
    },
    {
     "name": "stdout",
     "output_type": "stream",
     "text": [
      "[90/100]\ttest_main: 0.1127\ttest_main2: 0.0377\ttest_penalty: 0.65776998\r"
     ]
    },
    {
     "name": "stderr",
     "output_type": "stream",
     "text": [
      "[default |INFO|model.py:1303] [78/100]\ttest_main: 0.1127\ttest_main2: 0.0396\ttest_penalty: 0.6577\n"
     ]
    },
    {
     "name": "stdout",
     "output_type": "stream",
     "text": [
      "[93/100]\ttest_main: 0.1147\ttest_main2: 0.0882\ttest_penalty: 0.67036989\r"
     ]
    },
    {
     "name": "stderr",
     "output_type": "stream",
     "text": [
      "[default |INFO|model.py:1303] [79/100]\ttest_main: 0.1146\ttest_main2: 0.0873\ttest_penalty: 0.6705\n"
     ]
    },
    {
     "name": "stdout",
     "output_type": "stream",
     "text": [
      "[94/100]\ttest_main: 0.1093\ttest_main2: 0.0926\ttest_penalty: 0.70166990\r"
     ]
    },
    {
     "name": "stderr",
     "output_type": "stream",
     "text": [
      "[default |INFO|model.py:1303] [80/100]\ttest_main: 0.1093\ttest_main2: 0.0911\ttest_penalty: 0.7017\n"
     ]
    },
    {
     "name": "stdout",
     "output_type": "stream",
     "text": [
      "[93/100]\ttest_main: 0.1101\ttest_main2: 0.0590\ttest_penalty: 0.68326986\r"
     ]
    },
    {
     "name": "stderr",
     "output_type": "stream",
     "text": [
      "[default |INFO|model.py:1303] [81/100]\ttest_main: 0.1098\ttest_main2: 0.0585\ttest_penalty: 0.6832\n"
     ]
    },
    {
     "name": "stdout",
     "output_type": "stream",
     "text": [
      "[91/100]\ttest_main: 0.1093\ttest_main2: 0.0831\ttest_penalty: 0.70746978\r"
     ]
    },
    {
     "name": "stderr",
     "output_type": "stream",
     "text": [
      "[default |INFO|model.py:1303] [82/100]\ttest_main: 0.1092\ttest_main2: 0.0813\ttest_penalty: 0.7076\n"
     ]
    },
    {
     "name": "stdout",
     "output_type": "stream",
     "text": [
      "[93/100]\ttest_main: 0.1124\ttest_main2: 0.0864\ttest_penalty: 0.67206977\r"
     ]
    },
    {
     "name": "stderr",
     "output_type": "stream",
     "text": [
      "[default |INFO|model.py:1303] [83/100]\ttest_main: 0.1121\ttest_main2: 0.0850\ttest_penalty: 0.6721\n"
     ]
    },
    {
     "name": "stdout",
     "output_type": "stream",
     "text": [
      "[93/100]\ttest_main: 0.1107\ttest_main2: 0.1198\ttest_penalty: 0.68206980\r"
     ]
    },
    {
     "name": "stderr",
     "output_type": "stream",
     "text": [
      "[default |INFO|model.py:1303] [84/100]\ttest_main: 0.1111\ttest_main2: 0.1228\ttest_penalty: 0.6821\n"
     ]
    },
    {
     "name": "stdout",
     "output_type": "stream",
     "text": [
      "[93/100]\ttest_main: 0.1101\ttest_main2: 0.0856\ttest_penalty: 0.70416972\r"
     ]
    },
    {
     "name": "stderr",
     "output_type": "stream",
     "text": [
      "[default |INFO|model.py:1303] [85/100]\ttest_main: 0.1102\ttest_main2: 0.0876\ttest_penalty: 0.7042\n"
     ]
    },
    {
     "name": "stdout",
     "output_type": "stream",
     "text": [
      "[95/100]\ttest_main: 0.1076\ttest_main2: 0.0386\ttest_penalty: 0.72077022\r"
     ]
    },
    {
     "name": "stderr",
     "output_type": "stream",
     "text": [
      "[default |INFO|model.py:1303] [86/100]\ttest_main: 0.1075\ttest_main2: 0.0386\ttest_penalty: 0.7207\n"
     ]
    },
    {
     "name": "stdout",
     "output_type": "stream",
     "text": [
      "[93/100]\ttest_main: 0.1086\ttest_main2: 0.0920\ttest_penalty: 0.71266963\r"
     ]
    },
    {
     "name": "stderr",
     "output_type": "stream",
     "text": [
      "[default |INFO|model.py:1303] [87/100]\ttest_main: 0.1085\ttest_main2: 0.0898\ttest_penalty: 0.7126\n"
     ]
    },
    {
     "name": "stdout",
     "output_type": "stream",
     "text": [
      "[93/100]\ttest_main: 0.1048\ttest_main2: 0.1388\ttest_penalty: 0.70806963\r"
     ]
    },
    {
     "name": "stderr",
     "output_type": "stream",
     "text": [
      "[default |INFO|model.py:1303] [88/100]\ttest_main: 0.1045\ttest_main2: 0.1395\ttest_penalty: 0.7079\n"
     ]
    },
    {
     "name": "stdout",
     "output_type": "stream",
     "text": [
      "[94/100]\ttest_main: 0.1064\ttest_main2: 0.3058\ttest_penalty: 0.68066976\r"
     ]
    },
    {
     "name": "stderr",
     "output_type": "stream",
     "text": [
      "[default |INFO|model.py:1303] [89/100]\ttest_main: 0.1065\ttest_main2: 0.3068\ttest_penalty: 0.6806\n"
     ]
    },
    {
     "name": "stdout",
     "output_type": "stream",
     "text": [
      "[94/100]\ttest_main: 0.1090\ttest_main2: 0.0782\ttest_penalty: 0.71686993\r"
     ]
    },
    {
     "name": "stderr",
     "output_type": "stream",
     "text": [
      "[default |INFO|model.py:1303] [90/100]\ttest_main: 0.1085\ttest_main2: 0.0762\ttest_penalty: 0.7167\n"
     ]
    },
    {
     "name": "stdout",
     "output_type": "stream",
     "text": [
      "[93/100]\ttest_main: 0.1097\ttest_main2: 0.1135\ttest_penalty: 0.68297012\r"
     ]
    },
    {
     "name": "stderr",
     "output_type": "stream",
     "text": [
      "[default |INFO|model.py:1303] [91/100]\ttest_main: 0.1100\ttest_main2: 0.1178\ttest_penalty: 0.6829\n"
     ]
    },
    {
     "name": "stdout",
     "output_type": "stream",
     "text": [
      "[93/100]\ttest_main: 0.1088\ttest_main2: 0.0359\ttest_penalty: 0.70246984\r"
     ]
    },
    {
     "name": "stderr",
     "output_type": "stream",
     "text": [
      "[default |INFO|model.py:1303] [92/100]\ttest_main: 0.1088\ttest_main2: 0.0346\ttest_penalty: 0.7024\n"
     ]
    },
    {
     "name": "stdout",
     "output_type": "stream",
     "text": [
      "[93/100]\ttest_main: 0.1076\ttest_main2: 0.1390\ttest_penalty: 0.69016986\r"
     ]
    },
    {
     "name": "stderr",
     "output_type": "stream",
     "text": [
      "[default |INFO|model.py:1303] [93/100]\ttest_main: 0.1077\ttest_main2: 0.1395\ttest_penalty: 0.6902\n"
     ]
    },
    {
     "name": "stdout",
     "output_type": "stream",
     "text": [
      "[93/100]\ttest_main: 0.1090\ttest_main2: 0.1072\ttest_penalty: 0.67726947\r"
     ]
    },
    {
     "name": "stderr",
     "output_type": "stream",
     "text": [
      "[default |INFO|model.py:1303] [94/100]\ttest_main: 0.1090\ttest_main2: 0.1035\ttest_penalty: 0.6772\n"
     ]
    },
    {
     "name": "stdout",
     "output_type": "stream",
     "text": [
      "[92/100]\ttest_main: 0.1052\ttest_main2: 0.1257\ttest_penalty: 0.69386980\r"
     ]
    },
    {
     "name": "stderr",
     "output_type": "stream",
     "text": [
      "[default |INFO|model.py:1303] [95/100]\ttest_main: 0.1052\ttest_main2: 0.1258\ttest_penalty: 0.6939\n"
     ]
    },
    {
     "name": "stdout",
     "output_type": "stream",
     "text": [
      "[94/100]\ttest_main: 0.1024\ttest_main2: 0.1750\ttest_penalty: 0.69626926\r"
     ]
    },
    {
     "name": "stderr",
     "output_type": "stream",
     "text": [
      "[default |INFO|model.py:1303] [96/100]\ttest_main: 0.1028\ttest_main2: 0.1783\ttest_penalty: 0.6961\n"
     ]
    },
    {
     "name": "stdout",
     "output_type": "stream",
     "text": [
      "[92/100]\ttest_main: 0.1060\ttest_main2: 0.0864\ttest_penalty: 0.67216986\r"
     ]
    },
    {
     "name": "stderr",
     "output_type": "stream",
     "text": [
      "[default |INFO|model.py:1303] [97/100]\ttest_main: 0.1059\ttest_main2: 0.0842\ttest_penalty: 0.6718\n"
     ]
    },
    {
     "name": "stdout",
     "output_type": "stream",
     "text": [
      "[88/100]\ttest_main: 0.1025\ttest_main2: 0.0407\ttest_penalty: 0.69706924\r"
     ]
    },
    {
     "name": "stderr",
     "output_type": "stream",
     "text": [
      "[default |INFO|model.py:1303] [98/100]\ttest_main: 0.1029\ttest_main2: 0.0461\ttest_penalty: 0.6970\n"
     ]
    },
    {
     "name": "stdout",
     "output_type": "stream",
     "text": [
      "[94/100]\ttest_main: 0.1007\ttest_main2: 0.1404\ttest_penalty: 0.69456975\r"
     ]
    },
    {
     "name": "stderr",
     "output_type": "stream",
     "text": [
      "[default |INFO|model.py:1303] [99/100]\ttest_main: 0.1002\ttest_main2: 0.1387\ttest_penalty: 0.6945\n"
     ]
    },
    {
     "name": "stdout",
     "output_type": "stream",
     "text": [
      "[93/100]\ttest_main: 0.1041\ttest_main2: 0.1557\ttest_penalty: 0.70006967\r"
     ]
    },
    {
     "name": "stderr",
     "output_type": "stream",
     "text": [
      "[default |INFO|model.py:1303] [100/100]\ttest_main: 0.1042\ttest_main2: 0.1528\ttest_penalty: 0.7001\n"
     ]
    },
    {
     "name": "stdout",
     "output_type": "stream",
     "text": [
      "[94/100]\ttest_main: 0.1041\ttest_main2: 0.1580\ttest_penalty: 0.7001\r",
      "[95/100]\ttest_main: 0.1040\ttest_main2: 0.1565\ttest_penalty: 0.7001\r",
      "[96/100]\ttest_main: 0.1040\ttest_main2: 0.1549\ttest_penalty: 0.7001\r",
      "[97/100]\ttest_main: 0.1041\ttest_main2: 0.1533\ttest_penalty: 0.7001\r",
      "[98/100]\ttest_main: 0.1041\ttest_main2: 0.1539\ttest_penalty: 0.7000\r",
      "[99/100]\ttest_main: 0.1043\ttest_main2: 0.1535\ttest_penalty: 0.7000\r",
      "[100/100]\ttest_main: 0.1042\ttest_main2: 0.1528\ttest_penalty: 0.7001\r"
     ]
    },
    {
     "name": "stderr",
     "output_type": "stream",
     "text": [
      "[default |INFO|model.py:1409] Training Finished!\n",
      "[default |INFO|model.py:1410] Elapsed time: 1298.686s\n"
     ]
    }
   ],
   "source": [
    "model = SSWAE_GAN_MNIST(cfg, log, device = device)\n",
    "model.train()\n",
    "# model.train(resume = True)"
   ]
  },
  {
   "cell_type": "code",
   "execution_count": 11,
   "metadata": {},
   "outputs": [
    {
     "name": "stdout",
     "output_type": "stream",
     "text": [
      "0.66\n"
     ]
    }
   ],
   "source": [
    "acc, n = 0, 0\n",
    "for data, condition in test_generator:\n",
    "    x = data.to(device)\n",
    "    y = condition.to(device)\n",
    "    fake_latent = model.encode_s(x)\n",
    "    recon = model.decode(fake_latent)\n",
    "    recon_y = model.decode_c(fake_latent)\n",
    "    acc += torch.sum(torch.max(recon_y, 1)[1] == 3).item() # 3 for unk\n",
    "    n += len(x)\n",
    "print(acc/n)"
   ]
  },
  {
   "cell_type": "markdown",
   "metadata": {},
   "source": [
    "Batch 사이즈의 비율은 label / unlabel의 비율과 관련이 없는 듯 하다."
   ]
  },
  {
   "cell_type": "code",
   "execution_count": null,
   "metadata": {},
   "outputs": [],
   "source": []
  }
 ],
 "metadata": {
  "kernelspec": {
   "display_name": "Python 3",
   "language": "python",
   "name": "python3"
  },
  "language_info": {
   "codemirror_mode": {
    "name": "ipython",
    "version": 3
   },
   "file_extension": ".py",
   "mimetype": "text/x-python",
   "name": "python",
   "nbconvert_exporter": "python",
   "pygments_lexer": "ipython3",
   "version": "3.8.5"
  }
 },
 "nbformat": 4,
 "nbformat_minor": 4
}
