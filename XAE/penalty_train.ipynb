{
 "cells": [
  {
   "cell_type": "markdown",
   "metadata": {},
   "source": [
    "## setting"
   ]
  },
  {
   "cell_type": "code",
   "execution_count": 1,
   "metadata": {},
   "outputs": [],
   "source": [
    "from model.sswae_dev2_3 import SSWAE_HSIC_MNIST as cur_model\n",
    "\n",
    "import os, sys, configparser, logging, argparse, time\n",
    "sys.path.append('/'.join(os.getcwd().split('/')[:-2]))\n",
    "\n",
    "import warnings\n",
    "warnings.filterwarnings(\"ignore\")\n",
    "\n",
    "import torch\n",
    "import torch.nn as nn\n",
    "import torch.optim as optim\n",
    "\n",
    "from XAE.dataset import rmMNIST\n",
    "from XAE.dataset import MNIST\n",
    "from XAE.util import init_params\n",
    "\n",
    "import numpy as np\n",
    "from sklearn.manifold import TSNE\n",
    "from matplotlib import pyplot as plt\n",
    "\n",
    "%matplotlib inline"
   ]
  },
  {
   "cell_type": "markdown",
   "metadata": {},
   "source": [
    "# Train - 1"
   ]
  },
  {
   "cell_type": "code",
   "execution_count": 2,
   "metadata": {},
   "outputs": [
    {
     "data": {
      "text/plain": [
       "['./config/sswae_dev2_hsic_1.cfg']"
      ]
     },
     "execution_count": 2,
     "metadata": {},
     "output_type": "execute_result"
    }
   ],
   "source": [
    "from XAE.logging_daily import logging_daily\n",
    "\n",
    "is_cuda = torch.cuda.is_available()\n",
    "device = torch.device('cuda' if is_cuda else 'cpu')\n",
    "\n",
    "logger = logging_daily('./config/log_info.yaml')\n",
    "log = logger.get_logging()\n",
    "log.setLevel(logging.INFO)\n",
    "\n",
    "cfg = configparser.ConfigParser()\n",
    "cfg.read('./config/sswae_dev2_hsic_1.cfg')"
   ]
  },
  {
   "cell_type": "code",
   "execution_count": 3,
   "metadata": {
    "scrolled": true
   },
   "outputs": [
    {
     "name": "stderr",
     "output_type": "stream",
     "text": [
      "[default |INFO|_base_model.py:27] ------------------------------------------------------------\n",
      "[default |INFO|_base_model.py:29] model_name : SSWAE_HSIC_MNIST\n",
      "[default |INFO|_base_model.py:29] train_data : rmMNIST\n",
      "[default |INFO|_base_model.py:29] train_data_label : True\n",
      "[default |INFO|_base_model.py:29] z_sampler : gaus\n",
      "[default |INFO|_base_model.py:29] z_dim : 4\n",
      "[default |INFO|_base_model.py:29] y_sampler : gaus\n",
      "[default |INFO|_base_model.py:29] y_dim : 8\n",
      "[default |INFO|_base_model.py:29] labeled_class : 0,1,2,3,4,5,6,7,8,9\n",
      "[default |INFO|_base_model.py:29] unlabeled_class : \n",
      "[default |INFO|_base_model.py:29] test_class : \n",
      "[default |INFO|_base_model.py:29] portion : 1.0\n",
      "[default |INFO|_base_model.py:29] unk : False\n",
      "[default |INFO|_base_model.py:29] encoder_pretrain : False\n",
      "[default |INFO|_base_model.py:29] encoder_pretrain_step : 3\n",
      "[default |INFO|_base_model.py:29] lr : 5e-4\n",
      "[default |INFO|_base_model.py:29] beta1 : 0.5\n",
      "[default |INFO|_base_model.py:29] lr_adv : 2e-4\n",
      "[default |INFO|_base_model.py:29] beta1_adv : 0.5\n",
      "[default |INFO|_base_model.py:29] lambda : 10.0\n",
      "[default |INFO|_base_model.py:29] lambda_mmd : 10.0\n",
      "[default |INFO|_base_model.py:29] lambda_hsic : 10.0\n",
      "[default |INFO|_base_model.py:29] lr_schedule : manual\n",
      "[default |INFO|_base_model.py:29] validate : True\n",
      "[default |INFO|_base_model.py:29] histogram : True\n",
      "[default |INFO|_base_model.py:29] batch_size : 100\n",
      "[default |INFO|_base_model.py:29] epoch : 80\n",
      "[default |INFO|_base_model.py:29] replace : False\n",
      "[default |INFO|_base_model.py:29] save_best : False\n",
      "[default |INFO|_base_model.py:32] data_home : ./data/MNIST\n",
      "[default |INFO|_base_model.py:32] tb_logs : \n",
      "[default |INFO|_base_model.py:32] save_path : ./result/weights/sswae_dev2_hsic_1.pt\n",
      "[default |INFO|_base_model.py:32] save_state : ./result/states/sswae_dev2_hsic_1.pt\n",
      "[default |INFO|_base_model.py:32] save_img_path : \n",
      "[default |INFO|model.py:2061] ------------------------------------------------------------\n",
      "[default |INFO|model.py:2062] Training Start!\n"
     ]
    },
    {
     "name": "stdout",
     "output_type": "stream",
     "text": [
      "[095/100]  test loss: 0.2040  D: 0.6936  D2: 0.0263  D3: 0.0062  D4: 0.0082\r"
     ]
    },
    {
     "name": "stderr",
     "output_type": "stream",
     "text": [
      "[default |INFO|model.py:2182] [01/80]  loss: 2.630801e-01  D: 6.864009e-01  D2: 4.438518e-02  D3: 2.750655e-03  D4: 3.508443e-03\n",
      "test loss: 2.041124e-01  D: 6.935698e-01  D2: 2.623857e-02  D3: 6.166806e-03  D4: 8.174494e-03\n"
     ]
    },
    {
     "name": "stdout",
     "output_type": "stream",
     "text": [
      "[096/100]  test loss: 0.1738  D: 0.6942  D2: 0.0099  D3: 0.0058  D4: 0.0077\r"
     ]
    },
    {
     "name": "stderr",
     "output_type": "stream",
     "text": [
      "[default |INFO|model.py:2182] [02/80]  loss: 1.904072e-01  D: 6.971267e-01  D2: 1.779105e-02  D3: 6.405310e-03  D4: 8.207623e-03\n",
      "test loss: 1.737619e-01  D: 6.942150e-01  D2: 9.912834e-03  D3: 5.741287e-03  D4: 7.630379e-03\n"
     ]
    },
    {
     "name": "stdout",
     "output_type": "stream",
     "text": [
      "[096/100]  test loss: 0.1495  D: 0.6967  D2: 0.0010  D3: 0.0059  D4: 0.00697\r"
     ]
    },
    {
     "name": "stderr",
     "output_type": "stream",
     "text": [
      "[default |INFO|model.py:2182] [03/80]  loss: 1.631403e-01  D: 6.937509e-01  D2: 4.864027e-03  D3: 6.937819e-03  D4: 8.480536e-03\n",
      "test loss: 1.494526e-01  D: 6.967277e-01  D2: 9.313583e-04  D3: 5.864152e-03  D4: 6.870770e-03\n"
     ]
    },
    {
     "name": "stdout",
     "output_type": "stream",
     "text": [
      "[094/100]  test loss: 0.1150  D: 0.6983  D2: -0.0011  D3: 0.0056  D4: 0.0072\r"
     ]
    },
    {
     "name": "stderr",
     "output_type": "stream",
     "text": [
      "[default |INFO|model.py:2182] [04/80]  loss: 1.354597e-01  D: 6.932074e-01  D2: -2.432315e-04  D3: 6.482071e-03  D4: 7.581411e-03\n",
      "test loss: 1.150871e-01  D: 6.983198e-01  D2: -1.008453e-03  D3: 5.662749e-03  D4: 7.254772e-03\n"
     ]
    },
    {
     "name": "stdout",
     "output_type": "stream",
     "text": [
      "[094/100]  test loss: 0.0964  D: 0.7076  D2: -0.0021  D3: 0.0117  D4: 0.0134\r"
     ]
    },
    {
     "name": "stderr",
     "output_type": "stream",
     "text": [
      "[default |INFO|model.py:2182] [05/80]  loss: 1.083136e-01  D: 6.959566e-01  D2: -1.800656e-03  D3: 7.335946e-03  D4: 8.591662e-03\n",
      "test loss: 9.632033e-02  D: 7.075736e-01  D2: -2.104883e-03  D3: 1.171499e-02  D4: 1.335345e-02\n"
     ]
    },
    {
     "name": "stdout",
     "output_type": "stream",
     "text": [
      "[095/100]  test loss: 0.0988  D: 0.6613  D2: -0.0038  D3: 0.0118  D4: 0.0122\r"
     ]
    },
    {
     "name": "stderr",
     "output_type": "stream",
     "text": [
      "[default |INFO|model.py:2182] [06/80]  loss: 1.028850e-01  D: 6.978849e-01  D2: -2.656973e-03  D3: 1.169170e-02  D4: 1.256228e-02\n",
      "test loss: 9.887083e-02  D: 6.613174e-01  D2: -3.870192e-03  D3: 1.171751e-02  D4: 1.220323e-02\n"
     ]
    },
    {
     "name": "stdout",
     "output_type": "stream",
     "text": [
      "[096/100]  test loss: 0.0852  D: 0.7398  D2: -0.0041  D3: 0.0094  D4: 0.0103\r"
     ]
    },
    {
     "name": "stderr",
     "output_type": "stream",
     "text": [
      "[default |INFO|model.py:2182] [07/80]  loss: 8.966974e-02  D: 6.972370e-01  D2: -3.778594e-03  D3: 1.066013e-02  D4: 1.145563e-02\n",
      "test loss: 8.530592e-02  D: 7.398511e-01  D2: -4.098368e-03  D3: 9.453963e-03  D4: 1.041434e-02\n"
     ]
    },
    {
     "name": "stdout",
     "output_type": "stream",
     "text": [
      "[094/100]  test loss: 0.0797  D: 0.6990  D2: -0.0036  D3: 0.0101  D4: 0.0112\r"
     ]
    },
    {
     "name": "stderr",
     "output_type": "stream",
     "text": [
      "[default |INFO|model.py:2182] [08/80]  loss: 8.337158e-02  D: 6.947516e-01  D2: -4.222282e-03  D3: 1.029849e-02  D4: 1.096207e-02\n",
      "test loss: 7.954242e-02  D: 6.990064e-01  D2: -3.550177e-03  D3: 1.013375e-02  D4: 1.121288e-02\n"
     ]
    },
    {
     "name": "stdout",
     "output_type": "stream",
     "text": [
      "[094/100]  test loss: 0.0782  D: 0.6938  D2: -0.0042  D3: 0.0124  D4: 0.0133\r"
     ]
    },
    {
     "name": "stderr",
     "output_type": "stream",
     "text": [
      "[default |INFO|model.py:2182] [09/80]  loss: 7.896999e-02  D: 6.935854e-01  D2: -4.197009e-03  D3: 1.144575e-02  D4: 1.223584e-02\n",
      "test loss: 7.817990e-02  D: 6.937664e-01  D2: -4.199543e-03  D3: 1.245303e-02  D4: 1.332582e-02\n"
     ]
    },
    {
     "name": "stdout",
     "output_type": "stream",
     "text": [
      "[096/100]  test loss: 0.0770  D: 0.6916  D2: -0.0051  D3: 0.0120  D4: 0.0124\r"
     ]
    },
    {
     "name": "stderr",
     "output_type": "stream",
     "text": [
      "[default |INFO|model.py:2182] [10/80]  loss: 8.300547e-02  D: 6.966066e-01  D2: -4.417432e-03  D3: 1.352043e-02  D4: 1.450322e-02\n",
      "test loss: 7.701774e-02  D: 6.916046e-01  D2: -5.028429e-03  D3: 1.192953e-02  D4: 1.239978e-02\n"
     ]
    },
    {
     "name": "stdout",
     "output_type": "stream",
     "text": [
      "[095/100]  test loss: 0.0810  D: 0.7089  D2: -0.0041  D3: 0.0136  D4: 0.0159\r"
     ]
    },
    {
     "name": "stderr",
     "output_type": "stream",
     "text": [
      "[default |INFO|model.py:2182] [11/80]  loss: 7.824619e-02  D: 6.936111e-01  D2: -4.271285e-03  D3: 1.143443e-02  D4: 1.274067e-02\n",
      "test loss: 8.094658e-02  D: 7.089526e-01  D2: -4.114084e-03  D3: 1.357653e-02  D4: 1.598317e-02\n"
     ]
    },
    {
     "name": "stdout",
     "output_type": "stream",
     "text": [
      "[095/100]  test loss: 0.0721  D: 0.6952  D2: -0.0052  D3: 0.0151  D4: 0.0158\r"
     ]
    },
    {
     "name": "stderr",
     "output_type": "stream",
     "text": [
      "[default |INFO|model.py:2182] [12/80]  loss: 7.402275e-02  D: 6.965788e-01  D2: -4.693133e-03  D3: 1.341045e-02  D4: 1.442733e-02\n",
      "test loss: 7.217947e-02  D: 6.952178e-01  D2: -5.087242e-03  D3: 1.509072e-02  D4: 1.578940e-02\n"
     ]
    },
    {
     "name": "stdout",
     "output_type": "stream",
     "text": [
      "[095/100]  test loss: 0.0762  D: 0.6920  D2: -0.0051  D3: 0.0138  D4: 0.0158\r"
     ]
    },
    {
     "name": "stderr",
     "output_type": "stream",
     "text": [
      "[default |INFO|model.py:2182] [13/80]  loss: 7.552564e-02  D: 6.952221e-01  D2: -4.750563e-03  D3: 1.275320e-02  D4: 1.384721e-02\n",
      "test loss: 7.628231e-02  D: 6.920632e-01  D2: -5.074387e-03  D3: 1.376536e-02  D4: 1.577202e-02\n"
     ]
    },
    {
     "name": "stdout",
     "output_type": "stream",
     "text": [
      "[096/100]  test loss: 0.0687  D: 0.6841  D2: -0.0051  D3: 0.0144  D4: 0.0150\r"
     ]
    },
    {
     "name": "stderr",
     "output_type": "stream",
     "text": [
      "[default |INFO|model.py:2182] [14/80]  loss: 7.260106e-02  D: 6.956893e-01  D2: -4.822499e-03  D3: 1.365454e-02  D4: 1.469190e-02\n",
      "test loss: 6.883126e-02  D: 6.840796e-01  D2: -5.064211e-03  D3: 1.438212e-02  D4: 1.496192e-02\n"
     ]
    },
    {
     "name": "stdout",
     "output_type": "stream",
     "text": [
      "[095/100]  test loss: 0.0653  D: 0.6881  D2: -0.0059  D3: 0.0146  D4: 0.0152\r"
     ]
    },
    {
     "name": "stderr",
     "output_type": "stream",
     "text": [
      "[default |INFO|model.py:2182] [15/80]  loss: 6.937286e-02  D: 6.968431e-01  D2: -5.237385e-03  D3: 1.352145e-02  D4: 1.467551e-02\n",
      "test loss: 6.525033e-02  D: 6.880777e-01  D2: -5.908585e-03  D3: 1.461693e-02  D4: 1.526119e-02\n"
     ]
    },
    {
     "name": "stdout",
     "output_type": "stream",
     "text": [
      "[096/100]  test loss: 0.0658  D: 0.6792  D2: -0.0049  D3: 0.0121  D4: 0.0129\r"
     ]
    },
    {
     "name": "stderr",
     "output_type": "stream",
     "text": [
      "[default |INFO|model.py:2182] [16/80]  loss: 6.721907e-02  D: 6.945162e-01  D2: -5.236986e-03  D3: 1.303876e-02  D4: 1.427424e-02\n",
      "test loss: 6.576058e-02  D: 6.792052e-01  D2: -4.967232e-03  D3: 1.216183e-02  D4: 1.290145e-02\n"
     ]
    },
    {
     "name": "stdout",
     "output_type": "stream",
     "text": [
      "[096/100]  test loss: 0.0662  D: 0.6865  D2: -0.0054  D3: 0.0151  D4: 0.0158\r"
     ]
    },
    {
     "name": "stderr",
     "output_type": "stream",
     "text": [
      "[default |INFO|model.py:2182] [17/80]  loss: 6.647183e-02  D: 6.931157e-01  D2: -5.130043e-03  D3: 1.335563e-02  D4: 1.454495e-02\n",
      "test loss: 6.624182e-02  D: 6.864847e-01  D2: -5.266695e-03  D3: 1.506491e-02  D4: 1.585788e-02\n"
     ]
    },
    {
     "name": "stdout",
     "output_type": "stream",
     "text": [
      "[096/100]  test loss: 0.0619  D: 0.6865  D2: -0.0056  D3: 0.0116  D4: 0.0126\r"
     ]
    },
    {
     "name": "stderr",
     "output_type": "stream",
     "text": [
      "[default |INFO|model.py:2182] [18/80]  loss: 6.350319e-02  D: 6.940604e-01  D2: -5.474602e-03  D3: 1.381987e-02  D4: 1.484553e-02\n",
      "test loss: 6.176799e-02  D: 6.865245e-01  D2: -5.579071e-03  D3: 1.160127e-02  D4: 1.256891e-02\n"
     ]
    },
    {
     "name": "stdout",
     "output_type": "stream",
     "text": [
      "[096/100]  test loss: 0.0643  D: 0.7010  D2: -0.0052  D3: 0.0159  D4: 0.0174\r"
     ]
    },
    {
     "name": "stderr",
     "output_type": "stream",
     "text": [
      "[default |INFO|model.py:2182] [19/80]  loss: 6.293879e-02  D: 6.947288e-01  D2: -5.577404e-03  D3: 1.359222e-02  D4: 1.460391e-02\n",
      "test loss: 6.427585e-02  D: 7.009800e-01  D2: -5.193453e-03  D3: 1.586701e-02  D4: 1.741277e-02\n"
     ]
    },
    {
     "name": "stdout",
     "output_type": "stream",
     "text": [
      "[095/100]  test loss: 0.0604  D: 0.6978  D2: -0.0063  D3: 0.0126  D4: 0.0135\r"
     ]
    },
    {
     "name": "stderr",
     "output_type": "stream",
     "text": [
      "[default |INFO|model.py:2182] [20/80]  loss: 6.214015e-02  D: 6.932898e-01  D2: -5.369919e-03  D3: 1.332256e-02  D4: 1.437541e-02\n",
      "test loss: 6.048398e-02  D: 6.978003e-01  D2: -6.324549e-03  D3: 1.263981e-02  D4: 1.362310e-02\n"
     ]
    },
    {
     "name": "stdout",
     "output_type": "stream",
     "text": [
      "[096/100]  test loss: 0.0616  D: 0.6753  D2: -0.0047  D3: 0.0111  D4: 0.0119\r"
     ]
    },
    {
     "name": "stderr",
     "output_type": "stream",
     "text": [
      "[default |INFO|model.py:2182] [21/80]  loss: 6.085320e-02  D: 6.947247e-01  D2: -5.640092e-03  D3: 1.358619e-02  D4: 1.465754e-02\n",
      "test loss: 6.162445e-02  D: 6.752679e-01  D2: -4.717207e-03  D3: 1.108232e-02  D4: 1.192700e-02\n"
     ]
    },
    {
     "name": "stdout",
     "output_type": "stream",
     "text": [
      "[094/100]  test loss: 0.0606  D: 0.6858  D2: -0.0058  D3: 0.0120  D4: 0.0128\r"
     ]
    },
    {
     "name": "stderr",
     "output_type": "stream",
     "text": [
      "[default |INFO|model.py:2182] [22/80]  loss: 6.115285e-02  D: 6.949786e-01  D2: -5.833748e-03  D3: 1.350283e-02  D4: 1.459944e-02\n",
      "test loss: 6.046112e-02  D: 6.857423e-01  D2: -5.865831e-03  D3: 1.198319e-02  D4: 1.281948e-02\n"
     ]
    },
    {
     "name": "stdout",
     "output_type": "stream",
     "text": [
      "[093/100]  test loss: 0.0588  D: 0.6806  D2: -0.0059  D3: 0.0118  D4: 0.0127\r"
     ]
    },
    {
     "name": "stderr",
     "output_type": "stream",
     "text": [
      "[default |INFO|model.py:2182] [23/80]  loss: 5.973538e-02  D: 6.936576e-01  D2: -6.061819e-03  D3: 1.340817e-02  D4: 1.455848e-02\n",
      "test loss: 5.897304e-02  D: 6.805753e-01  D2: -5.947733e-03  D3: 1.177754e-02  D4: 1.269958e-02\n"
     ]
    },
    {
     "name": "stdout",
     "output_type": "stream",
     "text": [
      "[095/100]  test loss: 0.0599  D: 0.6962  D2: -0.0059  D3: 0.0129  D4: 0.0142\r"
     ]
    },
    {
     "name": "stderr",
     "output_type": "stream",
     "text": [
      "[default |INFO|model.py:2182] [24/80]  loss: 5.884771e-02  D: 6.934097e-01  D2: -5.907324e-03  D3: 1.368087e-02  D4: 1.467284e-02\n",
      "test loss: 5.961630e-02  D: 6.961871e-01  D2: -5.961437e-03  D3: 1.287758e-02  D4: 1.416854e-02\n"
     ]
    },
    {
     "name": "stdout",
     "output_type": "stream",
     "text": [
      "[096/100]  test loss: 0.0588  D: 0.6923  D2: -0.0057  D3: 0.0137  D4: 0.0146\r"
     ]
    },
    {
     "name": "stderr",
     "output_type": "stream",
     "text": [
      "[default |INFO|model.py:2182] [25/80]  loss: 5.912193e-02  D: 6.958480e-01  D2: -6.164840e-03  D3: 1.335003e-02  D4: 1.447183e-02\n",
      "test loss: 5.890595e-02  D: 6.923282e-01  D2: -5.752268e-03  D3: 1.368374e-02  D4: 1.453037e-02\n"
     ]
    },
    {
     "name": "stdout",
     "output_type": "stream",
     "text": [
      "[095/100]  test loss: 0.0581  D: 0.6966  D2: -0.0060  D3: 0.0149  D4: 0.0159\r"
     ]
    },
    {
     "name": "stderr",
     "output_type": "stream",
     "text": [
      "[default |INFO|model.py:2182] [26/80]  loss: 5.874003e-02  D: 6.956960e-01  D2: -6.095279e-03  D3: 1.331433e-02  D4: 1.439717e-02\n",
      "test loss: 5.806230e-02  D: 6.966048e-01  D2: -5.942440e-03  D3: 1.491827e-02  D4: 1.593984e-02\n"
     ]
    },
    {
     "name": "stdout",
     "output_type": "stream",
     "text": [
      "[092/100]  test loss: 0.0566  D: 0.6752  D2: -0.0066  D3: 0.0128  D4: 0.0138\r"
     ]
    },
    {
     "name": "stderr",
     "output_type": "stream",
     "text": [
      "[default |INFO|model.py:2182] [27/80]  loss: 5.776331e-02  D: 6.939659e-01  D2: -6.358879e-03  D3: 1.316979e-02  D4: 1.427329e-02\n",
      "test loss: 5.650897e-02  D: 6.752317e-01  D2: -6.666431e-03  D3: 1.276747e-02  D4: 1.372596e-02\n"
     ]
    },
    {
     "name": "stdout",
     "output_type": "stream",
     "text": [
      "[095/100]  test loss: 0.0578  D: 0.6932  D2: -0.0063  D3: 0.0149  D4: 0.0161\r"
     ]
    },
    {
     "name": "stderr",
     "output_type": "stream",
     "text": [
      "[default |INFO|model.py:2182] [28/80]  loss: 5.568783e-02  D: 6.944909e-01  D2: -6.501846e-03  D3: 1.339789e-02  D4: 1.446569e-02\n",
      "test loss: 5.784018e-02  D: 6.932008e-01  D2: -6.326914e-03  D3: 1.492813e-02  D4: 1.610159e-02\n"
     ]
    },
    {
     "name": "stdout",
     "output_type": "stream",
     "text": [
      "[094/100]  test loss: 0.0553  D: 0.7065  D2: -0.0061  D3: 0.0149  D4: 0.0162\r"
     ]
    },
    {
     "name": "stderr",
     "output_type": "stream",
     "text": [
      "[default |INFO|model.py:2182] [29/80]  loss: 5.534964e-02  D: 6.944475e-01  D2: -6.619128e-03  D3: 1.346474e-02  D4: 1.461405e-02\n",
      "test loss: 5.517518e-02  D: 7.064717e-01  D2: -6.098986e-03  D3: 1.493086e-02  D4: 1.619033e-02\n"
     ]
    },
    {
     "name": "stdout",
     "output_type": "stream",
     "text": [
      "[095/100]  test loss: 0.0592  D: 0.6989  D2: -0.0071  D3: 0.0145  D4: 0.0152\r"
     ]
    },
    {
     "name": "stderr",
     "output_type": "stream",
     "text": [
      "[default |INFO|model.py:2182] [30/80]  loss: 5.534683e-02  D: 6.938603e-01  D2: -6.494714e-03  D3: 1.339696e-02  D4: 1.442124e-02\n",
      "test loss: 5.923320e-02  D: 6.988614e-01  D2: -7.078619e-03  D3: 1.451054e-02  D4: 1.524753e-02\n"
     ]
    },
    {
     "name": "stdout",
     "output_type": "stream",
     "text": [
      "[092/100]  test loss: 0.0549  D: 0.7009  D2: -0.0067  D3: 0.0131  D4: 0.0141\r"
     ]
    },
    {
     "name": "stderr",
     "output_type": "stream",
     "text": [
      "[default |INFO|model.py:2182] [31/80]  loss: 5.563825e-02  D: 6.940412e-01  D2: -6.610893e-03  D3: 1.303042e-02  D4: 1.409640e-02\n",
      "test loss: 5.468344e-02  D: 7.009387e-01  D2: -6.739321e-03  D3: 1.306195e-02  D4: 1.412725e-02\n"
     ]
    },
    {
     "name": "stdout",
     "output_type": "stream",
     "text": [
      "[096/100]  test loss: 0.0552  D: 0.7026  D2: -0.0067  D3: 0.0130  D4: 0.0142\r"
     ]
    },
    {
     "name": "stderr",
     "output_type": "stream",
     "text": [
      "[default |INFO|model.py:2182] [32/80]  loss: 5.540278e-02  D: 6.941912e-01  D2: -6.812340e-03  D3: 1.312528e-02  D4: 1.427941e-02\n",
      "test loss: 5.508614e-02  D: 7.025730e-01  D2: -6.702204e-03  D3: 1.297456e-02  D4: 1.419856e-02\n"
     ]
    },
    {
     "name": "stdout",
     "output_type": "stream",
     "text": [
      "[095/100]  test loss: 0.0554  D: 0.6987  D2: -0.0071  D3: 0.0145  D4: 0.0158\r"
     ]
    },
    {
     "name": "stderr",
     "output_type": "stream",
     "text": [
      "[default |INFO|model.py:2182] [33/80]  loss: 5.414959e-02  D: 6.934963e-01  D2: -6.805579e-03  D3: 1.324721e-02  D4: 1.434614e-02\n",
      "test loss: 5.547350e-02  D: 6.987331e-01  D2: -7.048111e-03  D3: 1.455815e-02  D4: 1.576139e-02\n"
     ]
    },
    {
     "name": "stdout",
     "output_type": "stream",
     "text": [
      "[094/100]  test loss: 0.0563  D: 0.6917  D2: -0.0071  D3: 0.0140  D4: 0.0147\r"
     ]
    },
    {
     "name": "stderr",
     "output_type": "stream",
     "text": [
      "[default |INFO|model.py:2182] [34/80]  loss: 5.438615e-02  D: 6.934874e-01  D2: -6.930067e-03  D3: 1.326750e-02  D4: 1.441228e-02\n",
      "test loss: 5.639478e-02  D: 6.916816e-01  D2: -7.165556e-03  D3: 1.398445e-02  D4: 1.474493e-02\n"
     ]
    },
    {
     "name": "stdout",
     "output_type": "stream",
     "text": [
      "[095/100]  test loss: 0.0557  D: 0.6765  D2: -0.0073  D3: 0.0120  D4: 0.0130\r"
     ]
    },
    {
     "name": "stderr",
     "output_type": "stream",
     "text": [
      "[default |INFO|model.py:2182] [35/80]  loss: 5.401771e-02  D: 6.943105e-01  D2: -7.021111e-03  D3: 1.292884e-02  D4: 1.414449e-02\n",
      "test loss: 5.581469e-02  D: 6.764961e-01  D2: -7.213259e-03  D3: 1.199319e-02  D4: 1.300147e-02\n"
     ]
    },
    {
     "name": "stdout",
     "output_type": "stream",
     "text": [
      "[096/100]  test loss: 0.0585  D: 0.7001  D2: -0.0070  D3: 0.0158  D4: 0.0166\r"
     ]
    },
    {
     "name": "stderr",
     "output_type": "stream",
     "text": [
      "[default |INFO|model.py:2182] [36/80]  loss: 5.396088e-02  D: 6.940130e-01  D2: -7.227260e-03  D3: 1.291919e-02  D4: 1.405840e-02\n",
      "test loss: 5.845406e-02  D: 7.000792e-01  D2: -7.057343e-03  D3: 1.579469e-02  D4: 1.661938e-02\n"
     ]
    },
    {
     "name": "stdout",
     "output_type": "stream",
     "text": [
      "[095/100]  test loss: 0.0611  D: 0.6872  D2: -0.0073  D3: 0.0096  D4: 0.0105\r"
     ]
    },
    {
     "name": "stderr",
     "output_type": "stream",
     "text": [
      "[default |INFO|model.py:2182] [37/80]  loss: 5.619809e-02  D: 6.960675e-01  D2: -7.147147e-03  D3: 1.262435e-02  D4: 1.371805e-02\n",
      "test loss: 6.109366e-02  D: 6.871596e-01  D2: -7.313118e-03  D3: 9.562455e-03  D4: 1.045488e-02\n"
     ]
    },
    {
     "name": "stdout",
     "output_type": "stream",
     "text": [
      "[096/100]  test loss: 0.0576  D: 0.6972  D2: -0.0074  D3: 0.0143  D4: 0.0151\r"
     ]
    },
    {
     "name": "stderr",
     "output_type": "stream",
     "text": [
      "[default |INFO|model.py:2182] [38/80]  loss: 5.490503e-02  D: 6.942432e-01  D2: -7.332579e-03  D3: 1.291151e-02  D4: 1.403107e-02\n",
      "test loss: 5.748422e-02  D: 6.972396e-01  D2: -7.388592e-03  D3: 1.427509e-02  D4: 1.513130e-02\n"
     ]
    },
    {
     "name": "stdout",
     "output_type": "stream",
     "text": [
      "[096/100]  test loss: 0.0583  D: 0.7009  D2: -0.0074  D3: 0.0096  D4: 0.0106\r"
     ]
    },
    {
     "name": "stderr",
     "output_type": "stream",
     "text": [
      "[default |INFO|model.py:2182] [39/80]  loss: 5.503062e-02  D: 6.944155e-01  D2: -7.386664e-03  D3: 1.255429e-02  D4: 1.363458e-02\n",
      "test loss: 5.838783e-02  D: 7.008615e-01  D2: -7.308016e-03  D3: 9.601833e-03  D4: 1.059457e-02\n"
     ]
    },
    {
     "name": "stdout",
     "output_type": "stream",
     "text": [
      "[096/100]  test loss: 0.0561  D: 0.6964  D2: -0.0073  D3: 0.0137  D4: 0.0151\r"
     ]
    },
    {
     "name": "stderr",
     "output_type": "stream",
     "text": [
      "[default |INFO|model.py:2182] [40/80]  loss: 5.889244e-02  D: 6.961404e-01  D2: -7.187835e-03  D3: 1.196388e-02  D4: 1.298732e-02\n",
      "test loss: 5.603785e-02  D: 6.964305e-01  D2: -7.245083e-03  D3: 1.368858e-02  D4: 1.501685e-02\n"
     ]
    },
    {
     "name": "stdout",
     "output_type": "stream",
     "text": [
      "[096/100]  test loss: 0.0590  D: 0.6869  D2: -0.0067  D3: 0.0107  D4: 0.0115\r"
     ]
    },
    {
     "name": "stderr",
     "output_type": "stream",
     "text": [
      "[default |INFO|model.py:2182] [41/80]  loss: 5.513366e-02  D: 6.933914e-01  D2: -7.346690e-03  D3: 1.271163e-02  D4: 1.379913e-02\n",
      "test loss: 5.900157e-02  D: 6.869385e-01  D2: -6.696301e-03  D3: 1.067629e-02  D4: 1.144397e-02\n"
     ]
    },
    {
     "name": "stdout",
     "output_type": "stream",
     "text": [
      "[095/100]  test loss: 0.0553  D: 0.7024  D2: -0.0075  D3: 0.0126  D4: 0.0136\r"
     ]
    },
    {
     "name": "stderr",
     "output_type": "stream",
     "text": [
      "[default |INFO|model.py:2182] [42/80]  loss: 5.330180e-02  D: 6.941402e-01  D2: -7.495095e-03  D3: 1.296669e-02  D4: 1.412520e-02\n",
      "test loss: 5.525731e-02  D: 7.023721e-01  D2: -7.516088e-03  D3: 1.256385e-02  D4: 1.358124e-02\n"
     ]
    },
    {
     "name": "stdout",
     "output_type": "stream",
     "text": [
      "[096/100]  test loss: 0.0535  D: 0.6989  D2: -0.0080  D3: 0.0134  D4: 0.0144\r"
     ]
    },
    {
     "name": "stderr",
     "output_type": "stream",
     "text": [
      "[default |INFO|model.py:2182] [43/80]  loss: 5.317133e-02  D: 6.940353e-01  D2: -7.531613e-03  D3: 1.292977e-02  D4: 1.404594e-02\n",
      "test loss: 5.350417e-02  D: 6.988423e-01  D2: -8.017607e-03  D3: 1.344044e-02  D4: 1.441282e-02\n"
     ]
    },
    {
     "name": "stdout",
     "output_type": "stream",
     "text": [
      "[096/100]  test loss: 0.0533  D: 0.6898  D2: -0.0075  D3: 0.0136  D4: 0.0147\r"
     ]
    },
    {
     "name": "stderr",
     "output_type": "stream",
     "text": [
      "[default |INFO|model.py:2182] [44/80]  loss: 5.347128e-02  D: 6.946170e-01  D2: -7.645462e-03  D3: 1.283514e-02  D4: 1.391056e-02\n",
      "test loss: 5.336999e-02  D: 6.898121e-01  D2: -7.512560e-03  D3: 1.359885e-02  D4: 1.466365e-02\n"
     ]
    },
    {
     "name": "stdout",
     "output_type": "stream",
     "text": [
      "[096/100]  test loss: 0.0566  D: 0.6939  D2: -0.0079  D3: 0.0116  D4: 0.0127\r"
     ]
    },
    {
     "name": "stderr",
     "output_type": "stream",
     "text": [
      "[default |INFO|model.py:2182] [45/80]  loss: 5.313110e-02  D: 6.940286e-01  D2: -7.692258e-03  D3: 1.274322e-02  D4: 1.384765e-02\n",
      "test loss: 5.674356e-02  D: 6.938979e-01  D2: -7.849483e-03  D3: 1.160890e-02  D4: 1.276611e-02\n"
     ]
    },
    {
     "name": "stdout",
     "output_type": "stream",
     "text": [
      "[096/100]  test loss: 0.0517  D: 0.6848  D2: -0.0082  D3: 0.0121  D4: 0.0132\r"
     ]
    },
    {
     "name": "stderr",
     "output_type": "stream",
     "text": [
      "[default |INFO|model.py:2182] [46/80]  loss: 5.210908e-02  D: 6.940193e-01  D2: -7.850122e-03  D3: 1.290379e-02  D4: 1.411272e-02\n",
      "test loss: 5.166822e-02  D: 6.847694e-01  D2: -8.193464e-03  D3: 1.213744e-02  D4: 1.314848e-02\n"
     ]
    },
    {
     "name": "stdout",
     "output_type": "stream",
     "text": [
      "[096/100]  test loss: 0.0535  D: 0.6836  D2: -0.0077  D3: 0.0130  D4: 0.0141\r"
     ]
    },
    {
     "name": "stderr",
     "output_type": "stream",
     "text": [
      "[default |INFO|model.py:2182] [47/80]  loss: 5.200073e-02  D: 6.933487e-01  D2: -7.920259e-03  D3: 1.289062e-02  D4: 1.397218e-02\n",
      "test loss: 5.346098e-02  D: 6.836710e-01  D2: -7.714472e-03  D3: 1.296062e-02  D4: 1.406591e-02\n"
     ]
    },
    {
     "name": "stdout",
     "output_type": "stream",
     "text": [
      "[096/100]  test loss: 0.0531  D: 0.6788  D2: -0.0079  D3: 0.0129  D4: 0.0140\r"
     ]
    },
    {
     "name": "stderr",
     "output_type": "stream",
     "text": [
      "[default |INFO|model.py:2182] [48/80]  loss: 5.284460e-02  D: 6.947121e-01  D2: -7.899388e-03  D3: 1.238795e-02  D4: 1.356220e-02\n",
      "test loss: 5.321686e-02  D: 6.788582e-01  D2: -7.882776e-03  D3: 1.288908e-02  D4: 1.398776e-02\n"
     ]
    },
    {
     "name": "stdout",
     "output_type": "stream",
     "text": [
      "[096/100]  test loss: 0.0531  D: 0.7002  D2: -0.0079  D3: 0.0143  D4: 0.0153\r"
     ]
    },
    {
     "name": "stderr",
     "output_type": "stream",
     "text": [
      "[default |INFO|model.py:2182] [49/80]  loss: 5.313961e-02  D: 6.924877e-01  D2: -7.976885e-03  D3: 1.223830e-02  D4: 1.338581e-02\n",
      "test loss: 5.313602e-02  D: 7.001624e-01  D2: -7.860975e-03  D3: 1.425893e-02  D4: 1.532326e-02\n"
     ]
    },
    {
     "name": "stdout",
     "output_type": "stream",
     "text": [
      "[096/100]  test loss: 0.0533  D: 0.6897  D2: -0.0083  D3: 0.0127  D4: 0.0138\r"
     ]
    },
    {
     "name": "stderr",
     "output_type": "stream",
     "text": [
      "[default |INFO|model.py:2182] [50/80]  loss: 5.370731e-02  D: 6.954800e-01  D2: -7.897526e-03  D3: 1.238824e-02  D4: 1.360093e-02\n",
      "test loss: 5.328051e-02  D: 6.896658e-01  D2: -8.342428e-03  D3: 1.269625e-02  D4: 1.376904e-02\n"
     ]
    },
    {
     "name": "stdout",
     "output_type": "stream",
     "text": [
      "[096/100]  test loss: 0.0535  D: 0.6942  D2: -0.0083  D3: 0.0122  D4: 0.0134\r"
     ]
    },
    {
     "name": "stderr",
     "output_type": "stream",
     "text": [
      "[default |INFO|model.py:2182] [51/80]  loss: 5.193294e-02  D: 6.934855e-01  D2: -8.073859e-03  D3: 1.238704e-02  D4: 1.356084e-02\n",
      "test loss: 5.345547e-02  D: 6.941785e-01  D2: -8.332834e-03  D3: 1.221625e-02  D4: 1.332417e-02\n"
     ]
    },
    {
     "name": "stdout",
     "output_type": "stream",
     "text": [
      "[096/100]  test loss: 0.0564  D: 0.6891  D2: -0.0077  D3: 0.0100  D4: 0.0109\r"
     ]
    },
    {
     "name": "stderr",
     "output_type": "stream",
     "text": [
      "[default |INFO|model.py:2182] [52/80]  loss: 5.307640e-02  D: 6.931598e-01  D2: -7.924986e-03  D3: 1.259819e-02  D4: 1.381644e-02\n",
      "test loss: 5.634520e-02  D: 6.890974e-01  D2: -7.647018e-03  D3: 9.980848e-03  D4: 1.088142e-02\n"
     ]
    },
    {
     "name": "stdout",
     "output_type": "stream",
     "text": [
      "[096/100]  test loss: 0.0562  D: 0.7074  D2: -0.0077  D3: 0.0098  D4: 0.0108\r"
     ]
    },
    {
     "name": "stderr",
     "output_type": "stream",
     "text": [
      "[default |INFO|model.py:2182] [53/80]  loss: 5.513462e-02  D: 6.948031e-01  D2: -8.079610e-03  D3: 1.207788e-02  D4: 1.320970e-02\n",
      "test loss: 5.630277e-02  D: 7.073574e-01  D2: -7.780561e-03  D3: 9.866966e-03  D4: 1.081654e-02\n"
     ]
    },
    {
     "name": "stdout",
     "output_type": "stream",
     "text": [
      "[096/100]  test loss: 0.0534  D: 0.6993  D2: -0.0082  D3: 0.0144  D4: 0.0155\r"
     ]
    },
    {
     "name": "stderr",
     "output_type": "stream",
     "text": [
      "[default |INFO|model.py:2182] [54/80]  loss: 5.462249e-02  D: 6.949118e-01  D2: -8.025718e-03  D3: 1.221493e-02  D4: 1.335472e-02\n",
      "test loss: 5.345802e-02  D: 6.992969e-01  D2: -8.187847e-03  D3: 1.435253e-02  D4: 1.542498e-02\n"
     ]
    },
    {
     "name": "stdout",
     "output_type": "stream",
     "text": [
      "[096/100]  test loss: 0.0537  D: 0.6950  D2: -0.0085  D3: 0.0127  D4: 0.0139\r"
     ]
    },
    {
     "name": "stderr",
     "output_type": "stream",
     "text": [
      "[default |INFO|model.py:2182] [55/80]  loss: 5.412019e-02  D: 6.937579e-01  D2: -8.083738e-03  D3: 1.194494e-02  D4: 1.305881e-02\n",
      "test loss: 5.368223e-02  D: 6.949692e-01  D2: -8.461103e-03  D3: 1.270527e-02  D4: 1.387055e-02\n"
     ]
    },
    {
     "name": "stdout",
     "output_type": "stream",
     "text": [
      "[096/100]  test loss: 0.0550  D: 0.7006  D2: -0.0081  D3: 0.0130  D4: 0.0143\r"
     ]
    },
    {
     "name": "stderr",
     "output_type": "stream",
     "text": [
      "[default |INFO|model.py:2182] [56/80]  loss: 5.349144e-02  D: 6.934820e-01  D2: -8.199519e-03  D3: 1.234404e-02  D4: 1.349955e-02\n",
      "test loss: 5.477981e-02  D: 7.005880e-01  D2: -8.132792e-03  D3: 1.294733e-02  D4: 1.425553e-02\n"
     ]
    },
    {
     "name": "stdout",
     "output_type": "stream",
     "text": [
      "[096/100]  test loss: 0.0555  D: 0.7136  D2: -0.0085  D3: 0.0129  D4: 0.0140\r"
     ]
    },
    {
     "name": "stderr",
     "output_type": "stream",
     "text": [
      "[default |INFO|model.py:2182] [57/80]  loss: 5.500501e-02  D: 6.963761e-01  D2: -8.179510e-03  D3: 1.159897e-02  D4: 1.268588e-02\n",
      "test loss: 5.539154e-02  D: 7.135918e-01  D2: -8.516808e-03  D3: 1.290966e-02  D4: 1.398034e-02\n"
     ]
    },
    {
     "name": "stdout",
     "output_type": "stream",
     "text": [
      "[095/100]  test loss: 0.0580  D: 0.7091  D2: -0.0081  D3: 0.0136  D4: 0.0147\r"
     ]
    },
    {
     "name": "stderr",
     "output_type": "stream",
     "text": [
      "[default |INFO|model.py:2182] [58/80]  loss: 5.550178e-02  D: 6.962939e-01  D2: -8.262752e-03  D3: 1.182194e-02  D4: 1.294103e-02\n",
      "test loss: 5.795373e-02  D: 7.091079e-01  D2: -8.112631e-03  D3: 1.364335e-02  D4: 1.469576e-02\n"
     ]
    },
    {
     "name": "stdout",
     "output_type": "stream",
     "text": [
      "[096/100]  test loss: 0.0601  D: 0.7162  D2: -0.0085  D3: 0.0104  D4: 0.0115\r"
     ]
    },
    {
     "name": "stderr",
     "output_type": "stream",
     "text": [
      "[default |INFO|model.py:2182] [59/80]  loss: 5.400869e-02  D: 6.943694e-01  D2: -8.317103e-03  D3: 1.197226e-02  D4: 1.313289e-02\n",
      "test loss: 5.999419e-02  D: 7.161782e-01  D2: -8.500538e-03  D3: 1.036254e-02  D4: 1.146309e-02\n"
     ]
    },
    {
     "name": "stdout",
     "output_type": "stream",
     "text": [
      "[096/100]  test loss: 0.0618  D: 0.6589  D2: -0.0083  D3: 0.0126  D4: 0.0139\r"
     ]
    },
    {
     "name": "stderr",
     "output_type": "stream",
     "text": [
      "[default |INFO|model.py:2182] [60/80]  loss: 5.655234e-02  D: 6.946025e-01  D2: -8.305820e-03  D3: 1.169975e-02  D4: 1.278928e-02\n",
      "test loss: 6.192854e-02  D: 6.589156e-01  D2: -8.278294e-03  D3: 1.257607e-02  D4: 1.393988e-02\n"
     ]
    },
    {
     "name": "stdout",
     "output_type": "stream",
     "text": [
      "[096/100]  test loss: 0.0598  D: 0.7014  D2: -0.0086  D3: 0.0087  D4: 0.0096\r"
     ]
    },
    {
     "name": "stderr",
     "output_type": "stream",
     "text": [
      "[default |INFO|model.py:2182] [61/80]  loss: 5.688802e-02  D: 6.956157e-01  D2: -8.211149e-03  D3: 1.183879e-02  D4: 1.293228e-02\n",
      "test loss: 5.993329e-02  D: 7.014547e-01  D2: -8.565941e-03  D3: 8.714771e-03  D4: 9.618181e-03\n"
     ]
    },
    {
     "name": "stdout",
     "output_type": "stream",
     "text": [
      "[096/100]  test loss: 0.0565  D: 0.6955  D2: -0.0087  D3: 0.0123  D4: 0.0133\r"
     ]
    },
    {
     "name": "stderr",
     "output_type": "stream",
     "text": [
      "[default |INFO|model.py:2182] [62/80]  loss: 5.618640e-02  D: 6.950240e-01  D2: -8.197454e-03  D3: 1.235414e-02  D4: 1.338666e-02\n",
      "test loss: 5.640769e-02  D: 6.955219e-01  D2: -8.646584e-03  D3: 1.224043e-02  D4: 1.328535e-02\n"
     ]
    },
    {
     "name": "stdout",
     "output_type": "stream",
     "text": [
      "[096/100]  test loss: 0.0592  D: 0.6908  D2: -0.0084  D3: 0.0094  D4: 0.0103\r"
     ]
    },
    {
     "name": "stderr",
     "output_type": "stream",
     "text": [
      "[default |INFO|model.py:2182] [63/80]  loss: 5.408984e-02  D: 6.942170e-01  D2: -8.530264e-03  D3: 1.190457e-02  D4: 1.309898e-02\n",
      "test loss: 5.927676e-02  D: 6.907807e-01  D2: -8.394518e-03  D3: 9.439111e-03  D4: 1.028367e-02\n"
     ]
    },
    {
     "name": "stdout",
     "output_type": "stream",
     "text": [
      "[096/100]  test loss: 0.0550  D: 0.7077  D2: -0.0086  D3: 0.0130  D4: 0.0143\r"
     ]
    },
    {
     "name": "stderr",
     "output_type": "stream",
     "text": [
      "[default |INFO|model.py:2182] [64/80]  loss: 5.576588e-02  D: 6.956256e-01  D2: -8.484166e-03  D3: 1.185203e-02  D4: 1.296063e-02\n",
      "test loss: 5.504746e-02  D: 7.077494e-01  D2: -8.639641e-03  D3: 1.292980e-02  D4: 1.422605e-02\n"
     ]
    },
    {
     "name": "stdout",
     "output_type": "stream",
     "text": [
      "[095/100]  test loss: 0.0539  D: 0.6946  D2: -0.0089  D3: 0.0113  D4: 0.0126\r"
     ]
    },
    {
     "name": "stderr",
     "output_type": "stream",
     "text": [
      "[default |INFO|model.py:2182] [65/80]  loss: 5.201285e-02  D: 6.919501e-01  D2: -8.584466e-03  D3: 1.231137e-02  D4: 1.360377e-02\n",
      "test loss: 5.385397e-02  D: 6.945728e-01  D2: -8.867817e-03  D3: 1.130523e-02  D4: 1.261890e-02\n"
     ]
    },
    {
     "name": "stdout",
     "output_type": "stream",
     "text": [
      "[096/100]  test loss: 0.0552  D: 0.6725  D2: -0.0080  D3: 0.0111  D4: 0.0122\r"
     ]
    },
    {
     "name": "stderr",
     "output_type": "stream",
     "text": [
      "[default |INFO|model.py:2182] [66/80]  loss: 5.191250e-02  D: 6.961917e-01  D2: -8.531132e-03  D3: 1.229390e-02  D4: 1.347612e-02\n",
      "test loss: 5.509917e-02  D: 6.725551e-01  D2: -8.027296e-03  D3: 1.103033e-02  D4: 1.226307e-02\n"
     ]
    },
    {
     "name": "stdout",
     "output_type": "stream",
     "text": [
      "[096/100]  test loss: 0.0554  D: 0.6875  D2: -0.0087  D3: 0.0122  D4: 0.0136\r"
     ]
    },
    {
     "name": "stderr",
     "output_type": "stream",
     "text": [
      "[default |INFO|model.py:2182] [67/80]  loss: 5.322700e-02  D: 6.946818e-01  D2: -8.542585e-03  D3: 1.189577e-02  D4: 1.317280e-02\n",
      "test loss: 5.532892e-02  D: 6.874331e-01  D2: -8.701954e-03  D3: 1.223932e-02  D4: 1.355316e-02\n"
     ]
    },
    {
     "name": "stdout",
     "output_type": "stream",
     "text": [
      "[096/100]  test loss: 0.0550  D: 0.7023  D2: -0.0088  D3: 0.0127  D4: 0.0139\r"
     ]
    },
    {
     "name": "stderr",
     "output_type": "stream",
     "text": [
      "[default |INFO|model.py:2182] [68/80]  loss: 5.250934e-02  D: 6.935786e-01  D2: -8.577590e-03  D3: 1.211899e-02  D4: 1.336137e-02\n",
      "test loss: 5.502788e-02  D: 7.023086e-01  D2: -8.794441e-03  D3: 1.273571e-02  D4: 1.388195e-02\n"
     ]
    },
    {
     "name": "stdout",
     "output_type": "stream",
     "text": [
      "[096/100]  test loss: 0.0570  D: 0.6834  D2: -0.0086  D3: 0.0131  D4: 0.0141\r"
     ]
    },
    {
     "name": "stderr",
     "output_type": "stream",
     "text": [
      "[default |INFO|model.py:2182] [69/80]  loss: 5.391117e-02  D: 6.947252e-01  D2: -8.686016e-03  D3: 1.185856e-02  D4: 1.302528e-02\n",
      "test loss: 5.694598e-02  D: 6.833984e-01  D2: -8.606462e-03  D3: 1.312297e-02  D4: 1.411896e-02\n"
     ]
    },
    {
     "name": "stdout",
     "output_type": "stream",
     "text": [
      "[096/100]  test loss: 0.0555  D: 0.7125  D2: -0.0089  D3: 0.0115  D4: 0.0126\r"
     ]
    },
    {
     "name": "stderr",
     "output_type": "stream",
     "text": [
      "[default |INFO|model.py:2182] [70/80]  loss: 5.320206e-02  D: 6.951824e-01  D2: -8.676780e-03  D3: 1.195338e-02  D4: 1.316222e-02\n",
      "test loss: 5.555477e-02  D: 7.124234e-01  D2: -8.900747e-03  D3: 1.153541e-02  D4: 1.266441e-02\n"
     ]
    },
    {
     "name": "stdout",
     "output_type": "stream",
     "text": [
      "[096/100]  test loss: 0.0538  D: 0.6905  D2: -0.0090  D3: 0.0114  D4: 0.0126\r"
     ]
    },
    {
     "name": "stderr",
     "output_type": "stream",
     "text": [
      "[default |INFO|model.py:2182] [71/80]  loss: 5.422074e-02  D: 6.928483e-01  D2: -8.725996e-03  D3: 1.190825e-02  D4: 1.304010e-02\n",
      "test loss: 5.391338e-02  D: 6.904801e-01  D2: -9.034042e-03  D3: 1.139416e-02  D4: 1.256892e-02\n"
     ]
    },
    {
     "name": "stdout",
     "output_type": "stream",
     "text": [
      "[096/100]  test loss: 0.0563  D: 0.6986  D2: -0.0087  D3: 0.0117  D4: 0.0130\r"
     ]
    },
    {
     "name": "stderr",
     "output_type": "stream",
     "text": [
      "[default |INFO|model.py:2182] [72/80]  loss: 5.412201e-02  D: 6.976196e-01  D2: -8.729164e-03  D3: 1.186635e-02  D4: 1.304812e-02\n",
      "test loss: 5.621942e-02  D: 6.985376e-01  D2: -8.722572e-03  D3: 1.174757e-02  D4: 1.296650e-02\n"
     ]
    },
    {
     "name": "stdout",
     "output_type": "stream",
     "text": [
      "[096/100]  test loss: 0.0574  D: 0.6910  D2: -0.0089  D3: 0.0116  D4: 0.0129\r"
     ]
    },
    {
     "name": "stderr",
     "output_type": "stream",
     "text": [
      "[default |INFO|model.py:2182] [73/80]  loss: 5.463556e-02  D: 6.949210e-01  D2: -8.782393e-03  D3: 1.169781e-02  D4: 1.294780e-02\n",
      "test loss: 5.744179e-02  D: 6.910159e-01  D2: -8.886423e-03  D3: 1.162451e-02  D4: 1.286257e-02\n"
     ]
    },
    {
     "name": "stdout",
     "output_type": "stream",
     "text": [
      "[096/100]  test loss: 0.0572  D: 0.6938  D2: -0.0090  D3: 0.0113  D4: 0.0124\r"
     ]
    },
    {
     "name": "stderr",
     "output_type": "stream",
     "text": [
      "[default |INFO|model.py:2182] [74/80]  loss: 5.405463e-02  D: 6.940744e-01  D2: -8.726441e-03  D3: 1.182546e-02  D4: 1.301888e-02\n",
      "test loss: 5.715302e-02  D: 6.938081e-01  D2: -8.910017e-03  D3: 1.135713e-02  D4: 1.244765e-02\n"
     ]
    },
    {
     "name": "stdout",
     "output_type": "stream",
     "text": [
      "[096/100]  test loss: 0.0559  D: 0.6936  D2: -0.0087  D3: 0.0123  D4: 0.0137\r"
     ]
    },
    {
     "name": "stderr",
     "output_type": "stream",
     "text": [
      "[default |INFO|model.py:2182] [75/80]  loss: 5.360030e-02  D: 6.945386e-01  D2: -8.799616e-03  D3: 1.174052e-02  D4: 1.297841e-02\n",
      "test loss: 5.571159e-02  D: 6.935914e-01  D2: -8.753462e-03  D3: 1.233630e-02  D4: 1.363773e-02\n"
     ]
    },
    {
     "name": "stdout",
     "output_type": "stream",
     "text": [
      "[096/100]  test loss: 0.0549  D: 0.6767  D2: -0.0090  D3: 0.0114  D4: 0.0124\r"
     ]
    },
    {
     "name": "stderr",
     "output_type": "stream",
     "text": [
      "[default |INFO|model.py:2182] [76/80]  loss: 5.279025e-02  D: 6.943400e-01  D2: -8.901499e-03  D3: 1.184325e-02  D4: 1.313571e-02\n",
      "test loss: 5.481252e-02  D: 6.766741e-01  D2: -9.052038e-03  D3: 1.141993e-02  D4: 1.244281e-02\n"
     ]
    },
    {
     "name": "stdout",
     "output_type": "stream",
     "text": [
      "[096/100]  test loss: 0.0531  D: 0.6862  D2: -0.0088  D3: 0.0114  D4: 0.0125\r"
     ]
    },
    {
     "name": "stderr",
     "output_type": "stream",
     "text": [
      "[default |INFO|model.py:2182] [77/80]  loss: 5.258014e-02  D: 6.950333e-01  D2: -8.955166e-03  D3: 1.187552e-02  D4: 1.310829e-02\n",
      "test loss: 5.327174e-02  D: 6.861566e-01  D2: -8.821545e-03  D3: 1.139817e-02  D4: 1.249123e-02\n"
     ]
    },
    {
     "name": "stdout",
     "output_type": "stream",
     "text": [
      "[095/100]  test loss: 0.0535  D: 0.7170  D2: -0.0092  D3: 0.0112  D4: 0.0123\r"
     ]
    },
    {
     "name": "stderr",
     "output_type": "stream",
     "text": [
      "[default |INFO|model.py:2182] [78/80]  loss: 5.248163e-02  D: 6.939550e-01  D2: -8.952022e-03  D3: 1.179125e-02  D4: 1.304236e-02\n",
      "test loss: 5.341017e-02  D: 7.170373e-01  D2: -9.193535e-03  D3: 1.119558e-02  D4: 1.236201e-02\n"
     ]
    },
    {
     "name": "stdout",
     "output_type": "stream",
     "text": [
      "[095/100]  test loss: 0.0533  D: 0.7062  D2: -0.0092  D3: 0.0122  D4: 0.0134\r"
     ]
    },
    {
     "name": "stderr",
     "output_type": "stream",
     "text": [
      "[default |INFO|model.py:2182] [79/80]  loss: 5.271892e-02  D: 6.951501e-01  D2: -8.886984e-03  D3: 1.177424e-02  D4: 1.309405e-02\n",
      "test loss: 5.321324e-02  D: 7.062046e-01  D2: -9.241962e-03  D3: 1.216681e-02  D4: 1.342773e-02\n"
     ]
    },
    {
     "name": "stdout",
     "output_type": "stream",
     "text": [
      "[096/100]  test loss: 0.0527  D: 0.6941  D2: -0.0089  D3: 0.0125  D4: 0.0137\r"
     ]
    },
    {
     "name": "stderr",
     "output_type": "stream",
     "text": [
      "[default |INFO|model.py:2182] [80/80]  loss: 5.150030e-02  D: 6.941928e-01  D2: -8.999464e-03  D3: 1.185304e-02  D4: 1.319223e-02\n",
      "test loss: 5.269612e-02  D: 6.940503e-01  D2: -8.898888e-03  D3: 1.252690e-02  D4: 1.374596e-02\n"
     ]
    },
    {
     "name": "stdout",
     "output_type": "stream",
     "text": [
      "[097/100]  test loss: 0.0527  D: 0.6941  D2: -0.0089  D3: 0.0125  D4: 0.0137\r",
      "[098/100]  test loss: 0.0527  D: 0.6941  D2: -0.0089  D3: 0.0125  D4: 0.0137\r",
      "[099/100]  test loss: 0.0527  D: 0.6941  D2: -0.0089  D3: 0.0125  D4: 0.0137\r",
      "[100/100]  test loss: 0.0527  D: 0.6941  D2: -0.0089  D3: 0.0125  D4: 0.0137\r"
     ]
    },
    {
     "name": "stderr",
     "output_type": "stream",
     "text": [
      "[default |INFO|model.py:2297] Training Finished!\n",
      "[default |INFO|model.py:2298] Elapsed time: 1701.678s\n"
     ]
    }
   ],
   "source": [
    "mm = cur_model(cfg, log, device = device)\n",
    "\n",
    "mm.gm.mu.load_state_dict(torch.load(f'./result/mu_{cfg[\"train_info\"][\"y_dim\"]}.pt'))\n",
    "mm.gm.cov.load_state_dict(torch.load(f'./result/cov_{cfg[\"train_info\"][\"y_dim\"]}.pt'))\n",
    "\n",
    "mm.train()\n",
    "# mm.load('./%s' % (cfg['path_info']['save_path']))"
   ]
  },
  {
   "cell_type": "markdown",
   "metadata": {},
   "source": [
    "# Train - 2"
   ]
  },
  {
   "cell_type": "code",
   "execution_count": 4,
   "metadata": {},
   "outputs": [
    {
     "name": "stderr",
     "output_type": "stream",
     "text": [
      "[default |INFO|_base_model.py:27] ------------------------------------------------------------\n",
      "[default |INFO|_base_model.py:29] model_name : SSWAE_HSIC_MNIST\n",
      "[default |INFO|_base_model.py:29] train_data : rmMNIST\n",
      "[default |INFO|_base_model.py:29] train_data_label : True\n",
      "[default |INFO|_base_model.py:29] z_sampler : gaus\n",
      "[default |INFO|_base_model.py:29] z_dim : 6\n",
      "[default |INFO|_base_model.py:29] y_sampler : gaus\n",
      "[default |INFO|_base_model.py:29] y_dim : 4\n",
      "[default |INFO|_base_model.py:29] labeled_class : 0,1,2,3,4,5,6,7,8,9\n",
      "[default |INFO|_base_model.py:29] unlabeled_class : \n",
      "[default |INFO|_base_model.py:29] test_class : \n",
      "[default |INFO|_base_model.py:29] portion : 1.0\n",
      "[default |INFO|_base_model.py:29] unk : False\n",
      "[default |INFO|_base_model.py:29] encoder_pretrain : False\n",
      "[default |INFO|_base_model.py:29] encoder_pretrain_step : 3\n",
      "[default |INFO|_base_model.py:29] lr : 5e-4\n",
      "[default |INFO|_base_model.py:29] beta1 : 0.5\n",
      "[default |INFO|_base_model.py:29] lr_adv : 2e-4\n",
      "[default |INFO|_base_model.py:29] beta1_adv : 0.5\n",
      "[default |INFO|_base_model.py:29] lambda : 10.0\n",
      "[default |INFO|_base_model.py:29] lambda_mmd : 10.0\n",
      "[default |INFO|_base_model.py:29] lambda_hsic : 10.0\n",
      "[default |INFO|_base_model.py:29] lr_schedule : manual\n",
      "[default |INFO|_base_model.py:29] validate : True\n",
      "[default |INFO|_base_model.py:29] histogram : True\n",
      "[default |INFO|_base_model.py:29] batch_size : 100\n",
      "[default |INFO|_base_model.py:29] epoch : 80\n",
      "[default |INFO|_base_model.py:29] replace : False\n",
      "[default |INFO|_base_model.py:29] save_best : False\n",
      "[default |INFO|_base_model.py:32] data_home : ./data/MNIST\n",
      "[default |INFO|_base_model.py:32] tb_logs : \n",
      "[default |INFO|_base_model.py:32] save_path : ./result/weights/sswae_dev2_hsic_2.pt\n",
      "[default |INFO|_base_model.py:32] save_state : ./result/states/sswae_dev2_hsic_2.pt\n",
      "[default |INFO|_base_model.py:32] save_img_path : \n",
      "[default |INFO|model.py:2061] ------------------------------------------------------------\n",
      "[default |INFO|model.py:2062] Training Start!\n"
     ]
    },
    {
     "name": "stdout",
     "output_type": "stream",
     "text": [
      "[090/100]  test loss: 0.1849  D: 0.6916  D2: 0.0015  D3: 0.0059  D4: 0.00602\r"
     ]
    },
    {
     "name": "stderr",
     "output_type": "stream",
     "text": [
      "[default |INFO|model.py:2182] [01/80]  loss: 2.476558e-01  D: 6.872416e-01  D2: 2.243597e-02  D3: 2.560697e-03  D4: 2.589546e-03\n",
      "test loss: 1.847338e-01  D: 6.916048e-01  D2: 1.457539e-03  D3: 5.789775e-03  D4: 5.976549e-03\n"
     ]
    },
    {
     "name": "stdout",
     "output_type": "stream",
     "text": [
      "[089/100]  test loss: 0.1573  D: 0.7001  D2: 0.0006  D3: 0.0076  D4: 0.0069\r"
     ]
    },
    {
     "name": "stderr",
     "output_type": "stream",
     "text": [
      "[default |INFO|model.py:2182] [02/80]  loss: 1.689792e-01  D: 6.955462e-01  D2: 1.342611e-03  D3: 6.001891e-03  D4: 6.512514e-03\n",
      "test loss: 1.573085e-01  D: 7.001547e-01  D2: 4.865742e-04  D3: 7.523081e-03  D4: 6.989588e-03\n"
     ]
    },
    {
     "name": "stdout",
     "output_type": "stream",
     "text": [
      "[084/100]  test loss: 0.1414  D: 0.7076  D2: -0.0042  D3: 0.0049  D4: 0.0056\r"
     ]
    },
    {
     "name": "stderr",
     "output_type": "stream",
     "text": [
      "[default |INFO|model.py:2182] [03/80]  loss: 1.528514e-01  D: 6.964084e-01  D2: -2.258662e-03  D3: 6.398964e-03  D4: 7.016663e-03\n",
      "test loss: 1.414578e-01  D: 7.076328e-01  D2: -3.985138e-03  D3: 4.858764e-03  D4: 5.583709e-03\n"
     ]
    },
    {
     "name": "stdout",
     "output_type": "stream",
     "text": [
      "[087/100]  test loss: 0.1253  D: 0.7070  D2: -0.0042  D3: 0.0095  D4: 0.0089\r"
     ]
    },
    {
     "name": "stderr",
     "output_type": "stream",
     "text": [
      "[default |INFO|model.py:2182] [04/80]  loss: 1.358706e-01  D: 6.972234e-01  D2: -4.062389e-03  D3: 7.107251e-03  D4: 7.815281e-03\n",
      "test loss: 1.251227e-01  D: 7.070300e-01  D2: -4.293270e-03  D3: 9.461788e-03  D4: 8.947903e-03\n"
     ]
    },
    {
     "name": "stdout",
     "output_type": "stream",
     "text": [
      "[091/100]  test loss: 0.1141  D: 0.6821  D2: -0.0045  D3: 0.0027  D4: 0.0030\r"
     ]
    },
    {
     "name": "stderr",
     "output_type": "stream",
     "text": [
      "[default |INFO|model.py:2182] [05/80]  loss: 1.239743e-01  D: 6.758734e-01  D2: -4.337079e-03  D3: 6.979723e-03  D4: 7.490391e-03\n",
      "test loss: 1.140933e-01  D: 6.820469e-01  D2: -4.422655e-03  D3: 2.697405e-03  D4: 2.963078e-03\n"
     ]
    },
    {
     "name": "stdout",
     "output_type": "stream",
     "text": [
      "[096/100]  test loss: 0.1005  D: 0.6913  D2: -0.0051  D3: 0.0091  D4: 0.0106\r"
     ]
    },
    {
     "name": "stderr",
     "output_type": "stream",
     "text": [
      "[default |INFO|model.py:2182] [06/80]  loss: 1.084585e-01  D: 6.750368e-01  D2: -4.616906e-03  D3: 6.526490e-03  D4: 7.264305e-03\n",
      "test loss: 1.005299e-01  D: 6.913184e-01  D2: -5.060940e-03  D3: 9.126171e-03  D4: 1.058905e-02\n"
     ]
    },
    {
     "name": "stdout",
     "output_type": "stream",
     "text": [
      "[084/100]  test loss: 0.1109  D: 0.6999  D2: -0.0049  D3: 0.0109  D4: 0.0127\r"
     ]
    },
    {
     "name": "stderr",
     "output_type": "stream",
     "text": [
      "[default |INFO|model.py:2182] [07/80]  loss: 9.967804e-02  D: 6.919828e-01  D2: -4.763254e-03  D3: 9.933399e-03  D4: 1.062467e-02\n",
      "test loss: 1.113165e-01  D: 6.998832e-01  D2: -4.834137e-03  D3: 1.090249e-02  D4: 1.237733e-02\n"
     ]
    },
    {
     "name": "stdout",
     "output_type": "stream",
     "text": [
      "[092/100]  test loss: 0.0934  D: 0.6931  D2: -0.0048  D3: 0.0097  D4: 0.0109\r"
     ]
    },
    {
     "name": "stderr",
     "output_type": "stream",
     "text": [
      "[default |INFO|model.py:2182] [08/80]  loss: 9.891680e-02  D: 6.972511e-01  D2: -4.385653e-03  D3: 9.085834e-03  D4: 9.990023e-03\n",
      "test loss: 9.338945e-02  D: 6.931012e-01  D2: -4.806452e-03  D3: 9.624514e-03  D4: 1.086771e-02\n"
     ]
    },
    {
     "name": "stdout",
     "output_type": "stream",
     "text": [
      "[095/100]  test loss: 0.1119  D: 0.6841  D2: -0.0043  D3: 0.0120  D4: 0.0138\r"
     ]
    },
    {
     "name": "stderr",
     "output_type": "stream",
     "text": [
      "[default |INFO|model.py:2182] [09/80]  loss: 1.032525e-01  D: 6.926742e-01  D2: -4.951251e-03  D3: 1.051792e-02  D4: 1.163765e-02\n",
      "test loss: 1.118028e-01  D: 6.841123e-01  D2: -4.219809e-03  D3: 1.206917e-02  D4: 1.383907e-02\n"
     ]
    },
    {
     "name": "stdout",
     "output_type": "stream",
     "text": [
      "[096/100]  test loss: 0.0937  D: 0.6730  D2: -0.0045  D3: 0.0112  D4: 0.0118\r"
     ]
    },
    {
     "name": "stderr",
     "output_type": "stream",
     "text": [
      "[default |INFO|model.py:2182] [10/80]  loss: 1.039633e-01  D: 7.015220e-01  D2: -4.724549e-03  D3: 1.172467e-02  D4: 1.296457e-02\n",
      "test loss: 9.380762e-02  D: 6.729219e-01  D2: -4.551964e-03  D3: 1.120207e-02  D4: 1.183490e-02\n"
     ]
    },
    {
     "name": "stdout",
     "output_type": "stream",
     "text": [
      "[095/100]  test loss: 0.0934  D: 0.6756  D2: -0.0046  D3: 0.0143  D4: 0.0159\r"
     ]
    },
    {
     "name": "stderr",
     "output_type": "stream",
     "text": [
      "[default |INFO|model.py:2182] [11/80]  loss: 9.259366e-02  D: 6.917321e-01  D2: -4.943393e-03  D3: 1.216916e-02  D4: 1.322689e-02\n",
      "test loss: 9.335837e-02  D: 6.756097e-01  D2: -4.672928e-03  D3: 1.422487e-02  D4: 1.586621e-02\n"
     ]
    },
    {
     "name": "stdout",
     "output_type": "stream",
     "text": [
      "[096/100]  test loss: 0.0850  D: 0.6929  D2: -0.0055  D3: 0.0122  D4: 0.0132\r"
     ]
    },
    {
     "name": "stderr",
     "output_type": "stream",
     "text": [
      "[default |INFO|model.py:2182] [12/80]  loss: 9.333142e-02  D: 7.009646e-01  D2: -4.814444e-03  D3: 1.379910e-02  D4: 1.501053e-02\n",
      "test loss: 8.489070e-02  D: 6.928862e-01  D2: -5.564899e-03  D3: 1.223374e-02  D4: 1.319575e-02\n"
     ]
    },
    {
     "name": "stdout",
     "output_type": "stream",
     "text": [
      "[096/100]  test loss: 0.0859  D: 0.6837  D2: -0.0053  D3: 0.0122  D4: 0.0135\r"
     ]
    },
    {
     "name": "stderr",
     "output_type": "stream",
     "text": [
      "[default |INFO|model.py:2182] [13/80]  loss: 8.646707e-02  D: 6.979024e-01  D2: -5.072945e-03  D3: 1.227049e-02  D4: 1.345886e-02\n",
      "test loss: 8.594046e-02  D: 6.836714e-01  D2: -5.293903e-03  D3: 1.224021e-02  D4: 1.337684e-02\n"
     ]
    },
    {
     "name": "stdout",
     "output_type": "stream",
     "text": [
      "[095/100]  test loss: 0.0796  D: 0.6855  D2: -0.0065  D3: 0.0129  D4: 0.0141\r"
     ]
    },
    {
     "name": "stderr",
     "output_type": "stream",
     "text": [
      "[default |INFO|model.py:2182] [14/80]  loss: 8.262003e-02  D: 6.969567e-01  D2: -5.519506e-03  D3: 1.434665e-02  D4: 1.551737e-02\n",
      "test loss: 7.961311e-02  D: 6.854748e-01  D2: -6.372232e-03  D3: 1.283949e-02  D4: 1.412950e-02\n"
     ]
    },
    {
     "name": "stdout",
     "output_type": "stream",
     "text": [
      "[094/100]  test loss: 0.0758  D: 0.7242  D2: -0.0055  D3: 0.0132  D4: 0.0142\r"
     ]
    },
    {
     "name": "stderr",
     "output_type": "stream",
     "text": [
      "[default |INFO|model.py:2182] [15/80]  loss: 8.133380e-02  D: 6.943022e-01  D2: -5.222467e-03  D3: 1.408573e-02  D4: 1.532487e-02\n",
      "test loss: 7.592648e-02  D: 7.241379e-01  D2: -5.472345e-03  D3: 1.316505e-02  D4: 1.428234e-02\n"
     ]
    },
    {
     "name": "stdout",
     "output_type": "stream",
     "text": [
      "[095/100]  test loss: 0.0823  D: 0.6604  D2: -0.0058  D3: 0.0133  D4: 0.0149\r"
     ]
    },
    {
     "name": "stderr",
     "output_type": "stream",
     "text": [
      "[default |INFO|model.py:2182] [16/80]  loss: 7.986632e-02  D: 6.954743e-01  D2: -5.405188e-03  D3: 1.385777e-02  D4: 1.507350e-02\n",
      "test loss: 8.211346e-02  D: 6.603789e-01  D2: -5.723248e-03  D3: 1.331590e-02  D4: 1.490919e-02\n"
     ]
    },
    {
     "name": "stdout",
     "output_type": "stream",
     "text": [
      "[095/100]  test loss: 0.0775  D: 0.6700  D2: -0.0054  D3: 0.0126  D4: 0.0136\r"
     ]
    },
    {
     "name": "stderr",
     "output_type": "stream",
     "text": [
      "[default |INFO|model.py:2182] [17/80]  loss: 7.927107e-02  D: 6.971435e-01  D2: -5.317364e-03  D3: 1.374662e-02  D4: 1.498708e-02\n",
      "test loss: 7.739014e-02  D: 6.700296e-01  D2: -5.444975e-03  D3: 1.257872e-02  D4: 1.354376e-02\n"
     ]
    },
    {
     "name": "stdout",
     "output_type": "stream",
     "text": [
      "[096/100]  test loss: 0.0767  D: 0.7003  D2: -0.0057  D3: 0.0157  D4: 0.0166\r"
     ]
    },
    {
     "name": "stderr",
     "output_type": "stream",
     "text": [
      "[default |INFO|model.py:2182] [18/80]  loss: 8.171992e-02  D: 6.951345e-01  D2: -5.638534e-03  D3: 1.292853e-02  D4: 1.425684e-02\n",
      "test loss: 7.662899e-02  D: 7.002795e-01  D2: -5.730238e-03  D3: 1.568949e-02  D4: 1.657283e-02\n"
     ]
    },
    {
     "name": "stdout",
     "output_type": "stream",
     "text": [
      "[093/100]  test loss: 0.0746  D: 0.7069  D2: -0.0054  D3: 0.0147  D4: 0.0158\r"
     ]
    },
    {
     "name": "stderr",
     "output_type": "stream",
     "text": [
      "[default |INFO|model.py:2182] [19/80]  loss: 7.509549e-02  D: 6.949541e-01  D2: -5.511340e-03  D3: 1.451507e-02  D4: 1.565669e-02\n",
      "test loss: 7.445534e-02  D: 7.069839e-01  D2: -5.463333e-03  D3: 1.466390e-02  D4: 1.582059e-02\n"
     ]
    },
    {
     "name": "stdout",
     "output_type": "stream",
     "text": [
      "[096/100]  test loss: 0.0713  D: 0.6910  D2: -0.0058  D3: 0.0145  D4: 0.0157\r"
     ]
    },
    {
     "name": "stderr",
     "output_type": "stream",
     "text": [
      "[default |INFO|model.py:2182] [20/80]  loss: 7.232075e-02  D: 6.949791e-01  D2: -5.888996e-03  D3: 1.435873e-02  D4: 1.560491e-02\n",
      "test loss: 7.120217e-02  D: 6.910531e-01  D2: -5.771580e-03  D3: 1.438899e-02  D4: 1.568695e-02\n"
     ]
    },
    {
     "name": "stdout",
     "output_type": "stream",
     "text": [
      "[095/100]  test loss: 0.0703  D: 0.7030  D2: -0.0064  D3: 0.0137  D4: 0.0149\r"
     ]
    },
    {
     "name": "stderr",
     "output_type": "stream",
     "text": [
      "[default |INFO|model.py:2182] [21/80]  loss: 7.131464e-02  D: 6.951855e-01  D2: -5.740321e-03  D3: 1.405654e-02  D4: 1.532326e-02\n",
      "test loss: 7.018868e-02  D: 7.030029e-01  D2: -6.422701e-03  D3: 1.358681e-02  D4: 1.488687e-02\n"
     ]
    },
    {
     "name": "stdout",
     "output_type": "stream",
     "text": [
      "[096/100]  test loss: 0.0712  D: 0.6699  D2: -0.0056  D3: 0.0138  D4: 0.0149\r"
     ]
    },
    {
     "name": "stderr",
     "output_type": "stream",
     "text": [
      "[default |INFO|model.py:2182] [22/80]  loss: 7.096621e-02  D: 6.944025e-01  D2: -6.049533e-03  D3: 1.418207e-02  D4: 1.532214e-02\n",
      "test loss: 7.117306e-02  D: 6.699244e-01  D2: -5.664482e-03  D3: 1.383004e-02  D4: 1.488915e-02\n"
     ]
    },
    {
     "name": "stdout",
     "output_type": "stream",
     "text": [
      "[096/100]  test loss: 0.0708  D: 0.7301  D2: -0.0062  D3: 0.0126  D4: 0.0140\r"
     ]
    },
    {
     "name": "stderr",
     "output_type": "stream",
     "text": [
      "[default |INFO|model.py:2182] [23/80]  loss: 7.018989e-02  D: 6.960223e-01  D2: -6.011279e-03  D3: 1.387674e-02  D4: 1.516513e-02\n",
      "test loss: 7.081329e-02  D: 7.301217e-01  D2: -6.084461e-03  D3: 1.252747e-02  D4: 1.398000e-02\n"
     ]
    },
    {
     "name": "stdout",
     "output_type": "stream",
     "text": [
      "[096/100]  test loss: 0.0696  D: 0.7030  D2: -0.0059  D3: 0.0150  D4: 0.0164\r"
     ]
    },
    {
     "name": "stderr",
     "output_type": "stream",
     "text": [
      "[default |INFO|model.py:2182] [24/80]  loss: 7.046949e-02  D: 6.947602e-01  D2: -6.192703e-03  D3: 1.391290e-02  D4: 1.525974e-02\n",
      "test loss: 6.962180e-02  D: 7.029557e-01  D2: -5.846157e-03  D3: 1.496525e-02  D4: 1.635198e-02\n"
     ]
    },
    {
     "name": "stdout",
     "output_type": "stream",
     "text": [
      "[096/100]  test loss: 0.0707  D: 0.6909  D2: -0.0061  D3: 0.0147  D4: 0.0164\r"
     ]
    },
    {
     "name": "stderr",
     "output_type": "stream",
     "text": [
      "[default |INFO|model.py:2182] [25/80]  loss: 6.910036e-02  D: 6.947389e-01  D2: -6.380056e-03  D3: 1.360905e-02  D4: 1.487036e-02\n",
      "test loss: 7.073985e-02  D: 6.908590e-01  D2: -6.139450e-03  D3: 1.472311e-02  D4: 1.647030e-02\n"
     ]
    },
    {
     "name": "stdout",
     "output_type": "stream",
     "text": [
      "[096/100]  test loss: 0.0694  D: 0.6980  D2: -0.0065  D3: 0.0137  D4: 0.0149\r"
     ]
    },
    {
     "name": "stderr",
     "output_type": "stream",
     "text": [
      "[default |INFO|model.py:2182] [26/80]  loss: 6.765684e-02  D: 6.942712e-01  D2: -6.322273e-03  D3: 1.372420e-02  D4: 1.507618e-02\n",
      "test loss: 6.939644e-02  D: 6.980243e-01  D2: -6.459370e-03  D3: 1.373320e-02  D4: 1.485549e-02\n"
     ]
    },
    {
     "name": "stdout",
     "output_type": "stream",
     "text": [
      "[096/100]  test loss: 0.0668  D: 0.6963  D2: -0.0058  D3: 0.0146  D4: 0.0158\r"
     ]
    },
    {
     "name": "stderr",
     "output_type": "stream",
     "text": [
      "[default |INFO|model.py:2182] [27/80]  loss: 6.697873e-02  D: 6.938420e-01  D2: -6.464833e-03  D3: 1.363772e-02  D4: 1.485732e-02\n",
      "test loss: 6.678429e-02  D: 6.962847e-01  D2: -5.888329e-03  D3: 1.465042e-02  D4: 1.584391e-02\n"
     ]
    },
    {
     "name": "stdout",
     "output_type": "stream",
     "text": [
      "[096/100]  test loss: 0.0659  D: 0.6991  D2: -0.0073  D3: 0.0148  D4: 0.0159\r"
     ]
    },
    {
     "name": "stderr",
     "output_type": "stream",
     "text": [
      "[default |INFO|model.py:2182] [28/80]  loss: 6.583202e-02  D: 6.936094e-01  D2: -6.789654e-03  D3: 1.346429e-02  D4: 1.486901e-02\n",
      "test loss: 6.611897e-02  D: 6.990686e-01  D2: -7.140980e-03  D3: 1.488802e-02  D4: 1.588969e-02\n"
     ]
    },
    {
     "name": "stdout",
     "output_type": "stream",
     "text": [
      "[096/100]  test loss: 0.0656  D: 0.7134  D2: -0.0069  D3: 0.0133  D4: 0.0147\r"
     ]
    },
    {
     "name": "stderr",
     "output_type": "stream",
     "text": [
      "[default |INFO|model.py:2182] [29/80]  loss: 6.571679e-02  D: 6.945490e-01  D2: -6.956600e-03  D3: 1.358462e-02  D4: 1.481257e-02\n",
      "test loss: 6.555842e-02  D: 7.133780e-01  D2: -6.942549e-03  D3: 1.331674e-02  D4: 1.475016e-02\n"
     ]
    },
    {
     "name": "stdout",
     "output_type": "stream",
     "text": [
      "[096/100]  test loss: 0.0686  D: 0.6861  D2: -0.0071  D3: 0.0153  D4: 0.0167\r"
     ]
    },
    {
     "name": "stderr",
     "output_type": "stream",
     "text": [
      "[default |INFO|model.py:2182] [30/80]  loss: 6.658757e-02  D: 6.934114e-01  D2: -6.870217e-03  D3: 1.321251e-02  D4: 1.454178e-02\n",
      "test loss: 6.856352e-02  D: 6.861654e-01  D2: -7.136297e-03  D3: 1.531248e-02  D4: 1.663937e-02\n"
     ]
    },
    {
     "name": "stdout",
     "output_type": "stream",
     "text": [
      "[096/100]  test loss: 0.0693  D: 0.7149  D2: -0.0065  D3: 0.0141  D4: 0.0151\r"
     ]
    },
    {
     "name": "stderr",
     "output_type": "stream",
     "text": [
      "[default |INFO|model.py:2182] [31/80]  loss: 6.761971e-02  D: 6.954994e-01  D2: -7.039205e-03  D3: 1.281677e-02  D4: 1.410839e-02\n",
      "test loss: 6.929638e-02  D: 7.148830e-01  D2: -6.477919e-03  D3: 1.407841e-02  D4: 1.506431e-02\n"
     ]
    },
    {
     "name": "stdout",
     "output_type": "stream",
     "text": [
      "[093/100]  test loss: 0.0663  D: 0.6851  D2: -0.0070  D3: 0.0153  D4: 0.0163\r"
     ]
    },
    {
     "name": "stderr",
     "output_type": "stream",
     "text": [
      "[default |INFO|model.py:2182] [32/80]  loss: 6.731025e-02  D: 6.946449e-01  D2: -7.047281e-03  D3: 1.302038e-02  D4: 1.429667e-02\n",
      "test loss: 6.637233e-02  D: 6.851054e-01  D2: -7.052021e-03  D3: 1.526154e-02  D4: 1.631739e-02\n"
     ]
    },
    {
     "name": "stdout",
     "output_type": "stream",
     "text": [
      "[095/100]  test loss: 0.0665  D: 0.7179  D2: -0.0075  D3: 0.0143  D4: 0.0154\r"
     ]
    },
    {
     "name": "stderr",
     "output_type": "stream",
     "text": [
      "[default |INFO|model.py:2182] [33/80]  loss: 6.684199e-02  D: 6.933232e-01  D2: -7.294691e-03  D3: 1.284789e-02  D4: 1.415374e-02\n",
      "test loss: 6.654722e-02  D: 7.179688e-01  D2: -7.533436e-03  D3: 1.432174e-02  D4: 1.541317e-02\n"
     ]
    },
    {
     "name": "stdout",
     "output_type": "stream",
     "text": [
      "[093/100]  test loss: 0.0672  D: 0.7129  D2: -0.0072  D3: 0.0116  D4: 0.0129\r"
     ]
    },
    {
     "name": "stderr",
     "output_type": "stream",
     "text": [
      "[default |INFO|model.py:2182] [34/80]  loss: 6.474601e-02  D: 6.931177e-01  D2: -7.416094e-03  D3: 1.306567e-02  D4: 1.438494e-02\n",
      "test loss: 6.688831e-02  D: 7.129193e-01  D2: -7.226982e-03  D3: 1.158084e-02  D4: 1.291928e-02\n"
     ]
    },
    {
     "name": "stdout",
     "output_type": "stream",
     "text": [
      "[093/100]  test loss: 0.0667  D: 0.6811  D2: -0.0080  D3: 0.0124  D4: 0.0134\r"
     ]
    },
    {
     "name": "stderr",
     "output_type": "stream",
     "text": [
      "[default |INFO|model.py:2182] [35/80]  loss: 6.437232e-02  D: 6.927177e-01  D2: -7.470999e-03  D3: 1.314767e-02  D4: 1.431392e-02\n",
      "test loss: 6.673286e-02  D: 6.811786e-01  D2: -7.950621e-03  D3: 1.239982e-02  D4: 1.337477e-02\n"
     ]
    },
    {
     "name": "stdout",
     "output_type": "stream",
     "text": [
      "[095/100]  test loss: 0.0645  D: 0.6903  D2: -0.0067  D3: 0.0132  D4: 0.0147\r"
     ]
    },
    {
     "name": "stderr",
     "output_type": "stream",
     "text": [
      "[default |INFO|model.py:2182] [36/80]  loss: 6.562885e-02  D: 6.942509e-01  D2: -7.509945e-03  D3: 1.273702e-02  D4: 1.403160e-02\n",
      "test loss: 6.469796e-02  D: 6.903033e-01  D2: -6.770325e-03  D3: 1.321130e-02  D4: 1.467172e-02\n"
     ]
    },
    {
     "name": "stdout",
     "output_type": "stream",
     "text": [
      "[096/100]  test loss: 0.0658  D: 0.6989  D2: -0.0079  D3: 0.0119  D4: 0.0134\r"
     ]
    },
    {
     "name": "stderr",
     "output_type": "stream",
     "text": [
      "[default |INFO|model.py:2182] [37/80]  loss: 6.453482e-02  D: 6.945470e-01  D2: -7.661074e-03  D3: 1.291437e-02  D4: 1.420513e-02\n",
      "test loss: 6.572126e-02  D: 6.989418e-01  D2: -7.896481e-03  D3: 1.190769e-02  D4: 1.337576e-02\n"
     ]
    },
    {
     "name": "stdout",
     "output_type": "stream",
     "text": [
      "[096/100]  test loss: 0.0662  D: 0.7064  D2: -0.0078  D3: 0.0133  D4: 0.0143\r"
     ]
    },
    {
     "name": "stderr",
     "output_type": "stream",
     "text": [
      "[default |INFO|model.py:2182] [38/80]  loss: 6.458947e-02  D: 6.942479e-01  D2: -7.682115e-03  D3: 1.272032e-02  D4: 1.401141e-02\n",
      "test loss: 6.617793e-02  D: 7.063864e-01  D2: -7.819004e-03  D3: 1.330089e-02  D4: 1.425093e-02\n"
     ]
    },
    {
     "name": "stdout",
     "output_type": "stream",
     "text": [
      "[096/100]  test loss: 0.0655  D: 0.7051  D2: -0.0080  D3: 0.0115  D4: 0.0128\r"
     ]
    },
    {
     "name": "stderr",
     "output_type": "stream",
     "text": [
      "[default |INFO|model.py:2182] [39/80]  loss: 6.465950e-02  D: 6.941705e-01  D2: -7.887152e-03  D3: 1.254774e-02  D4: 1.391162e-02\n",
      "test loss: 6.558703e-02  D: 7.050564e-01  D2: -7.994900e-03  D3: 1.146374e-02  D4: 1.272522e-02\n"
     ]
    },
    {
     "name": "stdout",
     "output_type": "stream",
     "text": [
      "[096/100]  test loss: 0.0641  D: 0.7226  D2: -0.0081  D3: 0.0142  D4: 0.0153\r"
     ]
    },
    {
     "name": "stderr",
     "output_type": "stream",
     "text": [
      "[default |INFO|model.py:2182] [40/80]  loss: 6.317575e-02  D: 6.931835e-01  D2: -7.739932e-03  D3: 1.263506e-02  D4: 1.403596e-02\n",
      "test loss: 6.405648e-02  D: 7.225799e-01  D2: -8.075066e-03  D3: 1.418016e-02  D4: 1.527080e-02\n"
     ]
    },
    {
     "name": "stdout",
     "output_type": "stream",
     "text": [
      "[096/100]  test loss: 0.0630  D: 0.6911  D2: -0.0075  D3: 0.0127  D4: 0.0137\r"
     ]
    },
    {
     "name": "stderr",
     "output_type": "stream",
     "text": [
      "[default |INFO|model.py:2182] [41/80]  loss: 6.258686e-02  D: 6.944683e-01  D2: -8.024772e-03  D3: 1.282313e-02  D4: 1.414131e-02\n",
      "test loss: 6.294280e-02  D: 6.910635e-01  D2: -7.583532e-03  D3: 1.268167e-02  D4: 1.371452e-02\n"
     ]
    },
    {
     "name": "stdout",
     "output_type": "stream",
     "text": [
      "[096/100]  test loss: 0.0634  D: 0.6879  D2: -0.0083  D3: 0.0124  D4: 0.0137\r"
     ]
    },
    {
     "name": "stderr",
     "output_type": "stream",
     "text": [
      "[default |INFO|model.py:2182] [42/80]  loss: 6.233088e-02  D: 6.937090e-01  D2: -8.070253e-03  D3: 1.266959e-02  D4: 1.408356e-02\n",
      "test loss: 6.335291e-02  D: 6.879233e-01  D2: -8.303623e-03  D3: 1.238985e-02  D4: 1.369411e-02\n"
     ]
    },
    {
     "name": "stdout",
     "output_type": "stream",
     "text": [
      "[096/100]  test loss: 0.0641  D: 0.6657  D2: -0.0083  D3: 0.0129  D4: 0.0142\r"
     ]
    },
    {
     "name": "stderr",
     "output_type": "stream",
     "text": [
      "[default |INFO|model.py:2182] [43/80]  loss: 6.314341e-02  D: 6.939788e-01  D2: -8.166515e-03  D3: 1.267104e-02  D4: 1.401078e-02\n",
      "test loss: 6.404654e-02  D: 6.657252e-01  D2: -8.364573e-03  D3: 1.294951e-02  D4: 1.418538e-02\n"
     ]
    },
    {
     "name": "stdout",
     "output_type": "stream",
     "text": [
      "[096/100]  test loss: 0.0659  D: 0.7040  D2: -0.0080  D3: 0.0131  D4: 0.0144\r"
     ]
    },
    {
     "name": "stderr",
     "output_type": "stream",
     "text": [
      "[default |INFO|model.py:2182] [44/80]  loss: 6.279103e-02  D: 6.935518e-01  D2: -8.123636e-03  D3: 1.251747e-02  D4: 1.390376e-02\n",
      "test loss: 6.591495e-02  D: 7.040385e-01  D2: -7.964201e-03  D3: 1.315173e-02  D4: 1.442089e-02\n"
     ]
    },
    {
     "name": "stdout",
     "output_type": "stream",
     "text": [
      "[096/100]  test loss: 0.0650  D: 0.6841  D2: -0.0086  D3: 0.0118  D4: 0.0132\r"
     ]
    },
    {
     "name": "stderr",
     "output_type": "stream",
     "text": [
      "[default |INFO|model.py:2182] [45/80]  loss: 6.306201e-02  D: 6.941279e-01  D2: -8.302776e-03  D3: 1.250452e-02  D4: 1.391094e-02\n",
      "test loss: 6.504187e-02  D: 6.841406e-01  D2: -8.610945e-03  D3: 1.174420e-02  D4: 1.318078e-02\n"
     ]
    },
    {
     "name": "stdout",
     "output_type": "stream",
     "text": [
      "[096/100]  test loss: 0.0629  D: 0.6786  D2: -0.0081  D3: 0.0115  D4: 0.0132\r"
     ]
    },
    {
     "name": "stderr",
     "output_type": "stream",
     "text": [
      "[default |INFO|model.py:2182] [46/80]  loss: 6.226081e-02  D: 6.946014e-01  D2: -8.203524e-03  D3: 1.246551e-02  D4: 1.385231e-02\n",
      "test loss: 6.293281e-02  D: 6.785879e-01  D2: -8.161850e-03  D3: 1.155945e-02  D4: 1.318982e-02\n"
     ]
    },
    {
     "name": "stdout",
     "output_type": "stream",
     "text": [
      "[096/100]  test loss: 0.0641  D: 0.6908  D2: -0.0084  D3: 0.0144  D4: 0.0157\r"
     ]
    },
    {
     "name": "stderr",
     "output_type": "stream",
     "text": [
      "[default |INFO|model.py:2182] [47/80]  loss: 6.209830e-02  D: 6.937052e-01  D2: -8.421906e-03  D3: 1.249612e-02  D4: 1.384224e-02\n",
      "test loss: 6.417569e-02  D: 6.907738e-01  D2: -8.418322e-03  D3: 1.434270e-02  D4: 1.570343e-02\n"
     ]
    },
    {
     "name": "stdout",
     "output_type": "stream",
     "text": [
      "[095/100]  test loss: 0.0630  D: 0.6947  D2: -0.0083  D3: 0.0120  D4: 0.0132\r"
     ]
    },
    {
     "name": "stderr",
     "output_type": "stream",
     "text": [
      "[default |INFO|model.py:2182] [48/80]  loss: 6.146014e-02  D: 6.946358e-01  D2: -8.546769e-03  D3: 1.254029e-02  D4: 1.383256e-02\n",
      "test loss: 6.304398e-02  D: 6.946851e-01  D2: -8.342323e-03  D3: 1.201417e-02  D4: 1.316996e-02\n"
     ]
    },
    {
     "name": "stdout",
     "output_type": "stream",
     "text": [
      "[096/100]  test loss: 0.0631  D: 0.6987  D2: -0.0087  D3: 0.0128  D4: 0.0142\r"
     ]
    },
    {
     "name": "stderr",
     "output_type": "stream",
     "text": [
      "[default |INFO|model.py:2182] [49/80]  loss: 6.183908e-02  D: 6.940144e-01  D2: -8.504794e-03  D3: 1.237163e-02  D4: 1.377984e-02\n",
      "test loss: 6.309167e-02  D: 6.987092e-01  D2: -8.655806e-03  D3: 1.281330e-02  D4: 1.421021e-02\n"
     ]
    },
    {
     "name": "stdout",
     "output_type": "stream",
     "text": [
      "[096/100]  test loss: 0.0646  D: 0.7007  D2: -0.0086  D3: 0.0136  D4: 0.0148\r"
     ]
    },
    {
     "name": "stderr",
     "output_type": "stream",
     "text": [
      "[default |INFO|model.py:2182] [50/80]  loss: 6.149775e-02  D: 6.962811e-01  D2: -8.569101e-03  D3: 1.248767e-02  D4: 1.378079e-02\n",
      "test loss: 6.486156e-02  D: 7.006658e-01  D2: -8.627338e-03  D3: 1.357291e-02  D4: 1.478585e-02\n"
     ]
    },
    {
     "name": "stdout",
     "output_type": "stream",
     "text": [
      "[096/100]  test loss: 0.0624  D: 0.7028  D2: -0.0084  D3: 0.0126  D4: 0.0139\r"
     ]
    },
    {
     "name": "stderr",
     "output_type": "stream",
     "text": [
      "[default |INFO|model.py:2182] [51/80]  loss: 6.100252e-02  D: 6.926823e-01  D2: -8.597398e-03  D3: 1.230020e-02  D4: 1.373974e-02\n",
      "test loss: 6.251602e-02  D: 7.028359e-01  D2: -8.314991e-03  D3: 1.254228e-02  D4: 1.387169e-02\n"
     ]
    },
    {
     "name": "stdout",
     "output_type": "stream",
     "text": [
      "[096/100]  test loss: 0.0639  D: 0.6941  D2: -0.0085  D3: 0.0107  D4: 0.0122\r"
     ]
    },
    {
     "name": "stderr",
     "output_type": "stream",
     "text": [
      "[default |INFO|model.py:2182] [52/80]  loss: 6.111241e-02  D: 6.937967e-01  D2: -8.605108e-03  D3: 1.237738e-02  D4: 1.368878e-02\n",
      "test loss: 6.408447e-02  D: 6.940827e-01  D2: -8.508368e-03  D3: 1.066164e-02  D4: 1.217476e-02\n"
     ]
    },
    {
     "name": "stdout",
     "output_type": "stream",
     "text": [
      "[096/100]  test loss: 0.0641  D: 0.7066  D2: -0.0088  D3: 0.0138  D4: 0.0149\r"
     ]
    },
    {
     "name": "stderr",
     "output_type": "stream",
     "text": [
      "[default |INFO|model.py:2182] [53/80]  loss: 6.203922e-02  D: 6.939854e-01  D2: -8.788118e-03  D3: 1.221021e-02  D4: 1.358439e-02\n",
      "test loss: 6.414383e-02  D: 7.065733e-01  D2: -8.804579e-03  D3: 1.380632e-02  D4: 1.493570e-02\n"
     ]
    },
    {
     "name": "stdout",
     "output_type": "stream",
     "text": [
      "[096/100]  test loss: 0.0632  D: 0.6863  D2: -0.0092  D3: 0.0125  D4: 0.0136\r"
     ]
    },
    {
     "name": "stderr",
     "output_type": "stream",
     "text": [
      "[default |INFO|model.py:2182] [54/80]  loss: 6.081433e-02  D: 6.944201e-01  D2: -8.686988e-03  D3: 1.225627e-02  D4: 1.357798e-02\n",
      "test loss: 6.315249e-02  D: 6.863000e-01  D2: -9.193926e-03  D3: 1.244964e-02  D4: 1.363877e-02\n"
     ]
    },
    {
     "name": "stdout",
     "output_type": "stream",
     "text": [
      "[096/100]  test loss: 0.0625  D: 0.6988  D2: -0.0088  D3: 0.0125  D4: 0.0136\r"
     ]
    },
    {
     "name": "stderr",
     "output_type": "stream",
     "text": [
      "[default |INFO|model.py:2182] [55/80]  loss: 6.049112e-02  D: 6.939540e-01  D2: -8.752640e-03  D3: 1.233216e-02  D4: 1.367637e-02\n",
      "test loss: 6.244379e-02  D: 6.987808e-01  D2: -8.771420e-03  D3: 1.249898e-02  D4: 1.362839e-02\n"
     ]
    },
    {
     "name": "stdout",
     "output_type": "stream",
     "text": [
      "[096/100]  test loss: 0.0634  D: 0.6917  D2: -0.0090  D3: 0.0132  D4: 0.0142\r"
     ]
    },
    {
     "name": "stderr",
     "output_type": "stream",
     "text": [
      "[default |INFO|model.py:2182] [56/80]  loss: 6.087814e-02  D: 6.937104e-01  D2: -8.775682e-03  D3: 1.218922e-02  D4: 1.353419e-02\n",
      "test loss: 6.350231e-02  D: 6.917046e-01  D2: -9.030180e-03  D3: 1.322649e-02  D4: 1.417658e-02\n"
     ]
    },
    {
     "name": "stdout",
     "output_type": "stream",
     "text": [
      "[096/100]  test loss: 0.0628  D: 0.6989  D2: -0.0088  D3: 0.0140  D4: 0.0153\r"
     ]
    },
    {
     "name": "stderr",
     "output_type": "stream",
     "text": [
      "[default |INFO|model.py:2182] [57/80]  loss: 6.101329e-02  D: 6.931732e-01  D2: -8.827831e-03  D3: 1.225369e-02  D4: 1.358358e-02\n",
      "test loss: 6.281521e-02  D: 6.988887e-01  D2: -8.788757e-03  D3: 1.405144e-02  D4: 1.527623e-02\n"
     ]
    },
    {
     "name": "stdout",
     "output_type": "stream",
     "text": [
      "[096/100]  test loss: 0.0622  D: 0.6877  D2: -0.0088  D3: 0.0124  D4: 0.0136\r"
     ]
    },
    {
     "name": "stderr",
     "output_type": "stream",
     "text": [
      "[default |INFO|model.py:2182] [58/80]  loss: 6.092442e-02  D: 6.944961e-01  D2: -8.885983e-03  D3: 1.225006e-02  D4: 1.355990e-02\n",
      "test loss: 6.208841e-02  D: 6.877073e-01  D2: -8.834667e-03  D3: 1.240824e-02  D4: 1.357523e-02\n"
     ]
    },
    {
     "name": "stdout",
     "output_type": "stream",
     "text": [
      "[096/100]  test loss: 0.0625  D: 0.6974  D2: -0.0088  D3: 0.0129  D4: 0.0143\r"
     ]
    },
    {
     "name": "stderr",
     "output_type": "stream",
     "text": [
      "[default |INFO|model.py:2182] [59/80]  loss: 6.001531e-02  D: 6.936609e-01  D2: -8.924724e-03  D3: 1.210626e-02  D4: 1.344168e-02\n",
      "test loss: 6.260633e-02  D: 6.973853e-01  D2: -8.833885e-03  D3: 1.284310e-02  D4: 1.420389e-02\n"
     ]
    },
    {
     "name": "stdout",
     "output_type": "stream",
     "text": [
      "[096/100]  test loss: 0.0616  D: 0.6904  D2: -0.0091  D3: 0.0124  D4: 0.0137\r"
     ]
    },
    {
     "name": "stderr",
     "output_type": "stream",
     "text": [
      "[default |INFO|model.py:2182] [60/80]  loss: 6.013145e-02  D: 6.938832e-01  D2: -8.944731e-03  D3: 1.215823e-02  D4: 1.344399e-02\n",
      "test loss: 6.165964e-02  D: 6.903653e-01  D2: -9.077740e-03  D3: 1.241441e-02  D4: 1.368403e-02\n"
     ]
    },
    {
     "name": "stdout",
     "output_type": "stream",
     "text": [
      "[096/100]  test loss: 0.0617  D: 0.6859  D2: -0.0090  D3: 0.0122  D4: 0.0138\r"
     ]
    },
    {
     "name": "stderr",
     "output_type": "stream",
     "text": [
      "[default |INFO|model.py:2182] [61/80]  loss: 5.976955e-02  D: 6.935811e-01  D2: -8.969472e-03  D3: 1.212601e-02  D4: 1.344497e-02\n",
      "test loss: 6.185755e-02  D: 6.859343e-01  D2: -8.967867e-03  D3: 1.216850e-02  D4: 1.382433e-02\n"
     ]
    },
    {
     "name": "stdout",
     "output_type": "stream",
     "text": [
      "[096/100]  test loss: 0.0648  D: 0.6898  D2: -0.0091  D3: 0.0111  D4: 0.0121\r"
     ]
    },
    {
     "name": "stderr",
     "output_type": "stream",
     "text": [
      "[default |INFO|model.py:2182] [62/80]  loss: 5.979317e-02  D: 6.944431e-01  D2: -9.013537e-03  D3: 1.197281e-02  D4: 1.344272e-02\n",
      "test loss: 6.473480e-02  D: 6.898043e-01  D2: -9.081526e-03  D3: 1.111622e-02  D4: 1.213505e-02\n"
     ]
    },
    {
     "name": "stdout",
     "output_type": "stream",
     "text": [
      "[096/100]  test loss: 0.0632  D: 0.7090  D2: -0.0090  D3: 0.0133  D4: 0.0145\r"
     ]
    },
    {
     "name": "stderr",
     "output_type": "stream",
     "text": [
      "[default |INFO|model.py:2182] [63/80]  loss: 6.088676e-02  D: 6.924661e-01  D2: -9.073111e-03  D3: 1.189727e-02  D4: 1.324511e-02\n",
      "test loss: 6.309670e-02  D: 7.089378e-01  D2: -8.942518e-03  D3: 1.332497e-02  D4: 1.452687e-02\n"
     ]
    },
    {
     "name": "stdout",
     "output_type": "stream",
     "text": [
      "[096/100]  test loss: 0.0627  D: 0.7052  D2: -0.0091  D3: 0.0130  D4: 0.0141\r"
     ]
    },
    {
     "name": "stderr",
     "output_type": "stream",
     "text": [
      "[default |INFO|model.py:2182] [64/80]  loss: 6.048616e-02  D: 6.932531e-01  D2: -8.996348e-03  D3: 1.182852e-02  D4: 1.324043e-02\n",
      "test loss: 6.250375e-02  D: 7.052353e-01  D2: -9.097738e-03  D3: 1.294886e-02  D4: 1.412594e-02\n"
     ]
    },
    {
     "name": "stdout",
     "output_type": "stream",
     "text": [
      "[096/100]  test loss: 0.0639  D: 0.7002  D2: -0.0089  D3: 0.0115  D4: 0.0130\r"
     ]
    },
    {
     "name": "stderr",
     "output_type": "stream",
     "text": [
      "[default |INFO|model.py:2182] [65/80]  loss: 6.096785e-02  D: 6.948354e-01  D2: -9.088475e-03  D3: 1.183987e-02  D4: 1.315088e-02\n",
      "test loss: 6.383172e-02  D: 7.002395e-01  D2: -8.924818e-03  D3: 1.151474e-02  D4: 1.302077e-02\n"
     ]
    },
    {
     "name": "stdout",
     "output_type": "stream",
     "text": [
      "[096/100]  test loss: 0.0634  D: 0.7111  D2: -0.0089  D3: 0.0120  D4: 0.0135\r"
     ]
    },
    {
     "name": "stderr",
     "output_type": "stream",
     "text": [
      "[default |INFO|model.py:2182] [66/80]  loss: 6.054606e-02  D: 6.946992e-01  D2: -9.073888e-03  D3: 1.186386e-02  D4: 1.324619e-02\n",
      "test loss: 6.345507e-02  D: 7.110919e-01  D2: -8.917065e-03  D3: 1.203821e-02  D4: 1.350853e-02\n"
     ]
    },
    {
     "name": "stdout",
     "output_type": "stream",
     "text": [
      "[096/100]  test loss: 0.0622  D: 0.6891  D2: -0.0091  D3: 0.0124  D4: 0.0136\r"
     ]
    },
    {
     "name": "stderr",
     "output_type": "stream",
     "text": [
      "[default |INFO|model.py:2182] [67/80]  loss: 6.086527e-02  D: 6.932075e-01  D2: -9.072539e-03  D3: 1.172570e-02  D4: 1.302639e-02\n",
      "test loss: 6.216142e-02  D: 6.891150e-01  D2: -9.065847e-03  D3: 1.241480e-02  D4: 1.358528e-02\n"
     ]
    },
    {
     "name": "stdout",
     "output_type": "stream",
     "text": [
      "[096/100]  test loss: 0.0633  D: 0.6948  D2: -0.0093  D3: 0.0098  D4: 0.0110\r"
     ]
    },
    {
     "name": "stderr",
     "output_type": "stream",
     "text": [
      "[default |INFO|model.py:2182] [68/80]  loss: 6.023161e-02  D: 6.940712e-01  D2: -9.172603e-03  D3: 1.172593e-02  D4: 1.306110e-02\n",
      "test loss: 6.344550e-02  D: 6.947992e-01  D2: -9.276571e-03  D3: 9.852290e-03  D4: 1.104458e-02\n"
     ]
    },
    {
     "name": "stdout",
     "output_type": "stream",
     "text": [
      "[096/100]  test loss: 0.0627  D: 0.6913  D2: -0.0092  D3: 0.0123  D4: 0.0135\r"
     ]
    },
    {
     "name": "stderr",
     "output_type": "stream",
     "text": [
      "[default |INFO|model.py:2182] [69/80]  loss: 5.954523e-02  D: 6.928515e-01  D2: -9.177521e-03  D3: 1.190103e-02  D4: 1.324113e-02\n",
      "test loss: 6.269181e-02  D: 6.913042e-01  D2: -9.176550e-03  D3: 1.231540e-02  D4: 1.348540e-02\n"
     ]
    },
    {
     "name": "stdout",
     "output_type": "stream",
     "text": [
      "[095/100]  test loss: 0.0624  D: 0.6929  D2: -0.0094  D3: 0.0122  D4: 0.0136\r"
     ]
    },
    {
     "name": "stderr",
     "output_type": "stream",
     "text": [
      "[default |INFO|model.py:2182] [70/80]  loss: 5.902361e-02  D: 6.936102e-01  D2: -9.146969e-03  D3: 1.195836e-02  D4: 1.333502e-02\n",
      "test loss: 6.242288e-02  D: 6.929067e-01  D2: -9.412441e-03  D3: 1.216783e-02  D4: 1.361713e-02\n"
     ]
    },
    {
     "name": "stdout",
     "output_type": "stream",
     "text": [
      "[096/100]  test loss: 0.0644  D: 0.6924  D2: -0.0093  D3: 0.0123  D4: 0.0134\r"
     ]
    },
    {
     "name": "stderr",
     "output_type": "stream",
     "text": [
      "[default |INFO|model.py:2182] [71/80]  loss: 5.910205e-02  D: 6.946459e-01  D2: -9.148860e-03  D3: 1.188839e-02  D4: 1.319427e-02\n",
      "test loss: 6.433007e-02  D: 6.923962e-01  D2: -9.285069e-03  D3: 1.233146e-02  D4: 1.336244e-02\n"
     ]
    },
    {
     "name": "stdout",
     "output_type": "stream",
     "text": [
      "[096/100]  test loss: 0.0611  D: 0.6865  D2: -0.0092  D3: 0.0122  D4: 0.0135\r"
     ]
    },
    {
     "name": "stderr",
     "output_type": "stream",
     "text": [
      "[default |INFO|model.py:2182] [72/80]  loss: 5.941205e-02  D: 6.929148e-01  D2: -9.198408e-03  D3: 1.195507e-02  D4: 1.316791e-02\n",
      "test loss: 6.123856e-02  D: 6.865725e-01  D2: -9.234390e-03  D3: 1.218124e-02  D4: 1.352318e-02\n"
     ]
    },
    {
     "name": "stdout",
     "output_type": "stream",
     "text": [
      "[096/100]  test loss: 0.0624  D: 0.7013  D2: -0.0094  D3: 0.0113  D4: 0.0127\r"
     ]
    },
    {
     "name": "stderr",
     "output_type": "stream",
     "text": [
      "[default |INFO|model.py:2182] [73/80]  loss: 5.965652e-02  D: 6.947216e-01  D2: -9.227703e-03  D3: 1.170974e-02  D4: 1.298409e-02\n",
      "test loss: 6.237738e-02  D: 7.013171e-01  D2: -9.364634e-03  D3: 1.133128e-02  D4: 1.266718e-02\n"
     ]
    },
    {
     "name": "stdout",
     "output_type": "stream",
     "text": [
      "[096/100]  test loss: 0.0624  D: 0.7049  D2: -0.0093  D3: 0.0124  D4: 0.0135\r"
     ]
    },
    {
     "name": "stderr",
     "output_type": "stream",
     "text": [
      "[default |INFO|model.py:2182] [74/80]  loss: 5.931156e-02  D: 6.941493e-01  D2: -9.191270e-03  D3: 1.172650e-02  D4: 1.308398e-02\n",
      "test loss: 6.241625e-02  D: 7.048588e-01  D2: -9.275904e-03  D3: 1.240253e-02  D4: 1.350871e-02\n"
     ]
    },
    {
     "name": "stdout",
     "output_type": "stream",
     "text": [
      "[096/100]  test loss: 0.0624  D: 0.6930  D2: -0.0092  D3: 0.0120  D4: 0.0132\r"
     ]
    },
    {
     "name": "stderr",
     "output_type": "stream",
     "text": [
      "[default |INFO|model.py:2182] [75/80]  loss: 5.945070e-02  D: 6.922657e-01  D2: -9.231866e-03  D3: 1.170480e-02  D4: 1.310066e-02\n",
      "test loss: 6.242406e-02  D: 6.930775e-01  D2: -9.233036e-03  D3: 1.194254e-02  D4: 1.320157e-02\n"
     ]
    },
    {
     "name": "stdout",
     "output_type": "stream",
     "text": [
      "[096/100]  test loss: 0.0621  D: 0.6945  D2: -0.0094  D3: 0.0113  D4: 0.0127\r"
     ]
    },
    {
     "name": "stderr",
     "output_type": "stream",
     "text": [
      "[default |INFO|model.py:2182] [76/80]  loss: 5.968663e-02  D: 6.939164e-01  D2: -9.283778e-03  D3: 1.170507e-02  D4: 1.311207e-02\n",
      "test loss: 6.208493e-02  D: 6.945493e-01  D2: -9.364834e-03  D3: 1.130015e-02  D4: 1.275913e-02\n"
     ]
    },
    {
     "name": "stdout",
     "output_type": "stream",
     "text": [
      "[096/100]  test loss: 0.0614  D: 0.7073  D2: -0.0091  D3: 0.0128  D4: 0.0140\r"
     ]
    },
    {
     "name": "stderr",
     "output_type": "stream",
     "text": [
      "[default |INFO|model.py:2182] [77/80]  loss: 6.053372e-02  D: 6.952248e-01  D2: -9.198678e-03  D3: 1.167693e-02  D4: 1.303230e-02\n",
      "test loss: 6.130346e-02  D: 7.073417e-01  D2: -9.134579e-03  D3: 1.280047e-02  D4: 1.396960e-02\n"
     ]
    },
    {
     "name": "stdout",
     "output_type": "stream",
     "text": [
      "[096/100]  test loss: 0.0602  D: 0.6877  D2: -0.0096  D3: 0.0121  D4: 0.0134\r"
     ]
    },
    {
     "name": "stderr",
     "output_type": "stream",
     "text": [
      "[default |INFO|model.py:2182] [78/80]  loss: 5.926793e-02  D: 6.933154e-01  D2: -9.286052e-03  D3: 1.168266e-02  D4: 1.303170e-02\n",
      "test loss: 6.023093e-02  D: 6.876988e-01  D2: -9.599400e-03  D3: 1.214007e-02  D4: 1.342613e-02\n"
     ]
    },
    {
     "name": "stdout",
     "output_type": "stream",
     "text": [
      "[096/100]  test loss: 0.0622  D: 0.7042  D2: -0.0096  D3: 0.0114  D4: 0.0126\r"
     ]
    },
    {
     "name": "stderr",
     "output_type": "stream",
     "text": [
      "[default |INFO|model.py:2182] [79/80]  loss: 6.108347e-02  D: 6.940177e-01  D2: -9.300872e-03  D3: 1.146592e-02  D4: 1.281232e-02\n",
      "test loss: 6.220767e-02  D: 7.042007e-01  D2: -9.572487e-03  D3: 1.144093e-02  D4: 1.259559e-02\n"
     ]
    },
    {
     "name": "stdout",
     "output_type": "stream",
     "text": [
      "[096/100]  test loss: 0.0633  D: 0.6926  D2: -0.0094  D3: 0.0121  D4: 0.0133\r"
     ]
    },
    {
     "name": "stderr",
     "output_type": "stream",
     "text": [
      "[default |INFO|model.py:2182] [80/80]  loss: 6.047069e-02  D: 6.941865e-01  D2: -9.369664e-03  D3: 1.150682e-02  D4: 1.289694e-02\n",
      "test loss: 6.322769e-02  D: 6.926468e-01  D2: -9.386873e-03  D3: 1.214824e-02  D4: 1.330339e-02\n"
     ]
    },
    {
     "name": "stdout",
     "output_type": "stream",
     "text": [
      "[097/100]  test loss: 0.0632  D: 0.6927  D2: -0.0094  D3: 0.0121  D4: 0.0133\r",
      "[098/100]  test loss: 0.0633  D: 0.6926  D2: -0.0094  D3: 0.0121  D4: 0.0133\r",
      "[099/100]  test loss: 0.0633  D: 0.6926  D2: -0.0094  D3: 0.0121  D4: 0.0133\r",
      "[100/100]  test loss: 0.0632  D: 0.6926  D2: -0.0094  D3: 0.0121  D4: 0.0133\r"
     ]
    },
    {
     "name": "stderr",
     "output_type": "stream",
     "text": [
      "[default |INFO|model.py:2297] Training Finished!\n",
      "[default |INFO|model.py:2298] Elapsed time: 1713.084s\n"
     ]
    }
   ],
   "source": [
    "cfg = configparser.ConfigParser()\n",
    "cfg.read('./config/sswae_dev2_hsic_2.cfg')\n",
    "\n",
    "mm = cur_model(cfg, log, device = device)\n",
    "\n",
    "mm.gm.mu.load_state_dict(torch.load(f'./result/mu_{cfg[\"train_info\"][\"y_dim\"]}.pt'))\n",
    "mm.gm.cov.load_state_dict(torch.load(f'./result/cov_{cfg[\"train_info\"][\"y_dim\"]}.pt'))\n",
    "\n",
    "mm.train()\n",
    "# mm.load('./%s' % (cfg['path_info']['save_path']))"
   ]
  },
  {
   "cell_type": "markdown",
   "metadata": {},
   "source": [
    "# Train - 3"
   ]
  },
  {
   "cell_type": "code",
   "execution_count": 5,
   "metadata": {
    "scrolled": true
   },
   "outputs": [
    {
     "name": "stderr",
     "output_type": "stream",
     "text": [
      "[default |INFO|_base_model.py:27] ------------------------------------------------------------\n",
      "[default |INFO|_base_model.py:29] model_name : SSWAE_HSIC_MNIST\n",
      "[default |INFO|_base_model.py:29] train_data : rmMNIST\n",
      "[default |INFO|_base_model.py:29] train_data_label : True\n",
      "[default |INFO|_base_model.py:29] z_sampler : gaus\n",
      "[default |INFO|_base_model.py:29] z_dim : 6\n",
      "[default |INFO|_base_model.py:29] y_sampler : gaus\n",
      "[default |INFO|_base_model.py:29] y_dim : 4\n",
      "[default |INFO|_base_model.py:29] labeled_class : 0,1,2,3,4,5,6,7,8,9\n",
      "[default |INFO|_base_model.py:29] unlabeled_class : \n",
      "[default |INFO|_base_model.py:29] test_class : \n",
      "[default |INFO|_base_model.py:29] portion : 1.0\n",
      "[default |INFO|_base_model.py:29] unk : False\n",
      "[default |INFO|_base_model.py:29] encoder_pretrain : False\n",
      "[default |INFO|_base_model.py:29] encoder_pretrain_step : 3\n",
      "[default |INFO|_base_model.py:29] lr : 5e-4\n",
      "[default |INFO|_base_model.py:29] beta1 : 0.5\n",
      "[default |INFO|_base_model.py:29] lr_adv : 2e-4\n",
      "[default |INFO|_base_model.py:29] beta1_adv : 0.5\n",
      "[default |INFO|_base_model.py:29] lambda : 10.0\n",
      "[default |INFO|_base_model.py:29] lambda_mmd : 10.0\n",
      "[default |INFO|_base_model.py:29] lambda_hsic : 15.0\n",
      "[default |INFO|_base_model.py:29] lr_schedule : manual\n",
      "[default |INFO|_base_model.py:29] validate : True\n",
      "[default |INFO|_base_model.py:29] histogram : True\n",
      "[default |INFO|_base_model.py:29] batch_size : 100\n",
      "[default |INFO|_base_model.py:29] epoch : 80\n",
      "[default |INFO|_base_model.py:29] replace : False\n",
      "[default |INFO|_base_model.py:29] save_best : False\n",
      "[default |INFO|_base_model.py:32] data_home : ./data/MNIST\n",
      "[default |INFO|_base_model.py:32] tb_logs : \n",
      "[default |INFO|_base_model.py:32] save_path : ./result/weights/sswae_dev2_hsic_3.pt\n",
      "[default |INFO|_base_model.py:32] save_state : ./result/states/sswae_dev2_hsic_3.pt\n",
      "[default |INFO|_base_model.py:32] save_img_path : \n",
      "[default |INFO|model.py:2061] ------------------------------------------------------------\n",
      "[default |INFO|model.py:2062] Training Start!\n"
     ]
    },
    {
     "name": "stdout",
     "output_type": "stream",
     "text": [
      "[097/100]  test loss: 0.2019  D: 0.7054  D2: 0.0012  D3: 0.0094  D4: 0.00909\r"
     ]
    },
    {
     "name": "stderr",
     "output_type": "stream",
     "text": [
      "[default |INFO|model.py:2182] [01/80]  loss: 2.520545e-01  D: 6.879979e-01  D2: 1.936979e-02  D3: 9.967306e-04  D4: 8.804533e-04\n",
      "test loss: 2.017947e-01  D: 7.054450e-01  D2: 1.142025e-03  D3: 9.460048e-03  D4: 8.973590e-03\n"
     ]
    },
    {
     "name": "stdout",
     "output_type": "stream",
     "text": [
      "[092/100]  test loss: 0.1747  D: 0.6952  D2: -0.0041  D3: 0.0043  D4: 0.0048\r"
     ]
    },
    {
     "name": "stderr",
     "output_type": "stream",
     "text": [
      "[default |INFO|model.py:2182] [02/80]  loss: 1.893620e-01  D: 7.009039e-01  D2: -3.931459e-04  D3: 6.737854e-03  D4: 7.042244e-03\n",
      "test loss: 1.748381e-01  D: 6.952011e-01  D2: -4.030800e-03  D3: 4.256117e-03  D4: 4.736909e-03\n"
     ]
    },
    {
     "name": "stdout",
     "output_type": "stream",
     "text": [
      "[090/100]  test loss: 0.1600  D: 0.7479  D2: -0.0037  D3: 0.0082  D4: 0.0075\r"
     ]
    },
    {
     "name": "stderr",
     "output_type": "stream",
     "text": [
      "[default |INFO|model.py:2182] [03/80]  loss: 1.664879e-01  D: 6.868960e-01  D2: -3.707914e-03  D3: 8.374666e-03  D4: 8.580316e-03\n",
      "test loss: 1.596644e-01  D: 7.478377e-01  D2: -3.607178e-03  D3: 8.189773e-03  D4: 7.488971e-03\n"
     ]
    },
    {
     "name": "stdout",
     "output_type": "stream",
     "text": [
      "[096/100]  test loss: 0.1419  D: 0.7162  D2: -0.0046  D3: 0.0081  D4: 0.0091\r"
     ]
    },
    {
     "name": "stderr",
     "output_type": "stream",
     "text": [
      "[default |INFO|model.py:2182] [04/80]  loss: 1.509468e-01  D: 6.898243e-01  D2: -3.491095e-03  D3: 8.272020e-03  D4: 8.699086e-03\n",
      "test loss: 1.418334e-01  D: 7.162082e-01  D2: -4.603729e-03  D3: 8.033936e-03  D4: 9.029892e-03\n"
     ]
    },
    {
     "name": "stdout",
     "output_type": "stream",
     "text": [
      "[100/100]  test loss: 0.1295  D: 0.7016  D2: -0.0028  D3: 0.0107  D4: 0.0128\r"
     ]
    },
    {
     "name": "stderr",
     "output_type": "stream",
     "text": [
      "[default |INFO|model.py:2182] [05/80]  loss: 1.359546e-01  D: 7.036052e-01  D2: -3.532818e-03  D3: 1.076203e-02  D4: 1.153502e-02\n",
      "test loss: 1.294756e-01  D: 7.016195e-01  D2: -2.781725e-03  D3: 1.071593e-02  D4: 1.283397e-02\n"
     ]
    },
    {
     "name": "stdout",
     "output_type": "stream",
     "text": [
      "[094/100]  test loss: 0.1154  D: 0.6916  D2: -0.0048  D3: 0.0099  D4: 0.0108\r"
     ]
    },
    {
     "name": "stderr",
     "output_type": "stream",
     "text": [
      "[default |INFO|model.py:2182] [06/80]  loss: 1.238478e-01  D: 6.876564e-01  D2: -3.843346e-03  D3: 1.007516e-02  D4: 1.114711e-02\n",
      "test loss: 1.156966e-01  D: 6.916110e-01  D2: -4.703741e-03  D3: 9.822576e-03  D4: 1.079370e-02\n"
     ]
    },
    {
     "name": "stdout",
     "output_type": "stream",
     "text": [
      "[095/100]  test loss: 0.1086  D: 0.7061  D2: -0.0041  D3: 0.0144  D4: 0.0162\r"
     ]
    },
    {
     "name": "stderr",
     "output_type": "stream",
     "text": [
      "[default |INFO|model.py:2182] [07/80]  loss: 1.150778e-01  D: 7.016866e-01  D2: -3.616700e-03  D3: 1.146075e-02  D4: 1.285964e-02\n",
      "test loss: 1.088247e-01  D: 7.061590e-01  D2: -4.107971e-03  D3: 1.441923e-02  D4: 1.631768e-02\n"
     ]
    },
    {
     "name": "stdout",
     "output_type": "stream",
     "text": [
      "[096/100]  test loss: 0.1158  D: 0.7168  D2: -0.0041  D3: 0.0129  D4: 0.0133\r"
     ]
    },
    {
     "name": "stderr",
     "output_type": "stream",
     "text": [
      "[default |INFO|model.py:2182] [08/80]  loss: 1.093550e-01  D: 6.948611e-01  D2: -3.905064e-03  D3: 1.160681e-02  D4: 1.286013e-02\n",
      "test loss: 1.160053e-01  D: 7.167737e-01  D2: -4.092827e-03  D3: 1.290114e-02  D4: 1.329719e-02\n"
     ]
    },
    {
     "name": "stdout",
     "output_type": "stream",
     "text": [
      "[094/100]  test loss: 0.1081  D: 0.6589  D2: -0.0045  D3: 0.0093  D4: 0.0097\r"
     ]
    },
    {
     "name": "stderr",
     "output_type": "stream",
     "text": [
      "[default |INFO|model.py:2182] [09/80]  loss: 1.256371e-01  D: 7.139806e-01  D2: -3.532674e-03  D3: 1.229468e-02  D4: 1.362780e-02\n",
      "test loss: 1.077921e-01  D: 6.589246e-01  D2: -4.535141e-03  D3: 9.250587e-03  D4: 9.597335e-03\n"
     ]
    },
    {
     "name": "stdout",
     "output_type": "stream",
     "text": [
      "[092/100]  test loss: 0.1089  D: 0.6668  D2: -0.0041  D3: 0.0115  D4: 0.0134\r"
     ]
    },
    {
     "name": "stderr",
     "output_type": "stream",
     "text": [
      "[default |INFO|model.py:2182] [10/80]  loss: 1.164519e-01  D: 6.994515e-01  D2: -3.658506e-03  D3: 1.189371e-02  D4: 1.315831e-02\n",
      "test loss: 1.090047e-01  D: 6.667938e-01  D2: -4.117737e-03  D3: 1.150512e-02  D4: 1.336226e-02\n"
     ]
    },
    {
     "name": "stdout",
     "output_type": "stream",
     "text": [
      "[087/100]  test loss: 0.1138  D: 0.6845  D2: -0.0041  D3: 0.0168  D4: 0.0187\r"
     ]
    },
    {
     "name": "stderr",
     "output_type": "stream",
     "text": [
      "[default |INFO|model.py:2182] [11/80]  loss: 1.190120e-01  D: 6.952067e-01  D2: -4.216234e-03  D3: 1.015216e-02  D4: 1.124617e-02\n",
      "test loss: 1.140229e-01  D: 6.843544e-01  D2: -4.231319e-03  D3: 1.691836e-02  D4: 1.867352e-02\n"
     ]
    },
    {
     "name": "stdout",
     "output_type": "stream",
     "text": [
      "[094/100]  test loss: 0.1055  D: 0.7016  D2: -0.0047  D3: 0.0113  D4: 0.0121\r"
     ]
    },
    {
     "name": "stderr",
     "output_type": "stream",
     "text": [
      "[default |INFO|model.py:2182] [12/80]  loss: 1.064119e-01  D: 7.024393e-01  D2: -4.073310e-03  D3: 1.234893e-02  D4: 1.366950e-02\n",
      "test loss: 1.057193e-01  D: 7.016166e-01  D2: -4.640722e-03  D3: 1.136461e-02  D4: 1.206841e-02\n"
     ]
    },
    {
     "name": "stdout",
     "output_type": "stream",
     "text": [
      "[090/100]  test loss: 0.1065  D: 0.6751  D2: -0.0037  D3: 0.0139  D4: 0.0153\r"
     ]
    },
    {
     "name": "stderr",
     "output_type": "stream",
     "text": [
      "[default |INFO|model.py:2182] [13/80]  loss: 1.045455e-01  D: 6.973472e-01  D2: -4.033766e-03  D3: 1.235555e-02  D4: 1.377592e-02\n",
      "test loss: 1.066640e-01  D: 6.750889e-01  D2: -3.834534e-03  D3: 1.407982e-02  D4: 1.542677e-02\n"
     ]
    },
    {
     "name": "stdout",
     "output_type": "stream",
     "text": [
      "[088/100]  test loss: 0.1121  D: 0.6769  D2: -0.0041  D3: 0.0126  D4: 0.0139\r"
     ]
    },
    {
     "name": "stderr",
     "output_type": "stream",
     "text": [
      "[default |INFO|model.py:2182] [14/80]  loss: 1.119112e-01  D: 6.972370e-01  D2: -3.741105e-03  D3: 1.361185e-02  D4: 1.503479e-02\n",
      "test loss: 1.122004e-01  D: 6.769394e-01  D2: -4.044199e-03  D3: 1.255435e-02  D4: 1.388269e-02\n"
     ]
    },
    {
     "name": "stdout",
     "output_type": "stream",
     "text": [
      "[093/100]  test loss: 0.1038  D: 0.6813  D2: -0.0046  D3: 0.0105  D4: 0.0132\r"
     ]
    },
    {
     "name": "stderr",
     "output_type": "stream",
     "text": [
      "[default |INFO|model.py:2182] [15/80]  loss: 1.073286e-01  D: 6.986378e-01  D2: -4.000181e-03  D3: 1.345157e-02  D4: 1.516590e-02\n",
      "test loss: 1.037160e-01  D: 6.812333e-01  D2: -4.561520e-03  D3: 1.047107e-02  D4: 1.323118e-02\n"
     ]
    },
    {
     "name": "stdout",
     "output_type": "stream",
     "text": [
      "[091/100]  test loss: 0.1042  D: 0.6936  D2: -0.0028  D3: 0.0124  D4: 0.0147\r"
     ]
    },
    {
     "name": "stderr",
     "output_type": "stream",
     "text": [
      "[default |INFO|model.py:2182] [16/80]  loss: 1.024388e-01  D: 6.960764e-01  D2: -4.159007e-03  D3: 1.325419e-02  D4: 1.506422e-02\n",
      "test loss: 1.040369e-01  D: 6.935484e-01  D2: -3.012056e-03  D3: 1.245292e-02  D4: 1.463616e-02\n"
     ]
    },
    {
     "name": "stdout",
     "output_type": "stream",
     "text": [
      "[092/100]  test loss: 0.0988  D: 0.6596  D2: -0.0047  D3: 0.0113  D4: 0.0136\r"
     ]
    },
    {
     "name": "stderr",
     "output_type": "stream",
     "text": [
      "[default |INFO|model.py:2182] [17/80]  loss: 1.030949e-01  D: 7.012116e-01  D2: -4.107040e-03  D3: 1.268583e-02  D4: 1.480618e-02\n",
      "test loss: 9.895274e-02  D: 6.596518e-01  D2: -4.756403e-03  D3: 1.127186e-02  D4: 1.356335e-02\n"
     ]
    },
    {
     "name": "stdout",
     "output_type": "stream",
     "text": [
      "[093/100]  test loss: 0.1183  D: 0.6993  D2: -0.0053  D3: 0.0056  D4: 0.0053\r"
     ]
    },
    {
     "name": "stderr",
     "output_type": "stream",
     "text": [
      "[default |INFO|model.py:2182] [18/80]  loss: 1.117514e-01  D: 6.945564e-01  D2: -4.229048e-03  D3: 1.019836e-02  D4: 1.188194e-02\n",
      "test loss: 1.183514e-01  D: 6.992603e-01  D2: -5.251389e-03  D3: 5.559079e-03  D4: 5.309072e-03\n"
     ]
    },
    {
     "name": "stdout",
     "output_type": "stream",
     "text": [
      "[088/100]  test loss: 0.1003  D: 0.7119  D2: -0.0047  D3: 0.0136  D4: 0.0148\r"
     ]
    },
    {
     "name": "stderr",
     "output_type": "stream",
     "text": [
      "[default |INFO|model.py:2182] [19/80]  loss: 1.120747e-01  D: 7.003723e-01  D2: -4.216102e-03  D3: 1.101407e-02  D4: 1.253302e-02\n",
      "test loss: 1.004425e-01  D: 7.118875e-01  D2: -4.696798e-03  D3: 1.368860e-02  D4: 1.495599e-02\n"
     ]
    },
    {
     "name": "stdout",
     "output_type": "stream",
     "text": [
      "[088/100]  test loss: 0.1188  D: 0.6854  D2: -0.0044  D3: 0.0103  D4: 0.0120\r"
     ]
    },
    {
     "name": "stderr",
     "output_type": "stream",
     "text": [
      "[default |INFO|model.py:2182] [20/80]  loss: 1.061330e-01  D: 6.985774e-01  D2: -4.312879e-03  D3: 1.227620e-02  D4: 1.423549e-02\n",
      "test loss: 1.188692e-01  D: 6.854458e-01  D2: -4.293480e-03  D3: 1.024172e-02  D4: 1.197249e-02\n"
     ]
    },
    {
     "name": "stdout",
     "output_type": "stream",
     "text": [
      "[088/100]  test loss: 0.1128  D: 0.7132  D2: -0.0043  D3: 0.0126  D4: 0.0150\r"
     ]
    },
    {
     "name": "stderr",
     "output_type": "stream",
     "text": [
      "[default |INFO|model.py:2182] [21/80]  loss: 1.079249e-01  D: 6.985838e-01  D2: -4.241929e-03  D3: 1.137221e-02  D4: 1.350740e-02\n",
      "test loss: 1.127599e-01  D: 7.132663e-01  D2: -4.058113e-03  D3: 1.255373e-02  D4: 1.496602e-02\n"
     ]
    },
    {
     "name": "stdout",
     "output_type": "stream",
     "text": [
      "[090/100]  test loss: 0.1085  D: 0.7193  D2: -0.0051  D3: 0.0116  D4: 0.0145\r"
     ]
    },
    {
     "name": "stderr",
     "output_type": "stream",
     "text": [
      "[default |INFO|model.py:2182] [22/80]  loss: 1.078181e-01  D: 6.918360e-01  D2: -4.046793e-03  D3: 1.200576e-02  D4: 1.406497e-02\n",
      "test loss: 1.086043e-01  D: 7.193382e-01  D2: -5.029860e-03  D3: 1.177481e-02  D4: 1.447929e-02\n"
     ]
    },
    {
     "name": "stdout",
     "output_type": "stream",
     "text": [
      "[088/100]  test loss: 0.0988  D: 0.7038  D2: -0.0043  D3: 0.0129  D4: 0.0150\r"
     ]
    },
    {
     "name": "stderr",
     "output_type": "stream",
     "text": [
      "[default |INFO|model.py:2182] [23/80]  loss: 1.041028e-01  D: 6.973106e-01  D2: -4.371670e-03  D3: 1.148561e-02  D4: 1.338506e-02\n",
      "test loss: 9.855806e-02  D: 7.037581e-01  D2: -4.356518e-03  D3: 1.292966e-02  D4: 1.500351e-02\n"
     ]
    },
    {
     "name": "stdout",
     "output_type": "stream",
     "text": [
      "[089/100]  test loss: 0.1135  D: 0.6469  D2: -0.0048  D3: 0.0122  D4: 0.0146\r"
     ]
    },
    {
     "name": "stderr",
     "output_type": "stream",
     "text": [
      "[default |INFO|model.py:2182] [24/80]  loss: 1.051990e-01  D: 6.976240e-01  D2: -4.512734e-03  D3: 1.237485e-02  D4: 1.461591e-02\n",
      "test loss: 1.132076e-01  D: 6.468647e-01  D2: -4.859190e-03  D3: 1.213872e-02  D4: 1.457602e-02\n"
     ]
    },
    {
     "name": "stdout",
     "output_type": "stream",
     "text": [
      "[092/100]  test loss: 0.0986  D: 0.7145  D2: -0.0057  D3: 0.0127  D4: 0.0145\r"
     ]
    },
    {
     "name": "stderr",
     "output_type": "stream",
     "text": [
      "[default |INFO|model.py:2182] [25/80]  loss: 1.075760e-01  D: 6.977057e-01  D2: -4.506111e-03  D3: 1.227380e-02  D4: 1.448260e-02\n",
      "test loss: 9.854047e-02  D: 7.144970e-01  D2: -5.587225e-03  D3: 1.262279e-02  D4: 1.440852e-02\n"
     ]
    },
    {
     "name": "stdout",
     "output_type": "stream",
     "text": [
      "[089/100]  test loss: 0.1034  D: 0.6854  D2: -0.0042  D3: 0.0137  D4: 0.0161\r"
     ]
    },
    {
     "name": "stderr",
     "output_type": "stream",
     "text": [
      "[default |INFO|model.py:2182] [26/80]  loss: 1.058053e-01  D: 7.009321e-01  D2: -4.211256e-03  D3: 1.232289e-02  D4: 1.451223e-02\n",
      "test loss: 1.034302e-01  D: 6.853820e-01  D2: -4.249821e-03  D3: 1.365596e-02  D4: 1.614923e-02\n"
     ]
    },
    {
     "name": "stdout",
     "output_type": "stream",
     "text": [
      "[088/100]  test loss: 0.1047  D: 0.7149  D2: -0.0043  D3: 0.0130  D4: 0.0154\r"
     ]
    },
    {
     "name": "stderr",
     "output_type": "stream",
     "text": [
      "[default |INFO|model.py:2182] [27/80]  loss: 1.063988e-01  D: 6.970654e-01  D2: -4.340776e-03  D3: 1.239765e-02  D4: 1.468047e-02\n",
      "test loss: 1.042888e-01  D: 7.149638e-01  D2: -4.482403e-03  D3: 1.299862e-02  D4: 1.528447e-02\n"
     ]
    },
    {
     "name": "stdout",
     "output_type": "stream",
     "text": [
      "[088/100]  test loss: 0.0962  D: 0.6828  D2: -0.0045  D3: 0.0137  D4: 0.0161\r"
     ]
    },
    {
     "name": "stderr",
     "output_type": "stream",
     "text": [
      "[default |INFO|model.py:2182] [28/80]  loss: 9.972015e-02  D: 6.997338e-01  D2: -4.558412e-03  D3: 1.271733e-02  D4: 1.481981e-02\n",
      "test loss: 9.630233e-02  D: 6.827884e-01  D2: -4.512367e-03  D3: 1.369345e-02  D4: 1.609594e-02\n"
     ]
    },
    {
     "name": "stdout",
     "output_type": "stream",
     "text": [
      "[090/100]  test loss: 0.0939  D: 0.6986  D2: -0.0045  D3: 0.0143  D4: 0.0165\r"
     ]
    },
    {
     "name": "stderr",
     "output_type": "stream",
     "text": [
      "[default |INFO|model.py:2182] [29/80]  loss: 9.868092e-02  D: 6.993439e-01  D2: -4.224312e-03  D3: 1.236853e-02  D4: 1.453029e-02\n",
      "test loss: 9.425354e-02  D: 6.986462e-01  D2: -4.604931e-03  D3: 1.441976e-02  D4: 1.655282e-02\n"
     ]
    },
    {
     "name": "stdout",
     "output_type": "stream",
     "text": [
      "[088/100]  test loss: 0.0966  D: 0.7157  D2: -0.0048  D3: 0.0151  D4: 0.0161\r"
     ]
    },
    {
     "name": "stderr",
     "output_type": "stream",
     "text": [
      "[default |INFO|model.py:2182] [30/80]  loss: 9.916272e-02  D: 6.969419e-01  D2: -4.753698e-03  D3: 1.223797e-02  D4: 1.421616e-02\n",
      "test loss: 9.622773e-02  D: 7.156837e-01  D2: -4.964886e-03  D3: 1.494585e-02  D4: 1.613410e-02\n"
     ]
    },
    {
     "name": "stdout",
     "output_type": "stream",
     "text": [
      "[089/100]  test loss: 0.0914  D: 0.6954  D2: -0.0053  D3: 0.0117  D4: 0.0136\r"
     ]
    },
    {
     "name": "stderr",
     "output_type": "stream",
     "text": [
      "[default |INFO|model.py:2182] [31/80]  loss: 9.947461e-02  D: 6.970814e-01  D2: -4.465658e-03  D3: 1.218017e-02  D4: 1.430728e-02\n",
      "test loss: 9.154735e-02  D: 6.954225e-01  D2: -5.194521e-03  D3: 1.156198e-02  D4: 1.360007e-02\n"
     ]
    },
    {
     "name": "stdout",
     "output_type": "stream",
     "text": [
      "[089/100]  test loss: 0.1130  D: 0.6737  D2: -0.0044  D3: 0.0166  D4: 0.0181\r"
     ]
    },
    {
     "name": "stderr",
     "output_type": "stream",
     "text": [
      "[default |INFO|model.py:2182] [32/80]  loss: 1.026200e-01  D: 6.967819e-01  D2: -4.588089e-03  D3: 1.216791e-02  D4: 1.422071e-02\n",
      "test loss: 1.131370e-01  D: 6.736503e-01  D2: -4.440756e-03  D3: 1.655538e-02  D4: 1.807723e-02\n"
     ]
    },
    {
     "name": "stdout",
     "output_type": "stream",
     "text": [
      "[088/100]  test loss: 0.1118  D: 0.7008  D2: -0.0040  D3: 0.0176  D4: 0.0176\r"
     ]
    },
    {
     "name": "stderr",
     "output_type": "stream",
     "text": [
      "[default |INFO|model.py:2182] [33/80]  loss: 1.037790e-01  D: 6.984336e-01  D2: -4.791339e-03  D3: 1.239028e-02  D4: 1.429403e-02\n",
      "test loss: 1.116114e-01  D: 7.008116e-01  D2: -4.175568e-03  D3: 1.768883e-02  D4: 1.756230e-02\n"
     ]
    },
    {
     "name": "stdout",
     "output_type": "stream",
     "text": [
      "[090/100]  test loss: 0.1006  D: 0.7432  D2: -0.0047  D3: 0.0147  D4: 0.0169\r"
     ]
    },
    {
     "name": "stderr",
     "output_type": "stream",
     "text": [
      "[default |INFO|model.py:2182] [34/80]  loss: 9.844597e-02  D: 6.940481e-01  D2: -4.942042e-03  D3: 1.255976e-02  D4: 1.470782e-02\n",
      "test loss: 1.003649e-01  D: 7.432633e-01  D2: -4.839897e-03  D3: 1.467174e-02  D4: 1.697306e-02\n"
     ]
    },
    {
     "name": "stdout",
     "output_type": "stream",
     "text": [
      "[094/100]  test loss: 0.1003  D: 0.7014  D2: -0.0051  D3: 0.0139  D4: 0.0151\r"
     ]
    },
    {
     "name": "stderr",
     "output_type": "stream",
     "text": [
      "[default |INFO|model.py:2182] [35/80]  loss: 1.018611e-01  D: 6.998949e-01  D2: -4.429208e-03  D3: 1.241614e-02  D4: 1.453520e-02\n",
      "test loss: 1.005806e-01  D: 7.012472e-01  D2: -5.078964e-03  D3: 1.399388e-02  D4: 1.512979e-02\n"
     ]
    },
    {
     "name": "stdout",
     "output_type": "stream",
     "text": [
      "[092/100]  test loss: 0.1060  D: 0.6867  D2: -0.0048  D3: 0.0156  D4: 0.0173\r"
     ]
    },
    {
     "name": "stderr",
     "output_type": "stream",
     "text": [
      "[default |INFO|model.py:2182] [36/80]  loss: 1.007028e-01  D: 6.996010e-01  D2: -4.558172e-03  D3: 1.230473e-02  D4: 1.433030e-02\n",
      "test loss: 1.058199e-01  D: 6.866761e-01  D2: -4.751797e-03  D3: 1.575720e-02  D4: 1.721928e-02\n"
     ]
    },
    {
     "name": "stdout",
     "output_type": "stream",
     "text": [
      "[088/100]  test loss: 0.1008  D: 0.6881  D2: -0.0050  D3: 0.0133  D4: 0.0139\r"
     ]
    },
    {
     "name": "stderr",
     "output_type": "stream",
     "text": [
      "[default |INFO|model.py:2182] [37/80]  loss: 9.814999e-02  D: 6.938072e-01  D2: -4.873622e-03  D3: 1.172506e-02  D4: 1.401467e-02\n",
      "test loss: 1.007504e-01  D: 6.881349e-01  D2: -4.977770e-03  D3: 1.338406e-02  D4: 1.397898e-02\n"
     ]
    },
    {
     "name": "stdout",
     "output_type": "stream",
     "text": [
      "[091/100]  test loss: 0.1101  D: 0.6901  D2: -0.0053  D3: 0.0120  D4: 0.0144\r"
     ]
    },
    {
     "name": "stderr",
     "output_type": "stream",
     "text": [
      "[default |INFO|model.py:2182] [38/80]  loss: 9.520097e-02  D: 6.963856e-01  D2: -4.685899e-03  D3: 1.209374e-02  D4: 1.445923e-02\n",
      "test loss: 1.097533e-01  D: 6.901191e-01  D2: -5.249138e-03  D3: 1.187615e-02  D4: 1.436709e-02\n"
     ]
    },
    {
     "name": "stdout",
     "output_type": "stream",
     "text": [
      "[086/100]  test loss: 0.0965  D: 0.7004  D2: -0.0049  D3: 0.0149  D4: 0.0168\r"
     ]
    },
    {
     "name": "stderr",
     "output_type": "stream",
     "text": [
      "[default |INFO|model.py:2182] [39/80]  loss: 1.057205e-01  D: 6.993022e-01  D2: -4.728796e-03  D3: 1.187349e-02  D4: 1.430103e-02\n",
      "test loss: 9.656192e-02  D: 7.004123e-01  D2: -4.782667e-03  D3: 1.479698e-02  D4: 1.684739e-02\n"
     ]
    },
    {
     "name": "stdout",
     "output_type": "stream",
     "text": [
      "[088/100]  test loss: 0.0960  D: 0.6572  D2: -0.0055  D3: 0.0116  D4: 0.0148\r"
     ]
    },
    {
     "name": "stderr",
     "output_type": "stream",
     "text": [
      "[default |INFO|model.py:2182] [40/80]  loss: 9.596082e-02  D: 6.957125e-01  D2: -4.894838e-03  D3: 1.254953e-02  D4: 1.494212e-02\n",
      "test loss: 9.627594e-02  D: 6.572007e-01  D2: -5.271101e-03  D3: 1.170979e-02  D4: 1.491823e-02\n"
     ]
    },
    {
     "name": "stdout",
     "output_type": "stream",
     "text": [
      "[087/100]  test loss: 0.0923  D: 0.6914  D2: -0.0053  D3: 0.0102  D4: 0.0125\r"
     ]
    },
    {
     "name": "stderr",
     "output_type": "stream",
     "text": [
      "[default |INFO|model.py:2182] [41/80]  loss: 1.017353e-01  D: 7.000966e-01  D2: -4.665971e-03  D3: 1.252188e-02  D4: 1.509545e-02\n",
      "test loss: 9.255600e-02  D: 6.914341e-01  D2: -5.159044e-03  D3: 1.031808e-02  D4: 1.252538e-02\n"
     ]
    },
    {
     "name": "stdout",
     "output_type": "stream",
     "text": [
      "[090/100]  test loss: 0.0971  D: 0.6916  D2: -0.0049  D3: 0.0107  D4: 0.0134\r"
     ]
    },
    {
     "name": "stderr",
     "output_type": "stream",
     "text": [
      "[default |INFO|model.py:2182] [42/80]  loss: 9.730708e-02  D: 6.942748e-01  D2: -4.674791e-03  D3: 1.237953e-02  D4: 1.493461e-02\n",
      "test loss: 9.684239e-02  D: 6.916884e-01  D2: -5.006123e-03  D3: 1.068913e-02  D4: 1.328207e-02\n"
     ]
    },
    {
     "name": "stdout",
     "output_type": "stream",
     "text": [
      "[090/100]  test loss: 0.1185  D: 0.6728  D2: -0.0033  D3: 0.0126  D4: 0.0151\r"
     ]
    },
    {
     "name": "stderr",
     "output_type": "stream",
     "text": [
      "[default |INFO|model.py:2182] [43/80]  loss: 9.818656e-02  D: 6.983466e-01  D2: -4.921880e-03  D3: 1.233080e-02  D4: 1.472382e-02\n",
      "test loss: 1.180333e-01  D: 6.728624e-01  D2: -3.397541e-03  D3: 1.257594e-02  D4: 1.499627e-02\n"
     ]
    },
    {
     "name": "stdout",
     "output_type": "stream",
     "text": [
      "[090/100]  test loss: 0.0921  D: 0.7292  D2: -0.0046  D3: 0.0152  D4: 0.0172\r"
     ]
    },
    {
     "name": "stderr",
     "output_type": "stream",
     "text": [
      "[default |INFO|model.py:2182] [44/80]  loss: 1.012410e-01  D: 6.972310e-01  D2: -4.937181e-03  D3: 1.226785e-02  D4: 1.449404e-02\n",
      "test loss: 9.208039e-02  D: 7.292815e-01  D2: -4.541712e-03  D3: 1.513217e-02  D4: 1.710718e-02\n"
     ]
    },
    {
     "name": "stdout",
     "output_type": "stream",
     "text": [
      "[090/100]  test loss: 0.0942  D: 0.7167  D2: -0.0050  D3: 0.0136  D4: 0.0165\r"
     ]
    },
    {
     "name": "stderr",
     "output_type": "stream",
     "text": [
      "[default |INFO|model.py:2182] [45/80]  loss: 9.567745e-02  D: 6.983822e-01  D2: -4.904798e-03  D3: 1.254888e-02  D4: 1.495413e-02\n",
      "test loss: 9.386377e-02  D: 7.167145e-01  D2: -4.967585e-03  D3: 1.351303e-02  D4: 1.638379e-02\n"
     ]
    },
    {
     "name": "stdout",
     "output_type": "stream",
     "text": [
      "[089/100]  test loss: 0.0969  D: 0.7012  D2: -0.0053  D3: 0.0114  D4: 0.0143\r"
     ]
    },
    {
     "name": "stderr",
     "output_type": "stream",
     "text": [
      "[default |INFO|model.py:2182] [46/80]  loss: 9.925495e-02  D: 6.967384e-01  D2: -4.965612e-03  D3: 1.204665e-02  D4: 1.468192e-02\n",
      "test loss: 9.675006e-02  D: 7.011555e-01  D2: -5.137234e-03  D3: 1.135704e-02  D4: 1.440026e-02\n"
     ]
    },
    {
     "name": "stdout",
     "output_type": "stream",
     "text": [
      "[092/100]  test loss: 0.1080  D: 0.6737  D2: -0.0049  D3: 0.0140  D4: 0.0154\r"
     ]
    },
    {
     "name": "stderr",
     "output_type": "stream",
     "text": [
      "[default |INFO|model.py:2182] [47/80]  loss: 9.854665e-02  D: 6.973169e-01  D2: -4.989181e-03  D3: 1.268741e-02  D4: 1.491106e-02\n",
      "test loss: 1.075934e-01  D: 6.738168e-01  D2: -4.946260e-03  D3: 1.397841e-02  D4: 1.544848e-02\n"
     ]
    },
    {
     "name": "stdout",
     "output_type": "stream",
     "text": [
      "[090/100]  test loss: 0.0926  D: 0.6928  D2: -0.0046  D3: 0.0149  D4: 0.0165\r"
     ]
    },
    {
     "name": "stderr",
     "output_type": "stream",
     "text": [
      "[default |INFO|model.py:2182] [48/80]  loss: 1.062713e-01  D: 7.010560e-01  D2: -4.881508e-03  D3: 1.251332e-02  D4: 1.475307e-02\n",
      "test loss: 9.267240e-02  D: 6.928700e-01  D2: -4.533939e-03  D3: 1.493547e-02  D4: 1.649674e-02\n"
     ]
    },
    {
     "name": "stdout",
     "output_type": "stream",
     "text": [
      "[089/100]  test loss: 0.0906  D: 0.6709  D2: -0.0053  D3: 0.0129  D4: 0.0145\r"
     ]
    },
    {
     "name": "stderr",
     "output_type": "stream",
     "text": [
      "[default |INFO|model.py:2182] [49/80]  loss: 9.317905e-02  D: 6.965074e-01  D2: -4.844009e-03  D3: 1.301712e-02  D4: 1.501154e-02\n",
      "test loss: 9.078062e-02  D: 6.708712e-01  D2: -5.385208e-03  D3: 1.287238e-02  D4: 1.458883e-02\n"
     ]
    },
    {
     "name": "stdout",
     "output_type": "stream",
     "text": [
      "[094/100]  test loss: 0.0912  D: 0.7497  D2: -0.0050  D3: 0.0142  D4: 0.0153\r"
     ]
    },
    {
     "name": "stderr",
     "output_type": "stream",
     "text": [
      "[default |INFO|model.py:2182] [50/80]  loss: 9.080227e-02  D: 6.973016e-01  D2: -4.932189e-03  D3: 1.232904e-02  D4: 1.462199e-02\n",
      "test loss: 9.095858e-02  D: 7.496424e-01  D2: -5.011292e-03  D3: 1.422645e-02  D4: 1.529923e-02\n"
     ]
    },
    {
     "name": "stdout",
     "output_type": "stream",
     "text": [
      "[090/100]  test loss: 0.0866  D: 0.7213  D2: -0.0048  D3: 0.0118  D4: 0.0148\r"
     ]
    },
    {
     "name": "stderr",
     "output_type": "stream",
     "text": [
      "[default |INFO|model.py:2182] [51/80]  loss: 9.215754e-02  D: 6.991438e-01  D2: -5.083806e-03  D3: 1.226969e-02  D4: 1.473723e-02\n",
      "test loss: 8.644840e-02  D: 7.212345e-01  D2: -4.734297e-03  D3: 1.189109e-02  D4: 1.485725e-02\n"
     ]
    },
    {
     "name": "stdout",
     "output_type": "stream",
     "text": [
      "[093/100]  test loss: 0.0908  D: 0.7106  D2: -0.0046  D3: 0.0132  D4: 0.0156\r"
     ]
    },
    {
     "name": "stderr",
     "output_type": "stream",
     "text": [
      "[default |INFO|model.py:2182] [52/80]  loss: 9.023270e-02  D: 6.983836e-01  D2: -5.105672e-03  D3: 1.241014e-02  D4: 1.471021e-02\n",
      "test loss: 9.048068e-02  D: 7.106611e-01  D2: -4.787035e-03  D3: 1.321490e-02  D4: 1.556015e-02\n"
     ]
    },
    {
     "name": "stdout",
     "output_type": "stream",
     "text": [
      "[092/100]  test loss: 0.0967  D: 0.7300  D2: -0.0046  D3: 0.0140  D4: 0.0163\r"
     ]
    },
    {
     "name": "stderr",
     "output_type": "stream",
     "text": [
      "[default |INFO|model.py:2182] [53/80]  loss: 9.194996e-02  D: 6.944159e-01  D2: -4.995530e-03  D3: 1.232689e-02  D4: 1.485001e-02\n",
      "test loss: 9.647126e-02  D: 7.300480e-01  D2: -4.553833e-03  D3: 1.403641e-02  D4: 1.636398e-02\n"
     ]
    },
    {
     "name": "stdout",
     "output_type": "stream",
     "text": [
      "[091/100]  test loss: 0.0917  D: 0.6806  D2: -0.0051  D3: 0.0108  D4: 0.0129\r"
     ]
    },
    {
     "name": "stderr",
     "output_type": "stream",
     "text": [
      "[default |INFO|model.py:2182] [54/80]  loss: 9.306877e-02  D: 6.968679e-01  D2: -5.061685e-03  D3: 1.235208e-02  D4: 1.485254e-02\n",
      "test loss: 9.154161e-02  D: 6.807145e-01  D2: -5.369854e-03  D3: 1.076433e-02  D4: 1.293219e-02\n"
     ]
    },
    {
     "name": "stdout",
     "output_type": "stream",
     "text": [
      "[092/100]  test loss: 0.0902  D: 0.6898  D2: -0.0055  D3: 0.0125  D4: 0.0152\r"
     ]
    },
    {
     "name": "stderr",
     "output_type": "stream",
     "text": [
      "[default |INFO|model.py:2182] [55/80]  loss: 9.237662e-02  D: 6.950306e-01  D2: -5.043100e-03  D3: 1.212342e-02  D4: 1.473655e-02\n",
      "test loss: 9.023661e-02  D: 6.897598e-01  D2: -5.582886e-03  D3: 1.245500e-02  D4: 1.510468e-02\n"
     ]
    },
    {
     "name": "stdout",
     "output_type": "stream",
     "text": [
      "[095/100]  test loss: 0.0877  D: 0.7088  D2: -0.0052  D3: 0.0145  D4: 0.0164\r"
     ]
    },
    {
     "name": "stderr",
     "output_type": "stream",
     "text": [
      "[default |INFO|model.py:2182] [56/80]  loss: 9.172014e-02  D: 6.977771e-01  D2: -5.226630e-03  D3: 1.248291e-02  D4: 1.504130e-02\n",
      "test loss: 8.780532e-02  D: 7.087809e-01  D2: -5.090809e-03  D3: 1.441921e-02  D4: 1.649624e-02\n"
     ]
    },
    {
     "name": "stdout",
     "output_type": "stream",
     "text": [
      "[091/100]  test loss: 0.0915  D: 0.6835  D2: -0.0054  D3: 0.0146  D4: 0.0170\r"
     ]
    },
    {
     "name": "stderr",
     "output_type": "stream",
     "text": [
      "[default |INFO|model.py:2182] [57/80]  loss: 8.787155e-02  D: 6.956862e-01  D2: -5.295793e-03  D3: 1.224639e-02  D4: 1.467342e-02\n",
      "test loss: 9.170029e-02  D: 6.835471e-01  D2: -5.409346e-03  D3: 1.466827e-02  D4: 1.705896e-02\n"
     ]
    },
    {
     "name": "stdout",
     "output_type": "stream",
     "text": [
      "[088/100]  test loss: 0.0902  D: 0.6581  D2: -0.0046  D3: 0.0117  D4: 0.0149\r"
     ]
    },
    {
     "name": "stderr",
     "output_type": "stream",
     "text": [
      "[default |INFO|model.py:2182] [58/80]  loss: 9.583840e-02  D: 6.999946e-01  D2: -5.349091e-03  D3: 1.258424e-02  D4: 1.508310e-02\n",
      "test loss: 9.014799e-02  D: 6.581406e-01  D2: -4.747686e-03  D3: 1.175608e-02  D4: 1.495399e-02\n"
     ]
    },
    {
     "name": "stdout",
     "output_type": "stream",
     "text": [
      "[094/100]  test loss: 0.0857  D: 0.6951  D2: -0.0054  D3: 0.0114  D4: 0.0136\r"
     ]
    },
    {
     "name": "stderr",
     "output_type": "stream",
     "text": [
      "[default |INFO|model.py:2182] [59/80]  loss: 9.105018e-02  D: 6.921876e-01  D2: -5.092376e-03  D3: 1.256206e-02  D4: 1.508331e-02\n",
      "test loss: 8.556526e-02  D: 6.951420e-01  D2: -5.445099e-03  D3: 1.137939e-02  D4: 1.354275e-02\n"
     ]
    },
    {
     "name": "stdout",
     "output_type": "stream",
     "text": [
      "[091/100]  test loss: 0.1050  D: 0.7082  D2: -0.0061  D3: 0.0130  D4: 0.0148\r"
     ]
    },
    {
     "name": "stderr",
     "output_type": "stream",
     "text": [
      "[default |INFO|model.py:2182] [60/80]  loss: 9.447191e-02  D: 7.006980e-01  D2: -5.299404e-03  D3: 1.237349e-02  D4: 1.487144e-02\n",
      "test loss: 1.048011e-01  D: 7.081774e-01  D2: -5.953064e-03  D3: 1.294379e-02  D4: 1.488385e-02\n"
     ]
    },
    {
     "name": "stdout",
     "output_type": "stream",
     "text": [
      "[090/100]  test loss: 0.0952  D: 0.7417  D2: -0.0054  D3: 0.0128  D4: 0.0157\r"
     ]
    },
    {
     "name": "stderr",
     "output_type": "stream",
     "text": [
      "[default |INFO|model.py:2182] [61/80]  loss: 9.402194e-02  D: 6.962194e-01  D2: -5.517742e-03  D3: 1.223954e-02  D4: 1.483639e-02\n",
      "test loss: 9.494639e-02  D: 7.417137e-01  D2: -5.390291e-03  D3: 1.277676e-02  D4: 1.569546e-02\n"
     ]
    },
    {
     "name": "stdout",
     "output_type": "stream",
     "text": [
      "[096/100]  test loss: 0.0956  D: 0.6544  D2: -0.0055  D3: 0.0122  D4: 0.0140\r"
     ]
    },
    {
     "name": "stderr",
     "output_type": "stream",
     "text": [
      "[default |INFO|model.py:2182] [62/80]  loss: 9.760438e-02  D: 6.977638e-01  D2: -5.360541e-03  D3: 1.201244e-02  D4: 1.453239e-02\n",
      "test loss: 9.552095e-02  D: 6.543629e-01  D2: -5.512037e-03  D3: 1.224377e-02  D4: 1.402668e-02\n"
     ]
    },
    {
     "name": "stdout",
     "output_type": "stream",
     "text": [
      "[085/100]  test loss: 0.0937  D: 0.6930  D2: -0.0050  D3: 0.0125  D4: 0.0152\r"
     ]
    },
    {
     "name": "stderr",
     "output_type": "stream",
     "text": [
      "[default |INFO|model.py:2182] [63/80]  loss: 9.475265e-02  D: 6.980736e-01  D2: -5.264357e-03  D3: 1.205325e-02  D4: 1.465494e-02\n",
      "test loss: 9.361879e-02  D: 6.930818e-01  D2: -5.052061e-03  D3: 1.251826e-02  D4: 1.522181e-02\n"
     ]
    },
    {
     "name": "stdout",
     "output_type": "stream",
     "text": [
      "[086/100]  test loss: 0.0870  D: 0.6948  D2: -0.0055  D3: 0.0110  D4: 0.0137\r"
     ]
    },
    {
     "name": "stderr",
     "output_type": "stream",
     "text": [
      "[default |INFO|model.py:2182] [64/80]  loss: 9.157880e-02  D: 6.964348e-01  D2: -5.497030e-03  D3: 1.185030e-02  D4: 1.458039e-02\n",
      "test loss: 8.718271e-02  D: 6.948414e-01  D2: -5.586119e-03  D3: 1.099477e-02  D4: 1.380456e-02\n"
     ]
    },
    {
     "name": "stdout",
     "output_type": "stream",
     "text": [
      "[089/100]  test loss: 0.0923  D: 0.6775  D2: -0.0051  D3: 0.0138  D4: 0.0156\r"
     ]
    },
    {
     "name": "stderr",
     "output_type": "stream",
     "text": [
      "[default |INFO|model.py:2182] [65/80]  loss: 9.485819e-02  D: 6.949023e-01  D2: -5.272792e-03  D3: 1.231056e-02  D4: 1.488958e-02\n",
      "test loss: 9.238358e-02  D: 6.774431e-01  D2: -5.306168e-03  D3: 1.389877e-02  D4: 1.561593e-02\n"
     ]
    },
    {
     "name": "stdout",
     "output_type": "stream",
     "text": [
      "[095/100]  test loss: 0.0881  D: 0.6864  D2: -0.0055  D3: 0.0123  D4: 0.0152\r"
     ]
    },
    {
     "name": "stderr",
     "output_type": "stream",
     "text": [
      "[default |INFO|model.py:2182] [66/80]  loss: 9.158351e-02  D: 6.971724e-01  D2: -5.292002e-03  D3: 1.252440e-02  D4: 1.495051e-02\n",
      "test loss: 8.810658e-02  D: 6.863720e-01  D2: -5.504112e-03  D3: 1.238869e-02  D4: 1.522160e-02\n"
     ]
    },
    {
     "name": "stdout",
     "output_type": "stream",
     "text": [
      "[088/100]  test loss: 0.0917  D: 0.7110  D2: -0.0058  D3: 0.0141  D4: 0.0154\r"
     ]
    },
    {
     "name": "stderr",
     "output_type": "stream",
     "text": [
      "[default |INFO|model.py:2182] [67/80]  loss: 9.053175e-02  D: 6.972660e-01  D2: -5.410460e-03  D3: 1.246576e-02  D4: 1.509088e-02\n",
      "test loss: 9.171138e-02  D: 7.110513e-01  D2: -5.704041e-03  D3: 1.399658e-02  D4: 1.532680e-02\n"
     ]
    },
    {
     "name": "stdout",
     "output_type": "stream",
     "text": [
      "[089/100]  test loss: 0.0890  D: 0.6974  D2: -0.0057  D3: 0.0121  D4: 0.0148\r"
     ]
    },
    {
     "name": "stderr",
     "output_type": "stream",
     "text": [
      "[default |INFO|model.py:2182] [68/80]  loss: 8.811638e-02  D: 6.954799e-01  D2: -5.569215e-03  D3: 1.263155e-02  D4: 1.480708e-02\n",
      "test loss: 8.882771e-02  D: 6.974130e-01  D2: -5.758886e-03  D3: 1.207160e-02  D4: 1.475334e-02\n"
     ]
    },
    {
     "name": "stdout",
     "output_type": "stream",
     "text": [
      "[093/100]  test loss: 0.0874  D: 0.7133  D2: -0.0054  D3: 0.0118  D4: 0.0140\r"
     ]
    },
    {
     "name": "stderr",
     "output_type": "stream",
     "text": [
      "[default |INFO|model.py:2182] [69/80]  loss: 8.994386e-02  D: 6.948994e-01  D2: -5.317140e-03  D3: 1.238373e-02  D4: 1.483037e-02\n",
      "test loss: 8.738404e-02  D: 7.132956e-01  D2: -5.140257e-03  D3: 1.185503e-02  D4: 1.395618e-02\n"
     ]
    },
    {
     "name": "stdout",
     "output_type": "stream",
     "text": [
      "[088/100]  test loss: 0.0863  D: 0.6846  D2: -0.0051  D3: 0.0122  D4: 0.0148\r"
     ]
    },
    {
     "name": "stderr",
     "output_type": "stream",
     "text": [
      "[default |INFO|model.py:2182] [70/80]  loss: 8.975810e-02  D: 6.941224e-01  D2: -5.579678e-03  D3: 1.244086e-02  D4: 1.477719e-02\n",
      "test loss: 8.637283e-02  D: 6.844650e-01  D2: -5.194340e-03  D3: 1.222877e-02  D4: 1.487847e-02\n"
     ]
    },
    {
     "name": "stdout",
     "output_type": "stream",
     "text": [
      "[088/100]  test loss: 0.1125  D: 0.7076  D2: -0.0050  D3: 0.0120  D4: 0.0149\r"
     ]
    },
    {
     "name": "stderr",
     "output_type": "stream",
     "text": [
      "[default |INFO|model.py:2182] [71/80]  loss: 9.365656e-02  D: 7.001465e-01  D2: -5.489564e-03  D3: 1.252057e-02  D4: 1.498338e-02\n",
      "test loss: 1.123445e-01  D: 7.075837e-01  D2: -4.982510e-03  D3: 1.200433e-02  D4: 1.479313e-02\n"
     ]
    },
    {
     "name": "stdout",
     "output_type": "stream",
     "text": [
      "[098/100]  test loss: 0.0900  D: 0.7189  D2: -0.0052  D3: 0.0135  D4: 0.0166\r"
     ]
    },
    {
     "name": "stderr",
     "output_type": "stream",
     "text": [
      "[default |INFO|model.py:2182] [72/80]  loss: 9.639671e-02  D: 6.959472e-01  D2: -5.448828e-03  D3: 1.169645e-02  D4: 1.427322e-02\n",
      "test loss: 9.014795e-02  D: 7.188613e-01  D2: -5.239506e-03  D3: 1.354669e-02  D4: 1.659525e-02\n"
     ]
    },
    {
     "name": "stdout",
     "output_type": "stream",
     "text": [
      "[085/100]  test loss: 0.0929  D: 0.6970  D2: -0.0058  D3: 0.0128  D4: 0.0154\r"
     ]
    },
    {
     "name": "stderr",
     "output_type": "stream",
     "text": [
      "[default |INFO|model.py:2182] [73/80]  loss: 9.272196e-02  D: 6.938756e-01  D2: -5.558389e-03  D3: 1.207999e-02  D4: 1.458026e-02\n",
      "test loss: 9.290914e-02  D: 6.969061e-01  D2: -5.874186e-03  D3: 1.281574e-02  D4: 1.537769e-02\n"
     ]
    },
    {
     "name": "stdout",
     "output_type": "stream",
     "text": [
      "[089/100]  test loss: 0.1064  D: 0.6766  D2: -0.0061  D3: 0.0121  D4: 0.0144\r"
     ]
    },
    {
     "name": "stderr",
     "output_type": "stream",
     "text": [
      "[default |INFO|model.py:2182] [74/80]  loss: 9.136362e-02  D: 6.955143e-01  D2: -5.683064e-03  D3: 1.196960e-02  D4: 1.449088e-02\n",
      "test loss: 1.064969e-01  D: 6.764944e-01  D2: -6.116362e-03  D3: 1.215749e-02  D4: 1.448919e-02\n"
     ]
    },
    {
     "name": "stdout",
     "output_type": "stream",
     "text": [
      "[089/100]  test loss: 0.0846  D: 0.6764  D2: -0.0063  D3: 0.0118  D4: 0.0145\r"
     ]
    },
    {
     "name": "stderr",
     "output_type": "stream",
     "text": [
      "[default |INFO|model.py:2182] [75/80]  loss: 9.434644e-02  D: 7.019427e-01  D2: -5.706544e-03  D3: 1.216152e-02  D4: 1.459589e-02\n",
      "test loss: 8.488041e-02  D: 6.763607e-01  D2: -6.386528e-03  D3: 1.173039e-02  D4: 1.444317e-02\n"
     ]
    },
    {
     "name": "stdout",
     "output_type": "stream",
     "text": [
      "[090/100]  test loss: 0.0846  D: 0.6837  D2: -0.0052  D3: 0.0118  D4: 0.0145\r"
     ]
    },
    {
     "name": "stderr",
     "output_type": "stream",
     "text": [
      "[default |INFO|model.py:2182] [76/80]  loss: 9.018150e-02  D: 6.960763e-01  D2: -5.588042e-03  D3: 1.225142e-02  D4: 1.488110e-02\n",
      "test loss: 8.512536e-02  D: 6.836511e-01  D2: -5.267067e-03  D3: 1.179855e-02  D4: 1.453309e-02\n"
     ]
    },
    {
     "name": "stdout",
     "output_type": "stream",
     "text": [
      "[086/100]  test loss: 0.0946  D: 0.7179  D2: -0.0054  D3: 0.0131  D4: 0.0160\r"
     ]
    },
    {
     "name": "stderr",
     "output_type": "stream",
     "text": [
      "[default |INFO|model.py:2182] [77/80]  loss: 9.373522e-02  D: 6.965678e-01  D2: -5.480917e-03  D3: 1.233481e-02  D4: 1.485632e-02\n",
      "test loss: 9.478609e-02  D: 7.178805e-01  D2: -5.562000e-03  D3: 1.308920e-02  D4: 1.599621e-02\n"
     ]
    },
    {
     "name": "stdout",
     "output_type": "stream",
     "text": [
      "[096/100]  test loss: 0.0937  D: 0.6910  D2: -0.0058  D3: 0.0138  D4: 0.0165\r"
     ]
    },
    {
     "name": "stderr",
     "output_type": "stream",
     "text": [
      "[default |INFO|model.py:2182] [78/80]  loss: 9.510166e-02  D: 6.980839e-01  D2: -5.821424e-03  D3: 1.277009e-02  D4: 1.505862e-02\n",
      "test loss: 9.379117e-02  D: 6.908347e-01  D2: -5.768337e-03  D3: 1.377103e-02  D4: 1.644749e-02\n"
     ]
    },
    {
     "name": "stdout",
     "output_type": "stream",
     "text": [
      "[093/100]  test loss: 0.0965  D: 0.6779  D2: -0.0052  D3: 0.0142  D4: 0.0163\r"
     ]
    },
    {
     "name": "stderr",
     "output_type": "stream",
     "text": [
      "[default |INFO|model.py:2182] [79/80]  loss: 9.335027e-02  D: 6.963867e-01  D2: -5.511166e-03  D3: 1.250024e-02  D4: 1.478175e-02\n",
      "test loss: 9.644407e-02  D: 6.779148e-01  D2: -5.109940e-03  D3: 1.428251e-02  D4: 1.641684e-02\n"
     ]
    },
    {
     "name": "stdout",
     "output_type": "stream",
     "text": [
      "[091/100]  test loss: 0.1040  D: 0.7550  D2: -0.0052  D3: 0.0128  D4: 0.0159\r"
     ]
    },
    {
     "name": "stderr",
     "output_type": "stream",
     "text": [
      "[default |INFO|model.py:2182] [80/80]  loss: 9.607563e-02  D: 6.978250e-01  D2: -5.781536e-03  D3: 1.238533e-02  D4: 1.489462e-02\n",
      "test loss: 1.039511e-01  D: 7.549743e-01  D2: -5.278893e-03  D3: 1.283023e-02  D4: 1.595327e-02\n"
     ]
    },
    {
     "name": "stdout",
     "output_type": "stream",
     "text": [
      "[092/100]  test loss: 0.1039  D: 0.7550  D2: -0.0052  D3: 0.0128  D4: 0.0159\r",
      "[093/100]  test loss: 0.1040  D: 0.7549  D2: -0.0052  D3: 0.0128  D4: 0.0159\r",
      "[094/100]  test loss: 0.1041  D: 0.7549  D2: -0.0052  D3: 0.0128  D4: 0.0159\r",
      "[095/100]  test loss: 0.1042  D: 0.7549  D2: -0.0052  D3: 0.0128  D4: 0.0159\r",
      "[096/100]  test loss: 0.1042  D: 0.7550  D2: -0.0052  D3: 0.0128  D4: 0.0159\r",
      "[097/100]  test loss: 0.1040  D: 0.7550  D2: -0.0053  D3: 0.0128  D4: 0.0159\r",
      "[098/100]  test loss: 0.1040  D: 0.7550  D2: -0.0052  D3: 0.0128  D4: 0.0159\r",
      "[099/100]  test loss: 0.1040  D: 0.7550  D2: -0.0053  D3: 0.0128  D4: 0.0159\r",
      "[100/100]  test loss: 0.1040  D: 0.7550  D2: -0.0053  D3: 0.0128  D4: 0.0160\r"
     ]
    },
    {
     "name": "stderr",
     "output_type": "stream",
     "text": [
      "[default |INFO|model.py:2297] Training Finished!\n",
      "[default |INFO|model.py:2298] Elapsed time: 1755.711s\n"
     ]
    }
   ],
   "source": [
    "cfg = configparser.ConfigParser()\n",
    "cfg.read('./config/sswae_dev2_hsic_3.cfg')\n",
    "\n",
    "mm = cur_model(cfg, log, device = device)\n",
    "\n",
    "mm.gm.mu.load_state_dict(torch.load(f'./result/mu_{cfg[\"train_info\"][\"y_dim\"]}.pt'))\n",
    "mm.gm.cov.load_state_dict(torch.load(f'./result/cov_{cfg[\"train_info\"][\"y_dim\"]}.pt'))\n",
    "\n",
    "mm.train()\n",
    "# mm.load('./%s' % (cfg['path_info']['save_path']))"
   ]
  },
  {
   "cell_type": "markdown",
   "metadata": {},
   "source": [
    "# Train - 4"
   ]
  },
  {
   "cell_type": "code",
   "execution_count": 6,
   "metadata": {
    "scrolled": true
   },
   "outputs": [
    {
     "name": "stderr",
     "output_type": "stream",
     "text": [
      "[default |INFO|_base_model.py:27] ------------------------------------------------------------\n",
      "[default |INFO|_base_model.py:29] model_name : SSWAE_HSIC_MNIST\n",
      "[default |INFO|_base_model.py:29] train_data : rmMNIST\n",
      "[default |INFO|_base_model.py:29] train_data_label : True\n",
      "[default |INFO|_base_model.py:29] z_sampler : gaus\n",
      "[default |INFO|_base_model.py:29] z_dim : 8\n",
      "[default |INFO|_base_model.py:29] y_sampler : gaus\n",
      "[default |INFO|_base_model.py:29] y_dim : 4\n",
      "[default |INFO|_base_model.py:29] labeled_class : 0,1,2,3,4,5,6,7,8,9\n",
      "[default |INFO|_base_model.py:29] unlabeled_class : \n",
      "[default |INFO|_base_model.py:29] test_class : \n",
      "[default |INFO|_base_model.py:29] portion : 1.0\n",
      "[default |INFO|_base_model.py:29] unk : False\n",
      "[default |INFO|_base_model.py:29] encoder_pretrain : False\n",
      "[default |INFO|_base_model.py:29] encoder_pretrain_step : 3\n",
      "[default |INFO|_base_model.py:29] lr : 5e-4\n",
      "[default |INFO|_base_model.py:29] beta1 : 0.5\n",
      "[default |INFO|_base_model.py:29] lr_adv : 2e-4\n",
      "[default |INFO|_base_model.py:29] beta1_adv : 0.5\n",
      "[default |INFO|_base_model.py:29] lambda : 10.0\n",
      "[default |INFO|_base_model.py:29] lambda_mmd : 10.0\n",
      "[default |INFO|_base_model.py:29] lambda_hsic : 10.0\n",
      "[default |INFO|_base_model.py:29] lr_schedule : manual\n",
      "[default |INFO|_base_model.py:29] validate : True\n",
      "[default |INFO|_base_model.py:29] histogram : True\n",
      "[default |INFO|_base_model.py:29] batch_size : 100\n",
      "[default |INFO|_base_model.py:29] epoch : 80\n",
      "[default |INFO|_base_model.py:29] replace : False\n",
      "[default |INFO|_base_model.py:29] save_best : False\n",
      "[default |INFO|_base_model.py:32] data_home : ./data/MNIST\n",
      "[default |INFO|_base_model.py:32] tb_logs : \n",
      "[default |INFO|_base_model.py:32] save_path : ./result/weights/sswae_dev2_hsic_4.pt\n",
      "[default |INFO|_base_model.py:32] save_state : ./result/states/sswae_dev2_hsic_4.pt\n",
      "[default |INFO|_base_model.py:32] save_img_path : \n",
      "[default |INFO|model.py:2061] ------------------------------------------------------------\n",
      "[default |INFO|model.py:2062] Training Start!\n"
     ]
    },
    {
     "name": "stdout",
     "output_type": "stream",
     "text": [
      "[087/100]  test loss: 0.1801  D: 0.7233  D2: 0.0004  D3: 0.0096  D4: 0.00678\r"
     ]
    },
    {
     "name": "stderr",
     "output_type": "stream",
     "text": [
      "[default |INFO|model.py:2182] [01/80]  loss: 2.362953e-01  D: 6.929551e-01  D2: 1.823358e-02  D3: 1.412520e-03  D4: 1.396157e-03\n",
      "test loss: 1.798265e-01  D: 7.233236e-01  D2: 4.038239e-04  D3: 9.606575e-03  D4: 6.800559e-03\n"
     ]
    },
    {
     "name": "stdout",
     "output_type": "stream",
     "text": [
      "[086/100]  test loss: 0.1488  D: 0.6987  D2: -0.0042  D3: 0.0052  D4: 0.0060\r"
     ]
    },
    {
     "name": "stderr",
     "output_type": "stream",
     "text": [
      "[default |INFO|model.py:2182] [02/80]  loss: 1.689850e-01  D: 6.948407e-01  D2: -5.367661e-04  D3: 7.004801e-03  D4: 7.447203e-03\n",
      "test loss: 1.488383e-01  D: 6.987528e-01  D2: -4.174957e-03  D3: 5.106771e-03  D4: 6.079131e-03\n"
     ]
    },
    {
     "name": "stdout",
     "output_type": "stream",
     "text": [
      "[088/100]  test loss: 0.1452  D: 0.6260  D2: -0.0038  D3: 0.0074  D4: 0.0076\r"
     ]
    },
    {
     "name": "stderr",
     "output_type": "stream",
     "text": [
      "[default |INFO|model.py:2182] [03/80]  loss: 1.552709e-01  D: 7.017836e-01  D2: -3.710574e-03  D3: 8.650660e-03  D4: 9.360470e-03\n",
      "test loss: 1.452114e-01  D: 6.259657e-01  D2: -3.961163e-03  D3: 7.354198e-03  D4: 7.600895e-03\n"
     ]
    },
    {
     "name": "stdout",
     "output_type": "stream",
     "text": [
      "[092/100]  test loss: 0.1275  D: 0.6832  D2: -0.0031  D3: 0.0125  D4: 0.0114\r"
     ]
    },
    {
     "name": "stderr",
     "output_type": "stream",
     "text": [
      "[default |INFO|model.py:2182] [04/80]  loss: 1.280754e-01  D: 6.958605e-01  D2: -3.889823e-03  D3: 6.825185e-03  D4: 7.558513e-03\n",
      "test loss: 1.274044e-01  D: 6.831872e-01  D2: -3.182831e-03  D3: 1.259470e-02  D4: 1.136756e-02\n"
     ]
    },
    {
     "name": "stdout",
     "output_type": "stream",
     "text": [
      "[087/100]  test loss: 0.1245  D: 0.7044  D2: -0.0033  D3: 0.0169  D4: 0.0166\r"
     ]
    },
    {
     "name": "stderr",
     "output_type": "stream",
     "text": [
      "[default |INFO|model.py:2182] [05/80]  loss: 1.199453e-01  D: 7.015138e-01  D2: -4.128965e-03  D3: 1.281611e-02  D4: 1.316596e-02\n",
      "test loss: 1.247690e-01  D: 7.045105e-01  D2: -3.453169e-03  D3: 1.674472e-02  D4: 1.645329e-02\n"
     ]
    },
    {
     "name": "stdout",
     "output_type": "stream",
     "text": [
      "[091/100]  test loss: 0.1079  D: 0.6961  D2: -0.0044  D3: 0.0136  D4: 0.0156\r"
     ]
    },
    {
     "name": "stderr",
     "output_type": "stream",
     "text": [
      "[default |INFO|model.py:2182] [06/80]  loss: 1.175736e-01  D: 7.007408e-01  D2: -3.962951e-03  D3: 1.489915e-02  D4: 1.576799e-02\n",
      "test loss: 1.078412e-01  D: 6.961686e-01  D2: -4.561605e-03  D3: 1.367918e-02  D4: 1.551721e-02\n"
     ]
    },
    {
     "name": "stdout",
     "output_type": "stream",
     "text": [
      "[094/100]  test loss: 0.0947  D: 0.6959  D2: -0.0051  D3: 0.0142  D4: 0.0151\r"
     ]
    },
    {
     "name": "stderr",
     "output_type": "stream",
     "text": [
      "[default |INFO|model.py:2182] [07/80]  loss: 1.018074e-01  D: 6.956674e-01  D2: -4.656773e-03  D3: 1.489363e-02  D4: 1.597284e-02\n",
      "test loss: 9.464779e-02  D: 6.958635e-01  D2: -5.132942e-03  D3: 1.420102e-02  D4: 1.501480e-02\n"
     ]
    },
    {
     "name": "stdout",
     "output_type": "stream",
     "text": [
      "[089/100]  test loss: 0.0893  D: 0.6919  D2: -0.0054  D3: 0.0152  D4: 0.0158\r"
     ]
    },
    {
     "name": "stderr",
     "output_type": "stream",
     "text": [
      "[default |INFO|model.py:2182] [08/80]  loss: 9.658479e-02  D: 6.957642e-01  D2: -4.653215e-03  D3: 1.385873e-02  D4: 1.477396e-02\n",
      "test loss: 8.920000e-02  D: 6.918736e-01  D2: -5.429907e-03  D3: 1.507608e-02  D4: 1.572313e-02\n"
     ]
    },
    {
     "name": "stdout",
     "output_type": "stream",
     "text": [
      "[089/100]  test loss: 0.0925  D: 0.6933  D2: -0.0043  D3: 0.0086  D4: 0.0098\r"
     ]
    },
    {
     "name": "stderr",
     "output_type": "stream",
     "text": [
      "[default |INFO|model.py:2182] [09/80]  loss: 9.580465e-02  D: 6.958752e-01  D2: -4.466761e-03  D3: 1.374861e-02  D4: 1.465781e-02\n",
      "test loss: 9.238302e-02  D: 6.932552e-01  D2: -4.376259e-03  D3: 8.563418e-03  D4: 9.773642e-03\n"
     ]
    },
    {
     "name": "stdout",
     "output_type": "stream",
     "text": [
      "[091/100]  test loss: 0.0887  D: 0.6866  D2: -0.0062  D3: 0.0111  D4: 0.0124\r"
     ]
    },
    {
     "name": "stderr",
     "output_type": "stream",
     "text": [
      "[default |INFO|model.py:2182] [10/80]  loss: 9.456923e-02  D: 6.963990e-01  D2: -4.872618e-03  D3: 1.281286e-02  D4: 1.388236e-02\n",
      "test loss: 8.862567e-02  D: 6.865429e-01  D2: -6.286392e-03  D3: 1.116151e-02  D4: 1.246021e-02\n"
     ]
    },
    {
     "name": "stdout",
     "output_type": "stream",
     "text": [
      "[100/100]  test loss: 0.0900  D: 0.6758  D2: -0.0054  D3: 0.0155  D4: 0.0163\r"
     ]
    },
    {
     "name": "stderr",
     "output_type": "stream",
     "text": [
      "[default |INFO|model.py:2182] [11/80]  loss: 8.870046e-02  D: 7.010596e-01  D2: -4.688970e-03  D3: 1.231440e-02  D4: 1.367855e-02\n",
      "test loss: 8.996716e-02  D: 6.757986e-01  D2: -5.392332e-03  D3: 1.546352e-02  D4: 1.634260e-02\n"
     ]
    },
    {
     "name": "stdout",
     "output_type": "stream",
     "text": [
      "[095/100]  test loss: 0.0858  D: 0.6757  D2: -0.0055  D3: 0.0112  D4: 0.0130\r"
     ]
    },
    {
     "name": "stderr",
     "output_type": "stream",
     "text": [
      "[default |INFO|model.py:2182] [12/80]  loss: 8.913307e-02  D: 7.007373e-01  D2: -4.803592e-03  D3: 1.344178e-02  D4: 1.457690e-02\n",
      "test loss: 8.574028e-02  D: 6.756950e-01  D2: -5.453997e-03  D3: 1.121966e-02  D4: 1.295057e-02\n"
     ]
    },
    {
     "name": "stdout",
     "output_type": "stream",
     "text": [
      "[089/100]  test loss: 0.0803  D: 0.6822  D2: -0.0059  D3: 0.0095  D4: 0.0100\r"
     ]
    },
    {
     "name": "stderr",
     "output_type": "stream",
     "text": [
      "[default |INFO|model.py:2182] [13/80]  loss: 8.577012e-02  D: 6.917803e-01  D2: -5.257978e-03  D3: 1.343545e-02  D4: 1.479981e-02\n",
      "test loss: 8.026617e-02  D: 6.821790e-01  D2: -5.972681e-03  D3: 9.540545e-03  D4: 1.009764e-02\n"
     ]
    },
    {
     "name": "stdout",
     "output_type": "stream",
     "text": [
      "[090/100]  test loss: 0.0908  D: 0.7059  D2: -0.0054  D3: 0.0092  D4: 0.0105\r"
     ]
    },
    {
     "name": "stderr",
     "output_type": "stream",
     "text": [
      "[default |INFO|model.py:2182] [14/80]  loss: 8.621276e-02  D: 6.980575e-01  D2: -5.187368e-03  D3: 1.331210e-02  D4: 1.454398e-02\n",
      "test loss: 9.048075e-02  D: 7.058330e-01  D2: -5.234222e-03  D3: 9.222802e-03  D4: 1.047741e-02\n"
     ]
    },
    {
     "name": "stdout",
     "output_type": "stream",
     "text": [
      "[092/100]  test loss: 0.0763  D: 0.6935  D2: -0.0041  D3: 0.0127  D4: 0.0148\r"
     ]
    },
    {
     "name": "stderr",
     "output_type": "stream",
     "text": [
      "[default |INFO|model.py:2182] [15/80]  loss: 8.071314e-02  D: 6.953897e-01  D2: -5.233523e-03  D3: 1.349461e-02  D4: 1.473138e-02\n",
      "test loss: 7.615207e-02  D: 6.934803e-01  D2: -4.266119e-03  D3: 1.262852e-02  D4: 1.477883e-02\n"
     ]
    },
    {
     "name": "stdout",
     "output_type": "stream",
     "text": [
      "[091/100]  test loss: 0.0829  D: 0.6800  D2: -0.0057  D3: 0.0146  D4: 0.0154\r"
     ]
    },
    {
     "name": "stderr",
     "output_type": "stream",
     "text": [
      "[default |INFO|model.py:2182] [16/80]  loss: 8.092147e-02  D: 7.009453e-01  D2: -5.202150e-03  D3: 1.350860e-02  D4: 1.503286e-02\n",
      "test loss: 8.285527e-02  D: 6.799862e-01  D2: -5.869093e-03  D3: 1.457581e-02  D4: 1.536523e-02\n"
     ]
    },
    {
     "name": "stdout",
     "output_type": "stream",
     "text": [
      "[092/100]  test loss: 0.0736  D: 0.6941  D2: -0.0059  D3: 0.0154  D4: 0.0173\r"
     ]
    },
    {
     "name": "stderr",
     "output_type": "stream",
     "text": [
      "[default |INFO|model.py:2182] [17/80]  loss: 7.592976e-02  D: 6.927706e-01  D2: -5.312125e-03  D3: 1.398340e-02  D4: 1.557383e-02\n",
      "test loss: 7.367757e-02  D: 6.941155e-01  D2: -5.833950e-03  D3: 1.544227e-02  D4: 1.724712e-02\n"
     ]
    },
    {
     "name": "stdout",
     "output_type": "stream",
     "text": [
      "[092/100]  test loss: 0.0776  D: 0.7144  D2: -0.0056  D3: 0.0129  D4: 0.0141\r"
     ]
    },
    {
     "name": "stderr",
     "output_type": "stream",
     "text": [
      "[default |INFO|model.py:2182] [18/80]  loss: 7.673041e-02  D: 6.984000e-01  D2: -5.536585e-03  D3: 1.341954e-02  D4: 1.485081e-02\n",
      "test loss: 7.753449e-02  D: 7.144246e-01  D2: -5.615816e-03  D3: 1.298527e-02  D4: 1.423261e-02\n"
     ]
    },
    {
     "name": "stdout",
     "output_type": "stream",
     "text": [
      "[091/100]  test loss: 0.0706  D: 0.6926  D2: -0.0056  D3: 0.0115  D4: 0.0125\r"
     ]
    },
    {
     "name": "stderr",
     "output_type": "stream",
     "text": [
      "[default |INFO|model.py:2182] [19/80]  loss: 7.541707e-02  D: 6.957765e-01  D2: -5.422583e-03  D3: 1.295597e-02  D4: 1.439896e-02\n",
      "test loss: 7.089733e-02  D: 6.925360e-01  D2: -5.657034e-03  D3: 1.149046e-02  D4: 1.252363e-02\n"
     ]
    },
    {
     "name": "stdout",
     "output_type": "stream",
     "text": [
      "[092/100]  test loss: 0.0719  D: 0.6770  D2: -0.0056  D3: 0.0153  D4: 0.0162\r"
     ]
    },
    {
     "name": "stderr",
     "output_type": "stream",
     "text": [
      "[default |INFO|model.py:2182] [20/80]  loss: 7.266009e-02  D: 6.942505e-01  D2: -5.667965e-03  D3: 1.381127e-02  D4: 1.529107e-02\n",
      "test loss: 7.206085e-02  D: 6.769768e-01  D2: -5.686960e-03  D3: 1.528872e-02  D4: 1.612973e-02\n"
     ]
    },
    {
     "name": "stdout",
     "output_type": "stream",
     "text": [
      "[092/100]  test loss: 0.0693  D: 0.7080  D2: -0.0064  D3: 0.0111  D4: 0.0128\r"
     ]
    },
    {
     "name": "stderr",
     "output_type": "stream",
     "text": [
      "[default |INFO|model.py:2182] [21/80]  loss: 7.338313e-02  D: 6.950685e-01  D2: -5.672746e-03  D3: 1.300828e-02  D4: 1.444441e-02\n",
      "test loss: 6.930022e-02  D: 7.080771e-01  D2: -6.485586e-03  D3: 1.109924e-02  D4: 1.278265e-02\n"
     ]
    },
    {
     "name": "stdout",
     "output_type": "stream",
     "text": [
      "[098/100]  test loss: 0.0728  D: 0.7059  D2: -0.0061  D3: 0.0165  D4: 0.0177\r"
     ]
    },
    {
     "name": "stderr",
     "output_type": "stream",
     "text": [
      "[default |INFO|model.py:2182] [22/80]  loss: 7.210569e-02  D: 6.943716e-01  D2: -5.929939e-03  D3: 1.305984e-02  D4: 1.456376e-02\n",
      "test loss: 7.272723e-02  D: 7.059018e-01  D2: -6.145153e-03  D3: 1.644888e-02  D4: 1.773892e-02\n"
     ]
    },
    {
     "name": "stdout",
     "output_type": "stream",
     "text": [
      "[096/100]  test loss: 0.0648  D: 0.6911  D2: -0.0061  D3: 0.0131  D4: 0.0149\r"
     ]
    },
    {
     "name": "stderr",
     "output_type": "stream",
     "text": [
      "[default |INFO|model.py:2182] [23/80]  loss: 6.853762e-02  D: 6.965924e-01  D2: -6.032430e-03  D3: 1.346215e-02  D4: 1.505433e-02\n",
      "test loss: 6.483312e-02  D: 6.911455e-01  D2: -6.131697e-03  D3: 1.310184e-02  D4: 1.490523e-02\n"
     ]
    },
    {
     "name": "stdout",
     "output_type": "stream",
     "text": [
      "[092/100]  test loss: 0.0673  D: 0.7180  D2: -0.0069  D3: 0.0141  D4: 0.0156\r"
     ]
    },
    {
     "name": "stderr",
     "output_type": "stream",
     "text": [
      "[default |INFO|model.py:2182] [24/80]  loss: 6.756839e-02  D: 6.948641e-01  D2: -6.092528e-03  D3: 1.306755e-02  D4: 1.465617e-02\n",
      "test loss: 6.723309e-02  D: 7.179856e-01  D2: -6.941652e-03  D3: 1.414290e-02  D4: 1.549206e-02\n"
     ]
    },
    {
     "name": "stdout",
     "output_type": "stream",
     "text": [
      "[091/100]  test loss: 0.0645  D: 0.6882  D2: -0.0058  D3: 0.0141  D4: 0.0157\r"
     ]
    },
    {
     "name": "stderr",
     "output_type": "stream",
     "text": [
      "[default |INFO|model.py:2182] [25/80]  loss: 6.914383e-02  D: 6.946835e-01  D2: -6.069311e-03  D3: 1.338017e-02  D4: 1.491974e-02\n",
      "test loss: 6.441473e-02  D: 6.881293e-01  D2: -5.654745e-03  D3: 1.416106e-02  D4: 1.575985e-02\n"
     ]
    },
    {
     "name": "stdout",
     "output_type": "stream",
     "text": [
      "[094/100]  test loss: 0.0658  D: 0.7140  D2: -0.0070  D3: 0.0115  D4: 0.0132\r"
     ]
    },
    {
     "name": "stderr",
     "output_type": "stream",
     "text": [
      "[default |INFO|model.py:2182] [26/80]  loss: 6.539867e-02  D: 6.948011e-01  D2: -5.973349e-03  D3: 1.302283e-02  D4: 1.472449e-02\n",
      "test loss: 6.576815e-02  D: 7.139547e-01  D2: -7.089310e-03  D3: 1.152537e-02  D4: 1.319850e-02\n"
     ]
    },
    {
     "name": "stdout",
     "output_type": "stream",
     "text": [
      "[089/100]  test loss: 0.0781  D: 0.6844  D2: -0.0066  D3: 0.0163  D4: 0.0184\r"
     ]
    },
    {
     "name": "stderr",
     "output_type": "stream",
     "text": [
      "[default |INFO|model.py:2182] [27/80]  loss: 6.900537e-02  D: 6.977415e-01  D2: -6.153005e-03  D3: 1.209642e-02  D4: 1.365258e-02\n",
      "test loss: 7.819317e-02  D: 6.844555e-01  D2: -6.715794e-03  D3: 1.629739e-02  D4: 1.833702e-02\n"
     ]
    },
    {
     "name": "stdout",
     "output_type": "stream",
     "text": [
      "[095/100]  test loss: 0.0691  D: 0.6699  D2: -0.0068  D3: 0.0100  D4: 0.0114\r"
     ]
    },
    {
     "name": "stderr",
     "output_type": "stream",
     "text": [
      "[default |INFO|model.py:2182] [28/80]  loss: 6.921257e-02  D: 6.936687e-01  D2: -6.257795e-03  D3: 1.302278e-02  D4: 1.455864e-02\n",
      "test loss: 6.906062e-02  D: 6.699429e-01  D2: -6.839094e-03  D3: 9.910261e-03  D4: 1.131680e-02\n"
     ]
    },
    {
     "name": "stdout",
     "output_type": "stream",
     "text": [
      "[091/100]  test loss: 0.0687  D: 0.6765  D2: -0.0064  D3: 0.0145  D4: 0.0159\r"
     ]
    },
    {
     "name": "stderr",
     "output_type": "stream",
     "text": [
      "[default |INFO|model.py:2182] [29/80]  loss: 6.555891e-02  D: 6.931426e-01  D2: -6.289334e-03  D3: 1.340810e-02  D4: 1.513250e-02\n",
      "test loss: 6.878433e-02  D: 6.765015e-01  D2: -6.470270e-03  D3: 1.450795e-02  D4: 1.592538e-02\n"
     ]
    },
    {
     "name": "stdout",
     "output_type": "stream",
     "text": [
      "[091/100]  test loss: 0.0668  D: 0.7033  D2: -0.0070  D3: 0.0134  D4: 0.0149\r"
     ]
    },
    {
     "name": "stderr",
     "output_type": "stream",
     "text": [
      "[default |INFO|model.py:2182] [30/80]  loss: 6.397614e-02  D: 6.954392e-01  D2: -6.412182e-03  D3: 1.260470e-02  D4: 1.434609e-02\n",
      "test loss: 6.667577e-02  D: 7.031837e-01  D2: -6.965179e-03  D3: 1.334387e-02  D4: 1.494159e-02\n"
     ]
    },
    {
     "name": "stdout",
     "output_type": "stream",
     "text": [
      "[091/100]  test loss: 0.0646  D: 0.7072  D2: -0.0072  D3: 0.0110  D4: 0.0127\r"
     ]
    },
    {
     "name": "stderr",
     "output_type": "stream",
     "text": [
      "[default |INFO|model.py:2182] [31/80]  loss: 6.744968e-02  D: 6.956304e-01  D2: -6.662127e-03  D3: 1.237819e-02  D4: 1.396942e-02\n",
      "test loss: 6.427596e-02  D: 7.072338e-01  D2: -7.296276e-03  D3: 1.102186e-02  D4: 1.270189e-02\n"
     ]
    },
    {
     "name": "stdout",
     "output_type": "stream",
     "text": [
      "[093/100]  test loss: 0.0661  D: 0.6794  D2: -0.0065  D3: 0.0138  D4: 0.0154\r"
     ]
    },
    {
     "name": "stderr",
     "output_type": "stream",
     "text": [
      "[default |INFO|model.py:2182] [32/80]  loss: 6.539978e-02  D: 6.972243e-01  D2: -6.463838e-03  D3: 1.328536e-02  D4: 1.496641e-02\n",
      "test loss: 6.604744e-02  D: 6.793334e-01  D2: -6.435013e-03  D3: 1.376650e-02  D4: 1.548591e-02\n"
     ]
    },
    {
     "name": "stdout",
     "output_type": "stream",
     "text": [
      "[092/100]  test loss: 0.0643  D: 0.6791  D2: -0.0069  D3: 0.0092  D4: 0.0110\r"
     ]
    },
    {
     "name": "stderr",
     "output_type": "stream",
     "text": [
      "[default |INFO|model.py:2182] [33/80]  loss: 6.537739e-02  D: 6.935183e-01  D2: -6.732842e-03  D3: 1.265206e-02  D4: 1.435674e-02\n",
      "test loss: 6.425233e-02  D: 6.790676e-01  D2: -6.942501e-03  D3: 9.144258e-03  D4: 1.094140e-02\n"
     ]
    },
    {
     "name": "stdout",
     "output_type": "stream",
     "text": [
      "[089/100]  test loss: 0.0665  D: 0.6688  D2: -0.0065  D3: 0.0137  D4: 0.0156\r"
     ]
    },
    {
     "name": "stderr",
     "output_type": "stream",
     "text": [
      "[default |INFO|model.py:2182] [34/80]  loss: 6.444232e-02  D: 6.953323e-01  D2: -6.749334e-03  D3: 1.296357e-02  D4: 1.458856e-02\n",
      "test loss: 6.661975e-02  D: 6.688177e-01  D2: -6.362257e-03  D3: 1.367767e-02  D4: 1.549338e-02\n"
     ]
    },
    {
     "name": "stdout",
     "output_type": "stream",
     "text": [
      "[092/100]  test loss: 0.0668  D: 0.6966  D2: -0.0070  D3: 0.0160  D4: 0.0177\r"
     ]
    },
    {
     "name": "stderr",
     "output_type": "stream",
     "text": [
      "[default |INFO|model.py:2182] [35/80]  loss: 6.263188e-02  D: 6.948451e-01  D2: -6.588222e-03  D3: 1.303323e-02  D4: 1.477867e-02\n",
      "test loss: 6.666216e-02  D: 6.966042e-01  D2: -7.055283e-03  D3: 1.605257e-02  D4: 1.768147e-02\n"
     ]
    },
    {
     "name": "stdout",
     "output_type": "stream",
     "text": [
      "[092/100]  test loss: 0.0645  D: 0.6749  D2: -0.0075  D3: 0.0162  D4: 0.0178\r"
     ]
    },
    {
     "name": "stderr",
     "output_type": "stream",
     "text": [
      "[default |INFO|model.py:2182] [36/80]  loss: 6.332045e-02  D: 6.951972e-01  D2: -6.930126e-03  D3: 1.279903e-02  D4: 1.438775e-02\n",
      "test loss: 6.436497e-02  D: 6.748466e-01  D2: -7.509546e-03  D3: 1.616540e-02  D4: 1.781880e-02\n"
     ]
    },
    {
     "name": "stdout",
     "output_type": "stream",
     "text": [
      "[096/100]  test loss: 0.0729  D: 0.7258  D2: -0.0067  D3: 0.0172  D4: 0.0185\r"
     ]
    },
    {
     "name": "stderr",
     "output_type": "stream",
     "text": [
      "[default |INFO|model.py:2182] [37/80]  loss: 6.240821e-02  D: 6.942055e-01  D2: -7.171699e-03  D3: 1.262334e-02  D4: 1.418852e-02\n",
      "test loss: 7.307527e-02  D: 7.257522e-01  D2: -6.692371e-03  D3: 1.714796e-02  D4: 1.852735e-02\n"
     ]
    },
    {
     "name": "stdout",
     "output_type": "stream",
     "text": [
      "[090/100]  test loss: 0.0703  D: 0.7046  D2: -0.0071  D3: 0.0138  D4: 0.0148\r"
     ]
    },
    {
     "name": "stderr",
     "output_type": "stream",
     "text": [
      "[default |INFO|model.py:2182] [38/80]  loss: 6.825027e-02  D: 6.964100e-01  D2: -6.993001e-03  D3: 1.228843e-02  D4: 1.379606e-02\n",
      "test loss: 7.050263e-02  D: 7.045955e-01  D2: -7.113829e-03  D3: 1.385593e-02  D4: 1.490548e-02\n"
     ]
    },
    {
     "name": "stdout",
     "output_type": "stream",
     "text": [
      "[091/100]  test loss: 0.0600  D: 0.6953  D2: -0.0069  D3: 0.0126  D4: 0.0147\r"
     ]
    },
    {
     "name": "stderr",
     "output_type": "stream",
     "text": [
      "[default |INFO|model.py:2182] [39/80]  loss: 6.398249e-02  D: 6.922581e-01  D2: -7.195835e-03  D3: 1.289302e-02  D4: 1.444756e-02\n",
      "test loss: 6.000689e-02  D: 6.952714e-01  D2: -7.053328e-03  D3: 1.262983e-02  D4: 1.467774e-02\n"
     ]
    },
    {
     "name": "stdout",
     "output_type": "stream",
     "text": [
      "[092/100]  test loss: 0.0609  D: 0.7242  D2: -0.0076  D3: 0.0109  D4: 0.0126\r"
     ]
    },
    {
     "name": "stderr",
     "output_type": "stream",
     "text": [
      "[default |INFO|model.py:2182] [40/80]  loss: 5.930765e-02  D: 6.938030e-01  D2: -7.435355e-03  D3: 1.296157e-02  D4: 1.468250e-02\n",
      "test loss: 6.097673e-02  D: 7.242123e-01  D2: -7.627935e-03  D3: 1.088966e-02  D4: 1.258765e-02\n"
     ]
    },
    {
     "name": "stdout",
     "output_type": "stream",
     "text": [
      "[099/100]  test loss: 0.0609  D: 0.6831  D2: -0.0075  D3: 0.0111  D4: 0.0119\r"
     ]
    },
    {
     "name": "stderr",
     "output_type": "stream",
     "text": [
      "[default |INFO|model.py:2182] [41/80]  loss: 5.966921e-02  D: 6.939138e-01  D2: -7.275790e-03  D3: 1.297049e-02  D4: 1.452964e-02\n",
      "test loss: 6.092218e-02  D: 6.830751e-01  D2: -7.491026e-03  D3: 1.104131e-02  D4: 1.190288e-02\n"
     ]
    },
    {
     "name": "stdout",
     "output_type": "stream",
     "text": [
      "[092/100]  test loss: 0.0589  D: 0.6615  D2: -0.0073  D3: 0.0110  D4: 0.0126\r"
     ]
    },
    {
     "name": "stderr",
     "output_type": "stream",
     "text": [
      "[default |INFO|model.py:2182] [42/80]  loss: 6.073579e-02  D: 6.948201e-01  D2: -7.421130e-03  D3: 1.279220e-02  D4: 1.444858e-02\n",
      "test loss: 5.886838e-02  D: 6.614867e-01  D2: -7.372665e-03  D3: 1.103365e-02  D4: 1.266730e-02\n"
     ]
    },
    {
     "name": "stdout",
     "output_type": "stream",
     "text": [
      "[092/100]  test loss: 0.0596  D: 0.6932  D2: -0.0079  D3: 0.0109  D4: 0.0125\r"
     ]
    },
    {
     "name": "stderr",
     "output_type": "stream",
     "text": [
      "[default |INFO|model.py:2182] [43/80]  loss: 6.081667e-02  D: 6.960304e-01  D2: -7.395029e-03  D3: 1.274337e-02  D4: 1.432552e-02\n",
      "test loss: 5.978349e-02  D: 6.932573e-01  D2: -7.893810e-03  D3: 1.085225e-02  D4: 1.242974e-02\n"
     ]
    },
    {
     "name": "stdout",
     "output_type": "stream",
     "text": [
      "[092/100]  test loss: 0.0634  D: 0.7500  D2: -0.0072  D3: 0.0158  D4: 0.0175\r"
     ]
    },
    {
     "name": "stderr",
     "output_type": "stream",
     "text": [
      "[default |INFO|model.py:2182] [44/80]  loss: 6.023083e-02  D: 6.958545e-01  D2: -7.458032e-03  D3: 1.229891e-02  D4: 1.388460e-02\n",
      "test loss: 6.316239e-02  D: 7.500064e-01  D2: -7.226543e-03  D3: 1.573658e-02  D4: 1.743296e-02\n"
     ]
    },
    {
     "name": "stdout",
     "output_type": "stream",
     "text": [
      "[088/100]  test loss: 0.0593  D: 0.6818  D2: -0.0075  D3: 0.0137  D4: 0.0150\r"
     ]
    },
    {
     "name": "stderr",
     "output_type": "stream",
     "text": [
      "[default |INFO|model.py:2182] [45/80]  loss: 5.875225e-02  D: 6.941013e-01  D2: -7.517819e-03  D3: 1.321991e-02  D4: 1.479787e-02\n",
      "test loss: 5.934327e-02  D: 6.818303e-01  D2: -7.539291e-03  D3: 1.361593e-02  D4: 1.492839e-02\n"
     ]
    },
    {
     "name": "stdout",
     "output_type": "stream",
     "text": [
      "[088/100]  test loss: 0.0607  D: 0.7182  D2: -0.0075  D3: 0.0126  D4: 0.0141\r"
     ]
    },
    {
     "name": "stderr",
     "output_type": "stream",
     "text": [
      "[default |INFO|model.py:2182] [46/80]  loss: 5.977704e-02  D: 6.950518e-01  D2: -7.554979e-03  D3: 1.232739e-02  D4: 1.386567e-02\n",
      "test loss: 6.046183e-02  D: 7.182513e-01  D2: -7.562561e-03  D3: 1.258190e-02  D4: 1.410997e-02\n"
     ]
    },
    {
     "name": "stdout",
     "output_type": "stream",
     "text": [
      "[093/100]  test loss: 0.0590  D: 0.6885  D2: -0.0073  D3: 0.0120  D4: 0.0137\r"
     ]
    },
    {
     "name": "stderr",
     "output_type": "stream",
     "text": [
      "[default |INFO|model.py:2182] [47/80]  loss: 5.827847e-02  D: 6.930896e-01  D2: -7.947388e-03  D3: 1.296181e-02  D4: 1.446304e-02\n",
      "test loss: 5.900743e-02  D: 6.884774e-01  D2: -7.408371e-03  D3: 1.199608e-02  D4: 1.366151e-02\n"
     ]
    },
    {
     "name": "stdout",
     "output_type": "stream",
     "text": [
      "[092/100]  test loss: 0.0589  D: 0.6660  D2: -0.0070  D3: 0.0109  D4: 0.0125\r"
     ]
    },
    {
     "name": "stderr",
     "output_type": "stream",
     "text": [
      "[default |INFO|model.py:2182] [48/80]  loss: 5.849858e-02  D: 6.933104e-01  D2: -7.838860e-03  D3: 1.264871e-02  D4: 1.414772e-02\n",
      "test loss: 5.895657e-02  D: 6.659981e-01  D2: -7.060223e-03  D3: 1.088886e-02  D4: 1.243329e-02\n"
     ]
    },
    {
     "name": "stdout",
     "output_type": "stream",
     "text": [
      "[094/100]  test loss: 0.0584  D: 0.6983  D2: -0.0075  D3: 0.0121  D4: 0.0139\r"
     ]
    },
    {
     "name": "stderr",
     "output_type": "stream",
     "text": [
      "[default |INFO|model.py:2182] [49/80]  loss: 5.718470e-02  D: 6.941152e-01  D2: -7.805777e-03  D3: 1.245143e-02  D4: 1.414176e-02\n",
      "test loss: 5.847021e-02  D: 6.982609e-01  D2: -7.438154e-03  D3: 1.216434e-02  D4: 1.399661e-02\n"
     ]
    },
    {
     "name": "stdout",
     "output_type": "stream",
     "text": [
      "[085/100]  test loss: 0.0568  D: 0.7130  D2: -0.0080  D3: 0.0151  D4: 0.0165\r"
     ]
    },
    {
     "name": "stderr",
     "output_type": "stream",
     "text": [
      "[default |INFO|model.py:2182] [50/80]  loss: 5.825518e-02  D: 6.933273e-01  D2: -7.825708e-03  D3: 1.264740e-02  D4: 1.429446e-02\n",
      "test loss: 5.660909e-02  D: 7.130272e-01  D2: -7.956743e-03  D3: 1.511978e-02  D4: 1.650208e-02\n"
     ]
    },
    {
     "name": "stdout",
     "output_type": "stream",
     "text": [
      "[087/100]  test loss: 0.0596  D: 0.6827  D2: -0.0081  D3: 0.0115  D4: 0.0130\r"
     ]
    },
    {
     "name": "stderr",
     "output_type": "stream",
     "text": [
      "[default |INFO|model.py:2182] [51/80]  loss: 5.778802e-02  D: 6.973795e-01  D2: -7.838761e-03  D3: 1.245675e-02  D4: 1.413177e-02\n",
      "test loss: 5.969229e-02  D: 6.827624e-01  D2: -8.161144e-03  D3: 1.153505e-02  D4: 1.294992e-02\n"
     ]
    },
    {
     "name": "stdout",
     "output_type": "stream",
     "text": [
      "[094/100]  test loss: 0.0595  D: 0.6981  D2: -0.0086  D3: 0.0130  D4: 0.0144\r"
     ]
    },
    {
     "name": "stderr",
     "output_type": "stream",
     "text": [
      "[default |INFO|model.py:2182] [52/80]  loss: 5.993762e-02  D: 6.951858e-01  D2: -7.991228e-03  D3: 1.235313e-02  D4: 1.393340e-02\n",
      "test loss: 5.960750e-02  D: 6.981523e-01  D2: -8.508749e-03  D3: 1.299820e-02  D4: 1.449382e-02\n"
     ]
    },
    {
     "name": "stdout",
     "output_type": "stream",
     "text": [
      "[087/100]  test loss: 0.0576  D: 0.6814  D2: -0.0080  D3: 0.0139  D4: 0.0154\r"
     ]
    },
    {
     "name": "stderr",
     "output_type": "stream",
     "text": [
      "[default |INFO|model.py:2182] [53/80]  loss: 5.791236e-02  D: 6.933732e-01  D2: -8.022076e-03  D3: 1.263471e-02  D4: 1.418488e-02\n",
      "test loss: 5.756225e-02  D: 6.812808e-01  D2: -8.015356e-03  D3: 1.397855e-02  D4: 1.537701e-02\n"
     ]
    },
    {
     "name": "stdout",
     "output_type": "stream",
     "text": [
      "[088/100]  test loss: 0.0571  D: 0.6964  D2: -0.0083  D3: 0.0110  D4: 0.0128\r"
     ]
    },
    {
     "name": "stderr",
     "output_type": "stream",
     "text": [
      "[default |INFO|model.py:2182] [54/80]  loss: 5.592063e-02  D: 6.942677e-01  D2: -8.061965e-03  D3: 1.306080e-02  D4: 1.468306e-02\n",
      "test loss: 5.721050e-02  D: 6.964101e-01  D2: -8.268929e-03  D3: 1.095596e-02  D4: 1.276237e-02\n"
     ]
    },
    {
     "name": "stdout",
     "output_type": "stream",
     "text": [
      "[088/100]  test loss: 0.0561  D: 0.6952  D2: -0.0081  D3: 0.0129  D4: 0.0147\r"
     ]
    },
    {
     "name": "stderr",
     "output_type": "stream",
     "text": [
      "[default |INFO|model.py:2182] [55/80]  loss: 5.634763e-02  D: 6.943052e-01  D2: -8.163455e-03  D3: 1.264657e-02  D4: 1.418705e-02\n",
      "test loss: 5.618387e-02  D: 6.951549e-01  D2: -8.146839e-03  D3: 1.288483e-02  D4: 1.461826e-02\n"
     ]
    },
    {
     "name": "stdout",
     "output_type": "stream",
     "text": [
      "[089/100]  test loss: 0.0608  D: 0.6844  D2: -0.0084  D3: 0.0123  D4: 0.0138\r"
     ]
    },
    {
     "name": "stderr",
     "output_type": "stream",
     "text": [
      "[default |INFO|model.py:2182] [56/80]  loss: 5.778421e-02  D: 6.946627e-01  D2: -8.203823e-03  D3: 1.235025e-02  D4: 1.400994e-02\n",
      "test loss: 6.064361e-02  D: 6.843305e-01  D2: -8.436985e-03  D3: 1.235285e-02  D4: 1.386928e-02\n"
     ]
    },
    {
     "name": "stdout",
     "output_type": "stream",
     "text": [
      "[089/100]  test loss: 0.0589  D: 0.6832  D2: -0.0085  D3: 0.0098  D4: 0.0114\r"
     ]
    },
    {
     "name": "stderr",
     "output_type": "stream",
     "text": [
      "[default |INFO|model.py:2182] [57/80]  loss: 5.687763e-02  D: 6.913191e-01  D2: -8.238880e-03  D3: 1.231153e-02  D4: 1.387195e-02\n",
      "test loss: 5.895463e-02  D: 6.832367e-01  D2: -8.479452e-03  D3: 9.809625e-03  D4: 1.140008e-02\n"
     ]
    },
    {
     "name": "stdout",
     "output_type": "stream",
     "text": [
      "[087/100]  test loss: 0.0596  D: 0.6868  D2: -0.0074  D3: 0.0147  D4: 0.0164\r"
     ]
    },
    {
     "name": "stderr",
     "output_type": "stream",
     "text": [
      "[default |INFO|model.py:2182] [58/80]  loss: 5.655217e-02  D: 6.948972e-01  D2: -8.269156e-03  D3: 1.252879e-02  D4: 1.404897e-02\n",
      "test loss: 5.954269e-02  D: 6.867736e-01  D2: -7.465334e-03  D3: 1.468208e-02  D4: 1.636547e-02\n"
     ]
    },
    {
     "name": "stdout",
     "output_type": "stream",
     "text": [
      "[088/100]  test loss: 0.0602  D: 0.6757  D2: -0.0086  D3: 0.0082  D4: 0.0096\r"
     ]
    },
    {
     "name": "stderr",
     "output_type": "stream",
     "text": [
      "[default |INFO|model.py:2182] [59/80]  loss: 5.677090e-02  D: 6.957783e-01  D2: -8.319686e-03  D3: 1.229908e-02  D4: 1.382996e-02\n",
      "test loss: 6.049965e-02  D: 6.757244e-01  D2: -8.530321e-03  D3: 8.207966e-03  D4: 9.592185e-03\n"
     ]
    },
    {
     "name": "stdout",
     "output_type": "stream",
     "text": [
      "[088/100]  test loss: 0.0558  D: 0.7111  D2: -0.0084  D3: 0.0133  D4: 0.0150\r"
     ]
    },
    {
     "name": "stderr",
     "output_type": "stream",
     "text": [
      "[default |INFO|model.py:2182] [60/80]  loss: 5.518721e-02  D: 6.933688e-01  D2: -8.332980e-03  D3: 1.263141e-02  D4: 1.420190e-02\n",
      "test loss: 5.559422e-02  D: 7.110622e-01  D2: -8.419762e-03  D3: 1.334320e-02  D4: 1.499888e-02\n"
     ]
    },
    {
     "name": "stdout",
     "output_type": "stream",
     "text": [
      "[089/100]  test loss: 0.0562  D: 0.7015  D2: -0.0085  D3: 0.0143  D4: 0.0156\r"
     ]
    },
    {
     "name": "stderr",
     "output_type": "stream",
     "text": [
      "[default |INFO|model.py:2182] [61/80]  loss: 5.542200e-02  D: 6.943279e-01  D2: -8.383207e-03  D3: 1.252809e-02  D4: 1.418888e-02\n",
      "test loss: 5.617970e-02  D: 7.014832e-01  D2: -8.562336e-03  D3: 1.425937e-02  D4: 1.557730e-02\n"
     ]
    },
    {
     "name": "stdout",
     "output_type": "stream",
     "text": [
      "[089/100]  test loss: 0.0576  D: 0.7078  D2: -0.0085  D3: 0.0117  D4: 0.0136\r"
     ]
    },
    {
     "name": "stderr",
     "output_type": "stream",
     "text": [
      "[default |INFO|model.py:2182] [62/80]  loss: 5.593949e-02  D: 6.958619e-01  D2: -8.468714e-03  D3: 1.244855e-02  D4: 1.401951e-02\n",
      "test loss: 5.775901e-02  D: 7.078370e-01  D2: -8.559628e-03  D3: 1.163115e-02  D4: 1.349616e-02\n"
     ]
    },
    {
     "name": "stdout",
     "output_type": "stream",
     "text": [
      "[096/100]  test loss: 0.0567  D: 0.6880  D2: -0.0088  D3: 0.0134  D4: 0.0148\r"
     ]
    },
    {
     "name": "stderr",
     "output_type": "stream",
     "text": [
      "[default |INFO|model.py:2182] [63/80]  loss: 5.541279e-02  D: 6.927695e-01  D2: -8.494070e-03  D3: 1.241553e-02  D4: 1.402281e-02\n",
      "test loss: 5.668232e-02  D: 6.880542e-01  D2: -8.818197e-03  D3: 1.340240e-02  D4: 1.482519e-02\n"
     ]
    },
    {
     "name": "stdout",
     "output_type": "stream",
     "text": [
      "[090/100]  test loss: 0.0568  D: 0.7222  D2: -0.0084  D3: 0.0126  D4: 0.0140\r"
     ]
    },
    {
     "name": "stderr",
     "output_type": "stream",
     "text": [
      "[default |INFO|model.py:2182] [64/80]  loss: 5.451446e-02  D: 6.945244e-01  D2: -8.482409e-03  D3: 1.253466e-02  D4: 1.411500e-02\n",
      "test loss: 5.675408e-02  D: 7.221916e-01  D2: -8.420753e-03  D3: 1.264229e-02  D4: 1.396569e-02\n"
     ]
    },
    {
     "name": "stdout",
     "output_type": "stream",
     "text": [
      "[090/100]  test loss: 0.0580  D: 0.6864  D2: -0.0086  D3: 0.0125  D4: 0.0143\r"
     ]
    },
    {
     "name": "stderr",
     "output_type": "stream",
     "text": [
      "[default |INFO|model.py:2182] [65/80]  loss: 5.494338e-02  D: 6.942935e-01  D2: -8.610816e-03  D3: 1.243985e-02  D4: 1.407070e-02\n",
      "test loss: 5.782610e-02  D: 6.863371e-01  D2: -8.657341e-03  D3: 1.247544e-02  D4: 1.430643e-02\n"
     ]
    },
    {
     "name": "stdout",
     "output_type": "stream",
     "text": [
      "[087/100]  test loss: 0.0553  D: 0.6853  D2: -0.0086  D3: 0.0119  D4: 0.0135\r"
     ]
    },
    {
     "name": "stderr",
     "output_type": "stream",
     "text": [
      "[default |INFO|model.py:2182] [66/80]  loss: 5.479727e-02  D: 6.963670e-01  D2: -8.604542e-03  D3: 1.252833e-02  D4: 1.420221e-02\n",
      "test loss: 5.537938e-02  D: 6.853122e-01  D2: -8.659077e-03  D3: 1.195935e-02  D4: 1.357270e-02\n"
     ]
    },
    {
     "name": "stdout",
     "output_type": "stream",
     "text": [
      "[088/100]  test loss: 0.0568  D: 0.6996  D2: -0.0088  D3: 0.0135  D4: 0.0149\r"
     ]
    },
    {
     "name": "stderr",
     "output_type": "stream",
     "text": [
      "[default |INFO|model.py:2182] [67/80]  loss: 5.459273e-02  D: 6.941113e-01  D2: -8.606804e-03  D3: 1.239462e-02  D4: 1.394122e-02\n",
      "test loss: 5.693911e-02  D: 6.995903e-01  D2: -8.809700e-03  D3: 1.352856e-02  D4: 1.488188e-02\n"
     ]
    },
    {
     "name": "stdout",
     "output_type": "stream",
     "text": [
      "[090/100]  test loss: 0.0585  D: 0.6924  D2: -0.0088  D3: 0.0132  D4: 0.0145\r"
     ]
    },
    {
     "name": "stderr",
     "output_type": "stream",
     "text": [
      "[default |INFO|model.py:2182] [68/80]  loss: 5.408958e-02  D: 6.946167e-01  D2: -8.667289e-03  D3: 1.235523e-02  D4: 1.401603e-02\n",
      "test loss: 5.879577e-02  D: 6.923679e-01  D2: -8.852558e-03  D3: 1.322572e-02  D4: 1.459024e-02\n"
     ]
    },
    {
     "name": "stdout",
     "output_type": "stream",
     "text": [
      "[096/100]  test loss: 0.0571  D: 0.6689  D2: -0.0086  D3: 0.0122  D4: 0.0138\r"
     ]
    },
    {
     "name": "stderr",
     "output_type": "stream",
     "text": [
      "[default |INFO|model.py:2182] [69/80]  loss: 5.519166e-02  D: 6.945611e-01  D2: -8.692837e-03  D3: 1.232817e-02  D4: 1.398805e-02\n",
      "test loss: 5.716125e-02  D: 6.689310e-01  D2: -8.607864e-03  D3: 1.220652e-02  D4: 1.384383e-02\n"
     ]
    },
    {
     "name": "stdout",
     "output_type": "stream",
     "text": [
      "[088/100]  test loss: 0.0573  D: 0.6870  D2: -0.0079  D3: 0.0132  D4: 0.0149\r"
     ]
    },
    {
     "name": "stderr",
     "output_type": "stream",
     "text": [
      "[default |INFO|model.py:2182] [70/80]  loss: 5.620616e-02  D: 6.946055e-01  D2: -8.755471e-03  D3: 1.201064e-02  D4: 1.364496e-02\n",
      "test loss: 5.707208e-02  D: 6.869388e-01  D2: -7.934256e-03  D3: 1.313320e-02  D4: 1.483909e-02\n"
     ]
    },
    {
     "name": "stdout",
     "output_type": "stream",
     "text": [
      "[088/100]  test loss: 0.0599  D: 0.6878  D2: -0.0090  D3: 0.0101  D4: 0.0119\r"
     ]
    },
    {
     "name": "stderr",
     "output_type": "stream",
     "text": [
      "[default |INFO|model.py:2182] [71/80]  loss: 5.635778e-02  D: 6.948901e-01  D2: -8.711214e-03  D3: 1.204898e-02  D4: 1.370277e-02\n",
      "test loss: 5.972533e-02  D: 6.878017e-01  D2: -8.985615e-03  D3: 9.997830e-03  D4: 1.184243e-02\n"
     ]
    },
    {
     "name": "stdout",
     "output_type": "stream",
     "text": [
      "[088/100]  test loss: 0.0554  D: 0.6984  D2: -0.0090  D3: 0.0123  D4: 0.0140\r"
     ]
    },
    {
     "name": "stderr",
     "output_type": "stream",
     "text": [
      "[default |INFO|model.py:2182] [72/80]  loss: 5.638754e-02  D: 6.950155e-01  D2: -8.734182e-03  D3: 1.236615e-02  D4: 1.403447e-02\n",
      "test loss: 5.556456e-02  D: 6.983483e-01  D2: -8.948603e-03  D3: 1.229885e-02  D4: 1.400962e-02\n"
     ]
    },
    {
     "name": "stdout",
     "output_type": "stream",
     "text": [
      "[093/100]  test loss: 0.0614  D: 0.6910  D2: -0.0086  D3: 0.0095  D4: 0.0110\r"
     ]
    },
    {
     "name": "stderr",
     "output_type": "stream",
     "text": [
      "[default |INFO|model.py:2182] [73/80]  loss: 5.472417e-02  D: 6.935603e-01  D2: -8.765707e-03  D3: 1.199576e-02  D4: 1.367107e-02\n",
      "test loss: 6.151399e-02  D: 6.909957e-01  D2: -8.536749e-03  D3: 9.508195e-03  D4: 1.103557e-02\n"
     ]
    },
    {
     "name": "stdout",
     "output_type": "stream",
     "text": [
      "[088/100]  test loss: 0.0582  D: 0.6986  D2: -0.0088  D3: 0.0104  D4: 0.0122\r"
     ]
    },
    {
     "name": "stderr",
     "output_type": "stream",
     "text": [
      "[default |INFO|model.py:2182] [74/80]  loss: 5.539392e-02  D: 6.952218e-01  D2: -8.813740e-03  D3: 1.237494e-02  D4: 1.402382e-02\n",
      "test loss: 5.826467e-02  D: 6.986101e-01  D2: -8.841515e-03  D3: 1.040621e-02  D4: 1.209301e-02\n"
     ]
    },
    {
     "name": "stdout",
     "output_type": "stream",
     "text": [
      "[088/100]  test loss: 0.0577  D: 0.6907  D2: -0.0090  D3: 0.0096  D4: 0.0112\r"
     ]
    },
    {
     "name": "stderr",
     "output_type": "stream",
     "text": [
      "[default |INFO|model.py:2182] [75/80]  loss: 5.671541e-02  D: 6.944940e-01  D2: -8.917367e-03  D3: 1.149878e-02  D4: 1.325867e-02\n",
      "test loss: 5.786617e-02  D: 6.907788e-01  D2: -8.996086e-03  D3: 9.554368e-03  D4: 1.123632e-02\n"
     ]
    },
    {
     "name": "stdout",
     "output_type": "stream",
     "text": [
      "[087/100]  test loss: 0.0558  D: 0.6848  D2: -0.0088  D3: 0.0119  D4: 0.0134\r"
     ]
    },
    {
     "name": "stderr",
     "output_type": "stream",
     "text": [
      "[default |INFO|model.py:2182] [76/80]  loss: 5.695627e-02  D: 6.950632e-01  D2: -8.793877e-03  D3: 1.200048e-02  D4: 1.365243e-02\n",
      "test loss: 5.590789e-02  D: 6.848209e-01  D2: -8.870153e-03  D3: 1.192695e-02  D4: 1.348001e-02\n"
     ]
    },
    {
     "name": "stdout",
     "output_type": "stream",
     "text": [
      "[088/100]  test loss: 0.0563  D: 0.6942  D2: -0.0088  D3: 0.0125  D4: 0.0143\r"
     ]
    },
    {
     "name": "stderr",
     "output_type": "stream",
     "text": [
      "[default |INFO|model.py:2182] [77/80]  loss: 5.481901e-02  D: 6.941877e-01  D2: -8.895345e-03  D3: 1.238001e-02  D4: 1.398207e-02\n",
      "test loss: 5.650427e-02  D: 6.941966e-01  D2: -8.756332e-03  D3: 1.243512e-02  D4: 1.428992e-02\n"
     ]
    },
    {
     "name": "stdout",
     "output_type": "stream",
     "text": [
      "[088/100]  test loss: 0.0555  D: 0.6992  D2: -0.0088  D3: 0.0128  D4: 0.0141\r"
     ]
    },
    {
     "name": "stderr",
     "output_type": "stream",
     "text": [
      "[default |INFO|model.py:2182] [78/80]  loss: 5.300950e-02  D: 6.944929e-01  D2: -8.954736e-03  D3: 1.248819e-02  D4: 1.419922e-02\n",
      "test loss: 5.549529e-02  D: 6.992181e-01  D2: -8.757753e-03  D3: 1.280725e-02  D4: 1.418228e-02\n"
     ]
    },
    {
     "name": "stdout",
     "output_type": "stream",
     "text": [
      "[087/100]  test loss: 0.0568  D: 0.6988  D2: -0.0088  D3: 0.0136  D4: 0.0152\r"
     ]
    },
    {
     "name": "stderr",
     "output_type": "stream",
     "text": [
      "[default |INFO|model.py:2182] [79/80]  loss: 5.410295e-02  D: 6.942874e-01  D2: -8.940090e-03  D3: 1.216720e-02  D4: 1.385808e-02\n",
      "test loss: 5.679204e-02  D: 6.987304e-01  D2: -8.820295e-03  D3: 1.359364e-02  D4: 1.521510e-02\n"
     ]
    },
    {
     "name": "stdout",
     "output_type": "stream",
     "text": [
      "[091/100]  test loss: 0.0564  D: 0.6889  D2: -0.0093  D3: 0.0110  D4: 0.0127\r"
     ]
    },
    {
     "name": "stderr",
     "output_type": "stream",
     "text": [
      "[default |INFO|model.py:2182] [80/80]  loss: 5.408028e-02  D: 6.958724e-01  D2: -8.938886e-03  D3: 1.221564e-02  D4: 1.381070e-02\n",
      "test loss: 5.648161e-02  D: 6.888966e-01  D2: -9.282675e-03  D3: 1.094725e-02  D4: 1.269315e-02\n"
     ]
    },
    {
     "name": "stdout",
     "output_type": "stream",
     "text": [
      "[092/100]  test loss: 0.0564  D: 0.6889  D2: -0.0093  D3: 0.0110  D4: 0.0127\r",
      "[093/100]  test loss: 0.0564  D: 0.6889  D2: -0.0093  D3: 0.0110  D4: 0.0127\r",
      "[094/100]  test loss: 0.0565  D: 0.6889  D2: -0.0093  D3: 0.0110  D4: 0.0127\r",
      "[095/100]  test loss: 0.0565  D: 0.6889  D2: -0.0093  D3: 0.0110  D4: 0.0127\r",
      "[096/100]  test loss: 0.0565  D: 0.6889  D2: -0.0093  D3: 0.0110  D4: 0.0127\r",
      "[097/100]  test loss: 0.0564  D: 0.6889  D2: -0.0093  D3: 0.0110  D4: 0.0127\r",
      "[098/100]  test loss: 0.0565  D: 0.6889  D2: -0.0093  D3: 0.0110  D4: 0.0127\r",
      "[099/100]  test loss: 0.0565  D: 0.6889  D2: -0.0093  D3: 0.0110  D4: 0.0127\r",
      "[100/100]  test loss: 0.0565  D: 0.6889  D2: -0.0093  D3: 0.0109  D4: 0.0127\r"
     ]
    },
    {
     "name": "stderr",
     "output_type": "stream",
     "text": [
      "[default |INFO|model.py:2297] Training Finished!\n",
      "[default |INFO|model.py:2298] Elapsed time: 1768.577s\n"
     ]
    }
   ],
   "source": [
    "cfg = configparser.ConfigParser()\n",
    "cfg.read('./config/sswae_dev2_hsic_4.cfg')\n",
    "\n",
    "mm = cur_model(cfg, log, device = device)\n",
    "\n",
    "mm.gm.mu.load_state_dict(torch.load(f'./result/mu_{cfg[\"train_info\"][\"y_dim\"]}.pt'))\n",
    "mm.gm.cov.load_state_dict(torch.load(f'./result/cov_{cfg[\"train_info\"][\"y_dim\"]}.pt'))\n",
    "\n",
    "mm.train()\n",
    "# mm.load('./%s' % (cfg['path_info']['save_path']))"
   ]
  },
  {
   "cell_type": "markdown",
   "metadata": {},
   "source": [
    "# Train - 5"
   ]
  },
  {
   "cell_type": "code",
   "execution_count": 7,
   "metadata": {
    "scrolled": true
   },
   "outputs": [
    {
     "name": "stderr",
     "output_type": "stream",
     "text": [
      "[default |INFO|_base_model.py:27] ------------------------------------------------------------\n",
      "[default |INFO|_base_model.py:29] model_name : SSWAE_HSIC_MNIST\n",
      "[default |INFO|_base_model.py:29] train_data : rmMNIST\n",
      "[default |INFO|_base_model.py:29] train_data_label : True\n",
      "[default |INFO|_base_model.py:29] z_sampler : gaus\n",
      "[default |INFO|_base_model.py:29] z_dim : 6\n",
      "[default |INFO|_base_model.py:29] y_sampler : gaus\n",
      "[default |INFO|_base_model.py:29] y_dim : 6\n",
      "[default |INFO|_base_model.py:29] labeled_class : 0,1,2,3,4,5,6,7,8,9\n",
      "[default |INFO|_base_model.py:29] unlabeled_class : \n",
      "[default |INFO|_base_model.py:29] test_class : \n",
      "[default |INFO|_base_model.py:29] portion : 1.0\n",
      "[default |INFO|_base_model.py:29] unk : False\n",
      "[default |INFO|_base_model.py:29] encoder_pretrain : False\n",
      "[default |INFO|_base_model.py:29] encoder_pretrain_step : 3\n",
      "[default |INFO|_base_model.py:29] lr : 5e-4\n",
      "[default |INFO|_base_model.py:29] beta1 : 0.5\n",
      "[default |INFO|_base_model.py:29] lr_adv : 2e-4\n",
      "[default |INFO|_base_model.py:29] beta1_adv : 0.5\n",
      "[default |INFO|_base_model.py:29] lambda : 10.0\n",
      "[default |INFO|_base_model.py:29] lambda_mmd : 10.0\n",
      "[default |INFO|_base_model.py:29] lambda_hsic : 10.0\n",
      "[default |INFO|_base_model.py:29] lr_schedule : manual\n",
      "[default |INFO|_base_model.py:29] validate : True\n",
      "[default |INFO|_base_model.py:29] histogram : True\n",
      "[default |INFO|_base_model.py:29] batch_size : 100\n",
      "[default |INFO|_base_model.py:29] epoch : 80\n",
      "[default |INFO|_base_model.py:29] replace : False\n",
      "[default |INFO|_base_model.py:29] save_best : False\n",
      "[default |INFO|_base_model.py:32] data_home : ./data/MNIST\n",
      "[default |INFO|_base_model.py:32] tb_logs : \n",
      "[default |INFO|_base_model.py:32] save_path : ./result/weights/sswae_dev2_hsic_5.pt\n",
      "[default |INFO|_base_model.py:32] save_state : ./result/states/sswae_dev2_hsic_5.pt\n",
      "[default |INFO|_base_model.py:32] save_img_path : \n",
      "[default |INFO|model.py:2061] ------------------------------------------------------------\n",
      "[default |INFO|model.py:2062] Training Start!\n"
     ]
    },
    {
     "name": "stdout",
     "output_type": "stream",
     "text": [
      "[090/100]  test loss: 0.1927  D: 0.6929  D2: 0.0128  D3: 0.0074  D4: 0.0076\r"
     ]
    },
    {
     "name": "stderr",
     "output_type": "stream",
     "text": [
      "[default |INFO|model.py:2182] [01/80]  loss: 2.522808e-01  D: 6.929483e-01  D2: 3.743914e-02  D3: 4.161747e-03  D4: 4.867830e-03\n",
      "test loss: 1.925677e-01  D: 6.928694e-01  D2: 1.276147e-02  D3: 7.356931e-03  D4: 7.663332e-03\n"
     ]
    },
    {
     "name": "stdout",
     "output_type": "stream",
     "text": [
      "[091/100]  test loss: 0.1601  D: 0.6912  D2: 0.0001  D3: 0.0094  D4: 0.00924\r"
     ]
    },
    {
     "name": "stderr",
     "output_type": "stream",
     "text": [
      "[default |INFO|model.py:2182] [02/80]  loss: 1.730095e-01  D: 6.937927e-01  D2: 8.343886e-03  D3: 6.161826e-03  D4: 7.439130e-03\n",
      "test loss: 1.601107e-01  D: 6.911745e-01  D2: 3.092003e-04  D3: 9.567928e-03  D4: 9.327107e-03\n"
     ]
    },
    {
     "name": "stdout",
     "output_type": "stream",
     "text": [
      "[090/100]  test loss: 0.1385  D: 0.6876  D2: -0.0019  D3: 0.0062  D4: 0.0074\r"
     ]
    },
    {
     "name": "stderr",
     "output_type": "stream",
     "text": [
      "[default |INFO|model.py:2182] [03/80]  loss: 1.497053e-01  D: 6.931110e-01  D2: -4.195166e-04  D3: 6.559023e-03  D4: 7.174824e-03\n",
      "test loss: 1.386534e-01  D: 6.876648e-01  D2: -1.885824e-03  D3: 6.268251e-03  D4: 7.365728e-03\n"
     ]
    },
    {
     "name": "stdout",
     "output_type": "stream",
     "text": [
      "[088/100]  test loss: 0.1242  D: 0.6898  D2: -0.0023  D3: 0.0092  D4: 0.0099\r"
     ]
    },
    {
     "name": "stderr",
     "output_type": "stream",
     "text": [
      "[default |INFO|model.py:2182] [04/80]  loss: 1.366555e-01  D: 7.099270e-01  D2: -1.448679e-03  D3: 9.101623e-03  D4: 9.982093e-03\n",
      "test loss: 1.239247e-01  D: 6.898390e-01  D2: -2.247944e-03  D3: 9.331026e-03  D4: 9.966998e-03\n"
     ]
    },
    {
     "name": "stdout",
     "output_type": "stream",
     "text": [
      "[092/100]  test loss: 0.1033  D: 0.7063  D2: -0.0040  D3: 0.0094  D4: 0.0110\r"
     ]
    },
    {
     "name": "stderr",
     "output_type": "stream",
     "text": [
      "[default |INFO|model.py:2182] [05/80]  loss: 1.188185e-01  D: 6.996943e-01  D2: -2.609347e-03  D3: 1.062664e-02  D4: 1.185419e-02\n",
      "test loss: 1.032335e-01  D: 7.063374e-01  D2: -3.960476e-03  D3: 9.353522e-03  D4: 1.100865e-02\n"
     ]
    },
    {
     "name": "stdout",
     "output_type": "stream",
     "text": [
      "[086/100]  test loss: 0.1090  D: 0.7286  D2: -0.0041  D3: 0.0115  D4: 0.0132\r"
     ]
    },
    {
     "name": "stderr",
     "output_type": "stream",
     "text": [
      "[default |INFO|model.py:2182] [06/80]  loss: 1.166015e-01  D: 7.064549e-01  D2: -3.452346e-03  D3: 1.372952e-02  D4: 1.478861e-02\n",
      "test loss: 1.093164e-01  D: 7.286641e-01  D2: -4.020844e-03  D3: 1.138644e-02  D4: 1.313218e-02\n"
     ]
    },
    {
     "name": "stdout",
     "output_type": "stream",
     "text": [
      "[088/100]  test loss: 0.0894  D: 0.6804  D2: -0.0022  D3: 0.0148  D4: 0.0163\r"
     ]
    },
    {
     "name": "stderr",
     "output_type": "stream",
     "text": [
      "[default |INFO|model.py:2182] [07/80]  loss: 9.789086e-02  D: 6.953390e-01  D2: -4.199136e-03  D3: 1.535815e-02  D4: 1.612029e-02\n",
      "test loss: 8.936168e-02  D: 6.804229e-01  D2: -1.910267e-03  D3: 1.489897e-02  D4: 1.622394e-02\n"
     ]
    },
    {
     "name": "stdout",
     "output_type": "stream",
     "text": [
      "[088/100]  test loss: 0.0890  D: 0.6611  D2: -0.0049  D3: 0.0151  D4: 0.0168\r"
     ]
    },
    {
     "name": "stderr",
     "output_type": "stream",
     "text": [
      "[default |INFO|model.py:2182] [08/80]  loss: 9.397850e-02  D: 6.968064e-01  D2: -4.203237e-03  D3: 1.607630e-02  D4: 1.755549e-02\n",
      "test loss: 8.896218e-02  D: 6.611985e-01  D2: -4.953690e-03  D3: 1.509581e-02  D4: 1.669991e-02\n"
     ]
    },
    {
     "name": "stdout",
     "output_type": "stream",
     "text": [
      "[088/100]  test loss: 0.0815  D: 0.6901  D2: -0.0053  D3: 0.0165  D4: 0.0178\r"
     ]
    },
    {
     "name": "stderr",
     "output_type": "stream",
     "text": [
      "[default |INFO|model.py:2182] [09/80]  loss: 8.709020e-02  D: 6.955103e-01  D2: -4.767729e-03  D3: 1.636709e-02  D4: 1.754015e-02\n",
      "test loss: 8.125593e-02  D: 6.901080e-01  D2: -5.431881e-03  D3: 1.650550e-02  D4: 1.774765e-02\n"
     ]
    },
    {
     "name": "stdout",
     "output_type": "stream",
     "text": [
      "[088/100]  test loss: 0.0820  D: 0.6769  D2: -0.0049  D3: 0.0135  D4: 0.0149\r"
     ]
    },
    {
     "name": "stderr",
     "output_type": "stream",
     "text": [
      "[default |INFO|model.py:2182] [10/80]  loss: 7.999448e-02  D: 6.932523e-01  D2: -4.824940e-03  D3: 1.584802e-02  D4: 1.716128e-02\n",
      "test loss: 8.202003e-02  D: 6.769291e-01  D2: -5.072966e-03  D3: 1.358586e-02  D4: 1.481903e-02\n"
     ]
    },
    {
     "name": "stdout",
     "output_type": "stream",
     "text": [
      "[090/100]  test loss: 0.0796  D: 0.6544  D2: -0.0047  D3: 0.0164  D4: 0.0168\r"
     ]
    },
    {
     "name": "stderr",
     "output_type": "stream",
     "text": [
      "[default |INFO|model.py:2182] [11/80]  loss: 8.095939e-02  D: 6.962860e-01  D2: -4.916749e-03  D3: 1.572560e-02  D4: 1.684559e-02\n",
      "test loss: 7.987425e-02  D: 6.544328e-01  D2: -4.716558e-03  D3: 1.645101e-02  D4: 1.682714e-02\n"
     ]
    },
    {
     "name": "stdout",
     "output_type": "stream",
     "text": [
      "[089/100]  test loss: 0.0774  D: 0.6451  D2: -0.0055  D3: 0.0120  D4: 0.0125\r"
     ]
    },
    {
     "name": "stderr",
     "output_type": "stream",
     "text": [
      "[default |INFO|model.py:2182] [12/80]  loss: 8.078058e-02  D: 6.948806e-01  D2: -4.945331e-03  D3: 1.414953e-02  D4: 1.523754e-02\n",
      "test loss: 7.748430e-02  D: 6.450796e-01  D2: -5.472498e-03  D3: 1.203602e-02  D4: 1.249743e-02\n"
     ]
    },
    {
     "name": "stdout",
     "output_type": "stream",
     "text": [
      "[088/100]  test loss: 0.0846  D: 0.6752  D2: -0.0052  D3: 0.0162  D4: 0.0183\r"
     ]
    },
    {
     "name": "stderr",
     "output_type": "stream",
     "text": [
      "[default |INFO|model.py:2182] [13/80]  loss: 8.038693e-02  D: 6.998216e-01  D2: -5.052581e-03  D3: 1.356622e-02  D4: 1.454110e-02\n",
      "test loss: 8.429999e-02  D: 6.752258e-01  D2: -5.165138e-03  D3: 1.620739e-02  D4: 1.836974e-02\n"
     ]
    },
    {
     "name": "stdout",
     "output_type": "stream",
     "text": [
      "[093/100]  test loss: 0.0852  D: 0.7067  D2: -0.0058  D3: 0.0178  D4: 0.0173\r"
     ]
    },
    {
     "name": "stderr",
     "output_type": "stream",
     "text": [
      "[default |INFO|model.py:2182] [14/80]  loss: 8.028978e-02  D: 6.977741e-01  D2: -5.153764e-03  D3: 1.424716e-02  D4: 1.540992e-02\n",
      "test loss: 8.535660e-02  D: 7.066933e-01  D2: -5.826769e-03  D3: 1.778243e-02  D4: 1.734603e-02\n"
     ]
    },
    {
     "name": "stdout",
     "output_type": "stream",
     "text": [
      "[088/100]  test loss: 0.0724  D: 0.6929  D2: -0.0057  D3: 0.0136  D4: 0.0145\r"
     ]
    },
    {
     "name": "stderr",
     "output_type": "stream",
     "text": [
      "[default |INFO|model.py:2182] [15/80]  loss: 7.906117e-02  D: 6.952858e-01  D2: -5.255537e-03  D3: 1.463313e-02  D4: 1.588925e-02\n",
      "test loss: 7.262958e-02  D: 6.928866e-01  D2: -5.676708e-03  D3: 1.354970e-02  D4: 1.439412e-02\n"
     ]
    },
    {
     "name": "stdout",
     "output_type": "stream",
     "text": [
      "[093/100]  test loss: 0.0701  D: 0.7006  D2: -0.0049  D3: 0.0167  D4: 0.0181\r"
     ]
    },
    {
     "name": "stderr",
     "output_type": "stream",
     "text": [
      "[default |INFO|model.py:2182] [16/80]  loss: 7.458049e-02  D: 6.955065e-01  D2: -5.478471e-03  D3: 1.522770e-02  D4: 1.656634e-02\n",
      "test loss: 6.997834e-02  D: 7.006319e-01  D2: -4.916401e-03  D3: 1.664602e-02  D4: 1.816037e-02\n"
     ]
    },
    {
     "name": "stdout",
     "output_type": "stream",
     "text": [
      "[096/100]  test loss: 0.0699  D: 0.6829  D2: -0.0057  D3: 0.0154  D4: 0.0171\r"
     ]
    },
    {
     "name": "stderr",
     "output_type": "stream",
     "text": [
      "[default |INFO|model.py:2182] [17/80]  loss: 7.221229e-02  D: 6.946275e-01  D2: -5.842948e-03  D3: 1.495570e-02  D4: 1.610744e-02\n",
      "test loss: 7.000066e-02  D: 6.828976e-01  D2: -5.741367e-03  D3: 1.553391e-02  D4: 1.712387e-02\n"
     ]
    },
    {
     "name": "stdout",
     "output_type": "stream",
     "text": [
      "[095/100]  test loss: 0.0694  D: 0.6881  D2: -0.0050  D3: 0.0113  D4: 0.0125\r"
     ]
    },
    {
     "name": "stderr",
     "output_type": "stream",
     "text": [
      "[default |INFO|model.py:2182] [18/80]  loss: 7.123586e-02  D: 6.963023e-01  D2: -5.951482e-03  D3: 1.478708e-02  D4: 1.606862e-02\n",
      "test loss: 6.925665e-02  D: 6.880730e-01  D2: -5.162344e-03  D3: 1.134552e-02  D4: 1.241038e-02\n"
     ]
    },
    {
     "name": "stdout",
     "output_type": "stream",
     "text": [
      "[096/100]  test loss: 0.0694  D: 0.6924  D2: -0.0061  D3: 0.0145  D4: 0.0160\r"
     ]
    },
    {
     "name": "stderr",
     "output_type": "stream",
     "text": [
      "[default |INFO|model.py:2182] [19/80]  loss: 6.959337e-02  D: 6.945116e-01  D2: -5.909130e-03  D3: 1.403038e-02  D4: 1.518278e-02\n",
      "test loss: 6.948779e-02  D: 6.923827e-01  D2: -6.210585e-03  D3: 1.455472e-02  D4: 1.604128e-02\n"
     ]
    },
    {
     "name": "stdout",
     "output_type": "stream",
     "text": [
      "[094/100]  test loss: 0.0659  D: 0.6831  D2: -0.0056  D3: 0.0142  D4: 0.0155\r"
     ]
    },
    {
     "name": "stderr",
     "output_type": "stream",
     "text": [
      "[default |INFO|model.py:2182] [20/80]  loss: 6.724268e-02  D: 6.948189e-01  D2: -6.068118e-03  D3: 1.496188e-02  D4: 1.631003e-02\n",
      "test loss: 6.576530e-02  D: 6.830549e-01  D2: -5.675688e-03  D3: 1.419475e-02  D4: 1.551254e-02\n"
     ]
    },
    {
     "name": "stdout",
     "output_type": "stream",
     "text": [
      "[094/100]  test loss: 0.0649  D: 0.7327  D2: -0.0065  D3: 0.0175  D4: 0.0185\r"
     ]
    },
    {
     "name": "stderr",
     "output_type": "stream",
     "text": [
      "[default |INFO|model.py:2182] [21/80]  loss: 6.672581e-02  D: 6.956843e-01  D2: -6.319942e-03  D3: 1.412606e-02  D4: 1.541255e-02\n",
      "test loss: 6.477217e-02  D: 7.327141e-01  D2: -6.491461e-03  D3: 1.754986e-02  D4: 1.854896e-02\n"
     ]
    },
    {
     "name": "stdout",
     "output_type": "stream",
     "text": [
      "[096/100]  test loss: 0.0653  D: 0.6928  D2: -0.0062  D3: 0.0156  D4: 0.0173\r"
     ]
    },
    {
     "name": "stderr",
     "output_type": "stream",
     "text": [
      "[default |INFO|model.py:2182] [22/80]  loss: 6.426612e-02  D: 6.941674e-01  D2: -6.411093e-03  D3: 1.425610e-02  D4: 1.558441e-02\n",
      "test loss: 6.517499e-02  D: 6.927486e-01  D2: -6.225395e-03  D3: 1.554433e-02  D4: 1.730686e-02\n"
     ]
    },
    {
     "name": "stdout",
     "output_type": "stream",
     "text": [
      "[096/100]  test loss: 0.0673  D: 0.6818  D2: -0.0072  D3: 0.0107  D4: 0.0113\r"
     ]
    },
    {
     "name": "stderr",
     "output_type": "stream",
     "text": [
      "[default |INFO|model.py:2182] [23/80]  loss: 6.452266e-02  D: 6.940452e-01  D2: -6.698279e-03  D3: 1.453353e-02  D4: 1.584136e-02\n",
      "test loss: 6.720788e-02  D: 6.818416e-01  D2: -7.158279e-03  D3: 1.069260e-02  D4: 1.124025e-02\n"
     ]
    },
    {
     "name": "stdout",
     "output_type": "stream",
     "text": [
      "[096/100]  test loss: 0.0648  D: 0.6971  D2: -0.0074  D3: 0.0124  D4: 0.0141\r"
     ]
    },
    {
     "name": "stderr",
     "output_type": "stream",
     "text": [
      "[default |INFO|model.py:2182] [24/80]  loss: 6.617451e-02  D: 6.967046e-01  D2: -6.493880e-03  D3: 1.447836e-02  D4: 1.581132e-02\n",
      "test loss: 6.490881e-02  D: 6.970693e-01  D2: -7.347488e-03  D3: 1.237333e-02  D4: 1.406833e-02\n"
     ]
    },
    {
     "name": "stdout",
     "output_type": "stream",
     "text": [
      "[096/100]  test loss: 0.0659  D: 0.7120  D2: -0.0071  D3: 0.0179  D4: 0.0193\r"
     ]
    },
    {
     "name": "stderr",
     "output_type": "stream",
     "text": [
      "[default |INFO|model.py:2182] [25/80]  loss: 6.362760e-02  D: 6.949380e-01  D2: -6.679975e-03  D3: 1.426082e-02  D4: 1.558723e-02\n",
      "test loss: 6.578901e-02  D: 7.120085e-01  D2: -7.182989e-03  D3: 1.791372e-02  D4: 1.927852e-02\n"
     ]
    },
    {
     "name": "stdout",
     "output_type": "stream",
     "text": [
      "[096/100]  test loss: 0.0661  D: 0.6747  D2: -0.0068  D3: 0.0125  D4: 0.0141\r"
     ]
    },
    {
     "name": "stderr",
     "output_type": "stream",
     "text": [
      "[default |INFO|model.py:2182] [26/80]  loss: 6.212028e-02  D: 6.941940e-01  D2: -7.108426e-03  D3: 1.422810e-02  D4: 1.559562e-02\n",
      "test loss: 6.606337e-02  D: 6.747030e-01  D2: -6.708050e-03  D3: 1.252198e-02  D4: 1.416674e-02\n"
     ]
    },
    {
     "name": "stdout",
     "output_type": "stream",
     "text": [
      "[096/100]  test loss: 0.0687  D: 0.6848  D2: -0.0072  D3: 0.0169  D4: 0.0182\r"
     ]
    },
    {
     "name": "stderr",
     "output_type": "stream",
     "text": [
      "[default |INFO|model.py:2182] [27/80]  loss: 6.353049e-02  D: 6.953608e-01  D2: -6.941927e-03  D3: 1.423550e-02  D4: 1.559143e-02\n",
      "test loss: 6.862014e-02  D: 6.847378e-01  D2: -7.259665e-03  D3: 1.687912e-02  D4: 1.817039e-02\n"
     ]
    },
    {
     "name": "stdout",
     "output_type": "stream",
     "text": [
      "[096/100]  test loss: 0.0601  D: 0.7066  D2: -0.0072  D3: 0.0136  D4: 0.0150\r"
     ]
    },
    {
     "name": "stderr",
     "output_type": "stream",
     "text": [
      "[default |INFO|model.py:2182] [28/80]  loss: 6.223584e-02  D: 6.938400e-01  D2: -6.934735e-03  D3: 1.454592e-02  D4: 1.592401e-02\n",
      "test loss: 6.005593e-02  D: 7.066022e-01  D2: -7.123232e-03  D3: 1.359840e-02  D4: 1.495638e-02\n"
     ]
    },
    {
     "name": "stdout",
     "output_type": "stream",
     "text": [
      "[095/100]  test loss: 0.0606  D: 0.7068  D2: -0.0076  D3: 0.0135  D4: 0.0146\r"
     ]
    },
    {
     "name": "stderr",
     "output_type": "stream",
     "text": [
      "[default |INFO|model.py:2182] [29/80]  loss: 6.116958e-02  D: 6.954514e-01  D2: -7.282480e-03  D3: 1.434046e-02  D4: 1.564387e-02\n",
      "test loss: 6.050317e-02  D: 7.067671e-01  D2: -7.529831e-03  D3: 1.351469e-02  D4: 1.465715e-02\n"
     ]
    },
    {
     "name": "stdout",
     "output_type": "stream",
     "text": [
      "[094/100]  test loss: 0.0610  D: 0.6940  D2: -0.0076  D3: 0.0122  D4: 0.0133\r"
     ]
    },
    {
     "name": "stderr",
     "output_type": "stream",
     "text": [
      "[default |INFO|model.py:2182] [30/80]  loss: 5.959658e-02  D: 6.955233e-01  D2: -7.223638e-03  D3: 1.428332e-02  D4: 1.553541e-02\n",
      "test loss: 6.095863e-02  D: 6.940086e-01  D2: -7.634563e-03  D3: 1.222571e-02  D4: 1.333889e-02\n"
     ]
    },
    {
     "name": "stdout",
     "output_type": "stream",
     "text": [
      "[096/100]  test loss: 0.0630  D: 0.6901  D2: -0.0078  D3: 0.0120  D4: 0.0131\r"
     ]
    },
    {
     "name": "stderr",
     "output_type": "stream",
     "text": [
      "[default |INFO|model.py:2182] [31/80]  loss: 6.115264e-02  D: 6.939970e-01  D2: -7.615237e-03  D3: 1.362450e-02  D4: 1.475193e-02\n",
      "test loss: 6.300910e-02  D: 6.900218e-01  D2: -7.856665e-03  D3: 1.194421e-02  D4: 1.313752e-02\n"
     ]
    },
    {
     "name": "stdout",
     "output_type": "stream",
     "text": [
      "[094/100]  test loss: 0.0617  D: 0.6971  D2: -0.0072  D3: 0.0121  D4: 0.0135\r"
     ]
    },
    {
     "name": "stderr",
     "output_type": "stream",
     "text": [
      "[default |INFO|model.py:2182] [32/80]  loss: 6.125780e-02  D: 6.958004e-01  D2: -7.534560e-03  D3: 1.418928e-02  D4: 1.540778e-02\n",
      "test loss: 6.159989e-02  D: 6.971209e-01  D2: -7.247219e-03  D3: 1.213267e-02  D4: 1.358333e-02\n"
     ]
    },
    {
     "name": "stdout",
     "output_type": "stream",
     "text": [
      "[096/100]  test loss: 0.0579  D: 0.6898  D2: -0.0079  D3: 0.0135  D4: 0.0148\r"
     ]
    },
    {
     "name": "stderr",
     "output_type": "stream",
     "text": [
      "[default |INFO|model.py:2182] [33/80]  loss: 5.804649e-02  D: 6.930281e-01  D2: -7.939574e-03  D3: 1.420462e-02  D4: 1.551806e-02\n",
      "test loss: 5.791331e-02  D: 6.897681e-01  D2: -7.901030e-03  D3: 1.345353e-02  D4: 1.477503e-02\n"
     ]
    },
    {
     "name": "stdout",
     "output_type": "stream",
     "text": [
      "[096/100]  test loss: 0.0575  D: 0.6890  D2: -0.0081  D3: 0.0155  D4: 0.0169\r"
     ]
    },
    {
     "name": "stderr",
     "output_type": "stream",
     "text": [
      "[default |INFO|model.py:2182] [34/80]  loss: 5.683350e-02  D: 6.941644e-01  D2: -7.965070e-03  D3: 1.403003e-02  D4: 1.546923e-02\n",
      "test loss: 5.755990e-02  D: 6.890331e-01  D2: -8.046932e-03  D3: 1.546901e-02  D4: 1.688059e-02\n"
     ]
    },
    {
     "name": "stdout",
     "output_type": "stream",
     "text": [
      "[096/100]  test loss: 0.0585  D: 0.6814  D2: -0.0074  D3: 0.0139  D4: 0.0153\r"
     ]
    },
    {
     "name": "stderr",
     "output_type": "stream",
     "text": [
      "[default |INFO|model.py:2182] [35/80]  loss: 6.050153e-02  D: 6.946960e-01  D2: -7.976062e-03  D3: 1.368949e-02  D4: 1.487989e-02\n",
      "test loss: 5.855693e-02  D: 6.813750e-01  D2: -7.445745e-03  D3: 1.392746e-02  D4: 1.525323e-02\n"
     ]
    },
    {
     "name": "stdout",
     "output_type": "stream",
     "text": [
      "[096/100]  test loss: 0.0567  D: 0.6861  D2: -0.0080  D3: 0.0142  D4: 0.0155\r"
     ]
    },
    {
     "name": "stderr",
     "output_type": "stream",
     "text": [
      "[default |INFO|model.py:2182] [36/80]  loss: 5.706146e-02  D: 6.944265e-01  D2: -8.166828e-03  D3: 1.425479e-02  D4: 1.549072e-02\n",
      "test loss: 5.668653e-02  D: 6.861390e-01  D2: -8.045378e-03  D3: 1.418510e-02  D4: 1.550574e-02\n"
     ]
    },
    {
     "name": "stdout",
     "output_type": "stream",
     "text": [
      "[092/100]  test loss: 0.0596  D: 0.6915  D2: -0.0083  D3: 0.0126  D4: 0.0137\r"
     ]
    },
    {
     "name": "stderr",
     "output_type": "stream",
     "text": [
      "[default |INFO|model.py:2182] [37/80]  loss: 5.750095e-02  D: 6.942935e-01  D2: -8.250709e-03  D3: 1.385983e-02  D4: 1.518537e-02\n",
      "test loss: 5.959223e-02  D: 6.915343e-01  D2: -8.232355e-03  D3: 1.254153e-02  D4: 1.359909e-02\n"
     ]
    },
    {
     "name": "stdout",
     "output_type": "stream",
     "text": [
      "[095/100]  test loss: 0.0598  D: 0.6883  D2: -0.0084  D3: 0.0142  D4: 0.0154\r"
     ]
    },
    {
     "name": "stderr",
     "output_type": "stream",
     "text": [
      "[default |INFO|model.py:2182] [38/80]  loss: 5.837281e-02  D: 6.959875e-01  D2: -8.316142e-03  D3: 1.370985e-02  D4: 1.498368e-02\n",
      "test loss: 5.969887e-02  D: 6.882663e-01  D2: -8.383074e-03  D3: 1.425292e-02  D4: 1.541565e-02\n"
     ]
    },
    {
     "name": "stdout",
     "output_type": "stream",
     "text": [
      "[096/100]  test loss: 0.0565  D: 0.6939  D2: -0.0086  D3: 0.0152  D4: 0.0166\r"
     ]
    },
    {
     "name": "stderr",
     "output_type": "stream",
     "text": [
      "[default |INFO|model.py:2182] [39/80]  loss: 5.734840e-02  D: 6.934552e-01  D2: -8.385911e-03  D3: 1.361470e-02  D4: 1.487825e-02\n",
      "test loss: 5.648299e-02  D: 6.938930e-01  D2: -8.646650e-03  D3: 1.516100e-02  D4: 1.662298e-02\n"
     ]
    },
    {
     "name": "stdout",
     "output_type": "stream",
     "text": [
      "[096/100]  test loss: 0.0641  D: 0.7296  D2: -0.0087  D3: 0.0153  D4: 0.0168\r"
     ]
    },
    {
     "name": "stderr",
     "output_type": "stream",
     "text": [
      "[default |INFO|model.py:2182] [40/80]  loss: 5.765595e-02  D: 6.970480e-01  D2: -8.293215e-03  D3: 1.355819e-02  D4: 1.476735e-02\n",
      "test loss: 6.404998e-02  D: 7.296826e-01  D2: -8.724298e-03  D3: 1.524136e-02  D4: 1.677778e-02\n"
     ]
    },
    {
     "name": "stdout",
     "output_type": "stream",
     "text": [
      "[095/100]  test loss: 0.0587  D: 0.6964  D2: -0.0084  D3: 0.0138  D4: 0.0147\r"
     ]
    },
    {
     "name": "stderr",
     "output_type": "stream",
     "text": [
      "[default |INFO|model.py:2182] [41/80]  loss: 5.727219e-02  D: 6.938466e-01  D2: -8.453727e-03  D3: 1.371452e-02  D4: 1.503650e-02\n",
      "test loss: 5.846103e-02  D: 6.964268e-01  D2: -8.404274e-03  D3: 1.374750e-02  D4: 1.466709e-02\n"
     ]
    },
    {
     "name": "stdout",
     "output_type": "stream",
     "text": [
      "[096/100]  test loss: 0.0581  D: 0.6783  D2: -0.0089  D3: 0.0140  D4: 0.0150\r"
     ]
    },
    {
     "name": "stderr",
     "output_type": "stream",
     "text": [
      "[default |INFO|model.py:2182] [42/80]  loss: 5.750496e-02  D: 6.948646e-01  D2: -8.596881e-03  D3: 1.383372e-02  D4: 1.510590e-02\n",
      "test loss: 5.817146e-02  D: 6.783269e-01  D2: -8.890600e-03  D3: 1.392384e-02  D4: 1.495657e-02\n"
     ]
    },
    {
     "name": "stdout",
     "output_type": "stream",
     "text": [
      "[096/100]  test loss: 0.0578  D: 0.6884  D2: -0.0090  D3: 0.0138  D4: 0.0150\r"
     ]
    },
    {
     "name": "stderr",
     "output_type": "stream",
     "text": [
      "[default |INFO|model.py:2182] [43/80]  loss: 5.709942e-02  D: 6.946552e-01  D2: -8.689812e-03  D3: 1.367894e-02  D4: 1.492327e-02\n",
      "test loss: 5.777668e-02  D: 6.884616e-01  D2: -8.927698e-03  D3: 1.382320e-02  D4: 1.503087e-02\n"
     ]
    },
    {
     "name": "stdout",
     "output_type": "stream",
     "text": [
      "[095/100]  test loss: 0.0557  D: 0.6959  D2: -0.0088  D3: 0.0135  D4: 0.0151\r"
     ]
    },
    {
     "name": "stderr",
     "output_type": "stream",
     "text": [
      "[default |INFO|model.py:2182] [44/80]  loss: 5.581786e-02  D: 6.936950e-01  D2: -8.728239e-03  D3: 1.385974e-02  D4: 1.518536e-02\n",
      "test loss: 5.570502e-02  D: 6.958171e-01  D2: -8.864136e-03  D3: 1.354446e-02  D4: 1.510089e-02\n"
     ]
    },
    {
     "name": "stdout",
     "output_type": "stream",
     "text": [
      "[096/100]  test loss: 0.0561  D: 0.7188  D2: -0.0086  D3: 0.0145  D4: 0.0159\r"
     ]
    },
    {
     "name": "stderr",
     "output_type": "stream",
     "text": [
      "[default |INFO|model.py:2182] [45/80]  loss: 5.588499e-02  D: 6.940718e-01  D2: -8.697516e-03  D3: 1.380419e-02  D4: 1.509306e-02\n",
      "test loss: 5.614264e-02  D: 7.187770e-01  D2: -8.566790e-03  D3: 1.448779e-02  D4: 1.594125e-02\n"
     ]
    },
    {
     "name": "stdout",
     "output_type": "stream",
     "text": [
      "[096/100]  test loss: 0.0573  D: 0.6981  D2: -0.0088  D3: 0.0146  D4: 0.0156\r"
     ]
    },
    {
     "name": "stderr",
     "output_type": "stream",
     "text": [
      "[default |INFO|model.py:2182] [46/80]  loss: 5.696323e-02  D: 6.942940e-01  D2: -8.861591e-03  D3: 1.323091e-02  D4: 1.466347e-02\n",
      "test loss: 5.727809e-02  D: 6.980400e-01  D2: -8.805475e-03  D3: 1.454891e-02  D4: 1.559281e-02\n"
     ]
    },
    {
     "name": "stdout",
     "output_type": "stream",
     "text": [
      "[096/100]  test loss: 0.0597  D: 0.6790  D2: -0.0090  D3: 0.0145  D4: 0.0159\r"
     ]
    },
    {
     "name": "stderr",
     "output_type": "stream",
     "text": [
      "[default |INFO|model.py:2182] [47/80]  loss: 5.715660e-02  D: 6.915982e-01  D2: -8.776240e-03  D3: 1.334739e-02  D4: 1.465041e-02\n",
      "test loss: 5.960410e-02  D: 6.790667e-01  D2: -9.081984e-03  D3: 1.448536e-02  D4: 1.590957e-02\n"
     ]
    },
    {
     "name": "stdout",
     "output_type": "stream",
     "text": [
      "[096/100]  test loss: 0.0594  D: 0.6972  D2: -0.0092  D3: 0.0125  D4: 0.0138\r"
     ]
    },
    {
     "name": "stderr",
     "output_type": "stream",
     "text": [
      "[default |INFO|model.py:2182] [48/80]  loss: 5.860118e-02  D: 6.981731e-01  D2: -8.862561e-03  D3: 1.294179e-02  D4: 1.434260e-02\n",
      "test loss: 5.936297e-02  D: 6.972045e-01  D2: -9.210167e-03  D3: 1.246986e-02  D4: 1.381347e-02\n"
     ]
    },
    {
     "name": "stdout",
     "output_type": "stream",
     "text": [
      "[095/100]  test loss: 0.0582  D: 0.6813  D2: -0.0090  D3: 0.0136  D4: 0.0152\r"
     ]
    },
    {
     "name": "stderr",
     "output_type": "stream",
     "text": [
      "[default |INFO|model.py:2182] [49/80]  loss: 5.655214e-02  D: 6.928827e-01  D2: -9.160137e-03  D3: 1.317265e-02  D4: 1.457673e-02\n",
      "test loss: 5.809605e-02  D: 6.812520e-01  D2: -9.031725e-03  D3: 1.361969e-02  D4: 1.521612e-02\n"
     ]
    },
    {
     "name": "stdout",
     "output_type": "stream",
     "text": [
      "[092/100]  test loss: 0.0556  D: 0.6887  D2: -0.0095  D3: 0.0141  D4: 0.0153\r"
     ]
    },
    {
     "name": "stderr",
     "output_type": "stream",
     "text": [
      "[default |INFO|model.py:2182] [50/80]  loss: 5.750544e-02  D: 6.957134e-01  D2: -9.103228e-03  D3: 1.323967e-02  D4: 1.457947e-02\n",
      "test loss: 5.559808e-02  D: 6.887349e-01  D2: -9.455585e-03  D3: 1.406859e-02  D4: 1.529639e-02\n"
     ]
    },
    {
     "name": "stdout",
     "output_type": "stream",
     "text": [
      "[096/100]  test loss: 0.0602  D: 0.6772  D2: -0.0096  D3: 0.0113  D4: 0.0127\r"
     ]
    },
    {
     "name": "stderr",
     "output_type": "stream",
     "text": [
      "[default |INFO|model.py:2182] [51/80]  loss: 5.770257e-02  D: 6.954649e-01  D2: -9.173050e-03  D3: 1.313546e-02  D4: 1.443731e-02\n",
      "test loss: 6.018133e-02  D: 6.771939e-01  D2: -9.602432e-03  D3: 1.132511e-02  D4: 1.269755e-02\n"
     ]
    },
    {
     "name": "stdout",
     "output_type": "stream",
     "text": [
      "[094/100]  test loss: 0.0552  D: 0.7015  D2: -0.0096  D3: 0.0152  D4: 0.0164\r"
     ]
    },
    {
     "name": "stderr",
     "output_type": "stream",
     "text": [
      "[default |INFO|model.py:2182] [52/80]  loss: 5.612580e-02  D: 6.921521e-01  D2: -9.186684e-03  D3: 1.347684e-02  D4: 1.473731e-02\n",
      "test loss: 5.515886e-02  D: 7.014779e-01  D2: -9.556704e-03  D3: 1.521566e-02  D4: 1.644220e-02\n"
     ]
    },
    {
     "name": "stdout",
     "output_type": "stream",
     "text": [
      "[100/100]  test loss: 0.0565  D: 0.6806  D2: -0.0096  D3: 0.0138  D4: 0.0149\r"
     ]
    },
    {
     "name": "stderr",
     "output_type": "stream",
     "text": [
      "[default |INFO|model.py:2182] [53/80]  loss: 5.530961e-02  D: 6.943002e-01  D2: -9.264436e-03  D3: 1.344303e-02  D4: 1.473752e-02\n",
      "test loss: 5.646284e-02  D: 6.805926e-01  D2: -9.563341e-03  D3: 1.384124e-02  D4: 1.490551e-02\n"
     ]
    },
    {
     "name": "stdout",
     "output_type": "stream",
     "text": [
      "[100/100]  test loss: 0.0554  D: 0.6884  D2: -0.0094  D3: 0.0139  D4: 0.0151\r"
     ]
    },
    {
     "name": "stderr",
     "output_type": "stream",
     "text": [
      "[default |INFO|model.py:2182] [54/80]  loss: 5.396660e-02  D: 6.948125e-01  D2: -9.419106e-03  D3: 1.352315e-02  D4: 1.479967e-02\n",
      "test loss: 5.542505e-02  D: 6.883727e-01  D2: -9.356537e-03  D3: 1.385677e-02  D4: 1.506248e-02\n"
     ]
    },
    {
     "name": "stdout",
     "output_type": "stream",
     "text": [
      "[096/100]  test loss: 0.0549  D: 0.7028  D2: -0.0090  D3: 0.0145  D4: 0.0156\r"
     ]
    },
    {
     "name": "stderr",
     "output_type": "stream",
     "text": [
      "[default |INFO|model.py:2182] [55/80]  loss: 5.509037e-02  D: 6.950124e-01  D2: -9.502036e-03  D3: 1.337181e-02  D4: 1.471715e-02\n",
      "test loss: 5.493462e-02  D: 7.027621e-01  D2: -9.044943e-03  D3: 1.447994e-02  D4: 1.561759e-02\n"
     ]
    },
    {
     "name": "stdout",
     "output_type": "stream",
     "text": [
      "[093/100]  test loss: 0.0581  D: 0.7196  D2: -0.0089  D3: 0.0154  D4: 0.0163\r"
     ]
    },
    {
     "name": "stderr",
     "output_type": "stream",
     "text": [
      "[default |INFO|model.py:2182] [56/80]  loss: 5.511230e-02  D: 6.945151e-01  D2: -9.441023e-03  D3: 1.317927e-02  D4: 1.451818e-02\n",
      "test loss: 5.811404e-02  D: 7.196035e-01  D2: -8.888121e-03  D3: 1.538197e-02  D4: 1.624711e-02\n"
     ]
    },
    {
     "name": "stdout",
     "output_type": "stream",
     "text": [
      "[095/100]  test loss: 0.0570  D: 0.6889  D2: -0.0097  D3: 0.0119  D4: 0.0130\r"
     ]
    },
    {
     "name": "stderr",
     "output_type": "stream",
     "text": [
      "[default |INFO|model.py:2182] [57/80]  loss: 5.549826e-02  D: 6.932856e-01  D2: -9.434121e-03  D3: 1.348409e-02  D4: 1.480899e-02\n",
      "test loss: 5.694959e-02  D: 6.888590e-01  D2: -9.717865e-03  D3: 1.191885e-02  D4: 1.296047e-02\n"
     ]
    },
    {
     "name": "stdout",
     "output_type": "stream",
     "text": [
      "[095/100]  test loss: 0.0554  D: 0.6752  D2: -0.0090  D3: 0.0136  D4: 0.0149\r"
     ]
    },
    {
     "name": "stderr",
     "output_type": "stream",
     "text": [
      "[default |INFO|model.py:2182] [58/80]  loss: 5.537736e-02  D: 6.954657e-01  D2: -9.420042e-03  D3: 1.303474e-02  D4: 1.419430e-02\n",
      "test loss: 5.532471e-02  D: 6.751674e-01  D2: -9.033976e-03  D3: 1.354069e-02  D4: 1.494414e-02\n"
     ]
    },
    {
     "name": "stdout",
     "output_type": "stream",
     "text": [
      "[096/100]  test loss: 0.0551  D: 0.6957  D2: -0.0092  D3: 0.0122  D4: 0.0136\r"
     ]
    },
    {
     "name": "stderr",
     "output_type": "stream",
     "text": [
      "[default |INFO|model.py:2182] [59/80]  loss: 5.401705e-02  D: 6.950121e-01  D2: -9.594202e-03  D3: 1.305222e-02  D4: 1.444402e-02\n",
      "test loss: 5.511232e-02  D: 6.957068e-01  D2: -9.226055e-03  D3: 1.222067e-02  D4: 1.364592e-02\n"
     ]
    },
    {
     "name": "stdout",
     "output_type": "stream",
     "text": [
      "[094/100]  test loss: 0.0559  D: 0.6913  D2: -0.0098  D3: 0.0130  D4: 0.0141\r"
     ]
    },
    {
     "name": "stderr",
     "output_type": "stream",
     "text": [
      "[default |INFO|model.py:2182] [60/80]  loss: 5.329924e-02  D: 6.930225e-01  D2: -9.585261e-03  D3: 1.345439e-02  D4: 1.471360e-02\n",
      "test loss: 5.576897e-02  D: 6.912800e-01  D2: -9.780779e-03  D3: 1.302087e-02  D4: 1.408167e-02\n"
     ]
    },
    {
     "name": "stdout",
     "output_type": "stream",
     "text": [
      "[096/100]  test loss: 0.0567  D: 0.6987  D2: -0.0092  D3: 0.0122  D4: 0.0136\r"
     ]
    },
    {
     "name": "stderr",
     "output_type": "stream",
     "text": [
      "[default |INFO|model.py:2182] [61/80]  loss: 5.536013e-02  D: 6.951402e-01  D2: -9.608054e-03  D3: 1.317601e-02  D4: 1.438836e-02\n",
      "test loss: 5.669105e-02  D: 6.986852e-01  D2: -9.218082e-03  D3: 1.221173e-02  D4: 1.363216e-02\n"
     ]
    },
    {
     "name": "stdout",
     "output_type": "stream",
     "text": [
      "[095/100]  test loss: 0.0551  D: 0.6909  D2: -0.0096  D3: 0.0147  D4: 0.0159\r"
     ]
    },
    {
     "name": "stderr",
     "output_type": "stream",
     "text": [
      "[default |INFO|model.py:2182] [62/80]  loss: 5.376739e-02  D: 6.942965e-01  D2: -9.688169e-03  D3: 1.330518e-02  D4: 1.450442e-02\n",
      "test loss: 5.519037e-02  D: 6.909447e-01  D2: -9.600782e-03  D3: 1.468492e-02  D4: 1.589648e-02\n"
     ]
    },
    {
     "name": "stdout",
     "output_type": "stream",
     "text": [
      "[091/100]  test loss: 0.0537  D: 0.7020  D2: -0.0096  D3: 0.0137  D4: 0.0148\r"
     ]
    },
    {
     "name": "stderr",
     "output_type": "stream",
     "text": [
      "[default |INFO|model.py:2182] [63/80]  loss: 5.360684e-02  D: 6.936336e-01  D2: -9.725045e-03  D3: 1.318815e-02  D4: 1.449228e-02\n",
      "test loss: 5.393275e-02  D: 7.019403e-01  D2: -9.580040e-03  D3: 1.364840e-02  D4: 1.476046e-02\n"
     ]
    },
    {
     "name": "stdout",
     "output_type": "stream",
     "text": [
      "[087/100]  test loss: 0.0552  D: 0.6891  D2: -0.0099  D3: 0.0127  D4: 0.0140\r"
     ]
    },
    {
     "name": "stderr",
     "output_type": "stream",
     "text": [
      "[default |INFO|model.py:2182] [64/80]  loss: 5.307625e-02  D: 6.935917e-01  D2: -9.763368e-03  D3: 1.313514e-02  D4: 1.442328e-02\n",
      "test loss: 5.538327e-02  D: 6.891843e-01  D2: -9.952841e-03  D3: 1.272714e-02  D4: 1.392696e-02\n"
     ]
    },
    {
     "name": "stdout",
     "output_type": "stream",
     "text": [
      "[094/100]  test loss: 0.0565  D: 0.6944  D2: -0.0098  D3: 0.0146  D4: 0.0158\r"
     ]
    },
    {
     "name": "stderr",
     "output_type": "stream",
     "text": [
      "[default |INFO|model.py:2182] [65/80]  loss: 5.473946e-02  D: 6.936183e-01  D2: -9.759051e-03  D3: 1.306829e-02  D4: 1.423652e-02\n",
      "test loss: 5.639626e-02  D: 6.944277e-01  D2: -9.728775e-03  D3: 1.455310e-02  D4: 1.580015e-02\n"
     ]
    },
    {
     "name": "stdout",
     "output_type": "stream",
     "text": [
      "[088/100]  test loss: 0.0553  D: 0.6943  D2: -0.0094  D3: 0.0135  D4: 0.0150\r"
     ]
    },
    {
     "name": "stderr",
     "output_type": "stream",
     "text": [
      "[default |INFO|model.py:2182] [66/80]  loss: 5.371887e-02  D: 6.954658e-01  D2: -9.787502e-03  D3: 1.320571e-02  D4: 1.444792e-02\n",
      "test loss: 5.506501e-02  D: 6.943247e-01  D2: -9.444590e-03  D3: 1.348723e-02  D4: 1.495871e-02\n"
     ]
    },
    {
     "name": "stdout",
     "output_type": "stream",
     "text": [
      "[094/100]  test loss: 0.0532  D: 0.6983  D2: -0.0097  D3: 0.0134  D4: 0.0143\r"
     ]
    },
    {
     "name": "stderr",
     "output_type": "stream",
     "text": [
      "[default |INFO|model.py:2182] [67/80]  loss: 5.309460e-02  D: 6.940109e-01  D2: -9.972323e-03  D3: 1.313372e-02  D4: 1.440380e-02\n",
      "test loss: 5.338599e-02  D: 6.982896e-01  D2: -9.681978e-03  D3: 1.333167e-02  D4: 1.430841e-02\n"
     ]
    },
    {
     "name": "stdout",
     "output_type": "stream",
     "text": [
      "[091/100]  test loss: 0.0540  D: 0.7053  D2: -0.0103  D3: 0.0144  D4: 0.0153\r"
     ]
    },
    {
     "name": "stderr",
     "output_type": "stream",
     "text": [
      "[default |INFO|model.py:2182] [68/80]  loss: 5.318140e-02  D: 6.935816e-01  D2: -9.907811e-03  D3: 1.323420e-02  D4: 1.436431e-02\n",
      "test loss: 5.411180e-02  D: 7.053510e-01  D2: -1.031706e-02  D3: 1.445311e-02  D4: 1.531971e-02\n"
     ]
    },
    {
     "name": "stdout",
     "output_type": "stream",
     "text": [
      "[092/100]  test loss: 0.0550  D: 0.7361  D2: -0.0099  D3: 0.0129  D4: 0.0142\r"
     ]
    },
    {
     "name": "stderr",
     "output_type": "stream",
     "text": [
      "[default |INFO|model.py:2182] [69/80]  loss: 5.302743e-02  D: 6.943090e-01  D2: -9.958328e-03  D3: 1.319676e-02  D4: 1.437564e-02\n",
      "test loss: 5.530620e-02  D: 7.361291e-01  D2: -9.832935e-03  D3: 1.287061e-02  D4: 1.413913e-02\n"
     ]
    },
    {
     "name": "stdout",
     "output_type": "stream",
     "text": [
      "[092/100]  test loss: 0.0552  D: 0.6864  D2: -0.0101  D3: 0.0136  D4: 0.0148\r"
     ]
    },
    {
     "name": "stderr",
     "output_type": "stream",
     "text": [
      "[default |INFO|model.py:2182] [70/80]  loss: 5.363398e-02  D: 6.948991e-01  D2: -1.000828e-02  D3: 1.327479e-02  D4: 1.440103e-02\n",
      "test loss: 5.528332e-02  D: 6.863749e-01  D2: -1.017161e-02  D3: 1.358326e-02  D4: 1.485242e-02\n"
     ]
    },
    {
     "name": "stdout",
     "output_type": "stream",
     "text": [
      "[091/100]  test loss: 0.0551  D: 0.7091  D2: -0.0097  D3: 0.0140  D4: 0.0154\r"
     ]
    },
    {
     "name": "stderr",
     "output_type": "stream",
     "text": [
      "[default |INFO|model.py:2182] [71/80]  loss: 5.324624e-02  D: 6.947845e-01  D2: -9.919742e-03  D3: 1.307832e-02  D4: 1.438592e-02\n",
      "test loss: 5.520387e-02  D: 7.091125e-01  D2: -9.689655e-03  D3: 1.405837e-02  D4: 1.540930e-02\n"
     ]
    },
    {
     "name": "stdout",
     "output_type": "stream",
     "text": [
      "[093/100]  test loss: 0.0542  D: 0.7224  D2: -0.0102  D3: 0.0136  D4: 0.0150\r"
     ]
    },
    {
     "name": "stderr",
     "output_type": "stream",
     "text": [
      "[default |INFO|model.py:2182] [72/80]  loss: 5.350897e-02  D: 6.954733e-01  D2: -1.002992e-02  D3: 1.300726e-02  D4: 1.426587e-02\n",
      "test loss: 5.434321e-02  D: 7.224189e-01  D2: -1.025789e-02  D3: 1.357932e-02  D4: 1.500946e-02\n"
     ]
    },
    {
     "name": "stdout",
     "output_type": "stream",
     "text": [
      "[092/100]  test loss: 0.0550  D: 0.6978  D2: -0.0103  D3: 0.0115  D4: 0.0125\r"
     ]
    },
    {
     "name": "stderr",
     "output_type": "stream",
     "text": [
      "[default |INFO|model.py:2182] [73/80]  loss: 5.224638e-02  D: 6.952708e-01  D2: -1.013737e-02  D3: 1.304454e-02  D4: 1.429370e-02\n",
      "test loss: 5.494312e-02  D: 6.978009e-01  D2: -1.026626e-02  D3: 1.143796e-02  D4: 1.248599e-02\n"
     ]
    },
    {
     "name": "stdout",
     "output_type": "stream",
     "text": [
      "[088/100]  test loss: 0.0556  D: 0.6989  D2: -0.0093  D3: 0.0128  D4: 0.0137\r"
     ]
    },
    {
     "name": "stderr",
     "output_type": "stream",
     "text": [
      "[default |INFO|model.py:2182] [74/80]  loss: 5.284913e-02  D: 6.939461e-01  D2: -1.003540e-02  D3: 1.318418e-02  D4: 1.435311e-02\n",
      "test loss: 5.537187e-02  D: 6.989094e-01  D2: -9.376011e-03  D3: 1.274367e-02  D4: 1.366555e-02\n"
     ]
    },
    {
     "name": "stdout",
     "output_type": "stream",
     "text": [
      "[090/100]  test loss: 0.0519  D: 0.7085  D2: -0.0101  D3: 0.0142  D4: 0.0153\r"
     ]
    },
    {
     "name": "stderr",
     "output_type": "stream",
     "text": [
      "[default |INFO|model.py:2182] [75/80]  loss: 5.224097e-02  D: 6.921759e-01  D2: -1.007077e-02  D3: 1.317185e-02  D4: 1.436762e-02\n",
      "test loss: 5.190449e-02  D: 7.085353e-01  D2: -1.008215e-02  D3: 1.412692e-02  D4: 1.531541e-02\n"
     ]
    },
    {
     "name": "stdout",
     "output_type": "stream",
     "text": [
      "[088/100]  test loss: 0.0552  D: 0.7093  D2: -0.0101  D3: 0.0138  D4: 0.0151\r"
     ]
    },
    {
     "name": "stderr",
     "output_type": "stream",
     "text": [
      "[default |INFO|model.py:2182] [76/80]  loss: 5.385229e-02  D: 6.938963e-01  D2: -1.008244e-02  D3: 1.283145e-02  D4: 1.405358e-02\n",
      "test loss: 5.492551e-02  D: 7.093403e-01  D2: -1.005381e-02  D3: 1.380850e-02  D4: 1.510240e-02\n"
     ]
    },
    {
     "name": "stdout",
     "output_type": "stream",
     "text": [
      "[088/100]  test loss: 0.0539  D: 0.7026  D2: -0.0103  D3: 0.0129  D4: 0.0142\r"
     ]
    },
    {
     "name": "stderr",
     "output_type": "stream",
     "text": [
      "[default |INFO|model.py:2182] [77/80]  loss: 5.253823e-02  D: 6.952168e-01  D2: -1.019533e-02  D3: 1.313215e-02  D4: 1.434502e-02\n",
      "test loss: 5.406725e-02  D: 7.026586e-01  D2: -1.028405e-02  D3: 1.286716e-02  D4: 1.410955e-02\n"
     ]
    },
    {
     "name": "stdout",
     "output_type": "stream",
     "text": [
      "[089/100]  test loss: 0.0556  D: 0.6968  D2: -0.0100  D3: 0.0132  D4: 0.0143\r"
     ]
    },
    {
     "name": "stderr",
     "output_type": "stream",
     "text": [
      "[default |INFO|model.py:2182] [78/80]  loss: 5.213302e-02  D: 6.937978e-01  D2: -1.013278e-02  D3: 1.303770e-02  D4: 1.423741e-02\n",
      "test loss: 5.553534e-02  D: 6.967595e-01  D2: -9.993820e-03  D3: 1.311476e-02  D4: 1.426237e-02\n"
     ]
    },
    {
     "name": "stdout",
     "output_type": "stream",
     "text": [
      "[088/100]  test loss: 0.0580  D: 0.6839  D2: -0.0102  D3: 0.0131  D4: 0.0141\r"
     ]
    },
    {
     "name": "stderr",
     "output_type": "stream",
     "text": [
      "[default |INFO|model.py:2182] [79/80]  loss: 5.160881e-02  D: 6.950003e-01  D2: -1.014178e-02  D3: 1.315399e-02  D4: 1.433183e-02\n",
      "test loss: 5.784739e-02  D: 6.838510e-01  D2: -1.013824e-02  D3: 1.306962e-02  D4: 1.415726e-02\n"
     ]
    },
    {
     "name": "stdout",
     "output_type": "stream",
     "text": [
      "[088/100]  test loss: 0.0531  D: 0.6921  D2: -0.0105  D3: 0.0126  D4: 0.0134\r"
     ]
    },
    {
     "name": "stderr",
     "output_type": "stream",
     "text": [
      "[default |INFO|model.py:2182] [80/80]  loss: 5.130525e-02  D: 6.941345e-01  D2: -1.021599e-02  D3: 1.303100e-02  D4: 1.427387e-02\n",
      "test loss: 5.297006e-02  D: 6.920684e-01  D2: -1.050412e-02  D3: 1.254221e-02  D4: 1.344154e-02\n"
     ]
    },
    {
     "name": "stdout",
     "output_type": "stream",
     "text": [
      "[089/100]  test loss: 0.0532  D: 0.6921  D2: -0.0105  D3: 0.0126  D4: 0.0135\r",
      "[090/100]  test loss: 0.0531  D: 0.6921  D2: -0.0105  D3: 0.0126  D4: 0.0134\r",
      "[091/100]  test loss: 0.0531  D: 0.6921  D2: -0.0105  D3: 0.0126  D4: 0.0134\r",
      "[092/100]  test loss: 0.0531  D: 0.6920  D2: -0.0105  D3: 0.0126  D4: 0.0135\r",
      "[093/100]  test loss: 0.0531  D: 0.6921  D2: -0.0105  D3: 0.0126  D4: 0.0135\r",
      "[094/100]  test loss: 0.0531  D: 0.6920  D2: -0.0105  D3: 0.0125  D4: 0.0134\r",
      "[095/100]  test loss: 0.0530  D: 0.6921  D2: -0.0105  D3: 0.0125  D4: 0.0134\r",
      "[096/100]  test loss: 0.0530  D: 0.6921  D2: -0.0105  D3: 0.0125  D4: 0.0134\r",
      "[097/100]  test loss: 0.0530  D: 0.6921  D2: -0.0105  D3: 0.0125  D4: 0.0134\r",
      "[098/100]  test loss: 0.0530  D: 0.6921  D2: -0.0105  D3: 0.0125  D4: 0.0134\r",
      "[099/100]  test loss: 0.0530  D: 0.6921  D2: -0.0105  D3: 0.0125  D4: 0.0134\r",
      "[100/100]  test loss: 0.0530  D: 0.6921  D2: -0.0105  D3: 0.0125  D4: 0.0134\r"
     ]
    },
    {
     "name": "stderr",
     "output_type": "stream",
     "text": [
      "[default |INFO|model.py:2297] Training Finished!\n",
      "[default |INFO|model.py:2298] Elapsed time: 1717.758s\n"
     ]
    }
   ],
   "source": [
    "cfg = configparser.ConfigParser()\n",
    "cfg.read('./config/sswae_dev2_hsic_5.cfg')\n",
    "\n",
    "mm = cur_model(cfg, log, device = device)\n",
    "\n",
    "mm.gm.mu.load_state_dict(torch.load(f'./result/mu_{cfg[\"train_info\"][\"y_dim\"]}.pt'))\n",
    "mm.gm.cov.load_state_dict(torch.load(f'./result/cov_{cfg[\"train_info\"][\"y_dim\"]}.pt'))\n",
    "\n",
    "mm.train()\n",
    "# mm.load('./%s' % (cfg['path_info']['save_path']))"
   ]
  },
  {
   "cell_type": "markdown",
   "metadata": {},
   "source": [
    "# Train - 6"
   ]
  },
  {
   "cell_type": "code",
   "execution_count": 3,
   "metadata": {
    "scrolled": true
   },
   "outputs": [
    {
     "name": "stderr",
     "output_type": "stream",
     "text": [
      "[default |INFO|_base_model.py:27] ------------------------------------------------------------\n",
      "[default |INFO|_base_model.py:29] model_name : SSWAE_HSIC_MNIST\n",
      "[default |INFO|_base_model.py:29] train_data : rmMNIST\n",
      "[default |INFO|_base_model.py:29] train_data_label : True\n",
      "[default |INFO|_base_model.py:29] z_sampler : gaus\n",
      "[default |INFO|_base_model.py:29] z_dim : 10\n",
      "[default |INFO|_base_model.py:29] y_sampler : gaus\n",
      "[default |INFO|_base_model.py:29] y_dim : 4\n",
      "[default |INFO|_base_model.py:29] labeled_class : 0,1,2,3,4,5,6,7,8,9\n",
      "[default |INFO|_base_model.py:29] unlabeled_class : \n",
      "[default |INFO|_base_model.py:29] test_class : \n",
      "[default |INFO|_base_model.py:29] portion : 1.0\n",
      "[default |INFO|_base_model.py:29] unk : False\n",
      "[default |INFO|_base_model.py:29] encoder_pretrain : False\n",
      "[default |INFO|_base_model.py:29] encoder_pretrain_step : 3\n",
      "[default |INFO|_base_model.py:29] lr : 5e-4\n",
      "[default |INFO|_base_model.py:29] beta1 : 0.5\n",
      "[default |INFO|_base_model.py:29] lr_adv : 2e-4\n",
      "[default |INFO|_base_model.py:29] beta1_adv : 0.5\n",
      "[default |INFO|_base_model.py:29] lambda : 10.0\n",
      "[default |INFO|_base_model.py:29] lambda_mmd : 10.0\n",
      "[default |INFO|_base_model.py:29] lambda_hsic : 10.0\n",
      "[default |INFO|_base_model.py:29] lr_schedule : manual\n",
      "[default |INFO|_base_model.py:29] validate : True\n",
      "[default |INFO|_base_model.py:29] histogram : True\n",
      "[default |INFO|_base_model.py:29] batch_size : 100\n",
      "[default |INFO|_base_model.py:29] epoch : 80\n",
      "[default |INFO|_base_model.py:29] replace : False\n",
      "[default |INFO|_base_model.py:29] save_best : False\n",
      "[default |INFO|_base_model.py:32] data_home : ./data/MNIST\n",
      "[default |INFO|_base_model.py:32] tb_logs : \n",
      "[default |INFO|_base_model.py:32] save_path : ./result/weights/sswae_dev2_hsic_11.pt\n",
      "[default |INFO|_base_model.py:32] save_state : ./result/states/sswae_dev2_hsic_11.pt\n",
      "[default |INFO|_base_model.py:32] save_img_path : \n",
      "[default |INFO|model.py:2061] ------------------------------------------------------------\n",
      "[default |INFO|model.py:2062] Training Start!\n"
     ]
    },
    {
     "name": "stdout",
     "output_type": "stream",
     "text": [
      "[100/100]  test loss: 0.1675  D: 0.6837  D2: 0.0019  D3: 0.0043  D4: 0.0050\r"
     ]
    },
    {
     "name": "stderr",
     "output_type": "stream",
     "text": [
      "[default |INFO|model.py:2182] [01/80]  loss: 2.410132e-01  D: 6.921753e-01  D2: 2.231453e-02  D3: 2.418551e-03  D4: 2.405639e-03\n",
      "test loss: 1.674546e-01  D: 6.837158e-01  D2: 1.929817e-03  D3: 4.317137e-03  D4: 4.994289e-03\n"
     ]
    },
    {
     "name": "stdout",
     "output_type": "stream",
     "text": [
      "[099/100]  test loss: 0.1580  D: 0.7095  D2: -0.0049  D3: 0.0036  D4: 0.0032\r"
     ]
    },
    {
     "name": "stderr",
     "output_type": "stream",
     "text": [
      "[default |INFO|model.py:2182] [02/80]  loss: 1.622568e-01  D: 6.974195e-01  D2: -3.137344e-03  D3: 5.777181e-03  D4: 5.752367e-03\n",
      "test loss: 1.579253e-01  D: 7.095077e-01  D2: -4.854803e-03  D3: 3.578219e-03  D4: 3.185161e-03\n"
     ]
    },
    {
     "name": "stdout",
     "output_type": "stream",
     "text": [
      "[100/100]  test loss: 0.1373  D: 0.6993  D2: -0.0049  D3: 0.0088  D4: 0.0092\r"
     ]
    },
    {
     "name": "stderr",
     "output_type": "stream",
     "text": [
      "[default |INFO|model.py:2182] [03/80]  loss: 1.516241e-01  D: 6.940997e-01  D2: -4.184615e-03  D3: 7.852837e-03  D4: 7.807650e-03\n",
      "test loss: 1.372532e-01  D: 6.993457e-01  D2: -4.851742e-03  D3: 8.769616e-03  D4: 9.226514e-03\n"
     ]
    },
    {
     "name": "stdout",
     "output_type": "stream",
     "text": [
      "[091/100]  test loss: 0.1210  D: 0.6959  D2: -0.0042  D3: 0.0140  D4: 0.0137\r"
     ]
    },
    {
     "name": "stderr",
     "output_type": "stream",
     "text": [
      "[default |INFO|model.py:2182] [04/80]  loss: 1.328831e-01  D: 7.002228e-01  D2: -4.352455e-03  D3: 1.113587e-02  D4: 1.141320e-02\n",
      "test loss: 1.211504e-01  D: 6.958693e-01  D2: -4.468861e-03  D3: 1.387430e-02  D4: 1.354783e-02\n"
     ]
    },
    {
     "name": "stdout",
     "output_type": "stream",
     "text": [
      "[099/100]  test loss: 0.1089  D: 0.6912  D2: -0.0045  D3: 0.0133  D4: 0.0141\r"
     ]
    },
    {
     "name": "stderr",
     "output_type": "stream",
     "text": [
      "[default |INFO|model.py:2182] [05/80]  loss: 1.279911e-01  D: 7.163857e-01  D2: -4.368706e-03  D3: 1.293215e-02  D4: 1.374170e-02\n",
      "test loss: 1.089177e-01  D: 6.912454e-01  D2: -4.541435e-03  D3: 1.328297e-02  D4: 1.404697e-02\n"
     ]
    },
    {
     "name": "stdout",
     "output_type": "stream",
     "text": [
      "[100/100]  test loss: 0.1240  D: 0.7198  D2: -0.0049  D3: 0.0152  D4: 0.0159\r"
     ]
    },
    {
     "name": "stderr",
     "output_type": "stream",
     "text": [
      "[default |INFO|model.py:2182] [06/80]  loss: 1.145465e-01  D: 7.021964e-01  D2: -4.423636e-03  D3: 1.387300e-02  D4: 1.470001e-02\n",
      "test loss: 1.239597e-01  D: 7.197831e-01  D2: -4.928665e-03  D3: 1.522321e-02  D4: 1.593317e-02\n"
     ]
    },
    {
     "name": "stdout",
     "output_type": "stream",
     "text": [
      "[100/100]  test loss: 0.0932  D: 0.6911  D2: -0.0049  D3: 0.0156  D4: 0.0169\r"
     ]
    },
    {
     "name": "stderr",
     "output_type": "stream",
     "text": [
      "[default |INFO|model.py:2182] [07/80]  loss: 1.019737e-01  D: 6.961872e-01  D2: -4.701627e-03  D3: 1.316385e-02  D4: 1.379991e-02\n",
      "test loss: 9.323828e-02  D: 6.911381e-01  D2: -4.928236e-03  D3: 1.556049e-02  D4: 1.688390e-02\n"
     ]
    },
    {
     "name": "stdout",
     "output_type": "stream",
     "text": [
      "[100/100]  test loss: 0.0935  D: 0.7149  D2: -0.0045  D3: 0.0119  D4: 0.0132\r"
     ]
    },
    {
     "name": "stderr",
     "output_type": "stream",
     "text": [
      "[default |INFO|model.py:2182] [08/80]  loss: 1.004755e-01  D: 6.970922e-01  D2: -4.708211e-03  D3: 1.500266e-02  D4: 1.600333e-02\n",
      "test loss: 9.351125e-02  D: 7.148914e-01  D2: -4.522429e-03  D3: 1.185446e-02  D4: 1.318431e-02\n"
     ]
    },
    {
     "name": "stdout",
     "output_type": "stream",
     "text": [
      "[091/100]  test loss: 0.0815  D: 0.6822  D2: -0.0055  D3: 0.0167  D4: 0.0164\r"
     ]
    },
    {
     "name": "stderr",
     "output_type": "stream",
     "text": [
      "[default |INFO|model.py:2182] [09/80]  loss: 8.919567e-02  D: 6.936239e-01  D2: -5.245269e-03  D3: 1.379776e-02  D4: 1.469416e-02\n",
      "test loss: 8.157632e-02  D: 6.821738e-01  D2: -5.541792e-03  D3: 1.678065e-02  D4: 1.632638e-02\n"
     ]
    },
    {
     "name": "stdout",
     "output_type": "stream",
     "text": [
      "[100/100]  test loss: 0.0801  D: 0.6909  D2: -0.0058  D3: 0.0104  D4: 0.0115\r"
     ]
    },
    {
     "name": "stderr",
     "output_type": "stream",
     "text": [
      "[default |INFO|model.py:2182] [10/80]  loss: 8.329496e-02  D: 6.971319e-01  D2: -5.031465e-03  D3: 1.378999e-02  D4: 1.448773e-02\n",
      "test loss: 8.013623e-02  D: 6.908610e-01  D2: -5.784340e-03  D3: 1.041619e-02  D4: 1.149372e-02\n"
     ]
    },
    {
     "name": "stdout",
     "output_type": "stream",
     "text": [
      "[100/100]  test loss: 0.0922  D: 0.7469  D2: -0.0058  D3: 0.0134  D4: 0.0139\r"
     ]
    },
    {
     "name": "stderr",
     "output_type": "stream",
     "text": [
      "[default |INFO|model.py:2182] [11/80]  loss: 8.602039e-02  D: 6.942255e-01  D2: -4.983422e-03  D3: 1.291935e-02  D4: 1.374093e-02\n",
      "test loss: 9.223494e-02  D: 7.468826e-01  D2: -5.826206e-03  D3: 1.335264e-02  D4: 1.389073e-02\n"
     ]
    },
    {
     "name": "stdout",
     "output_type": "stream",
     "text": [
      "[100/100]  test loss: 0.0802  D: 0.7258  D2: -0.0052  D3: 0.0132  D4: 0.0135\r"
     ]
    },
    {
     "name": "stderr",
     "output_type": "stream",
     "text": [
      "[default |INFO|model.py:2182] [12/80]  loss: 8.641851e-02  D: 6.956392e-01  D2: -5.024522e-03  D3: 1.377282e-02  D4: 1.485542e-02\n",
      "test loss: 8.022564e-02  D: 7.258056e-01  D2: -5.203123e-03  D3: 1.319660e-02  D4: 1.353100e-02\n"
     ]
    },
    {
     "name": "stdout",
     "output_type": "stream",
     "text": [
      "[090/100]  test loss: 0.0733  D: 0.6907  D2: -0.0045  D3: 0.0158  D4: 0.0170\r"
     ]
    },
    {
     "name": "stderr",
     "output_type": "stream",
     "text": [
      "[default |INFO|model.py:2182] [13/80]  loss: 8.191541e-02  D: 6.951578e-01  D2: -5.335124e-03  D3: 1.469192e-02  D4: 1.562424e-02\n",
      "test loss: 7.328686e-02  D: 6.906426e-01  D2: -4.634361e-03  D3: 1.599785e-02  D4: 1.709887e-02\n"
     ]
    },
    {
     "name": "stdout",
     "output_type": "stream",
     "text": [
      "[099/100]  test loss: 0.0828  D: 0.6923  D2: -0.0050  D3: 0.0169  D4: 0.0167\r"
     ]
    },
    {
     "name": "stderr",
     "output_type": "stream",
     "text": [
      "[default |INFO|model.py:2182] [14/80]  loss: 7.753049e-02  D: 6.963037e-01  D2: -5.405108e-03  D3: 1.406392e-02  D4: 1.514353e-02\n",
      "test loss: 8.284375e-02  D: 6.923316e-01  D2: -4.929256e-03  D3: 1.696961e-02  D4: 1.673700e-02\n"
     ]
    },
    {
     "name": "stdout",
     "output_type": "stream",
     "text": [
      "[100/100]  test loss: 0.0870  D: 0.7256  D2: -0.0063  D3: 0.0162  D4: 0.0171\r"
     ]
    },
    {
     "name": "stderr",
     "output_type": "stream",
     "text": [
      "[default |INFO|model.py:2182] [15/80]  loss: 8.444676e-02  D: 6.965426e-01  D2: -5.371987e-03  D3: 1.363892e-02  D4: 1.471664e-02\n",
      "test loss: 8.698746e-02  D: 7.256275e-01  D2: -6.340799e-03  D3: 1.622472e-02  D4: 1.710917e-02\n"
     ]
    },
    {
     "name": "stdout",
     "output_type": "stream",
     "text": [
      "[091/100]  test loss: 0.0816  D: 0.6969  D2: -0.0051  D3: 0.0138  D4: 0.0145\r"
     ]
    },
    {
     "name": "stderr",
     "output_type": "stream",
     "text": [
      "[default |INFO|model.py:2182] [16/80]  loss: 8.522076e-02  D: 6.923216e-01  D2: -5.481865e-03  D3: 1.427352e-02  D4: 1.539055e-02\n",
      "test loss: 8.143126e-02  D: 6.969362e-01  D2: -5.214109e-03  D3: 1.378167e-02  D4: 1.450609e-02\n"
     ]
    },
    {
     "name": "stdout",
     "output_type": "stream",
     "text": [
      "[091/100]  test loss: 0.0922  D: 0.6520  D2: -0.0036  D3: 0.0134  D4: 0.0140\r"
     ]
    },
    {
     "name": "stderr",
     "output_type": "stream",
     "text": [
      "[default |INFO|model.py:2182] [17/80]  loss: 8.697132e-02  D: 6.986996e-01  D2: -5.458120e-03  D3: 1.203706e-02  D4: 1.285439e-02\n",
      "test loss: 9.195593e-02  D: 6.519328e-01  D2: -3.635712e-03  D3: 1.358325e-02  D4: 1.427425e-02\n"
     ]
    },
    {
     "name": "stdout",
     "output_type": "stream",
     "text": [
      "[090/100]  test loss: 0.0763  D: 0.6980  D2: -0.0050  D3: 0.0163  D4: 0.0176\r"
     ]
    },
    {
     "name": "stderr",
     "output_type": "stream",
     "text": [
      "[default |INFO|model.py:2182] [18/80]  loss: 7.942029e-02  D: 6.950755e-01  D2: -5.379990e-03  D3: 1.370796e-02  D4: 1.492015e-02\n",
      "test loss: 7.639988e-02  D: 6.980389e-01  D2: -4.842501e-03  D3: 1.633924e-02  D4: 1.753781e-02\n"
     ]
    },
    {
     "name": "stdout",
     "output_type": "stream",
     "text": [
      "[091/100]  test loss: 0.0817  D: 0.6928  D2: -0.0062  D3: 0.0147  D4: 0.0157\r"
     ]
    },
    {
     "name": "stderr",
     "output_type": "stream",
     "text": [
      "[default |INFO|model.py:2182] [19/80]  loss: 7.482714e-02  D: 6.915204e-01  D2: -5.721560e-03  D3: 1.445062e-02  D4: 1.568826e-02\n",
      "test loss: 8.180788e-02  D: 6.928521e-01  D2: -6.124506e-03  D3: 1.466380e-02  D4: 1.565673e-02\n"
     ]
    },
    {
     "name": "stdout",
     "output_type": "stream",
     "text": [
      "[091/100]  test loss: 0.0708  D: 0.6814  D2: -0.0069  D3: 0.0170  D4: 0.0177\r"
     ]
    },
    {
     "name": "stderr",
     "output_type": "stream",
     "text": [
      "[default |INFO|model.py:2182] [20/80]  loss: 7.865974e-02  D: 6.932951e-01  D2: -5.690354e-03  D3: 1.434785e-02  D4: 1.571565e-02\n",
      "test loss: 7.096304e-02  D: 6.814346e-01  D2: -6.741810e-03  D3: 1.699195e-02  D4: 1.772635e-02\n"
     ]
    },
    {
     "name": "stdout",
     "output_type": "stream",
     "text": [
      "[091/100]  test loss: 0.0683  D: 0.6926  D2: -0.0062  D3: 0.0128  D4: 0.0139\r"
     ]
    },
    {
     "name": "stderr",
     "output_type": "stream",
     "text": [
      "[default |INFO|model.py:2182] [21/80]  loss: 7.166127e-02  D: 6.950916e-01  D2: -5.941011e-03  D3: 1.349483e-02  D4: 1.482268e-02\n",
      "test loss: 6.824689e-02  D: 6.925084e-01  D2: -6.023970e-03  D3: 1.285019e-02  D4: 1.399335e-02\n"
     ]
    },
    {
     "name": "stdout",
     "output_type": "stream",
     "text": [
      "[090/100]  test loss: 0.0659  D: 0.7097  D2: -0.0062  D3: 0.0118  D4: 0.0131\r"
     ]
    },
    {
     "name": "stderr",
     "output_type": "stream",
     "text": [
      "[default |INFO|model.py:2182] [22/80]  loss: 6.859834e-02  D: 6.966692e-01  D2: -5.980096e-03  D3: 1.439961e-02  D4: 1.568995e-02\n",
      "test loss: 6.588005e-02  D: 7.096888e-01  D2: -6.057129e-03  D3: 1.182927e-02  D4: 1.311414e-02\n"
     ]
    },
    {
     "name": "stdout",
     "output_type": "stream",
     "text": [
      "[091/100]  test loss: 0.0682  D: 0.7109  D2: -0.0058  D3: 0.0129  D4: 0.0146\r"
     ]
    },
    {
     "name": "stderr",
     "output_type": "stream",
     "text": [
      "[default |INFO|model.py:2182] [23/80]  loss: 7.088659e-02  D: 6.974772e-01  D2: -6.063832e-03  D3: 1.354331e-02  D4: 1.470590e-02\n",
      "test loss: 6.798459e-02  D: 7.108673e-01  D2: -5.827627e-03  D3: 1.291483e-02  D4: 1.451586e-02\n"
     ]
    },
    {
     "name": "stdout",
     "output_type": "stream",
     "text": [
      "[089/100]  test loss: 0.0650  D: 0.6852  D2: -0.0068  D3: 0.0133  D4: 0.0147\r"
     ]
    },
    {
     "name": "stderr",
     "output_type": "stream",
     "text": [
      "[default |INFO|model.py:2182] [24/80]  loss: 7.128679e-02  D: 6.949051e-01  D2: -6.237542e-03  D3: 1.356412e-02  D4: 1.486531e-02\n",
      "test loss: 6.505108e-02  D: 6.852287e-01  D2: -6.624937e-03  D3: 1.325065e-02  D4: 1.471681e-02\n"
     ]
    },
    {
     "name": "stdout",
     "output_type": "stream",
     "text": [
      "[090/100]  test loss: 0.0694  D: 0.6687  D2: -0.0059  D3: 0.0111  D4: 0.0123\r"
     ]
    },
    {
     "name": "stderr",
     "output_type": "stream",
     "text": [
      "[default |INFO|model.py:2182] [25/80]  loss: 6.815118e-02  D: 6.956188e-01  D2: -6.334287e-03  D3: 1.370789e-02  D4: 1.483349e-02\n",
      "test loss: 6.924177e-02  D: 6.687240e-01  D2: -5.982609e-03  D3: 1.112261e-02  D4: 1.227935e-02\n"
     ]
    },
    {
     "name": "stdout",
     "output_type": "stream",
     "text": [
      "[091/100]  test loss: 0.0665  D: 0.6998  D2: -0.0061  D3: 0.0121  D4: 0.0134\r"
     ]
    },
    {
     "name": "stderr",
     "output_type": "stream",
     "text": [
      "[default |INFO|model.py:2182] [26/80]  loss: 6.977102e-02  D: 6.977049e-01  D2: -6.118900e-03  D3: 1.336383e-02  D4: 1.472132e-02\n",
      "test loss: 6.644423e-02  D: 6.998163e-01  D2: -6.055231e-03  D3: 1.208037e-02  D4: 1.333483e-02\n"
     ]
    },
    {
     "name": "stdout",
     "output_type": "stream",
     "text": [
      "[091/100]  test loss: 0.0664  D: 0.6975  D2: -0.0060  D3: 0.0135  D4: 0.0149\r"
     ]
    },
    {
     "name": "stderr",
     "output_type": "stream",
     "text": [
      "[default |INFO|model.py:2182] [27/80]  loss: 7.032971e-02  D: 6.940490e-01  D2: -6.387914e-03  D3: 1.374963e-02  D4: 1.517868e-02\n",
      "test loss: 6.646740e-02  D: 6.975187e-01  D2: -6.165934e-03  D3: 1.352328e-02  D4: 1.495923e-02\n"
     ]
    },
    {
     "name": "stdout",
     "output_type": "stream",
     "text": [
      "[091/100]  test loss: 0.0711  D: 0.6906  D2: -0.0066  D3: 0.0126  D4: 0.0142\r"
     ]
    },
    {
     "name": "stderr",
     "output_type": "stream",
     "text": [
      "[default |INFO|model.py:2182] [28/80]  loss: 6.789033e-02  D: 6.958544e-01  D2: -6.523918e-03  D3: 1.365504e-02  D4: 1.496602e-02\n",
      "test loss: 7.120539e-02  D: 6.905878e-01  D2: -6.604137e-03  D3: 1.260381e-02  D4: 1.418383e-02\n"
     ]
    },
    {
     "name": "stdout",
     "output_type": "stream",
     "text": [
      "[091/100]  test loss: 0.0661  D: 0.7019  D2: -0.0068  D3: 0.0118  D4: 0.0135\r"
     ]
    },
    {
     "name": "stderr",
     "output_type": "stream",
     "text": [
      "[default |INFO|model.py:2182] [29/80]  loss: 6.654444e-02  D: 6.952273e-01  D2: -6.581696e-03  D3: 1.392740e-02  D4: 1.526153e-02\n",
      "test loss: 6.608295e-02  D: 7.018736e-01  D2: -6.755180e-03  D3: 1.181210e-02  D4: 1.349162e-02\n"
     ]
    },
    {
     "name": "stdout",
     "output_type": "stream",
     "text": [
      "[100/100]  test loss: 0.0726  D: 0.6633  D2: -0.0066  D3: 0.0167  D4: 0.0178\r"
     ]
    },
    {
     "name": "stderr",
     "output_type": "stream",
     "text": [
      "[default |INFO|model.py:2182] [30/80]  loss: 6.662791e-02  D: 6.978072e-01  D2: -6.687261e-03  D3: 1.358931e-02  D4: 1.495411e-02\n",
      "test loss: 7.260911e-02  D: 6.633277e-01  D2: -6.641893e-03  D3: 1.668860e-02  D4: 1.784393e-02\n"
     ]
    },
    {
     "name": "stdout",
     "output_type": "stream",
     "text": [
      "[091/100]  test loss: 0.0596  D: 0.6984  D2: -0.0072  D3: 0.0122  D4: 0.0130\r"
     ]
    },
    {
     "name": "stderr",
     "output_type": "stream",
     "text": [
      "[default |INFO|model.py:2182] [31/80]  loss: 6.588797e-02  D: 6.936344e-01  D2: -6.848631e-03  D3: 1.341389e-02  D4: 1.479129e-02\n",
      "test loss: 5.985882e-02  D: 6.983103e-01  D2: -7.076855e-03  D3: 1.219187e-02  D4: 1.301995e-02\n"
     ]
    },
    {
     "name": "stdout",
     "output_type": "stream",
     "text": [
      "[091/100]  test loss: 0.0668  D: 0.6958  D2: -0.0071  D3: 0.0101  D4: 0.0110\r"
     ]
    },
    {
     "name": "stderr",
     "output_type": "stream",
     "text": [
      "[default |INFO|model.py:2182] [32/80]  loss: 6.643265e-02  D: 6.926644e-01  D2: -6.899478e-03  D3: 1.336084e-02  D4: 1.461640e-02\n",
      "test loss: 6.670082e-02  D: 6.958018e-01  D2: -7.154884e-03  D3: 1.008898e-02  D4: 1.112155e-02\n"
     ]
    },
    {
     "name": "stdout",
     "output_type": "stream",
     "text": [
      "[094/100]  test loss: 0.0607  D: 0.6860  D2: -0.0072  D3: 0.0150  D4: 0.0161\r"
     ]
    },
    {
     "name": "stderr",
     "output_type": "stream",
     "text": [
      "[default |INFO|model.py:2182] [33/80]  loss: 6.338013e-02  D: 6.953443e-01  D2: -6.919352e-03  D3: 1.363274e-02  D4: 1.491394e-02\n",
      "test loss: 6.097155e-02  D: 6.859941e-01  D2: -7.191267e-03  D3: 1.499005e-02  D4: 1.602221e-02\n"
     ]
    },
    {
     "name": "stdout",
     "output_type": "stream",
     "text": [
      "[091/100]  test loss: 0.0646  D: 0.6638  D2: -0.0077  D3: 0.0167  D4: 0.0175\r"
     ]
    },
    {
     "name": "stderr",
     "output_type": "stream",
     "text": [
      "[default |INFO|model.py:2182] [34/80]  loss: 6.286680e-02  D: 6.973187e-01  D2: -6.756318e-03  D3: 1.368656e-02  D4: 1.490420e-02\n",
      "test loss: 6.439734e-02  D: 6.638117e-01  D2: -7.634745e-03  D3: 1.663375e-02  D4: 1.745898e-02\n"
     ]
    },
    {
     "name": "stdout",
     "output_type": "stream",
     "text": [
      "[091/100]  test loss: 0.0628  D: 0.6961  D2: -0.0069  D3: 0.0098  D4: 0.0110\r"
     ]
    },
    {
     "name": "stderr",
     "output_type": "stream",
     "text": [
      "[default |INFO|model.py:2182] [35/80]  loss: 6.230317e-02  D: 6.946822e-01  D2: -7.100263e-03  D3: 1.323049e-02  D4: 1.446977e-02\n",
      "test loss: 6.252968e-02  D: 6.960776e-01  D2: -6.967468e-03  D3: 9.776027e-03  D4: 1.099641e-02\n"
     ]
    },
    {
     "name": "stdout",
     "output_type": "stream",
     "text": [
      "[093/100]  test loss: 0.0604  D: 0.7042  D2: -0.0073  D3: 0.0147  D4: 0.0161\r"
     ]
    },
    {
     "name": "stderr",
     "output_type": "stream",
     "text": [
      "[default |INFO|model.py:2182] [36/80]  loss: 6.546255e-02  D: 6.947092e-01  D2: -7.165008e-03  D3: 1.289811e-02  D4: 1.427876e-02\n",
      "test loss: 6.057518e-02  D: 7.041911e-01  D2: -7.343941e-03  D3: 1.461168e-02  D4: 1.597569e-02\n"
     ]
    },
    {
     "name": "stdout",
     "output_type": "stream",
     "text": [
      "[090/100]  test loss: 0.0568  D: 0.7260  D2: -0.0073  D3: 0.0150  D4: 0.0160\r"
     ]
    },
    {
     "name": "stderr",
     "output_type": "stream",
     "text": [
      "[default |INFO|model.py:2182] [37/80]  loss: 5.866058e-02  D: 6.948892e-01  D2: -7.382800e-03  D3: 1.410069e-02  D4: 1.550546e-02\n",
      "test loss: 5.692784e-02  D: 7.259866e-01  D2: -7.412109e-03  D3: 1.495331e-02  D4: 1.607446e-02\n"
     ]
    },
    {
     "name": "stdout",
     "output_type": "stream",
     "text": [
      "[091/100]  test loss: 0.0711  D: 0.7070  D2: -0.0077  D3: 0.0132  D4: 0.0144\r"
     ]
    },
    {
     "name": "stderr",
     "output_type": "stream",
     "text": [
      "[default |INFO|model.py:2182] [38/80]  loss: 5.981221e-02  D: 6.963797e-01  D2: -7.400796e-03  D3: 1.298979e-02  D4: 1.429930e-02\n",
      "test loss: 7.109299e-02  D: 7.070362e-01  D2: -7.481995e-03  D3: 1.319912e-02  D4: 1.445852e-02\n"
     ]
    },
    {
     "name": "stdout",
     "output_type": "stream",
     "text": [
      "[090/100]  test loss: 0.0592  D: 0.7023  D2: -0.0073  D3: 0.0128  D4: 0.0138\r"
     ]
    },
    {
     "name": "stderr",
     "output_type": "stream",
     "text": [
      "[default |INFO|model.py:2182] [39/80]  loss: 6.106596e-02  D: 6.938493e-01  D2: -7.220276e-03  D3: 1.382017e-02  D4: 1.498453e-02\n",
      "test loss: 5.923188e-02  D: 7.022849e-01  D2: -7.241869e-03  D3: 1.283734e-02  D4: 1.388998e-02\n"
     ]
    },
    {
     "name": "stdout",
     "output_type": "stream",
     "text": [
      "[090/100]  test loss: 0.0582  D: 0.6770  D2: -0.0071  D3: 0.0151  D4: 0.0159\r"
     ]
    },
    {
     "name": "stderr",
     "output_type": "stream",
     "text": [
      "[default |INFO|model.py:2182] [40/80]  loss: 5.876791e-02  D: 6.975129e-01  D2: -7.298077e-03  D3: 1.357711e-02  D4: 1.494143e-02\n",
      "test loss: 5.832800e-02  D: 6.770083e-01  D2: -7.181168e-03  D3: 1.510214e-02  D4: 1.584706e-02\n"
     ]
    },
    {
     "name": "stdout",
     "output_type": "stream",
     "text": [
      "[090/100]  test loss: 0.0638  D: 0.6993  D2: -0.0077  D3: 0.0147  D4: 0.0157\r"
     ]
    },
    {
     "name": "stderr",
     "output_type": "stream",
     "text": [
      "[default |INFO|model.py:2182] [41/80]  loss: 6.270354e-02  D: 6.935311e-01  D2: -7.447445e-03  D3: 1.280121e-02  D4: 1.409520e-02\n",
      "test loss: 6.395289e-02  D: 6.992151e-01  D2: -7.770977e-03  D3: 1.467433e-02  D4: 1.572374e-02\n"
     ]
    },
    {
     "name": "stdout",
     "output_type": "stream",
     "text": [
      "[093/100]  test loss: 0.0617  D: 0.6804  D2: -0.0075  D3: 0.0128  D4: 0.0144\r"
     ]
    },
    {
     "name": "stderr",
     "output_type": "stream",
     "text": [
      "[default |INFO|model.py:2182] [42/80]  loss: 6.122920e-02  D: 6.956555e-01  D2: -7.410591e-03  D3: 1.309093e-02  D4: 1.446574e-02\n",
      "test loss: 6.179617e-02  D: 6.804094e-01  D2: -7.554216e-03  D3: 1.284327e-02  D4: 1.436860e-02\n"
     ]
    },
    {
     "name": "stdout",
     "output_type": "stream",
     "text": [
      "[091/100]  test loss: 0.0643  D: 0.6813  D2: -0.0080  D3: 0.0119  D4: 0.0126\r"
     ]
    },
    {
     "name": "stderr",
     "output_type": "stream",
     "text": [
      "[default |INFO|model.py:2182] [43/80]  loss: 6.176524e-02  D: 6.964023e-01  D2: -7.536438e-03  D3: 1.348802e-02  D4: 1.470677e-02\n",
      "test loss: 6.431415e-02  D: 6.813542e-01  D2: -7.943583e-03  D3: 1.190169e-02  D4: 1.262824e-02\n"
     ]
    },
    {
     "name": "stdout",
     "output_type": "stream",
     "text": [
      "[100/100]  test loss: 0.0628  D: 0.6882  D2: -0.0069  D3: 0.0116  D4: 0.0129\r"
     ]
    },
    {
     "name": "stderr",
     "output_type": "stream",
     "text": [
      "[default |INFO|model.py:2182] [44/80]  loss: 6.208698e-02  D: 6.884560e-01  D2: -7.511064e-03  D3: 1.216255e-02  D4: 1.329660e-02\n",
      "test loss: 6.280326e-02  D: 6.882292e-01  D2: -6.903076e-03  D3: 1.156909e-02  D4: 1.294102e-02\n"
     ]
    },
    {
     "name": "stdout",
     "output_type": "stream",
     "text": [
      "[100/100]  test loss: 0.0617  D: 0.6865  D2: -0.0072  D3: 0.0124  D4: 0.0137\r"
     ]
    },
    {
     "name": "stderr",
     "output_type": "stream",
     "text": [
      "[default |INFO|model.py:2182] [45/80]  loss: 6.026939e-02  D: 6.982590e-01  D2: -7.580256e-03  D3: 1.328190e-02  D4: 1.459963e-02\n",
      "test loss: 6.167600e-02  D: 6.865307e-01  D2: -7.234535e-03  D3: 1.241856e-02  D4: 1.374394e-02\n"
     ]
    },
    {
     "name": "stdout",
     "output_type": "stream",
     "text": [
      "[091/100]  test loss: 0.0580  D: 0.6833  D2: -0.0073  D3: 0.0120  D4: 0.0135\r"
     ]
    },
    {
     "name": "stderr",
     "output_type": "stream",
     "text": [
      "[default |INFO|model.py:2182] [46/80]  loss: 5.877945e-02  D: 6.923682e-01  D2: -7.694446e-03  D3: 1.316840e-02  D4: 1.449157e-02\n",
      "test loss: 5.795666e-02  D: 6.832827e-01  D2: -7.292070e-03  D3: 1.199836e-02  D4: 1.344298e-02\n"
     ]
    },
    {
     "name": "stdout",
     "output_type": "stream",
     "text": [
      "[091/100]  test loss: 0.0592  D: 0.7124  D2: -0.0074  D3: 0.0141  D4: 0.0154\r"
     ]
    },
    {
     "name": "stderr",
     "output_type": "stream",
     "text": [
      "[default |INFO|model.py:2182] [47/80]  loss: 5.815051e-02  D: 6.961082e-01  D2: -7.665343e-03  D3: 1.296104e-02  D4: 1.441377e-02\n",
      "test loss: 5.925921e-02  D: 7.123892e-01  D2: -7.487993e-03  D3: 1.410798e-02  D4: 1.534503e-02\n"
     ]
    },
    {
     "name": "stdout",
     "output_type": "stream",
     "text": [
      "[091/100]  test loss: 0.0534  D: 0.7017  D2: -0.0081  D3: 0.0132  D4: 0.0145\r"
     ]
    },
    {
     "name": "stderr",
     "output_type": "stream",
     "text": [
      "[default |INFO|model.py:2182] [48/80]  loss: 5.710920e-02  D: 6.946578e-01  D2: -7.808394e-03  D3: 1.326203e-02  D4: 1.450601e-02\n",
      "test loss: 5.338198e-02  D: 7.016835e-01  D2: -7.982197e-03  D3: 1.314377e-02  D4: 1.451002e-02\n"
     ]
    },
    {
     "name": "stdout",
     "output_type": "stream",
     "text": [
      "[091/100]  test loss: 0.0530  D: 0.6753  D2: -0.0082  D3: 0.0127  D4: 0.0139\r"
     ]
    },
    {
     "name": "stderr",
     "output_type": "stream",
     "text": [
      "[default |INFO|model.py:2182] [49/80]  loss: 5.482529e-02  D: 6.936514e-01  D2: -7.873559e-03  D3: 1.330700e-02  D4: 1.457202e-02\n",
      "test loss: 5.303368e-02  D: 6.752528e-01  D2: -8.187342e-03  D3: 1.272074e-02  D4: 1.399049e-02\n"
     ]
    },
    {
     "name": "stdout",
     "output_type": "stream",
     "text": [
      "[090/100]  test loss: 0.0554  D: 0.6785  D2: -0.0083  D3: 0.0121  D4: 0.0135\r"
     ]
    },
    {
     "name": "stderr",
     "output_type": "stream",
     "text": [
      "[default |INFO|model.py:2182] [50/80]  loss: 5.617518e-02  D: 6.958027e-01  D2: -7.982384e-03  D3: 1.277399e-02  D4: 1.411274e-02\n",
      "test loss: 5.519994e-02  D: 6.785035e-01  D2: -8.219881e-03  D3: 1.209523e-02  D4: 1.347527e-02\n"
     ]
    },
    {
     "name": "stdout",
     "output_type": "stream",
     "text": [
      "[091/100]  test loss: 0.0565  D: 0.6910  D2: -0.0083  D3: 0.0098  D4: 0.0109\r"
     ]
    },
    {
     "name": "stderr",
     "output_type": "stream",
     "text": [
      "[default |INFO|model.py:2182] [51/80]  loss: 5.594059e-02  D: 6.941575e-01  D2: -7.969564e-03  D3: 1.284678e-02  D4: 1.417176e-02\n",
      "test loss: 5.656107e-02  D: 6.909639e-01  D2: -8.344631e-03  D3: 9.812524e-03  D4: 1.092306e-02\n"
     ]
    },
    {
     "name": "stdout",
     "output_type": "stream",
     "text": [
      "[100/100]  test loss: 0.0544  D: 0.6950  D2: -0.0081  D3: 0.0136  D4: 0.0150\r"
     ]
    },
    {
     "name": "stderr",
     "output_type": "stream",
     "text": [
      "[default |INFO|model.py:2182] [52/80]  loss: 5.544525e-02  D: 6.948549e-01  D2: -8.088376e-03  D3: 1.305471e-02  D4: 1.434636e-02\n",
      "test loss: 5.443256e-02  D: 6.949720e-01  D2: -8.142061e-03  D3: 1.358011e-02  D4: 1.495033e-02\n"
     ]
    },
    {
     "name": "stdout",
     "output_type": "stream",
     "text": [
      "[090/100]  test loss: 0.0583  D: 0.7018  D2: -0.0079  D3: 0.0162  D4: 0.0171\r"
     ]
    },
    {
     "name": "stderr",
     "output_type": "stream",
     "text": [
      "[default |INFO|model.py:2182] [53/80]  loss: 5.434001e-02  D: 6.942781e-01  D2: -8.153289e-03  D3: 1.306442e-02  D4: 1.435011e-02\n",
      "test loss: 5.824370e-02  D: 7.018841e-01  D2: -7.965479e-03  D3: 1.618390e-02  D4: 1.709512e-02\n"
     ]
    },
    {
     "name": "stdout",
     "output_type": "stream",
     "text": [
      "[091/100]  test loss: 0.0545  D: 0.7090  D2: -0.0081  D3: 0.0103  D4: 0.0114\r"
     ]
    },
    {
     "name": "stderr",
     "output_type": "stream",
     "text": [
      "[default |INFO|model.py:2182] [54/80]  loss: 5.391657e-02  D: 6.942771e-01  D2: -8.171104e-03  D3: 1.346667e-02  D4: 1.467546e-02\n",
      "test loss: 5.463743e-02  D: 7.090387e-01  D2: -8.138533e-03  D3: 1.031000e-02  D4: 1.150034e-02\n"
     ]
    },
    {
     "name": "stdout",
     "output_type": "stream",
     "text": [
      "[091/100]  test loss: 0.0546  D: 0.6913  D2: -0.0077  D3: 0.0150  D4: 0.0161\r"
     ]
    },
    {
     "name": "stderr",
     "output_type": "stream",
     "text": [
      "[default |INFO|model.py:2182] [55/80]  loss: 5.366741e-02  D: 6.956948e-01  D2: -8.240744e-03  D3: 1.303489e-02  D4: 1.420414e-02\n",
      "test loss: 5.467435e-02  D: 6.913205e-01  D2: -7.712269e-03  D3: 1.495226e-02  D4: 1.610090e-02\n"
     ]
    },
    {
     "name": "stdout",
     "output_type": "stream",
     "text": [
      "[090/100]  test loss: 0.0539  D: 0.7142  D2: -0.0083  D3: 0.0147  D4: 0.0159\r"
     ]
    },
    {
     "name": "stderr",
     "output_type": "stream",
     "text": [
      "[default |INFO|model.py:2182] [56/80]  loss: 5.218736e-02  D: 6.967159e-01  D2: -8.316100e-03  D3: 1.327088e-02  D4: 1.460688e-02\n",
      "test loss: 5.361984e-02  D: 7.142319e-01  D2: -8.327217e-03  D3: 1.472129e-02  D4: 1.585025e-02\n"
     ]
    },
    {
     "name": "stdout",
     "output_type": "stream",
     "text": [
      "[091/100]  test loss: 0.0567  D: 0.6829  D2: -0.0086  D3: 0.0122  D4: 0.0133\r"
     ]
    },
    {
     "name": "stderr",
     "output_type": "stream",
     "text": [
      "[default |INFO|model.py:2182] [57/80]  loss: 5.287831e-02  D: 6.919578e-01  D2: -8.374915e-03  D3: 1.289559e-02  D4: 1.408647e-02\n",
      "test loss: 5.671185e-02  D: 6.828288e-01  D2: -8.570719e-03  D3: 1.219054e-02  D4: 1.333687e-02\n"
     ]
    },
    {
     "name": "stdout",
     "output_type": "stream",
     "text": [
      "[090/100]  test loss: 0.0541  D: 0.6935  D2: -0.0086  D3: 0.0120  D4: 0.0134\r"
     ]
    },
    {
     "name": "stderr",
     "output_type": "stream",
     "text": [
      "[default |INFO|model.py:2182] [58/80]  loss: 5.204602e-02  D: 6.946483e-01  D2: -8.456470e-03  D3: 1.332026e-02  D4: 1.455370e-02\n",
      "test loss: 5.399383e-02  D: 6.935256e-01  D2: -8.561983e-03  D3: 1.206299e-02  D4: 1.343935e-02\n"
     ]
    },
    {
     "name": "stdout",
     "output_type": "stream",
     "text": [
      "[100/100]  test loss: 0.0537  D: 0.7072  D2: -0.0084  D3: 0.0147  D4: 0.0160\r"
     ]
    },
    {
     "name": "stderr",
     "output_type": "stream",
     "text": [
      "[default |INFO|model.py:2182] [59/80]  loss: 5.183723e-02  D: 6.953193e-01  D2: -8.510838e-03  D3: 1.291145e-02  D4: 1.416204e-02\n",
      "test loss: 5.365718e-02  D: 7.072340e-01  D2: -8.394909e-03  D3: 1.473288e-02  D4: 1.601763e-02\n"
     ]
    },
    {
     "name": "stdout",
     "output_type": "stream",
     "text": [
      "[100/100]  test loss: 0.0521  D: 0.6874  D2: -0.0087  D3: 0.0125  D4: 0.0138\r"
     ]
    },
    {
     "name": "stderr",
     "output_type": "stream",
     "text": [
      "[default |INFO|model.py:2182] [60/80]  loss: 5.128445e-02  D: 6.953956e-01  D2: -8.496596e-03  D3: 1.341231e-02  D4: 1.461643e-02\n",
      "test loss: 5.213887e-02  D: 6.873692e-01  D2: -8.717022e-03  D3: 1.254037e-02  D4: 1.375611e-02\n"
     ]
    },
    {
     "name": "stdout",
     "output_type": "stream",
     "text": [
      "[090/100]  test loss: 0.0521  D: 0.6699  D2: -0.0088  D3: 0.0120  D4: 0.0131\r"
     ]
    },
    {
     "name": "stderr",
     "output_type": "stream",
     "text": [
      "[default |INFO|model.py:2182] [61/80]  loss: 5.042072e-02  D: 6.937179e-01  D2: -8.618100e-03  D3: 1.313142e-02  D4: 1.433015e-02\n",
      "test loss: 5.230929e-02  D: 6.698769e-01  D2: -8.737917e-03  D3: 1.199493e-02  D4: 1.312761e-02\n"
     ]
    },
    {
     "name": "stdout",
     "output_type": "stream",
     "text": [
      "[100/100]  test loss: 0.0515  D: 0.6734  D2: -0.0087  D3: 0.0130  D4: 0.0144\r"
     ]
    },
    {
     "name": "stderr",
     "output_type": "stream",
     "text": [
      "[default |INFO|model.py:2182] [62/80]  loss: 5.058684e-02  D: 6.967172e-01  D2: -8.707705e-03  D3: 1.310137e-02  D4: 1.431533e-02\n",
      "test loss: 5.150767e-02  D: 6.734089e-01  D2: -8.693800e-03  D3: 1.302628e-02  D4: 1.444155e-02\n"
     ]
    },
    {
     "name": "stdout",
     "output_type": "stream",
     "text": [
      "[090/100]  test loss: 0.0505  D: 0.7007  D2: -0.0091  D3: 0.0125  D4: 0.0137\r"
     ]
    },
    {
     "name": "stderr",
     "output_type": "stream",
     "text": [
      "[default |INFO|model.py:2182] [63/80]  loss: 4.911242e-02  D: 6.932738e-01  D2: -8.609786e-03  D3: 1.333850e-02  D4: 1.461468e-02\n",
      "test loss: 5.046359e-02  D: 7.007251e-01  D2: -9.077368e-03  D3: 1.247150e-02  D4: 1.371570e-02\n"
     ]
    },
    {
     "name": "stdout",
     "output_type": "stream",
     "text": [
      "[100/100]  test loss: 0.0492  D: 0.6958  D2: -0.0090  D3: 0.0128  D4: 0.0140\r"
     ]
    },
    {
     "name": "stderr",
     "output_type": "stream",
     "text": [
      "[default |INFO|model.py:2182] [64/80]  loss: 4.978584e-02  D: 6.941742e-01  D2: -8.868481e-03  D3: 1.310774e-02  D4: 1.425974e-02\n",
      "test loss: 4.920610e-02  D: 6.958411e-01  D2: -9.009590e-03  D3: 1.275628e-02  D4: 1.396944e-02\n"
     ]
    },
    {
     "name": "stdout",
     "output_type": "stream",
     "text": [
      "[090/100]  test loss: 0.0503  D: 0.7059  D2: -0.0088  D3: 0.0142  D4: 0.0153\r"
     ]
    },
    {
     "name": "stderr",
     "output_type": "stream",
     "text": [
      "[default |INFO|model.py:2182] [65/80]  loss: 4.931758e-02  D: 6.939482e-01  D2: -8.776520e-03  D3: 1.314438e-02  D4: 1.435512e-02\n",
      "test loss: 5.051679e-02  D: 7.059572e-01  D2: -8.807917e-03  D3: 1.413476e-02  D4: 1.529907e-02\n"
     ]
    },
    {
     "name": "stdout",
     "output_type": "stream",
     "text": [
      "[091/100]  test loss: 0.0507  D: 0.6823  D2: -0.0089  D3: 0.0135  D4: 0.0147\r"
     ]
    },
    {
     "name": "stderr",
     "output_type": "stream",
     "text": [
      "[default |INFO|model.py:2182] [66/80]  loss: 4.946060e-02  D: 6.959284e-01  D2: -8.816916e-03  D3: 1.344268e-02  D4: 1.459728e-02\n",
      "test loss: 5.069011e-02  D: 6.822617e-01  D2: -8.897905e-03  D3: 1.351796e-02  D4: 1.465741e-02\n"
     ]
    },
    {
     "name": "stdout",
     "output_type": "stream",
     "text": [
      "[091/100]  test loss: 0.0490  D: 0.6900  D2: -0.0091  D3: 0.0129  D4: 0.0140\r"
     ]
    },
    {
     "name": "stderr",
     "output_type": "stream",
     "text": [
      "[default |INFO|model.py:2182] [67/80]  loss: 4.932574e-02  D: 6.949815e-01  D2: -8.874354e-03  D3: 1.295564e-02  D4: 1.418749e-02\n",
      "test loss: 4.907091e-02  D: 6.900674e-01  D2: -9.082079e-03  D3: 1.290935e-02  D4: 1.396923e-02\n"
     ]
    },
    {
     "name": "stdout",
     "output_type": "stream",
     "text": [
      "[091/100]  test loss: 0.0534  D: 0.6727  D2: -0.0082  D3: 0.0144  D4: 0.0154\r"
     ]
    },
    {
     "name": "stderr",
     "output_type": "stream",
     "text": [
      "[default |INFO|model.py:2182] [68/80]  loss: 5.019448e-02  D: 6.939876e-01  D2: -8.903712e-03  D3: 1.301200e-02  D4: 1.421235e-02\n",
      "test loss: 5.347976e-02  D: 6.726611e-01  D2: -8.254423e-03  D3: 1.434525e-02  D4: 1.539286e-02\n"
     ]
    },
    {
     "name": "stdout",
     "output_type": "stream",
     "text": [
      "[091/100]  test loss: 0.0504  D: 0.6970  D2: -0.0091  D3: 0.0118  D4: 0.0131\r"
     ]
    },
    {
     "name": "stderr",
     "output_type": "stream",
     "text": [
      "[default |INFO|model.py:2182] [69/80]  loss: 5.006718e-02  D: 6.944922e-01  D2: -8.970017e-03  D3: 1.310966e-02  D4: 1.426526e-02\n",
      "test loss: 5.044019e-02  D: 6.970937e-01  D2: -9.077044e-03  D3: 1.173072e-02  D4: 1.303546e-02\n"
     ]
    },
    {
     "name": "stdout",
     "output_type": "stream",
     "text": [
      "[090/100]  test loss: 0.0516  D: 0.6858  D2: -0.0092  D3: 0.0116  D4: 0.0128\r"
     ]
    },
    {
     "name": "stderr",
     "output_type": "stream",
     "text": [
      "[default |INFO|model.py:2182] [70/80]  loss: 5.008588e-02  D: 6.933068e-01  D2: -9.020092e-03  D3: 1.302765e-02  D4: 1.425252e-02\n",
      "test loss: 5.155318e-02  D: 6.857879e-01  D2: -9.209223e-03  D3: 1.162041e-02  D4: 1.282722e-02\n"
     ]
    },
    {
     "name": "stdout",
     "output_type": "stream",
     "text": [
      "[091/100]  test loss: 0.0483  D: 0.7104  D2: -0.0088  D3: 0.0138  D4: 0.0151\r"
     ]
    },
    {
     "name": "stderr",
     "output_type": "stream",
     "text": [
      "[default |INFO|model.py:2182] [71/80]  loss: 4.927089e-02  D: 6.970426e-01  D2: -9.043620e-03  D3: 1.301496e-02  D4: 1.426304e-02\n",
      "test loss: 4.830186e-02  D: 7.103979e-01  D2: -8.841639e-03  D3: 1.379420e-02  D4: 1.508359e-02\n"
     ]
    },
    {
     "name": "stdout",
     "output_type": "stream",
     "text": [
      "[090/100]  test loss: 0.0489  D: 0.7043  D2: -0.0091  D3: 0.0130  D4: 0.0143\r"
     ]
    },
    {
     "name": "stderr",
     "output_type": "stream",
     "text": [
      "[default |INFO|model.py:2182] [72/80]  loss: 4.829797e-02  D: 6.953127e-01  D2: -9.128242e-03  D3: 1.310854e-02  D4: 1.437521e-02\n",
      "test loss: 4.882386e-02  D: 7.042862e-01  D2: -9.104977e-03  D3: 1.302296e-02  D4: 1.429704e-02\n"
     ]
    },
    {
     "name": "stdout",
     "output_type": "stream",
     "text": [
      "[100/100]  test loss: 0.0500  D: 0.6811  D2: -0.0093  D3: 0.0128  D4: 0.0143\r"
     ]
    },
    {
     "name": "stderr",
     "output_type": "stream",
     "text": [
      "[default |INFO|model.py:2182] [73/80]  loss: 4.872264e-02  D: 6.938426e-01  D2: -9.121199e-03  D3: 1.300397e-02  D4: 1.422712e-02\n",
      "test loss: 5.001048e-02  D: 6.810873e-01  D2: -9.346113e-03  D3: 1.284004e-02  D4: 1.427253e-02\n"
     ]
    },
    {
     "name": "stdout",
     "output_type": "stream",
     "text": [
      "[091/100]  test loss: 0.0522  D: 0.6892  D2: -0.0088  D3: 0.0114  D4: 0.0125\r"
     ]
    },
    {
     "name": "stderr",
     "output_type": "stream",
     "text": [
      "[default |INFO|model.py:2182] [74/80]  loss: 4.803529e-02  D: 6.946837e-01  D2: -9.124084e-03  D3: 1.300219e-02  D4: 1.419252e-02\n",
      "test loss: 5.220894e-02  D: 6.892301e-01  D2: -8.853216e-03  D3: 1.141556e-02  D4: 1.251761e-02\n"
     ]
    },
    {
     "name": "stdout",
     "output_type": "stream",
     "text": [
      "[091/100]  test loss: 0.0496  D: 0.6937  D2: -0.0094  D3: 0.0146  D4: 0.0157\r"
     ]
    },
    {
     "name": "stderr",
     "output_type": "stream",
     "text": [
      "[default |INFO|model.py:2182] [75/80]  loss: 4.824462e-02  D: 6.949180e-01  D2: -9.169486e-03  D3: 1.278114e-02  D4: 1.396022e-02\n",
      "test loss: 4.975747e-02  D: 6.936504e-01  D2: -9.423218e-03  D3: 1.466871e-02  D4: 1.580137e-02\n"
     ]
    },
    {
     "name": "stdout",
     "output_type": "stream",
     "text": [
      "[091/100]  test loss: 0.0497  D: 0.6938  D2: -0.0090  D3: 0.0112  D4: 0.0125\r"
     ]
    },
    {
     "name": "stderr",
     "output_type": "stream",
     "text": [
      "[default |INFO|model.py:2182] [76/80]  loss: 4.890522e-02  D: 6.934338e-01  D2: -9.163562e-03  D3: 1.274041e-02  D4: 1.394556e-02\n",
      "test loss: 4.995139e-02  D: 6.938276e-01  D2: -9.012852e-03  D3: 1.115552e-02  D4: 1.255976e-02\n"
     ]
    },
    {
     "name": "stdout",
     "output_type": "stream",
     "text": [
      "[090/100]  test loss: 0.0494  D: 0.6645  D2: -0.0091  D3: 0.0119  D4: 0.0131\r"
     ]
    },
    {
     "name": "stderr",
     "output_type": "stream",
     "text": [
      "[default |INFO|model.py:2182] [77/80]  loss: 4.861673e-02  D: 6.947402e-01  D2: -9.162525e-03  D3: 1.294410e-02  D4: 1.410965e-02\n",
      "test loss: 4.956013e-02  D: 6.644577e-01  D2: -9.094515e-03  D3: 1.188988e-02  D4: 1.311813e-02\n"
     ]
    },
    {
     "name": "stdout",
     "output_type": "stream",
     "text": [
      "[094/100]  test loss: 0.0499  D: 0.6862  D2: -0.0095  D3: 0.0110  D4: 0.0123\r"
     ]
    },
    {
     "name": "stderr",
     "output_type": "stream",
     "text": [
      "[default |INFO|model.py:2182] [78/80]  loss: 4.901670e-02  D: 6.947919e-01  D2: -9.286928e-03  D3: 1.278035e-02  D4: 1.393525e-02\n",
      "test loss: 5.002388e-02  D: 6.861964e-01  D2: -9.471045e-03  D3: 1.105848e-02  D4: 1.229309e-02\n"
     ]
    },
    {
     "name": "stdout",
     "output_type": "stream",
     "text": [
      "[100/100]  test loss: 0.0499  D: 0.7109  D2: -0.0095  D3: 0.0148  D4: 0.0158\r"
     ]
    },
    {
     "name": "stderr",
     "output_type": "stream",
     "text": [
      "[default |INFO|model.py:2182] [79/80]  loss: 5.061309e-02  D: 6.958055e-01  D2: -9.257588e-03  D3: 1.236477e-02  D4: 1.348759e-02\n",
      "test loss: 4.987521e-02  D: 7.109118e-01  D2: -9.478788e-03  D3: 1.478253e-02  D4: 1.581059e-02\n"
     ]
    },
    {
     "name": "stdout",
     "output_type": "stream",
     "text": [
      "[090/100]  test loss: 0.0491  D: 0.6992  D2: -0.0095  D3: 0.0135  D4: 0.0148\r"
     ]
    },
    {
     "name": "stderr",
     "output_type": "stream",
     "text": [
      "[default |INFO|model.py:2182] [80/80]  loss: 4.757244e-02  D: 6.946928e-01  D2: -9.323074e-03  D3: 1.280342e-02  D4: 1.401870e-02\n",
      "test loss: 4.902591e-02  D: 6.991880e-01  D2: -9.492006e-03  D3: 1.351961e-02  D4: 1.479231e-02\n"
     ]
    },
    {
     "name": "stdout",
     "output_type": "stream",
     "text": [
      "[091/100]  test loss: 0.0491  D: 0.6992  D2: -0.0095  D3: 0.0135  D4: 0.0148\r",
      "[092/100]  test loss: 0.0491  D: 0.6992  D2: -0.0095  D3: 0.0135  D4: 0.0148\r",
      "[093/100]  test loss: 0.0491  D: 0.6992  D2: -0.0095  D3: 0.0135  D4: 0.0148\r",
      "[094/100]  test loss: 0.0491  D: 0.6992  D2: -0.0095  D3: 0.0135  D4: 0.0148\r",
      "[095/100]  test loss: 0.0491  D: 0.6992  D2: -0.0095  D3: 0.0135  D4: 0.0148\r",
      "[096/100]  test loss: 0.0491  D: 0.6992  D2: -0.0095  D3: 0.0135  D4: 0.0148\r",
      "[097/100]  test loss: 0.0491  D: 0.6992  D2: -0.0095  D3: 0.0135  D4: 0.0148\r",
      "[098/100]  test loss: 0.0490  D: 0.6992  D2: -0.0095  D3: 0.0135  D4: 0.0148\r",
      "[099/100]  test loss: 0.0490  D: 0.6992  D2: -0.0095  D3: 0.0135  D4: 0.0148\r",
      "[100/100]  test loss: 0.0490  D: 0.6992  D2: -0.0095  D3: 0.0135  D4: 0.0148\r"
     ]
    },
    {
     "name": "stderr",
     "output_type": "stream",
     "text": [
      "[default |INFO|model.py:2297] Training Finished!\n",
      "[default |INFO|model.py:2298] Elapsed time: 3085.427s\n"
     ]
    }
   ],
   "source": [
    "cfg = configparser.ConfigParser()\n",
    "cfg.read('./config/sswae_dev2_hsic_11.cfg')\n",
    "\n",
    "mm = cur_model(cfg, log, device = device)\n",
    "\n",
    "mm.gm.mu.load_state_dict(torch.load(f'./result/mu_{cfg[\"train_info\"][\"y_dim\"]}.pt'))\n",
    "mm.gm.cov.load_state_dict(torch.load(f'./result/cov_{cfg[\"train_info\"][\"y_dim\"]}.pt'))\n",
    "\n",
    "mm.train()\n",
    "# mm.load('./%s' % (cfg['path_info']['save_path']))"
   ]
  },
  {
   "cell_type": "markdown",
   "metadata": {},
   "source": [
    "# Train - 7"
   ]
  },
  {
   "cell_type": "code",
   "execution_count": 4,
   "metadata": {
    "scrolled": true
   },
   "outputs": [
    {
     "name": "stderr",
     "output_type": "stream",
     "text": [
      "[default |INFO|_base_model.py:27] ------------------------------------------------------------\n",
      "[default |INFO|_base_model.py:29] model_name : SSWAE_HSIC_MNIST\n",
      "[default |INFO|_base_model.py:29] train_data : rmMNIST\n",
      "[default |INFO|_base_model.py:29] train_data_label : True\n",
      "[default |INFO|_base_model.py:29] z_sampler : gaus\n",
      "[default |INFO|_base_model.py:29] z_dim : 12\n",
      "[default |INFO|_base_model.py:29] y_sampler : gaus\n",
      "[default |INFO|_base_model.py:29] y_dim : 4\n",
      "[default |INFO|_base_model.py:29] labeled_class : 0,1,2,3,4,5,6,7,8,9\n",
      "[default |INFO|_base_model.py:29] unlabeled_class : \n",
      "[default |INFO|_base_model.py:29] test_class : \n",
      "[default |INFO|_base_model.py:29] portion : 1.0\n",
      "[default |INFO|_base_model.py:29] unk : False\n",
      "[default |INFO|_base_model.py:29] encoder_pretrain : False\n",
      "[default |INFO|_base_model.py:29] encoder_pretrain_step : 3\n",
      "[default |INFO|_base_model.py:29] lr : 5e-4\n",
      "[default |INFO|_base_model.py:29] beta1 : 0.5\n",
      "[default |INFO|_base_model.py:29] lr_adv : 2e-4\n",
      "[default |INFO|_base_model.py:29] beta1_adv : 0.5\n",
      "[default |INFO|_base_model.py:29] lambda : 10.0\n",
      "[default |INFO|_base_model.py:29] lambda_mmd : 10.0\n",
      "[default |INFO|_base_model.py:29] lambda_hsic : 10.0\n",
      "[default |INFO|_base_model.py:29] lr_schedule : manual\n",
      "[default |INFO|_base_model.py:29] validate : True\n",
      "[default |INFO|_base_model.py:29] histogram : True\n",
      "[default |INFO|_base_model.py:29] batch_size : 100\n",
      "[default |INFO|_base_model.py:29] epoch : 80\n",
      "[default |INFO|_base_model.py:29] replace : False\n",
      "[default |INFO|_base_model.py:29] save_best : False\n",
      "[default |INFO|_base_model.py:32] data_home : ./data/MNIST\n",
      "[default |INFO|_base_model.py:32] tb_logs : \n",
      "[default |INFO|_base_model.py:32] save_path : ./result/weights/sswae_dev2_hsic_12.pt\n",
      "[default |INFO|_base_model.py:32] save_state : ./result/states/sswae_dev2_hsic_12.pt\n",
      "[default |INFO|_base_model.py:32] save_img_path : \n",
      "[default |INFO|model.py:2061] ------------------------------------------------------------\n",
      "[default |INFO|model.py:2062] Training Start!\n"
     ]
    },
    {
     "name": "stdout",
     "output_type": "stream",
     "text": [
      "[090/100]  test loss: 0.1669  D: 0.6962  D2: 0.0031  D3: 0.0050  D4: 0.00446\r"
     ]
    },
    {
     "name": "stderr",
     "output_type": "stream",
     "text": [
      "[default |INFO|model.py:2182] [01/80]  loss: 2.324156e-01  D: 6.914678e-01  D2: 1.909788e-02  D3: 2.415448e-03  D4: 2.503099e-03\n",
      "test loss: 1.667753e-01  D: 6.962174e-01  D2: 3.061819e-03  D3: 4.965061e-03  D4: 4.499361e-03\n"
     ]
    },
    {
     "name": "stdout",
     "output_type": "stream",
     "text": [
      "[093/100]  test loss: 0.1357  D: 0.7050  D2: 0.0006  D3: 0.0048  D4: 0.00533\r"
     ]
    },
    {
     "name": "stderr",
     "output_type": "stream",
     "text": [
      "[default |INFO|model.py:2182] [02/80]  loss: 1.488529e-01  D: 6.933139e-01  D2: 1.630441e-03  D3: 4.449162e-03  D4: 5.070034e-03\n",
      "test loss: 1.356008e-01  D: 7.050297e-01  D2: 5.912399e-04  D3: 4.827440e-03  D4: 5.308845e-03\n"
     ]
    },
    {
     "name": "stdout",
     "output_type": "stream",
     "text": [
      "[091/100]  test loss: 0.1148  D: 0.6848  D2: -0.0042  D3: 0.0045  D4: 0.0053\r"
     ]
    },
    {
     "name": "stderr",
     "output_type": "stream",
     "text": [
      "[default |INFO|model.py:2182] [03/80]  loss: 1.343025e-01  D: 6.964953e-01  D2: -1.929576e-03  D3: 5.259156e-03  D4: 5.697532e-03\n",
      "test loss: 1.147910e-01  D: 6.847943e-01  D2: -3.961468e-03  D3: 4.466966e-03  D4: 5.430164e-03\n"
     ]
    },
    {
     "name": "stdout",
     "output_type": "stream",
     "text": [
      "[091/100]  test loss: 0.1196  D: 0.7129  D2: -0.0045  D3: 0.0075  D4: 0.0083\r"
     ]
    },
    {
     "name": "stderr",
     "output_type": "stream",
     "text": [
      "[default |INFO|model.py:2182] [04/80]  loss: 1.203926e-01  D: 6.957486e-01  D2: -3.977785e-03  D3: 6.220776e-03  D4: 6.534706e-03\n",
      "test loss: 1.191616e-01  D: 7.129769e-01  D2: -4.420795e-03  D3: 7.472776e-03  D4: 8.302690e-03\n"
     ]
    },
    {
     "name": "stdout",
     "output_type": "stream",
     "text": [
      "[090/100]  test loss: 0.1039  D: 0.6805  D2: -0.0046  D3: 0.0111  D4: 0.0116\r"
     ]
    },
    {
     "name": "stderr",
     "output_type": "stream",
     "text": [
      "[default |INFO|model.py:2182] [05/80]  loss: 1.104858e-01  D: 6.986083e-01  D2: -4.025931e-03  D3: 7.646708e-03  D4: 7.852772e-03\n",
      "test loss: 1.039611e-01  D: 6.804878e-01  D2: -4.656973e-03  D3: 1.105165e-02  D4: 1.156647e-02\n"
     ]
    },
    {
     "name": "stdout",
     "output_type": "stream",
     "text": [
      "[100/100]  test loss: 0.1059  D: 0.6822  D2: -0.0043  D3: 0.0151  D4: 0.0151\r"
     ]
    },
    {
     "name": "stderr",
     "output_type": "stream",
     "text": [
      "[default |INFO|model.py:2182] [06/80]  loss: 1.073985e-01  D: 7.005789e-01  D2: -4.122516e-03  D3: 1.104722e-02  D4: 1.183339e-02\n",
      "test loss: 1.058987e-01  D: 6.821777e-01  D2: -4.324598e-03  D3: 1.512908e-02  D4: 1.513051e-02\n"
     ]
    },
    {
     "name": "stdout",
     "output_type": "stream",
     "text": [
      "[090/100]  test loss: 0.1054  D: 0.7511  D2: -0.0034  D3: 0.0145  D4: 0.0150\r"
     ]
    },
    {
     "name": "stderr",
     "output_type": "stream",
     "text": [
      "[default |INFO|model.py:2182] [07/80]  loss: 1.068680e-01  D: 7.051109e-01  D2: -3.834084e-03  D3: 1.330561e-02  D4: 1.423959e-02\n",
      "test loss: 1.051495e-01  D: 7.510587e-01  D2: -3.559933e-03  D3: 1.436114e-02  D4: 1.500637e-02\n"
     ]
    },
    {
     "name": "stdout",
     "output_type": "stream",
     "text": [
      "[091/100]  test loss: 0.0908  D: 0.7003  D2: -0.0033  D3: 0.0146  D4: 0.0159\r"
     ]
    },
    {
     "name": "stderr",
     "output_type": "stream",
     "text": [
      "[default |INFO|model.py:2182] [08/80]  loss: 9.990607e-02  D: 6.964203e-01  D2: -4.231412e-03  D3: 1.338878e-02  D4: 1.444287e-02\n",
      "test loss: 9.085838e-02  D: 7.002613e-01  D2: -3.491831e-03  D3: 1.463364e-02  D4: 1.593559e-02\n"
     ]
    },
    {
     "name": "stdout",
     "output_type": "stream",
     "text": [
      "[090/100]  test loss: 0.0832  D: 0.7031  D2: -0.0043  D3: 0.0153  D4: 0.0161\r"
     ]
    },
    {
     "name": "stderr",
     "output_type": "stream",
     "text": [
      "[default |INFO|model.py:2182] [09/80]  loss: 9.268326e-02  D: 6.984932e-01  D2: -4.292765e-03  D3: 1.523766e-02  D4: 1.619854e-02\n",
      "test loss: 8.325980e-02  D: 7.030869e-01  D2: -4.244881e-03  D3: 1.528643e-02  D4: 1.595422e-02\n"
     ]
    },
    {
     "name": "stdout",
     "output_type": "stream",
     "text": [
      "[090/100]  test loss: 0.0751  D: 0.6899  D2: -0.0048  D3: 0.0150  D4: 0.0163\r"
     ]
    },
    {
     "name": "stderr",
     "output_type": "stream",
     "text": [
      "[default |INFO|model.py:2182] [10/80]  loss: 8.006144e-02  D: 6.943558e-01  D2: -4.233613e-03  D3: 1.486165e-02  D4: 1.600383e-02\n",
      "test loss: 7.503676e-02  D: 6.899142e-01  D2: -4.666128e-03  D3: 1.492875e-02  D4: 1.623361e-02\n"
     ]
    },
    {
     "name": "stdout",
     "output_type": "stream",
     "text": [
      "[091/100]  test loss: 0.0702  D: 0.7003  D2: -0.0046  D3: 0.0139  D4: 0.0151\r"
     ]
    },
    {
     "name": "stderr",
     "output_type": "stream",
     "text": [
      "[default |INFO|model.py:2182] [11/80]  loss: 7.624078e-02  D: 6.944410e-01  D2: -4.683741e-03  D3: 1.526253e-02  D4: 1.636995e-02\n",
      "test loss: 6.993599e-02  D: 7.003033e-01  D2: -4.741793e-03  D3: 1.394097e-02  D4: 1.507384e-02\n"
     ]
    },
    {
     "name": "stdout",
     "output_type": "stream",
     "text": [
      "[090/100]  test loss: 0.0722  D: 0.6943  D2: -0.0045  D3: 0.0120  D4: 0.0131\r"
     ]
    },
    {
     "name": "stderr",
     "output_type": "stream",
     "text": [
      "[default |INFO|model.py:2182] [12/80]  loss: 7.345906e-02  D: 6.953690e-01  D2: -4.695635e-03  D3: 1.424275e-02  D4: 1.523056e-02\n",
      "test loss: 7.247387e-02  D: 6.942306e-01  D2: -4.447584e-03  D3: 1.192317e-02  D4: 1.299025e-02\n"
     ]
    },
    {
     "name": "stdout",
     "output_type": "stream",
     "text": [
      "[090/100]  test loss: 0.0797  D: 0.7270  D2: -0.0036  D3: 0.0149  D4: 0.0158\r"
     ]
    },
    {
     "name": "stderr",
     "output_type": "stream",
     "text": [
      "[default |INFO|model.py:2182] [13/80]  loss: 7.768940e-02  D: 6.962952e-01  D2: -4.629494e-03  D3: 1.448196e-02  D4: 1.557769e-02\n",
      "test loss: 7.981945e-02  D: 7.269891e-01  D2: -3.548746e-03  D3: 1.481698e-02  D4: 1.589020e-02\n"
     ]
    },
    {
     "name": "stdout",
     "output_type": "stream",
     "text": [
      "[093/100]  test loss: 0.0815  D: 0.6855  D2: -0.0045  D3: 0.0121  D4: 0.0132\r"
     ]
    },
    {
     "name": "stderr",
     "output_type": "stream",
     "text": [
      "[default |INFO|model.py:2182] [14/80]  loss: 7.725427e-02  D: 6.951558e-01  D2: -4.576186e-03  D3: 1.379780e-02  D4: 1.496124e-02\n",
      "test loss: 8.160002e-02  D: 6.854626e-01  D2: -4.418116e-03  D3: 1.208711e-02  D4: 1.322985e-02\n"
     ]
    },
    {
     "name": "stdout",
     "output_type": "stream",
     "text": [
      "[091/100]  test loss: 0.0672  D: 0.6771  D2: -0.0044  D3: 0.0157  D4: 0.0167\r"
     ]
    },
    {
     "name": "stderr",
     "output_type": "stream",
     "text": [
      "[default |INFO|model.py:2182] [15/80]  loss: 7.424295e-02  D: 6.952315e-01  D2: -4.962940e-03  D3: 1.399363e-02  D4: 1.512123e-02\n",
      "test loss: 6.707372e-02  D: 6.771286e-01  D2: -4.456940e-03  D3: 1.561390e-02  D4: 1.661246e-02\n"
     ]
    },
    {
     "name": "stdout",
     "output_type": "stream",
     "text": [
      "[090/100]  test loss: 0.0775  D: 0.6745  D2: -0.0053  D3: 0.0152  D4: 0.0164\r"
     ]
    },
    {
     "name": "stderr",
     "output_type": "stream",
     "text": [
      "[default |INFO|model.py:2182] [16/80]  loss: 6.813629e-02  D: 6.954896e-01  D2: -5.054448e-03  D3: 1.384776e-02  D4: 1.507211e-02\n",
      "test loss: 7.755372e-02  D: 6.744952e-01  D2: -5.291214e-03  D3: 1.514224e-02  D4: 1.632337e-02\n"
     ]
    },
    {
     "name": "stdout",
     "output_type": "stream",
     "text": [
      "[090/100]  test loss: 0.0640  D: 0.7078  D2: -0.0050  D3: 0.0138  D4: 0.0155\r"
     ]
    },
    {
     "name": "stderr",
     "output_type": "stream",
     "text": [
      "[default |INFO|model.py:2182] [17/80]  loss: 7.526975e-02  D: 6.963136e-01  D2: -5.124780e-03  D3: 1.479642e-02  D4: 1.577744e-02\n",
      "test loss: 6.388500e-02  D: 7.078088e-01  D2: -4.979954e-03  D3: 1.383545e-02  D4: 1.543040e-02\n"
     ]
    },
    {
     "name": "stdout",
     "output_type": "stream",
     "text": [
      "[091/100]  test loss: 0.0762  D: 0.7033  D2: -0.0050  D3: 0.0103  D4: 0.0118\r"
     ]
    },
    {
     "name": "stderr",
     "output_type": "stream",
     "text": [
      "[default |INFO|model.py:2182] [18/80]  loss: 6.734057e-02  D: 6.956286e-01  D2: -5.143590e-03  D3: 1.420942e-02  D4: 1.558555e-02\n",
      "test loss: 7.611736e-02  D: 7.033381e-01  D2: -5.040092e-03  D3: 1.035192e-02  D4: 1.179271e-02\n"
     ]
    },
    {
     "name": "stdout",
     "output_type": "stream",
     "text": [
      "[091/100]  test loss: 0.0641  D: 0.6849  D2: -0.0053  D3: 0.0143  D4: 0.0154\r"
     ]
    },
    {
     "name": "stderr",
     "output_type": "stream",
     "text": [
      "[default |INFO|model.py:2182] [19/80]  loss: 7.215495e-02  D: 6.959293e-01  D2: -5.227335e-03  D3: 1.420256e-02  D4: 1.527145e-02\n",
      "test loss: 6.415841e-02  D: 6.849093e-01  D2: -5.143204e-03  D3: 1.434523e-02  D4: 1.545475e-02\n"
     ]
    },
    {
     "name": "stdout",
     "output_type": "stream",
     "text": [
      "[091/100]  test loss: 0.0650  D: 0.6972  D2: -0.0054  D3: 0.0157  D4: 0.0172\r"
     ]
    },
    {
     "name": "stderr",
     "output_type": "stream",
     "text": [
      "[default |INFO|model.py:2182] [20/80]  loss: 6.528196e-02  D: 6.971151e-01  D2: -5.413842e-03  D3: 1.387830e-02  D4: 1.515280e-02\n",
      "test loss: 6.496059e-02  D: 6.972206e-01  D2: -5.448380e-03  D3: 1.567311e-02  D4: 1.716302e-02\n"
     ]
    },
    {
     "name": "stdout",
     "output_type": "stream",
     "text": [
      "[093/100]  test loss: 0.0814  D: 0.7045  D2: -0.0059  D3: 0.0083  D4: 0.0101\r"
     ]
    },
    {
     "name": "stderr",
     "output_type": "stream",
     "text": [
      "[default |INFO|model.py:2182] [21/80]  loss: 6.799052e-02  D: 6.960175e-01  D2: -5.492630e-03  D3: 1.326563e-02  D4: 1.446781e-02\n",
      "test loss: 8.165505e-02  D: 7.045330e-01  D2: -5.861740e-03  D3: 8.284471e-03  D4: 1.014449e-02\n"
     ]
    },
    {
     "name": "stdout",
     "output_type": "stream",
     "text": [
      "[100/100]  test loss: 0.0572  D: 0.6973  D2: -0.0058  D3: 0.0125  D4: 0.0135\r"
     ]
    },
    {
     "name": "stderr",
     "output_type": "stream",
     "text": [
      "[default |INFO|model.py:2182] [22/80]  loss: 6.652643e-02  D: 6.949252e-01  D2: -5.309671e-03  D3: 1.429172e-02  D4: 1.548341e-02\n",
      "test loss: 5.716733e-02  D: 6.973173e-01  D2: -5.754156e-03  D3: 1.252722e-02  D4: 1.353492e-02\n"
     ]
    },
    {
     "name": "stdout",
     "output_type": "stream",
     "text": [
      "[100/100]  test loss: 0.0664  D: 0.6871  D2: -0.0061  D3: 0.0128  D4: 0.0136\r"
     ]
    },
    {
     "name": "stderr",
     "output_type": "stream",
     "text": [
      "[default |INFO|model.py:2182] [23/80]  loss: 6.320861e-02  D: 6.970735e-01  D2: -5.569650e-03  D3: 1.362222e-02  D4: 1.479202e-02\n",
      "test loss: 6.635465e-02  D: 6.871411e-01  D2: -6.131477e-03  D3: 1.283912e-02  D4: 1.362888e-02\n"
     ]
    },
    {
     "name": "stdout",
     "output_type": "stream",
     "text": [
      "[091/100]  test loss: 0.0631  D: 0.6892  D2: -0.0058  D3: 0.0151  D4: 0.0163\r"
     ]
    },
    {
     "name": "stderr",
     "output_type": "stream",
     "text": [
      "[default |INFO|model.py:2182] [24/80]  loss: 7.019392e-02  D: 6.977433e-01  D2: -5.563386e-03  D3: 1.364727e-02  D4: 1.485463e-02\n",
      "test loss: 6.295398e-02  D: 6.892169e-01  D2: -5.797024e-03  D3: 1.505547e-02  D4: 1.630301e-02\n"
     ]
    },
    {
     "name": "stdout",
     "output_type": "stream",
     "text": [
      "[090/100]  test loss: 0.0639  D: 0.7062  D2: -0.0062  D3: 0.0126  D4: 0.0142\r"
     ]
    },
    {
     "name": "stderr",
     "output_type": "stream",
     "text": [
      "[default |INFO|model.py:2182] [25/80]  loss: 6.294449e-02  D: 6.949620e-01  D2: -6.015363e-03  D3: 1.408366e-02  D4: 1.534081e-02\n",
      "test loss: 6.404243e-02  D: 7.062121e-01  D2: -6.262293e-03  D3: 1.259114e-02  D4: 1.409930e-02\n"
     ]
    },
    {
     "name": "stdout",
     "output_type": "stream",
     "text": [
      "[100/100]  test loss: 0.0569  D: 0.6808  D2: -0.0063  D3: 0.0142  D4: 0.0158\r"
     ]
    },
    {
     "name": "stderr",
     "output_type": "stream",
     "text": [
      "[default |INFO|model.py:2182] [26/80]  loss: 6.100792e-02  D: 6.935027e-01  D2: -6.029495e-03  D3: 1.412897e-02  D4: 1.538371e-02\n",
      "test loss: 5.688318e-02  D: 6.807786e-01  D2: -6.345558e-03  D3: 1.422637e-02  D4: 1.581486e-02\n"
     ]
    },
    {
     "name": "stdout",
     "output_type": "stream",
     "text": [
      "[100/100]  test loss: 0.0580  D: 0.6521  D2: -0.0063  D3: 0.0144  D4: 0.0151\r"
     ]
    },
    {
     "name": "stderr",
     "output_type": "stream",
     "text": [
      "[default |INFO|model.py:2182] [27/80]  loss: 5.553329e-02  D: 6.968370e-01  D2: -6.155512e-03  D3: 1.347883e-02  D4: 1.491089e-02\n",
      "test loss: 5.796986e-02  D: 6.521491e-01  D2: -6.288910e-03  D3: 1.439362e-02  D4: 1.508928e-02\n"
     ]
    },
    {
     "name": "stdout",
     "output_type": "stream",
     "text": [
      "[091/100]  test loss: 0.0542  D: 0.6984  D2: -0.0064  D3: 0.0149  D4: 0.0157\r"
     ]
    },
    {
     "name": "stderr",
     "output_type": "stream",
     "text": [
      "[default |INFO|model.py:2182] [28/80]  loss: 5.831520e-02  D: 6.969845e-01  D2: -6.280683e-03  D3: 1.425889e-02  D4: 1.555831e-02\n",
      "test loss: 5.447177e-02  D: 6.983756e-01  D2: -6.310797e-03  D3: 1.481696e-02  D4: 1.567803e-02\n"
     ]
    },
    {
     "name": "stdout",
     "output_type": "stream",
     "text": [
      "[091/100]  test loss: 0.0594  D: 0.7223  D2: -0.0062  D3: 0.0149  D4: 0.0161\r"
     ]
    },
    {
     "name": "stderr",
     "output_type": "stream",
     "text": [
      "[default |INFO|model.py:2182] [29/80]  loss: 6.024771e-02  D: 6.962673e-01  D2: -6.261738e-03  D3: 1.384037e-02  D4: 1.508405e-02\n",
      "test loss: 5.935958e-02  D: 7.223170e-01  D2: -6.194515e-03  D3: 1.488028e-02  D4: 1.601508e-02\n"
     ]
    },
    {
     "name": "stdout",
     "output_type": "stream",
     "text": [
      "[100/100]  test loss: 0.0537  D: 0.6875  D2: -0.0068  D3: 0.0150  D4: 0.0161\r"
     ]
    },
    {
     "name": "stderr",
     "output_type": "stream",
     "text": [
      "[default |INFO|model.py:2182] [30/80]  loss: 6.162317e-02  D: 6.982657e-01  D2: -6.355850e-03  D3: 1.344125e-02  D4: 1.461811e-02\n",
      "test loss: 5.366557e-02  D: 6.874644e-01  D2: -6.756372e-03  D3: 1.496785e-02  D4: 1.613981e-02\n"
     ]
    },
    {
     "name": "stdout",
     "output_type": "stream",
     "text": [
      "[100/100]  test loss: 0.0593  D: 0.6945  D2: -0.0063  D3: 0.0127  D4: 0.0139\r"
     ]
    },
    {
     "name": "stderr",
     "output_type": "stream",
     "text": [
      "[default |INFO|model.py:2182] [31/80]  loss: 5.817577e-02  D: 6.959860e-01  D2: -6.223157e-03  D3: 1.379401e-02  D4: 1.507135e-02\n",
      "test loss: 5.926292e-02  D: 6.945213e-01  D2: -6.299210e-03  D3: 1.273976e-02  D4: 1.393798e-02\n"
     ]
    },
    {
     "name": "stdout",
     "output_type": "stream",
     "text": [
      "[091/100]  test loss: 0.0553  D: 0.7101  D2: -0.0064  D3: 0.0148  D4: 0.0163\r"
     ]
    },
    {
     "name": "stderr",
     "output_type": "stream",
     "text": [
      "[default |INFO|model.py:2182] [32/80]  loss: 5.642656e-02  D: 6.966184e-01  D2: -6.429928e-03  D3: 1.418088e-02  D4: 1.548728e-02\n",
      "test loss: 5.520601e-02  D: 7.100490e-01  D2: -6.422186e-03  D3: 1.475527e-02  D4: 1.626595e-02\n"
     ]
    },
    {
     "name": "stdout",
     "output_type": "stream",
     "text": [
      "[096/100]  test loss: 0.0545  D: 0.6916  D2: -0.0069  D3: 0.0113  D4: 0.0123\r"
     ]
    },
    {
     "name": "stderr",
     "output_type": "stream",
     "text": [
      "[default |INFO|model.py:2182] [33/80]  loss: 5.388269e-02  D: 6.950681e-01  D2: -6.559129e-03  D3: 1.397245e-02  D4: 1.523655e-02\n",
      "test loss: 5.436509e-02  D: 6.916147e-01  D2: -6.880264e-03  D3: 1.130201e-02  D4: 1.230367e-02\n"
     ]
    },
    {
     "name": "stdout",
     "output_type": "stream",
     "text": [
      "[096/100]  test loss: 0.0515  D: 0.6846  D2: -0.0070  D3: 0.0127  D4: 0.0135\r"
     ]
    },
    {
     "name": "stderr",
     "output_type": "stream",
     "text": [
      "[default |INFO|model.py:2182] [34/80]  loss: 5.412328e-02  D: 6.976813e-01  D2: -6.661906e-03  D3: 1.445860e-02  D4: 1.569543e-02\n",
      "test loss: 5.143987e-02  D: 6.846189e-01  D2: -7.097530e-03  D3: 1.270950e-02  D4: 1.351386e-02\n"
     ]
    },
    {
     "name": "stdout",
     "output_type": "stream",
     "text": [
      "[100/100]  test loss: 0.0561  D: 0.7221  D2: -0.0069  D3: 0.0108  D4: 0.0121\r"
     ]
    },
    {
     "name": "stderr",
     "output_type": "stream",
     "text": [
      "[default |INFO|model.py:2182] [35/80]  loss: 5.504081e-02  D: 6.972820e-01  D2: -6.865614e-03  D3: 1.360198e-02  D4: 1.474275e-02\n",
      "test loss: 5.607140e-02  D: 7.221248e-01  D2: -6.871815e-03  D3: 1.084401e-02  D4: 1.214281e-02\n"
     ]
    },
    {
     "name": "stdout",
     "output_type": "stream",
     "text": [
      "[100/100]  test loss: 0.0524  D: 0.6957  D2: -0.0065  D3: 0.0139  D4: 0.0153\r"
     ]
    },
    {
     "name": "stderr",
     "output_type": "stream",
     "text": [
      "[default |INFO|model.py:2182] [36/80]  loss: 5.290281e-02  D: 6.949728e-01  D2: -6.961500e-03  D3: 1.361773e-02  D4: 1.496116e-02\n",
      "test loss: 5.244565e-02  D: 6.957453e-01  D2: -6.541348e-03  D3: 1.394632e-02  D4: 1.525822e-02\n"
     ]
    },
    {
     "name": "stdout",
     "output_type": "stream",
     "text": [
      "[097/100]  test loss: 0.0507  D: 0.6885  D2: -0.0072  D3: 0.0147  D4: 0.0160\r"
     ]
    },
    {
     "name": "stderr",
     "output_type": "stream",
     "text": [
      "[default |INFO|model.py:2182] [37/80]  loss: 5.185202e-02  D: 6.938968e-01  D2: -7.033296e-03  D3: 1.386541e-02  D4: 1.506704e-02\n",
      "test loss: 5.070050e-02  D: 6.884227e-01  D2: -7.196579e-03  D3: 1.471806e-02  D4: 1.600448e-02\n"
     ]
    },
    {
     "name": "stdout",
     "output_type": "stream",
     "text": [
      "[096/100]  test loss: 0.0498  D: 0.6771  D2: -0.0070  D3: 0.0127  D4: 0.0137\r"
     ]
    },
    {
     "name": "stderr",
     "output_type": "stream",
     "text": [
      "[default |INFO|model.py:2182] [38/80]  loss: 4.972010e-02  D: 6.956367e-01  D2: -7.088540e-03  D3: 1.360157e-02  D4: 1.485983e-02\n",
      "test loss: 4.986686e-02  D: 6.771663e-01  D2: -7.144728e-03  D3: 1.270494e-02  D4: 1.364214e-02\n"
     ]
    },
    {
     "name": "stdout",
     "output_type": "stream",
     "text": [
      "[093/100]  test loss: 0.0484  D: 0.7124  D2: -0.0076  D3: 0.0119  D4: 0.0132\r"
     ]
    },
    {
     "name": "stderr",
     "output_type": "stream",
     "text": [
      "[default |INFO|model.py:2182] [39/80]  loss: 5.107590e-02  D: 6.958866e-01  D2: -7.314734e-03  D3: 1.375718e-02  D4: 1.506237e-02\n",
      "test loss: 4.847842e-02  D: 7.123851e-01  D2: -7.482100e-03  D3: 1.194390e-02  D4: 1.319316e-02\n"
     ]
    },
    {
     "name": "stdout",
     "output_type": "stream",
     "text": [
      "[094/100]  test loss: 0.0494  D: 0.6996  D2: -0.0077  D3: 0.0134  D4: 0.0145\r"
     ]
    },
    {
     "name": "stderr",
     "output_type": "stream",
     "text": [
      "[default |INFO|model.py:2182] [40/80]  loss: 4.920917e-02  D: 6.948154e-01  D2: -7.302923e-03  D3: 1.399926e-02  D4: 1.519660e-02\n",
      "test loss: 4.957259e-02  D: 6.996081e-01  D2: -7.765150e-03  D3: 1.346916e-02  D4: 1.454052e-02\n"
     ]
    },
    {
     "name": "stdout",
     "output_type": "stream",
     "text": [
      "[100/100]  test loss: 0.0558  D: 0.7155  D2: -0.0062  D3: 0.0167  D4: 0.0184\r"
     ]
    },
    {
     "name": "stderr",
     "output_type": "stream",
     "text": [
      "[default |INFO|model.py:2182] [41/80]  loss: 5.272661e-02  D: 6.966076e-01  D2: -7.493925e-03  D3: 1.345024e-02  D4: 1.453238e-02\n",
      "test loss: 5.583473e-02  D: 7.155415e-01  D2: -6.212273e-03  D3: 1.671825e-02  D4: 1.836045e-02\n"
     ]
    },
    {
     "name": "stdout",
     "output_type": "stream",
     "text": [
      "[099/100]  test loss: 0.0511  D: 0.7050  D2: -0.0076  D3: 0.0131  D4: 0.0141\r"
     ]
    },
    {
     "name": "stderr",
     "output_type": "stream",
     "text": [
      "[default |INFO|model.py:2182] [42/80]  loss: 5.182624e-02  D: 6.962268e-01  D2: -7.458057e-03  D3: 1.372434e-02  D4: 1.480736e-02\n",
      "test loss: 5.103208e-02  D: 7.049802e-01  D2: -7.649240e-03  D3: 1.310385e-02  D4: 1.407874e-02\n"
     ]
    },
    {
     "name": "stdout",
     "output_type": "stream",
     "text": [
      "[095/100]  test loss: 0.0511  D: 0.6949  D2: -0.0073  D3: 0.0144  D4: 0.0153\r"
     ]
    },
    {
     "name": "stderr",
     "output_type": "stream",
     "text": [
      "[default |INFO|model.py:2182] [43/80]  loss: 5.089943e-02  D: 6.942101e-01  D2: -7.423968e-03  D3: 1.344292e-02  D4: 1.461369e-02\n",
      "test loss: 5.114008e-02  D: 6.948809e-01  D2: -7.227354e-03  D3: 1.447218e-02  D4: 1.524621e-02\n"
     ]
    },
    {
     "name": "stdout",
     "output_type": "stream",
     "text": [
      "[096/100]  test loss: 0.0492  D: 0.7188  D2: -0.0079  D3: 0.0109  D4: 0.0120\r"
     ]
    },
    {
     "name": "stderr",
     "output_type": "stream",
     "text": [
      "[default |INFO|model.py:2182] [44/80]  loss: 5.110806e-02  D: 6.952724e-01  D2: -7.565840e-03  D3: 1.337719e-02  D4: 1.455638e-02\n",
      "test loss: 4.913925e-02  D: 7.187754e-01  D2: -7.888918e-03  D3: 1.093095e-02  D4: 1.203818e-02\n"
     ]
    },
    {
     "name": "stdout",
     "output_type": "stream",
     "text": [
      "[090/100]  test loss: 0.0537  D: 0.6846  D2: -0.0077  D3: 0.0133  D4: 0.0144\r"
     ]
    },
    {
     "name": "stderr",
     "output_type": "stream",
     "text": [
      "[default |INFO|model.py:2182] [45/80]  loss: 5.496334e-02  D: 6.952010e-01  D2: -7.756824e-03  D3: 1.342371e-02  D4: 1.456570e-02\n",
      "test loss: 5.381434e-02  D: 6.846035e-01  D2: -7.717619e-03  D3: 1.325836e-02  D4: 1.439683e-02\n"
     ]
    },
    {
     "name": "stdout",
     "output_type": "stream",
     "text": [
      "[092/100]  test loss: 0.0504  D: 0.6779  D2: -0.0076  D3: 0.0131  D4: 0.0145\r"
     ]
    },
    {
     "name": "stderr",
     "output_type": "stream",
     "text": [
      "[default |INFO|model.py:2182] [46/80]  loss: 5.018548e-02  D: 6.946011e-01  D2: -7.751686e-03  D3: 1.333038e-02  D4: 1.451548e-02\n",
      "test loss: 5.046693e-02  D: 6.778606e-01  D2: -7.657709e-03  D3: 1.314609e-02  D4: 1.447460e-02\n"
     ]
    },
    {
     "name": "stdout",
     "output_type": "stream",
     "text": [
      "[100/100]  test loss: 0.0532  D: 0.7243  D2: -0.0078  D3: 0.0147  D4: 0.0158\r"
     ]
    },
    {
     "name": "stderr",
     "output_type": "stream",
     "text": [
      "[default |INFO|model.py:2182] [47/80]  loss: 5.222581e-02  D: 6.966813e-01  D2: -7.823044e-03  D3: 1.317042e-02  D4: 1.445529e-02\n",
      "test loss: 5.318040e-02  D: 7.243083e-01  D2: -7.826138e-03  D3: 1.474640e-02  D4: 1.575563e-02\n"
     ]
    },
    {
     "name": "stdout",
     "output_type": "stream",
     "text": [
      "[100/100]  test loss: 0.0525  D: 0.7111  D2: -0.0075  D3: 0.0137  D4: 0.0149\r"
     ]
    },
    {
     "name": "stderr",
     "output_type": "stream",
     "text": [
      "[default |INFO|model.py:2182] [48/80]  loss: 5.189216e-02  D: 6.954273e-01  D2: -8.006059e-03  D3: 1.313520e-02  D4: 1.425570e-02\n",
      "test loss: 5.253822e-02  D: 7.110578e-01  D2: -7.549992e-03  D3: 1.370494e-02  D4: 1.490095e-02\n"
     ]
    },
    {
     "name": "stdout",
     "output_type": "stream",
     "text": [
      "[098/100]  test loss: 0.0563  D: 0.7061  D2: -0.0081  D3: 0.0178  D4: 0.0189\r"
     ]
    },
    {
     "name": "stderr",
     "output_type": "stream",
     "text": [
      "[default |INFO|model.py:2182] [49/80]  loss: 5.043556e-02  D: 6.952339e-01  D2: -8.019412e-03  D3: 1.326054e-02  D4: 1.443283e-02\n",
      "test loss: 5.632908e-02  D: 7.060609e-01  D2: -8.036194e-03  D3: 1.785536e-02  D4: 1.890343e-02\n"
     ]
    },
    {
     "name": "stdout",
     "output_type": "stream",
     "text": [
      "[097/100]  test loss: 0.0553  D: 0.6891  D2: -0.0079  D3: 0.0147  D4: 0.0159\r"
     ]
    },
    {
     "name": "stderr",
     "output_type": "stream",
     "text": [
      "[default |INFO|model.py:2182] [50/80]  loss: 5.457479e-02  D: 6.967693e-01  D2: -7.989446e-03  D3: 1.275115e-02  D4: 1.385763e-02\n",
      "test loss: 5.539901e-02  D: 6.891136e-01  D2: -7.888994e-03  D3: 1.470430e-02  D4: 1.588375e-02\n"
     ]
    },
    {
     "name": "stdout",
     "output_type": "stream",
     "text": [
      "[098/100]  test loss: 0.0515  D: 0.6765  D2: -0.0086  D3: 0.0128  D4: 0.0140\r"
     ]
    },
    {
     "name": "stderr",
     "output_type": "stream",
     "text": [
      "[default |INFO|model.py:2182] [51/80]  loss: 5.185952e-02  D: 6.949187e-01  D2: -8.190993e-03  D3: 1.342564e-02  D4: 1.464069e-02\n",
      "test loss: 5.159999e-02  D: 6.765545e-01  D2: -8.606319e-03  D3: 1.280347e-02  D4: 1.402209e-02\n"
     ]
    },
    {
     "name": "stdout",
     "output_type": "stream",
     "text": [
      "[100/100]  test loss: 0.0487  D: 0.6879  D2: -0.0079  D3: 0.0156  D4: 0.0165\r"
     ]
    },
    {
     "name": "stderr",
     "output_type": "stream",
     "text": [
      "[default |INFO|model.py:2182] [52/80]  loss: 5.163344e-02  D: 6.946483e-01  D2: -8.204746e-03  D3: 1.338836e-02  D4: 1.453511e-02\n",
      "test loss: 4.874032e-02  D: 6.879185e-01  D2: -7.877398e-03  D3: 1.558301e-02  D4: 1.650246e-02\n"
     ]
    },
    {
     "name": "stdout",
     "output_type": "stream",
     "text": [
      "[100/100]  test loss: 0.0542  D: 0.6866  D2: -0.0080  D3: 0.0110  D4: 0.0123\r"
     ]
    },
    {
     "name": "stderr",
     "output_type": "stream",
     "text": [
      "[default |INFO|model.py:2182] [53/80]  loss: 4.987051e-02  D: 6.941093e-01  D2: -8.275652e-03  D3: 1.323814e-02  D4: 1.445646e-02\n",
      "test loss: 5.417838e-02  D: 6.866183e-01  D2: -7.997637e-03  D3: 1.097956e-02  D4: 1.228038e-02\n"
     ]
    },
    {
     "name": "stdout",
     "output_type": "stream",
     "text": [
      "[099/100]  test loss: 0.0516  D: 0.6850  D2: -0.0081  D3: 0.0106  D4: 0.0121\r"
     ]
    },
    {
     "name": "stderr",
     "output_type": "stream",
     "text": [
      "[default |INFO|model.py:2182] [54/80]  loss: 5.047746e-02  D: 6.945262e-01  D2: -8.281968e-03  D3: 1.288133e-02  D4: 1.410818e-02\n",
      "test loss: 5.156696e-02  D: 6.849950e-01  D2: -8.120213e-03  D3: 1.062283e-02  D4: 1.213079e-02\n"
     ]
    },
    {
     "name": "stdout",
     "output_type": "stream",
     "text": [
      "[100/100]  test loss: 0.0527  D: 0.7356  D2: -0.0082  D3: 0.0166  D4: 0.0178\r"
     ]
    },
    {
     "name": "stderr",
     "output_type": "stream",
     "text": [
      "[default |INFO|model.py:2182] [55/80]  loss: 4.994936e-02  D: 6.941825e-01  D2: -8.445419e-03  D3: 1.276544e-02  D4: 1.396777e-02\n",
      "test loss: 5.265127e-02  D: 7.356069e-01  D2: -8.219604e-03  D3: 1.656984e-02  D4: 1.777964e-02\n"
     ]
    },
    {
     "name": "stdout",
     "output_type": "stream",
     "text": [
      "[100/100]  test loss: 0.0531  D: 0.6933  D2: -0.0086  D3: 0.0098  D4: 0.0111\r"
     ]
    },
    {
     "name": "stderr",
     "output_type": "stream",
     "text": [
      "[default |INFO|model.py:2182] [56/80]  loss: 4.837132e-02  D: 6.974424e-01  D2: -8.409060e-03  D3: 1.327468e-02  D4: 1.446652e-02\n",
      "test loss: 5.309974e-02  D: 6.933432e-01  D2: -8.582659e-03  D3: 9.779335e-03  D4: 1.106240e-02\n"
     ]
    },
    {
     "name": "stdout",
     "output_type": "stream",
     "text": [
      "[100/100]  test loss: 0.0471  D: 0.6966  D2: -0.0084  D3: 0.0133  D4: 0.0144\r"
     ]
    },
    {
     "name": "stderr",
     "output_type": "stream",
     "text": [
      "[default |INFO|model.py:2182] [57/80]  loss: 4.776554e-02  D: 6.934587e-01  D2: -8.609177e-03  D3: 1.293902e-02  D4: 1.416208e-02\n",
      "test loss: 4.711808e-02  D: 6.965846e-01  D2: -8.352747e-03  D3: 1.329665e-02  D4: 1.438284e-02\n"
     ]
    },
    {
     "name": "stdout",
     "output_type": "stream",
     "text": [
      "[094/100]  test loss: 0.0477  D: 0.6940  D2: -0.0088  D3: 0.0132  D4: 0.0144\r"
     ]
    },
    {
     "name": "stderr",
     "output_type": "stream",
     "text": [
      "[default |INFO|model.py:2182] [58/80]  loss: 4.795377e-02  D: 6.938927e-01  D2: -8.543738e-03  D3: 1.342409e-02  D4: 1.473010e-02\n",
      "test loss: 4.777466e-02  D: 6.940456e-01  D2: -8.712101e-03  D3: 1.313206e-02  D4: 1.436512e-02\n"
     ]
    },
    {
     "name": "stdout",
     "output_type": "stream",
     "text": [
      "[095/100]  test loss: 0.0478  D: 0.6921  D2: -0.0088  D3: 0.0121  D4: 0.0134\r"
     ]
    },
    {
     "name": "stderr",
     "output_type": "stream",
     "text": [
      "[default |INFO|model.py:2182] [59/80]  loss: 4.953680e-02  D: 6.988782e-01  D2: -8.536196e-03  D3: 1.267745e-02  D4: 1.389281e-02\n",
      "test loss: 4.777465e-02  D: 6.921530e-01  D2: -8.776112e-03  D3: 1.208641e-02  D4: 1.342746e-02\n"
     ]
    },
    {
     "name": "stdout",
     "output_type": "stream",
     "text": [
      "[100/100]  test loss: 0.0494  D: 0.6807  D2: -0.0089  D3: 0.0130  D4: 0.0141\r"
     ]
    },
    {
     "name": "stderr",
     "output_type": "stream",
     "text": [
      "[default |INFO|model.py:2182] [60/80]  loss: 4.800224e-02  D: 6.925577e-01  D2: -8.604058e-03  D3: 1.292986e-02  D4: 1.412058e-02\n",
      "test loss: 4.938945e-02  D: 6.806509e-01  D2: -8.925371e-03  D3: 1.295464e-02  D4: 1.406354e-02\n"
     ]
    },
    {
     "name": "stdout",
     "output_type": "stream",
     "text": [
      "[100/100]  test loss: 0.0487  D: 0.6967  D2: -0.0086  D3: 0.0122  D4: 0.0133\r"
     ]
    },
    {
     "name": "stderr",
     "output_type": "stream",
     "text": [
      "[default |INFO|model.py:2182] [61/80]  loss: 4.817736e-02  D: 6.943750e-01  D2: -8.763336e-03  D3: 1.315733e-02  D4: 1.439482e-02\n",
      "test loss: 4.869282e-02  D: 6.967277e-01  D2: -8.618956e-03  D3: 1.221632e-02  D4: 1.331893e-02\n"
     ]
    },
    {
     "name": "stdout",
     "output_type": "stream",
     "text": [
      "[094/100]  test loss: 0.0500  D: 0.6846  D2: -0.0087  D3: 0.0110  D4: 0.0122\r"
     ]
    },
    {
     "name": "stderr",
     "output_type": "stream",
     "text": [
      "[default |INFO|model.py:2182] [62/80]  loss: 4.673258e-02  D: 6.948313e-01  D2: -8.714965e-03  D3: 1.343140e-02  D4: 1.472361e-02\n",
      "test loss: 5.009148e-02  D: 6.846067e-01  D2: -8.728542e-03  D3: 1.100654e-02  D4: 1.222380e-02\n"
     ]
    },
    {
     "name": "stdout",
     "output_type": "stream",
     "text": [
      "[093/100]  test loss: 0.0507  D: 0.6924  D2: -0.0082  D3: 0.0130  D4: 0.0142\r"
     ]
    },
    {
     "name": "stderr",
     "output_type": "stream",
     "text": [
      "[default |INFO|model.py:2182] [63/80]  loss: 4.647997e-02  D: 6.959496e-01  D2: -8.816592e-03  D3: 1.278371e-02  D4: 1.409929e-02\n",
      "test loss: 5.079975e-02  D: 6.923890e-01  D2: -8.188896e-03  D3: 1.298352e-02  D4: 1.425580e-02\n"
     ]
    },
    {
     "name": "stdout",
     "output_type": "stream",
     "text": [
      "[094/100]  test loss: 0.0494  D: 0.7011  D2: -0.0088  D3: 0.0149  D4: 0.0165\r"
     ]
    },
    {
     "name": "stderr",
     "output_type": "stream",
     "text": [
      "[default |INFO|model.py:2182] [64/80]  loss: 4.782996e-02  D: 6.965405e-01  D2: -8.772456e-03  D3: 1.321007e-02  D4: 1.450624e-02\n",
      "test loss: 4.939955e-02  D: 7.010914e-01  D2: -8.822393e-03  D3: 1.492313e-02  D4: 1.647463e-02\n"
     ]
    },
    {
     "name": "stdout",
     "output_type": "stream",
     "text": [
      "[090/100]  test loss: 0.0512  D: 0.6967  D2: -0.0087  D3: 0.0140  D4: 0.0154\r"
     ]
    },
    {
     "name": "stderr",
     "output_type": "stream",
     "text": [
      "[default |INFO|model.py:2182] [65/80]  loss: 4.726887e-02  D: 6.947762e-01  D2: -8.836317e-03  D3: 1.307077e-02  D4: 1.436683e-02\n",
      "test loss: 5.108014e-02  D: 6.966667e-01  D2: -8.659649e-03  D3: 1.394989e-02  D4: 1.539496e-02\n"
     ]
    },
    {
     "name": "stdout",
     "output_type": "stream",
     "text": [
      "[094/100]  test loss: 0.0482  D: 0.6981  D2: -0.0089  D3: 0.0125  D4: 0.0139\r"
     ]
    },
    {
     "name": "stderr",
     "output_type": "stream",
     "text": [
      "[default |INFO|model.py:2182] [66/80]  loss: 4.770555e-02  D: 6.939488e-01  D2: -8.822460e-03  D3: 1.276027e-02  D4: 1.406052e-02\n",
      "test loss: 4.814945e-02  D: 6.981424e-01  D2: -8.945684e-03  D3: 1.246064e-02  D4: 1.391408e-02\n"
     ]
    },
    {
     "name": "stdout",
     "output_type": "stream",
     "text": [
      "[091/100]  test loss: 0.0464  D: 0.7042  D2: -0.0091  D3: 0.0142  D4: 0.0155\r"
     ]
    },
    {
     "name": "stderr",
     "output_type": "stream",
     "text": [
      "[default |INFO|model.py:2182] [67/80]  loss: 4.616984e-02  D: 6.932711e-01  D2: -8.901362e-03  D3: 1.283469e-02  D4: 1.422624e-02\n",
      "test loss: 4.647228e-02  D: 7.041679e-01  D2: -9.091206e-03  D3: 1.418480e-02  D4: 1.557323e-02\n"
     ]
    },
    {
     "name": "stdout",
     "output_type": "stream",
     "text": [
      "[091/100]  test loss: 0.0451  D: 0.7043  D2: -0.0090  D3: 0.0136  D4: 0.0148\r"
     ]
    },
    {
     "name": "stderr",
     "output_type": "stream",
     "text": [
      "[default |INFO|model.py:2182] [68/80]  loss: 4.522502e-02  D: 6.934399e-01  D2: -8.962283e-03  D3: 1.324180e-02  D4: 1.453984e-02\n",
      "test loss: 4.508064e-02  D: 7.042936e-01  D2: -8.965836e-03  D3: 1.353336e-02  D4: 1.481138e-02\n"
     ]
    },
    {
     "name": "stdout",
     "output_type": "stream",
     "text": [
      "[091/100]  test loss: 0.0462  D: 0.6995  D2: -0.0090  D3: 0.0130  D4: 0.0140\r"
     ]
    },
    {
     "name": "stderr",
     "output_type": "stream",
     "text": [
      "[default |INFO|model.py:2182] [69/80]  loss: 4.512931e-02  D: 6.962999e-01  D2: -8.902753e-03  D3: 1.296841e-02  D4: 1.424725e-02\n",
      "test loss: 4.620656e-02  D: 6.994830e-01  D2: -9.026041e-03  D3: 1.292496e-02  D4: 1.394455e-02\n"
     ]
    },
    {
     "name": "stdout",
     "output_type": "stream",
     "text": [
      "[093/100]  test loss: 0.0465  D: 0.6873  D2: -0.0092  D3: 0.0119  D4: 0.0132\r"
     ]
    },
    {
     "name": "stderr",
     "output_type": "stream",
     "text": [
      "[default |INFO|model.py:2182] [70/80]  loss: 4.564879e-02  D: 6.941676e-01  D2: -9.030968e-03  D3: 1.289236e-02  D4: 1.416961e-02\n",
      "test loss: 4.653059e-02  D: 6.873370e-01  D2: -9.151917e-03  D3: 1.193856e-02  D4: 1.325593e-02\n"
     ]
    },
    {
     "name": "stdout",
     "output_type": "stream",
     "text": [
      "[090/100]  test loss: 0.0481  D: 0.6824  D2: -0.0091  D3: 0.0110  D4: 0.0124\r"
     ]
    },
    {
     "name": "stderr",
     "output_type": "stream",
     "text": [
      "[default |INFO|model.py:2182] [71/80]  loss: 4.684427e-02  D: 6.951816e-01  D2: -8.991032e-03  D3: 1.293550e-02  D4: 1.409910e-02\n",
      "test loss: 4.821339e-02  D: 6.823956e-01  D2: -9.060793e-03  D3: 1.102553e-02  D4: 1.240303e-02\n"
     ]
    },
    {
     "name": "stdout",
     "output_type": "stream",
     "text": [
      "[091/100]  test loss: 0.0483  D: 0.6829  D2: -0.0091  D3: 0.0133  D4: 0.0145\r"
     ]
    },
    {
     "name": "stderr",
     "output_type": "stream",
     "text": [
      "[default |INFO|model.py:2182] [72/80]  loss: 4.878585e-02  D: 6.946214e-01  D2: -9.010412e-03  D3: 1.305565e-02  D4: 1.425165e-02\n",
      "test loss: 4.838574e-02  D: 6.828690e-01  D2: -9.074888e-03  D3: 1.327489e-02  D4: 1.454047e-02\n"
     ]
    },
    {
     "name": "stdout",
     "output_type": "stream",
     "text": [
      "[100/100]  test loss: 0.0460  D: 0.6902  D2: -0.0090  D3: 0.0149  D4: 0.0162\r"
     ]
    },
    {
     "name": "stderr",
     "output_type": "stream",
     "text": [
      "[default |INFO|model.py:2182] [73/80]  loss: 4.699113e-02  D: 6.946808e-01  D2: -9.094378e-03  D3: 1.283091e-02  D4: 1.403131e-02\n",
      "test loss: 4.604030e-02  D: 6.902291e-01  D2: -9.041309e-03  D3: 1.494987e-02  D4: 1.619152e-02\n"
     ]
    },
    {
     "name": "stdout",
     "output_type": "stream",
     "text": [
      "[090/100]  test loss: 0.0471  D: 0.7146  D2: -0.0089  D3: 0.0124  D4: 0.0139\r"
     ]
    },
    {
     "name": "stderr",
     "output_type": "stream",
     "text": [
      "[default |INFO|model.py:2182] [74/80]  loss: 4.604963e-02  D: 6.941552e-01  D2: -9.008705e-03  D3: 1.275569e-02  D4: 1.403882e-02\n",
      "test loss: 4.709260e-02  D: 7.146349e-01  D2: -8.860035e-03  D3: 1.238444e-02  D4: 1.386709e-02\n"
     ]
    },
    {
     "name": "stdout",
     "output_type": "stream",
     "text": [
      "[090/100]  test loss: 0.0511  D: 0.7157  D2: -0.0091  D3: 0.0161  D4: 0.0171\r"
     ]
    },
    {
     "name": "stderr",
     "output_type": "stream",
     "text": [
      "[default |INFO|model.py:2182] [75/80]  loss: 4.585885e-02  D: 6.964070e-01  D2: -9.102847e-03  D3: 1.278889e-02  D4: 1.407553e-02\n",
      "test loss: 5.098084e-02  D: 7.157020e-01  D2: -9.147816e-03  D3: 1.614077e-02  D4: 1.712697e-02\n"
     ]
    },
    {
     "name": "stdout",
     "output_type": "stream",
     "text": [
      "[100/100]  test loss: 0.0463  D: 0.7070  D2: -0.0092  D3: 0.0148  D4: 0.0164\r"
     ]
    },
    {
     "name": "stderr",
     "output_type": "stream",
     "text": [
      "[default |INFO|model.py:2182] [76/80]  loss: 4.652944e-02  D: 6.941905e-01  D2: -9.114974e-03  D3: 1.264171e-02  D4: 1.388909e-02\n",
      "test loss: 4.633198e-02  D: 7.069530e-01  D2: -9.178038e-03  D3: 1.482479e-02  D4: 1.642644e-02\n"
     ]
    },
    {
     "name": "stdout",
     "output_type": "stream",
     "text": [
      "[090/100]  test loss: 0.0482  D: 0.6654  D2: -0.0091  D3: 0.0108  D4: 0.0121\r"
     ]
    },
    {
     "name": "stderr",
     "output_type": "stream",
     "text": [
      "[default |INFO|model.py:2182] [77/80]  loss: 4.691611e-02  D: 6.944163e-01  D2: -9.130522e-03  D3: 1.246400e-02  D4: 1.374755e-02\n",
      "test loss: 4.808709e-02  D: 6.654051e-01  D2: -9.114552e-03  D3: 1.081896e-02  D4: 1.208133e-02\n"
     ]
    },
    {
     "name": "stdout",
     "output_type": "stream",
     "text": [
      "[090/100]  test loss: 0.0474  D: 0.6965  D2: -0.0089  D3: 0.0146  D4: 0.0157\r"
     ]
    },
    {
     "name": "stderr",
     "output_type": "stream",
     "text": [
      "[default |INFO|model.py:2182] [78/80]  loss: 4.660169e-02  D: 6.957658e-01  D2: -9.114224e-03  D3: 1.276168e-02  D4: 1.405656e-02\n",
      "test loss: 4.754018e-02  D: 6.964769e-01  D2: -8.842716e-03  D3: 1.459878e-02  D4: 1.576206e-02\n"
     ]
    },
    {
     "name": "stdout",
     "output_type": "stream",
     "text": [
      "[096/100]  test loss: 0.0500  D: 0.7029  D2: -0.0094  D3: 0.0101  D4: 0.0114\r"
     ]
    },
    {
     "name": "stderr",
     "output_type": "stream",
     "text": [
      "[default |INFO|model.py:2182] [79/80]  loss: 4.554333e-02  D: 6.943710e-01  D2: -9.201865e-03  D3: 1.264032e-02  D4: 1.393685e-02\n",
      "test loss: 4.999061e-02  D: 7.029060e-01  D2: -9.435997e-03  D3: 1.007064e-02  D4: 1.143462e-02\n"
     ]
    },
    {
     "name": "stdout",
     "output_type": "stream",
     "text": [
      "[091/100]  test loss: 0.0492  D: 0.6973  D2: -0.0092  D3: 0.0145  D4: 0.0156\r"
     ]
    },
    {
     "name": "stderr",
     "output_type": "stream",
     "text": [
      "[default |INFO|model.py:2182] [80/80]  loss: 4.676669e-02  D: 6.940519e-01  D2: -9.190998e-03  D3: 1.228037e-02  D4: 1.357936e-02\n",
      "test loss: 4.916649e-02  D: 6.972098e-01  D2: -9.258871e-03  D3: 1.447661e-02  D4: 1.559726e-02\n"
     ]
    },
    {
     "name": "stdout",
     "output_type": "stream",
     "text": [
      "[092/100]  test loss: 0.0492  D: 0.6973  D2: -0.0092  D3: 0.0145  D4: 0.0156\r",
      "[093/100]  test loss: 0.0493  D: 0.6973  D2: -0.0092  D3: 0.0145  D4: 0.0156\r",
      "[094/100]  test loss: 0.0493  D: 0.6973  D2: -0.0092  D3: 0.0145  D4: 0.0156\r",
      "[095/100]  test loss: 0.0493  D: 0.6973  D2: -0.0092  D3: 0.0145  D4: 0.0156\r",
      "[096/100]  test loss: 0.0492  D: 0.6972  D2: -0.0092  D3: 0.0145  D4: 0.0156\r",
      "[097/100]  test loss: 0.0492  D: 0.6972  D2: -0.0093  D3: 0.0145  D4: 0.0156\r",
      "[098/100]  test loss: 0.0492  D: 0.6972  D2: -0.0093  D3: 0.0145  D4: 0.0156\r",
      "[099/100]  test loss: 0.0492  D: 0.6972  D2: -0.0093  D3: 0.0145  D4: 0.0156\r",
      "[100/100]  test loss: 0.0492  D: 0.6972  D2: -0.0093  D3: 0.0145  D4: 0.0156\r"
     ]
    },
    {
     "name": "stderr",
     "output_type": "stream",
     "text": [
      "[default |INFO|model.py:2297] Training Finished!\n",
      "[default |INFO|model.py:2298] Elapsed time: 3067.045s\n"
     ]
    }
   ],
   "source": [
    "cfg = configparser.ConfigParser()\n",
    "cfg.read('./config/sswae_dev2_hsic_12.cfg')\n",
    "\n",
    "mm = cur_model(cfg, log, device = device)\n",
    "\n",
    "mm.gm.mu.load_state_dict(torch.load(f'./result/mu_{cfg[\"train_info\"][\"y_dim\"]}.pt'))\n",
    "mm.gm.cov.load_state_dict(torch.load(f'./result/cov_{cfg[\"train_info\"][\"y_dim\"]}.pt'))\n",
    "\n",
    "mm.train()\n",
    "# mm.load('./%s' % (cfg['path_info']['save_path']))"
   ]
  },
  {
   "cell_type": "markdown",
   "metadata": {},
   "source": [
    "# Train - 8"
   ]
  },
  {
   "cell_type": "code",
   "execution_count": 5,
   "metadata": {
    "scrolled": true
   },
   "outputs": [
    {
     "name": "stderr",
     "output_type": "stream",
     "text": [
      "[default |INFO|_base_model.py:27] ------------------------------------------------------------\n",
      "[default |INFO|_base_model.py:29] model_name : SSWAE_HSIC_MNIST\n",
      "[default |INFO|_base_model.py:29] train_data : rmMNIST\n",
      "[default |INFO|_base_model.py:29] train_data_label : True\n",
      "[default |INFO|_base_model.py:29] z_sampler : gaus\n",
      "[default |INFO|_base_model.py:29] z_dim : 8\n",
      "[default |INFO|_base_model.py:29] y_sampler : gaus\n",
      "[default |INFO|_base_model.py:29] y_dim : 4\n",
      "[default |INFO|_base_model.py:29] labeled_class : 0,1,2,3,4,5,6,7,8,9\n",
      "[default |INFO|_base_model.py:29] unlabeled_class : \n",
      "[default |INFO|_base_model.py:29] test_class : \n",
      "[default |INFO|_base_model.py:29] portion : 1.0\n",
      "[default |INFO|_base_model.py:29] unk : False\n",
      "[default |INFO|_base_model.py:29] encoder_pretrain : False\n",
      "[default |INFO|_base_model.py:29] encoder_pretrain_step : 3\n",
      "[default |INFO|_base_model.py:29] lr : 5e-4\n",
      "[default |INFO|_base_model.py:29] beta1 : 0.5\n",
      "[default |INFO|_base_model.py:29] lr_adv : 2e-4\n",
      "[default |INFO|_base_model.py:29] beta1_adv : 0.5\n",
      "[default |INFO|_base_model.py:29] lambda : 10.0\n",
      "[default |INFO|_base_model.py:29] lambda_mmd : 10.0\n",
      "[default |INFO|_base_model.py:29] lambda_hsic : 15.0\n",
      "[default |INFO|_base_model.py:29] lr_schedule : manual\n",
      "[default |INFO|_base_model.py:29] validate : True\n",
      "[default |INFO|_base_model.py:29] histogram : True\n",
      "[default |INFO|_base_model.py:29] batch_size : 100\n",
      "[default |INFO|_base_model.py:29] epoch : 80\n",
      "[default |INFO|_base_model.py:29] replace : False\n",
      "[default |INFO|_base_model.py:29] save_best : False\n",
      "[default |INFO|_base_model.py:32] data_home : ./data/MNIST\n",
      "[default |INFO|_base_model.py:32] tb_logs : \n",
      "[default |INFO|_base_model.py:32] save_path : ./result/weights/sswae_dev2_hsic_13.pt\n",
      "[default |INFO|_base_model.py:32] save_state : ./result/states/sswae_dev2_hsic_13.pt\n",
      "[default |INFO|_base_model.py:32] save_img_path : \n",
      "[default |INFO|model.py:2061] ------------------------------------------------------------\n",
      "[default |INFO|model.py:2062] Training Start!\n"
     ]
    },
    {
     "name": "stdout",
     "output_type": "stream",
     "text": [
      "[090/100]  test loss: 0.1964  D: 0.7012  D2: 0.0062  D3: 0.0058  D4: 0.0063\r"
     ]
    },
    {
     "name": "stderr",
     "output_type": "stream",
     "text": [
      "[default |INFO|model.py:2182] [01/80]  loss: 2.516564e-01  D: 7.083469e-01  D2: 2.139590e-02  D3: 3.378978e-03  D4: 3.556250e-03\n",
      "test loss: 1.964530e-01  D: 7.011686e-01  D2: 5.976849e-03  D3: 5.808596e-03  D4: 6.465156e-03\n"
     ]
    },
    {
     "name": "stdout",
     "output_type": "stream",
     "text": [
      "[091/100]  test loss: 0.1649  D: 0.6747  D2: -0.0007  D3: 0.0054  D4: 0.0071\r"
     ]
    },
    {
     "name": "stderr",
     "output_type": "stream",
     "text": [
      "[default |INFO|model.py:2182] [02/80]  loss: 1.790565e-01  D: 6.946392e-01  D2: 1.880366e-03  D3: 5.638919e-03  D4: 6.821503e-03\n",
      "test loss: 1.647319e-01  D: 6.747527e-01  D2: -6.879711e-04  D3: 5.319531e-03  D4: 7.244252e-03\n"
     ]
    },
    {
     "name": "stdout",
     "output_type": "stream",
     "text": [
      "[091/100]  test loss: 0.1536  D: 0.6863  D2: -0.0047  D3: 0.0097  D4: 0.0097\r"
     ]
    },
    {
     "name": "stderr",
     "output_type": "stream",
     "text": [
      "[default |INFO|model.py:2182] [03/80]  loss: 1.698800e-01  D: 7.067890e-01  D2: -2.562623e-03  D3: 6.917775e-03  D4: 7.143398e-03\n",
      "test loss: 1.533777e-01  D: 6.862566e-01  D2: -4.688673e-03  D3: 9.771880e-03  D4: 9.850614e-03\n"
     ]
    },
    {
     "name": "stdout",
     "output_type": "stream",
     "text": [
      "[090/100]  test loss: 0.1305  D: 0.7042  D2: -0.0041  D3: 0.0101  D4: 0.0109\r"
     ]
    },
    {
     "name": "stderr",
     "output_type": "stream",
     "text": [
      "[default |INFO|model.py:2182] [04/80]  loss: 1.452994e-01  D: 7.006131e-01  D2: -3.513002e-03  D3: 1.045475e-02  D4: 1.100685e-02\n",
      "test loss: 1.304968e-01  D: 7.041968e-01  D2: -4.152660e-03  D3: 1.000896e-02  D4: 1.080141e-02\n"
     ]
    },
    {
     "name": "stdout",
     "output_type": "stream",
     "text": [
      "[090/100]  test loss: 0.1351  D: 0.7208  D2: -0.0038  D3: 0.0054  D4: 0.0053\r"
     ]
    },
    {
     "name": "stderr",
     "output_type": "stream",
     "text": [
      "[default |INFO|model.py:2182] [05/80]  loss: 1.359290e-01  D: 7.197283e-01  D2: -3.581308e-03  D3: 1.153785e-02  D4: 1.227971e-02\n",
      "test loss: 1.352052e-01  D: 7.207920e-01  D2: -3.750677e-03  D3: 5.444316e-03  D4: 5.262399e-03\n"
     ]
    },
    {
     "name": "stdout",
     "output_type": "stream",
     "text": [
      "[091/100]  test loss: 0.1198  D: 0.7858  D2: -0.0041  D3: 0.0149  D4: 0.0158\r"
     ]
    },
    {
     "name": "stderr",
     "output_type": "stream",
     "text": [
      "[default |INFO|model.py:2182] [06/80]  loss: 1.243838e-01  D: 7.021671e-01  D2: -3.698726e-03  D3: 1.147807e-02  D4: 1.239573e-02\n",
      "test loss: 1.199277e-01  D: 7.858331e-01  D2: -4.250584e-03  D3: 1.493276e-02  D4: 1.574888e-02\n"
     ]
    },
    {
     "name": "stdout",
     "output_type": "stream",
     "text": [
      "[091/100]  test loss: 0.1222  D: 0.7504  D2: -0.0035  D3: 0.0108  D4: 0.0116\r"
     ]
    },
    {
     "name": "stderr",
     "output_type": "stream",
     "text": [
      "[default |INFO|model.py:2182] [07/80]  loss: 1.166173e-01  D: 6.944160e-01  D2: -3.549641e-03  D3: 1.255511e-02  D4: 1.283169e-02\n",
      "test loss: 1.221638e-01  D: 7.505236e-01  D2: -3.544302e-03  D3: 1.079639e-02  D4: 1.169772e-02\n"
     ]
    },
    {
     "name": "stdout",
     "output_type": "stream",
     "text": [
      "[100/100]  test loss: 0.1070  D: 0.6917  D2: -0.0039  D3: 0.0124  D4: 0.0140\r"
     ]
    },
    {
     "name": "stderr",
     "output_type": "stream",
     "text": [
      "[default |INFO|model.py:2182] [08/80]  loss: 1.185959e-01  D: 6.995758e-01  D2: -3.653722e-03  D3: 1.348726e-02  D4: 1.431343e-02\n",
      "test loss: 1.070123e-01  D: 6.916621e-01  D2: -3.929634e-03  D3: 1.243201e-02  D4: 1.400035e-02\n"
     ]
    },
    {
     "name": "stdout",
     "output_type": "stream",
     "text": [
      "[091/100]  test loss: 0.0974  D: 0.6639  D2: -0.0035  D3: 0.0129  D4: 0.0146\r"
     ]
    },
    {
     "name": "stderr",
     "output_type": "stream",
     "text": [
      "[default |INFO|model.py:2182] [09/80]  loss: 1.034295e-01  D: 6.970098e-01  D2: -3.340122e-03  D3: 1.447543e-02  D4: 1.557596e-02\n",
      "test loss: 9.768483e-02  D: 6.638808e-01  D2: -3.399782e-03  D3: 1.285932e-02  D4: 1.463036e-02\n"
     ]
    },
    {
     "name": "stdout",
     "output_type": "stream",
     "text": [
      "[100/100]  test loss: 0.0905  D: 0.6984  D2: -0.0043  D3: 0.0117  D4: 0.0135\r"
     ]
    },
    {
     "name": "stderr",
     "output_type": "stream",
     "text": [
      "[default |INFO|model.py:2182] [10/80]  loss: 9.578531e-02  D: 6.958687e-01  D2: -3.729402e-03  D3: 1.406038e-02  D4: 1.528173e-02\n",
      "test loss: 9.045991e-02  D: 6.983628e-01  D2: -4.257641e-03  D3: 1.167190e-02  D4: 1.350311e-02\n"
     ]
    },
    {
     "name": "stdout",
     "output_type": "stream",
     "text": [
      "[090/100]  test loss: 0.0919  D: 0.6997  D2: -0.0041  D3: 0.0150  D4: 0.0164\r"
     ]
    },
    {
     "name": "stderr",
     "output_type": "stream",
     "text": [
      "[default |INFO|model.py:2182] [11/80]  loss: 9.551585e-02  D: 6.973775e-01  D2: -4.049218e-03  D3: 1.406495e-02  D4: 1.516478e-02\n",
      "test loss: 9.199286e-02  D: 6.996619e-01  D2: -3.975677e-03  D3: 1.500231e-02  D4: 1.635335e-02\n"
     ]
    },
    {
     "name": "stdout",
     "output_type": "stream",
     "text": [
      "[091/100]  test loss: 0.0980  D: 0.7250  D2: -0.0035  D3: 0.0164  D4: 0.0186\r"
     ]
    },
    {
     "name": "stderr",
     "output_type": "stream",
     "text": [
      "[default |INFO|model.py:2182] [12/80]  loss: 9.398703e-02  D: 6.977561e-01  D2: -3.667463e-03  D3: 1.338828e-02  D4: 1.480149e-02\n",
      "test loss: 9.762095e-02  D: 7.249885e-01  D2: -3.490820e-03  D3: 1.633611e-02  D4: 1.849829e-02\n"
     ]
    },
    {
     "name": "stdout",
     "output_type": "stream",
     "text": [
      "[100/100]  test loss: 0.0971  D: 0.6728  D2: -0.0044  D3: 0.0155  D4: 0.0172\r"
     ]
    },
    {
     "name": "stderr",
     "output_type": "stream",
     "text": [
      "[default |INFO|model.py:2182] [13/80]  loss: 9.761410e-02  D: 7.002801e-01  D2: -4.104756e-03  D3: 1.346819e-02  D4: 1.488162e-02\n",
      "test loss: 9.711051e-02  D: 6.727747e-01  D2: -4.437475e-03  D3: 1.545345e-02  D4: 1.718916e-02\n"
     ]
    },
    {
     "name": "stdout",
     "output_type": "stream",
     "text": [
      "[100/100]  test loss: 0.0953  D: 0.6703  D2: -0.0041  D3: 0.0146  D4: 0.0165\r"
     ]
    },
    {
     "name": "stderr",
     "output_type": "stream",
     "text": [
      "[default |INFO|model.py:2182] [14/80]  loss: 9.659545e-02  D: 6.962099e-01  D2: -4.028238e-03  D3: 1.332015e-02  D4: 1.480054e-02\n",
      "test loss: 9.527558e-02  D: 6.702789e-01  D2: -4.052505e-03  D3: 1.456460e-02  D4: 1.653663e-02\n"
     ]
    },
    {
     "name": "stdout",
     "output_type": "stream",
     "text": [
      "[100/100]  test loss: 0.0932  D: 0.6533  D2: -0.0043  D3: 0.0083  D4: 0.0091\r"
     ]
    },
    {
     "name": "stderr",
     "output_type": "stream",
     "text": [
      "[default |INFO|model.py:2182] [15/80]  loss: 9.850929e-02  D: 6.930108e-01  D2: -3.749018e-03  D3: 1.287806e-02  D4: 1.449167e-02\n",
      "test loss: 9.320338e-02  D: 6.532643e-01  D2: -4.296589e-03  D3: 8.263575e-03  D4: 9.139163e-03\n"
     ]
    },
    {
     "name": "stdout",
     "output_type": "stream",
     "text": [
      "[091/100]  test loss: 0.0982  D: 0.7166  D2: -0.0045  D3: 0.0141  D4: 0.0158\r"
     ]
    },
    {
     "name": "stderr",
     "output_type": "stream",
     "text": [
      "[default |INFO|model.py:2182] [16/80]  loss: 9.780420e-02  D: 6.982400e-01  D2: -4.038363e-03  D3: 1.341053e-02  D4: 1.487527e-02\n",
      "test loss: 9.797713e-02  D: 7.165625e-01  D2: -4.364748e-03  D3: 1.408295e-02  D4: 1.594576e-02\n"
     ]
    },
    {
     "name": "stdout",
     "output_type": "stream",
     "text": [
      "[091/100]  test loss: 0.1030  D: 0.6738  D2: -0.0040  D3: 0.0143  D4: 0.0160\r"
     ]
    },
    {
     "name": "stderr",
     "output_type": "stream",
     "text": [
      "[default |INFO|model.py:2182] [17/80]  loss: 1.090768e-01  D: 7.006847e-01  D2: -3.914329e-03  D3: 1.192531e-02  D4: 1.306020e-02\n",
      "test loss: 1.030775e-01  D: 6.738620e-01  D2: -3.854561e-03  D3: 1.420271e-02  D4: 1.602991e-02\n"
     ]
    },
    {
     "name": "stdout",
     "output_type": "stream",
     "text": [
      "[091/100]  test loss: 0.0973  D: 0.6856  D2: -0.0038  D3: 0.0091  D4: 0.0105\r"
     ]
    },
    {
     "name": "stderr",
     "output_type": "stream",
     "text": [
      "[default |INFO|model.py:2182] [18/80]  loss: 9.990471e-02  D: 6.948663e-01  D2: -3.708517e-03  D3: 1.345952e-02  D4: 1.514238e-02\n",
      "test loss: 9.704000e-02  D: 6.856140e-01  D2: -3.903494e-03  D3: 9.095489e-03  D4: 1.049120e-02\n"
     ]
    },
    {
     "name": "stdout",
     "output_type": "stream",
     "text": [
      "[092/100]  test loss: 0.0952  D: 0.7087  D2: -0.0048  D3: 0.0142  D4: 0.0158\r"
     ]
    },
    {
     "name": "stderr",
     "output_type": "stream",
     "text": [
      "[default |INFO|model.py:2182] [19/80]  loss: 9.624263e-02  D: 6.971342e-01  D2: -3.690478e-03  D3: 1.314207e-02  D4: 1.461454e-02\n",
      "test loss: 9.514908e-02  D: 7.086450e-01  D2: -4.862909e-03  D3: 1.412953e-02  D4: 1.579797e-02\n"
     ]
    },
    {
     "name": "stdout",
     "output_type": "stream",
     "text": [
      "[091/100]  test loss: 0.0935  D: 0.6819  D2: -0.0038  D3: 0.0136  D4: 0.0151\r"
     ]
    },
    {
     "name": "stderr",
     "output_type": "stream",
     "text": [
      "[default |INFO|model.py:2182] [20/80]  loss: 9.907213e-02  D: 6.953859e-01  D2: -3.812343e-03  D3: 1.314915e-02  D4: 1.458255e-02\n",
      "test loss: 9.315046e-02  D: 6.819264e-01  D2: -3.866816e-03  D3: 1.363044e-02  D4: 1.521993e-02\n"
     ]
    },
    {
     "name": "stdout",
     "output_type": "stream",
     "text": [
      "[100/100]  test loss: 0.0947  D: 0.6975  D2: -0.0037  D3: 0.0139  D4: 0.0154\r"
     ]
    },
    {
     "name": "stderr",
     "output_type": "stream",
     "text": [
      "[default |INFO|model.py:2182] [21/80]  loss: 9.868487e-02  D: 6.980631e-01  D2: -3.888389e-03  D3: 1.324224e-02  D4: 1.494304e-02\n",
      "test loss: 9.468440e-02  D: 6.975393e-01  D2: -3.732786e-03  D3: 1.385673e-02  D4: 1.543085e-02\n"
     ]
    },
    {
     "name": "stdout",
     "output_type": "stream",
     "text": [
      "[090/100]  test loss: 0.0978  D: 0.7011  D2: -0.0039  D3: 0.0154  D4: 0.0170\r"
     ]
    },
    {
     "name": "stderr",
     "output_type": "stream",
     "text": [
      "[default |INFO|model.py:2182] [22/80]  loss: 9.871981e-02  D: 6.961140e-01  D2: -3.969796e-03  D3: 1.320237e-02  D4: 1.497996e-02\n",
      "test loss: 9.767478e-02  D: 7.012298e-01  D2: -3.970909e-03  D3: 1.537234e-02  D4: 1.703912e-02\n"
     ]
    },
    {
     "name": "stdout",
     "output_type": "stream",
     "text": [
      "[100/100]  test loss: 0.1012  D: 0.6766  D2: -0.0027  D3: 0.0151  D4: 0.0164\r"
     ]
    },
    {
     "name": "stderr",
     "output_type": "stream",
     "text": [
      "[default |INFO|model.py:2182] [23/80]  loss: 9.402664e-02  D: 6.982076e-01  D2: -4.060111e-03  D3: 1.278744e-02  D4: 1.457828e-02\n",
      "test loss: 1.012256e-01  D: 6.766274e-01  D2: -2.701674e-03  D3: 1.506019e-02  D4: 1.640289e-02\n"
     ]
    },
    {
     "name": "stdout",
     "output_type": "stream",
     "text": [
      "[091/100]  test loss: 0.0977  D: 0.6805  D2: -0.0040  D3: 0.0152  D4: 0.0178\r"
     ]
    },
    {
     "name": "stderr",
     "output_type": "stream",
     "text": [
      "[default |INFO|model.py:2182] [24/80]  loss: 9.447699e-02  D: 6.951129e-01  D2: -3.954638e-03  D3: 1.299544e-02  D4: 1.475323e-02\n",
      "test loss: 9.782482e-02  D: 6.804434e-01  D2: -3.843699e-03  D3: 1.522215e-02  D4: 1.767435e-02\n"
     ]
    },
    {
     "name": "stdout",
     "output_type": "stream",
     "text": [
      "[091/100]  test loss: 0.0882  D: 0.6958  D2: -0.0040  D3: 0.0125  D4: 0.0145\r"
     ]
    },
    {
     "name": "stderr",
     "output_type": "stream",
     "text": [
      "[default |INFO|model.py:2182] [25/80]  loss: 9.137357e-02  D: 6.973369e-01  D2: -4.182372e-03  D3: 1.348159e-02  D4: 1.532463e-02\n",
      "test loss: 8.837606e-02  D: 6.958014e-01  D2: -3.941965e-03  D3: 1.256125e-02  D4: 1.443376e-02\n"
     ]
    },
    {
     "name": "stdout",
     "output_type": "stream",
     "text": [
      "[091/100]  test loss: 0.0845  D: 0.7014  D2: -0.0047  D3: 0.0135  D4: 0.0157\r"
     ]
    },
    {
     "name": "stderr",
     "output_type": "stream",
     "text": [
      "[default |INFO|model.py:2182] [26/80]  loss: 8.935752e-02  D: 6.973901e-01  D2: -4.289885e-03  D3: 1.336442e-02  D4: 1.514442e-02\n",
      "test loss: 8.466069e-02  D: 7.014123e-01  D2: -4.664745e-03  D3: 1.343585e-02  D4: 1.568294e-02\n"
     ]
    },
    {
     "name": "stdout",
     "output_type": "stream",
     "text": [
      "[100/100]  test loss: 0.0994  D: 0.7094  D2: -0.0035  D3: 0.0150  D4: 0.0169\r"
     ]
    },
    {
     "name": "stderr",
     "output_type": "stream",
     "text": [
      "[default |INFO|model.py:2182] [27/80]  loss: 9.160393e-02  D: 6.985053e-01  D2: -4.347188e-03  D3: 1.300129e-02  D4: 1.461584e-02\n",
      "test loss: 9.939340e-02  D: 7.094107e-01  D2: -3.527164e-03  D3: 1.495132e-02  D4: 1.691558e-02\n"
     ]
    },
    {
     "name": "stdout",
     "output_type": "stream",
     "text": [
      "[090/100]  test loss: 0.0883  D: 0.7035  D2: -0.0044  D3: 0.0120  D4: 0.0138\r"
     ]
    },
    {
     "name": "stderr",
     "output_type": "stream",
     "text": [
      "[default |INFO|model.py:2182] [28/80]  loss: 9.508892e-02  D: 6.938957e-01  D2: -4.292568e-03  D3: 1.346792e-02  D4: 1.507510e-02\n",
      "test loss: 8.841192e-02  D: 7.035475e-01  D2: -4.530935e-03  D3: 1.196252e-02  D4: 1.374556e-02\n"
     ]
    },
    {
     "name": "stdout",
     "output_type": "stream",
     "text": [
      "[091/100]  test loss: 0.0891  D: 0.7076  D2: -0.0046  D3: 0.0129  D4: 0.0142\r"
     ]
    },
    {
     "name": "stderr",
     "output_type": "stream",
     "text": [
      "[default |INFO|model.py:2182] [29/80]  loss: 9.035127e-02  D: 6.971537e-01  D2: -4.182963e-03  D3: 1.327201e-02  D4: 1.518139e-02\n",
      "test loss: 8.909061e-02  D: 7.075633e-01  D2: -4.698830e-03  D3: 1.285521e-02  D4: 1.409806e-02\n"
     ]
    },
    {
     "name": "stdout",
     "output_type": "stream",
     "text": [
      "[091/100]  test loss: 0.0869  D: 0.6945  D2: -0.0048  D3: 0.0121  D4: 0.0141\r"
     ]
    },
    {
     "name": "stderr",
     "output_type": "stream",
     "text": [
      "[default |INFO|model.py:2182] [30/80]  loss: 9.099535e-02  D: 6.954570e-01  D2: -4.397041e-03  D3: 1.321901e-02  D4: 1.514840e-02\n",
      "test loss: 8.675635e-02  D: 6.945597e-01  D2: -4.861317e-03  D3: 1.210793e-02  D4: 1.410535e-02\n"
     ]
    },
    {
     "name": "stdout",
     "output_type": "stream",
     "text": [
      "[091/100]  test loss: 0.0880  D: 0.7007  D2: -0.0045  D3: 0.0147  D4: 0.0163\r"
     ]
    },
    {
     "name": "stderr",
     "output_type": "stream",
     "text": [
      "[default |INFO|model.py:2182] [31/80]  loss: 8.854909e-02  D: 6.966041e-01  D2: -4.350249e-03  D3: 1.347410e-02  D4: 1.525414e-02\n",
      "test loss: 8.815364e-02  D: 7.006651e-01  D2: -4.278564e-03  D3: 1.479311e-02  D4: 1.633622e-02\n"
     ]
    },
    {
     "name": "stdout",
     "output_type": "stream",
     "text": [
      "[091/100]  test loss: 0.0837  D: 0.6846  D2: -0.0039  D3: 0.0148  D4: 0.0165\r"
     ]
    },
    {
     "name": "stderr",
     "output_type": "stream",
     "text": [
      "[default |INFO|model.py:2182] [32/80]  loss: 8.587031e-02  D: 6.956532e-01  D2: -4.561160e-03  D3: 1.329252e-02  D4: 1.530152e-02\n",
      "test loss: 8.361295e-02  D: 6.845497e-01  D2: -4.156437e-03  D3: 1.477049e-02  D4: 1.648688e-02\n"
     ]
    },
    {
     "name": "stdout",
     "output_type": "stream",
     "text": [
      "[091/100]  test loss: 0.0820  D: 0.6921  D2: -0.0046  D3: 0.0116  D4: 0.0129\r"
     ]
    },
    {
     "name": "stderr",
     "output_type": "stream",
     "text": [
      "[default |INFO|model.py:2182] [33/80]  loss: 8.230982e-02  D: 6.967728e-01  D2: -4.517539e-03  D3: 1.329299e-02  D4: 1.508369e-02\n",
      "test loss: 8.226999e-02  D: 6.920341e-01  D2: -4.613380e-03  D3: 1.165011e-02  D4: 1.296406e-02\n"
     ]
    },
    {
     "name": "stdout",
     "output_type": "stream",
     "text": [
      "[100/100]  test loss: 0.0819  D: 0.6983  D2: -0.0046  D3: 0.0122  D4: 0.0151\r"
     ]
    },
    {
     "name": "stderr",
     "output_type": "stream",
     "text": [
      "[default |INFO|model.py:2182] [34/80]  loss: 8.298104e-02  D: 6.970099e-01  D2: -4.486186e-03  D3: 1.315348e-02  D4: 1.502034e-02\n",
      "test loss: 8.191410e-02  D: 6.982549e-01  D2: -4.627037e-03  D3: 1.215907e-02  D4: 1.507858e-02\n"
     ]
    },
    {
     "name": "stdout",
     "output_type": "stream",
     "text": [
      "[091/100]  test loss: 0.0823  D: 0.6645  D2: -0.0053  D3: 0.0134  D4: 0.0147\r"
     ]
    },
    {
     "name": "stderr",
     "output_type": "stream",
     "text": [
      "[default |INFO|model.py:2182] [35/80]  loss: 8.765476e-02  D: 6.967290e-01  D2: -4.446545e-03  D3: 1.330703e-02  D4: 1.503128e-02\n",
      "test loss: 8.241267e-02  D: 6.645553e-01  D2: -5.226307e-03  D3: 1.342239e-02  D4: 1.463678e-02\n"
     ]
    },
    {
     "name": "stdout",
     "output_type": "stream",
     "text": [
      "[091/100]  test loss: 0.0825  D: 0.6974  D2: -0.0038  D3: 0.0090  D4: 0.0109\r"
     ]
    },
    {
     "name": "stderr",
     "output_type": "stream",
     "text": [
      "[default |INFO|model.py:2182] [36/80]  loss: 8.804390e-02  D: 6.953968e-01  D2: -4.430388e-03  D3: 1.304185e-02  D4: 1.483737e-02\n",
      "test loss: 8.252307e-02  D: 6.974251e-01  D2: -3.913918e-03  D3: 8.947676e-03  D4: 1.085853e-02\n"
     ]
    },
    {
     "name": "stdout",
     "output_type": "stream",
     "text": [
      "[093/100]  test loss: 0.0854  D: 0.6806  D2: -0.0047  D3: 0.0138  D4: 0.0159\r"
     ]
    },
    {
     "name": "stderr",
     "output_type": "stream",
     "text": [
      "[default |INFO|model.py:2182] [37/80]  loss: 9.061762e-02  D: 7.013384e-01  D2: -4.557670e-03  D3: 1.324637e-02  D4: 1.503080e-02\n",
      "test loss: 8.546685e-02  D: 6.805786e-01  D2: -4.741068e-03  D3: 1.381679e-02  D4: 1.585303e-02\n"
     ]
    },
    {
     "name": "stdout",
     "output_type": "stream",
     "text": [
      "[091/100]  test loss: 0.0928  D: 0.7049  D2: -0.0051  D3: 0.0149  D4: 0.0159\r"
     ]
    },
    {
     "name": "stderr",
     "output_type": "stream",
     "text": [
      "[default |INFO|model.py:2182] [38/80]  loss: 8.693177e-02  D: 6.968085e-01  D2: -4.315910e-03  D3: 1.332034e-02  D4: 1.524560e-02\n",
      "test loss: 9.308311e-02  D: 7.048138e-01  D2: -4.948759e-03  D3: 1.493014e-02  D4: 1.595510e-02\n"
     ]
    },
    {
     "name": "stdout",
     "output_type": "stream",
     "text": [
      "[091/100]  test loss: 0.0921  D: 0.7093  D2: -0.0049  D3: 0.0134  D4: 0.0153\r"
     ]
    },
    {
     "name": "stderr",
     "output_type": "stream",
     "text": [
      "[default |INFO|model.py:2182] [39/80]  loss: 8.603798e-02  D: 6.946713e-01  D2: -4.565331e-03  D3: 1.307624e-02  D4: 1.511102e-02\n",
      "test loss: 9.232956e-02  D: 7.093846e-01  D2: -4.890356e-03  D3: 1.348595e-02  D4: 1.530555e-02\n"
     ]
    },
    {
     "name": "stdout",
     "output_type": "stream",
     "text": [
      "[091/100]  test loss: 0.0802  D: 0.6920  D2: -0.0044  D3: 0.0126  D4: 0.0146\r"
     ]
    },
    {
     "name": "stderr",
     "output_type": "stream",
     "text": [
      "[default |INFO|model.py:2182] [40/80]  loss: 8.598326e-02  D: 6.933103e-01  D2: -4.598131e-03  D3: 1.313045e-02  D4: 1.511583e-02\n",
      "test loss: 8.040361e-02  D: 6.918924e-01  D2: -4.519138e-03  D3: 1.264012e-02  D4: 1.465316e-02\n"
     ]
    },
    {
     "name": "stdout",
     "output_type": "stream",
     "text": [
      "[100/100]  test loss: 0.0817  D: 0.6927  D2: -0.0048  D3: 0.0148  D4: 0.0165\r"
     ]
    },
    {
     "name": "stderr",
     "output_type": "stream",
     "text": [
      "[default |INFO|model.py:2182] [41/80]  loss: 8.375976e-02  D: 6.966653e-01  D2: -4.568499e-03  D3: 1.302778e-02  D4: 1.491126e-02\n",
      "test loss: 8.173707e-02  D: 6.926846e-01  D2: -4.839487e-03  D3: 1.476635e-02  D4: 1.653310e-02\n"
     ]
    },
    {
     "name": "stdout",
     "output_type": "stream",
     "text": [
      "[091/100]  test loss: 0.0878  D: 0.6907  D2: -0.0051  D3: 0.0148  D4: 0.0159\r"
     ]
    },
    {
     "name": "stderr",
     "output_type": "stream",
     "text": [
      "[default |INFO|model.py:2182] [42/80]  loss: 8.516897e-02  D: 6.986823e-01  D2: -4.293049e-03  D3: 1.286621e-02  D4: 1.485753e-02\n",
      "test loss: 8.763407e-02  D: 6.906982e-01  D2: -5.040855e-03  D3: 1.479808e-02  D4: 1.598063e-02\n"
     ]
    },
    {
     "name": "stdout",
     "output_type": "stream",
     "text": [
      "[090/100]  test loss: 0.0810  D: 0.7081  D2: -0.0050  D3: 0.0139  D4: 0.0159\r"
     ]
    },
    {
     "name": "stderr",
     "output_type": "stream",
     "text": [
      "[default |INFO|model.py:2182] [43/80]  loss: 8.349078e-02  D: 6.936632e-01  D2: -4.679122e-03  D3: 1.344873e-02  D4: 1.533501e-02\n",
      "test loss: 8.108319e-02  D: 7.080932e-01  D2: -4.966755e-03  D3: 1.384662e-02  D4: 1.583693e-02\n"
     ]
    },
    {
     "name": "stdout",
     "output_type": "stream",
     "text": [
      "[091/100]  test loss: 0.0852  D: 0.7099  D2: -0.0049  D3: 0.0130  D4: 0.0153\r"
     ]
    },
    {
     "name": "stderr",
     "output_type": "stream",
     "text": [
      "[default |INFO|model.py:2182] [44/80]  loss: 8.295063e-02  D: 6.962286e-01  D2: -4.553644e-03  D3: 1.332865e-02  D4: 1.519094e-02\n",
      "test loss: 8.514692e-02  D: 7.098482e-01  D2: -4.966402e-03  D3: 1.303626e-02  D4: 1.531839e-02\n"
     ]
    },
    {
     "name": "stdout",
     "output_type": "stream",
     "text": [
      "[089/100]  test loss: 0.0772  D: 0.7149  D2: -0.0043  D3: 0.0138  D4: 0.0158\r"
     ]
    },
    {
     "name": "stderr",
     "output_type": "stream",
     "text": [
      "[default |INFO|model.py:2182] [45/80]  loss: 8.417125e-02  D: 6.982065e-01  D2: -4.598185e-03  D3: 1.309820e-02  D4: 1.501372e-02\n",
      "test loss: 7.729213e-02  D: 7.148570e-01  D2: -4.263763e-03  D3: 1.385039e-02  D4: 1.582741e-02\n"
     ]
    },
    {
     "name": "stdout",
     "output_type": "stream",
     "text": [
      "[090/100]  test loss: 0.0790  D: 0.6893  D2: -0.0041  D3: 0.0117  D4: 0.0142\r"
     ]
    },
    {
     "name": "stderr",
     "output_type": "stream",
     "text": [
      "[default |INFO|model.py:2182] [46/80]  loss: 8.358961e-02  D: 6.953890e-01  D2: -4.577669e-03  D3: 1.317120e-02  D4: 1.525319e-02\n",
      "test loss: 7.916113e-02  D: 6.892695e-01  D2: -4.110680e-03  D3: 1.169188e-02  D4: 1.422899e-02\n"
     ]
    },
    {
     "name": "stdout",
     "output_type": "stream",
     "text": [
      "[091/100]  test loss: 0.0782  D: 0.7013  D2: -0.0049  D3: 0.0135  D4: 0.0155\r"
     ]
    },
    {
     "name": "stderr",
     "output_type": "stream",
     "text": [
      "[default |INFO|model.py:2182] [47/80]  loss: 8.517449e-02  D: 6.969336e-01  D2: -4.744396e-03  D3: 1.323674e-02  D4: 1.521165e-02\n",
      "test loss: 7.840218e-02  D: 7.013010e-01  D2: -4.803896e-03  D3: 1.355712e-02  D4: 1.542320e-02\n"
     ]
    },
    {
     "name": "stdout",
     "output_type": "stream",
     "text": [
      "[100/100]  test loss: 0.0871  D: 0.7106  D2: -0.0041  D3: 0.0133  D4: 0.0151\r"
     ]
    },
    {
     "name": "stderr",
     "output_type": "stream",
     "text": [
      "[default |INFO|model.py:2182] [48/80]  loss: 8.441969e-02  D: 6.960047e-01  D2: -4.894931e-03  D3: 1.323357e-02  D4: 1.523609e-02\n",
      "test loss: 8.712117e-02  D: 7.106204e-01  D2: -4.128456e-03  D3: 1.330553e-02  D4: 1.506685e-02\n"
     ]
    },
    {
     "name": "stdout",
     "output_type": "stream",
     "text": [
      "[091/100]  test loss: 0.0875  D: 0.6781  D2: -0.0044  D3: 0.0136  D4: 0.0154\r"
     ]
    },
    {
     "name": "stderr",
     "output_type": "stream",
     "text": [
      "[default |INFO|model.py:2182] [49/80]  loss: 8.527688e-02  D: 6.985898e-01  D2: -4.685130e-03  D3: 1.318420e-02  D4: 1.511437e-02\n",
      "test loss: 8.741639e-02  D: 6.781946e-01  D2: -4.400177e-03  D3: 1.367626e-02  D4: 1.541168e-02\n"
     ]
    },
    {
     "name": "stdout",
     "output_type": "stream",
     "text": [
      "[090/100]  test loss: 0.0804  D: 0.7261  D2: -0.0050  D3: 0.0139  D4: 0.0155\r"
     ]
    },
    {
     "name": "stderr",
     "output_type": "stream",
     "text": [
      "[default |INFO|model.py:2182] [50/80]  loss: 8.365515e-02  D: 6.938608e-01  D2: -4.944906e-03  D3: 1.288233e-02  D4: 1.503006e-02\n",
      "test loss: 8.020832e-02  D: 7.262218e-01  D2: -4.754295e-03  D3: 1.379279e-02  D4: 1.547576e-02\n"
     ]
    },
    {
     "name": "stdout",
     "output_type": "stream",
     "text": [
      "[091/100]  test loss: 0.0775  D: 0.6968  D2: -0.0050  D3: 0.0127  D4: 0.0150\r"
     ]
    },
    {
     "name": "stderr",
     "output_type": "stream",
     "text": [
      "[default |INFO|model.py:2182] [51/80]  loss: 8.214834e-02  D: 6.966952e-01  D2: -4.884899e-03  D3: 1.308981e-02  D4: 1.486465e-02\n",
      "test loss: 7.756849e-02  D: 6.967908e-01  D2: -4.950218e-03  D3: 1.268840e-02  D4: 1.498317e-02\n"
     ]
    },
    {
     "name": "stdout",
     "output_type": "stream",
     "text": [
      "[091/100]  test loss: 0.0944  D: 0.6774  D2: -0.0048  D3: 0.0123  D4: 0.0147\r"
     ]
    },
    {
     "name": "stderr",
     "output_type": "stream",
     "text": [
      "[default |INFO|model.py:2182] [52/80]  loss: 8.467141e-02  D: 6.968441e-01  D2: -4.774412e-03  D3: 1.297788e-02  D4: 1.505368e-02\n",
      "test loss: 9.455048e-02  D: 6.774300e-01  D2: -4.904156e-03  D3: 1.242275e-02  D4: 1.470301e-02\n"
     ]
    },
    {
     "name": "stdout",
     "output_type": "stream",
     "text": [
      "[091/100]  test loss: 0.0884  D: 0.7103  D2: -0.0044  D3: 0.0137  D4: 0.0160\r"
     ]
    },
    {
     "name": "stderr",
     "output_type": "stream",
     "text": [
      "[default |INFO|model.py:2182] [53/80]  loss: 8.465538e-02  D: 6.963660e-01  D2: -4.839605e-03  D3: 1.323356e-02  D4: 1.528210e-02\n",
      "test loss: 8.856628e-02  D: 7.102127e-01  D2: -4.268255e-03  D3: 1.376646e-02  D4: 1.589103e-02\n"
     ]
    },
    {
     "name": "stdout",
     "output_type": "stream",
     "text": [
      "[090/100]  test loss: 0.0799  D: 0.7036  D2: -0.0052  D3: 0.0134  D4: 0.0157\r"
     ]
    },
    {
     "name": "stderr",
     "output_type": "stream",
     "text": [
      "[default |INFO|model.py:2182] [54/80]  loss: 7.999848e-02  D: 6.952922e-01  D2: -4.859721e-03  D3: 1.311670e-02  D4: 1.513335e-02\n",
      "test loss: 8.035381e-02  D: 7.035752e-01  D2: -5.034752e-03  D3: 1.336191e-02  D4: 1.558615e-02\n"
     ]
    },
    {
     "name": "stdout",
     "output_type": "stream",
     "text": [
      "[091/100]  test loss: 0.0805  D: 0.6900  D2: -0.0049  D3: 0.0133  D4: 0.0150\r"
     ]
    },
    {
     "name": "stderr",
     "output_type": "stream",
     "text": [
      "[default |INFO|model.py:2182] [55/80]  loss: 8.057311e-02  D: 6.957238e-01  D2: -4.784231e-03  D3: 1.304780e-02  D4: 1.501905e-02\n",
      "test loss: 8.058954e-02  D: 6.900381e-01  D2: -4.907513e-03  D3: 1.326371e-02  D4: 1.497843e-02\n"
     ]
    },
    {
     "name": "stdout",
     "output_type": "stream",
     "text": [
      "[091/100]  test loss: 0.0781  D: 0.6860  D2: -0.0040  D3: 0.0142  D4: 0.0161\r"
     ]
    },
    {
     "name": "stderr",
     "output_type": "stream",
     "text": [
      "[default |INFO|model.py:2182] [56/80]  loss: 8.081344e-02  D: 6.979174e-01  D2: -4.858212e-03  D3: 1.319215e-02  D4: 1.508989e-02\n",
      "test loss: 7.778920e-02  D: 6.859695e-01  D2: -4.084072e-03  D3: 1.417656e-02  D4: 1.607309e-02\n"
     ]
    },
    {
     "name": "stdout",
     "output_type": "stream",
     "text": [
      "[091/100]  test loss: 0.0739  D: 0.6691  D2: -0.0053  D3: 0.0125  D4: 0.0144\r"
     ]
    },
    {
     "name": "stderr",
     "output_type": "stream",
     "text": [
      "[default |INFO|model.py:2182] [57/80]  loss: 8.100855e-02  D: 6.939796e-01  D2: -5.094260e-03  D3: 1.285890e-02  D4: 1.485227e-02\n",
      "test loss: 7.412817e-02  D: 6.691601e-01  D2: -5.339975e-03  D3: 1.251536e-02  D4: 1.439926e-02\n"
     ]
    },
    {
     "name": "stdout",
     "output_type": "stream",
     "text": [
      "[091/100]  test loss: 0.0771  D: 0.6938  D2: -0.0048  D3: 0.0132  D4: 0.0151\r"
     ]
    },
    {
     "name": "stderr",
     "output_type": "stream",
     "text": [
      "[default |INFO|model.py:2182] [58/80]  loss: 7.996481e-02  D: 6.965544e-01  D2: -4.890102e-03  D3: 1.316764e-02  D4: 1.527469e-02\n",
      "test loss: 7.684804e-02  D: 6.937408e-01  D2: -4.968262e-03  D3: 1.323116e-02  D4: 1.509968e-02\n"
     ]
    },
    {
     "name": "stdout",
     "output_type": "stream",
     "text": [
      "[091/100]  test loss: 0.0737  D: 0.6839  D2: -0.0046  D3: 0.0131  D4: 0.0152\r"
     ]
    },
    {
     "name": "stderr",
     "output_type": "stream",
     "text": [
      "[default |INFO|model.py:2182] [59/80]  loss: 7.679201e-02  D: 6.972433e-01  D2: -4.846975e-03  D3: 1.290067e-02  D4: 1.501931e-02\n",
      "test loss: 7.410084e-02  D: 6.839284e-01  D2: -4.746752e-03  D3: 1.315470e-02  D4: 1.520042e-02\n"
     ]
    },
    {
     "name": "stdout",
     "output_type": "stream",
     "text": [
      "[100/100]  test loss: 0.1202  D: 0.7560  D2: -0.0045  D3: 0.0141  D4: 0.0161\r"
     ]
    },
    {
     "name": "stderr",
     "output_type": "stream",
     "text": [
      "[default |INFO|model.py:2182] [60/80]  loss: 7.688322e-02  D: 6.960920e-01  D2: -5.107361e-03  D3: 1.323206e-02  D4: 1.518300e-02\n",
      "test loss: 1.202479e-01  D: 7.559822e-01  D2: -4.476728e-03  D3: 1.411470e-02  D4: 1.607245e-02\n"
     ]
    },
    {
     "name": "stdout",
     "output_type": "stream",
     "text": [
      "[091/100]  test loss: 0.0777  D: 0.6857  D2: -0.0051  D3: 0.0123  D4: 0.0147\r"
     ]
    },
    {
     "name": "stderr",
     "output_type": "stream",
     "text": [
      "[default |INFO|model.py:2182] [61/80]  loss: 8.052062e-02  D: 6.955013e-01  D2: -5.005379e-03  D3: 1.280088e-02  D4: 1.494412e-02\n",
      "test loss: 7.801459e-02  D: 6.857014e-01  D2: -4.980888e-03  D3: 1.228615e-02  D4: 1.466871e-02\n"
     ]
    },
    {
     "name": "stdout",
     "output_type": "stream",
     "text": [
      "[091/100]  test loss: 0.0806  D: 0.7228  D2: -0.0052  D3: 0.0145  D4: 0.0164\r"
     ]
    },
    {
     "name": "stderr",
     "output_type": "stream",
     "text": [
      "[default |INFO|model.py:2182] [62/80]  loss: 7.748830e-02  D: 6.965023e-01  D2: -5.069002e-03  D3: 1.284443e-02  D4: 1.496033e-02\n",
      "test loss: 8.047581e-02  D: 7.227691e-01  D2: -5.104446e-03  D3: 1.445078e-02  D4: 1.636539e-02\n"
     ]
    },
    {
     "name": "stdout",
     "output_type": "stream",
     "text": [
      "[091/100]  test loss: 0.0706  D: 0.7181  D2: -0.0052  D3: 0.0135  D4: 0.0155\r"
     ]
    },
    {
     "name": "stderr",
     "output_type": "stream",
     "text": [
      "[default |INFO|model.py:2182] [63/80]  loss: 7.524426e-02  D: 6.939061e-01  D2: -5.067105e-03  D3: 1.349869e-02  D4: 1.529476e-02\n",
      "test loss: 7.100071e-02  D: 7.181025e-01  D2: -5.022202e-03  D3: 1.344831e-02  D4: 1.551162e-02\n"
     ]
    },
    {
     "name": "stdout",
     "output_type": "stream",
     "text": [
      "[090/100]  test loss: 0.0757  D: 0.7241  D2: -0.0054  D3: 0.0141  D4: 0.0159\r"
     ]
    },
    {
     "name": "stderr",
     "output_type": "stream",
     "text": [
      "[default |INFO|model.py:2182] [64/80]  loss: 7.608872e-02  D: 6.975536e-01  D2: -5.203678e-03  D3: 1.307221e-02  D4: 1.492200e-02\n",
      "test loss: 7.569223e-02  D: 7.241441e-01  D2: -5.411253e-03  D3: 1.407971e-02  D4: 1.597745e-02\n"
     ]
    },
    {
     "name": "stdout",
     "output_type": "stream",
     "text": [
      "[099/100]  test loss: 0.0779  D: 0.6883  D2: -0.0053  D3: 0.0125  D4: 0.0149\r"
     ]
    },
    {
     "name": "stderr",
     "output_type": "stream",
     "text": [
      "[default |INFO|model.py:2182] [65/80]  loss: 7.671474e-02  D: 6.947307e-01  D2: -5.020930e-03  D3: 1.310348e-02  D4: 1.516183e-02\n",
      "test loss: 7.787926e-02  D: 6.883197e-01  D2: -5.377254e-03  D3: 1.253701e-02  D4: 1.494138e-02\n"
     ]
    },
    {
     "name": "stdout",
     "output_type": "stream",
     "text": [
      "[091/100]  test loss: 0.0812  D: 0.6941  D2: -0.0050  D3: 0.0135  D4: 0.0156\r"
     ]
    },
    {
     "name": "stderr",
     "output_type": "stream",
     "text": [
      "[default |INFO|model.py:2182] [66/80]  loss: 7.672210e-02  D: 6.957855e-01  D2: -5.227974e-03  D3: 1.291425e-02  D4: 1.487683e-02\n",
      "test loss: 8.121109e-02  D: 6.940287e-01  D2: -4.957228e-03  D3: 1.340607e-02  D4: 1.561469e-02\n"
     ]
    },
    {
     "name": "stdout",
     "output_type": "stream",
     "text": [
      "[091/100]  test loss: 0.0766  D: 0.7253  D2: -0.0054  D3: 0.0137  D4: 0.0159\r"
     ]
    },
    {
     "name": "stderr",
     "output_type": "stream",
     "text": [
      "[default |INFO|model.py:2182] [67/80]  loss: 7.490537e-02  D: 6.957658e-01  D2: -4.925577e-03  D3: 1.333830e-02  D4: 1.537670e-02\n",
      "test loss: 7.662309e-02  D: 7.253140e-01  D2: -5.199223e-03  D3: 1.367979e-02  D4: 1.596353e-02\n"
     ]
    },
    {
     "name": "stdout",
     "output_type": "stream",
     "text": [
      "[090/100]  test loss: 0.0718  D: 0.6958  D2: -0.0054  D3: 0.0128  D4: 0.0152\r"
     ]
    },
    {
     "name": "stderr",
     "output_type": "stream",
     "text": [
      "[default |INFO|model.py:2182] [68/80]  loss: 7.625122e-02  D: 6.938975e-01  D2: -5.226590e-03  D3: 1.326351e-02  D4: 1.523968e-02\n",
      "test loss: 7.195197e-02  D: 6.958290e-01  D2: -5.521479e-03  D3: 1.271188e-02  D4: 1.515815e-02\n"
     ]
    },
    {
     "name": "stdout",
     "output_type": "stream",
     "text": [
      "[100/100]  test loss: 0.0747  D: 0.7092  D2: -0.0050  D3: 0.0135  D4: 0.0157\r"
     ]
    },
    {
     "name": "stderr",
     "output_type": "stream",
     "text": [
      "[default |INFO|model.py:2182] [69/80]  loss: 7.704253e-02  D: 6.955746e-01  D2: -5.270151e-03  D3: 1.321412e-02  D4: 1.519713e-02\n",
      "test loss: 7.465820e-02  D: 7.091721e-01  D2: -4.981165e-03  D3: 1.352029e-02  D4: 1.567310e-02\n"
     ]
    },
    {
     "name": "stdout",
     "output_type": "stream",
     "text": [
      "[091/100]  test loss: 0.0741  D: 0.6942  D2: -0.0045  D3: 0.0141  D4: 0.0156\r"
     ]
    },
    {
     "name": "stderr",
     "output_type": "stream",
     "text": [
      "[default |INFO|model.py:2182] [70/80]  loss: 7.788675e-02  D: 6.949576e-01  D2: -5.303294e-03  D3: 1.287894e-02  D4: 1.485118e-02\n",
      "test loss: 7.443766e-02  D: 6.942313e-01  D2: -4.576778e-03  D3: 1.408529e-02  D4: 1.561238e-02\n"
     ]
    },
    {
     "name": "stdout",
     "output_type": "stream",
     "text": [
      "[100/100]  test loss: 0.0718  D: 0.6904  D2: -0.0056  D3: 0.0131  D4: 0.0152\r"
     ]
    },
    {
     "name": "stderr",
     "output_type": "stream",
     "text": [
      "[default |INFO|model.py:2182] [71/80]  loss: 7.588610e-02  D: 6.960918e-01  D2: -5.454254e-03  D3: 1.315743e-02  D4: 1.520351e-02\n",
      "test loss: 7.178495e-02  D: 6.904406e-01  D2: -5.636091e-03  D3: 1.310610e-02  D4: 1.520151e-02\n"
     ]
    },
    {
     "name": "stdout",
     "output_type": "stream",
     "text": [
      "[091/100]  test loss: 0.0768  D: 0.7218  D2: -0.0052  D3: 0.0143  D4: 0.0157\r"
     ]
    },
    {
     "name": "stderr",
     "output_type": "stream",
     "text": [
      "[default |INFO|model.py:2182] [72/80]  loss: 7.493775e-02  D: 6.946810e-01  D2: -5.184925e-03  D3: 1.331892e-02  D4: 1.519710e-02\n",
      "test loss: 7.666425e-02  D: 7.217795e-01  D2: -5.269747e-03  D3: 1.420568e-02  D4: 1.565926e-02\n"
     ]
    },
    {
     "name": "stdout",
     "output_type": "stream",
     "text": [
      "[091/100]  test loss: 0.0717  D: 0.6629  D2: -0.0050  D3: 0.0125  D4: 0.0147\r"
     ]
    },
    {
     "name": "stderr",
     "output_type": "stream",
     "text": [
      "[default |INFO|model.py:2182] [73/80]  loss: 7.510661e-02  D: 6.958779e-01  D2: -5.243111e-03  D3: 1.303202e-02  D4: 1.493849e-02\n",
      "test loss: 7.168829e-02  D: 6.628567e-01  D2: -5.091057e-03  D3: 1.247641e-02  D4: 1.475296e-02\n"
     ]
    },
    {
     "name": "stdout",
     "output_type": "stream",
     "text": [
      "[100/100]  test loss: 0.0699  D: 0.6858  D2: -0.0058  D3: 0.0131  D4: 0.0153\r"
     ]
    },
    {
     "name": "stderr",
     "output_type": "stream",
     "text": [
      "[default |INFO|model.py:2182] [74/80]  loss: 7.435886e-02  D: 6.961214e-01  D2: -5.429829e-03  D3: 1.304098e-02  D4: 1.492766e-02\n",
      "test loss: 6.986145e-02  D: 6.858117e-01  D2: -5.813599e-03  D3: 1.308480e-02  D4: 1.529728e-02\n"
     ]
    },
    {
     "name": "stdout",
     "output_type": "stream",
     "text": [
      "[091/100]  test loss: 0.0775  D: 0.7085  D2: -0.0052  D3: 0.0131  D4: 0.0156\r"
     ]
    },
    {
     "name": "stderr",
     "output_type": "stream",
     "text": [
      "[default |INFO|model.py:2182] [75/80]  loss: 7.586802e-02  D: 6.983510e-01  D2: -5.543825e-03  D3: 1.310154e-02  D4: 1.504179e-02\n",
      "test loss: 7.762757e-02  D: 7.084329e-01  D2: -5.037031e-03  D3: 1.311941e-02  D4: 1.556965e-02\n"
     ]
    },
    {
     "name": "stdout",
     "output_type": "stream",
     "text": [
      "[091/100]  test loss: 0.0770  D: 0.6880  D2: -0.0058  D3: 0.0127  D4: 0.0143\r"
     ]
    },
    {
     "name": "stderr",
     "output_type": "stream",
     "text": [
      "[default |INFO|model.py:2182] [76/80]  loss: 7.747253e-02  D: 6.948595e-01  D2: -5.415541e-03  D3: 1.298171e-02  D4: 1.518076e-02\n",
      "test loss: 7.689090e-02  D: 6.879186e-01  D2: -5.825300e-03  D3: 1.260660e-02  D4: 1.432626e-02\n"
     ]
    },
    {
     "name": "stdout",
     "output_type": "stream",
     "text": [
      "[091/100]  test loss: 0.0761  D: 0.6909  D2: -0.0058  D3: 0.0123  D4: 0.0145\r"
     ]
    },
    {
     "name": "stderr",
     "output_type": "stream",
     "text": [
      "[default |INFO|model.py:2182] [77/80]  loss: 7.688593e-02  D: 6.954829e-01  D2: -5.602172e-03  D3: 1.313554e-02  D4: 1.504641e-02\n",
      "test loss: 7.588560e-02  D: 6.908734e-01  D2: -5.860147e-03  D3: 1.235376e-02  D4: 1.451364e-02\n"
     ]
    },
    {
     "name": "stdout",
     "output_type": "stream",
     "text": [
      "[091/100]  test loss: 0.0780  D: 0.6895  D2: -0.0055  D3: 0.0142  D4: 0.0156\r"
     ]
    },
    {
     "name": "stderr",
     "output_type": "stream",
     "text": [
      "[default |INFO|model.py:2182] [78/80]  loss: 7.611465e-02  D: 6.949606e-01  D2: -5.601457e-03  D3: 1.294582e-02  D4: 1.491697e-02\n",
      "test loss: 7.808455e-02  D: 6.895262e-01  D2: -5.380611e-03  D3: 1.414271e-02  D4: 1.563985e-02\n"
     ]
    },
    {
     "name": "stdout",
     "output_type": "stream",
     "text": [
      "[098/100]  test loss: 0.0702  D: 0.7064  D2: -0.0049  D3: 0.0138  D4: 0.0156\r"
     ]
    },
    {
     "name": "stderr",
     "output_type": "stream",
     "text": [
      "[default |INFO|model.py:2182] [79/80]  loss: 7.224725e-02  D: 6.959496e-01  D2: -5.688731e-03  D3: 1.284324e-02  D4: 1.494413e-02\n",
      "test loss: 7.022468e-02  D: 7.063679e-01  D2: -4.901505e-03  D3: 1.377075e-02  D4: 1.560277e-02\n"
     ]
    },
    {
     "name": "stdout",
     "output_type": "stream",
     "text": [
      "[096/100]  test loss: 0.0781  D: 0.6956  D2: -0.0054  D3: 0.0146  D4: 0.0170\r"
     ]
    },
    {
     "name": "stderr",
     "output_type": "stream",
     "text": [
      "[default |INFO|model.py:2182] [80/80]  loss: 7.176030e-02  D: 6.951475e-01  D2: -5.584898e-03  D3: 1.286256e-02  D4: 1.507915e-02\n",
      "test loss: 7.817962e-02  D: 6.955825e-01  D2: -5.385504e-03  D3: 1.467905e-02  D4: 1.696694e-02\n"
     ]
    },
    {
     "name": "stdout",
     "output_type": "stream",
     "text": [
      "[097/100]  test loss: 0.0781  D: 0.6956  D2: -0.0054  D3: 0.0146  D4: 0.0170\r",
      "[098/100]  test loss: 0.0781  D: 0.6956  D2: -0.0054  D3: 0.0147  D4: 0.0170\r",
      "[099/100]  test loss: 0.0781  D: 0.6956  D2: -0.0054  D3: 0.0147  D4: 0.0170\r",
      "[100/100]  test loss: 0.0782  D: 0.6956  D2: -0.0054  D3: 0.0147  D4: 0.0170\r"
     ]
    },
    {
     "name": "stderr",
     "output_type": "stream",
     "text": [
      "[default |INFO|model.py:2297] Training Finished!\n",
      "[default |INFO|model.py:2298] Elapsed time: 3044.477s\n"
     ]
    }
   ],
   "source": [
    "cfg = configparser.ConfigParser()\n",
    "cfg.read('./config/sswae_dev2_hsic_13.cfg')\n",
    "\n",
    "mm = cur_model(cfg, log, device = device)\n",
    "\n",
    "mm.gm.mu.load_state_dict(torch.load(f'./result/mu_{cfg[\"train_info\"][\"y_dim\"]}.pt'))\n",
    "mm.gm.cov.load_state_dict(torch.load(f'./result/cov_{cfg[\"train_info\"][\"y_dim\"]}.pt'))\n",
    "\n",
    "mm.train()\n",
    "# mm.load('./%s' % (cfg['path_info']['save_path']))"
   ]
  },
  {
   "cell_type": "code",
   "execution_count": null,
   "metadata": {},
   "outputs": [],
   "source": []
  }
 ],
 "metadata": {
  "kernelspec": {
   "display_name": "Python 3",
   "language": "python",
   "name": "python3"
  },
  "language_info": {
   "codemirror_mode": {
    "name": "ipython",
    "version": 3
   },
   "file_extension": ".py",
   "mimetype": "text/x-python",
   "name": "python",
   "nbconvert_exporter": "python",
   "pygments_lexer": "ipython3",
   "version": "3.8.5"
  }
 },
 "nbformat": 4,
 "nbformat_minor": 4
}
